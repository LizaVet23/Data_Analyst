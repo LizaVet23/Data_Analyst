{
  "cells": [
    {
      "cell_type": "markdown",
      "metadata": {
        "id": "E0vqbgi9ay0H"
      },
      "source": [
        "# Исследование данных сервиса \"Яндекс.Музыка\""
      ]
    },
    {
      "cell_type": "markdown",
      "metadata": {
        "id": "VUC88oWjTJw2"
      },
      "source": [
        "**Цель исследования** — Нам необходимо проверить следующие гипотезы:\n",
        "1. Зависит ли активность пользователей от дня недели. И есть ли различия в автивности по дням недели между Москрой и Санк-Петербургом.\n",
        "2. В понедельник утром в Москве преобладают одни жанры, а в Петербурге — другие. Так же и вечером пятницы преобладают разные жанры — в зависимости от города. \n",
        "3. Москва и Петербург предпочитают разные жанры музыки. В Москве чаще слушают поп-музыку, в Петербурге — русский рэп.\n",
        "\n",
        "**Данные**\n",
        "\n",
        "В нашем распоряжении данные о поведении пользователей Москвы и Санкт-Петербурга.\n",
        "\n",
        "\n"
      ]
    },
    {
      "cell_type": "markdown",
      "metadata": {
        "id": "Ml1hmfXC_Zcs"
      },
      "source": [
        "## Обзор данных\n",
        "\n",
        "\n"
      ]
    },
    {
      "cell_type": "markdown",
      "metadata": {
        "id": "57eAOGIz_Zcs"
      },
      "source": [
        "Импортируем необходимые библиотеки"
      ]
    },
    {
      "cell_type": "code",
      "execution_count": null,
      "metadata": {
        "id": "AXN7PHPN_Zcs"
      },
      "outputs": [],
      "source": [
        "import pandas as pd# импорт библиотеки pandas"
      ]
    },
    {
      "cell_type": "markdown",
      "metadata": {
        "id": "SG23P8tt_Zcs"
      },
      "source": [
        "Прочитаем предоставленный файл `yandex_music_project.csv` из папки `/datasets` и сохраните его в переменной `df`:"
      ]
    },
    {
      "cell_type": "code",
      "execution_count": null,
      "metadata": {
        "id": "fFVu7vqh_Zct"
      },
      "outputs": [],
      "source": [
        "df = pd.read_csv('/datasets/yandex_music_project.csv')# чтение файла с данными и сохранение в df"
      ]
    },
    {
      "cell_type": "markdown",
      "metadata": {
        "id": "rDoOMd3uTqnZ"
      },
      "source": [
        "Выведем первые десять строк таблицы для ознакомления со структурой таблицы:"
      ]
    },
    {
      "cell_type": "code",
      "execution_count": null,
      "metadata": {
        "id": "oWTVX3gW_Zct",
        "outputId": "71fe3b4f-19cf-45e2-8c38-cfb8ec2caaa3"
      },
      "outputs": [
        {
          "data": {
            "text/html": [
              "<div>\n",
              "<style scoped>\n",
              "    .dataframe tbody tr th:only-of-type {\n",
              "        vertical-align: middle;\n",
              "    }\n",
              "\n",
              "    .dataframe tbody tr th {\n",
              "        vertical-align: top;\n",
              "    }\n",
              "\n",
              "    .dataframe thead th {\n",
              "        text-align: right;\n",
              "    }\n",
              "</style>\n",
              "<table border=\"1\" class=\"dataframe\">\n",
              "  <thead>\n",
              "    <tr style=\"text-align: right;\">\n",
              "      <th></th>\n",
              "      <th>userID</th>\n",
              "      <th>Track</th>\n",
              "      <th>artist</th>\n",
              "      <th>genre</th>\n",
              "      <th>City</th>\n",
              "      <th>time</th>\n",
              "      <th>Day</th>\n",
              "    </tr>\n",
              "  </thead>\n",
              "  <tbody>\n",
              "    <tr>\n",
              "      <th>0</th>\n",
              "      <td>FFB692EC</td>\n",
              "      <td>Kamigata To Boots</td>\n",
              "      <td>The Mass Missile</td>\n",
              "      <td>rock</td>\n",
              "      <td>Saint-Petersburg</td>\n",
              "      <td>20:28:33</td>\n",
              "      <td>Wednesday</td>\n",
              "    </tr>\n",
              "    <tr>\n",
              "      <th>1</th>\n",
              "      <td>55204538</td>\n",
              "      <td>Delayed Because of Accident</td>\n",
              "      <td>Andreas Rönnberg</td>\n",
              "      <td>rock</td>\n",
              "      <td>Moscow</td>\n",
              "      <td>14:07:09</td>\n",
              "      <td>Friday</td>\n",
              "    </tr>\n",
              "    <tr>\n",
              "      <th>2</th>\n",
              "      <td>20EC38</td>\n",
              "      <td>Funiculì funiculà</td>\n",
              "      <td>Mario Lanza</td>\n",
              "      <td>pop</td>\n",
              "      <td>Saint-Petersburg</td>\n",
              "      <td>20:58:07</td>\n",
              "      <td>Wednesday</td>\n",
              "    </tr>\n",
              "    <tr>\n",
              "      <th>3</th>\n",
              "      <td>A3DD03C9</td>\n",
              "      <td>Dragons in the Sunset</td>\n",
              "      <td>Fire + Ice</td>\n",
              "      <td>folk</td>\n",
              "      <td>Saint-Petersburg</td>\n",
              "      <td>08:37:09</td>\n",
              "      <td>Monday</td>\n",
              "    </tr>\n",
              "    <tr>\n",
              "      <th>4</th>\n",
              "      <td>E2DC1FAE</td>\n",
              "      <td>Soul People</td>\n",
              "      <td>Space Echo</td>\n",
              "      <td>dance</td>\n",
              "      <td>Moscow</td>\n",
              "      <td>08:34:34</td>\n",
              "      <td>Monday</td>\n",
              "    </tr>\n",
              "    <tr>\n",
              "      <th>5</th>\n",
              "      <td>842029A1</td>\n",
              "      <td>Преданная</td>\n",
              "      <td>IMPERVTOR</td>\n",
              "      <td>rusrap</td>\n",
              "      <td>Saint-Petersburg</td>\n",
              "      <td>13:09:41</td>\n",
              "      <td>Friday</td>\n",
              "    </tr>\n",
              "    <tr>\n",
              "      <th>6</th>\n",
              "      <td>4CB90AA5</td>\n",
              "      <td>True</td>\n",
              "      <td>Roman Messer</td>\n",
              "      <td>dance</td>\n",
              "      <td>Moscow</td>\n",
              "      <td>13:00:07</td>\n",
              "      <td>Wednesday</td>\n",
              "    </tr>\n",
              "    <tr>\n",
              "      <th>7</th>\n",
              "      <td>F03E1C1F</td>\n",
              "      <td>Feeling This Way</td>\n",
              "      <td>Polina Griffith</td>\n",
              "      <td>dance</td>\n",
              "      <td>Moscow</td>\n",
              "      <td>20:47:49</td>\n",
              "      <td>Wednesday</td>\n",
              "    </tr>\n",
              "    <tr>\n",
              "      <th>8</th>\n",
              "      <td>8FA1D3BE</td>\n",
              "      <td>И вновь продолжается бой</td>\n",
              "      <td>NaN</td>\n",
              "      <td>ruspop</td>\n",
              "      <td>Moscow</td>\n",
              "      <td>09:17:40</td>\n",
              "      <td>Friday</td>\n",
              "    </tr>\n",
              "    <tr>\n",
              "      <th>9</th>\n",
              "      <td>E772D5C0</td>\n",
              "      <td>Pessimist</td>\n",
              "      <td>NaN</td>\n",
              "      <td>dance</td>\n",
              "      <td>Saint-Petersburg</td>\n",
              "      <td>21:20:49</td>\n",
              "      <td>Wednesday</td>\n",
              "    </tr>\n",
              "  </tbody>\n",
              "</table>\n",
              "</div>"
            ],
            "text/plain": [
              "     userID                        Track            artist   genre  \\\n",
              "0  FFB692EC            Kamigata To Boots  The Mass Missile    rock   \n",
              "1  55204538  Delayed Because of Accident  Andreas Rönnberg    rock   \n",
              "2    20EC38            Funiculì funiculà       Mario Lanza     pop   \n",
              "3  A3DD03C9        Dragons in the Sunset        Fire + Ice    folk   \n",
              "4  E2DC1FAE                  Soul People        Space Echo   dance   \n",
              "5  842029A1                    Преданная         IMPERVTOR  rusrap   \n",
              "6  4CB90AA5                         True      Roman Messer   dance   \n",
              "7  F03E1C1F             Feeling This Way   Polina Griffith   dance   \n",
              "8  8FA1D3BE     И вновь продолжается бой               NaN  ruspop   \n",
              "9  E772D5C0                    Pessimist               NaN   dance   \n",
              "\n",
              "             City        time        Day  \n",
              "0  Saint-Petersburg  20:28:33  Wednesday  \n",
              "1            Moscow  14:07:09     Friday  \n",
              "2  Saint-Petersburg  20:58:07  Wednesday  \n",
              "3  Saint-Petersburg  08:37:09     Monday  \n",
              "4            Moscow  08:34:34     Monday  \n",
              "5  Saint-Petersburg  13:09:41     Friday  \n",
              "6            Moscow  13:00:07  Wednesday  \n",
              "7            Moscow  20:47:49  Wednesday  \n",
              "8            Moscow  09:17:40     Friday  \n",
              "9  Saint-Petersburg  21:20:49  Wednesday  "
            ]
          },
          "execution_count": 3,
          "metadata": {},
          "output_type": "execute_result"
        }
      ],
      "source": [
        "df.head(10)# получение первых 10 строк таблицы df"
      ]
    },
    {
      "cell_type": "markdown",
      "metadata": {
        "id": "EO73Kwic_Zct"
      },
      "source": [
        "Изучим общую информацию о датасете, для этого воспользуемся `.info()`"
      ]
    },
    {
      "cell_type": "code",
      "execution_count": null,
      "metadata": {
        "id": "DSf2kIb-_Zct",
        "outputId": "571fd4a9-9416-4431-8386-a8df4fbb623f"
      },
      "outputs": [
        {
          "name": "stdout",
          "output_type": "stream",
          "text": [
            "<class 'pandas.core.frame.DataFrame'>\n",
            "RangeIndex: 65079 entries, 0 to 65078\n",
            "Data columns (total 7 columns):\n",
            " #   Column    Non-Null Count  Dtype \n",
            "---  ------    --------------  ----- \n",
            " 0     userID  65079 non-null  object\n",
            " 1   Track     63848 non-null  object\n",
            " 2   artist    57876 non-null  object\n",
            " 3   genre     63881 non-null  object\n",
            " 4     City    65079 non-null  object\n",
            " 5   time      65079 non-null  object\n",
            " 6   Day       65079 non-null  object\n",
            "dtypes: object(7)\n",
            "memory usage: 3.5+ MB\n"
          ]
        },
        {
          "data": {
            "text/plain": [
              "None"
            ]
          },
          "metadata": {},
          "output_type": "display_data"
        }
      ],
      "source": [
        "display(df.info())# получение общей информации о данных в таблице df"
      ]
    },
    {
      "cell_type": "markdown",
      "metadata": {
        "id": "TaQ2Iwbr_Zct"
      },
      "source": [
        "Итак, в таблице семь столбцов. Тип данных во всех столбцах — `object`.\n",
        "\n",
        "Согласно документации к данным:\n",
        "* `userID` — идентификатор пользователя;\n",
        "* `Track` — название трека;  \n",
        "* `artist` — имя исполнителя;\n",
        "* `genre` — название жанра;\n",
        "* `City` — город пользователя;\n",
        "* `time` — время начала прослушивания;\n",
        "* `Day` — день недели.\n",
        "\n",
        "В названиях колонок видны три нарушения стиля:\n",
        "1. Строчные буквы сочетаются с прописными.\n",
        "2. Встречаются пробелы.\n",
        "3. В наименовании столбца `userID` используется \"верблюжийРегистр\"\n",
        "\n",
        "\n",
        "\n",
        "Количество значений в столбцах различается. Значит, в данных есть пропущенные значения.\n"
      ]
    },
    {
      "cell_type": "markdown",
      "metadata": {
        "id": "MCB6-dXG_Zct"
      },
      "source": [
        "**Выводы**\n",
        "\n",
        "В каждой строке таблицы — данные о прослушанном треке. Часть колонок описывает саму композицию: название, исполнителя и жанр. Остальные данные рассказывают о пользователе: из какого он города, когда он слушал музыку. \n",
        "\n",
        "Предварительно можно утверждать, что, данных достаточно для проверки гипотез. Но встречаются пропуски в данных, а в названиях колонок — расхождения с хорошим стилем.\n",
        "\n",
        "Чтобы двигаться дальше, нужно устранить проблемы в данных."
      ]
    },
    {
      "cell_type": "markdown",
      "metadata": {
        "id": "SjYF6Ub9_Zct"
      },
      "source": [
        "## Предобработка данных\n"
      ]
    },
    {
      "cell_type": "markdown",
      "metadata": {
        "id": "dIaKXr29_Zct"
      },
      "source": [
        "### Стиль заголовков\n",
        "Выведем на экран названия столбцов:"
      ]
    },
    {
      "cell_type": "code",
      "execution_count": null,
      "metadata": {
        "id": "oKOTdF_Q_Zct",
        "outputId": "aaf01e38-a53a-413b-d06a-356b00a41334"
      },
      "outputs": [
        {
          "data": {
            "text/plain": [
              "Index(['  userID', 'Track', 'artist', 'genre', '  City  ', 'time', 'Day'], dtype='object')"
            ]
          },
          "execution_count": 5,
          "metadata": {},
          "output_type": "execute_result"
        }
      ],
      "source": [
        "df.columns # перечень названий столбцов таблицы df"
      ]
    },
    {
      "cell_type": "markdown",
      "metadata": {
        "id": "zj5534cv_Zct"
      },
      "source": [
        "Приведем названия столбцов в удобный формат:\n"
      ]
    },
    {
      "cell_type": "code",
      "execution_count": null,
      "metadata": {
        "id": "ISlFqs5y_Zct"
      },
      "outputs": [],
      "source": [
        "df = df.rename(columns={'  userID': 'user_id', 'Track': 'track', '  City  ': 'city', 'Day': 'day' })# переименование столбцов"
      ]
    },
    {
      "cell_type": "markdown",
      "metadata": {
        "id": "1dqbh00J_Zct"
      },
      "source": [
        "Проверим результат. Выведем на экран названия столбцов еще раз:"
      ]
    },
    {
      "cell_type": "code",
      "execution_count": null,
      "metadata": {
        "id": "d4NOAmTW_Zct",
        "outputId": "76adf6a3-ef07-488a-be2e-f3eaeb5ecfa3"
      },
      "outputs": [
        {
          "data": {
            "text/plain": [
              "Index(['user_id', 'track', 'artist', 'genre', 'city', 'time', 'day'], dtype='object')"
            ]
          },
          "metadata": {},
          "output_type": "display_data"
        }
      ],
      "source": [
        "display(df.columns)# проверка результатов - перечень названий столбцов"
      ]
    },
    {
      "cell_type": "markdown",
      "metadata": {
        "id": "5ISfbcfY_Zct"
      },
      "source": [
        "### Пропуски значений\n"
      ]
    },
    {
      "cell_type": "code",
      "execution_count": null,
      "metadata": {
        "id": "RskX29qr_Zct",
        "outputId": "42701b99-d806-42ea-f36b-a56512bbf586"
      },
      "outputs": [
        {
          "data": {
            "text/plain": [
              "user_id       0\n",
              "track      1231\n",
              "artist     7203\n",
              "genre      1198\n",
              "city          0\n",
              "time          0\n",
              "day           0\n",
              "dtype: int64"
            ]
          },
          "metadata": {},
          "output_type": "display_data"
        }
      ],
      "source": [
        "display(df.isna().sum()) # подсчёт пропусков"
      ]
    },
    {
      "cell_type": "markdown",
      "metadata": {
        "id": "qubhgnlO_Zct"
      },
      "source": [
        "Не все пропущенные значения влияют на исследование. Так в `track` и `artist` пропуски не важны для данной работы. Достаточно заменить их явными обозначениями.\n",
        "\n",
        "А вот пропуски в `genre` могут помешать сравнению музыкальных вкусов в Москве и Санкт-Петербурге. Поэтому заполним и эти пропуски явными обозначениями,\n",
        "и оценим, насколько они повредят расчётам. "
      ]
    },
    {
      "cell_type": "markdown",
      "metadata": {
        "id": "fSv2laPA_Zct"
      },
      "source": [
        "Заменим пропущенные значения в столбцах `track`, `artist` и `genre` на строку `'unknown'`. Для этого создим список `columns_to_replace`, переберем его элементы циклом `for` и для каждого столбца выполним замену пропущенных значений:"
      ]
    },
    {
      "cell_type": "code",
      "execution_count": null,
      "metadata": {
        "id": "KplB5qWs_Zct"
      },
      "outputs": [],
      "source": [
        "columns_to_replace = ['track', 'artist', 'genre']\n",
        "for i in columns_to_replace:\n",
        "    df[i] = df[i].fillna('unknown')# перебор названий столбцов в цикле и замена пропущенных значений на 'unknown'"
      ]
    },
    {
      "cell_type": "markdown",
      "metadata": {
        "id": "Ilsm-MZo_Zct"
      },
      "source": [
        "Проверим на пропуски еще раз, что бы убедиться, что нам удалось от них избавиться."
      ]
    },
    {
      "cell_type": "code",
      "execution_count": null,
      "metadata": {
        "id": "Tq4nYRX4_Zct",
        "outputId": "dc951294-c1ea-4d33-d268-8cfd58ebfa82"
      },
      "outputs": [
        {
          "data": {
            "text/plain": [
              "user_id    0\n",
              "track      0\n",
              "artist     0\n",
              "genre      0\n",
              "city       0\n",
              "time       0\n",
              "day        0\n",
              "dtype: int64"
            ]
          },
          "metadata": {},
          "output_type": "display_data"
        }
      ],
      "source": [
        "display(df.isna().sum())# подсчёт пропусков"
      ]
    },
    {
      "cell_type": "markdown",
      "metadata": {
        "id": "BWKRtBJ3_Zct"
      },
      "source": [
        "### Дубликаты\n",
        "Посчитаем явные дубликаты:"
      ]
    },
    {
      "cell_type": "code",
      "execution_count": null,
      "metadata": {
        "id": "36eES_S0_Zct",
        "outputId": "2e537e37-c56a-4094-df4d-1a7a57de64c3"
      },
      "outputs": [
        {
          "data": {
            "text/plain": [
              "3826"
            ]
          },
          "metadata": {},
          "output_type": "display_data"
        }
      ],
      "source": [
        "display(df.duplicated().sum())# подсчёт явных дубликатов"
      ]
    },
    {
      "cell_type": "markdown",
      "metadata": {
        "id": "Ot25h6XR_Zct"
      },
      "source": [
        "Вызовем специальный метод `pandas`, чтобы удалить явные дубликаты:"
      ]
    },
    {
      "cell_type": "code",
      "execution_count": null,
      "metadata": {
        "id": "exFHq6tt_Zct"
      },
      "outputs": [],
      "source": [
        "df = df.drop_duplicates().reset_index(drop=True)# удаление явных дубликатов (с удалением старых индексов и формированием новых)"
      ]
    },
    {
      "cell_type": "markdown",
      "metadata": {
        "id": "Im2YwBEG_Zct"
      },
      "source": [
        "Ещё раз посчитаем явные дубликаты в таблице"
      ]
    },
    {
      "cell_type": "code",
      "execution_count": null,
      "metadata": {
        "id": "-8PuNWQ0_Zct",
        "outputId": "6994973f-9b60-4efa-a958-632e997d14d0"
      },
      "outputs": [
        {
          "data": {
            "text/plain": [
              "0"
            ]
          },
          "metadata": {},
          "output_type": "display_data"
        }
      ],
      "source": [
        "display(df.duplicated().sum())# проверка на отсутствие дубликатов"
      ]
    },
    {
      "cell_type": "markdown",
      "metadata": {
        "id": "QlFBsxAr_Zct"
      },
      "source": [
        "Явных дубликатов больше нет.\n",
        "<br>Теперь избавимся от неявных дубликатов в колонке `genre`. Например, название одного и того же жанра может быть записано немного по-разному. Такие ошибки тоже повлияют на результат исследования."
      ]
    },
    {
      "cell_type": "markdown",
      "metadata": {
        "id": "eSjWwsOh_Zct"
      },
      "source": [
        "Выведем на экран список уникальных названий жанров, отсортировав в алфавитном порядке."
      ]
    },
    {
      "cell_type": "code",
      "execution_count": null,
      "metadata": {
        "id": "eXgS_4KPpOtN",
        "outputId": "4074ef7e-4aa7-4129-ed75-5b1ad6f87498"
      },
      "outputs": [
        {
          "data": {
            "text/plain": [
              "array(['acid', 'acoustic', 'action', 'adult', 'africa', 'afrikaans',\n",
              "       'alternative', 'alternativepunk', 'ambient', 'americana',\n",
              "       'animated', 'anime', 'arabesk', 'arabic', 'arena',\n",
              "       'argentinetango', 'art', 'audiobook', 'author', 'avantgarde',\n",
              "       'axé', 'baile', 'balkan', 'beats', 'bigroom', 'black', 'bluegrass',\n",
              "       'blues', 'bollywood', 'bossa', 'brazilian', 'breakbeat', 'breaks',\n",
              "       'broadway', 'cantautori', 'cantopop', 'canzone', 'caribbean',\n",
              "       'caucasian', 'celtic', 'chamber', 'chanson', 'children', 'chill',\n",
              "       'chinese', 'choral', 'christian', 'christmas', 'classical',\n",
              "       'classicmetal', 'club', 'colombian', 'comedy', 'conjazz',\n",
              "       'contemporary', 'country', 'cuban', 'dance', 'dancehall',\n",
              "       'dancepop', 'dark', 'death', 'deep', 'deutschrock', 'deutschspr',\n",
              "       'dirty', 'disco', 'dnb', 'documentary', 'downbeat', 'downtempo',\n",
              "       'drum', 'dub', 'dubstep', 'eastern', 'easy', 'electronic',\n",
              "       'electropop', 'emo', 'entehno', 'epicmetal', 'estrada', 'ethnic',\n",
              "       'eurofolk', 'european', 'experimental', 'extrememetal', 'fado',\n",
              "       'fairytail', 'film', 'fitness', 'flamenco', 'folk', 'folklore',\n",
              "       'folkmetal', 'folkrock', 'folktronica', 'forró', 'frankreich',\n",
              "       'französisch', 'french', 'funk', 'future', 'gangsta', 'garage',\n",
              "       'german', 'ghazal', 'gitarre', 'glitch', 'gospel', 'gothic',\n",
              "       'grime', 'grunge', 'gypsy', 'handsup', \"hard'n'heavy\", 'hardcore',\n",
              "       'hardstyle', 'hardtechno', 'hip', 'hip-hop', 'hiphop',\n",
              "       'historisch', 'holiday', 'hop', 'horror', 'house', 'hymn', 'idm',\n",
              "       'independent', 'indian', 'indie', 'indipop', 'industrial',\n",
              "       'inspirational', 'instrumental', 'international', 'irish', 'jam',\n",
              "       'japanese', 'jazz', 'jewish', 'jpop', 'jungle', 'k-pop',\n",
              "       'karadeniz', 'karaoke', 'kayokyoku', 'korean', 'laiko', 'latin',\n",
              "       'latino', 'leftfield', 'local', 'lounge', 'loungeelectronic',\n",
              "       'lovers', 'malaysian', 'mandopop', 'marschmusik', 'meditative',\n",
              "       'mediterranean', 'melodic', 'metal', 'metalcore', 'mexican',\n",
              "       'middle', 'minimal', 'miscellaneous', 'modern', 'mood', 'mpb',\n",
              "       'muslim', 'native', 'neoklassik', 'neue', 'new', 'newage',\n",
              "       'newwave', 'nu', 'nujazz', 'numetal', 'oceania', 'old', 'opera',\n",
              "       'orchestral', 'other', 'piano', 'podcasts', 'pop', 'popdance',\n",
              "       'popelectronic', 'popeurodance', 'poprussian', 'post',\n",
              "       'posthardcore', 'postrock', 'power', 'progmetal', 'progressive',\n",
              "       'psychedelic', 'punjabi', 'punk', 'quebecois', 'ragga', 'ram',\n",
              "       'rancheras', 'rap', 'rave', 'reggae', 'reggaeton', 'regional',\n",
              "       'relax', 'religious', 'retro', 'rhythm', 'rnb', 'rnr', 'rock',\n",
              "       'rockabilly', 'rockalternative', 'rockindie', 'rockother',\n",
              "       'romance', 'roots', 'ruspop', 'rusrap', 'rusrock', 'russian',\n",
              "       'salsa', 'samba', 'scenic', 'schlager', 'self', 'sertanejo',\n",
              "       'shanson', 'shoegazing', 'showtunes', 'singer', 'ska', 'skarock',\n",
              "       'slow', 'smooth', 'soft', 'soul', 'soulful', 'sound', 'soundtrack',\n",
              "       'southern', 'specialty', 'speech', 'spiritual', 'sport',\n",
              "       'stonerrock', 'surf', 'swing', 'synthpop', 'synthrock',\n",
              "       'sängerportrait', 'tango', 'tanzorchester', 'taraftar', 'tatar',\n",
              "       'tech', 'techno', 'teen', 'thrash', 'top', 'traditional',\n",
              "       'tradjazz', 'trance', 'tribal', 'trip', 'triphop', 'tropical',\n",
              "       'türk', 'türkçe', 'ukrrock', 'unknown', 'urban', 'uzbek',\n",
              "       'variété', 'vi', 'videogame', 'vocal', 'western', 'world',\n",
              "       'worldbeat', 'ïîï', 'электроника'], dtype=object)"
            ]
          },
          "execution_count": 14,
          "metadata": {},
          "output_type": "execute_result"
        }
      ],
      "source": [
        "df['genre'].sort_values().unique()"
      ]
    },
    {
      "cell_type": "markdown",
      "metadata": {
        "id": "qej-Qmuo_Zct"
      },
      "source": [
        "Есть следующие неявные дубликаты:\n",
        "* *hip*,\n",
        "* *hop*,\n",
        "* *hip-hop*.\n",
        "\n",
        "Чтобы очистить от них таблицу, напишем функцию `replace_wrong_genres()` с двумя параметрами: \n",
        "* `wrong_genres` — список дубликатов,\n",
        "* `correct_genre` — строка с правильным значением.\n",
        "\n",
        "Функция должна исправить колонку `genre` в таблице `df`: заменить каждое значение из списка `wrong_genres` на значение из `correct_genre`."
      ]
    },
    {
      "cell_type": "code",
      "execution_count": null,
      "metadata": {
        "id": "ErNDkmns_Zct"
      },
      "outputs": [],
      "source": [
        "def replace_wrong_genre(wrong_genre, correct_genre):\n",
        "    for wrong_genre in wrong_genre: \n",
        "        df['genre'] =df['genre'].replace(wrong_genre, correct_genre)\n",
        "        # Функция для замены неявных дубликатов"
      ]
    },
    {
      "cell_type": "markdown",
      "metadata": {
        "id": "aDoBJxbA_Zct"
      },
      "source": [
        "Вызовем `replace_wrong_genres()` и передим ей такие аргументы, чтобы она устранила неявные дубликаты: вместо `hip`, `hop` и `hip-hop` в таблице должно быть значение `hiphop`:"
      ]
    },
    {
      "cell_type": "code",
      "execution_count": null,
      "metadata": {
        "id": "YN5i2hpmSo09"
      },
      "outputs": [],
      "source": [
        "replace_wrong_genre(['hip', 'hop', 'hip-hop'], 'hiphop')# Устранение неявных дубликатов"
      ]
    },
    {
      "cell_type": "markdown",
      "metadata": {
        "id": "zQKF16_RG15m"
      },
      "source": [
        "Проведем проверку и выведем список уникальных жанров еще раз."
      ]
    },
    {
      "cell_type": "code",
      "execution_count": null,
      "metadata": {
        "id": "wvixALnFG15m",
        "outputId": "203207cd-1fcb-4507-8f50-1f0c1f6c9dda"
      },
      "outputs": [
        {
          "data": {
            "text/plain": [
              "array(['acid', 'acoustic', 'action', 'adult', 'africa', 'afrikaans',\n",
              "       'alternative', 'alternativepunk', 'ambient', 'americana',\n",
              "       'animated', 'anime', 'arabesk', 'arabic', 'arena',\n",
              "       'argentinetango', 'art', 'audiobook', 'author', 'avantgarde',\n",
              "       'axé', 'baile', 'balkan', 'beats', 'bigroom', 'black', 'bluegrass',\n",
              "       'blues', 'bollywood', 'bossa', 'brazilian', 'breakbeat', 'breaks',\n",
              "       'broadway', 'cantautori', 'cantopop', 'canzone', 'caribbean',\n",
              "       'caucasian', 'celtic', 'chamber', 'chanson', 'children', 'chill',\n",
              "       'chinese', 'choral', 'christian', 'christmas', 'classical',\n",
              "       'classicmetal', 'club', 'colombian', 'comedy', 'conjazz',\n",
              "       'contemporary', 'country', 'cuban', 'dance', 'dancehall',\n",
              "       'dancepop', 'dark', 'death', 'deep', 'deutschrock', 'deutschspr',\n",
              "       'dirty', 'disco', 'dnb', 'documentary', 'downbeat', 'downtempo',\n",
              "       'drum', 'dub', 'dubstep', 'eastern', 'easy', 'electronic',\n",
              "       'electropop', 'emo', 'entehno', 'epicmetal', 'estrada', 'ethnic',\n",
              "       'eurofolk', 'european', 'experimental', 'extrememetal', 'fado',\n",
              "       'fairytail', 'film', 'fitness', 'flamenco', 'folk', 'folklore',\n",
              "       'folkmetal', 'folkrock', 'folktronica', 'forró', 'frankreich',\n",
              "       'französisch', 'french', 'funk', 'future', 'gangsta', 'garage',\n",
              "       'german', 'ghazal', 'gitarre', 'glitch', 'gospel', 'gothic',\n",
              "       'grime', 'grunge', 'gypsy', 'handsup', \"hard'n'heavy\", 'hardcore',\n",
              "       'hardstyle', 'hardtechno', 'hiphop', 'historisch', 'holiday',\n",
              "       'horror', 'house', 'hymn', 'idm', 'independent', 'indian', 'indie',\n",
              "       'indipop', 'industrial', 'inspirational', 'instrumental',\n",
              "       'international', 'irish', 'jam', 'japanese', 'jazz', 'jewish',\n",
              "       'jpop', 'jungle', 'k-pop', 'karadeniz', 'karaoke', 'kayokyoku',\n",
              "       'korean', 'laiko', 'latin', 'latino', 'leftfield', 'local',\n",
              "       'lounge', 'loungeelectronic', 'lovers', 'malaysian', 'mandopop',\n",
              "       'marschmusik', 'meditative', 'mediterranean', 'melodic', 'metal',\n",
              "       'metalcore', 'mexican', 'middle', 'minimal', 'miscellaneous',\n",
              "       'modern', 'mood', 'mpb', 'muslim', 'native', 'neoklassik', 'neue',\n",
              "       'new', 'newage', 'newwave', 'nu', 'nujazz', 'numetal', 'oceania',\n",
              "       'old', 'opera', 'orchestral', 'other', 'piano', 'podcasts', 'pop',\n",
              "       'popdance', 'popelectronic', 'popeurodance', 'poprussian', 'post',\n",
              "       'posthardcore', 'postrock', 'power', 'progmetal', 'progressive',\n",
              "       'psychedelic', 'punjabi', 'punk', 'quebecois', 'ragga', 'ram',\n",
              "       'rancheras', 'rap', 'rave', 'reggae', 'reggaeton', 'regional',\n",
              "       'relax', 'religious', 'retro', 'rhythm', 'rnb', 'rnr', 'rock',\n",
              "       'rockabilly', 'rockalternative', 'rockindie', 'rockother',\n",
              "       'romance', 'roots', 'ruspop', 'rusrap', 'rusrock', 'russian',\n",
              "       'salsa', 'samba', 'scenic', 'schlager', 'self', 'sertanejo',\n",
              "       'shanson', 'shoegazing', 'showtunes', 'singer', 'ska', 'skarock',\n",
              "       'slow', 'smooth', 'soft', 'soul', 'soulful', 'sound', 'soundtrack',\n",
              "       'southern', 'specialty', 'speech', 'spiritual', 'sport',\n",
              "       'stonerrock', 'surf', 'swing', 'synthpop', 'synthrock',\n",
              "       'sängerportrait', 'tango', 'tanzorchester', 'taraftar', 'tatar',\n",
              "       'tech', 'techno', 'teen', 'thrash', 'top', 'traditional',\n",
              "       'tradjazz', 'trance', 'tribal', 'trip', 'triphop', 'tropical',\n",
              "       'türk', 'türkçe', 'ukrrock', 'unknown', 'urban', 'uzbek',\n",
              "       'variété', 'vi', 'videogame', 'vocal', 'western', 'world',\n",
              "       'worldbeat', 'ïîï', 'электроника'], dtype=object)"
            ]
          },
          "execution_count": 17,
          "metadata": {},
          "output_type": "execute_result"
        }
      ],
      "source": [
        "df['genre'].sort_values().unique()# Проверка на неявные дубликаты"
      ]
    },
    {
      "cell_type": "markdown",
      "metadata": {
        "id": "jz6a9-7HQUDd"
      },
      "source": [
        "**Выводы**\n",
        "\n",
        "Предобработка обнаружила три проблемы в данных:\n",
        "\n",
        "- нарушения в стиле заголовков,\n",
        "- пропущенные значения,\n",
        "- дубликаты — явные и неявные.\n",
        "\n",
        "Мы исправили заголовки, чтобы упростить работу с таблицей. Без дубликатов исследование станет более точным.\n",
        "\n",
        "Пропущенные значения мы заменили на `'unknown'`. Ещё предстоит увидеть, не повредят ли исследованию пропуски в колонке `genre`.\n",
        "\n",
        "Теперь можно перейти к проверке гипотез. "
      ]
    },
    {
      "cell_type": "markdown",
      "metadata": {
        "id": "WttZHXH0SqKk"
      },
      "source": [
        "## Проверка гипотез"
      ]
    },
    {
      "cell_type": "markdown",
      "metadata": {
        "id": "Im936VVi_Zcu"
      },
      "source": [
        "### Сравнение поведения пользователей двух столиц"
      ]
    },
    {
      "cell_type": "markdown",
      "metadata": {
        "id": "nwt_MuaL_Zcu"
      },
      "source": [
        "Первая гипотеза утверждает, что пользователи по-разному слушают музыку в Москве и Санкт-Петербурге. Проверим это предположение по данным о трёх днях недели — понедельнике, среде и пятнице. Для этого:\n",
        "\n",
        "* Разделим пользователей Москвы и Санкт-Петербурга\n",
        "* Сравним, сколько треков послушала каждая группа пользователей в понедельник, среду и пятницу.\n"
      ]
    },
    {
      "cell_type": "code",
      "execution_count": null,
      "metadata": {
        "id": "0_Qs96oh_Zcu",
        "outputId": "33223e2d-ed51-46f5-d56e-68c0ed196c80"
      },
      "outputs": [
        {
          "data": {
            "text/plain": [
              "city\n",
              "Moscow              42741\n",
              "Saint-Petersburg    18512\n",
              "Name: track, dtype: int64"
            ]
          },
          "execution_count": 18,
          "metadata": {},
          "output_type": "execute_result"
        }
      ],
      "source": [
        "df.groupby('city').count()['track']\n",
        "df.groupby('city').count()['track']\n",
        " # Подсчёт прослушиваний в каждом городе"
      ]
    },
    {
      "cell_type": "markdown",
      "metadata": {
        "id": "dzli3w8o_Zcu"
      },
      "source": [
        "В Москве прослушиваний больше, чем в Петербурге. Из этого не следует, что московские пользователи чаще слушают музыку. Просто самих пользователей в Москве больше.\n",
        "\n",
        "Сгруппируем данные по дню недели и подсчитаем прослушивания в понедельник, среду и пятницу. \n"
      ]
    },
    {
      "cell_type": "code",
      "execution_count": null,
      "metadata": {
        "id": "uZMKjiJz_Zcu",
        "outputId": "3bee1f95-8ee1-4ed1-eb9a-d688bca89b87"
      },
      "outputs": [
        {
          "data": {
            "text/plain": [
              "day\n",
              "Friday       21840\n",
              "Monday       21354\n",
              "Wednesday    18059\n",
              "Name: track, dtype: int64"
            ]
          },
          "execution_count": 19,
          "metadata": {},
          "output_type": "execute_result"
        }
      ],
      "source": [
        "df.groupby('day').count()['track']\n",
        "df.groupby('day').count()['track']\n",
        "df.groupby('day').count()['track']\n",
        "# Подсчёт прослушиваний в каждый из трёх дней"
      ]
    },
    {
      "cell_type": "markdown",
      "metadata": {
        "id": "cC2tNrlL_Zcu"
      },
      "source": [
        "В среднем пользователи из двух городов менее активны по средам. Но картина может измениться, если рассмотреть каждый город в отдельности."
      ]
    },
    {
      "cell_type": "markdown",
      "metadata": {
        "id": "POzs8bGa_Zcu"
      },
      "source": [
        "Напишием функцию, которая объединит два эти расчёта.\n",
        "\n",
        "Создадим функцию `number_tracks()`, которая посчитает прослушивания для заданного дня и города. Ей понадобятся два параметра:\n",
        "* день недели,\n",
        "* название города.\n",
        "\n",
        "В функции сохраним в переменную строки исходной таблицы, у которых значение:\n",
        "  * в колонке `day` равно параметру `day`,\n",
        "  * в колонке `city` равно параметру `city`.\n",
        "\n",
        "Для этого применим последовательную фильтрацию с логической индексацией.\n",
        "\n",
        "Затем посчитаем значения в столбце `user_id` получившейся таблицы."
      ]
    },
    {
      "cell_type": "code",
      "execution_count": null,
      "metadata": {
        "id": "Nz3GdQB1_Zcu"
      },
      "outputs": [],
      "source": [
        "# <создание функции number_tracks()>\n",
        "def number_tracks(day, city):# Объявляется функция с двумя параметрами: day, city.\n",
        "     # В переменной track_list сохраняются те строки таблицы df, для которых \n",
        "    track_list = df[df['day'] == day] # значение в столбце 'day' равно параметру day и одновременно значение\n",
        "    track_list = track_list[track_list['city'] == city]# в столбце 'city' равно параметру city (используйте последовательную фильтрацию\n",
        "    # с помощью логической индексации).\n",
        "    \n",
        "    track_list_count = track_list.count()['user_id']# В переменной track_list_count сохраняется число значений столбца 'user_id',\n",
        "    # рассчитанное методом count() для таблицы track_list.\n",
        "    return track_list_count # Функция возвращает число - значение track_list_count.\n"
      ]
    },
    {
      "cell_type": "markdown",
      "metadata": {
        "id": "ytf7xFrFJQ2r"
      },
      "source": [
        "Вызовем `number_tracks()` шесть раз, меняя значение параметров — так, чтобы получить данные для каждого города в каждый из трёх дней."
      ]
    },
    {
      "cell_type": "code",
      "execution_count": null,
      "metadata": {
        "id": "rJcRATNQ_Zcu",
        "outputId": "ba0c343b-a5fb-416f-9458-8d7434d1f694"
      },
      "outputs": [
        {
          "data": {
            "text/plain": [
              "15740"
            ]
          },
          "execution_count": 21,
          "metadata": {},
          "output_type": "execute_result"
        }
      ],
      "source": [
        "number_tracks('Monday', 'Moscow')# количество прослушиваний в Москве по понедельникам"
      ]
    },
    {
      "cell_type": "code",
      "execution_count": null,
      "metadata": {
        "id": "hq_ncZ5T_Zcu",
        "outputId": "f28f9ace-e47e-4e73-fad8-5b2f174b2f33"
      },
      "outputs": [
        {
          "data": {
            "text/plain": [
              "5614"
            ]
          },
          "execution_count": 22,
          "metadata": {},
          "output_type": "execute_result"
        }
      ],
      "source": [
        "number_tracks('Monday', 'Saint-Petersburg')# количество прослушиваний в Санкт-Петербурге по понедельникам"
      ]
    },
    {
      "cell_type": "code",
      "execution_count": null,
      "metadata": {
        "id": "_NTy2VPU_Zcu",
        "outputId": "35dfb5e2-710a-4092-965f-33644d823a4c"
      },
      "outputs": [
        {
          "data": {
            "text/plain": [
              "11056"
            ]
          },
          "execution_count": 23,
          "metadata": {},
          "output_type": "execute_result"
        }
      ],
      "source": [
        "number_tracks('Wednesday', 'Moscow')# количество прослушиваний в Москве по средам"
      ]
    },
    {
      "cell_type": "code",
      "execution_count": null,
      "metadata": {
        "id": "j2y3TAwo_Zcu",
        "outputId": "2808c114-7ed5-4b0c-9285-ab1bf7a0128e"
      },
      "outputs": [
        {
          "data": {
            "text/plain": [
              "7003"
            ]
          },
          "execution_count": 24,
          "metadata": {},
          "output_type": "execute_result"
        }
      ],
      "source": [
        "number_tracks('Wednesday', 'Saint-Petersburg')# количество прослушиваний в Санкт-Петербурге по средам"
      ]
    },
    {
      "cell_type": "code",
      "execution_count": null,
      "metadata": {
        "id": "vYDw5u_K_Zcu",
        "outputId": "7e628c58-83f9-4cd6-e105-3583fc1a51e3"
      },
      "outputs": [
        {
          "data": {
            "text/plain": [
              "15945"
            ]
          },
          "execution_count": 25,
          "metadata": {},
          "output_type": "execute_result"
        }
      ],
      "source": [
        "number_tracks('Friday', 'Moscow')# количество прослушиваний в Москве по пятницам"
      ]
    },
    {
      "cell_type": "code",
      "execution_count": null,
      "metadata": {
        "id": "8_yzFtW3_Zcu",
        "outputId": "c02114b4-0a12-40c6-be34-e816603bf369"
      },
      "outputs": [
        {
          "data": {
            "text/plain": [
              "5895"
            ]
          },
          "execution_count": 26,
          "metadata": {},
          "output_type": "execute_result"
        }
      ],
      "source": [
        "number_tracks('Friday', 'Saint-Petersburg')# количество прослушиваний в Санкт-Петербурге по пятницам"
      ]
    },
    {
      "cell_type": "markdown",
      "metadata": {
        "id": "7QXffbO-_Zcu"
      },
      "source": [
        "Создадим c помощью конструктора `pd.DataFrame` таблицу, где\n",
        "* названия колонок — `['city', 'monday', 'wednesday', 'friday']`;\n",
        "* данные — результаты, которые вы получили с помощью `number_tracks`."
      ]
    },
    {
      "cell_type": "code",
      "execution_count": null,
      "metadata": {
        "id": "APAcLpOr_Zcu",
        "outputId": "0762a03f-cb53-425a-9f92-3e7c0c30afbe"
      },
      "outputs": [
        {
          "data": {
            "text/html": [
              "<div>\n",
              "<style scoped>\n",
              "    .dataframe tbody tr th:only-of-type {\n",
              "        vertical-align: middle;\n",
              "    }\n",
              "\n",
              "    .dataframe tbody tr th {\n",
              "        vertical-align: top;\n",
              "    }\n",
              "\n",
              "    .dataframe thead th {\n",
              "        text-align: right;\n",
              "    }\n",
              "</style>\n",
              "<table border=\"1\" class=\"dataframe\">\n",
              "  <thead>\n",
              "    <tr style=\"text-align: right;\">\n",
              "      <th></th>\n",
              "      <th>city</th>\n",
              "      <th>monday</th>\n",
              "      <th>wednesday</th>\n",
              "      <th>friday</th>\n",
              "    </tr>\n",
              "  </thead>\n",
              "  <tbody>\n",
              "    <tr>\n",
              "      <th>0</th>\n",
              "      <td>Moscow</td>\n",
              "      <td>15740</td>\n",
              "      <td>11056</td>\n",
              "      <td>15945</td>\n",
              "    </tr>\n",
              "    <tr>\n",
              "      <th>1</th>\n",
              "      <td>Saint-Petersburg</td>\n",
              "      <td>5614</td>\n",
              "      <td>7003</td>\n",
              "      <td>5895</td>\n",
              "    </tr>\n",
              "  </tbody>\n",
              "</table>\n",
              "</div>"
            ],
            "text/plain": [
              "               city  monday  wednesday  friday\n",
              "0            Moscow   15740      11056   15945\n",
              "1  Saint-Petersburg    5614       7003    5895"
            ]
          },
          "metadata": {},
          "output_type": "display_data"
        }
      ],
      "source": [
        "data = [['Moscow', 15740, 11056, 15945],['Saint-Petersburg', 5614, 7003, 5895]]\n",
        "column = ['city', 'monday', 'wednesday','friday']\n",
        "hypothesis_1 = pd.DataFrame(data=data, columns=column)\n",
        "display(hypothesis_1)\n",
        "# Таблица с результатами"
      ]
    },
    {
      "cell_type": "markdown",
      "metadata": {
        "id": "-EgPIHYu_Zcu"
      },
      "source": [
        "**Выводы**\n",
        "\n",
        "Данные показывают разницу поведения пользователей:\n",
        "\n",
        "- В Москве пик прослушиваний приходится на понедельник и пятницу, а в среду заметен спад.\n",
        "- В Петербурге, наоборот, больше слушают музыку по средам. Активность в понедельник и пятницу здесь почти в равной мере уступает среде.\n",
        "\n",
        "Значит, данные говорят в пользу первой гипотезы."
      ]
    },
    {
      "cell_type": "markdown",
      "metadata": {
        "id": "atZAxtq4_Zcu"
      },
      "source": [
        "### Музыка в начале и в конце недели"
      ]
    },
    {
      "cell_type": "markdown",
      "metadata": {
        "id": "eXrQqXFH_Zcu"
      },
      "source": [
        "Согласно второй гипотезе, утром в понедельник в Москве преобладают одни жанры, а в Петербурге — другие. Так же и вечером пятницы преобладают разные жанры — в зависимости от города."
      ]
    },
    {
      "cell_type": "markdown",
      "metadata": {
        "id": "S8UcW6Hw_Zcu"
      },
      "source": [
        "Сохраним таблицы с данными в две переменные:\n",
        "* по Москве — в `moscow_general`;\n",
        "* по Санкт-Петербургу — в `spb_general`."
      ]
    },
    {
      "cell_type": "code",
      "execution_count": null,
      "metadata": {
        "id": "qeaFfM_P_Zcu"
      },
      "outputs": [],
      "source": [
        "moscow_general = df[df['city'] == 'Moscow']# получение таблицы moscow_general из тех строк таблицы df, \n",
        "# для которых значение в столбце 'city' равно 'Moscow'\n"
      ]
    },
    {
      "cell_type": "code",
      "execution_count": null,
      "metadata": {
        "id": "ORaVRKto_Zcu"
      },
      "outputs": [],
      "source": [
        "spb_general = df[df['city'] == 'Saint-Petersburg']# получение таблицы spb_general из тех строк таблицы df,\n",
        "# для которых значение в столбце 'city' равно 'Saint-Petersburg'\n"
      ]
    },
    {
      "cell_type": "markdown",
      "metadata": {
        "id": "MEJV-CX2_Zcu"
      },
      "source": [
        "Создадим функцию `genre_weekday()` с четырьмя параметрами:\n",
        "* таблица (датафрейм) с данными,\n",
        "* день недели,\n",
        "* начальная временная метка в формате 'hh:mm', \n",
        "* последняя временная метка в формате 'hh:mm'.\n",
        "\n",
        "Функция должна вернуть информацию о топ-10 жанров тех треков, которые прослушивали в указанный день, в промежутке между двумя отметками времени."
      ]
    },
    {
      "cell_type": "code",
      "execution_count": null,
      "metadata": {
        "id": "laJT9BYl_Zcu"
      },
      "outputs": [],
      "source": [
        "def genre_weekday(table, day, time1, time2):# Объявление функции genre_weekday() с параметрами table, day, time1, time2,\n",
        "# которая возвращает информацию о самых популярных жанрах в указанный день в\n",
        "# заданное время:\n",
        "# 1) в переменную genre_df сохраняются те строки переданного датафрейма table, для\n",
        "#    которых одновременно:\n",
        "    genre_df = table[(table['day'] == day) & (table['time'] > time1) & (table['time'] < time2)]       #    - значение в столбце day равно значению аргумента day\n",
        "#    - значение в столбце time больше значения аргумента time1\n",
        "#    - значение в столбце time меньше значения аргумента time2\n",
        "#    Используйте последовательную фильтрацию с помощью логической индексации.\n",
        "# 2) сгруппировать датафрейм genre_df по столбцу genre, взять один из его\n",
        "#    столбцов и посчитать методом count() количество записей для каждого из\n",
        "#    присутствующих жанров, получившийся Series записать в переменную\n",
        "#    genre_df_count\n",
        "    genre_df_count = genre_df.groupby('genre')['genre'].count()\n",
        "# 3) отсортировать genre_df_count по убыванию встречаемости и сохранить\n",
        "#    в переменную genre_df_sorted\n",
        "    genre_df_sorted = genre_df_count.sort_values(ascending=False)\n",
        "# 4) вернуть Series из 10 первых значений genre_df_sorted, это будут топ-10\n",
        "#    популярных жанров (в указанный день, в заданное время)\n",
        "    return genre_df_sorted.head(10) "
      ]
    },
    {
      "cell_type": "markdown",
      "metadata": {
        "id": "la2s2_PF_Zcu"
      },
      "source": [
        "Cравним результаты функции `genre_weekday()` для Москвы и Санкт-Петербурга в понедельник утром (с 7:00 до 11:00) и в пятницу вечером (с 17:00 до 23:00):"
      ]
    },
    {
      "cell_type": "code",
      "execution_count": null,
      "metadata": {
        "id": "yz7itPUQ_Zcu",
        "outputId": "a57a4151-f656-4d33-e3aa-69e6b7ed7185"
      },
      "outputs": [
        {
          "data": {
            "text/plain": [
              "genre\n",
              "pop            781\n",
              "dance          549\n",
              "electronic     480\n",
              "rock           474\n",
              "hiphop         286\n",
              "ruspop         186\n",
              "world          181\n",
              "rusrap         175\n",
              "alternative    164\n",
              "unknown        161\n",
              "Name: genre, dtype: int64"
            ]
          },
          "metadata": {},
          "output_type": "display_data"
        }
      ],
      "source": [
        "display(genre_weekday(moscow_general, 'Monday', '07:00', '11:00'))\n",
        "# вызов функции для утра понедельника в Москве (вместо df — таблица moscow_general)\n",
        "# объекты, хранящие время, являются строками и сравниваются как строки\n",
        "# пример вызова: genre_weekday(moscow_general, 'Monday', '07:00', '11:00')"
      ]
    },
    {
      "cell_type": "code",
      "execution_count": null,
      "metadata": {
        "id": "kwUcHPdy_Zcu",
        "outputId": "f91d51b4-1938-4807-892d-ebea6edc014f"
      },
      "outputs": [
        {
          "data": {
            "text/plain": [
              "genre\n",
              "pop            218\n",
              "dance          182\n",
              "rock           162\n",
              "electronic     147\n",
              "hiphop          80\n",
              "ruspop          64\n",
              "alternative     58\n",
              "rusrap          55\n",
              "jazz            44\n",
              "classical       40\n",
              "Name: genre, dtype: int64"
            ]
          },
          "metadata": {},
          "output_type": "display_data"
        }
      ],
      "source": [
        "display(genre_weekday(spb_general, 'Monday', '07:00', '11:00'))# вызов функции для утра понедельника в Петербурге (вместо df — таблица spb_general)"
      ]
    },
    {
      "cell_type": "code",
      "execution_count": null,
      "metadata": {
        "id": "EzXVRE1o_Zcu",
        "outputId": "b07553d0-422d-4170-e334-7b48878fbfb3"
      },
      "outputs": [
        {
          "data": {
            "text/plain": [
              "genre\n",
              "pop            713\n",
              "rock           517\n",
              "dance          495\n",
              "electronic     482\n",
              "hiphop         273\n",
              "world          208\n",
              "ruspop         170\n",
              "alternative    163\n",
              "classical      163\n",
              "rusrap         142\n",
              "Name: genre, dtype: int64"
            ]
          },
          "metadata": {},
          "output_type": "display_data"
        }
      ],
      "source": [
        "display(genre_weekday(moscow_general, 'Friday', '17:00', '23:00'))# вызов функции для вечера пятницы в Москве"
      ]
    },
    {
      "cell_type": "code",
      "execution_count": null,
      "metadata": {
        "id": "JZaEKu5v_Zcu",
        "outputId": "144f7d20-23a4-4ae5-ff63-e19ffee4246a"
      },
      "outputs": [
        {
          "data": {
            "text/plain": [
              "genre\n",
              "pop            256\n",
              "electronic     216\n",
              "rock           216\n",
              "dance          210\n",
              "hiphop          97\n",
              "alternative     63\n",
              "jazz            61\n",
              "classical       60\n",
              "rusrap          59\n",
              "world           54\n",
              "Name: genre, dtype: int64"
            ]
          },
          "metadata": {},
          "output_type": "display_data"
        }
      ],
      "source": [
        "display(genre_weekday(spb_general, 'Friday', '17:00', '23:00'))# вызов функции для вечера пятницы в Петербурге"
      ]
    },
    {
      "cell_type": "markdown",
      "metadata": {
        "id": "wrCe4MNX_Zcu"
      },
      "source": [
        "**Выводы**\n",
        "\n",
        "Если сравнить топ-10 жанров в понедельник утром, можно сделать такие выводы:\n",
        "\n",
        "1. В Москве и Петербурге слушают похожую музыку. Единственное отличие — в московский рейтинг вошёл жанр “world”, а в петербургский — джаз и классика.\n",
        "\n",
        "2. В Москве пропущенных значений оказалось так много, что значение `'unknown'` заняло десятое место среди самых популярных жанров. Значит, пропущенные значения занимают существенную долю в данных и угрожают достоверности исследования.\n",
        "\n",
        "Вечер пятницы не меняет эту картину. Некоторые жанры поднимаются немного выше, другие спускаются, но в целом топ-10 остаётся тем же самым.\n",
        "\n",
        "Таким образом, вторая гипотеза подтвердилась лишь частично:\n",
        "* Пользователи слушают похожую музыку в начале недели и в конце.\n",
        "* Разница между Москвой и Петербургом не слишком выражена. В Москве чаще слушают русскую популярную музыку, в Петербурге — джаз.\n",
        "\n",
        "Однако пропуски в данных ставят под сомнение этот результат. В Москве их так много, что рейтинг топ-10 мог бы выглядеть иначе, если бы не утерянные  данные о жанрах."
      ]
    },
    {
      "cell_type": "markdown",
      "metadata": {
        "id": "JolODAqr_Zcu"
      },
      "source": [
        "### Жанровые предпочтения в Москве и Петербурге\n",
        "\n",
        "Гипотеза: Петербург — столица рэпа, музыку этого жанра там слушают чаще, чем в Москве.  А Москва — город контрастов, в котором, тем не менее, преобладает поп-музыка."
      ]
    },
    {
      "cell_type": "markdown",
      "metadata": {
        "id": "DlegSvaT_Zcu"
      },
      "source": [
        "Сгруппируем таблицу `moscow_general` по жанру и посчитаем прослушивания треков каждого жанра методом `count()`. Далее отсортируем результат в порядке убывания и сохраним его в таблице `moscow_genres`."
      ]
    },
    {
      "cell_type": "code",
      "execution_count": null,
      "metadata": {
        "id": "r19lIPke_Zcu"
      },
      "outputs": [],
      "source": [
        "moscow_genres = moscow_general.groupby('genre')['genre'].count() # одной строкой: группировка таблицы moscow_general по столбцу 'genre', \n",
        "# подсчёт числа значений 'genre' в этой группировке методом count(), \n",
        "moscow_genres = moscow_genres.sort_values(ascending=False)\n",
        "# сортировка получившегося Series в порядке убывания и сохранение в moscow_genres"
      ]
    },
    {
      "cell_type": "markdown",
      "metadata": {
        "id": "6kMuomxTiIr8"
      },
      "source": [
        "Выведите на экран первые десять строк `moscow_genres`:"
      ]
    },
    {
      "cell_type": "code",
      "execution_count": null,
      "metadata": {
        "id": "WhCSooF8_Zcv",
        "outputId": "2cb67ac6-f7e1-4662-ddfe-f342440fc876"
      },
      "outputs": [
        {
          "data": {
            "text/plain": [
              "genre\n",
              "pop            5892\n",
              "dance          4435\n",
              "rock           3965\n",
              "electronic     3786\n",
              "hiphop         2096\n",
              "classical      1616\n",
              "world          1432\n",
              "alternative    1379\n",
              "ruspop         1372\n",
              "rusrap         1161\n",
              "Name: genre, dtype: int64"
            ]
          },
          "metadata": {},
          "output_type": "display_data"
        }
      ],
      "source": [
        "display(moscow_genres.head(10))# просмотр первых 10 строк moscow_genres"
      ]
    },
    {
      "cell_type": "markdown",
      "metadata": {
        "id": "cnPG2vnN_Zcv"
      },
      "source": [
        "Повторим для Петербурга.\n",
        "\n"
      ]
    },
    {
      "cell_type": "code",
      "execution_count": null,
      "metadata": {
        "id": "gluLIpE7_Zcv"
      },
      "outputs": [],
      "source": [
        "spb_genres = spb_general.groupby('genre')['genre'].count()# одной строкой: группировка таблицы spb_general по столбцу 'genre', \n",
        "# подсчёт числа значений 'genre' в этой группировке методом count(), \n",
        "spb_genres = spb_genres.sort_values(ascending=False)\n",
        "# сортировка получившегося Series в порядке убывания и сохранение в spb_genres"
      ]
    },
    {
      "cell_type": "markdown",
      "metadata": {
        "id": "5Doha_ODgyQ8"
      },
      "source": [
        "Выведем на экран первые десять строк `spb_genres`:"
      ]
    },
    {
      "cell_type": "code",
      "execution_count": null,
      "metadata": {
        "id": "uaGJHjVU_Zcv",
        "outputId": "9f9bb3e9-4914-4eba-a69a-98b70e8aa3c9"
      },
      "outputs": [
        {
          "data": {
            "text/plain": [
              "genre\n",
              "pop            2431\n",
              "dance          1932\n",
              "rock           1879\n",
              "electronic     1736\n",
              "hiphop          960\n",
              "alternative     649\n",
              "classical       646\n",
              "rusrap          564\n",
              "ruspop          538\n",
              "world           515\n",
              "Name: genre, dtype: int64"
            ]
          },
          "metadata": {},
          "output_type": "display_data"
        }
      ],
      "source": [
        "display(spb_genres.head(10))# просмотр первых 10 строк spb_genres"
      ]
    },
    {
      "cell_type": "markdown",
      "metadata": {
        "id": "RY51YJYu_Zcv"
      },
      "source": [
        "**Выводы**"
      ]
    },
    {
      "cell_type": "markdown",
      "metadata": {
        "id": "nVhnJEm__Zcv"
      },
      "source": [
        "Гипотеза частично подтвердилась:\n",
        "* Поп-музыка — самый популярный жанр в Москве, как и предполагала гипотеза. Более того, в топ-10 жанров встречается близкий жанр — русская популярная музыка.\n",
        "* Вопреки ожиданиям, рэп одинаково популярен в Москве и Петербурге. \n"
      ]
    },
    {
      "cell_type": "markdown",
      "metadata": {
        "id": "ykKQ0N65_Zcv"
      },
      "source": [
        "## Итоги исследования"
      ]
    },
    {
      "cell_type": "markdown",
      "metadata": {
        "id": "tjUwbHb3_Zcv"
      },
      "source": [
        "Мы проверили три гипотезы и установили:\n",
        "\n",
        "1. День недели по-разному влияет на активность пользователей в Москве и Петербурге. \n",
        "\n",
        "Первая гипотеза полностью подтвердилась.\n",
        "\n",
        "<BR>\n",
        "2. Музыкальные предпочтения не сильно меняются в течение недели — будь то Москва или Петербург. Небольшие различия заметны в начале недели, по понедельникам:\n",
        "* в Москве слушают музыку жанра “world”,\n",
        "* в Петербурге — джаз и классику.\n",
        "\n",
        "Таким образом, вторая гипотеза подтвердилась лишь отчасти. Этот результат мог оказаться иным, если бы не пропуски в данных.\n",
        "<BR>\n",
        "\n",
        "3. Во вкусах пользователей Москвы и Петербурга больше общего чем различий. Вопреки ожиданиям, предпочтения жанров в Петербурге напоминают московские.\n",
        "\n",
        "Третья гипотеза не подтвердилась. Если различия в предпочтениях и существуют, на основной массе пользователей они незаметны.\n",
        "<BR>\n",
        "<BR>\n",
        "\n",
        "**На практике исследования содержат проверки статистических гипотез.**\n",
        "Из данных одного сервиса не всегда можно сделать вывод о всех жителях города.\n",
        "Проверки статистических гипотез покажут, насколько они достоверны, исходя из имеющихся данных. \n",
        "С методами проверок гипотез вы ещё познакомитесь в следующих темах."
      ]
    }
  ],
  "metadata": {
    "ExecuteTimeLog": [
      {
        "duration": 76,
        "start_time": "2022-04-22T09:58:49.533Z"
      },
      {
        "duration": 10,
        "start_time": "2022-04-22T09:59:02.976Z"
      },
      {
        "duration": 8,
        "start_time": "2022-04-22T09:59:07.490Z"
      },
      {
        "duration": 499,
        "start_time": "2022-04-22T09:59:14.316Z"
      },
      {
        "duration": 51,
        "start_time": "2022-04-22T09:59:26.369Z"
      },
      {
        "duration": 223,
        "start_time": "2022-04-22T10:01:08.502Z"
      },
      {
        "duration": 31,
        "start_time": "2022-04-22T10:01:15.206Z"
      },
      {
        "duration": 41,
        "start_time": "2022-04-22T10:01:36.444Z"
      },
      {
        "duration": 6,
        "start_time": "2022-04-22T11:21:33.239Z"
      },
      {
        "duration": 43,
        "start_time": "2022-04-22T11:24:37.079Z"
      },
      {
        "duration": 42,
        "start_time": "2022-04-22T11:24:40.449Z"
      },
      {
        "duration": 5,
        "start_time": "2022-04-22T11:42:37.613Z"
      },
      {
        "duration": 7,
        "start_time": "2022-04-22T11:42:47.912Z"
      },
      {
        "duration": 14,
        "start_time": "2022-04-22T11:46:20.020Z"
      },
      {
        "duration": 6,
        "start_time": "2022-04-22T11:46:24.640Z"
      },
      {
        "duration": 52,
        "start_time": "2022-04-23T14:33:35.127Z"
      },
      {
        "duration": 6,
        "start_time": "2022-04-23T14:33:55.808Z"
      },
      {
        "duration": 6,
        "start_time": "2022-04-23T14:34:07.071Z"
      },
      {
        "duration": 432,
        "start_time": "2022-04-23T14:34:10.712Z"
      },
      {
        "duration": 169,
        "start_time": "2022-04-23T14:34:14.345Z"
      },
      {
        "duration": 18,
        "start_time": "2022-04-23T14:34:53.859Z"
      },
      {
        "duration": 30,
        "start_time": "2022-04-23T14:34:56.792Z"
      },
      {
        "duration": 5,
        "start_time": "2022-04-23T14:35:01.250Z"
      },
      {
        "duration": 12,
        "start_time": "2022-04-23T14:35:04.704Z"
      },
      {
        "duration": 5,
        "start_time": "2022-04-23T14:35:06.717Z"
      },
      {
        "duration": 26,
        "start_time": "2022-04-23T14:35:08.969Z"
      },
      {
        "duration": 18,
        "start_time": "2022-04-23T14:45:53.663Z"
      },
      {
        "duration": 18,
        "start_time": "2022-04-23T14:45:57.691Z"
      },
      {
        "duration": 18,
        "start_time": "2022-04-23T14:46:07.660Z"
      },
      {
        "duration": 26,
        "start_time": "2022-04-23T14:46:31.322Z"
      },
      {
        "duration": 70,
        "start_time": "2022-04-23T14:47:15.647Z"
      },
      {
        "duration": 90,
        "start_time": "2022-04-23T14:49:28.799Z"
      },
      {
        "duration": 61,
        "start_time": "2022-04-23T14:49:37.187Z"
      },
      {
        "duration": 57,
        "start_time": "2022-04-23T16:53:33.844Z"
      },
      {
        "duration": 31,
        "start_time": "2022-04-23T17:22:52.038Z"
      },
      {
        "duration": 8,
        "start_time": "2022-04-23T17:23:02.212Z"
      },
      {
        "duration": 10,
        "start_time": "2022-04-23T17:23:09.644Z"
      },
      {
        "duration": 11,
        "start_time": "2022-04-23T17:23:32.588Z"
      },
      {
        "duration": 9,
        "start_time": "2022-04-23T17:24:47.234Z"
      },
      {
        "duration": 11,
        "start_time": "2022-04-23T17:36:39.071Z"
      },
      {
        "duration": 3,
        "start_time": "2022-04-23T17:46:01.148Z"
      },
      {
        "duration": 14,
        "start_time": "2022-04-23T17:46:04.516Z"
      },
      {
        "duration": 3,
        "start_time": "2022-04-23T17:46:29.522Z"
      },
      {
        "duration": 10,
        "start_time": "2022-04-23T17:46:33.271Z"
      },
      {
        "duration": 11,
        "start_time": "2022-04-23T17:46:37.925Z"
      },
      {
        "duration": 15,
        "start_time": "2022-04-23T17:47:53.166Z"
      },
      {
        "duration": 10,
        "start_time": "2022-04-23T17:48:42.094Z"
      },
      {
        "duration": 3,
        "start_time": "2022-04-23T17:48:49.117Z"
      },
      {
        "duration": 10,
        "start_time": "2022-04-23T17:48:51.692Z"
      },
      {
        "duration": 10,
        "start_time": "2022-04-23T17:48:54.747Z"
      },
      {
        "duration": 123,
        "start_time": "2022-04-23T17:51:56.906Z"
      },
      {
        "duration": 11,
        "start_time": "2022-04-23T17:52:04.456Z"
      },
      {
        "duration": 3,
        "start_time": "2022-04-23T17:52:09.980Z"
      },
      {
        "duration": 10,
        "start_time": "2022-04-23T17:52:12.307Z"
      },
      {
        "duration": 11,
        "start_time": "2022-04-23T17:52:15.581Z"
      },
      {
        "duration": 59,
        "start_time": "2022-04-23T18:12:41.970Z"
      },
      {
        "duration": 60,
        "start_time": "2022-04-23T18:14:22.446Z"
      },
      {
        "duration": 64,
        "start_time": "2022-04-23T18:14:43.015Z"
      },
      {
        "duration": 62,
        "start_time": "2022-04-23T18:14:54.390Z"
      },
      {
        "duration": 85,
        "start_time": "2022-04-23T18:18:14.618Z"
      },
      {
        "duration": 4,
        "start_time": "2022-04-23T18:56:27.347Z"
      },
      {
        "duration": 37,
        "start_time": "2022-04-23T18:59:12.860Z"
      },
      {
        "duration": 3,
        "start_time": "2022-04-23T19:01:30.349Z"
      },
      {
        "duration": 41,
        "start_time": "2022-04-23T19:01:34.686Z"
      },
      {
        "duration": 30,
        "start_time": "2022-04-23T19:01:44.149Z"
      },
      {
        "duration": 30,
        "start_time": "2022-04-23T19:02:00.458Z"
      },
      {
        "duration": 42,
        "start_time": "2022-04-23T19:02:20.325Z"
      },
      {
        "duration": 4,
        "start_time": "2022-04-23T19:05:15.025Z"
      },
      {
        "duration": 39,
        "start_time": "2022-04-23T19:05:18.577Z"
      },
      {
        "duration": 4,
        "start_time": "2022-04-23T19:06:27.851Z"
      },
      {
        "duration": 33,
        "start_time": "2022-04-23T19:06:31.247Z"
      },
      {
        "duration": 3,
        "start_time": "2022-04-23T19:06:55.500Z"
      },
      {
        "duration": 23,
        "start_time": "2022-04-23T19:06:58.367Z"
      },
      {
        "duration": 4,
        "start_time": "2022-04-23T19:07:27.376Z"
      },
      {
        "duration": 31,
        "start_time": "2022-04-23T19:07:30.275Z"
      },
      {
        "duration": 21,
        "start_time": "2022-04-23T19:07:38.876Z"
      },
      {
        "duration": 25,
        "start_time": "2022-04-23T19:07:41.576Z"
      },
      {
        "duration": 30,
        "start_time": "2022-04-23T19:08:12.001Z"
      },
      {
        "duration": 30,
        "start_time": "2022-04-23T19:08:15.657Z"
      },
      {
        "duration": 22,
        "start_time": "2022-04-23T19:08:16.948Z"
      },
      {
        "duration": 24,
        "start_time": "2022-04-23T19:11:16.960Z"
      },
      {
        "duration": 20,
        "start_time": "2022-04-23T19:11:20.974Z"
      },
      {
        "duration": 39,
        "start_time": "2022-04-23T19:11:26.820Z"
      },
      {
        "duration": 36,
        "start_time": "2022-04-23T19:11:33.020Z"
      },
      {
        "duration": 4,
        "start_time": "2022-04-23T19:11:41.907Z"
      },
      {
        "duration": 26,
        "start_time": "2022-04-23T19:12:05.884Z"
      },
      {
        "duration": 24,
        "start_time": "2022-04-23T19:12:55.794Z"
      },
      {
        "duration": 157,
        "start_time": "2022-04-23T19:12:57.490Z"
      },
      {
        "duration": 166,
        "start_time": "2022-04-23T19:14:43.257Z"
      },
      {
        "duration": 144,
        "start_time": "2022-04-23T19:14:53.479Z"
      },
      {
        "duration": 22,
        "start_time": "2022-04-23T19:15:08.457Z"
      },
      {
        "duration": 29,
        "start_time": "2022-04-23T19:15:10.846Z"
      },
      {
        "duration": 21,
        "start_time": "2022-04-23T19:15:16.292Z"
      },
      {
        "duration": 4,
        "start_time": "2022-04-23T19:17:46.610Z"
      },
      {
        "duration": 35,
        "start_time": "2022-04-23T19:17:52.281Z"
      },
      {
        "duration": 4,
        "start_time": "2022-04-23T19:18:25.593Z"
      },
      {
        "duration": 39,
        "start_time": "2022-04-23T19:18:28.596Z"
      },
      {
        "duration": 4,
        "start_time": "2022-04-23T19:18:45.894Z"
      },
      {
        "duration": 42,
        "start_time": "2022-04-23T19:18:49.281Z"
      },
      {
        "duration": 41,
        "start_time": "2022-04-23T19:22:16.769Z"
      },
      {
        "duration": 4,
        "start_time": "2022-04-23T19:31:17.845Z"
      },
      {
        "duration": 29,
        "start_time": "2022-04-23T19:31:23.274Z"
      },
      {
        "duration": 4,
        "start_time": "2022-04-23T19:32:31.046Z"
      },
      {
        "duration": 4,
        "start_time": "2022-04-23T19:35:01.702Z"
      },
      {
        "duration": 24,
        "start_time": "2022-04-23T19:35:03.992Z"
      },
      {
        "duration": 22,
        "start_time": "2022-04-23T19:35:18.046Z"
      },
      {
        "duration": 25,
        "start_time": "2022-04-23T19:35:24.528Z"
      },
      {
        "duration": 20,
        "start_time": "2022-04-23T19:35:32.700Z"
      },
      {
        "duration": 3,
        "start_time": "2022-04-23T19:35:38.546Z"
      },
      {
        "duration": 17,
        "start_time": "2022-04-23T19:35:44.475Z"
      },
      {
        "duration": 26,
        "start_time": "2022-04-23T19:35:48.363Z"
      },
      {
        "duration": 28,
        "start_time": "2022-04-23T19:35:56.913Z"
      },
      {
        "duration": 22,
        "start_time": "2022-04-23T19:36:00.758Z"
      },
      {
        "duration": 18,
        "start_time": "2022-04-23T19:36:07.248Z"
      },
      {
        "duration": 9,
        "start_time": "2022-04-23T19:41:03.802Z"
      },
      {
        "duration": 5,
        "start_time": "2022-04-23T19:41:26.465Z"
      },
      {
        "duration": 5,
        "start_time": "2022-04-23T19:41:29.019Z"
      },
      {
        "duration": 5,
        "start_time": "2022-04-23T19:41:33.246Z"
      },
      {
        "duration": 25,
        "start_time": "2022-04-23T19:41:37.528Z"
      },
      {
        "duration": 4,
        "start_time": "2022-04-23T19:44:51.154Z"
      },
      {
        "duration": 145,
        "start_time": "2022-04-23T19:47:21.367Z"
      },
      {
        "duration": 140,
        "start_time": "2022-04-23T19:48:10.694Z"
      },
      {
        "duration": 138,
        "start_time": "2022-04-23T19:48:26.481Z"
      },
      {
        "duration": 152,
        "start_time": "2022-04-23T19:48:47.722Z"
      },
      {
        "duration": 135,
        "start_time": "2022-04-23T19:50:15.659Z"
      },
      {
        "duration": 2,
        "start_time": "2022-04-23T19:50:49.986Z"
      },
      {
        "duration": 135,
        "start_time": "2022-04-23T19:55:52.860Z"
      },
      {
        "duration": 142,
        "start_time": "2022-04-23T19:56:39.228Z"
      },
      {
        "duration": 134,
        "start_time": "2022-04-23T19:58:35.499Z"
      },
      {
        "duration": 139,
        "start_time": "2022-04-23T19:59:11.955Z"
      },
      {
        "duration": 4,
        "start_time": "2022-04-23T20:04:24.632Z"
      },
      {
        "duration": 4,
        "start_time": "2022-04-23T20:04:27.564Z"
      },
      {
        "duration": 9,
        "start_time": "2022-04-23T20:04:42.045Z"
      },
      {
        "duration": 55,
        "start_time": "2022-04-25T08:49:27.134Z"
      },
      {
        "duration": 381,
        "start_time": "2022-04-25T08:50:35.638Z"
      },
      {
        "duration": 164,
        "start_time": "2022-04-25T08:50:36.021Z"
      },
      {
        "duration": 23,
        "start_time": "2022-04-25T08:50:36.187Z"
      },
      {
        "duration": 56,
        "start_time": "2022-04-25T08:50:36.212Z"
      },
      {
        "duration": 25,
        "start_time": "2022-04-25T08:50:36.270Z"
      },
      {
        "duration": 11,
        "start_time": "2022-04-25T08:50:36.297Z"
      },
      {
        "duration": 4,
        "start_time": "2022-04-25T08:50:36.310Z"
      },
      {
        "duration": 29,
        "start_time": "2022-04-25T08:50:36.316Z"
      },
      {
        "duration": 62,
        "start_time": "2022-04-25T08:50:36.347Z"
      },
      {
        "duration": 35,
        "start_time": "2022-04-25T08:50:36.411Z"
      },
      {
        "duration": 84,
        "start_time": "2022-04-25T08:50:36.448Z"
      },
      {
        "duration": 91,
        "start_time": "2022-04-25T08:50:36.533Z"
      },
      {
        "duration": 71,
        "start_time": "2022-04-25T08:50:36.625Z"
      },
      {
        "duration": 12,
        "start_time": "2022-04-25T08:50:36.698Z"
      },
      {
        "duration": 20,
        "start_time": "2022-04-25T08:50:36.712Z"
      },
      {
        "duration": 29,
        "start_time": "2022-04-25T08:50:36.734Z"
      },
      {
        "duration": 36,
        "start_time": "2022-04-25T08:50:36.765Z"
      },
      {
        "duration": 63,
        "start_time": "2022-04-25T08:50:36.803Z"
      },
      {
        "duration": 145,
        "start_time": "2022-04-25T08:50:36.867Z"
      },
      {
        "duration": 4,
        "start_time": "2022-04-25T08:50:37.014Z"
      },
      {
        "duration": 72,
        "start_time": "2022-04-25T08:50:37.020Z"
      },
      {
        "duration": 23,
        "start_time": "2022-04-25T08:50:37.095Z"
      },
      {
        "duration": 41,
        "start_time": "2022-04-25T08:50:37.121Z"
      },
      {
        "duration": 22,
        "start_time": "2022-04-25T08:50:37.164Z"
      },
      {
        "duration": 39,
        "start_time": "2022-04-25T08:50:37.188Z"
      },
      {
        "duration": 20,
        "start_time": "2022-04-25T08:50:37.229Z"
      },
      {
        "duration": 13,
        "start_time": "2022-04-25T08:50:37.251Z"
      },
      {
        "duration": 8,
        "start_time": "2022-04-25T08:50:37.268Z"
      },
      {
        "duration": 14,
        "start_time": "2022-04-25T08:50:37.278Z"
      },
      {
        "duration": 22,
        "start_time": "2022-04-25T08:50:37.294Z"
      },
      {
        "duration": 27,
        "start_time": "2022-04-25T08:50:37.318Z"
      },
      {
        "duration": 15,
        "start_time": "2022-04-25T08:50:37.347Z"
      },
      {
        "duration": 43,
        "start_time": "2022-04-25T08:50:37.364Z"
      },
      {
        "duration": 27,
        "start_time": "2022-04-25T08:50:37.409Z"
      },
      {
        "duration": 29,
        "start_time": "2022-04-25T08:50:37.437Z"
      },
      {
        "duration": 24,
        "start_time": "2022-04-25T08:50:37.468Z"
      },
      {
        "duration": 17,
        "start_time": "2022-04-25T08:50:37.494Z"
      },
      {
        "duration": 16,
        "start_time": "2022-04-25T08:50:37.513Z"
      },
      {
        "duration": 143,
        "start_time": "2022-04-25T08:59:44.707Z"
      },
      {
        "duration": 73,
        "start_time": "2022-04-25T09:00:28.095Z"
      },
      {
        "duration": 12,
        "start_time": "2022-04-25T09:00:38.463Z"
      },
      {
        "duration": 10,
        "start_time": "2022-04-25T09:03:10.920Z"
      },
      {
        "duration": 10,
        "start_time": "2022-04-25T09:03:20.016Z"
      },
      {
        "duration": 10,
        "start_time": "2022-04-25T09:03:35.465Z"
      },
      {
        "duration": 11,
        "start_time": "2022-04-25T09:03:42.732Z"
      },
      {
        "duration": 18,
        "start_time": "2022-04-25T09:12:44.264Z"
      },
      {
        "duration": 3,
        "start_time": "2022-04-25T09:12:46.973Z"
      },
      {
        "duration": 24,
        "start_time": "2022-04-25T09:13:01.878Z"
      },
      {
        "duration": 12,
        "start_time": "2022-04-25T09:13:11.909Z"
      },
      {
        "duration": 15,
        "start_time": "2022-04-25T09:13:36.367Z"
      },
      {
        "duration": 5,
        "start_time": "2022-04-25T10:32:19.008Z"
      },
      {
        "duration": 28,
        "start_time": "2022-04-25T10:35:54.077Z"
      },
      {
        "duration": 30,
        "start_time": "2022-04-25T10:39:02.982Z"
      },
      {
        "duration": 5,
        "start_time": "2022-04-25T10:39:16.110Z"
      },
      {
        "duration": 26,
        "start_time": "2022-04-25T10:39:18.844Z"
      },
      {
        "duration": 27,
        "start_time": "2022-04-25T10:39:21.401Z"
      },
      {
        "duration": 5,
        "start_time": "2022-04-25T10:39:37.980Z"
      },
      {
        "duration": 35,
        "start_time": "2022-04-25T10:39:41.592Z"
      },
      {
        "duration": 24,
        "start_time": "2022-04-25T10:39:47.299Z"
      },
      {
        "duration": 4,
        "start_time": "2022-04-25T10:40:34.058Z"
      },
      {
        "duration": 27,
        "start_time": "2022-04-25T10:40:36.860Z"
      },
      {
        "duration": 30,
        "start_time": "2022-04-25T10:42:44.941Z"
      },
      {
        "duration": 4,
        "start_time": "2022-04-25T10:45:40.340Z"
      },
      {
        "duration": 28,
        "start_time": "2022-04-25T10:45:42.626Z"
      },
      {
        "duration": 5,
        "start_time": "2022-04-25T10:46:37.277Z"
      },
      {
        "duration": 25,
        "start_time": "2022-04-25T10:46:44.013Z"
      },
      {
        "duration": 10,
        "start_time": "2022-04-25T10:46:52.520Z"
      },
      {
        "duration": 12,
        "start_time": "2022-04-25T10:47:03.445Z"
      },
      {
        "duration": 10,
        "start_time": "2022-04-25T10:47:04.961Z"
      },
      {
        "duration": 4,
        "start_time": "2022-04-25T10:47:06.609Z"
      },
      {
        "duration": 24,
        "start_time": "2022-04-25T10:47:08.225Z"
      },
      {
        "duration": 19,
        "start_time": "2022-04-25T10:47:10.345Z"
      },
      {
        "duration": 30,
        "start_time": "2022-04-25T10:47:20.808Z"
      },
      {
        "duration": 26,
        "start_time": "2022-04-25T10:47:31.370Z"
      },
      {
        "duration": 18,
        "start_time": "2022-04-25T10:47:33.484Z"
      },
      {
        "duration": 5,
        "start_time": "2022-04-25T10:47:53.821Z"
      },
      {
        "duration": 25,
        "start_time": "2022-04-25T10:47:55.740Z"
      },
      {
        "duration": 18,
        "start_time": "2022-04-25T10:47:57.696Z"
      },
      {
        "duration": 22,
        "start_time": "2022-04-25T10:47:59.622Z"
      },
      {
        "duration": 18,
        "start_time": "2022-04-25T10:48:02.071Z"
      },
      {
        "duration": 4,
        "start_time": "2022-04-25T10:48:41.146Z"
      },
      {
        "duration": 36,
        "start_time": "2022-04-25T10:48:42.772Z"
      },
      {
        "duration": 5,
        "start_time": "2022-04-25T10:52:27.254Z"
      },
      {
        "duration": 4,
        "start_time": "2022-04-25T10:53:30.374Z"
      },
      {
        "duration": 38,
        "start_time": "2022-04-25T10:53:34.090Z"
      },
      {
        "duration": 5,
        "start_time": "2022-04-25T10:55:22.449Z"
      },
      {
        "duration": 25,
        "start_time": "2022-04-25T10:55:24.993Z"
      },
      {
        "duration": 5,
        "start_time": "2022-04-25T10:56:15.390Z"
      },
      {
        "duration": 26,
        "start_time": "2022-04-25T10:56:17.695Z"
      },
      {
        "duration": 17,
        "start_time": "2022-04-25T10:56:33.773Z"
      },
      {
        "duration": 24,
        "start_time": "2022-04-25T10:56:35.999Z"
      },
      {
        "duration": 17,
        "start_time": "2022-04-25T10:56:37.836Z"
      },
      {
        "duration": 13,
        "start_time": "2022-04-25T10:57:25.238Z"
      },
      {
        "duration": 15,
        "start_time": "2022-04-25T10:58:12.448Z"
      },
      {
        "duration": 11,
        "start_time": "2022-04-25T10:58:13.574Z"
      },
      {
        "duration": 5,
        "start_time": "2022-04-25T10:58:15.363Z"
      },
      {
        "duration": 1534,
        "start_time": "2022-04-25T10:58:17.387Z"
      },
      {
        "duration": 12,
        "start_time": "2022-04-25T10:58:35.236Z"
      },
      {
        "duration": 10,
        "start_time": "2022-04-25T10:58:36.524Z"
      },
      {
        "duration": 4,
        "start_time": "2022-04-25T10:58:37.824Z"
      },
      {
        "duration": 25,
        "start_time": "2022-04-25T10:58:39.275Z"
      },
      {
        "duration": 4,
        "start_time": "2022-04-25T11:01:08.525Z"
      },
      {
        "duration": 30,
        "start_time": "2022-04-25T11:01:10.270Z"
      },
      {
        "duration": 6,
        "start_time": "2022-04-25T11:01:29.288Z"
      },
      {
        "duration": 4,
        "start_time": "2022-04-25T11:08:59.048Z"
      },
      {
        "duration": 24,
        "start_time": "2022-04-25T11:09:00.804Z"
      },
      {
        "duration": 5,
        "start_time": "2022-04-25T11:09:13.053Z"
      },
      {
        "duration": 19,
        "start_time": "2022-04-25T11:09:14.454Z"
      },
      {
        "duration": 14,
        "start_time": "2022-04-25T11:09:18.340Z"
      },
      {
        "duration": 23,
        "start_time": "2022-04-25T11:09:19.740Z"
      },
      {
        "duration": 13,
        "start_time": "2022-04-25T11:09:21.520Z"
      },
      {
        "duration": 10,
        "start_time": "2022-04-25T11:28:30.405Z"
      },
      {
        "duration": 7,
        "start_time": "2022-04-25T11:28:31.775Z"
      },
      {
        "duration": 6,
        "start_time": "2022-04-25T11:28:40.161Z"
      },
      {
        "duration": 7,
        "start_time": "2022-04-25T11:31:09.732Z"
      },
      {
        "duration": 5,
        "start_time": "2022-04-25T11:31:11.364Z"
      },
      {
        "duration": 417,
        "start_time": "2022-04-25T11:34:16.491Z"
      },
      {
        "duration": 152,
        "start_time": "2022-04-25T11:34:16.911Z"
      },
      {
        "duration": 31,
        "start_time": "2022-04-25T11:34:17.067Z"
      },
      {
        "duration": 32,
        "start_time": "2022-04-25T11:34:17.101Z"
      },
      {
        "duration": 4,
        "start_time": "2022-04-25T11:34:17.134Z"
      },
      {
        "duration": 13,
        "start_time": "2022-04-25T11:34:17.140Z"
      },
      {
        "duration": 40,
        "start_time": "2022-04-25T11:34:17.154Z"
      },
      {
        "duration": 59,
        "start_time": "2022-04-25T11:34:17.196Z"
      },
      {
        "duration": 21,
        "start_time": "2022-04-25T11:34:17.257Z"
      },
      {
        "duration": 26,
        "start_time": "2022-04-25T11:34:17.280Z"
      },
      {
        "duration": 72,
        "start_time": "2022-04-25T11:34:17.308Z"
      },
      {
        "duration": 78,
        "start_time": "2022-04-25T11:34:17.393Z"
      },
      {
        "duration": 73,
        "start_time": "2022-04-25T11:34:17.476Z"
      },
      {
        "duration": 10,
        "start_time": "2022-04-25T11:34:17.551Z"
      },
      {
        "duration": 3,
        "start_time": "2022-04-25T11:34:17.563Z"
      },
      {
        "duration": 11,
        "start_time": "2022-04-25T11:34:17.592Z"
      },
      {
        "duration": 15,
        "start_time": "2022-04-25T11:34:17.604Z"
      },
      {
        "duration": 79,
        "start_time": "2022-04-25T11:34:17.620Z"
      },
      {
        "duration": 92,
        "start_time": "2022-04-25T11:34:17.701Z"
      },
      {
        "duration": 4,
        "start_time": "2022-04-25T11:34:17.795Z"
      },
      {
        "duration": 37,
        "start_time": "2022-04-25T11:34:17.800Z"
      },
      {
        "duration": 17,
        "start_time": "2022-04-25T11:34:17.838Z"
      },
      {
        "duration": 20,
        "start_time": "2022-04-25T11:34:17.857Z"
      },
      {
        "duration": 30,
        "start_time": "2022-04-25T11:34:17.879Z"
      },
      {
        "duration": 23,
        "start_time": "2022-04-25T11:34:17.911Z"
      },
      {
        "duration": 18,
        "start_time": "2022-04-25T11:34:17.936Z"
      },
      {
        "duration": 36,
        "start_time": "2022-04-25T11:34:17.956Z"
      },
      {
        "duration": 11,
        "start_time": "2022-04-25T11:34:17.994Z"
      },
      {
        "duration": 11,
        "start_time": "2022-04-25T11:34:18.007Z"
      },
      {
        "duration": 8,
        "start_time": "2022-04-25T11:34:18.019Z"
      },
      {
        "duration": 23,
        "start_time": "2022-04-25T11:34:18.028Z"
      },
      {
        "duration": 42,
        "start_time": "2022-04-25T11:34:18.053Z"
      },
      {
        "duration": 25,
        "start_time": "2022-04-25T11:34:18.097Z"
      },
      {
        "duration": 15,
        "start_time": "2022-04-25T11:34:18.124Z"
      },
      {
        "duration": 14,
        "start_time": "2022-04-25T11:34:18.141Z"
      },
      {
        "duration": 36,
        "start_time": "2022-04-25T11:34:18.158Z"
      },
      {
        "duration": 8,
        "start_time": "2022-04-25T11:34:18.196Z"
      },
      {
        "duration": 6,
        "start_time": "2022-04-25T11:34:18.206Z"
      },
      {
        "duration": 456,
        "start_time": "2022-04-25T11:43:53.958Z"
      },
      {
        "duration": 172,
        "start_time": "2022-04-25T11:43:54.416Z"
      },
      {
        "duration": 18,
        "start_time": "2022-04-25T11:43:54.591Z"
      },
      {
        "duration": 33,
        "start_time": "2022-04-25T11:43:54.611Z"
      },
      {
        "duration": 4,
        "start_time": "2022-04-25T11:43:54.647Z"
      },
      {
        "duration": 42,
        "start_time": "2022-04-25T11:43:54.653Z"
      },
      {
        "duration": 12,
        "start_time": "2022-04-25T11:43:54.697Z"
      },
      {
        "duration": 29,
        "start_time": "2022-04-25T11:43:54.711Z"
      },
      {
        "duration": 19,
        "start_time": "2022-04-25T11:43:54.741Z"
      },
      {
        "duration": 39,
        "start_time": "2022-04-25T11:43:54.762Z"
      },
      {
        "duration": 71,
        "start_time": "2022-04-25T11:43:54.802Z"
      },
      {
        "duration": 80,
        "start_time": "2022-04-25T11:43:54.892Z"
      },
      {
        "duration": 71,
        "start_time": "2022-04-25T11:43:54.974Z"
      },
      {
        "duration": 11,
        "start_time": "2022-04-25T11:43:55.049Z"
      },
      {
        "duration": 3,
        "start_time": "2022-04-25T11:43:55.062Z"
      },
      {
        "duration": 33,
        "start_time": "2022-04-25T11:43:55.067Z"
      },
      {
        "duration": 10,
        "start_time": "2022-04-25T11:43:55.102Z"
      },
      {
        "duration": 61,
        "start_time": "2022-04-25T11:43:55.114Z"
      },
      {
        "duration": 87,
        "start_time": "2022-04-25T11:43:55.193Z"
      },
      {
        "duration": 4,
        "start_time": "2022-04-25T11:43:55.293Z"
      },
      {
        "duration": 31,
        "start_time": "2022-04-25T11:43:55.298Z"
      },
      {
        "duration": 18,
        "start_time": "2022-04-25T11:43:55.330Z"
      },
      {
        "duration": 24,
        "start_time": "2022-04-25T11:43:55.350Z"
      },
      {
        "duration": 31,
        "start_time": "2022-04-25T11:43:55.376Z"
      },
      {
        "duration": 22,
        "start_time": "2022-04-25T11:43:55.408Z"
      },
      {
        "duration": 19,
        "start_time": "2022-04-25T11:43:55.432Z"
      },
      {
        "duration": 40,
        "start_time": "2022-04-25T11:43:55.453Z"
      },
      {
        "duration": 13,
        "start_time": "2022-04-25T11:43:55.495Z"
      },
      {
        "duration": 10,
        "start_time": "2022-04-25T11:43:55.510Z"
      },
      {
        "duration": 7,
        "start_time": "2022-04-25T11:43:55.524Z"
      },
      {
        "duration": 27,
        "start_time": "2022-04-25T11:43:55.532Z"
      },
      {
        "duration": 13,
        "start_time": "2022-04-25T11:43:55.560Z"
      },
      {
        "duration": 19,
        "start_time": "2022-04-25T11:43:55.593Z"
      },
      {
        "duration": 13,
        "start_time": "2022-04-25T11:43:55.614Z"
      },
      {
        "duration": 11,
        "start_time": "2022-04-25T11:43:55.629Z"
      },
      {
        "duration": 8,
        "start_time": "2022-04-25T11:43:55.641Z"
      },
      {
        "duration": 12,
        "start_time": "2022-04-25T11:43:55.651Z"
      },
      {
        "duration": 7,
        "start_time": "2022-04-25T11:43:55.693Z"
      },
      {
        "duration": 401,
        "start_time": "2022-04-25T11:47:29.421Z"
      },
      {
        "duration": 164,
        "start_time": "2022-04-25T11:47:29.824Z"
      },
      {
        "duration": 21,
        "start_time": "2022-04-25T11:47:29.990Z"
      },
      {
        "duration": 35,
        "start_time": "2022-04-25T11:47:30.013Z"
      },
      {
        "duration": 11,
        "start_time": "2022-04-25T11:47:30.050Z"
      },
      {
        "duration": 40,
        "start_time": "2022-04-25T11:47:30.063Z"
      },
      {
        "duration": 14,
        "start_time": "2022-04-25T11:47:30.106Z"
      },
      {
        "duration": 34,
        "start_time": "2022-04-25T11:47:30.122Z"
      },
      {
        "duration": 22,
        "start_time": "2022-04-25T11:47:30.158Z"
      },
      {
        "duration": 30,
        "start_time": "2022-04-25T11:47:30.184Z"
      },
      {
        "duration": 78,
        "start_time": "2022-04-25T11:47:30.215Z"
      },
      {
        "duration": 80,
        "start_time": "2022-04-25T11:47:30.294Z"
      },
      {
        "duration": 70,
        "start_time": "2022-04-25T11:47:30.375Z"
      },
      {
        "duration": 11,
        "start_time": "2022-04-25T11:47:30.447Z"
      },
      {
        "duration": 16,
        "start_time": "2022-04-25T11:47:30.460Z"
      },
      {
        "duration": 33,
        "start_time": "2022-04-25T11:47:30.478Z"
      },
      {
        "duration": 36,
        "start_time": "2022-04-25T11:47:30.513Z"
      },
      {
        "duration": 76,
        "start_time": "2022-04-25T11:47:30.550Z"
      },
      {
        "duration": 91,
        "start_time": "2022-04-25T11:47:30.628Z"
      },
      {
        "duration": 4,
        "start_time": "2022-04-25T11:47:30.720Z"
      },
      {
        "duration": 52,
        "start_time": "2022-04-25T11:47:30.726Z"
      },
      {
        "duration": 26,
        "start_time": "2022-04-25T11:47:30.780Z"
      },
      {
        "duration": 50,
        "start_time": "2022-04-25T11:47:30.807Z"
      },
      {
        "duration": 40,
        "start_time": "2022-04-25T11:47:30.859Z"
      },
      {
        "duration": 48,
        "start_time": "2022-04-25T11:47:30.901Z"
      },
      {
        "duration": 19,
        "start_time": "2022-04-25T11:47:30.950Z"
      },
      {
        "duration": 12,
        "start_time": "2022-04-25T11:47:30.972Z"
      },
      {
        "duration": 28,
        "start_time": "2022-04-25T11:47:30.989Z"
      },
      {
        "duration": 17,
        "start_time": "2022-04-25T11:47:31.019Z"
      },
      {
        "duration": 11,
        "start_time": "2022-04-25T11:47:31.038Z"
      },
      {
        "duration": 47,
        "start_time": "2022-04-25T11:47:31.051Z"
      },
      {
        "duration": 27,
        "start_time": "2022-04-25T11:47:31.100Z"
      },
      {
        "duration": 26,
        "start_time": "2022-04-25T11:47:31.129Z"
      },
      {
        "duration": 28,
        "start_time": "2022-04-25T11:47:31.158Z"
      },
      {
        "duration": 28,
        "start_time": "2022-04-25T11:47:31.188Z"
      },
      {
        "duration": 21,
        "start_time": "2022-04-25T11:47:31.218Z"
      },
      {
        "duration": 28,
        "start_time": "2022-04-25T11:47:31.241Z"
      },
      {
        "duration": 25,
        "start_time": "2022-04-25T11:47:31.271Z"
      },
      {
        "duration": 412,
        "start_time": "2022-05-01T07:06:59.273Z"
      },
      {
        "duration": 157,
        "start_time": "2022-05-01T07:06:59.687Z"
      },
      {
        "duration": 18,
        "start_time": "2022-05-01T07:06:59.846Z"
      },
      {
        "duration": 48,
        "start_time": "2022-05-01T07:06:59.867Z"
      },
      {
        "duration": 4,
        "start_time": "2022-05-01T07:06:59.917Z"
      },
      {
        "duration": 14,
        "start_time": "2022-05-01T07:06:59.923Z"
      },
      {
        "duration": 5,
        "start_time": "2022-05-01T07:06:59.939Z"
      },
      {
        "duration": 67,
        "start_time": "2022-05-01T07:06:59.946Z"
      },
      {
        "duration": 24,
        "start_time": "2022-05-01T07:07:00.015Z"
      },
      {
        "duration": 28,
        "start_time": "2022-05-01T07:07:00.042Z"
      },
      {
        "duration": 96,
        "start_time": "2022-05-01T07:07:00.071Z"
      },
      {
        "duration": 95,
        "start_time": "2022-05-01T07:07:00.168Z"
      },
      {
        "duration": 76,
        "start_time": "2022-05-01T07:07:00.265Z"
      },
      {
        "duration": 10,
        "start_time": "2022-05-01T07:07:00.343Z"
      },
      {
        "duration": 9,
        "start_time": "2022-05-01T07:07:00.354Z"
      },
      {
        "duration": 11,
        "start_time": "2022-05-01T07:07:00.364Z"
      },
      {
        "duration": 25,
        "start_time": "2022-05-01T07:07:00.376Z"
      },
      {
        "duration": 57,
        "start_time": "2022-05-01T07:07:00.403Z"
      },
      {
        "duration": 112,
        "start_time": "2022-05-01T07:07:00.461Z"
      },
      {
        "duration": 4,
        "start_time": "2022-05-01T07:07:00.574Z"
      },
      {
        "duration": 51,
        "start_time": "2022-05-01T07:07:00.579Z"
      },
      {
        "duration": 16,
        "start_time": "2022-05-01T07:07:00.632Z"
      },
      {
        "duration": 21,
        "start_time": "2022-05-01T07:07:00.649Z"
      },
      {
        "duration": 20,
        "start_time": "2022-05-01T07:07:00.672Z"
      },
      {
        "duration": 29,
        "start_time": "2022-05-01T07:07:00.698Z"
      },
      {
        "duration": 32,
        "start_time": "2022-05-01T07:07:00.729Z"
      },
      {
        "duration": 8,
        "start_time": "2022-05-01T07:07:00.763Z"
      },
      {
        "duration": 28,
        "start_time": "2022-05-01T07:07:00.776Z"
      },
      {
        "duration": 31,
        "start_time": "2022-05-01T07:07:00.806Z"
      },
      {
        "duration": 6,
        "start_time": "2022-05-01T07:07:00.839Z"
      },
      {
        "duration": 77,
        "start_time": "2022-05-01T07:07:00.847Z"
      },
      {
        "duration": 11,
        "start_time": "2022-05-01T07:07:00.926Z"
      },
      {
        "duration": 21,
        "start_time": "2022-05-01T07:07:00.939Z"
      },
      {
        "duration": 13,
        "start_time": "2022-05-01T07:07:00.962Z"
      },
      {
        "duration": 14,
        "start_time": "2022-05-01T07:07:00.977Z"
      },
      {
        "duration": 15,
        "start_time": "2022-05-01T07:07:00.994Z"
      },
      {
        "duration": 12,
        "start_time": "2022-05-01T07:07:01.011Z"
      },
      {
        "duration": 16,
        "start_time": "2022-05-01T07:07:01.025Z"
      },
      {
        "duration": 459,
        "start_time": "2022-05-01T07:27:46.387Z"
      },
      {
        "duration": 169,
        "start_time": "2022-05-01T07:27:46.848Z"
      },
      {
        "duration": 20,
        "start_time": "2022-05-01T07:27:47.019Z"
      },
      {
        "duration": 44,
        "start_time": "2022-05-01T07:27:47.041Z"
      },
      {
        "duration": 5,
        "start_time": "2022-05-01T07:27:47.087Z"
      },
      {
        "duration": 23,
        "start_time": "2022-05-01T07:27:47.093Z"
      },
      {
        "duration": 4,
        "start_time": "2022-05-01T07:27:47.118Z"
      },
      {
        "duration": 32,
        "start_time": "2022-05-01T07:27:47.124Z"
      },
      {
        "duration": 21,
        "start_time": "2022-05-01T07:27:47.158Z"
      },
      {
        "duration": 51,
        "start_time": "2022-05-01T07:27:47.181Z"
      },
      {
        "duration": 84,
        "start_time": "2022-05-01T07:27:47.234Z"
      },
      {
        "duration": 91,
        "start_time": "2022-05-01T07:27:47.320Z"
      },
      {
        "duration": 63,
        "start_time": "2022-05-01T07:27:47.413Z"
      },
      {
        "duration": 28,
        "start_time": "2022-05-01T07:27:47.480Z"
      },
      {
        "duration": 4,
        "start_time": "2022-05-01T07:27:47.509Z"
      },
      {
        "duration": 13,
        "start_time": "2022-05-01T07:27:47.514Z"
      },
      {
        "duration": 11,
        "start_time": "2022-05-01T07:27:47.529Z"
      },
      {
        "duration": 80,
        "start_time": "2022-05-01T07:27:47.542Z"
      },
      {
        "duration": 93,
        "start_time": "2022-05-01T07:27:47.624Z"
      },
      {
        "duration": 4,
        "start_time": "2022-05-01T07:27:47.719Z"
      },
      {
        "duration": 29,
        "start_time": "2022-05-01T07:27:47.725Z"
      },
      {
        "duration": 18,
        "start_time": "2022-05-01T07:27:47.756Z"
      },
      {
        "duration": 41,
        "start_time": "2022-05-01T07:27:47.775Z"
      },
      {
        "duration": 21,
        "start_time": "2022-05-01T07:27:47.817Z"
      },
      {
        "duration": 25,
        "start_time": "2022-05-01T07:27:47.840Z"
      },
      {
        "duration": 49,
        "start_time": "2022-05-01T07:27:47.867Z"
      },
      {
        "duration": 9,
        "start_time": "2022-05-01T07:27:47.918Z"
      },
      {
        "duration": 14,
        "start_time": "2022-05-01T07:27:47.929Z"
      },
      {
        "duration": 10,
        "start_time": "2022-05-01T07:27:47.944Z"
      },
      {
        "duration": 4,
        "start_time": "2022-05-01T07:27:47.956Z"
      },
      {
        "duration": 48,
        "start_time": "2022-05-01T07:27:47.961Z"
      },
      {
        "duration": 14,
        "start_time": "2022-05-01T07:27:48.010Z"
      },
      {
        "duration": 17,
        "start_time": "2022-05-01T07:27:48.025Z"
      },
      {
        "duration": 12,
        "start_time": "2022-05-01T07:27:48.044Z"
      },
      {
        "duration": 10,
        "start_time": "2022-05-01T07:27:48.057Z"
      },
      {
        "duration": 5,
        "start_time": "2022-05-01T07:27:48.069Z"
      },
      {
        "duration": 7,
        "start_time": "2022-05-01T07:27:48.108Z"
      },
      {
        "duration": 6,
        "start_time": "2022-05-01T07:27:48.117Z"
      },
      {
        "duration": 43,
        "start_time": "2022-05-01T07:29:04.387Z"
      },
      {
        "duration": 56,
        "start_time": "2022-05-01T07:29:33.612Z"
      },
      {
        "duration": 9,
        "start_time": "2022-05-01T07:34:02.311Z"
      },
      {
        "duration": 63,
        "start_time": "2022-05-01T07:40:27.895Z"
      },
      {
        "duration": 10,
        "start_time": "2022-05-01T07:41:44.838Z"
      },
      {
        "duration": 66,
        "start_time": "2022-05-01T07:53:25.976Z"
      },
      {
        "duration": 411,
        "start_time": "2022-05-01T07:53:36.520Z"
      },
      {
        "duration": 158,
        "start_time": "2022-05-01T07:53:36.933Z"
      },
      {
        "duration": 22,
        "start_time": "2022-05-01T07:53:37.093Z"
      },
      {
        "duration": 32,
        "start_time": "2022-05-01T07:53:37.116Z"
      },
      {
        "duration": 4,
        "start_time": "2022-05-01T07:53:37.150Z"
      },
      {
        "duration": 12,
        "start_time": "2022-05-01T07:53:37.156Z"
      },
      {
        "duration": 9,
        "start_time": "2022-05-01T07:53:37.169Z"
      },
      {
        "duration": 52,
        "start_time": "2022-05-01T07:53:37.179Z"
      },
      {
        "duration": 19,
        "start_time": "2022-05-01T07:53:37.233Z"
      },
      {
        "duration": 25,
        "start_time": "2022-05-01T07:53:37.254Z"
      },
      {
        "duration": 88,
        "start_time": "2022-05-01T07:53:37.281Z"
      },
      {
        "duration": 89,
        "start_time": "2022-05-01T07:53:37.371Z"
      },
      {
        "duration": 69,
        "start_time": "2022-05-01T07:53:37.462Z"
      },
      {
        "duration": 10,
        "start_time": "2022-05-01T07:53:37.535Z"
      },
      {
        "duration": 3,
        "start_time": "2022-05-01T07:53:37.547Z"
      },
      {
        "duration": 84,
        "start_time": "2022-05-01T07:53:37.551Z"
      },
      {
        "duration": 0,
        "start_time": "2022-05-01T07:53:37.637Z"
      },
      {
        "duration": 0,
        "start_time": "2022-05-01T07:53:37.638Z"
      },
      {
        "duration": 0,
        "start_time": "2022-05-01T07:53:37.640Z"
      },
      {
        "duration": 0,
        "start_time": "2022-05-01T07:53:37.640Z"
      },
      {
        "duration": 0,
        "start_time": "2022-05-01T07:53:37.641Z"
      },
      {
        "duration": 0,
        "start_time": "2022-05-01T07:53:37.642Z"
      },
      {
        "duration": 0,
        "start_time": "2022-05-01T07:53:37.643Z"
      },
      {
        "duration": 0,
        "start_time": "2022-05-01T07:53:37.644Z"
      },
      {
        "duration": 0,
        "start_time": "2022-05-01T07:53:37.645Z"
      },
      {
        "duration": 0,
        "start_time": "2022-05-01T07:53:37.646Z"
      },
      {
        "duration": 0,
        "start_time": "2022-05-01T07:53:37.647Z"
      },
      {
        "duration": 0,
        "start_time": "2022-05-01T07:53:37.648Z"
      },
      {
        "duration": 0,
        "start_time": "2022-05-01T07:53:37.649Z"
      },
      {
        "duration": 0,
        "start_time": "2022-05-01T07:53:37.650Z"
      },
      {
        "duration": 0,
        "start_time": "2022-05-01T07:53:37.651Z"
      },
      {
        "duration": 0,
        "start_time": "2022-05-01T07:53:37.652Z"
      },
      {
        "duration": 0,
        "start_time": "2022-05-01T07:53:37.653Z"
      },
      {
        "duration": 0,
        "start_time": "2022-05-01T07:53:37.654Z"
      },
      {
        "duration": 0,
        "start_time": "2022-05-01T07:53:37.655Z"
      },
      {
        "duration": 0,
        "start_time": "2022-05-01T07:53:37.656Z"
      },
      {
        "duration": 0,
        "start_time": "2022-05-01T07:53:37.657Z"
      },
      {
        "duration": 0,
        "start_time": "2022-05-01T07:53:37.658Z"
      },
      {
        "duration": 6,
        "start_time": "2022-05-01T07:54:40.148Z"
      },
      {
        "duration": 394,
        "start_time": "2022-05-01T07:54:56.232Z"
      },
      {
        "duration": 152,
        "start_time": "2022-05-01T07:54:56.627Z"
      },
      {
        "duration": 27,
        "start_time": "2022-05-01T07:54:56.781Z"
      },
      {
        "duration": 33,
        "start_time": "2022-05-01T07:54:56.811Z"
      },
      {
        "duration": 4,
        "start_time": "2022-05-01T07:54:56.845Z"
      },
      {
        "duration": 12,
        "start_time": "2022-05-01T07:54:56.851Z"
      },
      {
        "duration": 6,
        "start_time": "2022-05-01T07:54:56.865Z"
      },
      {
        "duration": 56,
        "start_time": "2022-05-01T07:54:56.873Z"
      },
      {
        "duration": 19,
        "start_time": "2022-05-01T07:54:56.931Z"
      },
      {
        "duration": 27,
        "start_time": "2022-05-01T07:54:56.953Z"
      },
      {
        "duration": 88,
        "start_time": "2022-05-01T07:54:56.981Z"
      },
      {
        "duration": 87,
        "start_time": "2022-05-01T07:54:57.071Z"
      },
      {
        "duration": 69,
        "start_time": "2022-05-01T07:54:57.160Z"
      },
      {
        "duration": 10,
        "start_time": "2022-05-01T07:54:57.231Z"
      },
      {
        "duration": 5,
        "start_time": "2022-05-01T07:54:57.243Z"
      },
      {
        "duration": 80,
        "start_time": "2022-05-01T07:54:57.249Z"
      },
      {
        "duration": 0,
        "start_time": "2022-05-01T07:54:57.331Z"
      },
      {
        "duration": 0,
        "start_time": "2022-05-01T07:54:57.332Z"
      },
      {
        "duration": 0,
        "start_time": "2022-05-01T07:54:57.333Z"
      },
      {
        "duration": 0,
        "start_time": "2022-05-01T07:54:57.334Z"
      },
      {
        "duration": 0,
        "start_time": "2022-05-01T07:54:57.335Z"
      },
      {
        "duration": 1,
        "start_time": "2022-05-01T07:54:57.336Z"
      },
      {
        "duration": 0,
        "start_time": "2022-05-01T07:54:57.338Z"
      },
      {
        "duration": 0,
        "start_time": "2022-05-01T07:54:57.338Z"
      },
      {
        "duration": 0,
        "start_time": "2022-05-01T07:54:57.339Z"
      },
      {
        "duration": 0,
        "start_time": "2022-05-01T07:54:57.340Z"
      },
      {
        "duration": 0,
        "start_time": "2022-05-01T07:54:57.341Z"
      },
      {
        "duration": 0,
        "start_time": "2022-05-01T07:54:57.342Z"
      },
      {
        "duration": 0,
        "start_time": "2022-05-01T07:54:57.343Z"
      },
      {
        "duration": 0,
        "start_time": "2022-05-01T07:54:57.344Z"
      },
      {
        "duration": 0,
        "start_time": "2022-05-01T07:54:57.345Z"
      },
      {
        "duration": 0,
        "start_time": "2022-05-01T07:54:57.346Z"
      },
      {
        "duration": 0,
        "start_time": "2022-05-01T07:54:57.347Z"
      },
      {
        "duration": 0,
        "start_time": "2022-05-01T07:54:57.348Z"
      },
      {
        "duration": 0,
        "start_time": "2022-05-01T07:54:57.349Z"
      },
      {
        "duration": 0,
        "start_time": "2022-05-01T07:54:57.349Z"
      },
      {
        "duration": 0,
        "start_time": "2022-05-01T07:54:57.351Z"
      },
      {
        "duration": 0,
        "start_time": "2022-05-01T07:54:57.351Z"
      },
      {
        "duration": 11,
        "start_time": "2022-05-01T07:57:13.988Z"
      },
      {
        "duration": 11,
        "start_time": "2022-05-01T07:57:23.629Z"
      },
      {
        "duration": 8,
        "start_time": "2022-05-01T07:57:47.562Z"
      },
      {
        "duration": 10,
        "start_time": "2022-05-01T07:57:51.642Z"
      },
      {
        "duration": 4,
        "start_time": "2022-05-01T08:01:01.375Z"
      },
      {
        "duration": 8,
        "start_time": "2022-05-01T08:01:06.459Z"
      },
      {
        "duration": 423,
        "start_time": "2022-05-01T08:01:23.714Z"
      },
      {
        "duration": 163,
        "start_time": "2022-05-01T08:01:24.139Z"
      },
      {
        "duration": 20,
        "start_time": "2022-05-01T08:01:24.304Z"
      },
      {
        "duration": 43,
        "start_time": "2022-05-01T08:01:24.325Z"
      },
      {
        "duration": 4,
        "start_time": "2022-05-01T08:01:24.370Z"
      },
      {
        "duration": 16,
        "start_time": "2022-05-01T08:01:24.375Z"
      },
      {
        "duration": 4,
        "start_time": "2022-05-01T08:01:24.407Z"
      },
      {
        "duration": 27,
        "start_time": "2022-05-01T08:01:24.413Z"
      },
      {
        "duration": 18,
        "start_time": "2022-05-01T08:01:24.441Z"
      },
      {
        "duration": 47,
        "start_time": "2022-05-01T08:01:24.461Z"
      },
      {
        "duration": 66,
        "start_time": "2022-05-01T08:01:24.510Z"
      },
      {
        "duration": 98,
        "start_time": "2022-05-01T08:01:24.578Z"
      },
      {
        "duration": 66,
        "start_time": "2022-05-01T08:01:24.678Z"
      },
      {
        "duration": 10,
        "start_time": "2022-05-01T08:01:24.748Z"
      },
      {
        "duration": 2,
        "start_time": "2022-05-01T08:01:24.760Z"
      },
      {
        "duration": 11,
        "start_time": "2022-05-01T08:01:24.764Z"
      },
      {
        "duration": 32,
        "start_time": "2022-05-01T08:01:24.776Z"
      },
      {
        "duration": 56,
        "start_time": "2022-05-01T08:01:24.810Z"
      },
      {
        "duration": 97,
        "start_time": "2022-05-01T08:01:24.868Z"
      },
      {
        "duration": 3,
        "start_time": "2022-05-01T08:01:24.967Z"
      },
      {
        "duration": 36,
        "start_time": "2022-05-01T08:01:24.972Z"
      },
      {
        "duration": 18,
        "start_time": "2022-05-01T08:01:25.009Z"
      },
      {
        "duration": 19,
        "start_time": "2022-05-01T08:01:25.029Z"
      },
      {
        "duration": 17,
        "start_time": "2022-05-01T08:01:25.049Z"
      },
      {
        "duration": 52,
        "start_time": "2022-05-01T08:01:25.068Z"
      },
      {
        "duration": 17,
        "start_time": "2022-05-01T08:01:25.121Z"
      },
      {
        "duration": 8,
        "start_time": "2022-05-01T08:01:25.140Z"
      },
      {
        "duration": 12,
        "start_time": "2022-05-01T08:01:25.150Z"
      },
      {
        "duration": 8,
        "start_time": "2022-05-01T08:01:25.164Z"
      },
      {
        "duration": 4,
        "start_time": "2022-05-01T08:01:25.174Z"
      },
      {
        "duration": 17,
        "start_time": "2022-05-01T08:01:25.207Z"
      },
      {
        "duration": 11,
        "start_time": "2022-05-01T08:01:25.226Z"
      },
      {
        "duration": 16,
        "start_time": "2022-05-01T08:01:25.238Z"
      },
      {
        "duration": 11,
        "start_time": "2022-05-01T08:01:25.255Z"
      },
      {
        "duration": 42,
        "start_time": "2022-05-01T08:01:25.268Z"
      },
      {
        "duration": 5,
        "start_time": "2022-05-01T08:01:25.312Z"
      },
      {
        "duration": 13,
        "start_time": "2022-05-01T08:01:25.318Z"
      },
      {
        "duration": 8,
        "start_time": "2022-05-01T08:01:25.332Z"
      },
      {
        "duration": 18,
        "start_time": "2022-05-01T08:03:47.919Z"
      },
      {
        "duration": 428,
        "start_time": "2022-05-01T08:06:40.707Z"
      },
      {
        "duration": 151,
        "start_time": "2022-05-01T08:06:41.137Z"
      },
      {
        "duration": 25,
        "start_time": "2022-05-01T08:06:41.292Z"
      },
      {
        "duration": 30,
        "start_time": "2022-05-01T08:06:41.319Z"
      },
      {
        "duration": 4,
        "start_time": "2022-05-01T08:06:41.351Z"
      },
      {
        "duration": 12,
        "start_time": "2022-05-01T08:06:41.357Z"
      },
      {
        "duration": 5,
        "start_time": "2022-05-01T08:06:41.371Z"
      },
      {
        "duration": 52,
        "start_time": "2022-05-01T08:06:41.378Z"
      },
      {
        "duration": 18,
        "start_time": "2022-05-01T08:06:41.432Z"
      },
      {
        "duration": 27,
        "start_time": "2022-05-01T08:06:41.452Z"
      },
      {
        "duration": 91,
        "start_time": "2022-05-01T08:06:41.481Z"
      },
      {
        "duration": 91,
        "start_time": "2022-05-01T08:06:41.574Z"
      },
      {
        "duration": 70,
        "start_time": "2022-05-01T08:06:41.668Z"
      },
      {
        "duration": 11,
        "start_time": "2022-05-01T08:06:41.739Z"
      },
      {
        "duration": 3,
        "start_time": "2022-05-01T08:06:41.752Z"
      },
      {
        "duration": 11,
        "start_time": "2022-05-01T08:06:41.757Z"
      },
      {
        "duration": 11,
        "start_time": "2022-05-01T08:06:41.769Z"
      },
      {
        "duration": 57,
        "start_time": "2022-05-01T08:06:41.808Z"
      },
      {
        "duration": 100,
        "start_time": "2022-05-01T08:06:41.867Z"
      },
      {
        "duration": 5,
        "start_time": "2022-05-01T08:06:41.969Z"
      },
      {
        "duration": 35,
        "start_time": "2022-05-01T08:06:41.976Z"
      },
      {
        "duration": 19,
        "start_time": "2022-05-01T08:06:42.013Z"
      },
      {
        "duration": 21,
        "start_time": "2022-05-01T08:06:42.034Z"
      },
      {
        "duration": 20,
        "start_time": "2022-05-01T08:06:42.057Z"
      },
      {
        "duration": 27,
        "start_time": "2022-05-01T08:06:42.108Z"
      },
      {
        "duration": 21,
        "start_time": "2022-05-01T08:06:42.137Z"
      },
      {
        "duration": 9,
        "start_time": "2022-05-01T08:06:42.160Z"
      },
      {
        "duration": 46,
        "start_time": "2022-05-01T08:06:42.171Z"
      },
      {
        "duration": 11,
        "start_time": "2022-05-01T08:06:42.219Z"
      },
      {
        "duration": 4,
        "start_time": "2022-05-01T08:06:42.232Z"
      },
      {
        "duration": 20,
        "start_time": "2022-05-01T08:06:42.238Z"
      },
      {
        "duration": 13,
        "start_time": "2022-05-01T08:06:42.260Z"
      },
      {
        "duration": 18,
        "start_time": "2022-05-01T08:06:42.307Z"
      },
      {
        "duration": 12,
        "start_time": "2022-05-01T08:06:42.327Z"
      },
      {
        "duration": 9,
        "start_time": "2022-05-01T08:06:42.341Z"
      },
      {
        "duration": 5,
        "start_time": "2022-05-01T08:06:42.352Z"
      },
      {
        "duration": 7,
        "start_time": "2022-05-01T08:06:42.358Z"
      },
      {
        "duration": 42,
        "start_time": "2022-05-01T08:06:42.367Z"
      },
      {
        "duration": 419,
        "start_time": "2022-11-17T12:47:14.529Z"
      },
      {
        "duration": 501,
        "start_time": "2022-11-17T12:47:14.950Z"
      },
      {
        "duration": 19,
        "start_time": "2022-11-17T12:47:15.453Z"
      },
      {
        "duration": 33,
        "start_time": "2022-11-17T12:47:15.474Z"
      },
      {
        "duration": 5,
        "start_time": "2022-11-17T12:47:15.509Z"
      },
      {
        "duration": 19,
        "start_time": "2022-11-17T12:47:15.516Z"
      },
      {
        "duration": 12,
        "start_time": "2022-11-17T12:47:15.538Z"
      },
      {
        "duration": 47,
        "start_time": "2022-11-17T12:47:15.551Z"
      },
      {
        "duration": 20,
        "start_time": "2022-11-17T12:47:15.600Z"
      },
      {
        "duration": 30,
        "start_time": "2022-11-17T12:47:15.622Z"
      },
      {
        "duration": 101,
        "start_time": "2022-11-17T12:47:15.654Z"
      },
      {
        "duration": 124,
        "start_time": "2022-11-17T12:47:15.759Z"
      },
      {
        "duration": 91,
        "start_time": "2022-11-17T12:47:15.885Z"
      },
      {
        "duration": 25,
        "start_time": "2022-11-17T12:47:15.982Z"
      },
      {
        "duration": 7,
        "start_time": "2022-11-17T12:47:16.009Z"
      },
      {
        "duration": 19,
        "start_time": "2022-11-17T12:47:16.019Z"
      },
      {
        "duration": 14,
        "start_time": "2022-11-17T12:47:16.040Z"
      },
      {
        "duration": 112,
        "start_time": "2022-11-17T12:47:16.056Z"
      },
      {
        "duration": 137,
        "start_time": "2022-11-17T12:47:16.171Z"
      },
      {
        "duration": 5,
        "start_time": "2022-11-17T12:47:16.310Z"
      },
      {
        "duration": 66,
        "start_time": "2022-11-17T12:47:16.318Z"
      },
      {
        "duration": 35,
        "start_time": "2022-11-17T12:47:16.387Z"
      },
      {
        "duration": 30,
        "start_time": "2022-11-17T12:47:16.425Z"
      },
      {
        "duration": 43,
        "start_time": "2022-11-17T12:47:16.457Z"
      },
      {
        "duration": 33,
        "start_time": "2022-11-17T12:47:16.503Z"
      },
      {
        "duration": 39,
        "start_time": "2022-11-17T12:47:16.538Z"
      },
      {
        "duration": 25,
        "start_time": "2022-11-17T12:47:16.579Z"
      },
      {
        "duration": 19,
        "start_time": "2022-11-17T12:47:16.606Z"
      },
      {
        "duration": 13,
        "start_time": "2022-11-17T12:47:16.627Z"
      },
      {
        "duration": 10,
        "start_time": "2022-11-17T12:47:16.642Z"
      },
      {
        "duration": 24,
        "start_time": "2022-11-17T12:47:16.654Z"
      },
      {
        "duration": 16,
        "start_time": "2022-11-17T12:47:16.697Z"
      },
      {
        "duration": 23,
        "start_time": "2022-11-17T12:47:16.715Z"
      },
      {
        "duration": 15,
        "start_time": "2022-11-17T12:47:16.740Z"
      },
      {
        "duration": 39,
        "start_time": "2022-11-17T12:47:16.757Z"
      },
      {
        "duration": 6,
        "start_time": "2022-11-17T12:47:16.799Z"
      },
      {
        "duration": 13,
        "start_time": "2022-11-17T12:47:16.807Z"
      },
      {
        "duration": 7,
        "start_time": "2022-11-17T12:47:16.822Z"
      },
      {
        "duration": 37,
        "start_time": "2022-11-17T12:47:30.958Z"
      },
      {
        "duration": 37,
        "start_time": "2022-11-17T12:48:00.924Z"
      },
      {
        "duration": 398,
        "start_time": "2022-11-17T12:48:08.014Z"
      },
      {
        "duration": 166,
        "start_time": "2022-11-17T12:48:08.414Z"
      },
      {
        "duration": 23,
        "start_time": "2022-11-17T12:48:08.582Z"
      },
      {
        "duration": 28,
        "start_time": "2022-11-17T12:48:08.607Z"
      },
      {
        "duration": 17,
        "start_time": "2022-11-17T12:48:08.636Z"
      },
      {
        "duration": 29,
        "start_time": "2022-11-17T12:48:08.655Z"
      },
      {
        "duration": 15,
        "start_time": "2022-11-17T12:48:08.686Z"
      },
      {
        "duration": 34,
        "start_time": "2022-11-17T12:48:08.703Z"
      },
      {
        "duration": 31,
        "start_time": "2022-11-17T12:48:08.738Z"
      },
      {
        "duration": 23,
        "start_time": "2022-11-17T12:48:08.772Z"
      },
      {
        "duration": 77,
        "start_time": "2022-11-17T12:48:08.797Z"
      },
      {
        "duration": 81,
        "start_time": "2022-11-17T12:48:08.876Z"
      },
      {
        "duration": 68,
        "start_time": "2022-11-17T12:48:08.958Z"
      },
      {
        "duration": 37,
        "start_time": "2022-11-17T12:48:09.027Z"
      },
      {
        "duration": 13,
        "start_time": "2022-11-17T12:48:09.066Z"
      },
      {
        "duration": 39,
        "start_time": "2022-11-17T12:48:09.080Z"
      },
      {
        "duration": 48,
        "start_time": "2022-11-17T12:48:09.121Z"
      },
      {
        "duration": 55,
        "start_time": "2022-11-17T12:48:09.171Z"
      },
      {
        "duration": 87,
        "start_time": "2022-11-17T12:48:09.227Z"
      },
      {
        "duration": 5,
        "start_time": "2022-11-17T12:48:09.316Z"
      },
      {
        "duration": 46,
        "start_time": "2022-11-17T12:48:09.322Z"
      },
      {
        "duration": 18,
        "start_time": "2022-11-17T12:48:09.370Z"
      },
      {
        "duration": 27,
        "start_time": "2022-11-17T12:48:09.389Z"
      },
      {
        "duration": 26,
        "start_time": "2022-11-17T12:48:09.419Z"
      },
      {
        "duration": 21,
        "start_time": "2022-11-17T12:48:09.447Z"
      },
      {
        "duration": 31,
        "start_time": "2022-11-17T12:48:09.470Z"
      },
      {
        "duration": 9,
        "start_time": "2022-11-17T12:48:09.503Z"
      },
      {
        "duration": 29,
        "start_time": "2022-11-17T12:48:09.514Z"
      },
      {
        "duration": 33,
        "start_time": "2022-11-17T12:48:09.545Z"
      },
      {
        "duration": 22,
        "start_time": "2022-11-17T12:48:09.580Z"
      },
      {
        "duration": 34,
        "start_time": "2022-11-17T12:48:09.604Z"
      },
      {
        "duration": 26,
        "start_time": "2022-11-17T12:48:09.639Z"
      },
      {
        "duration": 35,
        "start_time": "2022-11-17T12:48:09.667Z"
      },
      {
        "duration": 23,
        "start_time": "2022-11-17T12:48:09.704Z"
      },
      {
        "duration": 16,
        "start_time": "2022-11-17T12:48:09.729Z"
      },
      {
        "duration": 21,
        "start_time": "2022-11-17T12:48:09.747Z"
      },
      {
        "duration": 19,
        "start_time": "2022-11-17T12:48:09.770Z"
      },
      {
        "duration": 22,
        "start_time": "2022-11-17T12:48:09.791Z"
      },
      {
        "duration": 422,
        "start_time": "2022-11-17T12:50:35.072Z"
      },
      {
        "duration": 165,
        "start_time": "2022-11-17T12:50:35.497Z"
      },
      {
        "duration": 18,
        "start_time": "2022-11-17T12:50:35.663Z"
      },
      {
        "duration": 37,
        "start_time": "2022-11-17T12:50:35.683Z"
      },
      {
        "duration": 4,
        "start_time": "2022-11-17T12:50:35.722Z"
      },
      {
        "duration": 14,
        "start_time": "2022-11-17T12:50:35.727Z"
      },
      {
        "duration": 8,
        "start_time": "2022-11-17T12:50:35.742Z"
      },
      {
        "duration": 47,
        "start_time": "2022-11-17T12:50:35.752Z"
      },
      {
        "duration": 22,
        "start_time": "2022-11-17T12:50:35.801Z"
      },
      {
        "duration": 22,
        "start_time": "2022-11-17T12:50:35.825Z"
      },
      {
        "duration": 85,
        "start_time": "2022-11-17T12:50:35.849Z"
      },
      {
        "duration": 92,
        "start_time": "2022-11-17T12:50:35.937Z"
      },
      {
        "duration": 56,
        "start_time": "2022-11-17T12:50:36.031Z"
      },
      {
        "duration": 36,
        "start_time": "2022-11-17T12:50:36.098Z"
      },
      {
        "duration": 3,
        "start_time": "2022-11-17T12:50:36.136Z"
      },
      {
        "duration": 13,
        "start_time": "2022-11-17T12:50:36.140Z"
      },
      {
        "duration": 56,
        "start_time": "2022-11-17T12:50:36.154Z"
      },
      {
        "duration": 49,
        "start_time": "2022-11-17T12:50:36.212Z"
      },
      {
        "duration": 94,
        "start_time": "2022-11-17T12:50:36.263Z"
      },
      {
        "duration": 5,
        "start_time": "2022-11-17T12:50:36.358Z"
      },
      {
        "duration": 32,
        "start_time": "2022-11-17T12:50:36.365Z"
      },
      {
        "duration": 16,
        "start_time": "2022-11-17T12:50:36.399Z"
      },
      {
        "duration": 18,
        "start_time": "2022-11-17T12:50:36.417Z"
      },
      {
        "duration": 18,
        "start_time": "2022-11-17T12:50:36.437Z"
      },
      {
        "duration": 48,
        "start_time": "2022-11-17T12:50:36.457Z"
      },
      {
        "duration": 21,
        "start_time": "2022-11-17T12:50:36.507Z"
      },
      {
        "duration": 24,
        "start_time": "2022-11-17T12:50:36.530Z"
      },
      {
        "duration": 15,
        "start_time": "2022-11-17T12:50:36.556Z"
      },
      {
        "duration": 24,
        "start_time": "2022-11-17T12:50:36.573Z"
      },
      {
        "duration": 5,
        "start_time": "2022-11-17T12:50:36.600Z"
      },
      {
        "duration": 26,
        "start_time": "2022-11-17T12:50:36.607Z"
      },
      {
        "duration": 16,
        "start_time": "2022-11-17T12:50:36.636Z"
      },
      {
        "duration": 19,
        "start_time": "2022-11-17T12:50:36.654Z"
      },
      {
        "duration": 32,
        "start_time": "2022-11-17T12:50:36.675Z"
      },
      {
        "duration": 8,
        "start_time": "2022-11-17T12:50:36.709Z"
      },
      {
        "duration": 5,
        "start_time": "2022-11-17T12:50:36.719Z"
      },
      {
        "duration": 7,
        "start_time": "2022-11-17T12:50:36.725Z"
      },
      {
        "duration": 5,
        "start_time": "2022-11-17T12:50:36.734Z"
      }
    ],
    "colab": {
      "collapsed_sections": [
        "E0vqbgi9ay0H",
        "VUC88oWjTJw2"
      ],
      "provenance": []
    },
    "kernelspec": {
      "display_name": "Python 3 (ipykernel)",
      "language": "python",
      "name": "python3"
    },
    "language_info": {
      "codemirror_mode": {
        "name": "ipython",
        "version": 3
      },
      "file_extension": ".py",
      "mimetype": "text/x-python",
      "name": "python",
      "nbconvert_exporter": "python",
      "pygments_lexer": "ipython3",
      "version": "3.9.5"
    },
    "toc": {
      "base_numbering": 1,
      "nav_menu": {},
      "number_sections": true,
      "sideBar": true,
      "skip_h1_title": true,
      "title_cell": "Table of Contents",
      "title_sidebar": "Contents",
      "toc_cell": false,
      "toc_position": {},
      "toc_section_display": true,
      "toc_window_display": true
    }
  },
  "nbformat": 4,
  "nbformat_minor": 0
}