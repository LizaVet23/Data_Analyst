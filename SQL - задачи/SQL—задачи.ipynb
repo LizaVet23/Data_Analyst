{
  "cells": [
    {
      "cell_type": "markdown",
      "source": [
        "# SQL - задачи"
      ],
      "metadata": {
        "id": "qawzjamf3z7U"
      }
    },
    {
      "cell_type": "markdown",
      "metadata": {
        "id": "wP3M65RI3A3J"
      },
      "source": [
        "## Введение"
      ]
    },
    {
      "cell_type": "markdown",
      "metadata": {
        "id": "XmAk42v-3A3J"
      },
      "source": [
        "Нам необходимо проанализировать базу данных в недавно купленном сервисе по чтению книг по подписке. Анализ поможет сформулировать ценностное предложение для нового продукта, а так же перспективы для обновлений книг в наших базах.\n",
        "Нам предстоит\n",
        "- Посчитать, сколько книг вышло после 1 января 2000 года;\n",
        "- Для каждой книги посчитать количество обзоров и среднюю оценку;\n",
        "- Определить издательство, которое выпустило наибольшее число книг толще 50 страниц — так ми исключим из анализа брошюры;\n",
        "- Определить автора с самой высокой средней оценкой книг — учитывая только книги с 50 и более оценками;\n",
        "- Посчитать среднее количество обзоров от пользователей, которые поставили больше 50 оценок."
      ]
    },
    {
      "cell_type": "markdown",
      "metadata": {
        "id": "maPTJ4rv3A3K"
      },
      "source": [
        "## Изучение данных"
      ]
    },
    {
      "cell_type": "markdown",
      "metadata": {
        "id": "6sCRhE763A3K"
      },
      "source": [
        "Для начала импортируем библиотеки и подключимся к базе данных."
      ]
    },
    {
      "cell_type": "code",
      "execution_count": null,
      "metadata": {
        "id": "2cqnrG1t3A3K"
      },
      "outputs": [],
      "source": [
        "import pandas as pd\n",
        "from sqlalchemy import create_engine"
      ]
    },
    {
      "cell_type": "code",
      "execution_count": null,
      "metadata": {
        "id": "N7G_uLwC3A3L"
      },
      "outputs": [],
      "source": [
        "# устанавливаем параметры\n",
        "db_config = {'user': 'user', # имя пользователя\n",
        "             'pwd': 'user_pwd', # пароль\n",
        "             'host': 'host',\n",
        "             'port': 0000, # порт подключения\n",
        "             'db': 'db'} # название базы данных\n",
        "\n",
        "connection_string = 'postgresql://{}:{}@{}:{}/{}'.format(db_config['user'],\n",
        "                                                 db_config['pwd'],\n",
        "                                                 db_config['host'],\n",
        "                                                 db_config['port'],\n",
        "                                                 db_config['db'])\n",
        "# сохраняем коннектор\n",
        "engine = create_engine(connection_string, connect_args={'sslmode':'require'}) "
      ]
    },
    {
      "cell_type": "markdown",
      "metadata": {
        "id": "-NvZTeMy3A3L"
      },
      "source": [
        "Напишем функцию для вывода первичной информации о данных."
      ]
    },
    {
      "cell_type": "code",
      "execution_count": null,
      "metadata": {
        "id": "B2y21Aa23A3L"
      },
      "outputs": [],
      "source": [
        "def startinfo(data):\n",
        "  \n",
        "    display(data.head(5))\n",
        "    data.info()\n",
        "    print((f'Дубликатов - \"{data.duplicated().sum()}\"'))"
      ]
    },
    {
      "cell_type": "markdown",
      "metadata": {
        "id": "EyHk9Z423A3L"
      },
      "source": [
        "**Таблица `books`**\n",
        "\n",
        "Содержит данные о книгах:\n",
        "\n",
        "- `book_id` — идентификатор книги;\n",
        "- `author_id` — идентификатор автора;\n",
        "- `title` — название книги;\n",
        "- `num_pages` — количество страниц;\n",
        "- `publication_date` — дата публикации книги;\n",
        "- `publisher_id` — идентификатор издателя."
      ]
    },
    {
      "cell_type": "code",
      "execution_count": null,
      "metadata": {
        "id": "2hw4LMdn3A3M",
        "outputId": "5d0feab2-8201-4880-c928-9369f9327960"
      },
      "outputs": [
        {
          "data": {
            "text/html": [
              "<div>\n",
              "<style scoped>\n",
              "    .dataframe tbody tr th:only-of-type {\n",
              "        vertical-align: middle;\n",
              "    }\n",
              "\n",
              "    .dataframe tbody tr th {\n",
              "        vertical-align: top;\n",
              "    }\n",
              "\n",
              "    .dataframe thead th {\n",
              "        text-align: right;\n",
              "    }\n",
              "</style>\n",
              "<table border=\"1\" class=\"dataframe\">\n",
              "  <thead>\n",
              "    <tr style=\"text-align: right;\">\n",
              "      <th></th>\n",
              "      <th>book_id</th>\n",
              "      <th>author_id</th>\n",
              "      <th>title</th>\n",
              "      <th>num_pages</th>\n",
              "      <th>publication_date</th>\n",
              "      <th>publisher_id</th>\n",
              "    </tr>\n",
              "  </thead>\n",
              "  <tbody>\n",
              "    <tr>\n",
              "      <th>0</th>\n",
              "      <td>1</td>\n",
              "      <td>546</td>\n",
              "      <td>'Salem's Lot</td>\n",
              "      <td>594</td>\n",
              "      <td>2005-11-01</td>\n",
              "      <td>93</td>\n",
              "    </tr>\n",
              "    <tr>\n",
              "      <th>1</th>\n",
              "      <td>2</td>\n",
              "      <td>465</td>\n",
              "      <td>1 000 Places to See Before You Die</td>\n",
              "      <td>992</td>\n",
              "      <td>2003-05-22</td>\n",
              "      <td>336</td>\n",
              "    </tr>\n",
              "    <tr>\n",
              "      <th>2</th>\n",
              "      <td>3</td>\n",
              "      <td>407</td>\n",
              "      <td>13 Little Blue Envelopes (Little Blue Envelope...</td>\n",
              "      <td>322</td>\n",
              "      <td>2010-12-21</td>\n",
              "      <td>135</td>\n",
              "    </tr>\n",
              "    <tr>\n",
              "      <th>3</th>\n",
              "      <td>4</td>\n",
              "      <td>82</td>\n",
              "      <td>1491: New Revelations of the Americas Before C...</td>\n",
              "      <td>541</td>\n",
              "      <td>2006-10-10</td>\n",
              "      <td>309</td>\n",
              "    </tr>\n",
              "    <tr>\n",
              "      <th>4</th>\n",
              "      <td>5</td>\n",
              "      <td>125</td>\n",
              "      <td>1776</td>\n",
              "      <td>386</td>\n",
              "      <td>2006-07-04</td>\n",
              "      <td>268</td>\n",
              "    </tr>\n",
              "  </tbody>\n",
              "</table>\n",
              "</div>"
            ],
            "text/plain": [
              "   book_id  author_id                                              title  \\\n",
              "0        1        546                                       'Salem's Lot   \n",
              "1        2        465                 1 000 Places to See Before You Die   \n",
              "2        3        407  13 Little Blue Envelopes (Little Blue Envelope...   \n",
              "3        4         82  1491: New Revelations of the Americas Before C...   \n",
              "4        5        125                                               1776   \n",
              "\n",
              "   num_pages publication_date  publisher_id  \n",
              "0        594       2005-11-01            93  \n",
              "1        992       2003-05-22           336  \n",
              "2        322       2010-12-21           135  \n",
              "3        541       2006-10-10           309  \n",
              "4        386       2006-07-04           268  "
            ]
          },
          "metadata": {},
          "output_type": "display_data"
        },
        {
          "name": "stdout",
          "output_type": "stream",
          "text": [
            "<class 'pandas.core.frame.DataFrame'>\n",
            "RangeIndex: 1000 entries, 0 to 999\n",
            "Data columns (total 6 columns):\n",
            " #   Column            Non-Null Count  Dtype \n",
            "---  ------            --------------  ----- \n",
            " 0   book_id           1000 non-null   int64 \n",
            " 1   author_id         1000 non-null   int64 \n",
            " 2   title             1000 non-null   object\n",
            " 3   num_pages         1000 non-null   int64 \n",
            " 4   publication_date  1000 non-null   object\n",
            " 5   publisher_id      1000 non-null   int64 \n",
            "dtypes: int64(4), object(2)\n",
            "memory usage: 47.0+ KB\n",
            "Дубликатов - \"0\"\n"
          ]
        }
      ],
      "source": [
        "query = '''\n",
        "           SELECT * \n",
        "           FROM books\n",
        "           \n",
        "        '''\n",
        "data_books = pd.io.sql.read_sql(query, con = engine) \n",
        "startinfo(data_books)"
      ]
    },
    {
      "cell_type": "markdown",
      "metadata": {
        "id": "--k0ZOGS3A3M"
      },
      "source": [
        "Содержит данные об авторах:\n",
        "\n",
        "- `author_id` — идентификатор автора;\n",
        "- `author` — имя автора."
      ]
    },
    {
      "cell_type": "code",
      "execution_count": null,
      "metadata": {
        "id": "CRg7XZiO3A3M",
        "outputId": "8789b0e0-0718-4205-dfbf-09bea29d4942"
      },
      "outputs": [
        {
          "data": {
            "text/html": [
              "<div>\n",
              "<style scoped>\n",
              "    .dataframe tbody tr th:only-of-type {\n",
              "        vertical-align: middle;\n",
              "    }\n",
              "\n",
              "    .dataframe tbody tr th {\n",
              "        vertical-align: top;\n",
              "    }\n",
              "\n",
              "    .dataframe thead th {\n",
              "        text-align: right;\n",
              "    }\n",
              "</style>\n",
              "<table border=\"1\" class=\"dataframe\">\n",
              "  <thead>\n",
              "    <tr style=\"text-align: right;\">\n",
              "      <th></th>\n",
              "      <th>author_id</th>\n",
              "      <th>author</th>\n",
              "    </tr>\n",
              "  </thead>\n",
              "  <tbody>\n",
              "    <tr>\n",
              "      <th>0</th>\n",
              "      <td>1</td>\n",
              "      <td>A.S. Byatt</td>\n",
              "    </tr>\n",
              "    <tr>\n",
              "      <th>1</th>\n",
              "      <td>2</td>\n",
              "      <td>Aesop/Laura Harris/Laura Gibbs</td>\n",
              "    </tr>\n",
              "    <tr>\n",
              "      <th>2</th>\n",
              "      <td>3</td>\n",
              "      <td>Agatha Christie</td>\n",
              "    </tr>\n",
              "    <tr>\n",
              "      <th>3</th>\n",
              "      <td>4</td>\n",
              "      <td>Alan Brennert</td>\n",
              "    </tr>\n",
              "    <tr>\n",
              "      <th>4</th>\n",
              "      <td>5</td>\n",
              "      <td>Alan Moore/David   Lloyd</td>\n",
              "    </tr>\n",
              "  </tbody>\n",
              "</table>\n",
              "</div>"
            ],
            "text/plain": [
              "   author_id                          author\n",
              "0          1                      A.S. Byatt\n",
              "1          2  Aesop/Laura Harris/Laura Gibbs\n",
              "2          3                 Agatha Christie\n",
              "3          4                   Alan Brennert\n",
              "4          5        Alan Moore/David   Lloyd"
            ]
          },
          "metadata": {},
          "output_type": "display_data"
        },
        {
          "name": "stdout",
          "output_type": "stream",
          "text": [
            "<class 'pandas.core.frame.DataFrame'>\n",
            "RangeIndex: 636 entries, 0 to 635\n",
            "Data columns (total 2 columns):\n",
            " #   Column     Non-Null Count  Dtype \n",
            "---  ------     --------------  ----- \n",
            " 0   author_id  636 non-null    int64 \n",
            " 1   author     636 non-null    object\n",
            "dtypes: int64(1), object(1)\n",
            "memory usage: 10.1+ KB\n",
            "Дубликатов - \"0\"\n"
          ]
        }
      ],
      "source": [
        "query = '''\n",
        "           SELECT * \n",
        "           FROM authors\n",
        "           \n",
        "        '''\n",
        "data_authors = pd.io.sql.read_sql(query, con = engine) \n",
        "startinfo(data_authors)"
      ]
    },
    {
      "cell_type": "markdown",
      "metadata": {
        "id": "N_yTzRwt3A3M"
      },
      "source": [
        "**Таблица `publishers`**\n",
        "\n",
        "Содержит данные об издательствах:\n",
        "\n",
        "- `publisher_id` — идентификатор издательства;\n",
        "- `publisher` — название издательства;"
      ]
    },
    {
      "cell_type": "code",
      "execution_count": null,
      "metadata": {
        "id": "wxvKg1sX3A3M",
        "outputId": "21616bb3-1cb6-43a9-df36-895ccd0167f4"
      },
      "outputs": [
        {
          "data": {
            "text/html": [
              "<div>\n",
              "<style scoped>\n",
              "    .dataframe tbody tr th:only-of-type {\n",
              "        vertical-align: middle;\n",
              "    }\n",
              "\n",
              "    .dataframe tbody tr th {\n",
              "        vertical-align: top;\n",
              "    }\n",
              "\n",
              "    .dataframe thead th {\n",
              "        text-align: right;\n",
              "    }\n",
              "</style>\n",
              "<table border=\"1\" class=\"dataframe\">\n",
              "  <thead>\n",
              "    <tr style=\"text-align: right;\">\n",
              "      <th></th>\n",
              "      <th>publisher_id</th>\n",
              "      <th>publisher</th>\n",
              "    </tr>\n",
              "  </thead>\n",
              "  <tbody>\n",
              "    <tr>\n",
              "      <th>0</th>\n",
              "      <td>1</td>\n",
              "      <td>Ace</td>\n",
              "    </tr>\n",
              "    <tr>\n",
              "      <th>1</th>\n",
              "      <td>2</td>\n",
              "      <td>Ace Book</td>\n",
              "    </tr>\n",
              "    <tr>\n",
              "      <th>2</th>\n",
              "      <td>3</td>\n",
              "      <td>Ace Books</td>\n",
              "    </tr>\n",
              "    <tr>\n",
              "      <th>3</th>\n",
              "      <td>4</td>\n",
              "      <td>Ace Hardcover</td>\n",
              "    </tr>\n",
              "    <tr>\n",
              "      <th>4</th>\n",
              "      <td>5</td>\n",
              "      <td>Addison Wesley Publishing Company</td>\n",
              "    </tr>\n",
              "  </tbody>\n",
              "</table>\n",
              "</div>"
            ],
            "text/plain": [
              "   publisher_id                          publisher\n",
              "0             1                                Ace\n",
              "1             2                           Ace Book\n",
              "2             3                          Ace Books\n",
              "3             4                      Ace Hardcover\n",
              "4             5  Addison Wesley Publishing Company"
            ]
          },
          "metadata": {},
          "output_type": "display_data"
        },
        {
          "name": "stdout",
          "output_type": "stream",
          "text": [
            "<class 'pandas.core.frame.DataFrame'>\n",
            "RangeIndex: 340 entries, 0 to 339\n",
            "Data columns (total 2 columns):\n",
            " #   Column        Non-Null Count  Dtype \n",
            "---  ------        --------------  ----- \n",
            " 0   publisher_id  340 non-null    int64 \n",
            " 1   publisher     340 non-null    object\n",
            "dtypes: int64(1), object(1)\n",
            "memory usage: 5.4+ KB\n",
            "Дубликатов - \"0\"\n"
          ]
        }
      ],
      "source": [
        "query = '''\n",
        "           SELECT * \n",
        "           FROM publishers\n",
        "        '''\n",
        "data_publishers = pd.io.sql.read_sql(query, con = engine) \n",
        "startinfo(data_publishers)"
      ]
    },
    {
      "cell_type": "markdown",
      "metadata": {
        "id": "bWo_5JxO3A3N"
      },
      "source": [
        "**Таблица `ratings`**\n",
        "\n",
        "Содержит данные о пользовательских оценках книг:\n",
        "\n",
        "- `rating_id` — идентификатор оценки;\n",
        "- `book_id` — идентификатор книги;\n",
        "- `username` — имя пользователя, оставившего оценку;\n",
        "- `rating` — оценка книги."
      ]
    },
    {
      "cell_type": "code",
      "execution_count": null,
      "metadata": {
        "id": "CxB46dAE3A3N",
        "outputId": "8cbfe04d-4fd7-468c-f06d-6c865b2e49c4"
      },
      "outputs": [
        {
          "data": {
            "text/html": [
              "<div>\n",
              "<style scoped>\n",
              "    .dataframe tbody tr th:only-of-type {\n",
              "        vertical-align: middle;\n",
              "    }\n",
              "\n",
              "    .dataframe tbody tr th {\n",
              "        vertical-align: top;\n",
              "    }\n",
              "\n",
              "    .dataframe thead th {\n",
              "        text-align: right;\n",
              "    }\n",
              "</style>\n",
              "<table border=\"1\" class=\"dataframe\">\n",
              "  <thead>\n",
              "    <tr style=\"text-align: right;\">\n",
              "      <th></th>\n",
              "      <th>rating_id</th>\n",
              "      <th>book_id</th>\n",
              "      <th>username</th>\n",
              "      <th>rating</th>\n",
              "    </tr>\n",
              "  </thead>\n",
              "  <tbody>\n",
              "    <tr>\n",
              "      <th>0</th>\n",
              "      <td>1</td>\n",
              "      <td>1</td>\n",
              "      <td>ryanfranco</td>\n",
              "      <td>4</td>\n",
              "    </tr>\n",
              "    <tr>\n",
              "      <th>1</th>\n",
              "      <td>2</td>\n",
              "      <td>1</td>\n",
              "      <td>grantpatricia</td>\n",
              "      <td>2</td>\n",
              "    </tr>\n",
              "    <tr>\n",
              "      <th>2</th>\n",
              "      <td>3</td>\n",
              "      <td>1</td>\n",
              "      <td>brandtandrea</td>\n",
              "      <td>5</td>\n",
              "    </tr>\n",
              "    <tr>\n",
              "      <th>3</th>\n",
              "      <td>4</td>\n",
              "      <td>2</td>\n",
              "      <td>lorichen</td>\n",
              "      <td>3</td>\n",
              "    </tr>\n",
              "    <tr>\n",
              "      <th>4</th>\n",
              "      <td>5</td>\n",
              "      <td>2</td>\n",
              "      <td>mariokeller</td>\n",
              "      <td>2</td>\n",
              "    </tr>\n",
              "  </tbody>\n",
              "</table>\n",
              "</div>"
            ],
            "text/plain": [
              "   rating_id  book_id       username  rating\n",
              "0          1        1     ryanfranco       4\n",
              "1          2        1  grantpatricia       2\n",
              "2          3        1   brandtandrea       5\n",
              "3          4        2       lorichen       3\n",
              "4          5        2    mariokeller       2"
            ]
          },
          "metadata": {},
          "output_type": "display_data"
        },
        {
          "name": "stdout",
          "output_type": "stream",
          "text": [
            "<class 'pandas.core.frame.DataFrame'>\n",
            "RangeIndex: 6456 entries, 0 to 6455\n",
            "Data columns (total 4 columns):\n",
            " #   Column     Non-Null Count  Dtype \n",
            "---  ------     --------------  ----- \n",
            " 0   rating_id  6456 non-null   int64 \n",
            " 1   book_id    6456 non-null   int64 \n",
            " 2   username   6456 non-null   object\n",
            " 3   rating     6456 non-null   int64 \n",
            "dtypes: int64(3), object(1)\n",
            "memory usage: 201.9+ KB\n",
            "Дубликатов - \"0\"\n"
          ]
        }
      ],
      "source": [
        "query = '''\n",
        "           SELECT * \n",
        "           FROM ratings\n",
        "        '''\n",
        "data_rating = pd.io.sql.read_sql(query, con = engine) \n",
        "startinfo(data_rating)"
      ]
    },
    {
      "cell_type": "markdown",
      "metadata": {
        "id": "J7GfzCq33A3N"
      },
      "source": [
        "**Таблица `reviews`**\n",
        "\n",
        "Содержит данные о пользовательских обзорах на книги:\n",
        "\n",
        "- `review_id` — идентификатор обзора;\n",
        "- `book_id` — идентификатор книги;\n",
        "- `username` — имя пользователя, написавшего обзор;\n",
        "- `text` — текст обзора."
      ]
    },
    {
      "cell_type": "code",
      "execution_count": null,
      "metadata": {
        "id": "P8eEW4wW3A3N",
        "outputId": "77dec165-bab1-4488-e355-c6bd2beb7da5"
      },
      "outputs": [
        {
          "data": {
            "text/html": [
              "<div>\n",
              "<style scoped>\n",
              "    .dataframe tbody tr th:only-of-type {\n",
              "        vertical-align: middle;\n",
              "    }\n",
              "\n",
              "    .dataframe tbody tr th {\n",
              "        vertical-align: top;\n",
              "    }\n",
              "\n",
              "    .dataframe thead th {\n",
              "        text-align: right;\n",
              "    }\n",
              "</style>\n",
              "<table border=\"1\" class=\"dataframe\">\n",
              "  <thead>\n",
              "    <tr style=\"text-align: right;\">\n",
              "      <th></th>\n",
              "      <th>review_id</th>\n",
              "      <th>book_id</th>\n",
              "      <th>username</th>\n",
              "      <th>text</th>\n",
              "    </tr>\n",
              "  </thead>\n",
              "  <tbody>\n",
              "    <tr>\n",
              "      <th>0</th>\n",
              "      <td>1</td>\n",
              "      <td>1</td>\n",
              "      <td>brandtandrea</td>\n",
              "      <td>Mention society tell send professor analysis. ...</td>\n",
              "    </tr>\n",
              "    <tr>\n",
              "      <th>1</th>\n",
              "      <td>2</td>\n",
              "      <td>1</td>\n",
              "      <td>ryanfranco</td>\n",
              "      <td>Foot glass pretty audience hit themselves. Amo...</td>\n",
              "    </tr>\n",
              "    <tr>\n",
              "      <th>2</th>\n",
              "      <td>3</td>\n",
              "      <td>2</td>\n",
              "      <td>lorichen</td>\n",
              "      <td>Listen treat keep worry. Miss husband tax but ...</td>\n",
              "    </tr>\n",
              "    <tr>\n",
              "      <th>3</th>\n",
              "      <td>4</td>\n",
              "      <td>3</td>\n",
              "      <td>johnsonamanda</td>\n",
              "      <td>Finally month interesting blue could nature cu...</td>\n",
              "    </tr>\n",
              "    <tr>\n",
              "      <th>4</th>\n",
              "      <td>5</td>\n",
              "      <td>3</td>\n",
              "      <td>scotttamara</td>\n",
              "      <td>Nation purpose heavy give wait song will. List...</td>\n",
              "    </tr>\n",
              "  </tbody>\n",
              "</table>\n",
              "</div>"
            ],
            "text/plain": [
              "   review_id  book_id       username  \\\n",
              "0          1        1   brandtandrea   \n",
              "1          2        1     ryanfranco   \n",
              "2          3        2       lorichen   \n",
              "3          4        3  johnsonamanda   \n",
              "4          5        3    scotttamara   \n",
              "\n",
              "                                                text  \n",
              "0  Mention society tell send professor analysis. ...  \n",
              "1  Foot glass pretty audience hit themselves. Amo...  \n",
              "2  Listen treat keep worry. Miss husband tax but ...  \n",
              "3  Finally month interesting blue could nature cu...  \n",
              "4  Nation purpose heavy give wait song will. List...  "
            ]
          },
          "metadata": {},
          "output_type": "display_data"
        },
        {
          "name": "stdout",
          "output_type": "stream",
          "text": [
            "<class 'pandas.core.frame.DataFrame'>\n",
            "RangeIndex: 2793 entries, 0 to 2792\n",
            "Data columns (total 4 columns):\n",
            " #   Column     Non-Null Count  Dtype \n",
            "---  ------     --------------  ----- \n",
            " 0   review_id  2793 non-null   int64 \n",
            " 1   book_id    2793 non-null   int64 \n",
            " 2   username   2793 non-null   object\n",
            " 3   text       2793 non-null   object\n",
            "dtypes: int64(2), object(2)\n",
            "memory usage: 87.4+ KB\n",
            "Дубликатов - \"0\"\n"
          ]
        }
      ],
      "source": [
        "query = '''\n",
        "           SELECT * \n",
        "           FROM reviews\n",
        "        '''\n",
        "data_review = pd.io.sql.read_sql(query, con = engine)\n",
        "startinfo(data_review)"
      ]
    },
    {
      "cell_type": "markdown",
      "metadata": {
        "id": "qrS_AwJy3A3N"
      },
      "source": [
        "Мы загрузили и посмотрели все предоставленные данные. В них нет дубликатов и пропущенных."
      ]
    },
    {
      "cell_type": "markdown",
      "metadata": {
        "id": "vTlA1dL33A3N"
      },
      "source": [
        "## Задачи"
      ]
    },
    {
      "cell_type": "markdown",
      "metadata": {
        "id": "dvXsnC883A3O"
      },
      "source": [
        " **Задача 1**\n",
        "- Посчитать, сколько книг вышло после 1 января 2000 года"
      ]
    },
    {
      "cell_type": "code",
      "execution_count": null,
      "metadata": {
        "id": "nN8UWYXx3A3O",
        "outputId": "fc1f3ae0-3194-48d8-bd25-69c55f9ecca6"
      },
      "outputs": [
        {
          "data": {
            "text/html": [
              "<div>\n",
              "<style scoped>\n",
              "    .dataframe tbody tr th:only-of-type {\n",
              "        vertical-align: middle;\n",
              "    }\n",
              "\n",
              "    .dataframe tbody tr th {\n",
              "        vertical-align: top;\n",
              "    }\n",
              "\n",
              "    .dataframe thead th {\n",
              "        text-align: right;\n",
              "    }\n",
              "</style>\n",
              "<table border=\"1\" class=\"dataframe\">\n",
              "  <thead>\n",
              "    <tr style=\"text-align: right;\">\n",
              "      <th></th>\n",
              "      <th>count</th>\n",
              "    </tr>\n",
              "  </thead>\n",
              "  <tbody>\n",
              "    <tr>\n",
              "      <th>0</th>\n",
              "      <td>819</td>\n",
              "    </tr>\n",
              "  </tbody>\n",
              "</table>\n",
              "</div>"
            ],
            "text/plain": [
              "   count\n",
              "0    819"
            ]
          },
          "execution_count": 9,
          "metadata": {},
          "output_type": "execute_result"
        }
      ],
      "source": [
        "\n",
        "query = '''\n",
        "           SELECT COUNT(book_id) \n",
        "           FROM books\n",
        "           WHERE publication_date > '2000-01-01'; \n",
        "        '''\n",
        "pd.io.sql.read_sql(query, con = engine) "
      ]
    },
    {
      "cell_type": "markdown",
      "metadata": {
        "id": "8xs8N_QC3A3O"
      },
      "source": [
        "После 1 янваля 2000 года вышло 819 книг."
      ]
    },
    {
      "cell_type": "markdown",
      "metadata": {
        "id": "Yi6vp1_J3A3O"
      },
      "source": [
        "**Задача 2** \n",
        "- Для каждой книги посчитать количество обзоров и среднюю оценку"
      ]
    },
    {
      "cell_type": "code",
      "execution_count": null,
      "metadata": {
        "scrolled": true,
        "id": "_2A93yqB3A3Q",
        "outputId": "eb7699df-15a8-4e42-e4e0-c98172d91630"
      },
      "outputs": [
        {
          "data": {
            "text/html": [
              "<div>\n",
              "<style scoped>\n",
              "    .dataframe tbody tr th:only-of-type {\n",
              "        vertical-align: middle;\n",
              "    }\n",
              "\n",
              "    .dataframe tbody tr th {\n",
              "        vertical-align: top;\n",
              "    }\n",
              "\n",
              "    .dataframe thead th {\n",
              "        text-align: right;\n",
              "    }\n",
              "</style>\n",
              "<table border=\"1\" class=\"dataframe\">\n",
              "  <thead>\n",
              "    <tr style=\"text-align: right;\">\n",
              "      <th></th>\n",
              "      <th>name</th>\n",
              "      <th>id</th>\n",
              "      <th>count_review</th>\n",
              "      <th>avg_rating</th>\n",
              "    </tr>\n",
              "  </thead>\n",
              "  <tbody>\n",
              "    <tr>\n",
              "      <th>0</th>\n",
              "      <td>The Body in the Library (Miss Marple  #3)</td>\n",
              "      <td>652</td>\n",
              "      <td>2.0</td>\n",
              "      <td>4.500000</td>\n",
              "    </tr>\n",
              "    <tr>\n",
              "      <th>1</th>\n",
              "      <td>Galápagos</td>\n",
              "      <td>273</td>\n",
              "      <td>2.0</td>\n",
              "      <td>4.500000</td>\n",
              "    </tr>\n",
              "    <tr>\n",
              "      <th>2</th>\n",
              "      <td>A Tree Grows in Brooklyn</td>\n",
              "      <td>51</td>\n",
              "      <td>5.0</td>\n",
              "      <td>4.250000</td>\n",
              "    </tr>\n",
              "    <tr>\n",
              "      <th>3</th>\n",
              "      <td>Undaunted Courage: The Pioneering First Missio...</td>\n",
              "      <td>951</td>\n",
              "      <td>2.0</td>\n",
              "      <td>4.000000</td>\n",
              "    </tr>\n",
              "    <tr>\n",
              "      <th>4</th>\n",
              "      <td>The Prophet</td>\n",
              "      <td>839</td>\n",
              "      <td>4.0</td>\n",
              "      <td>4.285714</td>\n",
              "    </tr>\n",
              "    <tr>\n",
              "      <th>...</th>\n",
              "      <td>...</td>\n",
              "      <td>...</td>\n",
              "      <td>...</td>\n",
              "      <td>...</td>\n",
              "    </tr>\n",
              "    <tr>\n",
              "      <th>995</th>\n",
              "      <td>Alice in Wonderland</td>\n",
              "      <td>64</td>\n",
              "      <td>4.0</td>\n",
              "      <td>4.230769</td>\n",
              "    </tr>\n",
              "    <tr>\n",
              "      <th>996</th>\n",
              "      <td>A Woman of Substance (Emma Harte Saga #1)</td>\n",
              "      <td>55</td>\n",
              "      <td>2.0</td>\n",
              "      <td>5.000000</td>\n",
              "    </tr>\n",
              "    <tr>\n",
              "      <th>997</th>\n",
              "      <td>Christine</td>\n",
              "      <td>148</td>\n",
              "      <td>3.0</td>\n",
              "      <td>3.428571</td>\n",
              "    </tr>\n",
              "    <tr>\n",
              "      <th>998</th>\n",
              "      <td>The Magicians' Guild (Black Magician Trilogy  #1)</td>\n",
              "      <td>790</td>\n",
              "      <td>2.0</td>\n",
              "      <td>3.500000</td>\n",
              "    </tr>\n",
              "    <tr>\n",
              "      <th>999</th>\n",
              "      <td>The Plot Against America</td>\n",
              "      <td>828</td>\n",
              "      <td>2.0</td>\n",
              "      <td>3.000000</td>\n",
              "    </tr>\n",
              "  </tbody>\n",
              "</table>\n",
              "<p>1000 rows × 4 columns</p>\n",
              "</div>"
            ],
            "text/plain": [
              "                                                  name   id  count_review  \\\n",
              "0            The Body in the Library (Miss Marple  #3)  652           2.0   \n",
              "1                                            Galápagos  273           2.0   \n",
              "2                             A Tree Grows in Brooklyn   51           5.0   \n",
              "3    Undaunted Courage: The Pioneering First Missio...  951           2.0   \n",
              "4                                          The Prophet  839           4.0   \n",
              "..                                                 ...  ...           ...   \n",
              "995                                Alice in Wonderland   64           4.0   \n",
              "996          A Woman of Substance (Emma Harte Saga #1)   55           2.0   \n",
              "997                                          Christine  148           3.0   \n",
              "998  The Magicians' Guild (Black Magician Trilogy  #1)  790           2.0   \n",
              "999                           The Plot Against America  828           2.0   \n",
              "\n",
              "     avg_rating  \n",
              "0      4.500000  \n",
              "1      4.500000  \n",
              "2      4.250000  \n",
              "3      4.000000  \n",
              "4      4.285714  \n",
              "..          ...  \n",
              "995    4.230769  \n",
              "996    5.000000  \n",
              "997    3.428571  \n",
              "998    3.500000  \n",
              "999    3.000000  \n",
              "\n",
              "[1000 rows x 4 columns]"
            ]
          },
          "execution_count": 13,
          "metadata": {},
          "output_type": "execute_result"
        }
      ],
      "source": [
        "query = '''\n",
        "           SELECT b.title AS name,\n",
        "                  b.book_id AS id,\n",
        "                  rv.count_review AS count_review,\n",
        "                  rt.avg_rating AS avg_rating\n",
        "                  \n",
        "           FROM books AS b \n",
        "           LEFT JOIN \n",
        "                (SELECT book_id,\n",
        "                        AVG(rating) AS avg_rating\n",
        "                 FROM ratings\n",
        "                 GROUP BY book_id) AS rt ON rt.book_id = b.book_id\n",
        "           LEFT JOIN \n",
        "                (SELECT book_id,\n",
        "                        COUNT(review_id) AS count_review\n",
        "           FROM reviews\n",
        "           GROUP BY book_id) AS rv ON rv.book_id = b.book_id\n",
        "                \n",
        "           \n",
        "        '''\n",
        "pd.io.sql.read_sql(query, con = engine) "
      ]
    },
    {
      "cell_type": "markdown",
      "metadata": {
        "id": "hBgdweoh3A3R"
      },
      "source": [
        "**Задача 3** \n",
        "- Определить издательство, которое выпустило наибольшее число книг толще 50 страниц — так мы исключим из анализа брошюры"
      ]
    },
    {
      "cell_type": "code",
      "execution_count": null,
      "metadata": {
        "id": "BugLgGon3A3R",
        "outputId": "f36f3ae2-349f-46e6-a54b-8252d4c2aff3"
      },
      "outputs": [
        {
          "data": {
            "text/html": [
              "<div>\n",
              "<style scoped>\n",
              "    .dataframe tbody tr th:only-of-type {\n",
              "        vertical-align: middle;\n",
              "    }\n",
              "\n",
              "    .dataframe tbody tr th {\n",
              "        vertical-align: top;\n",
              "    }\n",
              "\n",
              "    .dataframe thead th {\n",
              "        text-align: right;\n",
              "    }\n",
              "</style>\n",
              "<table border=\"1\" class=\"dataframe\">\n",
              "  <thead>\n",
              "    <tr style=\"text-align: right;\">\n",
              "      <th></th>\n",
              "      <th>publisher</th>\n",
              "      <th>count</th>\n",
              "    </tr>\n",
              "  </thead>\n",
              "  <tbody>\n",
              "    <tr>\n",
              "      <th>0</th>\n",
              "      <td>Penguin Books</td>\n",
              "      <td>42</td>\n",
              "    </tr>\n",
              "  </tbody>\n",
              "</table>\n",
              "</div>"
            ],
            "text/plain": [
              "       publisher  count\n",
              "0  Penguin Books     42"
            ]
          },
          "execution_count": 15,
          "metadata": {},
          "output_type": "execute_result"
        }
      ],
      "source": [
        "query = '''\n",
        "           SELECT  p.publisher,\n",
        "                   COUNT(p.publisher)\n",
        "           FROM publishers AS p\n",
        "           iNNER JOIN  (SELECT *\n",
        "                        FROM books\n",
        "                        WHERE num_pages > 50) AS b ON  b.publisher_id\t = p.publisher_id\n",
        "           GROUP BY p.publisher\n",
        "           ORDER BY COUNT(p.publisher) DESC\n",
        "           LIMIT 1\n",
        "        '''\n",
        "pd.io.sql.read_sql(query, con = engine) "
      ]
    },
    {
      "cell_type": "markdown",
      "metadata": {
        "id": "gVRR7B7p3A3R"
      },
      "source": [
        "Британское издательство *Penguin Books* выпустило наибольшее число книг толще 50 страниц."
      ]
    },
    {
      "cell_type": "markdown",
      "metadata": {
        "id": "OmsUx-js3A3R"
      },
      "source": [
        "**Задача 4** \n",
        "- Определить автора с самой высокой средней оценкой книг — учитывая только книги с 50 и более оценками"
      ]
    },
    {
      "cell_type": "code",
      "execution_count": null,
      "metadata": {
        "id": "G_veyIBA3A3R",
        "outputId": "7bd6f174-4d7f-4043-bd69-29561d4cd249"
      },
      "outputs": [
        {
          "data": {
            "text/html": [
              "<div>\n",
              "<style scoped>\n",
              "    .dataframe tbody tr th:only-of-type {\n",
              "        vertical-align: middle;\n",
              "    }\n",
              "\n",
              "    .dataframe tbody tr th {\n",
              "        vertical-align: top;\n",
              "    }\n",
              "\n",
              "    .dataframe thead th {\n",
              "        text-align: right;\n",
              "    }\n",
              "</style>\n",
              "<table border=\"1\" class=\"dataframe\">\n",
              "  <thead>\n",
              "    <tr style=\"text-align: right;\">\n",
              "      <th></th>\n",
              "      <th>author</th>\n",
              "      <th>avg</th>\n",
              "    </tr>\n",
              "  </thead>\n",
              "  <tbody>\n",
              "    <tr>\n",
              "      <th>0</th>\n",
              "      <td>J.K. Rowling/Mary GrandPré</td>\n",
              "      <td>4.283844</td>\n",
              "    </tr>\n",
              "  </tbody>\n",
              "</table>\n",
              "</div>"
            ],
            "text/plain": [
              "                       author       avg\n",
              "0  J.K. Rowling/Mary GrandPré  4.283844"
            ]
          },
          "execution_count": 16,
          "metadata": {},
          "output_type": "execute_result"
        }
      ],
      "source": [
        "query = '''\n",
        "          SELECT ai.author,\n",
        "                 AVG(ai.avg_rating)\n",
        "          FROM (SELECT a.author AS author,\n",
        "                       AVG(r.rating) AS avg_rating\n",
        "                FROM authors AS a\n",
        "                JOIN books AS b ON a.author_id = b.author_id\n",
        "                JOIN ratings AS r ON r.book_id = b.book_id\n",
        "                GROUP BY a.author, b.book_id\n",
        "                HAVING COUNT(r.rating) >= 50) AS ai\n",
        "           GROUP BY ai.author\n",
        "           ORDER BY AVG(ai.avg_rating) DESC\n",
        "           LIMIT 1\n",
        "        '''\n",
        "pd.io.sql.read_sql(query, con = engine) "
      ]
    },
    {
      "cell_type": "markdown",
      "metadata": {
        "id": "p8GKymKk3A3R"
      },
      "source": [
        "\"Не жалей умерших, Гарри. Жалей живых, и в особенности тех, кто живет без любви.\"\n",
        "<br>Джоан Роулинг и иллюстратор Мари Грандпре заняли первую позицию в наших сердечках."
      ]
    },
    {
      "cell_type": "markdown",
      "metadata": {
        "id": "CDjIy8IG3A3R"
      },
      "source": [
        "**Задача 5** \n",
        "- Посчитать среднее количество обзоров от пользователей, которые поставили больше 50 оценок."
      ]
    },
    {
      "cell_type": "code",
      "execution_count": null,
      "metadata": {
        "id": "0eahAIwF3A3S",
        "outputId": "348c7d50-b47b-4a67-aecd-7934cea21927"
      },
      "outputs": [
        {
          "data": {
            "text/html": [
              "<div>\n",
              "<style scoped>\n",
              "    .dataframe tbody tr th:only-of-type {\n",
              "        vertical-align: middle;\n",
              "    }\n",
              "\n",
              "    .dataframe tbody tr th {\n",
              "        vertical-align: top;\n",
              "    }\n",
              "\n",
              "    .dataframe thead th {\n",
              "        text-align: right;\n",
              "    }\n",
              "</style>\n",
              "<table border=\"1\" class=\"dataframe\">\n",
              "  <thead>\n",
              "    <tr style=\"text-align: right;\">\n",
              "      <th></th>\n",
              "      <th>avg_review</th>\n",
              "    </tr>\n",
              "  </thead>\n",
              "  <tbody>\n",
              "    <tr>\n",
              "      <th>0</th>\n",
              "      <td>24.333333</td>\n",
              "    </tr>\n",
              "  </tbody>\n",
              "</table>\n",
              "</div>"
            ],
            "text/plain": [
              "   avg_review\n",
              "0   24.333333"
            ]
          },
          "execution_count": 17,
          "metadata": {},
          "output_type": "execute_result"
        }
      ],
      "source": [
        "query = '''\n",
        "           SELECT AVG(new.count_review) AS avg_review\n",
        "           FROM (SELECT COUNT(review_id) AS count_review\n",
        "                 FROM reviews\n",
        "                 WHERE username IN (SELECT username\n",
        "                                    FROM ratings\n",
        "                                    GROUP BY username\n",
        "                                    HAVING COUNT(rating_id)>50)\n",
        "                GROUP BY username) \n",
        "          AS new\n",
        "        '''\n",
        "pd.io.sql.read_sql(query, con = engine) "
      ]
    }
  ],
  "metadata": {
    "ExecuteTimeLog": [
      {
        "duration": 511,
        "start_time": "2022-10-27T10:34:06.603Z"
      },
      {
        "duration": 202,
        "start_time": "2022-10-27T10:34:16.363Z"
      },
      {
        "duration": 9129,
        "start_time": "2022-10-27T10:34:25.687Z"
      },
      {
        "duration": 3,
        "start_time": "2022-10-27T10:43:05.629Z"
      },
      {
        "duration": 145,
        "start_time": "2022-10-27T10:44:00.599Z"
      },
      {
        "duration": 33,
        "start_time": "2022-10-27T10:44:21.887Z"
      },
      {
        "duration": 23,
        "start_time": "2022-10-27T10:44:38.111Z"
      },
      {
        "duration": 45,
        "start_time": "2022-10-27T10:44:54.065Z"
      },
      {
        "duration": 35,
        "start_time": "2022-10-27T10:45:13.904Z"
      },
      {
        "duration": 76,
        "start_time": "2022-10-27T10:45:24.035Z"
      },
      {
        "duration": 16,
        "start_time": "2022-10-27T10:45:54.729Z"
      },
      {
        "duration": 41,
        "start_time": "2022-10-27T10:46:22.540Z"
      },
      {
        "duration": 17,
        "start_time": "2022-10-27T10:46:47.500Z"
      },
      {
        "duration": 23,
        "start_time": "2022-10-27T10:47:10.888Z"
      },
      {
        "duration": 25,
        "start_time": "2022-10-27T10:47:59.223Z"
      },
      {
        "duration": 650,
        "start_time": "2022-10-27T10:49:38.193Z"
      },
      {
        "duration": 8535,
        "start_time": "2022-10-27T10:49:38.846Z"
      },
      {
        "duration": 5,
        "start_time": "2022-10-27T10:49:47.383Z"
      },
      {
        "duration": 97,
        "start_time": "2022-10-27T10:49:47.391Z"
      },
      {
        "duration": 27,
        "start_time": "2022-10-27T10:49:47.491Z"
      },
      {
        "duration": 24,
        "start_time": "2022-10-27T10:49:47.524Z"
      },
      {
        "duration": 46,
        "start_time": "2022-10-27T10:49:47.550Z"
      },
      {
        "duration": 62,
        "start_time": "2022-10-27T10:49:47.598Z"
      },
      {
        "duration": 15,
        "start_time": "2022-10-27T10:49:47.663Z"
      },
      {
        "duration": 31,
        "start_time": "2022-10-27T10:49:47.681Z"
      },
      {
        "duration": 25,
        "start_time": "2022-10-27T10:49:47.714Z"
      },
      {
        "duration": 18,
        "start_time": "2022-10-27T10:49:47.741Z"
      },
      {
        "duration": 15,
        "start_time": "2022-10-27T10:49:47.762Z"
      },
      {
        "duration": 519,
        "start_time": "2022-10-28T05:01:17.436Z"
      },
      {
        "duration": 6086,
        "start_time": "2022-10-28T05:01:17.957Z"
      },
      {
        "duration": 3,
        "start_time": "2022-10-28T05:01:24.044Z"
      },
      {
        "duration": 303,
        "start_time": "2022-10-28T05:01:24.048Z"
      },
      {
        "duration": 85,
        "start_time": "2022-10-28T05:01:24.353Z"
      },
      {
        "duration": 86,
        "start_time": "2022-10-28T05:01:24.440Z"
      },
      {
        "duration": 109,
        "start_time": "2022-10-28T05:01:24.528Z"
      },
      {
        "duration": 106,
        "start_time": "2022-10-28T05:01:24.639Z"
      },
      {
        "duration": 75,
        "start_time": "2022-10-28T05:01:24.747Z"
      },
      {
        "duration": 95,
        "start_time": "2022-10-28T05:01:24.824Z"
      },
      {
        "duration": 202,
        "start_time": "2022-10-28T05:01:24.921Z"
      },
      {
        "duration": 0,
        "start_time": "2022-10-28T05:01:25.125Z"
      },
      {
        "duration": 0,
        "start_time": "2022-10-28T05:01:25.126Z"
      },
      {
        "duration": 0,
        "start_time": "2022-10-28T05:01:25.127Z"
      },
      {
        "duration": 137,
        "start_time": "2022-10-28T05:02:05.531Z"
      },
      {
        "duration": 75,
        "start_time": "2022-10-28T05:02:14.325Z"
      },
      {
        "duration": 80,
        "start_time": "2022-10-28T05:03:58.266Z"
      },
      {
        "duration": 3742,
        "start_time": "2022-10-28T05:06:04.171Z"
      },
      {
        "duration": 83,
        "start_time": "2022-10-28T05:06:42.470Z"
      },
      {
        "duration": 870,
        "start_time": "2022-10-28T05:12:50.637Z"
      },
      {
        "duration": 102,
        "start_time": "2022-10-28T05:13:16.921Z"
      },
      {
        "duration": 151,
        "start_time": "2022-10-28T05:23:13.066Z"
      },
      {
        "duration": 108,
        "start_time": "2022-10-28T05:23:43.068Z"
      },
      {
        "duration": 131,
        "start_time": "2022-10-28T05:26:32.527Z"
      },
      {
        "duration": 140,
        "start_time": "2022-10-28T05:26:51.952Z"
      },
      {
        "duration": 131,
        "start_time": "2022-10-28T05:27:20.883Z"
      },
      {
        "duration": 155,
        "start_time": "2022-10-28T05:27:48.844Z"
      },
      {
        "duration": 73,
        "start_time": "2022-10-28T05:28:14.415Z"
      },
      {
        "duration": 83,
        "start_time": "2022-10-28T05:29:15.866Z"
      },
      {
        "duration": 72,
        "start_time": "2022-10-28T05:46:45.884Z"
      },
      {
        "duration": 78,
        "start_time": "2022-10-28T05:46:54.956Z"
      },
      {
        "duration": 82,
        "start_time": "2022-10-28T05:46:57.235Z"
      },
      {
        "duration": 79,
        "start_time": "2022-10-28T05:47:09.868Z"
      },
      {
        "duration": 81,
        "start_time": "2022-10-28T05:47:25.345Z"
      },
      {
        "duration": 130,
        "start_time": "2022-10-28T05:47:57.967Z"
      },
      {
        "duration": 76,
        "start_time": "2022-10-28T05:48:53.404Z"
      },
      {
        "duration": 503,
        "start_time": "2022-10-28T05:52:31.649Z"
      },
      {
        "duration": 4929,
        "start_time": "2022-10-28T05:52:32.155Z"
      },
      {
        "duration": 3,
        "start_time": "2022-10-28T05:52:37.086Z"
      },
      {
        "duration": 282,
        "start_time": "2022-10-28T05:52:37.090Z"
      },
      {
        "duration": 78,
        "start_time": "2022-10-28T05:52:37.374Z"
      },
      {
        "duration": 82,
        "start_time": "2022-10-28T05:52:37.453Z"
      },
      {
        "duration": 109,
        "start_time": "2022-10-28T05:52:37.536Z"
      },
      {
        "duration": 96,
        "start_time": "2022-10-28T05:52:37.646Z"
      },
      {
        "duration": 70,
        "start_time": "2022-10-28T05:52:37.744Z"
      },
      {
        "duration": 85,
        "start_time": "2022-10-28T05:52:37.815Z"
      },
      {
        "duration": 71,
        "start_time": "2022-10-28T05:52:37.901Z"
      },
      {
        "duration": 76,
        "start_time": "2022-10-28T05:52:37.974Z"
      },
      {
        "duration": 82,
        "start_time": "2022-10-28T05:52:38.051Z"
      },
      {
        "duration": 72,
        "start_time": "2022-10-28T05:52:38.135Z"
      },
      {
        "duration": 72,
        "start_time": "2022-10-28T05:52:38.209Z"
      },
      {
        "duration": 74,
        "start_time": "2022-10-28T05:52:38.283Z"
      },
      {
        "duration": 71,
        "start_time": "2022-10-28T05:52:38.359Z"
      },
      {
        "duration": 100,
        "start_time": "2022-10-28T05:54:05.558Z"
      },
      {
        "duration": 71,
        "start_time": "2022-10-28T05:54:36.263Z"
      },
      {
        "duration": 767,
        "start_time": "2022-10-28T17:04:35.515Z"
      },
      {
        "duration": 7617,
        "start_time": "2022-10-28T17:04:36.288Z"
      },
      {
        "duration": 4,
        "start_time": "2022-10-28T17:04:43.907Z"
      },
      {
        "duration": 390,
        "start_time": "2022-10-28T17:04:43.914Z"
      },
      {
        "duration": 106,
        "start_time": "2022-10-28T17:04:44.309Z"
      },
      {
        "duration": 86,
        "start_time": "2022-10-28T17:04:44.417Z"
      },
      {
        "duration": 129,
        "start_time": "2022-10-28T17:04:44.504Z"
      },
      {
        "duration": 106,
        "start_time": "2022-10-28T17:04:44.636Z"
      },
      {
        "duration": 73,
        "start_time": "2022-10-28T17:04:44.744Z"
      },
      {
        "duration": 119,
        "start_time": "2022-10-28T17:04:44.819Z"
      },
      {
        "duration": 74,
        "start_time": "2022-10-28T17:04:44.940Z"
      },
      {
        "duration": 80,
        "start_time": "2022-10-28T17:04:45.016Z"
      },
      {
        "duration": 100,
        "start_time": "2022-10-28T17:04:45.099Z"
      },
      {
        "duration": 86,
        "start_time": "2022-10-28T17:04:45.201Z"
      },
      {
        "duration": 89,
        "start_time": "2022-10-28T17:04:45.289Z"
      },
      {
        "duration": 87,
        "start_time": "2022-10-28T17:04:45.380Z"
      },
      {
        "duration": 84,
        "start_time": "2022-10-28T17:04:45.469Z"
      }
    ],
    "kernelspec": {
      "display_name": "Python 3 (ipykernel)",
      "language": "python",
      "name": "python3"
    },
    "language_info": {
      "codemirror_mode": {
        "name": "ipython",
        "version": 3
      },
      "file_extension": ".py",
      "mimetype": "text/x-python",
      "name": "python",
      "nbconvert_exporter": "python",
      "pygments_lexer": "ipython3",
      "version": "3.9.5"
    },
    "toc": {
      "base_numbering": 1,
      "nav_menu": {},
      "number_sections": true,
      "sideBar": true,
      "skip_h1_title": true,
      "title_cell": "Table of Contents",
      "title_sidebar": "Contents",
      "toc_cell": false,
      "toc_position": {
        "height": "calc(100% - 180px)",
        "left": "10px",
        "top": "150px",
        "width": "165px"
      },
      "toc_section_display": true,
      "toc_window_display": true
    },
    "colab": {
      "provenance": []
    }
  },
  "nbformat": 4,
  "nbformat_minor": 0
}