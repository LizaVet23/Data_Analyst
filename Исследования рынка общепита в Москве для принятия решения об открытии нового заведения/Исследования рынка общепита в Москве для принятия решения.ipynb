{
  "cells": [
    {
      "cell_type": "markdown",
      "source": [
        "# Исследования рынка общепита в Москве для принятия решения об открытии нового заведения"
      ],
      "metadata": {
        "id": "5JYR9-Yb2ltl"
      }
    },
    {
      "cell_type": "markdown",
      "metadata": {
        "id": "NuXGK50X0lCa"
      },
      "source": [
        "## Введение"
      ]
    },
    {
      "cell_type": "markdown",
      "metadata": {
        "id": "8HrLicaN0lCb"
      },
      "source": [
        "Для открытия нового кафе не достаточно оригинальной идеи.\n",
        "<br> Мы решили отрыть кафе, где официанты - роботы. Но, в данном случае, нас заботит не только возможное ускорение востания машин, но и общее положение дел на рынке общественного питания. Поэтому, мы решили иследовать рынок города Москва."
      ]
    },
    {
      "cell_type": "markdown",
      "metadata": {
        "id": "VZb5PXHu0lCb"
      },
      "source": [
        "## Предобработка данных"
      ]
    },
    {
      "cell_type": "markdown",
      "metadata": {
        "id": "DjbuzFyD0lCc"
      },
      "source": [
        "Дя начала изучим и обработаем имеющиеся данные для дальнейшего анализа."
      ]
    },
    {
      "cell_type": "code",
      "execution_count": null,
      "metadata": {
        "id": "YppmGLPz0lCc"
      },
      "outputs": [],
      "source": [
        "#Импорт библиотек и настроек\n",
        "%matplotlib inline\n",
        "import pandas as pd\n",
        "import numpy as np\n",
        "import matplotlib.pyplot as plt\n",
        "pd.options.display.float_format = '{:,.2f}'.format\n",
        "import seaborn as sns\n",
        "import plotly.express as px \n",
        "from plotly import graph_objects as go\n",
        "from io import BytesIO\n",
        "import requests\n",
        "\n",
        "import plotly.io as pio\n",
        "pio.renderers.default = \"png\"\n"
      ]
    },
    {
      "cell_type": "code",
      "execution_count": null,
      "metadata": {
        "id": "gRTukAp50lCd"
      },
      "outputs": [],
      "source": [
        "df = pd.read_csv('/datasets/rest_data.csv')"
      ]
    },
    {
      "cell_type": "code",
      "execution_count": null,
      "metadata": {
        "id": "r2OkYlKL0lCe",
        "outputId": "b0b3fcba-8f88-4f21-f9f5-ca2e89918256"
      },
      "outputs": [
        {
          "name": "stdout",
          "output_type": "stream",
          "text": [
            "<class 'pandas.core.frame.DataFrame'>\n",
            "RangeIndex: 15366 entries, 0 to 15365\n",
            "Data columns (total 6 columns):\n",
            " #   Column       Non-Null Count  Dtype \n",
            "---  ------       --------------  ----- \n",
            " 0   id           15366 non-null  int64 \n",
            " 1   object_name  15366 non-null  object\n",
            " 2   chain        15366 non-null  object\n",
            " 3   object_type  15366 non-null  object\n",
            " 4   address      15366 non-null  object\n",
            " 5   number       15366 non-null  int64 \n",
            "dtypes: int64(2), object(4)\n",
            "memory usage: 720.4+ KB\n"
          ]
        }
      ],
      "source": [
        "#просмотр информации о датафрейме\n",
        "df.info()"
      ]
    },
    {
      "cell_type": "markdown",
      "metadata": {
        "id": "eZ3QuDc30lCf"
      },
      "source": [
        "В таблице мы видим следующие столбцы:\n",
        "<br>`id` — идентификатор объекта;\n",
        "<br>`object_name` — название объекта общественного питания;\n",
        "<br>`chain` — сетевой ресторан;\n",
        "<br>`object_type` — тип объекта общественного питания;\n",
        "<br>`address` — адрес;\n",
        "<br>`number` — количество посадочных мест."
      ]
    },
    {
      "cell_type": "code",
      "execution_count": null,
      "metadata": {
        "scrolled": true,
        "id": "TREedY8l0lCf",
        "outputId": "a0c8018f-ede6-487d-f857-c873f3da11a9"
      },
      "outputs": [
        {
          "data": {
            "text/html": [
              "<div>\n",
              "<style scoped>\n",
              "    .dataframe tbody tr th:only-of-type {\n",
              "        vertical-align: middle;\n",
              "    }\n",
              "\n",
              "    .dataframe tbody tr th {\n",
              "        vertical-align: top;\n",
              "    }\n",
              "\n",
              "    .dataframe thead th {\n",
              "        text-align: right;\n",
              "    }\n",
              "</style>\n",
              "<table border=\"1\" class=\"dataframe\">\n",
              "  <thead>\n",
              "    <tr style=\"text-align: right;\">\n",
              "      <th></th>\n",
              "      <th>id</th>\n",
              "      <th>object_name</th>\n",
              "      <th>chain</th>\n",
              "      <th>object_type</th>\n",
              "      <th>address</th>\n",
              "      <th>number</th>\n",
              "    </tr>\n",
              "  </thead>\n",
              "  <tbody>\n",
              "    <tr>\n",
              "      <th>0</th>\n",
              "      <td>151635</td>\n",
              "      <td>СМЕТАНА</td>\n",
              "      <td>нет</td>\n",
              "      <td>кафе</td>\n",
              "      <td>город Москва, улица Егора Абакумова, дом 9</td>\n",
              "      <td>48</td>\n",
              "    </tr>\n",
              "    <tr>\n",
              "      <th>1</th>\n",
              "      <td>77874</td>\n",
              "      <td>Родник</td>\n",
              "      <td>нет</td>\n",
              "      <td>кафе</td>\n",
              "      <td>город Москва, улица Талалихина, дом 2/1, корпус 1</td>\n",
              "      <td>35</td>\n",
              "    </tr>\n",
              "    <tr>\n",
              "      <th>2</th>\n",
              "      <td>24309</td>\n",
              "      <td>Кафе «Академия»</td>\n",
              "      <td>нет</td>\n",
              "      <td>кафе</td>\n",
              "      <td>город Москва, Абельмановская улица, дом 6</td>\n",
              "      <td>95</td>\n",
              "    </tr>\n",
              "    <tr>\n",
              "      <th>3</th>\n",
              "      <td>21894</td>\n",
              "      <td>ПИЦЦЕТОРИЯ</td>\n",
              "      <td>да</td>\n",
              "      <td>кафе</td>\n",
              "      <td>город Москва, Абрамцевская улица, дом 1</td>\n",
              "      <td>40</td>\n",
              "    </tr>\n",
              "    <tr>\n",
              "      <th>4</th>\n",
              "      <td>119365</td>\n",
              "      <td>Кафе «Вишневая метель»</td>\n",
              "      <td>нет</td>\n",
              "      <td>кафе</td>\n",
              "      <td>город Москва, Абрамцевская улица, дом 9, корпус 1</td>\n",
              "      <td>50</td>\n",
              "    </tr>\n",
              "  </tbody>\n",
              "</table>\n",
              "</div>"
            ],
            "text/plain": [
              "       id             object_name chain object_type  \\\n",
              "0  151635                 СМЕТАНА   нет        кафе   \n",
              "1   77874                  Родник   нет        кафе   \n",
              "2   24309         Кафе «Академия»   нет        кафе   \n",
              "3   21894              ПИЦЦЕТОРИЯ    да        кафе   \n",
              "4  119365  Кафе «Вишневая метель»   нет        кафе   \n",
              "\n",
              "                                             address  number  \n",
              "0         город Москва, улица Егора Абакумова, дом 9      48  \n",
              "1  город Москва, улица Талалихина, дом 2/1, корпус 1      35  \n",
              "2          город Москва, Абельмановская улица, дом 6      95  \n",
              "3            город Москва, Абрамцевская улица, дом 1      40  \n",
              "4  город Москва, Абрамцевская улица, дом 9, корпус 1      50  "
            ]
          },
          "execution_count": 4,
          "metadata": {},
          "output_type": "execute_result"
        }
      ],
      "source": [
        "df.head()"
      ]
    },
    {
      "cell_type": "code",
      "execution_count": null,
      "metadata": {
        "id": "yewdUbd50lCf"
      },
      "outputs": [],
      "source": [
        "#замена в некоторых столбцах Ё на Е и приведение к нижнему регистру\n",
        "df['object_name'] = df['object_name'].str.replace('ё','е')\n",
        "df['address'] = df['address'].str.replace('ё','е')\n",
        "df['object_name'] = df['object_name'].str.lower()\n",
        "df['address'] = df['address'].str.lower()"
      ]
    },
    {
      "cell_type": "code",
      "execution_count": null,
      "metadata": {
        "scrolled": true,
        "id": "AcGMqLm90lCh",
        "outputId": "8339ac1c-7cb9-4eaa-e285-1a8be5810f8f"
      },
      "outputs": [
        {
          "data": {
            "text/html": [
              "<div>\n",
              "<style scoped>\n",
              "    .dataframe tbody tr th:only-of-type {\n",
              "        vertical-align: middle;\n",
              "    }\n",
              "\n",
              "    .dataframe tbody tr th {\n",
              "        vertical-align: top;\n",
              "    }\n",
              "\n",
              "    .dataframe thead th {\n",
              "        text-align: right;\n",
              "    }\n",
              "</style>\n",
              "<table border=\"1\" class=\"dataframe\">\n",
              "  <thead>\n",
              "    <tr style=\"text-align: right;\">\n",
              "      <th></th>\n",
              "      <th>id</th>\n",
              "      <th>object_name</th>\n",
              "      <th>chain</th>\n",
              "      <th>object_type</th>\n",
              "      <th>address</th>\n",
              "      <th>number</th>\n",
              "    </tr>\n",
              "  </thead>\n",
              "  <tbody>\n",
              "    <tr>\n",
              "      <th>0</th>\n",
              "      <td>151635</td>\n",
              "      <td>сметана</td>\n",
              "      <td>нет</td>\n",
              "      <td>кафе</td>\n",
              "      <td>город москва, улица егора абакумова, дом 9</td>\n",
              "      <td>48</td>\n",
              "    </tr>\n",
              "    <tr>\n",
              "      <th>1</th>\n",
              "      <td>77874</td>\n",
              "      <td>родник</td>\n",
              "      <td>нет</td>\n",
              "      <td>кафе</td>\n",
              "      <td>город москва, улица талалихина, дом 2/1, корпус 1</td>\n",
              "      <td>35</td>\n",
              "    </tr>\n",
              "    <tr>\n",
              "      <th>2</th>\n",
              "      <td>24309</td>\n",
              "      <td>кафе «академия»</td>\n",
              "      <td>нет</td>\n",
              "      <td>кафе</td>\n",
              "      <td>город москва, абельмановская улица, дом 6</td>\n",
              "      <td>95</td>\n",
              "    </tr>\n",
              "    <tr>\n",
              "      <th>3</th>\n",
              "      <td>21894</td>\n",
              "      <td>пиццетория</td>\n",
              "      <td>да</td>\n",
              "      <td>кафе</td>\n",
              "      <td>город москва, абрамцевская улица, дом 1</td>\n",
              "      <td>40</td>\n",
              "    </tr>\n",
              "    <tr>\n",
              "      <th>4</th>\n",
              "      <td>119365</td>\n",
              "      <td>кафе «вишневая метель»</td>\n",
              "      <td>нет</td>\n",
              "      <td>кафе</td>\n",
              "      <td>город москва, абрамцевская улица, дом 9, корпус 1</td>\n",
              "      <td>50</td>\n",
              "    </tr>\n",
              "  </tbody>\n",
              "</table>\n",
              "</div>"
            ],
            "text/plain": [
              "       id             object_name chain object_type  \\\n",
              "0  151635                 сметана   нет        кафе   \n",
              "1   77874                  родник   нет        кафе   \n",
              "2   24309         кафе «академия»   нет        кафе   \n",
              "3   21894              пиццетория    да        кафе   \n",
              "4  119365  кафе «вишневая метель»   нет        кафе   \n",
              "\n",
              "                                             address  number  \n",
              "0         город москва, улица егора абакумова, дом 9      48  \n",
              "1  город москва, улица талалихина, дом 2/1, корпус 1      35  \n",
              "2          город москва, абельмановская улица, дом 6      95  \n",
              "3            город москва, абрамцевская улица, дом 1      40  \n",
              "4  город москва, абрамцевская улица, дом 9, корпус 1      50  "
            ]
          },
          "execution_count": 6,
          "metadata": {},
          "output_type": "execute_result"
        }
      ],
      "source": [
        "df.head()"
      ]
    },
    {
      "cell_type": "markdown",
      "metadata": {
        "id": "88QsZPU60lCh"
      },
      "source": [
        "Проверим обработанные данные на явные дубликаты:"
      ]
    },
    {
      "cell_type": "code",
      "execution_count": null,
      "metadata": {
        "id": "-1OnANLd0lCh",
        "outputId": "8cffdf5b-e0fb-4d4a-bf3d-df00a450f619"
      },
      "outputs": [
        {
          "data": {
            "text/plain": [
              "0"
            ]
          },
          "execution_count": 7,
          "metadata": {},
          "output_type": "execute_result"
        }
      ],
      "source": [
        "df.duplicated().sum()"
      ]
    },
    {
      "cell_type": "markdown",
      "metadata": {
        "id": "ZtTAMcTS0lCh"
      },
      "source": [
        "Дубликатов нет.\n",
        "<br>Проверим количество дубликатов по столбцам: `object_name`, `address`,`chain`,`object_type`,`number`."
      ]
    },
    {
      "cell_type": "code",
      "execution_count": null,
      "metadata": {
        "scrolled": true,
        "id": "PH3WoMR60lCh",
        "outputId": "07e12c36-c3ed-4d97-e0d5-d8ff8ee8a129"
      },
      "outputs": [
        {
          "data": {
            "text/plain": [
              "85"
            ]
          },
          "execution_count": 8,
          "metadata": {},
          "output_type": "execute_result"
        }
      ],
      "source": [
        "df.duplicated(subset=['object_name', 'address','chain','object_type','number']).sum()"
      ]
    },
    {
      "cell_type": "markdown",
      "metadata": {
        "id": "KSuTXPcz0lCi"
      },
      "source": [
        "Мы получили 85 дубликатов. Избавимся от них."
      ]
    },
    {
      "cell_type": "code",
      "execution_count": null,
      "metadata": {
        "id": "EPTSuGQT0lCi"
      },
      "outputs": [],
      "source": [
        "df = df.drop_duplicates(subset=['object_name', 'address', 'chain', 'object_type', 'number'])"
      ]
    },
    {
      "cell_type": "markdown",
      "metadata": {
        "id": "VTtst6wb0lCi"
      },
      "source": [
        "Посмотрим столбец `chain`."
      ]
    },
    {
      "cell_type": "code",
      "execution_count": null,
      "metadata": {
        "id": "82iIUs-F0lCi",
        "outputId": "812960d0-4539-483d-8eb0-58c8ceb80e57"
      },
      "outputs": [
        {
          "data": {
            "text/plain": [
              "array(['нет', 'да'], dtype=object)"
            ]
          },
          "execution_count": 10,
          "metadata": {},
          "output_type": "execute_result"
        }
      ],
      "source": [
        "df['chain'].unique()"
      ]
    },
    {
      "cell_type": "markdown",
      "metadata": {
        "id": "zH9Qxjlq0lCi"
      },
      "source": [
        "В столбце `chain` только два уникальных значения. Заменим их на *True* и *False*, а так же поменяем тип данных на `bool`."
      ]
    },
    {
      "cell_type": "code",
      "execution_count": null,
      "metadata": {
        "scrolled": false,
        "id": "MlsWrb3e0lCj",
        "outputId": "13f2f877-a698-4f6e-9080-58d3af5fa5a6"
      },
      "outputs": [
        {
          "data": {
            "text/plain": [
              "array(['кафе', 'столовая', 'закусочная',\n",
              "       'предприятие быстрого обслуживания', 'ресторан', 'кафетерий',\n",
              "       'буфет', 'бар', 'магазин (отдел кулинарии)'], dtype=object)"
            ]
          },
          "execution_count": 11,
          "metadata": {},
          "output_type": "execute_result"
        }
      ],
      "source": [
        "#замена на True и False\n",
        "df['chain'] = df['chain'].map({'да': True, 'нет':False})\n",
        "#изменение типа данных\n",
        "df['chain'] = df['chain'].astype('bool')\n",
        "df['object_type'].unique()"
      ]
    },
    {
      "cell_type": "markdown",
      "metadata": {
        "id": "WDvsjpjG0lCj"
      },
      "source": [
        "Так же мы проверили уникальные значени столбца `object_type`. Повторений типов объектов общественного питания нет. <br>Проверим есть ли точки с нулевым значением посадочных мест."
      ]
    },
    {
      "cell_type": "code",
      "execution_count": null,
      "metadata": {
        "scrolled": true,
        "id": "Jk3QTr0X0lCj",
        "outputId": "7c2be48c-fcab-4545-a698-f2d4ead321d8"
      },
      "outputs": [
        {
          "data": {
            "text/html": [
              "<div>\n",
              "<style scoped>\n",
              "    .dataframe tbody tr th:only-of-type {\n",
              "        vertical-align: middle;\n",
              "    }\n",
              "\n",
              "    .dataframe tbody tr th {\n",
              "        vertical-align: top;\n",
              "    }\n",
              "\n",
              "    .dataframe thead th {\n",
              "        text-align: right;\n",
              "    }\n",
              "</style>\n",
              "<table border=\"1\" class=\"dataframe\">\n",
              "  <thead>\n",
              "    <tr style=\"text-align: right;\">\n",
              "      <th></th>\n",
              "      <th>id</th>\n",
              "      <th>object_name</th>\n",
              "      <th>chain</th>\n",
              "      <th>object_type</th>\n",
              "      <th>address</th>\n",
              "      <th>number</th>\n",
              "    </tr>\n",
              "  </thead>\n",
              "  <tbody>\n",
              "    <tr>\n",
              "      <th>137</th>\n",
              "      <td>115498</td>\n",
              "      <td>пекарня &amp; донер</td>\n",
              "      <td>False</td>\n",
              "      <td>закусочная</td>\n",
              "      <td>город москва, бутырская улица, дом 9, корпус 2</td>\n",
              "      <td>0</td>\n",
              "    </tr>\n",
              "    <tr>\n",
              "      <th>154</th>\n",
              "      <td>152556</td>\n",
              "      <td>шаурма в пите</td>\n",
              "      <td>False</td>\n",
              "      <td>предприятие быстрого обслуживания</td>\n",
              "      <td>город москва, варшавское шоссе, дом 72, корпус 2</td>\n",
              "      <td>0</td>\n",
              "    </tr>\n",
              "    <tr>\n",
              "      <th>157</th>\n",
              "      <td>149568</td>\n",
              "      <td>суши</td>\n",
              "      <td>False</td>\n",
              "      <td>предприятие быстрого обслуживания</td>\n",
              "      <td>город москва, улица маршала василевского, дом ...</td>\n",
              "      <td>0</td>\n",
              "    </tr>\n",
              "    <tr>\n",
              "      <th>190</th>\n",
              "      <td>126956</td>\n",
              "      <td>шаурма, куры-гриль</td>\n",
              "      <td>False</td>\n",
              "      <td>предприятие быстрого обслуживания</td>\n",
              "      <td>город москва, 1-я владимирская улица, дом 21</td>\n",
              "      <td>0</td>\n",
              "    </tr>\n",
              "    <tr>\n",
              "      <th>195</th>\n",
              "      <td>149531</td>\n",
              "      <td>шаурма, куры-гриль</td>\n",
              "      <td>False</td>\n",
              "      <td>предприятие быстрого обслуживания</td>\n",
              "      <td>город москва, 2-я владимирская улица, дом 44/10</td>\n",
              "      <td>0</td>\n",
              "    </tr>\n",
              "    <tr>\n",
              "      <th>...</th>\n",
              "      <td>...</td>\n",
              "      <td>...</td>\n",
              "      <td>...</td>\n",
              "      <td>...</td>\n",
              "      <td>...</td>\n",
              "      <td>...</td>\n",
              "    </tr>\n",
              "    <tr>\n",
              "      <th>15334</th>\n",
              "      <td>211228</td>\n",
              "      <td>милти</td>\n",
              "      <td>True</td>\n",
              "      <td>магазин (отдел кулинарии)</td>\n",
              "      <td>город москва, дубравная улица, дом 34/29</td>\n",
              "      <td>0</td>\n",
              "    </tr>\n",
              "    <tr>\n",
              "      <th>15335</th>\n",
              "      <td>211221</td>\n",
              "      <td>милти</td>\n",
              "      <td>True</td>\n",
              "      <td>магазин (отдел кулинарии)</td>\n",
              "      <td>город москва, пятницкое шоссе, дом 3</td>\n",
              "      <td>0</td>\n",
              "    </tr>\n",
              "    <tr>\n",
              "      <th>15336</th>\n",
              "      <td>211209</td>\n",
              "      <td>готовые блюда милти</td>\n",
              "      <td>True</td>\n",
              "      <td>предприятие быстрого обслуживания</td>\n",
              "      <td>город москва, ореховый бульвар, дом 22а</td>\n",
              "      <td>0</td>\n",
              "    </tr>\n",
              "    <tr>\n",
              "      <th>15337</th>\n",
              "      <td>208477</td>\n",
              "      <td>милти</td>\n",
              "      <td>True</td>\n",
              "      <td>предприятие быстрого обслуживания</td>\n",
              "      <td>город москва, 3-й крутицкий переулок, дом 18</td>\n",
              "      <td>0</td>\n",
              "    </tr>\n",
              "    <tr>\n",
              "      <th>15338</th>\n",
              "      <td>211201</td>\n",
              "      <td>милти</td>\n",
              "      <td>True</td>\n",
              "      <td>магазин (отдел кулинарии)</td>\n",
              "      <td>город москва, новослободская улица, дом 4</td>\n",
              "      <td>0</td>\n",
              "    </tr>\n",
              "  </tbody>\n",
              "</table>\n",
              "<p>1588 rows × 6 columns</p>\n",
              "</div>"
            ],
            "text/plain": [
              "           id          object_name  chain                        object_type  \\\n",
              "137    115498      пекарня & донер  False                         закусочная   \n",
              "154    152556        шаурма в пите  False  предприятие быстрого обслуживания   \n",
              "157    149568                 суши  False  предприятие быстрого обслуживания   \n",
              "190    126956   шаурма, куры-гриль  False  предприятие быстрого обслуживания   \n",
              "195    149531   шаурма, куры-гриль  False  предприятие быстрого обслуживания   \n",
              "...       ...                  ...    ...                                ...   \n",
              "15334  211228                милти   True          магазин (отдел кулинарии)   \n",
              "15335  211221                милти   True          магазин (отдел кулинарии)   \n",
              "15336  211209  готовые блюда милти   True  предприятие быстрого обслуживания   \n",
              "15337  208477                милти   True  предприятие быстрого обслуживания   \n",
              "15338  211201                милти   True          магазин (отдел кулинарии)   \n",
              "\n",
              "                                                 address  number  \n",
              "137       город москва, бутырская улица, дом 9, корпус 2       0  \n",
              "154     город москва, варшавское шоссе, дом 72, корпус 2       0  \n",
              "157    город москва, улица маршала василевского, дом ...       0  \n",
              "190         город москва, 1-я владимирская улица, дом 21       0  \n",
              "195      город москва, 2-я владимирская улица, дом 44/10       0  \n",
              "...                                                  ...     ...  \n",
              "15334           город москва, дубравная улица, дом 34/29       0  \n",
              "15335               город москва, пятницкое шоссе, дом 3       0  \n",
              "15336            город москва, ореховый бульвар, дом 22а       0  \n",
              "15337       город москва, 3-й крутицкий переулок, дом 18       0  \n",
              "15338          город москва, новослободская улица, дом 4       0  \n",
              "\n",
              "[1588 rows x 6 columns]"
            ]
          },
          "execution_count": 12,
          "metadata": {},
          "output_type": "execute_result"
        }
      ],
      "source": [
        "zero_number = df[df['number'] == 0]\n",
        "zero_number"
      ]
    },
    {
      "cell_type": "markdown",
      "metadata": {
        "id": "JTNVguKG0lCj"
      },
      "source": [
        "Точек с нулевым количеством посадочных мест - 1588. Мы решили их не удалять т.к. это такие же точки питания, только работающие на вынос."
      ]
    },
    {
      "cell_type": "code",
      "execution_count": null,
      "metadata": {
        "scrolled": true,
        "id": "37SlY13f0lCj",
        "outputId": "52d2170a-790d-4f8b-a584-ed4e4bfa4882"
      },
      "outputs": [
        {
          "name": "stdout",
          "output_type": "stream",
          "text": [
            "<class 'pandas.core.frame.DataFrame'>\n",
            "Int64Index: 15281 entries, 0 to 15365\n",
            "Data columns (total 6 columns):\n",
            " #   Column       Non-Null Count  Dtype \n",
            "---  ------       --------------  ----- \n",
            " 0   id           15281 non-null  int64 \n",
            " 1   object_name  15281 non-null  object\n",
            " 2   chain        15281 non-null  bool  \n",
            " 3   object_type  15281 non-null  object\n",
            " 4   address      15281 non-null  object\n",
            " 5   number       15281 non-null  int64 \n",
            "dtypes: bool(1), int64(2), object(3)\n",
            "memory usage: 731.2+ KB\n"
          ]
        }
      ],
      "source": [
        "df.info()"
      ]
    },
    {
      "cell_type": "markdown",
      "metadata": {
        "id": "5_Tbzk6a0lCk"
      },
      "source": [
        "Мы провели обработку имеющихся данных, удалили необходимые дубликаты, поменяли тип данных."
      ]
    },
    {
      "cell_type": "markdown",
      "metadata": {
        "id": "jtTScPC70lCk"
      },
      "source": [
        "## Анализ данных"
      ]
    },
    {
      "cell_type": "markdown",
      "metadata": {
        "id": "aHKSsfEH0lCk"
      },
      "source": [
        "Проведем анализ подготовленных данных."
      ]
    },
    {
      "cell_type": "markdown",
      "metadata": {
        "id": "1F03kUKR0lCk"
      },
      "source": [
        "### Cоотношение видов объектов общественного питания по количеству"
      ]
    },
    {
      "cell_type": "markdown",
      "metadata": {
        "id": "VooAAQYa0lCk"
      },
      "source": [
        "Найдем какое количество объектов общественного питания у каждого типа."
      ]
    },
    {
      "cell_type": "code",
      "execution_count": null,
      "metadata": {
        "scrolled": true,
        "id": "5EvwhCSO0lCk",
        "outputId": "86463aec-a3aa-4e7c-ddea-33e1fa4230ab"
      },
      "outputs": [
        {
          "data": {
            "text/html": [
              "<div>\n",
              "<style scoped>\n",
              "    .dataframe tbody tr th:only-of-type {\n",
              "        vertical-align: middle;\n",
              "    }\n",
              "\n",
              "    .dataframe tbody tr th {\n",
              "        vertical-align: top;\n",
              "    }\n",
              "\n",
              "    .dataframe thead th {\n",
              "        text-align: right;\n",
              "    }\n",
              "</style>\n",
              "<table border=\"1\" class=\"dataframe\">\n",
              "  <thead>\n",
              "    <tr style=\"text-align: right;\">\n",
              "      <th></th>\n",
              "      <th>object_type</th>\n",
              "      <th>count</th>\n",
              "    </tr>\n",
              "  </thead>\n",
              "  <tbody>\n",
              "    <tr>\n",
              "      <th>0</th>\n",
              "      <td>кафе</td>\n",
              "      <td>6071</td>\n",
              "    </tr>\n",
              "    <tr>\n",
              "      <th>1</th>\n",
              "      <td>столовая</td>\n",
              "      <td>2584</td>\n",
              "    </tr>\n",
              "    <tr>\n",
              "      <th>2</th>\n",
              "      <td>ресторан</td>\n",
              "      <td>2282</td>\n",
              "    </tr>\n",
              "    <tr>\n",
              "      <th>3</th>\n",
              "      <td>предприятие быстрого обслуживания</td>\n",
              "      <td>1897</td>\n",
              "    </tr>\n",
              "    <tr>\n",
              "      <th>4</th>\n",
              "      <td>бар</td>\n",
              "      <td>855</td>\n",
              "    </tr>\n",
              "    <tr>\n",
              "      <th>5</th>\n",
              "      <td>буфет</td>\n",
              "      <td>576</td>\n",
              "    </tr>\n",
              "    <tr>\n",
              "      <th>6</th>\n",
              "      <td>кафетерий</td>\n",
              "      <td>395</td>\n",
              "    </tr>\n",
              "    <tr>\n",
              "      <th>7</th>\n",
              "      <td>закусочная</td>\n",
              "      <td>348</td>\n",
              "    </tr>\n",
              "    <tr>\n",
              "      <th>8</th>\n",
              "      <td>магазин (отдел кулинарии)</td>\n",
              "      <td>273</td>\n",
              "    </tr>\n",
              "  </tbody>\n",
              "</table>\n",
              "</div>"
            ],
            "text/plain": [
              "                         object_type  count\n",
              "0                               кафе   6071\n",
              "1                           столовая   2584\n",
              "2                           ресторан   2282\n",
              "3  предприятие быстрого обслуживания   1897\n",
              "4                                бар    855\n",
              "5                              буфет    576\n",
              "6                          кафетерий    395\n",
              "7                         закусочная    348\n",
              "8          магазин (отдел кулинарии)    273"
            ]
          },
          "execution_count": 14,
          "metadata": {},
          "output_type": "execute_result"
        }
      ],
      "source": [
        "#находим количество точек общественного питания по типу\n",
        "object_type = df['object_type'].value_counts().to_frame().reset_index()\n",
        "object_type.columns = ['object_type', 'count']\n",
        "object_type"
      ]
    },
    {
      "cell_type": "markdown",
      "metadata": {
        "id": "QY9ZF9Tj0lCl"
      },
      "source": [
        "Мы получили таблицу отсортированную по количеству точек для каждого типа объекта общественного питания.\n",
        "<br> Построим диаграмму,на ней будет наиболее удобно отображено распределение."
      ]
    },
    {
      "cell_type": "code",
      "execution_count": null,
      "metadata": {
        "scrolled": false,
        "id": "kJE6Yy2K0lCl",
        "outputId": "46527a96-603f-4aa7-a101-e0e412965436"
      },
      "outputs": [
        {
          "data": {
            "image/png": "[encoded data removed]",
            "text/plain": [
              "<Figure size 720x720 with 1 Axes>"
            ]
          },
          "metadata": {},
          "output_type": "display_data"
        }
      ],
      "source": [
        "#сохраняем цветовую схему\n",
        "colors = sns.color_palette('Purples', 10) \n",
        "\n",
        "# Рендеринг круговой диаграммы\n",
        "plt.figure(figsize=(10,10))\n",
        "plt.pie(object_type['count'], colors = colors, autopct='%.1f%%', textprops={'fontsize': 12})\n",
        "plt.title('Cоотношение видов объектов общественного питания по количеству',\n",
        "                fontstyle = 'oblique',\n",
        "                fontsize = 25)\n",
        "plt.legend(labels=object_type['object_type'], bbox_to_anchor=(1.5, 0.9), prop={'size': 12})\n",
        "plt.show()\n"
      ]
    },
    {
      "cell_type": "markdown",
      "metadata": {
        "id": "4dG_UtI90lCl"
      },
      "source": [
        "Итак, по имеющимся данным самым часто встречаемым на улицах Москвы видом общественного питания, с большим отрывом, оказывается **Кафе** - 39,7%. На втором месте **Столовая** - 16,9%, а на третьем, **Ресторан** - 14,9%. Самым редким является **Магазин(отдел кулинарии)**, всего 1,8%"
      ]
    },
    {
      "cell_type": "markdown",
      "metadata": {
        "id": "YIqEXyhQ0lCl"
      },
      "source": [
        "### Соотношение сетевых и несетевых заведений по количеству"
      ]
    },
    {
      "cell_type": "markdown",
      "metadata": {
        "id": "OP9dXYgD0lCl"
      },
      "source": [
        "Посмотрим соотношение сетевых и не сетевых заведений.\n",
        "<br> Посчитаем их количество:"
      ]
    },
    {
      "cell_type": "code",
      "execution_count": null,
      "metadata": {
        "scrolled": true,
        "id": "xRvRoJKR0lCm",
        "outputId": "35aebafe-82bb-42ac-f9d2-ea55d1da88fb"
      },
      "outputs": [
        {
          "data": {
            "text/html": [
              "<div>\n",
              "<style scoped>\n",
              "    .dataframe tbody tr th:only-of-type {\n",
              "        vertical-align: middle;\n",
              "    }\n",
              "\n",
              "    .dataframe tbody tr th {\n",
              "        vertical-align: top;\n",
              "    }\n",
              "\n",
              "    .dataframe thead th {\n",
              "        text-align: right;\n",
              "    }\n",
              "</style>\n",
              "<table border=\"1\" class=\"dataframe\">\n",
              "  <thead>\n",
              "    <tr style=\"text-align: right;\">\n",
              "      <th></th>\n",
              "      <th>chain</th>\n",
              "      <th>count</th>\n",
              "    </tr>\n",
              "  </thead>\n",
              "  <tbody>\n",
              "    <tr>\n",
              "      <th>0</th>\n",
              "      <td>False</td>\n",
              "      <td>12317</td>\n",
              "    </tr>\n",
              "    <tr>\n",
              "      <th>1</th>\n",
              "      <td>True</td>\n",
              "      <td>2964</td>\n",
              "    </tr>\n",
              "  </tbody>\n",
              "</table>\n",
              "</div>"
            ],
            "text/plain": [
              "   chain  count\n",
              "0  False  12317\n",
              "1   True   2964"
            ]
          },
          "execution_count": 16,
          "metadata": {},
          "output_type": "execute_result"
        }
      ],
      "source": [
        "#создание таблицы с количество сетевых и не сетевых заведений\n",
        "chain = df['chain'].value_counts().to_frame().reset_index()\n",
        "chain.columns = ['chain', 'count']\n",
        "chain"
      ]
    },
    {
      "cell_type": "markdown",
      "metadata": {
        "id": "K59F561x0lCm"
      },
      "source": [
        "Не сетевых заведений значительно больше, построим гистограмму для наглядности:"
      ]
    },
    {
      "cell_type": "code",
      "execution_count": null,
      "metadata": {
        "id": "YJ7Ak2av0lCn",
        "outputId": "e59ed2ca-0fc1-4351-df17-75726eb9f257"
      },
      "outputs": [
        {
          "data": {
            "image/png": "[encoded data removed]",
            "text/plain": [
              "<Figure size 720x720 with 1 Axes>"
            ]
          },
          "metadata": {
            "needs_background": "light"
          },
          "output_type": "display_data"
        }
      ],
      "source": [
        "\n",
        "plt.figure(figsize=(10,10))\n",
        "ax = sns.barplot(x = 'chain', y = 'count', data = chain, palette='Purples')\n",
        "sns.despine() \n",
        "plt.title('Cоотношение сетевых и не сетевых заведений',\n",
        "                fontstyle = 'oblique',\n",
        "                fontsize = 25)\n",
        "\n",
        "plt.show()"
      ]
    },
    {
      "cell_type": "markdown",
      "metadata": {
        "id": "xYwV-gf90lCn"
      },
      "source": [
        "На графике видно как мало заведений приходится на сетевые, всего около 20% от общего количества."
      ]
    },
    {
      "cell_type": "markdown",
      "metadata": {
        "id": "-aoHiU_a0lCo"
      },
      "source": [
        "### Виды объекта общественного питания, для которых характерно сетевое распространение"
      ]
    },
    {
      "cell_type": "markdown",
      "metadata": {
        "id": "ItZxPvQ_0lCo"
      },
      "source": [
        "Расмотрим более пожробно сетевые заведения, а именно найдем в коком виде общественного питания больше всего сетевых заведений."
      ]
    },
    {
      "cell_type": "code",
      "execution_count": null,
      "metadata": {
        "id": "rT6SF7Ys0lCo",
        "outputId": "0c031419-cbd6-4122-831e-4829b9e07ea7"
      },
      "outputs": [
        {
          "data": {
            "text/html": [
              "<div>\n",
              "<style scoped>\n",
              "    .dataframe tbody tr th:only-of-type {\n",
              "        vertical-align: middle;\n",
              "    }\n",
              "\n",
              "    .dataframe tbody tr th {\n",
              "        vertical-align: top;\n",
              "    }\n",
              "\n",
              "    .dataframe thead th {\n",
              "        text-align: right;\n",
              "    }\n",
              "</style>\n",
              "<table border=\"1\" class=\"dataframe\">\n",
              "  <thead>\n",
              "    <tr style=\"text-align: right;\">\n",
              "      <th></th>\n",
              "      <th>object_type</th>\n",
              "      <th>count_all</th>\n",
              "      <th>count_chain_true</th>\n",
              "      <th>per</th>\n",
              "    </tr>\n",
              "  </thead>\n",
              "  <tbody>\n",
              "    <tr>\n",
              "      <th>3</th>\n",
              "      <td>предприятие быстрого обслуживания</td>\n",
              "      <td>1897</td>\n",
              "      <td>788</td>\n",
              "      <td>41.54</td>\n",
              "    </tr>\n",
              "    <tr>\n",
              "      <th>8</th>\n",
              "      <td>магазин (отдел кулинарии)</td>\n",
              "      <td>273</td>\n",
              "      <td>78</td>\n",
              "      <td>28.57</td>\n",
              "    </tr>\n",
              "    <tr>\n",
              "      <th>2</th>\n",
              "      <td>ресторан</td>\n",
              "      <td>2282</td>\n",
              "      <td>543</td>\n",
              "      <td>23.79</td>\n",
              "    </tr>\n",
              "    <tr>\n",
              "      <th>0</th>\n",
              "      <td>кафе</td>\n",
              "      <td>6071</td>\n",
              "      <td>1396</td>\n",
              "      <td>22.99</td>\n",
              "    </tr>\n",
              "    <tr>\n",
              "      <th>7</th>\n",
              "      <td>закусочная</td>\n",
              "      <td>348</td>\n",
              "      <td>56</td>\n",
              "      <td>16.09</td>\n",
              "    </tr>\n",
              "    <tr>\n",
              "      <th>6</th>\n",
              "      <td>кафетерий</td>\n",
              "      <td>395</td>\n",
              "      <td>52</td>\n",
              "      <td>13.16</td>\n",
              "    </tr>\n",
              "    <tr>\n",
              "      <th>4</th>\n",
              "      <td>бар</td>\n",
              "      <td>855</td>\n",
              "      <td>37</td>\n",
              "      <td>4.33</td>\n",
              "    </tr>\n",
              "    <tr>\n",
              "      <th>5</th>\n",
              "      <td>буфет</td>\n",
              "      <td>576</td>\n",
              "      <td>11</td>\n",
              "      <td>1.91</td>\n",
              "    </tr>\n",
              "    <tr>\n",
              "      <th>1</th>\n",
              "      <td>столовая</td>\n",
              "      <td>2584</td>\n",
              "      <td>3</td>\n",
              "      <td>0.12</td>\n",
              "    </tr>\n",
              "  </tbody>\n",
              "</table>\n",
              "</div>"
            ],
            "text/plain": [
              "                         object_type  count_all  count_chain_true   per\n",
              "3  предприятие быстрого обслуживания       1897               788 41.54\n",
              "8          магазин (отдел кулинарии)        273                78 28.57\n",
              "2                           ресторан       2282               543 23.79\n",
              "0                               кафе       6071              1396 22.99\n",
              "7                         закусочная        348                56 16.09\n",
              "6                          кафетерий        395                52 13.16\n",
              "4                                бар        855                37  4.33\n",
              "5                              буфет        576                11  1.91\n",
              "1                           столовая       2584                 3  0.12"
            ]
          },
          "execution_count": 19,
          "metadata": {},
          "output_type": "execute_result"
        }
      ],
      "source": [
        "#выделяем сетевые заведения и создадим для этого отдельный датафрейм\n",
        "chain_true_object = df[df['chain'] == True]\n",
        "#расчет количества сетевых заведений по каждому виду\n",
        "chain_true_object = chain_true_object['object_type'].value_counts().to_frame().reset_index()\n",
        "chain_true_object.columns = ['object_type', 'count']\n",
        "\n",
        "#объединение полученной таблицы с табл по общему количеству заведений распределенному по типу объекта общественного питания\n",
        "chain_object = object_type.merge(chain_true_object, on='object_type')\n",
        "chain_object.columns = ['object_type', 'count_all', 'count_chain_true']\n",
        "\n",
        "#добавление столбца с процентом сетевых заведений от общего количества заведений\n",
        "chain_object['per'] = round(chain_object['count_chain_true']/chain_object['count_all'] * 100,2)\n",
        "#сортировка и вывод таблицы\n",
        "chain_object = chain_object.sort_values('per',  ascending=False)\n",
        "chain_object"
      ]
    },
    {
      "cell_type": "markdown",
      "metadata": {
        "id": "_jONXTbt0lCo"
      },
      "source": [
        "Построим гистограмму:"
      ]
    },
    {
      "cell_type": "code",
      "execution_count": null,
      "metadata": {
        "id": "agCyTaT20lCo",
        "outputId": "5b67f4e7-d958-4db5-d457-3b841cb882cd"
      },
      "outputs": [
        {
          "data": {
            "image/png": "[encoded data removed]",
            "text/plain": [
              "<Figure size 720x720 with 1 Axes>"
            ]
          },
          "metadata": {
            "needs_background": "light"
          },
          "output_type": "display_data"
        }
      ],
      "source": [
        "plt.figure(figsize=(10,10))\n",
        "plt.title('Процент сетевых заведений от общего количества по типу объекта',\n",
        "                fontstyle = 'oblique',\n",
        "                fontsize = 25)\n",
        "plt.barh(chain_object['object_type'], chain_object['per'],color = colors)\n",
        "\n",
        "sns.despine() \n",
        "plt.xlabel('%')\n",
        "plt.xticks(wrap=True)\n",
        "plt.gca().invert_yaxis()\n",
        "plt.show()"
      ]
    },
    {
      "cell_type": "markdown",
      "metadata": {
        "id": "s4gssSSl0lCp"
      },
      "source": [
        "Сетевое распространение, более других, характерно для  **предприятий быстрого обслуживания**. Более 40% заведений являются сетевыми.\n",
        "<br>На втором месте **магазины(отдел кулинарии)** - около 30%, на третьем месте **рестораны**, около 24%, от них всего на процент отстали **кафе**.\n",
        "<br>А вот для **столовых** сетевое распространение совсем не характерно, их всего 0,1%."
      ]
    },
    {
      "cell_type": "markdown",
      "metadata": {
        "id": "hGfC8zgr0lCp"
      },
      "source": [
        "### Что характерно для сетевых заведений: много заведений с небольшим числом посадочных мест в каждом или мало заведений с большим количеством посадочных мест?"
      ]
    },
    {
      "cell_type": "markdown",
      "metadata": {
        "id": "bIj-8vKz0lCp"
      },
      "source": [
        "Продолжим рассматривать сетевые заведения.\n",
        "<br> Рассмотрим число посадочных мест характерных для сетевых заведений."
      ]
    },
    {
      "cell_type": "code",
      "execution_count": null,
      "metadata": {
        "id": "u433x99_0lCp",
        "outputId": "f82ec121-248a-47fe-9fd6-f6da00a0f4a9"
      },
      "outputs": [
        {
          "data": {
            "text/plain": [
              "count   2,964.00\n",
              "mean       52.98\n",
              "std        57.15\n",
              "min         0.00\n",
              "25%        15.00\n",
              "50%        40.00\n",
              "75%        72.00\n",
              "max       580.00\n",
              "Name: number, dtype: float64"
            ]
          },
          "execution_count": 22,
          "metadata": {},
          "output_type": "execute_result"
        }
      ],
      "source": [
        "chain_true_object = df[df['chain'] == True]\n",
        "#выведем основную статистическую информацию по числу посадочных мест в сетевых заведениях.\n",
        "chain_true_object['number'].describe()"
      ]
    },
    {
      "cell_type": "markdown",
      "metadata": {
        "id": "mS72L0iu0lCq"
      },
      "source": [
        "Мы видим, что есть заведения в которых совсем *нет посадочных мест*, так же есть заведение, в котором *посадочных мест 580*. В *среднем* посадочных мест в сетевых заведениях *53*, а *медианное* значение равно *40*.\n",
        "<br> Построим гистограмму и проверим какие значения количества мест преобладают по частоте встречаемых сетевых заведений."
      ]
    },
    {
      "cell_type": "code",
      "execution_count": null,
      "metadata": {
        "scrolled": true,
        "id": "HaVvr7Xy0lCq",
        "outputId": "e692b39d-5261-4f12-e81a-ff8717f84015"
      },
      "outputs": [
        {
          "data": {
            "image/png": "[encoded data removed]",
            "text/plain": [
              "<Figure size 720x720 with 1 Axes>"
            ]
          },
          "metadata": {
            "needs_background": "light"
          },
          "output_type": "display_data"
        }
      ],
      "source": [
        "plt.figure(figsize=(10,10))\n",
        "chain_true_object['number'].hist(bins=15, color='#7570b3')\n",
        "sns.despine() \n",
        "plt.title('Распредение количества посадочных мест сетевых заведений',\n",
        "                fontstyle = 'oblique',\n",
        "                fontsize = 25)\n",
        "plt.grid()\n",
        "plt.show()"
      ]
    },
    {
      "cell_type": "markdown",
      "metadata": {
        "id": "Ap9dFoA00lCq"
      },
      "source": [
        "Больше всего заведений приходится на количество до 40 посадочных мест, далее, чем больше количество посадочных мест. тем меньше количество заведений.\n",
        "Исходя из увиденного можно сделать вывод, что **для сетевых заведений характерное количество мест в заведение до 40**."
      ]
    },
    {
      "cell_type": "code",
      "execution_count": null,
      "metadata": {
        "id": "iyRKcCQG0lCq",
        "outputId": "8657b71e-3954-4423-d90d-dafe40ed5f99"
      },
      "outputs": [
        {
          "data": {
            "text/html": [
              "<div>\n",
              "<style scoped>\n",
              "    .dataframe tbody tr th:only-of-type {\n",
              "        vertical-align: middle;\n",
              "    }\n",
              "\n",
              "    .dataframe tbody tr th {\n",
              "        vertical-align: top;\n",
              "    }\n",
              "\n",
              "    .dataframe thead th {\n",
              "        text-align: right;\n",
              "    }\n",
              "</style>\n",
              "<table border=\"1\" class=\"dataframe\">\n",
              "  <thead>\n",
              "    <tr style=\"text-align: right;\">\n",
              "      <th></th>\n",
              "      <th>object_category</th>\n",
              "      <th>count</th>\n",
              "    </tr>\n",
              "  </thead>\n",
              "  <tbody>\n",
              "    <tr>\n",
              "      <th>0</th>\n",
              "      <td>Мало мест - Мало заведений</td>\n",
              "      <td>177</td>\n",
              "    </tr>\n",
              "    <tr>\n",
              "      <th>4</th>\n",
              "      <td>Средне мест - Мало заведений</td>\n",
              "      <td>51</td>\n",
              "    </tr>\n",
              "    <tr>\n",
              "      <th>3</th>\n",
              "      <td>Много мест - Мало заведений</td>\n",
              "      <td>8</td>\n",
              "    </tr>\n",
              "    <tr>\n",
              "      <th>2</th>\n",
              "      <td>Мало мест - Средне заведений</td>\n",
              "      <td>5</td>\n",
              "    </tr>\n",
              "    <tr>\n",
              "      <th>1</th>\n",
              "      <td>Мало мест - Много заведений</td>\n",
              "      <td>3</td>\n",
              "    </tr>\n",
              "    <tr>\n",
              "      <th>5</th>\n",
              "      <td>Средне мест - Много заведений</td>\n",
              "      <td>1</td>\n",
              "    </tr>\n",
              "  </tbody>\n",
              "</table>\n",
              "</div>"
            ],
            "text/plain": [
              "                 object_category  count\n",
              "0     Мало мест - Мало заведений    177\n",
              "4   Средне мест - Мало заведений     51\n",
              "3    Много мест - Мало заведений      8\n",
              "2   Мало мест - Средне заведений      5\n",
              "1    Мало мест - Много заведений      3\n",
              "5  Средне мест - Много заведений      1"
            ]
          },
          "execution_count": 24,
          "metadata": {},
          "output_type": "execute_result"
        }
      ],
      "source": [
        "chain_in_1 = chain_true_object.groupby(\n",
        "    'object_name').agg({'number':['mean', 'count']}).reset_index()\n",
        "chain_in_1.columns = ['object_type', 'mean', 'count']\n",
        "chain_in_1 = chain_in_1[chain_in_1['count'] != 1]\n",
        "chain_in_1['group_mean'] = pd.cut(chain_in_1['mean'], bins = 3, \n",
        "                      labels=[\"Мало мест\", \"Средне мест\", \"Много мест\"],right=True)\n",
        "chain_in_1['group_count'] = pd.cut(chain_in_1['count'], bins = 3, \n",
        "                      labels=[\"Мало заведений\", \"Средне заведений\", \"Много заведений\"],right=True)\n",
        "\n",
        "chain_in_1['object_category'] = chain_in_1['group_mean'].astype(str) + \" - \" + chain_in_1['group_count'].astype(str)\n",
        "\n",
        "chain_in_1_count = chain_in_1.groupby(\n",
        "    'object_category').agg({'object_category':['count']}).reset_index()\n",
        "chain_in_1_count.columns = ['object_category', 'count']\n",
        "chain_in_1_count = chain_in_1_count.sort_values(by='count', ascending=False)\n",
        "chain_in_1_count"
      ]
    },
    {
      "cell_type": "markdown",
      "metadata": {
        "id": "HdqTAQT20lCr"
      },
      "source": [
        "Для сетевых заведений заведений характерно **малое количество мест и малое количество заведений** в сети."
      ]
    },
    {
      "cell_type": "markdown",
      "metadata": {
        "id": "jAUPvOiS0lCr"
      },
      "source": [
        "### Среднее количество посадочных мест для каждого вида объекта общественного питания. Какой с самым большым средним количество посадочных мест"
      ]
    },
    {
      "cell_type": "markdown",
      "metadata": {
        "id": "lzuBgAD_0lCr"
      },
      "source": [
        "Построим таблицу с основной статистической информацией о количестве посадочных мест по типу объекта общественного питания."
      ]
    },
    {
      "cell_type": "code",
      "execution_count": null,
      "metadata": {
        "scrolled": false,
        "id": "9wEU8LPo0lCs",
        "outputId": "f153a5a2-195c-4edd-e472-12366a82c133"
      },
      "outputs": [
        {
          "data": {
            "text/html": [
              "<div>\n",
              "<style scoped>\n",
              "    .dataframe tbody tr th:only-of-type {\n",
              "        vertical-align: middle;\n",
              "    }\n",
              "\n",
              "    .dataframe tbody tr th {\n",
              "        vertical-align: top;\n",
              "    }\n",
              "\n",
              "    .dataframe thead th {\n",
              "        text-align: right;\n",
              "    }\n",
              "</style>\n",
              "<table border=\"1\" class=\"dataframe\">\n",
              "  <thead>\n",
              "    <tr style=\"text-align: right;\">\n",
              "      <th></th>\n",
              "      <th>count</th>\n",
              "      <th>mean</th>\n",
              "      <th>std</th>\n",
              "      <th>min</th>\n",
              "      <th>25%</th>\n",
              "      <th>50%</th>\n",
              "      <th>75%</th>\n",
              "      <th>max</th>\n",
              "    </tr>\n",
              "    <tr>\n",
              "      <th>object_type</th>\n",
              "      <th></th>\n",
              "      <th></th>\n",
              "      <th></th>\n",
              "      <th></th>\n",
              "      <th></th>\n",
              "      <th></th>\n",
              "      <th></th>\n",
              "      <th></th>\n",
              "    </tr>\n",
              "  </thead>\n",
              "  <tbody>\n",
              "    <tr>\n",
              "      <th>бар</th>\n",
              "      <td>855.00</td>\n",
              "      <td>43.53</td>\n",
              "      <td>67.11</td>\n",
              "      <td>0.00</td>\n",
              "      <td>20.00</td>\n",
              "      <td>35.00</td>\n",
              "      <td>50.00</td>\n",
              "      <td>1,700.00</td>\n",
              "    </tr>\n",
              "    <tr>\n",
              "      <th>буфет</th>\n",
              "      <td>576.00</td>\n",
              "      <td>51.43</td>\n",
              "      <td>56.51</td>\n",
              "      <td>0.00</td>\n",
              "      <td>15.00</td>\n",
              "      <td>32.00</td>\n",
              "      <td>80.00</td>\n",
              "      <td>320.00</td>\n",
              "    </tr>\n",
              "    <tr>\n",
              "      <th>закусочная</th>\n",
              "      <td>348.00</td>\n",
              "      <td>7.85</td>\n",
              "      <td>16.88</td>\n",
              "      <td>0.00</td>\n",
              "      <td>0.00</td>\n",
              "      <td>0.00</td>\n",
              "      <td>10.00</td>\n",
              "      <td>216.00</td>\n",
              "    </tr>\n",
              "    <tr>\n",
              "      <th>кафе</th>\n",
              "      <td>6,071.00</td>\n",
              "      <td>39.79</td>\n",
              "      <td>37.75</td>\n",
              "      <td>0.00</td>\n",
              "      <td>15.00</td>\n",
              "      <td>30.00</td>\n",
              "      <td>50.00</td>\n",
              "      <td>533.00</td>\n",
              "    </tr>\n",
              "    <tr>\n",
              "      <th>кафетерий</th>\n",
              "      <td>395.00</td>\n",
              "      <td>9.18</td>\n",
              "      <td>14.68</td>\n",
              "      <td>0.00</td>\n",
              "      <td>0.00</td>\n",
              "      <td>6.00</td>\n",
              "      <td>12.00</td>\n",
              "      <td>200.00</td>\n",
              "    </tr>\n",
              "    <tr>\n",
              "      <th>магазин (отдел кулинарии)</th>\n",
              "      <td>273.00</td>\n",
              "      <td>5.59</td>\n",
              "      <td>9.87</td>\n",
              "      <td>0.00</td>\n",
              "      <td>0.00</td>\n",
              "      <td>0.00</td>\n",
              "      <td>8.00</td>\n",
              "      <td>50.00</td>\n",
              "    </tr>\n",
              "    <tr>\n",
              "      <th>предприятие быстрого обслуживания</th>\n",
              "      <td>1,897.00</td>\n",
              "      <td>20.81</td>\n",
              "      <td>38.56</td>\n",
              "      <td>0.00</td>\n",
              "      <td>0.00</td>\n",
              "      <td>6.00</td>\n",
              "      <td>25.00</td>\n",
              "      <td>580.00</td>\n",
              "    </tr>\n",
              "    <tr>\n",
              "      <th>ресторан</th>\n",
              "      <td>2,282.00</td>\n",
              "      <td>96.88</td>\n",
              "      <td>94.78</td>\n",
              "      <td>0.00</td>\n",
              "      <td>46.00</td>\n",
              "      <td>80.00</td>\n",
              "      <td>114.00</td>\n",
              "      <td>1,500.00</td>\n",
              "    </tr>\n",
              "    <tr>\n",
              "      <th>столовая</th>\n",
              "      <td>2,584.00</td>\n",
              "      <td>130.34</td>\n",
              "      <td>95.19</td>\n",
              "      <td>0.00</td>\n",
              "      <td>51.50</td>\n",
              "      <td>103.00</td>\n",
              "      <td>200.00</td>\n",
              "      <td>1,400.00</td>\n",
              "    </tr>\n",
              "  </tbody>\n",
              "</table>\n",
              "</div>"
            ],
            "text/plain": [
              "                                     count   mean   std  min   25%    50%  \\\n",
              "object_type                                                                 \n",
              "бар                                 855.00  43.53 67.11 0.00 20.00  35.00   \n",
              "буфет                               576.00  51.43 56.51 0.00 15.00  32.00   \n",
              "закусочная                          348.00   7.85 16.88 0.00  0.00   0.00   \n",
              "кафе                              6,071.00  39.79 37.75 0.00 15.00  30.00   \n",
              "кафетерий                           395.00   9.18 14.68 0.00  0.00   6.00   \n",
              "магазин (отдел кулинарии)           273.00   5.59  9.87 0.00  0.00   0.00   \n",
              "предприятие быстрого обслуживания 1,897.00  20.81 38.56 0.00  0.00   6.00   \n",
              "ресторан                          2,282.00  96.88 94.78 0.00 46.00  80.00   \n",
              "столовая                          2,584.00 130.34 95.19 0.00 51.50 103.00   \n",
              "\n",
              "                                     75%      max  \n",
              "object_type                                        \n",
              "бар                                50.00 1,700.00  \n",
              "буфет                              80.00   320.00  \n",
              "закусочная                         10.00   216.00  \n",
              "кафе                               50.00   533.00  \n",
              "кафетерий                          12.00   200.00  \n",
              "магазин (отдел кулинарии)           8.00    50.00  \n",
              "предприятие быстрого обслуживания  25.00   580.00  \n",
              "ресторан                          114.00 1,500.00  \n",
              "столовая                          200.00 1,400.00  "
            ]
          },
          "execution_count": 27,
          "metadata": {},
          "output_type": "execute_result"
        }
      ],
      "source": [
        "#вывод статистической информации\n",
        "df.groupby('object_type')['number'].describe()"
      ]
    },
    {
      "cell_type": "markdown",
      "metadata": {
        "id": "PYo-Wd7v0lCs"
      },
      "source": [
        "Для большей наглядности построим \"*ящик с усами*\"."
      ]
    },
    {
      "cell_type": "code",
      "execution_count": null,
      "metadata": {
        "scrolled": false,
        "id": "1xg_2bPP0lCs",
        "outputId": "7309600f-c770-4a3f-c9bd-ec4a571ff4d2"
      },
      "outputs": [
        {
          "data": {
            "image/png": "[encoded data removed]",
            "text/plain": [
              "<Figure size 720x720 with 1 Axes>"
            ]
          },
          "metadata": {
            "needs_background": "light"
          },
          "output_type": "display_data"
        }
      ],
      "source": [
        "#построение ящика с усами\n",
        "plt.figure(figsize=(10,10))\n",
        "sns.boxplot(data=df, x='number', y='object_type', palette='Purples',)\n",
        "sns.despine() \n",
        "plt.title('График с усами распределения количества посадочных мест по видам заведений',\n",
        "                fontstyle = 'oblique',\n",
        "                fontsize = 25)\n",
        "#plt.ylim(0, 2)\n",
        "plt.show()"
      ]
    },
    {
      "cell_type": "markdown",
      "metadata": {
        "id": "22Cc6kJ00lCs"
      },
      "source": [
        "Для таких типов общественного питания как **магазин** или **закусочная** такой масштаб графика не очень нагляден. <br>Увеличим масштаб:"
      ]
    },
    {
      "cell_type": "code",
      "execution_count": null,
      "metadata": {
        "scrolled": true,
        "id": "WwhXf32E0lCs",
        "outputId": "de9f635f-18e0-44c3-ffc6-cd511041bde8"
      },
      "outputs": [
        {
          "data": {
            "image/png": "[encoded data removed]",
            "text/plain": [
              "<Figure size 720x720 with 1 Axes>"
            ]
          },
          "metadata": {
            "needs_background": "light"
          },
          "output_type": "display_data"
        }
      ],
      "source": [
        "plt.figure(figsize=(10,10))\n",
        "sns.boxplot(data=df, x='number', y='object_type', palette='Purples',)\n",
        "sns.despine() \n",
        "plt.title('График с усами распределения количества посадочных мест по видам заведений',\n",
        "                fontstyle = 'oblique',\n",
        "                fontsize = 25)\n",
        "plt.xlim(-10, 400)\n",
        "plt.show()"
      ]
    },
    {
      "cell_type": "markdown",
      "metadata": {
        "id": "FrCyksgp0lCt"
      },
      "source": [
        "- Для **кафе** среднее значение составляет 40 посадочных мест, а медианное значение равно 30. У данного типа умеются значительные выбросы, а максимальное значение достигает 533.\n",
        "- Среднее количество посадочных мест в **столовых** равно 130, а медианное значение равно 103, максимальное количество посадочных мест достигает 1400.\n",
        "- В **закусочных** среднее значение посадочных мест равно 8, а медиана равняется 0, максимальное количество посадочных мест достингает 216.\n",
        "- 21 место в среднем у **предприятий быстрого обслуживания**, тогда как медианное значение равно 6. Максимальная цифра равняется 580. Данный тип имеет большое количество аномальных значений.\n",
        "- У типа **ресторан** среднее значение для посадочных мест равно 97, медиана равна 80, а максимальное количество посадочных мест достигает аж 1500. Имеется довольно много выбросов.\n",
        "- В **кафетериях** среднее количество посдочных мест равно 9, а медианное значение рано 6. Имееются выбросы. Максимальное количетсво посадочных мест равно 200.\n",
        "- В **буфетах**  среднее количество посдочных мест равно 52, медианное значение рано 32. Максимальное количество посадочных мест равно 320. \n",
        "- Для **баров** среднее количество посадочных мест равняется 44,  амедианное значение равно 35, так же максимально значение равно 1700, что является самым большим среди всех типов заведений.\n",
        "- Среднее количество посадочных мест в **магазинах(отдел кулинарии)** равно 6, а медианное как и у *закусочных* - 0. Максимальное колчество посадочных мест равно 50."
      ]
    },
    {
      "cell_type": "code",
      "execution_count": null,
      "metadata": {
        "scrolled": true,
        "id": "fFatk1F-0lCt",
        "outputId": "8ccf3c34-4bde-4f82-f924-74f0befdb851"
      },
      "outputs": [
        {
          "data": {
            "image/png": "[encoded data removed]",
            "text/plain": [
              "<Figure size 720x720 with 1 Axes>"
            ]
          },
          "metadata": {
            "needs_background": "light"
          },
          "output_type": "display_data"
        }
      ],
      "source": [
        "#построение таблицы средних значений для даньнейшего построения графика\n",
        "object_type_mean = df.groupby(\n",
        "    'object_type').agg({'number':['mean', 'median']}).reset_index()\n",
        "object_type_mean.columns = ['object_type', 'mean', 'median']\n",
        "object_type_mean = object_type_mean.sort_values('mean',  ascending=False)\n",
        "object_type_mean\n",
        "\n",
        "#построение графика\n",
        "plt.figure(figsize=(10,10))\n",
        "plt.title('Среднее количество мест по типу объекта общественного питания',\n",
        "                fontstyle = 'oblique',\n",
        "                fontsize = 25)\n",
        "plt.barh(object_type_mean['object_type'], object_type_mean['mean'],color = colors)\n",
        "\n",
        "sns.despine() \n",
        "\n",
        "plt.xticks(wrap=True)\n",
        "plt.gca().invert_yaxis()\n",
        "plt.show()"
      ]
    },
    {
      "cell_type": "markdown",
      "metadata": {
        "id": "4dEn0xDi0lCt"
      },
      "source": [
        "Из графика мы можем наглядно увидеть, что наибольшим средним количеством посадочных мест могут похвастаться **столовые**, за ними следуют **рестораны**. На третьем месте **буфеты**."
      ]
    },
    {
      "cell_type": "markdown",
      "metadata": {
        "id": "ksXDAozQ0lCt"
      },
      "source": [
        "### Выделение улицы"
      ]
    },
    {
      "cell_type": "markdown",
      "metadata": {
        "id": "vsmONs6i0lCt"
      },
      "source": [
        "Выделим отдельно информацию с улицей на которой расположено заведение.\n",
        "<br> Для начала посмотрим как расположена информация о улице в общем указании адреса."
      ]
    },
    {
      "cell_type": "code",
      "execution_count": null,
      "metadata": {
        "scrolled": true,
        "id": "NxjkmsRS0lCt",
        "outputId": "41c29418-3ad6-4df2-ea16-5adf0a048064"
      },
      "outputs": [
        {
          "data": {
            "text/html": [
              "<div>\n",
              "<style scoped>\n",
              "    .dataframe tbody tr th:only-of-type {\n",
              "        vertical-align: middle;\n",
              "    }\n",
              "\n",
              "    .dataframe tbody tr th {\n",
              "        vertical-align: top;\n",
              "    }\n",
              "\n",
              "    .dataframe thead th {\n",
              "        text-align: right;\n",
              "    }\n",
              "</style>\n",
              "<table border=\"1\" class=\"dataframe\">\n",
              "  <thead>\n",
              "    <tr style=\"text-align: right;\">\n",
              "      <th></th>\n",
              "      <th>id</th>\n",
              "      <th>object_name</th>\n",
              "      <th>chain</th>\n",
              "      <th>object_type</th>\n",
              "      <th>address</th>\n",
              "      <th>number</th>\n",
              "    </tr>\n",
              "  </thead>\n",
              "  <tbody>\n",
              "    <tr>\n",
              "      <th>0</th>\n",
              "      <td>151635</td>\n",
              "      <td>сметана</td>\n",
              "      <td>False</td>\n",
              "      <td>кафе</td>\n",
              "      <td>город москва, улица егора абакумова, дом 9</td>\n",
              "      <td>48</td>\n",
              "    </tr>\n",
              "    <tr>\n",
              "      <th>1</th>\n",
              "      <td>77874</td>\n",
              "      <td>родник</td>\n",
              "      <td>False</td>\n",
              "      <td>кафе</td>\n",
              "      <td>город москва, улица талалихина, дом 2/1, корпус 1</td>\n",
              "      <td>35</td>\n",
              "    </tr>\n",
              "    <tr>\n",
              "      <th>2</th>\n",
              "      <td>24309</td>\n",
              "      <td>кафе «академия»</td>\n",
              "      <td>False</td>\n",
              "      <td>кафе</td>\n",
              "      <td>город москва, абельмановская улица, дом 6</td>\n",
              "      <td>95</td>\n",
              "    </tr>\n",
              "    <tr>\n",
              "      <th>3</th>\n",
              "      <td>21894</td>\n",
              "      <td>пиццетория</td>\n",
              "      <td>True</td>\n",
              "      <td>кафе</td>\n",
              "      <td>город москва, абрамцевская улица, дом 1</td>\n",
              "      <td>40</td>\n",
              "    </tr>\n",
              "    <tr>\n",
              "      <th>4</th>\n",
              "      <td>119365</td>\n",
              "      <td>кафе «вишневая метель»</td>\n",
              "      <td>False</td>\n",
              "      <td>кафе</td>\n",
              "      <td>город москва, абрамцевская улица, дом 9, корпус 1</td>\n",
              "      <td>50</td>\n",
              "    </tr>\n",
              "    <tr>\n",
              "      <th>5</th>\n",
              "      <td>27429</td>\n",
              "      <td>стол. при гоу сош № 1051</td>\n",
              "      <td>False</td>\n",
              "      <td>столовая</td>\n",
              "      <td>город москва, абрамцевская улица, дом 15, корп...</td>\n",
              "      <td>240</td>\n",
              "    </tr>\n",
              "    <tr>\n",
              "      <th>6</th>\n",
              "      <td>148815</td>\n",
              "      <td>брусника</td>\n",
              "      <td>True</td>\n",
              "      <td>кафе</td>\n",
              "      <td>город москва, переулок сивцев вражек, дом 6/2</td>\n",
              "      <td>10</td>\n",
              "    </tr>\n",
              "    <tr>\n",
              "      <th>7</th>\n",
              "      <td>20957</td>\n",
              "      <td>буфет мтуси</td>\n",
              "      <td>False</td>\n",
              "      <td>столовая</td>\n",
              "      <td>город москва, авиамоторная улица, дом 8, строе...</td>\n",
              "      <td>90</td>\n",
              "    </tr>\n",
              "    <tr>\n",
              "      <th>8</th>\n",
              "      <td>20958</td>\n",
              "      <td>кпф семья-1</td>\n",
              "      <td>False</td>\n",
              "      <td>столовая</td>\n",
              "      <td>город москва, авиамоторная улица, дом 8, строе...</td>\n",
              "      <td>150</td>\n",
              "    </tr>\n",
              "    <tr>\n",
              "      <th>9</th>\n",
              "      <td>28858</td>\n",
              "      <td>столовая мтуси</td>\n",
              "      <td>False</td>\n",
              "      <td>столовая</td>\n",
              "      <td>город москва, авиамоторная улица, дом 8, строе...</td>\n",
              "      <td>120</td>\n",
              "    </tr>\n",
              "  </tbody>\n",
              "</table>\n",
              "</div>"
            ],
            "text/plain": [
              "       id               object_name  chain object_type  \\\n",
              "0  151635                   сметана  False        кафе   \n",
              "1   77874                    родник  False        кафе   \n",
              "2   24309           кафе «академия»  False        кафе   \n",
              "3   21894                пиццетория   True        кафе   \n",
              "4  119365    кафе «вишневая метель»  False        кафе   \n",
              "5   27429  стол. при гоу сош № 1051  False    столовая   \n",
              "6  148815                  брусника   True        кафе   \n",
              "7   20957               буфет мтуси  False    столовая   \n",
              "8   20958               кпф семья-1  False    столовая   \n",
              "9   28858            столовая мтуси  False    столовая   \n",
              "\n",
              "                                             address  number  \n",
              "0         город москва, улица егора абакумова, дом 9      48  \n",
              "1  город москва, улица талалихина, дом 2/1, корпус 1      35  \n",
              "2          город москва, абельмановская улица, дом 6      95  \n",
              "3            город москва, абрамцевская улица, дом 1      40  \n",
              "4  город москва, абрамцевская улица, дом 9, корпус 1      50  \n",
              "5  город москва, абрамцевская улица, дом 15, корп...     240  \n",
              "6      город москва, переулок сивцев вражек, дом 6/2      10  \n",
              "7  город москва, авиамоторная улица, дом 8, строе...      90  \n",
              "8  город москва, авиамоторная улица, дом 8, строе...     150  \n",
              "9  город москва, авиамоторная улица, дом 8, строе...     120  "
            ]
          },
          "execution_count": 31,
          "metadata": {},
          "output_type": "execute_result"
        }
      ],
      "source": [
        "df.head(10)"
      ]
    },
    {
      "cell_type": "markdown",
      "metadata": {
        "id": "iCgFDGRw0lCu"
      },
      "source": [
        "В связи с тем, что в адресе не всегда обязательно указание улицы, а так же может быть използованы адреса с указанием переулков, площадей, шоссе и т.п. мы с помощью списка наименований и функции выделим все эти наименование в отдельный столбец."
      ]
    },
    {
      "cell_type": "code",
      "execution_count": null,
      "metadata": {
        "id": "zsEGsTB70lCu"
      },
      "outputs": [],
      "source": [
        "#создание списка\n",
        "name_streets =['улица', 'переулок', 'бульвар', 'проспект', 'проезд', 'шоссе', 'аллея', 'набережная', 'квартал', 'линия', 'тупик', 'площадь']"
      ]
    },
    {
      "cell_type": "code",
      "execution_count": null,
      "metadata": {
        "scrolled": false,
        "id": "jVBMVvmE0lCu",
        "outputId": "82dce1a4-7c8f-42df-abb6-5460701c89ec"
      },
      "outputs": [
        {
          "data": {
            "text/html": [
              "<div>\n",
              "<style scoped>\n",
              "    .dataframe tbody tr th:only-of-type {\n",
              "        vertical-align: middle;\n",
              "    }\n",
              "\n",
              "    .dataframe tbody tr th {\n",
              "        vertical-align: top;\n",
              "    }\n",
              "\n",
              "    .dataframe thead th {\n",
              "        text-align: right;\n",
              "    }\n",
              "</style>\n",
              "<table border=\"1\" class=\"dataframe\">\n",
              "  <thead>\n",
              "    <tr style=\"text-align: right;\">\n",
              "      <th></th>\n",
              "      <th>id</th>\n",
              "      <th>object_name</th>\n",
              "      <th>chain</th>\n",
              "      <th>object_type</th>\n",
              "      <th>address</th>\n",
              "      <th>number</th>\n",
              "      <th>street</th>\n",
              "    </tr>\n",
              "  </thead>\n",
              "  <tbody>\n",
              "    <tr>\n",
              "      <th>0</th>\n",
              "      <td>151635</td>\n",
              "      <td>сметана</td>\n",
              "      <td>False</td>\n",
              "      <td>кафе</td>\n",
              "      <td>город москва, улица егора абакумова, дом 9</td>\n",
              "      <td>48</td>\n",
              "      <td>улица егора абакумова</td>\n",
              "    </tr>\n",
              "    <tr>\n",
              "      <th>1</th>\n",
              "      <td>77874</td>\n",
              "      <td>родник</td>\n",
              "      <td>False</td>\n",
              "      <td>кафе</td>\n",
              "      <td>город москва, улица талалихина, дом 2/1, корпус 1</td>\n",
              "      <td>35</td>\n",
              "      <td>улица талалихина</td>\n",
              "    </tr>\n",
              "    <tr>\n",
              "      <th>2</th>\n",
              "      <td>24309</td>\n",
              "      <td>кафе «академия»</td>\n",
              "      <td>False</td>\n",
              "      <td>кафе</td>\n",
              "      <td>город москва, абельмановская улица, дом 6</td>\n",
              "      <td>95</td>\n",
              "      <td>абельмановская улица</td>\n",
              "    </tr>\n",
              "    <tr>\n",
              "      <th>3</th>\n",
              "      <td>21894</td>\n",
              "      <td>пиццетория</td>\n",
              "      <td>True</td>\n",
              "      <td>кафе</td>\n",
              "      <td>город москва, абрамцевская улица, дом 1</td>\n",
              "      <td>40</td>\n",
              "      <td>абрамцевская улица</td>\n",
              "    </tr>\n",
              "    <tr>\n",
              "      <th>4</th>\n",
              "      <td>119365</td>\n",
              "      <td>кафе «вишневая метель»</td>\n",
              "      <td>False</td>\n",
              "      <td>кафе</td>\n",
              "      <td>город москва, абрамцевская улица, дом 9, корпус 1</td>\n",
              "      <td>50</td>\n",
              "      <td>абрамцевская улица</td>\n",
              "    </tr>\n",
              "    <tr>\n",
              "      <th>5</th>\n",
              "      <td>27429</td>\n",
              "      <td>стол. при гоу сош № 1051</td>\n",
              "      <td>False</td>\n",
              "      <td>столовая</td>\n",
              "      <td>город москва, абрамцевская улица, дом 15, корп...</td>\n",
              "      <td>240</td>\n",
              "      <td>абрамцевская улица</td>\n",
              "    </tr>\n",
              "    <tr>\n",
              "      <th>6</th>\n",
              "      <td>148815</td>\n",
              "      <td>брусника</td>\n",
              "      <td>True</td>\n",
              "      <td>кафе</td>\n",
              "      <td>город москва, переулок сивцев вражек, дом 6/2</td>\n",
              "      <td>10</td>\n",
              "      <td>переулок сивцев вражек</td>\n",
              "    </tr>\n",
              "    <tr>\n",
              "      <th>7</th>\n",
              "      <td>20957</td>\n",
              "      <td>буфет мтуси</td>\n",
              "      <td>False</td>\n",
              "      <td>столовая</td>\n",
              "      <td>город москва, авиамоторная улица, дом 8, строе...</td>\n",
              "      <td>90</td>\n",
              "      <td>авиамоторная улица</td>\n",
              "    </tr>\n",
              "    <tr>\n",
              "      <th>8</th>\n",
              "      <td>20958</td>\n",
              "      <td>кпф семья-1</td>\n",
              "      <td>False</td>\n",
              "      <td>столовая</td>\n",
              "      <td>город москва, авиамоторная улица, дом 8, строе...</td>\n",
              "      <td>150</td>\n",
              "      <td>авиамоторная улица</td>\n",
              "    </tr>\n",
              "    <tr>\n",
              "      <th>9</th>\n",
              "      <td>28858</td>\n",
              "      <td>столовая мтуси</td>\n",
              "      <td>False</td>\n",
              "      <td>столовая</td>\n",
              "      <td>город москва, авиамоторная улица, дом 8, строе...</td>\n",
              "      <td>120</td>\n",
              "      <td>авиамоторная улица</td>\n",
              "    </tr>\n",
              "  </tbody>\n",
              "</table>\n",
              "</div>"
            ],
            "text/plain": [
              "       id               object_name  chain object_type  \\\n",
              "0  151635                   сметана  False        кафе   \n",
              "1   77874                    родник  False        кафе   \n",
              "2   24309           кафе «академия»  False        кафе   \n",
              "3   21894                пиццетория   True        кафе   \n",
              "4  119365    кафе «вишневая метель»  False        кафе   \n",
              "5   27429  стол. при гоу сош № 1051  False    столовая   \n",
              "6  148815                  брусника   True        кафе   \n",
              "7   20957               буфет мтуси  False    столовая   \n",
              "8   20958               кпф семья-1  False    столовая   \n",
              "9   28858            столовая мтуси  False    столовая   \n",
              "\n",
              "                                             address  number  \\\n",
              "0         город москва, улица егора абакумова, дом 9      48   \n",
              "1  город москва, улица талалихина, дом 2/1, корпус 1      35   \n",
              "2          город москва, абельмановская улица, дом 6      95   \n",
              "3            город москва, абрамцевская улица, дом 1      40   \n",
              "4  город москва, абрамцевская улица, дом 9, корпус 1      50   \n",
              "5  город москва, абрамцевская улица, дом 15, корп...     240   \n",
              "6      город москва, переулок сивцев вражек, дом 6/2      10   \n",
              "7  город москва, авиамоторная улица, дом 8, строе...      90   \n",
              "8  город москва, авиамоторная улица, дом 8, строе...     150   \n",
              "9  город москва, авиамоторная улица, дом 8, строе...     120   \n",
              "\n",
              "                   street  \n",
              "0   улица егора абакумова  \n",
              "1        улица талалихина  \n",
              "2    абельмановская улица  \n",
              "3      абрамцевская улица  \n",
              "4      абрамцевская улица  \n",
              "5      абрамцевская улица  \n",
              "6  переулок сивцев вражек  \n",
              "7      авиамоторная улица  \n",
              "8      авиамоторная улица  \n",
              "9      авиамоторная улица  "
            ]
          },
          "execution_count": 33,
          "metadata": {},
          "output_type": "execute_result"
        }
      ],
      "source": [
        "#создание функции\n",
        "def get_street(row):\n",
        "    address = row['address'].split(',') #указываем выделение запятыми\n",
        "    parts = len(address)  \n",
        "    try:\n",
        "        for item in name_streets:\n",
        "            for i in range(parts):\n",
        "                if item in address[i]:  \n",
        "                    return address[i]\n",
        "    except:\n",
        "        return street\n",
        "df['street'] = df.apply(get_street, axis=1)#создание столбца\n",
        "df['street'] = df['street'].str.strip() #удаление пробелов\n",
        "df.head(10)"
      ]
    },
    {
      "cell_type": "markdown",
      "metadata": {
        "id": "BUsMC0nB0lCv"
      },
      "source": [
        "Проверим есть ли значения `None` в новом столбце:"
      ]
    },
    {
      "cell_type": "code",
      "execution_count": null,
      "metadata": {
        "scrolled": false,
        "id": "CsLhUX5M0lCv",
        "outputId": "d9d2ef63-f05e-4592-c87f-006c25ca7ffb"
      },
      "outputs": [
        {
          "data": {
            "text/html": [
              "<div>\n",
              "<style scoped>\n",
              "    .dataframe tbody tr th:only-of-type {\n",
              "        vertical-align: middle;\n",
              "    }\n",
              "\n",
              "    .dataframe tbody tr th {\n",
              "        vertical-align: top;\n",
              "    }\n",
              "\n",
              "    .dataframe thead th {\n",
              "        text-align: right;\n",
              "    }\n",
              "</style>\n",
              "<table border=\"1\" class=\"dataframe\">\n",
              "  <thead>\n",
              "    <tr style=\"text-align: right;\">\n",
              "      <th></th>\n",
              "      <th>id</th>\n",
              "      <th>object_name</th>\n",
              "      <th>chain</th>\n",
              "      <th>object_type</th>\n",
              "      <th>address</th>\n",
              "      <th>number</th>\n",
              "      <th>street</th>\n",
              "    </tr>\n",
              "  </thead>\n",
              "  <tbody>\n",
              "    <tr>\n",
              "      <th>1405</th>\n",
              "      <td>20199</td>\n",
              "      <td>это</td>\n",
              "      <td>False</td>\n",
              "      <td>кафе</td>\n",
              "      <td>город москва, город зеленоград, корпус 401</td>\n",
              "      <td>35</td>\n",
              "      <td>None</td>\n",
              "    </tr>\n",
              "    <tr>\n",
              "      <th>1406</th>\n",
              "      <td>68113</td>\n",
              "      <td>френдс</td>\n",
              "      <td>False</td>\n",
              "      <td>кафе</td>\n",
              "      <td>город москва, город зеленоград, корпус 435</td>\n",
              "      <td>34</td>\n",
              "      <td>None</td>\n",
              "    </tr>\n",
              "    <tr>\n",
              "      <th>1407</th>\n",
              "      <td>20105</td>\n",
              "      <td>кафе «граф монте-кристо»</td>\n",
              "      <td>False</td>\n",
              "      <td>кафе</td>\n",
              "      <td>город москва, город зеленоград, корпус 436</td>\n",
              "      <td>40</td>\n",
              "      <td>None</td>\n",
              "    </tr>\n",
              "    <tr>\n",
              "      <th>1408</th>\n",
              "      <td>22982</td>\n",
              "      <td>альфорно</td>\n",
              "      <td>False</td>\n",
              "      <td>кафе</td>\n",
              "      <td>город москва, город зеленоград, корпус 438</td>\n",
              "      <td>49</td>\n",
              "      <td>None</td>\n",
              "    </tr>\n",
              "    <tr>\n",
              "      <th>1409</th>\n",
              "      <td>151267</td>\n",
              "      <td>альфорно</td>\n",
              "      <td>False</td>\n",
              "      <td>кафе</td>\n",
              "      <td>город москва, город зеленоград, корпус 438</td>\n",
              "      <td>45</td>\n",
              "      <td>None</td>\n",
              "    </tr>\n",
              "    <tr>\n",
              "      <th>...</th>\n",
              "      <td>...</td>\n",
              "      <td>...</td>\n",
              "      <td>...</td>\n",
              "      <td>...</td>\n",
              "      <td>...</td>\n",
              "      <td>...</td>\n",
              "      <td>...</td>\n",
              "    </tr>\n",
              "    <tr>\n",
              "      <th>14997</th>\n",
              "      <td>216942</td>\n",
              "      <td>шашлычный дворик</td>\n",
              "      <td>False</td>\n",
              "      <td>кафе</td>\n",
              "      <td>город москва, поселение десеновское, деревня в...</td>\n",
              "      <td>15</td>\n",
              "      <td>None</td>\n",
              "    </tr>\n",
              "    <tr>\n",
              "      <th>14998</th>\n",
              "      <td>216926</td>\n",
              "      <td>кафе «сахли»</td>\n",
              "      <td>False</td>\n",
              "      <td>закусочная</td>\n",
              "      <td>город москва, поселение десеновское, деревня в...</td>\n",
              "      <td>10</td>\n",
              "      <td>None</td>\n",
              "    </tr>\n",
              "    <tr>\n",
              "      <th>15015</th>\n",
              "      <td>208239</td>\n",
              "      <td>газпромнефть</td>\n",
              "      <td>False</td>\n",
              "      <td>кафе</td>\n",
              "      <td>поселение \"мосрентген\", деревня дудкино, владе...</td>\n",
              "      <td>20</td>\n",
              "      <td>None</td>\n",
              "    </tr>\n",
              "    <tr>\n",
              "      <th>15184</th>\n",
              "      <td>220587</td>\n",
              "      <td>пицца паоло</td>\n",
              "      <td>True</td>\n",
              "      <td>кафетерий</td>\n",
              "      <td>город москва, город зеленоград, корпус 1627</td>\n",
              "      <td>0</td>\n",
              "      <td>None</td>\n",
              "    </tr>\n",
              "    <tr>\n",
              "      <th>15274</th>\n",
              "      <td>211230</td>\n",
              "      <td>предприятие быстрого обслуживания «милти»</td>\n",
              "      <td>True</td>\n",
              "      <td>предприятие быстрого обслуживания</td>\n",
              "      <td>город москва, микрорайон северное чертаново, д...</td>\n",
              "      <td>0</td>\n",
              "      <td>None</td>\n",
              "    </tr>\n",
              "  </tbody>\n",
              "</table>\n",
              "<p>381 rows × 7 columns</p>\n",
              "</div>"
            ],
            "text/plain": [
              "           id                                object_name  chain  \\\n",
              "1405    20199                                        это  False   \n",
              "1406    68113                                     френдс  False   \n",
              "1407    20105                   кафе «граф монте-кристо»  False   \n",
              "1408    22982                                   альфорно  False   \n",
              "1409   151267                                   альфорно  False   \n",
              "...       ...                                        ...    ...   \n",
              "14997  216942                           шашлычный дворик  False   \n",
              "14998  216926                               кафе «сахли»  False   \n",
              "15015  208239                               газпромнефть  False   \n",
              "15184  220587                                пицца паоло   True   \n",
              "15274  211230  предприятие быстрого обслуживания «милти»   True   \n",
              "\n",
              "                             object_type  \\\n",
              "1405                                кафе   \n",
              "1406                                кафе   \n",
              "1407                                кафе   \n",
              "1408                                кафе   \n",
              "1409                                кафе   \n",
              "...                                  ...   \n",
              "14997                               кафе   \n",
              "14998                         закусочная   \n",
              "15015                               кафе   \n",
              "15184                          кафетерий   \n",
              "15274  предприятие быстрого обслуживания   \n",
              "\n",
              "                                                 address  number street  \n",
              "1405          город москва, город зеленоград, корпус 401      35   None  \n",
              "1406          город москва, город зеленоград, корпус 435      34   None  \n",
              "1407          город москва, город зеленоград, корпус 436      40   None  \n",
              "1408          город москва, город зеленоград, корпус 438      49   None  \n",
              "1409          город москва, город зеленоград, корпус 438      45   None  \n",
              "...                                                  ...     ...    ...  \n",
              "14997  город москва, поселение десеновское, деревня в...      15   None  \n",
              "14998  город москва, поселение десеновское, деревня в...      10   None  \n",
              "15015  поселение \"мосрентген\", деревня дудкино, владе...      20   None  \n",
              "15184        город москва, город зеленоград, корпус 1627       0   None  \n",
              "15274  город москва, микрорайон северное чертаново, д...       0   None  \n",
              "\n",
              "[381 rows x 7 columns]"
            ]
          },
          "execution_count": 34,
          "metadata": {},
          "output_type": "execute_result"
        }
      ],
      "source": [
        "df[df['street'].isna()]"
      ]
    },
    {
      "cell_type": "markdown",
      "metadata": {
        "id": "_2kLoZte0lCv"
      },
      "source": [
        "Значений `None` получилось 381. В основном там указаны заведения, которые находятся в пригородах города Москва."
      ]
    },
    {
      "cell_type": "markdown",
      "metadata": {
        "id": "H66PMvdZ0lCw"
      },
      "source": [
        "### Топ-10 улиц по количеству объектов общественного питания"
      ]
    },
    {
      "cell_type": "markdown",
      "metadata": {
        "id": "SuXiK0hV0lCx"
      },
      "source": [
        "Выделим на каких улицах больше всего заведений общественного питания."
      ]
    },
    {
      "cell_type": "code",
      "execution_count": null,
      "metadata": {
        "scrolled": false,
        "id": "a490ND7R0lCy",
        "outputId": "f47f3898-1717-4c72-a5e1-2790ab2f79f7"
      },
      "outputs": [
        {
          "data": {
            "text/html": [
              "<div>\n",
              "<style scoped>\n",
              "    .dataframe tbody tr th:only-of-type {\n",
              "        vertical-align: middle;\n",
              "    }\n",
              "\n",
              "    .dataframe tbody tr th {\n",
              "        vertical-align: top;\n",
              "    }\n",
              "\n",
              "    .dataframe thead th {\n",
              "        text-align: right;\n",
              "    }\n",
              "</style>\n",
              "<table border=\"1\" class=\"dataframe\">\n",
              "  <thead>\n",
              "    <tr style=\"text-align: right;\">\n",
              "      <th></th>\n",
              "      <th>street</th>\n",
              "      <th>count</th>\n",
              "    </tr>\n",
              "  </thead>\n",
              "  <tbody>\n",
              "    <tr>\n",
              "      <th>0</th>\n",
              "      <td>проспект мира</td>\n",
              "      <td>203</td>\n",
              "    </tr>\n",
              "    <tr>\n",
              "      <th>1</th>\n",
              "      <td>профсоюзная улица</td>\n",
              "      <td>182</td>\n",
              "    </tr>\n",
              "    <tr>\n",
              "      <th>2</th>\n",
              "      <td>ленинградский проспект</td>\n",
              "      <td>172</td>\n",
              "    </tr>\n",
              "    <tr>\n",
              "      <th>3</th>\n",
              "      <td>пресненская набережная</td>\n",
              "      <td>167</td>\n",
              "    </tr>\n",
              "    <tr>\n",
              "      <th>4</th>\n",
              "      <td>варшавское шоссе</td>\n",
              "      <td>165</td>\n",
              "    </tr>\n",
              "    <tr>\n",
              "      <th>5</th>\n",
              "      <td>ленинский проспект</td>\n",
              "      <td>148</td>\n",
              "    </tr>\n",
              "    <tr>\n",
              "      <th>6</th>\n",
              "      <td>проспект вернадского</td>\n",
              "      <td>128</td>\n",
              "    </tr>\n",
              "    <tr>\n",
              "      <th>7</th>\n",
              "      <td>кутузовский проспект</td>\n",
              "      <td>114</td>\n",
              "    </tr>\n",
              "    <tr>\n",
              "      <th>8</th>\n",
              "      <td>каширское шоссе</td>\n",
              "      <td>111</td>\n",
              "    </tr>\n",
              "    <tr>\n",
              "      <th>9</th>\n",
              "      <td>кировоградская улица</td>\n",
              "      <td>108</td>\n",
              "    </tr>\n",
              "  </tbody>\n",
              "</table>\n",
              "</div>"
            ],
            "text/plain": [
              "                   street  count\n",
              "0           проспект мира    203\n",
              "1       профсоюзная улица    182\n",
              "2  ленинградский проспект    172\n",
              "3  пресненская набережная    167\n",
              "4        варшавское шоссе    165\n",
              "5      ленинский проспект    148\n",
              "6    проспект вернадского    128\n",
              "7    кутузовский проспект    114\n",
              "8         каширское шоссе    111\n",
              "9    кировоградская улица    108"
            ]
          },
          "execution_count": 35,
          "metadata": {},
          "output_type": "execute_result"
        }
      ],
      "source": [
        "#расчет количетва объектов на каждую улицу\n",
        "top_streets = df['street'].value_counts().reset_index()\n",
        "\n",
        "#переименование столбцов\n",
        "top_streets.columns = ['street', 'count']\n",
        "\n",
        "#выделение первых 10\n",
        "top_10_streets = top_streets.head(10)\n",
        "\n",
        "top_10_streets"
      ]
    },
    {
      "cell_type": "code",
      "execution_count": null,
      "metadata": {
        "id": "AsFDbAS10lCy",
        "outputId": "05fd7df7-5acc-4c33-e2a1-cf9339fbcf7f"
      },
      "outputs": [
        {
          "data": {
            "image/png": "[encoded data removed]",
            "text/plain": [
              "<Figure size 720x720 with 1 Axes>"
            ]
          },
          "metadata": {
            "needs_background": "light"
          },
          "output_type": "display_data"
        }
      ],
      "source": [
        "#построение графика с первыми 10 улицами\n",
        "plt.figure(figsize=(10,10))\n",
        "plt.title('Тoп-10 улиц',\n",
        "                fontstyle = 'oblique',\n",
        "                fontsize = 25)\n",
        "plt.barh(top_10_streets['street'], top_10_streets['count'],color = colors)\n",
        "\n",
        "sns.despine() \n",
        "\n",
        "plt.xticks(wrap=True)\n",
        "plt.gca().invert_yaxis()\n",
        "plt.show()"
      ]
    },
    {
      "cell_type": "markdown",
      "metadata": {
        "id": "oXcOF3ne0lCy"
      },
      "source": [
        "На первом месте у нас распологается **Проспект Мира** -203 заведения, на втором месте **профсоюзная улица** с 182 заведениями, на третьем **Ленинградский проспект** -172 заведения. Топ-10 закрывает **Кировоградская улица** - 108 заведений общественного питания. \n",
        "<br> Необходимо выяснить в каких районах находятся улици с самым большим количество заведений  в городе. Т.к. в исходных данных  унас нет этой информации, мы воспользуемся внешним источником: https://data.mos.ru/opendata/7710881420-obshchestvennoe-pitanie-v-moskve"
      ]
    },
    {
      "cell_type": "code",
      "execution_count": null,
      "metadata": {
        "scrolled": false,
        "id": "SSPYT8Rv0lCz",
        "outputId": "e287880d-adea-48e3-9130-89a8fa2b27af"
      },
      "outputs": [
        {
          "data": {
            "text/html": [
              "<div>\n",
              "<style scoped>\n",
              "    .dataframe tbody tr th:only-of-type {\n",
              "        vertical-align: middle;\n",
              "    }\n",
              "\n",
              "    .dataframe tbody tr th {\n",
              "        vertical-align: top;\n",
              "    }\n",
              "\n",
              "    .dataframe thead th {\n",
              "        text-align: right;\n",
              "    }\n",
              "</style>\n",
              "<table border=\"1\" class=\"dataframe\">\n",
              "  <thead>\n",
              "    <tr style=\"text-align: right;\">\n",
              "      <th></th>\n",
              "      <th>id</th>\n",
              "      <th>name</th>\n",
              "      <th>global_id</th>\n",
              "      <th>isnetobject</th>\n",
              "      <th>operatingcompany</th>\n",
              "      <th>typeobject</th>\n",
              "      <th>admarea</th>\n",
              "      <th>district</th>\n",
              "      <th>address</th>\n",
              "      <th>publicphone</th>\n",
              "      <th>seatscount</th>\n",
              "      <th>socialprivileges</th>\n",
              "      <th>longitude_wgs84</th>\n",
              "      <th>latitude_wgs84</th>\n",
              "      <th>geodata_center</th>\n",
              "      <th>geoarea</th>\n",
              "    </tr>\n",
              "  </thead>\n",
              "  <tbody>\n",
              "    <tr>\n",
              "      <th>0</th>\n",
              "      <td>Код</td>\n",
              "      <td>Наименование</td>\n",
              "      <td>global_id</td>\n",
              "      <td>Является сетевым</td>\n",
              "      <td>Название управляющей компании</td>\n",
              "      <td>Вид объекта</td>\n",
              "      <td>Административный округ по адресу</td>\n",
              "      <td>район</td>\n",
              "      <td>адрес</td>\n",
              "      <td>Контактный телефон</td>\n",
              "      <td>Число посадочных мест</td>\n",
              "      <td>Показатель социальных льгот</td>\n",
              "      <td>Долгота в WGS-84</td>\n",
              "      <td>Широта в WGS-84</td>\n",
              "      <td>geodata_center</td>\n",
              "      <td>geoarea</td>\n",
              "    </tr>\n",
              "    <tr>\n",
              "      <th>1</th>\n",
              "      <td>00151635</td>\n",
              "      <td>СМЕТАНА</td>\n",
              "      <td>637376221</td>\n",
              "      <td>нет</td>\n",
              "      <td>NaN</td>\n",
              "      <td>кафе</td>\n",
              "      <td>Северо-Восточный административный округ</td>\n",
              "      <td>ярославский район</td>\n",
              "      <td>город москва, улица егора абакумова, дом 9</td>\n",
              "      <td>PublicPhone:(499) 183-14-10\\n\\n</td>\n",
              "      <td>48</td>\n",
              "      <td>нет</td>\n",
              "      <td>37.7145650004360390</td>\n",
              "      <td>55.8790015313033730</td>\n",
              "      <td>NaN</td>\n",
              "      <td>NaN</td>\n",
              "    </tr>\n",
              "    <tr>\n",
              "      <th>2</th>\n",
              "      <td>000077874</td>\n",
              "      <td>Родник</td>\n",
              "      <td>637376331</td>\n",
              "      <td>нет</td>\n",
              "      <td>NaN</td>\n",
              "      <td>кафе</td>\n",
              "      <td>Центральный административный округ</td>\n",
              "      <td>таганский район</td>\n",
              "      <td>город москва, улица талалихина, дом 2/1, корпус 1</td>\n",
              "      <td>PublicPhone:(495) 676-55-35\\n\\n</td>\n",
              "      <td>35</td>\n",
              "      <td>нет</td>\n",
              "      <td>37.6733061300344000</td>\n",
              "      <td>55.7382386551547000</td>\n",
              "      <td>NaN</td>\n",
              "      <td>NaN</td>\n",
              "    </tr>\n",
              "    <tr>\n",
              "      <th>3</th>\n",
              "      <td>000024309</td>\n",
              "      <td>Кафе «Академия»</td>\n",
              "      <td>637376349</td>\n",
              "      <td>нет</td>\n",
              "      <td>NaN</td>\n",
              "      <td>ресторан</td>\n",
              "      <td>Центральный административный округ</td>\n",
              "      <td>таганский район</td>\n",
              "      <td>российская федерация, город москва, внутригоро...</td>\n",
              "      <td>PublicPhone:(495) 662-30-10\\n\\n</td>\n",
              "      <td>95</td>\n",
              "      <td>нет</td>\n",
              "      <td>37.6696475969381000</td>\n",
              "      <td>55.7355114718314000</td>\n",
              "      <td>NaN</td>\n",
              "      <td>NaN</td>\n",
              "    </tr>\n",
              "    <tr>\n",
              "      <th>4</th>\n",
              "      <td>000027429</td>\n",
              "      <td>ГБОУ «Школа № 1430 имени Героя Социалистическо...</td>\n",
              "      <td>637376480</td>\n",
              "      <td>нет</td>\n",
              "      <td>NaN</td>\n",
              "      <td>столовая</td>\n",
              "      <td>Северо-Восточный административный округ</td>\n",
              "      <td>район лианозово</td>\n",
              "      <td>город москва, угличская улица, дом 17</td>\n",
              "      <td>PublicPhone:(499) 908-06-15\\n\\n</td>\n",
              "      <td>240</td>\n",
              "      <td>нет</td>\n",
              "      <td>37.5669400000000020</td>\n",
              "      <td>55.9040188006692200</td>\n",
              "      <td>NaN</td>\n",
              "      <td>NaN</td>\n",
              "    </tr>\n",
              "    <tr>\n",
              "      <th>...</th>\n",
              "      <td>...</td>\n",
              "      <td>...</td>\n",
              "      <td>...</td>\n",
              "      <td>...</td>\n",
              "      <td>...</td>\n",
              "      <td>...</td>\n",
              "      <td>...</td>\n",
              "      <td>...</td>\n",
              "      <td>...</td>\n",
              "      <td>...</td>\n",
              "      <td>...</td>\n",
              "      <td>...</td>\n",
              "      <td>...</td>\n",
              "      <td>...</td>\n",
              "      <td>...</td>\n",
              "      <td>...</td>\n",
              "    </tr>\n",
              "    <tr>\n",
              "      <th>19552</th>\n",
              "      <td>00363535</td>\n",
              "      <td>Домино'с Пицца</td>\n",
              "      <td>2381690180</td>\n",
              "      <td>да</td>\n",
              "      <td>Домино'с Пицца</td>\n",
              "      <td>кафе</td>\n",
              "      <td>Юго-Западный административный округ</td>\n",
              "      <td>район тёплый стан</td>\n",
              "      <td>российская федерация, город москва, внутригоро...</td>\n",
              "      <td>NaN</td>\n",
              "      <td>17</td>\n",
              "      <td>нет</td>\n",
              "      <td>37.5111530000000070</td>\n",
              "      <td>55.6363787228666450</td>\n",
              "      <td>{\"coordinates\":[37.511153,55.6363787228666],\"t...</td>\n",
              "      <td>NaN</td>\n",
              "    </tr>\n",
              "    <tr>\n",
              "      <th>19553</th>\n",
              "      <td>00363333</td>\n",
              "      <td>Coffeeshop Company</td>\n",
              "      <td>2381690187</td>\n",
              "      <td>да</td>\n",
              "      <td>Coffeeshop Company</td>\n",
              "      <td>кафе</td>\n",
              "      <td>Центральный административный округ</td>\n",
              "      <td>красносельский район</td>\n",
              "      <td>город москва, мясницкая улица, дом 11</td>\n",
              "      <td>NaN</td>\n",
              "      <td>42</td>\n",
              "      <td>нет</td>\n",
              "      <td>37.6326579999999990</td>\n",
              "      <td>55.7617077590700060</td>\n",
              "      <td>{\"coordinates\":[37.632658,55.76170775907],\"typ...</td>\n",
              "      <td>NaN</td>\n",
              "    </tr>\n",
              "    <tr>\n",
              "      <th>19554</th>\n",
              "      <td>00363641</td>\n",
              "      <td>Хлебница пекарня</td>\n",
              "      <td>2381690199</td>\n",
              "      <td>да</td>\n",
              "      <td>Хлебница пекарня</td>\n",
              "      <td>кафетерий</td>\n",
              "      <td>Юго-Западный административный округ</td>\n",
              "      <td>район тёплый стан</td>\n",
              "      <td>российская федерация, город москва, внутригоро...</td>\n",
              "      <td>NaN</td>\n",
              "      <td>6</td>\n",
              "      <td>нет</td>\n",
              "      <td>37.5151020000000060</td>\n",
              "      <td>55.6303137211249140</td>\n",
              "      <td>{\"coordinates\":[37.515102,55.6303137211249],\"t...</td>\n",
              "      <td>NaN</td>\n",
              "    </tr>\n",
              "    <tr>\n",
              "      <th>19555</th>\n",
              "      <td>00363805</td>\n",
              "      <td>Милти</td>\n",
              "      <td>2381690282</td>\n",
              "      <td>да</td>\n",
              "      <td>Милти</td>\n",
              "      <td>предприятие быстрого обслуживания</td>\n",
              "      <td>Северо-Восточный административный округ</td>\n",
              "      <td>район марьина роща</td>\n",
              "      <td>российская федерация, город москва, внутригоро...</td>\n",
              "      <td>NaN</td>\n",
              "      <td>1</td>\n",
              "      <td>нет</td>\n",
              "      <td>37.6025440000000230</td>\n",
              "      <td>55.7922847679640980</td>\n",
              "      <td>{\"coordinates\":[37.602544,55.7922847679641],\"t...</td>\n",
              "      <td>NaN</td>\n",
              "    </tr>\n",
              "    <tr>\n",
              "      <th>19556</th>\n",
              "      <td>00363705</td>\n",
              "      <td>МИЛТИ</td>\n",
              "      <td>2381690283</td>\n",
              "      <td>да</td>\n",
              "      <td>Милти</td>\n",
              "      <td>магазин (отдел кулинарии)</td>\n",
              "      <td>Центральный административный округ</td>\n",
              "      <td>мещанский район</td>\n",
              "      <td>российская федерация, город москва, внутригоро...</td>\n",
              "      <td>NaN</td>\n",
              "      <td>2</td>\n",
              "      <td>нет</td>\n",
              "      <td>37.6314560000000070</td>\n",
              "      <td>55.7677827608351680</td>\n",
              "      <td>{\"coordinates\":[37.631456,55.7677827608352],\"t...</td>\n",
              "      <td>NaN</td>\n",
              "    </tr>\n",
              "  </tbody>\n",
              "</table>\n",
              "<p>19557 rows × 16 columns</p>\n",
              "</div>"
            ],
            "text/plain": [
              "              id                                               name  \\\n",
              "0            Код                                       Наименование   \n",
              "1       00151635                                            СМЕТАНА   \n",
              "2      000077874                                             Родник   \n",
              "3      000024309                                    Кафе «Академия»   \n",
              "4      000027429  ГБОУ «Школа № 1430 имени Героя Социалистическо...   \n",
              "...          ...                                                ...   \n",
              "19552   00363535                                     Домино'с Пицца   \n",
              "19553   00363333                                 Coffeeshop Company   \n",
              "19554   00363641                                   Хлебница пекарня   \n",
              "19555   00363805                                              Милти   \n",
              "19556   00363705                                              МИЛТИ   \n",
              "\n",
              "        global_id       isnetobject               operatingcompany  \\\n",
              "0       global_id  Является сетевым  Название управляющей компании   \n",
              "1       637376221               нет                            NaN   \n",
              "2       637376331               нет                            NaN   \n",
              "3       637376349               нет                            NaN   \n",
              "4       637376480               нет                            NaN   \n",
              "...           ...               ...                            ...   \n",
              "19552  2381690180                да                 Домино'с Пицца   \n",
              "19553  2381690187                да             Coffeeshop Company   \n",
              "19554  2381690199                да               Хлебница пекарня   \n",
              "19555  2381690282                да                          Милти   \n",
              "19556  2381690283                да                          Милти   \n",
              "\n",
              "                              typeobject  \\\n",
              "0                            Вид объекта   \n",
              "1                                   кафе   \n",
              "2                                   кафе   \n",
              "3                               ресторан   \n",
              "4                               столовая   \n",
              "...                                  ...   \n",
              "19552                               кафе   \n",
              "19553                               кафе   \n",
              "19554                          кафетерий   \n",
              "19555  предприятие быстрого обслуживания   \n",
              "19556          магазин (отдел кулинарии)   \n",
              "\n",
              "                                       admarea              district  \\\n",
              "0             Административный округ по адресу                 район   \n",
              "1      Северо-Восточный административный округ     ярославский район   \n",
              "2           Центральный административный округ       таганский район   \n",
              "3           Центральный административный округ       таганский район   \n",
              "4      Северо-Восточный административный округ       район лианозово   \n",
              "...                                        ...                   ...   \n",
              "19552      Юго-Западный административный округ     район тёплый стан   \n",
              "19553       Центральный административный округ  красносельский район   \n",
              "19554      Юго-Западный административный округ     район тёплый стан   \n",
              "19555  Северо-Восточный административный округ    район марьина роща   \n",
              "19556       Центральный административный округ       мещанский район   \n",
              "\n",
              "                                                 address  \\\n",
              "0                                                  адрес   \n",
              "1             город москва, улица егора абакумова, дом 9   \n",
              "2      город москва, улица талалихина, дом 2/1, корпус 1   \n",
              "3      российская федерация, город москва, внутригоро...   \n",
              "4                  город москва, угличская улица, дом 17   \n",
              "...                                                  ...   \n",
              "19552  российская федерация, город москва, внутригоро...   \n",
              "19553              город москва, мясницкая улица, дом 11   \n",
              "19554  российская федерация, город москва, внутригоро...   \n",
              "19555  российская федерация, город москва, внутригоро...   \n",
              "19556  российская федерация, город москва, внутригоро...   \n",
              "\n",
              "                           publicphone             seatscount  \\\n",
              "0                   Контактный телефон  Число посадочных мест   \n",
              "1      PublicPhone:(499) 183-14-10\\n\\n                     48   \n",
              "2      PublicPhone:(495) 676-55-35\\n\\n                     35   \n",
              "3      PublicPhone:(495) 662-30-10\\n\\n                     95   \n",
              "4      PublicPhone:(499) 908-06-15\\n\\n                    240   \n",
              "...                                ...                    ...   \n",
              "19552                              NaN                     17   \n",
              "19553                              NaN                     42   \n",
              "19554                              NaN                      6   \n",
              "19555                              NaN                      1   \n",
              "19556                              NaN                      2   \n",
              "\n",
              "                  socialprivileges      longitude_wgs84       latitude_wgs84  \\\n",
              "0      Показатель социальных льгот     Долгота в WGS-84      Широта в WGS-84   \n",
              "1                              нет  37.7145650004360390  55.8790015313033730   \n",
              "2                              нет  37.6733061300344000  55.7382386551547000   \n",
              "3                              нет  37.6696475969381000  55.7355114718314000   \n",
              "4                              нет  37.5669400000000020  55.9040188006692200   \n",
              "...                            ...                  ...                  ...   \n",
              "19552                          нет  37.5111530000000070  55.6363787228666450   \n",
              "19553                          нет  37.6326579999999990  55.7617077590700060   \n",
              "19554                          нет  37.5151020000000060  55.6303137211249140   \n",
              "19555                          нет  37.6025440000000230  55.7922847679640980   \n",
              "19556                          нет  37.6314560000000070  55.7677827608351680   \n",
              "\n",
              "                                          geodata_center  geoarea  \n",
              "0                                         geodata_center  geoarea  \n",
              "1                                                    NaN      NaN  \n",
              "2                                                    NaN      NaN  \n",
              "3                                                    NaN      NaN  \n",
              "4                                                    NaN      NaN  \n",
              "...                                                  ...      ...  \n",
              "19552  {\"coordinates\":[37.511153,55.6363787228666],\"t...      NaN  \n",
              "19553  {\"coordinates\":[37.632658,55.76170775907],\"typ...      NaN  \n",
              "19554  {\"coordinates\":[37.515102,55.6303137211249],\"t...      NaN  \n",
              "19555  {\"coordinates\":[37.602544,55.7922847679641],\"t...      NaN  \n",
              "19556  {\"coordinates\":[37.631456,55.7677827608352],\"t...      NaN  \n",
              "\n",
              "[19557 rows x 16 columns]"
            ]
          },
          "execution_count": 37,
          "metadata": {},
          "output_type": "execute_result"
        }
      ],
      "source": [
        "#запомним id\n",
        "spreadsheet_id = '18suBMm2TzgmL0T6BX5K5wh4sHj_qXnmbRqOqhqPznXs'\n",
        "file_name = 'https://docs.google.com/spreadsheets/d/{}/export?format=csv'.format(spreadsheet_id)\n",
        "r = requests.get(file_name)\n",
        "#прочитаем файл\n",
        "df_2 = pd.read_csv(BytesIO(r.content))\n",
        "\n",
        "\n",
        "#произведем небольшую предобработку таблицы\n",
        "df_2['Address'] = df_2['Address'].str.replace('ё','е')\n",
        "df_2['Address'] = df_2['Address'].str.lower()\n",
        "df_2['District'] = df_2['District'].str.lower()\n",
        "df_2.columns =  [x.lower().replace(' ', '_') for x in df_2.columns]\n",
        "#выведем на экран\n",
        "df_2 "
      ]
    },
    {
      "cell_type": "markdown",
      "metadata": {
        "id": "jNhX3laM0lCz"
      },
      "source": [
        "Как и раньше выделим название улицы в отдельный столбец с помощью функции"
      ]
    },
    {
      "cell_type": "code",
      "execution_count": null,
      "metadata": {
        "scrolled": false,
        "id": "CyRT_5-M0lC0",
        "outputId": "9399d8ef-d366-4ce4-fad3-4ee40429db51"
      },
      "outputs": [
        {
          "data": {
            "text/html": [
              "<div>\n",
              "<style scoped>\n",
              "    .dataframe tbody tr th:only-of-type {\n",
              "        vertical-align: middle;\n",
              "    }\n",
              "\n",
              "    .dataframe tbody tr th {\n",
              "        vertical-align: top;\n",
              "    }\n",
              "\n",
              "    .dataframe thead th {\n",
              "        text-align: right;\n",
              "    }\n",
              "</style>\n",
              "<table border=\"1\" class=\"dataframe\">\n",
              "  <thead>\n",
              "    <tr style=\"text-align: right;\">\n",
              "      <th></th>\n",
              "      <th>id</th>\n",
              "      <th>name</th>\n",
              "      <th>global_id</th>\n",
              "      <th>isnetobject</th>\n",
              "      <th>operatingcompany</th>\n",
              "      <th>typeobject</th>\n",
              "      <th>admarea</th>\n",
              "      <th>district</th>\n",
              "      <th>address</th>\n",
              "      <th>publicphone</th>\n",
              "      <th>seatscount</th>\n",
              "      <th>socialprivileges</th>\n",
              "      <th>longitude_wgs84</th>\n",
              "      <th>latitude_wgs84</th>\n",
              "      <th>geodata_center</th>\n",
              "      <th>geoarea</th>\n",
              "      <th>street</th>\n",
              "    </tr>\n",
              "  </thead>\n",
              "  <tbody>\n",
              "    <tr>\n",
              "      <th>0</th>\n",
              "      <td>Код</td>\n",
              "      <td>Наименование</td>\n",
              "      <td>global_id</td>\n",
              "      <td>Является сетевым</td>\n",
              "      <td>Название управляющей компании</td>\n",
              "      <td>Вид объекта</td>\n",
              "      <td>Административный округ по адресу</td>\n",
              "      <td>район</td>\n",
              "      <td>адрес</td>\n",
              "      <td>Контактный телефон</td>\n",
              "      <td>Число посадочных мест</td>\n",
              "      <td>Показатель социальных льгот</td>\n",
              "      <td>Долгота в WGS-84</td>\n",
              "      <td>Широта в WGS-84</td>\n",
              "      <td>geodata_center</td>\n",
              "      <td>geoarea</td>\n",
              "      <td>None</td>\n",
              "    </tr>\n",
              "    <tr>\n",
              "      <th>1</th>\n",
              "      <td>00151635</td>\n",
              "      <td>СМЕТАНА</td>\n",
              "      <td>637376221</td>\n",
              "      <td>нет</td>\n",
              "      <td>NaN</td>\n",
              "      <td>кафе</td>\n",
              "      <td>Северо-Восточный административный округ</td>\n",
              "      <td>ярославский район</td>\n",
              "      <td>город москва, улица егора абакумова, дом 9</td>\n",
              "      <td>PublicPhone:(499) 183-14-10\\n\\n</td>\n",
              "      <td>48</td>\n",
              "      <td>нет</td>\n",
              "      <td>37.7145650004360390</td>\n",
              "      <td>55.8790015313033730</td>\n",
              "      <td>NaN</td>\n",
              "      <td>NaN</td>\n",
              "      <td>улица егора абакумова</td>\n",
              "    </tr>\n",
              "    <tr>\n",
              "      <th>2</th>\n",
              "      <td>000077874</td>\n",
              "      <td>Родник</td>\n",
              "      <td>637376331</td>\n",
              "      <td>нет</td>\n",
              "      <td>NaN</td>\n",
              "      <td>кафе</td>\n",
              "      <td>Центральный административный округ</td>\n",
              "      <td>таганский район</td>\n",
              "      <td>город москва, улица талалихина, дом 2/1, корпус 1</td>\n",
              "      <td>PublicPhone:(495) 676-55-35\\n\\n</td>\n",
              "      <td>35</td>\n",
              "      <td>нет</td>\n",
              "      <td>37.6733061300344000</td>\n",
              "      <td>55.7382386551547000</td>\n",
              "      <td>NaN</td>\n",
              "      <td>NaN</td>\n",
              "      <td>улица талалихина</td>\n",
              "    </tr>\n",
              "    <tr>\n",
              "      <th>3</th>\n",
              "      <td>000024309</td>\n",
              "      <td>Кафе «Академия»</td>\n",
              "      <td>637376349</td>\n",
              "      <td>нет</td>\n",
              "      <td>NaN</td>\n",
              "      <td>ресторан</td>\n",
              "      <td>Центральный административный округ</td>\n",
              "      <td>таганский район</td>\n",
              "      <td>российская федерация, город москва, внутригоро...</td>\n",
              "      <td>PublicPhone:(495) 662-30-10\\n\\n</td>\n",
              "      <td>95</td>\n",
              "      <td>нет</td>\n",
              "      <td>37.6696475969381000</td>\n",
              "      <td>55.7355114718314000</td>\n",
              "      <td>NaN</td>\n",
              "      <td>NaN</td>\n",
              "      <td>абельмановская улица</td>\n",
              "    </tr>\n",
              "    <tr>\n",
              "      <th>4</th>\n",
              "      <td>000027429</td>\n",
              "      <td>ГБОУ «Школа № 1430 имени Героя Социалистическо...</td>\n",
              "      <td>637376480</td>\n",
              "      <td>нет</td>\n",
              "      <td>NaN</td>\n",
              "      <td>столовая</td>\n",
              "      <td>Северо-Восточный административный округ</td>\n",
              "      <td>район лианозово</td>\n",
              "      <td>город москва, угличская улица, дом 17</td>\n",
              "      <td>PublicPhone:(499) 908-06-15\\n\\n</td>\n",
              "      <td>240</td>\n",
              "      <td>нет</td>\n",
              "      <td>37.5669400000000020</td>\n",
              "      <td>55.9040188006692200</td>\n",
              "      <td>NaN</td>\n",
              "      <td>NaN</td>\n",
              "      <td>угличская улица</td>\n",
              "    </tr>\n",
              "    <tr>\n",
              "      <th>5</th>\n",
              "      <td>00148815</td>\n",
              "      <td>Брусника</td>\n",
              "      <td>637376481</td>\n",
              "      <td>да</td>\n",
              "      <td>Брусника</td>\n",
              "      <td>кафе</td>\n",
              "      <td>Центральный административный округ</td>\n",
              "      <td>район арбат</td>\n",
              "      <td>город москва, переулок сивцев вражек, дом 6/2</td>\n",
              "      <td>PublicPhone:(495) 697-04-89\\n\\n</td>\n",
              "      <td>10</td>\n",
              "      <td>нет</td>\n",
              "      <td>37.5981275484399900</td>\n",
              "      <td>55.7473904905259940</td>\n",
              "      <td>NaN</td>\n",
              "      <td>NaN</td>\n",
              "      <td>переулок сивцев вражек</td>\n",
              "    </tr>\n",
              "    <tr>\n",
              "      <th>6</th>\n",
              "      <td>000020957</td>\n",
              "      <td>Буфет МТУСИ</td>\n",
              "      <td>637376500</td>\n",
              "      <td>нет</td>\n",
              "      <td>NaN</td>\n",
              "      <td>столовая</td>\n",
              "      <td>Юго-Восточный административный округ</td>\n",
              "      <td>район лефортово</td>\n",
              "      <td>город москва, авиамоторная улица, дом 8, строе...</td>\n",
              "      <td>PublicPhone:(495) 673-89-78\\n\\n</td>\n",
              "      <td>90</td>\n",
              "      <td>нет</td>\n",
              "      <td>37.7154253918980300</td>\n",
              "      <td>55.7551637509706880</td>\n",
              "      <td>NaN</td>\n",
              "      <td>NaN</td>\n",
              "      <td>авиамоторная улица</td>\n",
              "    </tr>\n",
              "    <tr>\n",
              "      <th>7</th>\n",
              "      <td>000028858</td>\n",
              "      <td>Столовая МТУСИ</td>\n",
              "      <td>637376536</td>\n",
              "      <td>нет</td>\n",
              "      <td>NaN</td>\n",
              "      <td>столовая</td>\n",
              "      <td>Юго-Восточный административный округ</td>\n",
              "      <td>район лефортово</td>\n",
              "      <td>город москва, авиамоторная улица, дом 8, строе...</td>\n",
              "      <td>PublicPhone:(495) 273-89-78\\n\\n</td>\n",
              "      <td>120</td>\n",
              "      <td>нет</td>\n",
              "      <td>37.7154253918980300</td>\n",
              "      <td>55.7551637509706880</td>\n",
              "      <td>NaN</td>\n",
              "      <td>NaN</td>\n",
              "      <td>авиамоторная улица</td>\n",
              "    </tr>\n",
              "    <tr>\n",
              "      <th>8</th>\n",
              "      <td>000023394</td>\n",
              "      <td>Кафе Гогиели</td>\n",
              "      <td>637376678</td>\n",
              "      <td>нет</td>\n",
              "      <td>NaN</td>\n",
              "      <td>кафе</td>\n",
              "      <td>Юго-Восточный административный округ</td>\n",
              "      <td>район лефортово</td>\n",
              "      <td>город москва, авиамоторная улица, дом 49/1</td>\n",
              "      <td>PublicPhone:(495) 361-38-50\\n\\n</td>\n",
              "      <td>24</td>\n",
              "      <td>нет</td>\n",
              "      <td>37.7199503788590680</td>\n",
              "      <td>55.7492759892765620</td>\n",
              "      <td>NaN</td>\n",
              "      <td>NaN</td>\n",
              "      <td>авиамоторная улица</td>\n",
              "    </tr>\n",
              "    <tr>\n",
              "      <th>9</th>\n",
              "      <td>000022579</td>\n",
              "      <td>Алло Пицца</td>\n",
              "      <td>637376719</td>\n",
              "      <td>да</td>\n",
              "      <td>Алло Пицца</td>\n",
              "      <td>кафе</td>\n",
              "      <td>Западный административный округ</td>\n",
              "      <td>район солнцево</td>\n",
              "      <td>российская федерация, город москва, внутригоро...</td>\n",
              "      <td>PublicPhone:(495) 934-31-00\\n\\n</td>\n",
              "      <td>32</td>\n",
              "      <td>нет</td>\n",
              "      <td>37.3985310000000060</td>\n",
              "      <td>55.6451027253735970</td>\n",
              "      <td>NaN</td>\n",
              "      <td>NaN</td>\n",
              "      <td>улица авиаторов</td>\n",
              "    </tr>\n",
              "  </tbody>\n",
              "</table>\n",
              "</div>"
            ],
            "text/plain": [
              "          id                                               name  global_id  \\\n",
              "0        Код                                       Наименование  global_id   \n",
              "1   00151635                                            СМЕТАНА  637376221   \n",
              "2  000077874                                             Родник  637376331   \n",
              "3  000024309                                    Кафе «Академия»  637376349   \n",
              "4  000027429  ГБОУ «Школа № 1430 имени Героя Социалистическо...  637376480   \n",
              "5   00148815                                           Брусника  637376481   \n",
              "6  000020957                                        Буфет МТУСИ  637376500   \n",
              "7  000028858                                     Столовая МТУСИ  637376536   \n",
              "8  000023394                                       Кафе Гогиели  637376678   \n",
              "9  000022579                                         Алло Пицца  637376719   \n",
              "\n",
              "        isnetobject               operatingcompany   typeobject  \\\n",
              "0  Является сетевым  Название управляющей компании  Вид объекта   \n",
              "1               нет                            NaN         кафе   \n",
              "2               нет                            NaN         кафе   \n",
              "3               нет                            NaN     ресторан   \n",
              "4               нет                            NaN     столовая   \n",
              "5                да                       Брусника         кафе   \n",
              "6               нет                            NaN     столовая   \n",
              "7               нет                            NaN     столовая   \n",
              "8               нет                            NaN         кафе   \n",
              "9                да                     Алло Пицца         кафе   \n",
              "\n",
              "                                   admarea           district  \\\n",
              "0         Административный округ по адресу              район   \n",
              "1  Северо-Восточный административный округ  ярославский район   \n",
              "2       Центральный административный округ    таганский район   \n",
              "3       Центральный административный округ    таганский район   \n",
              "4  Северо-Восточный административный округ    район лианозово   \n",
              "5       Центральный административный округ        район арбат   \n",
              "6     Юго-Восточный административный округ    район лефортово   \n",
              "7     Юго-Восточный административный округ    район лефортово   \n",
              "8     Юго-Восточный административный округ    район лефортово   \n",
              "9          Западный административный округ     район солнцево   \n",
              "\n",
              "                                             address  \\\n",
              "0                                              адрес   \n",
              "1         город москва, улица егора абакумова, дом 9   \n",
              "2  город москва, улица талалихина, дом 2/1, корпус 1   \n",
              "3  российская федерация, город москва, внутригоро...   \n",
              "4              город москва, угличская улица, дом 17   \n",
              "5      город москва, переулок сивцев вражек, дом 6/2   \n",
              "6  город москва, авиамоторная улица, дом 8, строе...   \n",
              "7  город москва, авиамоторная улица, дом 8, строе...   \n",
              "8         город москва, авиамоторная улица, дом 49/1   \n",
              "9  российская федерация, город москва, внутригоро...   \n",
              "\n",
              "                       publicphone             seatscount  \\\n",
              "0               Контактный телефон  Число посадочных мест   \n",
              "1  PublicPhone:(499) 183-14-10\\n\\n                     48   \n",
              "2  PublicPhone:(495) 676-55-35\\n\\n                     35   \n",
              "3  PublicPhone:(495) 662-30-10\\n\\n                     95   \n",
              "4  PublicPhone:(499) 908-06-15\\n\\n                    240   \n",
              "5  PublicPhone:(495) 697-04-89\\n\\n                     10   \n",
              "6  PublicPhone:(495) 673-89-78\\n\\n                     90   \n",
              "7  PublicPhone:(495) 273-89-78\\n\\n                    120   \n",
              "8  PublicPhone:(495) 361-38-50\\n\\n                     24   \n",
              "9  PublicPhone:(495) 934-31-00\\n\\n                     32   \n",
              "\n",
              "              socialprivileges      longitude_wgs84       latitude_wgs84  \\\n",
              "0  Показатель социальных льгот     Долгота в WGS-84      Широта в WGS-84   \n",
              "1                          нет  37.7145650004360390  55.8790015313033730   \n",
              "2                          нет  37.6733061300344000  55.7382386551547000   \n",
              "3                          нет  37.6696475969381000  55.7355114718314000   \n",
              "4                          нет  37.5669400000000020  55.9040188006692200   \n",
              "5                          нет  37.5981275484399900  55.7473904905259940   \n",
              "6                          нет  37.7154253918980300  55.7551637509706880   \n",
              "7                          нет  37.7154253918980300  55.7551637509706880   \n",
              "8                          нет  37.7199503788590680  55.7492759892765620   \n",
              "9                          нет  37.3985310000000060  55.6451027253735970   \n",
              "\n",
              "   geodata_center  geoarea                  street  \n",
              "0  geodata_center  geoarea                    None  \n",
              "1             NaN      NaN   улица егора абакумова  \n",
              "2             NaN      NaN        улица талалихина  \n",
              "3             NaN      NaN    абельмановская улица  \n",
              "4             NaN      NaN         угличская улица  \n",
              "5             NaN      NaN  переулок сивцев вражек  \n",
              "6             NaN      NaN      авиамоторная улица  \n",
              "7             NaN      NaN      авиамоторная улица  \n",
              "8             NaN      NaN      авиамоторная улица  \n",
              "9             NaN      NaN         улица авиаторов  "
            ]
          },
          "execution_count": 38,
          "metadata": {},
          "output_type": "execute_result"
        }
      ],
      "source": [
        "#вызов функции\n",
        "df_2['street'] = df_2.apply(get_street, axis=1)\n",
        "\n",
        "#удаление пробелов\n",
        "df_2['street'] = df_2['street'].str.strip() \n",
        "df_2.head(10)"
      ]
    },
    {
      "cell_type": "markdown",
      "metadata": {
        "id": "6-vbsRNM0lC3"
      },
      "source": [
        "Удалим не интересующие нас столбцы из таблицы с новыми данными"
      ]
    },
    {
      "cell_type": "code",
      "execution_count": null,
      "metadata": {
        "id": "RE_X2B0d0lC4",
        "outputId": "30fe093f-6d0c-4937-e25f-5b042c2b6248"
      },
      "outputs": [
        {
          "data": {
            "text/plain": [
              "Index(['id', 'name', 'global_id', 'isnetobject', 'operatingcompany',\n",
              "       'typeobject', 'admarea', 'district', 'address', 'publicphone',\n",
              "       'seatscount', 'socialprivileges', 'longitude_wgs84', 'latitude_wgs84',\n",
              "       'geodata_center', 'geoarea', 'street'],\n",
              "      dtype='object')"
            ]
          },
          "execution_count": 39,
          "metadata": {},
          "output_type": "execute_result"
        }
      ],
      "source": [
        "df_2.columns"
      ]
    },
    {
      "cell_type": "code",
      "execution_count": null,
      "metadata": {
        "scrolled": true,
        "id": "s8RcdD6C0lC5",
        "outputId": "3bd55e20-a9ec-4a6b-f22d-5822bd60d95a"
      },
      "outputs": [
        {
          "data": {
            "text/html": [
              "<div>\n",
              "<style scoped>\n",
              "    .dataframe tbody tr th:only-of-type {\n",
              "        vertical-align: middle;\n",
              "    }\n",
              "\n",
              "    .dataframe tbody tr th {\n",
              "        vertical-align: top;\n",
              "    }\n",
              "\n",
              "    .dataframe thead th {\n",
              "        text-align: right;\n",
              "    }\n",
              "</style>\n",
              "<table border=\"1\" class=\"dataframe\">\n",
              "  <thead>\n",
              "    <tr style=\"text-align: right;\">\n",
              "      <th></th>\n",
              "      <th>admarea</th>\n",
              "      <th>district</th>\n",
              "      <th>street</th>\n",
              "    </tr>\n",
              "  </thead>\n",
              "  <tbody>\n",
              "    <tr>\n",
              "      <th>1</th>\n",
              "      <td>Северо-Восточный административный округ</td>\n",
              "      <td>ярославский район</td>\n",
              "      <td>улица егора абакумова</td>\n",
              "    </tr>\n",
              "    <tr>\n",
              "      <th>2</th>\n",
              "      <td>Центральный административный округ</td>\n",
              "      <td>таганский район</td>\n",
              "      <td>улица талалихина</td>\n",
              "    </tr>\n",
              "    <tr>\n",
              "      <th>3</th>\n",
              "      <td>Центральный административный округ</td>\n",
              "      <td>таганский район</td>\n",
              "      <td>абельмановская улица</td>\n",
              "    </tr>\n",
              "    <tr>\n",
              "      <th>4</th>\n",
              "      <td>Северо-Восточный административный округ</td>\n",
              "      <td>район лианозово</td>\n",
              "      <td>угличская улица</td>\n",
              "    </tr>\n",
              "    <tr>\n",
              "      <th>5</th>\n",
              "      <td>Центральный административный округ</td>\n",
              "      <td>район арбат</td>\n",
              "      <td>переулок сивцев вражек</td>\n",
              "    </tr>\n",
              "    <tr>\n",
              "      <th>...</th>\n",
              "      <td>...</td>\n",
              "      <td>...</td>\n",
              "      <td>...</td>\n",
              "    </tr>\n",
              "    <tr>\n",
              "      <th>19552</th>\n",
              "      <td>Юго-Западный административный округ</td>\n",
              "      <td>район тёплый стан</td>\n",
              "      <td>улица островитянова</td>\n",
              "    </tr>\n",
              "    <tr>\n",
              "      <th>19553</th>\n",
              "      <td>Центральный административный округ</td>\n",
              "      <td>красносельский район</td>\n",
              "      <td>мясницкая улица</td>\n",
              "    </tr>\n",
              "    <tr>\n",
              "      <th>19554</th>\n",
              "      <td>Юго-Западный административный округ</td>\n",
              "      <td>район тёплый стан</td>\n",
              "      <td>профсоюзная улица</td>\n",
              "    </tr>\n",
              "    <tr>\n",
              "      <th>19555</th>\n",
              "      <td>Северо-Восточный административный округ</td>\n",
              "      <td>район марьина роща</td>\n",
              "      <td>улица сущевский вал</td>\n",
              "    </tr>\n",
              "    <tr>\n",
              "      <th>19556</th>\n",
              "      <td>Центральный административный округ</td>\n",
              "      <td>мещанский район</td>\n",
              "      <td>улица сретенка</td>\n",
              "    </tr>\n",
              "  </tbody>\n",
              "</table>\n",
              "<p>19109 rows × 3 columns</p>\n",
              "</div>"
            ],
            "text/plain": [
              "                                       admarea              district  \\\n",
              "1      Северо-Восточный административный округ     ярославский район   \n",
              "2           Центральный административный округ       таганский район   \n",
              "3           Центральный административный округ       таганский район   \n",
              "4      Северо-Восточный административный округ       район лианозово   \n",
              "5           Центральный административный округ           район арбат   \n",
              "...                                        ...                   ...   \n",
              "19552      Юго-Западный административный округ     район тёплый стан   \n",
              "19553       Центральный административный округ  красносельский район   \n",
              "19554      Юго-Западный административный округ     район тёплый стан   \n",
              "19555  Северо-Восточный административный округ    район марьина роща   \n",
              "19556       Центральный административный округ       мещанский район   \n",
              "\n",
              "                       street  \n",
              "1       улица егора абакумова  \n",
              "2            улица талалихина  \n",
              "3        абельмановская улица  \n",
              "4             угличская улица  \n",
              "5      переулок сивцев вражек  \n",
              "...                       ...  \n",
              "19552     улица островитянова  \n",
              "19553         мясницкая улица  \n",
              "19554       профсоюзная улица  \n",
              "19555     улица сущевский вал  \n",
              "19556          улица сретенка  \n",
              "\n",
              "[19109 rows x 3 columns]"
            ]
          },
          "execution_count": 40,
          "metadata": {},
          "output_type": "execute_result"
        }
      ],
      "source": [
        "district = df_2.drop(columns=['id', 'name', 'global_id', 'isnetobject', 'operatingcompany',\n",
        "       'typeobject', 'address', 'publicphone',\n",
        "       'seatscount', 'socialprivileges', 'longitude_wgs84', 'latitude_wgs84',\n",
        "       'geodata_center', 'geoarea'])\n",
        "\n",
        "district[\"street\"].isna().sum() #просмотр и удаление строк без улиц\n",
        "district = district[~district.street.isna()]\n",
        "district"
      ]
    },
    {
      "cell_type": "code",
      "execution_count": null,
      "metadata": {
        "scrolled": true,
        "id": "k_YM2UcB0lC5",
        "outputId": "ea919925-56d7-4439-c180-b3959784f6de"
      },
      "outputs": [
        {
          "data": {
            "text/plain": [
              "16762"
            ]
          },
          "execution_count": 41,
          "metadata": {},
          "output_type": "execute_result"
        }
      ],
      "source": [
        "district.duplicated().sum()"
      ]
    },
    {
      "cell_type": "code",
      "execution_count": null,
      "metadata": {
        "id": "amR5vvnw0lC6",
        "outputId": "3fc80e92-6887-4e1c-b26d-8d8e5d1ca4aa"
      },
      "outputs": [
        {
          "data": {
            "text/html": [
              "<div>\n",
              "<style scoped>\n",
              "    .dataframe tbody tr th:only-of-type {\n",
              "        vertical-align: middle;\n",
              "    }\n",
              "\n",
              "    .dataframe tbody tr th {\n",
              "        vertical-align: top;\n",
              "    }\n",
              "\n",
              "    .dataframe thead th {\n",
              "        text-align: right;\n",
              "    }\n",
              "</style>\n",
              "<table border=\"1\" class=\"dataframe\">\n",
              "  <thead>\n",
              "    <tr style=\"text-align: right;\">\n",
              "      <th></th>\n",
              "      <th>admarea</th>\n",
              "      <th>district</th>\n",
              "      <th>street</th>\n",
              "    </tr>\n",
              "  </thead>\n",
              "  <tbody>\n",
              "    <tr>\n",
              "      <th>1</th>\n",
              "      <td>Северо-Восточный административный округ</td>\n",
              "      <td>ярославский район</td>\n",
              "      <td>улица егора абакумова</td>\n",
              "    </tr>\n",
              "    <tr>\n",
              "      <th>2</th>\n",
              "      <td>Центральный административный округ</td>\n",
              "      <td>таганский район</td>\n",
              "      <td>улица талалихина</td>\n",
              "    </tr>\n",
              "    <tr>\n",
              "      <th>3</th>\n",
              "      <td>Центральный административный округ</td>\n",
              "      <td>таганский район</td>\n",
              "      <td>абельмановская улица</td>\n",
              "    </tr>\n",
              "    <tr>\n",
              "      <th>4</th>\n",
              "      <td>Северо-Восточный административный округ</td>\n",
              "      <td>район лианозово</td>\n",
              "      <td>угличская улица</td>\n",
              "    </tr>\n",
              "    <tr>\n",
              "      <th>5</th>\n",
              "      <td>Центральный административный округ</td>\n",
              "      <td>район арбат</td>\n",
              "      <td>переулок сивцев вражек</td>\n",
              "    </tr>\n",
              "    <tr>\n",
              "      <th>...</th>\n",
              "      <td>...</td>\n",
              "      <td>...</td>\n",
              "      <td>...</td>\n",
              "    </tr>\n",
              "    <tr>\n",
              "      <th>19306</th>\n",
              "      <td>Восточный административный округ</td>\n",
              "      <td>район богородское</td>\n",
              "      <td>тюменский проезд</td>\n",
              "    </tr>\n",
              "    <tr>\n",
              "      <th>19354</th>\n",
              "      <td>Северо-Восточный административный округ</td>\n",
              "      <td>район марфино</td>\n",
              "      <td>улица комдива орлова</td>\n",
              "    </tr>\n",
              "    <tr>\n",
              "      <th>19486</th>\n",
              "      <td>Юго-Восточный административный округ</td>\n",
              "      <td>рязанский район</td>\n",
              "      <td>саратовская улица</td>\n",
              "    </tr>\n",
              "    <tr>\n",
              "      <th>19503</th>\n",
              "      <td>Западный административный округ</td>\n",
              "      <td>район филёвский парк</td>\n",
              "      <td>заречная улица</td>\n",
              "    </tr>\n",
              "    <tr>\n",
              "      <th>19544</th>\n",
              "      <td>Западный административный округ</td>\n",
              "      <td>можайский район</td>\n",
              "      <td>квартал № 4</td>\n",
              "    </tr>\n",
              "  </tbody>\n",
              "</table>\n",
              "<p>2347 rows × 3 columns</p>\n",
              "</div>"
            ],
            "text/plain": [
              "                                       admarea              district  \\\n",
              "1      Северо-Восточный административный округ     ярославский район   \n",
              "2           Центральный административный округ       таганский район   \n",
              "3           Центральный административный округ       таганский район   \n",
              "4      Северо-Восточный административный округ       район лианозово   \n",
              "5           Центральный административный округ           район арбат   \n",
              "...                                        ...                   ...   \n",
              "19306         Восточный административный округ     район богородское   \n",
              "19354  Северо-Восточный административный округ         район марфино   \n",
              "19486     Юго-Восточный административный округ       рязанский район   \n",
              "19503          Западный административный округ  район филёвский парк   \n",
              "19544          Западный административный округ       можайский район   \n",
              "\n",
              "                       street  \n",
              "1       улица егора абакумова  \n",
              "2            улица талалихина  \n",
              "3        абельмановская улица  \n",
              "4             угличская улица  \n",
              "5      переулок сивцев вражек  \n",
              "...                       ...  \n",
              "19306        тюменский проезд  \n",
              "19354    улица комдива орлова  \n",
              "19486       саратовская улица  \n",
              "19503          заречная улица  \n",
              "19544             квартал № 4  \n",
              "\n",
              "[2347 rows x 3 columns]"
            ]
          },
          "execution_count": 42,
          "metadata": {},
          "output_type": "execute_result"
        }
      ],
      "source": [
        "district = district.drop_duplicates()\n",
        "district.duplicated().sum()\n",
        "district"
      ]
    },
    {
      "cell_type": "markdown",
      "metadata": {
        "id": "vwZe9M_j0lC7"
      },
      "source": [
        "Объединим таблицу с Топ - 10  улиц с полученной таблицей из внешних источников."
      ]
    },
    {
      "cell_type": "code",
      "execution_count": null,
      "metadata": {
        "id": "cGQVCjQh0lC9",
        "outputId": "3bdb55ad-24c8-44ae-ba18-87c09be574fb"
      },
      "outputs": [
        {
          "data": {
            "text/html": [
              "<div>\n",
              "<style scoped>\n",
              "    .dataframe tbody tr th:only-of-type {\n",
              "        vertical-align: middle;\n",
              "    }\n",
              "\n",
              "    .dataframe tbody tr th {\n",
              "        vertical-align: top;\n",
              "    }\n",
              "\n",
              "    .dataframe thead th {\n",
              "        text-align: right;\n",
              "    }\n",
              "</style>\n",
              "<table border=\"1\" class=\"dataframe\">\n",
              "  <thead>\n",
              "    <tr style=\"text-align: right;\">\n",
              "      <th></th>\n",
              "      <th></th>\n",
              "      <th></th>\n",
              "    </tr>\n",
              "    <tr>\n",
              "      <th>street</th>\n",
              "      <th>admarea</th>\n",
              "      <th>district</th>\n",
              "    </tr>\n",
              "  </thead>\n",
              "  <tbody>\n",
              "    <tr>\n",
              "      <th rowspan=\"5\" valign=\"top\">проспект мира</th>\n",
              "      <th rowspan=\"4\" valign=\"top\">Северо-Восточный административный округ</th>\n",
              "      <th>район свиблово</th>\n",
              "    </tr>\n",
              "    <tr>\n",
              "      <th>алексеевский район</th>\n",
              "    </tr>\n",
              "    <tr>\n",
              "      <th>останкинский район</th>\n",
              "    </tr>\n",
              "    <tr>\n",
              "      <th>район ростокино</th>\n",
              "    </tr>\n",
              "    <tr>\n",
              "      <th>Центральный административный округ</th>\n",
              "      <th>мещанский район</th>\n",
              "    </tr>\n",
              "    <tr>\n",
              "      <th rowspan=\"6\" valign=\"top\">профсоюзная улица</th>\n",
              "      <th rowspan=\"6\" valign=\"top\">Юго-Западный административный округ</th>\n",
              "      <th>академический район</th>\n",
              "    </tr>\n",
              "    <tr>\n",
              "      <th>район ясенево</th>\n",
              "    </tr>\n",
              "    <tr>\n",
              "      <th>обручевский район</th>\n",
              "    </tr>\n",
              "    <tr>\n",
              "      <th>район коньково</th>\n",
              "    </tr>\n",
              "    <tr>\n",
              "      <th>район тёплый стан</th>\n",
              "    </tr>\n",
              "    <tr>\n",
              "      <th>район черёмушки</th>\n",
              "    </tr>\n",
              "    <tr>\n",
              "      <th rowspan=\"4\" valign=\"top\">ленинградский проспект</th>\n",
              "      <th rowspan=\"4\" valign=\"top\">Северный административный округ</th>\n",
              "      <th>район аэропорт</th>\n",
              "    </tr>\n",
              "    <tr>\n",
              "      <th>хорошёвский район</th>\n",
              "    </tr>\n",
              "    <tr>\n",
              "      <th>район сокол</th>\n",
              "    </tr>\n",
              "    <tr>\n",
              "      <th>район беговой</th>\n",
              "    </tr>\n",
              "    <tr>\n",
              "      <th>пресненская набережная</th>\n",
              "      <th>Центральный административный округ</th>\n",
              "      <th>пресненский район</th>\n",
              "    </tr>\n",
              "    <tr>\n",
              "      <th rowspan=\"9\" valign=\"top\">варшавское шоссе</th>\n",
              "      <th>Центральный административный округ</th>\n",
              "      <th>район якиманка</th>\n",
              "    </tr>\n",
              "    <tr>\n",
              "      <th>Новомосковский административный округ</th>\n",
              "      <th>поселение щербинка</th>\n",
              "    </tr>\n",
              "    <tr>\n",
              "      <th>Юго-Западный административный округ</th>\n",
              "      <th>район южное бутово</th>\n",
              "    </tr>\n",
              "    <tr>\n",
              "      <th rowspan=\"6\" valign=\"top\">Южный административный округ</th>\n",
              "      <th>донской район</th>\n",
              "    </tr>\n",
              "    <tr>\n",
              "      <th>нагорный район</th>\n",
              "    </tr>\n",
              "    <tr>\n",
              "      <th>район нагатино-садовники</th>\n",
              "    </tr>\n",
              "    <tr>\n",
              "      <th>район чертаново южное</th>\n",
              "    </tr>\n",
              "    <tr>\n",
              "      <th>район чертаново северное</th>\n",
              "    </tr>\n",
              "    <tr>\n",
              "      <th>район чертаново центральное</th>\n",
              "    </tr>\n",
              "    <tr>\n",
              "      <th rowspan=\"8\" valign=\"top\">ленинский проспект</th>\n",
              "      <th>Западный административный округ</th>\n",
              "      <th>район тропарёво-никулино</th>\n",
              "    </tr>\n",
              "    <tr>\n",
              "      <th>Юго-Западный административный округ</th>\n",
              "      <th>обручевский район</th>\n",
              "    </tr>\n",
              "    <tr>\n",
              "      <th>Южный административный округ</th>\n",
              "      <th>донской район</th>\n",
              "    </tr>\n",
              "    <tr>\n",
              "      <th rowspan=\"3\" valign=\"top\">Юго-Западный административный округ</th>\n",
              "      <th>район тёплый стан</th>\n",
              "    </tr>\n",
              "    <tr>\n",
              "      <th>гагаринский район</th>\n",
              "    </tr>\n",
              "    <tr>\n",
              "      <th>ломоносовский район</th>\n",
              "    </tr>\n",
              "    <tr>\n",
              "      <th>Центральный административный округ</th>\n",
              "      <th>район якиманка</th>\n",
              "    </tr>\n",
              "    <tr>\n",
              "      <th>Западный административный округ</th>\n",
              "      <th>район проспект вернадского</th>\n",
              "    </tr>\n",
              "    <tr>\n",
              "      <th rowspan=\"6\" valign=\"top\">проспект вернадского</th>\n",
              "      <th>Троицкий административный округ</th>\n",
              "      <th>поселение вороновское</th>\n",
              "    </tr>\n",
              "    <tr>\n",
              "      <th rowspan=\"2\" valign=\"top\">Юго-Западный административный округ</th>\n",
              "      <th>ломоносовский район</th>\n",
              "    </tr>\n",
              "    <tr>\n",
              "      <th>гагаринский район</th>\n",
              "    </tr>\n",
              "    <tr>\n",
              "      <th rowspan=\"3\" valign=\"top\">Западный административный округ</th>\n",
              "      <th>район раменки</th>\n",
              "    </tr>\n",
              "    <tr>\n",
              "      <th>район тропарёво-никулино</th>\n",
              "    </tr>\n",
              "    <tr>\n",
              "      <th>район проспект вернадского</th>\n",
              "    </tr>\n",
              "    <tr>\n",
              "      <th rowspan=\"3\" valign=\"top\">кутузовский проспект</th>\n",
              "      <th>Троицкий административный округ</th>\n",
              "      <th>поселение краснопахорское</th>\n",
              "    </tr>\n",
              "    <tr>\n",
              "      <th rowspan=\"2\" valign=\"top\">Западный административный округ</th>\n",
              "      <th>район дорогомилово</th>\n",
              "    </tr>\n",
              "    <tr>\n",
              "      <th>район фили-давыдково</th>\n",
              "    </tr>\n",
              "    <tr>\n",
              "      <th rowspan=\"5\" valign=\"top\">каширское шоссе</th>\n",
              "      <th rowspan=\"5\" valign=\"top\">Южный административный округ</th>\n",
              "      <th>район орехово-борисово северное</th>\n",
              "    </tr>\n",
              "    <tr>\n",
              "      <th>район нагатино-садовники</th>\n",
              "    </tr>\n",
              "    <tr>\n",
              "      <th>район москворечье-сабурово</th>\n",
              "    </tr>\n",
              "    <tr>\n",
              "      <th>район орехово-борисово южное</th>\n",
              "    </tr>\n",
              "    <tr>\n",
              "      <th>район чертаново южное</th>\n",
              "    </tr>\n",
              "    <tr>\n",
              "      <th rowspan=\"3\" valign=\"top\">кировоградская улица</th>\n",
              "      <th rowspan=\"3\" valign=\"top\">Южный административный округ</th>\n",
              "      <th>район чертаново северное</th>\n",
              "    </tr>\n",
              "    <tr>\n",
              "      <th>район чертаново центральное</th>\n",
              "    </tr>\n",
              "    <tr>\n",
              "      <th>район чертаново южное</th>\n",
              "    </tr>\n",
              "  </tbody>\n",
              "</table>\n",
              "</div>"
            ],
            "text/plain": [
              "Empty DataFrame\n",
              "Columns: []\n",
              "Index: [(проспект мира, Северо-Восточный административный округ, район свиблово), (проспект мира, Северо-Восточный административный округ, алексеевский район), (проспект мира, Северо-Восточный административный округ, останкинский район), (проспект мира, Северо-Восточный административный округ, район ростокино), (проспект мира, Центральный административный округ, мещанский район), (профсоюзная улица, Юго-Западный административный округ, академический район), (профсоюзная улица, Юго-Западный административный округ, район ясенево), (профсоюзная улица, Юго-Западный административный округ, обручевский район), (профсоюзная улица, Юго-Западный административный округ, район коньково), (профсоюзная улица, Юго-Западный административный округ, район тёплый стан), (профсоюзная улица, Юго-Западный административный округ, район черёмушки), (ленинградский проспект, Северный административный округ, район аэропорт), (ленинградский проспект, Северный административный округ, хорошёвский район), (ленинградский проспект, Северный административный округ, район сокол), (ленинградский проспект, Северный административный округ, район беговой), (пресненская набережная, Центральный административный округ, пресненский район), (варшавское шоссе, Центральный административный округ, район якиманка), (варшавское шоссе, Новомосковский административный округ, поселение щербинка), (варшавское шоссе, Юго-Западный административный округ, район южное бутово), (варшавское шоссе, Южный административный округ, донской район), (варшавское шоссе, Южный административный округ, нагорный район), (варшавское шоссе, Южный административный округ, район нагатино-садовники), (варшавское шоссе, Южный административный округ, район чертаново южное), (варшавское шоссе, Южный административный округ, район чертаново северное), (варшавское шоссе, Южный административный округ, район чертаново центральное), (ленинский проспект, Западный административный округ, район тропарёво-никулино), (ленинский проспект, Юго-Западный административный округ, обручевский район), (ленинский проспект, Южный административный округ, донской район), (ленинский проспект, Юго-Западный административный округ, район тёплый стан), (ленинский проспект, Юго-Западный административный округ, гагаринский район), (ленинский проспект, Юго-Западный административный округ, ломоносовский район), (ленинский проспект, Центральный административный округ, район якиманка), (ленинский проспект, Западный административный округ, район проспект вернадского), (проспект вернадского, Троицкий административный округ, поселение вороновское), (проспект вернадского, Юго-Западный административный округ, ломоносовский район), (проспект вернадского, Юго-Западный административный округ, гагаринский район), (проспект вернадского, Западный административный округ, район раменки), (проспект вернадского, Западный административный округ, район тропарёво-никулино), (проспект вернадского, Западный административный округ, район проспект вернадского), (кутузовский проспект, Троицкий административный округ, поселение краснопахорское), (кутузовский проспект, Западный административный округ, район дорогомилово), (кутузовский проспект, Западный административный округ, район фили-давыдково), (каширское шоссе, Южный административный округ, район орехово-борисово северное), (каширское шоссе, Южный административный округ, район нагатино-садовники), (каширское шоссе, Южный административный округ, район москворечье-сабурово), (каширское шоссе, Южный административный округ, район орехово-борисово южное), (каширское шоссе, Южный административный округ, район чертаново южное), (кировоградская улица, Южный административный округ, район чертаново северное), (кировоградская улица, Южный административный округ, район чертаново центральное), (кировоградская улица, Южный административный округ, район чертаново южное)]"
            ]
          },
          "execution_count": 43,
          "metadata": {},
          "output_type": "execute_result"
        }
      ],
      "source": [
        "top_10_ds = pd.merge(top_10_streets, district, how='left', left_on='street', right_on='street')\n",
        "\n",
        "#сводная таблица по улице, административному округу и району\n",
        "top_10_ds = pd.pivot_table(top_10_ds, index=['street','admarea', 'district']).sort_values(by='count', ascending=False)\n",
        "del top_10_ds['count']\n",
        "\n",
        "top_10_ds"
      ]
    },
    {
      "cell_type": "code",
      "execution_count": null,
      "metadata": {
        "scrolled": false,
        "id": "nPFTvEK_0lC-",
        "outputId": "f266bc06-3a88-484f-80a4-c53e1ffd75d3"
      },
      "outputs": [
        {
          "data": {
            "text/html": [
              "<div>\n",
              "<style scoped>\n",
              "    .dataframe tbody tr th:only-of-type {\n",
              "        vertical-align: middle;\n",
              "    }\n",
              "\n",
              "    .dataframe tbody tr th {\n",
              "        vertical-align: top;\n",
              "    }\n",
              "\n",
              "    .dataframe thead th {\n",
              "        text-align: right;\n",
              "    }\n",
              "</style>\n",
              "<table border=\"1\" class=\"dataframe\">\n",
              "  <thead>\n",
              "    <tr style=\"text-align: right;\">\n",
              "      <th></th>\n",
              "      <th>admarea</th>\n",
              "      <th>count</th>\n",
              "    </tr>\n",
              "  </thead>\n",
              "  <tbody>\n",
              "    <tr>\n",
              "      <th>7</th>\n",
              "      <td>Южный административный округ</td>\n",
              "      <td>15</td>\n",
              "    </tr>\n",
              "    <tr>\n",
              "      <th>6</th>\n",
              "      <td>Юго-Западный административный округ</td>\n",
              "      <td>13</td>\n",
              "    </tr>\n",
              "    <tr>\n",
              "      <th>0</th>\n",
              "      <td>Западный административный округ</td>\n",
              "      <td>7</td>\n",
              "    </tr>\n",
              "    <tr>\n",
              "      <th>2</th>\n",
              "      <td>Северный административный округ</td>\n",
              "      <td>4</td>\n",
              "    </tr>\n",
              "    <tr>\n",
              "      <th>3</th>\n",
              "      <td>Северо-Восточный административный округ</td>\n",
              "      <td>4</td>\n",
              "    </tr>\n",
              "    <tr>\n",
              "      <th>5</th>\n",
              "      <td>Центральный административный округ</td>\n",
              "      <td>4</td>\n",
              "    </tr>\n",
              "    <tr>\n",
              "      <th>4</th>\n",
              "      <td>Троицкий административный округ</td>\n",
              "      <td>2</td>\n",
              "    </tr>\n",
              "    <tr>\n",
              "      <th>1</th>\n",
              "      <td>Новомосковский административный округ</td>\n",
              "      <td>1</td>\n",
              "    </tr>\n",
              "  </tbody>\n",
              "</table>\n",
              "</div>"
            ],
            "text/plain": [
              "                                   admarea  count\n",
              "7             Южный административный округ     15\n",
              "6      Юго-Западный административный округ     13\n",
              "0          Западный административный округ      7\n",
              "2          Северный административный округ      4\n",
              "3  Северо-Восточный административный округ      4\n",
              "5       Центральный административный округ      4\n",
              "4          Троицкий административный округ      2\n",
              "1    Новомосковский административный округ      1"
            ]
          },
          "execution_count": 44,
          "metadata": {},
          "output_type": "execute_result"
        }
      ],
      "source": [
        "#создание таблицы с подсчетом количества встречаемый административных округов в ТОП- 10 популярных улиц\n",
        "temporarily = top_10_ds.reset_index()\n",
        "admarea = temporarily.groupby(\n",
        "    'admarea').agg({'admarea':['count']}).reset_index()\n",
        "admarea.columns = ['admarea', 'count']\n",
        "admarea = admarea.sort_values(by='count', ascending=False)\n",
        "admarea"
      ]
    },
    {
      "cell_type": "markdown",
      "metadata": {
        "id": "qbHJMZNR0lC-"
      },
      "source": [
        "Чаще всего вствечается  **Южный административнй округ**, на втором месте **Юго-Западный административный округ**, а на третьем **Западный административный округ**."
      ]
    },
    {
      "cell_type": "code",
      "execution_count": null,
      "metadata": {
        "scrolled": true,
        "id": "OdbzVbus0lC_",
        "outputId": "4b65396d-05c1-4dd1-a68e-30ae3047eeda"
      },
      "outputs": [
        {
          "data": {
            "text/html": [
              "<div>\n",
              "<style scoped>\n",
              "    .dataframe tbody tr th:only-of-type {\n",
              "        vertical-align: middle;\n",
              "    }\n",
              "\n",
              "    .dataframe tbody tr th {\n",
              "        vertical-align: top;\n",
              "    }\n",
              "\n",
              "    .dataframe thead th {\n",
              "        text-align: right;\n",
              "    }\n",
              "</style>\n",
              "<table border=\"1\" class=\"dataframe\">\n",
              "  <thead>\n",
              "    <tr style=\"text-align: right;\">\n",
              "      <th></th>\n",
              "      <th>district</th>\n",
              "      <th>count</th>\n",
              "    </tr>\n",
              "  </thead>\n",
              "  <tbody>\n",
              "    <tr>\n",
              "      <th>31</th>\n",
              "      <td>район чертаново южное</td>\n",
              "      <td>3</td>\n",
              "    </tr>\n",
              "    <tr>\n",
              "      <th>7</th>\n",
              "      <td>обручевский район</td>\n",
              "      <td>2</td>\n",
              "    </tr>\n",
              "    <tr>\n",
              "      <th>26</th>\n",
              "      <td>район тропарёво-никулино</td>\n",
              "      <td>2</td>\n",
              "    </tr>\n",
              "    <tr>\n",
              "      <th>27</th>\n",
              "      <td>район тёплый стан</td>\n",
              "      <td>2</td>\n",
              "    </tr>\n",
              "    <tr>\n",
              "      <th>29</th>\n",
              "      <td>район чертаново северное</td>\n",
              "      <td>2</td>\n",
              "    </tr>\n",
              "    <tr>\n",
              "      <th>30</th>\n",
              "      <td>район чертаново центральное</td>\n",
              "      <td>2</td>\n",
              "    </tr>\n",
              "    <tr>\n",
              "      <th>21</th>\n",
              "      <td>район проспект вернадского</td>\n",
              "      <td>2</td>\n",
              "    </tr>\n",
              "    <tr>\n",
              "      <th>18</th>\n",
              "      <td>район нагатино-садовники</td>\n",
              "      <td>2</td>\n",
              "    </tr>\n",
              "    <tr>\n",
              "      <th>34</th>\n",
              "      <td>район якиманка</td>\n",
              "      <td>2</td>\n",
              "    </tr>\n",
              "    <tr>\n",
              "      <th>4</th>\n",
              "      <td>ломоносовский район</td>\n",
              "      <td>2</td>\n",
              "    </tr>\n",
              "    <tr>\n",
              "      <th>3</th>\n",
              "      <td>донской район</td>\n",
              "      <td>2</td>\n",
              "    </tr>\n",
              "    <tr>\n",
              "      <th>2</th>\n",
              "      <td>гагаринский район</td>\n",
              "      <td>2</td>\n",
              "    </tr>\n",
              "    <tr>\n",
              "      <th>33</th>\n",
              "      <td>район южное бутово</td>\n",
              "      <td>1</td>\n",
              "    </tr>\n",
              "    <tr>\n",
              "      <th>32</th>\n",
              "      <td>район черёмушки</td>\n",
              "      <td>1</td>\n",
              "    </tr>\n",
              "    <tr>\n",
              "      <th>35</th>\n",
              "      <td>район ясенево</td>\n",
              "      <td>1</td>\n",
              "    </tr>\n",
              "    <tr>\n",
              "      <th>28</th>\n",
              "      <td>район фили-давыдково</td>\n",
              "      <td>1</td>\n",
              "    </tr>\n",
              "    <tr>\n",
              "      <th>25</th>\n",
              "      <td>район сокол</td>\n",
              "      <td>1</td>\n",
              "    </tr>\n",
              "    <tr>\n",
              "      <th>24</th>\n",
              "      <td>район свиблово</td>\n",
              "      <td>1</td>\n",
              "    </tr>\n",
              "    <tr>\n",
              "      <th>23</th>\n",
              "      <td>район ростокино</td>\n",
              "      <td>1</td>\n",
              "    </tr>\n",
              "    <tr>\n",
              "      <th>22</th>\n",
              "      <td>район раменки</td>\n",
              "      <td>1</td>\n",
              "    </tr>\n",
              "    <tr>\n",
              "      <th>0</th>\n",
              "      <td>академический район</td>\n",
              "      <td>1</td>\n",
              "    </tr>\n",
              "    <tr>\n",
              "      <th>20</th>\n",
              "      <td>район орехово-борисово южное</td>\n",
              "      <td>1</td>\n",
              "    </tr>\n",
              "    <tr>\n",
              "      <th>19</th>\n",
              "      <td>район орехово-борисово северное</td>\n",
              "      <td>1</td>\n",
              "    </tr>\n",
              "    <tr>\n",
              "      <th>1</th>\n",
              "      <td>алексеевский район</td>\n",
              "      <td>1</td>\n",
              "    </tr>\n",
              "    <tr>\n",
              "      <th>17</th>\n",
              "      <td>район москворечье-сабурово</td>\n",
              "      <td>1</td>\n",
              "    </tr>\n",
              "    <tr>\n",
              "      <th>16</th>\n",
              "      <td>район коньково</td>\n",
              "      <td>1</td>\n",
              "    </tr>\n",
              "    <tr>\n",
              "      <th>15</th>\n",
              "      <td>район дорогомилово</td>\n",
              "      <td>1</td>\n",
              "    </tr>\n",
              "    <tr>\n",
              "      <th>14</th>\n",
              "      <td>район беговой</td>\n",
              "      <td>1</td>\n",
              "    </tr>\n",
              "    <tr>\n",
              "      <th>13</th>\n",
              "      <td>район аэропорт</td>\n",
              "      <td>1</td>\n",
              "    </tr>\n",
              "    <tr>\n",
              "      <th>12</th>\n",
              "      <td>пресненский район</td>\n",
              "      <td>1</td>\n",
              "    </tr>\n",
              "    <tr>\n",
              "      <th>11</th>\n",
              "      <td>поселение щербинка</td>\n",
              "      <td>1</td>\n",
              "    </tr>\n",
              "    <tr>\n",
              "      <th>10</th>\n",
              "      <td>поселение краснопахорское</td>\n",
              "      <td>1</td>\n",
              "    </tr>\n",
              "    <tr>\n",
              "      <th>9</th>\n",
              "      <td>поселение вороновское</td>\n",
              "      <td>1</td>\n",
              "    </tr>\n",
              "    <tr>\n",
              "      <th>8</th>\n",
              "      <td>останкинский район</td>\n",
              "      <td>1</td>\n",
              "    </tr>\n",
              "    <tr>\n",
              "      <th>6</th>\n",
              "      <td>нагорный район</td>\n",
              "      <td>1</td>\n",
              "    </tr>\n",
              "    <tr>\n",
              "      <th>5</th>\n",
              "      <td>мещанский район</td>\n",
              "      <td>1</td>\n",
              "    </tr>\n",
              "    <tr>\n",
              "      <th>36</th>\n",
              "      <td>хорошёвский район</td>\n",
              "      <td>1</td>\n",
              "    </tr>\n",
              "  </tbody>\n",
              "</table>\n",
              "</div>"
            ],
            "text/plain": [
              "                           district  count\n",
              "31            район чертаново южное      3\n",
              "7                 обручевский район      2\n",
              "26         район тропарёво-никулино      2\n",
              "27                район тёплый стан      2\n",
              "29         район чертаново северное      2\n",
              "30      район чертаново центральное      2\n",
              "21       район проспект вернадского      2\n",
              "18         район нагатино-садовники      2\n",
              "34                   район якиманка      2\n",
              "4               ломоносовский район      2\n",
              "3                     донской район      2\n",
              "2                 гагаринский район      2\n",
              "33               район южное бутово      1\n",
              "32                  район черёмушки      1\n",
              "35                    район ясенево      1\n",
              "28             район фили-давыдково      1\n",
              "25                      район сокол      1\n",
              "24                   район свиблово      1\n",
              "23                  район ростокино      1\n",
              "22                    район раменки      1\n",
              "0               академический район      1\n",
              "20     район орехово-борисово южное      1\n",
              "19  район орехово-борисово северное      1\n",
              "1                алексеевский район      1\n",
              "17       район москворечье-сабурово      1\n",
              "16                   район коньково      1\n",
              "15               район дорогомилово      1\n",
              "14                    район беговой      1\n",
              "13                   район аэропорт      1\n",
              "12                пресненский район      1\n",
              "11               поселение щербинка      1\n",
              "10        поселение краснопахорское      1\n",
              "9             поселение вороновское      1\n",
              "8                останкинский район      1\n",
              "6                    нагорный район      1\n",
              "5                   мещанский район      1\n",
              "36                хорошёвский район      1"
            ]
          },
          "execution_count": 45,
          "metadata": {},
          "output_type": "execute_result"
        }
      ],
      "source": [
        "#создание таблицы с подсчетом количества встречаемый регионов в ТОП- 10 популярных улиц\n",
        "district_l = temporarily.groupby(\n",
        "    'district').agg({'district':['count']}).reset_index()\n",
        "district_l.columns = ['district', 'count']\n",
        "district_l = district_l.sort_values(by='count', ascending=False)\n",
        "district_l"
      ]
    },
    {
      "cell_type": "markdown",
      "metadata": {
        "id": "O8zu9rmh0lC_"
      },
      "source": [
        "Районов у нас получилось 37. Чаще всего встречется **район  Чертаново Южное**, это название встречается три раза. Все остальные районы встречаются 1-2 раза."
      ]
    },
    {
      "cell_type": "markdown",
      "metadata": {
        "id": "sMc4A21V0lDA"
      },
      "source": [
        "### Найдите число улиц с одним объектом общественного питания."
      ]
    },
    {
      "cell_type": "markdown",
      "metadata": {
        "id": "RAK5l6jP0lDB"
      },
      "source": [
        "Рассмотрим улицы с одним заведением общественного питания."
      ]
    },
    {
      "cell_type": "code",
      "execution_count": null,
      "metadata": {
        "scrolled": true,
        "id": "gP4IU6FW0lDB",
        "outputId": "01b24208-2c3f-4fe4-81ec-22c5aec69e78"
      },
      "outputs": [
        {
          "data": {
            "text/html": [
              "<div>\n",
              "<style scoped>\n",
              "    .dataframe tbody tr th:only-of-type {\n",
              "        vertical-align: middle;\n",
              "    }\n",
              "\n",
              "    .dataframe tbody tr th {\n",
              "        vertical-align: top;\n",
              "    }\n",
              "\n",
              "    .dataframe thead th {\n",
              "        text-align: right;\n",
              "    }\n",
              "</style>\n",
              "<table border=\"1\" class=\"dataframe\">\n",
              "  <thead>\n",
              "    <tr style=\"text-align: right;\">\n",
              "      <th></th>\n",
              "      <th>street</th>\n",
              "      <th>count</th>\n",
              "    </tr>\n",
              "  </thead>\n",
              "  <tbody>\n",
              "    <tr>\n",
              "      <th>1354</th>\n",
              "      <td>будайская улица</td>\n",
              "      <td>1</td>\n",
              "    </tr>\n",
              "    <tr>\n",
              "      <th>1355</th>\n",
              "      <td>улица новая дорога</td>\n",
              "      <td>1</td>\n",
              "    </tr>\n",
              "    <tr>\n",
              "      <th>1356</th>\n",
              "      <td>переулок хользунова</td>\n",
              "      <td>1</td>\n",
              "    </tr>\n",
              "    <tr>\n",
              "      <th>1357</th>\n",
              "      <td>нижний таганский тупик</td>\n",
              "      <td>1</td>\n",
              "    </tr>\n",
              "    <tr>\n",
              "      <th>1358</th>\n",
              "      <td>улица евгения родионова</td>\n",
              "      <td>1</td>\n",
              "    </tr>\n",
              "    <tr>\n",
              "      <th>...</th>\n",
              "      <td>...</td>\n",
              "      <td>...</td>\n",
              "    </tr>\n",
              "    <tr>\n",
              "      <th>1898</th>\n",
              "      <td>попов проезд</td>\n",
              "      <td>1</td>\n",
              "    </tr>\n",
              "    <tr>\n",
              "      <th>1899</th>\n",
              "      <td>улица кошкина</td>\n",
              "      <td>1</td>\n",
              "    </tr>\n",
              "    <tr>\n",
              "      <th>1900</th>\n",
              "      <td>улица фадеева</td>\n",
              "      <td>1</td>\n",
              "    </tr>\n",
              "    <tr>\n",
              "      <th>1901</th>\n",
              "      <td>малый конюшковский переулок</td>\n",
              "      <td>1</td>\n",
              "    </tr>\n",
              "    <tr>\n",
              "      <th>1902</th>\n",
              "      <td>спартаковский переулок</td>\n",
              "      <td>1</td>\n",
              "    </tr>\n",
              "  </tbody>\n",
              "</table>\n",
              "<p>549 rows × 2 columns</p>\n",
              "</div>"
            ],
            "text/plain": [
              "                           street  count\n",
              "1354              будайская улица      1\n",
              "1355           улица новая дорога      1\n",
              "1356          переулок хользунова      1\n",
              "1357       нижний таганский тупик      1\n",
              "1358      улица евгения родионова      1\n",
              "...                           ...    ...\n",
              "1898                 попов проезд      1\n",
              "1899                улица кошкина      1\n",
              "1900                улица фадеева      1\n",
              "1901  малый конюшковский переулок      1\n",
              "1902       спартаковский переулок      1\n",
              "\n",
              "[549 rows x 2 columns]"
            ]
          },
          "execution_count": 46,
          "metadata": {},
          "output_type": "execute_result"
        }
      ],
      "source": [
        "#фильтруем улицы встречающиеся только один раз\n",
        "one = top_streets[top_streets['count'] == 1]\n",
        "one"
      ]
    },
    {
      "cell_type": "markdown",
      "metadata": {
        "id": "FwvEJc3Y0lDB"
      },
      "source": [
        "Таких улиц оказалось 549.\n",
        "<br> Найдем в каких районах и административных округах чаще всего встречаются такие улицы."
      ]
    },
    {
      "cell_type": "code",
      "execution_count": null,
      "metadata": {
        "scrolled": true,
        "id": "SzCbF1Nb0lDC",
        "outputId": "b4e24681-b2b4-451e-e8a8-e2a2520d0db0"
      },
      "outputs": [
        {
          "data": {
            "text/html": [
              "<div>\n",
              "<style scoped>\n",
              "    .dataframe tbody tr th:only-of-type {\n",
              "        vertical-align: middle;\n",
              "    }\n",
              "\n",
              "    .dataframe tbody tr th {\n",
              "        vertical-align: top;\n",
              "    }\n",
              "\n",
              "    .dataframe thead th {\n",
              "        text-align: right;\n",
              "    }\n",
              "</style>\n",
              "<table border=\"1\" class=\"dataframe\">\n",
              "  <thead>\n",
              "    <tr style=\"text-align: right;\">\n",
              "      <th></th>\n",
              "      <th></th>\n",
              "      <th></th>\n",
              "    </tr>\n",
              "    <tr>\n",
              "      <th>street</th>\n",
              "      <th>admarea</th>\n",
              "      <th>district</th>\n",
              "    </tr>\n",
              "  </thead>\n",
              "  <tbody>\n",
              "    <tr>\n",
              "      <th>1-й балтийский переулок</th>\n",
              "      <th>Северный административный округ</th>\n",
              "      <th>район аэропорт</th>\n",
              "    </tr>\n",
              "    <tr>\n",
              "      <th>солнечногорский проезд</th>\n",
              "      <th>Северный административный округ</th>\n",
              "      <th>головинский район</th>\n",
              "    </tr>\n",
              "    <tr>\n",
              "      <th>старомонетный переулок</th>\n",
              "      <th>Центральный административный округ</th>\n",
              "      <th>район якиманка</th>\n",
              "    </tr>\n",
              "    <tr>\n",
              "      <th>старомарьинское шоссе</th>\n",
              "      <th>Северо-Восточный административный округ</th>\n",
              "      <th>район марьина роща</th>\n",
              "    </tr>\n",
              "    <tr>\n",
              "      <th>староалексеевская улица</th>\n",
              "      <th>Северо-Восточный административный округ</th>\n",
              "      <th>алексеевский район</th>\n",
              "    </tr>\n",
              "    <tr>\n",
              "      <th>...</th>\n",
              "      <th>...</th>\n",
              "      <th>...</th>\n",
              "    </tr>\n",
              "    <tr>\n",
              "      <th>новоостаповская улица</th>\n",
              "      <th>Юго-Восточный административный округ</th>\n",
              "      <th>южнопортовый район</th>\n",
              "    </tr>\n",
              "    <tr>\n",
              "      <th>нововладыкинский проезд</th>\n",
              "      <th>Северо-Восточный административный округ</th>\n",
              "      <th>район отрадное</th>\n",
              "    </tr>\n",
              "    <tr>\n",
              "      <th>новобутовский проезд</th>\n",
              "      <th>Юго-Западный административный округ</th>\n",
              "      <th>район южное бутово</th>\n",
              "    </tr>\n",
              "    <tr>\n",
              "      <th>никитский переулок</th>\n",
              "      <th>Центральный административный округ</th>\n",
              "      <th>тверской район</th>\n",
              "    </tr>\n",
              "    <tr>\n",
              "      <th>нижний кисельный переулок</th>\n",
              "      <th>Центральный административный округ</th>\n",
              "      <th>мещанский район</th>\n",
              "    </tr>\n",
              "  </tbody>\n",
              "</table>\n",
              "<p>80 rows × 0 columns</p>\n",
              "</div>"
            ],
            "text/plain": [
              "Empty DataFrame\n",
              "Columns: []\n",
              "Index: [(1-й балтийский переулок, Северный административный округ, район аэропорт), (солнечногорский проезд, Северный административный округ, головинский район), (старомонетный переулок, Центральный административный округ, район якиманка), (старомарьинское шоссе, Северо-Восточный административный округ, район марьина роща), (староалексеевская улица, Северо-Восточный административный округ, алексеевский район), (стандартная улица, Северо-Восточный административный округ, алтуфьевский район), (сретенский тупик, Центральный административный округ, красносельский район), (средняя калитниковская улица, Центральный административный округ, таганский район), (средний овчинниковский переулок, Центральный административный округ, район замоскворечье), (средний кондратьевский переулок, Центральный административный округ, пресненский район), (спартаковский переулок, Центральный административный округ, красносельский район), (союзный проспект, Восточный административный округ, район новогиреево), (сормовский проезд, Юго-Восточный административный округ, район выхино-жулебино), (солнечная аллея, Зеленоградский административный округ, район старое крюково), (рижский проезд, Северо-Восточный административный округ, алексеевский район), (соймоновский проезд, Центральный административный округ, район хамовники), (скорняжный переулок, Центральный административный округ, красносельский район), (скатертный переулок, Центральный административный округ, пресненский район), (синельниковская улица, Юго-Западный административный округ, район южное бутово), (сивашская улица, Юго-Западный административный округ, район зюзино), (сеченовский переулок, Центральный административный округ, район хамовники), (северодвинская улица, Северо-Восточный административный округ, район северное медведково), (сверчков переулок, Центральный административный округ, басманный район), (русаковская набережная, Восточный административный округ, район сокольники), (рубцов переулок, Центральный административный округ, басманный район), (ростокинская улица, Северо-Восточный административный округ, район ростокино), (староникольская улица, Юго-Западный административный округ, район южное бутово), (старослободская улица, Восточный административный округ, район сокольники), (столовый переулок, Центральный административный округ, пресненский район), (стрелецкая улица, Северо-Восточный административный округ, район марьина роща), (улица авиаконструктора микояна, Северный административный округ, хорошёвский район), (улица 9 мая, Восточный административный округ, район восточный), (улица 1-й километр объездной дороги, Троицкий административный округ, поселение кленовское), (тургеневская площадь, Центральный административный округ, красносельский район), (троицкий бульвар, Троицкий административный округ, поселение троицк), (троицкая улица, Новомосковский административный округ, поселение рязановское), (троилинский переулок, Центральный административный округ, район арбат), (триумфальная площадь, Центральный административный округ, тверской район), (тихий тупик, Центральный административный округ, таганский район), (тихвинский переулок, Центральный административный округ, тверской район), (тимирязевский проезд, Северный административный округ, тимирязевский район), (тетеринский переулок, Центральный административный округ, таганский район), (тестовская улица, Центральный административный округ, пресненский район), (тенистый проезд, Северо-Восточный административный округ, район свиблово), (театральная аллея, Северный административный округ, район аэропорт), (тарханская улица, Юго-Восточный административный округ, район выхино-жулебино), (тарусская улица, Юго-Западный административный округ, район ясенево), (таможенный проезд, Юго-Восточный административный округ, район лефортово), (таежная улица, Северо-Восточный административный округ, лосиноостровский район), (сумская улица, Южный административный округ, район чертаново северное), (стромынский переулок, Восточный административный округ, район сокольники), (стройковская улица, Центральный административный округ, таганский район), (стрельбищенский переулок, Центральный административный округ, пресненский район), (родниковая улица, Западный административный округ, район солнцево), (пяловская улица, Северный административный округ, район западное дегунино), (улица академика комарова, Северо-Восточный административный округ, район марфино), (олонецкий проезд, Северо-Восточный административный округ, бабушкинский район), (переулок хользунова, Центральный административный округ, район хамовники), (переулок расковой, Северный административный округ, район беговой), (переулок красина, Центральный административный округ, пресненский район), (переулок васнецова, Центральный административный округ, мещанский район), (пенягинская улица, Северо-Западный административный округ, район митино), (педагогическая улица, Южный административный округ, район бирюлёво восточное), (парусный проезд, Северо-Западный административный округ, район южное тушино), (парковая улица, Троицкий административный округ, поселение краснопахорское), (отрадный проезд, Северо-Восточный административный округ, район отрадное), (орехово-зуевский проезд, Юго-Восточный административный округ, нижегородский район), (оренбургская улица, Восточный административный округ, район косино-ухтомский), (озерная аллея, Зеленоградский административный округ, район савёлки), (пулковская улица, Северный административный округ, головинский район), (норильская улица, Северо-Восточный административный округ, лосиноостровский район), (новохорошевский проезд, Северо-Западный административный округ, район хорошёво-мнёвники), (новосибирская улица, Восточный административный округ, район гольяново), (новорублевская улица, Западный административный округ, район кунцево), (новопресненский переулок, Центральный административный округ, пресненский район), (новоостаповская улица, Юго-Восточный административный округ, южнопортовый район), (нововладыкинский проезд, Северо-Восточный административный округ, район отрадное), (новобутовский проезд, Юго-Западный административный округ, район южное бутово), (никитский переулок, Центральный административный округ, тверской район), (нижний кисельный переулок, Центральный административный округ, мещанский район)]\n",
              "\n",
              "[80 rows x 0 columns]"
            ]
          },
          "execution_count": 47,
          "metadata": {},
          "output_type": "execute_result"
        }
      ],
      "source": [
        "#объединение таблиц\n",
        "one_rest_ds = pd.merge(one, district, how='left', left_on='street', right_on='street')\n",
        "\n",
        "#создание сводной таблицы\n",
        "one_rest_ds = pd.pivot_table(one_rest_ds, index=['street','admarea', 'district']).sort_values(by='count', ascending=False)\n",
        "del one_rest_ds['count']\n",
        "one_rest_ds.head(80)"
      ]
    },
    {
      "cell_type": "markdown",
      "metadata": {
        "id": "ns1IM2uB0lDC"
      },
      "source": [
        "Как и ранее посмотрим как часто встречается каждый административный округ."
      ]
    },
    {
      "cell_type": "code",
      "execution_count": null,
      "metadata": {
        "scrolled": true,
        "id": "pqXj6mII0lDC",
        "outputId": "a8e92d64-cf71-4278-ceea-b9db0951a345"
      },
      "outputs": [
        {
          "data": {
            "text/html": [
              "<div>\n",
              "<style scoped>\n",
              "    .dataframe tbody tr th:only-of-type {\n",
              "        vertical-align: middle;\n",
              "    }\n",
              "\n",
              "    .dataframe tbody tr th {\n",
              "        vertical-align: top;\n",
              "    }\n",
              "\n",
              "    .dataframe thead th {\n",
              "        text-align: right;\n",
              "    }\n",
              "</style>\n",
              "<table border=\"1\" class=\"dataframe\">\n",
              "  <thead>\n",
              "    <tr style=\"text-align: right;\">\n",
              "      <th></th>\n",
              "      <th>admarea</th>\n",
              "      <th>count</th>\n",
              "    </tr>\n",
              "  </thead>\n",
              "  <tbody>\n",
              "    <tr>\n",
              "      <th>8</th>\n",
              "      <td>Центральный административный округ</td>\n",
              "      <td>145</td>\n",
              "    </tr>\n",
              "    <tr>\n",
              "      <th>5</th>\n",
              "      <td>Северо-Восточный административный округ</td>\n",
              "      <td>49</td>\n",
              "    </tr>\n",
              "    <tr>\n",
              "      <th>0</th>\n",
              "      <td>Восточный административный округ</td>\n",
              "      <td>47</td>\n",
              "    </tr>\n",
              "    <tr>\n",
              "      <th>4</th>\n",
              "      <td>Северный административный округ</td>\n",
              "      <td>42</td>\n",
              "    </tr>\n",
              "    <tr>\n",
              "      <th>1</th>\n",
              "      <td>Западный административный округ</td>\n",
              "      <td>36</td>\n",
              "    </tr>\n",
              "    <tr>\n",
              "      <th>9</th>\n",
              "      <td>Юго-Восточный административный округ</td>\n",
              "      <td>32</td>\n",
              "    </tr>\n",
              "    <tr>\n",
              "      <th>6</th>\n",
              "      <td>Северо-Западный административный округ</td>\n",
              "      <td>23</td>\n",
              "    </tr>\n",
              "    <tr>\n",
              "      <th>10</th>\n",
              "      <td>Юго-Западный административный округ</td>\n",
              "      <td>23</td>\n",
              "    </tr>\n",
              "    <tr>\n",
              "      <th>11</th>\n",
              "      <td>Южный административный округ</td>\n",
              "      <td>18</td>\n",
              "    </tr>\n",
              "    <tr>\n",
              "      <th>3</th>\n",
              "      <td>Новомосковский административный округ</td>\n",
              "      <td>10</td>\n",
              "    </tr>\n",
              "    <tr>\n",
              "      <th>7</th>\n",
              "      <td>Троицкий административный округ</td>\n",
              "      <td>9</td>\n",
              "    </tr>\n",
              "    <tr>\n",
              "      <th>2</th>\n",
              "      <td>Зеленоградский административный округ</td>\n",
              "      <td>4</td>\n",
              "    </tr>\n",
              "  </tbody>\n",
              "</table>\n",
              "</div>"
            ],
            "text/plain": [
              "                                    admarea  count\n",
              "8        Центральный административный округ    145\n",
              "5   Северо-Восточный административный округ     49\n",
              "0          Восточный административный округ     47\n",
              "4           Северный административный округ     42\n",
              "1           Западный административный округ     36\n",
              "9      Юго-Восточный административный округ     32\n",
              "6    Северо-Западный административный округ     23\n",
              "10      Юго-Западный административный округ     23\n",
              "11             Южный административный округ     18\n",
              "3     Новомосковский административный округ     10\n",
              "7           Троицкий административный округ      9\n",
              "2     Зеленоградский административный округ      4"
            ]
          },
          "execution_count": 48,
          "metadata": {},
          "output_type": "execute_result"
        }
      ],
      "source": [
        "temporarily_2 = one_rest_ds.reset_index()\n",
        "admarea_one = temporarily_2.groupby(\n",
        "    'admarea').agg({'admarea':['count']}).reset_index()\n",
        "admarea_one.columns = ['admarea', 'count']\n",
        "admarea_one = admarea_one.sort_values(by='count', ascending=False)\n",
        "admarea_one"
      ]
    },
    {
      "cell_type": "code",
      "execution_count": null,
      "metadata": {
        "id": "9s_v5OGB0lDD",
        "outputId": "8fe2c602-70fa-46c1-ead8-cbb1e78a8483"
      },
      "outputs": [
        {
          "data": {
            "image/png": "[encoded data removed]",
            "text/plain": [
              "<Figure size 720x720 with 1 Axes>"
            ]
          },
          "metadata": {
            "needs_background": "light"
          },
          "output_type": "display_data"
        }
      ],
      "source": [
        "plt.figure(figsize=(10,10))\n",
        "plt.title('Административные округа, где распологаются улицы с одним объектом общественного питания',\n",
        "                fontstyle = 'oblique',\n",
        "                fontsize = 20)\n",
        "plt.barh(admarea_one['admarea'], admarea_one['count'],color = colors)\n",
        "\n",
        "sns.despine() \n",
        "\n",
        "plt.xticks(wrap=True)\n",
        "plt.gca().invert_yaxis()\n",
        "plt.show()"
      ]
    },
    {
      "cell_type": "markdown",
      "metadata": {
        "id": "iGxnepHx0lDD"
      },
      "source": [
        "Больше всего улиц только с одним заведением встречается в **Центральном административном округе**, на втором месте **Северо-Восточный**,  а на третьем **Восточный административный округ**.\n",
        "<br>На графике наглядно видно, что у  **Центрального административного округа** очень большой отрыв, а вот между вторым и третьим местом он совсем маленький.\n",
        "<br>Рассмотрим таким же образом районы города Москвы."
      ]
    },
    {
      "cell_type": "code",
      "execution_count": null,
      "metadata": {
        "scrolled": true,
        "id": "LGkw-odM0lDD",
        "outputId": "0d2726c5-fb03-4236-9cad-6ebdd4b793b0"
      },
      "outputs": [
        {
          "data": {
            "text/html": [
              "<div>\n",
              "<style scoped>\n",
              "    .dataframe tbody tr th:only-of-type {\n",
              "        vertical-align: middle;\n",
              "    }\n",
              "\n",
              "    .dataframe tbody tr th {\n",
              "        vertical-align: top;\n",
              "    }\n",
              "\n",
              "    .dataframe thead th {\n",
              "        text-align: right;\n",
              "    }\n",
              "</style>\n",
              "<table border=\"1\" class=\"dataframe\">\n",
              "  <thead>\n",
              "    <tr style=\"text-align: right;\">\n",
              "      <th></th>\n",
              "      <th>district</th>\n",
              "      <th>count</th>\n",
              "    </tr>\n",
              "  </thead>\n",
              "  <tbody>\n",
              "    <tr>\n",
              "      <th>87</th>\n",
              "      <td>район хамовники</td>\n",
              "      <td>22</td>\n",
              "    </tr>\n",
              "    <tr>\n",
              "      <th>100</th>\n",
              "      <td>таганский район</td>\n",
              "      <td>22</td>\n",
              "    </tr>\n",
              "    <tr>\n",
              "      <th>3</th>\n",
              "      <td>басманный район</td>\n",
              "      <td>20</td>\n",
              "    </tr>\n",
              "    <tr>\n",
              "      <th>29</th>\n",
              "      <td>пресненский район</td>\n",
              "      <td>18</td>\n",
              "    </tr>\n",
              "    <tr>\n",
              "      <th>101</th>\n",
              "      <td>тверской район</td>\n",
              "      <td>17</td>\n",
              "    </tr>\n",
              "    <tr>\n",
              "      <th>79</th>\n",
              "      <td>район соколиная гора</td>\n",
              "      <td>12</td>\n",
              "    </tr>\n",
              "    <tr>\n",
              "      <th>30</th>\n",
              "      <td>район арбат</td>\n",
              "      <td>11</td>\n",
              "    </tr>\n",
              "    <tr>\n",
              "      <th>11</th>\n",
              "      <td>красносельский район</td>\n",
              "      <td>10</td>\n",
              "    </tr>\n",
              "    <tr>\n",
              "      <th>41</th>\n",
              "      <td>район замоскворечье</td>\n",
              "      <td>9</td>\n",
              "    </tr>\n",
              "    <tr>\n",
              "      <th>94</th>\n",
              "      <td>район южное бутово</td>\n",
              "      <td>9</td>\n",
              "    </tr>\n",
              "    <tr>\n",
              "      <th>13</th>\n",
              "      <td>мещанский район</td>\n",
              "      <td>9</td>\n",
              "    </tr>\n",
              "    <tr>\n",
              "      <th>57</th>\n",
              "      <td>район марьина роща</td>\n",
              "      <td>8</td>\n",
              "    </tr>\n",
              "    <tr>\n",
              "      <th>34</th>\n",
              "      <td>район богородское</td>\n",
              "      <td>8</td>\n",
              "    </tr>\n",
              "    <tr>\n",
              "      <th>80</th>\n",
              "      <td>район сокольники</td>\n",
              "      <td>8</td>\n",
              "    </tr>\n",
              "    <tr>\n",
              "      <th>14</th>\n",
              "      <td>можайский район</td>\n",
              "      <td>8</td>\n",
              "    </tr>\n",
              "    <tr>\n",
              "      <th>31</th>\n",
              "      <td>район аэропорт</td>\n",
              "      <td>7</td>\n",
              "    </tr>\n",
              "    <tr>\n",
              "      <th>96</th>\n",
              "      <td>район якиманка</td>\n",
              "      <td>7</td>\n",
              "    </tr>\n",
              "    <tr>\n",
              "      <th>0</th>\n",
              "      <td>алексеевский район</td>\n",
              "      <td>7</td>\n",
              "    </tr>\n",
              "    <tr>\n",
              "      <th>102</th>\n",
              "      <td>тимирязевский район</td>\n",
              "      <td>7</td>\n",
              "    </tr>\n",
              "    <tr>\n",
              "      <th>54</th>\n",
              "      <td>район лефортово</td>\n",
              "      <td>6</td>\n",
              "    </tr>\n",
              "    <tr>\n",
              "      <th>88</th>\n",
              "      <td>район хорошёво-мнёвники</td>\n",
              "      <td>6</td>\n",
              "    </tr>\n",
              "    <tr>\n",
              "      <th>81</th>\n",
              "      <td>район солнцево</td>\n",
              "      <td>6</td>\n",
              "    </tr>\n",
              "    <tr>\n",
              "      <th>8</th>\n",
              "      <td>даниловский район</td>\n",
              "      <td>5</td>\n",
              "    </tr>\n",
              "    <tr>\n",
              "      <th>104</th>\n",
              "      <td>южнопортовый район</td>\n",
              "      <td>5</td>\n",
              "    </tr>\n",
              "    <tr>\n",
              "      <th>12</th>\n",
              "      <td>лосиноостровский район</td>\n",
              "      <td>5</td>\n",
              "    </tr>\n",
              "    <tr>\n",
              "      <th>93</th>\n",
              "      <td>район щукино</td>\n",
              "      <td>5</td>\n",
              "    </tr>\n",
              "    <tr>\n",
              "      <th>27</th>\n",
              "      <td>поселение троицк</td>\n",
              "      <td>5</td>\n",
              "    </tr>\n",
              "    <tr>\n",
              "      <th>9</th>\n",
              "      <td>дмитровский район</td>\n",
              "      <td>5</td>\n",
              "    </tr>\n",
              "    <tr>\n",
              "      <th>35</th>\n",
              "      <td>район внуково</td>\n",
              "      <td>5</td>\n",
              "    </tr>\n",
              "    <tr>\n",
              "      <th>97</th>\n",
              "      <td>район ясенево</td>\n",
              "      <td>4</td>\n",
              "    </tr>\n",
              "    <tr>\n",
              "      <th>71</th>\n",
              "      <td>район ростокино</td>\n",
              "      <td>4</td>\n",
              "    </tr>\n",
              "    <tr>\n",
              "      <th>73</th>\n",
              "      <td>район свиблово</td>\n",
              "      <td>4</td>\n",
              "    </tr>\n",
              "    <tr>\n",
              "      <th>47</th>\n",
              "      <td>район косино-ухтомский</td>\n",
              "      <td>4</td>\n",
              "    </tr>\n",
              "    <tr>\n",
              "      <th>50</th>\n",
              "      <td>район кузьминки</td>\n",
              "      <td>4</td>\n",
              "    </tr>\n",
              "    <tr>\n",
              "      <th>2</th>\n",
              "      <td>бабушкинский район</td>\n",
              "      <td>4</td>\n",
              "    </tr>\n",
              "    <tr>\n",
              "      <th>7</th>\n",
              "      <td>головинский район</td>\n",
              "      <td>4</td>\n",
              "    </tr>\n",
              "    <tr>\n",
              "      <th>44</th>\n",
              "      <td>район измайлово</td>\n",
              "      <td>4</td>\n",
              "    </tr>\n",
              "    <tr>\n",
              "      <th>10</th>\n",
              "      <td>донской район</td>\n",
              "      <td>4</td>\n",
              "    </tr>\n",
              "    <tr>\n",
              "      <th>51</th>\n",
              "      <td>район кунцево</td>\n",
              "      <td>4</td>\n",
              "    </tr>\n",
              "    <tr>\n",
              "      <th>99</th>\n",
              "      <td>савёловский район</td>\n",
              "      <td>4</td>\n",
              "    </tr>\n",
              "    <tr>\n",
              "      <th>65</th>\n",
              "      <td>район отрадное</td>\n",
              "      <td>4</td>\n",
              "    </tr>\n",
              "    <tr>\n",
              "      <th>60</th>\n",
              "      <td>район митино</td>\n",
              "      <td>3</td>\n",
              "    </tr>\n",
              "    <tr>\n",
              "      <th>63</th>\n",
              "      <td>район ново-переделкино</td>\n",
              "      <td>3</td>\n",
              "    </tr>\n",
              "    <tr>\n",
              "      <th>98</th>\n",
              "      <td>рязанский район</td>\n",
              "      <td>3</td>\n",
              "    </tr>\n",
              "    <tr>\n",
              "      <th>64</th>\n",
              "      <td>район новогиреево</td>\n",
              "      <td>3</td>\n",
              "    </tr>\n",
              "    <tr>\n",
              "      <th>68</th>\n",
              "      <td>район покровское-стрешнево</td>\n",
              "      <td>3</td>\n",
              "    </tr>\n",
              "    <tr>\n",
              "      <th>70</th>\n",
              "      <td>район раменки</td>\n",
              "      <td>3</td>\n",
              "    </tr>\n",
              "    <tr>\n",
              "      <th>76</th>\n",
              "      <td>район северное медведково</td>\n",
              "      <td>3</td>\n",
              "    </tr>\n",
              "    <tr>\n",
              "      <th>78</th>\n",
              "      <td>район сокол</td>\n",
              "      <td>3</td>\n",
              "    </tr>\n",
              "    <tr>\n",
              "      <th>95</th>\n",
              "      <td>район южное тушино</td>\n",
              "      <td>3</td>\n",
              "    </tr>\n",
              "  </tbody>\n",
              "</table>\n",
              "</div>"
            ],
            "text/plain": [
              "                       district  count\n",
              "87              район хамовники     22\n",
              "100             таганский район     22\n",
              "3               басманный район     20\n",
              "29            пресненский район     18\n",
              "101              тверской район     17\n",
              "79         район соколиная гора     12\n",
              "30                  район арбат     11\n",
              "11         красносельский район     10\n",
              "41          район замоскворечье      9\n",
              "94           район южное бутово      9\n",
              "13              мещанский район      9\n",
              "57           район марьина роща      8\n",
              "34            район богородское      8\n",
              "80             район сокольники      8\n",
              "14              можайский район      8\n",
              "31               район аэропорт      7\n",
              "96               район якиманка      7\n",
              "0            алексеевский район      7\n",
              "102         тимирязевский район      7\n",
              "54              район лефортово      6\n",
              "88      район хорошёво-мнёвники      6\n",
              "81               район солнцево      6\n",
              "8             даниловский район      5\n",
              "104          южнопортовый район      5\n",
              "12       лосиноостровский район      5\n",
              "93                 район щукино      5\n",
              "27             поселение троицк      5\n",
              "9             дмитровский район      5\n",
              "35                район внуково      5\n",
              "97                район ясенево      4\n",
              "71              район ростокино      4\n",
              "73               район свиблово      4\n",
              "47       район косино-ухтомский      4\n",
              "50              район кузьминки      4\n",
              "2            бабушкинский район      4\n",
              "7             головинский район      4\n",
              "44              район измайлово      4\n",
              "10                донской район      4\n",
              "51                район кунцево      4\n",
              "99            савёловский район      4\n",
              "65               район отрадное      4\n",
              "60                 район митино      3\n",
              "63       район ново-переделкино      3\n",
              "98              рязанский район      3\n",
              "64            район новогиреево      3\n",
              "68   район покровское-стрешнево      3\n",
              "70                район раменки      3\n",
              "76    район северное медведково      3\n",
              "78                  район сокол      3\n",
              "95           район южное тушино      3"
            ]
          },
          "execution_count": 50,
          "metadata": {},
          "output_type": "execute_result"
        }
      ],
      "source": [
        "district_one = temporarily_2.groupby(\n",
        "    'district').agg({'district':['count']}).reset_index()\n",
        "district_one.columns = ['district', 'count']\n",
        "district_one = district_one.sort_values(by='count', ascending=False)\n",
        "district_one.head(50)"
      ]
    },
    {
      "cell_type": "markdown",
      "metadata": {
        "id": "HZS8IO_K0lDD"
      },
      "source": [
        "Их получилось 106. Сократим список до 10 самых популярных."
      ]
    },
    {
      "cell_type": "code",
      "execution_count": null,
      "metadata": {
        "id": "vLIWOMRg0lDD",
        "outputId": "ee232563-3c01-4f33-c4df-7157ffc0429d"
      },
      "outputs": [
        {
          "data": {
            "image/png": "[encoded data removed]",
            "text/plain": [
              "<Figure size 720x720 with 1 Axes>"
            ]
          },
          "metadata": {
            "needs_background": "light"
          },
          "output_type": "display_data"
        }
      ],
      "source": [
        "district_10_one = district_one.head(10)\n",
        "\n",
        "\n",
        "plt.figure(figsize=(10,10))\n",
        "plt.title('Районы, где распологаются улицы с одним объектом общественного питания',\n",
        "                fontstyle = 'oblique',\n",
        "                fontsize = 20)\n",
        "plt.barh(district_10_one['district'], district_10_one['count'],color = colors)\n",
        "\n",
        "sns.despine() \n",
        "\n",
        "plt.xticks(wrap=True)\n",
        "plt.gca().invert_yaxis()\n",
        "plt.show()"
      ]
    },
    {
      "cell_type": "markdown",
      "metadata": {
        "id": "rHJ4PXrb0lDD"
      },
      "source": [
        "Чаще остальных на улицах **района Хамовники** и **Таганского района** встречаются улицы только с одним заведением общественного питания, Обра районов делят *первое* место. На *втором* месте **Басманный район**, а на *третьем* **Пресненский**."
      ]
    },
    {
      "cell_type": "markdown",
      "metadata": {
        "id": "ekSObJS50lDF"
      },
      "source": [
        "## Вывод и рекомендации"
      ]
    },
    {
      "cell_type": "markdown",
      "metadata": {
        "id": "FRXAJegU0lDF"
      },
      "source": [
        "**Вывод**:\n",
        "<br>Анализ рынока заведений общественного питания Москвы показал, что почти *40%* заведений занимают *кафе*. Следующие по популярности *столовые* и *рестораны*.\n",
        "<br>\n",
        "<br> Из всех заведений общественного питания только около *20%* являются *сетевыми*. Чаще всего *сетевые* это *предприятия быстрого обслуживания*, далее идут *Магазины* и *рестораны*.\n",
        "<br>\n",
        "<br>Наибольшее число *сетевых* заведений имеют количество посадочных мест до 40.\n",
        "<br>\n",
        "<br>Улицами, на которых встречается больше всего заведений являюся *Проспект мира*, *Профсоюзная улица*\tи *Ленинградский проспект*.\n",
        "<br>\n",
        "<br>Улиц, на которых распологается только одно заведение общественного питания - 549. Больше всего таких улиц расположилось в *Центральном административном округе* . Районами, в которых больше всего улиц с одиним заведением, являются *Хамовники*, *Таганский* и *Басманный*.  \n",
        "  \n",
        "\n",
        "**Рекомендации**:  \n",
        "Идея для открытия кафе  у нас довольно креативная, но требует много финансовых вложений. К сожалению, у нас не было информации по проходимости и финансовом статусе заведений, но мы можем более чем достоверно предположить, что самая большая проходимость в центре города, т.е. в *Центральном административном округе* или близлежащих районах. Например, в *Тверском* районе есть улицы всего с одним заведением, такие как *Никитский переулок*. Там достаточно и местных жителей и туристов. \n",
        "<br> \n",
        "<br>Для начала стоит открывать кафе на небольшое количество посадочных мест (до 20). Это поможет нам изначально потратить меньше на аренду, персонал, технику и наших особенных официантов.\n",
        "<br>\n",
        "<br>О сетевом характере работы говорить еще рано, стоит проверить работу одного кафе."
      ]
    },
    {
      "cell_type": "markdown",
      "metadata": {
        "id": "fE5ixC4Y0lDF"
      },
      "source": [
        "[**Презентация**](https://disk.yandex.ru/i/3-xU___WQdgbuA)"
      ]
    }
  ],
  "metadata": {
    "ExecuteTimeLog": [
      {
        "duration": 341,
        "start_time": "2022-08-18T13:00:27.755Z"
      },
      {
        "duration": 116,
        "start_time": "2022-08-18T13:00:58.182Z"
      },
      {
        "duration": 13,
        "start_time": "2022-08-18T13:01:06.507Z"
      },
      {
        "duration": 13,
        "start_time": "2022-08-18T13:01:33.662Z"
      },
      {
        "duration": 5,
        "start_time": "2022-08-18T14:35:50.151Z"
      },
      {
        "duration": 20,
        "start_time": "2022-08-18T14:48:19.640Z"
      },
      {
        "duration": 9,
        "start_time": "2022-08-18T14:49:12.426Z"
      },
      {
        "duration": 18,
        "start_time": "2022-08-18T14:50:26.877Z"
      },
      {
        "duration": 4,
        "start_time": "2022-08-18T14:52:07.556Z"
      },
      {
        "duration": 66,
        "start_time": "2022-08-18T14:52:35.086Z"
      },
      {
        "duration": 5,
        "start_time": "2022-08-18T14:52:46.367Z"
      },
      {
        "duration": 4,
        "start_time": "2022-08-18T14:53:05.760Z"
      },
      {
        "duration": 330,
        "start_time": "2022-08-18T14:56:41.762Z"
      },
      {
        "duration": 61,
        "start_time": "2022-08-18T14:56:42.094Z"
      },
      {
        "duration": 12,
        "start_time": "2022-08-18T14:56:42.156Z"
      },
      {
        "duration": 15,
        "start_time": "2022-08-18T14:56:42.169Z"
      },
      {
        "duration": 19,
        "start_time": "2022-08-18T14:56:42.185Z"
      },
      {
        "duration": 7,
        "start_time": "2022-08-18T14:56:42.206Z"
      },
      {
        "duration": 17,
        "start_time": "2022-08-18T14:56:42.215Z"
      },
      {
        "duration": 4,
        "start_time": "2022-08-18T14:56:42.233Z"
      },
      {
        "duration": 6,
        "start_time": "2022-08-18T14:56:42.239Z"
      },
      {
        "duration": 3,
        "start_time": "2022-08-18T14:56:42.247Z"
      },
      {
        "duration": 6,
        "start_time": "2022-08-18T14:56:42.251Z"
      },
      {
        "duration": 11,
        "start_time": "2022-08-18T14:56:42.258Z"
      },
      {
        "duration": 336,
        "start_time": "2022-08-18T15:14:19.342Z"
      },
      {
        "duration": 64,
        "start_time": "2022-08-18T15:14:19.679Z"
      },
      {
        "duration": 14,
        "start_time": "2022-08-18T15:14:19.745Z"
      },
      {
        "duration": 14,
        "start_time": "2022-08-18T15:14:19.761Z"
      },
      {
        "duration": 38,
        "start_time": "2022-08-18T15:14:19.777Z"
      },
      {
        "duration": 10,
        "start_time": "2022-08-18T15:14:19.816Z"
      },
      {
        "duration": 19,
        "start_time": "2022-08-18T15:14:19.828Z"
      },
      {
        "duration": 4,
        "start_time": "2022-08-18T15:14:19.848Z"
      },
      {
        "duration": 7,
        "start_time": "2022-08-18T15:14:19.854Z"
      },
      {
        "duration": 4,
        "start_time": "2022-08-18T15:14:19.863Z"
      },
      {
        "duration": 7,
        "start_time": "2022-08-18T15:14:19.868Z"
      },
      {
        "duration": 36,
        "start_time": "2022-08-18T15:14:19.876Z"
      },
      {
        "duration": 6,
        "start_time": "2022-08-18T15:16:53.352Z"
      },
      {
        "duration": 17,
        "start_time": "2022-08-18T15:17:26.502Z"
      },
      {
        "duration": 16,
        "start_time": "2022-08-18T15:17:55.731Z"
      },
      {
        "duration": 18,
        "start_time": "2022-08-18T15:18:03.096Z"
      },
      {
        "duration": 70,
        "start_time": "2022-08-18T15:18:14.251Z"
      },
      {
        "duration": 64,
        "start_time": "2022-08-18T15:18:25.694Z"
      },
      {
        "duration": 111,
        "start_time": "2022-08-18T15:18:43.261Z"
      },
      {
        "duration": 5,
        "start_time": "2022-08-18T15:18:50.195Z"
      },
      {
        "duration": 14,
        "start_time": "2022-08-18T15:28:52.459Z"
      },
      {
        "duration": 5,
        "start_time": "2022-08-18T15:31:22.124Z"
      },
      {
        "duration": 13,
        "start_time": "2022-08-18T15:31:28.877Z"
      },
      {
        "duration": 4,
        "start_time": "2022-08-18T15:31:54.746Z"
      },
      {
        "duration": 10,
        "start_time": "2022-08-18T15:39:05.447Z"
      },
      {
        "duration": 9,
        "start_time": "2022-08-18T15:39:18.626Z"
      },
      {
        "duration": 808,
        "start_time": "2022-08-18T15:42:40.665Z"
      },
      {
        "duration": 75,
        "start_time": "2022-08-18T15:44:42.550Z"
      },
      {
        "duration": 4,
        "start_time": "2022-08-18T15:45:17.823Z"
      },
      {
        "duration": 90,
        "start_time": "2022-08-18T15:46:02.545Z"
      },
      {
        "duration": 1254,
        "start_time": "2022-08-18T15:46:11.109Z"
      },
      {
        "duration": 64,
        "start_time": "2022-08-18T15:46:12.365Z"
      },
      {
        "duration": 14,
        "start_time": "2022-08-18T15:46:12.431Z"
      },
      {
        "duration": 13,
        "start_time": "2022-08-18T15:46:12.447Z"
      },
      {
        "duration": 21,
        "start_time": "2022-08-18T15:46:12.461Z"
      },
      {
        "duration": 9,
        "start_time": "2022-08-18T15:46:12.507Z"
      },
      {
        "duration": 24,
        "start_time": "2022-08-18T15:46:12.518Z"
      },
      {
        "duration": 5,
        "start_time": "2022-08-18T15:46:12.544Z"
      },
      {
        "duration": 10,
        "start_time": "2022-08-18T15:46:12.551Z"
      },
      {
        "duration": 10,
        "start_time": "2022-08-18T15:46:12.563Z"
      },
      {
        "duration": 9,
        "start_time": "2022-08-18T15:46:12.575Z"
      },
      {
        "duration": 34,
        "start_time": "2022-08-18T15:46:12.585Z"
      },
      {
        "duration": 12,
        "start_time": "2022-08-18T15:46:12.621Z"
      },
      {
        "duration": 9,
        "start_time": "2022-08-18T15:46:12.635Z"
      },
      {
        "duration": 116,
        "start_time": "2022-08-18T15:46:12.646Z"
      },
      {
        "duration": 9,
        "start_time": "2022-08-18T15:46:55.049Z"
      },
      {
        "duration": 8,
        "start_time": "2022-08-18T15:47:00.952Z"
      },
      {
        "duration": 18,
        "start_time": "2022-08-18T15:47:12.696Z"
      },
      {
        "duration": 18,
        "start_time": "2022-08-18T15:48:13.156Z"
      },
      {
        "duration": 16,
        "start_time": "2022-08-18T15:48:33.666Z"
      },
      {
        "duration": 125,
        "start_time": "2022-08-18T15:50:31.997Z"
      },
      {
        "duration": 24,
        "start_time": "2022-08-18T15:56:42.156Z"
      },
      {
        "duration": 14,
        "start_time": "2022-08-18T15:57:28.176Z"
      },
      {
        "duration": 13,
        "start_time": "2022-08-18T15:59:26.083Z"
      },
      {
        "duration": 12,
        "start_time": "2022-08-18T16:00:50.988Z"
      },
      {
        "duration": 13,
        "start_time": "2022-08-18T16:04:56.122Z"
      },
      {
        "duration": 152,
        "start_time": "2022-08-18T16:05:12.285Z"
      },
      {
        "duration": 119,
        "start_time": "2022-08-18T16:06:43.792Z"
      },
      {
        "duration": 644,
        "start_time": "2022-08-18T16:07:52.728Z"
      },
      {
        "duration": 503,
        "start_time": "2022-08-18T16:08:11.589Z"
      },
      {
        "duration": 432,
        "start_time": "2022-08-18T16:09:33.937Z"
      },
      {
        "duration": 8,
        "start_time": "2022-08-18T16:09:44.933Z"
      },
      {
        "duration": 139,
        "start_time": "2022-08-18T16:09:50.637Z"
      },
      {
        "duration": 277,
        "start_time": "2022-08-18T16:10:04.825Z"
      },
      {
        "duration": 391,
        "start_time": "2022-08-18T16:16:45.766Z"
      },
      {
        "duration": 340,
        "start_time": "2022-08-18T16:20:32.133Z"
      },
      {
        "duration": 19,
        "start_time": "2022-08-18T16:23:12.815Z"
      },
      {
        "duration": 16,
        "start_time": "2022-08-18T16:23:16.521Z"
      },
      {
        "duration": 318,
        "start_time": "2022-08-18T16:23:40.124Z"
      },
      {
        "duration": 270,
        "start_time": "2022-08-18T16:24:04.833Z"
      },
      {
        "duration": 164,
        "start_time": "2022-08-18T16:24:12.623Z"
      },
      {
        "duration": 316,
        "start_time": "2022-08-18T16:24:16.420Z"
      },
      {
        "duration": 282,
        "start_time": "2022-08-18T16:25:02.871Z"
      },
      {
        "duration": 10,
        "start_time": "2022-08-18T16:26:57.430Z"
      },
      {
        "duration": 13,
        "start_time": "2022-08-18T16:27:03.118Z"
      },
      {
        "duration": 8,
        "start_time": "2022-08-18T16:27:24.257Z"
      },
      {
        "duration": 124,
        "start_time": "2022-08-18T16:27:34.612Z"
      },
      {
        "duration": 96,
        "start_time": "2022-08-18T16:27:50.513Z"
      },
      {
        "duration": 9,
        "start_time": "2022-08-18T16:29:10.331Z"
      },
      {
        "duration": 3,
        "start_time": "2022-08-18T16:30:35.075Z"
      },
      {
        "duration": 11,
        "start_time": "2022-08-18T16:32:41.856Z"
      },
      {
        "duration": 120,
        "start_time": "2022-08-18T16:57:02.622Z"
      },
      {
        "duration": 112,
        "start_time": "2022-08-18T16:57:54.530Z"
      },
      {
        "duration": 203,
        "start_time": "2022-08-18T17:02:04.788Z"
      },
      {
        "duration": 130,
        "start_time": "2022-08-18T17:05:46.017Z"
      },
      {
        "duration": 100,
        "start_time": "2022-08-18T17:05:59.973Z"
      },
      {
        "duration": 340,
        "start_time": "2022-08-18T17:06:11.819Z"
      },
      {
        "duration": 1323,
        "start_time": "2022-08-18T17:06:15.962Z"
      },
      {
        "duration": 106,
        "start_time": "2022-08-18T17:06:37.953Z"
      },
      {
        "duration": 93,
        "start_time": "2022-08-18T17:06:42.763Z"
      },
      {
        "duration": 89,
        "start_time": "2022-08-18T17:07:03.833Z"
      },
      {
        "duration": 340,
        "start_time": "2022-08-18T17:07:06.878Z"
      },
      {
        "duration": 7,
        "start_time": "2022-08-18T17:07:28.716Z"
      },
      {
        "duration": 6,
        "start_time": "2022-08-18T17:07:58.649Z"
      },
      {
        "duration": 1126,
        "start_time": "2022-08-18T17:08:03.061Z"
      },
      {
        "duration": 87,
        "start_time": "2022-08-18T17:08:13.794Z"
      },
      {
        "duration": 1238,
        "start_time": "2022-08-18T17:09:34.008Z"
      },
      {
        "duration": 64,
        "start_time": "2022-08-18T17:09:35.248Z"
      },
      {
        "duration": 15,
        "start_time": "2022-08-18T17:09:35.314Z"
      },
      {
        "duration": 11,
        "start_time": "2022-08-18T17:09:35.331Z"
      },
      {
        "duration": 27,
        "start_time": "2022-08-18T17:09:35.344Z"
      },
      {
        "duration": 25,
        "start_time": "2022-08-18T17:09:35.372Z"
      },
      {
        "duration": 35,
        "start_time": "2022-08-18T17:09:35.398Z"
      },
      {
        "duration": 7,
        "start_time": "2022-08-18T17:09:35.435Z"
      },
      {
        "duration": 11,
        "start_time": "2022-08-18T17:09:35.443Z"
      },
      {
        "duration": 5,
        "start_time": "2022-08-18T17:09:35.456Z"
      },
      {
        "duration": 9,
        "start_time": "2022-08-18T17:09:35.462Z"
      },
      {
        "duration": 13,
        "start_time": "2022-08-18T17:09:35.473Z"
      },
      {
        "duration": 23,
        "start_time": "2022-08-18T17:09:35.487Z"
      },
      {
        "duration": 18,
        "start_time": "2022-08-18T17:09:35.512Z"
      },
      {
        "duration": 1354,
        "start_time": "2022-08-18T17:09:35.531Z"
      },
      {
        "duration": 0,
        "start_time": "2022-08-18T17:09:36.886Z"
      },
      {
        "duration": 10,
        "start_time": "2022-08-18T17:09:58.722Z"
      },
      {
        "duration": 118,
        "start_time": "2022-08-18T17:10:00.804Z"
      },
      {
        "duration": 110,
        "start_time": "2022-08-18T17:10:03.045Z"
      },
      {
        "duration": 85,
        "start_time": "2022-08-18T17:13:54.932Z"
      },
      {
        "duration": 95,
        "start_time": "2022-08-18T17:14:02.371Z"
      },
      {
        "duration": 93,
        "start_time": "2022-08-18T17:14:18.539Z"
      },
      {
        "duration": 118,
        "start_time": "2022-08-18T17:16:11.244Z"
      },
      {
        "duration": 122,
        "start_time": "2022-08-18T17:17:00.716Z"
      },
      {
        "duration": 137,
        "start_time": "2022-08-18T17:18:13.889Z"
      },
      {
        "duration": 364,
        "start_time": "2022-08-18T17:22:06.097Z"
      },
      {
        "duration": 184,
        "start_time": "2022-08-18T17:22:30.955Z"
      },
      {
        "duration": 140,
        "start_time": "2022-08-18T17:22:55.086Z"
      },
      {
        "duration": 111,
        "start_time": "2022-08-18T17:31:52.773Z"
      },
      {
        "duration": 123,
        "start_time": "2022-08-18T17:32:26.567Z"
      },
      {
        "duration": 120,
        "start_time": "2022-08-18T17:32:35.380Z"
      },
      {
        "duration": 114,
        "start_time": "2022-08-18T17:33:18.846Z"
      },
      {
        "duration": 148,
        "start_time": "2022-08-18T17:33:55.141Z"
      },
      {
        "duration": 212,
        "start_time": "2022-08-18T17:33:59.928Z"
      },
      {
        "duration": 200,
        "start_time": "2022-08-18T17:34:08.376Z"
      },
      {
        "duration": 217,
        "start_time": "2022-08-18T17:34:16.349Z"
      },
      {
        "duration": 295,
        "start_time": "2022-08-18T17:34:23.930Z"
      },
      {
        "duration": 212,
        "start_time": "2022-08-18T17:34:29.321Z"
      },
      {
        "duration": 225,
        "start_time": "2022-08-18T17:34:34.385Z"
      },
      {
        "duration": 225,
        "start_time": "2022-08-18T17:34:40.596Z"
      },
      {
        "duration": 267,
        "start_time": "2022-08-18T17:34:48.141Z"
      },
      {
        "duration": 210,
        "start_time": "2022-08-18T17:35:50.690Z"
      },
      {
        "duration": 204,
        "start_time": "2022-08-18T17:36:10.688Z"
      },
      {
        "duration": 202,
        "start_time": "2022-08-18T17:36:23.491Z"
      },
      {
        "duration": 211,
        "start_time": "2022-08-18T17:36:30.068Z"
      },
      {
        "duration": 162,
        "start_time": "2022-08-18T17:38:10.238Z"
      },
      {
        "duration": 301,
        "start_time": "2022-08-18T17:41:12.142Z"
      },
      {
        "duration": 305,
        "start_time": "2022-08-18T17:41:27.781Z"
      },
      {
        "duration": 406,
        "start_time": "2022-08-18T17:42:14.803Z"
      },
      {
        "duration": 262,
        "start_time": "2022-08-18T17:44:15.967Z"
      },
      {
        "duration": 266,
        "start_time": "2022-08-18T17:44:42.134Z"
      },
      {
        "duration": 317,
        "start_time": "2022-08-18T17:44:52.395Z"
      },
      {
        "duration": 273,
        "start_time": "2022-08-18T17:45:52.242Z"
      },
      {
        "duration": 269,
        "start_time": "2022-08-18T17:47:03.835Z"
      },
      {
        "duration": 246,
        "start_time": "2022-08-18T17:47:25.443Z"
      },
      {
        "duration": 264,
        "start_time": "2022-08-18T17:47:43.858Z"
      },
      {
        "duration": 15,
        "start_time": "2022-08-18T17:48:04.899Z"
      },
      {
        "duration": 283,
        "start_time": "2022-08-18T17:48:15.697Z"
      },
      {
        "duration": 284,
        "start_time": "2022-08-18T17:49:51.846Z"
      },
      {
        "duration": 359,
        "start_time": "2022-08-18T17:49:58.543Z"
      },
      {
        "duration": 251,
        "start_time": "2022-08-18T17:50:04.946Z"
      },
      {
        "duration": 128,
        "start_time": "2022-08-18T17:50:18.880Z"
      },
      {
        "duration": 271,
        "start_time": "2022-08-18T17:51:24.447Z"
      },
      {
        "duration": 267,
        "start_time": "2022-08-18T17:51:30.097Z"
      },
      {
        "duration": 252,
        "start_time": "2022-08-18T17:51:42.649Z"
      },
      {
        "duration": 259,
        "start_time": "2022-08-18T17:51:49.404Z"
      },
      {
        "duration": 280,
        "start_time": "2022-08-18T17:52:44.547Z"
      },
      {
        "duration": 345,
        "start_time": "2022-08-18T17:52:52.157Z"
      },
      {
        "duration": 309,
        "start_time": "2022-08-18T17:53:06.490Z"
      },
      {
        "duration": 1191,
        "start_time": "2022-08-18T17:55:35.968Z"
      },
      {
        "duration": 65,
        "start_time": "2022-08-18T17:55:37.161Z"
      },
      {
        "duration": 14,
        "start_time": "2022-08-18T17:55:37.228Z"
      },
      {
        "duration": 12,
        "start_time": "2022-08-18T17:55:37.244Z"
      },
      {
        "duration": 14,
        "start_time": "2022-08-18T17:55:37.257Z"
      },
      {
        "duration": 34,
        "start_time": "2022-08-18T17:55:37.272Z"
      },
      {
        "duration": 9,
        "start_time": "2022-08-18T17:55:37.307Z"
      },
      {
        "duration": 23,
        "start_time": "2022-08-18T17:55:37.318Z"
      },
      {
        "duration": 5,
        "start_time": "2022-08-18T17:55:37.342Z"
      },
      {
        "duration": 7,
        "start_time": "2022-08-18T17:55:37.348Z"
      },
      {
        "duration": 6,
        "start_time": "2022-08-18T17:55:37.357Z"
      },
      {
        "duration": 13,
        "start_time": "2022-08-18T17:55:37.365Z"
      },
      {
        "duration": 33,
        "start_time": "2022-08-18T17:55:37.380Z"
      },
      {
        "duration": 11,
        "start_time": "2022-08-18T17:55:37.415Z"
      },
      {
        "duration": 8,
        "start_time": "2022-08-18T17:55:37.428Z"
      },
      {
        "duration": 134,
        "start_time": "2022-08-18T17:55:37.437Z"
      },
      {
        "duration": 398,
        "start_time": "2022-08-18T17:55:37.572Z"
      },
      {
        "duration": 6,
        "start_time": "2022-08-18T17:57:17.542Z"
      },
      {
        "duration": 25,
        "start_time": "2022-08-18T17:58:45.958Z"
      },
      {
        "duration": 12,
        "start_time": "2022-08-18T18:01:46.698Z"
      },
      {
        "duration": 106,
        "start_time": "2022-08-18T18:02:01.142Z"
      },
      {
        "duration": 70,
        "start_time": "2022-08-18T18:02:06.274Z"
      },
      {
        "duration": 13,
        "start_time": "2022-08-18T18:02:19.544Z"
      },
      {
        "duration": 23,
        "start_time": "2022-08-18T18:08:57.637Z"
      },
      {
        "duration": 19,
        "start_time": "2022-08-18T18:09:10.196Z"
      },
      {
        "duration": 13,
        "start_time": "2022-08-18T18:09:26.904Z"
      },
      {
        "duration": 13,
        "start_time": "2022-08-18T18:09:50.669Z"
      },
      {
        "duration": 14,
        "start_time": "2022-08-18T18:10:08.658Z"
      },
      {
        "duration": 1127,
        "start_time": "2022-08-18T18:10:16.634Z"
      },
      {
        "duration": 64,
        "start_time": "2022-08-18T18:10:17.763Z"
      },
      {
        "duration": 13,
        "start_time": "2022-08-18T18:10:17.828Z"
      },
      {
        "duration": 15,
        "start_time": "2022-08-18T18:10:17.842Z"
      },
      {
        "duration": 14,
        "start_time": "2022-08-18T18:10:17.859Z"
      },
      {
        "duration": 35,
        "start_time": "2022-08-18T18:10:17.875Z"
      },
      {
        "duration": 8,
        "start_time": "2022-08-18T18:10:17.911Z"
      },
      {
        "duration": 20,
        "start_time": "2022-08-18T18:10:17.921Z"
      },
      {
        "duration": 14,
        "start_time": "2022-08-18T18:10:17.942Z"
      },
      {
        "duration": 14,
        "start_time": "2022-08-18T18:10:17.957Z"
      },
      {
        "duration": 4,
        "start_time": "2022-08-18T18:10:17.972Z"
      },
      {
        "duration": 30,
        "start_time": "2022-08-18T18:10:17.978Z"
      },
      {
        "duration": 4,
        "start_time": "2022-08-18T18:10:18.009Z"
      },
      {
        "duration": 9,
        "start_time": "2022-08-18T18:10:18.015Z"
      },
      {
        "duration": 16,
        "start_time": "2022-08-18T18:10:18.026Z"
      },
      {
        "duration": 11,
        "start_time": "2022-08-18T18:10:18.044Z"
      },
      {
        "duration": 21,
        "start_time": "2022-08-18T18:10:18.057Z"
      },
      {
        "duration": 129,
        "start_time": "2022-08-18T18:10:18.080Z"
      },
      {
        "duration": 355,
        "start_time": "2022-08-18T18:10:18.211Z"
      },
      {
        "duration": 9,
        "start_time": "2022-08-18T18:12:08.333Z"
      },
      {
        "duration": 105,
        "start_time": "2022-08-18T18:17:52.265Z"
      },
      {
        "duration": 13,
        "start_time": "2022-08-18T18:18:03.259Z"
      },
      {
        "duration": 201,
        "start_time": "2022-08-18T18:18:26.329Z"
      },
      {
        "duration": 107,
        "start_time": "2022-08-18T18:26:00.240Z"
      },
      {
        "duration": 105,
        "start_time": "2022-08-18T18:26:18.239Z"
      },
      {
        "duration": 147,
        "start_time": "2022-08-18T18:29:32.345Z"
      },
      {
        "duration": 15,
        "start_time": "2022-08-18T18:29:54.333Z"
      },
      {
        "duration": 9,
        "start_time": "2022-08-18T18:29:56.736Z"
      },
      {
        "duration": 186,
        "start_time": "2022-08-18T18:29:58.335Z"
      },
      {
        "duration": 196,
        "start_time": "2022-08-18T18:31:04.034Z"
      },
      {
        "duration": 152,
        "start_time": "2022-08-18T18:31:15.634Z"
      },
      {
        "duration": 11,
        "start_time": "2022-08-18T18:32:21.069Z"
      },
      {
        "duration": 116,
        "start_time": "2022-08-18T18:32:29.365Z"
      },
      {
        "duration": 165,
        "start_time": "2022-08-18T18:32:40.441Z"
      },
      {
        "duration": 108,
        "start_time": "2022-08-18T18:32:55.268Z"
      },
      {
        "duration": 126,
        "start_time": "2022-08-18T18:33:07.087Z"
      },
      {
        "duration": 12,
        "start_time": "2022-08-18T18:36:56.925Z"
      },
      {
        "duration": 2148,
        "start_time": "2022-08-18T18:37:31.373Z"
      },
      {
        "duration": 99,
        "start_time": "2022-08-18T18:37:57.749Z"
      },
      {
        "duration": 160,
        "start_time": "2022-08-18T18:38:45.047Z"
      },
      {
        "duration": 12,
        "start_time": "2022-08-18T18:45:41.467Z"
      },
      {
        "duration": 117,
        "start_time": "2022-08-18T18:45:51.753Z"
      },
      {
        "duration": 128,
        "start_time": "2022-08-18T18:46:11.232Z"
      },
      {
        "duration": 117,
        "start_time": "2022-08-18T18:46:46.938Z"
      },
      {
        "duration": 140,
        "start_time": "2022-08-18T18:47:36.093Z"
      },
      {
        "duration": 196,
        "start_time": "2022-08-18T18:54:17.296Z"
      },
      {
        "duration": 135,
        "start_time": "2022-08-18T18:54:55.540Z"
      },
      {
        "duration": 126,
        "start_time": "2022-08-18T18:56:10.420Z"
      },
      {
        "duration": 120,
        "start_time": "2022-08-18T18:56:26.332Z"
      },
      {
        "duration": 136,
        "start_time": "2022-08-18T18:56:35.436Z"
      },
      {
        "duration": 1499,
        "start_time": "2022-08-19T12:10:46.589Z"
      },
      {
        "duration": 125,
        "start_time": "2022-08-19T12:10:48.091Z"
      },
      {
        "duration": 17,
        "start_time": "2022-08-19T12:10:48.218Z"
      },
      {
        "duration": 16,
        "start_time": "2022-08-19T12:10:48.236Z"
      },
      {
        "duration": 17,
        "start_time": "2022-08-19T12:10:48.254Z"
      },
      {
        "duration": 28,
        "start_time": "2022-08-19T12:10:48.272Z"
      },
      {
        "duration": 15,
        "start_time": "2022-08-19T12:10:48.301Z"
      },
      {
        "duration": 36,
        "start_time": "2022-08-19T12:10:48.317Z"
      },
      {
        "duration": 18,
        "start_time": "2022-08-19T12:10:48.355Z"
      },
      {
        "duration": 16,
        "start_time": "2022-08-19T12:10:48.375Z"
      },
      {
        "duration": 5,
        "start_time": "2022-08-19T12:10:48.393Z"
      },
      {
        "duration": 11,
        "start_time": "2022-08-19T12:10:48.400Z"
      },
      {
        "duration": 33,
        "start_time": "2022-08-19T12:10:48.412Z"
      },
      {
        "duration": 6,
        "start_time": "2022-08-19T12:10:48.448Z"
      },
      {
        "duration": 16,
        "start_time": "2022-08-19T12:10:48.455Z"
      },
      {
        "duration": 13,
        "start_time": "2022-08-19T12:10:48.473Z"
      },
      {
        "duration": 11,
        "start_time": "2022-08-19T12:10:48.488Z"
      },
      {
        "duration": 182,
        "start_time": "2022-08-19T12:10:48.500Z"
      },
      {
        "duration": 462,
        "start_time": "2022-08-19T12:10:48.685Z"
      },
      {
        "duration": 10,
        "start_time": "2022-08-19T12:10:49.149Z"
      },
      {
        "duration": 175,
        "start_time": "2022-08-19T12:10:49.161Z"
      },
      {
        "duration": 165,
        "start_time": "2022-08-19T12:11:14.663Z"
      },
      {
        "duration": 269,
        "start_time": "2022-08-19T12:11:33.495Z"
      },
      {
        "duration": 178,
        "start_time": "2022-08-19T12:11:49.729Z"
      },
      {
        "duration": 174,
        "start_time": "2022-08-19T12:12:17.255Z"
      },
      {
        "duration": 1312,
        "start_time": "2022-08-19T12:12:27.017Z"
      },
      {
        "duration": 70,
        "start_time": "2022-08-19T12:12:28.331Z"
      },
      {
        "duration": 15,
        "start_time": "2022-08-19T12:12:28.403Z"
      },
      {
        "duration": 16,
        "start_time": "2022-08-19T12:12:28.420Z"
      },
      {
        "duration": 17,
        "start_time": "2022-08-19T12:12:28.439Z"
      },
      {
        "duration": 23,
        "start_time": "2022-08-19T12:12:28.457Z"
      },
      {
        "duration": 31,
        "start_time": "2022-08-19T12:12:28.481Z"
      },
      {
        "duration": 24,
        "start_time": "2022-08-19T12:12:28.513Z"
      },
      {
        "duration": 18,
        "start_time": "2022-08-19T12:12:28.540Z"
      },
      {
        "duration": 16,
        "start_time": "2022-08-19T12:12:28.560Z"
      },
      {
        "duration": 5,
        "start_time": "2022-08-19T12:12:28.578Z"
      },
      {
        "duration": 12,
        "start_time": "2022-08-19T12:12:28.584Z"
      },
      {
        "duration": 8,
        "start_time": "2022-08-19T12:12:28.597Z"
      },
      {
        "duration": 7,
        "start_time": "2022-08-19T12:12:28.608Z"
      },
      {
        "duration": 43,
        "start_time": "2022-08-19T12:12:28.616Z"
      },
      {
        "duration": 13,
        "start_time": "2022-08-19T12:12:28.660Z"
      },
      {
        "duration": 14,
        "start_time": "2022-08-19T12:12:28.675Z"
      },
      {
        "duration": 192,
        "start_time": "2022-08-19T12:12:28.691Z"
      },
      {
        "duration": 404,
        "start_time": "2022-08-19T12:12:28.885Z"
      },
      {
        "duration": 9,
        "start_time": "2022-08-19T12:12:29.291Z"
      },
      {
        "duration": 300,
        "start_time": "2022-08-19T12:12:29.302Z"
      },
      {
        "duration": 171,
        "start_time": "2022-08-19T12:13:05.395Z"
      },
      {
        "duration": 164,
        "start_time": "2022-08-19T12:13:38.071Z"
      },
      {
        "duration": 184,
        "start_time": "2022-08-19T12:14:00.082Z"
      },
      {
        "duration": 319,
        "start_time": "2022-08-19T12:14:14.124Z"
      },
      {
        "duration": 411,
        "start_time": "2022-08-19T12:14:22.954Z"
      },
      {
        "duration": 326,
        "start_time": "2022-08-19T12:14:33.094Z"
      },
      {
        "duration": 172,
        "start_time": "2022-08-19T12:14:38.361Z"
      },
      {
        "duration": 170,
        "start_time": "2022-08-19T12:14:48.333Z"
      },
      {
        "duration": 9,
        "start_time": "2022-08-19T12:16:41.145Z"
      },
      {
        "duration": 17,
        "start_time": "2022-08-19T12:16:46.912Z"
      },
      {
        "duration": 22,
        "start_time": "2022-08-19T12:17:00.210Z"
      },
      {
        "duration": 29,
        "start_time": "2022-08-19T12:17:08.936Z"
      },
      {
        "duration": 6,
        "start_time": "2022-08-19T12:17:57.923Z"
      },
      {
        "duration": 12,
        "start_time": "2022-08-19T12:19:11.346Z"
      },
      {
        "duration": 12,
        "start_time": "2022-08-19T12:21:22.196Z"
      },
      {
        "duration": 149,
        "start_time": "2022-08-19T12:21:51.943Z"
      },
      {
        "duration": 156,
        "start_time": "2022-08-19T12:22:00.417Z"
      },
      {
        "duration": 163,
        "start_time": "2022-08-19T12:22:21.787Z"
      },
      {
        "duration": 148,
        "start_time": "2022-08-19T12:23:51.753Z"
      },
      {
        "duration": 172,
        "start_time": "2022-08-19T12:24:08.225Z"
      },
      {
        "duration": 152,
        "start_time": "2022-08-19T12:27:47.422Z"
      },
      {
        "duration": 437,
        "start_time": "2022-08-19T12:28:42.853Z"
      },
      {
        "duration": 9,
        "start_time": "2022-08-19T12:28:52.121Z"
      },
      {
        "duration": 9,
        "start_time": "2022-08-19T12:29:02.811Z"
      },
      {
        "duration": 12,
        "start_time": "2022-08-19T12:29:08.924Z"
      },
      {
        "duration": 131,
        "start_time": "2022-08-19T12:30:55.254Z"
      },
      {
        "duration": 152,
        "start_time": "2022-08-19T12:31:03.874Z"
      },
      {
        "duration": 165,
        "start_time": "2022-08-19T12:31:21.363Z"
      },
      {
        "duration": 81,
        "start_time": "2022-08-19T12:31:35.878Z"
      },
      {
        "duration": 75,
        "start_time": "2022-08-19T12:32:11.146Z"
      },
      {
        "duration": 274,
        "start_time": "2022-08-19T12:32:20.847Z"
      },
      {
        "duration": 22,
        "start_time": "2022-08-19T12:32:42.111Z"
      },
      {
        "duration": 30,
        "start_time": "2022-08-19T12:33:12.334Z"
      },
      {
        "duration": 21,
        "start_time": "2022-08-19T12:33:30.353Z"
      },
      {
        "duration": 87,
        "start_time": "2022-08-19T12:33:44.461Z"
      },
      {
        "duration": 16,
        "start_time": "2022-08-19T12:33:54.379Z"
      },
      {
        "duration": 17,
        "start_time": "2022-08-19T12:35:25.763Z"
      },
      {
        "duration": 24,
        "start_time": "2022-08-19T12:35:33.809Z"
      },
      {
        "duration": 21,
        "start_time": "2022-08-19T12:36:07.181Z"
      },
      {
        "duration": 17,
        "start_time": "2022-08-19T12:36:46.848Z"
      },
      {
        "duration": 16,
        "start_time": "2022-08-19T12:37:06.444Z"
      },
      {
        "duration": 18,
        "start_time": "2022-08-19T12:37:13.185Z"
      },
      {
        "duration": 17,
        "start_time": "2022-08-19T12:38:18.813Z"
      },
      {
        "duration": 17,
        "start_time": "2022-08-19T12:38:57.139Z"
      },
      {
        "duration": 20,
        "start_time": "2022-08-19T12:42:31.991Z"
      },
      {
        "duration": 19,
        "start_time": "2022-08-19T13:17:25.228Z"
      },
      {
        "duration": 18,
        "start_time": "2022-08-19T13:17:32.404Z"
      },
      {
        "duration": 836,
        "start_time": "2022-08-19T13:32:12.827Z"
      },
      {
        "duration": 1320,
        "start_time": "2022-08-19T13:32:47.069Z"
      },
      {
        "duration": 176,
        "start_time": "2022-08-19T13:38:11.410Z"
      },
      {
        "duration": 129,
        "start_time": "2022-08-19T13:38:48.874Z"
      },
      {
        "duration": 141,
        "start_time": "2022-08-19T13:39:10.350Z"
      },
      {
        "duration": 135,
        "start_time": "2022-08-19T13:39:21.212Z"
      },
      {
        "duration": 23,
        "start_time": "2022-08-19T13:39:42.298Z"
      },
      {
        "duration": 323,
        "start_time": "2022-08-19T13:39:57.374Z"
      },
      {
        "duration": 196,
        "start_time": "2022-08-19T13:40:50.680Z"
      },
      {
        "duration": 116,
        "start_time": "2022-08-19T13:43:58.139Z"
      },
      {
        "duration": 79,
        "start_time": "2022-08-19T13:44:08.289Z"
      },
      {
        "duration": 14,
        "start_time": "2022-08-19T13:44:13.405Z"
      },
      {
        "duration": 22,
        "start_time": "2022-08-19T13:45:57.808Z"
      },
      {
        "duration": 695,
        "start_time": "2022-08-19T13:46:03.181Z"
      },
      {
        "duration": 727,
        "start_time": "2022-08-19T13:46:14.243Z"
      },
      {
        "duration": 20,
        "start_time": "2022-08-19T13:50:31.168Z"
      },
      {
        "duration": 18,
        "start_time": "2022-08-19T13:51:09.523Z"
      },
      {
        "duration": 22,
        "start_time": "2022-08-19T13:53:55.861Z"
      },
      {
        "duration": 24,
        "start_time": "2022-08-19T13:54:09.314Z"
      },
      {
        "duration": 21,
        "start_time": "2022-08-19T13:54:20.090Z"
      },
      {
        "duration": 131,
        "start_time": "2022-08-19T14:46:31.309Z"
      },
      {
        "duration": 12,
        "start_time": "2022-08-19T14:46:51.975Z"
      },
      {
        "duration": 21,
        "start_time": "2022-08-19T14:47:27.277Z"
      },
      {
        "duration": 27,
        "start_time": "2022-08-19T14:47:53.943Z"
      },
      {
        "duration": 115,
        "start_time": "2022-08-19T14:48:34.963Z"
      },
      {
        "duration": 134,
        "start_time": "2022-08-19T14:48:41.226Z"
      },
      {
        "duration": 21,
        "start_time": "2022-08-19T14:48:48.489Z"
      },
      {
        "duration": 17,
        "start_time": "2022-08-19T14:50:40.129Z"
      },
      {
        "duration": 23,
        "start_time": "2022-08-19T14:50:51.063Z"
      },
      {
        "duration": 1309,
        "start_time": "2022-08-19T14:51:04.814Z"
      },
      {
        "duration": 77,
        "start_time": "2022-08-19T14:51:06.126Z"
      },
      {
        "duration": 15,
        "start_time": "2022-08-19T14:51:06.205Z"
      },
      {
        "duration": 14,
        "start_time": "2022-08-19T14:51:06.222Z"
      },
      {
        "duration": 23,
        "start_time": "2022-08-19T14:51:06.244Z"
      },
      {
        "duration": 25,
        "start_time": "2022-08-19T14:51:06.269Z"
      },
      {
        "duration": 9,
        "start_time": "2022-08-19T14:51:06.295Z"
      },
      {
        "duration": 49,
        "start_time": "2022-08-19T14:51:06.306Z"
      },
      {
        "duration": 18,
        "start_time": "2022-08-19T14:51:06.356Z"
      },
      {
        "duration": 17,
        "start_time": "2022-08-19T14:51:06.375Z"
      },
      {
        "duration": 6,
        "start_time": "2022-08-19T14:51:06.393Z"
      },
      {
        "duration": 9,
        "start_time": "2022-08-19T14:51:06.401Z"
      },
      {
        "duration": 34,
        "start_time": "2022-08-19T14:51:06.412Z"
      },
      {
        "duration": 21,
        "start_time": "2022-08-19T14:51:06.451Z"
      },
      {
        "duration": 20,
        "start_time": "2022-08-19T14:51:06.473Z"
      },
      {
        "duration": 19,
        "start_time": "2022-08-19T14:51:06.495Z"
      },
      {
        "duration": 18,
        "start_time": "2022-08-19T14:51:06.515Z"
      },
      {
        "duration": 165,
        "start_time": "2022-08-19T14:51:06.535Z"
      },
      {
        "duration": 478,
        "start_time": "2022-08-19T14:51:06.702Z"
      },
      {
        "duration": 10,
        "start_time": "2022-08-19T14:51:07.182Z"
      },
      {
        "duration": 194,
        "start_time": "2022-08-19T14:51:07.193Z"
      },
      {
        "duration": 23,
        "start_time": "2022-08-19T14:51:07.388Z"
      },
      {
        "duration": 147,
        "start_time": "2022-08-19T14:51:07.413Z"
      },
      {
        "duration": 17,
        "start_time": "2022-08-19T14:51:50.891Z"
      },
      {
        "duration": 6,
        "start_time": "2022-08-19T14:52:30.943Z"
      },
      {
        "duration": 21,
        "start_time": "2022-08-19T14:52:38.242Z"
      },
      {
        "duration": 17,
        "start_time": "2022-08-19T14:54:33.371Z"
      },
      {
        "duration": 849,
        "start_time": "2022-08-19T14:56:24.738Z"
      },
      {
        "duration": 696,
        "start_time": "2022-08-19T14:56:57.085Z"
      },
      {
        "duration": 636,
        "start_time": "2022-08-19T14:57:30.036Z"
      },
      {
        "duration": 771,
        "start_time": "2022-08-19T14:58:36.357Z"
      },
      {
        "duration": 624,
        "start_time": "2022-08-19T14:58:43.483Z"
      },
      {
        "duration": 655,
        "start_time": "2022-08-19T14:58:52.075Z"
      },
      {
        "duration": 77,
        "start_time": "2022-08-19T15:01:00.503Z"
      },
      {
        "duration": 188,
        "start_time": "2022-08-19T15:01:05.602Z"
      },
      {
        "duration": 783,
        "start_time": "2022-08-19T15:01:57.601Z"
      },
      {
        "duration": 803,
        "start_time": "2022-08-19T15:03:26.744Z"
      },
      {
        "duration": 651,
        "start_time": "2022-08-19T15:03:39.749Z"
      },
      {
        "duration": 717,
        "start_time": "2022-08-19T15:06:56.784Z"
      },
      {
        "duration": 27,
        "start_time": "2022-08-19T15:08:34.666Z"
      },
      {
        "duration": 873,
        "start_time": "2022-08-19T15:08:51.236Z"
      },
      {
        "duration": 189,
        "start_time": "2022-08-19T15:34:10.345Z"
      },
      {
        "duration": 205,
        "start_time": "2022-08-19T15:34:55.514Z"
      },
      {
        "duration": 22,
        "start_time": "2022-08-19T15:35:26.026Z"
      },
      {
        "duration": 223,
        "start_time": "2022-08-19T15:35:48.757Z"
      },
      {
        "duration": 195,
        "start_time": "2022-08-19T15:36:00.980Z"
      },
      {
        "duration": 23,
        "start_time": "2022-08-19T15:36:13.325Z"
      },
      {
        "duration": 157,
        "start_time": "2022-08-19T15:36:48.924Z"
      },
      {
        "duration": 136,
        "start_time": "2022-08-19T15:37:10.521Z"
      },
      {
        "duration": 185,
        "start_time": "2022-08-19T15:37:27.022Z"
      },
      {
        "duration": 203,
        "start_time": "2022-08-19T15:37:39.918Z"
      },
      {
        "duration": 211,
        "start_time": "2022-08-19T15:37:52.526Z"
      },
      {
        "duration": 317,
        "start_time": "2022-08-19T16:00:29.157Z"
      },
      {
        "duration": 219,
        "start_time": "2022-08-19T16:00:38.848Z"
      },
      {
        "duration": 211,
        "start_time": "2022-08-19T16:00:46.273Z"
      },
      {
        "duration": 227,
        "start_time": "2022-08-19T16:04:59.311Z"
      },
      {
        "duration": 214,
        "start_time": "2022-08-19T16:05:29.665Z"
      },
      {
        "duration": 24,
        "start_time": "2022-08-19T16:07:39.656Z"
      },
      {
        "duration": 214,
        "start_time": "2022-08-19T16:07:43.287Z"
      },
      {
        "duration": 217,
        "start_time": "2022-08-19T16:08:04.619Z"
      },
      {
        "duration": 172,
        "start_time": "2022-08-19T16:08:39.825Z"
      },
      {
        "duration": 213,
        "start_time": "2022-08-19T16:08:48.074Z"
      },
      {
        "duration": 211,
        "start_time": "2022-08-19T16:08:59.865Z"
      },
      {
        "duration": 223,
        "start_time": "2022-08-19T16:09:16.282Z"
      },
      {
        "duration": 318,
        "start_time": "2022-08-19T16:09:24.586Z"
      },
      {
        "duration": 207,
        "start_time": "2022-08-19T16:09:31.831Z"
      },
      {
        "duration": 203,
        "start_time": "2022-08-19T16:09:39.553Z"
      },
      {
        "duration": 156,
        "start_time": "2022-08-19T16:12:18.643Z"
      },
      {
        "duration": 211,
        "start_time": "2022-08-19T16:12:48.517Z"
      },
      {
        "duration": 175,
        "start_time": "2022-08-19T16:13:02.217Z"
      },
      {
        "duration": 162,
        "start_time": "2022-08-19T16:13:09.049Z"
      },
      {
        "duration": 177,
        "start_time": "2022-08-19T16:13:28.012Z"
      },
      {
        "duration": 195,
        "start_time": "2022-08-19T16:14:22.511Z"
      },
      {
        "duration": 193,
        "start_time": "2022-08-19T16:14:45.971Z"
      },
      {
        "duration": 163,
        "start_time": "2022-08-19T16:15:03.523Z"
      },
      {
        "duration": 270,
        "start_time": "2022-08-19T16:15:29.661Z"
      },
      {
        "duration": 187,
        "start_time": "2022-08-19T16:15:41.338Z"
      },
      {
        "duration": 240,
        "start_time": "2022-08-19T16:16:17.530Z"
      },
      {
        "duration": 259,
        "start_time": "2022-08-19T16:18:00.021Z"
      },
      {
        "duration": 194,
        "start_time": "2022-08-19T16:18:07.369Z"
      },
      {
        "duration": 158,
        "start_time": "2022-08-19T16:18:21.371Z"
      },
      {
        "duration": 239,
        "start_time": "2022-08-19T16:22:48.725Z"
      },
      {
        "duration": 253,
        "start_time": "2022-08-19T16:23:35.932Z"
      },
      {
        "duration": 199,
        "start_time": "2022-08-19T16:23:45.061Z"
      },
      {
        "duration": 214,
        "start_time": "2022-08-19T16:24:02.125Z"
      },
      {
        "duration": 277,
        "start_time": "2022-08-19T16:24:28.958Z"
      },
      {
        "duration": 312,
        "start_time": "2022-08-19T16:24:42.725Z"
      },
      {
        "duration": 212,
        "start_time": "2022-08-19T16:24:55.724Z"
      },
      {
        "duration": 217,
        "start_time": "2022-08-19T16:25:00.321Z"
      },
      {
        "duration": 204,
        "start_time": "2022-08-19T16:25:12.221Z"
      },
      {
        "duration": 195,
        "start_time": "2022-08-19T16:25:29.358Z"
      },
      {
        "duration": 236,
        "start_time": "2022-08-19T16:27:44.666Z"
      },
      {
        "duration": 264,
        "start_time": "2022-08-19T16:29:36.325Z"
      },
      {
        "duration": 185,
        "start_time": "2022-08-19T16:30:11.319Z"
      },
      {
        "duration": 171,
        "start_time": "2022-08-19T16:30:16.737Z"
      },
      {
        "duration": 176,
        "start_time": "2022-08-19T16:30:32.097Z"
      },
      {
        "duration": 179,
        "start_time": "2022-08-19T16:36:54.519Z"
      },
      {
        "duration": 174,
        "start_time": "2022-08-19T16:39:01.918Z"
      },
      {
        "duration": 1393,
        "start_time": "2022-08-19T16:39:19.820Z"
      },
      {
        "duration": 71,
        "start_time": "2022-08-19T16:39:21.215Z"
      },
      {
        "duration": 17,
        "start_time": "2022-08-19T16:39:21.287Z"
      },
      {
        "duration": 17,
        "start_time": "2022-08-19T16:39:21.306Z"
      },
      {
        "duration": 40,
        "start_time": "2022-08-19T16:39:21.326Z"
      },
      {
        "duration": 28,
        "start_time": "2022-08-19T16:39:21.368Z"
      },
      {
        "duration": 12,
        "start_time": "2022-08-19T16:39:21.398Z"
      },
      {
        "duration": 39,
        "start_time": "2022-08-19T16:39:21.412Z"
      },
      {
        "duration": 16,
        "start_time": "2022-08-19T16:39:21.453Z"
      },
      {
        "duration": 16,
        "start_time": "2022-08-19T16:39:21.471Z"
      },
      {
        "duration": 4,
        "start_time": "2022-08-19T16:39:21.489Z"
      },
      {
        "duration": 15,
        "start_time": "2022-08-19T16:39:21.495Z"
      },
      {
        "duration": 12,
        "start_time": "2022-08-19T16:39:21.512Z"
      },
      {
        "duration": 23,
        "start_time": "2022-08-19T16:39:21.526Z"
      },
      {
        "duration": 22,
        "start_time": "2022-08-19T16:39:21.551Z"
      },
      {
        "duration": 21,
        "start_time": "2022-08-19T16:39:21.575Z"
      },
      {
        "duration": 11,
        "start_time": "2022-08-19T16:39:21.597Z"
      },
      {
        "duration": 177,
        "start_time": "2022-08-19T16:39:21.610Z"
      },
      {
        "duration": 437,
        "start_time": "2022-08-19T16:39:21.789Z"
      },
      {
        "duration": 18,
        "start_time": "2022-08-19T16:39:22.228Z"
      },
      {
        "duration": 212,
        "start_time": "2022-08-19T16:39:22.247Z"
      },
      {
        "duration": 24,
        "start_time": "2022-08-19T16:39:22.461Z"
      },
      {
        "duration": 691,
        "start_time": "2022-08-19T16:39:22.486Z"
      },
      {
        "duration": 153,
        "start_time": "2022-08-19T16:39:23.179Z"
      },
      {
        "duration": 271,
        "start_time": "2022-08-19T16:39:23.334Z"
      },
      {
        "duration": 45,
        "start_time": "2022-08-23T09:45:37.769Z"
      },
      {
        "duration": 1347,
        "start_time": "2022-08-23T09:45:45.968Z"
      },
      {
        "duration": 245,
        "start_time": "2022-08-23T09:45:47.317Z"
      },
      {
        "duration": 12,
        "start_time": "2022-08-23T09:45:47.564Z"
      },
      {
        "duration": 33,
        "start_time": "2022-08-23T09:45:47.578Z"
      },
      {
        "duration": 18,
        "start_time": "2022-08-23T09:45:47.613Z"
      },
      {
        "duration": 24,
        "start_time": "2022-08-23T09:45:47.632Z"
      },
      {
        "duration": 18,
        "start_time": "2022-08-23T09:45:47.658Z"
      },
      {
        "duration": 36,
        "start_time": "2022-08-23T09:45:47.677Z"
      },
      {
        "duration": 13,
        "start_time": "2022-08-23T09:45:47.715Z"
      },
      {
        "duration": 12,
        "start_time": "2022-08-23T09:45:47.730Z"
      },
      {
        "duration": 17,
        "start_time": "2022-08-23T09:45:47.743Z"
      },
      {
        "duration": 10,
        "start_time": "2022-08-23T09:45:47.761Z"
      },
      {
        "duration": 9,
        "start_time": "2022-08-23T09:45:47.772Z"
      },
      {
        "duration": 15,
        "start_time": "2022-08-23T09:45:47.783Z"
      },
      {
        "duration": 21,
        "start_time": "2022-08-23T09:45:47.800Z"
      },
      {
        "duration": 22,
        "start_time": "2022-08-23T09:45:47.823Z"
      },
      {
        "duration": 22,
        "start_time": "2022-08-23T09:45:47.847Z"
      },
      {
        "duration": 158,
        "start_time": "2022-08-23T09:45:47.871Z"
      },
      {
        "duration": 372,
        "start_time": "2022-08-23T09:45:48.031Z"
      },
      {
        "duration": 8,
        "start_time": "2022-08-23T09:45:48.405Z"
      },
      {
        "duration": 197,
        "start_time": "2022-08-23T09:45:48.415Z"
      },
      {
        "duration": 19,
        "start_time": "2022-08-23T09:45:48.614Z"
      },
      {
        "duration": 588,
        "start_time": "2022-08-23T09:45:48.634Z"
      },
      {
        "duration": 130,
        "start_time": "2022-08-23T09:45:49.223Z"
      },
      {
        "duration": 277,
        "start_time": "2022-08-23T09:45:49.355Z"
      },
      {
        "duration": 222,
        "start_time": "2022-08-23T09:46:30.572Z"
      },
      {
        "duration": 573,
        "start_time": "2022-08-23T09:47:32.383Z"
      },
      {
        "duration": 223,
        "start_time": "2022-08-23T09:48:26.696Z"
      },
      {
        "duration": 277,
        "start_time": "2022-08-23T09:49:05.586Z"
      },
      {
        "duration": 236,
        "start_time": "2022-08-23T09:49:21.186Z"
      },
      {
        "duration": 664,
        "start_time": "2022-08-23T09:50:38.415Z"
      },
      {
        "duration": 733,
        "start_time": "2022-08-23T09:50:51.510Z"
      },
      {
        "duration": 226,
        "start_time": "2022-08-23T09:54:37.829Z"
      },
      {
        "duration": 211,
        "start_time": "2022-08-23T09:57:48.102Z"
      },
      {
        "duration": 4,
        "start_time": "2022-08-23T10:02:15.198Z"
      },
      {
        "duration": 14,
        "start_time": "2022-08-23T10:02:18.917Z"
      },
      {
        "duration": 218,
        "start_time": "2022-08-23T10:05:05.354Z"
      },
      {
        "duration": 204,
        "start_time": "2022-08-23T10:05:16.894Z"
      },
      {
        "duration": 203,
        "start_time": "2022-08-23T10:06:17.481Z"
      },
      {
        "duration": 204,
        "start_time": "2022-08-23T10:08:04.510Z"
      },
      {
        "duration": 10,
        "start_time": "2022-08-23T10:09:09.688Z"
      },
      {
        "duration": 147,
        "start_time": "2022-08-23T10:12:39.495Z"
      },
      {
        "duration": 197,
        "start_time": "2022-08-23T10:13:06.499Z"
      },
      {
        "duration": 276,
        "start_time": "2022-08-23T10:13:19.521Z"
      },
      {
        "duration": 153,
        "start_time": "2022-08-23T10:13:35.373Z"
      },
      {
        "duration": 217,
        "start_time": "2022-08-23T10:14:00.509Z"
      },
      {
        "duration": 97,
        "start_time": "2022-08-23T10:14:19.209Z"
      },
      {
        "duration": 77,
        "start_time": "2022-08-23T10:14:27.933Z"
      },
      {
        "duration": 158,
        "start_time": "2022-08-23T10:14:33.421Z"
      },
      {
        "duration": 151,
        "start_time": "2022-08-23T10:14:40.790Z"
      },
      {
        "duration": 183,
        "start_time": "2022-08-23T10:15:02.423Z"
      },
      {
        "duration": 10,
        "start_time": "2022-08-23T10:18:43.581Z"
      },
      {
        "duration": 163,
        "start_time": "2022-08-23T10:19:29.357Z"
      },
      {
        "duration": 52,
        "start_time": "2022-08-23T10:23:41.577Z"
      },
      {
        "duration": 149,
        "start_time": "2022-08-23T10:23:47.388Z"
      },
      {
        "duration": 152,
        "start_time": "2022-08-23T10:25:12.239Z"
      },
      {
        "duration": 146,
        "start_time": "2022-08-23T10:25:47.027Z"
      },
      {
        "duration": 171,
        "start_time": "2022-08-23T10:27:24.790Z"
      },
      {
        "duration": 229,
        "start_time": "2022-08-23T10:27:28.977Z"
      },
      {
        "duration": 147,
        "start_time": "2022-08-23T10:28:53.566Z"
      },
      {
        "duration": 192,
        "start_time": "2022-08-23T10:29:05.273Z"
      },
      {
        "duration": 12,
        "start_time": "2022-08-23T10:30:07.292Z"
      },
      {
        "duration": 252,
        "start_time": "2022-08-23T10:31:48.167Z"
      },
      {
        "duration": 153,
        "start_time": "2022-08-23T10:33:23.506Z"
      },
      {
        "duration": 27,
        "start_time": "2022-08-23T10:33:30.418Z"
      },
      {
        "duration": 86,
        "start_time": "2022-08-23T10:34:26.633Z"
      },
      {
        "duration": 318,
        "start_time": "2022-08-23T10:34:35.032Z"
      },
      {
        "duration": 16,
        "start_time": "2022-08-23T10:34:59.681Z"
      },
      {
        "duration": 244,
        "start_time": "2022-08-23T10:35:13.207Z"
      },
      {
        "duration": 314,
        "start_time": "2022-08-23T10:35:25.582Z"
      },
      {
        "duration": 325,
        "start_time": "2022-08-23T10:35:39.946Z"
      },
      {
        "duration": 377,
        "start_time": "2022-08-23T10:35:49.008Z"
      },
      {
        "duration": 280,
        "start_time": "2022-08-23T10:36:00.327Z"
      },
      {
        "duration": 146,
        "start_time": "2022-08-23T10:40:10.635Z"
      },
      {
        "duration": 154,
        "start_time": "2022-08-23T10:41:56.910Z"
      },
      {
        "duration": 8,
        "start_time": "2022-08-23T10:49:03.613Z"
      },
      {
        "duration": 13,
        "start_time": "2022-08-23T10:49:13.038Z"
      },
      {
        "duration": 18,
        "start_time": "2022-08-23T10:49:44.027Z"
      },
      {
        "duration": 89,
        "start_time": "2022-08-23T10:50:02.951Z"
      },
      {
        "duration": 15,
        "start_time": "2022-08-23T10:50:10.952Z"
      },
      {
        "duration": 33,
        "start_time": "2022-08-23T10:53:14.460Z"
      },
      {
        "duration": 291,
        "start_time": "2022-08-23T11:04:47.113Z"
      },
      {
        "duration": 15,
        "start_time": "2022-08-23T11:14:57.507Z"
      },
      {
        "duration": 6,
        "start_time": "2022-08-23T11:15:25.413Z"
      },
      {
        "duration": 16,
        "start_time": "2022-08-23T11:15:31.157Z"
      },
      {
        "duration": 34,
        "start_time": "2022-08-23T11:15:37.241Z"
      },
      {
        "duration": 265,
        "start_time": "2022-08-23T11:16:30.970Z"
      },
      {
        "duration": 224,
        "start_time": "2022-08-23T11:17:05.600Z"
      },
      {
        "duration": 340,
        "start_time": "2022-08-23T11:17:21.239Z"
      },
      {
        "duration": 274,
        "start_time": "2022-08-23T11:17:48.553Z"
      },
      {
        "duration": 252,
        "start_time": "2022-08-23T11:17:58.789Z"
      },
      {
        "duration": 260,
        "start_time": "2022-08-23T11:18:53.090Z"
      },
      {
        "duration": 189,
        "start_time": "2022-08-23T11:20:12.622Z"
      },
      {
        "duration": 19,
        "start_time": "2022-08-23T11:21:10.697Z"
      },
      {
        "duration": 12,
        "start_time": "2022-08-23T11:21:40.828Z"
      },
      {
        "duration": 18,
        "start_time": "2022-08-23T11:21:59.778Z"
      },
      {
        "duration": 15,
        "start_time": "2022-08-23T11:22:19.240Z"
      },
      {
        "duration": 16,
        "start_time": "2022-08-23T11:22:31.821Z"
      },
      {
        "duration": 14,
        "start_time": "2022-08-23T11:22:58.041Z"
      },
      {
        "duration": 23,
        "start_time": "2022-08-23T11:23:05.333Z"
      },
      {
        "duration": 189,
        "start_time": "2022-08-23T11:23:08.709Z"
      },
      {
        "duration": 199,
        "start_time": "2022-08-23T11:24:08.974Z"
      },
      {
        "duration": 14,
        "start_time": "2022-08-23T11:42:35.932Z"
      },
      {
        "duration": 19,
        "start_time": "2022-08-23T11:43:56.752Z"
      },
      {
        "duration": 15,
        "start_time": "2022-08-23T11:44:14.531Z"
      },
      {
        "duration": 23,
        "start_time": "2022-08-23T11:44:24.966Z"
      },
      {
        "duration": 15,
        "start_time": "2022-08-23T11:44:32.766Z"
      },
      {
        "duration": 12,
        "start_time": "2022-08-23T11:44:46.127Z"
      },
      {
        "duration": 13,
        "start_time": "2022-08-23T11:45:13.430Z"
      },
      {
        "duration": 78,
        "start_time": "2022-08-23T11:45:51.758Z"
      },
      {
        "duration": 110,
        "start_time": "2022-08-23T11:46:25.408Z"
      },
      {
        "duration": 837,
        "start_time": "2022-08-23T11:47:42.809Z"
      },
      {
        "duration": 88,
        "start_time": "2022-08-23T11:48:13.493Z"
      },
      {
        "duration": 85,
        "start_time": "2022-08-23T11:48:34.394Z"
      },
      {
        "duration": 105,
        "start_time": "2022-08-23T11:48:41.518Z"
      },
      {
        "duration": 15,
        "start_time": "2022-08-23T11:51:08.208Z"
      },
      {
        "duration": 16,
        "start_time": "2022-08-23T11:55:21.561Z"
      },
      {
        "duration": 15,
        "start_time": "2022-08-23T11:57:40.492Z"
      },
      {
        "duration": 14,
        "start_time": "2022-08-23T12:00:01.699Z"
      },
      {
        "duration": 3,
        "start_time": "2022-08-23T12:03:30.457Z"
      },
      {
        "duration": 119,
        "start_time": "2022-08-23T12:06:13.603Z"
      },
      {
        "duration": 132,
        "start_time": "2022-08-23T12:06:23.127Z"
      },
      {
        "duration": 6,
        "start_time": "2022-08-23T12:07:41.151Z"
      },
      {
        "duration": 6,
        "start_time": "2022-08-23T12:07:50.464Z"
      },
      {
        "duration": 5,
        "start_time": "2022-08-23T12:08:06.801Z"
      },
      {
        "duration": 8,
        "start_time": "2022-08-23T12:08:36.330Z"
      },
      {
        "duration": 7,
        "start_time": "2022-08-23T12:09:07.610Z"
      },
      {
        "duration": 8,
        "start_time": "2022-08-23T12:09:13.189Z"
      },
      {
        "duration": 8,
        "start_time": "2022-08-23T12:09:20.423Z"
      },
      {
        "duration": 17,
        "start_time": "2022-08-23T12:09:30.192Z"
      },
      {
        "duration": 132,
        "start_time": "2022-08-23T12:10:06.353Z"
      },
      {
        "duration": 15,
        "start_time": "2022-08-23T12:10:10.419Z"
      },
      {
        "duration": 124,
        "start_time": "2022-08-23T12:10:41.392Z"
      },
      {
        "duration": 12,
        "start_time": "2022-08-23T12:10:50.915Z"
      },
      {
        "duration": 13,
        "start_time": "2022-08-23T12:10:56.715Z"
      },
      {
        "duration": 16,
        "start_time": "2022-08-23T12:11:04.003Z"
      },
      {
        "duration": 141,
        "start_time": "2022-08-23T12:14:46.583Z"
      },
      {
        "duration": 9,
        "start_time": "2022-08-23T12:15:43.782Z"
      },
      {
        "duration": 6,
        "start_time": "2022-08-23T12:16:06.082Z"
      },
      {
        "duration": 137,
        "start_time": "2022-08-23T12:16:29.858Z"
      },
      {
        "duration": 10,
        "start_time": "2022-08-23T12:17:41.031Z"
      },
      {
        "duration": 8,
        "start_time": "2022-08-23T12:18:06.520Z"
      },
      {
        "duration": 15,
        "start_time": "2022-08-23T12:18:25.462Z"
      },
      {
        "duration": 241,
        "start_time": "2022-08-23T12:31:35.038Z"
      },
      {
        "duration": 135,
        "start_time": "2022-08-23T12:33:02.687Z"
      },
      {
        "duration": 655,
        "start_time": "2022-08-23T12:48:13.308Z"
      },
      {
        "duration": 5,
        "start_time": "2022-08-23T12:48:54.597Z"
      },
      {
        "duration": 2501,
        "start_time": "2022-08-23T12:49:02.996Z"
      },
      {
        "duration": 47,
        "start_time": "2022-08-23T12:53:45.864Z"
      },
      {
        "duration": 2253,
        "start_time": "2022-08-23T12:53:53.162Z"
      },
      {
        "duration": 1173,
        "start_time": "2022-08-23T12:54:52.150Z"
      },
      {
        "duration": 177,
        "start_time": "2022-08-23T12:55:09.150Z"
      },
      {
        "duration": 207,
        "start_time": "2022-08-23T12:56:52.252Z"
      },
      {
        "duration": 1334,
        "start_time": "2022-08-23T13:00:00.053Z"
      },
      {
        "duration": 1160,
        "start_time": "2022-08-23T13:00:22.452Z"
      },
      {
        "duration": 1437,
        "start_time": "2022-08-23T13:00:55.795Z"
      },
      {
        "duration": 1905,
        "start_time": "2022-08-23T13:01:24.901Z"
      },
      {
        "duration": 1356,
        "start_time": "2022-08-23T13:01:36.615Z"
      },
      {
        "duration": 2505,
        "start_time": "2022-08-23T13:02:07.355Z"
      },
      {
        "duration": 2526,
        "start_time": "2022-08-23T13:02:20.827Z"
      },
      {
        "duration": 2266,
        "start_time": "2022-08-23T13:02:33.518Z"
      },
      {
        "duration": 179,
        "start_time": "2022-08-23T13:03:01.166Z"
      },
      {
        "duration": 1305,
        "start_time": "2022-08-23T13:03:52.092Z"
      },
      {
        "duration": 197,
        "start_time": "2022-08-23T13:03:53.400Z"
      },
      {
        "duration": 14,
        "start_time": "2022-08-23T13:03:53.598Z"
      },
      {
        "duration": 10,
        "start_time": "2022-08-23T13:03:53.614Z"
      },
      {
        "duration": 33,
        "start_time": "2022-08-23T13:03:53.626Z"
      },
      {
        "duration": 8,
        "start_time": "2022-08-23T13:03:53.661Z"
      },
      {
        "duration": 21,
        "start_time": "2022-08-23T13:03:53.671Z"
      },
      {
        "duration": 14,
        "start_time": "2022-08-23T13:03:53.693Z"
      },
      {
        "duration": 16,
        "start_time": "2022-08-23T13:03:53.709Z"
      },
      {
        "duration": 29,
        "start_time": "2022-08-23T13:03:53.728Z"
      },
      {
        "duration": 6,
        "start_time": "2022-08-23T13:03:53.759Z"
      },
      {
        "duration": 9,
        "start_time": "2022-08-23T13:03:53.766Z"
      },
      {
        "duration": 13,
        "start_time": "2022-08-23T13:03:53.777Z"
      },
      {
        "duration": 19,
        "start_time": "2022-08-23T13:03:53.791Z"
      },
      {
        "duration": 11,
        "start_time": "2022-08-23T13:03:53.812Z"
      },
      {
        "duration": 19,
        "start_time": "2022-08-23T13:03:53.825Z"
      },
      {
        "duration": 314,
        "start_time": "2022-08-23T13:03:53.857Z"
      },
      {
        "duration": 8,
        "start_time": "2022-08-23T13:03:54.173Z"
      },
      {
        "duration": 188,
        "start_time": "2022-08-23T13:03:54.183Z"
      },
      {
        "duration": 30,
        "start_time": "2022-08-23T13:03:54.374Z"
      },
      {
        "duration": 244,
        "start_time": "2022-08-23T13:03:54.406Z"
      },
      {
        "duration": 13,
        "start_time": "2022-08-23T13:03:54.652Z"
      },
      {
        "duration": 160,
        "start_time": "2022-08-23T13:03:54.666Z"
      },
      {
        "duration": 249,
        "start_time": "2022-08-23T13:03:54.828Z"
      },
      {
        "duration": 29,
        "start_time": "2022-08-23T13:03:55.079Z"
      },
      {
        "duration": 419,
        "start_time": "2022-08-23T13:03:55.110Z"
      },
      {
        "duration": 297,
        "start_time": "2022-08-23T13:03:55.531Z"
      },
      {
        "duration": 14,
        "start_time": "2022-08-23T13:03:55.832Z"
      },
      {
        "duration": 201,
        "start_time": "2022-08-23T13:03:55.858Z"
      },
      {
        "duration": 9,
        "start_time": "2022-08-23T13:03:56.061Z"
      },
      {
        "duration": 11,
        "start_time": "2022-08-23T13:03:56.072Z"
      },
      {
        "duration": 135,
        "start_time": "2022-08-23T13:03:56.084Z"
      },
      {
        "duration": 16,
        "start_time": "2022-08-23T13:03:56.221Z"
      },
      {
        "duration": 25,
        "start_time": "2022-08-23T13:03:56.239Z"
      },
      {
        "duration": 2158,
        "start_time": "2022-08-23T13:03:56.266Z"
      },
      {
        "duration": 171,
        "start_time": "2022-08-23T13:03:58.425Z"
      },
      {
        "duration": 18,
        "start_time": "2022-08-23T13:09:47.755Z"
      },
      {
        "duration": 113,
        "start_time": "2022-08-23T13:09:59.741Z"
      },
      {
        "duration": 39,
        "start_time": "2022-08-23T13:10:06.286Z"
      },
      {
        "duration": 43,
        "start_time": "2022-08-23T13:10:16.368Z"
      },
      {
        "duration": 14,
        "start_time": "2022-08-23T13:10:47.833Z"
      },
      {
        "duration": 47,
        "start_time": "2022-08-23T13:10:53.217Z"
      },
      {
        "duration": 14,
        "start_time": "2022-08-23T13:11:28.967Z"
      },
      {
        "duration": 12,
        "start_time": "2022-08-23T13:11:39.330Z"
      },
      {
        "duration": 1324,
        "start_time": "2022-08-23T13:12:11.831Z"
      },
      {
        "duration": 83,
        "start_time": "2022-08-23T13:14:15.231Z"
      },
      {
        "duration": 71,
        "start_time": "2022-08-23T13:14:22.780Z"
      },
      {
        "duration": 71,
        "start_time": "2022-08-23T13:14:29.655Z"
      },
      {
        "duration": 78,
        "start_time": "2022-08-23T13:15:08.218Z"
      },
      {
        "duration": 300,
        "start_time": "2022-08-23T13:15:12.868Z"
      },
      {
        "duration": 334,
        "start_time": "2022-08-23T13:15:41.545Z"
      },
      {
        "duration": 274,
        "start_time": "2022-08-23T13:15:47.983Z"
      },
      {
        "duration": 288,
        "start_time": "2022-08-23T13:16:16.208Z"
      },
      {
        "duration": 1346,
        "start_time": "2022-08-23T13:16:50.220Z"
      },
      {
        "duration": 14,
        "start_time": "2022-08-23T13:22:12.220Z"
      },
      {
        "duration": 3,
        "start_time": "2022-08-23T13:22:18.547Z"
      },
      {
        "duration": 104,
        "start_time": "2022-08-23T13:23:56.433Z"
      },
      {
        "duration": 11,
        "start_time": "2022-08-23T13:24:19.721Z"
      },
      {
        "duration": 117,
        "start_time": "2022-08-23T13:24:27.985Z"
      },
      {
        "duration": 17,
        "start_time": "2022-08-23T13:24:41.232Z"
      },
      {
        "duration": 17,
        "start_time": "2022-08-23T13:24:46.309Z"
      },
      {
        "duration": 77,
        "start_time": "2022-08-23T13:25:27.085Z"
      },
      {
        "duration": 15,
        "start_time": "2022-08-23T13:25:33.334Z"
      },
      {
        "duration": 15,
        "start_time": "2022-08-23T13:26:24.497Z"
      },
      {
        "duration": 4,
        "start_time": "2022-08-23T13:27:26.023Z"
      },
      {
        "duration": 162,
        "start_time": "2022-08-23T13:28:12.372Z"
      },
      {
        "duration": 97,
        "start_time": "2022-08-23T13:28:20.512Z"
      },
      {
        "duration": 170,
        "start_time": "2022-08-23T13:28:29.211Z"
      },
      {
        "duration": 5,
        "start_time": "2022-08-23T13:28:40.012Z"
      },
      {
        "duration": 165,
        "start_time": "2022-08-23T13:29:38.488Z"
      },
      {
        "duration": 1279,
        "start_time": "2022-08-23T13:29:45.289Z"
      },
      {
        "duration": 67,
        "start_time": "2022-08-23T13:29:46.570Z"
      },
      {
        "duration": 15,
        "start_time": "2022-08-23T13:29:46.639Z"
      },
      {
        "duration": 13,
        "start_time": "2022-08-23T13:29:46.655Z"
      },
      {
        "duration": 32,
        "start_time": "2022-08-23T13:29:46.670Z"
      },
      {
        "duration": 8,
        "start_time": "2022-08-23T13:29:46.703Z"
      },
      {
        "duration": 23,
        "start_time": "2022-08-23T13:29:46.713Z"
      },
      {
        "duration": 13,
        "start_time": "2022-08-23T13:29:46.737Z"
      },
      {
        "duration": 13,
        "start_time": "2022-08-23T13:29:46.751Z"
      },
      {
        "duration": 4,
        "start_time": "2022-08-23T13:29:46.766Z"
      },
      {
        "duration": 8,
        "start_time": "2022-08-23T13:29:46.771Z"
      },
      {
        "duration": 6,
        "start_time": "2022-08-23T13:29:46.780Z"
      },
      {
        "duration": 9,
        "start_time": "2022-08-23T13:29:46.788Z"
      },
      {
        "duration": 14,
        "start_time": "2022-08-23T13:29:46.800Z"
      },
      {
        "duration": 42,
        "start_time": "2022-08-23T13:29:46.815Z"
      },
      {
        "duration": 10,
        "start_time": "2022-08-23T13:29:46.859Z"
      },
      {
        "duration": 375,
        "start_time": "2022-08-23T13:29:46.870Z"
      },
      {
        "duration": 11,
        "start_time": "2022-08-23T13:29:47.247Z"
      },
      {
        "duration": 188,
        "start_time": "2022-08-23T13:29:47.259Z"
      },
      {
        "duration": 19,
        "start_time": "2022-08-23T13:29:47.458Z"
      },
      {
        "duration": 212,
        "start_time": "2022-08-23T13:29:47.478Z"
      },
      {
        "duration": 8,
        "start_time": "2022-08-23T13:29:47.692Z"
      },
      {
        "duration": 153,
        "start_time": "2022-08-23T13:29:47.702Z"
      },
      {
        "duration": 238,
        "start_time": "2022-08-23T13:29:47.857Z"
      },
      {
        "duration": 28,
        "start_time": "2022-08-23T13:29:48.096Z"
      },
      {
        "duration": 326,
        "start_time": "2022-08-23T13:29:48.126Z"
      },
      {
        "duration": 278,
        "start_time": "2022-08-23T13:29:48.453Z"
      },
      {
        "duration": 14,
        "start_time": "2022-08-23T13:29:48.733Z"
      },
      {
        "duration": 201,
        "start_time": "2022-08-23T13:29:48.748Z"
      },
      {
        "duration": 13,
        "start_time": "2022-08-23T13:29:48.951Z"
      },
      {
        "duration": 7,
        "start_time": "2022-08-23T13:29:48.965Z"
      },
      {
        "duration": 136,
        "start_time": "2022-08-23T13:29:48.973Z"
      },
      {
        "duration": 15,
        "start_time": "2022-08-23T13:29:49.111Z"
      },
      {
        "duration": 12,
        "start_time": "2022-08-23T13:29:49.127Z"
      },
      {
        "duration": 3118,
        "start_time": "2022-08-23T13:29:49.140Z"
      },
      {
        "duration": 177,
        "start_time": "2022-08-23T13:29:52.260Z"
      },
      {
        "duration": 3,
        "start_time": "2022-08-23T13:29:52.439Z"
      },
      {
        "duration": 110,
        "start_time": "2022-08-23T13:30:37.247Z"
      },
      {
        "duration": 19,
        "start_time": "2022-08-23T13:30:47.198Z"
      },
      {
        "duration": 264,
        "start_time": "2022-08-23T13:32:10.723Z"
      },
      {
        "duration": 246,
        "start_time": "2022-08-23T13:32:19.147Z"
      },
      {
        "duration": 17,
        "start_time": "2022-08-23T13:32:39.558Z"
      },
      {
        "duration": 13,
        "start_time": "2022-08-23T13:32:47.578Z"
      },
      {
        "duration": 1193,
        "start_time": "2022-08-23T13:32:59.563Z"
      },
      {
        "duration": 66,
        "start_time": "2022-08-23T13:33:00.758Z"
      },
      {
        "duration": 13,
        "start_time": "2022-08-23T13:33:00.826Z"
      },
      {
        "duration": 33,
        "start_time": "2022-08-23T13:33:00.840Z"
      },
      {
        "duration": 38,
        "start_time": "2022-08-23T13:33:00.875Z"
      },
      {
        "duration": 9,
        "start_time": "2022-08-23T13:33:00.915Z"
      },
      {
        "duration": 42,
        "start_time": "2022-08-23T13:33:00.925Z"
      },
      {
        "duration": 23,
        "start_time": "2022-08-23T13:33:00.969Z"
      },
      {
        "duration": 22,
        "start_time": "2022-08-23T13:33:00.993Z"
      },
      {
        "duration": 24,
        "start_time": "2022-08-23T13:33:01.017Z"
      },
      {
        "duration": 24,
        "start_time": "2022-08-23T13:33:01.043Z"
      },
      {
        "duration": 17,
        "start_time": "2022-08-23T13:33:01.069Z"
      },
      {
        "duration": 12,
        "start_time": "2022-08-23T13:33:01.088Z"
      },
      {
        "duration": 30,
        "start_time": "2022-08-23T13:33:01.103Z"
      },
      {
        "duration": 12,
        "start_time": "2022-08-23T13:33:01.134Z"
      },
      {
        "duration": 58,
        "start_time": "2022-08-23T13:33:01.148Z"
      },
      {
        "duration": 335,
        "start_time": "2022-08-23T13:33:01.207Z"
      },
      {
        "duration": 15,
        "start_time": "2022-08-23T13:33:01.543Z"
      },
      {
        "duration": 213,
        "start_time": "2022-08-23T13:33:01.559Z"
      },
      {
        "duration": 20,
        "start_time": "2022-08-23T13:33:01.774Z"
      },
      {
        "duration": 269,
        "start_time": "2022-08-23T13:33:01.795Z"
      },
      {
        "duration": 9,
        "start_time": "2022-08-23T13:33:02.066Z"
      },
      {
        "duration": 164,
        "start_time": "2022-08-23T13:33:02.077Z"
      },
      {
        "duration": 239,
        "start_time": "2022-08-23T13:33:02.242Z"
      },
      {
        "duration": 27,
        "start_time": "2022-08-23T13:33:02.482Z"
      },
      {
        "duration": 386,
        "start_time": "2022-08-23T13:33:02.510Z"
      },
      {
        "duration": 282,
        "start_time": "2022-08-23T13:33:02.897Z"
      },
      {
        "duration": 15,
        "start_time": "2022-08-23T13:33:03.180Z"
      },
      {
        "duration": 216,
        "start_time": "2022-08-23T13:33:03.197Z"
      },
      {
        "duration": 9,
        "start_time": "2022-08-23T13:33:03.415Z"
      },
      {
        "duration": 6,
        "start_time": "2022-08-23T13:33:03.425Z"
      },
      {
        "duration": 144,
        "start_time": "2022-08-23T13:33:03.433Z"
      },
      {
        "duration": 15,
        "start_time": "2022-08-23T13:33:03.579Z"
      },
      {
        "duration": 30,
        "start_time": "2022-08-23T13:33:03.595Z"
      },
      {
        "duration": 1816,
        "start_time": "2022-08-23T13:33:03.627Z"
      },
      {
        "duration": 215,
        "start_time": "2022-08-23T13:33:05.445Z"
      },
      {
        "duration": 22,
        "start_time": "2022-08-23T13:33:05.662Z"
      },
      {
        "duration": 322,
        "start_time": "2022-08-23T13:33:05.687Z"
      },
      {
        "duration": 3,
        "start_time": "2022-08-23T13:34:31.062Z"
      },
      {
        "duration": 101,
        "start_time": "2022-08-23T13:34:41.511Z"
      },
      {
        "duration": 17,
        "start_time": "2022-08-23T13:34:51.514Z"
      },
      {
        "duration": 13,
        "start_time": "2022-08-23T13:35:01.088Z"
      },
      {
        "duration": 14,
        "start_time": "2022-08-23T13:35:09.336Z"
      },
      {
        "duration": 1146,
        "start_time": "2022-08-23T13:36:07.205Z"
      },
      {
        "duration": 64,
        "start_time": "2022-08-23T13:36:08.353Z"
      },
      {
        "duration": 14,
        "start_time": "2022-08-23T13:36:08.419Z"
      },
      {
        "duration": 11,
        "start_time": "2022-08-23T13:36:08.434Z"
      },
      {
        "duration": 31,
        "start_time": "2022-08-23T13:36:08.448Z"
      },
      {
        "duration": 9,
        "start_time": "2022-08-23T13:36:08.481Z"
      },
      {
        "duration": 31,
        "start_time": "2022-08-23T13:36:08.491Z"
      },
      {
        "duration": 13,
        "start_time": "2022-08-23T13:36:08.524Z"
      },
      {
        "duration": 22,
        "start_time": "2022-08-23T13:36:08.539Z"
      },
      {
        "duration": 5,
        "start_time": "2022-08-23T13:36:08.562Z"
      },
      {
        "duration": 7,
        "start_time": "2022-08-23T13:36:08.568Z"
      },
      {
        "duration": 8,
        "start_time": "2022-08-23T13:36:08.576Z"
      },
      {
        "duration": 8,
        "start_time": "2022-08-23T13:36:08.585Z"
      },
      {
        "duration": 15,
        "start_time": "2022-08-23T13:36:08.595Z"
      },
      {
        "duration": 13,
        "start_time": "2022-08-23T13:36:08.611Z"
      },
      {
        "duration": 9,
        "start_time": "2022-08-23T13:36:08.625Z"
      },
      {
        "duration": 330,
        "start_time": "2022-08-23T13:36:08.658Z"
      },
      {
        "duration": 10,
        "start_time": "2022-08-23T13:36:08.990Z"
      },
      {
        "duration": 198,
        "start_time": "2022-08-23T13:36:09.002Z"
      },
      {
        "duration": 19,
        "start_time": "2022-08-23T13:36:09.202Z"
      },
      {
        "duration": 215,
        "start_time": "2022-08-23T13:36:09.222Z"
      },
      {
        "duration": 9,
        "start_time": "2022-08-23T13:36:09.438Z"
      },
      {
        "duration": 156,
        "start_time": "2022-08-23T13:36:09.448Z"
      },
      {
        "duration": 247,
        "start_time": "2022-08-23T13:36:09.606Z"
      },
      {
        "duration": 29,
        "start_time": "2022-08-23T13:36:09.856Z"
      },
      {
        "duration": 328,
        "start_time": "2022-08-23T13:36:09.886Z"
      },
      {
        "duration": 269,
        "start_time": "2022-08-23T13:36:10.215Z"
      },
      {
        "duration": 15,
        "start_time": "2022-08-23T13:36:10.485Z"
      },
      {
        "duration": 201,
        "start_time": "2022-08-23T13:36:10.502Z"
      },
      {
        "duration": 10,
        "start_time": "2022-08-23T13:36:10.704Z"
      },
      {
        "duration": 6,
        "start_time": "2022-08-23T13:36:10.715Z"
      },
      {
        "duration": 152,
        "start_time": "2022-08-23T13:36:10.722Z"
      },
      {
        "duration": 17,
        "start_time": "2022-08-23T13:36:10.876Z"
      },
      {
        "duration": 13,
        "start_time": "2022-08-23T13:36:10.895Z"
      },
      {
        "duration": 1888,
        "start_time": "2022-08-23T13:36:10.909Z"
      },
      {
        "duration": 167,
        "start_time": "2022-08-23T13:36:12.799Z"
      },
      {
        "duration": 100,
        "start_time": "2022-08-23T13:36:12.968Z"
      },
      {
        "duration": 5,
        "start_time": "2022-08-23T13:40:01.566Z"
      },
      {
        "duration": 72,
        "start_time": "2022-08-23T13:41:05.405Z"
      },
      {
        "duration": 57,
        "start_time": "2022-08-23T13:41:10.617Z"
      },
      {
        "duration": 14,
        "start_time": "2022-08-23T13:41:23.405Z"
      },
      {
        "duration": 11,
        "start_time": "2022-08-23T13:41:30.354Z"
      },
      {
        "duration": 25,
        "start_time": "2022-08-23T13:41:45.606Z"
      },
      {
        "duration": 20,
        "start_time": "2022-08-23T13:41:58.769Z"
      },
      {
        "duration": 17,
        "start_time": "2022-08-23T13:42:05.270Z"
      },
      {
        "duration": 1273,
        "start_time": "2022-08-23T13:42:21.980Z"
      },
      {
        "duration": 67,
        "start_time": "2022-08-23T13:42:23.256Z"
      },
      {
        "duration": 14,
        "start_time": "2022-08-23T13:42:23.324Z"
      },
      {
        "duration": 17,
        "start_time": "2022-08-23T13:42:23.341Z"
      },
      {
        "duration": 35,
        "start_time": "2022-08-23T13:42:23.359Z"
      },
      {
        "duration": 9,
        "start_time": "2022-08-23T13:42:23.396Z"
      },
      {
        "duration": 39,
        "start_time": "2022-08-23T13:42:23.406Z"
      },
      {
        "duration": 19,
        "start_time": "2022-08-23T13:42:23.446Z"
      },
      {
        "duration": 13,
        "start_time": "2022-08-23T13:42:23.466Z"
      },
      {
        "duration": 6,
        "start_time": "2022-08-23T13:42:23.482Z"
      },
      {
        "duration": 11,
        "start_time": "2022-08-23T13:42:23.489Z"
      },
      {
        "duration": 12,
        "start_time": "2022-08-23T13:42:23.501Z"
      },
      {
        "duration": 22,
        "start_time": "2022-08-23T13:42:23.514Z"
      },
      {
        "duration": 23,
        "start_time": "2022-08-23T13:42:23.538Z"
      },
      {
        "duration": 14,
        "start_time": "2022-08-23T13:42:23.563Z"
      },
      {
        "duration": 24,
        "start_time": "2022-08-23T13:42:23.579Z"
      },
      {
        "duration": 327,
        "start_time": "2022-08-23T13:42:23.605Z"
      },
      {
        "duration": 9,
        "start_time": "2022-08-23T13:42:23.934Z"
      },
      {
        "duration": 199,
        "start_time": "2022-08-23T13:42:23.944Z"
      },
      {
        "duration": 27,
        "start_time": "2022-08-23T13:42:24.145Z"
      },
      {
        "duration": 225,
        "start_time": "2022-08-23T13:42:24.173Z"
      },
      {
        "duration": 13,
        "start_time": "2022-08-23T13:42:24.399Z"
      },
      {
        "duration": 169,
        "start_time": "2022-08-23T13:42:24.414Z"
      },
      {
        "duration": 254,
        "start_time": "2022-08-23T13:42:24.585Z"
      },
      {
        "duration": 34,
        "start_time": "2022-08-23T13:42:24.841Z"
      },
      {
        "duration": 359,
        "start_time": "2022-08-23T13:42:24.876Z"
      },
      {
        "duration": 337,
        "start_time": "2022-08-23T13:42:25.237Z"
      },
      {
        "duration": 16,
        "start_time": "2022-08-23T13:42:25.579Z"
      },
      {
        "duration": 231,
        "start_time": "2022-08-23T13:42:25.597Z"
      },
      {
        "duration": 11,
        "start_time": "2022-08-23T13:42:25.830Z"
      },
      {
        "duration": 34,
        "start_time": "2022-08-23T13:42:25.844Z"
      },
      {
        "duration": 148,
        "start_time": "2022-08-23T13:42:25.880Z"
      },
      {
        "duration": 29,
        "start_time": "2022-08-23T13:42:26.030Z"
      },
      {
        "duration": 12,
        "start_time": "2022-08-23T13:42:26.061Z"
      },
      {
        "duration": 3312,
        "start_time": "2022-08-23T13:42:26.075Z"
      },
      {
        "duration": 182,
        "start_time": "2022-08-23T13:42:29.389Z"
      },
      {
        "duration": 4,
        "start_time": "2022-08-23T13:42:29.573Z"
      },
      {
        "duration": 22,
        "start_time": "2022-08-23T13:42:29.578Z"
      },
      {
        "duration": 111,
        "start_time": "2022-08-23T13:42:29.602Z"
      },
      {
        "duration": 1191,
        "start_time": "2022-08-23T13:42:43.759Z"
      },
      {
        "duration": 66,
        "start_time": "2022-08-23T13:42:44.952Z"
      },
      {
        "duration": 14,
        "start_time": "2022-08-23T13:42:45.022Z"
      },
      {
        "duration": 30,
        "start_time": "2022-08-23T13:42:45.038Z"
      },
      {
        "duration": 35,
        "start_time": "2022-08-23T13:42:45.070Z"
      },
      {
        "duration": 9,
        "start_time": "2022-08-23T13:42:45.107Z"
      },
      {
        "duration": 25,
        "start_time": "2022-08-23T13:42:45.117Z"
      },
      {
        "duration": 15,
        "start_time": "2022-08-23T13:42:45.157Z"
      },
      {
        "duration": 18,
        "start_time": "2022-08-23T13:42:45.174Z"
      },
      {
        "duration": 6,
        "start_time": "2022-08-23T13:42:45.194Z"
      },
      {
        "duration": 19,
        "start_time": "2022-08-23T13:42:45.202Z"
      },
      {
        "duration": 33,
        "start_time": "2022-08-23T13:42:45.223Z"
      },
      {
        "duration": 17,
        "start_time": "2022-08-23T13:42:45.259Z"
      },
      {
        "duration": 38,
        "start_time": "2022-08-23T13:42:45.278Z"
      },
      {
        "duration": 23,
        "start_time": "2022-08-23T13:42:45.317Z"
      },
      {
        "duration": 17,
        "start_time": "2022-08-23T13:42:45.342Z"
      },
      {
        "duration": 381,
        "start_time": "2022-08-23T13:42:45.362Z"
      },
      {
        "duration": 16,
        "start_time": "2022-08-23T13:42:45.745Z"
      },
      {
        "duration": 195,
        "start_time": "2022-08-23T13:42:45.763Z"
      },
      {
        "duration": 21,
        "start_time": "2022-08-23T13:42:45.960Z"
      },
      {
        "duration": 220,
        "start_time": "2022-08-23T13:42:45.983Z"
      },
      {
        "duration": 9,
        "start_time": "2022-08-23T13:42:46.205Z"
      },
      {
        "duration": 171,
        "start_time": "2022-08-23T13:42:46.216Z"
      },
      {
        "duration": 266,
        "start_time": "2022-08-23T13:42:46.389Z"
      },
      {
        "duration": 31,
        "start_time": "2022-08-23T13:42:46.658Z"
      },
      {
        "duration": 373,
        "start_time": "2022-08-23T13:42:46.691Z"
      },
      {
        "duration": 274,
        "start_time": "2022-08-23T13:42:47.066Z"
      },
      {
        "duration": 28,
        "start_time": "2022-08-23T13:42:47.342Z"
      },
      {
        "duration": 198,
        "start_time": "2022-08-23T13:42:47.372Z"
      },
      {
        "duration": 9,
        "start_time": "2022-08-23T13:42:47.572Z"
      },
      {
        "duration": 9,
        "start_time": "2022-08-23T13:42:47.582Z"
      },
      {
        "duration": 146,
        "start_time": "2022-08-23T13:42:47.592Z"
      },
      {
        "duration": 21,
        "start_time": "2022-08-23T13:42:47.740Z"
      },
      {
        "duration": 10,
        "start_time": "2022-08-23T13:42:47.763Z"
      },
      {
        "duration": 1874,
        "start_time": "2022-08-23T13:42:47.775Z"
      },
      {
        "duration": 185,
        "start_time": "2022-08-23T13:42:49.651Z"
      },
      {
        "duration": 4,
        "start_time": "2022-08-23T13:42:49.838Z"
      },
      {
        "duration": 26,
        "start_time": "2022-08-23T13:42:49.843Z"
      },
      {
        "duration": 9,
        "start_time": "2022-08-23T13:42:49.871Z"
      },
      {
        "duration": 338,
        "start_time": "2022-08-23T13:43:53.529Z"
      },
      {
        "duration": 1171,
        "start_time": "2022-08-23T13:44:01.269Z"
      },
      {
        "duration": 196,
        "start_time": "2022-08-23T13:44:15.343Z"
      },
      {
        "duration": 18,
        "start_time": "2022-08-23T13:44:18.786Z"
      },
      {
        "duration": 106,
        "start_time": "2022-08-23T13:44:36.555Z"
      },
      {
        "duration": 18,
        "start_time": "2022-08-23T13:44:45.742Z"
      },
      {
        "duration": 7,
        "start_time": "2022-08-23T14:02:49.065Z"
      },
      {
        "duration": 5,
        "start_time": "2022-08-23T14:02:56.237Z"
      },
      {
        "duration": 9,
        "start_time": "2022-08-23T14:05:16.288Z"
      },
      {
        "duration": 146,
        "start_time": "2022-08-23T14:05:46.676Z"
      },
      {
        "duration": 15,
        "start_time": "2022-08-23T14:05:48.326Z"
      },
      {
        "duration": 139,
        "start_time": "2022-08-23T14:08:34.578Z"
      },
      {
        "duration": 19,
        "start_time": "2022-08-23T14:08:37.007Z"
      },
      {
        "duration": 153,
        "start_time": "2022-08-23T14:08:51.978Z"
      },
      {
        "duration": 26,
        "start_time": "2022-08-23T14:08:54.341Z"
      },
      {
        "duration": 17,
        "start_time": "2022-08-23T14:09:09.715Z"
      },
      {
        "duration": 147,
        "start_time": "2022-08-23T14:10:11.091Z"
      },
      {
        "duration": 62,
        "start_time": "2022-08-23T14:11:22.404Z"
      },
      {
        "duration": 17,
        "start_time": "2022-08-23T14:11:34.604Z"
      },
      {
        "duration": 18,
        "start_time": "2022-08-23T14:13:33.229Z"
      },
      {
        "duration": 10,
        "start_time": "2022-08-23T15:10:56.278Z"
      },
      {
        "duration": 57,
        "start_time": "2022-08-24T11:00:40.140Z"
      },
      {
        "duration": 1450,
        "start_time": "2022-08-24T11:00:46.107Z"
      },
      {
        "duration": 124,
        "start_time": "2022-08-24T11:00:47.558Z"
      },
      {
        "duration": 15,
        "start_time": "2022-08-24T11:00:47.684Z"
      },
      {
        "duration": 13,
        "start_time": "2022-08-24T11:00:47.702Z"
      },
      {
        "duration": 54,
        "start_time": "2022-08-24T11:00:47.716Z"
      },
      {
        "duration": 9,
        "start_time": "2022-08-24T11:00:47.771Z"
      },
      {
        "duration": 48,
        "start_time": "2022-08-24T11:00:47.782Z"
      },
      {
        "duration": 16,
        "start_time": "2022-08-24T11:00:47.831Z"
      },
      {
        "duration": 25,
        "start_time": "2022-08-24T11:00:47.848Z"
      },
      {
        "duration": 7,
        "start_time": "2022-08-24T11:00:47.877Z"
      },
      {
        "duration": 30,
        "start_time": "2022-08-24T11:00:47.886Z"
      },
      {
        "duration": 31,
        "start_time": "2022-08-24T11:00:47.917Z"
      },
      {
        "duration": 18,
        "start_time": "2022-08-24T11:00:47.950Z"
      },
      {
        "duration": 25,
        "start_time": "2022-08-24T11:00:47.969Z"
      },
      {
        "duration": 413,
        "start_time": "2022-08-24T11:00:47.996Z"
      },
      {
        "duration": 8,
        "start_time": "2022-08-24T11:00:48.411Z"
      },
      {
        "duration": 209,
        "start_time": "2022-08-24T11:00:48.421Z"
      },
      {
        "duration": 22,
        "start_time": "2022-08-24T11:00:48.633Z"
      },
      {
        "duration": 238,
        "start_time": "2022-08-24T11:00:48.658Z"
      },
      {
        "duration": 9,
        "start_time": "2022-08-24T11:00:48.898Z"
      },
      {
        "duration": 171,
        "start_time": "2022-08-24T11:00:48.909Z"
      },
      {
        "duration": 268,
        "start_time": "2022-08-24T11:00:49.082Z"
      },
      {
        "duration": 41,
        "start_time": "2022-08-24T11:00:49.352Z"
      },
      {
        "duration": 361,
        "start_time": "2022-08-24T11:00:49.395Z"
      },
      {
        "duration": 292,
        "start_time": "2022-08-24T11:00:49.758Z"
      },
      {
        "duration": 16,
        "start_time": "2022-08-24T11:00:50.052Z"
      },
      {
        "duration": 217,
        "start_time": "2022-08-24T11:00:50.069Z"
      },
      {
        "duration": 11,
        "start_time": "2022-08-24T11:00:50.294Z"
      },
      {
        "duration": 11,
        "start_time": "2022-08-24T11:00:50.307Z"
      },
      {
        "duration": 160,
        "start_time": "2022-08-24T11:00:50.320Z"
      },
      {
        "duration": 24,
        "start_time": "2022-08-24T11:00:50.482Z"
      },
      {
        "duration": 12,
        "start_time": "2022-08-24T11:00:50.508Z"
      },
      {
        "duration": 2882,
        "start_time": "2022-08-24T11:00:50.522Z"
      },
      {
        "duration": 199,
        "start_time": "2022-08-24T11:00:53.406Z"
      },
      {
        "duration": 5,
        "start_time": "2022-08-24T11:00:53.606Z"
      },
      {
        "duration": 20,
        "start_time": "2022-08-24T11:00:53.613Z"
      },
      {
        "duration": 8,
        "start_time": "2022-08-24T11:00:53.635Z"
      },
      {
        "duration": 207,
        "start_time": "2022-08-24T11:00:53.645Z"
      },
      {
        "duration": 19,
        "start_time": "2022-08-24T11:00:53.853Z"
      },
      {
        "duration": 28,
        "start_time": "2022-08-24T11:00:53.874Z"
      },
      {
        "duration": 17,
        "start_time": "2022-08-24T11:00:53.903Z"
      },
      {
        "duration": 18,
        "start_time": "2022-08-24T11:06:43.552Z"
      },
      {
        "duration": 7,
        "start_time": "2022-08-24T11:08:45.918Z"
      },
      {
        "duration": 17,
        "start_time": "2022-08-24T11:08:48.729Z"
      },
      {
        "duration": 2025,
        "start_time": "2022-08-24T11:11:37.467Z"
      },
      {
        "duration": 1639,
        "start_time": "2022-08-24T11:11:50.741Z"
      },
      {
        "duration": 1608,
        "start_time": "2022-08-24T11:11:56.806Z"
      },
      {
        "duration": 15,
        "start_time": "2022-08-24T11:12:14.607Z"
      },
      {
        "duration": 19,
        "start_time": "2022-08-24T11:18:04.621Z"
      },
      {
        "duration": 20,
        "start_time": "2022-08-24T11:18:51.997Z"
      },
      {
        "duration": 8,
        "start_time": "2022-08-24T11:19:21.976Z"
      },
      {
        "duration": 19,
        "start_time": "2022-08-24T11:19:27.501Z"
      },
      {
        "duration": 12,
        "start_time": "2022-08-24T11:22:57.664Z"
      },
      {
        "duration": 18,
        "start_time": "2022-08-24T11:23:58.642Z"
      },
      {
        "duration": 15,
        "start_time": "2022-08-24T11:24:03.775Z"
      },
      {
        "duration": 16,
        "start_time": "2022-08-24T11:24:23.162Z"
      },
      {
        "duration": 17,
        "start_time": "2022-08-24T11:24:35.713Z"
      },
      {
        "duration": 14,
        "start_time": "2022-08-24T11:24:38.624Z"
      },
      {
        "duration": 15,
        "start_time": "2022-08-24T11:25:19.988Z"
      },
      {
        "duration": 13,
        "start_time": "2022-08-24T11:25:26.951Z"
      },
      {
        "duration": 19,
        "start_time": "2022-08-24T11:25:28.776Z"
      },
      {
        "duration": 19,
        "start_time": "2022-08-24T11:25:30.826Z"
      },
      {
        "duration": 20,
        "start_time": "2022-08-24T11:26:02.293Z"
      },
      {
        "duration": 20,
        "start_time": "2022-08-24T11:26:05.050Z"
      },
      {
        "duration": 18,
        "start_time": "2022-08-24T11:26:07.788Z"
      },
      {
        "duration": 19,
        "start_time": "2022-08-24T11:26:16.977Z"
      },
      {
        "duration": 19,
        "start_time": "2022-08-24T11:26:55.452Z"
      },
      {
        "duration": 18,
        "start_time": "2022-08-24T11:26:57.104Z"
      },
      {
        "duration": 1224,
        "start_time": "2022-08-24T11:27:06.026Z"
      },
      {
        "duration": 73,
        "start_time": "2022-08-24T11:27:07.252Z"
      },
      {
        "duration": 15,
        "start_time": "2022-08-24T11:27:07.326Z"
      },
      {
        "duration": 17,
        "start_time": "2022-08-24T11:27:07.342Z"
      },
      {
        "duration": 58,
        "start_time": "2022-08-24T11:27:07.362Z"
      },
      {
        "duration": 9,
        "start_time": "2022-08-24T11:27:07.422Z"
      },
      {
        "duration": 26,
        "start_time": "2022-08-24T11:27:07.432Z"
      },
      {
        "duration": 37,
        "start_time": "2022-08-24T11:27:07.460Z"
      },
      {
        "duration": 16,
        "start_time": "2022-08-24T11:27:07.499Z"
      },
      {
        "duration": 5,
        "start_time": "2022-08-24T11:27:07.517Z"
      },
      {
        "duration": 13,
        "start_time": "2022-08-24T11:27:07.524Z"
      },
      {
        "duration": 18,
        "start_time": "2022-08-24T11:27:07.539Z"
      },
      {
        "duration": 41,
        "start_time": "2022-08-24T11:27:07.559Z"
      },
      {
        "duration": 10,
        "start_time": "2022-08-24T11:27:07.603Z"
      },
      {
        "duration": 378,
        "start_time": "2022-08-24T11:27:07.615Z"
      },
      {
        "duration": 9,
        "start_time": "2022-08-24T11:27:07.995Z"
      },
      {
        "duration": 265,
        "start_time": "2022-08-24T11:27:08.005Z"
      },
      {
        "duration": 32,
        "start_time": "2022-08-24T11:27:08.272Z"
      },
      {
        "duration": 221,
        "start_time": "2022-08-24T11:27:08.306Z"
      },
      {
        "duration": 9,
        "start_time": "2022-08-24T11:27:08.528Z"
      },
      {
        "duration": 177,
        "start_time": "2022-08-24T11:27:08.538Z"
      },
      {
        "duration": 263,
        "start_time": "2022-08-24T11:27:08.717Z"
      },
      {
        "duration": 35,
        "start_time": "2022-08-24T11:27:08.982Z"
      },
      {
        "duration": 365,
        "start_time": "2022-08-24T11:27:09.019Z"
      },
      {
        "duration": 283,
        "start_time": "2022-08-24T11:27:09.385Z"
      },
      {
        "duration": 24,
        "start_time": "2022-08-24T11:27:09.670Z"
      },
      {
        "duration": 221,
        "start_time": "2022-08-24T11:27:09.696Z"
      },
      {
        "duration": 14,
        "start_time": "2022-08-24T11:27:09.919Z"
      },
      {
        "duration": 13,
        "start_time": "2022-08-24T11:27:09.935Z"
      },
      {
        "duration": 141,
        "start_time": "2022-08-24T11:27:09.950Z"
      },
      {
        "duration": 17,
        "start_time": "2022-08-24T11:27:10.093Z"
      },
      {
        "duration": 8,
        "start_time": "2022-08-24T11:27:10.112Z"
      },
      {
        "duration": 2654,
        "start_time": "2022-08-24T11:27:10.122Z"
      },
      {
        "duration": 181,
        "start_time": "2022-08-24T11:27:12.777Z"
      },
      {
        "duration": 4,
        "start_time": "2022-08-24T11:27:12.960Z"
      },
      {
        "duration": 32,
        "start_time": "2022-08-24T11:27:12.966Z"
      },
      {
        "duration": 21,
        "start_time": "2022-08-24T11:27:12.999Z"
      },
      {
        "duration": 18,
        "start_time": "2022-08-24T11:27:13.022Z"
      },
      {
        "duration": 165,
        "start_time": "2022-08-24T11:27:13.042Z"
      },
      {
        "duration": 12,
        "start_time": "2022-08-24T11:28:28.943Z"
      },
      {
        "duration": 19,
        "start_time": "2022-08-24T11:30:12.870Z"
      },
      {
        "duration": 22,
        "start_time": "2022-08-24T11:30:17.795Z"
      },
      {
        "duration": 17,
        "start_time": "2022-08-24T11:30:21.195Z"
      },
      {
        "duration": 17,
        "start_time": "2022-08-24T11:30:27.918Z"
      },
      {
        "duration": 21,
        "start_time": "2022-08-24T11:30:45.368Z"
      },
      {
        "duration": 20,
        "start_time": "2022-08-24T11:30:49.717Z"
      },
      {
        "duration": 19,
        "start_time": "2022-08-24T11:31:36.657Z"
      },
      {
        "duration": 1221,
        "start_time": "2022-08-24T11:33:18.550Z"
      },
      {
        "duration": 1168,
        "start_time": "2022-08-24T11:33:32.055Z"
      },
      {
        "duration": 1182,
        "start_time": "2022-08-24T11:33:41.931Z"
      },
      {
        "duration": 1357,
        "start_time": "2022-08-24T11:34:28.958Z"
      },
      {
        "duration": 1276,
        "start_time": "2022-08-24T11:34:32.246Z"
      },
      {
        "duration": 1460,
        "start_time": "2022-08-24T11:40:03.891Z"
      },
      {
        "duration": 75,
        "start_time": "2022-08-24T11:40:05.353Z"
      },
      {
        "duration": 15,
        "start_time": "2022-08-24T11:40:05.430Z"
      },
      {
        "duration": 13,
        "start_time": "2022-08-24T11:40:05.447Z"
      },
      {
        "duration": 51,
        "start_time": "2022-08-24T11:40:05.462Z"
      },
      {
        "duration": 8,
        "start_time": "2022-08-24T11:40:05.515Z"
      },
      {
        "duration": 23,
        "start_time": "2022-08-24T11:40:05.525Z"
      },
      {
        "duration": 16,
        "start_time": "2022-08-24T11:40:05.549Z"
      },
      {
        "duration": 37,
        "start_time": "2022-08-24T11:40:05.566Z"
      },
      {
        "duration": 5,
        "start_time": "2022-08-24T11:40:05.605Z"
      },
      {
        "duration": 14,
        "start_time": "2022-08-24T11:40:05.611Z"
      },
      {
        "duration": 16,
        "start_time": "2022-08-24T11:40:05.627Z"
      },
      {
        "duration": 13,
        "start_time": "2022-08-24T11:40:05.645Z"
      },
      {
        "duration": 37,
        "start_time": "2022-08-24T11:40:05.661Z"
      },
      {
        "duration": 374,
        "start_time": "2022-08-24T11:40:05.699Z"
      },
      {
        "duration": 9,
        "start_time": "2022-08-24T11:40:06.074Z"
      },
      {
        "duration": 197,
        "start_time": "2022-08-24T11:40:06.085Z"
      },
      {
        "duration": 26,
        "start_time": "2022-08-24T11:40:06.284Z"
      },
      {
        "duration": 240,
        "start_time": "2022-08-24T11:40:06.311Z"
      },
      {
        "duration": 10,
        "start_time": "2022-08-24T11:40:06.552Z"
      },
      {
        "duration": 177,
        "start_time": "2022-08-24T11:40:06.563Z"
      },
      {
        "duration": 272,
        "start_time": "2022-08-24T11:40:06.742Z"
      },
      {
        "duration": 30,
        "start_time": "2022-08-24T11:40:07.016Z"
      },
      {
        "duration": 358,
        "start_time": "2022-08-24T11:40:07.048Z"
      },
      {
        "duration": 286,
        "start_time": "2022-08-24T11:40:07.408Z"
      },
      {
        "duration": 15,
        "start_time": "2022-08-24T11:40:07.695Z"
      },
      {
        "duration": 206,
        "start_time": "2022-08-24T11:40:07.711Z"
      },
      {
        "duration": 10,
        "start_time": "2022-08-24T11:40:07.919Z"
      },
      {
        "duration": 7,
        "start_time": "2022-08-24T11:40:07.930Z"
      },
      {
        "duration": 172,
        "start_time": "2022-08-24T11:40:07.938Z"
      },
      {
        "duration": 23,
        "start_time": "2022-08-24T11:40:08.111Z"
      },
      {
        "duration": 19,
        "start_time": "2022-08-24T11:40:08.137Z"
      },
      {
        "duration": 2905,
        "start_time": "2022-08-24T11:40:08.159Z"
      },
      {
        "duration": 190,
        "start_time": "2022-08-24T11:40:11.066Z"
      },
      {
        "duration": 4,
        "start_time": "2022-08-24T11:40:11.258Z"
      },
      {
        "duration": 18,
        "start_time": "2022-08-24T11:40:11.263Z"
      },
      {
        "duration": 15,
        "start_time": "2022-08-24T11:40:11.293Z"
      },
      {
        "duration": 18,
        "start_time": "2022-08-24T11:40:11.310Z"
      },
      {
        "duration": 22,
        "start_time": "2022-08-24T11:40:11.329Z"
      },
      {
        "duration": 12652,
        "start_time": "2022-08-24T11:40:11.352Z"
      },
      {
        "duration": 1964,
        "start_time": "2022-08-24T11:45:11.003Z"
      },
      {
        "duration": 1350,
        "start_time": "2022-08-24T11:46:10.097Z"
      },
      {
        "duration": 72,
        "start_time": "2022-08-24T11:46:11.449Z"
      },
      {
        "duration": 15,
        "start_time": "2022-08-24T11:46:11.523Z"
      },
      {
        "duration": 13,
        "start_time": "2022-08-24T11:46:11.540Z"
      },
      {
        "duration": 55,
        "start_time": "2022-08-24T11:46:11.555Z"
      },
      {
        "duration": 10,
        "start_time": "2022-08-24T11:46:11.611Z"
      },
      {
        "duration": 22,
        "start_time": "2022-08-24T11:46:11.623Z"
      },
      {
        "duration": 15,
        "start_time": "2022-08-24T11:46:11.647Z"
      },
      {
        "duration": 42,
        "start_time": "2022-08-24T11:46:11.664Z"
      },
      {
        "duration": 5,
        "start_time": "2022-08-24T11:46:11.709Z"
      },
      {
        "duration": 14,
        "start_time": "2022-08-24T11:46:11.715Z"
      },
      {
        "duration": 15,
        "start_time": "2022-08-24T11:46:11.730Z"
      },
      {
        "duration": 12,
        "start_time": "2022-08-24T11:46:11.746Z"
      },
      {
        "duration": 34,
        "start_time": "2022-08-24T11:46:11.760Z"
      },
      {
        "duration": 369,
        "start_time": "2022-08-24T11:46:11.796Z"
      },
      {
        "duration": 10,
        "start_time": "2022-08-24T11:46:12.166Z"
      },
      {
        "duration": 198,
        "start_time": "2022-08-24T11:46:12.177Z"
      },
      {
        "duration": 27,
        "start_time": "2022-08-24T11:46:12.377Z"
      },
      {
        "duration": 220,
        "start_time": "2022-08-24T11:46:12.406Z"
      },
      {
        "duration": 9,
        "start_time": "2022-08-24T11:46:12.628Z"
      },
      {
        "duration": 174,
        "start_time": "2022-08-24T11:46:12.639Z"
      },
      {
        "duration": 261,
        "start_time": "2022-08-24T11:46:12.815Z"
      },
      {
        "duration": 44,
        "start_time": "2022-08-24T11:46:13.078Z"
      },
      {
        "duration": 388,
        "start_time": "2022-08-24T11:46:13.124Z"
      },
      {
        "duration": 288,
        "start_time": "2022-08-24T11:46:13.514Z"
      },
      {
        "duration": 16,
        "start_time": "2022-08-24T11:46:13.804Z"
      },
      {
        "duration": 215,
        "start_time": "2022-08-24T11:46:13.822Z"
      },
      {
        "duration": 10,
        "start_time": "2022-08-24T11:46:14.040Z"
      },
      {
        "duration": 6,
        "start_time": "2022-08-24T11:46:14.052Z"
      },
      {
        "duration": 154,
        "start_time": "2022-08-24T11:46:14.059Z"
      },
      {
        "duration": 18,
        "start_time": "2022-08-24T11:46:14.215Z"
      },
      {
        "duration": 13,
        "start_time": "2022-08-24T11:46:14.235Z"
      },
      {
        "duration": 2545,
        "start_time": "2022-08-24T11:46:14.249Z"
      },
      {
        "duration": 198,
        "start_time": "2022-08-24T11:46:16.796Z"
      },
      {
        "duration": 4,
        "start_time": "2022-08-24T11:46:16.996Z"
      },
      {
        "duration": 16,
        "start_time": "2022-08-24T11:46:17.002Z"
      },
      {
        "duration": 14,
        "start_time": "2022-08-24T11:46:17.020Z"
      },
      {
        "duration": 58,
        "start_time": "2022-08-24T11:46:17.036Z"
      },
      {
        "duration": 2434,
        "start_time": "2022-08-24T11:47:39.444Z"
      },
      {
        "duration": 209,
        "start_time": "2022-08-24T11:48:01.990Z"
      },
      {
        "duration": 17,
        "start_time": "2022-08-24T11:49:23.204Z"
      },
      {
        "duration": 6,
        "start_time": "2022-08-24T11:51:21.690Z"
      },
      {
        "duration": 9,
        "start_time": "2022-08-24T11:52:44.326Z"
      },
      {
        "duration": 11,
        "start_time": "2022-08-24T11:53:40.065Z"
      },
      {
        "duration": 13,
        "start_time": "2022-08-24T11:54:09.020Z"
      },
      {
        "duration": 17,
        "start_time": "2022-08-24T11:56:56.929Z"
      },
      {
        "duration": 22,
        "start_time": "2022-08-24T11:57:54.982Z"
      },
      {
        "duration": 99,
        "start_time": "2022-08-24T11:58:17.714Z"
      },
      {
        "duration": 18,
        "start_time": "2022-08-24T11:58:27.119Z"
      },
      {
        "duration": 15,
        "start_time": "2022-08-24T11:58:37.974Z"
      },
      {
        "duration": 20,
        "start_time": "2022-08-24T11:59:00.994Z"
      },
      {
        "duration": 1372,
        "start_time": "2022-08-24T11:59:33.386Z"
      },
      {
        "duration": 74,
        "start_time": "2022-08-24T11:59:34.760Z"
      },
      {
        "duration": 15,
        "start_time": "2022-08-24T11:59:34.836Z"
      },
      {
        "duration": 15,
        "start_time": "2022-08-24T11:59:34.853Z"
      },
      {
        "duration": 52,
        "start_time": "2022-08-24T11:59:34.870Z"
      },
      {
        "duration": 9,
        "start_time": "2022-08-24T11:59:34.924Z"
      },
      {
        "duration": 29,
        "start_time": "2022-08-24T11:59:34.935Z"
      },
      {
        "duration": 30,
        "start_time": "2022-08-24T11:59:34.965Z"
      },
      {
        "duration": 17,
        "start_time": "2022-08-24T11:59:34.996Z"
      },
      {
        "duration": 6,
        "start_time": "2022-08-24T11:59:35.014Z"
      },
      {
        "duration": 12,
        "start_time": "2022-08-24T11:59:35.021Z"
      },
      {
        "duration": 21,
        "start_time": "2022-08-24T11:59:35.035Z"
      },
      {
        "duration": 41,
        "start_time": "2022-08-24T11:59:35.059Z"
      },
      {
        "duration": 11,
        "start_time": "2022-08-24T11:59:35.104Z"
      },
      {
        "duration": 380,
        "start_time": "2022-08-24T11:59:35.117Z"
      },
      {
        "duration": 9,
        "start_time": "2022-08-24T11:59:35.499Z"
      },
      {
        "duration": 211,
        "start_time": "2022-08-24T11:59:35.510Z"
      },
      {
        "duration": 23,
        "start_time": "2022-08-24T11:59:35.723Z"
      },
      {
        "duration": 238,
        "start_time": "2022-08-24T11:59:35.748Z"
      },
      {
        "duration": 10,
        "start_time": "2022-08-24T11:59:35.992Z"
      },
      {
        "duration": 174,
        "start_time": "2022-08-24T11:59:36.003Z"
      },
      {
        "duration": 269,
        "start_time": "2022-08-24T11:59:36.179Z"
      },
      {
        "duration": 32,
        "start_time": "2022-08-24T11:59:36.450Z"
      },
      {
        "duration": 361,
        "start_time": "2022-08-24T11:59:36.493Z"
      },
      {
        "duration": 292,
        "start_time": "2022-08-24T11:59:36.856Z"
      },
      {
        "duration": 14,
        "start_time": "2022-08-24T11:59:37.150Z"
      },
      {
        "duration": 230,
        "start_time": "2022-08-24T11:59:37.166Z"
      },
      {
        "duration": 10,
        "start_time": "2022-08-24T11:59:37.398Z"
      },
      {
        "duration": 6,
        "start_time": "2022-08-24T11:59:37.409Z"
      },
      {
        "duration": 164,
        "start_time": "2022-08-24T11:59:37.416Z"
      },
      {
        "duration": 23,
        "start_time": "2022-08-24T11:59:37.582Z"
      },
      {
        "duration": 13,
        "start_time": "2022-08-24T11:59:37.607Z"
      },
      {
        "duration": 229,
        "start_time": "2022-08-24T11:59:37.622Z"
      },
      {
        "duration": 2884,
        "start_time": "2022-08-24T11:59:37.853Z"
      },
      {
        "duration": 202,
        "start_time": "2022-08-24T11:59:40.738Z"
      },
      {
        "duration": 5,
        "start_time": "2022-08-24T11:59:40.941Z"
      },
      {
        "duration": 19,
        "start_time": "2022-08-24T11:59:40.948Z"
      },
      {
        "duration": 30,
        "start_time": "2022-08-24T11:59:40.969Z"
      },
      {
        "duration": 29,
        "start_time": "2022-08-24T11:59:41.000Z"
      },
      {
        "duration": 138,
        "start_time": "2022-08-24T11:59:41.031Z"
      },
      {
        "duration": 16,
        "start_time": "2022-08-24T12:00:23.353Z"
      },
      {
        "duration": 14,
        "start_time": "2022-08-24T12:00:37.308Z"
      },
      {
        "duration": 15,
        "start_time": "2022-08-24T12:01:23.033Z"
      },
      {
        "duration": 17,
        "start_time": "2022-08-24T12:01:35.696Z"
      },
      {
        "duration": 17,
        "start_time": "2022-08-24T12:01:43.008Z"
      },
      {
        "duration": 16,
        "start_time": "2022-08-24T12:03:36.709Z"
      },
      {
        "duration": 15,
        "start_time": "2022-08-24T12:03:46.435Z"
      },
      {
        "duration": 17,
        "start_time": "2022-08-24T12:03:53.785Z"
      },
      {
        "duration": 9,
        "start_time": "2022-08-24T12:05:28.910Z"
      },
      {
        "duration": 14,
        "start_time": "2022-08-24T12:05:37.461Z"
      },
      {
        "duration": 15,
        "start_time": "2022-08-24T12:05:58.724Z"
      },
      {
        "duration": 17,
        "start_time": "2022-08-24T12:06:04.872Z"
      },
      {
        "duration": 20,
        "start_time": "2022-08-24T12:06:15.576Z"
      },
      {
        "duration": 1328,
        "start_time": "2022-08-24T12:06:34.595Z"
      },
      {
        "duration": 73,
        "start_time": "2022-08-24T12:06:35.925Z"
      },
      {
        "duration": 15,
        "start_time": "2022-08-24T12:06:36.001Z"
      },
      {
        "duration": 14,
        "start_time": "2022-08-24T12:06:36.018Z"
      },
      {
        "duration": 59,
        "start_time": "2022-08-24T12:06:36.034Z"
      },
      {
        "duration": 10,
        "start_time": "2022-08-24T12:06:36.095Z"
      },
      {
        "duration": 22,
        "start_time": "2022-08-24T12:06:36.107Z"
      },
      {
        "duration": 15,
        "start_time": "2022-08-24T12:06:36.131Z"
      },
      {
        "duration": 13,
        "start_time": "2022-08-24T12:06:36.148Z"
      },
      {
        "duration": 34,
        "start_time": "2022-08-24T12:06:36.163Z"
      },
      {
        "duration": 14,
        "start_time": "2022-08-24T12:06:36.198Z"
      },
      {
        "duration": 25,
        "start_time": "2022-08-24T12:06:36.214Z"
      },
      {
        "duration": 13,
        "start_time": "2022-08-24T12:06:36.242Z"
      },
      {
        "duration": 10,
        "start_time": "2022-08-24T12:06:36.257Z"
      },
      {
        "duration": 369,
        "start_time": "2022-08-24T12:06:36.268Z"
      },
      {
        "duration": 9,
        "start_time": "2022-08-24T12:06:36.638Z"
      },
      {
        "duration": 192,
        "start_time": "2022-08-24T12:06:36.648Z"
      },
      {
        "duration": 21,
        "start_time": "2022-08-24T12:06:36.842Z"
      },
      {
        "duration": 229,
        "start_time": "2022-08-24T12:06:36.864Z"
      },
      {
        "duration": 9,
        "start_time": "2022-08-24T12:06:37.095Z"
      },
      {
        "duration": 167,
        "start_time": "2022-08-24T12:06:37.106Z"
      },
      {
        "duration": 262,
        "start_time": "2022-08-24T12:06:37.275Z"
      },
      {
        "duration": 30,
        "start_time": "2022-08-24T12:06:37.539Z"
      },
      {
        "duration": 351,
        "start_time": "2022-08-24T12:06:37.571Z"
      },
      {
        "duration": 330,
        "start_time": "2022-08-24T12:06:37.924Z"
      },
      {
        "duration": 18,
        "start_time": "2022-08-24T12:06:38.256Z"
      },
      {
        "duration": 212,
        "start_time": "2022-08-24T12:06:38.276Z"
      },
      {
        "duration": 10,
        "start_time": "2022-08-24T12:06:38.490Z"
      },
      {
        "duration": 5,
        "start_time": "2022-08-24T12:06:38.502Z"
      },
      {
        "duration": 147,
        "start_time": "2022-08-24T12:06:38.508Z"
      },
      {
        "duration": 19,
        "start_time": "2022-08-24T12:06:38.656Z"
      },
      {
        "duration": 27,
        "start_time": "2022-08-24T12:06:38.676Z"
      },
      {
        "duration": 216,
        "start_time": "2022-08-24T12:06:38.704Z"
      },
      {
        "duration": 2732,
        "start_time": "2022-08-24T12:06:38.922Z"
      },
      {
        "duration": 188,
        "start_time": "2022-08-24T12:06:41.656Z"
      },
      {
        "duration": 5,
        "start_time": "2022-08-24T12:06:41.845Z"
      },
      {
        "duration": 24,
        "start_time": "2022-08-24T12:06:41.851Z"
      },
      {
        "duration": 30,
        "start_time": "2022-08-24T12:06:41.876Z"
      },
      {
        "duration": 29,
        "start_time": "2022-08-24T12:06:41.907Z"
      },
      {
        "duration": 139,
        "start_time": "2022-08-24T12:06:41.939Z"
      },
      {
        "duration": 0,
        "start_time": "2022-08-24T12:06:42.080Z"
      },
      {
        "duration": 16,
        "start_time": "2022-08-24T12:06:53.858Z"
      },
      {
        "duration": 16,
        "start_time": "2022-08-24T12:07:07.337Z"
      },
      {
        "duration": 20,
        "start_time": "2022-08-24T12:07:21.812Z"
      },
      {
        "duration": 16,
        "start_time": "2022-08-24T12:07:33.986Z"
      },
      {
        "duration": 14,
        "start_time": "2022-08-24T12:08:35.555Z"
      },
      {
        "duration": 15,
        "start_time": "2022-08-24T12:08:48.945Z"
      },
      {
        "duration": 16,
        "start_time": "2022-08-24T12:08:59.395Z"
      },
      {
        "duration": 16,
        "start_time": "2022-08-24T12:10:14.006Z"
      },
      {
        "duration": 1369,
        "start_time": "2022-08-24T12:11:00.585Z"
      },
      {
        "duration": 75,
        "start_time": "2022-08-24T12:11:01.956Z"
      },
      {
        "duration": 15,
        "start_time": "2022-08-24T12:11:02.033Z"
      },
      {
        "duration": 16,
        "start_time": "2022-08-24T12:11:02.050Z"
      },
      {
        "duration": 53,
        "start_time": "2022-08-24T12:11:02.068Z"
      },
      {
        "duration": 9,
        "start_time": "2022-08-24T12:11:02.123Z"
      },
      {
        "duration": 27,
        "start_time": "2022-08-24T12:11:02.134Z"
      },
      {
        "duration": 33,
        "start_time": "2022-08-24T12:11:02.163Z"
      },
      {
        "duration": 17,
        "start_time": "2022-08-24T12:11:02.197Z"
      },
      {
        "duration": 5,
        "start_time": "2022-08-24T12:11:02.217Z"
      },
      {
        "duration": 11,
        "start_time": "2022-08-24T12:11:02.224Z"
      },
      {
        "duration": 17,
        "start_time": "2022-08-24T12:11:02.237Z"
      },
      {
        "duration": 44,
        "start_time": "2022-08-24T12:11:02.256Z"
      },
      {
        "duration": 16,
        "start_time": "2022-08-24T12:11:02.301Z"
      },
      {
        "duration": 375,
        "start_time": "2022-08-24T12:11:02.318Z"
      },
      {
        "duration": 9,
        "start_time": "2022-08-24T12:11:02.695Z"
      },
      {
        "duration": 211,
        "start_time": "2022-08-24T12:11:02.705Z"
      },
      {
        "duration": 24,
        "start_time": "2022-08-24T12:11:02.918Z"
      },
      {
        "duration": 251,
        "start_time": "2022-08-24T12:11:02.944Z"
      },
      {
        "duration": 11,
        "start_time": "2022-08-24T12:11:03.197Z"
      },
      {
        "duration": 194,
        "start_time": "2022-08-24T12:11:03.210Z"
      },
      {
        "duration": 306,
        "start_time": "2022-08-24T12:11:03.406Z"
      },
      {
        "duration": 32,
        "start_time": "2022-08-24T12:11:03.713Z"
      },
      {
        "duration": 369,
        "start_time": "2022-08-24T12:11:03.747Z"
      },
      {
        "duration": 292,
        "start_time": "2022-08-24T12:11:04.118Z"
      },
      {
        "duration": 15,
        "start_time": "2022-08-24T12:11:04.412Z"
      },
      {
        "duration": 214,
        "start_time": "2022-08-24T12:11:04.428Z"
      },
      {
        "duration": 11,
        "start_time": "2022-08-24T12:11:04.645Z"
      },
      {
        "duration": 5,
        "start_time": "2022-08-24T12:11:04.658Z"
      },
      {
        "duration": 154,
        "start_time": "2022-08-24T12:11:04.665Z"
      },
      {
        "duration": 19,
        "start_time": "2022-08-24T12:11:04.821Z"
      },
      {
        "duration": 12,
        "start_time": "2022-08-24T12:11:04.842Z"
      },
      {
        "duration": 234,
        "start_time": "2022-08-24T12:11:04.856Z"
      },
      {
        "duration": 1882,
        "start_time": "2022-08-24T12:11:05.093Z"
      },
      {
        "duration": 182,
        "start_time": "2022-08-24T12:11:06.977Z"
      },
      {
        "duration": 4,
        "start_time": "2022-08-24T12:11:07.160Z"
      },
      {
        "duration": 30,
        "start_time": "2022-08-24T12:11:07.165Z"
      },
      {
        "duration": 14,
        "start_time": "2022-08-24T12:11:07.197Z"
      },
      {
        "duration": 28,
        "start_time": "2022-08-24T12:11:07.213Z"
      },
      {
        "duration": 15,
        "start_time": "2022-08-24T12:11:07.242Z"
      },
      {
        "duration": 42,
        "start_time": "2022-08-24T12:11:07.258Z"
      },
      {
        "duration": 17,
        "start_time": "2022-08-24T12:11:23.347Z"
      },
      {
        "duration": 18,
        "start_time": "2022-08-24T12:12:55.094Z"
      },
      {
        "duration": 731,
        "start_time": "2022-08-24T12:13:08.849Z"
      },
      {
        "duration": 16,
        "start_time": "2022-08-24T12:13:25.298Z"
      },
      {
        "duration": 15,
        "start_time": "2022-08-24T12:13:40.811Z"
      },
      {
        "duration": 357,
        "start_time": "2022-08-24T12:13:46.335Z"
      },
      {
        "duration": 16,
        "start_time": "2022-08-24T12:13:55.938Z"
      },
      {
        "duration": 10,
        "start_time": "2022-08-24T12:15:28.786Z"
      },
      {
        "duration": 1257,
        "start_time": "2022-08-24T12:15:36.217Z"
      },
      {
        "duration": 70,
        "start_time": "2022-08-24T12:15:37.476Z"
      },
      {
        "duration": 15,
        "start_time": "2022-08-24T12:15:37.548Z"
      },
      {
        "duration": 13,
        "start_time": "2022-08-24T12:15:37.565Z"
      },
      {
        "duration": 41,
        "start_time": "2022-08-24T12:15:37.581Z"
      },
      {
        "duration": 9,
        "start_time": "2022-08-24T12:15:37.623Z"
      },
      {
        "duration": 22,
        "start_time": "2022-08-24T12:15:37.633Z"
      },
      {
        "duration": 14,
        "start_time": "2022-08-24T12:15:37.656Z"
      },
      {
        "duration": 15,
        "start_time": "2022-08-24T12:15:37.692Z"
      },
      {
        "duration": 6,
        "start_time": "2022-08-24T12:15:37.708Z"
      },
      {
        "duration": 10,
        "start_time": "2022-08-24T12:15:37.716Z"
      },
      {
        "duration": 13,
        "start_time": "2022-08-24T12:15:37.728Z"
      },
      {
        "duration": 11,
        "start_time": "2022-08-24T12:15:37.743Z"
      },
      {
        "duration": 42,
        "start_time": "2022-08-24T12:15:37.757Z"
      },
      {
        "duration": 388,
        "start_time": "2022-08-24T12:15:37.801Z"
      },
      {
        "duration": 11,
        "start_time": "2022-08-24T12:15:38.191Z"
      },
      {
        "duration": 214,
        "start_time": "2022-08-24T12:15:38.204Z"
      },
      {
        "duration": 19,
        "start_time": "2022-08-24T12:15:38.419Z"
      },
      {
        "duration": 218,
        "start_time": "2022-08-24T12:15:38.440Z"
      },
      {
        "duration": 9,
        "start_time": "2022-08-24T12:15:38.660Z"
      },
      {
        "duration": 168,
        "start_time": "2022-08-24T12:15:38.671Z"
      },
      {
        "duration": 263,
        "start_time": "2022-08-24T12:15:38.841Z"
      },
      {
        "duration": 29,
        "start_time": "2022-08-24T12:15:39.106Z"
      },
      {
        "duration": 353,
        "start_time": "2022-08-24T12:15:39.137Z"
      },
      {
        "duration": 279,
        "start_time": "2022-08-24T12:15:39.492Z"
      },
      {
        "duration": 21,
        "start_time": "2022-08-24T12:15:39.773Z"
      },
      {
        "duration": 221,
        "start_time": "2022-08-24T12:15:39.795Z"
      },
      {
        "duration": 9,
        "start_time": "2022-08-24T12:15:40.018Z"
      },
      {
        "duration": 5,
        "start_time": "2022-08-24T12:15:40.029Z"
      },
      {
        "duration": 151,
        "start_time": "2022-08-24T12:15:40.036Z"
      },
      {
        "duration": 17,
        "start_time": "2022-08-24T12:15:40.189Z"
      },
      {
        "duration": 138,
        "start_time": "2022-08-24T12:15:40.208Z"
      },
      {
        "duration": 0,
        "start_time": "2022-08-24T12:15:40.349Z"
      },
      {
        "duration": 0,
        "start_time": "2022-08-24T12:15:40.350Z"
      },
      {
        "duration": 0,
        "start_time": "2022-08-24T12:15:40.351Z"
      },
      {
        "duration": 0,
        "start_time": "2022-08-24T12:15:40.352Z"
      },
      {
        "duration": 0,
        "start_time": "2022-08-24T12:15:40.354Z"
      },
      {
        "duration": 0,
        "start_time": "2022-08-24T12:15:40.355Z"
      },
      {
        "duration": 0,
        "start_time": "2022-08-24T12:15:40.357Z"
      },
      {
        "duration": 0,
        "start_time": "2022-08-24T12:15:40.358Z"
      },
      {
        "duration": 0,
        "start_time": "2022-08-24T12:15:40.359Z"
      },
      {
        "duration": 0,
        "start_time": "2022-08-24T12:15:40.361Z"
      },
      {
        "duration": 1400,
        "start_time": "2022-08-24T12:16:17.172Z"
      },
      {
        "duration": 73,
        "start_time": "2022-08-24T12:16:18.574Z"
      },
      {
        "duration": 15,
        "start_time": "2022-08-24T12:16:18.648Z"
      },
      {
        "duration": 11,
        "start_time": "2022-08-24T12:16:18.665Z"
      },
      {
        "duration": 45,
        "start_time": "2022-08-24T12:16:18.678Z"
      },
      {
        "duration": 8,
        "start_time": "2022-08-24T12:16:18.725Z"
      },
      {
        "duration": 24,
        "start_time": "2022-08-24T12:16:18.735Z"
      },
      {
        "duration": 33,
        "start_time": "2022-08-24T12:16:18.761Z"
      },
      {
        "duration": 15,
        "start_time": "2022-08-24T12:16:18.796Z"
      },
      {
        "duration": 4,
        "start_time": "2022-08-24T12:16:18.814Z"
      },
      {
        "duration": 11,
        "start_time": "2022-08-24T12:16:18.819Z"
      },
      {
        "duration": 14,
        "start_time": "2022-08-24T12:16:18.832Z"
      },
      {
        "duration": 13,
        "start_time": "2022-08-24T12:16:18.847Z"
      },
      {
        "duration": 10,
        "start_time": "2022-08-24T12:16:18.894Z"
      },
      {
        "duration": 351,
        "start_time": "2022-08-24T12:16:18.906Z"
      },
      {
        "duration": 10,
        "start_time": "2022-08-24T12:16:19.258Z"
      },
      {
        "duration": 204,
        "start_time": "2022-08-24T12:16:19.270Z"
      },
      {
        "duration": 27,
        "start_time": "2022-08-24T12:16:19.476Z"
      },
      {
        "duration": 233,
        "start_time": "2022-08-24T12:16:19.504Z"
      },
      {
        "duration": 10,
        "start_time": "2022-08-24T12:16:19.739Z"
      },
      {
        "duration": 182,
        "start_time": "2022-08-24T12:16:19.750Z"
      },
      {
        "duration": 273,
        "start_time": "2022-08-24T12:16:19.933Z"
      },
      {
        "duration": 31,
        "start_time": "2022-08-24T12:16:20.208Z"
      },
      {
        "duration": 365,
        "start_time": "2022-08-24T12:16:20.240Z"
      },
      {
        "duration": 278,
        "start_time": "2022-08-24T12:16:20.607Z"
      },
      {
        "duration": 19,
        "start_time": "2022-08-24T12:16:20.887Z"
      },
      {
        "duration": 216,
        "start_time": "2022-08-24T12:16:20.908Z"
      },
      {
        "duration": 12,
        "start_time": "2022-08-24T12:16:21.128Z"
      },
      {
        "duration": 10,
        "start_time": "2022-08-24T12:16:21.142Z"
      },
      {
        "duration": 150,
        "start_time": "2022-08-24T12:16:21.155Z"
      },
      {
        "duration": 23,
        "start_time": "2022-08-24T12:16:21.307Z"
      },
      {
        "duration": 18,
        "start_time": "2022-08-24T12:16:21.332Z"
      },
      {
        "duration": 225,
        "start_time": "2022-08-24T12:16:21.353Z"
      },
      {
        "duration": 2864,
        "start_time": "2022-08-24T12:16:21.579Z"
      },
      {
        "duration": 185,
        "start_time": "2022-08-24T12:16:24.445Z"
      },
      {
        "duration": 5,
        "start_time": "2022-08-24T12:16:24.631Z"
      },
      {
        "duration": 35,
        "start_time": "2022-08-24T12:16:24.637Z"
      },
      {
        "duration": 27,
        "start_time": "2022-08-24T12:16:24.674Z"
      },
      {
        "duration": 30,
        "start_time": "2022-08-24T12:16:24.702Z"
      },
      {
        "duration": 14,
        "start_time": "2022-08-24T12:16:24.734Z"
      },
      {
        "duration": 28,
        "start_time": "2022-08-24T12:16:24.750Z"
      },
      {
        "duration": 19,
        "start_time": "2022-08-24T12:16:24.780Z"
      },
      {
        "duration": 5,
        "start_time": "2022-08-24T12:16:44.363Z"
      },
      {
        "duration": 6,
        "start_time": "2022-08-24T12:17:28.269Z"
      },
      {
        "duration": 14,
        "start_time": "2022-08-24T12:17:36.107Z"
      },
      {
        "duration": 10,
        "start_time": "2022-08-24T12:18:11.054Z"
      },
      {
        "duration": 14,
        "start_time": "2022-08-24T12:24:06.131Z"
      },
      {
        "duration": 13,
        "start_time": "2022-08-24T12:24:18.357Z"
      },
      {
        "duration": 11,
        "start_time": "2022-08-24T12:27:07.788Z"
      },
      {
        "duration": 22,
        "start_time": "2022-08-24T12:27:13.224Z"
      },
      {
        "duration": 36,
        "start_time": "2022-08-24T12:31:49.582Z"
      },
      {
        "duration": 133,
        "start_time": "2022-08-24T12:34:46.396Z"
      },
      {
        "duration": 16,
        "start_time": "2022-08-24T12:35:19.337Z"
      },
      {
        "duration": 14,
        "start_time": "2022-08-24T12:36:14.410Z"
      },
      {
        "duration": 8,
        "start_time": "2022-08-24T12:36:25.774Z"
      },
      {
        "duration": 17,
        "start_time": "2022-08-24T12:36:31.300Z"
      },
      {
        "duration": 10,
        "start_time": "2022-08-24T12:36:46.380Z"
      },
      {
        "duration": 15,
        "start_time": "2022-08-24T12:36:56.730Z"
      },
      {
        "duration": 14,
        "start_time": "2022-08-24T12:38:02.401Z"
      },
      {
        "duration": 16,
        "start_time": "2022-08-24T12:38:13.462Z"
      },
      {
        "duration": 246,
        "start_time": "2022-08-24T12:39:24.438Z"
      },
      {
        "duration": 241,
        "start_time": "2022-08-24T12:39:30.949Z"
      },
      {
        "duration": 237,
        "start_time": "2022-08-24T12:39:36.626Z"
      },
      {
        "duration": 2117,
        "start_time": "2022-08-24T12:40:19.521Z"
      },
      {
        "duration": 2207,
        "start_time": "2022-08-24T12:41:05.128Z"
      },
      {
        "duration": 181,
        "start_time": "2022-08-24T12:41:15.965Z"
      },
      {
        "duration": 211,
        "start_time": "2022-08-24T12:44:11.628Z"
      },
      {
        "duration": 201,
        "start_time": "2022-08-24T12:44:20.478Z"
      },
      {
        "duration": 244,
        "start_time": "2022-08-24T12:44:26.816Z"
      },
      {
        "duration": 257,
        "start_time": "2022-08-24T12:44:32.128Z"
      },
      {
        "duration": 196,
        "start_time": "2022-08-24T12:44:50.644Z"
      },
      {
        "duration": 11,
        "start_time": "2022-08-24T13:32:49.651Z"
      },
      {
        "duration": 444,
        "start_time": "2022-08-24T13:38:42.116Z"
      },
      {
        "duration": 411,
        "start_time": "2022-08-24T13:38:55.257Z"
      },
      {
        "duration": 196,
        "start_time": "2022-08-24T13:48:19.393Z"
      },
      {
        "duration": 213,
        "start_time": "2022-08-24T13:49:08.070Z"
      },
      {
        "duration": 10,
        "start_time": "2022-08-24T13:53:36.137Z"
      },
      {
        "duration": 269,
        "start_time": "2022-08-24T13:57:07.039Z"
      },
      {
        "duration": 157,
        "start_time": "2022-08-24T13:57:17.813Z"
      },
      {
        "duration": 174,
        "start_time": "2022-08-24T13:57:22.900Z"
      },
      {
        "duration": 26,
        "start_time": "2022-08-24T14:17:18.234Z"
      },
      {
        "duration": 206,
        "start_time": "2022-08-24T14:17:22.846Z"
      },
      {
        "duration": 19,
        "start_time": "2022-08-24T14:19:38.364Z"
      },
      {
        "duration": 214,
        "start_time": "2022-08-24T14:21:51.598Z"
      },
      {
        "duration": 19,
        "start_time": "2022-08-24T14:23:31.725Z"
      },
      {
        "duration": 225,
        "start_time": "2022-08-24T14:23:47.212Z"
      },
      {
        "duration": 225,
        "start_time": "2022-08-24T14:24:22.576Z"
      },
      {
        "duration": 272,
        "start_time": "2022-08-24T14:24:28.074Z"
      },
      {
        "duration": 296,
        "start_time": "2022-08-24T14:24:55.812Z"
      },
      {
        "duration": 173,
        "start_time": "2022-08-24T14:25:07.112Z"
      },
      {
        "duration": 209,
        "start_time": "2022-08-24T14:25:20.853Z"
      },
      {
        "duration": 10,
        "start_time": "2022-08-24T14:34:41.479Z"
      },
      {
        "duration": 162,
        "start_time": "2022-08-24T14:53:46.276Z"
      },
      {
        "duration": 206,
        "start_time": "2022-08-24T14:54:01.740Z"
      },
      {
        "duration": 180,
        "start_time": "2022-08-24T14:54:13.876Z"
      },
      {
        "duration": 139,
        "start_time": "2022-08-24T14:55:19.537Z"
      },
      {
        "duration": 182,
        "start_time": "2022-08-24T14:55:28.790Z"
      },
      {
        "duration": 163,
        "start_time": "2022-08-24T14:55:45.427Z"
      },
      {
        "duration": 273,
        "start_time": "2022-08-24T15:16:27.561Z"
      },
      {
        "duration": 370,
        "start_time": "2022-08-24T15:16:44.862Z"
      },
      {
        "duration": 194,
        "start_time": "2022-08-24T15:21:14.373Z"
      },
      {
        "duration": 189,
        "start_time": "2022-08-24T15:21:19.128Z"
      },
      {
        "duration": 266,
        "start_time": "2022-08-24T15:24:04.865Z"
      },
      {
        "duration": 248,
        "start_time": "2022-08-24T15:24:17.004Z"
      },
      {
        "duration": 260,
        "start_time": "2022-08-24T15:24:25.053Z"
      },
      {
        "duration": 376,
        "start_time": "2022-08-24T15:27:15.244Z"
      },
      {
        "duration": 275,
        "start_time": "2022-08-24T15:28:04.618Z"
      },
      {
        "duration": 296,
        "start_time": "2022-08-24T15:28:17.406Z"
      },
      {
        "duration": 318,
        "start_time": "2022-08-24T15:28:32.943Z"
      },
      {
        "duration": 1307,
        "start_time": "2022-08-24T16:23:10.626Z"
      },
      {
        "duration": 72,
        "start_time": "2022-08-24T16:23:11.935Z"
      },
      {
        "duration": 15,
        "start_time": "2022-08-24T16:23:12.009Z"
      },
      {
        "duration": 15,
        "start_time": "2022-08-24T16:23:12.025Z"
      },
      {
        "duration": 55,
        "start_time": "2022-08-24T16:23:12.043Z"
      },
      {
        "duration": 9,
        "start_time": "2022-08-24T16:23:12.100Z"
      },
      {
        "duration": 30,
        "start_time": "2022-08-24T16:23:12.111Z"
      },
      {
        "duration": 15,
        "start_time": "2022-08-24T16:23:12.143Z"
      },
      {
        "duration": 41,
        "start_time": "2022-08-24T16:23:12.160Z"
      },
      {
        "duration": 6,
        "start_time": "2022-08-24T16:23:12.202Z"
      },
      {
        "duration": 12,
        "start_time": "2022-08-24T16:23:12.209Z"
      },
      {
        "duration": 21,
        "start_time": "2022-08-24T16:23:12.222Z"
      },
      {
        "duration": 15,
        "start_time": "2022-08-24T16:23:12.244Z"
      },
      {
        "duration": 12,
        "start_time": "2022-08-24T16:23:12.292Z"
      },
      {
        "duration": 371,
        "start_time": "2022-08-24T16:23:12.306Z"
      },
      {
        "duration": 9,
        "start_time": "2022-08-24T16:23:12.679Z"
      },
      {
        "duration": 186,
        "start_time": "2022-08-24T16:23:12.690Z"
      },
      {
        "duration": 29,
        "start_time": "2022-08-24T16:23:12.878Z"
      },
      {
        "duration": 228,
        "start_time": "2022-08-24T16:23:12.909Z"
      },
      {
        "duration": 10,
        "start_time": "2022-08-24T16:23:13.139Z"
      },
      {
        "duration": 234,
        "start_time": "2022-08-24T16:23:13.151Z"
      },
      {
        "duration": 35,
        "start_time": "2022-08-24T16:23:13.387Z"
      },
      {
        "duration": 328,
        "start_time": "2022-08-24T16:23:13.424Z"
      },
      {
        "duration": 391,
        "start_time": "2022-08-24T16:23:13.754Z"
      },
      {
        "duration": 16,
        "start_time": "2022-08-24T16:23:14.147Z"
      },
      {
        "duration": 217,
        "start_time": "2022-08-24T16:23:14.164Z"
      },
      {
        "duration": 16,
        "start_time": "2022-08-24T16:23:14.383Z"
      },
      {
        "duration": 5,
        "start_time": "2022-08-24T16:23:14.400Z"
      },
      {
        "duration": 163,
        "start_time": "2022-08-24T16:23:14.406Z"
      },
      {
        "duration": 30,
        "start_time": "2022-08-24T16:23:14.570Z"
      },
      {
        "duration": 25,
        "start_time": "2022-08-24T16:23:14.602Z"
      },
      {
        "duration": 216,
        "start_time": "2022-08-24T16:23:14.629Z"
      },
      {
        "duration": 2749,
        "start_time": "2022-08-24T16:23:14.847Z"
      },
      {
        "duration": 180,
        "start_time": "2022-08-24T16:23:17.598Z"
      },
      {
        "duration": 13,
        "start_time": "2022-08-24T16:23:17.780Z"
      },
      {
        "duration": 17,
        "start_time": "2022-08-24T16:23:17.795Z"
      },
      {
        "duration": 15,
        "start_time": "2022-08-24T16:23:17.814Z"
      },
      {
        "duration": 30,
        "start_time": "2022-08-24T16:23:17.831Z"
      },
      {
        "duration": 17,
        "start_time": "2022-08-24T16:23:17.892Z"
      },
      {
        "duration": 15,
        "start_time": "2022-08-24T16:23:17.910Z"
      },
      {
        "duration": 11,
        "start_time": "2022-08-24T16:23:17.928Z"
      },
      {
        "duration": 62,
        "start_time": "2022-08-24T16:23:17.940Z"
      },
      {
        "duration": 16,
        "start_time": "2022-08-24T16:23:18.003Z"
      },
      {
        "duration": 345,
        "start_time": "2022-08-24T16:23:18.020Z"
      },
      {
        "duration": 31,
        "start_time": "2022-08-24T16:23:18.367Z"
      },
      {
        "duration": 253,
        "start_time": "2022-08-24T16:23:18.400Z"
      },
      {
        "duration": 221,
        "start_time": "2022-08-24T16:29:06.126Z"
      },
      {
        "duration": 210,
        "start_time": "2022-08-24T17:25:30.170Z"
      },
      {
        "duration": 1580,
        "start_time": "2022-08-25T07:05:33.905Z"
      },
      {
        "duration": 175,
        "start_time": "2022-08-25T07:05:35.487Z"
      },
      {
        "duration": 15,
        "start_time": "2022-08-25T07:05:35.664Z"
      },
      {
        "duration": 23,
        "start_time": "2022-08-25T07:05:35.681Z"
      },
      {
        "duration": 50,
        "start_time": "2022-08-25T07:05:35.708Z"
      },
      {
        "duration": 10,
        "start_time": "2022-08-25T07:05:35.760Z"
      },
      {
        "duration": 45,
        "start_time": "2022-08-25T07:05:35.772Z"
      },
      {
        "duration": 21,
        "start_time": "2022-08-25T07:05:35.820Z"
      },
      {
        "duration": 21,
        "start_time": "2022-08-25T07:05:35.843Z"
      },
      {
        "duration": 31,
        "start_time": "2022-08-25T07:05:35.866Z"
      },
      {
        "duration": 14,
        "start_time": "2022-08-25T07:05:35.904Z"
      },
      {
        "duration": 26,
        "start_time": "2022-08-25T07:05:35.921Z"
      },
      {
        "duration": 116,
        "start_time": "2022-08-25T07:05:35.949Z"
      },
      {
        "duration": 0,
        "start_time": "2022-08-25T07:05:36.067Z"
      },
      {
        "duration": 0,
        "start_time": "2022-08-25T07:05:36.068Z"
      },
      {
        "duration": 0,
        "start_time": "2022-08-25T07:05:36.070Z"
      },
      {
        "duration": 0,
        "start_time": "2022-08-25T07:05:36.071Z"
      },
      {
        "duration": 0,
        "start_time": "2022-08-25T07:05:36.072Z"
      },
      {
        "duration": 0,
        "start_time": "2022-08-25T07:05:36.074Z"
      },
      {
        "duration": 0,
        "start_time": "2022-08-25T07:05:36.074Z"
      },
      {
        "duration": 0,
        "start_time": "2022-08-25T07:05:36.075Z"
      },
      {
        "duration": 0,
        "start_time": "2022-08-25T07:05:36.077Z"
      },
      {
        "duration": 0,
        "start_time": "2022-08-25T07:05:36.078Z"
      },
      {
        "duration": 0,
        "start_time": "2022-08-25T07:05:36.079Z"
      },
      {
        "duration": 0,
        "start_time": "2022-08-25T07:05:36.080Z"
      },
      {
        "duration": 0,
        "start_time": "2022-08-25T07:05:36.081Z"
      },
      {
        "duration": 0,
        "start_time": "2022-08-25T07:05:36.082Z"
      },
      {
        "duration": 0,
        "start_time": "2022-08-25T07:05:36.084Z"
      },
      {
        "duration": 0,
        "start_time": "2022-08-25T07:05:36.087Z"
      },
      {
        "duration": 0,
        "start_time": "2022-08-25T07:05:36.089Z"
      },
      {
        "duration": 0,
        "start_time": "2022-08-25T07:05:36.090Z"
      },
      {
        "duration": 0,
        "start_time": "2022-08-25T07:05:36.092Z"
      },
      {
        "duration": 1,
        "start_time": "2022-08-25T07:05:36.096Z"
      },
      {
        "duration": 0,
        "start_time": "2022-08-25T07:05:36.102Z"
      },
      {
        "duration": 0,
        "start_time": "2022-08-25T07:05:36.103Z"
      },
      {
        "duration": 0,
        "start_time": "2022-08-25T07:05:36.105Z"
      },
      {
        "duration": 0,
        "start_time": "2022-08-25T07:05:36.106Z"
      },
      {
        "duration": 0,
        "start_time": "2022-08-25T07:05:36.107Z"
      },
      {
        "duration": 0,
        "start_time": "2022-08-25T07:05:36.108Z"
      },
      {
        "duration": 0,
        "start_time": "2022-08-25T07:05:36.112Z"
      },
      {
        "duration": 0,
        "start_time": "2022-08-25T07:05:36.113Z"
      },
      {
        "duration": 0,
        "start_time": "2022-08-25T07:05:36.119Z"
      },
      {
        "duration": 0,
        "start_time": "2022-08-25T07:05:36.120Z"
      },
      {
        "duration": 0,
        "start_time": "2022-08-25T07:05:36.123Z"
      },
      {
        "duration": 0,
        "start_time": "2022-08-25T07:05:36.125Z"
      },
      {
        "duration": 1331,
        "start_time": "2022-08-25T08:09:11.535Z"
      },
      {
        "duration": 73,
        "start_time": "2022-08-25T08:09:12.869Z"
      },
      {
        "duration": 20,
        "start_time": "2022-08-25T08:09:12.944Z"
      },
      {
        "duration": 26,
        "start_time": "2022-08-25T08:09:12.966Z"
      },
      {
        "duration": 53,
        "start_time": "2022-08-25T08:09:12.995Z"
      },
      {
        "duration": 10,
        "start_time": "2022-08-25T08:09:13.050Z"
      },
      {
        "duration": 38,
        "start_time": "2022-08-25T08:09:13.062Z"
      },
      {
        "duration": 24,
        "start_time": "2022-08-25T08:09:13.102Z"
      },
      {
        "duration": 20,
        "start_time": "2022-08-25T08:09:13.128Z"
      },
      {
        "duration": 6,
        "start_time": "2022-08-25T08:09:13.150Z"
      },
      {
        "duration": 38,
        "start_time": "2022-08-25T08:09:13.158Z"
      },
      {
        "duration": 20,
        "start_time": "2022-08-25T08:09:13.198Z"
      },
      {
        "duration": 21,
        "start_time": "2022-08-25T08:09:13.220Z"
      },
      {
        "duration": 12,
        "start_time": "2022-08-25T08:09:13.245Z"
      },
      {
        "duration": 410,
        "start_time": "2022-08-25T08:09:13.259Z"
      },
      {
        "duration": 9,
        "start_time": "2022-08-25T08:09:13.671Z"
      },
      {
        "duration": 186,
        "start_time": "2022-08-25T08:09:13.682Z"
      },
      {
        "duration": 36,
        "start_time": "2022-08-25T08:09:13.871Z"
      },
      {
        "duration": 253,
        "start_time": "2022-08-25T08:09:13.909Z"
      },
      {
        "duration": 11,
        "start_time": "2022-08-25T08:09:14.163Z"
      },
      {
        "duration": 219,
        "start_time": "2022-08-25T08:09:14.176Z"
      },
      {
        "duration": 34,
        "start_time": "2022-08-25T08:09:14.397Z"
      },
      {
        "duration": 346,
        "start_time": "2022-08-25T08:09:14.434Z"
      },
      {
        "duration": 458,
        "start_time": "2022-08-25T08:09:14.782Z"
      },
      {
        "duration": 266,
        "start_time": "2022-08-25T08:09:15.242Z"
      },
      {
        "duration": 11,
        "start_time": "2022-08-25T08:09:15.511Z"
      },
      {
        "duration": 17,
        "start_time": "2022-08-25T08:09:15.524Z"
      },
      {
        "duration": 163,
        "start_time": "2022-08-25T08:09:15.543Z"
      },
      {
        "duration": 25,
        "start_time": "2022-08-25T08:09:15.710Z"
      },
      {
        "duration": 24,
        "start_time": "2022-08-25T08:09:15.737Z"
      },
      {
        "duration": 246,
        "start_time": "2022-08-25T08:09:15.763Z"
      },
      {
        "duration": 3997,
        "start_time": "2022-08-25T08:09:16.011Z"
      },
      {
        "duration": 199,
        "start_time": "2022-08-25T08:09:20.010Z"
      },
      {
        "duration": 6,
        "start_time": "2022-08-25T08:09:20.211Z"
      },
      {
        "duration": 19,
        "start_time": "2022-08-25T08:09:20.219Z"
      },
      {
        "duration": 16,
        "start_time": "2022-08-25T08:09:20.240Z"
      },
      {
        "duration": 60,
        "start_time": "2022-08-25T08:09:20.257Z"
      },
      {
        "duration": 17,
        "start_time": "2022-08-25T08:09:20.319Z"
      },
      {
        "duration": 23,
        "start_time": "2022-08-25T08:09:20.338Z"
      },
      {
        "duration": 37,
        "start_time": "2022-08-25T08:09:20.363Z"
      },
      {
        "duration": 46,
        "start_time": "2022-08-25T08:09:20.406Z"
      },
      {
        "duration": 40,
        "start_time": "2022-08-25T08:09:20.454Z"
      },
      {
        "duration": 306,
        "start_time": "2022-08-25T08:09:20.496Z"
      },
      {
        "duration": 21,
        "start_time": "2022-08-25T08:09:20.804Z"
      },
      {
        "duration": 227,
        "start_time": "2022-08-25T08:09:20.827Z"
      },
      {
        "duration": 1299,
        "start_time": "2022-08-25T10:46:53.932Z"
      },
      {
        "duration": 70,
        "start_time": "2022-08-25T10:46:55.233Z"
      },
      {
        "duration": 15,
        "start_time": "2022-08-25T10:46:55.304Z"
      },
      {
        "duration": 14,
        "start_time": "2022-08-25T10:46:55.321Z"
      },
      {
        "duration": 58,
        "start_time": "2022-08-25T10:46:55.338Z"
      },
      {
        "duration": 9,
        "start_time": "2022-08-25T10:46:55.398Z"
      },
      {
        "duration": 26,
        "start_time": "2022-08-25T10:46:55.409Z"
      },
      {
        "duration": 16,
        "start_time": "2022-08-25T10:46:55.437Z"
      },
      {
        "duration": 14,
        "start_time": "2022-08-25T10:46:55.454Z"
      },
      {
        "duration": 26,
        "start_time": "2022-08-25T10:46:55.470Z"
      },
      {
        "duration": 13,
        "start_time": "2022-08-25T10:46:55.498Z"
      },
      {
        "duration": 26,
        "start_time": "2022-08-25T10:46:55.513Z"
      },
      {
        "duration": 13,
        "start_time": "2022-08-25T10:46:55.540Z"
      },
      {
        "duration": 13,
        "start_time": "2022-08-25T10:46:55.557Z"
      },
      {
        "duration": 369,
        "start_time": "2022-08-25T10:46:55.572Z"
      },
      {
        "duration": 9,
        "start_time": "2022-08-25T10:46:55.943Z"
      },
      {
        "duration": 179,
        "start_time": "2022-08-25T10:46:55.953Z"
      },
      {
        "duration": 20,
        "start_time": "2022-08-25T10:46:56.134Z"
      },
      {
        "duration": 230,
        "start_time": "2022-08-25T10:46:56.156Z"
      },
      {
        "duration": 12,
        "start_time": "2022-08-25T10:46:56.388Z"
      },
      {
        "duration": 199,
        "start_time": "2022-08-25T10:46:56.402Z"
      },
      {
        "duration": 32,
        "start_time": "2022-08-25T10:46:56.603Z"
      },
      {
        "duration": 333,
        "start_time": "2022-08-25T10:46:56.637Z"
      },
      {
        "duration": 404,
        "start_time": "2022-08-25T10:46:56.972Z"
      },
      {
        "duration": 221,
        "start_time": "2022-08-25T10:46:57.378Z"
      },
      {
        "duration": 12,
        "start_time": "2022-08-25T10:46:57.601Z"
      },
      {
        "duration": 5,
        "start_time": "2022-08-25T10:46:57.615Z"
      },
      {
        "duration": 152,
        "start_time": "2022-08-25T10:46:57.622Z"
      },
      {
        "duration": 26,
        "start_time": "2022-08-25T10:46:57.775Z"
      },
      {
        "duration": 26,
        "start_time": "2022-08-25T10:46:57.803Z"
      },
      {
        "duration": 208,
        "start_time": "2022-08-25T10:46:57.830Z"
      },
      {
        "duration": 2467,
        "start_time": "2022-08-25T10:46:58.041Z"
      },
      {
        "duration": 188,
        "start_time": "2022-08-25T10:47:00.510Z"
      },
      {
        "duration": 4,
        "start_time": "2022-08-25T10:47:00.700Z"
      },
      {
        "duration": 46,
        "start_time": "2022-08-25T10:47:00.706Z"
      },
      {
        "duration": 28,
        "start_time": "2022-08-25T10:47:00.754Z"
      },
      {
        "duration": 22,
        "start_time": "2022-08-25T10:47:00.784Z"
      },
      {
        "duration": 28,
        "start_time": "2022-08-25T10:47:00.808Z"
      },
      {
        "duration": 18,
        "start_time": "2022-08-25T10:47:00.838Z"
      },
      {
        "duration": 70,
        "start_time": "2022-08-25T10:47:00.858Z"
      },
      {
        "duration": 17,
        "start_time": "2022-08-25T10:47:00.932Z"
      },
      {
        "duration": 291,
        "start_time": "2022-08-25T10:47:00.951Z"
      },
      {
        "duration": 17,
        "start_time": "2022-08-25T10:47:01.245Z"
      },
      {
        "duration": 226,
        "start_time": "2022-08-25T10:47:01.264Z"
      },
      {
        "duration": 1359,
        "start_time": "2022-08-25T10:51:35.285Z"
      },
      {
        "duration": 74,
        "start_time": "2022-08-25T10:51:36.646Z"
      },
      {
        "duration": 14,
        "start_time": "2022-08-25T10:51:36.721Z"
      },
      {
        "duration": 15,
        "start_time": "2022-08-25T10:51:36.737Z"
      },
      {
        "duration": 47,
        "start_time": "2022-08-25T10:51:36.754Z"
      },
      {
        "duration": 9,
        "start_time": "2022-08-25T10:51:36.803Z"
      },
      {
        "duration": 27,
        "start_time": "2022-08-25T10:51:36.813Z"
      },
      {
        "duration": 16,
        "start_time": "2022-08-25T10:51:36.841Z"
      },
      {
        "duration": 41,
        "start_time": "2022-08-25T10:51:36.858Z"
      },
      {
        "duration": 6,
        "start_time": "2022-08-25T10:51:36.901Z"
      },
      {
        "duration": 12,
        "start_time": "2022-08-25T10:51:36.908Z"
      },
      {
        "duration": 16,
        "start_time": "2022-08-25T10:51:36.922Z"
      },
      {
        "duration": 13,
        "start_time": "2022-08-25T10:51:36.940Z"
      },
      {
        "duration": 13,
        "start_time": "2022-08-25T10:51:36.994Z"
      },
      {
        "duration": 421,
        "start_time": "2022-08-25T10:51:37.008Z"
      },
      {
        "duration": 9,
        "start_time": "2022-08-25T10:51:37.431Z"
      },
      {
        "duration": 192,
        "start_time": "2022-08-25T10:51:37.442Z"
      },
      {
        "duration": 18,
        "start_time": "2022-08-25T10:51:37.636Z"
      },
      {
        "duration": 235,
        "start_time": "2022-08-25T10:51:37.655Z"
      },
      {
        "duration": 9,
        "start_time": "2022-08-25T10:51:37.893Z"
      },
      {
        "duration": 253,
        "start_time": "2022-08-25T10:51:37.904Z"
      },
      {
        "duration": 53,
        "start_time": "2022-08-25T10:51:38.160Z"
      },
      {
        "duration": 354,
        "start_time": "2022-08-25T10:51:38.215Z"
      },
      {
        "duration": 386,
        "start_time": "2022-08-25T10:51:38.570Z"
      },
      {
        "duration": 214,
        "start_time": "2022-08-25T10:51:38.957Z"
      },
      {
        "duration": 10,
        "start_time": "2022-08-25T10:51:39.173Z"
      },
      {
        "duration": 9,
        "start_time": "2022-08-25T10:51:39.193Z"
      },
      {
        "duration": 146,
        "start_time": "2022-08-25T10:51:39.204Z"
      },
      {
        "duration": 18,
        "start_time": "2022-08-25T10:51:39.352Z"
      },
      {
        "duration": 31,
        "start_time": "2022-08-25T10:51:39.372Z"
      },
      {
        "duration": 215,
        "start_time": "2022-08-25T10:51:39.405Z"
      },
      {
        "duration": 1710,
        "start_time": "2022-08-25T10:51:39.623Z"
      },
      {
        "duration": 185,
        "start_time": "2022-08-25T10:51:41.335Z"
      },
      {
        "duration": 4,
        "start_time": "2022-08-25T10:51:41.522Z"
      },
      {
        "duration": 33,
        "start_time": "2022-08-25T10:51:41.528Z"
      },
      {
        "duration": 49,
        "start_time": "2022-08-25T10:51:41.563Z"
      },
      {
        "duration": 14,
        "start_time": "2022-08-25T10:51:41.614Z"
      },
      {
        "duration": 17,
        "start_time": "2022-08-25T10:51:41.630Z"
      },
      {
        "duration": 13,
        "start_time": "2022-08-25T10:51:41.648Z"
      },
      {
        "duration": 51,
        "start_time": "2022-08-25T10:51:41.662Z"
      },
      {
        "duration": 15,
        "start_time": "2022-08-25T10:51:41.717Z"
      },
      {
        "duration": 295,
        "start_time": "2022-08-25T10:51:41.734Z"
      },
      {
        "duration": 16,
        "start_time": "2022-08-25T10:51:42.030Z"
      },
      {
        "duration": 217,
        "start_time": "2022-08-25T10:51:42.048Z"
      },
      {
        "duration": 55,
        "start_time": "2022-08-25T12:34:46.214Z"
      },
      {
        "duration": 1346,
        "start_time": "2022-08-25T12:34:59.406Z"
      },
      {
        "duration": 78,
        "start_time": "2022-08-25T12:35:00.754Z"
      },
      {
        "duration": 23,
        "start_time": "2022-08-25T12:35:00.835Z"
      },
      {
        "duration": 32,
        "start_time": "2022-08-25T12:35:00.861Z"
      },
      {
        "duration": 55,
        "start_time": "2022-08-25T12:35:00.896Z"
      },
      {
        "duration": 10,
        "start_time": "2022-08-25T12:35:00.953Z"
      },
      {
        "duration": 45,
        "start_time": "2022-08-25T12:35:00.965Z"
      },
      {
        "duration": 17,
        "start_time": "2022-08-25T12:35:01.012Z"
      },
      {
        "duration": 33,
        "start_time": "2022-08-25T12:35:01.031Z"
      },
      {
        "duration": 14,
        "start_time": "2022-08-25T12:35:01.066Z"
      },
      {
        "duration": 51,
        "start_time": "2022-08-25T12:35:01.082Z"
      },
      {
        "duration": 37,
        "start_time": "2022-08-25T12:35:01.136Z"
      },
      {
        "duration": 32,
        "start_time": "2022-08-25T12:35:01.175Z"
      },
      {
        "duration": 35,
        "start_time": "2022-08-25T12:35:01.209Z"
      },
      {
        "duration": 419,
        "start_time": "2022-08-25T12:35:01.246Z"
      },
      {
        "duration": 10,
        "start_time": "2022-08-25T12:35:01.667Z"
      },
      {
        "duration": 201,
        "start_time": "2022-08-25T12:35:01.678Z"
      },
      {
        "duration": 26,
        "start_time": "2022-08-25T12:35:01.881Z"
      },
      {
        "duration": 238,
        "start_time": "2022-08-25T12:35:01.909Z"
      },
      {
        "duration": 10,
        "start_time": "2022-08-25T12:35:02.148Z"
      },
      {
        "duration": 215,
        "start_time": "2022-08-25T12:35:02.160Z"
      },
      {
        "duration": 36,
        "start_time": "2022-08-25T12:35:02.377Z"
      },
      {
        "duration": 341,
        "start_time": "2022-08-25T12:35:02.415Z"
      },
      {
        "duration": 401,
        "start_time": "2022-08-25T12:35:02.758Z"
      },
      {
        "duration": 240,
        "start_time": "2022-08-25T12:35:03.162Z"
      },
      {
        "duration": 10,
        "start_time": "2022-08-25T12:35:03.404Z"
      },
      {
        "duration": 6,
        "start_time": "2022-08-25T12:35:03.415Z"
      },
      {
        "duration": 153,
        "start_time": "2022-08-25T12:35:03.424Z"
      },
      {
        "duration": 25,
        "start_time": "2022-08-25T12:35:03.579Z"
      },
      {
        "duration": 14,
        "start_time": "2022-08-25T12:35:03.606Z"
      },
      {
        "duration": 231,
        "start_time": "2022-08-25T12:35:03.621Z"
      },
      {
        "duration": 3199,
        "start_time": "2022-08-25T12:35:03.854Z"
      },
      {
        "duration": 186,
        "start_time": "2022-08-25T12:35:07.055Z"
      },
      {
        "duration": 4,
        "start_time": "2022-08-25T12:35:07.243Z"
      },
      {
        "duration": 45,
        "start_time": "2022-08-25T12:35:07.249Z"
      },
      {
        "duration": 31,
        "start_time": "2022-08-25T12:35:07.296Z"
      },
      {
        "duration": 16,
        "start_time": "2022-08-25T12:35:07.328Z"
      },
      {
        "duration": 26,
        "start_time": "2022-08-25T12:35:07.345Z"
      },
      {
        "duration": 14,
        "start_time": "2022-08-25T12:35:07.393Z"
      },
      {
        "duration": 39,
        "start_time": "2022-08-25T12:35:07.408Z"
      },
      {
        "duration": 16,
        "start_time": "2022-08-25T12:35:07.448Z"
      },
      {
        "duration": 303,
        "start_time": "2022-08-25T12:35:07.466Z"
      },
      {
        "duration": 28,
        "start_time": "2022-08-25T12:35:07.771Z"
      },
      {
        "duration": 231,
        "start_time": "2022-08-25T12:35:07.801Z"
      },
      {
        "duration": 34,
        "start_time": "2022-08-25T12:37:59.160Z"
      },
      {
        "duration": 30,
        "start_time": "2022-08-25T12:38:06.607Z"
      },
      {
        "duration": 57,
        "start_time": "2022-08-25T12:38:58.085Z"
      },
      {
        "duration": 43,
        "start_time": "2022-08-25T12:40:19.966Z"
      },
      {
        "duration": 33,
        "start_time": "2022-08-25T12:40:38.820Z"
      },
      {
        "duration": 87,
        "start_time": "2022-08-25T14:05:22.226Z"
      },
      {
        "duration": 1391,
        "start_time": "2022-08-25T14:05:28.859Z"
      },
      {
        "duration": 77,
        "start_time": "2022-08-25T14:05:30.252Z"
      },
      {
        "duration": 16,
        "start_time": "2022-08-25T14:05:30.331Z"
      },
      {
        "duration": 24,
        "start_time": "2022-08-25T14:05:30.350Z"
      },
      {
        "duration": 61,
        "start_time": "2022-08-25T14:05:30.377Z"
      },
      {
        "duration": 9,
        "start_time": "2022-08-25T14:05:30.440Z"
      },
      {
        "duration": 35,
        "start_time": "2022-08-25T14:05:30.451Z"
      },
      {
        "duration": 17,
        "start_time": "2022-08-25T14:05:30.488Z"
      },
      {
        "duration": 25,
        "start_time": "2022-08-25T14:05:30.507Z"
      },
      {
        "duration": 18,
        "start_time": "2022-08-25T14:05:30.535Z"
      },
      {
        "duration": 23,
        "start_time": "2022-08-25T14:05:30.555Z"
      },
      {
        "duration": 26,
        "start_time": "2022-08-25T14:05:30.580Z"
      },
      {
        "duration": 20,
        "start_time": "2022-08-25T14:05:30.608Z"
      },
      {
        "duration": 24,
        "start_time": "2022-08-25T14:05:30.630Z"
      },
      {
        "duration": 377,
        "start_time": "2022-08-25T14:05:30.656Z"
      },
      {
        "duration": 10,
        "start_time": "2022-08-25T14:05:31.035Z"
      },
      {
        "duration": 83,
        "start_time": "2022-08-25T14:05:31.046Z"
      },
      {
        "duration": 0,
        "start_time": "2022-08-25T14:05:31.131Z"
      },
      {
        "duration": 0,
        "start_time": "2022-08-25T14:05:31.132Z"
      },
      {
        "duration": 0,
        "start_time": "2022-08-25T14:05:31.133Z"
      },
      {
        "duration": 1,
        "start_time": "2022-08-25T14:05:31.134Z"
      },
      {
        "duration": 0,
        "start_time": "2022-08-25T14:05:31.136Z"
      },
      {
        "duration": 0,
        "start_time": "2022-08-25T14:05:31.136Z"
      },
      {
        "duration": 0,
        "start_time": "2022-08-25T14:05:31.138Z"
      },
      {
        "duration": 0,
        "start_time": "2022-08-25T14:05:31.138Z"
      },
      {
        "duration": 0,
        "start_time": "2022-08-25T14:05:31.140Z"
      },
      {
        "duration": 0,
        "start_time": "2022-08-25T14:05:31.141Z"
      },
      {
        "duration": 0,
        "start_time": "2022-08-25T14:05:31.142Z"
      },
      {
        "duration": 0,
        "start_time": "2022-08-25T14:05:31.143Z"
      },
      {
        "duration": 0,
        "start_time": "2022-08-25T14:05:31.144Z"
      },
      {
        "duration": 0,
        "start_time": "2022-08-25T14:05:31.145Z"
      },
      {
        "duration": 0,
        "start_time": "2022-08-25T14:05:31.147Z"
      },
      {
        "duration": 0,
        "start_time": "2022-08-25T14:05:31.148Z"
      },
      {
        "duration": 0,
        "start_time": "2022-08-25T14:05:31.149Z"
      },
      {
        "duration": 0,
        "start_time": "2022-08-25T14:05:31.150Z"
      },
      {
        "duration": 1,
        "start_time": "2022-08-25T14:05:31.150Z"
      },
      {
        "duration": 0,
        "start_time": "2022-08-25T14:05:31.152Z"
      },
      {
        "duration": 0,
        "start_time": "2022-08-25T14:05:31.153Z"
      },
      {
        "duration": 0,
        "start_time": "2022-08-25T14:05:31.154Z"
      },
      {
        "duration": 0,
        "start_time": "2022-08-25T14:05:31.155Z"
      },
      {
        "duration": 0,
        "start_time": "2022-08-25T14:05:31.156Z"
      },
      {
        "duration": 0,
        "start_time": "2022-08-25T14:05:31.157Z"
      },
      {
        "duration": 0,
        "start_time": "2022-08-25T14:05:31.158Z"
      },
      {
        "duration": 0,
        "start_time": "2022-08-25T14:05:31.159Z"
      },
      {
        "duration": 167,
        "start_time": "2022-08-25T14:05:44.482Z"
      },
      {
        "duration": 1304,
        "start_time": "2022-08-25T15:04:02.182Z"
      },
      {
        "duration": 69,
        "start_time": "2022-08-25T15:04:03.488Z"
      },
      {
        "duration": 15,
        "start_time": "2022-08-25T15:04:03.558Z"
      },
      {
        "duration": 14,
        "start_time": "2022-08-25T15:04:03.574Z"
      },
      {
        "duration": 35,
        "start_time": "2022-08-25T15:04:03.591Z"
      },
      {
        "duration": 9,
        "start_time": "2022-08-25T15:04:03.628Z"
      },
      {
        "duration": 22,
        "start_time": "2022-08-25T15:04:03.638Z"
      },
      {
        "duration": 31,
        "start_time": "2022-08-25T15:04:03.662Z"
      },
      {
        "duration": 14,
        "start_time": "2022-08-25T15:04:03.695Z"
      },
      {
        "duration": 5,
        "start_time": "2022-08-25T15:04:03.710Z"
      },
      {
        "duration": 14,
        "start_time": "2022-08-25T15:04:03.716Z"
      },
      {
        "duration": 15,
        "start_time": "2022-08-25T15:04:03.732Z"
      },
      {
        "duration": 12,
        "start_time": "2022-08-25T15:04:03.749Z"
      },
      {
        "duration": 38,
        "start_time": "2022-08-25T15:04:03.764Z"
      },
      {
        "duration": 361,
        "start_time": "2022-08-25T15:04:03.804Z"
      },
      {
        "duration": 9,
        "start_time": "2022-08-25T15:04:04.166Z"
      },
      {
        "duration": 166,
        "start_time": "2022-08-25T15:04:04.177Z"
      },
      {
        "duration": 18,
        "start_time": "2022-08-25T15:04:04.345Z"
      },
      {
        "duration": 229,
        "start_time": "2022-08-25T15:04:04.364Z"
      },
      {
        "duration": 10,
        "start_time": "2022-08-25T15:04:04.594Z"
      },
      {
        "duration": 204,
        "start_time": "2022-08-25T15:04:04.605Z"
      },
      {
        "duration": 31,
        "start_time": "2022-08-25T15:04:04.810Z"
      },
      {
        "duration": 338,
        "start_time": "2022-08-25T15:04:04.843Z"
      },
      {
        "duration": 392,
        "start_time": "2022-08-25T15:04:05.183Z"
      },
      {
        "duration": 212,
        "start_time": "2022-08-25T15:04:05.577Z"
      },
      {
        "duration": 10,
        "start_time": "2022-08-25T15:04:05.790Z"
      },
      {
        "duration": 7,
        "start_time": "2022-08-25T15:04:05.802Z"
      },
      {
        "duration": 140,
        "start_time": "2022-08-25T15:04:05.810Z"
      },
      {
        "duration": 17,
        "start_time": "2022-08-25T15:04:05.952Z"
      },
      {
        "duration": 28,
        "start_time": "2022-08-25T15:04:05.971Z"
      },
      {
        "duration": 204,
        "start_time": "2022-08-25T15:04:06.000Z"
      },
      {
        "duration": 2862,
        "start_time": "2022-08-25T15:04:06.206Z"
      },
      {
        "duration": 176,
        "start_time": "2022-08-25T15:04:09.070Z"
      },
      {
        "duration": 4,
        "start_time": "2022-08-25T15:04:09.249Z"
      },
      {
        "duration": 43,
        "start_time": "2022-08-25T15:04:09.255Z"
      },
      {
        "duration": 28,
        "start_time": "2022-08-25T15:04:09.300Z"
      },
      {
        "duration": 14,
        "start_time": "2022-08-25T15:04:09.330Z"
      },
      {
        "duration": 15,
        "start_time": "2022-08-25T15:04:09.351Z"
      },
      {
        "duration": 12,
        "start_time": "2022-08-25T15:04:09.392Z"
      },
      {
        "duration": 35,
        "start_time": "2022-08-25T15:04:09.406Z"
      },
      {
        "duration": 15,
        "start_time": "2022-08-25T15:04:09.444Z"
      },
      {
        "duration": 280,
        "start_time": "2022-08-25T15:04:09.460Z"
      },
      {
        "duration": 15,
        "start_time": "2022-08-25T15:04:09.742Z"
      },
      {
        "duration": 214,
        "start_time": "2022-08-25T15:04:09.759Z"
      },
      {
        "duration": 317,
        "start_time": "2022-08-25T15:11:47.188Z"
      },
      {
        "duration": 299,
        "start_time": "2022-08-25T15:12:13.142Z"
      },
      {
        "duration": 314,
        "start_time": "2022-08-25T15:12:43.772Z"
      },
      {
        "duration": 281,
        "start_time": "2022-08-25T15:19:25.126Z"
      },
      {
        "duration": 207,
        "start_time": "2022-08-25T15:22:04.733Z"
      },
      {
        "duration": 215,
        "start_time": "2022-08-25T15:45:26.563Z"
      },
      {
        "duration": 204,
        "start_time": "2022-08-25T15:45:39.400Z"
      },
      {
        "duration": 216,
        "start_time": "2022-08-25T15:46:21.620Z"
      },
      {
        "duration": 235,
        "start_time": "2022-08-25T15:46:56.525Z"
      },
      {
        "duration": 229,
        "start_time": "2022-08-25T15:47:04.913Z"
      },
      {
        "duration": 231,
        "start_time": "2022-08-25T15:47:34.075Z"
      },
      {
        "duration": 241,
        "start_time": "2022-08-25T15:47:44.864Z"
      },
      {
        "duration": 250,
        "start_time": "2022-08-25T15:47:51.213Z"
      },
      {
        "duration": 206,
        "start_time": "2022-08-25T15:48:09.164Z"
      },
      {
        "duration": 305,
        "start_time": "2022-08-25T15:48:46.088Z"
      },
      {
        "duration": 1386,
        "start_time": "2022-08-25T15:49:22.670Z"
      },
      {
        "duration": 73,
        "start_time": "2022-08-25T15:49:24.058Z"
      },
      {
        "duration": 15,
        "start_time": "2022-08-25T15:49:24.133Z"
      },
      {
        "duration": 12,
        "start_time": "2022-08-25T15:49:24.150Z"
      },
      {
        "duration": 51,
        "start_time": "2022-08-25T15:49:24.164Z"
      },
      {
        "duration": 9,
        "start_time": "2022-08-25T15:49:24.217Z"
      },
      {
        "duration": 25,
        "start_time": "2022-08-25T15:49:24.228Z"
      },
      {
        "duration": 41,
        "start_time": "2022-08-25T15:49:24.254Z"
      },
      {
        "duration": 16,
        "start_time": "2022-08-25T15:49:24.297Z"
      },
      {
        "duration": 6,
        "start_time": "2022-08-25T15:49:24.315Z"
      },
      {
        "duration": 15,
        "start_time": "2022-08-25T15:49:24.323Z"
      },
      {
        "duration": 25,
        "start_time": "2022-08-25T15:49:24.340Z"
      },
      {
        "duration": 41,
        "start_time": "2022-08-25T15:49:24.367Z"
      },
      {
        "duration": 16,
        "start_time": "2022-08-25T15:49:24.413Z"
      },
      {
        "duration": 443,
        "start_time": "2022-08-25T15:49:24.430Z"
      },
      {
        "duration": 8,
        "start_time": "2022-08-25T15:49:24.875Z"
      },
      {
        "duration": 183,
        "start_time": "2022-08-25T15:49:24.885Z"
      },
      {
        "duration": 28,
        "start_time": "2022-08-25T15:49:25.070Z"
      },
      {
        "duration": 238,
        "start_time": "2022-08-25T15:49:25.099Z"
      },
      {
        "duration": 12,
        "start_time": "2022-08-25T15:49:25.339Z"
      },
      {
        "duration": 208,
        "start_time": "2022-08-25T15:49:25.353Z"
      },
      {
        "duration": 51,
        "start_time": "2022-08-25T15:49:25.563Z"
      },
      {
        "duration": 328,
        "start_time": "2022-08-25T15:49:25.616Z"
      },
      {
        "duration": 397,
        "start_time": "2022-08-25T15:49:25.946Z"
      },
      {
        "duration": 209,
        "start_time": "2022-08-25T15:49:26.344Z"
      },
      {
        "duration": 10,
        "start_time": "2022-08-25T15:49:26.555Z"
      },
      {
        "duration": 8,
        "start_time": "2022-08-25T15:49:26.566Z"
      },
      {
        "duration": 159,
        "start_time": "2022-08-25T15:49:26.575Z"
      },
      {
        "duration": 19,
        "start_time": "2022-08-25T15:49:26.735Z"
      },
      {
        "duration": 16,
        "start_time": "2022-08-25T15:49:26.756Z"
      },
      {
        "duration": 227,
        "start_time": "2022-08-25T15:49:26.773Z"
      },
      {
        "duration": 2890,
        "start_time": "2022-08-25T15:49:27.002Z"
      },
      {
        "duration": 194,
        "start_time": "2022-08-25T15:49:29.894Z"
      },
      {
        "duration": 5,
        "start_time": "2022-08-25T15:49:30.093Z"
      },
      {
        "duration": 39,
        "start_time": "2022-08-25T15:49:30.100Z"
      },
      {
        "duration": 29,
        "start_time": "2022-08-25T15:49:30.141Z"
      },
      {
        "duration": 16,
        "start_time": "2022-08-25T15:49:30.192Z"
      },
      {
        "duration": 17,
        "start_time": "2022-08-25T15:49:30.210Z"
      },
      {
        "duration": 16,
        "start_time": "2022-08-25T15:49:30.229Z"
      },
      {
        "duration": 60,
        "start_time": "2022-08-25T15:49:30.248Z"
      },
      {
        "duration": 16,
        "start_time": "2022-08-25T15:49:30.312Z"
      },
      {
        "duration": 278,
        "start_time": "2022-08-25T15:49:30.330Z"
      },
      {
        "duration": 17,
        "start_time": "2022-08-25T15:49:30.610Z"
      },
      {
        "duration": 221,
        "start_time": "2022-08-25T15:49:30.629Z"
      },
      {
        "duration": 46,
        "start_time": "2022-08-25T16:33:48.914Z"
      },
      {
        "duration": 1629,
        "start_time": "2022-08-25T16:34:16.590Z"
      },
      {
        "duration": 269,
        "start_time": "2022-08-25T16:34:18.221Z"
      },
      {
        "duration": 20,
        "start_time": "2022-08-25T16:34:18.493Z"
      },
      {
        "duration": 19,
        "start_time": "2022-08-25T16:34:18.516Z"
      },
      {
        "duration": 86,
        "start_time": "2022-08-25T16:34:18.538Z"
      },
      {
        "duration": 14,
        "start_time": "2022-08-25T16:34:18.626Z"
      },
      {
        "duration": 31,
        "start_time": "2022-08-25T16:34:18.642Z"
      },
      {
        "duration": 51,
        "start_time": "2022-08-25T16:34:18.675Z"
      },
      {
        "duration": 21,
        "start_time": "2022-08-25T16:34:18.728Z"
      },
      {
        "duration": 7,
        "start_time": "2022-08-25T16:34:18.752Z"
      },
      {
        "duration": 14,
        "start_time": "2022-08-25T16:34:18.761Z"
      },
      {
        "duration": 43,
        "start_time": "2022-08-25T16:34:18.777Z"
      },
      {
        "duration": 19,
        "start_time": "2022-08-25T16:34:18.822Z"
      },
      {
        "duration": 12,
        "start_time": "2022-08-25T16:34:18.845Z"
      },
      {
        "duration": 419,
        "start_time": "2022-08-25T16:34:18.859Z"
      },
      {
        "duration": 12,
        "start_time": "2022-08-25T16:34:19.280Z"
      },
      {
        "duration": 182,
        "start_time": "2022-08-25T16:34:19.293Z"
      },
      {
        "duration": 32,
        "start_time": "2022-08-25T16:34:19.478Z"
      },
      {
        "duration": 236,
        "start_time": "2022-08-25T16:34:19.512Z"
      },
      {
        "duration": 12,
        "start_time": "2022-08-25T16:34:19.750Z"
      },
      {
        "duration": 212,
        "start_time": "2022-08-25T16:34:19.764Z"
      },
      {
        "duration": 39,
        "start_time": "2022-08-25T16:34:19.977Z"
      },
      {
        "duration": 343,
        "start_time": "2022-08-25T16:34:20.018Z"
      },
      {
        "duration": 374,
        "start_time": "2022-08-25T16:34:20.363Z"
      },
      {
        "duration": 228,
        "start_time": "2022-08-25T16:34:20.739Z"
      },
      {
        "duration": 18,
        "start_time": "2022-08-25T16:34:20.969Z"
      },
      {
        "duration": 11,
        "start_time": "2022-08-25T16:34:20.988Z"
      },
      {
        "duration": 141,
        "start_time": "2022-08-25T16:34:21.003Z"
      },
      {
        "duration": 27,
        "start_time": "2022-08-25T16:34:21.147Z"
      },
      {
        "duration": 36,
        "start_time": "2022-08-25T16:34:21.176Z"
      },
      {
        "duration": 200,
        "start_time": "2022-08-25T16:34:21.213Z"
      },
      {
        "duration": 2994,
        "start_time": "2022-08-25T16:34:21.415Z"
      },
      {
        "duration": 204,
        "start_time": "2022-08-25T16:34:24.411Z"
      },
      {
        "duration": 5,
        "start_time": "2022-08-25T16:34:24.617Z"
      },
      {
        "duration": 47,
        "start_time": "2022-08-25T16:34:24.624Z"
      },
      {
        "duration": 46,
        "start_time": "2022-08-25T16:34:24.673Z"
      },
      {
        "duration": 22,
        "start_time": "2022-08-25T16:34:24.721Z"
      },
      {
        "duration": 19,
        "start_time": "2022-08-25T16:34:24.746Z"
      },
      {
        "duration": 42,
        "start_time": "2022-08-25T16:34:24.767Z"
      },
      {
        "duration": 60,
        "start_time": "2022-08-25T16:34:24.812Z"
      },
      {
        "duration": 33,
        "start_time": "2022-08-25T16:34:24.878Z"
      },
      {
        "duration": 337,
        "start_time": "2022-08-25T16:34:24.913Z"
      },
      {
        "duration": 17,
        "start_time": "2022-08-25T16:34:25.252Z"
      },
      {
        "duration": 214,
        "start_time": "2022-08-25T16:34:25.272Z"
      },
      {
        "duration": 262,
        "start_time": "2022-08-25T16:35:12.475Z"
      },
      {
        "duration": 253,
        "start_time": "2022-08-25T16:35:18.100Z"
      },
      {
        "duration": 190,
        "start_time": "2022-08-25T16:36:19.409Z"
      },
      {
        "duration": 252,
        "start_time": "2022-08-25T16:36:22.689Z"
      },
      {
        "duration": 211,
        "start_time": "2022-08-26T11:43:30.138Z"
      },
      {
        "duration": 86,
        "start_time": "2022-08-26T11:43:58.710Z"
      },
      {
        "duration": 46,
        "start_time": "2022-08-26T11:44:43.694Z"
      },
      {
        "duration": 1323,
        "start_time": "2022-08-26T11:44:46.308Z"
      },
      {
        "duration": 67,
        "start_time": "2022-08-26T11:44:47.633Z"
      },
      {
        "duration": 15,
        "start_time": "2022-08-26T11:44:47.702Z"
      },
      {
        "duration": 28,
        "start_time": "2022-08-26T11:44:47.720Z"
      },
      {
        "duration": 36,
        "start_time": "2022-08-26T11:44:47.750Z"
      },
      {
        "duration": 16,
        "start_time": "2022-08-26T11:44:47.788Z"
      },
      {
        "duration": 23,
        "start_time": "2022-08-26T11:44:47.806Z"
      },
      {
        "duration": 16,
        "start_time": "2022-08-26T11:44:47.831Z"
      },
      {
        "duration": 15,
        "start_time": "2022-08-26T11:44:47.849Z"
      },
      {
        "duration": 6,
        "start_time": "2022-08-26T11:44:47.866Z"
      },
      {
        "duration": 10,
        "start_time": "2022-08-26T11:44:47.903Z"
      },
      {
        "duration": 15,
        "start_time": "2022-08-26T11:44:47.915Z"
      },
      {
        "duration": 13,
        "start_time": "2022-08-26T11:44:47.932Z"
      },
      {
        "duration": 12,
        "start_time": "2022-08-26T11:44:47.947Z"
      },
      {
        "duration": 408,
        "start_time": "2022-08-26T11:44:47.961Z"
      },
      {
        "duration": 11,
        "start_time": "2022-08-26T11:44:48.371Z"
      },
      {
        "duration": 189,
        "start_time": "2022-08-26T11:44:48.384Z"
      },
      {
        "duration": 29,
        "start_time": "2022-08-26T11:44:48.575Z"
      },
      {
        "duration": 230,
        "start_time": "2022-08-26T11:44:48.606Z"
      },
      {
        "duration": 11,
        "start_time": "2022-08-26T11:44:48.838Z"
      },
      {
        "duration": 257,
        "start_time": "2022-08-26T11:44:48.851Z"
      },
      {
        "duration": 37,
        "start_time": "2022-08-26T11:44:49.110Z"
      },
      {
        "duration": 338,
        "start_time": "2022-08-26T11:44:49.148Z"
      },
      {
        "duration": 386,
        "start_time": "2022-08-26T11:44:49.488Z"
      },
      {
        "duration": 218,
        "start_time": "2022-08-26T11:44:49.875Z"
      },
      {
        "duration": 12,
        "start_time": "2022-08-26T11:44:50.095Z"
      },
      {
        "duration": 10,
        "start_time": "2022-08-26T11:44:50.109Z"
      },
      {
        "duration": 150,
        "start_time": "2022-08-26T11:44:50.123Z"
      },
      {
        "duration": 29,
        "start_time": "2022-08-26T11:44:50.275Z"
      },
      {
        "duration": 13,
        "start_time": "2022-08-26T11:44:50.305Z"
      },
      {
        "duration": 229,
        "start_time": "2022-08-26T11:44:50.319Z"
      },
      {
        "duration": 3295,
        "start_time": "2022-08-26T11:44:50.549Z"
      },
      {
        "duration": 183,
        "start_time": "2022-08-26T11:44:53.846Z"
      },
      {
        "duration": 4,
        "start_time": "2022-08-26T11:44:54.031Z"
      },
      {
        "duration": 31,
        "start_time": "2022-08-26T11:44:54.037Z"
      },
      {
        "duration": 44,
        "start_time": "2022-08-26T11:44:54.070Z"
      },
      {
        "duration": 14,
        "start_time": "2022-08-26T11:44:54.115Z"
      },
      {
        "duration": 19,
        "start_time": "2022-08-26T11:44:54.131Z"
      },
      {
        "duration": 12,
        "start_time": "2022-08-26T11:44:54.152Z"
      },
      {
        "duration": 52,
        "start_time": "2022-08-26T11:44:54.167Z"
      },
      {
        "duration": 15,
        "start_time": "2022-08-26T11:44:54.221Z"
      },
      {
        "duration": 302,
        "start_time": "2022-08-26T11:44:54.238Z"
      },
      {
        "duration": 16,
        "start_time": "2022-08-26T11:44:54.541Z"
      },
      {
        "duration": 220,
        "start_time": "2022-08-26T11:44:54.559Z"
      },
      {
        "duration": 178,
        "start_time": "2022-08-26T11:45:13.334Z"
      },
      {
        "duration": 192,
        "start_time": "2022-08-26T11:47:02.273Z"
      },
      {
        "duration": 139,
        "start_time": "2022-08-26T11:47:08.217Z"
      },
      {
        "duration": 171,
        "start_time": "2022-08-26T11:47:39.862Z"
      },
      {
        "duration": 179,
        "start_time": "2022-08-26T11:47:55.632Z"
      },
      {
        "duration": 221,
        "start_time": "2022-08-26T11:48:33.365Z"
      },
      {
        "duration": 155,
        "start_time": "2022-08-26T11:48:36.134Z"
      },
      {
        "duration": 233,
        "start_time": "2022-08-26T11:48:41.803Z"
      },
      {
        "duration": 167,
        "start_time": "2022-08-26T11:48:46.844Z"
      },
      {
        "duration": 162,
        "start_time": "2022-08-26T11:48:53.193Z"
      },
      {
        "duration": 136,
        "start_time": "2022-08-26T11:51:41.934Z"
      },
      {
        "duration": 31,
        "start_time": "2022-08-26T11:54:11.730Z"
      },
      {
        "duration": 475,
        "start_time": "2022-08-26T11:54:32.804Z"
      },
      {
        "duration": 502,
        "start_time": "2022-08-26T11:57:30.875Z"
      },
      {
        "duration": 543,
        "start_time": "2022-08-26T11:57:32.644Z"
      },
      {
        "duration": 41,
        "start_time": "2022-08-26T12:25:42.394Z"
      },
      {
        "duration": 1397,
        "start_time": "2022-08-26T12:25:47.194Z"
      },
      {
        "duration": 113,
        "start_time": "2022-08-26T12:25:48.593Z"
      },
      {
        "duration": 13,
        "start_time": "2022-08-26T12:25:48.708Z"
      },
      {
        "duration": 15,
        "start_time": "2022-08-26T12:25:48.723Z"
      },
      {
        "duration": 32,
        "start_time": "2022-08-26T12:25:48.740Z"
      },
      {
        "duration": 8,
        "start_time": "2022-08-26T12:25:48.774Z"
      },
      {
        "duration": 44,
        "start_time": "2022-08-26T12:25:48.783Z"
      },
      {
        "duration": 14,
        "start_time": "2022-08-26T12:25:48.829Z"
      },
      {
        "duration": 13,
        "start_time": "2022-08-26T12:25:48.845Z"
      },
      {
        "duration": 6,
        "start_time": "2022-08-26T12:25:48.860Z"
      },
      {
        "duration": 10,
        "start_time": "2022-08-26T12:25:48.867Z"
      },
      {
        "duration": 39,
        "start_time": "2022-08-26T12:25:48.879Z"
      },
      {
        "duration": 12,
        "start_time": "2022-08-26T12:25:48.919Z"
      },
      {
        "duration": 11,
        "start_time": "2022-08-26T12:25:48.933Z"
      },
      {
        "duration": 351,
        "start_time": "2022-08-26T12:25:48.946Z"
      },
      {
        "duration": 9,
        "start_time": "2022-08-26T12:25:49.299Z"
      },
      {
        "duration": 174,
        "start_time": "2022-08-26T12:25:49.309Z"
      },
      {
        "duration": 134,
        "start_time": "2022-08-26T12:25:49.485Z"
      },
      {
        "duration": 16,
        "start_time": "2022-08-26T12:25:49.621Z"
      },
      {
        "duration": 206,
        "start_time": "2022-08-26T12:25:49.638Z"
      },
      {
        "duration": 404,
        "start_time": "2022-08-26T12:25:49.845Z"
      },
      {
        "duration": 11,
        "start_time": "2022-08-26T12:25:50.250Z"
      },
      {
        "duration": 177,
        "start_time": "2022-08-26T12:25:50.263Z"
      },
      {
        "duration": 26,
        "start_time": "2022-08-26T12:25:50.442Z"
      },
      {
        "duration": 341,
        "start_time": "2022-08-26T12:25:50.470Z"
      },
      {
        "duration": 261,
        "start_time": "2022-08-26T12:25:50.813Z"
      },
      {
        "duration": 182,
        "start_time": "2022-08-26T12:25:51.076Z"
      },
      {
        "duration": 9,
        "start_time": "2022-08-26T12:25:51.259Z"
      },
      {
        "duration": 5,
        "start_time": "2022-08-26T12:25:51.270Z"
      },
      {
        "duration": 137,
        "start_time": "2022-08-26T12:25:51.276Z"
      },
      {
        "duration": 15,
        "start_time": "2022-08-26T12:25:51.415Z"
      },
      {
        "duration": 12,
        "start_time": "2022-08-26T12:25:51.431Z"
      },
      {
        "duration": 185,
        "start_time": "2022-08-26T12:25:51.445Z"
      },
      {
        "duration": 3439,
        "start_time": "2022-08-26T12:25:51.631Z"
      },
      {
        "duration": 164,
        "start_time": "2022-08-26T12:25:55.072Z"
      },
      {
        "duration": 4,
        "start_time": "2022-08-26T12:25:55.237Z"
      },
      {
        "duration": 26,
        "start_time": "2022-08-26T12:25:55.242Z"
      },
      {
        "duration": 1285,
        "start_time": "2022-08-26T12:25:55.269Z"
      },
      {
        "duration": 0,
        "start_time": "2022-08-26T12:25:56.556Z"
      },
      {
        "duration": 0,
        "start_time": "2022-08-26T12:25:56.558Z"
      },
      {
        "duration": 0,
        "start_time": "2022-08-26T12:25:56.559Z"
      },
      {
        "duration": 0,
        "start_time": "2022-08-26T12:25:56.560Z"
      },
      {
        "duration": 0,
        "start_time": "2022-08-26T12:25:56.561Z"
      },
      {
        "duration": 0,
        "start_time": "2022-08-26T12:25:56.562Z"
      },
      {
        "duration": 0,
        "start_time": "2022-08-26T12:25:56.563Z"
      },
      {
        "duration": 0,
        "start_time": "2022-08-26T12:25:56.564Z"
      },
      {
        "duration": 0,
        "start_time": "2022-08-26T12:25:56.564Z"
      },
      {
        "duration": 1235,
        "start_time": "2022-08-26T12:26:26.381Z"
      },
      {
        "duration": 65,
        "start_time": "2022-08-26T12:26:27.618Z"
      },
      {
        "duration": 13,
        "start_time": "2022-08-26T12:26:27.685Z"
      },
      {
        "duration": 20,
        "start_time": "2022-08-26T12:26:27.700Z"
      },
      {
        "duration": 32,
        "start_time": "2022-08-26T12:26:27.722Z"
      },
      {
        "duration": 15,
        "start_time": "2022-08-26T12:26:27.755Z"
      },
      {
        "duration": 22,
        "start_time": "2022-08-26T12:26:27.772Z"
      },
      {
        "duration": 22,
        "start_time": "2022-08-26T12:26:27.796Z"
      },
      {
        "duration": 14,
        "start_time": "2022-08-26T12:26:27.819Z"
      },
      {
        "duration": 5,
        "start_time": "2022-08-26T12:26:27.836Z"
      },
      {
        "duration": 13,
        "start_time": "2022-08-26T12:26:27.842Z"
      },
      {
        "duration": 18,
        "start_time": "2022-08-26T12:26:27.856Z"
      },
      {
        "duration": 39,
        "start_time": "2022-08-26T12:26:27.875Z"
      },
      {
        "duration": 11,
        "start_time": "2022-08-26T12:26:27.916Z"
      },
      {
        "duration": 351,
        "start_time": "2022-08-26T12:26:27.929Z"
      },
      {
        "duration": 8,
        "start_time": "2022-08-26T12:26:28.282Z"
      },
      {
        "duration": 163,
        "start_time": "2022-08-26T12:26:28.291Z"
      },
      {
        "duration": 145,
        "start_time": "2022-08-26T12:26:28.455Z"
      },
      {
        "duration": 19,
        "start_time": "2022-08-26T12:26:28.602Z"
      },
      {
        "duration": 217,
        "start_time": "2022-08-26T12:26:28.622Z"
      },
      {
        "duration": 443,
        "start_time": "2022-08-26T12:26:28.841Z"
      },
      {
        "duration": 9,
        "start_time": "2022-08-26T12:26:29.286Z"
      },
      {
        "duration": 179,
        "start_time": "2022-08-26T12:26:29.306Z"
      },
      {
        "duration": 43,
        "start_time": "2022-08-26T12:26:29.487Z"
      },
      {
        "duration": 391,
        "start_time": "2022-08-26T12:26:29.532Z"
      },
      {
        "duration": 300,
        "start_time": "2022-08-26T12:26:29.925Z"
      },
      {
        "duration": 192,
        "start_time": "2022-08-26T12:26:30.227Z"
      },
      {
        "duration": 10,
        "start_time": "2022-08-26T12:26:30.422Z"
      },
      {
        "duration": 11,
        "start_time": "2022-08-26T12:26:30.434Z"
      },
      {
        "duration": 128,
        "start_time": "2022-08-26T12:26:30.446Z"
      },
      {
        "duration": 30,
        "start_time": "2022-08-26T12:26:30.576Z"
      },
      {
        "duration": 15,
        "start_time": "2022-08-26T12:26:30.608Z"
      },
      {
        "duration": 204,
        "start_time": "2022-08-26T12:26:30.624Z"
      },
      {
        "duration": 1883,
        "start_time": "2022-08-26T12:26:30.829Z"
      },
      {
        "duration": 159,
        "start_time": "2022-08-26T12:26:32.713Z"
      },
      {
        "duration": 4,
        "start_time": "2022-08-26T12:26:32.873Z"
      },
      {
        "duration": 30,
        "start_time": "2022-08-26T12:26:32.878Z"
      },
      {
        "duration": 1343,
        "start_time": "2022-08-26T12:26:32.910Z"
      },
      {
        "duration": 0,
        "start_time": "2022-08-26T12:26:34.255Z"
      },
      {
        "duration": 1,
        "start_time": "2022-08-26T12:26:34.256Z"
      },
      {
        "duration": 0,
        "start_time": "2022-08-26T12:26:34.258Z"
      },
      {
        "duration": 0,
        "start_time": "2022-08-26T12:26:34.260Z"
      },
      {
        "duration": 0,
        "start_time": "2022-08-26T12:26:34.261Z"
      },
      {
        "duration": 0,
        "start_time": "2022-08-26T12:26:34.262Z"
      },
      {
        "duration": 0,
        "start_time": "2022-08-26T12:26:34.264Z"
      },
      {
        "duration": 0,
        "start_time": "2022-08-26T12:26:34.265Z"
      },
      {
        "duration": 0,
        "start_time": "2022-08-26T12:26:34.267Z"
      },
      {
        "duration": 6,
        "start_time": "2022-08-26T12:26:54.705Z"
      },
      {
        "duration": 5,
        "start_time": "2022-08-26T12:27:07.974Z"
      },
      {
        "duration": 18,
        "start_time": "2022-08-26T12:27:46.141Z"
      },
      {
        "duration": 11,
        "start_time": "2022-08-26T12:27:57.208Z"
      },
      {
        "duration": 11,
        "start_time": "2022-08-26T12:28:37.114Z"
      },
      {
        "duration": 10,
        "start_time": "2022-08-26T12:28:46.835Z"
      },
      {
        "duration": 1163,
        "start_time": "2022-08-26T12:28:52.496Z"
      },
      {
        "duration": 61,
        "start_time": "2022-08-26T12:28:53.661Z"
      },
      {
        "duration": 11,
        "start_time": "2022-08-26T12:28:53.726Z"
      },
      {
        "duration": 11,
        "start_time": "2022-08-26T12:28:53.738Z"
      },
      {
        "duration": 33,
        "start_time": "2022-08-26T12:28:53.750Z"
      },
      {
        "duration": 7,
        "start_time": "2022-08-26T12:28:53.785Z"
      },
      {
        "duration": 28,
        "start_time": "2022-08-26T12:28:53.794Z"
      },
      {
        "duration": 14,
        "start_time": "2022-08-26T12:28:53.823Z"
      },
      {
        "duration": 12,
        "start_time": "2022-08-26T12:28:53.840Z"
      },
      {
        "duration": 4,
        "start_time": "2022-08-26T12:28:53.853Z"
      },
      {
        "duration": 13,
        "start_time": "2022-08-26T12:28:53.858Z"
      },
      {
        "duration": 42,
        "start_time": "2022-08-26T12:28:53.873Z"
      },
      {
        "duration": 12,
        "start_time": "2022-08-26T12:28:53.917Z"
      },
      {
        "duration": 22,
        "start_time": "2022-08-26T12:28:53.930Z"
      },
      {
        "duration": 335,
        "start_time": "2022-08-26T12:28:53.953Z"
      },
      {
        "duration": 9,
        "start_time": "2022-08-26T12:28:54.290Z"
      },
      {
        "duration": 168,
        "start_time": "2022-08-26T12:28:54.300Z"
      },
      {
        "duration": 128,
        "start_time": "2022-08-26T12:28:54.469Z"
      },
      {
        "duration": 20,
        "start_time": "2022-08-26T12:28:54.598Z"
      },
      {
        "duration": 194,
        "start_time": "2022-08-26T12:28:54.619Z"
      },
      {
        "duration": 398,
        "start_time": "2022-08-26T12:28:54.815Z"
      },
      {
        "duration": 9,
        "start_time": "2022-08-26T12:28:55.215Z"
      },
      {
        "duration": 169,
        "start_time": "2022-08-26T12:28:55.226Z"
      },
      {
        "duration": 34,
        "start_time": "2022-08-26T12:28:55.397Z"
      },
      {
        "duration": 337,
        "start_time": "2022-08-26T12:28:55.432Z"
      },
      {
        "duration": 274,
        "start_time": "2022-08-26T12:28:55.771Z"
      },
      {
        "duration": 253,
        "start_time": "2022-08-26T12:28:56.050Z"
      },
      {
        "duration": 10,
        "start_time": "2022-08-26T12:28:56.304Z"
      },
      {
        "duration": 7,
        "start_time": "2022-08-26T12:28:56.315Z"
      },
      {
        "duration": 133,
        "start_time": "2022-08-26T12:28:56.325Z"
      },
      {
        "duration": 19,
        "start_time": "2022-08-26T12:28:56.459Z"
      },
      {
        "duration": 41,
        "start_time": "2022-08-26T12:28:56.480Z"
      },
      {
        "duration": 199,
        "start_time": "2022-08-26T12:28:56.522Z"
      },
      {
        "duration": 1999,
        "start_time": "2022-08-26T12:28:56.723Z"
      },
      {
        "duration": 315,
        "start_time": "2022-08-26T12:28:58.723Z"
      },
      {
        "duration": 3,
        "start_time": "2022-08-26T12:28:59.040Z"
      },
      {
        "duration": 83,
        "start_time": "2022-08-26T12:28:59.045Z"
      },
      {
        "duration": 13,
        "start_time": "2022-08-26T12:28:59.130Z"
      },
      {
        "duration": 66,
        "start_time": "2022-08-26T12:28:59.144Z"
      },
      {
        "duration": 20,
        "start_time": "2022-08-26T12:28:59.212Z"
      },
      {
        "duration": 12,
        "start_time": "2022-08-26T12:28:59.234Z"
      },
      {
        "duration": 67,
        "start_time": "2022-08-26T12:28:59.247Z"
      },
      {
        "duration": 9,
        "start_time": "2022-08-26T12:28:59.316Z"
      },
      {
        "duration": 29,
        "start_time": "2022-08-26T12:28:59.326Z"
      },
      {
        "duration": 13,
        "start_time": "2022-08-26T12:28:59.406Z"
      },
      {
        "duration": 508,
        "start_time": "2022-08-26T12:28:59.421Z"
      },
      {
        "duration": 14,
        "start_time": "2022-08-26T12:28:59.930Z"
      },
      {
        "duration": 409,
        "start_time": "2022-08-26T12:28:59.946Z"
      },
      {
        "duration": 15,
        "start_time": "2022-08-26T12:29:08.294Z"
      },
      {
        "duration": 17,
        "start_time": "2022-08-26T12:29:43.005Z"
      },
      {
        "duration": 1142,
        "start_time": "2022-08-26T12:29:52.721Z"
      },
      {
        "duration": 61,
        "start_time": "2022-08-26T12:29:53.865Z"
      },
      {
        "duration": 12,
        "start_time": "2022-08-26T12:29:53.927Z"
      },
      {
        "duration": 14,
        "start_time": "2022-08-26T12:29:53.941Z"
      },
      {
        "duration": 29,
        "start_time": "2022-08-26T12:29:53.956Z"
      },
      {
        "duration": 23,
        "start_time": "2022-08-26T12:29:53.987Z"
      },
      {
        "duration": 25,
        "start_time": "2022-08-26T12:29:54.012Z"
      },
      {
        "duration": 16,
        "start_time": "2022-08-26T12:29:54.039Z"
      },
      {
        "duration": 13,
        "start_time": "2022-08-26T12:29:54.057Z"
      },
      {
        "duration": 5,
        "start_time": "2022-08-26T12:29:54.072Z"
      },
      {
        "duration": 31,
        "start_time": "2022-08-26T12:29:54.079Z"
      },
      {
        "duration": 13,
        "start_time": "2022-08-26T12:29:54.112Z"
      },
      {
        "duration": 12,
        "start_time": "2022-08-26T12:29:54.127Z"
      },
      {
        "duration": 10,
        "start_time": "2022-08-26T12:29:54.140Z"
      },
      {
        "duration": 332,
        "start_time": "2022-08-26T12:29:54.152Z"
      },
      {
        "duration": 10,
        "start_time": "2022-08-26T12:29:54.486Z"
      },
      {
        "duration": 151,
        "start_time": "2022-08-26T12:29:54.497Z"
      },
      {
        "duration": 131,
        "start_time": "2022-08-26T12:29:54.650Z"
      },
      {
        "duration": 23,
        "start_time": "2022-08-26T12:29:54.783Z"
      },
      {
        "duration": 190,
        "start_time": "2022-08-26T12:29:54.808Z"
      },
      {
        "duration": 403,
        "start_time": "2022-08-26T12:29:55.005Z"
      },
      {
        "duration": 9,
        "start_time": "2022-08-26T12:29:55.409Z"
      },
      {
        "duration": 171,
        "start_time": "2022-08-26T12:29:55.419Z"
      },
      {
        "duration": 37,
        "start_time": "2022-08-26T12:29:55.591Z"
      },
      {
        "duration": 347,
        "start_time": "2022-08-26T12:29:55.630Z"
      },
      {
        "duration": 332,
        "start_time": "2022-08-26T12:29:55.979Z"
      },
      {
        "duration": 183,
        "start_time": "2022-08-26T12:29:56.313Z"
      },
      {
        "duration": 9,
        "start_time": "2022-08-26T12:29:56.505Z"
      },
      {
        "duration": 5,
        "start_time": "2022-08-26T12:29:56.515Z"
      },
      {
        "duration": 146,
        "start_time": "2022-08-26T12:29:56.523Z"
      },
      {
        "duration": 16,
        "start_time": "2022-08-26T12:29:56.671Z"
      },
      {
        "duration": 27,
        "start_time": "2022-08-26T12:29:56.688Z"
      },
      {
        "duration": 190,
        "start_time": "2022-08-26T12:29:56.717Z"
      },
      {
        "duration": 1884,
        "start_time": "2022-08-26T12:29:56.910Z"
      },
      {
        "duration": 157,
        "start_time": "2022-08-26T12:29:58.796Z"
      },
      {
        "duration": 4,
        "start_time": "2022-08-26T12:29:58.954Z"
      },
      {
        "duration": 38,
        "start_time": "2022-08-26T12:29:58.960Z"
      },
      {
        "duration": 33,
        "start_time": "2022-08-26T12:29:58.999Z"
      },
      {
        "duration": 34,
        "start_time": "2022-08-26T12:29:59.034Z"
      },
      {
        "duration": 24,
        "start_time": "2022-08-26T12:29:59.070Z"
      },
      {
        "duration": 37,
        "start_time": "2022-08-26T12:29:59.105Z"
      },
      {
        "duration": 37,
        "start_time": "2022-08-26T12:29:59.143Z"
      },
      {
        "duration": 11,
        "start_time": "2022-08-26T12:29:59.182Z"
      },
      {
        "duration": 35,
        "start_time": "2022-08-26T12:29:59.195Z"
      },
      {
        "duration": 12,
        "start_time": "2022-08-26T12:29:59.231Z"
      },
      {
        "duration": 233,
        "start_time": "2022-08-26T12:29:59.245Z"
      },
      {
        "duration": 14,
        "start_time": "2022-08-26T12:29:59.479Z"
      },
      {
        "duration": 187,
        "start_time": "2022-08-26T12:29:59.494Z"
      },
      {
        "duration": 109,
        "start_time": "2022-08-26T12:30:25.336Z"
      },
      {
        "duration": 15,
        "start_time": "2022-08-26T12:30:46.551Z"
      },
      {
        "duration": 1181,
        "start_time": "2022-08-26T12:31:55.336Z"
      },
      {
        "duration": 63,
        "start_time": "2022-08-26T12:31:56.519Z"
      },
      {
        "duration": 12,
        "start_time": "2022-08-26T12:31:56.583Z"
      },
      {
        "duration": 13,
        "start_time": "2022-08-26T12:31:56.596Z"
      },
      {
        "duration": 31,
        "start_time": "2022-08-26T12:31:56.611Z"
      },
      {
        "duration": 9,
        "start_time": "2022-08-26T12:31:56.643Z"
      },
      {
        "duration": 20,
        "start_time": "2022-08-26T12:31:56.653Z"
      },
      {
        "duration": 33,
        "start_time": "2022-08-26T12:31:56.675Z"
      },
      {
        "duration": 15,
        "start_time": "2022-08-26T12:31:56.709Z"
      },
      {
        "duration": 5,
        "start_time": "2022-08-26T12:31:56.725Z"
      },
      {
        "duration": 11,
        "start_time": "2022-08-26T12:31:56.731Z"
      },
      {
        "duration": 16,
        "start_time": "2022-08-26T12:31:56.743Z"
      },
      {
        "duration": 12,
        "start_time": "2022-08-26T12:31:56.760Z"
      },
      {
        "duration": 10,
        "start_time": "2022-08-26T12:31:56.805Z"
      },
      {
        "duration": 328,
        "start_time": "2022-08-26T12:31:56.816Z"
      },
      {
        "duration": 9,
        "start_time": "2022-08-26T12:31:57.146Z"
      },
      {
        "duration": 153,
        "start_time": "2022-08-26T12:31:57.156Z"
      },
      {
        "duration": 125,
        "start_time": "2022-08-26T12:31:57.311Z"
      },
      {
        "duration": 15,
        "start_time": "2022-08-26T12:31:57.437Z"
      },
      {
        "duration": 197,
        "start_time": "2022-08-26T12:31:57.453Z"
      },
      {
        "duration": 424,
        "start_time": "2022-08-26T12:31:57.651Z"
      },
      {
        "duration": 9,
        "start_time": "2022-08-26T12:31:58.077Z"
      },
      {
        "duration": 175,
        "start_time": "2022-08-26T12:31:58.088Z"
      },
      {
        "duration": 28,
        "start_time": "2022-08-26T12:31:58.264Z"
      },
      {
        "duration": 347,
        "start_time": "2022-08-26T12:31:58.294Z"
      },
      {
        "duration": 266,
        "start_time": "2022-08-26T12:31:58.642Z"
      },
      {
        "duration": 184,
        "start_time": "2022-08-26T12:31:58.909Z"
      },
      {
        "duration": 13,
        "start_time": "2022-08-26T12:31:59.094Z"
      },
      {
        "duration": 3,
        "start_time": "2022-08-26T12:31:59.109Z"
      },
      {
        "duration": 128,
        "start_time": "2022-08-26T12:31:59.114Z"
      },
      {
        "duration": 15,
        "start_time": "2022-08-26T12:31:59.244Z"
      },
      {
        "duration": 11,
        "start_time": "2022-08-26T12:31:59.260Z"
      },
      {
        "duration": 196,
        "start_time": "2022-08-26T12:31:59.273Z"
      },
      {
        "duration": 1947,
        "start_time": "2022-08-26T12:31:59.471Z"
      },
      {
        "duration": 163,
        "start_time": "2022-08-26T12:32:01.420Z"
      },
      {
        "duration": 4,
        "start_time": "2022-08-26T12:32:01.585Z"
      },
      {
        "duration": 33,
        "start_time": "2022-08-26T12:32:01.590Z"
      },
      {
        "duration": 12,
        "start_time": "2022-08-26T12:32:01.625Z"
      },
      {
        "duration": 43,
        "start_time": "2022-08-26T12:32:01.638Z"
      },
      {
        "duration": 79,
        "start_time": "2022-08-26T12:32:01.683Z"
      },
      {
        "duration": 13,
        "start_time": "2022-08-26T12:32:01.765Z"
      },
      {
        "duration": 17,
        "start_time": "2022-08-26T12:32:01.779Z"
      },
      {
        "duration": 34,
        "start_time": "2022-08-26T12:32:01.797Z"
      },
      {
        "duration": 36,
        "start_time": "2022-08-26T12:32:01.833Z"
      },
      {
        "duration": 13,
        "start_time": "2022-08-26T12:32:01.871Z"
      },
      {
        "duration": 243,
        "start_time": "2022-08-26T12:32:01.885Z"
      },
      {
        "duration": 14,
        "start_time": "2022-08-26T12:32:02.130Z"
      },
      {
        "duration": 184,
        "start_time": "2022-08-26T12:32:02.145Z"
      },
      {
        "duration": 16,
        "start_time": "2022-08-26T12:40:19.305Z"
      },
      {
        "duration": 19,
        "start_time": "2022-08-26T12:40:30.687Z"
      },
      {
        "duration": 9,
        "start_time": "2022-08-26T12:41:14.065Z"
      },
      {
        "duration": 16,
        "start_time": "2022-08-26T12:41:23.396Z"
      },
      {
        "duration": 9,
        "start_time": "2022-08-26T12:41:50.989Z"
      },
      {
        "duration": 14,
        "start_time": "2022-08-26T12:41:55.844Z"
      },
      {
        "duration": 18,
        "start_time": "2022-08-26T12:45:06.475Z"
      },
      {
        "duration": 19,
        "start_time": "2022-08-26T12:45:13.398Z"
      },
      {
        "duration": 6,
        "start_time": "2022-08-26T12:56:32.242Z"
      },
      {
        "duration": 6,
        "start_time": "2022-08-26T12:56:50.669Z"
      },
      {
        "duration": 5,
        "start_time": "2022-08-26T12:58:02.723Z"
      },
      {
        "duration": 10,
        "start_time": "2022-08-26T12:58:56.354Z"
      },
      {
        "duration": 103,
        "start_time": "2022-08-26T13:13:00.181Z"
      },
      {
        "duration": 9,
        "start_time": "2022-08-26T13:13:05.369Z"
      },
      {
        "duration": 18,
        "start_time": "2022-08-26T13:13:11.431Z"
      },
      {
        "duration": 26,
        "start_time": "2022-08-26T13:14:38.795Z"
      },
      {
        "duration": 12,
        "start_time": "2022-08-26T13:14:49.358Z"
      },
      {
        "duration": 15,
        "start_time": "2022-08-26T13:17:32.133Z"
      },
      {
        "duration": 13,
        "start_time": "2022-08-26T13:17:35.387Z"
      },
      {
        "duration": 11,
        "start_time": "2022-08-26T13:18:26.365Z"
      },
      {
        "duration": 16,
        "start_time": "2022-08-26T13:21:34.064Z"
      },
      {
        "duration": 6,
        "start_time": "2022-08-26T13:21:41.248Z"
      },
      {
        "duration": 12,
        "start_time": "2022-08-26T13:21:44.217Z"
      },
      {
        "duration": 343,
        "start_time": "2022-08-26T13:22:58.587Z"
      },
      {
        "duration": 11,
        "start_time": "2022-08-26T13:23:22.852Z"
      },
      {
        "duration": 12,
        "start_time": "2022-08-26T13:24:53.823Z"
      },
      {
        "duration": 11,
        "start_time": "2022-08-26T13:28:11.600Z"
      },
      {
        "duration": 9,
        "start_time": "2022-08-26T13:28:23.431Z"
      },
      {
        "duration": 14,
        "start_time": "2022-08-26T13:28:34.455Z"
      },
      {
        "duration": 6,
        "start_time": "2022-08-26T13:28:53.050Z"
      },
      {
        "duration": 17,
        "start_time": "2022-08-26T13:29:00.692Z"
      },
      {
        "duration": 18,
        "start_time": "2022-08-26T13:30:01.257Z"
      },
      {
        "duration": 20,
        "start_time": "2022-08-26T13:30:50.908Z"
      },
      {
        "duration": 18,
        "start_time": "2022-08-26T13:31:58.475Z"
      },
      {
        "duration": 17,
        "start_time": "2022-08-26T13:33:19.951Z"
      },
      {
        "duration": 16,
        "start_time": "2022-08-26T13:33:45.356Z"
      },
      {
        "duration": 20,
        "start_time": "2022-08-26T13:35:40.873Z"
      },
      {
        "duration": 19,
        "start_time": "2022-08-26T13:35:56.981Z"
      },
      {
        "duration": 1936,
        "start_time": "2022-08-26T13:36:09.018Z"
      },
      {
        "duration": 2021,
        "start_time": "2022-08-26T13:36:32.599Z"
      },
      {
        "duration": 22,
        "start_time": "2022-08-26T13:36:50.796Z"
      },
      {
        "duration": 19,
        "start_time": "2022-08-26T13:37:16.488Z"
      },
      {
        "duration": 24,
        "start_time": "2022-08-26T13:37:37.348Z"
      },
      {
        "duration": 23,
        "start_time": "2022-08-26T13:38:10.875Z"
      },
      {
        "duration": 24,
        "start_time": "2022-08-26T13:38:24.831Z"
      },
      {
        "duration": 11,
        "start_time": "2022-08-26T13:38:41.891Z"
      },
      {
        "duration": 1205,
        "start_time": "2022-08-26T13:38:49.727Z"
      },
      {
        "duration": 65,
        "start_time": "2022-08-26T13:38:50.933Z"
      },
      {
        "duration": 12,
        "start_time": "2022-08-26T13:38:51.000Z"
      },
      {
        "duration": 12,
        "start_time": "2022-08-26T13:38:51.014Z"
      },
      {
        "duration": 33,
        "start_time": "2022-08-26T13:38:51.027Z"
      },
      {
        "duration": 9,
        "start_time": "2022-08-26T13:38:51.106Z"
      },
      {
        "duration": 21,
        "start_time": "2022-08-26T13:38:51.117Z"
      },
      {
        "duration": 68,
        "start_time": "2022-08-26T13:38:51.139Z"
      },
      {
        "duration": 13,
        "start_time": "2022-08-26T13:38:51.209Z"
      },
      {
        "duration": 4,
        "start_time": "2022-08-26T13:38:51.224Z"
      },
      {
        "duration": 9,
        "start_time": "2022-08-26T13:38:51.230Z"
      },
      {
        "duration": 14,
        "start_time": "2022-08-26T13:38:51.240Z"
      },
      {
        "duration": 60,
        "start_time": "2022-08-26T13:38:51.256Z"
      },
      {
        "duration": 15,
        "start_time": "2022-08-26T13:38:51.317Z"
      },
      {
        "duration": 378,
        "start_time": "2022-08-26T13:38:51.333Z"
      },
      {
        "duration": 8,
        "start_time": "2022-08-26T13:38:51.713Z"
      },
      {
        "duration": 162,
        "start_time": "2022-08-26T13:38:51.723Z"
      },
      {
        "duration": 126,
        "start_time": "2022-08-26T13:38:51.887Z"
      },
      {
        "duration": 16,
        "start_time": "2022-08-26T13:38:52.014Z"
      },
      {
        "duration": 200,
        "start_time": "2022-08-26T13:38:52.032Z"
      },
      {
        "duration": 406,
        "start_time": "2022-08-26T13:38:52.234Z"
      },
      {
        "duration": 8,
        "start_time": "2022-08-26T13:38:52.642Z"
      },
      {
        "duration": 179,
        "start_time": "2022-08-26T13:38:52.652Z"
      },
      {
        "duration": 18,
        "start_time": "2022-08-26T13:38:52.832Z"
      },
      {
        "duration": 4,
        "start_time": "2022-08-26T13:38:52.852Z"
      },
      {
        "duration": 6,
        "start_time": "2022-08-26T13:38:52.857Z"
      },
      {
        "duration": 12,
        "start_time": "2022-08-26T13:38:52.864Z"
      },
      {
        "duration": 37,
        "start_time": "2022-08-26T13:38:52.880Z"
      },
      {
        "duration": 6,
        "start_time": "2022-08-26T13:38:52.918Z"
      },
      {
        "duration": 14,
        "start_time": "2022-08-26T13:38:52.925Z"
      },
      {
        "duration": 21,
        "start_time": "2022-08-26T13:38:52.941Z"
      },
      {
        "duration": 44,
        "start_time": "2022-08-26T13:38:52.963Z"
      },
      {
        "duration": 334,
        "start_time": "2022-08-26T13:38:53.008Z"
      },
      {
        "duration": 269,
        "start_time": "2022-08-26T13:38:53.343Z"
      },
      {
        "duration": 180,
        "start_time": "2022-08-26T13:38:53.613Z"
      },
      {
        "duration": 11,
        "start_time": "2022-08-26T13:38:53.795Z"
      },
      {
        "duration": 10,
        "start_time": "2022-08-26T13:38:53.807Z"
      },
      {
        "duration": 133,
        "start_time": "2022-08-26T13:38:53.818Z"
      },
      {
        "duration": 14,
        "start_time": "2022-08-26T13:38:53.953Z"
      },
      {
        "duration": 11,
        "start_time": "2022-08-26T13:38:53.968Z"
      },
      {
        "duration": 187,
        "start_time": "2022-08-26T13:38:53.980Z"
      },
      {
        "duration": 3497,
        "start_time": "2022-08-26T13:38:54.168Z"
      },
      {
        "duration": 160,
        "start_time": "2022-08-26T13:38:57.667Z"
      },
      {
        "duration": 3,
        "start_time": "2022-08-26T13:38:57.829Z"
      },
      {
        "duration": 36,
        "start_time": "2022-08-26T13:38:57.833Z"
      },
      {
        "duration": 13,
        "start_time": "2022-08-26T13:38:57.871Z"
      },
      {
        "duration": 28,
        "start_time": "2022-08-26T13:38:57.886Z"
      },
      {
        "duration": 20,
        "start_time": "2022-08-26T13:38:57.915Z"
      },
      {
        "duration": 13,
        "start_time": "2022-08-26T13:38:57.936Z"
      },
      {
        "duration": 11,
        "start_time": "2022-08-26T13:38:57.950Z"
      },
      {
        "duration": 8,
        "start_time": "2022-08-26T13:38:57.962Z"
      },
      {
        "duration": 54,
        "start_time": "2022-08-26T13:38:57.971Z"
      },
      {
        "duration": 13,
        "start_time": "2022-08-26T13:38:58.026Z"
      },
      {
        "duration": 246,
        "start_time": "2022-08-26T13:38:58.040Z"
      },
      {
        "duration": 20,
        "start_time": "2022-08-26T13:38:58.287Z"
      },
      {
        "duration": 183,
        "start_time": "2022-08-26T13:38:58.308Z"
      },
      {
        "duration": 19,
        "start_time": "2022-08-26T13:40:55.936Z"
      },
      {
        "duration": 1206,
        "start_time": "2022-08-26T13:41:01.388Z"
      },
      {
        "duration": 61,
        "start_time": "2022-08-26T13:41:02.597Z"
      },
      {
        "duration": 12,
        "start_time": "2022-08-26T13:41:02.659Z"
      },
      {
        "duration": 15,
        "start_time": "2022-08-26T13:41:02.673Z"
      },
      {
        "duration": 35,
        "start_time": "2022-08-26T13:41:02.689Z"
      },
      {
        "duration": 9,
        "start_time": "2022-08-26T13:41:02.725Z"
      },
      {
        "duration": 24,
        "start_time": "2022-08-26T13:41:02.736Z"
      },
      {
        "duration": 14,
        "start_time": "2022-08-26T13:41:02.762Z"
      },
      {
        "duration": 32,
        "start_time": "2022-08-26T13:41:02.778Z"
      },
      {
        "duration": 4,
        "start_time": "2022-08-26T13:41:02.812Z"
      },
      {
        "duration": 11,
        "start_time": "2022-08-26T13:41:02.818Z"
      },
      {
        "duration": 13,
        "start_time": "2022-08-26T13:41:02.830Z"
      },
      {
        "duration": 11,
        "start_time": "2022-08-26T13:41:02.844Z"
      },
      {
        "duration": 11,
        "start_time": "2022-08-26T13:41:02.856Z"
      },
      {
        "duration": 305,
        "start_time": "2022-08-26T13:41:02.869Z"
      },
      {
        "duration": 8,
        "start_time": "2022-08-26T13:41:03.175Z"
      },
      {
        "duration": 161,
        "start_time": "2022-08-26T13:41:03.185Z"
      },
      {
        "duration": 127,
        "start_time": "2022-08-26T13:41:03.347Z"
      },
      {
        "duration": 17,
        "start_time": "2022-08-26T13:41:03.476Z"
      },
      {
        "duration": 188,
        "start_time": "2022-08-26T13:41:03.506Z"
      },
      {
        "duration": 398,
        "start_time": "2022-08-26T13:41:03.696Z"
      },
      {
        "duration": 14,
        "start_time": "2022-08-26T13:41:04.095Z"
      },
      {
        "duration": 166,
        "start_time": "2022-08-26T13:41:04.111Z"
      },
      {
        "duration": 27,
        "start_time": "2022-08-26T13:41:04.279Z"
      },
      {
        "duration": 4,
        "start_time": "2022-08-26T13:41:04.308Z"
      },
      {
        "duration": 7,
        "start_time": "2022-08-26T13:41:04.313Z"
      },
      {
        "duration": 10,
        "start_time": "2022-08-26T13:41:04.321Z"
      },
      {
        "duration": 14,
        "start_time": "2022-08-26T13:41:04.334Z"
      },
      {
        "duration": 10,
        "start_time": "2022-08-26T13:41:04.349Z"
      },
      {
        "duration": 12,
        "start_time": "2022-08-26T13:41:04.360Z"
      },
      {
        "duration": 40,
        "start_time": "2022-08-26T13:41:04.373Z"
      },
      {
        "duration": 26,
        "start_time": "2022-08-26T13:41:04.414Z"
      },
      {
        "duration": 344,
        "start_time": "2022-08-26T13:41:04.442Z"
      },
      {
        "duration": 265,
        "start_time": "2022-08-26T13:41:04.787Z"
      },
      {
        "duration": 179,
        "start_time": "2022-08-26T13:41:05.053Z"
      },
      {
        "duration": 9,
        "start_time": "2022-08-26T13:41:05.233Z"
      },
      {
        "duration": 5,
        "start_time": "2022-08-26T13:41:05.243Z"
      },
      {
        "duration": 133,
        "start_time": "2022-08-26T13:41:05.249Z"
      },
      {
        "duration": 23,
        "start_time": "2022-08-26T13:41:05.383Z"
      },
      {
        "duration": 10,
        "start_time": "2022-08-26T13:41:05.408Z"
      },
      {
        "duration": 188,
        "start_time": "2022-08-26T13:41:05.420Z"
      },
      {
        "duration": 2505,
        "start_time": "2022-08-26T13:41:05.609Z"
      },
      {
        "duration": 313,
        "start_time": "2022-08-26T13:41:08.116Z"
      },
      {
        "duration": 4,
        "start_time": "2022-08-26T13:41:08.431Z"
      },
      {
        "duration": 76,
        "start_time": "2022-08-26T13:41:08.436Z"
      },
      {
        "duration": 13,
        "start_time": "2022-08-26T13:41:08.513Z"
      },
      {
        "duration": 17,
        "start_time": "2022-08-26T13:41:08.528Z"
      },
      {
        "duration": 80,
        "start_time": "2022-08-26T13:41:08.547Z"
      },
      {
        "duration": 15,
        "start_time": "2022-08-26T13:41:08.629Z"
      },
      {
        "duration": 67,
        "start_time": "2022-08-26T13:41:08.645Z"
      },
      {
        "duration": 9,
        "start_time": "2022-08-26T13:41:08.713Z"
      },
      {
        "duration": 32,
        "start_time": "2022-08-26T13:41:08.723Z"
      },
      {
        "duration": 13,
        "start_time": "2022-08-26T13:41:08.806Z"
      },
      {
        "duration": 424,
        "start_time": "2022-08-26T13:41:08.821Z"
      },
      {
        "duration": 14,
        "start_time": "2022-08-26T13:41:09.246Z"
      },
      {
        "duration": 174,
        "start_time": "2022-08-26T13:41:09.261Z"
      },
      {
        "duration": 16,
        "start_time": "2022-08-26T13:41:26.647Z"
      },
      {
        "duration": 83,
        "start_time": "2022-08-26T13:41:30.465Z"
      },
      {
        "duration": 22,
        "start_time": "2022-08-26T13:41:35.213Z"
      },
      {
        "duration": 78,
        "start_time": "2022-08-26T13:41:39.218Z"
      },
      {
        "duration": 37,
        "start_time": "2022-08-26T13:41:41.791Z"
      },
      {
        "duration": 27,
        "start_time": "2022-08-26T13:41:46.962Z"
      },
      {
        "duration": 29,
        "start_time": "2022-08-26T13:41:49.377Z"
      },
      {
        "duration": 28,
        "start_time": "2022-08-26T13:41:55.809Z"
      },
      {
        "duration": 26,
        "start_time": "2022-08-26T13:42:00.594Z"
      },
      {
        "duration": 30,
        "start_time": "2022-08-26T13:43:28.740Z"
      },
      {
        "duration": 28,
        "start_time": "2022-08-26T13:43:50.462Z"
      },
      {
        "duration": 113,
        "start_time": "2022-08-26T13:49:08.060Z"
      },
      {
        "duration": 1169,
        "start_time": "2022-08-26T13:49:36.575Z"
      },
      {
        "duration": 1298,
        "start_time": "2022-08-26T13:50:22.832Z"
      },
      {
        "duration": 20,
        "start_time": "2022-08-26T13:50:36.425Z"
      },
      {
        "duration": 1215,
        "start_time": "2022-08-26T13:51:32.362Z"
      },
      {
        "duration": 1231,
        "start_time": "2022-08-26T13:51:46.161Z"
      },
      {
        "duration": 26,
        "start_time": "2022-08-26T13:53:40.359Z"
      },
      {
        "duration": 23,
        "start_time": "2022-08-26T13:54:10.995Z"
      },
      {
        "duration": 24,
        "start_time": "2022-08-26T13:54:45.632Z"
      },
      {
        "duration": 5,
        "start_time": "2022-08-26T14:02:13.855Z"
      },
      {
        "duration": 25,
        "start_time": "2022-08-26T14:02:38.255Z"
      },
      {
        "duration": 29,
        "start_time": "2022-08-26T14:02:48.756Z"
      },
      {
        "duration": 27,
        "start_time": "2022-08-26T14:02:58.887Z"
      },
      {
        "duration": 12,
        "start_time": "2022-08-26T14:04:09.944Z"
      },
      {
        "duration": 21,
        "start_time": "2022-08-26T14:09:21.673Z"
      },
      {
        "duration": 16,
        "start_time": "2022-08-26T14:09:51.553Z"
      },
      {
        "duration": 13,
        "start_time": "2022-08-26T14:09:54.731Z"
      },
      {
        "duration": 1207,
        "start_time": "2022-08-26T14:14:16.786Z"
      },
      {
        "duration": 67,
        "start_time": "2022-08-26T14:14:17.994Z"
      },
      {
        "duration": 18,
        "start_time": "2022-08-26T14:14:18.063Z"
      },
      {
        "duration": 19,
        "start_time": "2022-08-26T14:14:18.084Z"
      },
      {
        "duration": 35,
        "start_time": "2022-08-26T14:14:18.106Z"
      },
      {
        "duration": 12,
        "start_time": "2022-08-26T14:14:18.142Z"
      },
      {
        "duration": 30,
        "start_time": "2022-08-26T14:14:18.155Z"
      },
      {
        "duration": 32,
        "start_time": "2022-08-26T14:14:18.187Z"
      },
      {
        "duration": 23,
        "start_time": "2022-08-26T14:14:18.221Z"
      },
      {
        "duration": 7,
        "start_time": "2022-08-26T14:14:18.246Z"
      },
      {
        "duration": 37,
        "start_time": "2022-08-26T14:14:18.254Z"
      },
      {
        "duration": 34,
        "start_time": "2022-08-26T14:14:18.294Z"
      },
      {
        "duration": 31,
        "start_time": "2022-08-26T14:14:18.330Z"
      },
      {
        "duration": 15,
        "start_time": "2022-08-26T14:14:18.362Z"
      },
      {
        "duration": 293,
        "start_time": "2022-08-26T14:14:18.379Z"
      },
      {
        "duration": 10,
        "start_time": "2022-08-26T14:14:18.673Z"
      },
      {
        "duration": 203,
        "start_time": "2022-08-26T14:14:18.685Z"
      },
      {
        "duration": 137,
        "start_time": "2022-08-26T14:14:18.890Z"
      },
      {
        "duration": 19,
        "start_time": "2022-08-26T14:14:19.029Z"
      },
      {
        "duration": 214,
        "start_time": "2022-08-26T14:14:19.050Z"
      },
      {
        "duration": 422,
        "start_time": "2022-08-26T14:14:19.266Z"
      },
      {
        "duration": 16,
        "start_time": "2022-08-26T14:14:19.692Z"
      },
      {
        "duration": 185,
        "start_time": "2022-08-26T14:14:19.710Z"
      },
      {
        "duration": 22,
        "start_time": "2022-08-26T14:14:19.897Z"
      },
      {
        "duration": 13,
        "start_time": "2022-08-26T14:14:19.920Z"
      },
      {
        "duration": 30,
        "start_time": "2022-08-26T14:14:19.935Z"
      },
      {
        "duration": 396,
        "start_time": "2022-08-26T14:14:19.966Z"
      },
      {
        "duration": 298,
        "start_time": "2022-08-26T14:14:20.367Z"
      },
      {
        "duration": 221,
        "start_time": "2022-08-26T14:14:20.667Z"
      },
      {
        "duration": 17,
        "start_time": "2022-08-26T14:14:20.890Z"
      },
      {
        "duration": 4,
        "start_time": "2022-08-26T14:14:20.909Z"
      },
      {
        "duration": 136,
        "start_time": "2022-08-26T14:14:20.915Z"
      },
      {
        "duration": 16,
        "start_time": "2022-08-26T14:14:21.053Z"
      },
      {
        "duration": 12,
        "start_time": "2022-08-26T14:14:21.071Z"
      },
      {
        "duration": 197,
        "start_time": "2022-08-26T14:14:21.084Z"
      },
      {
        "duration": 3043,
        "start_time": "2022-08-26T14:14:21.282Z"
      },
      {
        "duration": 229,
        "start_time": "2022-08-26T14:14:24.327Z"
      },
      {
        "duration": 4,
        "start_time": "2022-08-26T14:14:24.557Z"
      },
      {
        "duration": 47,
        "start_time": "2022-08-26T14:14:24.563Z"
      },
      {
        "duration": 15,
        "start_time": "2022-08-26T14:14:24.612Z"
      },
      {
        "duration": 20,
        "start_time": "2022-08-26T14:14:24.628Z"
      },
      {
        "duration": 32,
        "start_time": "2022-08-26T14:14:24.649Z"
      },
      {
        "duration": 19,
        "start_time": "2022-08-26T14:14:24.706Z"
      },
      {
        "duration": 18,
        "start_time": "2022-08-26T14:14:24.727Z"
      },
      {
        "duration": 10,
        "start_time": "2022-08-26T14:14:24.747Z"
      },
      {
        "duration": 76,
        "start_time": "2022-08-26T14:14:24.759Z"
      },
      {
        "duration": 17,
        "start_time": "2022-08-26T14:14:24.837Z"
      },
      {
        "duration": 258,
        "start_time": "2022-08-26T14:14:24.856Z"
      },
      {
        "duration": 15,
        "start_time": "2022-08-26T14:14:25.115Z"
      },
      {
        "duration": 192,
        "start_time": "2022-08-26T14:14:25.132Z"
      },
      {
        "duration": 17,
        "start_time": "2022-08-26T14:21:30.107Z"
      },
      {
        "duration": 13,
        "start_time": "2022-08-26T14:21:32.889Z"
      },
      {
        "duration": 109,
        "start_time": "2022-08-26T14:21:40.165Z"
      },
      {
        "duration": 17,
        "start_time": "2022-08-26T14:21:46.460Z"
      },
      {
        "duration": 23,
        "start_time": "2022-08-26T14:23:01.655Z"
      },
      {
        "duration": 17,
        "start_time": "2022-08-26T14:23:22.799Z"
      },
      {
        "duration": 25,
        "start_time": "2022-08-26T14:23:26.916Z"
      },
      {
        "duration": 15,
        "start_time": "2022-08-26T14:23:37.643Z"
      },
      {
        "duration": 23,
        "start_time": "2022-08-26T14:26:34.918Z"
      },
      {
        "duration": 15,
        "start_time": "2022-08-26T14:27:09.111Z"
      },
      {
        "duration": 12,
        "start_time": "2022-08-26T14:27:11.667Z"
      },
      {
        "duration": 15,
        "start_time": "2022-08-26T14:27:41.985Z"
      },
      {
        "duration": 10,
        "start_time": "2022-08-26T14:27:44.467Z"
      },
      {
        "duration": 15,
        "start_time": "2022-08-26T14:28:01.124Z"
      },
      {
        "duration": 12,
        "start_time": "2022-08-26T14:28:03.847Z"
      },
      {
        "duration": 19,
        "start_time": "2022-08-26T14:28:15.608Z"
      },
      {
        "duration": 12,
        "start_time": "2022-08-26T14:28:16.701Z"
      },
      {
        "duration": 14,
        "start_time": "2022-08-26T14:28:45.921Z"
      },
      {
        "duration": 12,
        "start_time": "2022-08-26T14:28:47.415Z"
      },
      {
        "duration": 15,
        "start_time": "2022-08-26T14:31:34.438Z"
      },
      {
        "duration": 12,
        "start_time": "2022-08-26T14:31:36.889Z"
      },
      {
        "duration": 16,
        "start_time": "2022-08-26T14:32:20.213Z"
      },
      {
        "duration": 21,
        "start_time": "2022-08-26T14:32:27.026Z"
      },
      {
        "duration": 19,
        "start_time": "2022-08-26T14:36:08.503Z"
      },
      {
        "duration": 19,
        "start_time": "2022-08-26T14:36:13.367Z"
      },
      {
        "duration": 28,
        "start_time": "2022-08-26T14:36:22.243Z"
      },
      {
        "duration": 13,
        "start_time": "2022-08-26T14:36:26.677Z"
      },
      {
        "duration": 94,
        "start_time": "2022-08-26T14:37:10.271Z"
      },
      {
        "duration": 26,
        "start_time": "2022-08-26T14:37:16.603Z"
      },
      {
        "duration": 18,
        "start_time": "2022-08-26T14:37:27.429Z"
      },
      {
        "duration": 18,
        "start_time": "2022-08-26T14:38:05.786Z"
      },
      {
        "duration": 12,
        "start_time": "2022-08-26T14:38:08.930Z"
      },
      {
        "duration": 29,
        "start_time": "2022-08-26T14:39:19.661Z"
      },
      {
        "duration": 22,
        "start_time": "2022-08-26T14:40:23.483Z"
      },
      {
        "duration": 1181,
        "start_time": "2022-08-26T14:43:21.785Z"
      },
      {
        "duration": 61,
        "start_time": "2022-08-26T14:43:22.968Z"
      },
      {
        "duration": 12,
        "start_time": "2022-08-26T14:43:23.031Z"
      },
      {
        "duration": 12,
        "start_time": "2022-08-26T14:43:23.045Z"
      },
      {
        "duration": 30,
        "start_time": "2022-08-26T14:43:23.059Z"
      },
      {
        "duration": 21,
        "start_time": "2022-08-26T14:43:23.090Z"
      },
      {
        "duration": 19,
        "start_time": "2022-08-26T14:43:23.113Z"
      },
      {
        "duration": 13,
        "start_time": "2022-08-26T14:43:23.134Z"
      },
      {
        "duration": 13,
        "start_time": "2022-08-26T14:43:23.149Z"
      },
      {
        "duration": 4,
        "start_time": "2022-08-26T14:43:23.164Z"
      },
      {
        "duration": 39,
        "start_time": "2022-08-26T14:43:23.169Z"
      },
      {
        "duration": 14,
        "start_time": "2022-08-26T14:43:23.209Z"
      },
      {
        "duration": 12,
        "start_time": "2022-08-26T14:43:23.224Z"
      },
      {
        "duration": 8,
        "start_time": "2022-08-26T14:43:23.237Z"
      },
      {
        "duration": 305,
        "start_time": "2022-08-26T14:43:23.246Z"
      },
      {
        "duration": 8,
        "start_time": "2022-08-26T14:43:23.553Z"
      },
      {
        "duration": 164,
        "start_time": "2022-08-26T14:43:23.562Z"
      },
      {
        "duration": 119,
        "start_time": "2022-08-26T14:43:23.727Z"
      },
      {
        "duration": 16,
        "start_time": "2022-08-26T14:43:23.848Z"
      },
      {
        "duration": 192,
        "start_time": "2022-08-26T14:43:23.865Z"
      },
      {
        "duration": 400,
        "start_time": "2022-08-26T14:43:24.059Z"
      },
      {
        "duration": 9,
        "start_time": "2022-08-26T14:43:24.460Z"
      },
      {
        "duration": 172,
        "start_time": "2022-08-26T14:43:24.470Z"
      },
      {
        "duration": 22,
        "start_time": "2022-08-26T14:43:24.644Z"
      },
      {
        "duration": 25,
        "start_time": "2022-08-26T14:43:24.667Z"
      },
      {
        "duration": 328,
        "start_time": "2022-08-26T14:43:24.706Z"
      },
      {
        "duration": 264,
        "start_time": "2022-08-26T14:43:25.036Z"
      },
      {
        "duration": 176,
        "start_time": "2022-08-26T14:43:25.305Z"
      },
      {
        "duration": 9,
        "start_time": "2022-08-26T14:43:25.483Z"
      },
      {
        "duration": 16,
        "start_time": "2022-08-26T14:43:25.493Z"
      },
      {
        "duration": 143,
        "start_time": "2022-08-26T14:43:25.510Z"
      },
      {
        "duration": 14,
        "start_time": "2022-08-26T14:43:25.654Z"
      },
      {
        "duration": 14,
        "start_time": "2022-08-26T14:43:25.669Z"
      },
      {
        "duration": 184,
        "start_time": "2022-08-26T14:43:25.684Z"
      },
      {
        "duration": 3076,
        "start_time": "2022-08-26T14:43:25.870Z"
      },
      {
        "duration": 172,
        "start_time": "2022-08-26T14:43:28.948Z"
      },
      {
        "duration": 3,
        "start_time": "2022-08-26T14:43:29.121Z"
      },
      {
        "duration": 24,
        "start_time": "2022-08-26T14:43:29.125Z"
      },
      {
        "duration": 14,
        "start_time": "2022-08-26T14:43:29.151Z"
      },
      {
        "duration": 46,
        "start_time": "2022-08-26T14:43:29.166Z"
      },
      {
        "duration": 23,
        "start_time": "2022-08-26T14:43:29.214Z"
      },
      {
        "duration": 13,
        "start_time": "2022-08-26T14:43:29.239Z"
      },
      {
        "duration": 12,
        "start_time": "2022-08-26T14:43:29.254Z"
      },
      {
        "duration": 38,
        "start_time": "2022-08-26T14:43:29.268Z"
      },
      {
        "duration": 27,
        "start_time": "2022-08-26T14:43:29.308Z"
      },
      {
        "duration": 13,
        "start_time": "2022-08-26T14:43:29.336Z"
      },
      {
        "duration": 263,
        "start_time": "2022-08-26T14:43:29.351Z"
      },
      {
        "duration": 15,
        "start_time": "2022-08-26T14:43:29.616Z"
      },
      {
        "duration": 225,
        "start_time": "2022-08-26T14:43:29.633Z"
      },
      {
        "duration": 1221,
        "start_time": "2022-08-26T14:46:37.449Z"
      },
      {
        "duration": 63,
        "start_time": "2022-08-26T14:46:38.671Z"
      },
      {
        "duration": 16,
        "start_time": "2022-08-26T14:46:38.736Z"
      },
      {
        "duration": 36,
        "start_time": "2022-08-26T14:46:38.754Z"
      },
      {
        "duration": 45,
        "start_time": "2022-08-26T14:46:38.792Z"
      },
      {
        "duration": 9,
        "start_time": "2022-08-26T14:46:38.838Z"
      },
      {
        "duration": 30,
        "start_time": "2022-08-26T14:46:38.849Z"
      },
      {
        "duration": 19,
        "start_time": "2022-08-26T14:46:38.881Z"
      },
      {
        "duration": 13,
        "start_time": "2022-08-26T14:46:38.901Z"
      },
      {
        "duration": 14,
        "start_time": "2022-08-26T14:46:38.915Z"
      },
      {
        "duration": 21,
        "start_time": "2022-08-26T14:46:38.930Z"
      },
      {
        "duration": 26,
        "start_time": "2022-08-26T14:46:38.952Z"
      },
      {
        "duration": 11,
        "start_time": "2022-08-26T14:46:38.979Z"
      },
      {
        "duration": 19,
        "start_time": "2022-08-26T14:46:38.992Z"
      },
      {
        "duration": 324,
        "start_time": "2022-08-26T14:46:39.013Z"
      },
      {
        "duration": 9,
        "start_time": "2022-08-26T14:46:39.338Z"
      },
      {
        "duration": 168,
        "start_time": "2022-08-26T14:46:39.349Z"
      },
      {
        "duration": 122,
        "start_time": "2022-08-26T14:46:39.519Z"
      },
      {
        "duration": 16,
        "start_time": "2022-08-26T14:46:39.643Z"
      },
      {
        "duration": 214,
        "start_time": "2022-08-26T14:46:39.660Z"
      },
      {
        "duration": 394,
        "start_time": "2022-08-26T14:46:39.876Z"
      },
      {
        "duration": 8,
        "start_time": "2022-08-26T14:46:40.272Z"
      },
      {
        "duration": 193,
        "start_time": "2022-08-26T14:46:40.281Z"
      },
      {
        "duration": 33,
        "start_time": "2022-08-26T14:46:40.475Z"
      },
      {
        "duration": 25,
        "start_time": "2022-08-26T14:46:40.509Z"
      },
      {
        "duration": 331,
        "start_time": "2022-08-26T14:46:40.535Z"
      },
      {
        "duration": 274,
        "start_time": "2022-08-26T14:46:40.867Z"
      },
      {
        "duration": 178,
        "start_time": "2022-08-26T14:46:41.142Z"
      },
      {
        "duration": 9,
        "start_time": "2022-08-26T14:46:41.321Z"
      },
      {
        "duration": 5,
        "start_time": "2022-08-26T14:46:41.331Z"
      },
      {
        "duration": 132,
        "start_time": "2022-08-26T14:46:41.337Z"
      },
      {
        "duration": 14,
        "start_time": "2022-08-26T14:46:41.471Z"
      },
      {
        "duration": 26,
        "start_time": "2022-08-26T14:46:41.486Z"
      },
      {
        "duration": 165,
        "start_time": "2022-08-26T14:46:41.514Z"
      },
      {
        "duration": 1757,
        "start_time": "2022-08-26T14:46:41.680Z"
      },
      {
        "duration": 160,
        "start_time": "2022-08-26T14:46:43.439Z"
      },
      {
        "duration": 3,
        "start_time": "2022-08-26T14:46:43.606Z"
      },
      {
        "duration": 22,
        "start_time": "2022-08-26T14:46:43.611Z"
      },
      {
        "duration": 13,
        "start_time": "2022-08-26T14:46:43.635Z"
      },
      {
        "duration": 18,
        "start_time": "2022-08-26T14:46:43.650Z"
      },
      {
        "duration": 52,
        "start_time": "2022-08-26T14:46:43.672Z"
      },
      {
        "duration": 15,
        "start_time": "2022-08-26T14:46:43.726Z"
      },
      {
        "duration": 14,
        "start_time": "2022-08-26T14:46:43.742Z"
      },
      {
        "duration": 10,
        "start_time": "2022-08-26T14:46:43.758Z"
      },
      {
        "duration": 58,
        "start_time": "2022-08-26T14:46:43.770Z"
      },
      {
        "duration": 14,
        "start_time": "2022-08-26T14:46:43.829Z"
      },
      {
        "duration": 254,
        "start_time": "2022-08-26T14:46:43.844Z"
      },
      {
        "duration": 13,
        "start_time": "2022-08-26T14:46:44.105Z"
      },
      {
        "duration": 182,
        "start_time": "2022-08-26T14:46:44.120Z"
      },
      {
        "duration": 47,
        "start_time": "2022-08-27T10:15:50.400Z"
      },
      {
        "duration": 1362,
        "start_time": "2022-08-27T10:15:53.137Z"
      },
      {
        "duration": 114,
        "start_time": "2022-08-27T10:15:54.501Z"
      },
      {
        "duration": 12,
        "start_time": "2022-08-27T10:15:54.616Z"
      },
      {
        "duration": 13,
        "start_time": "2022-08-27T10:15:54.630Z"
      },
      {
        "duration": 30,
        "start_time": "2022-08-27T10:15:54.645Z"
      },
      {
        "duration": 7,
        "start_time": "2022-08-27T10:15:54.677Z"
      },
      {
        "duration": 31,
        "start_time": "2022-08-27T10:15:54.686Z"
      },
      {
        "duration": 13,
        "start_time": "2022-08-27T10:15:54.718Z"
      },
      {
        "duration": 12,
        "start_time": "2022-08-27T10:15:54.733Z"
      },
      {
        "duration": 4,
        "start_time": "2022-08-27T10:15:54.747Z"
      },
      {
        "duration": 9,
        "start_time": "2022-08-27T10:15:54.753Z"
      },
      {
        "duration": 42,
        "start_time": "2022-08-27T10:15:54.764Z"
      },
      {
        "duration": 13,
        "start_time": "2022-08-27T10:15:54.808Z"
      },
      {
        "duration": 15,
        "start_time": "2022-08-27T10:15:54.822Z"
      },
      {
        "duration": 325,
        "start_time": "2022-08-27T10:15:54.839Z"
      },
      {
        "duration": 9,
        "start_time": "2022-08-27T10:15:55.166Z"
      },
      {
        "duration": 156,
        "start_time": "2022-08-27T10:15:55.177Z"
      },
      {
        "duration": 137,
        "start_time": "2022-08-27T10:15:55.335Z"
      },
      {
        "duration": 16,
        "start_time": "2022-08-27T10:15:55.474Z"
      },
      {
        "duration": 194,
        "start_time": "2022-08-27T10:15:55.491Z"
      },
      {
        "duration": 441,
        "start_time": "2022-08-27T10:15:55.686Z"
      },
      {
        "duration": 10,
        "start_time": "2022-08-27T10:15:56.129Z"
      },
      {
        "duration": 235,
        "start_time": "2022-08-27T10:15:56.141Z"
      },
      {
        "duration": 33,
        "start_time": "2022-08-27T10:15:56.378Z"
      },
      {
        "duration": 7,
        "start_time": "2022-08-27T10:15:56.413Z"
      },
      {
        "duration": 28,
        "start_time": "2022-08-27T10:15:56.421Z"
      },
      {
        "duration": 360,
        "start_time": "2022-08-27T10:15:56.451Z"
      },
      {
        "duration": 267,
        "start_time": "2022-08-27T10:15:56.814Z"
      },
      {
        "duration": 182,
        "start_time": "2022-08-27T10:15:57.082Z"
      },
      {
        "duration": 9,
        "start_time": "2022-08-27T10:15:57.266Z"
      },
      {
        "duration": 8,
        "start_time": "2022-08-27T10:15:57.276Z"
      },
      {
        "duration": 133,
        "start_time": "2022-08-27T10:15:57.285Z"
      },
      {
        "duration": 15,
        "start_time": "2022-08-27T10:15:57.420Z"
      },
      {
        "duration": 11,
        "start_time": "2022-08-27T10:15:57.436Z"
      },
      {
        "duration": 198,
        "start_time": "2022-08-27T10:15:57.448Z"
      },
      {
        "duration": 3257,
        "start_time": "2022-08-27T10:15:57.648Z"
      },
      {
        "duration": 166,
        "start_time": "2022-08-27T10:16:00.907Z"
      },
      {
        "duration": 3,
        "start_time": "2022-08-27T10:16:01.074Z"
      },
      {
        "duration": 33,
        "start_time": "2022-08-27T10:16:01.079Z"
      },
      {
        "duration": 14,
        "start_time": "2022-08-27T10:16:01.113Z"
      },
      {
        "duration": 19,
        "start_time": "2022-08-27T10:16:01.128Z"
      },
      {
        "duration": 21,
        "start_time": "2022-08-27T10:16:01.149Z"
      },
      {
        "duration": 45,
        "start_time": "2022-08-27T10:16:01.171Z"
      },
      {
        "duration": 15,
        "start_time": "2022-08-27T10:16:01.218Z"
      },
      {
        "duration": 23,
        "start_time": "2022-08-27T10:16:01.234Z"
      },
      {
        "duration": 28,
        "start_time": "2022-08-27T10:16:01.259Z"
      },
      {
        "duration": 19,
        "start_time": "2022-08-27T10:16:01.289Z"
      },
      {
        "duration": 249,
        "start_time": "2022-08-27T10:16:01.310Z"
      },
      {
        "duration": 14,
        "start_time": "2022-08-27T10:16:01.561Z"
      },
      {
        "duration": 194,
        "start_time": "2022-08-27T10:16:01.577Z"
      },
      {
        "duration": 13,
        "start_time": "2022-08-27T10:19:14.623Z"
      },
      {
        "duration": 9,
        "start_time": "2022-08-27T10:21:05.704Z"
      },
      {
        "duration": 16,
        "start_time": "2022-08-27T10:22:20.327Z"
      },
      {
        "duration": 2243,
        "start_time": "2022-08-27T10:22:58.721Z"
      },
      {
        "duration": 1948,
        "start_time": "2022-08-27T10:23:12.392Z"
      },
      {
        "duration": 13,
        "start_time": "2022-08-27T10:24:20.885Z"
      },
      {
        "duration": 1820,
        "start_time": "2022-08-27T10:24:22.953Z"
      },
      {
        "duration": 1373,
        "start_time": "2022-11-22T10:07:05.182Z"
      },
      {
        "duration": 108,
        "start_time": "2022-11-22T10:07:06.556Z"
      },
      {
        "duration": 14,
        "start_time": "2022-11-22T10:07:06.666Z"
      },
      {
        "duration": 26,
        "start_time": "2022-11-22T10:07:06.682Z"
      },
      {
        "duration": 34,
        "start_time": "2022-11-22T10:07:06.710Z"
      },
      {
        "duration": 10,
        "start_time": "2022-11-22T10:07:06.745Z"
      },
      {
        "duration": 34,
        "start_time": "2022-11-22T10:07:06.757Z"
      },
      {
        "duration": 28,
        "start_time": "2022-11-22T10:07:06.793Z"
      },
      {
        "duration": 15,
        "start_time": "2022-11-22T10:07:06.823Z"
      },
      {
        "duration": 12,
        "start_time": "2022-11-22T10:07:06.841Z"
      },
      {
        "duration": 22,
        "start_time": "2022-11-22T10:07:06.855Z"
      },
      {
        "duration": 27,
        "start_time": "2022-11-22T10:07:06.879Z"
      },
      {
        "duration": 23,
        "start_time": "2022-11-22T10:07:06.908Z"
      },
      {
        "duration": 21,
        "start_time": "2022-11-22T10:07:06.933Z"
      },
      {
        "duration": 340,
        "start_time": "2022-11-22T10:07:06.956Z"
      },
      {
        "duration": 9,
        "start_time": "2022-11-22T10:07:07.298Z"
      },
      {
        "duration": 171,
        "start_time": "2022-11-22T10:07:07.309Z"
      },
      {
        "duration": 147,
        "start_time": "2022-11-22T10:07:07.481Z"
      },
      {
        "duration": 23,
        "start_time": "2022-11-22T10:07:07.630Z"
      },
      {
        "duration": 250,
        "start_time": "2022-11-22T10:07:07.655Z"
      },
      {
        "duration": 438,
        "start_time": "2022-11-22T10:07:07.907Z"
      },
      {
        "duration": 10,
        "start_time": "2022-11-22T10:07:08.346Z"
      },
      {
        "duration": 290,
        "start_time": "2022-11-22T10:07:08.357Z"
      },
      {
        "duration": 39,
        "start_time": "2022-11-22T10:07:08.649Z"
      },
      {
        "duration": 8,
        "start_time": "2022-11-22T10:07:08.690Z"
      },
      {
        "duration": 41,
        "start_time": "2022-11-22T10:07:08.700Z"
      },
      {
        "duration": 45,
        "start_time": "2022-11-22T10:07:08.742Z"
      },
      {
        "duration": 318,
        "start_time": "2022-11-22T10:07:08.791Z"
      },
      {
        "duration": 307,
        "start_time": "2022-11-22T10:07:09.111Z"
      },
      {
        "duration": 203,
        "start_time": "2022-11-22T10:07:09.420Z"
      },
      {
        "duration": 10,
        "start_time": "2022-11-22T10:07:09.625Z"
      },
      {
        "duration": 17,
        "start_time": "2022-11-22T10:07:09.636Z"
      },
      {
        "duration": 181,
        "start_time": "2022-11-22T10:07:09.654Z"
      },
      {
        "duration": 19,
        "start_time": "2022-11-22T10:07:09.837Z"
      },
      {
        "duration": 26,
        "start_time": "2022-11-22T10:07:09.857Z"
      },
      {
        "duration": 215,
        "start_time": "2022-11-22T10:07:09.885Z"
      },
      {
        "duration": 2977,
        "start_time": "2022-11-22T10:07:10.102Z"
      },
      {
        "duration": 203,
        "start_time": "2022-11-22T10:07:13.081Z"
      },
      {
        "duration": 5,
        "start_time": "2022-11-22T10:07:13.286Z"
      },
      {
        "duration": 30,
        "start_time": "2022-11-22T10:07:13.292Z"
      },
      {
        "duration": 16,
        "start_time": "2022-11-22T10:07:13.324Z"
      },
      {
        "duration": 49,
        "start_time": "2022-11-22T10:07:13.341Z"
      },
      {
        "duration": 28,
        "start_time": "2022-11-22T10:07:13.391Z"
      },
      {
        "duration": 17,
        "start_time": "2022-11-22T10:07:13.421Z"
      },
      {
        "duration": 41,
        "start_time": "2022-11-22T10:07:13.440Z"
      },
      {
        "duration": 32,
        "start_time": "2022-11-22T10:07:13.482Z"
      },
      {
        "duration": 33,
        "start_time": "2022-11-22T10:07:13.516Z"
      },
      {
        "duration": 17,
        "start_time": "2022-11-22T10:07:13.550Z"
      },
      {
        "duration": 292,
        "start_time": "2022-11-22T10:07:13.568Z"
      },
      {
        "duration": 35,
        "start_time": "2022-11-22T10:07:13.862Z"
      },
      {
        "duration": 279,
        "start_time": "2022-11-22T10:07:13.899Z"
      },
      {
        "duration": 16,
        "start_time": "2022-11-22T10:07:14.181Z"
      },
      {
        "duration": 1633,
        "start_time": "2022-11-22T10:07:14.199Z"
      },
      {
        "duration": 1150,
        "start_time": "2022-11-22T10:07:28.438Z"
      },
      {
        "duration": 77,
        "start_time": "2022-11-22T10:08:12.904Z"
      },
      {
        "duration": 69,
        "start_time": "2022-11-22T10:08:19.259Z"
      },
      {
        "duration": 1230,
        "start_time": "2022-11-22T10:09:16.184Z"
      },
      {
        "duration": 66,
        "start_time": "2022-11-22T10:09:17.416Z"
      },
      {
        "duration": 14,
        "start_time": "2022-11-22T10:09:17.483Z"
      },
      {
        "duration": 12,
        "start_time": "2022-11-22T10:09:17.500Z"
      },
      {
        "duration": 35,
        "start_time": "2022-11-22T10:09:17.514Z"
      },
      {
        "duration": 33,
        "start_time": "2022-11-22T10:09:17.551Z"
      },
      {
        "duration": 24,
        "start_time": "2022-11-22T10:09:17.586Z"
      },
      {
        "duration": 15,
        "start_time": "2022-11-22T10:09:17.612Z"
      },
      {
        "duration": 17,
        "start_time": "2022-11-22T10:09:17.628Z"
      },
      {
        "duration": 5,
        "start_time": "2022-11-22T10:09:17.647Z"
      },
      {
        "duration": 9,
        "start_time": "2022-11-22T10:09:17.678Z"
      },
      {
        "duration": 22,
        "start_time": "2022-11-22T10:09:17.688Z"
      },
      {
        "duration": 15,
        "start_time": "2022-11-22T10:09:17.711Z"
      },
      {
        "duration": 10,
        "start_time": "2022-11-22T10:09:17.728Z"
      },
      {
        "duration": 376,
        "start_time": "2022-11-22T10:09:17.740Z"
      },
      {
        "duration": 9,
        "start_time": "2022-11-22T10:09:18.119Z"
      },
      {
        "duration": 178,
        "start_time": "2022-11-22T10:09:18.130Z"
      },
      {
        "duration": 145,
        "start_time": "2022-11-22T10:09:18.311Z"
      },
      {
        "duration": 29,
        "start_time": "2022-11-22T10:09:18.458Z"
      },
      {
        "duration": 209,
        "start_time": "2022-11-22T10:09:18.488Z"
      },
      {
        "duration": 447,
        "start_time": "2022-11-22T10:09:18.698Z"
      },
      {
        "duration": 10,
        "start_time": "2022-11-22T10:09:19.147Z"
      },
      {
        "duration": 224,
        "start_time": "2022-11-22T10:09:19.159Z"
      },
      {
        "duration": 111,
        "start_time": "2022-11-22T10:09:19.385Z"
      },
      {
        "duration": 9,
        "start_time": "2022-11-22T10:09:19.498Z"
      },
      {
        "duration": 30,
        "start_time": "2022-11-22T10:09:19.509Z"
      },
      {
        "duration": 47,
        "start_time": "2022-11-22T10:09:19.541Z"
      },
      {
        "duration": 325,
        "start_time": "2022-11-22T10:09:19.593Z"
      },
      {
        "duration": 302,
        "start_time": "2022-11-22T10:09:19.919Z"
      },
      {
        "duration": 200,
        "start_time": "2022-11-22T10:09:20.223Z"
      },
      {
        "duration": 11,
        "start_time": "2022-11-22T10:09:20.424Z"
      },
      {
        "duration": 15,
        "start_time": "2022-11-22T10:09:20.437Z"
      },
      {
        "duration": 143,
        "start_time": "2022-11-22T10:09:20.453Z"
      },
      {
        "duration": 18,
        "start_time": "2022-11-22T10:09:20.598Z"
      },
      {
        "duration": 14,
        "start_time": "2022-11-22T10:09:20.617Z"
      },
      {
        "duration": 210,
        "start_time": "2022-11-22T10:09:20.632Z"
      },
      {
        "duration": 2104,
        "start_time": "2022-11-22T10:09:20.844Z"
      },
      {
        "duration": 182,
        "start_time": "2022-11-22T10:09:22.950Z"
      },
      {
        "duration": 5,
        "start_time": "2022-11-22T10:09:23.133Z"
      },
      {
        "duration": 32,
        "start_time": "2022-11-22T10:09:23.139Z"
      },
      {
        "duration": 15,
        "start_time": "2022-11-22T10:09:23.178Z"
      },
      {
        "duration": 22,
        "start_time": "2022-11-22T10:09:23.194Z"
      },
      {
        "duration": 24,
        "start_time": "2022-11-22T10:09:23.218Z"
      },
      {
        "duration": 40,
        "start_time": "2022-11-22T10:09:23.243Z"
      },
      {
        "duration": 14,
        "start_time": "2022-11-22T10:09:23.285Z"
      },
      {
        "duration": 12,
        "start_time": "2022-11-22T10:09:23.301Z"
      },
      {
        "duration": 38,
        "start_time": "2022-11-22T10:09:23.315Z"
      },
      {
        "duration": 31,
        "start_time": "2022-11-22T10:09:23.355Z"
      },
      {
        "duration": 275,
        "start_time": "2022-11-22T10:09:23.388Z"
      },
      {
        "duration": 23,
        "start_time": "2022-11-22T10:09:23.664Z"
      },
      {
        "duration": 202,
        "start_time": "2022-11-22T10:09:23.689Z"
      },
      {
        "duration": 15,
        "start_time": "2022-11-22T10:09:23.893Z"
      },
      {
        "duration": 1905,
        "start_time": "2022-11-22T10:09:23.910Z"
      },
      {
        "duration": 1320,
        "start_time": "2022-11-22T10:10:23.536Z"
      },
      {
        "duration": 67,
        "start_time": "2022-11-22T10:10:24.858Z"
      },
      {
        "duration": 15,
        "start_time": "2022-11-22T10:10:24.927Z"
      },
      {
        "duration": 15,
        "start_time": "2022-11-22T10:10:24.944Z"
      },
      {
        "duration": 47,
        "start_time": "2022-11-22T10:10:24.962Z"
      },
      {
        "duration": 10,
        "start_time": "2022-11-22T10:10:25.010Z"
      },
      {
        "duration": 23,
        "start_time": "2022-11-22T10:10:25.021Z"
      },
      {
        "duration": 34,
        "start_time": "2022-11-22T10:10:25.046Z"
      },
      {
        "duration": 16,
        "start_time": "2022-11-22T10:10:25.081Z"
      },
      {
        "duration": 5,
        "start_time": "2022-11-22T10:10:25.099Z"
      },
      {
        "duration": 13,
        "start_time": "2022-11-22T10:10:25.106Z"
      },
      {
        "duration": 35,
        "start_time": "2022-11-22T10:10:25.122Z"
      },
      {
        "duration": 25,
        "start_time": "2022-11-22T10:10:25.158Z"
      },
      {
        "duration": 10,
        "start_time": "2022-11-22T10:10:25.186Z"
      },
      {
        "duration": 346,
        "start_time": "2022-11-22T10:10:25.198Z"
      },
      {
        "duration": 9,
        "start_time": "2022-11-22T10:10:25.546Z"
      },
      {
        "duration": 194,
        "start_time": "2022-11-22T10:10:25.556Z"
      },
      {
        "duration": 142,
        "start_time": "2022-11-22T10:10:25.751Z"
      },
      {
        "duration": 18,
        "start_time": "2022-11-22T10:10:25.895Z"
      },
      {
        "duration": 241,
        "start_time": "2022-11-22T10:10:25.915Z"
      },
      {
        "duration": 450,
        "start_time": "2022-11-22T10:10:26.158Z"
      },
      {
        "duration": 9,
        "start_time": "2022-11-22T10:10:26.610Z"
      },
      {
        "duration": 266,
        "start_time": "2022-11-22T10:10:26.621Z"
      },
      {
        "duration": 24,
        "start_time": "2022-11-22T10:10:26.888Z"
      },
      {
        "duration": 8,
        "start_time": "2022-11-22T10:10:26.914Z"
      },
      {
        "duration": 19,
        "start_time": "2022-11-22T10:10:26.924Z"
      },
      {
        "duration": 51,
        "start_time": "2022-11-22T10:10:26.945Z"
      },
      {
        "duration": 296,
        "start_time": "2022-11-22T10:10:26.998Z"
      },
      {
        "duration": 304,
        "start_time": "2022-11-22T10:10:27.295Z"
      },
      {
        "duration": 208,
        "start_time": "2022-11-22T10:10:27.600Z"
      },
      {
        "duration": 11,
        "start_time": "2022-11-22T10:10:27.809Z"
      },
      {
        "duration": 6,
        "start_time": "2022-11-22T10:10:27.821Z"
      },
      {
        "duration": 143,
        "start_time": "2022-11-22T10:10:27.829Z"
      },
      {
        "duration": 21,
        "start_time": "2022-11-22T10:10:27.974Z"
      },
      {
        "duration": 12,
        "start_time": "2022-11-22T10:10:27.997Z"
      },
      {
        "duration": 221,
        "start_time": "2022-11-22T10:10:28.011Z"
      },
      {
        "duration": 1994,
        "start_time": "2022-11-22T10:10:28.234Z"
      },
      {
        "duration": 191,
        "start_time": "2022-11-22T10:10:30.229Z"
      },
      {
        "duration": 5,
        "start_time": "2022-11-22T10:10:30.422Z"
      },
      {
        "duration": 54,
        "start_time": "2022-11-22T10:10:30.429Z"
      },
      {
        "duration": 28,
        "start_time": "2022-11-22T10:10:30.487Z"
      },
      {
        "duration": 64,
        "start_time": "2022-11-22T10:10:30.517Z"
      },
      {
        "duration": 37,
        "start_time": "2022-11-22T10:10:30.583Z"
      },
      {
        "duration": 46,
        "start_time": "2022-11-22T10:10:30.622Z"
      },
      {
        "duration": 48,
        "start_time": "2022-11-22T10:10:30.670Z"
      },
      {
        "duration": 49,
        "start_time": "2022-11-22T10:10:30.720Z"
      },
      {
        "duration": 57,
        "start_time": "2022-11-22T10:10:30.771Z"
      },
      {
        "duration": 37,
        "start_time": "2022-11-22T10:10:30.830Z"
      },
      {
        "duration": 293,
        "start_time": "2022-11-22T10:10:30.869Z"
      },
      {
        "duration": 23,
        "start_time": "2022-11-22T10:10:31.163Z"
      },
      {
        "duration": 206,
        "start_time": "2022-11-22T10:10:31.188Z"
      },
      {
        "duration": 12,
        "start_time": "2022-11-22T10:10:31.396Z"
      },
      {
        "duration": 1504,
        "start_time": "2022-11-22T10:10:31.409Z"
      }
    ],
    "kernelspec": {
      "display_name": "Python 3 (ipykernel)",
      "language": "python",
      "name": "python3"
    },
    "language_info": {
      "codemirror_mode": {
        "name": "ipython",
        "version": 3
      },
      "file_extension": ".py",
      "mimetype": "text/x-python",
      "name": "python",
      "nbconvert_exporter": "python",
      "pygments_lexer": "ipython3",
      "version": "3.9.5"
    },
    "toc": {
      "base_numbering": 1,
      "nav_menu": {},
      "number_sections": true,
      "sideBar": true,
      "skip_h1_title": true,
      "title_cell": "Table of Contents",
      "title_sidebar": "Contents",
      "toc_cell": false,
      "toc_position": {
        "height": "calc(100% - 180px)",
        "left": "10px",
        "top": "150px",
        "width": "220.969px"
      },
      "toc_section_display": true,
      "toc_window_display": true
    },
    "colab": {
      "provenance": []
    }
  },
  "nbformat": 4,
  "nbformat_minor": 0
}