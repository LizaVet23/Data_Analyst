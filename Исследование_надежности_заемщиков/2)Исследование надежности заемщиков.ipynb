{
  "cells": [
    {
      "cell_type": "markdown",
      "id": "030a4f44",
      "metadata": {
        "id": "030a4f44"
      },
      "source": [
        "# Исследование надежности заемщиков."
      ]
    },
    {
      "cell_type": "markdown",
      "id": "0e2165e9",
      "metadata": {
        "id": "0e2165e9"
      },
      "source": [
        "При выдаче кредита банки сталкиваются с рядом рисков. Скоринговая модель банка поможет снизить уровень рисков.\n",
        "Для построения скоринговой модели необходимо понять, влияет ли семейное положение, количество детей, уровень дохода и цель займа на факт погашения кредита в срок.\n",
        "\n",
        "**Цель исследования** - определить платежеспособность клиентов по следующим показателям.\n"
      ]
    },
    {
      "cell_type": "markdown",
      "id": "3f32d862",
      "metadata": {
        "id": "3f32d862"
      },
      "source": [
        "### Шаг 1. Обзор данных"
      ]
    },
    {
      "cell_type": "code",
      "execution_count": null,
      "id": "94873598",
      "metadata": {
        "scrolled": false,
        "id": "94873598",
        "outputId": "02dbccf6-45d4-4c6a-de16-76a774b5e6fc"
      },
      "outputs": [
        {
          "data": {
            "text/html": [
              "<div>\n",
              "<style scoped>\n",
              "    .dataframe tbody tr th:only-of-type {\n",
              "        vertical-align: middle;\n",
              "    }\n",
              "\n",
              "    .dataframe tbody tr th {\n",
              "        vertical-align: top;\n",
              "    }\n",
              "\n",
              "    .dataframe thead th {\n",
              "        text-align: right;\n",
              "    }\n",
              "</style>\n",
              "<table border=\"1\" class=\"dataframe\">\n",
              "  <thead>\n",
              "    <tr style=\"text-align: right;\">\n",
              "      <th></th>\n",
              "      <th>children</th>\n",
              "      <th>days_employed</th>\n",
              "      <th>dob_years</th>\n",
              "      <th>education</th>\n",
              "      <th>education_id</th>\n",
              "      <th>family_status</th>\n",
              "      <th>family_status_id</th>\n",
              "      <th>gender</th>\n",
              "      <th>income_type</th>\n",
              "      <th>debt</th>\n",
              "      <th>total_income</th>\n",
              "      <th>purpose</th>\n",
              "    </tr>\n",
              "  </thead>\n",
              "  <tbody>\n",
              "    <tr>\n",
              "      <th>0</th>\n",
              "      <td>1</td>\n",
              "      <td>-8437.673028</td>\n",
              "      <td>42</td>\n",
              "      <td>высшее</td>\n",
              "      <td>0</td>\n",
              "      <td>женат / замужем</td>\n",
              "      <td>0</td>\n",
              "      <td>F</td>\n",
              "      <td>сотрудник</td>\n",
              "      <td>0</td>\n",
              "      <td>253875.639453</td>\n",
              "      <td>покупка жилья</td>\n",
              "    </tr>\n",
              "    <tr>\n",
              "      <th>1</th>\n",
              "      <td>1</td>\n",
              "      <td>-4024.803754</td>\n",
              "      <td>36</td>\n",
              "      <td>среднее</td>\n",
              "      <td>1</td>\n",
              "      <td>женат / замужем</td>\n",
              "      <td>0</td>\n",
              "      <td>F</td>\n",
              "      <td>сотрудник</td>\n",
              "      <td>0</td>\n",
              "      <td>112080.014102</td>\n",
              "      <td>приобретение автомобиля</td>\n",
              "    </tr>\n",
              "    <tr>\n",
              "      <th>2</th>\n",
              "      <td>0</td>\n",
              "      <td>-5623.422610</td>\n",
              "      <td>33</td>\n",
              "      <td>Среднее</td>\n",
              "      <td>1</td>\n",
              "      <td>женат / замужем</td>\n",
              "      <td>0</td>\n",
              "      <td>M</td>\n",
              "      <td>сотрудник</td>\n",
              "      <td>0</td>\n",
              "      <td>145885.952297</td>\n",
              "      <td>покупка жилья</td>\n",
              "    </tr>\n",
              "    <tr>\n",
              "      <th>3</th>\n",
              "      <td>3</td>\n",
              "      <td>-4124.747207</td>\n",
              "      <td>32</td>\n",
              "      <td>среднее</td>\n",
              "      <td>1</td>\n",
              "      <td>женат / замужем</td>\n",
              "      <td>0</td>\n",
              "      <td>M</td>\n",
              "      <td>сотрудник</td>\n",
              "      <td>0</td>\n",
              "      <td>267628.550329</td>\n",
              "      <td>дополнительное образование</td>\n",
              "    </tr>\n",
              "    <tr>\n",
              "      <th>4</th>\n",
              "      <td>0</td>\n",
              "      <td>340266.072047</td>\n",
              "      <td>53</td>\n",
              "      <td>среднее</td>\n",
              "      <td>1</td>\n",
              "      <td>гражданский брак</td>\n",
              "      <td>1</td>\n",
              "      <td>F</td>\n",
              "      <td>пенсионер</td>\n",
              "      <td>0</td>\n",
              "      <td>158616.077870</td>\n",
              "      <td>сыграть свадьбу</td>\n",
              "    </tr>\n",
              "    <tr>\n",
              "      <th>5</th>\n",
              "      <td>0</td>\n",
              "      <td>-926.185831</td>\n",
              "      <td>27</td>\n",
              "      <td>высшее</td>\n",
              "      <td>0</td>\n",
              "      <td>гражданский брак</td>\n",
              "      <td>1</td>\n",
              "      <td>M</td>\n",
              "      <td>компаньон</td>\n",
              "      <td>0</td>\n",
              "      <td>255763.565419</td>\n",
              "      <td>покупка жилья</td>\n",
              "    </tr>\n",
              "    <tr>\n",
              "      <th>6</th>\n",
              "      <td>0</td>\n",
              "      <td>-2879.202052</td>\n",
              "      <td>43</td>\n",
              "      <td>высшее</td>\n",
              "      <td>0</td>\n",
              "      <td>женат / замужем</td>\n",
              "      <td>0</td>\n",
              "      <td>F</td>\n",
              "      <td>компаньон</td>\n",
              "      <td>0</td>\n",
              "      <td>240525.971920</td>\n",
              "      <td>операции с жильем</td>\n",
              "    </tr>\n",
              "    <tr>\n",
              "      <th>7</th>\n",
              "      <td>0</td>\n",
              "      <td>-152.779569</td>\n",
              "      <td>50</td>\n",
              "      <td>СРЕДНЕЕ</td>\n",
              "      <td>1</td>\n",
              "      <td>женат / замужем</td>\n",
              "      <td>0</td>\n",
              "      <td>M</td>\n",
              "      <td>сотрудник</td>\n",
              "      <td>0</td>\n",
              "      <td>135823.934197</td>\n",
              "      <td>образование</td>\n",
              "    </tr>\n",
              "    <tr>\n",
              "      <th>8</th>\n",
              "      <td>2</td>\n",
              "      <td>-6929.865299</td>\n",
              "      <td>35</td>\n",
              "      <td>ВЫСШЕЕ</td>\n",
              "      <td>0</td>\n",
              "      <td>гражданский брак</td>\n",
              "      <td>1</td>\n",
              "      <td>F</td>\n",
              "      <td>сотрудник</td>\n",
              "      <td>0</td>\n",
              "      <td>95856.832424</td>\n",
              "      <td>на проведение свадьбы</td>\n",
              "    </tr>\n",
              "    <tr>\n",
              "      <th>9</th>\n",
              "      <td>0</td>\n",
              "      <td>-2188.756445</td>\n",
              "      <td>41</td>\n",
              "      <td>среднее</td>\n",
              "      <td>1</td>\n",
              "      <td>женат / замужем</td>\n",
              "      <td>0</td>\n",
              "      <td>M</td>\n",
              "      <td>сотрудник</td>\n",
              "      <td>0</td>\n",
              "      <td>144425.938277</td>\n",
              "      <td>покупка жилья для семьи</td>\n",
              "    </tr>\n",
              "  </tbody>\n",
              "</table>\n",
              "</div>"
            ],
            "text/plain": [
              "   children  days_employed  dob_years education  education_id  \\\n",
              "0         1   -8437.673028         42    высшее             0   \n",
              "1         1   -4024.803754         36   среднее             1   \n",
              "2         0   -5623.422610         33   Среднее             1   \n",
              "3         3   -4124.747207         32   среднее             1   \n",
              "4         0  340266.072047         53   среднее             1   \n",
              "5         0    -926.185831         27    высшее             0   \n",
              "6         0   -2879.202052         43    высшее             0   \n",
              "7         0    -152.779569         50   СРЕДНЕЕ             1   \n",
              "8         2   -6929.865299         35    ВЫСШЕЕ             0   \n",
              "9         0   -2188.756445         41   среднее             1   \n",
              "\n",
              "      family_status  family_status_id gender income_type  debt   total_income  \\\n",
              "0   женат / замужем                 0      F   сотрудник     0  253875.639453   \n",
              "1   женат / замужем                 0      F   сотрудник     0  112080.014102   \n",
              "2   женат / замужем                 0      M   сотрудник     0  145885.952297   \n",
              "3   женат / замужем                 0      M   сотрудник     0  267628.550329   \n",
              "4  гражданский брак                 1      F   пенсионер     0  158616.077870   \n",
              "5  гражданский брак                 1      M   компаньон     0  255763.565419   \n",
              "6   женат / замужем                 0      F   компаньон     0  240525.971920   \n",
              "7   женат / замужем                 0      M   сотрудник     0  135823.934197   \n",
              "8  гражданский брак                 1      F   сотрудник     0   95856.832424   \n",
              "9   женат / замужем                 0      M   сотрудник     0  144425.938277   \n",
              "\n",
              "                      purpose  \n",
              "0               покупка жилья  \n",
              "1     приобретение автомобиля  \n",
              "2               покупка жилья  \n",
              "3  дополнительное образование  \n",
              "4             сыграть свадьбу  \n",
              "5               покупка жилья  \n",
              "6           операции с жильем  \n",
              "7                 образование  \n",
              "8       на проведение свадьбы  \n",
              "9     покупка жилья для семьи  "
            ]
          },
          "execution_count": 1,
          "metadata": {},
          "output_type": "execute_result"
        }
      ],
      "source": [
        "import pandas as pd\n",
        "data = pd.read_csv('/datasets/data.csv') #чтение файла с сохранением в переменную data\n",
        "data.head(10) #просмотр первых 10 строк таблицы data"
      ]
    },
    {
      "cell_type": "code",
      "execution_count": null,
      "id": "cf093a0c",
      "metadata": {
        "id": "cf093a0c",
        "outputId": "10710e50-79d0-4839-859b-a309edc5d070"
      },
      "outputs": [
        {
          "name": "stdout",
          "output_type": "stream",
          "text": [
            "<class 'pandas.core.frame.DataFrame'>\n",
            "RangeIndex: 21525 entries, 0 to 21524\n",
            "Data columns (total 12 columns):\n",
            " #   Column            Non-Null Count  Dtype  \n",
            "---  ------            --------------  -----  \n",
            " 0   children          21525 non-null  int64  \n",
            " 1   days_employed     19351 non-null  float64\n",
            " 2   dob_years         21525 non-null  int64  \n",
            " 3   education         21525 non-null  object \n",
            " 4   education_id      21525 non-null  int64  \n",
            " 5   family_status     21525 non-null  object \n",
            " 6   family_status_id  21525 non-null  int64  \n",
            " 7   gender            21525 non-null  object \n",
            " 8   income_type       21525 non-null  object \n",
            " 9   debt              21525 non-null  int64  \n",
            " 10  total_income      19351 non-null  float64\n",
            " 11  purpose           21525 non-null  object \n",
            "dtypes: float64(2), int64(5), object(5)\n",
            "memory usage: 2.0+ MB\n"
          ]
        }
      ],
      "source": [
        "data.info() #просмотр общей информации таблицы data"
      ]
    },
    {
      "cell_type": "markdown",
      "id": "b58aec3e",
      "metadata": {
        "id": "b58aec3e"
      },
      "source": [
        "Таблица `data` содержит двенадцать столбцов. Типы данных используемых в таблицах: `float64`, `int64` и `object`.\n",
        "Согласно описанию данных:\n",
        "* `children` — количество детей в семье\n",
        "* `days_employed` — общий трудовой стаж в днях\n",
        "* `dob_years` — возраст клиента в годах\n",
        "* `education` — уровень образования клиента\n",
        "* `education_id` — идентификатор уровня образования\n",
        "* `family_status` — семейное положение\n",
        "* `family_status_id` — идентификатор семейного положения\n",
        "* `gender` — пол клиента\n",
        "* `income_type` — тип занятости\n",
        "* `debt` — имел ли задолженность по возврату кредитов\n",
        "* `total_income` — ежемесячный доход\n",
        "* `purpose` — цель получения кредита\n",
        "\n",
        "В столбцах `days_employed` и `total_income`количество значений отличается от общего количества. Это значит, что в этих столбцах имеются пропущенные значения.  \n",
        "Так же в столбце `days_employed` отрицательные значения сразу бросаются в глаза, но т.к. столбец указывает на *общий трудовой стаж в днях*. Это говорит о том, что в данных есть аномалии, которые необходимо исправить до заполнения пропусков.\n"
      ]
    },
    {
      "cell_type": "markdown",
      "id": "fd8644a4",
      "metadata": {
        "id": "fd8644a4"
      },
      "source": [
        "### Шаг 2.1 Заполнение пропусков"
      ]
    },
    {
      "cell_type": "code",
      "execution_count": null,
      "id": "c2db75fb",
      "metadata": {
        "id": "c2db75fb",
        "outputId": "34692a0b-d2f5-4ed4-9d2a-9696125387f6"
      },
      "outputs": [
        {
          "data": {
            "text/plain": [
              "children               0\n",
              "days_employed       2174\n",
              "dob_years              0\n",
              "education              0\n",
              "education_id           0\n",
              "family_status          0\n",
              "family_status_id       0\n",
              "gender                 0\n",
              "income_type            0\n",
              "debt                   0\n",
              "total_income        2174\n",
              "purpose                0\n",
              "dtype: int64"
            ]
          },
          "execution_count": 3,
          "metadata": {},
          "output_type": "execute_result"
        }
      ],
      "source": [
        "data.isna().sum() #подсчет пропусков в таблице"
      ]
    },
    {
      "cell_type": "code",
      "execution_count": null,
      "id": "e42e23f0",
      "metadata": {
        "id": "e42e23f0",
        "outputId": "78ee6de1-faf2-40e6-e3a3-c29d192417f2"
      },
      "outputs": [
        {
          "data": {
            "text/plain": [
              "children             0.0\n",
              "days_employed       10.1\n",
              "dob_years            0.0\n",
              "education            0.0\n",
              "education_id         0.0\n",
              "family_status        0.0\n",
              "family_status_id     0.0\n",
              "gender               0.0\n",
              "income_type          0.0\n",
              "debt                 0.0\n",
              "total_income        10.1\n",
              "purpose              0.0\n",
              "dtype: float64"
            ]
          },
          "execution_count": 4,
          "metadata": {},
          "output_type": "execute_result"
        }
      ],
      "source": [
        "round(data.isna().sum() * 100 / len(data),1) #подсчет пропусков от всех значений датафрейма"
      ]
    },
    {
      "cell_type": "markdown",
      "id": "1e25c6b7",
      "metadata": {
        "id": "1e25c6b7"
      },
      "source": [
        "Количество пропусков в столбцах `days_employed` и `total_income` одинаковы и составляют более 10% от всех значений датафрейма. Такая цифра достаточно весома и отметает вариант с удалением строк с пропущенными значениями.\n",
        "\n",
        "Расмотрим пропущенные данные подробнее."
      ]
    },
    {
      "cell_type": "code",
      "execution_count": null,
      "id": "cc7336c4",
      "metadata": {
        "scrolled": true,
        "id": "cc7336c4",
        "outputId": "55e5ffa5-6a1f-476d-dfff-6ccff6a57df6"
      },
      "outputs": [
        {
          "data": {
            "text/html": [
              "<div>\n",
              "<style scoped>\n",
              "    .dataframe tbody tr th:only-of-type {\n",
              "        vertical-align: middle;\n",
              "    }\n",
              "\n",
              "    .dataframe tbody tr th {\n",
              "        vertical-align: top;\n",
              "    }\n",
              "\n",
              "    .dataframe thead th {\n",
              "        text-align: right;\n",
              "    }\n",
              "</style>\n",
              "<table border=\"1\" class=\"dataframe\">\n",
              "  <thead>\n",
              "    <tr style=\"text-align: right;\">\n",
              "      <th></th>\n",
              "      <th>children</th>\n",
              "      <th>days_employed</th>\n",
              "      <th>dob_years</th>\n",
              "      <th>education</th>\n",
              "      <th>education_id</th>\n",
              "      <th>family_status</th>\n",
              "      <th>family_status_id</th>\n",
              "      <th>gender</th>\n",
              "      <th>income_type</th>\n",
              "      <th>debt</th>\n",
              "      <th>total_income</th>\n",
              "      <th>purpose</th>\n",
              "    </tr>\n",
              "  </thead>\n",
              "  <tbody>\n",
              "    <tr>\n",
              "      <th>12</th>\n",
              "      <td>0</td>\n",
              "      <td>NaN</td>\n",
              "      <td>65</td>\n",
              "      <td>среднее</td>\n",
              "      <td>1</td>\n",
              "      <td>гражданский брак</td>\n",
              "      <td>1</td>\n",
              "      <td>M</td>\n",
              "      <td>пенсионер</td>\n",
              "      <td>0</td>\n",
              "      <td>NaN</td>\n",
              "      <td>сыграть свадьбу</td>\n",
              "    </tr>\n",
              "    <tr>\n",
              "      <th>26</th>\n",
              "      <td>0</td>\n",
              "      <td>NaN</td>\n",
              "      <td>41</td>\n",
              "      <td>среднее</td>\n",
              "      <td>1</td>\n",
              "      <td>женат / замужем</td>\n",
              "      <td>0</td>\n",
              "      <td>M</td>\n",
              "      <td>госслужащий</td>\n",
              "      <td>0</td>\n",
              "      <td>NaN</td>\n",
              "      <td>образование</td>\n",
              "    </tr>\n",
              "    <tr>\n",
              "      <th>29</th>\n",
              "      <td>0</td>\n",
              "      <td>NaN</td>\n",
              "      <td>63</td>\n",
              "      <td>среднее</td>\n",
              "      <td>1</td>\n",
              "      <td>Не женат / не замужем</td>\n",
              "      <td>4</td>\n",
              "      <td>F</td>\n",
              "      <td>пенсионер</td>\n",
              "      <td>0</td>\n",
              "      <td>NaN</td>\n",
              "      <td>строительство жилой недвижимости</td>\n",
              "    </tr>\n",
              "    <tr>\n",
              "      <th>41</th>\n",
              "      <td>0</td>\n",
              "      <td>NaN</td>\n",
              "      <td>50</td>\n",
              "      <td>среднее</td>\n",
              "      <td>1</td>\n",
              "      <td>женат / замужем</td>\n",
              "      <td>0</td>\n",
              "      <td>F</td>\n",
              "      <td>госслужащий</td>\n",
              "      <td>0</td>\n",
              "      <td>NaN</td>\n",
              "      <td>сделка с подержанным автомобилем</td>\n",
              "    </tr>\n",
              "    <tr>\n",
              "      <th>55</th>\n",
              "      <td>0</td>\n",
              "      <td>NaN</td>\n",
              "      <td>54</td>\n",
              "      <td>среднее</td>\n",
              "      <td>1</td>\n",
              "      <td>гражданский брак</td>\n",
              "      <td>1</td>\n",
              "      <td>F</td>\n",
              "      <td>пенсионер</td>\n",
              "      <td>1</td>\n",
              "      <td>NaN</td>\n",
              "      <td>сыграть свадьбу</td>\n",
              "    </tr>\n",
              "    <tr>\n",
              "      <th>65</th>\n",
              "      <td>0</td>\n",
              "      <td>NaN</td>\n",
              "      <td>21</td>\n",
              "      <td>среднее</td>\n",
              "      <td>1</td>\n",
              "      <td>Не женат / не замужем</td>\n",
              "      <td>4</td>\n",
              "      <td>M</td>\n",
              "      <td>компаньон</td>\n",
              "      <td>0</td>\n",
              "      <td>NaN</td>\n",
              "      <td>операции с коммерческой недвижимостью</td>\n",
              "    </tr>\n",
              "    <tr>\n",
              "      <th>67</th>\n",
              "      <td>0</td>\n",
              "      <td>NaN</td>\n",
              "      <td>52</td>\n",
              "      <td>высшее</td>\n",
              "      <td>0</td>\n",
              "      <td>женат / замужем</td>\n",
              "      <td>0</td>\n",
              "      <td>F</td>\n",
              "      <td>пенсионер</td>\n",
              "      <td>0</td>\n",
              "      <td>NaN</td>\n",
              "      <td>покупка жилья для семьи</td>\n",
              "    </tr>\n",
              "    <tr>\n",
              "      <th>72</th>\n",
              "      <td>1</td>\n",
              "      <td>NaN</td>\n",
              "      <td>32</td>\n",
              "      <td>высшее</td>\n",
              "      <td>0</td>\n",
              "      <td>женат / замужем</td>\n",
              "      <td>0</td>\n",
              "      <td>M</td>\n",
              "      <td>госслужащий</td>\n",
              "      <td>0</td>\n",
              "      <td>NaN</td>\n",
              "      <td>операции с коммерческой недвижимостью</td>\n",
              "    </tr>\n",
              "    <tr>\n",
              "      <th>82</th>\n",
              "      <td>2</td>\n",
              "      <td>NaN</td>\n",
              "      <td>50</td>\n",
              "      <td>высшее</td>\n",
              "      <td>0</td>\n",
              "      <td>женат / замужем</td>\n",
              "      <td>0</td>\n",
              "      <td>F</td>\n",
              "      <td>сотрудник</td>\n",
              "      <td>0</td>\n",
              "      <td>NaN</td>\n",
              "      <td>жилье</td>\n",
              "    </tr>\n",
              "    <tr>\n",
              "      <th>83</th>\n",
              "      <td>0</td>\n",
              "      <td>NaN</td>\n",
              "      <td>52</td>\n",
              "      <td>среднее</td>\n",
              "      <td>1</td>\n",
              "      <td>женат / замужем</td>\n",
              "      <td>0</td>\n",
              "      <td>M</td>\n",
              "      <td>сотрудник</td>\n",
              "      <td>0</td>\n",
              "      <td>NaN</td>\n",
              "      <td>жилье</td>\n",
              "    </tr>\n",
              "  </tbody>\n",
              "</table>\n",
              "</div>"
            ],
            "text/plain": [
              "    children  days_employed  dob_years education  education_id  \\\n",
              "12         0            NaN         65   среднее             1   \n",
              "26         0            NaN         41   среднее             1   \n",
              "29         0            NaN         63   среднее             1   \n",
              "41         0            NaN         50   среднее             1   \n",
              "55         0            NaN         54   среднее             1   \n",
              "65         0            NaN         21   среднее             1   \n",
              "67         0            NaN         52    высшее             0   \n",
              "72         1            NaN         32    высшее             0   \n",
              "82         2            NaN         50    высшее             0   \n",
              "83         0            NaN         52   среднее             1   \n",
              "\n",
              "            family_status  family_status_id gender  income_type  debt  \\\n",
              "12       гражданский брак                 1      M    пенсионер     0   \n",
              "26        женат / замужем                 0      M  госслужащий     0   \n",
              "29  Не женат / не замужем                 4      F    пенсионер     0   \n",
              "41        женат / замужем                 0      F  госслужащий     0   \n",
              "55       гражданский брак                 1      F    пенсионер     1   \n",
              "65  Не женат / не замужем                 4      M    компаньон     0   \n",
              "67        женат / замужем                 0      F    пенсионер     0   \n",
              "72        женат / замужем                 0      M  госслужащий     0   \n",
              "82        женат / замужем                 0      F    сотрудник     0   \n",
              "83        женат / замужем                 0      M    сотрудник     0   \n",
              "\n",
              "    total_income                                purpose  \n",
              "12           NaN                        сыграть свадьбу  \n",
              "26           NaN                            образование  \n",
              "29           NaN       строительство жилой недвижимости  \n",
              "41           NaN       сделка с подержанным автомобилем  \n",
              "55           NaN                        сыграть свадьбу  \n",
              "65           NaN  операции с коммерческой недвижимостью  \n",
              "67           NaN                покупка жилья для семьи  \n",
              "72           NaN  операции с коммерческой недвижимостью  \n",
              "82           NaN                                  жилье  \n",
              "83           NaN                                  жилье  "
            ]
          },
          "execution_count": 5,
          "metadata": {},
          "output_type": "execute_result"
        }
      ],
      "source": [
        "data[data['days_employed'].isna()].head(10) #найдём все строки с пропусками в столбце days_employed и просмотрим первые 10"
      ]
    },
    {
      "cell_type": "code",
      "execution_count": null,
      "id": "9dc9e9d8",
      "metadata": {
        "scrolled": true,
        "id": "9dc9e9d8",
        "outputId": "365f9645-2bb6-4510-8f80-00bc6149ff72"
      },
      "outputs": [
        {
          "data": {
            "text/html": [
              "<div>\n",
              "<style scoped>\n",
              "    .dataframe tbody tr th:only-of-type {\n",
              "        vertical-align: middle;\n",
              "    }\n",
              "\n",
              "    .dataframe tbody tr th {\n",
              "        vertical-align: top;\n",
              "    }\n",
              "\n",
              "    .dataframe thead th {\n",
              "        text-align: right;\n",
              "    }\n",
              "</style>\n",
              "<table border=\"1\" class=\"dataframe\">\n",
              "  <thead>\n",
              "    <tr style=\"text-align: right;\">\n",
              "      <th></th>\n",
              "      <th>children</th>\n",
              "      <th>days_employed</th>\n",
              "      <th>dob_years</th>\n",
              "      <th>education</th>\n",
              "      <th>education_id</th>\n",
              "      <th>family_status</th>\n",
              "      <th>family_status_id</th>\n",
              "      <th>gender</th>\n",
              "      <th>income_type</th>\n",
              "      <th>debt</th>\n",
              "      <th>total_income</th>\n",
              "      <th>purpose</th>\n",
              "    </tr>\n",
              "  </thead>\n",
              "  <tbody>\n",
              "    <tr>\n",
              "      <th>12</th>\n",
              "      <td>0</td>\n",
              "      <td>NaN</td>\n",
              "      <td>65</td>\n",
              "      <td>среднее</td>\n",
              "      <td>1</td>\n",
              "      <td>гражданский брак</td>\n",
              "      <td>1</td>\n",
              "      <td>M</td>\n",
              "      <td>пенсионер</td>\n",
              "      <td>0</td>\n",
              "      <td>NaN</td>\n",
              "      <td>сыграть свадьбу</td>\n",
              "    </tr>\n",
              "    <tr>\n",
              "      <th>26</th>\n",
              "      <td>0</td>\n",
              "      <td>NaN</td>\n",
              "      <td>41</td>\n",
              "      <td>среднее</td>\n",
              "      <td>1</td>\n",
              "      <td>женат / замужем</td>\n",
              "      <td>0</td>\n",
              "      <td>M</td>\n",
              "      <td>госслужащий</td>\n",
              "      <td>0</td>\n",
              "      <td>NaN</td>\n",
              "      <td>образование</td>\n",
              "    </tr>\n",
              "    <tr>\n",
              "      <th>29</th>\n",
              "      <td>0</td>\n",
              "      <td>NaN</td>\n",
              "      <td>63</td>\n",
              "      <td>среднее</td>\n",
              "      <td>1</td>\n",
              "      <td>Не женат / не замужем</td>\n",
              "      <td>4</td>\n",
              "      <td>F</td>\n",
              "      <td>пенсионер</td>\n",
              "      <td>0</td>\n",
              "      <td>NaN</td>\n",
              "      <td>строительство жилой недвижимости</td>\n",
              "    </tr>\n",
              "    <tr>\n",
              "      <th>41</th>\n",
              "      <td>0</td>\n",
              "      <td>NaN</td>\n",
              "      <td>50</td>\n",
              "      <td>среднее</td>\n",
              "      <td>1</td>\n",
              "      <td>женат / замужем</td>\n",
              "      <td>0</td>\n",
              "      <td>F</td>\n",
              "      <td>госслужащий</td>\n",
              "      <td>0</td>\n",
              "      <td>NaN</td>\n",
              "      <td>сделка с подержанным автомобилем</td>\n",
              "    </tr>\n",
              "    <tr>\n",
              "      <th>55</th>\n",
              "      <td>0</td>\n",
              "      <td>NaN</td>\n",
              "      <td>54</td>\n",
              "      <td>среднее</td>\n",
              "      <td>1</td>\n",
              "      <td>гражданский брак</td>\n",
              "      <td>1</td>\n",
              "      <td>F</td>\n",
              "      <td>пенсионер</td>\n",
              "      <td>1</td>\n",
              "      <td>NaN</td>\n",
              "      <td>сыграть свадьбу</td>\n",
              "    </tr>\n",
              "    <tr>\n",
              "      <th>65</th>\n",
              "      <td>0</td>\n",
              "      <td>NaN</td>\n",
              "      <td>21</td>\n",
              "      <td>среднее</td>\n",
              "      <td>1</td>\n",
              "      <td>Не женат / не замужем</td>\n",
              "      <td>4</td>\n",
              "      <td>M</td>\n",
              "      <td>компаньон</td>\n",
              "      <td>0</td>\n",
              "      <td>NaN</td>\n",
              "      <td>операции с коммерческой недвижимостью</td>\n",
              "    </tr>\n",
              "    <tr>\n",
              "      <th>67</th>\n",
              "      <td>0</td>\n",
              "      <td>NaN</td>\n",
              "      <td>52</td>\n",
              "      <td>высшее</td>\n",
              "      <td>0</td>\n",
              "      <td>женат / замужем</td>\n",
              "      <td>0</td>\n",
              "      <td>F</td>\n",
              "      <td>пенсионер</td>\n",
              "      <td>0</td>\n",
              "      <td>NaN</td>\n",
              "      <td>покупка жилья для семьи</td>\n",
              "    </tr>\n",
              "    <tr>\n",
              "      <th>72</th>\n",
              "      <td>1</td>\n",
              "      <td>NaN</td>\n",
              "      <td>32</td>\n",
              "      <td>высшее</td>\n",
              "      <td>0</td>\n",
              "      <td>женат / замужем</td>\n",
              "      <td>0</td>\n",
              "      <td>M</td>\n",
              "      <td>госслужащий</td>\n",
              "      <td>0</td>\n",
              "      <td>NaN</td>\n",
              "      <td>операции с коммерческой недвижимостью</td>\n",
              "    </tr>\n",
              "    <tr>\n",
              "      <th>82</th>\n",
              "      <td>2</td>\n",
              "      <td>NaN</td>\n",
              "      <td>50</td>\n",
              "      <td>высшее</td>\n",
              "      <td>0</td>\n",
              "      <td>женат / замужем</td>\n",
              "      <td>0</td>\n",
              "      <td>F</td>\n",
              "      <td>сотрудник</td>\n",
              "      <td>0</td>\n",
              "      <td>NaN</td>\n",
              "      <td>жилье</td>\n",
              "    </tr>\n",
              "    <tr>\n",
              "      <th>83</th>\n",
              "      <td>0</td>\n",
              "      <td>NaN</td>\n",
              "      <td>52</td>\n",
              "      <td>среднее</td>\n",
              "      <td>1</td>\n",
              "      <td>женат / замужем</td>\n",
              "      <td>0</td>\n",
              "      <td>M</td>\n",
              "      <td>сотрудник</td>\n",
              "      <td>0</td>\n",
              "      <td>NaN</td>\n",
              "      <td>жилье</td>\n",
              "    </tr>\n",
              "  </tbody>\n",
              "</table>\n",
              "</div>"
            ],
            "text/plain": [
              "    children  days_employed  dob_years education  education_id  \\\n",
              "12         0            NaN         65   среднее             1   \n",
              "26         0            NaN         41   среднее             1   \n",
              "29         0            NaN         63   среднее             1   \n",
              "41         0            NaN         50   среднее             1   \n",
              "55         0            NaN         54   среднее             1   \n",
              "65         0            NaN         21   среднее             1   \n",
              "67         0            NaN         52    высшее             0   \n",
              "72         1            NaN         32    высшее             0   \n",
              "82         2            NaN         50    высшее             0   \n",
              "83         0            NaN         52   среднее             1   \n",
              "\n",
              "            family_status  family_status_id gender  income_type  debt  \\\n",
              "12       гражданский брак                 1      M    пенсионер     0   \n",
              "26        женат / замужем                 0      M  госслужащий     0   \n",
              "29  Не женат / не замужем                 4      F    пенсионер     0   \n",
              "41        женат / замужем                 0      F  госслужащий     0   \n",
              "55       гражданский брак                 1      F    пенсионер     1   \n",
              "65  Не женат / не замужем                 4      M    компаньон     0   \n",
              "67        женат / замужем                 0      F    пенсионер     0   \n",
              "72        женат / замужем                 0      M  госслужащий     0   \n",
              "82        женат / замужем                 0      F    сотрудник     0   \n",
              "83        женат / замужем                 0      M    сотрудник     0   \n",
              "\n",
              "    total_income                                purpose  \n",
              "12           NaN                        сыграть свадьбу  \n",
              "26           NaN                            образование  \n",
              "29           NaN       строительство жилой недвижимости  \n",
              "41           NaN       сделка с подержанным автомобилем  \n",
              "55           NaN                        сыграть свадьбу  \n",
              "65           NaN  операции с коммерческой недвижимостью  \n",
              "67           NaN                покупка жилья для семьи  \n",
              "72           NaN  операции с коммерческой недвижимостью  \n",
              "82           NaN                                  жилье  \n",
              "83           NaN                                  жилье  "
            ]
          },
          "execution_count": 6,
          "metadata": {},
          "output_type": "execute_result"
        }
      ],
      "source": [
        "data[data['total_income'].isna()].head(10) #найдём все строки с пропусками в столбце days_employed и просмотрим первые 10"
      ]
    },
    {
      "cell_type": "markdown",
      "id": "bc96fe16",
      "metadata": {
        "id": "bc96fe16"
      },
      "source": [
        "После вывода первых 10 строк с пропушенными значениями по столбцам `days_employed` и `total_income`, оказалось, что эти строки индентичны. \n",
        "<br>Можно допустить, что значения `NaN`в столбцах `days_employed` и `total_income` находятся в одних и тех же строках. Отсюда можно предположить, что природа появления `NaN` в таблице имеет технический характер.\n",
        "\n",
        "<br>*Общий трудовой стаж в днях* и *ежемесячный доход* это количественные переменные. Для заполнения пропусков в количественных переменных можно использовать, например,**среднее арифметическое** или **медиану**.\n",
        "\n"
      ]
    },
    {
      "cell_type": "code",
      "execution_count": null,
      "id": "e6616dbd",
      "metadata": {
        "id": "e6616dbd",
        "outputId": "240b9f0e-578b-4215-aa70-f630716837e2"
      },
      "outputs": [
        {
          "data": {
            "text/plain": [
              "count      19351.000\n",
              "mean      167422.302\n",
              "std       102971.566\n",
              "min        20667.264\n",
              "25%       103053.153\n",
              "50%       145017.938\n",
              "75%       203435.068\n",
              "max      2265604.029\n",
              "Name: total_income, dtype: float64"
            ]
          },
          "execution_count": 7,
          "metadata": {},
          "output_type": "execute_result"
        }
      ],
      "source": [
        "round(data['total_income'].describe(),3)"
      ]
    },
    {
      "cell_type": "markdown",
      "id": "0f384fa2",
      "metadata": {
        "id": "0f384fa2"
      },
      "source": [
        "Мы видим, что разброс между минимальными и максимальными значениями столбца `total_income` довольно большие. В таком случае, медиана даст более реалистичную цифру.   \n",
        "Медиану считают лучше, чем среднее значение, если если разница между максимальным и минимальным значениями большие.Среднее значение, было бы подходящим, если данные были распределены симметрично.   \n",
        "Произведем замену данных в столбце `total_income` медиальным значением с учетом типа занятости - `income_type`.\n",
        "\n"
      ]
    },
    {
      "cell_type": "code",
      "execution_count": null,
      "id": "0a75e033",
      "metadata": {
        "scrolled": true,
        "id": "0a75e033",
        "outputId": "0f10c1d8-3080-4789-f04d-f9f900c93196"
      },
      "outputs": [
        {
          "name": "stdout",
          "output_type": "stream",
          "text": [
            "<class 'pandas.core.frame.DataFrame'>\n",
            "RangeIndex: 21525 entries, 0 to 21524\n",
            "Data columns (total 12 columns):\n",
            " #   Column            Non-Null Count  Dtype  \n",
            "---  ------            --------------  -----  \n",
            " 0   children          21525 non-null  int64  \n",
            " 1   days_employed     19351 non-null  float64\n",
            " 2   dob_years         21525 non-null  int64  \n",
            " 3   education         21525 non-null  object \n",
            " 4   education_id      21525 non-null  int64  \n",
            " 5   family_status     21525 non-null  object \n",
            " 6   family_status_id  21525 non-null  int64  \n",
            " 7   gender            21525 non-null  object \n",
            " 8   income_type       21525 non-null  object \n",
            " 9   debt              21525 non-null  int64  \n",
            " 10  total_income      21525 non-null  float64\n",
            " 11  purpose           21525 non-null  object \n",
            "dtypes: float64(2), int64(5), object(5)\n",
            "memory usage: 2.0+ MB\n"
          ]
        }
      ],
      "source": [
        "data['total_income'] = data['total_income'].fillna(data.groupby(['income_type'])['total_income'].transform('median'))\n",
        "#замена пропущенных значений медиальными по столбцу 'total_income'\n",
        "data.info()"
      ]
    },
    {
      "cell_type": "code",
      "execution_count": null,
      "id": "62318421",
      "metadata": {
        "id": "62318421",
        "outputId": "833152f1-402b-48e7-c8c0-1c4efbc9d037"
      },
      "outputs": [
        {
          "data": {
            "text/html": [
              "<div>\n",
              "<style scoped>\n",
              "    .dataframe tbody tr th:only-of-type {\n",
              "        vertical-align: middle;\n",
              "    }\n",
              "\n",
              "    .dataframe tbody tr th {\n",
              "        vertical-align: top;\n",
              "    }\n",
              "\n",
              "    .dataframe thead th {\n",
              "        text-align: right;\n",
              "    }\n",
              "</style>\n",
              "<table border=\"1\" class=\"dataframe\">\n",
              "  <thead>\n",
              "    <tr style=\"text-align: right;\">\n",
              "      <th></th>\n",
              "      <th>children</th>\n",
              "      <th>days_employed</th>\n",
              "      <th>dob_years</th>\n",
              "      <th>education</th>\n",
              "      <th>education_id</th>\n",
              "      <th>family_status</th>\n",
              "      <th>family_status_id</th>\n",
              "      <th>gender</th>\n",
              "      <th>income_type</th>\n",
              "      <th>debt</th>\n",
              "      <th>total_income</th>\n",
              "      <th>purpose</th>\n",
              "    </tr>\n",
              "  </thead>\n",
              "  <tbody>\n",
              "    <tr>\n",
              "      <th>0</th>\n",
              "      <td>1</td>\n",
              "      <td>-8437.673028</td>\n",
              "      <td>42</td>\n",
              "      <td>высшее</td>\n",
              "      <td>0</td>\n",
              "      <td>женат / замужем</td>\n",
              "      <td>0</td>\n",
              "      <td>F</td>\n",
              "      <td>сотрудник</td>\n",
              "      <td>0</td>\n",
              "      <td>253875.639453</td>\n",
              "      <td>покупка жилья</td>\n",
              "    </tr>\n",
              "    <tr>\n",
              "      <th>1</th>\n",
              "      <td>1</td>\n",
              "      <td>-4024.803754</td>\n",
              "      <td>36</td>\n",
              "      <td>среднее</td>\n",
              "      <td>1</td>\n",
              "      <td>женат / замужем</td>\n",
              "      <td>0</td>\n",
              "      <td>F</td>\n",
              "      <td>сотрудник</td>\n",
              "      <td>0</td>\n",
              "      <td>112080.014102</td>\n",
              "      <td>приобретение автомобиля</td>\n",
              "    </tr>\n",
              "    <tr>\n",
              "      <th>2</th>\n",
              "      <td>0</td>\n",
              "      <td>-5623.422610</td>\n",
              "      <td>33</td>\n",
              "      <td>Среднее</td>\n",
              "      <td>1</td>\n",
              "      <td>женат / замужем</td>\n",
              "      <td>0</td>\n",
              "      <td>M</td>\n",
              "      <td>сотрудник</td>\n",
              "      <td>0</td>\n",
              "      <td>145885.952297</td>\n",
              "      <td>покупка жилья</td>\n",
              "    </tr>\n",
              "    <tr>\n",
              "      <th>3</th>\n",
              "      <td>3</td>\n",
              "      <td>-4124.747207</td>\n",
              "      <td>32</td>\n",
              "      <td>среднее</td>\n",
              "      <td>1</td>\n",
              "      <td>женат / замужем</td>\n",
              "      <td>0</td>\n",
              "      <td>M</td>\n",
              "      <td>сотрудник</td>\n",
              "      <td>0</td>\n",
              "      <td>267628.550329</td>\n",
              "      <td>дополнительное образование</td>\n",
              "    </tr>\n",
              "    <tr>\n",
              "      <th>4</th>\n",
              "      <td>0</td>\n",
              "      <td>340266.072047</td>\n",
              "      <td>53</td>\n",
              "      <td>среднее</td>\n",
              "      <td>1</td>\n",
              "      <td>гражданский брак</td>\n",
              "      <td>1</td>\n",
              "      <td>F</td>\n",
              "      <td>пенсионер</td>\n",
              "      <td>0</td>\n",
              "      <td>158616.077870</td>\n",
              "      <td>сыграть свадьбу</td>\n",
              "    </tr>\n",
              "    <tr>\n",
              "      <th>5</th>\n",
              "      <td>0</td>\n",
              "      <td>-926.185831</td>\n",
              "      <td>27</td>\n",
              "      <td>высшее</td>\n",
              "      <td>0</td>\n",
              "      <td>гражданский брак</td>\n",
              "      <td>1</td>\n",
              "      <td>M</td>\n",
              "      <td>компаньон</td>\n",
              "      <td>0</td>\n",
              "      <td>255763.565419</td>\n",
              "      <td>покупка жилья</td>\n",
              "    </tr>\n",
              "    <tr>\n",
              "      <th>6</th>\n",
              "      <td>0</td>\n",
              "      <td>-2879.202052</td>\n",
              "      <td>43</td>\n",
              "      <td>высшее</td>\n",
              "      <td>0</td>\n",
              "      <td>женат / замужем</td>\n",
              "      <td>0</td>\n",
              "      <td>F</td>\n",
              "      <td>компаньон</td>\n",
              "      <td>0</td>\n",
              "      <td>240525.971920</td>\n",
              "      <td>операции с жильем</td>\n",
              "    </tr>\n",
              "    <tr>\n",
              "      <th>7</th>\n",
              "      <td>0</td>\n",
              "      <td>-152.779569</td>\n",
              "      <td>50</td>\n",
              "      <td>СРЕДНЕЕ</td>\n",
              "      <td>1</td>\n",
              "      <td>женат / замужем</td>\n",
              "      <td>0</td>\n",
              "      <td>M</td>\n",
              "      <td>сотрудник</td>\n",
              "      <td>0</td>\n",
              "      <td>135823.934197</td>\n",
              "      <td>образование</td>\n",
              "    </tr>\n",
              "    <tr>\n",
              "      <th>8</th>\n",
              "      <td>2</td>\n",
              "      <td>-6929.865299</td>\n",
              "      <td>35</td>\n",
              "      <td>ВЫСШЕЕ</td>\n",
              "      <td>0</td>\n",
              "      <td>гражданский брак</td>\n",
              "      <td>1</td>\n",
              "      <td>F</td>\n",
              "      <td>сотрудник</td>\n",
              "      <td>0</td>\n",
              "      <td>95856.832424</td>\n",
              "      <td>на проведение свадьбы</td>\n",
              "    </tr>\n",
              "    <tr>\n",
              "      <th>9</th>\n",
              "      <td>0</td>\n",
              "      <td>-2188.756445</td>\n",
              "      <td>41</td>\n",
              "      <td>среднее</td>\n",
              "      <td>1</td>\n",
              "      <td>женат / замужем</td>\n",
              "      <td>0</td>\n",
              "      <td>M</td>\n",
              "      <td>сотрудник</td>\n",
              "      <td>0</td>\n",
              "      <td>144425.938277</td>\n",
              "      <td>покупка жилья для семьи</td>\n",
              "    </tr>\n",
              "  </tbody>\n",
              "</table>\n",
              "</div>"
            ],
            "text/plain": [
              "   children  days_employed  dob_years education  education_id  \\\n",
              "0         1   -8437.673028         42    высшее             0   \n",
              "1         1   -4024.803754         36   среднее             1   \n",
              "2         0   -5623.422610         33   Среднее             1   \n",
              "3         3   -4124.747207         32   среднее             1   \n",
              "4         0  340266.072047         53   среднее             1   \n",
              "5         0    -926.185831         27    высшее             0   \n",
              "6         0   -2879.202052         43    высшее             0   \n",
              "7         0    -152.779569         50   СРЕДНЕЕ             1   \n",
              "8         2   -6929.865299         35    ВЫСШЕЕ             0   \n",
              "9         0   -2188.756445         41   среднее             1   \n",
              "\n",
              "      family_status  family_status_id gender income_type  debt   total_income  \\\n",
              "0   женат / замужем                 0      F   сотрудник     0  253875.639453   \n",
              "1   женат / замужем                 0      F   сотрудник     0  112080.014102   \n",
              "2   женат / замужем                 0      M   сотрудник     0  145885.952297   \n",
              "3   женат / замужем                 0      M   сотрудник     0  267628.550329   \n",
              "4  гражданский брак                 1      F   пенсионер     0  158616.077870   \n",
              "5  гражданский брак                 1      M   компаньон     0  255763.565419   \n",
              "6   женат / замужем                 0      F   компаньон     0  240525.971920   \n",
              "7   женат / замужем                 0      M   сотрудник     0  135823.934197   \n",
              "8  гражданский брак                 1      F   сотрудник     0   95856.832424   \n",
              "9   женат / замужем                 0      M   сотрудник     0  144425.938277   \n",
              "\n",
              "                      purpose  \n",
              "0               покупка жилья  \n",
              "1     приобретение автомобиля  \n",
              "2               покупка жилья  \n",
              "3  дополнительное образование  \n",
              "4             сыграть свадьбу  \n",
              "5               покупка жилья  \n",
              "6           операции с жильем  \n",
              "7                 образование  \n",
              "8       на проведение свадьбы  \n",
              "9     покупка жилья для семьи  "
            ]
          },
          "execution_count": 9,
          "metadata": {},
          "output_type": "execute_result"
        }
      ],
      "source": [
        "data.head(10)"
      ]
    },
    {
      "cell_type": "markdown",
      "id": "356f7397",
      "metadata": {
        "id": "356f7397"
      },
      "source": [
        "Вызвав информационное окно, мы видим, что пропуски в столбце `total_income `заполнены."
      ]
    },
    {
      "cell_type": "markdown",
      "id": "037ebd27",
      "metadata": {
        "id": "037ebd27"
      },
      "source": [
        "### Шаг 2.2 Проверка данных на аномалии и исправления."
      ]
    },
    {
      "cell_type": "markdown",
      "id": "1facf180",
      "metadata": {
        "id": "1facf180"
      },
      "source": [
        "Ранее мы нашли аномалию в столбце `days_employed`.      \n",
        "<br>Выведем первые 10 строк с аномалией:"
      ]
    },
    {
      "cell_type": "code",
      "execution_count": null,
      "id": "6277957e",
      "metadata": {
        "id": "6277957e",
        "outputId": "8cba498c-f10d-42e6-ad9e-9fe4759bf136"
      },
      "outputs": [
        {
          "data": {
            "text/html": [
              "<div>\n",
              "<style scoped>\n",
              "    .dataframe tbody tr th:only-of-type {\n",
              "        vertical-align: middle;\n",
              "    }\n",
              "\n",
              "    .dataframe tbody tr th {\n",
              "        vertical-align: top;\n",
              "    }\n",
              "\n",
              "    .dataframe thead th {\n",
              "        text-align: right;\n",
              "    }\n",
              "</style>\n",
              "<table border=\"1\" class=\"dataframe\">\n",
              "  <thead>\n",
              "    <tr style=\"text-align: right;\">\n",
              "      <th></th>\n",
              "      <th>children</th>\n",
              "      <th>days_employed</th>\n",
              "      <th>dob_years</th>\n",
              "      <th>education</th>\n",
              "      <th>education_id</th>\n",
              "      <th>family_status</th>\n",
              "      <th>family_status_id</th>\n",
              "      <th>gender</th>\n",
              "      <th>income_type</th>\n",
              "      <th>debt</th>\n",
              "      <th>total_income</th>\n",
              "      <th>purpose</th>\n",
              "    </tr>\n",
              "  </thead>\n",
              "  <tbody>\n",
              "    <tr>\n",
              "      <th>0</th>\n",
              "      <td>1</td>\n",
              "      <td>-8437.673028</td>\n",
              "      <td>42</td>\n",
              "      <td>высшее</td>\n",
              "      <td>0</td>\n",
              "      <td>женат / замужем</td>\n",
              "      <td>0</td>\n",
              "      <td>F</td>\n",
              "      <td>сотрудник</td>\n",
              "      <td>0</td>\n",
              "      <td>253875.639453</td>\n",
              "      <td>покупка жилья</td>\n",
              "    </tr>\n",
              "    <tr>\n",
              "      <th>1</th>\n",
              "      <td>1</td>\n",
              "      <td>-4024.803754</td>\n",
              "      <td>36</td>\n",
              "      <td>среднее</td>\n",
              "      <td>1</td>\n",
              "      <td>женат / замужем</td>\n",
              "      <td>0</td>\n",
              "      <td>F</td>\n",
              "      <td>сотрудник</td>\n",
              "      <td>0</td>\n",
              "      <td>112080.014102</td>\n",
              "      <td>приобретение автомобиля</td>\n",
              "    </tr>\n",
              "    <tr>\n",
              "      <th>2</th>\n",
              "      <td>0</td>\n",
              "      <td>-5623.422610</td>\n",
              "      <td>33</td>\n",
              "      <td>Среднее</td>\n",
              "      <td>1</td>\n",
              "      <td>женат / замужем</td>\n",
              "      <td>0</td>\n",
              "      <td>M</td>\n",
              "      <td>сотрудник</td>\n",
              "      <td>0</td>\n",
              "      <td>145885.952297</td>\n",
              "      <td>покупка жилья</td>\n",
              "    </tr>\n",
              "    <tr>\n",
              "      <th>3</th>\n",
              "      <td>3</td>\n",
              "      <td>-4124.747207</td>\n",
              "      <td>32</td>\n",
              "      <td>среднее</td>\n",
              "      <td>1</td>\n",
              "      <td>женат / замужем</td>\n",
              "      <td>0</td>\n",
              "      <td>M</td>\n",
              "      <td>сотрудник</td>\n",
              "      <td>0</td>\n",
              "      <td>267628.550329</td>\n",
              "      <td>дополнительное образование</td>\n",
              "    </tr>\n",
              "    <tr>\n",
              "      <th>5</th>\n",
              "      <td>0</td>\n",
              "      <td>-926.185831</td>\n",
              "      <td>27</td>\n",
              "      <td>высшее</td>\n",
              "      <td>0</td>\n",
              "      <td>гражданский брак</td>\n",
              "      <td>1</td>\n",
              "      <td>M</td>\n",
              "      <td>компаньон</td>\n",
              "      <td>0</td>\n",
              "      <td>255763.565419</td>\n",
              "      <td>покупка жилья</td>\n",
              "    </tr>\n",
              "    <tr>\n",
              "      <th>6</th>\n",
              "      <td>0</td>\n",
              "      <td>-2879.202052</td>\n",
              "      <td>43</td>\n",
              "      <td>высшее</td>\n",
              "      <td>0</td>\n",
              "      <td>женат / замужем</td>\n",
              "      <td>0</td>\n",
              "      <td>F</td>\n",
              "      <td>компаньон</td>\n",
              "      <td>0</td>\n",
              "      <td>240525.971920</td>\n",
              "      <td>операции с жильем</td>\n",
              "    </tr>\n",
              "    <tr>\n",
              "      <th>7</th>\n",
              "      <td>0</td>\n",
              "      <td>-152.779569</td>\n",
              "      <td>50</td>\n",
              "      <td>СРЕДНЕЕ</td>\n",
              "      <td>1</td>\n",
              "      <td>женат / замужем</td>\n",
              "      <td>0</td>\n",
              "      <td>M</td>\n",
              "      <td>сотрудник</td>\n",
              "      <td>0</td>\n",
              "      <td>135823.934197</td>\n",
              "      <td>образование</td>\n",
              "    </tr>\n",
              "    <tr>\n",
              "      <th>8</th>\n",
              "      <td>2</td>\n",
              "      <td>-6929.865299</td>\n",
              "      <td>35</td>\n",
              "      <td>ВЫСШЕЕ</td>\n",
              "      <td>0</td>\n",
              "      <td>гражданский брак</td>\n",
              "      <td>1</td>\n",
              "      <td>F</td>\n",
              "      <td>сотрудник</td>\n",
              "      <td>0</td>\n",
              "      <td>95856.832424</td>\n",
              "      <td>на проведение свадьбы</td>\n",
              "    </tr>\n",
              "    <tr>\n",
              "      <th>9</th>\n",
              "      <td>0</td>\n",
              "      <td>-2188.756445</td>\n",
              "      <td>41</td>\n",
              "      <td>среднее</td>\n",
              "      <td>1</td>\n",
              "      <td>женат / замужем</td>\n",
              "      <td>0</td>\n",
              "      <td>M</td>\n",
              "      <td>сотрудник</td>\n",
              "      <td>0</td>\n",
              "      <td>144425.938277</td>\n",
              "      <td>покупка жилья для семьи</td>\n",
              "    </tr>\n",
              "    <tr>\n",
              "      <th>10</th>\n",
              "      <td>2</td>\n",
              "      <td>-4171.483647</td>\n",
              "      <td>36</td>\n",
              "      <td>высшее</td>\n",
              "      <td>0</td>\n",
              "      <td>женат / замужем</td>\n",
              "      <td>0</td>\n",
              "      <td>M</td>\n",
              "      <td>компаньон</td>\n",
              "      <td>0</td>\n",
              "      <td>113943.491460</td>\n",
              "      <td>покупка недвижимости</td>\n",
              "    </tr>\n",
              "  </tbody>\n",
              "</table>\n",
              "</div>"
            ],
            "text/plain": [
              "    children  days_employed  dob_years education  education_id  \\\n",
              "0          1   -8437.673028         42    высшее             0   \n",
              "1          1   -4024.803754         36   среднее             1   \n",
              "2          0   -5623.422610         33   Среднее             1   \n",
              "3          3   -4124.747207         32   среднее             1   \n",
              "5          0    -926.185831         27    высшее             0   \n",
              "6          0   -2879.202052         43    высшее             0   \n",
              "7          0    -152.779569         50   СРЕДНЕЕ             1   \n",
              "8          2   -6929.865299         35    ВЫСШЕЕ             0   \n",
              "9          0   -2188.756445         41   среднее             1   \n",
              "10         2   -4171.483647         36    высшее             0   \n",
              "\n",
              "       family_status  family_status_id gender income_type  debt  \\\n",
              "0    женат / замужем                 0      F   сотрудник     0   \n",
              "1    женат / замужем                 0      F   сотрудник     0   \n",
              "2    женат / замужем                 0      M   сотрудник     0   \n",
              "3    женат / замужем                 0      M   сотрудник     0   \n",
              "5   гражданский брак                 1      M   компаньон     0   \n",
              "6    женат / замужем                 0      F   компаньон     0   \n",
              "7    женат / замужем                 0      M   сотрудник     0   \n",
              "8   гражданский брак                 1      F   сотрудник     0   \n",
              "9    женат / замужем                 0      M   сотрудник     0   \n",
              "10   женат / замужем                 0      M   компаньон     0   \n",
              "\n",
              "     total_income                     purpose  \n",
              "0   253875.639453               покупка жилья  \n",
              "1   112080.014102     приобретение автомобиля  \n",
              "2   145885.952297               покупка жилья  \n",
              "3   267628.550329  дополнительное образование  \n",
              "5   255763.565419               покупка жилья  \n",
              "6   240525.971920           операции с жильем  \n",
              "7   135823.934197                 образование  \n",
              "8    95856.832424       на проведение свадьбы  \n",
              "9   144425.938277     покупка жилья для семьи  \n",
              "10  113943.491460        покупка недвижимости  "
            ]
          },
          "execution_count": 10,
          "metadata": {},
          "output_type": "execute_result"
        }
      ],
      "source": [
        "data.loc[data['days_employed'] < 0,].head(10) \n",
        "# вывод первых 10 строк таблицы с отрицательным значением в столбце 'days_employed'"
      ]
    },
    {
      "cell_type": "code",
      "execution_count": null,
      "id": "79346a11",
      "metadata": {
        "id": "79346a11",
        "outputId": "48122fbe-79c3-424a-a76b-b8816e77b73c"
      },
      "outputs": [
        {
          "data": {
            "text/plain": [
              "73.9"
            ]
          },
          "execution_count": 11,
          "metadata": {},
          "output_type": "execute_result"
        }
      ],
      "source": [
        "round(data.loc[data['days_employed'] < 0, 'days_employed'].count() * 100 / len(data),1) #находим процент отрицательных значений"
      ]
    },
    {
      "cell_type": "markdown",
      "id": "b21df0e6",
      "metadata": {
        "id": "b21df0e6"
      },
      "source": [
        "Общее количество отрицательных значений составляет 73,9% от общего количества строк в таблице. Такой большой процент наводит на мысль, что возникла техническая проблема при загрузке данных и '-' к значениям добавлен случайно.\n",
        "Отбросим минуса в столбце `days_employed`:\n"
      ]
    },
    {
      "cell_type": "code",
      "execution_count": null,
      "id": "0945dc81",
      "metadata": {
        "scrolled": false,
        "id": "0945dc81",
        "outputId": "51f44156-a383-4731-9ac3-aef254940329"
      },
      "outputs": [
        {
          "data": {
            "text/html": [
              "<div>\n",
              "<style scoped>\n",
              "    .dataframe tbody tr th:only-of-type {\n",
              "        vertical-align: middle;\n",
              "    }\n",
              "\n",
              "    .dataframe tbody tr th {\n",
              "        vertical-align: top;\n",
              "    }\n",
              "\n",
              "    .dataframe thead th {\n",
              "        text-align: right;\n",
              "    }\n",
              "</style>\n",
              "<table border=\"1\" class=\"dataframe\">\n",
              "  <thead>\n",
              "    <tr style=\"text-align: right;\">\n",
              "      <th></th>\n",
              "      <th>children</th>\n",
              "      <th>days_employed</th>\n",
              "      <th>dob_years</th>\n",
              "      <th>education</th>\n",
              "      <th>education_id</th>\n",
              "      <th>family_status</th>\n",
              "      <th>family_status_id</th>\n",
              "      <th>gender</th>\n",
              "      <th>income_type</th>\n",
              "      <th>debt</th>\n",
              "      <th>total_income</th>\n",
              "      <th>purpose</th>\n",
              "    </tr>\n",
              "  </thead>\n",
              "  <tbody>\n",
              "    <tr>\n",
              "      <th>0</th>\n",
              "      <td>1</td>\n",
              "      <td>8437.673028</td>\n",
              "      <td>42</td>\n",
              "      <td>высшее</td>\n",
              "      <td>0</td>\n",
              "      <td>женат / замужем</td>\n",
              "      <td>0</td>\n",
              "      <td>F</td>\n",
              "      <td>сотрудник</td>\n",
              "      <td>0</td>\n",
              "      <td>253875.639453</td>\n",
              "      <td>покупка жилья</td>\n",
              "    </tr>\n",
              "    <tr>\n",
              "      <th>1</th>\n",
              "      <td>1</td>\n",
              "      <td>4024.803754</td>\n",
              "      <td>36</td>\n",
              "      <td>среднее</td>\n",
              "      <td>1</td>\n",
              "      <td>женат / замужем</td>\n",
              "      <td>0</td>\n",
              "      <td>F</td>\n",
              "      <td>сотрудник</td>\n",
              "      <td>0</td>\n",
              "      <td>112080.014102</td>\n",
              "      <td>приобретение автомобиля</td>\n",
              "    </tr>\n",
              "    <tr>\n",
              "      <th>2</th>\n",
              "      <td>0</td>\n",
              "      <td>5623.422610</td>\n",
              "      <td>33</td>\n",
              "      <td>Среднее</td>\n",
              "      <td>1</td>\n",
              "      <td>женат / замужем</td>\n",
              "      <td>0</td>\n",
              "      <td>M</td>\n",
              "      <td>сотрудник</td>\n",
              "      <td>0</td>\n",
              "      <td>145885.952297</td>\n",
              "      <td>покупка жилья</td>\n",
              "    </tr>\n",
              "    <tr>\n",
              "      <th>3</th>\n",
              "      <td>3</td>\n",
              "      <td>4124.747207</td>\n",
              "      <td>32</td>\n",
              "      <td>среднее</td>\n",
              "      <td>1</td>\n",
              "      <td>женат / замужем</td>\n",
              "      <td>0</td>\n",
              "      <td>M</td>\n",
              "      <td>сотрудник</td>\n",
              "      <td>0</td>\n",
              "      <td>267628.550329</td>\n",
              "      <td>дополнительное образование</td>\n",
              "    </tr>\n",
              "    <tr>\n",
              "      <th>4</th>\n",
              "      <td>0</td>\n",
              "      <td>340266.072047</td>\n",
              "      <td>53</td>\n",
              "      <td>среднее</td>\n",
              "      <td>1</td>\n",
              "      <td>гражданский брак</td>\n",
              "      <td>1</td>\n",
              "      <td>F</td>\n",
              "      <td>пенсионер</td>\n",
              "      <td>0</td>\n",
              "      <td>158616.077870</td>\n",
              "      <td>сыграть свадьбу</td>\n",
              "    </tr>\n",
              "  </tbody>\n",
              "</table>\n",
              "</div>"
            ],
            "text/plain": [
              "   children  days_employed  dob_years education  education_id  \\\n",
              "0         1    8437.673028         42    высшее             0   \n",
              "1         1    4024.803754         36   среднее             1   \n",
              "2         0    5623.422610         33   Среднее             1   \n",
              "3         3    4124.747207         32   среднее             1   \n",
              "4         0  340266.072047         53   среднее             1   \n",
              "\n",
              "      family_status  family_status_id gender income_type  debt   total_income  \\\n",
              "0   женат / замужем                 0      F   сотрудник     0  253875.639453   \n",
              "1   женат / замужем                 0      F   сотрудник     0  112080.014102   \n",
              "2   женат / замужем                 0      M   сотрудник     0  145885.952297   \n",
              "3   женат / замужем                 0      M   сотрудник     0  267628.550329   \n",
              "4  гражданский брак                 1      F   пенсионер     0  158616.077870   \n",
              "\n",
              "                      purpose  \n",
              "0               покупка жилья  \n",
              "1     приобретение автомобиля  \n",
              "2               покупка жилья  \n",
              "3  дополнительное образование  \n",
              "4             сыграть свадьбу  "
            ]
          },
          "execution_count": 12,
          "metadata": {},
          "output_type": "execute_result"
        }
      ],
      "source": [
        "data.loc[data['days_employed'] != 'NaN', 'days_employed'] = abs(data['days_employed'])#используем модуль для избавления от отрицательных значений стажа\n",
        "data.head(5)"
      ]
    },
    {
      "cell_type": "markdown",
      "id": "ac1b9d42",
      "metadata": {
        "id": "ac1b9d42"
      },
      "source": [
        "Для удобства восприятия информации о стаже преведем её в годы и выведем таблицу на экран:"
      ]
    },
    {
      "cell_type": "code",
      "execution_count": null,
      "id": "e3507da9",
      "metadata": {
        "scrolled": false,
        "id": "e3507da9",
        "outputId": "52812d1d-5b8b-4340-898f-1f2baf94e11a"
      },
      "outputs": [
        {
          "data": {
            "text/html": [
              "<div>\n",
              "<style scoped>\n",
              "    .dataframe tbody tr th:only-of-type {\n",
              "        vertical-align: middle;\n",
              "    }\n",
              "\n",
              "    .dataframe tbody tr th {\n",
              "        vertical-align: top;\n",
              "    }\n",
              "\n",
              "    .dataframe thead th {\n",
              "        text-align: right;\n",
              "    }\n",
              "</style>\n",
              "<table border=\"1\" class=\"dataframe\">\n",
              "  <thead>\n",
              "    <tr style=\"text-align: right;\">\n",
              "      <th></th>\n",
              "      <th>children</th>\n",
              "      <th>days_employed</th>\n",
              "      <th>dob_years</th>\n",
              "      <th>education</th>\n",
              "      <th>education_id</th>\n",
              "      <th>family_status</th>\n",
              "      <th>family_status_id</th>\n",
              "      <th>gender</th>\n",
              "      <th>income_type</th>\n",
              "      <th>debt</th>\n",
              "      <th>total_income</th>\n",
              "      <th>purpose</th>\n",
              "    </tr>\n",
              "  </thead>\n",
              "  <tbody>\n",
              "    <tr>\n",
              "      <th>0</th>\n",
              "      <td>1</td>\n",
              "      <td>23.117</td>\n",
              "      <td>42</td>\n",
              "      <td>высшее</td>\n",
              "      <td>0</td>\n",
              "      <td>женат / замужем</td>\n",
              "      <td>0</td>\n",
              "      <td>F</td>\n",
              "      <td>сотрудник</td>\n",
              "      <td>0</td>\n",
              "      <td>253875.639453</td>\n",
              "      <td>покупка жилья</td>\n",
              "    </tr>\n",
              "    <tr>\n",
              "      <th>1</th>\n",
              "      <td>1</td>\n",
              "      <td>11.027</td>\n",
              "      <td>36</td>\n",
              "      <td>среднее</td>\n",
              "      <td>1</td>\n",
              "      <td>женат / замужем</td>\n",
              "      <td>0</td>\n",
              "      <td>F</td>\n",
              "      <td>сотрудник</td>\n",
              "      <td>0</td>\n",
              "      <td>112080.014102</td>\n",
              "      <td>приобретение автомобиля</td>\n",
              "    </tr>\n",
              "    <tr>\n",
              "      <th>2</th>\n",
              "      <td>0</td>\n",
              "      <td>15.407</td>\n",
              "      <td>33</td>\n",
              "      <td>Среднее</td>\n",
              "      <td>1</td>\n",
              "      <td>женат / замужем</td>\n",
              "      <td>0</td>\n",
              "      <td>M</td>\n",
              "      <td>сотрудник</td>\n",
              "      <td>0</td>\n",
              "      <td>145885.952297</td>\n",
              "      <td>покупка жилья</td>\n",
              "    </tr>\n",
              "    <tr>\n",
              "      <th>3</th>\n",
              "      <td>3</td>\n",
              "      <td>11.301</td>\n",
              "      <td>32</td>\n",
              "      <td>среднее</td>\n",
              "      <td>1</td>\n",
              "      <td>женат / замужем</td>\n",
              "      <td>0</td>\n",
              "      <td>M</td>\n",
              "      <td>сотрудник</td>\n",
              "      <td>0</td>\n",
              "      <td>267628.550329</td>\n",
              "      <td>дополнительное образование</td>\n",
              "    </tr>\n",
              "    <tr>\n",
              "      <th>4</th>\n",
              "      <td>0</td>\n",
              "      <td>932.236</td>\n",
              "      <td>53</td>\n",
              "      <td>среднее</td>\n",
              "      <td>1</td>\n",
              "      <td>гражданский брак</td>\n",
              "      <td>1</td>\n",
              "      <td>F</td>\n",
              "      <td>пенсионер</td>\n",
              "      <td>0</td>\n",
              "      <td>158616.077870</td>\n",
              "      <td>сыграть свадьбу</td>\n",
              "    </tr>\n",
              "    <tr>\n",
              "      <th>5</th>\n",
              "      <td>0</td>\n",
              "      <td>2.537</td>\n",
              "      <td>27</td>\n",
              "      <td>высшее</td>\n",
              "      <td>0</td>\n",
              "      <td>гражданский брак</td>\n",
              "      <td>1</td>\n",
              "      <td>M</td>\n",
              "      <td>компаньон</td>\n",
              "      <td>0</td>\n",
              "      <td>255763.565419</td>\n",
              "      <td>покупка жилья</td>\n",
              "    </tr>\n",
              "    <tr>\n",
              "      <th>6</th>\n",
              "      <td>0</td>\n",
              "      <td>7.888</td>\n",
              "      <td>43</td>\n",
              "      <td>высшее</td>\n",
              "      <td>0</td>\n",
              "      <td>женат / замужем</td>\n",
              "      <td>0</td>\n",
              "      <td>F</td>\n",
              "      <td>компаньон</td>\n",
              "      <td>0</td>\n",
              "      <td>240525.971920</td>\n",
              "      <td>операции с жильем</td>\n",
              "    </tr>\n",
              "    <tr>\n",
              "      <th>7</th>\n",
              "      <td>0</td>\n",
              "      <td>0.419</td>\n",
              "      <td>50</td>\n",
              "      <td>СРЕДНЕЕ</td>\n",
              "      <td>1</td>\n",
              "      <td>женат / замужем</td>\n",
              "      <td>0</td>\n",
              "      <td>M</td>\n",
              "      <td>сотрудник</td>\n",
              "      <td>0</td>\n",
              "      <td>135823.934197</td>\n",
              "      <td>образование</td>\n",
              "    </tr>\n",
              "    <tr>\n",
              "      <th>8</th>\n",
              "      <td>2</td>\n",
              "      <td>18.986</td>\n",
              "      <td>35</td>\n",
              "      <td>ВЫСШЕЕ</td>\n",
              "      <td>0</td>\n",
              "      <td>гражданский брак</td>\n",
              "      <td>1</td>\n",
              "      <td>F</td>\n",
              "      <td>сотрудник</td>\n",
              "      <td>0</td>\n",
              "      <td>95856.832424</td>\n",
              "      <td>на проведение свадьбы</td>\n",
              "    </tr>\n",
              "    <tr>\n",
              "      <th>9</th>\n",
              "      <td>0</td>\n",
              "      <td>5.997</td>\n",
              "      <td>41</td>\n",
              "      <td>среднее</td>\n",
              "      <td>1</td>\n",
              "      <td>женат / замужем</td>\n",
              "      <td>0</td>\n",
              "      <td>M</td>\n",
              "      <td>сотрудник</td>\n",
              "      <td>0</td>\n",
              "      <td>144425.938277</td>\n",
              "      <td>покупка жилья для семьи</td>\n",
              "    </tr>\n",
              "  </tbody>\n",
              "</table>\n",
              "</div>"
            ],
            "text/plain": [
              "   children  days_employed  dob_years education  education_id  \\\n",
              "0         1         23.117         42    высшее             0   \n",
              "1         1         11.027         36   среднее             1   \n",
              "2         0         15.407         33   Среднее             1   \n",
              "3         3         11.301         32   среднее             1   \n",
              "4         0        932.236         53   среднее             1   \n",
              "5         0          2.537         27    высшее             0   \n",
              "6         0          7.888         43    высшее             0   \n",
              "7         0          0.419         50   СРЕДНЕЕ             1   \n",
              "8         2         18.986         35    ВЫСШЕЕ             0   \n",
              "9         0          5.997         41   среднее             1   \n",
              "\n",
              "      family_status  family_status_id gender income_type  debt   total_income  \\\n",
              "0   женат / замужем                 0      F   сотрудник     0  253875.639453   \n",
              "1   женат / замужем                 0      F   сотрудник     0  112080.014102   \n",
              "2   женат / замужем                 0      M   сотрудник     0  145885.952297   \n",
              "3   женат / замужем                 0      M   сотрудник     0  267628.550329   \n",
              "4  гражданский брак                 1      F   пенсионер     0  158616.077870   \n",
              "5  гражданский брак                 1      M   компаньон     0  255763.565419   \n",
              "6   женат / замужем                 0      F   компаньон     0  240525.971920   \n",
              "7   женат / замужем                 0      M   сотрудник     0  135823.934197   \n",
              "8  гражданский брак                 1      F   сотрудник     0   95856.832424   \n",
              "9   женат / замужем                 0      M   сотрудник     0  144425.938277   \n",
              "\n",
              "                      purpose  \n",
              "0               покупка жилья  \n",
              "1     приобретение автомобиля  \n",
              "2               покупка жилья  \n",
              "3  дополнительное образование  \n",
              "4             сыграть свадьбу  \n",
              "5               покупка жилья  \n",
              "6           операции с жильем  \n",
              "7                 образование  \n",
              "8       на проведение свадьбы  \n",
              "9     покупка жилья для семьи  "
            ]
          },
          "execution_count": 13,
          "metadata": {},
          "output_type": "execute_result"
        }
      ],
      "source": [
        "data['days_employed'] = round(data['days_employed']/365,3) #перевод дней трудового стажа в годы\n",
        "data.head(10)"
      ]
    },
    {
      "cell_type": "markdown",
      "id": "5d369d06",
      "metadata": {
        "id": "5d369d06"
      },
      "source": [
        "После перевода стажа в годы стало легче воспринимать информацию. В таблице теперь видно, что наблюдаются так же  аномалии и некоторые значения стажа явно завышены. Скорее всего сработал *человеческий фактор* и заполняющий перепутал столбцы или единицы измерения.<br> Приведем в соответсвие завышенные значения с учетом возраста. Предварительно рассмотрим более подробно возрастные категории имеющиеся в таблице. "
      ]
    },
    {
      "cell_type": "code",
      "execution_count": null,
      "id": "e6d2ff6c",
      "metadata": {
        "id": "e6d2ff6c",
        "outputId": "afd24de3-60db-4d0f-d04e-04234711dc53"
      },
      "outputs": [
        {
          "data": {
            "text/plain": [
              "count    21525.000\n",
              "mean        43.293\n",
              "std         12.575\n",
              "min          0.000\n",
              "25%         33.000\n",
              "50%         42.000\n",
              "75%         53.000\n",
              "max         75.000\n",
              "Name: dob_years, dtype: float64"
            ]
          },
          "execution_count": 14,
          "metadata": {},
          "output_type": "execute_result"
        }
      ],
      "source": [
        "round(data['dob_years'].describe(),3) #просмотр основных статистических данных столбца 'dob_years'"
      ]
    },
    {
      "cell_type": "markdown",
      "id": "fc6b197c",
      "metadata": {
        "id": "fc6b197c"
      },
      "source": [
        "Мы видим, минимальный возраст равен 0, это значит что часть клиентов не правильно заполнили данное поле. Рассмотрим эти строки более подробно."
      ]
    },
    {
      "cell_type": "code",
      "execution_count": null,
      "id": "e3ae6847",
      "metadata": {
        "scrolled": true,
        "id": "e3ae6847",
        "outputId": "2413a438-f96c-4a4b-9dac-b01937ca7f93"
      },
      "outputs": [
        {
          "data": {
            "text/html": [
              "<div>\n",
              "<style scoped>\n",
              "    .dataframe tbody tr th:only-of-type {\n",
              "        vertical-align: middle;\n",
              "    }\n",
              "\n",
              "    .dataframe tbody tr th {\n",
              "        vertical-align: top;\n",
              "    }\n",
              "\n",
              "    .dataframe thead th {\n",
              "        text-align: right;\n",
              "    }\n",
              "</style>\n",
              "<table border=\"1\" class=\"dataframe\">\n",
              "  <thead>\n",
              "    <tr style=\"text-align: right;\">\n",
              "      <th></th>\n",
              "      <th>children</th>\n",
              "      <th>days_employed</th>\n",
              "      <th>dob_years</th>\n",
              "      <th>education</th>\n",
              "      <th>education_id</th>\n",
              "      <th>family_status</th>\n",
              "      <th>family_status_id</th>\n",
              "      <th>gender</th>\n",
              "      <th>income_type</th>\n",
              "      <th>debt</th>\n",
              "      <th>total_income</th>\n",
              "      <th>purpose</th>\n",
              "    </tr>\n",
              "  </thead>\n",
              "  <tbody>\n",
              "    <tr>\n",
              "      <th>99</th>\n",
              "      <td>0</td>\n",
              "      <td>949.429</td>\n",
              "      <td>0</td>\n",
              "      <td>Среднее</td>\n",
              "      <td>1</td>\n",
              "      <td>женат / замужем</td>\n",
              "      <td>0</td>\n",
              "      <td>F</td>\n",
              "      <td>пенсионер</td>\n",
              "      <td>0</td>\n",
              "      <td>71291.522491</td>\n",
              "      <td>автомобиль</td>\n",
              "    </tr>\n",
              "    <tr>\n",
              "      <th>149</th>\n",
              "      <td>0</td>\n",
              "      <td>7.299</td>\n",
              "      <td>0</td>\n",
              "      <td>среднее</td>\n",
              "      <td>1</td>\n",
              "      <td>в разводе</td>\n",
              "      <td>3</td>\n",
              "      <td>F</td>\n",
              "      <td>сотрудник</td>\n",
              "      <td>0</td>\n",
              "      <td>70176.435951</td>\n",
              "      <td>операции с жильем</td>\n",
              "    </tr>\n",
              "    <tr>\n",
              "      <th>270</th>\n",
              "      <td>3</td>\n",
              "      <td>5.131</td>\n",
              "      <td>0</td>\n",
              "      <td>среднее</td>\n",
              "      <td>1</td>\n",
              "      <td>женат / замужем</td>\n",
              "      <td>0</td>\n",
              "      <td>F</td>\n",
              "      <td>сотрудник</td>\n",
              "      <td>0</td>\n",
              "      <td>102166.458894</td>\n",
              "      <td>ремонт жилью</td>\n",
              "    </tr>\n",
              "    <tr>\n",
              "      <th>578</th>\n",
              "      <td>0</td>\n",
              "      <td>1090.018</td>\n",
              "      <td>0</td>\n",
              "      <td>среднее</td>\n",
              "      <td>1</td>\n",
              "      <td>женат / замужем</td>\n",
              "      <td>0</td>\n",
              "      <td>F</td>\n",
              "      <td>пенсионер</td>\n",
              "      <td>0</td>\n",
              "      <td>97620.687042</td>\n",
              "      <td>строительство собственной недвижимости</td>\n",
              "    </tr>\n",
              "    <tr>\n",
              "      <th>1040</th>\n",
              "      <td>0</td>\n",
              "      <td>3.173</td>\n",
              "      <td>0</td>\n",
              "      <td>высшее</td>\n",
              "      <td>0</td>\n",
              "      <td>в разводе</td>\n",
              "      <td>3</td>\n",
              "      <td>F</td>\n",
              "      <td>компаньон</td>\n",
              "      <td>0</td>\n",
              "      <td>303994.134987</td>\n",
              "      <td>свой автомобиль</td>\n",
              "    </tr>\n",
              "    <tr>\n",
              "      <th>1149</th>\n",
              "      <td>0</td>\n",
              "      <td>2.561</td>\n",
              "      <td>0</td>\n",
              "      <td>среднее</td>\n",
              "      <td>1</td>\n",
              "      <td>женат / замужем</td>\n",
              "      <td>0</td>\n",
              "      <td>F</td>\n",
              "      <td>компаньон</td>\n",
              "      <td>0</td>\n",
              "      <td>201852.430096</td>\n",
              "      <td>покупка недвижимости</td>\n",
              "    </tr>\n",
              "    <tr>\n",
              "      <th>1175</th>\n",
              "      <td>0</td>\n",
              "      <td>1016.108</td>\n",
              "      <td>0</td>\n",
              "      <td>среднее</td>\n",
              "      <td>1</td>\n",
              "      <td>женат / замужем</td>\n",
              "      <td>0</td>\n",
              "      <td>F</td>\n",
              "      <td>пенсионер</td>\n",
              "      <td>0</td>\n",
              "      <td>313949.845188</td>\n",
              "      <td>получение дополнительного образования</td>\n",
              "    </tr>\n",
              "    <tr>\n",
              "      <th>1386</th>\n",
              "      <td>0</td>\n",
              "      <td>13.817</td>\n",
              "      <td>0</td>\n",
              "      <td>высшее</td>\n",
              "      <td>0</td>\n",
              "      <td>женат / замужем</td>\n",
              "      <td>0</td>\n",
              "      <td>M</td>\n",
              "      <td>госслужащий</td>\n",
              "      <td>0</td>\n",
              "      <td>240523.618071</td>\n",
              "      <td>сделка с автомобилем</td>\n",
              "    </tr>\n",
              "    <tr>\n",
              "      <th>1890</th>\n",
              "      <td>0</td>\n",
              "      <td>NaN</td>\n",
              "      <td>0</td>\n",
              "      <td>высшее</td>\n",
              "      <td>0</td>\n",
              "      <td>Не женат / не замужем</td>\n",
              "      <td>4</td>\n",
              "      <td>F</td>\n",
              "      <td>сотрудник</td>\n",
              "      <td>0</td>\n",
              "      <td>142594.396847</td>\n",
              "      <td>жилье</td>\n",
              "    </tr>\n",
              "    <tr>\n",
              "      <th>1898</th>\n",
              "      <td>0</td>\n",
              "      <td>1014.095</td>\n",
              "      <td>0</td>\n",
              "      <td>среднее</td>\n",
              "      <td>1</td>\n",
              "      <td>вдовец / вдова</td>\n",
              "      <td>2</td>\n",
              "      <td>F</td>\n",
              "      <td>пенсионер</td>\n",
              "      <td>0</td>\n",
              "      <td>127400.268338</td>\n",
              "      <td>на покупку автомобиля</td>\n",
              "    </tr>\n",
              "  </tbody>\n",
              "</table>\n",
              "</div>"
            ],
            "text/plain": [
              "      children  days_employed  dob_years education  education_id  \\\n",
              "99           0        949.429          0   Среднее             1   \n",
              "149          0          7.299          0   среднее             1   \n",
              "270          3          5.131          0   среднее             1   \n",
              "578          0       1090.018          0   среднее             1   \n",
              "1040         0          3.173          0    высшее             0   \n",
              "1149         0          2.561          0   среднее             1   \n",
              "1175         0       1016.108          0   среднее             1   \n",
              "1386         0         13.817          0    высшее             0   \n",
              "1890         0            NaN          0    высшее             0   \n",
              "1898         0       1014.095          0   среднее             1   \n",
              "\n",
              "              family_status  family_status_id gender  income_type  debt  \\\n",
              "99          женат / замужем                 0      F    пенсионер     0   \n",
              "149               в разводе                 3      F    сотрудник     0   \n",
              "270         женат / замужем                 0      F    сотрудник     0   \n",
              "578         женат / замужем                 0      F    пенсионер     0   \n",
              "1040              в разводе                 3      F    компаньон     0   \n",
              "1149        женат / замужем                 0      F    компаньон     0   \n",
              "1175        женат / замужем                 0      F    пенсионер     0   \n",
              "1386        женат / замужем                 0      M  госслужащий     0   \n",
              "1890  Не женат / не замужем                 4      F    сотрудник     0   \n",
              "1898         вдовец / вдова                 2      F    пенсионер     0   \n",
              "\n",
              "       total_income                                 purpose  \n",
              "99     71291.522491                              автомобиль  \n",
              "149    70176.435951                       операции с жильем  \n",
              "270   102166.458894                            ремонт жилью  \n",
              "578    97620.687042  строительство собственной недвижимости  \n",
              "1040  303994.134987                         свой автомобиль  \n",
              "1149  201852.430096                    покупка недвижимости  \n",
              "1175  313949.845188   получение дополнительного образования  \n",
              "1386  240523.618071                    сделка с автомобилем  \n",
              "1890  142594.396847                                   жилье  \n",
              "1898  127400.268338                   на покупку автомобиля  "
            ]
          },
          "execution_count": 15,
          "metadata": {},
          "output_type": "execute_result"
        }
      ],
      "source": [
        "data.loc[data['dob_years'] == 0].head(10) #вывод первых 10 строк со значением 0 в столбце 'dob_years'"
      ]
    },
    {
      "cell_type": "markdown",
      "id": "319c05a8",
      "metadata": {
        "id": "319c05a8"
      },
      "source": [
        "Заменим нулевые значения возраста на средние значения возраста по типу занятости."
      ]
    },
    {
      "cell_type": "code",
      "execution_count": null,
      "id": "f8c60d11",
      "metadata": {
        "id": "f8c60d11",
        "outputId": "bcbaed7d-1a23-4a40-bf67-2ec6c24f1fdf"
      },
      "outputs": [
        {
          "data": {
            "text/plain": [
              "array(['сотрудник', 'компаньон', 'пенсионер', 'госслужащий'], dtype=object)"
            ]
          },
          "execution_count": 16,
          "metadata": {},
          "output_type": "execute_result"
        }
      ],
      "source": [
        "income_unic = data.loc[data['dob_years'],'income_type'].unique() \n",
        "#уникальные значения типа занятости, к которых присутствует возраст равный 0.\n",
        "income_unic"
      ]
    },
    {
      "cell_type": "code",
      "execution_count": null,
      "id": "2466e4d0",
      "metadata": {
        "scrolled": true,
        "id": "2466e4d0"
      },
      "outputs": [],
      "source": [
        "data.loc[((data['income_type'] == 'пенсионер')&(data['dob_years'] == 0)), 'dob_years']  = data.loc[data['income_type'] == 'пенсионер', 'dob_years'].median()\n",
        "data.loc[((data['income_type'] == 'сотрудник')&(data['dob_years'] == 0)), 'dob_years']  = data.loc[data['income_type'] == 'сотрудник', 'dob_years'].median()\n",
        "data.loc[((data['income_type'] == 'компаньон')&(data['dob_years'] == 0)), 'dob_years']  = data.loc[data['income_type'] == 'компаньон', 'dob_years'].median()\n",
        "data.loc[((data['income_type'] == 'госслужащий')&(data['dob_years'] == 0)), 'dob_years']  = data.loc[data['income_type'] == 'госслужащий', 'dob_years'].median()"
      ]
    },
    {
      "cell_type": "code",
      "execution_count": null,
      "id": "cb2c9778",
      "metadata": {
        "scrolled": true,
        "id": "cb2c9778",
        "outputId": "f04488f7-f3af-47b6-cec7-15de0e152225"
      },
      "outputs": [
        {
          "data": {
            "text/plain": [
              "count    21525.000\n",
              "mean        43.496\n",
              "std         12.232\n",
              "min         19.000\n",
              "25%         34.000\n",
              "50%         43.000\n",
              "75%         53.000\n",
              "max         75.000\n",
              "Name: dob_years, dtype: float64"
            ]
          },
          "execution_count": 18,
          "metadata": {},
          "output_type": "execute_result"
        }
      ],
      "source": [
        "round(data['dob_years'].describe(),3) #просмотр основных статистических данных столбца 'dob_years' после замены нулевых значений возраста"
      ]
    },
    {
      "cell_type": "markdown",
      "id": "82c29b42",
      "metadata": {
        "id": "82c29b42"
      },
      "source": [
        "Минимальное значение стажа изменилось и теперь равно 19 годам. <br>Заменим теперь аномально большие значения стажа в соответствии с возрастом клиентов. Примем максимально возможный стаж как разницу между возрастом клиента и 18 годами (возраст совершенолетия). "
      ]
    },
    {
      "cell_type": "code",
      "execution_count": null,
      "id": "efdc97cb",
      "metadata": {
        "scrolled": true,
        "id": "efdc97cb",
        "outputId": "85976e97-3d8d-46a4-f834-d8efb07a9206"
      },
      "outputs": [
        {
          "data": {
            "text/html": [
              "<div>\n",
              "<style scoped>\n",
              "    .dataframe tbody tr th:only-of-type {\n",
              "        vertical-align: middle;\n",
              "    }\n",
              "\n",
              "    .dataframe tbody tr th {\n",
              "        vertical-align: top;\n",
              "    }\n",
              "\n",
              "    .dataframe thead th {\n",
              "        text-align: right;\n",
              "    }\n",
              "</style>\n",
              "<table border=\"1\" class=\"dataframe\">\n",
              "  <thead>\n",
              "    <tr style=\"text-align: right;\">\n",
              "      <th></th>\n",
              "      <th>children</th>\n",
              "      <th>days_employed</th>\n",
              "      <th>dob_years</th>\n",
              "      <th>education</th>\n",
              "      <th>education_id</th>\n",
              "      <th>family_status</th>\n",
              "      <th>family_status_id</th>\n",
              "      <th>gender</th>\n",
              "      <th>income_type</th>\n",
              "      <th>debt</th>\n",
              "      <th>total_income</th>\n",
              "      <th>purpose</th>\n",
              "    </tr>\n",
              "  </thead>\n",
              "  <tbody>\n",
              "    <tr>\n",
              "      <th>0</th>\n",
              "      <td>1</td>\n",
              "      <td>23.117</td>\n",
              "      <td>42.0</td>\n",
              "      <td>высшее</td>\n",
              "      <td>0</td>\n",
              "      <td>женат / замужем</td>\n",
              "      <td>0</td>\n",
              "      <td>F</td>\n",
              "      <td>сотрудник</td>\n",
              "      <td>0</td>\n",
              "      <td>253875.639453</td>\n",
              "      <td>покупка жилья</td>\n",
              "    </tr>\n",
              "    <tr>\n",
              "      <th>1</th>\n",
              "      <td>1</td>\n",
              "      <td>11.027</td>\n",
              "      <td>36.0</td>\n",
              "      <td>среднее</td>\n",
              "      <td>1</td>\n",
              "      <td>женат / замужем</td>\n",
              "      <td>0</td>\n",
              "      <td>F</td>\n",
              "      <td>сотрудник</td>\n",
              "      <td>0</td>\n",
              "      <td>112080.014102</td>\n",
              "      <td>приобретение автомобиля</td>\n",
              "    </tr>\n",
              "    <tr>\n",
              "      <th>2</th>\n",
              "      <td>0</td>\n",
              "      <td>15.000</td>\n",
              "      <td>33.0</td>\n",
              "      <td>Среднее</td>\n",
              "      <td>1</td>\n",
              "      <td>женат / замужем</td>\n",
              "      <td>0</td>\n",
              "      <td>M</td>\n",
              "      <td>сотрудник</td>\n",
              "      <td>0</td>\n",
              "      <td>145885.952297</td>\n",
              "      <td>покупка жилья</td>\n",
              "    </tr>\n",
              "    <tr>\n",
              "      <th>3</th>\n",
              "      <td>3</td>\n",
              "      <td>11.301</td>\n",
              "      <td>32.0</td>\n",
              "      <td>среднее</td>\n",
              "      <td>1</td>\n",
              "      <td>женат / замужем</td>\n",
              "      <td>0</td>\n",
              "      <td>M</td>\n",
              "      <td>сотрудник</td>\n",
              "      <td>0</td>\n",
              "      <td>267628.550329</td>\n",
              "      <td>дополнительное образование</td>\n",
              "    </tr>\n",
              "    <tr>\n",
              "      <th>4</th>\n",
              "      <td>0</td>\n",
              "      <td>35.000</td>\n",
              "      <td>53.0</td>\n",
              "      <td>среднее</td>\n",
              "      <td>1</td>\n",
              "      <td>гражданский брак</td>\n",
              "      <td>1</td>\n",
              "      <td>F</td>\n",
              "      <td>пенсионер</td>\n",
              "      <td>0</td>\n",
              "      <td>158616.077870</td>\n",
              "      <td>сыграть свадьбу</td>\n",
              "    </tr>\n",
              "    <tr>\n",
              "      <th>5</th>\n",
              "      <td>0</td>\n",
              "      <td>2.537</td>\n",
              "      <td>27.0</td>\n",
              "      <td>высшее</td>\n",
              "      <td>0</td>\n",
              "      <td>гражданский брак</td>\n",
              "      <td>1</td>\n",
              "      <td>M</td>\n",
              "      <td>компаньон</td>\n",
              "      <td>0</td>\n",
              "      <td>255763.565419</td>\n",
              "      <td>покупка жилья</td>\n",
              "    </tr>\n",
              "    <tr>\n",
              "      <th>6</th>\n",
              "      <td>0</td>\n",
              "      <td>7.888</td>\n",
              "      <td>43.0</td>\n",
              "      <td>высшее</td>\n",
              "      <td>0</td>\n",
              "      <td>женат / замужем</td>\n",
              "      <td>0</td>\n",
              "      <td>F</td>\n",
              "      <td>компаньон</td>\n",
              "      <td>0</td>\n",
              "      <td>240525.971920</td>\n",
              "      <td>операции с жильем</td>\n",
              "    </tr>\n",
              "    <tr>\n",
              "      <th>7</th>\n",
              "      <td>0</td>\n",
              "      <td>0.419</td>\n",
              "      <td>50.0</td>\n",
              "      <td>СРЕДНЕЕ</td>\n",
              "      <td>1</td>\n",
              "      <td>женат / замужем</td>\n",
              "      <td>0</td>\n",
              "      <td>M</td>\n",
              "      <td>сотрудник</td>\n",
              "      <td>0</td>\n",
              "      <td>135823.934197</td>\n",
              "      <td>образование</td>\n",
              "    </tr>\n",
              "    <tr>\n",
              "      <th>8</th>\n",
              "      <td>2</td>\n",
              "      <td>17.000</td>\n",
              "      <td>35.0</td>\n",
              "      <td>ВЫСШЕЕ</td>\n",
              "      <td>0</td>\n",
              "      <td>гражданский брак</td>\n",
              "      <td>1</td>\n",
              "      <td>F</td>\n",
              "      <td>сотрудник</td>\n",
              "      <td>0</td>\n",
              "      <td>95856.832424</td>\n",
              "      <td>на проведение свадьбы</td>\n",
              "    </tr>\n",
              "    <tr>\n",
              "      <th>9</th>\n",
              "      <td>0</td>\n",
              "      <td>5.997</td>\n",
              "      <td>41.0</td>\n",
              "      <td>среднее</td>\n",
              "      <td>1</td>\n",
              "      <td>женат / замужем</td>\n",
              "      <td>0</td>\n",
              "      <td>M</td>\n",
              "      <td>сотрудник</td>\n",
              "      <td>0</td>\n",
              "      <td>144425.938277</td>\n",
              "      <td>покупка жилья для семьи</td>\n",
              "    </tr>\n",
              "  </tbody>\n",
              "</table>\n",
              "</div>"
            ],
            "text/plain": [
              "   children  days_employed  dob_years education  education_id  \\\n",
              "0         1         23.117       42.0    высшее             0   \n",
              "1         1         11.027       36.0   среднее             1   \n",
              "2         0         15.000       33.0   Среднее             1   \n",
              "3         3         11.301       32.0   среднее             1   \n",
              "4         0         35.000       53.0   среднее             1   \n",
              "5         0          2.537       27.0    высшее             0   \n",
              "6         0          7.888       43.0    высшее             0   \n",
              "7         0          0.419       50.0   СРЕДНЕЕ             1   \n",
              "8         2         17.000       35.0    ВЫСШЕЕ             0   \n",
              "9         0          5.997       41.0   среднее             1   \n",
              "\n",
              "      family_status  family_status_id gender income_type  debt   total_income  \\\n",
              "0   женат / замужем                 0      F   сотрудник     0  253875.639453   \n",
              "1   женат / замужем                 0      F   сотрудник     0  112080.014102   \n",
              "2   женат / замужем                 0      M   сотрудник     0  145885.952297   \n",
              "3   женат / замужем                 0      M   сотрудник     0  267628.550329   \n",
              "4  гражданский брак                 1      F   пенсионер     0  158616.077870   \n",
              "5  гражданский брак                 1      M   компаньон     0  255763.565419   \n",
              "6   женат / замужем                 0      F   компаньон     0  240525.971920   \n",
              "7   женат / замужем                 0      M   сотрудник     0  135823.934197   \n",
              "8  гражданский брак                 1      F   сотрудник     0   95856.832424   \n",
              "9   женат / замужем                 0      M   сотрудник     0  144425.938277   \n",
              "\n",
              "                      purpose  \n",
              "0               покупка жилья  \n",
              "1     приобретение автомобиля  \n",
              "2               покупка жилья  \n",
              "3  дополнительное образование  \n",
              "4             сыграть свадьбу  \n",
              "5               покупка жилья  \n",
              "6           операции с жильем  \n",
              "7                 образование  \n",
              "8       на проведение свадьбы  \n",
              "9     покупка жилья для семьи  "
            ]
          },
          "execution_count": 19,
          "metadata": {},
          "output_type": "execute_result"
        }
      ],
      "source": [
        "data.loc[(data['days_employed'] > data['dob_years'] - 18), 'days_employed']  = data['dob_years'] - 18 #замена аномально больших згачений стажа\n",
        "data.head(10)"
      ]
    },
    {
      "cell_type": "markdown",
      "id": "1d96fed8",
      "metadata": {
        "id": "1d96fed8"
      },
      "source": [
        " <br> Заменим теперь значения `NaN`в столбце`days_employed` с учетом типа занятости."
      ]
    },
    {
      "cell_type": "code",
      "execution_count": null,
      "id": "98d29f49",
      "metadata": {
        "scrolled": true,
        "id": "98d29f49",
        "outputId": "9e1b0db4-fa8b-4282-a3e8-b0789ec772e7"
      },
      "outputs": [
        {
          "data": {
            "text/html": [
              "<div>\n",
              "<style scoped>\n",
              "    .dataframe tbody tr th:only-of-type {\n",
              "        vertical-align: middle;\n",
              "    }\n",
              "\n",
              "    .dataframe tbody tr th {\n",
              "        vertical-align: top;\n",
              "    }\n",
              "\n",
              "    .dataframe thead th {\n",
              "        text-align: right;\n",
              "    }\n",
              "</style>\n",
              "<table border=\"1\" class=\"dataframe\">\n",
              "  <thead>\n",
              "    <tr style=\"text-align: right;\">\n",
              "      <th></th>\n",
              "      <th>children</th>\n",
              "      <th>days_employed</th>\n",
              "      <th>dob_years</th>\n",
              "      <th>education</th>\n",
              "      <th>education_id</th>\n",
              "      <th>family_status</th>\n",
              "      <th>family_status_id</th>\n",
              "      <th>gender</th>\n",
              "      <th>income_type</th>\n",
              "      <th>debt</th>\n",
              "      <th>total_income</th>\n",
              "      <th>purpose</th>\n",
              "    </tr>\n",
              "  </thead>\n",
              "  <tbody>\n",
              "    <tr>\n",
              "      <th>0</th>\n",
              "      <td>1</td>\n",
              "      <td>23.117</td>\n",
              "      <td>42.0</td>\n",
              "      <td>высшее</td>\n",
              "      <td>0</td>\n",
              "      <td>женат / замужем</td>\n",
              "      <td>0</td>\n",
              "      <td>F</td>\n",
              "      <td>сотрудник</td>\n",
              "      <td>0</td>\n",
              "      <td>253875.639453</td>\n",
              "      <td>покупка жилья</td>\n",
              "    </tr>\n",
              "    <tr>\n",
              "      <th>1</th>\n",
              "      <td>1</td>\n",
              "      <td>11.027</td>\n",
              "      <td>36.0</td>\n",
              "      <td>среднее</td>\n",
              "      <td>1</td>\n",
              "      <td>женат / замужем</td>\n",
              "      <td>0</td>\n",
              "      <td>F</td>\n",
              "      <td>сотрудник</td>\n",
              "      <td>0</td>\n",
              "      <td>112080.014102</td>\n",
              "      <td>приобретение автомобиля</td>\n",
              "    </tr>\n",
              "    <tr>\n",
              "      <th>2</th>\n",
              "      <td>0</td>\n",
              "      <td>15.000</td>\n",
              "      <td>33.0</td>\n",
              "      <td>Среднее</td>\n",
              "      <td>1</td>\n",
              "      <td>женат / замужем</td>\n",
              "      <td>0</td>\n",
              "      <td>M</td>\n",
              "      <td>сотрудник</td>\n",
              "      <td>0</td>\n",
              "      <td>145885.952297</td>\n",
              "      <td>покупка жилья</td>\n",
              "    </tr>\n",
              "    <tr>\n",
              "      <th>3</th>\n",
              "      <td>3</td>\n",
              "      <td>11.301</td>\n",
              "      <td>32.0</td>\n",
              "      <td>среднее</td>\n",
              "      <td>1</td>\n",
              "      <td>женат / замужем</td>\n",
              "      <td>0</td>\n",
              "      <td>M</td>\n",
              "      <td>сотрудник</td>\n",
              "      <td>0</td>\n",
              "      <td>267628.550329</td>\n",
              "      <td>дополнительное образование</td>\n",
              "    </tr>\n",
              "    <tr>\n",
              "      <th>4</th>\n",
              "      <td>0</td>\n",
              "      <td>35.000</td>\n",
              "      <td>53.0</td>\n",
              "      <td>среднее</td>\n",
              "      <td>1</td>\n",
              "      <td>гражданский брак</td>\n",
              "      <td>1</td>\n",
              "      <td>F</td>\n",
              "      <td>пенсионер</td>\n",
              "      <td>0</td>\n",
              "      <td>158616.077870</td>\n",
              "      <td>сыграть свадьбу</td>\n",
              "    </tr>\n",
              "    <tr>\n",
              "      <th>5</th>\n",
              "      <td>0</td>\n",
              "      <td>2.537</td>\n",
              "      <td>27.0</td>\n",
              "      <td>высшее</td>\n",
              "      <td>0</td>\n",
              "      <td>гражданский брак</td>\n",
              "      <td>1</td>\n",
              "      <td>M</td>\n",
              "      <td>компаньон</td>\n",
              "      <td>0</td>\n",
              "      <td>255763.565419</td>\n",
              "      <td>покупка жилья</td>\n",
              "    </tr>\n",
              "    <tr>\n",
              "      <th>6</th>\n",
              "      <td>0</td>\n",
              "      <td>7.888</td>\n",
              "      <td>43.0</td>\n",
              "      <td>высшее</td>\n",
              "      <td>0</td>\n",
              "      <td>женат / замужем</td>\n",
              "      <td>0</td>\n",
              "      <td>F</td>\n",
              "      <td>компаньон</td>\n",
              "      <td>0</td>\n",
              "      <td>240525.971920</td>\n",
              "      <td>операции с жильем</td>\n",
              "    </tr>\n",
              "    <tr>\n",
              "      <th>7</th>\n",
              "      <td>0</td>\n",
              "      <td>0.419</td>\n",
              "      <td>50.0</td>\n",
              "      <td>СРЕДНЕЕ</td>\n",
              "      <td>1</td>\n",
              "      <td>женат / замужем</td>\n",
              "      <td>0</td>\n",
              "      <td>M</td>\n",
              "      <td>сотрудник</td>\n",
              "      <td>0</td>\n",
              "      <td>135823.934197</td>\n",
              "      <td>образование</td>\n",
              "    </tr>\n",
              "    <tr>\n",
              "      <th>8</th>\n",
              "      <td>2</td>\n",
              "      <td>17.000</td>\n",
              "      <td>35.0</td>\n",
              "      <td>ВЫСШЕЕ</td>\n",
              "      <td>0</td>\n",
              "      <td>гражданский брак</td>\n",
              "      <td>1</td>\n",
              "      <td>F</td>\n",
              "      <td>сотрудник</td>\n",
              "      <td>0</td>\n",
              "      <td>95856.832424</td>\n",
              "      <td>на проведение свадьбы</td>\n",
              "    </tr>\n",
              "    <tr>\n",
              "      <th>9</th>\n",
              "      <td>0</td>\n",
              "      <td>5.997</td>\n",
              "      <td>41.0</td>\n",
              "      <td>среднее</td>\n",
              "      <td>1</td>\n",
              "      <td>женат / замужем</td>\n",
              "      <td>0</td>\n",
              "      <td>M</td>\n",
              "      <td>сотрудник</td>\n",
              "      <td>0</td>\n",
              "      <td>144425.938277</td>\n",
              "      <td>покупка жилья для семьи</td>\n",
              "    </tr>\n",
              "  </tbody>\n",
              "</table>\n",
              "</div>"
            ],
            "text/plain": [
              "   children  days_employed  dob_years education  education_id  \\\n",
              "0         1         23.117       42.0    высшее             0   \n",
              "1         1         11.027       36.0   среднее             1   \n",
              "2         0         15.000       33.0   Среднее             1   \n",
              "3         3         11.301       32.0   среднее             1   \n",
              "4         0         35.000       53.0   среднее             1   \n",
              "5         0          2.537       27.0    высшее             0   \n",
              "6         0          7.888       43.0    высшее             0   \n",
              "7         0          0.419       50.0   СРЕДНЕЕ             1   \n",
              "8         2         17.000       35.0    ВЫСШЕЕ             0   \n",
              "9         0          5.997       41.0   среднее             1   \n",
              "\n",
              "      family_status  family_status_id gender income_type  debt   total_income  \\\n",
              "0   женат / замужем                 0      F   сотрудник     0  253875.639453   \n",
              "1   женат / замужем                 0      F   сотрудник     0  112080.014102   \n",
              "2   женат / замужем                 0      M   сотрудник     0  145885.952297   \n",
              "3   женат / замужем                 0      M   сотрудник     0  267628.550329   \n",
              "4  гражданский брак                 1      F   пенсионер     0  158616.077870   \n",
              "5  гражданский брак                 1      M   компаньон     0  255763.565419   \n",
              "6   женат / замужем                 0      F   компаньон     0  240525.971920   \n",
              "7   женат / замужем                 0      M   сотрудник     0  135823.934197   \n",
              "8  гражданский брак                 1      F   сотрудник     0   95856.832424   \n",
              "9   женат / замужем                 0      M   сотрудник     0  144425.938277   \n",
              "\n",
              "                      purpose  \n",
              "0               покупка жилья  \n",
              "1     приобретение автомобиля  \n",
              "2               покупка жилья  \n",
              "3  дополнительное образование  \n",
              "4             сыграть свадьбу  \n",
              "5               покупка жилья  \n",
              "6           операции с жильем  \n",
              "7                 образование  \n",
              "8       на проведение свадьбы  \n",
              "9     покупка жилья для семьи  "
            ]
          },
          "execution_count": 20,
          "metadata": {},
          "output_type": "execute_result"
        }
      ],
      "source": [
        "data['days_employed'] = data['days_employed'].fillna(data.groupby(['income_type'])['days_employed'].transform('median'))\n",
        "#замена Nan на медиану с учетом типа занятости 'income_type' \n",
        "data.head(10)#вывод таблицы data"
      ]
    },
    {
      "cell_type": "code",
      "execution_count": null,
      "id": "3c280e3b",
      "metadata": {
        "scrolled": false,
        "id": "3c280e3b",
        "outputId": "3fad5088-ad9c-4fe9-e9cc-52585fd3aa2d"
      },
      "outputs": [
        {
          "name": "stdout",
          "output_type": "stream",
          "text": [
            "<class 'pandas.core.frame.DataFrame'>\n",
            "RangeIndex: 21525 entries, 0 to 21524\n",
            "Data columns (total 12 columns):\n",
            " #   Column            Non-Null Count  Dtype  \n",
            "---  ------            --------------  -----  \n",
            " 0   children          21525 non-null  int64  \n",
            " 1   days_employed     21525 non-null  float64\n",
            " 2   dob_years         21525 non-null  float64\n",
            " 3   education         21525 non-null  object \n",
            " 4   education_id      21525 non-null  int64  \n",
            " 5   family_status     21525 non-null  object \n",
            " 6   family_status_id  21525 non-null  int64  \n",
            " 7   gender            21525 non-null  object \n",
            " 8   income_type       21525 non-null  object \n",
            " 9   debt              21525 non-null  int64  \n",
            " 10  total_income      21525 non-null  float64\n",
            " 11  purpose           21525 non-null  object \n",
            "dtypes: float64(3), int64(4), object(5)\n",
            "memory usage: 2.0+ MB\n"
          ]
        }
      ],
      "source": [
        "data.info()#вывод окна информации"
      ]
    },
    {
      "cell_type": "markdown",
      "id": "fc06c608",
      "metadata": {
        "id": "fc06c608"
      },
      "source": [
        "После вызова окна информации видно, что `Nan` значений больше нет.\n",
        "<br> Проверим столбец `children` на аномалии. Для начала выведем основную статистическую информацию:"
      ]
    },
    {
      "cell_type": "code",
      "execution_count": null,
      "id": "6f1aa618",
      "metadata": {
        "scrolled": true,
        "id": "6f1aa618",
        "outputId": "5aff46d0-d4c3-4379-da03-6b758d4edef8"
      },
      "outputs": [
        {
          "data": {
            "text/plain": [
              "count    21525.000\n",
              "mean         0.539\n",
              "std          1.382\n",
              "min         -1.000\n",
              "25%          0.000\n",
              "50%          0.000\n",
              "75%          1.000\n",
              "max         20.000\n",
              "Name: children, dtype: float64"
            ]
          },
          "execution_count": 22,
          "metadata": {},
          "output_type": "execute_result"
        }
      ],
      "source": [
        "round(data['children'].describe(),3) #просмотр основных статистических данных столбца children"
      ]
    },
    {
      "cell_type": "markdown",
      "id": "974d874f",
      "metadata": {
        "id": "974d874f"
      },
      "source": [
        "Максимальное количество детей равно 20, что вполне допустимо, однако минимальное значение равно -1, что не возможно. Посмотрим, где встречается отрицательное значение  в количестве детей."
      ]
    },
    {
      "cell_type": "code",
      "execution_count": null,
      "id": "0007c0af",
      "metadata": {
        "id": "0007c0af",
        "outputId": "eff75eeb-48c1-4a30-ca6d-c7c0e11f8f2a"
      },
      "outputs": [
        {
          "data": {
            "text/html": [
              "<div>\n",
              "<style scoped>\n",
              "    .dataframe tbody tr th:only-of-type {\n",
              "        vertical-align: middle;\n",
              "    }\n",
              "\n",
              "    .dataframe tbody tr th {\n",
              "        vertical-align: top;\n",
              "    }\n",
              "\n",
              "    .dataframe thead th {\n",
              "        text-align: right;\n",
              "    }\n",
              "</style>\n",
              "<table border=\"1\" class=\"dataframe\">\n",
              "  <thead>\n",
              "    <tr style=\"text-align: right;\">\n",
              "      <th></th>\n",
              "      <th>children</th>\n",
              "      <th>days_employed</th>\n",
              "      <th>dob_years</th>\n",
              "      <th>education</th>\n",
              "      <th>education_id</th>\n",
              "      <th>family_status</th>\n",
              "      <th>family_status_id</th>\n",
              "      <th>gender</th>\n",
              "      <th>income_type</th>\n",
              "      <th>debt</th>\n",
              "      <th>total_income</th>\n",
              "      <th>purpose</th>\n",
              "    </tr>\n",
              "  </thead>\n",
              "  <tbody>\n",
              "    <tr>\n",
              "      <th>606</th>\n",
              "      <td>20</td>\n",
              "      <td>2.412</td>\n",
              "      <td>21.0</td>\n",
              "      <td>среднее</td>\n",
              "      <td>1</td>\n",
              "      <td>женат / замужем</td>\n",
              "      <td>0</td>\n",
              "      <td>M</td>\n",
              "      <td>компаньон</td>\n",
              "      <td>0</td>\n",
              "      <td>145334.865002</td>\n",
              "      <td>покупка жилья</td>\n",
              "    </tr>\n",
              "    <tr>\n",
              "      <th>720</th>\n",
              "      <td>20</td>\n",
              "      <td>2.344</td>\n",
              "      <td>44.0</td>\n",
              "      <td>среднее</td>\n",
              "      <td>1</td>\n",
              "      <td>женат / замужем</td>\n",
              "      <td>0</td>\n",
              "      <td>F</td>\n",
              "      <td>компаньон</td>\n",
              "      <td>0</td>\n",
              "      <td>112998.738649</td>\n",
              "      <td>покупка недвижимости</td>\n",
              "    </tr>\n",
              "    <tr>\n",
              "      <th>1074</th>\n",
              "      <td>20</td>\n",
              "      <td>9.070</td>\n",
              "      <td>56.0</td>\n",
              "      <td>среднее</td>\n",
              "      <td>1</td>\n",
              "      <td>женат / замужем</td>\n",
              "      <td>0</td>\n",
              "      <td>F</td>\n",
              "      <td>сотрудник</td>\n",
              "      <td>1</td>\n",
              "      <td>229518.537004</td>\n",
              "      <td>получение образования</td>\n",
              "    </tr>\n",
              "    <tr>\n",
              "      <th>2510</th>\n",
              "      <td>20</td>\n",
              "      <td>7.436</td>\n",
              "      <td>59.0</td>\n",
              "      <td>высшее</td>\n",
              "      <td>0</td>\n",
              "      <td>вдовец / вдова</td>\n",
              "      <td>2</td>\n",
              "      <td>F</td>\n",
              "      <td>сотрудник</td>\n",
              "      <td>0</td>\n",
              "      <td>264474.835577</td>\n",
              "      <td>операции с коммерческой недвижимостью</td>\n",
              "    </tr>\n",
              "    <tr>\n",
              "      <th>2941</th>\n",
              "      <td>20</td>\n",
              "      <td>5.922</td>\n",
              "      <td>39.0</td>\n",
              "      <td>среднее</td>\n",
              "      <td>1</td>\n",
              "      <td>женат / замужем</td>\n",
              "      <td>0</td>\n",
              "      <td>F</td>\n",
              "      <td>сотрудник</td>\n",
              "      <td>0</td>\n",
              "      <td>199739.941398</td>\n",
              "      <td>на покупку автомобиля</td>\n",
              "    </tr>\n",
              "    <tr>\n",
              "      <th>...</th>\n",
              "      <td>...</td>\n",
              "      <td>...</td>\n",
              "      <td>...</td>\n",
              "      <td>...</td>\n",
              "      <td>...</td>\n",
              "      <td>...</td>\n",
              "      <td>...</td>\n",
              "      <td>...</td>\n",
              "      <td>...</td>\n",
              "      <td>...</td>\n",
              "      <td>...</td>\n",
              "      <td>...</td>\n",
              "    </tr>\n",
              "    <tr>\n",
              "      <th>21008</th>\n",
              "      <td>20</td>\n",
              "      <td>3.398</td>\n",
              "      <td>40.0</td>\n",
              "      <td>среднее</td>\n",
              "      <td>1</td>\n",
              "      <td>женат / замужем</td>\n",
              "      <td>0</td>\n",
              "      <td>F</td>\n",
              "      <td>сотрудник</td>\n",
              "      <td>1</td>\n",
              "      <td>133524.010303</td>\n",
              "      <td>свой автомобиль</td>\n",
              "    </tr>\n",
              "    <tr>\n",
              "      <th>21325</th>\n",
              "      <td>20</td>\n",
              "      <td>1.647</td>\n",
              "      <td>37.0</td>\n",
              "      <td>среднее</td>\n",
              "      <td>1</td>\n",
              "      <td>женат / замужем</td>\n",
              "      <td>0</td>\n",
              "      <td>F</td>\n",
              "      <td>компаньон</td>\n",
              "      <td>0</td>\n",
              "      <td>102986.065978</td>\n",
              "      <td>профильное образование</td>\n",
              "    </tr>\n",
              "    <tr>\n",
              "      <th>21390</th>\n",
              "      <td>20</td>\n",
              "      <td>4.194</td>\n",
              "      <td>53.0</td>\n",
              "      <td>среднее</td>\n",
              "      <td>1</td>\n",
              "      <td>женат / замужем</td>\n",
              "      <td>0</td>\n",
              "      <td>M</td>\n",
              "      <td>компаньон</td>\n",
              "      <td>0</td>\n",
              "      <td>172357.950966</td>\n",
              "      <td>покупка жилой недвижимости</td>\n",
              "    </tr>\n",
              "    <tr>\n",
              "      <th>21404</th>\n",
              "      <td>20</td>\n",
              "      <td>1.356</td>\n",
              "      <td>52.0</td>\n",
              "      <td>среднее</td>\n",
              "      <td>1</td>\n",
              "      <td>женат / замужем</td>\n",
              "      <td>0</td>\n",
              "      <td>M</td>\n",
              "      <td>компаньон</td>\n",
              "      <td>0</td>\n",
              "      <td>156629.683642</td>\n",
              "      <td>операции со своей недвижимостью</td>\n",
              "    </tr>\n",
              "    <tr>\n",
              "      <th>21491</th>\n",
              "      <td>20</td>\n",
              "      <td>0.477</td>\n",
              "      <td>27.0</td>\n",
              "      <td>среднее</td>\n",
              "      <td>1</td>\n",
              "      <td>женат / замужем</td>\n",
              "      <td>0</td>\n",
              "      <td>F</td>\n",
              "      <td>сотрудник</td>\n",
              "      <td>0</td>\n",
              "      <td>155520.899688</td>\n",
              "      <td>на покупку подержанного автомобиля</td>\n",
              "    </tr>\n",
              "  </tbody>\n",
              "</table>\n",
              "<p>76 rows × 12 columns</p>\n",
              "</div>"
            ],
            "text/plain": [
              "       children  days_employed  dob_years education  education_id  \\\n",
              "606          20          2.412       21.0   среднее             1   \n",
              "720          20          2.344       44.0   среднее             1   \n",
              "1074         20          9.070       56.0   среднее             1   \n",
              "2510         20          7.436       59.0    высшее             0   \n",
              "2941         20          5.922       39.0   среднее             1   \n",
              "...         ...            ...        ...       ...           ...   \n",
              "21008        20          3.398       40.0   среднее             1   \n",
              "21325        20          1.647       37.0   среднее             1   \n",
              "21390        20          4.194       53.0   среднее             1   \n",
              "21404        20          1.356       52.0   среднее             1   \n",
              "21491        20          0.477       27.0   среднее             1   \n",
              "\n",
              "         family_status  family_status_id gender income_type  debt  \\\n",
              "606    женат / замужем                 0      M   компаньон     0   \n",
              "720    женат / замужем                 0      F   компаньон     0   \n",
              "1074   женат / замужем                 0      F   сотрудник     1   \n",
              "2510    вдовец / вдова                 2      F   сотрудник     0   \n",
              "2941   женат / замужем                 0      F   сотрудник     0   \n",
              "...                ...               ...    ...         ...   ...   \n",
              "21008  женат / замужем                 0      F   сотрудник     1   \n",
              "21325  женат / замужем                 0      F   компаньон     0   \n",
              "21390  женат / замужем                 0      M   компаньон     0   \n",
              "21404  женат / замужем                 0      M   компаньон     0   \n",
              "21491  женат / замужем                 0      F   сотрудник     0   \n",
              "\n",
              "        total_income                                purpose  \n",
              "606    145334.865002                          покупка жилья  \n",
              "720    112998.738649                   покупка недвижимости  \n",
              "1074   229518.537004                  получение образования  \n",
              "2510   264474.835577  операции с коммерческой недвижимостью  \n",
              "2941   199739.941398                  на покупку автомобиля  \n",
              "...              ...                                    ...  \n",
              "21008  133524.010303                        свой автомобиль  \n",
              "21325  102986.065978                 профильное образование  \n",
              "21390  172357.950966             покупка жилой недвижимости  \n",
              "21404  156629.683642        операции со своей недвижимостью  \n",
              "21491  155520.899688     на покупку подержанного автомобиля  \n",
              "\n",
              "[76 rows x 12 columns]"
            ]
          },
          "execution_count": 23,
          "metadata": {},
          "output_type": "execute_result"
        }
      ],
      "source": [
        "data[data['children'] == 20]"
      ]
    },
    {
      "cell_type": "code",
      "execution_count": null,
      "id": "21aabb83",
      "metadata": {
        "id": "21aabb83",
        "outputId": "8271f2d6-7426-4384-c086-a7ecd79e02a4"
      },
      "outputs": [
        {
          "data": {
            "text/html": [
              "<div>\n",
              "<style scoped>\n",
              "    .dataframe tbody tr th:only-of-type {\n",
              "        vertical-align: middle;\n",
              "    }\n",
              "\n",
              "    .dataframe tbody tr th {\n",
              "        vertical-align: top;\n",
              "    }\n",
              "\n",
              "    .dataframe thead th {\n",
              "        text-align: right;\n",
              "    }\n",
              "</style>\n",
              "<table border=\"1\" class=\"dataframe\">\n",
              "  <thead>\n",
              "    <tr style=\"text-align: right;\">\n",
              "      <th></th>\n",
              "      <th>children</th>\n",
              "      <th>days_employed</th>\n",
              "      <th>dob_years</th>\n",
              "      <th>education</th>\n",
              "      <th>education_id</th>\n",
              "      <th>family_status</th>\n",
              "      <th>family_status_id</th>\n",
              "      <th>gender</th>\n",
              "      <th>income_type</th>\n",
              "      <th>debt</th>\n",
              "      <th>total_income</th>\n",
              "      <th>purpose</th>\n",
              "    </tr>\n",
              "  </thead>\n",
              "  <tbody>\n",
              "    <tr>\n",
              "      <th>291</th>\n",
              "      <td>-1</td>\n",
              "      <td>12.103</td>\n",
              "      <td>46.0</td>\n",
              "      <td>среднее</td>\n",
              "      <td>1</td>\n",
              "      <td>гражданский брак</td>\n",
              "      <td>1</td>\n",
              "      <td>F</td>\n",
              "      <td>сотрудник</td>\n",
              "      <td>0</td>\n",
              "      <td>102816.346412</td>\n",
              "      <td>профильное образование</td>\n",
              "    </tr>\n",
              "    <tr>\n",
              "      <th>705</th>\n",
              "      <td>-1</td>\n",
              "      <td>2.471</td>\n",
              "      <td>50.0</td>\n",
              "      <td>среднее</td>\n",
              "      <td>1</td>\n",
              "      <td>женат / замужем</td>\n",
              "      <td>0</td>\n",
              "      <td>F</td>\n",
              "      <td>госслужащий</td>\n",
              "      <td>0</td>\n",
              "      <td>137882.899271</td>\n",
              "      <td>приобретение автомобиля</td>\n",
              "    </tr>\n",
              "    <tr>\n",
              "      <th>742</th>\n",
              "      <td>-1</td>\n",
              "      <td>8.697</td>\n",
              "      <td>57.0</td>\n",
              "      <td>среднее</td>\n",
              "      <td>1</td>\n",
              "      <td>женат / замужем</td>\n",
              "      <td>0</td>\n",
              "      <td>F</td>\n",
              "      <td>сотрудник</td>\n",
              "      <td>0</td>\n",
              "      <td>64268.044444</td>\n",
              "      <td>дополнительное образование</td>\n",
              "    </tr>\n",
              "    <tr>\n",
              "      <th>800</th>\n",
              "      <td>-1</td>\n",
              "      <td>36.000</td>\n",
              "      <td>54.0</td>\n",
              "      <td>среднее</td>\n",
              "      <td>1</td>\n",
              "      <td>Не женат / не замужем</td>\n",
              "      <td>4</td>\n",
              "      <td>F</td>\n",
              "      <td>пенсионер</td>\n",
              "      <td>0</td>\n",
              "      <td>86293.724153</td>\n",
              "      <td>дополнительное образование</td>\n",
              "    </tr>\n",
              "    <tr>\n",
              "      <th>941</th>\n",
              "      <td>-1</td>\n",
              "      <td>42.000</td>\n",
              "      <td>57.0</td>\n",
              "      <td>Среднее</td>\n",
              "      <td>1</td>\n",
              "      <td>женат / замужем</td>\n",
              "      <td>0</td>\n",
              "      <td>F</td>\n",
              "      <td>пенсионер</td>\n",
              "      <td>0</td>\n",
              "      <td>118514.486412</td>\n",
              "      <td>на покупку своего автомобиля</td>\n",
              "    </tr>\n",
              "    <tr>\n",
              "      <th>1363</th>\n",
              "      <td>-1</td>\n",
              "      <td>3.275</td>\n",
              "      <td>55.0</td>\n",
              "      <td>СРЕДНЕЕ</td>\n",
              "      <td>1</td>\n",
              "      <td>женат / замужем</td>\n",
              "      <td>0</td>\n",
              "      <td>F</td>\n",
              "      <td>компаньон</td>\n",
              "      <td>0</td>\n",
              "      <td>69550.699692</td>\n",
              "      <td>профильное образование</td>\n",
              "    </tr>\n",
              "    <tr>\n",
              "      <th>1929</th>\n",
              "      <td>-1</td>\n",
              "      <td>4.004</td>\n",
              "      <td>38.0</td>\n",
              "      <td>среднее</td>\n",
              "      <td>1</td>\n",
              "      <td>Не женат / не замужем</td>\n",
              "      <td>4</td>\n",
              "      <td>M</td>\n",
              "      <td>сотрудник</td>\n",
              "      <td>0</td>\n",
              "      <td>109121.569013</td>\n",
              "      <td>покупка жилья</td>\n",
              "    </tr>\n",
              "    <tr>\n",
              "      <th>2073</th>\n",
              "      <td>-1</td>\n",
              "      <td>6.958</td>\n",
              "      <td>42.0</td>\n",
              "      <td>среднее</td>\n",
              "      <td>1</td>\n",
              "      <td>в разводе</td>\n",
              "      <td>3</td>\n",
              "      <td>F</td>\n",
              "      <td>компаньон</td>\n",
              "      <td>0</td>\n",
              "      <td>162638.609373</td>\n",
              "      <td>покупка жилья</td>\n",
              "    </tr>\n",
              "    <tr>\n",
              "      <th>3814</th>\n",
              "      <td>-1</td>\n",
              "      <td>8.000</td>\n",
              "      <td>26.0</td>\n",
              "      <td>Среднее</td>\n",
              "      <td>1</td>\n",
              "      <td>гражданский брак</td>\n",
              "      <td>1</td>\n",
              "      <td>F</td>\n",
              "      <td>госслужащий</td>\n",
              "      <td>0</td>\n",
              "      <td>131892.785435</td>\n",
              "      <td>на проведение свадьбы</td>\n",
              "    </tr>\n",
              "    <tr>\n",
              "      <th>4201</th>\n",
              "      <td>-1</td>\n",
              "      <td>2.469</td>\n",
              "      <td>41.0</td>\n",
              "      <td>среднее</td>\n",
              "      <td>1</td>\n",
              "      <td>женат / замужем</td>\n",
              "      <td>0</td>\n",
              "      <td>F</td>\n",
              "      <td>госслужащий</td>\n",
              "      <td>0</td>\n",
              "      <td>226375.766751</td>\n",
              "      <td>операции со своей недвижимостью</td>\n",
              "    </tr>\n",
              "  </tbody>\n",
              "</table>\n",
              "</div>"
            ],
            "text/plain": [
              "      children  days_employed  dob_years education  education_id  \\\n",
              "291         -1         12.103       46.0   среднее             1   \n",
              "705         -1          2.471       50.0   среднее             1   \n",
              "742         -1          8.697       57.0   среднее             1   \n",
              "800         -1         36.000       54.0   среднее             1   \n",
              "941         -1         42.000       57.0   Среднее             1   \n",
              "1363        -1          3.275       55.0   СРЕДНЕЕ             1   \n",
              "1929        -1          4.004       38.0   среднее             1   \n",
              "2073        -1          6.958       42.0   среднее             1   \n",
              "3814        -1          8.000       26.0   Среднее             1   \n",
              "4201        -1          2.469       41.0   среднее             1   \n",
              "\n",
              "              family_status  family_status_id gender  income_type  debt  \\\n",
              "291        гражданский брак                 1      F    сотрудник     0   \n",
              "705         женат / замужем                 0      F  госслужащий     0   \n",
              "742         женат / замужем                 0      F    сотрудник     0   \n",
              "800   Не женат / не замужем                 4      F    пенсионер     0   \n",
              "941         женат / замужем                 0      F    пенсионер     0   \n",
              "1363        женат / замужем                 0      F    компаньон     0   \n",
              "1929  Не женат / не замужем                 4      M    сотрудник     0   \n",
              "2073              в разводе                 3      F    компаньон     0   \n",
              "3814       гражданский брак                 1      F  госслужащий     0   \n",
              "4201        женат / замужем                 0      F  госслужащий     0   \n",
              "\n",
              "       total_income                          purpose  \n",
              "291   102816.346412           профильное образование  \n",
              "705   137882.899271          приобретение автомобиля  \n",
              "742    64268.044444       дополнительное образование  \n",
              "800    86293.724153       дополнительное образование  \n",
              "941   118514.486412     на покупку своего автомобиля  \n",
              "1363   69550.699692           профильное образование  \n",
              "1929  109121.569013                    покупка жилья  \n",
              "2073  162638.609373                    покупка жилья  \n",
              "3814  131892.785435            на проведение свадьбы  \n",
              "4201  226375.766751  операции со своей недвижимостью  "
            ]
          },
          "metadata": {},
          "output_type": "display_data"
        }
      ],
      "source": [
        "display(data[data['children'] == -1].head(10))"
      ]
    },
    {
      "cell_type": "markdown",
      "id": "48c98d51",
      "metadata": {
        "id": "48c98d51"
      },
      "source": [
        "Строк, в которых встречается отрицательное количество детей несколько. Скорее всего такие значения возникли при ошибке в подгрузке файла или не правильном заполнении форм.<br> Воспользуемся модулем, что бы заменить отрицательные значения на положительные."
      ]
    },
    {
      "cell_type": "code",
      "execution_count": null,
      "id": "ac0c1e1f",
      "metadata": {
        "id": "ac0c1e1f",
        "outputId": "011c9656-a80e-441a-b33b-add04490717d"
      },
      "outputs": [
        {
          "data": {
            "text/plain": [
              "array([ 0,  1,  2,  3,  4,  5, 20])"
            ]
          },
          "execution_count": 24,
          "metadata": {},
          "output_type": "execute_result"
        }
      ],
      "source": [
        "data.loc[data['children'] == -1, 'children'] = abs(data['children'])\n",
        "data['children'].sort_values().unique() #сортировка и вывод уникальных значений столбца children для проверки"
      ]
    },
    {
      "cell_type": "markdown",
      "id": "e36b322e",
      "metadata": {
        "id": "e36b322e"
      },
      "source": [
        "Отрицательное количество детей из столбца заменены."
      ]
    },
    {
      "cell_type": "markdown",
      "id": "81bbea04",
      "metadata": {
        "id": "81bbea04"
      },
      "source": [
        "### Шаг 2.3. Изменение типов данных."
      ]
    },
    {
      "cell_type": "code",
      "execution_count": null,
      "id": "c9731cbe",
      "metadata": {
        "scrolled": true,
        "id": "c9731cbe",
        "outputId": "967bff67-debd-4dc7-862d-f842e0284796"
      },
      "outputs": [
        {
          "name": "stdout",
          "output_type": "stream",
          "text": [
            "<class 'pandas.core.frame.DataFrame'>\n",
            "RangeIndex: 21525 entries, 0 to 21524\n",
            "Data columns (total 12 columns):\n",
            " #   Column            Non-Null Count  Dtype  \n",
            "---  ------            --------------  -----  \n",
            " 0   children          21525 non-null  int64  \n",
            " 1   days_employed     21525 non-null  float64\n",
            " 2   dob_years         21525 non-null  float64\n",
            " 3   education         21525 non-null  object \n",
            " 4   education_id      21525 non-null  int64  \n",
            " 5   family_status     21525 non-null  object \n",
            " 6   family_status_id  21525 non-null  int64  \n",
            " 7   gender            21525 non-null  object \n",
            " 8   income_type       21525 non-null  object \n",
            " 9   debt              21525 non-null  int64  \n",
            " 10  total_income      21525 non-null  int64  \n",
            " 11  purpose           21525 non-null  object \n",
            "dtypes: float64(2), int64(5), object(5)\n",
            "memory usage: 2.0+ MB\n"
          ]
        }
      ],
      "source": [
        "data['total_income'] = data['total_income'].astype('int') \n",
        "#замена вещественного типа данных на целочисленный в столбце 'total_income' \n",
        "data.info()"
      ]
    },
    {
      "cell_type": "markdown",
      "id": "492e9964",
      "metadata": {
        "id": "492e9964"
      },
      "source": [
        "### Шаг 2.4. Удаление дубликатов."
      ]
    },
    {
      "cell_type": "markdown",
      "id": "e46ee5c8",
      "metadata": {
        "id": "e46ee5c8"
      },
      "source": [
        "Проверим наличие дубликатов в таблице.\n",
        "<br> Посмотрим сначала количество явных дубликатов с помощью `duplicated()` и `sum()`"
      ]
    },
    {
      "cell_type": "code",
      "execution_count": null,
      "id": "b694a116",
      "metadata": {
        "id": "b694a116",
        "outputId": "6b8faf30-0421-47e3-eb03-60104cb0c4ea"
      },
      "outputs": [
        {
          "data": {
            "text/plain": [
              "54"
            ]
          },
          "execution_count": 26,
          "metadata": {},
          "output_type": "execute_result"
        }
      ],
      "source": [
        "data.duplicated().sum() # подсчёт явных дубликатов"
      ]
    },
    {
      "cell_type": "markdown",
      "id": "38cea936",
      "metadata": {
        "id": "38cea936"
      },
      "source": [
        "Мы нашли 54 дубликата. Посмотрим первые 10 строк с дубликатами"
      ]
    },
    {
      "cell_type": "code",
      "execution_count": null,
      "id": "844c1cd5",
      "metadata": {
        "scrolled": true,
        "id": "844c1cd5",
        "outputId": "b5d68a93-17b7-4002-f545-961963cbb602"
      },
      "outputs": [
        {
          "data": {
            "text/html": [
              "<div>\n",
              "<style scoped>\n",
              "    .dataframe tbody tr th:only-of-type {\n",
              "        vertical-align: middle;\n",
              "    }\n",
              "\n",
              "    .dataframe tbody tr th {\n",
              "        vertical-align: top;\n",
              "    }\n",
              "\n",
              "    .dataframe thead th {\n",
              "        text-align: right;\n",
              "    }\n",
              "</style>\n",
              "<table border=\"1\" class=\"dataframe\">\n",
              "  <thead>\n",
              "    <tr style=\"text-align: right;\">\n",
              "      <th></th>\n",
              "      <th>children</th>\n",
              "      <th>days_employed</th>\n",
              "      <th>dob_years</th>\n",
              "      <th>education</th>\n",
              "      <th>education_id</th>\n",
              "      <th>family_status</th>\n",
              "      <th>family_status_id</th>\n",
              "      <th>gender</th>\n",
              "      <th>income_type</th>\n",
              "      <th>debt</th>\n",
              "      <th>total_income</th>\n",
              "      <th>purpose</th>\n",
              "    </tr>\n",
              "  </thead>\n",
              "  <tbody>\n",
              "    <tr>\n",
              "      <th>2849</th>\n",
              "      <td>0</td>\n",
              "      <td>4.305</td>\n",
              "      <td>41.0</td>\n",
              "      <td>среднее</td>\n",
              "      <td>1</td>\n",
              "      <td>женат / замужем</td>\n",
              "      <td>0</td>\n",
              "      <td>F</td>\n",
              "      <td>сотрудник</td>\n",
              "      <td>0</td>\n",
              "      <td>142594</td>\n",
              "      <td>покупка жилья для семьи</td>\n",
              "    </tr>\n",
              "    <tr>\n",
              "      <th>4182</th>\n",
              "      <td>1</td>\n",
              "      <td>4.305</td>\n",
              "      <td>34.0</td>\n",
              "      <td>ВЫСШЕЕ</td>\n",
              "      <td>0</td>\n",
              "      <td>гражданский брак</td>\n",
              "      <td>1</td>\n",
              "      <td>F</td>\n",
              "      <td>сотрудник</td>\n",
              "      <td>0</td>\n",
              "      <td>142594</td>\n",
              "      <td>свадьба</td>\n",
              "    </tr>\n",
              "    <tr>\n",
              "      <th>4851</th>\n",
              "      <td>0</td>\n",
              "      <td>42.000</td>\n",
              "      <td>60.0</td>\n",
              "      <td>среднее</td>\n",
              "      <td>1</td>\n",
              "      <td>гражданский брак</td>\n",
              "      <td>1</td>\n",
              "      <td>F</td>\n",
              "      <td>пенсионер</td>\n",
              "      <td>0</td>\n",
              "      <td>118514</td>\n",
              "      <td>свадьба</td>\n",
              "    </tr>\n",
              "    <tr>\n",
              "      <th>5557</th>\n",
              "      <td>0</td>\n",
              "      <td>42.000</td>\n",
              "      <td>58.0</td>\n",
              "      <td>среднее</td>\n",
              "      <td>1</td>\n",
              "      <td>гражданский брак</td>\n",
              "      <td>1</td>\n",
              "      <td>F</td>\n",
              "      <td>пенсионер</td>\n",
              "      <td>0</td>\n",
              "      <td>118514</td>\n",
              "      <td>сыграть свадьбу</td>\n",
              "    </tr>\n",
              "    <tr>\n",
              "      <th>7808</th>\n",
              "      <td>0</td>\n",
              "      <td>42.000</td>\n",
              "      <td>57.0</td>\n",
              "      <td>среднее</td>\n",
              "      <td>1</td>\n",
              "      <td>гражданский брак</td>\n",
              "      <td>1</td>\n",
              "      <td>F</td>\n",
              "      <td>пенсионер</td>\n",
              "      <td>0</td>\n",
              "      <td>118514</td>\n",
              "      <td>на проведение свадьбы</td>\n",
              "    </tr>\n",
              "    <tr>\n",
              "      <th>8583</th>\n",
              "      <td>0</td>\n",
              "      <td>42.000</td>\n",
              "      <td>58.0</td>\n",
              "      <td>высшее</td>\n",
              "      <td>0</td>\n",
              "      <td>Не женат / не замужем</td>\n",
              "      <td>4</td>\n",
              "      <td>F</td>\n",
              "      <td>пенсионер</td>\n",
              "      <td>0</td>\n",
              "      <td>118514</td>\n",
              "      <td>дополнительное образование</td>\n",
              "    </tr>\n",
              "    <tr>\n",
              "      <th>9238</th>\n",
              "      <td>2</td>\n",
              "      <td>4.305</td>\n",
              "      <td>34.0</td>\n",
              "      <td>среднее</td>\n",
              "      <td>1</td>\n",
              "      <td>женат / замужем</td>\n",
              "      <td>0</td>\n",
              "      <td>F</td>\n",
              "      <td>сотрудник</td>\n",
              "      <td>0</td>\n",
              "      <td>142594</td>\n",
              "      <td>покупка жилья для сдачи</td>\n",
              "    </tr>\n",
              "    <tr>\n",
              "      <th>9528</th>\n",
              "      <td>0</td>\n",
              "      <td>42.000</td>\n",
              "      <td>66.0</td>\n",
              "      <td>среднее</td>\n",
              "      <td>1</td>\n",
              "      <td>вдовец / вдова</td>\n",
              "      <td>2</td>\n",
              "      <td>F</td>\n",
              "      <td>пенсионер</td>\n",
              "      <td>0</td>\n",
              "      <td>118514</td>\n",
              "      <td>операции со своей недвижимостью</td>\n",
              "    </tr>\n",
              "    <tr>\n",
              "      <th>9627</th>\n",
              "      <td>0</td>\n",
              "      <td>42.000</td>\n",
              "      <td>56.0</td>\n",
              "      <td>среднее</td>\n",
              "      <td>1</td>\n",
              "      <td>женат / замужем</td>\n",
              "      <td>0</td>\n",
              "      <td>F</td>\n",
              "      <td>пенсионер</td>\n",
              "      <td>0</td>\n",
              "      <td>118514</td>\n",
              "      <td>операции со своей недвижимостью</td>\n",
              "    </tr>\n",
              "    <tr>\n",
              "      <th>10462</th>\n",
              "      <td>0</td>\n",
              "      <td>42.000</td>\n",
              "      <td>62.0</td>\n",
              "      <td>среднее</td>\n",
              "      <td>1</td>\n",
              "      <td>женат / замужем</td>\n",
              "      <td>0</td>\n",
              "      <td>F</td>\n",
              "      <td>пенсионер</td>\n",
              "      <td>0</td>\n",
              "      <td>118514</td>\n",
              "      <td>покупка коммерческой недвижимости</td>\n",
              "    </tr>\n",
              "  </tbody>\n",
              "</table>\n",
              "</div>"
            ],
            "text/plain": [
              "       children  days_employed  dob_years education  education_id  \\\n",
              "2849          0          4.305       41.0   среднее             1   \n",
              "4182          1          4.305       34.0    ВЫСШЕЕ             0   \n",
              "4851          0         42.000       60.0   среднее             1   \n",
              "5557          0         42.000       58.0   среднее             1   \n",
              "7808          0         42.000       57.0   среднее             1   \n",
              "8583          0         42.000       58.0    высшее             0   \n",
              "9238          2          4.305       34.0   среднее             1   \n",
              "9528          0         42.000       66.0   среднее             1   \n",
              "9627          0         42.000       56.0   среднее             1   \n",
              "10462         0         42.000       62.0   среднее             1   \n",
              "\n",
              "               family_status  family_status_id gender income_type  debt  \\\n",
              "2849         женат / замужем                 0      F   сотрудник     0   \n",
              "4182        гражданский брак                 1      F   сотрудник     0   \n",
              "4851        гражданский брак                 1      F   пенсионер     0   \n",
              "5557        гражданский брак                 1      F   пенсионер     0   \n",
              "7808        гражданский брак                 1      F   пенсионер     0   \n",
              "8583   Не женат / не замужем                 4      F   пенсионер     0   \n",
              "9238         женат / замужем                 0      F   сотрудник     0   \n",
              "9528          вдовец / вдова                 2      F   пенсионер     0   \n",
              "9627         женат / замужем                 0      F   пенсионер     0   \n",
              "10462        женат / замужем                 0      F   пенсионер     0   \n",
              "\n",
              "       total_income                            purpose  \n",
              "2849         142594            покупка жилья для семьи  \n",
              "4182         142594                            свадьба  \n",
              "4851         118514                            свадьба  \n",
              "5557         118514                    сыграть свадьбу  \n",
              "7808         118514              на проведение свадьбы  \n",
              "8583         118514         дополнительное образование  \n",
              "9238         142594            покупка жилья для сдачи  \n",
              "9528         118514    операции со своей недвижимостью  \n",
              "9627         118514    операции со своей недвижимостью  \n",
              "10462        118514  покупка коммерческой недвижимости  "
            ]
          },
          "execution_count": 27,
          "metadata": {},
          "output_type": "execute_result"
        }
      ],
      "source": [
        "duplicated_df = data[data.duplicated()] #создаем датафрейм с дубликатами\n",
        "duplicated_df.head(10)"
      ]
    },
    {
      "cell_type": "markdown",
      "id": "a211e492",
      "metadata": {
        "id": "a211e492"
      },
      "source": [
        "Подобного типа дубликаты могли возникнуть из-за того, что клиент дважды заполнил одну и ту же заявку или же при загрузке фрагмента в таблицу, его могли загрузить несколько раз. <br> Удалим янвные дубликаты и сформируем новые индексы."
      ]
    },
    {
      "cell_type": "code",
      "execution_count": null,
      "id": "b24dbe11",
      "metadata": {
        "scrolled": true,
        "id": "b24dbe11",
        "outputId": "e2974f0e-2e95-4a54-daf5-4c7380e4c09d"
      },
      "outputs": [
        {
          "name": "stdout",
          "output_type": "stream",
          "text": [
            "<class 'pandas.core.frame.DataFrame'>\n",
            "RangeIndex: 21471 entries, 0 to 21470\n",
            "Data columns (total 12 columns):\n",
            " #   Column            Non-Null Count  Dtype  \n",
            "---  ------            --------------  -----  \n",
            " 0   children          21471 non-null  int64  \n",
            " 1   days_employed     21471 non-null  float64\n",
            " 2   dob_years         21471 non-null  float64\n",
            " 3   education         21471 non-null  object \n",
            " 4   education_id      21471 non-null  int64  \n",
            " 5   family_status     21471 non-null  object \n",
            " 6   family_status_id  21471 non-null  int64  \n",
            " 7   gender            21471 non-null  object \n",
            " 8   income_type       21471 non-null  object \n",
            " 9   debt              21471 non-null  int64  \n",
            " 10  total_income      21471 non-null  int64  \n",
            " 11  purpose           21471 non-null  object \n",
            "dtypes: float64(2), int64(5), object(5)\n",
            "memory usage: 2.0+ MB\n"
          ]
        }
      ],
      "source": [
        "data = data.drop_duplicates().reset_index(drop=True)\n",
        "# удаление явных дубликатов (с удалением старых индексов и формированием новых)\n",
        "data.info()"
      ]
    },
    {
      "cell_type": "markdown",
      "id": "cd483bb7",
      "metadata": {
        "id": "cd483bb7"
      },
      "source": [
        "Количество строк в таблице сократилось. Делаем вывод, что дубликаты удалены. \n",
        "<br>\n",
        "<br>Проверим датафрейм на неявные дубликаты. Для этого извлечем нужный столбец для проверки, отсортируем и вернем его уникальные значения c помощью функций `sort_values()` и `unique()`. <br> Начнем со столюца `education`"
      ]
    },
    {
      "cell_type": "code",
      "execution_count": null,
      "id": "fe18774c",
      "metadata": {
        "scrolled": true,
        "id": "fe18774c",
        "outputId": "16a616d5-f7b5-441a-f126-f65952dad081"
      },
      "outputs": [
        {
          "data": {
            "text/plain": [
              "array(['ВЫСШЕЕ', 'Высшее', 'НАЧАЛЬНОЕ', 'НЕОКОНЧЕННОЕ ВЫСШЕЕ',\n",
              "       'Начальное', 'Неоконченное высшее', 'СРЕДНЕЕ', 'Среднее',\n",
              "       'УЧЕНАЯ СТЕПЕНЬ', 'Ученая степень', 'высшее', 'начальное',\n",
              "       'неоконченное высшее', 'среднее', 'ученая степень'], dtype=object)"
            ]
          },
          "execution_count": 29,
          "metadata": {},
          "output_type": "execute_result"
        }
      ],
      "source": [
        "data['education'].sort_values().unique() #сортировка для поиска не явных дубликатов столбца 'education'"
      ]
    },
    {
      "cell_type": "markdown",
      "id": "8fb81895",
      "metadata": {
        "id": "8fb81895"
      },
      "source": [
        "Мы видим, что в столбце `education` есть записи с разными регистрами. Чтобы учесть такие дубликаты, переведем все записи к нижнему регистру вызовом метода `lower()`"
      ]
    },
    {
      "cell_type": "code",
      "execution_count": null,
      "id": "c6474199",
      "metadata": {
        "id": "c6474199"
      },
      "outputs": [],
      "source": [
        "data['education'] = data['education'].str.lower() #приведение к нижнему регистру"
      ]
    },
    {
      "cell_type": "markdown",
      "id": "a0d7668e",
      "metadata": {
        "id": "a0d7668e"
      },
      "source": [
        "Проверим столбец `education` еще раз, что бы убедиться, что дубликаты с разными регистрами заменились на один вид записи. <br> Проверим данные на явные дубликаты еще раз, что бы проверить не появились ли новые после изменения регистра в столбце `education`."
      ]
    },
    {
      "cell_type": "code",
      "execution_count": null,
      "id": "2b60ef15",
      "metadata": {
        "id": "2b60ef15",
        "outputId": "661d6d77-3994-4323-b3cc-c5fdc9d8d511"
      },
      "outputs": [
        {
          "data": {
            "text/plain": [
              "17"
            ]
          },
          "execution_count": 31,
          "metadata": {},
          "output_type": "execute_result"
        }
      ],
      "source": [
        "data.duplicated().sum() # подсчёт явных дубликатов"
      ]
    },
    {
      "cell_type": "markdown",
      "id": "c640ff6e",
      "metadata": {
        "id": "c640ff6e"
      },
      "source": [
        "Мы видим, что у нас появилось 17 новых явных дубликатов. Удалим их:"
      ]
    },
    {
      "cell_type": "code",
      "execution_count": null,
      "id": "e9614f2c",
      "metadata": {
        "id": "e9614f2c",
        "outputId": "737532df-12ad-408b-c435-03fefda85cf8"
      },
      "outputs": [
        {
          "name": "stdout",
          "output_type": "stream",
          "text": [
            "<class 'pandas.core.frame.DataFrame'>\n",
            "RangeIndex: 21454 entries, 0 to 21453\n",
            "Data columns (total 12 columns):\n",
            " #   Column            Non-Null Count  Dtype  \n",
            "---  ------            --------------  -----  \n",
            " 0   children          21454 non-null  int64  \n",
            " 1   days_employed     21454 non-null  float64\n",
            " 2   dob_years         21454 non-null  float64\n",
            " 3   education         21454 non-null  object \n",
            " 4   education_id      21454 non-null  int64  \n",
            " 5   family_status     21454 non-null  object \n",
            " 6   family_status_id  21454 non-null  int64  \n",
            " 7   gender            21454 non-null  object \n",
            " 8   income_type       21454 non-null  object \n",
            " 9   debt              21454 non-null  int64  \n",
            " 10  total_income      21454 non-null  int64  \n",
            " 11  purpose           21454 non-null  object \n",
            "dtypes: float64(2), int64(5), object(5)\n",
            "memory usage: 2.0+ MB\n"
          ]
        }
      ],
      "source": [
        "data = data.drop_duplicates().reset_index(drop=True)\n",
        "# удаление явных дубликатов (с удалением старых индексов и формированием новых)\n",
        "data.info()"
      ]
    },
    {
      "cell_type": "code",
      "execution_count": null,
      "id": "1299072f",
      "metadata": {
        "scrolled": true,
        "id": "1299072f",
        "outputId": "72a4b9f0-ca6e-4909-fa50-e370f34d2146"
      },
      "outputs": [
        {
          "data": {
            "text/plain": [
              "array(['высшее', 'начальное', 'неоконченное высшее', 'среднее',\n",
              "       'ученая степень'], dtype=object)"
            ]
          },
          "execution_count": 33,
          "metadata": {},
          "output_type": "execute_result"
        }
      ],
      "source": [
        "data['education'].sort_values().unique() \n",
        "#сортировка для поиска не явных дубликатов столбца 'education' после удаления дубликатов"
      ]
    },
    {
      "cell_type": "markdown",
      "id": "b5862c62",
      "metadata": {
        "id": "b5862c62"
      },
      "source": [
        "Мы видим, что в столбце `education` дубли удалены. Проверим столбцы: `family_status`, `gender`, `purpose`"
      ]
    },
    {
      "cell_type": "code",
      "execution_count": null,
      "id": "743dc430",
      "metadata": {
        "id": "743dc430",
        "outputId": "999ad6f5-bee5-4111-b0ae-abd50e95c328"
      },
      "outputs": [
        {
          "data": {
            "text/plain": [
              "array(['Не женат / не замужем', 'в разводе', 'вдовец / вдова',\n",
              "       'гражданский брак', 'женат / замужем'], dtype=object)"
            ]
          },
          "execution_count": 34,
          "metadata": {},
          "output_type": "execute_result"
        }
      ],
      "source": [
        "data['family_status'].sort_values().unique() #сортировка для поиска не явных дубликатов"
      ]
    },
    {
      "cell_type": "markdown",
      "id": "71104a34",
      "metadata": {
        "id": "71104a34"
      },
      "source": [
        "В столбце `family_status` дублей нет."
      ]
    },
    {
      "cell_type": "code",
      "execution_count": null,
      "id": "9da58fe5",
      "metadata": {
        "scrolled": true,
        "id": "9da58fe5",
        "outputId": "66580c20-b99f-434e-936c-7200a7e261eb"
      },
      "outputs": [
        {
          "data": {
            "text/plain": [
              "array(['F', 'M', 'XNA'], dtype=object)"
            ]
          },
          "execution_count": 35,
          "metadata": {},
          "output_type": "execute_result"
        }
      ],
      "source": [
        "data['gender'].sort_values().unique() #сортировка для поиска неявных дубликатов"
      ]
    },
    {
      "cell_type": "markdown",
      "id": "e22092ee",
      "metadata": {
        "id": "e22092ee"
      },
      "source": [
        "В столбце `gender` помимо стандартных значений 'F' и 'M' присутствует значение 'XNA'. Просмотрим строки с этим значением."
      ]
    },
    {
      "cell_type": "code",
      "execution_count": null,
      "id": "4348eb95",
      "metadata": {
        "scrolled": true,
        "id": "4348eb95",
        "outputId": "6c4485e6-ee31-42c2-8dc2-38154a4f4579"
      },
      "outputs": [
        {
          "data": {
            "text/html": [
              "<div>\n",
              "<style scoped>\n",
              "    .dataframe tbody tr th:only-of-type {\n",
              "        vertical-align: middle;\n",
              "    }\n",
              "\n",
              "    .dataframe tbody tr th {\n",
              "        vertical-align: top;\n",
              "    }\n",
              "\n",
              "    .dataframe thead th {\n",
              "        text-align: right;\n",
              "    }\n",
              "</style>\n",
              "<table border=\"1\" class=\"dataframe\">\n",
              "  <thead>\n",
              "    <tr style=\"text-align: right;\">\n",
              "      <th></th>\n",
              "      <th>children</th>\n",
              "      <th>days_employed</th>\n",
              "      <th>dob_years</th>\n",
              "      <th>education</th>\n",
              "      <th>education_id</th>\n",
              "      <th>family_status</th>\n",
              "      <th>family_status_id</th>\n",
              "      <th>gender</th>\n",
              "      <th>income_type</th>\n",
              "      <th>debt</th>\n",
              "      <th>total_income</th>\n",
              "      <th>purpose</th>\n",
              "    </tr>\n",
              "  </thead>\n",
              "  <tbody>\n",
              "    <tr>\n",
              "      <th>10684</th>\n",
              "      <td>0</td>\n",
              "      <td>6.0</td>\n",
              "      <td>24.0</td>\n",
              "      <td>неоконченное высшее</td>\n",
              "      <td>2</td>\n",
              "      <td>гражданский брак</td>\n",
              "      <td>1</td>\n",
              "      <td>XNA</td>\n",
              "      <td>компаньон</td>\n",
              "      <td>0</td>\n",
              "      <td>203905</td>\n",
              "      <td>покупка недвижимости</td>\n",
              "    </tr>\n",
              "  </tbody>\n",
              "</table>\n",
              "</div>"
            ],
            "text/plain": [
              "       children  days_employed  dob_years            education  education_id  \\\n",
              "10684         0            6.0       24.0  неоконченное высшее             2   \n",
              "\n",
              "          family_status  family_status_id gender income_type  debt  \\\n",
              "10684  гражданский брак                 1    XNA   компаньон     0   \n",
              "\n",
              "       total_income               purpose  \n",
              "10684        203905  покупка недвижимости  "
            ]
          },
          "metadata": {},
          "output_type": "display_data"
        }
      ],
      "source": [
        "display(data[data['gender'] == 'XNA']) #вывод строк со значением  'XNA' на экран"
      ]
    },
    {
      "cell_type": "markdown",
      "id": "b64e91da",
      "metadata": {
        "id": "b64e91da"
      },
      "source": [
        "Найдена только одна строка со значением 'XNA' в столбце `gender`. Т.к.строка только одна и на определение зависимости погашения кредита в срок от семейного положения и количества детей она не влияет, принимаем решение не изменять значение 'XNA'.\n",
        "<br> Проверим дубли в столбце `purpose`:"
      ]
    },
    {
      "cell_type": "code",
      "execution_count": null,
      "id": "0318bf2b",
      "metadata": {
        "scrolled": false,
        "id": "0318bf2b",
        "outputId": "ee5d31bc-81c4-4b07-c77b-f55b898babb7"
      },
      "outputs": [
        {
          "data": {
            "text/plain": [
              "array(['автомобили', 'автомобиль', 'высшее образование',\n",
              "       'дополнительное образование', 'жилье',\n",
              "       'заняться высшим образованием', 'заняться образованием',\n",
              "       'на покупку автомобиля', 'на покупку подержанного автомобиля',\n",
              "       'на покупку своего автомобиля', 'на проведение свадьбы',\n",
              "       'недвижимость', 'образование', 'операции с жильем',\n",
              "       'операции с коммерческой недвижимостью',\n",
              "       'операции с недвижимостью', 'операции со своей недвижимостью',\n",
              "       'покупка жилой недвижимости', 'покупка жилья',\n",
              "       'покупка жилья для сдачи', 'покупка жилья для семьи',\n",
              "       'покупка коммерческой недвижимости', 'покупка недвижимости',\n",
              "       'покупка своего жилья', 'получение высшего образования',\n",
              "       'получение дополнительного образования', 'получение образования',\n",
              "       'приобретение автомобиля', 'профильное образование',\n",
              "       'ремонт жилью', 'свадьба', 'свой автомобиль',\n",
              "       'сделка с автомобилем', 'сделка с подержанным автомобилем',\n",
              "       'строительство жилой недвижимости', 'строительство недвижимости',\n",
              "       'строительство собственной недвижимости', 'сыграть свадьбу'],\n",
              "      dtype=object)"
            ]
          },
          "execution_count": 37,
          "metadata": {},
          "output_type": "execute_result"
        }
      ],
      "source": [
        "data['purpose'].sort_values().unique() #сортировка для поиска не явных дубликатов"
      ]
    },
    {
      "cell_type": "markdown",
      "id": "59c1c8ff",
      "metadata": {
        "id": "59c1c8ff"
      },
      "source": [
        "После изучения уникальных значений в столбце `purpose` принято решение, в дальнейшем, разделить цели получения кредита по категориям.\n",
        "<br>\n",
        "<br>Для поиска явных дубликатов мы использовали метод `duplicated()`, котрый по умолчанию считает дубликатами строки, которые полностью повторяют те, что уже встречались в таблице. С помощью `sum()`, мы посчитали количество строк-дубликатов. Для просмотра этих строк мы создали датафрейм `duplicated_df`.\n",
        "<br>Для удаления явных дубликатов мы использовали метод `drop_duplicates()`. Совместно с методом `drop_duplicates()` был изпользован метод `reset_index(drop=True)`. Благодаря этим методам мы не только удалили дубликаты, но исбросили индексы строк с удалением старых.\n",
        "<br>\n",
        "<br>В случае неявных дубликатов мы использовали приведение в столбце `education` значний к единому регистру с помощью функции `lower()`. Благодаря этому количество уникальных значений в столбце сократилось с 15 до 5.\n",
        "<br><br>**Причины возникновения дебликатов в данных**\n",
        "<br>Дубликаты могут возникнуть по нескольким причинам. Например, когда нет четко сформулированных правил заполнения анкет. В данном датасете примером этому может служить различное написание образования:'ВЫСШЕЕ', 'Высшее'и 'высшее'. Возможно, четкая инструкция по заполнению анкеты или выпадающий список с уже имеющимися значениями могли бы решить эту проблему.\n",
        "<br>Возникновение явных дубликатов может произойти, например, из-за повторной загрузки данных в базу. Так же подобные дубликаты могут возникнуть, если клиент несколько раз отправлял одинаковую информацию о себе."
      ]
    },
    {
      "cell_type": "markdown",
      "id": "a72cec14",
      "metadata": {
        "id": "a72cec14"
      },
      "source": [
        "### Шаг 2.5. Формирование дополнительных датафреймов словарей, декомпозиция исходного датафрейма."
      ]
    },
    {
      "cell_type": "markdown",
      "id": "8b2ec0e2",
      "metadata": {
        "id": "8b2ec0e2"
      },
      "source": [
        "Для облегчения работы с данными в таблице создадим отдельные \"словари\" для столбцов `education` и `family_status`"
      ]
    },
    {
      "cell_type": "code",
      "execution_count": null,
      "id": "f112ce32",
      "metadata": {
        "scrolled": true,
        "id": "f112ce32",
        "outputId": "b3bee860-4f36-4122-b462-7157e2abe49c"
      },
      "outputs": [
        {
          "data": {
            "text/html": [
              "<div>\n",
              "<style scoped>\n",
              "    .dataframe tbody tr th:only-of-type {\n",
              "        vertical-align: middle;\n",
              "    }\n",
              "\n",
              "    .dataframe tbody tr th {\n",
              "        vertical-align: top;\n",
              "    }\n",
              "\n",
              "    .dataframe thead th {\n",
              "        text-align: right;\n",
              "    }\n",
              "</style>\n",
              "<table border=\"1\" class=\"dataframe\">\n",
              "  <thead>\n",
              "    <tr style=\"text-align: right;\">\n",
              "      <th></th>\n",
              "      <th>education_id</th>\n",
              "      <th>education</th>\n",
              "    </tr>\n",
              "  </thead>\n",
              "  <tbody>\n",
              "    <tr>\n",
              "      <th>0</th>\n",
              "      <td>0</td>\n",
              "      <td>высшее</td>\n",
              "    </tr>\n",
              "    <tr>\n",
              "      <th>1</th>\n",
              "      <td>1</td>\n",
              "      <td>среднее</td>\n",
              "    </tr>\n",
              "    <tr>\n",
              "      <th>2</th>\n",
              "      <td>2</td>\n",
              "      <td>неоконченное высшее</td>\n",
              "    </tr>\n",
              "    <tr>\n",
              "      <th>3</th>\n",
              "      <td>3</td>\n",
              "      <td>начальное</td>\n",
              "    </tr>\n",
              "    <tr>\n",
              "      <th>4</th>\n",
              "      <td>4</td>\n",
              "      <td>ученая степень</td>\n",
              "    </tr>\n",
              "  </tbody>\n",
              "</table>\n",
              "</div>"
            ],
            "text/plain": [
              "   education_id            education\n",
              "0             0               высшее\n",
              "1             1              среднее\n",
              "2             2  неоконченное высшее\n",
              "3             3            начальное\n",
              "4             4       ученая степень"
            ]
          },
          "execution_count": 38,
          "metadata": {},
          "output_type": "execute_result"
        }
      ],
      "source": [
        "education_log = data[['education_id','education']] #создаем таблицу-\"словарь\" для столбца 'education'\n",
        "education_log = education_log.drop_duplicates().reset_index(drop=True) #удаляем дубли в строках таблицы\n",
        "education_log.head(10)"
      ]
    },
    {
      "cell_type": "code",
      "execution_count": null,
      "id": "c01f376b",
      "metadata": {
        "scrolled": true,
        "id": "c01f376b",
        "outputId": "b44e98ee-1e6b-44fe-cc9e-0e0546f90e05"
      },
      "outputs": [
        {
          "data": {
            "text/html": [
              "<div>\n",
              "<style scoped>\n",
              "    .dataframe tbody tr th:only-of-type {\n",
              "        vertical-align: middle;\n",
              "    }\n",
              "\n",
              "    .dataframe tbody tr th {\n",
              "        vertical-align: top;\n",
              "    }\n",
              "\n",
              "    .dataframe thead th {\n",
              "        text-align: right;\n",
              "    }\n",
              "</style>\n",
              "<table border=\"1\" class=\"dataframe\">\n",
              "  <thead>\n",
              "    <tr style=\"text-align: right;\">\n",
              "      <th></th>\n",
              "      <th>family_status_id</th>\n",
              "      <th>family_status</th>\n",
              "    </tr>\n",
              "  </thead>\n",
              "  <tbody>\n",
              "    <tr>\n",
              "      <th>0</th>\n",
              "      <td>0</td>\n",
              "      <td>женат / замужем</td>\n",
              "    </tr>\n",
              "    <tr>\n",
              "      <th>1</th>\n",
              "      <td>1</td>\n",
              "      <td>гражданский брак</td>\n",
              "    </tr>\n",
              "    <tr>\n",
              "      <th>2</th>\n",
              "      <td>2</td>\n",
              "      <td>вдовец / вдова</td>\n",
              "    </tr>\n",
              "    <tr>\n",
              "      <th>3</th>\n",
              "      <td>3</td>\n",
              "      <td>в разводе</td>\n",
              "    </tr>\n",
              "    <tr>\n",
              "      <th>4</th>\n",
              "      <td>4</td>\n",
              "      <td>Не женат / не замужем</td>\n",
              "    </tr>\n",
              "  </tbody>\n",
              "</table>\n",
              "</div>"
            ],
            "text/plain": [
              "   family_status_id          family_status\n",
              "0                 0        женат / замужем\n",
              "1                 1       гражданский брак\n",
              "2                 2         вдовец / вдова\n",
              "3                 3              в разводе\n",
              "4                 4  Не женат / не замужем"
            ]
          },
          "execution_count": 39,
          "metadata": {},
          "output_type": "execute_result"
        }
      ],
      "source": [
        "family_log = data[['family_status_id','family_status']] #создаем таблицу-\"словарь\" для столбца 'family_status'\n",
        "family_log = family_log.drop_duplicates().reset_index(drop=True)#удаляем дубли в строках таблицы\n",
        "family_log.head(10)"
      ]
    },
    {
      "cell_type": "markdown",
      "id": "15fd7f0c",
      "metadata": {
        "id": "15fd7f0c"
      },
      "source": [
        "В результате у нас появились две таблицы `education_log` и `family_log` со значением и ее идентификационным номером. Теперь можем удалить столбцы `education` и `family_status` из основной таблицы `data`."
      ]
    },
    {
      "cell_type": "code",
      "execution_count": null,
      "id": "ea78235c",
      "metadata": {
        "id": "ea78235c"
      },
      "outputs": [],
      "source": [
        "#data = data.drop(columns=['education','family_status'], errors='ignore') #удаление столбцов с параметром errors= ‘ignore’ для предотвращения возникновение ошибокtry:\n",
        "try:#удаление столбцов c применением try-except\n",
        "    data = data.drop(columns=['education','family_status'])\n",
        "except:\n",
        "    display('Есть ошибки, но мы все равно удалим ненужные столбцы')\n"
      ]
    },
    {
      "cell_type": "code",
      "execution_count": null,
      "id": "e90848ce",
      "metadata": {
        "id": "e90848ce",
        "outputId": "ad6a1014-d783-4b47-ad07-a45948bb3186"
      },
      "outputs": [
        {
          "data": {
            "text/html": [
              "<div>\n",
              "<style scoped>\n",
              "    .dataframe tbody tr th:only-of-type {\n",
              "        vertical-align: middle;\n",
              "    }\n",
              "\n",
              "    .dataframe tbody tr th {\n",
              "        vertical-align: top;\n",
              "    }\n",
              "\n",
              "    .dataframe thead th {\n",
              "        text-align: right;\n",
              "    }\n",
              "</style>\n",
              "<table border=\"1\" class=\"dataframe\">\n",
              "  <thead>\n",
              "    <tr style=\"text-align: right;\">\n",
              "      <th></th>\n",
              "      <th>children</th>\n",
              "      <th>days_employed</th>\n",
              "      <th>dob_years</th>\n",
              "      <th>education_id</th>\n",
              "      <th>family_status_id</th>\n",
              "      <th>gender</th>\n",
              "      <th>income_type</th>\n",
              "      <th>debt</th>\n",
              "      <th>total_income</th>\n",
              "      <th>purpose</th>\n",
              "    </tr>\n",
              "  </thead>\n",
              "  <tbody>\n",
              "    <tr>\n",
              "      <th>0</th>\n",
              "      <td>1</td>\n",
              "      <td>23.117</td>\n",
              "      <td>42.0</td>\n",
              "      <td>0</td>\n",
              "      <td>0</td>\n",
              "      <td>F</td>\n",
              "      <td>сотрудник</td>\n",
              "      <td>0</td>\n",
              "      <td>253875</td>\n",
              "      <td>покупка жилья</td>\n",
              "    </tr>\n",
              "    <tr>\n",
              "      <th>1</th>\n",
              "      <td>1</td>\n",
              "      <td>11.027</td>\n",
              "      <td>36.0</td>\n",
              "      <td>1</td>\n",
              "      <td>0</td>\n",
              "      <td>F</td>\n",
              "      <td>сотрудник</td>\n",
              "      <td>0</td>\n",
              "      <td>112080</td>\n",
              "      <td>приобретение автомобиля</td>\n",
              "    </tr>\n",
              "    <tr>\n",
              "      <th>2</th>\n",
              "      <td>0</td>\n",
              "      <td>15.000</td>\n",
              "      <td>33.0</td>\n",
              "      <td>1</td>\n",
              "      <td>0</td>\n",
              "      <td>M</td>\n",
              "      <td>сотрудник</td>\n",
              "      <td>0</td>\n",
              "      <td>145885</td>\n",
              "      <td>покупка жилья</td>\n",
              "    </tr>\n",
              "    <tr>\n",
              "      <th>3</th>\n",
              "      <td>3</td>\n",
              "      <td>11.301</td>\n",
              "      <td>32.0</td>\n",
              "      <td>1</td>\n",
              "      <td>0</td>\n",
              "      <td>M</td>\n",
              "      <td>сотрудник</td>\n",
              "      <td>0</td>\n",
              "      <td>267628</td>\n",
              "      <td>дополнительное образование</td>\n",
              "    </tr>\n",
              "    <tr>\n",
              "      <th>4</th>\n",
              "      <td>0</td>\n",
              "      <td>35.000</td>\n",
              "      <td>53.0</td>\n",
              "      <td>1</td>\n",
              "      <td>1</td>\n",
              "      <td>F</td>\n",
              "      <td>пенсионер</td>\n",
              "      <td>0</td>\n",
              "      <td>158616</td>\n",
              "      <td>сыграть свадьбу</td>\n",
              "    </tr>\n",
              "    <tr>\n",
              "      <th>5</th>\n",
              "      <td>0</td>\n",
              "      <td>2.537</td>\n",
              "      <td>27.0</td>\n",
              "      <td>0</td>\n",
              "      <td>1</td>\n",
              "      <td>M</td>\n",
              "      <td>компаньон</td>\n",
              "      <td>0</td>\n",
              "      <td>255763</td>\n",
              "      <td>покупка жилья</td>\n",
              "    </tr>\n",
              "    <tr>\n",
              "      <th>6</th>\n",
              "      <td>0</td>\n",
              "      <td>7.888</td>\n",
              "      <td>43.0</td>\n",
              "      <td>0</td>\n",
              "      <td>0</td>\n",
              "      <td>F</td>\n",
              "      <td>компаньон</td>\n",
              "      <td>0</td>\n",
              "      <td>240525</td>\n",
              "      <td>операции с жильем</td>\n",
              "    </tr>\n",
              "    <tr>\n",
              "      <th>7</th>\n",
              "      <td>0</td>\n",
              "      <td>0.419</td>\n",
              "      <td>50.0</td>\n",
              "      <td>1</td>\n",
              "      <td>0</td>\n",
              "      <td>M</td>\n",
              "      <td>сотрудник</td>\n",
              "      <td>0</td>\n",
              "      <td>135823</td>\n",
              "      <td>образование</td>\n",
              "    </tr>\n",
              "    <tr>\n",
              "      <th>8</th>\n",
              "      <td>2</td>\n",
              "      <td>17.000</td>\n",
              "      <td>35.0</td>\n",
              "      <td>0</td>\n",
              "      <td>1</td>\n",
              "      <td>F</td>\n",
              "      <td>сотрудник</td>\n",
              "      <td>0</td>\n",
              "      <td>95856</td>\n",
              "      <td>на проведение свадьбы</td>\n",
              "    </tr>\n",
              "    <tr>\n",
              "      <th>9</th>\n",
              "      <td>0</td>\n",
              "      <td>5.997</td>\n",
              "      <td>41.0</td>\n",
              "      <td>1</td>\n",
              "      <td>0</td>\n",
              "      <td>M</td>\n",
              "      <td>сотрудник</td>\n",
              "      <td>0</td>\n",
              "      <td>144425</td>\n",
              "      <td>покупка жилья для семьи</td>\n",
              "    </tr>\n",
              "  </tbody>\n",
              "</table>\n",
              "</div>"
            ],
            "text/plain": [
              "   children  days_employed  dob_years  education_id  family_status_id gender  \\\n",
              "0         1         23.117       42.0             0                 0      F   \n",
              "1         1         11.027       36.0             1                 0      F   \n",
              "2         0         15.000       33.0             1                 0      M   \n",
              "3         3         11.301       32.0             1                 0      M   \n",
              "4         0         35.000       53.0             1                 1      F   \n",
              "5         0          2.537       27.0             0                 1      M   \n",
              "6         0          7.888       43.0             0                 0      F   \n",
              "7         0          0.419       50.0             1                 0      M   \n",
              "8         2         17.000       35.0             0                 1      F   \n",
              "9         0          5.997       41.0             1                 0      M   \n",
              "\n",
              "  income_type  debt  total_income                     purpose  \n",
              "0   сотрудник     0        253875               покупка жилья  \n",
              "1   сотрудник     0        112080     приобретение автомобиля  \n",
              "2   сотрудник     0        145885               покупка жилья  \n",
              "3   сотрудник     0        267628  дополнительное образование  \n",
              "4   пенсионер     0        158616             сыграть свадьбу  \n",
              "5   компаньон     0        255763               покупка жилья  \n",
              "6   компаньон     0        240525           операции с жильем  \n",
              "7   сотрудник     0        135823                 образование  \n",
              "8   сотрудник     0         95856       на проведение свадьбы  \n",
              "9   сотрудник     0        144425     покупка жилья для семьи  "
            ]
          },
          "execution_count": 41,
          "metadata": {},
          "output_type": "execute_result"
        }
      ],
      "source": [
        "data.head(10)"
      ]
    },
    {
      "cell_type": "markdown",
      "id": "0a69c890",
      "metadata": {
        "id": "0a69c890"
      },
      "source": [
        "Благодаря выполненым действиям упрощается визуальная работа с таблицей, для обращения к значениям из столбцов `ducation` и `family_status` достаточно узнать их 'id', а не писать полностью наименование."
      ]
    },
    {
      "cell_type": "markdown",
      "id": "69ba8575",
      "metadata": {
        "id": "69ba8575"
      },
      "source": [
        "### Шаг 2.6. Категоризация дохода."
      ]
    },
    {
      "cell_type": "markdown",
      "id": "952ce458",
      "metadata": {
        "id": "952ce458"
      },
      "source": [
        "Разделим кредитополучателей на сегменты по уровню дохода и создадим столбец `total_income_category`, в котором будет информация у какому сегменту клиент находится. <br>\n",
        "Категории:\n",
        " - 0–30000 — `'E'`;\n",
        " - 30001–50000 — `'D'`;\n",
        " - 50001–200000 — `'C'`;\n",
        " - 200001–1000000 — `'B'`;\n",
        " - 1000001 и выше — `'A'`."
      ]
    },
    {
      "cell_type": "code",
      "execution_count": null,
      "id": "9c1094a4",
      "metadata": {
        "id": "9c1094a4",
        "outputId": "218fab31-18f4-4c4b-f2db-1df54d763270"
      },
      "outputs": [
        {
          "data": {
            "text/plain": [
              "C    16015\n",
              "B     5042\n",
              "D      350\n",
              "A       25\n",
              "E       22\n",
              "Name: total_income_category, dtype: int64"
            ]
          },
          "execution_count": 42,
          "metadata": {},
          "output_type": "execute_result"
        }
      ],
      "source": [
        "\n",
        "def total_income_category(income): #функция, присваивающая категорию\n",
        "    if 0 <= income <= 30000:\n",
        "        return 'E'\n",
        "    if  30001 <= income <=50000:\n",
        "        return 'D'\n",
        "    if  50001 <= income <=200000:\n",
        "        return 'C'\n",
        "    if  200001 <= income <=1000000:\n",
        "        return 'B'\n",
        "    \n",
        "    return 'A' \n",
        "data['total_income_category'] = data['total_income'].apply(total_income_category)\n",
        "#создание нового столбца с указанием категории\n",
        "data['total_income_category'].value_counts() #вывод статистики по категориям уровян дохода"
      ]
    },
    {
      "cell_type": "markdown",
      "id": "f24fcf61",
      "metadata": {
        "id": "f24fcf61"
      },
      "source": [
        "Самой большой категорие является категория `'C'` с заработной платой от 50001 до 200000. <br> Наименьшей является категория `'E'` c заработной платой от 0 до 30000. "
      ]
    },
    {
      "cell_type": "markdown",
      "id": "96c03757",
      "metadata": {
        "id": "96c03757"
      },
      "source": [
        "### Шаг 2.7. Категоризация целей кредита."
      ]
    },
    {
      "cell_type": "markdown",
      "id": "60a1020b",
      "metadata": {
        "id": "60a1020b"
      },
      "source": [
        "Необходимо произвести сегментацию по столбцу `purpose` и привязать его значения к определенным категориям. <br> Расмотрим еще раз уникальные значения столбца `purpose`."
      ]
    },
    {
      "cell_type": "code",
      "execution_count": null,
      "id": "094fffd1",
      "metadata": {
        "id": "094fffd1",
        "outputId": "b14b063d-d5fb-4c43-d0d5-90fd55c9cba3"
      },
      "outputs": [
        {
          "data": {
            "text/plain": [
              "свадьба                                   791\n",
              "на проведение свадьбы                     768\n",
              "сыграть свадьбу                           765\n",
              "операции с недвижимостью                  675\n",
              "покупка коммерческой недвижимости         661\n",
              "операции с жильем                         652\n",
              "покупка жилья для сдачи                   651\n",
              "операции с коммерческой недвижимостью     650\n",
              "жилье                                     646\n",
              "покупка жилья                             646\n",
              "покупка жилья для семьи                   638\n",
              "строительство собственной недвижимости    635\n",
              "недвижимость                              633\n",
              "операции со своей недвижимостью           627\n",
              "строительство жилой недвижимости          624\n",
              "покупка недвижимости                      621\n",
              "покупка своего жилья                      620\n",
              "строительство недвижимости                619\n",
              "ремонт жилью                              607\n",
              "покупка жилой недвижимости                606\n",
              "на покупку своего автомобиля              505\n",
              "заняться высшим образованием              496\n",
              "автомобиль                                494\n",
              "сделка с подержанным автомобилем          486\n",
              "автомобили                                478\n",
              "свой автомобиль                           478\n",
              "на покупку подержанного автомобиля        478\n",
              "на покупку автомобиля                     471\n",
              "приобретение автомобиля                   461\n",
              "дополнительное образование                460\n",
              "сделка с автомобилем                      455\n",
              "высшее образование                        452\n",
              "образование                               447\n",
              "получение дополнительного образования     446\n",
              "получение образования                     442\n",
              "профильное образование                    436\n",
              "получение высшего образования             426\n",
              "заняться образованием                     408\n",
              "Name: purpose, dtype: int64"
            ]
          },
          "execution_count": 43,
          "metadata": {},
          "output_type": "execute_result"
        }
      ],
      "source": [
        "data['purpose'].value_counts()# простомр того, сколько раз встречается каждая цель получения кредита"
      ]
    },
    {
      "cell_type": "markdown",
      "id": "3f93b9e8",
      "metadata": {
        "id": "3f93b9e8"
      },
      "source": [
        "Все значения в столбце можно разделить на следующие категории:\n",
        " - операции с автомобилем\n",
        " - операции с недвижимостью\n",
        " - проведение свадьбы\n",
        " - получение образования"
      ]
    },
    {
      "cell_type": "code",
      "execution_count": null,
      "id": "5d364690",
      "metadata": {
        "id": "5d364690"
      },
      "outputs": [],
      "source": [
        "def purpose_category(purposes): #функция, присваивающая категорию\n",
        "     \n",
        "    if 'свадьб' in purposes:\n",
        "        return 'проведение свадьбы'\n",
        "    if 'автом' in purposes:\n",
        "        return 'операции с автомобилем' \n",
        "    if 'образов' in purposes:\n",
        "        return 'получение образования'\n",
        "    return 'операции с недвижимостью'   \n",
        "        \n",
        "data['purpose_category'] = data['purpose'].apply(purpose_category)#создание нового столбца с указанием категории"
      ]
    },
    {
      "cell_type": "code",
      "execution_count": null,
      "id": "fc5d56c7",
      "metadata": {
        "scrolled": false,
        "id": "fc5d56c7",
        "outputId": "8455ce76-c8e3-40a7-8bec-8249bed0d591"
      },
      "outputs": [
        {
          "data": {
            "text/html": [
              "<div>\n",
              "<style scoped>\n",
              "    .dataframe tbody tr th:only-of-type {\n",
              "        vertical-align: middle;\n",
              "    }\n",
              "\n",
              "    .dataframe tbody tr th {\n",
              "        vertical-align: top;\n",
              "    }\n",
              "\n",
              "    .dataframe thead th {\n",
              "        text-align: right;\n",
              "    }\n",
              "</style>\n",
              "<table border=\"1\" class=\"dataframe\">\n",
              "  <thead>\n",
              "    <tr style=\"text-align: right;\">\n",
              "      <th></th>\n",
              "      <th>children</th>\n",
              "      <th>days_employed</th>\n",
              "      <th>dob_years</th>\n",
              "      <th>education_id</th>\n",
              "      <th>family_status_id</th>\n",
              "      <th>gender</th>\n",
              "      <th>income_type</th>\n",
              "      <th>debt</th>\n",
              "      <th>total_income</th>\n",
              "      <th>purpose</th>\n",
              "      <th>total_income_category</th>\n",
              "      <th>purpose_category</th>\n",
              "    </tr>\n",
              "  </thead>\n",
              "  <tbody>\n",
              "    <tr>\n",
              "      <th>0</th>\n",
              "      <td>1</td>\n",
              "      <td>23.117</td>\n",
              "      <td>42.0</td>\n",
              "      <td>0</td>\n",
              "      <td>0</td>\n",
              "      <td>F</td>\n",
              "      <td>сотрудник</td>\n",
              "      <td>0</td>\n",
              "      <td>253875</td>\n",
              "      <td>покупка жилья</td>\n",
              "      <td>B</td>\n",
              "      <td>операции с недвижимостью</td>\n",
              "    </tr>\n",
              "    <tr>\n",
              "      <th>1</th>\n",
              "      <td>1</td>\n",
              "      <td>11.027</td>\n",
              "      <td>36.0</td>\n",
              "      <td>1</td>\n",
              "      <td>0</td>\n",
              "      <td>F</td>\n",
              "      <td>сотрудник</td>\n",
              "      <td>0</td>\n",
              "      <td>112080</td>\n",
              "      <td>приобретение автомобиля</td>\n",
              "      <td>C</td>\n",
              "      <td>операции с автомобилем</td>\n",
              "    </tr>\n",
              "    <tr>\n",
              "      <th>2</th>\n",
              "      <td>0</td>\n",
              "      <td>15.000</td>\n",
              "      <td>33.0</td>\n",
              "      <td>1</td>\n",
              "      <td>0</td>\n",
              "      <td>M</td>\n",
              "      <td>сотрудник</td>\n",
              "      <td>0</td>\n",
              "      <td>145885</td>\n",
              "      <td>покупка жилья</td>\n",
              "      <td>C</td>\n",
              "      <td>операции с недвижимостью</td>\n",
              "    </tr>\n",
              "    <tr>\n",
              "      <th>3</th>\n",
              "      <td>3</td>\n",
              "      <td>11.301</td>\n",
              "      <td>32.0</td>\n",
              "      <td>1</td>\n",
              "      <td>0</td>\n",
              "      <td>M</td>\n",
              "      <td>сотрудник</td>\n",
              "      <td>0</td>\n",
              "      <td>267628</td>\n",
              "      <td>дополнительное образование</td>\n",
              "      <td>B</td>\n",
              "      <td>получение образования</td>\n",
              "    </tr>\n",
              "    <tr>\n",
              "      <th>4</th>\n",
              "      <td>0</td>\n",
              "      <td>35.000</td>\n",
              "      <td>53.0</td>\n",
              "      <td>1</td>\n",
              "      <td>1</td>\n",
              "      <td>F</td>\n",
              "      <td>пенсионер</td>\n",
              "      <td>0</td>\n",
              "      <td>158616</td>\n",
              "      <td>сыграть свадьбу</td>\n",
              "      <td>C</td>\n",
              "      <td>проведение свадьбы</td>\n",
              "    </tr>\n",
              "    <tr>\n",
              "      <th>5</th>\n",
              "      <td>0</td>\n",
              "      <td>2.537</td>\n",
              "      <td>27.0</td>\n",
              "      <td>0</td>\n",
              "      <td>1</td>\n",
              "      <td>M</td>\n",
              "      <td>компаньон</td>\n",
              "      <td>0</td>\n",
              "      <td>255763</td>\n",
              "      <td>покупка жилья</td>\n",
              "      <td>B</td>\n",
              "      <td>операции с недвижимостью</td>\n",
              "    </tr>\n",
              "    <tr>\n",
              "      <th>6</th>\n",
              "      <td>0</td>\n",
              "      <td>7.888</td>\n",
              "      <td>43.0</td>\n",
              "      <td>0</td>\n",
              "      <td>0</td>\n",
              "      <td>F</td>\n",
              "      <td>компаньон</td>\n",
              "      <td>0</td>\n",
              "      <td>240525</td>\n",
              "      <td>операции с жильем</td>\n",
              "      <td>B</td>\n",
              "      <td>операции с недвижимостью</td>\n",
              "    </tr>\n",
              "    <tr>\n",
              "      <th>7</th>\n",
              "      <td>0</td>\n",
              "      <td>0.419</td>\n",
              "      <td>50.0</td>\n",
              "      <td>1</td>\n",
              "      <td>0</td>\n",
              "      <td>M</td>\n",
              "      <td>сотрудник</td>\n",
              "      <td>0</td>\n",
              "      <td>135823</td>\n",
              "      <td>образование</td>\n",
              "      <td>C</td>\n",
              "      <td>получение образования</td>\n",
              "    </tr>\n",
              "    <tr>\n",
              "      <th>8</th>\n",
              "      <td>2</td>\n",
              "      <td>17.000</td>\n",
              "      <td>35.0</td>\n",
              "      <td>0</td>\n",
              "      <td>1</td>\n",
              "      <td>F</td>\n",
              "      <td>сотрудник</td>\n",
              "      <td>0</td>\n",
              "      <td>95856</td>\n",
              "      <td>на проведение свадьбы</td>\n",
              "      <td>C</td>\n",
              "      <td>проведение свадьбы</td>\n",
              "    </tr>\n",
              "    <tr>\n",
              "      <th>9</th>\n",
              "      <td>0</td>\n",
              "      <td>5.997</td>\n",
              "      <td>41.0</td>\n",
              "      <td>1</td>\n",
              "      <td>0</td>\n",
              "      <td>M</td>\n",
              "      <td>сотрудник</td>\n",
              "      <td>0</td>\n",
              "      <td>144425</td>\n",
              "      <td>покупка жилья для семьи</td>\n",
              "      <td>C</td>\n",
              "      <td>операции с недвижимостью</td>\n",
              "    </tr>\n",
              "  </tbody>\n",
              "</table>\n",
              "</div>"
            ],
            "text/plain": [
              "   children  days_employed  dob_years  education_id  family_status_id gender  \\\n",
              "0         1         23.117       42.0             0                 0      F   \n",
              "1         1         11.027       36.0             1                 0      F   \n",
              "2         0         15.000       33.0             1                 0      M   \n",
              "3         3         11.301       32.0             1                 0      M   \n",
              "4         0         35.000       53.0             1                 1      F   \n",
              "5         0          2.537       27.0             0                 1      M   \n",
              "6         0          7.888       43.0             0                 0      F   \n",
              "7         0          0.419       50.0             1                 0      M   \n",
              "8         2         17.000       35.0             0                 1      F   \n",
              "9         0          5.997       41.0             1                 0      M   \n",
              "\n",
              "  income_type  debt  total_income                     purpose  \\\n",
              "0   сотрудник     0        253875               покупка жилья   \n",
              "1   сотрудник     0        112080     приобретение автомобиля   \n",
              "2   сотрудник     0        145885               покупка жилья   \n",
              "3   сотрудник     0        267628  дополнительное образование   \n",
              "4   пенсионер     0        158616             сыграть свадьбу   \n",
              "5   компаньон     0        255763               покупка жилья   \n",
              "6   компаньон     0        240525           операции с жильем   \n",
              "7   сотрудник     0        135823                 образование   \n",
              "8   сотрудник     0         95856       на проведение свадьбы   \n",
              "9   сотрудник     0        144425     покупка жилья для семьи   \n",
              "\n",
              "  total_income_category          purpose_category  \n",
              "0                     B  операции с недвижимостью  \n",
              "1                     C    операции с автомобилем  \n",
              "2                     C  операции с недвижимостью  \n",
              "3                     B     получение образования  \n",
              "4                     C        проведение свадьбы  \n",
              "5                     B  операции с недвижимостью  \n",
              "6                     B  операции с недвижимостью  \n",
              "7                     C     получение образования  \n",
              "8                     C        проведение свадьбы  \n",
              "9                     C  операции с недвижимостью  "
            ]
          },
          "execution_count": 45,
          "metadata": {},
          "output_type": "execute_result"
        }
      ],
      "source": [
        "data.head(10)"
      ]
    },
    {
      "cell_type": "code",
      "execution_count": null,
      "id": "9ca25553",
      "metadata": {
        "scrolled": true,
        "id": "9ca25553",
        "outputId": "7e97aa53-c237-4d79-ee82-c07e17d5bdea"
      },
      "outputs": [
        {
          "data": {
            "text/plain": [
              "операции с недвижимостью    10811\n",
              "операции с автомобилем       4306\n",
              "получение образования        4013\n",
              "проведение свадьбы           2324\n",
              "Name: purpose_category, dtype: int64"
            ]
          },
          "execution_count": 46,
          "metadata": {},
          "output_type": "execute_result"
        }
      ],
      "source": [
        "data['purpose_category'].value_counts() #вывод статистики по категориям уровян дохода"
      ]
    },
    {
      "cell_type": "markdown",
      "id": "32738c48",
      "metadata": {
        "id": "32738c48"
      },
      "source": [
        "Наиболее часто кредит брали на операции с недвижимостью, на операции с автомобилем и получение образрвания число взятик кредита почти одинаково. Самой маленькой категорией янвляется взятие кредина на проведение свадьбы."
      ]
    },
    {
      "cell_type": "markdown",
      "id": "cd35daec",
      "metadata": {
        "id": "cd35daec"
      },
      "source": [
        "### Ответы на вопросы."
      ]
    },
    {
      "cell_type": "markdown",
      "id": "993805d7",
      "metadata": {
        "id": "993805d7"
      },
      "source": [
        "##### Вопрос 1: Есть ли зависимость между количеством детей и возвратом кредита в срок?"
      ]
    },
    {
      "cell_type": "markdown",
      "id": "7173dc1c",
      "metadata": {
        "id": "7173dc1c"
      },
      "source": [
        "Создадим сводную таблицу `data_pivot` в которой выведем процент случаев с проблемой в погашении кредита от общего количества взятых кретитов в зависимости от количества детей."
      ]
    },
    {
      "cell_type": "code",
      "execution_count": null,
      "id": "f0ea18f7",
      "metadata": {
        "scrolled": false,
        "id": "f0ea18f7",
        "outputId": "319a0db5-6206-4987-a023-95b0a28e5ce4"
      },
      "outputs": [
        {
          "data": {
            "text/html": [
              "<div>\n",
              "<style scoped>\n",
              "    .dataframe tbody tr th:only-of-type {\n",
              "        vertical-align: middle;\n",
              "    }\n",
              "\n",
              "    .dataframe tbody tr th {\n",
              "        vertical-align: top;\n",
              "    }\n",
              "\n",
              "    .dataframe thead th {\n",
              "        text-align: right;\n",
              "    }\n",
              "</style>\n",
              "<table border=\"1\" class=\"dataframe\">\n",
              "  <thead>\n",
              "    <tr style=\"text-align: right;\">\n",
              "      <th>debt</th>\n",
              "      <th>0</th>\n",
              "      <th>1</th>\n",
              "      <th>sum</th>\n",
              "      <th>%</th>\n",
              "    </tr>\n",
              "    <tr>\n",
              "      <th>children</th>\n",
              "      <th></th>\n",
              "      <th></th>\n",
              "      <th></th>\n",
              "      <th></th>\n",
              "    </tr>\n",
              "  </thead>\n",
              "  <tbody>\n",
              "    <tr>\n",
              "      <th>0</th>\n",
              "      <td>13028.0</td>\n",
              "      <td>1063.0</td>\n",
              "      <td>14091.0</td>\n",
              "      <td>7.5</td>\n",
              "    </tr>\n",
              "    <tr>\n",
              "      <th>1</th>\n",
              "      <td>4410.0</td>\n",
              "      <td>445.0</td>\n",
              "      <td>4855.0</td>\n",
              "      <td>9.2</td>\n",
              "    </tr>\n",
              "    <tr>\n",
              "      <th>2</th>\n",
              "      <td>1858.0</td>\n",
              "      <td>194.0</td>\n",
              "      <td>2052.0</td>\n",
              "      <td>9.5</td>\n",
              "    </tr>\n",
              "    <tr>\n",
              "      <th>3</th>\n",
              "      <td>303.0</td>\n",
              "      <td>27.0</td>\n",
              "      <td>330.0</td>\n",
              "      <td>8.2</td>\n",
              "    </tr>\n",
              "    <tr>\n",
              "      <th>4</th>\n",
              "      <td>37.0</td>\n",
              "      <td>4.0</td>\n",
              "      <td>41.0</td>\n",
              "      <td>9.8</td>\n",
              "    </tr>\n",
              "    <tr>\n",
              "      <th>5</th>\n",
              "      <td>9.0</td>\n",
              "      <td>NaN</td>\n",
              "      <td>NaN</td>\n",
              "      <td>NaN</td>\n",
              "    </tr>\n",
              "    <tr>\n",
              "      <th>20</th>\n",
              "      <td>68.0</td>\n",
              "      <td>8.0</td>\n",
              "      <td>76.0</td>\n",
              "      <td>10.5</td>\n",
              "    </tr>\n",
              "  </tbody>\n",
              "</table>\n",
              "</div>"
            ],
            "text/plain": [
              "debt            0       1      sum     %\n",
              "children                                \n",
              "0         13028.0  1063.0  14091.0   7.5\n",
              "1          4410.0   445.0   4855.0   9.2\n",
              "2          1858.0   194.0   2052.0   9.5\n",
              "3           303.0    27.0    330.0   8.2\n",
              "4            37.0     4.0     41.0   9.8\n",
              "5             9.0     NaN      NaN   NaN\n",
              "20           68.0     8.0     76.0  10.5"
            ]
          },
          "execution_count": 47,
          "metadata": {},
          "output_type": "execute_result"
        }
      ],
      "source": [
        "data_pivot = data.pivot_table(index=['children'], columns='debt', values='total_income_category', aggfunc='count')\n",
        "# создание сводной таблицы\n",
        "data_pivot['sum'] = data_pivot[1]+data_pivot[0]\n",
        "data_pivot['%'] = round(data_pivot[1]/(data_pivot[1]+data_pivot[0])*100,1) \n",
        "#добавление столбца с процентным соотношением \n",
        "data_pivot #вывод таблицы"
      ]
    },
    {
      "cell_type": "markdown",
      "id": "18a96bb0",
      "metadata": {
        "id": "18a96bb0"
      },
      "source": [
        "##### Вывод 1:"
      ]
    },
    {
      "cell_type": "markdown",
      "id": "ffbed178",
      "metadata": {
        "id": "ffbed178"
      },
      "source": [
        "Мы видим что процентный разброс между категориями с количеством детей не большой.<br> Наибольший процент неуплат в срок приходится на клиентов у кого 20 детей.<br> Наименьший процент у клиентов не имеющих детей.<br> <br>Зависимость между количеством детей и возвратом кредита в срок можно проследить в первых 3х строках, с увеличением количества детей процент неуплаты повышется. По 3-6 строкам сделать выводы сложно, т.к. таких кредитов мало в сравнении с общим количеством."
      ]
    },
    {
      "cell_type": "markdown",
      "id": "900c50d3",
      "metadata": {
        "id": "900c50d3"
      },
      "source": [
        "##### Вопрос 2: Есть ли зависимость между семейным положением и возвратом кредита в срок?"
      ]
    },
    {
      "cell_type": "markdown",
      "id": "ec48a68e",
      "metadata": {
        "id": "ec48a68e"
      },
      "source": [
        "Создадим таблицу `data_subcategory_family` в которой выведем процент случаев с проблемой в погашении кредита от общего количества взятых кретитов в зависимости от семейного статуса."
      ]
    },
    {
      "cell_type": "code",
      "execution_count": null,
      "id": "10acfda1",
      "metadata": {
        "id": "10acfda1",
        "outputId": "c70c2692-e05d-4d37-a990-1105a666aab7"
      },
      "outputs": [
        {
          "data": {
            "text/html": [
              "<div>\n",
              "<style scoped>\n",
              "    .dataframe tbody tr th:only-of-type {\n",
              "        vertical-align: middle;\n",
              "    }\n",
              "\n",
              "    .dataframe tbody tr th {\n",
              "        vertical-align: top;\n",
              "    }\n",
              "\n",
              "    .dataframe thead th {\n",
              "        text-align: right;\n",
              "    }\n",
              "</style>\n",
              "<table border=\"1\" class=\"dataframe\">\n",
              "  <thead>\n",
              "    <tr style=\"text-align: right;\">\n",
              "      <th></th>\n",
              "      <th>family_status_id</th>\n",
              "      <th>0</th>\n",
              "      <th>1</th>\n",
              "      <th>sum</th>\n",
              "      <th>%</th>\n",
              "      <th>family_status</th>\n",
              "    </tr>\n",
              "  </thead>\n",
              "  <tbody>\n",
              "    <tr>\n",
              "      <th>0</th>\n",
              "      <td>0</td>\n",
              "      <td>11408</td>\n",
              "      <td>931</td>\n",
              "      <td>12339</td>\n",
              "      <td>7.5</td>\n",
              "      <td>женат / замужем</td>\n",
              "    </tr>\n",
              "    <tr>\n",
              "      <th>1</th>\n",
              "      <td>1</td>\n",
              "      <td>3763</td>\n",
              "      <td>388</td>\n",
              "      <td>4151</td>\n",
              "      <td>9.3</td>\n",
              "      <td>гражданский брак</td>\n",
              "    </tr>\n",
              "    <tr>\n",
              "      <th>2</th>\n",
              "      <td>2</td>\n",
              "      <td>896</td>\n",
              "      <td>63</td>\n",
              "      <td>959</td>\n",
              "      <td>6.6</td>\n",
              "      <td>вдовец / вдова</td>\n",
              "    </tr>\n",
              "    <tr>\n",
              "      <th>3</th>\n",
              "      <td>3</td>\n",
              "      <td>1110</td>\n",
              "      <td>85</td>\n",
              "      <td>1195</td>\n",
              "      <td>7.1</td>\n",
              "      <td>в разводе</td>\n",
              "    </tr>\n",
              "    <tr>\n",
              "      <th>4</th>\n",
              "      <td>4</td>\n",
              "      <td>2536</td>\n",
              "      <td>274</td>\n",
              "      <td>2810</td>\n",
              "      <td>9.8</td>\n",
              "      <td>Не женат / не замужем</td>\n",
              "    </tr>\n",
              "  </tbody>\n",
              "</table>\n",
              "</div>"
            ],
            "text/plain": [
              "   family_status_id      0    1    sum    %          family_status\n",
              "0                 0  11408  931  12339  7.5        женат / замужем\n",
              "1                 1   3763  388   4151  9.3       гражданский брак\n",
              "2                 2    896   63    959  6.6         вдовец / вдова\n",
              "3                 3   1110   85   1195  7.1              в разводе\n",
              "4                 4   2536  274   2810  9.8  Не женат / не замужем"
            ]
          },
          "execution_count": 48,
          "metadata": {},
          "output_type": "execute_result"
        }
      ],
      "source": [
        "data_pivot_2 = data.pivot_table(index=['family_status_id'], columns='debt', values='total_income_category', aggfunc='count')\n",
        "# создание сводной таблицы\n",
        "data_pivot_2['sum'] = data_pivot_2[1]+data_pivot_2[0]\n",
        "data_pivot_2['%'] = round(data_pivot_2[1]/(data_pivot_2[1]+data_pivot_2[0])*100,1)\n",
        "#добавление столбца с процентным соотношением \n",
        "data_subcategory_family = data_pivot_2.merge(family_log, on='family_status_id',how='left')\n",
        "#присоединение расшифровки семейного статуса\n",
        "data_subcategory_family #вывод таблицы"
      ]
    },
    {
      "cell_type": "markdown",
      "id": "8eee5799",
      "metadata": {
        "id": "8eee5799"
      },
      "source": [
        "##### Вывод 2:"
      ]
    },
    {
      "cell_type": "markdown",
      "id": "617551b4",
      "metadata": {
        "id": "617551b4"
      },
      "source": [
        "Процентный разброс неуплаты креди в срок в зависимости от семеного статуса не большой. Наименьший прошент неуплат приходится на категорию *вдовец / вдова* и составляет **6.6%** Наибольший на *Не женат / не замужем* - **9.8%** <br> <br> Исходя из полученной нами таблицы наиболее платежеспособными являются люди с семейным положением: `вдовец / вдова`, `в разводе`,`женат / замужем`."
      ]
    },
    {
      "cell_type": "markdown",
      "id": "fb40ccd8",
      "metadata": {
        "id": "fb40ccd8"
      },
      "source": [
        "##### Вопрос 3: Есть ли зависимость между уровнем дохода и возвратом кредита в срок?"
      ]
    },
    {
      "cell_type": "markdown",
      "id": "e9d54993",
      "metadata": {
        "id": "e9d54993"
      },
      "source": [
        "Создадим сводную таблицу `data_pivot_3` в которой выведем процент случаев с проблемой в погашении кредита от общего количества взятых кретитов в зависимости от дохода клиента."
      ]
    },
    {
      "cell_type": "code",
      "execution_count": null,
      "id": "14ba8d37",
      "metadata": {
        "scrolled": false,
        "id": "14ba8d37",
        "outputId": "bcaadac4-034a-4bb1-ae00-3e958d435854"
      },
      "outputs": [
        {
          "data": {
            "text/html": [
              "<div>\n",
              "<style scoped>\n",
              "    .dataframe tbody tr th:only-of-type {\n",
              "        vertical-align: middle;\n",
              "    }\n",
              "\n",
              "    .dataframe tbody tr th {\n",
              "        vertical-align: top;\n",
              "    }\n",
              "\n",
              "    .dataframe thead th {\n",
              "        text-align: right;\n",
              "    }\n",
              "</style>\n",
              "<table border=\"1\" class=\"dataframe\">\n",
              "  <thead>\n",
              "    <tr style=\"text-align: right;\">\n",
              "      <th>debt</th>\n",
              "      <th>0</th>\n",
              "      <th>1</th>\n",
              "      <th>sum</th>\n",
              "      <th>%</th>\n",
              "    </tr>\n",
              "    <tr>\n",
              "      <th>total_income_category</th>\n",
              "      <th></th>\n",
              "      <th></th>\n",
              "      <th></th>\n",
              "      <th></th>\n",
              "    </tr>\n",
              "  </thead>\n",
              "  <tbody>\n",
              "    <tr>\n",
              "      <th>A</th>\n",
              "      <td>23</td>\n",
              "      <td>2</td>\n",
              "      <td>25</td>\n",
              "      <td>8.0</td>\n",
              "    </tr>\n",
              "    <tr>\n",
              "      <th>B</th>\n",
              "      <td>4686</td>\n",
              "      <td>356</td>\n",
              "      <td>5042</td>\n",
              "      <td>7.1</td>\n",
              "    </tr>\n",
              "    <tr>\n",
              "      <th>C</th>\n",
              "      <td>14655</td>\n",
              "      <td>1360</td>\n",
              "      <td>16015</td>\n",
              "      <td>8.5</td>\n",
              "    </tr>\n",
              "    <tr>\n",
              "      <th>D</th>\n",
              "      <td>329</td>\n",
              "      <td>21</td>\n",
              "      <td>350</td>\n",
              "      <td>6.0</td>\n",
              "    </tr>\n",
              "    <tr>\n",
              "      <th>E</th>\n",
              "      <td>20</td>\n",
              "      <td>2</td>\n",
              "      <td>22</td>\n",
              "      <td>9.1</td>\n",
              "    </tr>\n",
              "  </tbody>\n",
              "</table>\n",
              "</div>"
            ],
            "text/plain": [
              "debt                       0     1    sum    %\n",
              "total_income_category                         \n",
              "A                         23     2     25  8.0\n",
              "B                       4686   356   5042  7.1\n",
              "C                      14655  1360  16015  8.5\n",
              "D                        329    21    350  6.0\n",
              "E                         20     2     22  9.1"
            ]
          },
          "execution_count": 49,
          "metadata": {},
          "output_type": "execute_result"
        }
      ],
      "source": [
        "data_pivot_3 = data.pivot_table(index=['total_income_category'], columns='debt', values='income_type', aggfunc='count')\n",
        "# создание сводной таблицы\n",
        "data_pivot_3['sum'] = data_pivot_3[1]+data_pivot_3[0]\n",
        "data_pivot_3['%'] = round(data_pivot_3[1]/(data_pivot_3[1]+data_pivot_3[0])*100,1)\n",
        "#добавление столбца с процентным соотношением \n",
        "data_pivot_3"
      ]
    },
    {
      "cell_type": "markdown",
      "id": "2f9a2880",
      "metadata": {
        "id": "2f9a2880"
      },
      "source": [
        "##### Вывод 3:"
      ]
    },
    {
      "cell_type": "markdown",
      "id": "4eb9326a",
      "metadata": {
        "id": "4eb9326a"
      },
      "source": [
        "Наименьший процент с проблемами по выплате кредита приходится на клиентов с доходом категории `D`- *от 30001 до 50000*. Наибольший приходится на категорию `E`- *от 0 до 30000*. <br> Однако, из-за того, что по категориям `A`,`D` и`E` количество кредитов очень мало, поэтому сделать вывод затруднительно."
      ]
    },
    {
      "cell_type": "markdown",
      "id": "764cfed7",
      "metadata": {
        "id": "764cfed7"
      },
      "source": [
        "##### Вопрос 4: Как разные цели кредита влияют на его возврат в срок?"
      ]
    },
    {
      "cell_type": "markdown",
      "id": "fe64107c",
      "metadata": {
        "id": "fe64107c"
      },
      "source": [
        "Создадим сводную таблицу `data_pivot_4` в которой выведем процент случаев с проблемой в погашении кредита от общего количества взятых кретитов в зависимости от цели кредита."
      ]
    },
    {
      "cell_type": "code",
      "execution_count": null,
      "id": "37d8a515",
      "metadata": {
        "id": "37d8a515",
        "outputId": "6a52db9e-4069-4e97-8d6b-d7dcd239a886"
      },
      "outputs": [
        {
          "data": {
            "text/html": [
              "<div>\n",
              "<style scoped>\n",
              "    .dataframe tbody tr th:only-of-type {\n",
              "        vertical-align: middle;\n",
              "    }\n",
              "\n",
              "    .dataframe tbody tr th {\n",
              "        vertical-align: top;\n",
              "    }\n",
              "\n",
              "    .dataframe thead th {\n",
              "        text-align: right;\n",
              "    }\n",
              "</style>\n",
              "<table border=\"1\" class=\"dataframe\">\n",
              "  <thead>\n",
              "    <tr style=\"text-align: right;\">\n",
              "      <th>debt</th>\n",
              "      <th>0</th>\n",
              "      <th>1</th>\n",
              "      <th>sum</th>\n",
              "      <th>%</th>\n",
              "    </tr>\n",
              "    <tr>\n",
              "      <th>purpose_category</th>\n",
              "      <th></th>\n",
              "      <th></th>\n",
              "      <th></th>\n",
              "      <th></th>\n",
              "    </tr>\n",
              "  </thead>\n",
              "  <tbody>\n",
              "    <tr>\n",
              "      <th>операции с автомобилем</th>\n",
              "      <td>3903</td>\n",
              "      <td>403</td>\n",
              "      <td>4306</td>\n",
              "      <td>9.4</td>\n",
              "    </tr>\n",
              "    <tr>\n",
              "      <th>операции с недвижимостью</th>\n",
              "      <td>10029</td>\n",
              "      <td>782</td>\n",
              "      <td>10811</td>\n",
              "      <td>7.2</td>\n",
              "    </tr>\n",
              "    <tr>\n",
              "      <th>получение образования</th>\n",
              "      <td>3643</td>\n",
              "      <td>370</td>\n",
              "      <td>4013</td>\n",
              "      <td>9.2</td>\n",
              "    </tr>\n",
              "    <tr>\n",
              "      <th>проведение свадьбы</th>\n",
              "      <td>2138</td>\n",
              "      <td>186</td>\n",
              "      <td>2324</td>\n",
              "      <td>8.0</td>\n",
              "    </tr>\n",
              "  </tbody>\n",
              "</table>\n",
              "</div>"
            ],
            "text/plain": [
              "debt                          0    1    sum    %\n",
              "purpose_category                                \n",
              "операции с автомобилем     3903  403   4306  9.4\n",
              "операции с недвижимостью  10029  782  10811  7.2\n",
              "получение образования      3643  370   4013  9.2\n",
              "проведение свадьбы         2138  186   2324  8.0"
            ]
          },
          "execution_count": 50,
          "metadata": {},
          "output_type": "execute_result"
        }
      ],
      "source": [
        "data_pivot_4 = data.pivot_table(index=['purpose_category'], columns='debt', values='income_type', aggfunc='count')\n",
        "# создание сводной таблицы\n",
        "data_pivot_4['sum'] = data_pivot_4[1]+data_pivot_4[0]\n",
        "data_pivot_4['%'] = round(data_pivot_4[1]/(data_pivot_4[1]+data_pivot_4[0])*100,1)\n",
        "#добавление столбца с процентным соотношением \n",
        "data_pivot_4"
      ]
    },
    {
      "cell_type": "markdown",
      "id": "82dc7d28",
      "metadata": {
        "id": "82dc7d28"
      },
      "source": [
        "##### Вывод 4:"
      ]
    },
    {
      "cell_type": "markdown",
      "id": "40f0949b",
      "metadata": {
        "id": "40f0949b"
      },
      "source": [
        "В таблице `data_pivot_4` наблюдается зависмость между целью кредита и выплатой его в срок. Наиболее надежным является выдача кредита под *операции с недвижимостью*. А *операции с автомобилями* и *полечение образования* являются более рискованными целями для выдачи кредита."
      ]
    },
    {
      "cell_type": "markdown",
      "id": "f7d9f842",
      "metadata": {
        "id": "f7d9f842"
      },
      "source": [
        "## Общий вывод:"
      ]
    },
    {
      "cell_type": "markdown",
      "id": "a2075332",
      "metadata": {
        "id": "a2075332"
      },
      "source": [
        "Мы дали ответы на поставленные вопросы:<br><br>\n",
        "**1) Зависит ли уплата кредита в срок от количества детей?<br><br>**\n",
        "В предоставленных данных зависимость прослеживается для клиентов имеющих 0-2 детей. Чем больше детей, тем больше риски просрочки уплаты.<br><br>\n",
        "**2) Зависит ли уплата кредита в срок от семейного положения?**<br><br>\n",
        "Зависимость в данных прослеживается. Наиболее платежеспособными являются вдовцы и люди состоящие в браке.<br><br>\n",
        "**3) Зависит ли уплата кредита в срок от уровня дохода?**<br><br>\n",
        "В предоставленных данных сложно дать ответ на данный вопрос, т.к. распределение данных не равномерно и основной процент выдачи кредитов приходится на категории `C`(*от 50001 до 200000*) и `B`(*от 200001 до 1000000*) 74% и 23% соответственно.<br><br>\n",
        "**4) Зависит ли уплата кредита в срок от целей на которые он был взят?**\n",
        "Из 4х категорий имеющихся в данных наиболее надежный заемщик будет брать кредит на операции с недвижимость, а наименее надежный на автомобиль. Зависимость от целей кредита прослеживается. <br><br>\n",
        "Рассматривая предоставленные данные можно составить *портрет \"идеального\" заемщика*. <br> \"Идеальный\" заемщик - Вдовец/вдова имеющий 5 детей, уровень дохода от 30001 до 50000 и собирающийся производить операции с недвижимостью. <br>Однако, если оперировать не только цифрами, но и логикой, то *\"идеальный заемщик\"* становится - Женатым/замужним человеком, без детей с заработком  от 200001 до 1000000 и так же, собирающийся производить операции с недвижимостью.\n",
        "<br>Объединяет эти два портрета два аспекта: \n",
        "<br>1) Клиент был или сейчас женат/замужем. Скорее всего это делает человека более собранным и обязательным.\n",
        "<br>2) Клиент собирается производить операции с недвижимостью. Недвижимость является, довольно, стабильным вложением. Что бы получить кредит на недвижимость необходимо предоставить больше документов. Зачастую банки прописывают в договорах, что при просрочке платежей, возможно одностороннее повышение процента. Клиенту это не выгодно и он старается платить в срок."
      ]
    }
  ],
  "metadata": {
    "ExecuteTimeLog": [
      {
        "duration": 418,
        "start_time": "2022-05-05T08:20:17.168Z"
      },
      {
        "duration": 14,
        "start_time": "2022-05-05T08:31:10.738Z"
      },
      {
        "duration": 65,
        "start_time": "2022-05-05T08:52:25.944Z"
      },
      {
        "duration": 14,
        "start_time": "2022-05-05T08:52:32.263Z"
      },
      {
        "duration": 1833,
        "start_time": "2022-05-05T09:09:51.435Z"
      },
      {
        "duration": 7,
        "start_time": "2022-05-05T09:10:07.887Z"
      },
      {
        "duration": 6,
        "start_time": "2022-05-05T09:11:39.462Z"
      },
      {
        "duration": 3,
        "start_time": "2022-05-05T09:12:22.289Z"
      },
      {
        "duration": 18,
        "start_time": "2022-05-05T09:12:25.553Z"
      },
      {
        "duration": 8,
        "start_time": "2022-05-05T09:14:09.463Z"
      },
      {
        "duration": 7,
        "start_time": "2022-05-05T09:16:55.228Z"
      },
      {
        "duration": 10,
        "start_time": "2022-05-05T09:17:38.342Z"
      },
      {
        "duration": 10,
        "start_time": "2022-05-05T09:17:45.464Z"
      },
      {
        "duration": 21,
        "start_time": "2022-05-05T09:32:15.323Z"
      },
      {
        "duration": 12,
        "start_time": "2022-05-05T09:32:31.643Z"
      },
      {
        "duration": 13,
        "start_time": "2022-05-05T09:32:43.554Z"
      },
      {
        "duration": 13,
        "start_time": "2022-05-05T09:32:48.860Z"
      },
      {
        "duration": 14,
        "start_time": "2022-05-05T09:43:16.163Z"
      },
      {
        "duration": 5,
        "start_time": "2022-05-05T09:48:25.816Z"
      },
      {
        "duration": 8,
        "start_time": "2022-05-05T09:48:58.944Z"
      },
      {
        "duration": 17,
        "start_time": "2022-05-05T09:50:52.076Z"
      },
      {
        "duration": 12,
        "start_time": "2022-05-05T09:51:19.978Z"
      },
      {
        "duration": 12,
        "start_time": "2022-05-05T09:59:54.041Z"
      },
      {
        "duration": 99,
        "start_time": "2022-05-05T10:03:26.824Z"
      },
      {
        "duration": 94,
        "start_time": "2022-05-05T10:04:42.304Z"
      },
      {
        "duration": 13,
        "start_time": "2022-05-05T10:04:56.528Z"
      },
      {
        "duration": 10,
        "start_time": "2022-05-05T10:06:58.930Z"
      },
      {
        "duration": 12,
        "start_time": "2022-05-05T10:07:22.388Z"
      },
      {
        "duration": 11,
        "start_time": "2022-05-05T10:19:15.192Z"
      },
      {
        "duration": 11,
        "start_time": "2022-05-05T10:22:28.924Z"
      },
      {
        "duration": 14,
        "start_time": "2022-05-05T10:28:42.016Z"
      },
      {
        "duration": 13,
        "start_time": "2022-05-05T10:29:06.953Z"
      },
      {
        "duration": 19,
        "start_time": "2022-05-05T10:29:22.553Z"
      },
      {
        "duration": 34,
        "start_time": "2022-05-05T12:27:55.559Z"
      },
      {
        "duration": 21,
        "start_time": "2022-05-05T12:29:38.415Z"
      },
      {
        "duration": 17,
        "start_time": "2022-05-05T12:29:46.418Z"
      },
      {
        "duration": 63,
        "start_time": "2022-05-05T16:45:14.535Z"
      },
      {
        "duration": 514,
        "start_time": "2022-05-05T16:45:23.241Z"
      },
      {
        "duration": 18,
        "start_time": "2022-05-05T16:45:27.691Z"
      },
      {
        "duration": 21,
        "start_time": "2022-05-05T16:45:30.105Z"
      },
      {
        "duration": 11,
        "start_time": "2022-05-05T16:45:47.854Z"
      },
      {
        "duration": 15,
        "start_time": "2022-05-05T16:49:27.214Z"
      },
      {
        "duration": 23,
        "start_time": "2022-05-05T16:50:05.649Z"
      },
      {
        "duration": 15,
        "start_time": "2022-05-05T16:50:06.963Z"
      },
      {
        "duration": 470,
        "start_time": "2022-05-05T18:21:07.983Z"
      },
      {
        "duration": 15,
        "start_time": "2022-05-05T18:21:08.455Z"
      },
      {
        "duration": 10,
        "start_time": "2022-05-05T18:21:08.473Z"
      },
      {
        "duration": 18,
        "start_time": "2022-05-05T18:21:08.484Z"
      },
      {
        "duration": 15,
        "start_time": "2022-05-05T18:21:08.504Z"
      },
      {
        "duration": 15,
        "start_time": "2022-05-05T18:21:08.521Z"
      },
      {
        "duration": 1393,
        "start_time": "2022-05-05T18:56:02.431Z"
      },
      {
        "duration": 4,
        "start_time": "2022-05-05T18:56:17.164Z"
      },
      {
        "duration": 4,
        "start_time": "2022-05-05T18:56:19.674Z"
      },
      {
        "duration": 6,
        "start_time": "2022-05-05T18:56:27.814Z"
      },
      {
        "duration": 6,
        "start_time": "2022-05-05T18:56:55.563Z"
      },
      {
        "duration": 6,
        "start_time": "2022-05-05T18:58:21.462Z"
      },
      {
        "duration": 7,
        "start_time": "2022-05-05T18:59:01.986Z"
      },
      {
        "duration": 5,
        "start_time": "2022-05-05T18:59:32.000Z"
      },
      {
        "duration": 6,
        "start_time": "2022-05-05T18:59:37.787Z"
      },
      {
        "duration": 7,
        "start_time": "2022-05-05T19:00:31.951Z"
      },
      {
        "duration": 11,
        "start_time": "2022-05-05T19:01:29.398Z"
      },
      {
        "duration": 6,
        "start_time": "2022-05-05T19:03:56.538Z"
      },
      {
        "duration": 5,
        "start_time": "2022-05-05T19:05:33.916Z"
      },
      {
        "duration": 6,
        "start_time": "2022-05-05T19:13:27.398Z"
      },
      {
        "duration": 623,
        "start_time": "2022-05-05T19:17:12.530Z"
      },
      {
        "duration": 1328,
        "start_time": "2022-05-05T19:17:24.919Z"
      },
      {
        "duration": 8,
        "start_time": "2022-05-05T19:18:22.430Z"
      },
      {
        "duration": 12,
        "start_time": "2022-05-05T19:18:26.430Z"
      },
      {
        "duration": 14,
        "start_time": "2022-05-05T19:18:36.943Z"
      },
      {
        "duration": 12,
        "start_time": "2022-05-05T19:18:39.518Z"
      },
      {
        "duration": 22,
        "start_time": "2022-05-05T19:18:47.367Z"
      },
      {
        "duration": 821,
        "start_time": "2022-05-05T19:23:09.648Z"
      },
      {
        "duration": 7,
        "start_time": "2022-05-05T19:24:39.521Z"
      },
      {
        "duration": 1088,
        "start_time": "2022-05-05T19:24:57.821Z"
      },
      {
        "duration": 640,
        "start_time": "2022-05-05T19:27:40.729Z"
      },
      {
        "duration": 658,
        "start_time": "2022-05-05T19:33:06.931Z"
      },
      {
        "duration": 616,
        "start_time": "2022-05-05T19:33:26.212Z"
      },
      {
        "duration": 644,
        "start_time": "2022-05-05T19:33:43.299Z"
      },
      {
        "duration": 866,
        "start_time": "2022-05-05T19:34:16.150Z"
      },
      {
        "duration": 1320,
        "start_time": "2022-05-05T19:34:34.649Z"
      },
      {
        "duration": 13,
        "start_time": "2022-05-05T19:38:35.466Z"
      },
      {
        "duration": 6,
        "start_time": "2022-05-05T19:41:44.264Z"
      },
      {
        "duration": 26,
        "start_time": "2022-05-05T19:43:51.550Z"
      },
      {
        "duration": 643,
        "start_time": "2022-05-05T19:44:20.990Z"
      },
      {
        "duration": 9,
        "start_time": "2022-05-05T19:44:29.415Z"
      },
      {
        "duration": 13,
        "start_time": "2022-05-05T19:44:45.365Z"
      },
      {
        "duration": 9,
        "start_time": "2022-05-05T19:45:43.215Z"
      },
      {
        "duration": 13,
        "start_time": "2022-05-05T19:46:13.305Z"
      },
      {
        "duration": 12,
        "start_time": "2022-05-05T19:46:21.666Z"
      },
      {
        "duration": 9,
        "start_time": "2022-05-05T19:46:46.295Z"
      },
      {
        "duration": 9,
        "start_time": "2022-05-05T19:46:56.397Z"
      },
      {
        "duration": 7,
        "start_time": "2022-05-05T19:55:14.155Z"
      },
      {
        "duration": 8,
        "start_time": "2022-05-05T19:55:26.727Z"
      },
      {
        "duration": 9,
        "start_time": "2022-05-05T19:55:39.594Z"
      },
      {
        "duration": 10,
        "start_time": "2022-05-05T19:55:45.093Z"
      },
      {
        "duration": 8,
        "start_time": "2022-05-05T19:55:59.857Z"
      },
      {
        "duration": 8,
        "start_time": "2022-05-05T19:56:06.569Z"
      },
      {
        "duration": 7,
        "start_time": "2022-05-05T19:56:17.989Z"
      },
      {
        "duration": 8,
        "start_time": "2022-05-05T19:56:24.481Z"
      },
      {
        "duration": 8,
        "start_time": "2022-05-05T19:56:39.274Z"
      },
      {
        "duration": 7,
        "start_time": "2022-05-05T19:56:45.695Z"
      },
      {
        "duration": 8,
        "start_time": "2022-05-05T19:56:50.494Z"
      },
      {
        "duration": 7,
        "start_time": "2022-05-05T19:56:54.057Z"
      },
      {
        "duration": 8,
        "start_time": "2022-05-05T19:56:57.244Z"
      },
      {
        "duration": 8,
        "start_time": "2022-05-05T19:57:08.981Z"
      },
      {
        "duration": 8,
        "start_time": "2022-05-05T19:57:14.132Z"
      },
      {
        "duration": 7,
        "start_time": "2022-05-05T19:57:20.496Z"
      },
      {
        "duration": 8,
        "start_time": "2022-05-05T19:57:44.232Z"
      },
      {
        "duration": 8,
        "start_time": "2022-05-05T19:57:49.981Z"
      },
      {
        "duration": 8,
        "start_time": "2022-05-05T19:57:59.419Z"
      },
      {
        "duration": 8,
        "start_time": "2022-05-05T19:58:12.163Z"
      },
      {
        "duration": 15,
        "start_time": "2022-05-05T19:59:36.158Z"
      },
      {
        "duration": 7,
        "start_time": "2022-05-05T19:59:59.854Z"
      },
      {
        "duration": 5,
        "start_time": "2022-05-05T20:00:48.295Z"
      },
      {
        "duration": 6,
        "start_time": "2022-05-05T20:02:36.746Z"
      },
      {
        "duration": 5,
        "start_time": "2022-05-05T20:02:46.459Z"
      },
      {
        "duration": 5,
        "start_time": "2022-05-05T20:03:06.096Z"
      },
      {
        "duration": 5,
        "start_time": "2022-05-05T20:03:44.185Z"
      },
      {
        "duration": 85,
        "start_time": "2022-05-05T20:04:02.721Z"
      },
      {
        "duration": 5,
        "start_time": "2022-05-05T20:05:29.568Z"
      },
      {
        "duration": 5,
        "start_time": "2022-05-05T20:05:33.556Z"
      },
      {
        "duration": 1486,
        "start_time": "2022-05-05T20:15:15.214Z"
      },
      {
        "duration": 1092,
        "start_time": "2022-05-05T20:15:44.794Z"
      },
      {
        "duration": 1141,
        "start_time": "2022-05-05T20:16:00.589Z"
      },
      {
        "duration": 48,
        "start_time": "2022-05-05T20:16:55.842Z"
      },
      {
        "duration": 639,
        "start_time": "2022-05-05T20:17:04.127Z"
      },
      {
        "duration": 252,
        "start_time": "2022-05-05T20:17:35.866Z"
      },
      {
        "duration": 312,
        "start_time": "2022-05-05T20:17:55.965Z"
      },
      {
        "duration": 335,
        "start_time": "2022-05-05T20:18:17.068Z"
      },
      {
        "duration": 340,
        "start_time": "2022-05-05T20:18:49.097Z"
      },
      {
        "duration": 82,
        "start_time": "2022-05-06T07:13:15.484Z"
      },
      {
        "duration": 497,
        "start_time": "2022-05-06T07:13:24.600Z"
      },
      {
        "duration": 20,
        "start_time": "2022-05-06T07:13:25.099Z"
      },
      {
        "duration": 29,
        "start_time": "2022-05-06T07:13:25.121Z"
      },
      {
        "duration": 35,
        "start_time": "2022-05-06T07:13:25.152Z"
      },
      {
        "duration": 26,
        "start_time": "2022-05-06T07:13:25.190Z"
      },
      {
        "duration": 20,
        "start_time": "2022-05-06T07:13:25.218Z"
      },
      {
        "duration": 20,
        "start_time": "2022-05-06T07:13:25.240Z"
      },
      {
        "duration": 22,
        "start_time": "2022-05-06T07:13:25.262Z"
      },
      {
        "duration": 22,
        "start_time": "2022-05-06T07:13:25.287Z"
      },
      {
        "duration": 28,
        "start_time": "2022-05-06T07:13:25.311Z"
      },
      {
        "duration": 106,
        "start_time": "2022-05-06T07:13:25.341Z"
      },
      {
        "duration": 0,
        "start_time": "2022-05-06T07:13:25.449Z"
      },
      {
        "duration": 35,
        "start_time": "2022-05-06T07:13:50.129Z"
      },
      {
        "duration": 2243,
        "start_time": "2022-05-06T07:14:26.728Z"
      },
      {
        "duration": 1117,
        "start_time": "2022-05-06T07:15:36.345Z"
      },
      {
        "duration": 170,
        "start_time": "2022-05-06T07:19:17.213Z"
      },
      {
        "duration": 11,
        "start_time": "2022-05-06T07:20:09.672Z"
      },
      {
        "duration": 12,
        "start_time": "2022-05-06T07:20:17.008Z"
      },
      {
        "duration": 1142,
        "start_time": "2022-05-06T07:26:19.420Z"
      },
      {
        "duration": 144,
        "start_time": "2022-05-06T07:26:56.187Z"
      },
      {
        "duration": 168,
        "start_time": "2022-05-06T07:27:26.252Z"
      },
      {
        "duration": 393,
        "start_time": "2022-05-06T07:28:47.305Z"
      },
      {
        "duration": 395,
        "start_time": "2022-05-06T07:29:35.088Z"
      },
      {
        "duration": 1400,
        "start_time": "2022-05-06T07:30:09.010Z"
      },
      {
        "duration": 635,
        "start_time": "2022-05-06T07:30:33.282Z"
      },
      {
        "duration": 533,
        "start_time": "2022-05-06T07:30:55.977Z"
      },
      {
        "duration": 378,
        "start_time": "2022-05-06T07:31:17.489Z"
      },
      {
        "duration": 1393,
        "start_time": "2022-05-06T07:32:06.813Z"
      },
      {
        "duration": 1391,
        "start_time": "2022-05-06T07:33:38.420Z"
      },
      {
        "duration": 12,
        "start_time": "2022-05-06T07:40:38.263Z"
      },
      {
        "duration": 16,
        "start_time": "2022-05-06T07:40:49.074Z"
      },
      {
        "duration": 21,
        "start_time": "2022-05-06T07:42:28.535Z"
      },
      {
        "duration": 5,
        "start_time": "2022-05-06T07:43:03.424Z"
      },
      {
        "duration": 12,
        "start_time": "2022-05-06T07:43:14.690Z"
      },
      {
        "duration": 27,
        "start_time": "2022-05-06T07:43:53.356Z"
      },
      {
        "duration": 32,
        "start_time": "2022-05-06T07:44:31.385Z"
      },
      {
        "duration": 534,
        "start_time": "2022-05-06T07:59:57.268Z"
      },
      {
        "duration": 15,
        "start_time": "2022-05-06T07:59:57.805Z"
      },
      {
        "duration": 10,
        "start_time": "2022-05-06T07:59:57.822Z"
      },
      {
        "duration": 38,
        "start_time": "2022-05-06T07:59:57.833Z"
      },
      {
        "duration": 23,
        "start_time": "2022-05-06T07:59:57.874Z"
      },
      {
        "duration": 22,
        "start_time": "2022-05-06T07:59:57.899Z"
      },
      {
        "duration": 9,
        "start_time": "2022-05-06T07:59:57.922Z"
      },
      {
        "duration": 30,
        "start_time": "2022-05-06T07:59:57.933Z"
      },
      {
        "duration": 14,
        "start_time": "2022-05-06T07:59:57.965Z"
      },
      {
        "duration": 13,
        "start_time": "2022-05-06T07:59:57.980Z"
      },
      {
        "duration": 39,
        "start_time": "2022-05-06T07:59:57.994Z"
      },
      {
        "duration": 728,
        "start_time": "2022-05-06T08:04:53.115Z"
      },
      {
        "duration": 488,
        "start_time": "2022-05-06T08:11:07.923Z"
      },
      {
        "duration": 19,
        "start_time": "2022-05-06T08:11:08.414Z"
      },
      {
        "duration": 27,
        "start_time": "2022-05-06T08:11:08.435Z"
      },
      {
        "duration": 20,
        "start_time": "2022-05-06T08:11:08.465Z"
      },
      {
        "duration": 14,
        "start_time": "2022-05-06T08:11:08.487Z"
      },
      {
        "duration": 15,
        "start_time": "2022-05-06T08:11:08.503Z"
      },
      {
        "duration": 37,
        "start_time": "2022-05-06T08:11:08.520Z"
      },
      {
        "duration": 12,
        "start_time": "2022-05-06T08:11:08.561Z"
      },
      {
        "duration": 6,
        "start_time": "2022-05-06T08:11:08.574Z"
      },
      {
        "duration": 7,
        "start_time": "2022-05-06T08:11:08.583Z"
      },
      {
        "duration": 2,
        "start_time": "2022-05-06T08:11:08.591Z"
      },
      {
        "duration": 113,
        "start_time": "2022-05-06T08:11:08.595Z"
      },
      {
        "duration": 15,
        "start_time": "2022-05-06T08:11:30.473Z"
      },
      {
        "duration": 5,
        "start_time": "2022-05-06T08:13:20.134Z"
      },
      {
        "duration": 24,
        "start_time": "2022-05-06T08:13:26.484Z"
      },
      {
        "duration": 12,
        "start_time": "2022-05-06T08:14:16.808Z"
      },
      {
        "duration": 9,
        "start_time": "2022-05-06T08:15:16.318Z"
      },
      {
        "duration": 10,
        "start_time": "2022-05-06T08:15:18.205Z"
      },
      {
        "duration": 9,
        "start_time": "2022-05-06T08:17:15.967Z"
      },
      {
        "duration": 24,
        "start_time": "2022-05-06T08:17:20.408Z"
      },
      {
        "duration": 521,
        "start_time": "2022-05-06T08:24:47.120Z"
      },
      {
        "duration": 21,
        "start_time": "2022-05-06T08:24:47.644Z"
      },
      {
        "duration": 16,
        "start_time": "2022-05-06T08:24:47.667Z"
      },
      {
        "duration": 14,
        "start_time": "2022-05-06T08:24:47.685Z"
      },
      {
        "duration": 15,
        "start_time": "2022-05-06T08:24:47.703Z"
      },
      {
        "duration": 41,
        "start_time": "2022-05-06T08:24:47.720Z"
      },
      {
        "duration": 12,
        "start_time": "2022-05-06T08:24:47.763Z"
      },
      {
        "duration": 9,
        "start_time": "2022-05-06T08:24:47.777Z"
      },
      {
        "duration": 8,
        "start_time": "2022-05-06T08:24:47.788Z"
      },
      {
        "duration": 9,
        "start_time": "2022-05-06T08:24:47.798Z"
      },
      {
        "duration": 62,
        "start_time": "2022-05-06T08:24:47.809Z"
      },
      {
        "duration": 11,
        "start_time": "2022-05-06T08:24:47.874Z"
      },
      {
        "duration": 17,
        "start_time": "2022-05-06T08:24:47.886Z"
      },
      {
        "duration": 18,
        "start_time": "2022-05-06T08:27:18.717Z"
      },
      {
        "duration": 3,
        "start_time": "2022-05-06T08:30:23.955Z"
      },
      {
        "duration": 17,
        "start_time": "2022-05-06T08:38:28.391Z"
      },
      {
        "duration": 17,
        "start_time": "2022-05-06T08:38:43.815Z"
      },
      {
        "duration": 506,
        "start_time": "2022-05-06T08:38:52.659Z"
      },
      {
        "duration": 16,
        "start_time": "2022-05-06T08:38:53.167Z"
      },
      {
        "duration": 21,
        "start_time": "2022-05-06T08:38:53.185Z"
      },
      {
        "duration": 34,
        "start_time": "2022-05-06T08:38:53.208Z"
      },
      {
        "duration": 22,
        "start_time": "2022-05-06T08:38:53.244Z"
      },
      {
        "duration": 17,
        "start_time": "2022-05-06T08:38:53.268Z"
      },
      {
        "duration": 6,
        "start_time": "2022-05-06T08:38:53.287Z"
      },
      {
        "duration": 20,
        "start_time": "2022-05-06T08:38:53.294Z"
      },
      {
        "duration": 8,
        "start_time": "2022-05-06T08:38:53.316Z"
      },
      {
        "duration": 21,
        "start_time": "2022-05-06T08:38:53.325Z"
      },
      {
        "duration": 21,
        "start_time": "2022-05-06T08:38:53.348Z"
      },
      {
        "duration": 68,
        "start_time": "2022-05-06T08:43:57.274Z"
      },
      {
        "duration": 17,
        "start_time": "2022-05-06T08:55:03.687Z"
      },
      {
        "duration": 8,
        "start_time": "2022-05-06T08:55:27.577Z"
      },
      {
        "duration": 7,
        "start_time": "2022-05-06T08:55:41.563Z"
      },
      {
        "duration": 7,
        "start_time": "2022-05-06T08:56:29.528Z"
      },
      {
        "duration": 9,
        "start_time": "2022-05-06T08:56:53.137Z"
      },
      {
        "duration": 7,
        "start_time": "2022-05-06T08:57:04.490Z"
      },
      {
        "duration": 6,
        "start_time": "2022-05-06T09:16:43.853Z"
      },
      {
        "duration": 16,
        "start_time": "2022-05-06T09:49:14.737Z"
      },
      {
        "duration": 17,
        "start_time": "2022-05-06T09:49:52.884Z"
      },
      {
        "duration": 7,
        "start_time": "2022-05-06T09:58:09.064Z"
      },
      {
        "duration": 8,
        "start_time": "2022-05-06T10:04:28.807Z"
      },
      {
        "duration": 6,
        "start_time": "2022-05-06T10:04:36.195Z"
      },
      {
        "duration": 14,
        "start_time": "2022-05-06T10:04:56.410Z"
      },
      {
        "duration": 12,
        "start_time": "2022-05-06T10:05:04.735Z"
      },
      {
        "duration": 604,
        "start_time": "2022-05-06T10:05:48.856Z"
      },
      {
        "duration": 17,
        "start_time": "2022-05-06T10:05:49.462Z"
      },
      {
        "duration": 14,
        "start_time": "2022-05-06T10:05:49.481Z"
      },
      {
        "duration": 26,
        "start_time": "2022-05-06T10:05:49.497Z"
      },
      {
        "duration": 19,
        "start_time": "2022-05-06T10:05:49.525Z"
      },
      {
        "duration": 24,
        "start_time": "2022-05-06T10:05:49.546Z"
      },
      {
        "duration": 9,
        "start_time": "2022-05-06T10:05:49.572Z"
      },
      {
        "duration": 22,
        "start_time": "2022-05-06T10:05:49.583Z"
      },
      {
        "duration": 21,
        "start_time": "2022-05-06T10:05:49.607Z"
      },
      {
        "duration": 38,
        "start_time": "2022-05-06T10:05:49.630Z"
      },
      {
        "duration": 35,
        "start_time": "2022-05-06T10:05:49.670Z"
      },
      {
        "duration": 26,
        "start_time": "2022-05-06T10:05:49.708Z"
      },
      {
        "duration": 7,
        "start_time": "2022-05-06T10:05:49.737Z"
      },
      {
        "duration": 4,
        "start_time": "2022-05-06T13:38:49.996Z"
      },
      {
        "duration": 14,
        "start_time": "2022-05-06T13:39:06.631Z"
      },
      {
        "duration": 73,
        "start_time": "2022-05-06T13:45:19.857Z"
      },
      {
        "duration": 24,
        "start_time": "2022-05-06T13:45:58.020Z"
      },
      {
        "duration": 9,
        "start_time": "2022-05-06T13:46:37.182Z"
      },
      {
        "duration": 12,
        "start_time": "2022-05-06T13:46:48.773Z"
      },
      {
        "duration": 17,
        "start_time": "2022-05-06T13:49:55.484Z"
      },
      {
        "duration": 20,
        "start_time": "2022-05-06T13:52:02.955Z"
      },
      {
        "duration": 4,
        "start_time": "2022-05-06T13:58:33.671Z"
      },
      {
        "duration": 5,
        "start_time": "2022-05-06T13:58:41.583Z"
      },
      {
        "duration": 11,
        "start_time": "2022-05-06T13:59:52.246Z"
      },
      {
        "duration": 9,
        "start_time": "2022-05-06T14:02:06.444Z"
      },
      {
        "duration": 25,
        "start_time": "2022-05-06T14:02:12.922Z"
      },
      {
        "duration": 7,
        "start_time": "2022-05-06T14:02:50.641Z"
      },
      {
        "duration": 25,
        "start_time": "2022-05-06T14:03:05.043Z"
      },
      {
        "duration": 37,
        "start_time": "2022-05-06T14:05:43.366Z"
      },
      {
        "duration": 39,
        "start_time": "2022-05-06T14:06:08.039Z"
      },
      {
        "duration": 126,
        "start_time": "2022-05-06T14:06:15.133Z"
      },
      {
        "duration": 4,
        "start_time": "2022-05-06T14:50:28.196Z"
      },
      {
        "duration": 23,
        "start_time": "2022-05-06T14:50:36.433Z"
      },
      {
        "duration": 21,
        "start_time": "2022-05-06T14:51:23.386Z"
      },
      {
        "duration": 283,
        "start_time": "2022-05-06T14:51:46.041Z"
      },
      {
        "duration": 23,
        "start_time": "2022-05-06T14:52:09.229Z"
      },
      {
        "duration": 21,
        "start_time": "2022-05-06T14:52:21.404Z"
      },
      {
        "duration": 21,
        "start_time": "2022-05-06T14:52:41.302Z"
      },
      {
        "duration": 21,
        "start_time": "2022-05-06T14:52:55.276Z"
      },
      {
        "duration": 23,
        "start_time": "2022-05-06T14:54:02.410Z"
      },
      {
        "duration": 5,
        "start_time": "2022-05-06T14:55:02.244Z"
      },
      {
        "duration": 5,
        "start_time": "2022-05-06T14:55:10.007Z"
      },
      {
        "duration": 23,
        "start_time": "2022-05-06T14:55:20.217Z"
      },
      {
        "duration": 23,
        "start_time": "2022-05-06T14:55:28.911Z"
      },
      {
        "duration": 16,
        "start_time": "2022-05-06T14:55:36.778Z"
      },
      {
        "duration": 528,
        "start_time": "2022-05-06T14:55:48.827Z"
      },
      {
        "duration": 17,
        "start_time": "2022-05-06T14:55:49.358Z"
      },
      {
        "duration": 12,
        "start_time": "2022-05-06T14:55:49.376Z"
      },
      {
        "duration": 13,
        "start_time": "2022-05-06T14:55:49.389Z"
      },
      {
        "duration": 15,
        "start_time": "2022-05-06T14:55:49.405Z"
      },
      {
        "duration": 15,
        "start_time": "2022-05-06T14:55:49.456Z"
      },
      {
        "duration": 29,
        "start_time": "2022-05-06T14:55:49.473Z"
      },
      {
        "duration": 29,
        "start_time": "2022-05-06T14:55:49.504Z"
      },
      {
        "duration": 12,
        "start_time": "2022-05-06T14:55:49.535Z"
      },
      {
        "duration": 9,
        "start_time": "2022-05-06T14:55:49.549Z"
      },
      {
        "duration": 23,
        "start_time": "2022-05-06T14:55:49.560Z"
      },
      {
        "duration": 16,
        "start_time": "2022-05-06T14:55:49.584Z"
      },
      {
        "duration": 6,
        "start_time": "2022-05-06T14:55:49.602Z"
      },
      {
        "duration": 49,
        "start_time": "2022-05-06T14:55:49.611Z"
      },
      {
        "duration": 3,
        "start_time": "2022-05-06T14:56:37.543Z"
      },
      {
        "duration": 22,
        "start_time": "2022-05-06T14:56:42.421Z"
      },
      {
        "duration": 1244,
        "start_time": "2022-05-06T14:57:25.897Z"
      },
      {
        "duration": 466,
        "start_time": "2022-05-06T14:57:53.798Z"
      },
      {
        "duration": 16,
        "start_time": "2022-05-06T14:57:54.267Z"
      },
      {
        "duration": 10,
        "start_time": "2022-05-06T14:57:54.285Z"
      },
      {
        "duration": 13,
        "start_time": "2022-05-06T14:57:54.298Z"
      },
      {
        "duration": 48,
        "start_time": "2022-05-06T14:57:54.313Z"
      },
      {
        "duration": 15,
        "start_time": "2022-05-06T14:57:54.362Z"
      },
      {
        "duration": 9,
        "start_time": "2022-05-06T14:57:54.379Z"
      },
      {
        "duration": 8,
        "start_time": "2022-05-06T14:57:54.389Z"
      },
      {
        "duration": 8,
        "start_time": "2022-05-06T14:57:54.399Z"
      },
      {
        "duration": 49,
        "start_time": "2022-05-06T14:57:54.410Z"
      },
      {
        "duration": 17,
        "start_time": "2022-05-06T14:57:54.461Z"
      },
      {
        "duration": 17,
        "start_time": "2022-05-06T14:57:54.480Z"
      },
      {
        "duration": 5,
        "start_time": "2022-05-06T14:57:54.499Z"
      },
      {
        "duration": 56,
        "start_time": "2022-05-06T14:57:54.506Z"
      },
      {
        "duration": 108,
        "start_time": "2022-05-06T14:57:54.564Z"
      },
      {
        "duration": 22,
        "start_time": "2022-05-06T15:02:24.187Z"
      },
      {
        "duration": 22,
        "start_time": "2022-05-06T15:02:48.298Z"
      },
      {
        "duration": 4,
        "start_time": "2022-05-06T15:05:28.413Z"
      },
      {
        "duration": 24,
        "start_time": "2022-05-06T15:05:34.369Z"
      },
      {
        "duration": 23,
        "start_time": "2022-05-06T15:06:19.276Z"
      },
      {
        "duration": 27,
        "start_time": "2022-05-06T15:07:55.991Z"
      },
      {
        "duration": 25,
        "start_time": "2022-05-06T15:08:44.766Z"
      },
      {
        "duration": 31,
        "start_time": "2022-05-06T15:08:52.791Z"
      },
      {
        "duration": 52,
        "start_time": "2022-05-10T14:20:44.818Z"
      },
      {
        "duration": 590,
        "start_time": "2022-05-10T14:20:53.120Z"
      },
      {
        "duration": 23,
        "start_time": "2022-05-10T14:20:53.713Z"
      },
      {
        "duration": 12,
        "start_time": "2022-05-10T14:20:53.739Z"
      },
      {
        "duration": 14,
        "start_time": "2022-05-10T14:20:53.753Z"
      },
      {
        "duration": 50,
        "start_time": "2022-05-10T14:20:53.769Z"
      },
      {
        "duration": 19,
        "start_time": "2022-05-10T14:20:53.822Z"
      },
      {
        "duration": 33,
        "start_time": "2022-05-10T14:20:53.842Z"
      },
      {
        "duration": 22,
        "start_time": "2022-05-10T14:20:53.877Z"
      },
      {
        "duration": 13,
        "start_time": "2022-05-10T14:20:53.901Z"
      },
      {
        "duration": 19,
        "start_time": "2022-05-10T14:20:53.916Z"
      },
      {
        "duration": 9,
        "start_time": "2022-05-10T14:20:53.936Z"
      },
      {
        "duration": 16,
        "start_time": "2022-05-10T14:20:53.947Z"
      },
      {
        "duration": 23,
        "start_time": "2022-05-10T14:20:53.992Z"
      },
      {
        "duration": 33,
        "start_time": "2022-05-10T14:20:54.019Z"
      },
      {
        "duration": 25,
        "start_time": "2022-05-10T14:20:54.054Z"
      },
      {
        "duration": 24,
        "start_time": "2022-05-10T14:20:54.081Z"
      },
      {
        "duration": 40,
        "start_time": "2022-05-10T14:20:54.106Z"
      },
      {
        "duration": 107,
        "start_time": "2022-05-10T14:22:53.634Z"
      },
      {
        "duration": 13,
        "start_time": "2022-05-10T14:23:00.558Z"
      },
      {
        "duration": 9,
        "start_time": "2022-05-10T14:23:24.957Z"
      },
      {
        "duration": 591,
        "start_time": "2022-05-10T14:25:04.990Z"
      },
      {
        "duration": 25,
        "start_time": "2022-05-10T14:25:05.584Z"
      },
      {
        "duration": 29,
        "start_time": "2022-05-10T14:25:05.612Z"
      },
      {
        "duration": 15,
        "start_time": "2022-05-10T14:25:05.643Z"
      },
      {
        "duration": 34,
        "start_time": "2022-05-10T14:25:05.661Z"
      },
      {
        "duration": 20,
        "start_time": "2022-05-10T14:25:05.698Z"
      },
      {
        "duration": 15,
        "start_time": "2022-05-10T14:25:05.723Z"
      },
      {
        "duration": 3,
        "start_time": "2022-05-10T14:25:05.740Z"
      },
      {
        "duration": 4,
        "start_time": "2022-05-10T14:25:05.746Z"
      },
      {
        "duration": 108,
        "start_time": "2022-05-10T14:25:05.752Z"
      },
      {
        "duration": 0,
        "start_time": "2022-05-10T14:25:05.861Z"
      },
      {
        "duration": 0,
        "start_time": "2022-05-10T14:25:05.863Z"
      },
      {
        "duration": 0,
        "start_time": "2022-05-10T14:25:05.864Z"
      },
      {
        "duration": 0,
        "start_time": "2022-05-10T14:25:05.865Z"
      },
      {
        "duration": 0,
        "start_time": "2022-05-10T14:25:05.866Z"
      },
      {
        "duration": 0,
        "start_time": "2022-05-10T14:25:05.867Z"
      },
      {
        "duration": 0,
        "start_time": "2022-05-10T14:25:05.868Z"
      },
      {
        "duration": 645,
        "start_time": "2022-05-10T14:28:18.669Z"
      },
      {
        "duration": 29,
        "start_time": "2022-05-10T14:28:19.318Z"
      },
      {
        "duration": 22,
        "start_time": "2022-05-10T14:28:19.349Z"
      },
      {
        "duration": 55,
        "start_time": "2022-05-10T14:28:19.373Z"
      },
      {
        "duration": 22,
        "start_time": "2022-05-10T14:28:19.432Z"
      },
      {
        "duration": 17,
        "start_time": "2022-05-10T14:28:19.456Z"
      },
      {
        "duration": 20,
        "start_time": "2022-05-10T14:28:19.475Z"
      },
      {
        "duration": 3,
        "start_time": "2022-05-10T14:28:19.498Z"
      },
      {
        "duration": 36,
        "start_time": "2022-05-10T14:28:19.503Z"
      },
      {
        "duration": 5,
        "start_time": "2022-05-10T14:28:19.541Z"
      },
      {
        "duration": 6,
        "start_time": "2022-05-10T14:28:19.548Z"
      },
      {
        "duration": 22,
        "start_time": "2022-05-10T14:28:19.555Z"
      },
      {
        "duration": 26,
        "start_time": "2022-05-10T14:28:19.578Z"
      },
      {
        "duration": 16,
        "start_time": "2022-05-10T14:28:19.608Z"
      },
      {
        "duration": 39,
        "start_time": "2022-05-10T14:28:19.626Z"
      },
      {
        "duration": 22,
        "start_time": "2022-05-10T14:28:19.667Z"
      },
      {
        "duration": 50,
        "start_time": "2022-05-10T14:28:19.691Z"
      },
      {
        "duration": 21,
        "start_time": "2022-05-10T14:36:36.409Z"
      },
      {
        "duration": 24,
        "start_time": "2022-05-10T14:37:14.485Z"
      },
      {
        "duration": 18,
        "start_time": "2022-05-10T14:37:48.972Z"
      },
      {
        "duration": 22,
        "start_time": "2022-05-10T14:38:35.011Z"
      },
      {
        "duration": 140,
        "start_time": "2022-05-10T14:38:59.722Z"
      },
      {
        "duration": 60,
        "start_time": "2022-05-10T14:39:20.307Z"
      },
      {
        "duration": 19,
        "start_time": "2022-05-10T14:39:24.820Z"
      },
      {
        "duration": 574,
        "start_time": "2022-05-10T14:40:10.082Z"
      },
      {
        "duration": 23,
        "start_time": "2022-05-10T14:40:10.659Z"
      },
      {
        "duration": 16,
        "start_time": "2022-05-10T14:40:10.684Z"
      },
      {
        "duration": 30,
        "start_time": "2022-05-10T14:40:10.702Z"
      },
      {
        "duration": 21,
        "start_time": "2022-05-10T14:40:10.734Z"
      },
      {
        "duration": 19,
        "start_time": "2022-05-10T14:40:10.757Z"
      },
      {
        "duration": 29,
        "start_time": "2022-05-10T14:40:10.778Z"
      },
      {
        "duration": 9,
        "start_time": "2022-05-10T14:40:10.810Z"
      },
      {
        "duration": 5,
        "start_time": "2022-05-10T14:40:10.821Z"
      },
      {
        "duration": 4,
        "start_time": "2022-05-10T14:40:10.828Z"
      },
      {
        "duration": 4,
        "start_time": "2022-05-10T14:40:10.834Z"
      },
      {
        "duration": 18,
        "start_time": "2022-05-10T14:40:10.840Z"
      },
      {
        "duration": 45,
        "start_time": "2022-05-10T14:40:10.860Z"
      },
      {
        "duration": 6,
        "start_time": "2022-05-10T14:40:10.908Z"
      },
      {
        "duration": 16,
        "start_time": "2022-05-10T14:40:10.916Z"
      },
      {
        "duration": 18,
        "start_time": "2022-05-10T14:40:10.934Z"
      },
      {
        "duration": 67,
        "start_time": "2022-05-10T14:40:10.954Z"
      },
      {
        "duration": 17,
        "start_time": "2022-05-10T14:41:07.568Z"
      },
      {
        "duration": 35,
        "start_time": "2022-05-10T14:41:15.594Z"
      },
      {
        "duration": 542,
        "start_time": "2022-05-10T14:41:25.616Z"
      },
      {
        "duration": 17,
        "start_time": "2022-05-10T14:41:26.160Z"
      },
      {
        "duration": 19,
        "start_time": "2022-05-10T14:41:26.179Z"
      },
      {
        "duration": 31,
        "start_time": "2022-05-10T14:41:26.202Z"
      },
      {
        "duration": 17,
        "start_time": "2022-05-10T14:41:26.235Z"
      },
      {
        "duration": 15,
        "start_time": "2022-05-10T14:41:26.253Z"
      },
      {
        "duration": 27,
        "start_time": "2022-05-10T14:41:26.270Z"
      },
      {
        "duration": 17,
        "start_time": "2022-05-10T14:41:26.299Z"
      },
      {
        "duration": 7,
        "start_time": "2022-05-10T14:41:26.318Z"
      },
      {
        "duration": 3,
        "start_time": "2022-05-10T14:41:26.328Z"
      },
      {
        "duration": 9,
        "start_time": "2022-05-10T14:41:26.333Z"
      },
      {
        "duration": 24,
        "start_time": "2022-05-10T14:41:26.344Z"
      },
      {
        "duration": 24,
        "start_time": "2022-05-10T14:41:26.370Z"
      },
      {
        "duration": 9,
        "start_time": "2022-05-10T14:41:26.396Z"
      },
      {
        "duration": 24,
        "start_time": "2022-05-10T14:41:26.407Z"
      },
      {
        "duration": 18,
        "start_time": "2022-05-10T14:41:26.433Z"
      },
      {
        "duration": 61,
        "start_time": "2022-05-10T14:41:26.453Z"
      },
      {
        "duration": 20,
        "start_time": "2022-05-10T14:42:12.329Z"
      },
      {
        "duration": 512,
        "start_time": "2022-05-10T14:42:45.209Z"
      },
      {
        "duration": 17,
        "start_time": "2022-05-10T14:42:45.723Z"
      },
      {
        "duration": 11,
        "start_time": "2022-05-10T14:42:45.742Z"
      },
      {
        "duration": 41,
        "start_time": "2022-05-10T14:42:45.756Z"
      },
      {
        "duration": 19,
        "start_time": "2022-05-10T14:42:45.800Z"
      },
      {
        "duration": 25,
        "start_time": "2022-05-10T14:42:45.821Z"
      },
      {
        "duration": 16,
        "start_time": "2022-05-10T14:42:45.848Z"
      },
      {
        "duration": 2,
        "start_time": "2022-05-10T14:42:45.866Z"
      },
      {
        "duration": 23,
        "start_time": "2022-05-10T14:42:45.870Z"
      },
      {
        "duration": 2,
        "start_time": "2022-05-10T14:42:45.897Z"
      },
      {
        "duration": 17,
        "start_time": "2022-05-10T14:42:45.901Z"
      },
      {
        "duration": 26,
        "start_time": "2022-05-10T14:42:45.921Z"
      },
      {
        "duration": 23,
        "start_time": "2022-05-10T14:42:45.949Z"
      },
      {
        "duration": 24,
        "start_time": "2022-05-10T14:42:45.974Z"
      },
      {
        "duration": 26,
        "start_time": "2022-05-10T14:42:46.000Z"
      },
      {
        "duration": 22,
        "start_time": "2022-05-10T14:42:46.028Z"
      },
      {
        "duration": 67,
        "start_time": "2022-05-10T14:42:46.052Z"
      },
      {
        "duration": 2,
        "start_time": "2022-05-10T14:49:24.344Z"
      },
      {
        "duration": 79,
        "start_time": "2022-05-10T15:03:02.502Z"
      },
      {
        "duration": 9,
        "start_time": "2022-05-10T15:03:55.155Z"
      },
      {
        "duration": 8,
        "start_time": "2022-05-10T15:04:07.143Z"
      },
      {
        "duration": 7,
        "start_time": "2022-05-10T15:04:42.943Z"
      },
      {
        "duration": 147,
        "start_time": "2022-05-10T15:04:51.644Z"
      },
      {
        "duration": 15,
        "start_time": "2022-05-10T15:05:02.380Z"
      },
      {
        "duration": 8,
        "start_time": "2022-05-10T15:11:32.924Z"
      },
      {
        "duration": 7,
        "start_time": "2022-05-10T15:12:21.305Z"
      },
      {
        "duration": 11,
        "start_time": "2022-05-10T15:12:40.354Z"
      },
      {
        "duration": 9,
        "start_time": "2022-05-10T15:13:20.057Z"
      },
      {
        "duration": 705,
        "start_time": "2022-05-10T15:13:28.872Z"
      },
      {
        "duration": 16,
        "start_time": "2022-05-10T15:13:29.579Z"
      },
      {
        "duration": 20,
        "start_time": "2022-05-10T15:13:29.598Z"
      },
      {
        "duration": 13,
        "start_time": "2022-05-10T15:13:29.620Z"
      },
      {
        "duration": 15,
        "start_time": "2022-05-10T15:13:29.634Z"
      },
      {
        "duration": 14,
        "start_time": "2022-05-10T15:13:29.650Z"
      },
      {
        "duration": 40,
        "start_time": "2022-05-10T15:13:29.666Z"
      },
      {
        "duration": 7,
        "start_time": "2022-05-10T15:13:29.707Z"
      },
      {
        "duration": 4,
        "start_time": "2022-05-10T15:13:29.716Z"
      },
      {
        "duration": 3,
        "start_time": "2022-05-10T15:13:29.723Z"
      },
      {
        "duration": 4,
        "start_time": "2022-05-10T15:13:29.728Z"
      },
      {
        "duration": 31,
        "start_time": "2022-05-10T15:13:29.735Z"
      },
      {
        "duration": 45,
        "start_time": "2022-05-10T15:13:29.768Z"
      },
      {
        "duration": 7,
        "start_time": "2022-05-10T15:13:29.815Z"
      },
      {
        "duration": 16,
        "start_time": "2022-05-10T15:13:29.824Z"
      },
      {
        "duration": 51,
        "start_time": "2022-05-10T15:13:29.842Z"
      },
      {
        "duration": 31,
        "start_time": "2022-05-10T15:13:29.895Z"
      },
      {
        "duration": 15,
        "start_time": "2022-05-10T15:13:29.927Z"
      },
      {
        "duration": 9,
        "start_time": "2022-05-10T15:14:22.708Z"
      },
      {
        "duration": 15,
        "start_time": "2022-05-10T15:14:28.257Z"
      },
      {
        "duration": 9,
        "start_time": "2022-05-10T15:14:31.149Z"
      },
      {
        "duration": 467,
        "start_time": "2022-05-10T15:14:39.238Z"
      },
      {
        "duration": 18,
        "start_time": "2022-05-10T15:14:39.708Z"
      },
      {
        "duration": 13,
        "start_time": "2022-05-10T15:14:39.728Z"
      },
      {
        "duration": 13,
        "start_time": "2022-05-10T15:14:39.743Z"
      },
      {
        "duration": 37,
        "start_time": "2022-05-10T15:14:39.758Z"
      },
      {
        "duration": 36,
        "start_time": "2022-05-10T15:14:39.797Z"
      },
      {
        "duration": 10,
        "start_time": "2022-05-10T15:14:39.835Z"
      },
      {
        "duration": 3,
        "start_time": "2022-05-10T15:14:39.846Z"
      },
      {
        "duration": 6,
        "start_time": "2022-05-10T15:14:39.850Z"
      },
      {
        "duration": 3,
        "start_time": "2022-05-10T15:14:39.859Z"
      },
      {
        "duration": 10,
        "start_time": "2022-05-10T15:14:39.864Z"
      },
      {
        "duration": 23,
        "start_time": "2022-05-10T15:14:39.875Z"
      },
      {
        "duration": 35,
        "start_time": "2022-05-10T15:14:39.900Z"
      },
      {
        "duration": 6,
        "start_time": "2022-05-10T15:14:39.937Z"
      },
      {
        "duration": 18,
        "start_time": "2022-05-10T15:14:39.945Z"
      },
      {
        "duration": 29,
        "start_time": "2022-05-10T15:14:39.965Z"
      },
      {
        "duration": 28,
        "start_time": "2022-05-10T15:14:39.996Z"
      },
      {
        "duration": 28,
        "start_time": "2022-05-10T15:14:40.026Z"
      },
      {
        "duration": 10,
        "start_time": "2022-05-10T15:15:25.662Z"
      },
      {
        "duration": 603,
        "start_time": "2022-05-10T15:15:47.015Z"
      },
      {
        "duration": 18,
        "start_time": "2022-05-10T15:15:47.621Z"
      },
      {
        "duration": 11,
        "start_time": "2022-05-10T15:15:47.640Z"
      },
      {
        "duration": 12,
        "start_time": "2022-05-10T15:15:47.653Z"
      },
      {
        "duration": 22,
        "start_time": "2022-05-10T15:15:47.692Z"
      },
      {
        "duration": 20,
        "start_time": "2022-05-10T15:15:47.716Z"
      },
      {
        "duration": 15,
        "start_time": "2022-05-10T15:15:47.738Z"
      },
      {
        "duration": 3,
        "start_time": "2022-05-10T15:15:47.755Z"
      },
      {
        "duration": 33,
        "start_time": "2022-05-10T15:15:47.760Z"
      },
      {
        "duration": 17,
        "start_time": "2022-05-10T15:15:47.795Z"
      },
      {
        "duration": 3,
        "start_time": "2022-05-10T15:15:47.815Z"
      },
      {
        "duration": 28,
        "start_time": "2022-05-10T15:15:47.820Z"
      },
      {
        "duration": 16,
        "start_time": "2022-05-10T15:15:47.850Z"
      },
      {
        "duration": 5,
        "start_time": "2022-05-10T15:15:47.870Z"
      },
      {
        "duration": 32,
        "start_time": "2022-05-10T15:15:47.877Z"
      },
      {
        "duration": 18,
        "start_time": "2022-05-10T15:15:47.911Z"
      },
      {
        "duration": 23,
        "start_time": "2022-05-10T15:15:47.931Z"
      },
      {
        "duration": 5,
        "start_time": "2022-05-10T15:15:47.956Z"
      },
      {
        "duration": 9,
        "start_time": "2022-05-10T15:17:26.390Z"
      },
      {
        "duration": 21,
        "start_time": "2022-05-10T15:18:58.886Z"
      },
      {
        "duration": 9,
        "start_time": "2022-05-10T15:21:33.215Z"
      },
      {
        "duration": 29,
        "start_time": "2022-05-10T15:24:19.598Z"
      },
      {
        "duration": 28,
        "start_time": "2022-05-10T15:24:26.824Z"
      },
      {
        "duration": 14,
        "start_time": "2022-05-10T15:25:05.561Z"
      },
      {
        "duration": 7,
        "start_time": "2022-05-10T15:31:14.459Z"
      },
      {
        "duration": 28,
        "start_time": "2022-05-10T15:33:31.046Z"
      },
      {
        "duration": 21,
        "start_time": "2022-05-10T15:33:53.903Z"
      },
      {
        "duration": 10,
        "start_time": "2022-05-10T15:34:10.303Z"
      },
      {
        "duration": 7,
        "start_time": "2022-05-10T15:35:56.109Z"
      },
      {
        "duration": 6,
        "start_time": "2022-05-10T15:36:01.506Z"
      },
      {
        "duration": 140,
        "start_time": "2022-05-10T15:36:24.218Z"
      },
      {
        "duration": 9,
        "start_time": "2022-05-10T15:36:29.516Z"
      },
      {
        "duration": 510,
        "start_time": "2022-05-10T15:36:40.107Z"
      },
      {
        "duration": 16,
        "start_time": "2022-05-10T15:36:40.618Z"
      },
      {
        "duration": 13,
        "start_time": "2022-05-10T15:36:40.636Z"
      },
      {
        "duration": 15,
        "start_time": "2022-05-10T15:36:40.651Z"
      },
      {
        "duration": 44,
        "start_time": "2022-05-10T15:36:40.669Z"
      },
      {
        "duration": 21,
        "start_time": "2022-05-10T15:36:40.715Z"
      },
      {
        "duration": 31,
        "start_time": "2022-05-10T15:36:40.737Z"
      },
      {
        "duration": 8,
        "start_time": "2022-05-10T15:36:40.769Z"
      },
      {
        "duration": 9,
        "start_time": "2022-05-10T15:36:40.778Z"
      },
      {
        "duration": 21,
        "start_time": "2022-05-10T15:36:40.789Z"
      },
      {
        "duration": 9,
        "start_time": "2022-05-10T15:36:40.811Z"
      },
      {
        "duration": 25,
        "start_time": "2022-05-10T15:36:40.822Z"
      },
      {
        "duration": 21,
        "start_time": "2022-05-10T15:36:40.849Z"
      },
      {
        "duration": 7,
        "start_time": "2022-05-10T15:36:40.873Z"
      },
      {
        "duration": 37,
        "start_time": "2022-05-10T15:36:40.882Z"
      },
      {
        "duration": 14,
        "start_time": "2022-05-10T15:36:40.921Z"
      },
      {
        "duration": 10,
        "start_time": "2022-05-10T15:36:40.937Z"
      },
      {
        "duration": 13,
        "start_time": "2022-05-10T15:36:40.949Z"
      },
      {
        "duration": 10,
        "start_time": "2022-05-10T15:36:40.964Z"
      },
      {
        "duration": 39,
        "start_time": "2022-05-10T15:36:40.976Z"
      },
      {
        "duration": 14,
        "start_time": "2022-05-10T15:36:41.017Z"
      },
      {
        "duration": 2,
        "start_time": "2022-05-10T15:36:41.033Z"
      },
      {
        "duration": 8,
        "start_time": "2022-05-10T15:36:41.037Z"
      },
      {
        "duration": 17,
        "start_time": "2022-05-10T15:36:41.047Z"
      },
      {
        "duration": 9,
        "start_time": "2022-05-10T15:36:41.066Z"
      },
      {
        "duration": 18,
        "start_time": "2022-05-10T15:37:41.169Z"
      },
      {
        "duration": 7,
        "start_time": "2022-05-10T15:38:11.518Z"
      },
      {
        "duration": 437,
        "start_time": "2022-05-10T15:38:19.535Z"
      },
      {
        "duration": 15,
        "start_time": "2022-05-10T15:38:19.974Z"
      },
      {
        "duration": 16,
        "start_time": "2022-05-10T15:38:19.993Z"
      },
      {
        "duration": 20,
        "start_time": "2022-05-10T15:38:20.011Z"
      },
      {
        "duration": 14,
        "start_time": "2022-05-10T15:38:20.033Z"
      },
      {
        "duration": 20,
        "start_time": "2022-05-10T15:38:20.049Z"
      },
      {
        "duration": 32,
        "start_time": "2022-05-10T15:38:20.071Z"
      },
      {
        "duration": 3,
        "start_time": "2022-05-10T15:38:20.106Z"
      },
      {
        "duration": 8,
        "start_time": "2022-05-10T15:38:20.110Z"
      },
      {
        "duration": 6,
        "start_time": "2022-05-10T15:38:20.120Z"
      },
      {
        "duration": 6,
        "start_time": "2022-05-10T15:38:20.127Z"
      },
      {
        "duration": 24,
        "start_time": "2022-05-10T15:38:20.135Z"
      },
      {
        "duration": 14,
        "start_time": "2022-05-10T15:38:20.161Z"
      },
      {
        "duration": 8,
        "start_time": "2022-05-10T15:38:20.194Z"
      },
      {
        "duration": 29,
        "start_time": "2022-05-10T15:38:20.203Z"
      },
      {
        "duration": 14,
        "start_time": "2022-05-10T15:38:20.234Z"
      },
      {
        "duration": 8,
        "start_time": "2022-05-10T15:38:20.250Z"
      },
      {
        "duration": 35,
        "start_time": "2022-05-10T15:38:20.260Z"
      },
      {
        "duration": 10,
        "start_time": "2022-05-10T15:38:20.298Z"
      },
      {
        "duration": 10,
        "start_time": "2022-05-10T15:38:20.311Z"
      },
      {
        "duration": 17,
        "start_time": "2022-05-10T15:38:20.323Z"
      },
      {
        "duration": 10,
        "start_time": "2022-05-10T15:38:20.342Z"
      },
      {
        "duration": 11,
        "start_time": "2022-05-10T15:38:20.353Z"
      },
      {
        "duration": 17,
        "start_time": "2022-05-10T15:38:20.366Z"
      },
      {
        "duration": 23,
        "start_time": "2022-05-10T15:38:20.384Z"
      },
      {
        "duration": 17,
        "start_time": "2022-05-10T15:56:21.964Z"
      },
      {
        "duration": 82,
        "start_time": "2022-05-10T16:02:18.180Z"
      },
      {
        "duration": 20,
        "start_time": "2022-05-10T16:03:18.580Z"
      },
      {
        "duration": 466,
        "start_time": "2022-05-10T16:04:13.040Z"
      },
      {
        "duration": 22,
        "start_time": "2022-05-10T16:04:13.509Z"
      },
      {
        "duration": 15,
        "start_time": "2022-05-10T16:04:13.533Z"
      },
      {
        "duration": 18,
        "start_time": "2022-05-10T16:04:13.551Z"
      },
      {
        "duration": 22,
        "start_time": "2022-05-10T16:04:13.594Z"
      },
      {
        "duration": 23,
        "start_time": "2022-05-10T16:04:13.619Z"
      },
      {
        "duration": 17,
        "start_time": "2022-05-10T16:04:13.644Z"
      },
      {
        "duration": 3,
        "start_time": "2022-05-10T16:04:13.692Z"
      },
      {
        "duration": 12,
        "start_time": "2022-05-10T16:04:13.698Z"
      },
      {
        "duration": 10,
        "start_time": "2022-05-10T16:04:13.713Z"
      },
      {
        "duration": 7,
        "start_time": "2022-05-10T16:04:13.725Z"
      },
      {
        "duration": 26,
        "start_time": "2022-05-10T16:04:13.734Z"
      },
      {
        "duration": 39,
        "start_time": "2022-05-10T16:04:13.763Z"
      },
      {
        "duration": 7,
        "start_time": "2022-05-10T16:04:13.806Z"
      },
      {
        "duration": 32,
        "start_time": "2022-05-10T16:04:13.815Z"
      },
      {
        "duration": 15,
        "start_time": "2022-05-10T16:04:13.849Z"
      },
      {
        "duration": 28,
        "start_time": "2022-05-10T16:04:13.866Z"
      },
      {
        "duration": 20,
        "start_time": "2022-05-10T16:04:13.896Z"
      },
      {
        "duration": 25,
        "start_time": "2022-05-10T16:04:13.918Z"
      },
      {
        "duration": 12,
        "start_time": "2022-05-10T16:04:13.945Z"
      },
      {
        "duration": 16,
        "start_time": "2022-05-10T16:04:13.959Z"
      },
      {
        "duration": 17,
        "start_time": "2022-05-10T16:04:13.977Z"
      },
      {
        "duration": 27,
        "start_time": "2022-05-10T16:04:13.997Z"
      },
      {
        "duration": 19,
        "start_time": "2022-05-10T16:05:09.726Z"
      },
      {
        "duration": 513,
        "start_time": "2022-05-10T16:05:22.013Z"
      },
      {
        "duration": 17,
        "start_time": "2022-05-10T16:05:22.528Z"
      },
      {
        "duration": 10,
        "start_time": "2022-05-10T16:05:22.547Z"
      },
      {
        "duration": 35,
        "start_time": "2022-05-10T16:05:22.559Z"
      },
      {
        "duration": 24,
        "start_time": "2022-05-10T16:05:22.597Z"
      },
      {
        "duration": 15,
        "start_time": "2022-05-10T16:05:22.623Z"
      },
      {
        "duration": 10,
        "start_time": "2022-05-10T16:05:22.641Z"
      },
      {
        "duration": 3,
        "start_time": "2022-05-10T16:05:22.653Z"
      },
      {
        "duration": 36,
        "start_time": "2022-05-10T16:05:22.659Z"
      },
      {
        "duration": 12,
        "start_time": "2022-05-10T16:05:22.697Z"
      },
      {
        "duration": 10,
        "start_time": "2022-05-10T16:05:22.713Z"
      },
      {
        "duration": 27,
        "start_time": "2022-05-10T16:05:22.724Z"
      },
      {
        "duration": 14,
        "start_time": "2022-05-10T16:05:22.753Z"
      },
      {
        "duration": 24,
        "start_time": "2022-05-10T16:05:22.770Z"
      },
      {
        "duration": 30,
        "start_time": "2022-05-10T16:05:22.796Z"
      },
      {
        "duration": 16,
        "start_time": "2022-05-10T16:05:22.827Z"
      },
      {
        "duration": 10,
        "start_time": "2022-05-10T16:05:22.844Z"
      },
      {
        "duration": 40,
        "start_time": "2022-05-10T16:05:22.856Z"
      },
      {
        "duration": 9,
        "start_time": "2022-05-10T16:05:22.898Z"
      },
      {
        "duration": 11,
        "start_time": "2022-05-10T16:05:22.910Z"
      },
      {
        "duration": 7,
        "start_time": "2022-05-10T16:05:22.923Z"
      },
      {
        "duration": 25,
        "start_time": "2022-05-10T16:05:22.933Z"
      },
      {
        "duration": 35,
        "start_time": "2022-05-10T16:05:22.960Z"
      },
      {
        "duration": 30,
        "start_time": "2022-05-10T16:05:51.651Z"
      },
      {
        "duration": 34,
        "start_time": "2022-05-10T16:06:12.151Z"
      },
      {
        "duration": 27,
        "start_time": "2022-05-10T16:06:41.077Z"
      },
      {
        "duration": 573,
        "start_time": "2022-05-10T17:09:35.617Z"
      },
      {
        "duration": 621,
        "start_time": "2022-05-10T17:09:51.307Z"
      },
      {
        "duration": 465,
        "start_time": "2022-05-10T17:11:03.167Z"
      },
      {
        "duration": 9,
        "start_time": "2022-05-10T17:14:20.410Z"
      },
      {
        "duration": 30,
        "start_time": "2022-05-10T17:14:41.793Z"
      },
      {
        "duration": 494,
        "start_time": "2022-05-10T17:15:48.223Z"
      },
      {
        "duration": 27,
        "start_time": "2022-05-10T17:17:55.556Z"
      },
      {
        "duration": 18,
        "start_time": "2022-05-10T17:19:21.310Z"
      },
      {
        "duration": 4,
        "start_time": "2022-05-10T17:25:37.234Z"
      },
      {
        "duration": 3,
        "start_time": "2022-05-10T17:26:05.906Z"
      },
      {
        "duration": 9,
        "start_time": "2022-05-10T17:26:18.798Z"
      },
      {
        "duration": 18,
        "start_time": "2022-05-10T17:26:22.947Z"
      },
      {
        "duration": 12,
        "start_time": "2022-05-10T17:36:39.283Z"
      },
      {
        "duration": 9,
        "start_time": "2022-05-10T17:38:55.652Z"
      },
      {
        "duration": 4,
        "start_time": "2022-05-10T17:39:45.116Z"
      },
      {
        "duration": 28,
        "start_time": "2022-05-10T17:39:58.082Z"
      },
      {
        "duration": 25,
        "start_time": "2022-05-10T17:47:08.537Z"
      },
      {
        "duration": 32,
        "start_time": "2022-05-10T17:48:00.270Z"
      },
      {
        "duration": 27,
        "start_time": "2022-05-10T17:48:33.369Z"
      },
      {
        "duration": 520,
        "start_time": "2022-05-10T17:48:42.168Z"
      },
      {
        "duration": 19,
        "start_time": "2022-05-10T17:48:42.690Z"
      },
      {
        "duration": 12,
        "start_time": "2022-05-10T17:48:42.711Z"
      },
      {
        "duration": 13,
        "start_time": "2022-05-10T17:48:42.725Z"
      },
      {
        "duration": 15,
        "start_time": "2022-05-10T17:48:42.741Z"
      },
      {
        "duration": 37,
        "start_time": "2022-05-10T17:48:42.758Z"
      },
      {
        "duration": 17,
        "start_time": "2022-05-10T17:48:42.797Z"
      },
      {
        "duration": 8,
        "start_time": "2022-05-10T17:48:42.816Z"
      },
      {
        "duration": 10,
        "start_time": "2022-05-10T17:48:42.826Z"
      },
      {
        "duration": 12,
        "start_time": "2022-05-10T17:48:42.838Z"
      },
      {
        "duration": 8,
        "start_time": "2022-05-10T17:48:42.852Z"
      },
      {
        "duration": 26,
        "start_time": "2022-05-10T17:48:42.861Z"
      },
      {
        "duration": 20,
        "start_time": "2022-05-10T17:48:42.892Z"
      },
      {
        "duration": 8,
        "start_time": "2022-05-10T17:48:42.916Z"
      },
      {
        "duration": 17,
        "start_time": "2022-05-10T17:48:42.926Z"
      },
      {
        "duration": 17,
        "start_time": "2022-05-10T17:48:42.945Z"
      },
      {
        "duration": 33,
        "start_time": "2022-05-10T17:48:42.964Z"
      },
      {
        "duration": 16,
        "start_time": "2022-05-10T17:48:42.999Z"
      },
      {
        "duration": 15,
        "start_time": "2022-05-10T17:48:43.017Z"
      },
      {
        "duration": 4,
        "start_time": "2022-05-10T17:48:43.033Z"
      },
      {
        "duration": 8,
        "start_time": "2022-05-10T17:48:43.038Z"
      },
      {
        "duration": 19,
        "start_time": "2022-05-10T17:48:43.047Z"
      },
      {
        "duration": 24,
        "start_time": "2022-05-10T17:48:43.068Z"
      },
      {
        "duration": 25,
        "start_time": "2022-05-10T17:48:43.095Z"
      },
      {
        "duration": 82,
        "start_time": "2022-05-10T17:48:43.122Z"
      },
      {
        "duration": 0,
        "start_time": "2022-05-10T17:48:43.206Z"
      },
      {
        "duration": 146,
        "start_time": "2022-05-10T17:50:25.475Z"
      },
      {
        "duration": 106,
        "start_time": "2022-05-10T17:51:14.616Z"
      },
      {
        "duration": 135,
        "start_time": "2022-05-10T17:52:20.962Z"
      },
      {
        "duration": 142,
        "start_time": "2022-05-10T17:53:01.875Z"
      },
      {
        "duration": 13,
        "start_time": "2022-05-10T17:57:56.847Z"
      },
      {
        "duration": 17,
        "start_time": "2022-05-10T18:01:39.899Z"
      },
      {
        "duration": 25,
        "start_time": "2022-05-10T18:03:58.881Z"
      },
      {
        "duration": 27,
        "start_time": "2022-05-10T18:07:42.602Z"
      },
      {
        "duration": 2194,
        "start_time": "2022-05-10T18:09:49.436Z"
      },
      {
        "duration": 7,
        "start_time": "2022-05-10T18:10:23.045Z"
      },
      {
        "duration": 541,
        "start_time": "2022-05-10T18:10:30.081Z"
      },
      {
        "duration": 15,
        "start_time": "2022-05-10T18:10:30.624Z"
      },
      {
        "duration": 16,
        "start_time": "2022-05-10T18:10:30.641Z"
      },
      {
        "duration": 18,
        "start_time": "2022-05-10T18:10:30.659Z"
      },
      {
        "duration": 25,
        "start_time": "2022-05-10T18:10:30.679Z"
      },
      {
        "duration": 33,
        "start_time": "2022-05-10T18:10:30.710Z"
      },
      {
        "duration": 8,
        "start_time": "2022-05-10T18:10:30.745Z"
      },
      {
        "duration": 6,
        "start_time": "2022-05-10T18:10:30.755Z"
      },
      {
        "duration": 28,
        "start_time": "2022-05-10T18:10:30.763Z"
      },
      {
        "duration": 36,
        "start_time": "2022-05-10T18:10:30.801Z"
      },
      {
        "duration": 10,
        "start_time": "2022-05-10T18:10:30.839Z"
      },
      {
        "duration": 47,
        "start_time": "2022-05-10T18:10:30.851Z"
      },
      {
        "duration": 19,
        "start_time": "2022-05-10T18:10:30.899Z"
      },
      {
        "duration": 12,
        "start_time": "2022-05-10T18:10:30.920Z"
      },
      {
        "duration": 26,
        "start_time": "2022-05-10T18:10:30.934Z"
      },
      {
        "duration": 17,
        "start_time": "2022-05-10T18:10:30.962Z"
      },
      {
        "duration": 21,
        "start_time": "2022-05-10T18:10:30.980Z"
      },
      {
        "duration": 26,
        "start_time": "2022-05-10T18:10:31.005Z"
      },
      {
        "duration": 14,
        "start_time": "2022-05-10T18:10:31.032Z"
      },
      {
        "duration": 17,
        "start_time": "2022-05-10T18:10:31.048Z"
      },
      {
        "duration": 12,
        "start_time": "2022-05-10T18:10:31.067Z"
      },
      {
        "duration": 33,
        "start_time": "2022-05-10T18:10:31.081Z"
      },
      {
        "duration": 31,
        "start_time": "2022-05-10T18:10:31.116Z"
      },
      {
        "duration": 8,
        "start_time": "2022-05-10T18:10:31.148Z"
      },
      {
        "duration": 22,
        "start_time": "2022-05-10T18:10:56.724Z"
      },
      {
        "duration": 6,
        "start_time": "2022-05-10T18:12:42.709Z"
      },
      {
        "duration": 18,
        "start_time": "2022-05-10T18:13:41.814Z"
      },
      {
        "duration": 24,
        "start_time": "2022-05-10T18:13:49.813Z"
      },
      {
        "duration": 459,
        "start_time": "2022-05-10T18:13:59.458Z"
      },
      {
        "duration": 15,
        "start_time": "2022-05-10T18:13:59.919Z"
      },
      {
        "duration": 10,
        "start_time": "2022-05-10T18:13:59.936Z"
      },
      {
        "duration": 11,
        "start_time": "2022-05-10T18:13:59.948Z"
      },
      {
        "duration": 50,
        "start_time": "2022-05-10T18:13:59.961Z"
      },
      {
        "duration": 19,
        "start_time": "2022-05-10T18:14:00.013Z"
      },
      {
        "duration": 13,
        "start_time": "2022-05-10T18:14:00.034Z"
      },
      {
        "duration": 3,
        "start_time": "2022-05-10T18:14:00.048Z"
      },
      {
        "duration": 6,
        "start_time": "2022-05-10T18:14:00.052Z"
      },
      {
        "duration": 10,
        "start_time": "2022-05-10T18:14:00.060Z"
      },
      {
        "duration": 8,
        "start_time": "2022-05-10T18:14:00.072Z"
      },
      {
        "duration": 20,
        "start_time": "2022-05-10T18:14:00.101Z"
      },
      {
        "duration": 16,
        "start_time": "2022-05-10T18:14:00.123Z"
      },
      {
        "duration": 6,
        "start_time": "2022-05-10T18:14:00.141Z"
      },
      {
        "duration": 26,
        "start_time": "2022-05-10T18:14:00.149Z"
      },
      {
        "duration": 34,
        "start_time": "2022-05-10T18:14:00.177Z"
      },
      {
        "duration": 8,
        "start_time": "2022-05-10T18:14:00.213Z"
      },
      {
        "duration": 14,
        "start_time": "2022-05-10T18:14:00.222Z"
      },
      {
        "duration": 11,
        "start_time": "2022-05-10T18:14:00.237Z"
      },
      {
        "duration": 9,
        "start_time": "2022-05-10T18:14:00.250Z"
      },
      {
        "duration": 8,
        "start_time": "2022-05-10T18:14:00.261Z"
      },
      {
        "duration": 30,
        "start_time": "2022-05-10T18:14:00.270Z"
      },
      {
        "duration": 27,
        "start_time": "2022-05-10T18:14:00.302Z"
      },
      {
        "duration": 21,
        "start_time": "2022-05-10T18:14:00.331Z"
      },
      {
        "duration": 15,
        "start_time": "2022-05-10T18:15:10.113Z"
      },
      {
        "duration": 26,
        "start_time": "2022-05-10T18:15:27.741Z"
      },
      {
        "duration": 3,
        "start_time": "2022-05-10T18:17:15.006Z"
      },
      {
        "duration": 128,
        "start_time": "2022-05-10T18:20:20.172Z"
      },
      {
        "duration": 65,
        "start_time": "2022-05-10T18:20:27.365Z"
      },
      {
        "duration": 4,
        "start_time": "2022-05-10T18:20:44.168Z"
      },
      {
        "duration": 4,
        "start_time": "2022-05-10T18:20:47.831Z"
      },
      {
        "duration": 9,
        "start_time": "2022-05-10T18:20:54.892Z"
      },
      {
        "duration": 9,
        "start_time": "2022-05-10T18:25:20.857Z"
      },
      {
        "duration": 9,
        "start_time": "2022-05-10T18:25:30.543Z"
      },
      {
        "duration": 16,
        "start_time": "2022-05-10T18:25:37.232Z"
      },
      {
        "duration": 14,
        "start_time": "2022-05-10T18:31:19.536Z"
      },
      {
        "duration": 10,
        "start_time": "2022-05-10T18:34:02.233Z"
      },
      {
        "duration": 4,
        "start_time": "2022-05-10T18:35:00.848Z"
      },
      {
        "duration": 4,
        "start_time": "2022-05-10T18:35:04.422Z"
      },
      {
        "duration": 728,
        "start_time": "2022-05-10T18:35:15.726Z"
      },
      {
        "duration": 16,
        "start_time": "2022-05-10T18:35:16.456Z"
      },
      {
        "duration": 22,
        "start_time": "2022-05-10T18:35:16.473Z"
      },
      {
        "duration": 17,
        "start_time": "2022-05-10T18:35:16.497Z"
      },
      {
        "duration": 18,
        "start_time": "2022-05-10T18:35:16.516Z"
      },
      {
        "duration": 13,
        "start_time": "2022-05-10T18:35:16.535Z"
      },
      {
        "duration": 15,
        "start_time": "2022-05-10T18:35:16.549Z"
      },
      {
        "duration": 7,
        "start_time": "2022-05-10T18:35:16.592Z"
      },
      {
        "duration": 31,
        "start_time": "2022-05-10T18:35:16.600Z"
      },
      {
        "duration": 13,
        "start_time": "2022-05-10T18:35:16.632Z"
      },
      {
        "duration": 8,
        "start_time": "2022-05-10T18:35:16.646Z"
      },
      {
        "duration": 23,
        "start_time": "2022-05-10T18:35:16.656Z"
      },
      {
        "duration": 18,
        "start_time": "2022-05-10T18:35:16.680Z"
      },
      {
        "duration": 10,
        "start_time": "2022-05-10T18:35:16.701Z"
      },
      {
        "duration": 25,
        "start_time": "2022-05-10T18:35:16.713Z"
      },
      {
        "duration": 14,
        "start_time": "2022-05-10T18:35:16.740Z"
      },
      {
        "duration": 11,
        "start_time": "2022-05-10T18:35:16.756Z"
      },
      {
        "duration": 31,
        "start_time": "2022-05-10T18:35:16.769Z"
      },
      {
        "duration": 8,
        "start_time": "2022-05-10T18:35:16.803Z"
      },
      {
        "duration": 15,
        "start_time": "2022-05-10T18:35:16.813Z"
      },
      {
        "duration": 11,
        "start_time": "2022-05-10T18:35:16.830Z"
      },
      {
        "duration": 20,
        "start_time": "2022-05-10T18:35:16.843Z"
      },
      {
        "duration": 25,
        "start_time": "2022-05-10T18:35:16.866Z"
      },
      {
        "duration": 26,
        "start_time": "2022-05-10T18:35:16.895Z"
      },
      {
        "duration": 7,
        "start_time": "2022-05-10T18:35:31.699Z"
      },
      {
        "duration": 34,
        "start_time": "2022-05-10T18:36:05.173Z"
      },
      {
        "duration": 662,
        "start_time": "2022-05-10T18:36:38.347Z"
      },
      {
        "duration": 16,
        "start_time": "2022-05-10T18:36:39.011Z"
      },
      {
        "duration": 11,
        "start_time": "2022-05-10T18:36:39.029Z"
      },
      {
        "duration": 11,
        "start_time": "2022-05-10T18:36:39.043Z"
      },
      {
        "duration": 49,
        "start_time": "2022-05-10T18:36:39.056Z"
      },
      {
        "duration": 15,
        "start_time": "2022-05-10T18:36:39.106Z"
      },
      {
        "duration": 10,
        "start_time": "2022-05-10T18:36:39.123Z"
      },
      {
        "duration": 2,
        "start_time": "2022-05-10T18:36:39.135Z"
      },
      {
        "duration": 5,
        "start_time": "2022-05-10T18:36:39.139Z"
      },
      {
        "duration": 6,
        "start_time": "2022-05-10T18:36:39.148Z"
      },
      {
        "duration": 14,
        "start_time": "2022-05-10T18:36:39.155Z"
      },
      {
        "duration": 33,
        "start_time": "2022-05-10T18:36:39.171Z"
      },
      {
        "duration": 21,
        "start_time": "2022-05-10T18:36:39.213Z"
      },
      {
        "duration": 6,
        "start_time": "2022-05-10T18:36:39.237Z"
      },
      {
        "duration": 23,
        "start_time": "2022-05-10T18:36:39.244Z"
      },
      {
        "duration": 30,
        "start_time": "2022-05-10T18:36:39.269Z"
      },
      {
        "duration": 14,
        "start_time": "2022-05-10T18:36:39.301Z"
      },
      {
        "duration": 16,
        "start_time": "2022-05-10T18:36:39.317Z"
      },
      {
        "duration": 38,
        "start_time": "2022-05-10T18:36:39.335Z"
      },
      {
        "duration": 66,
        "start_time": "2022-05-10T18:36:39.374Z"
      },
      {
        "duration": 3,
        "start_time": "2022-05-10T18:36:39.441Z"
      },
      {
        "duration": 34,
        "start_time": "2022-05-10T18:36:39.445Z"
      },
      {
        "duration": 66,
        "start_time": "2022-05-10T18:36:39.480Z"
      },
      {
        "duration": 63,
        "start_time": "2022-05-10T18:36:39.547Z"
      },
      {
        "duration": 23,
        "start_time": "2022-05-10T18:36:39.612Z"
      },
      {
        "duration": 25,
        "start_time": "2022-05-10T18:38:40.621Z"
      },
      {
        "duration": 108,
        "start_time": "2022-05-10T18:39:32.369Z"
      },
      {
        "duration": 32,
        "start_time": "2022-05-10T18:43:02.190Z"
      },
      {
        "duration": 39,
        "start_time": "2022-05-10T18:44:02.230Z"
      },
      {
        "duration": 28,
        "start_time": "2022-05-10T18:45:36.070Z"
      },
      {
        "duration": 29,
        "start_time": "2022-05-10T18:46:00.479Z"
      },
      {
        "duration": 620,
        "start_time": "2022-05-10T18:46:31.808Z"
      },
      {
        "duration": 16,
        "start_time": "2022-05-10T18:46:32.431Z"
      },
      {
        "duration": 10,
        "start_time": "2022-05-10T18:46:32.449Z"
      },
      {
        "duration": 11,
        "start_time": "2022-05-10T18:46:32.460Z"
      },
      {
        "duration": 35,
        "start_time": "2022-05-10T18:46:32.473Z"
      },
      {
        "duration": 17,
        "start_time": "2022-05-10T18:46:32.509Z"
      },
      {
        "duration": 14,
        "start_time": "2022-05-10T18:46:32.528Z"
      },
      {
        "duration": 2,
        "start_time": "2022-05-10T18:46:32.543Z"
      },
      {
        "duration": 8,
        "start_time": "2022-05-10T18:46:32.547Z"
      },
      {
        "duration": 37,
        "start_time": "2022-05-10T18:46:32.556Z"
      },
      {
        "duration": 9,
        "start_time": "2022-05-10T18:46:32.595Z"
      },
      {
        "duration": 25,
        "start_time": "2022-05-10T18:46:32.606Z"
      },
      {
        "duration": 17,
        "start_time": "2022-05-10T18:46:32.633Z"
      },
      {
        "duration": 5,
        "start_time": "2022-05-10T18:46:32.653Z"
      },
      {
        "duration": 40,
        "start_time": "2022-05-10T18:46:32.660Z"
      },
      {
        "duration": 16,
        "start_time": "2022-05-10T18:46:32.703Z"
      },
      {
        "duration": 8,
        "start_time": "2022-05-10T18:46:32.721Z"
      },
      {
        "duration": 15,
        "start_time": "2022-05-10T18:46:32.731Z"
      },
      {
        "duration": 8,
        "start_time": "2022-05-10T18:46:32.748Z"
      },
      {
        "duration": 57,
        "start_time": "2022-05-10T18:46:32.758Z"
      },
      {
        "duration": 3,
        "start_time": "2022-05-10T18:46:32.816Z"
      },
      {
        "duration": 6,
        "start_time": "2022-05-10T18:46:32.821Z"
      },
      {
        "duration": 11,
        "start_time": "2022-05-10T18:46:32.829Z"
      },
      {
        "duration": 27,
        "start_time": "2022-05-10T18:46:32.842Z"
      },
      {
        "duration": 46,
        "start_time": "2022-05-10T18:46:32.871Z"
      },
      {
        "duration": 3,
        "start_time": "2022-05-10T18:54:04.568Z"
      },
      {
        "duration": 78,
        "start_time": "2022-05-10T18:54:30.171Z"
      },
      {
        "duration": 16,
        "start_time": "2022-05-10T19:00:36.368Z"
      },
      {
        "duration": 36,
        "start_time": "2022-05-10T19:02:37.433Z"
      },
      {
        "duration": 504,
        "start_time": "2022-05-10T19:02:53.907Z"
      },
      {
        "duration": 15,
        "start_time": "2022-05-10T19:02:54.413Z"
      },
      {
        "duration": 10,
        "start_time": "2022-05-10T19:02:54.430Z"
      },
      {
        "duration": 12,
        "start_time": "2022-05-10T19:02:54.441Z"
      },
      {
        "duration": 46,
        "start_time": "2022-05-10T19:02:54.456Z"
      },
      {
        "duration": 15,
        "start_time": "2022-05-10T19:02:54.504Z"
      },
      {
        "duration": 10,
        "start_time": "2022-05-10T19:02:54.520Z"
      },
      {
        "duration": 3,
        "start_time": "2022-05-10T19:02:54.531Z"
      },
      {
        "duration": 4,
        "start_time": "2022-05-10T19:02:54.535Z"
      },
      {
        "duration": 5,
        "start_time": "2022-05-10T19:02:54.541Z"
      },
      {
        "duration": 7,
        "start_time": "2022-05-10T19:02:54.547Z"
      },
      {
        "duration": 29,
        "start_time": "2022-05-10T19:02:54.555Z"
      },
      {
        "duration": 18,
        "start_time": "2022-05-10T19:02:54.592Z"
      },
      {
        "duration": 5,
        "start_time": "2022-05-10T19:02:54.614Z"
      },
      {
        "duration": 17,
        "start_time": "2022-05-10T19:02:54.621Z"
      },
      {
        "duration": 14,
        "start_time": "2022-05-10T19:02:54.639Z"
      },
      {
        "duration": 39,
        "start_time": "2022-05-10T19:02:54.654Z"
      },
      {
        "duration": 16,
        "start_time": "2022-05-10T19:02:54.701Z"
      },
      {
        "duration": 8,
        "start_time": "2022-05-10T19:02:54.719Z"
      },
      {
        "duration": 42,
        "start_time": "2022-05-10T19:02:54.729Z"
      },
      {
        "duration": 67,
        "start_time": "2022-05-10T19:02:54.794Z"
      },
      {
        "duration": 0,
        "start_time": "2022-05-10T19:02:54.863Z"
      },
      {
        "duration": 0,
        "start_time": "2022-05-10T19:02:54.865Z"
      },
      {
        "duration": 0,
        "start_time": "2022-05-10T19:02:54.865Z"
      },
      {
        "duration": 0,
        "start_time": "2022-05-10T19:02:54.867Z"
      },
      {
        "duration": 0,
        "start_time": "2022-05-10T19:02:54.868Z"
      },
      {
        "duration": 37,
        "start_time": "2022-05-10T19:03:07.873Z"
      },
      {
        "duration": 8,
        "start_time": "2022-05-10T19:03:25.211Z"
      },
      {
        "duration": 25,
        "start_time": "2022-05-10T19:03:34.923Z"
      },
      {
        "duration": 16,
        "start_time": "2022-05-10T19:03:49.317Z"
      },
      {
        "duration": 7,
        "start_time": "2022-05-10T19:24:18.076Z"
      },
      {
        "duration": 25,
        "start_time": "2022-05-10T19:24:26.607Z"
      },
      {
        "duration": 15,
        "start_time": "2022-05-10T19:25:36.421Z"
      },
      {
        "duration": 11,
        "start_time": "2022-05-10T19:47:25.183Z"
      },
      {
        "duration": 493,
        "start_time": "2022-05-10T19:47:36.967Z"
      },
      {
        "duration": 15,
        "start_time": "2022-05-10T19:47:37.462Z"
      },
      {
        "duration": 27,
        "start_time": "2022-05-10T19:47:37.479Z"
      },
      {
        "duration": 18,
        "start_time": "2022-05-10T19:47:37.509Z"
      },
      {
        "duration": 14,
        "start_time": "2022-05-10T19:47:37.530Z"
      },
      {
        "duration": 14,
        "start_time": "2022-05-10T19:47:37.546Z"
      },
      {
        "duration": 41,
        "start_time": "2022-05-10T19:47:37.561Z"
      },
      {
        "duration": 3,
        "start_time": "2022-05-10T19:47:37.605Z"
      },
      {
        "duration": 7,
        "start_time": "2022-05-10T19:47:37.609Z"
      },
      {
        "duration": 6,
        "start_time": "2022-05-10T19:47:37.618Z"
      },
      {
        "duration": 5,
        "start_time": "2022-05-10T19:47:37.626Z"
      },
      {
        "duration": 20,
        "start_time": "2022-05-10T19:47:37.633Z"
      },
      {
        "duration": 16,
        "start_time": "2022-05-10T19:47:37.655Z"
      },
      {
        "duration": 7,
        "start_time": "2022-05-10T19:47:37.695Z"
      },
      {
        "duration": 25,
        "start_time": "2022-05-10T19:47:37.704Z"
      },
      {
        "duration": 16,
        "start_time": "2022-05-10T19:47:37.731Z"
      },
      {
        "duration": 10,
        "start_time": "2022-05-10T19:47:37.749Z"
      },
      {
        "duration": 42,
        "start_time": "2022-05-10T19:47:37.761Z"
      },
      {
        "duration": 10,
        "start_time": "2022-05-10T19:47:37.805Z"
      },
      {
        "duration": 34,
        "start_time": "2022-05-10T19:47:37.816Z"
      },
      {
        "duration": 91,
        "start_time": "2022-05-10T19:47:37.852Z"
      },
      {
        "duration": 0,
        "start_time": "2022-05-10T19:47:37.945Z"
      },
      {
        "duration": 0,
        "start_time": "2022-05-10T19:47:37.946Z"
      },
      {
        "duration": 0,
        "start_time": "2022-05-10T19:47:37.947Z"
      },
      {
        "duration": 0,
        "start_time": "2022-05-10T19:47:37.948Z"
      },
      {
        "duration": 0,
        "start_time": "2022-05-10T19:47:37.949Z"
      },
      {
        "duration": 0,
        "start_time": "2022-05-10T19:47:37.950Z"
      },
      {
        "duration": 627,
        "start_time": "2022-05-11T07:07:53.545Z"
      },
      {
        "duration": 21,
        "start_time": "2022-05-11T07:07:54.175Z"
      },
      {
        "duration": 38,
        "start_time": "2022-05-11T07:07:54.198Z"
      },
      {
        "duration": 18,
        "start_time": "2022-05-11T07:07:54.241Z"
      },
      {
        "duration": 25,
        "start_time": "2022-05-11T07:07:54.261Z"
      },
      {
        "duration": 61,
        "start_time": "2022-05-11T07:07:54.289Z"
      },
      {
        "duration": 13,
        "start_time": "2022-05-11T07:07:54.353Z"
      },
      {
        "duration": 3,
        "start_time": "2022-05-11T07:07:54.368Z"
      },
      {
        "duration": 9,
        "start_time": "2022-05-11T07:07:54.373Z"
      },
      {
        "duration": 51,
        "start_time": "2022-05-11T07:07:54.385Z"
      },
      {
        "duration": 16,
        "start_time": "2022-05-11T07:07:54.439Z"
      },
      {
        "duration": 26,
        "start_time": "2022-05-11T07:07:54.457Z"
      },
      {
        "duration": 39,
        "start_time": "2022-05-11T07:07:54.485Z"
      },
      {
        "duration": 13,
        "start_time": "2022-05-11T07:07:54.530Z"
      },
      {
        "duration": 21,
        "start_time": "2022-05-11T07:07:54.840Z"
      },
      {
        "duration": 23,
        "start_time": "2022-05-11T07:07:54.865Z"
      },
      {
        "duration": 38,
        "start_time": "2022-05-11T07:07:54.890Z"
      },
      {
        "duration": 26,
        "start_time": "2022-05-11T07:07:54.931Z"
      },
      {
        "duration": 12,
        "start_time": "2022-05-11T07:07:54.960Z"
      },
      {
        "duration": 80,
        "start_time": "2022-05-11T07:07:54.974Z"
      },
      {
        "duration": 124,
        "start_time": "2022-05-11T07:07:55.056Z"
      },
      {
        "duration": 0,
        "start_time": "2022-05-11T07:07:55.182Z"
      },
      {
        "duration": 0,
        "start_time": "2022-05-11T07:07:55.184Z"
      },
      {
        "duration": 0,
        "start_time": "2022-05-11T07:07:55.185Z"
      },
      {
        "duration": 0,
        "start_time": "2022-05-11T07:07:55.187Z"
      },
      {
        "duration": 0,
        "start_time": "2022-05-11T07:07:55.188Z"
      },
      {
        "duration": 0,
        "start_time": "2022-05-11T07:07:55.190Z"
      },
      {
        "duration": 12,
        "start_time": "2022-05-11T07:13:36.364Z"
      },
      {
        "duration": 69,
        "start_time": "2022-05-11T07:14:01.501Z"
      },
      {
        "duration": 68,
        "start_time": "2022-05-11T07:16:15.074Z"
      },
      {
        "duration": 631,
        "start_time": "2022-05-11T07:17:05.340Z"
      },
      {
        "duration": 22,
        "start_time": "2022-05-11T07:17:05.974Z"
      },
      {
        "duration": 53,
        "start_time": "2022-05-11T07:17:05.999Z"
      },
      {
        "duration": 25,
        "start_time": "2022-05-11T07:17:06.054Z"
      },
      {
        "duration": 25,
        "start_time": "2022-05-11T07:17:06.082Z"
      },
      {
        "duration": 35,
        "start_time": "2022-05-11T07:17:06.110Z"
      },
      {
        "duration": 13,
        "start_time": "2022-05-11T07:17:06.147Z"
      },
      {
        "duration": 15,
        "start_time": "2022-05-11T07:17:06.162Z"
      },
      {
        "duration": 11,
        "start_time": "2022-05-11T07:17:06.181Z"
      },
      {
        "duration": 14,
        "start_time": "2022-05-11T07:17:06.195Z"
      },
      {
        "duration": 21,
        "start_time": "2022-05-11T07:17:06.211Z"
      },
      {
        "duration": 33,
        "start_time": "2022-05-11T07:17:06.236Z"
      },
      {
        "duration": 26,
        "start_time": "2022-05-11T07:17:06.271Z"
      },
      {
        "duration": 30,
        "start_time": "2022-05-11T07:17:06.301Z"
      },
      {
        "duration": 24,
        "start_time": "2022-05-11T07:17:06.335Z"
      },
      {
        "duration": 37,
        "start_time": "2022-05-11T07:17:06.361Z"
      },
      {
        "duration": 41,
        "start_time": "2022-05-11T07:17:06.400Z"
      },
      {
        "duration": 76,
        "start_time": "2022-05-11T07:17:06.443Z"
      },
      {
        "duration": 25,
        "start_time": "2022-05-11T07:17:06.521Z"
      },
      {
        "duration": 100,
        "start_time": "2022-05-11T07:17:06.548Z"
      },
      {
        "duration": 13,
        "start_time": "2022-05-11T07:17:06.650Z"
      },
      {
        "duration": 24,
        "start_time": "2022-05-11T07:17:06.665Z"
      },
      {
        "duration": 69,
        "start_time": "2022-05-11T07:17:06.691Z"
      },
      {
        "duration": 136,
        "start_time": "2022-05-11T07:17:06.762Z"
      },
      {
        "duration": 30,
        "start_time": "2022-05-11T07:17:26.744Z"
      },
      {
        "duration": 24,
        "start_time": "2022-05-11T07:17:30.174Z"
      },
      {
        "duration": 35,
        "start_time": "2022-05-11T07:20:14.592Z"
      },
      {
        "duration": 120,
        "start_time": "2022-05-11T07:31:19.430Z"
      },
      {
        "duration": 15,
        "start_time": "2022-05-11T07:41:13.800Z"
      },
      {
        "duration": 52,
        "start_time": "2022-05-11T07:41:29.612Z"
      },
      {
        "duration": 36,
        "start_time": "2022-05-11T07:41:39.434Z"
      },
      {
        "duration": 39,
        "start_time": "2022-05-11T07:41:56.259Z"
      },
      {
        "duration": 607,
        "start_time": "2022-05-11T07:42:38.767Z"
      },
      {
        "duration": 25,
        "start_time": "2022-05-11T07:42:39.377Z"
      },
      {
        "duration": 36,
        "start_time": "2022-05-11T07:42:39.405Z"
      },
      {
        "duration": 18,
        "start_time": "2022-05-11T07:42:39.444Z"
      },
      {
        "duration": 22,
        "start_time": "2022-05-11T07:42:39.464Z"
      },
      {
        "duration": 62,
        "start_time": "2022-05-11T07:42:39.488Z"
      },
      {
        "duration": 16,
        "start_time": "2022-05-11T07:42:39.553Z"
      },
      {
        "duration": 4,
        "start_time": "2022-05-11T07:42:39.571Z"
      },
      {
        "duration": 9,
        "start_time": "2022-05-11T07:42:39.577Z"
      },
      {
        "duration": 35,
        "start_time": "2022-05-11T07:42:39.590Z"
      },
      {
        "duration": 17,
        "start_time": "2022-05-11T07:42:39.629Z"
      },
      {
        "duration": 28,
        "start_time": "2022-05-11T07:42:39.649Z"
      },
      {
        "duration": 23,
        "start_time": "2022-05-11T07:42:39.680Z"
      },
      {
        "duration": 31,
        "start_time": "2022-05-11T07:42:39.706Z"
      },
      {
        "duration": 29,
        "start_time": "2022-05-11T07:42:39.740Z"
      },
      {
        "duration": 23,
        "start_time": "2022-05-11T07:42:39.771Z"
      },
      {
        "duration": 42,
        "start_time": "2022-05-11T07:42:39.796Z"
      },
      {
        "duration": 24,
        "start_time": "2022-05-11T07:42:39.845Z"
      },
      {
        "duration": 16,
        "start_time": "2022-05-11T07:42:39.871Z"
      },
      {
        "duration": 64,
        "start_time": "2022-05-11T07:42:39.890Z"
      },
      {
        "duration": 11,
        "start_time": "2022-05-11T07:42:39.956Z"
      },
      {
        "duration": 24,
        "start_time": "2022-05-11T07:42:39.970Z"
      },
      {
        "duration": 52678,
        "start_time": "2022-05-11T07:42:39.996Z"
      },
      {
        "duration": 110,
        "start_time": "2022-05-11T07:44:25.815Z"
      },
      {
        "duration": 29,
        "start_time": "2022-05-11T07:51:03.579Z"
      },
      {
        "duration": 38,
        "start_time": "2022-05-11T07:53:00.893Z"
      },
      {
        "duration": 29,
        "start_time": "2022-05-11T07:53:15.069Z"
      },
      {
        "duration": 29,
        "start_time": "2022-05-11T07:53:26.050Z"
      },
      {
        "duration": 32,
        "start_time": "2022-05-11T07:54:04.752Z"
      },
      {
        "duration": 25,
        "start_time": "2022-05-11T07:56:46.175Z"
      },
      {
        "duration": 22,
        "start_time": "2022-05-11T07:57:11.097Z"
      },
      {
        "duration": 26,
        "start_time": "2022-05-11T08:21:03.216Z"
      },
      {
        "duration": 669,
        "start_time": "2022-05-11T08:39:31.410Z"
      },
      {
        "duration": 22,
        "start_time": "2022-05-11T08:39:32.082Z"
      },
      {
        "duration": 37,
        "start_time": "2022-05-11T08:39:32.106Z"
      },
      {
        "duration": 20,
        "start_time": "2022-05-11T08:39:32.146Z"
      },
      {
        "duration": 24,
        "start_time": "2022-05-11T08:39:32.169Z"
      },
      {
        "duration": 30,
        "start_time": "2022-05-11T08:39:32.224Z"
      },
      {
        "duration": 15,
        "start_time": "2022-05-11T08:39:32.257Z"
      },
      {
        "duration": 24,
        "start_time": "2022-05-11T08:39:32.275Z"
      },
      {
        "duration": 54,
        "start_time": "2022-05-11T08:39:32.301Z"
      },
      {
        "duration": 47,
        "start_time": "2022-05-11T08:39:32.357Z"
      },
      {
        "duration": 72,
        "start_time": "2022-05-11T08:39:32.406Z"
      },
      {
        "duration": 62,
        "start_time": "2022-05-11T08:39:32.480Z"
      },
      {
        "duration": 27,
        "start_time": "2022-05-11T08:39:32.544Z"
      },
      {
        "duration": 7,
        "start_time": "2022-05-11T08:39:32.575Z"
      },
      {
        "duration": 49,
        "start_time": "2022-05-11T08:39:32.584Z"
      },
      {
        "duration": 29,
        "start_time": "2022-05-11T08:39:32.636Z"
      },
      {
        "duration": 12,
        "start_time": "2022-05-11T08:39:32.667Z"
      },
      {
        "duration": 49,
        "start_time": "2022-05-11T08:39:32.681Z"
      },
      {
        "duration": 19,
        "start_time": "2022-05-11T08:39:32.734Z"
      },
      {
        "duration": 37,
        "start_time": "2022-05-11T08:39:32.756Z"
      },
      {
        "duration": 12,
        "start_time": "2022-05-11T08:39:32.795Z"
      },
      {
        "duration": 179,
        "start_time": "2022-05-11T08:39:32.826Z"
      },
      {
        "duration": 0,
        "start_time": "2022-05-11T08:39:33.007Z"
      },
      {
        "duration": 8,
        "start_time": "2022-05-11T08:40:14.097Z"
      },
      {
        "duration": 8,
        "start_time": "2022-05-11T08:45:03.943Z"
      },
      {
        "duration": 200,
        "start_time": "2022-05-11T08:45:08.453Z"
      },
      {
        "duration": 216,
        "start_time": "2022-05-11T08:45:58.051Z"
      },
      {
        "duration": 114,
        "start_time": "2022-05-11T08:50:08.158Z"
      },
      {
        "duration": 17,
        "start_time": "2022-05-11T09:03:02.298Z"
      },
      {
        "duration": 18,
        "start_time": "2022-05-11T09:05:43.138Z"
      },
      {
        "duration": 5,
        "start_time": "2022-05-11T09:08:01.502Z"
      },
      {
        "duration": 33,
        "start_time": "2022-05-11T09:08:20.102Z"
      },
      {
        "duration": 15,
        "start_time": "2022-05-11T09:15:12.234Z"
      },
      {
        "duration": 10,
        "start_time": "2022-05-11T09:24:06.570Z"
      },
      {
        "duration": 13,
        "start_time": "2022-05-11T09:28:32.677Z"
      },
      {
        "duration": 17,
        "start_time": "2022-05-11T09:32:16.589Z"
      },
      {
        "duration": 15,
        "start_time": "2022-05-11T09:32:38.118Z"
      },
      {
        "duration": 38,
        "start_time": "2022-05-11T09:33:30.544Z"
      },
      {
        "duration": 34,
        "start_time": "2022-05-11T09:34:05.114Z"
      },
      {
        "duration": 29,
        "start_time": "2022-05-11T09:34:10.061Z"
      },
      {
        "duration": 29,
        "start_time": "2022-05-11T09:34:57.476Z"
      },
      {
        "duration": 69955,
        "start_time": "2022-05-11T09:40:37.187Z"
      },
      {
        "duration": 9,
        "start_time": "2022-05-11T09:41:59.244Z"
      },
      {
        "duration": 605,
        "start_time": "2022-05-11T09:43:18.169Z"
      },
      {
        "duration": 22,
        "start_time": "2022-05-11T09:43:18.777Z"
      },
      {
        "duration": 31,
        "start_time": "2022-05-11T09:43:18.801Z"
      },
      {
        "duration": 24,
        "start_time": "2022-05-11T09:43:18.835Z"
      },
      {
        "duration": 29,
        "start_time": "2022-05-11T09:43:18.861Z"
      },
      {
        "duration": 41,
        "start_time": "2022-05-11T09:43:18.892Z"
      },
      {
        "duration": 35,
        "start_time": "2022-05-11T09:43:18.935Z"
      },
      {
        "duration": 4,
        "start_time": "2022-05-11T09:43:18.972Z"
      },
      {
        "duration": 6,
        "start_time": "2022-05-11T09:43:18.978Z"
      },
      {
        "duration": 7,
        "start_time": "2022-05-11T09:43:18.987Z"
      },
      {
        "duration": 14,
        "start_time": "2022-05-11T09:43:18.996Z"
      },
      {
        "duration": 29,
        "start_time": "2022-05-11T09:43:19.012Z"
      },
      {
        "duration": 23,
        "start_time": "2022-05-11T09:43:19.043Z"
      },
      {
        "duration": 8,
        "start_time": "2022-05-11T09:43:19.068Z"
      },
      {
        "duration": 60,
        "start_time": "2022-05-11T09:43:19.078Z"
      },
      {
        "duration": 23,
        "start_time": "2022-05-11T09:43:19.140Z"
      },
      {
        "duration": 14,
        "start_time": "2022-05-11T09:43:19.165Z"
      },
      {
        "duration": 46,
        "start_time": "2022-05-11T09:43:19.182Z"
      },
      {
        "duration": 17,
        "start_time": "2022-05-11T09:43:19.230Z"
      },
      {
        "duration": 32,
        "start_time": "2022-05-11T09:43:19.249Z"
      },
      {
        "duration": 42,
        "start_time": "2022-05-11T09:43:19.283Z"
      },
      {
        "duration": 25,
        "start_time": "2022-05-11T09:43:19.327Z"
      },
      {
        "duration": 121,
        "start_time": "2022-05-11T09:43:19.354Z"
      },
      {
        "duration": 0,
        "start_time": "2022-05-11T09:43:19.478Z"
      },
      {
        "duration": 29,
        "start_time": "2022-05-11T09:43:35.488Z"
      },
      {
        "duration": 21,
        "start_time": "2022-05-11T10:10:07.077Z"
      },
      {
        "duration": 32,
        "start_time": "2022-05-11T10:13:17.917Z"
      },
      {
        "duration": 38,
        "start_time": "2022-05-11T10:14:35.333Z"
      },
      {
        "duration": 25,
        "start_time": "2022-05-11T10:35:32.407Z"
      },
      {
        "duration": 43,
        "start_time": "2022-05-11T10:37:05.207Z"
      },
      {
        "duration": 137,
        "start_time": "2022-05-11T10:37:35.310Z"
      },
      {
        "duration": 12,
        "start_time": "2022-05-11T10:47:25.524Z"
      },
      {
        "duration": 169,
        "start_time": "2022-05-11T10:47:49.018Z"
      },
      {
        "duration": 11,
        "start_time": "2022-05-11T10:48:03.519Z"
      },
      {
        "duration": 41,
        "start_time": "2022-05-11T10:48:08.790Z"
      },
      {
        "duration": 647,
        "start_time": "2022-05-11T10:49:24.177Z"
      },
      {
        "duration": 24,
        "start_time": "2022-05-11T10:49:24.828Z"
      },
      {
        "duration": 17,
        "start_time": "2022-05-11T10:49:24.855Z"
      },
      {
        "duration": 50,
        "start_time": "2022-05-11T10:49:24.876Z"
      },
      {
        "duration": 23,
        "start_time": "2022-05-11T10:49:24.928Z"
      },
      {
        "duration": 26,
        "start_time": "2022-05-11T10:49:24.953Z"
      },
      {
        "duration": 48,
        "start_time": "2022-05-11T10:49:24.981Z"
      },
      {
        "duration": 4,
        "start_time": "2022-05-11T10:49:25.031Z"
      },
      {
        "duration": 9,
        "start_time": "2022-05-11T10:49:25.037Z"
      },
      {
        "duration": 5,
        "start_time": "2022-05-11T10:49:25.052Z"
      },
      {
        "duration": 9,
        "start_time": "2022-05-11T10:49:25.060Z"
      },
      {
        "duration": 57,
        "start_time": "2022-05-11T10:49:25.072Z"
      },
      {
        "duration": 38,
        "start_time": "2022-05-11T10:49:25.132Z"
      },
      {
        "duration": 8,
        "start_time": "2022-05-11T10:49:25.173Z"
      },
      {
        "duration": 55,
        "start_time": "2022-05-11T10:49:25.184Z"
      },
      {
        "duration": 29,
        "start_time": "2022-05-11T10:49:25.241Z"
      },
      {
        "duration": 12,
        "start_time": "2022-05-11T10:49:25.272Z"
      },
      {
        "duration": 58,
        "start_time": "2022-05-11T10:49:25.286Z"
      },
      {
        "duration": 18,
        "start_time": "2022-05-11T10:49:25.346Z"
      },
      {
        "duration": 61,
        "start_time": "2022-05-11T10:49:25.367Z"
      },
      {
        "duration": 17,
        "start_time": "2022-05-11T10:49:25.430Z"
      },
      {
        "duration": 32,
        "start_time": "2022-05-11T10:49:25.450Z"
      },
      {
        "duration": 150,
        "start_time": "2022-05-11T10:49:25.484Z"
      },
      {
        "duration": 0,
        "start_time": "2022-05-11T10:49:25.637Z"
      },
      {
        "duration": 0,
        "start_time": "2022-05-11T10:49:25.639Z"
      },
      {
        "duration": 29,
        "start_time": "2022-05-11T10:49:54.267Z"
      },
      {
        "duration": 45,
        "start_time": "2022-05-11T10:50:04.285Z"
      },
      {
        "duration": 703,
        "start_time": "2022-05-11T10:52:36.126Z"
      },
      {
        "duration": 36,
        "start_time": "2022-05-11T10:52:36.833Z"
      },
      {
        "duration": 14,
        "start_time": "2022-05-11T10:52:36.872Z"
      },
      {
        "duration": 51,
        "start_time": "2022-05-11T10:52:36.889Z"
      },
      {
        "duration": 30,
        "start_time": "2022-05-11T10:52:36.944Z"
      },
      {
        "duration": 67,
        "start_time": "2022-05-11T10:52:36.976Z"
      },
      {
        "duration": 18,
        "start_time": "2022-05-11T10:52:37.045Z"
      },
      {
        "duration": 4,
        "start_time": "2022-05-11T10:52:37.065Z"
      },
      {
        "duration": 7,
        "start_time": "2022-05-11T10:52:37.072Z"
      },
      {
        "duration": 9,
        "start_time": "2022-05-11T10:52:37.082Z"
      },
      {
        "duration": 31,
        "start_time": "2022-05-11T10:52:37.095Z"
      },
      {
        "duration": 40,
        "start_time": "2022-05-11T10:52:37.129Z"
      },
      {
        "duration": 23,
        "start_time": "2022-05-11T10:52:37.172Z"
      },
      {
        "duration": 10,
        "start_time": "2022-05-11T10:52:37.224Z"
      },
      {
        "duration": 29,
        "start_time": "2022-05-11T10:52:37.237Z"
      },
      {
        "duration": 57,
        "start_time": "2022-05-11T10:52:37.269Z"
      },
      {
        "duration": 13,
        "start_time": "2022-05-11T10:52:37.328Z"
      },
      {
        "duration": 42,
        "start_time": "2022-05-11T10:52:37.343Z"
      },
      {
        "duration": 45,
        "start_time": "2022-05-11T10:52:37.389Z"
      },
      {
        "duration": 50,
        "start_time": "2022-05-11T10:52:37.437Z"
      },
      {
        "duration": 42,
        "start_time": "2022-05-11T10:52:37.490Z"
      },
      {
        "duration": 37,
        "start_time": "2022-05-11T10:52:37.535Z"
      },
      {
        "duration": 72,
        "start_time": "2022-05-11T10:52:37.575Z"
      },
      {
        "duration": 40,
        "start_time": "2022-05-11T10:52:37.649Z"
      },
      {
        "duration": 656,
        "start_time": "2022-05-11T10:54:12.004Z"
      },
      {
        "duration": 27,
        "start_time": "2022-05-11T10:54:12.663Z"
      },
      {
        "duration": 34,
        "start_time": "2022-05-11T10:54:12.693Z"
      },
      {
        "duration": 18,
        "start_time": "2022-05-11T10:54:12.732Z"
      },
      {
        "duration": 23,
        "start_time": "2022-05-11T10:54:12.753Z"
      },
      {
        "duration": 72,
        "start_time": "2022-05-11T10:54:12.780Z"
      },
      {
        "duration": 15,
        "start_time": "2022-05-11T10:54:12.855Z"
      },
      {
        "duration": 8,
        "start_time": "2022-05-11T10:54:12.873Z"
      },
      {
        "duration": 41,
        "start_time": "2022-05-11T10:54:12.883Z"
      },
      {
        "duration": 4,
        "start_time": "2022-05-11T10:54:12.929Z"
      },
      {
        "duration": 9,
        "start_time": "2022-05-11T10:54:12.935Z"
      },
      {
        "duration": 30,
        "start_time": "2022-05-11T10:54:12.947Z"
      },
      {
        "duration": 53,
        "start_time": "2022-05-11T10:54:12.980Z"
      },
      {
        "duration": 10,
        "start_time": "2022-05-11T10:54:13.036Z"
      },
      {
        "duration": 31,
        "start_time": "2022-05-11T10:54:13.048Z"
      },
      {
        "duration": 63,
        "start_time": "2022-05-11T10:54:13.082Z"
      },
      {
        "duration": 16,
        "start_time": "2022-05-11T10:54:13.148Z"
      },
      {
        "duration": 23,
        "start_time": "2022-05-11T10:54:13.166Z"
      },
      {
        "duration": 44,
        "start_time": "2022-05-11T10:54:13.192Z"
      },
      {
        "duration": 50,
        "start_time": "2022-05-11T10:54:13.239Z"
      },
      {
        "duration": 40,
        "start_time": "2022-05-11T10:54:13.296Z"
      },
      {
        "duration": 36,
        "start_time": "2022-05-11T10:54:13.341Z"
      },
      {
        "duration": 112,
        "start_time": "2022-05-11T10:54:13.380Z"
      },
      {
        "duration": 61,
        "start_time": "2022-05-11T10:54:13.495Z"
      },
      {
        "duration": 39,
        "start_time": "2022-05-11T10:55:53.677Z"
      },
      {
        "duration": 49,
        "start_time": "2022-05-11T10:56:16.691Z"
      },
      {
        "duration": 61,
        "start_time": "2022-05-11T10:57:36.529Z"
      },
      {
        "duration": 54,
        "start_time": "2022-05-11T10:57:40.789Z"
      },
      {
        "duration": 30,
        "start_time": "2022-05-11T10:59:13.224Z"
      },
      {
        "duration": 24,
        "start_time": "2022-05-11T10:59:23.772Z"
      },
      {
        "duration": 22,
        "start_time": "2022-05-11T10:59:53.603Z"
      },
      {
        "duration": 5,
        "start_time": "2022-05-11T11:17:47.054Z"
      },
      {
        "duration": 23,
        "start_time": "2022-05-11T11:17:56.876Z"
      },
      {
        "duration": 17,
        "start_time": "2022-05-11T11:21:11.847Z"
      },
      {
        "duration": 30,
        "start_time": "2022-05-11T11:21:51.224Z"
      },
      {
        "duration": 31,
        "start_time": "2022-05-11T11:22:53.024Z"
      },
      {
        "duration": 102,
        "start_time": "2022-05-11T11:26:47.265Z"
      },
      {
        "duration": 12,
        "start_time": "2022-05-11T11:26:53.210Z"
      },
      {
        "duration": 31,
        "start_time": "2022-05-11T11:27:04.380Z"
      },
      {
        "duration": 9,
        "start_time": "2022-05-11T11:29:21.776Z"
      },
      {
        "duration": 10,
        "start_time": "2022-05-11T11:29:40.079Z"
      },
      {
        "duration": 0,
        "start_time": "2022-05-11T11:30:07.885Z"
      },
      {
        "duration": 4084,
        "start_time": "2022-05-11T11:30:09.489Z"
      },
      {
        "duration": 59,
        "start_time": "2022-05-11T11:33:07.111Z"
      },
      {
        "duration": 11,
        "start_time": "2022-05-11T11:33:43.472Z"
      },
      {
        "duration": 54,
        "start_time": "2022-05-11T11:33:49.514Z"
      },
      {
        "duration": 582,
        "start_time": "2022-05-11T11:35:19.159Z"
      },
      {
        "duration": 22,
        "start_time": "2022-05-11T11:35:19.744Z"
      },
      {
        "duration": 15,
        "start_time": "2022-05-11T11:35:19.768Z"
      },
      {
        "duration": 48,
        "start_time": "2022-05-11T11:35:19.785Z"
      },
      {
        "duration": 22,
        "start_time": "2022-05-11T11:35:19.836Z"
      },
      {
        "duration": 30,
        "start_time": "2022-05-11T11:35:19.860Z"
      },
      {
        "duration": 43,
        "start_time": "2022-05-11T11:35:19.894Z"
      },
      {
        "duration": 28,
        "start_time": "2022-05-11T11:35:19.939Z"
      },
      {
        "duration": 22,
        "start_time": "2022-05-11T11:35:19.969Z"
      },
      {
        "duration": 26,
        "start_time": "2022-05-11T11:35:20.025Z"
      },
      {
        "duration": 9,
        "start_time": "2022-05-11T11:35:20.053Z"
      },
      {
        "duration": 26,
        "start_time": "2022-05-11T11:35:20.064Z"
      },
      {
        "duration": 53,
        "start_time": "2022-05-11T11:35:20.092Z"
      },
      {
        "duration": 20,
        "start_time": "2022-05-11T11:35:20.149Z"
      },
      {
        "duration": 27,
        "start_time": "2022-05-11T11:35:20.171Z"
      },
      {
        "duration": 13,
        "start_time": "2022-05-11T11:35:20.224Z"
      },
      {
        "duration": 34,
        "start_time": "2022-05-11T11:35:20.240Z"
      },
      {
        "duration": 14,
        "start_time": "2022-05-11T11:35:20.277Z"
      },
      {
        "duration": 27,
        "start_time": "2022-05-11T11:35:20.326Z"
      },
      {
        "duration": 29,
        "start_time": "2022-05-11T11:35:20.357Z"
      },
      {
        "duration": 54,
        "start_time": "2022-05-11T11:35:20.388Z"
      },
      {
        "duration": 23,
        "start_time": "2022-05-11T11:35:20.444Z"
      },
      {
        "duration": 23,
        "start_time": "2022-05-11T11:35:20.470Z"
      },
      {
        "duration": 54,
        "start_time": "2022-05-11T11:35:20.496Z"
      },
      {
        "duration": 73,
        "start_time": "2022-05-11T11:35:20.552Z"
      },
      {
        "duration": 3,
        "start_time": "2022-05-11T11:35:20.627Z"
      },
      {
        "duration": 36,
        "start_time": "2022-05-11T11:36:08.913Z"
      },
      {
        "duration": 21,
        "start_time": "2022-05-11T11:36:24.785Z"
      },
      {
        "duration": 20,
        "start_time": "2022-05-11T11:38:36.386Z"
      },
      {
        "duration": 21,
        "start_time": "2022-05-11T11:39:01.401Z"
      },
      {
        "duration": 22,
        "start_time": "2022-05-11T11:39:51.651Z"
      },
      {
        "duration": 10,
        "start_time": "2022-05-11T11:43:12.446Z"
      },
      {
        "duration": 19,
        "start_time": "2022-05-11T11:43:43.068Z"
      },
      {
        "duration": 20,
        "start_time": "2022-05-11T11:44:29.211Z"
      },
      {
        "duration": 24,
        "start_time": "2022-05-11T11:45:01.171Z"
      },
      {
        "duration": 31,
        "start_time": "2022-05-11T11:48:24.356Z"
      },
      {
        "duration": 818,
        "start_time": "2022-05-11T11:48:34.834Z"
      },
      {
        "duration": 25,
        "start_time": "2022-05-11T11:48:35.655Z"
      },
      {
        "duration": 14,
        "start_time": "2022-05-11T11:48:35.682Z"
      },
      {
        "duration": 16,
        "start_time": "2022-05-11T11:48:35.725Z"
      },
      {
        "duration": 24,
        "start_time": "2022-05-11T11:48:35.743Z"
      },
      {
        "duration": 62,
        "start_time": "2022-05-11T11:48:35.770Z"
      },
      {
        "duration": 24,
        "start_time": "2022-05-11T11:48:35.834Z"
      },
      {
        "duration": 35,
        "start_time": "2022-05-11T11:48:35.861Z"
      },
      {
        "duration": 59,
        "start_time": "2022-05-11T11:48:35.899Z"
      },
      {
        "duration": 32,
        "start_time": "2022-05-11T11:48:35.962Z"
      },
      {
        "duration": 29,
        "start_time": "2022-05-11T11:48:35.997Z"
      },
      {
        "duration": 22,
        "start_time": "2022-05-11T11:48:36.029Z"
      },
      {
        "duration": 22,
        "start_time": "2022-05-11T11:48:36.054Z"
      },
      {
        "duration": 51,
        "start_time": "2022-05-11T11:48:36.078Z"
      },
      {
        "duration": 26,
        "start_time": "2022-05-11T11:48:36.131Z"
      },
      {
        "duration": 14,
        "start_time": "2022-05-11T11:48:36.160Z"
      },
      {
        "duration": 65,
        "start_time": "2022-05-11T11:48:36.177Z"
      },
      {
        "duration": 12,
        "start_time": "2022-05-11T11:48:36.244Z"
      },
      {
        "duration": 25,
        "start_time": "2022-05-11T11:48:36.258Z"
      },
      {
        "duration": 62,
        "start_time": "2022-05-11T11:48:36.285Z"
      },
      {
        "duration": 22,
        "start_time": "2022-05-11T11:48:36.349Z"
      },
      {
        "duration": 58,
        "start_time": "2022-05-11T11:48:36.374Z"
      },
      {
        "duration": 19,
        "start_time": "2022-05-11T11:48:36.434Z"
      },
      {
        "duration": 41,
        "start_time": "2022-05-11T11:48:36.455Z"
      },
      {
        "duration": 59,
        "start_time": "2022-05-11T11:48:36.524Z"
      },
      {
        "duration": 63,
        "start_time": "2022-05-11T11:48:36.586Z"
      },
      {
        "duration": 22,
        "start_time": "2022-05-11T11:48:36.652Z"
      },
      {
        "duration": 47,
        "start_time": "2022-05-11T11:48:36.679Z"
      },
      {
        "duration": 28,
        "start_time": "2022-05-11T11:48:36.730Z"
      },
      {
        "duration": 63,
        "start_time": "2022-05-11T11:48:36.761Z"
      },
      {
        "duration": 32,
        "start_time": "2022-05-11T11:48:58.992Z"
      },
      {
        "duration": 647,
        "start_time": "2022-05-11T11:49:09.688Z"
      },
      {
        "duration": 25,
        "start_time": "2022-05-11T11:49:10.338Z"
      },
      {
        "duration": 22,
        "start_time": "2022-05-11T11:49:10.366Z"
      },
      {
        "duration": 46,
        "start_time": "2022-05-11T11:49:10.392Z"
      },
      {
        "duration": 21,
        "start_time": "2022-05-11T11:49:10.440Z"
      },
      {
        "duration": 22,
        "start_time": "2022-05-11T11:49:10.463Z"
      },
      {
        "duration": 12,
        "start_time": "2022-05-11T11:49:10.524Z"
      },
      {
        "duration": 34,
        "start_time": "2022-05-11T11:49:10.539Z"
      },
      {
        "duration": 49,
        "start_time": "2022-05-11T11:49:10.576Z"
      },
      {
        "duration": 23,
        "start_time": "2022-05-11T11:49:10.632Z"
      },
      {
        "duration": 10,
        "start_time": "2022-05-11T11:49:10.658Z"
      },
      {
        "duration": 68,
        "start_time": "2022-05-11T11:49:10.670Z"
      },
      {
        "duration": 23,
        "start_time": "2022-05-11T11:49:10.741Z"
      },
      {
        "duration": 20,
        "start_time": "2022-05-11T11:49:10.766Z"
      },
      {
        "duration": 61,
        "start_time": "2022-05-11T11:49:10.789Z"
      },
      {
        "duration": 19,
        "start_time": "2022-05-11T11:49:10.853Z"
      },
      {
        "duration": 61,
        "start_time": "2022-05-11T11:49:10.876Z"
      },
      {
        "duration": 13,
        "start_time": "2022-05-11T11:49:10.939Z"
      },
      {
        "duration": 26,
        "start_time": "2022-05-11T11:49:10.954Z"
      },
      {
        "duration": 63,
        "start_time": "2022-05-11T11:49:10.983Z"
      },
      {
        "duration": 23,
        "start_time": "2022-05-11T11:49:11.050Z"
      },
      {
        "duration": 58,
        "start_time": "2022-05-11T11:49:11.076Z"
      },
      {
        "duration": 18,
        "start_time": "2022-05-11T11:49:11.138Z"
      },
      {
        "duration": 37,
        "start_time": "2022-05-11T11:49:11.158Z"
      },
      {
        "duration": 87,
        "start_time": "2022-05-11T11:49:11.197Z"
      },
      {
        "duration": 57,
        "start_time": "2022-05-11T11:49:11.287Z"
      },
      {
        "duration": 21,
        "start_time": "2022-05-11T11:49:11.347Z"
      },
      {
        "duration": 21,
        "start_time": "2022-05-11T11:49:11.372Z"
      },
      {
        "duration": 22,
        "start_time": "2022-05-11T11:49:11.424Z"
      },
      {
        "duration": 27,
        "start_time": "2022-05-11T11:49:11.448Z"
      },
      {
        "duration": 33,
        "start_time": "2022-05-11T11:54:54.444Z"
      },
      {
        "duration": 715,
        "start_time": "2022-05-11T11:55:00.637Z"
      },
      {
        "duration": 22,
        "start_time": "2022-05-11T11:55:01.354Z"
      },
      {
        "duration": 13,
        "start_time": "2022-05-11T11:55:01.378Z"
      },
      {
        "duration": 45,
        "start_time": "2022-05-11T11:55:01.394Z"
      },
      {
        "duration": 23,
        "start_time": "2022-05-11T11:55:01.441Z"
      },
      {
        "duration": 60,
        "start_time": "2022-05-11T11:55:01.466Z"
      },
      {
        "duration": 12,
        "start_time": "2022-05-11T11:55:01.528Z"
      },
      {
        "duration": 26,
        "start_time": "2022-05-11T11:55:01.542Z"
      },
      {
        "duration": 57,
        "start_time": "2022-05-11T11:55:01.570Z"
      },
      {
        "duration": 26,
        "start_time": "2022-05-11T11:55:01.631Z"
      },
      {
        "duration": 8,
        "start_time": "2022-05-11T11:55:01.659Z"
      },
      {
        "duration": 61,
        "start_time": "2022-05-11T11:55:01.670Z"
      },
      {
        "duration": 22,
        "start_time": "2022-05-11T11:55:01.734Z"
      },
      {
        "duration": 11,
        "start_time": "2022-05-11T11:55:01.758Z"
      },
      {
        "duration": 61,
        "start_time": "2022-05-11T11:55:01.771Z"
      },
      {
        "duration": 19,
        "start_time": "2022-05-11T11:55:01.834Z"
      },
      {
        "duration": 50,
        "start_time": "2022-05-11T11:55:01.855Z"
      },
      {
        "duration": 183,
        "start_time": "2022-05-11T11:55:01.907Z"
      },
      {
        "duration": 69,
        "start_time": "2022-05-11T11:55:02.092Z"
      },
      {
        "duration": 29,
        "start_time": "2022-05-11T11:55:02.163Z"
      },
      {
        "duration": 33,
        "start_time": "2022-05-11T11:55:02.195Z"
      },
      {
        "duration": 35,
        "start_time": "2022-05-11T11:55:02.232Z"
      },
      {
        "duration": 21,
        "start_time": "2022-05-11T11:55:02.270Z"
      },
      {
        "duration": 73,
        "start_time": "2022-05-11T11:55:02.294Z"
      },
      {
        "duration": 44,
        "start_time": "2022-05-11T11:55:02.369Z"
      },
      {
        "duration": 140,
        "start_time": "2022-05-11T11:55:02.415Z"
      },
      {
        "duration": 62,
        "start_time": "2022-05-11T11:55:02.557Z"
      },
      {
        "duration": 20,
        "start_time": "2022-05-11T11:55:02.624Z"
      },
      {
        "duration": 40,
        "start_time": "2022-05-11T11:55:02.646Z"
      },
      {
        "duration": 36,
        "start_time": "2022-05-11T11:55:02.688Z"
      },
      {
        "duration": 21,
        "start_time": "2022-05-11T14:22:46.388Z"
      },
      {
        "duration": 16,
        "start_time": "2022-05-11T14:28:19.006Z"
      },
      {
        "duration": 26,
        "start_time": "2022-05-11T14:54:17.962Z"
      },
      {
        "duration": 33,
        "start_time": "2022-05-11T14:54:23.269Z"
      },
      {
        "duration": 644,
        "start_time": "2022-05-11T14:54:55.101Z"
      },
      {
        "duration": 21,
        "start_time": "2022-05-11T14:54:55.748Z"
      },
      {
        "duration": 35,
        "start_time": "2022-05-11T14:54:55.771Z"
      },
      {
        "duration": 39,
        "start_time": "2022-05-11T14:54:55.809Z"
      },
      {
        "duration": 40,
        "start_time": "2022-05-11T14:54:55.851Z"
      },
      {
        "duration": 24,
        "start_time": "2022-05-11T14:54:55.893Z"
      },
      {
        "duration": 22,
        "start_time": "2022-05-11T14:54:55.931Z"
      },
      {
        "duration": 28,
        "start_time": "2022-05-11T14:54:55.955Z"
      },
      {
        "duration": 42,
        "start_time": "2022-05-11T14:54:55.986Z"
      },
      {
        "duration": 43,
        "start_time": "2022-05-11T14:54:56.033Z"
      },
      {
        "duration": 7,
        "start_time": "2022-05-11T14:54:56.079Z"
      },
      {
        "duration": 51,
        "start_time": "2022-05-11T14:54:56.089Z"
      },
      {
        "duration": 23,
        "start_time": "2022-05-11T14:54:56.143Z"
      },
      {
        "duration": 50,
        "start_time": "2022-05-11T14:54:56.168Z"
      },
      {
        "duration": 54,
        "start_time": "2022-05-11T14:54:56.221Z"
      },
      {
        "duration": 36,
        "start_time": "2022-05-11T14:54:56.277Z"
      },
      {
        "duration": 59,
        "start_time": "2022-05-11T14:54:56.315Z"
      },
      {
        "duration": 27,
        "start_time": "2022-05-11T14:54:56.376Z"
      },
      {
        "duration": 50,
        "start_time": "2022-05-11T14:54:56.405Z"
      },
      {
        "duration": 59,
        "start_time": "2022-05-11T14:54:56.458Z"
      },
      {
        "duration": 25,
        "start_time": "2022-05-11T14:54:56.519Z"
      },
      {
        "duration": 37,
        "start_time": "2022-05-11T14:54:56.546Z"
      },
      {
        "duration": 26,
        "start_time": "2022-05-11T14:54:56.586Z"
      },
      {
        "duration": 71,
        "start_time": "2022-05-11T14:54:56.614Z"
      },
      {
        "duration": 48,
        "start_time": "2022-05-11T14:54:56.687Z"
      },
      {
        "duration": 30,
        "start_time": "2022-05-11T14:54:56.737Z"
      },
      {
        "duration": 39,
        "start_time": "2022-05-11T14:54:56.770Z"
      },
      {
        "duration": 53,
        "start_time": "2022-05-11T14:54:56.813Z"
      },
      {
        "duration": 48,
        "start_time": "2022-05-11T14:54:56.868Z"
      },
      {
        "duration": 43,
        "start_time": "2022-05-11T14:54:56.918Z"
      },
      {
        "duration": 19,
        "start_time": "2022-05-11T14:54:56.963Z"
      },
      {
        "duration": 20,
        "start_time": "2022-05-11T14:54:56.985Z"
      },
      {
        "duration": 43,
        "start_time": "2022-05-11T14:54:57.007Z"
      },
      {
        "duration": 45,
        "start_time": "2022-05-11T14:58:18.726Z"
      },
      {
        "duration": 22,
        "start_time": "2022-05-11T15:29:41.135Z"
      },
      {
        "duration": 54,
        "start_time": "2022-05-11T19:29:59.586Z"
      },
      {
        "duration": 590,
        "start_time": "2022-05-11T19:30:11.713Z"
      },
      {
        "duration": 16,
        "start_time": "2022-05-11T19:30:12.306Z"
      },
      {
        "duration": 11,
        "start_time": "2022-05-11T19:30:12.323Z"
      },
      {
        "duration": 42,
        "start_time": "2022-05-11T19:30:12.336Z"
      },
      {
        "duration": 22,
        "start_time": "2022-05-11T19:30:12.383Z"
      },
      {
        "duration": 17,
        "start_time": "2022-05-11T19:30:12.408Z"
      },
      {
        "duration": 11,
        "start_time": "2022-05-11T19:30:12.427Z"
      },
      {
        "duration": 37,
        "start_time": "2022-05-11T19:30:12.440Z"
      },
      {
        "duration": 24,
        "start_time": "2022-05-11T19:30:12.479Z"
      },
      {
        "duration": 24,
        "start_time": "2022-05-11T19:30:12.505Z"
      },
      {
        "duration": 6,
        "start_time": "2022-05-11T19:30:12.532Z"
      },
      {
        "duration": 32,
        "start_time": "2022-05-11T19:30:12.540Z"
      },
      {
        "duration": 147,
        "start_time": "2022-05-11T19:30:12.574Z"
      },
      {
        "duration": 8,
        "start_time": "2022-05-11T19:30:12.724Z"
      },
      {
        "duration": 17,
        "start_time": "2022-05-11T19:30:12.734Z"
      },
      {
        "duration": 26,
        "start_time": "2022-05-11T19:30:12.752Z"
      },
      {
        "duration": 60,
        "start_time": "2022-05-11T19:30:12.780Z"
      },
      {
        "duration": 10,
        "start_time": "2022-05-11T19:30:12.842Z"
      },
      {
        "duration": 40,
        "start_time": "2022-05-11T19:30:12.854Z"
      },
      {
        "duration": 24,
        "start_time": "2022-05-11T19:30:12.895Z"
      },
      {
        "duration": 29,
        "start_time": "2022-05-11T19:30:12.921Z"
      },
      {
        "duration": 18,
        "start_time": "2022-05-11T19:30:12.952Z"
      },
      {
        "duration": 56,
        "start_time": "2022-05-11T19:30:12.974Z"
      },
      {
        "duration": 39,
        "start_time": "2022-05-11T19:30:13.032Z"
      },
      {
        "duration": 42,
        "start_time": "2022-05-11T19:30:13.074Z"
      },
      {
        "duration": 29,
        "start_time": "2022-05-11T19:30:13.119Z"
      },
      {
        "duration": 19,
        "start_time": "2022-05-11T19:30:13.150Z"
      },
      {
        "duration": 46,
        "start_time": "2022-05-11T19:30:13.171Z"
      },
      {
        "duration": 25,
        "start_time": "2022-05-11T19:30:13.219Z"
      },
      {
        "duration": 14,
        "start_time": "2022-05-11T19:30:13.246Z"
      },
      {
        "duration": 26,
        "start_time": "2022-05-11T19:30:13.273Z"
      },
      {
        "duration": 48,
        "start_time": "2022-05-11T19:30:13.303Z"
      },
      {
        "duration": 10,
        "start_time": "2022-05-11T19:30:13.353Z"
      },
      {
        "duration": 11,
        "start_time": "2022-05-11T19:33:24.542Z"
      },
      {
        "duration": 16,
        "start_time": "2022-05-11T19:38:15.687Z"
      },
      {
        "duration": 12,
        "start_time": "2022-05-11T19:38:39.423Z"
      },
      {
        "duration": 117,
        "start_time": "2022-05-11T19:47:43.238Z"
      },
      {
        "duration": 8,
        "start_time": "2022-05-11T19:48:11.466Z"
      },
      {
        "duration": 71,
        "start_time": "2022-05-11T19:48:23.190Z"
      },
      {
        "duration": 14,
        "start_time": "2022-05-11T19:50:14.989Z"
      },
      {
        "duration": 7,
        "start_time": "2022-05-11T19:51:18.127Z"
      },
      {
        "duration": 13,
        "start_time": "2022-05-11T19:51:22.864Z"
      },
      {
        "duration": 23,
        "start_time": "2022-05-11T19:51:45.790Z"
      },
      {
        "duration": 152,
        "start_time": "2022-05-11T19:52:43.881Z"
      },
      {
        "duration": 13,
        "start_time": "2022-05-11T19:52:49.789Z"
      },
      {
        "duration": 14,
        "start_time": "2022-05-11T19:54:40.919Z"
      },
      {
        "duration": 102,
        "start_time": "2022-05-11T19:56:14.582Z"
      },
      {
        "duration": 10,
        "start_time": "2022-05-11T19:56:24.100Z"
      },
      {
        "duration": 16,
        "start_time": "2022-05-11T19:58:15.080Z"
      },
      {
        "duration": 21,
        "start_time": "2022-05-11T19:58:43.667Z"
      },
      {
        "duration": 11,
        "start_time": "2022-05-12T07:48:06.232Z"
      },
      {
        "duration": 3,
        "start_time": "2022-05-12T07:48:25.235Z"
      },
      {
        "duration": 45,
        "start_time": "2022-05-12T07:48:48.335Z"
      },
      {
        "duration": 8,
        "start_time": "2022-05-12T07:49:00.783Z"
      },
      {
        "duration": 441,
        "start_time": "2022-05-12T07:49:08.817Z"
      },
      {
        "duration": 16,
        "start_time": "2022-05-12T07:49:09.260Z"
      },
      {
        "duration": 23,
        "start_time": "2022-05-12T07:49:09.278Z"
      },
      {
        "duration": 15,
        "start_time": "2022-05-12T07:49:09.303Z"
      },
      {
        "duration": 15,
        "start_time": "2022-05-12T07:49:09.320Z"
      },
      {
        "duration": 17,
        "start_time": "2022-05-12T07:49:09.337Z"
      },
      {
        "duration": 18,
        "start_time": "2022-05-12T07:49:09.356Z"
      },
      {
        "duration": 20,
        "start_time": "2022-05-12T07:49:09.376Z"
      },
      {
        "duration": 13,
        "start_time": "2022-05-12T07:49:09.398Z"
      },
      {
        "duration": 17,
        "start_time": "2022-05-12T07:49:09.413Z"
      },
      {
        "duration": 5,
        "start_time": "2022-05-12T07:49:09.432Z"
      },
      {
        "duration": 50,
        "start_time": "2022-05-12T07:49:09.439Z"
      },
      {
        "duration": 13,
        "start_time": "2022-05-12T07:49:09.491Z"
      },
      {
        "duration": 7,
        "start_time": "2022-05-12T07:49:09.507Z"
      },
      {
        "duration": 12,
        "start_time": "2022-05-12T07:49:09.516Z"
      },
      {
        "duration": 48,
        "start_time": "2022-05-12T07:49:09.530Z"
      },
      {
        "duration": 28,
        "start_time": "2022-05-12T07:49:09.580Z"
      },
      {
        "duration": 7,
        "start_time": "2022-05-12T07:49:09.610Z"
      },
      {
        "duration": 13,
        "start_time": "2022-05-12T07:49:09.619Z"
      },
      {
        "duration": 50,
        "start_time": "2022-05-12T07:49:09.634Z"
      },
      {
        "duration": 14,
        "start_time": "2022-05-12T07:49:09.686Z"
      },
      {
        "duration": 14,
        "start_time": "2022-05-12T07:49:09.702Z"
      },
      {
        "duration": 17,
        "start_time": "2022-05-12T07:49:09.717Z"
      },
      {
        "duration": 67,
        "start_time": "2022-05-12T07:49:09.736Z"
      },
      {
        "duration": 45,
        "start_time": "2022-05-12T07:49:09.805Z"
      },
      {
        "duration": 35,
        "start_time": "2022-05-12T07:49:09.852Z"
      },
      {
        "duration": 18,
        "start_time": "2022-05-12T07:49:09.889Z"
      },
      {
        "duration": 40,
        "start_time": "2022-05-12T07:49:09.909Z"
      },
      {
        "duration": 36,
        "start_time": "2022-05-12T07:49:09.951Z"
      },
      {
        "duration": 18,
        "start_time": "2022-05-12T07:49:09.989Z"
      },
      {
        "duration": 14,
        "start_time": "2022-05-12T07:49:10.008Z"
      },
      {
        "duration": 19,
        "start_time": "2022-05-12T07:49:10.024Z"
      },
      {
        "duration": 33,
        "start_time": "2022-05-12T07:49:10.045Z"
      },
      {
        "duration": 15,
        "start_time": "2022-05-12T07:49:10.079Z"
      },
      {
        "duration": 15,
        "start_time": "2022-05-12T07:49:10.096Z"
      },
      {
        "duration": 16,
        "start_time": "2022-05-12T07:49:10.113Z"
      },
      {
        "duration": 39,
        "start_time": "2022-05-12T07:49:17.607Z"
      },
      {
        "duration": 30,
        "start_time": "2022-05-12T07:50:42.866Z"
      },
      {
        "duration": 22,
        "start_time": "2022-05-12T07:52:37.700Z"
      },
      {
        "duration": 12,
        "start_time": "2022-05-12T07:54:27.949Z"
      },
      {
        "duration": 22,
        "start_time": "2022-05-12T07:54:55.684Z"
      },
      {
        "duration": 291,
        "start_time": "2022-05-12T07:55:39.036Z"
      },
      {
        "duration": 1320,
        "start_time": "2022-05-12T07:55:51.588Z"
      },
      {
        "duration": 1310,
        "start_time": "2022-05-12T07:55:53.430Z"
      },
      {
        "duration": 1354,
        "start_time": "2022-05-12T07:56:01.273Z"
      },
      {
        "duration": 4,
        "start_time": "2022-05-12T09:51:10.679Z"
      },
      {
        "duration": 15,
        "start_time": "2022-05-12T09:51:13.963Z"
      },
      {
        "duration": 15,
        "start_time": "2022-05-12T09:55:58.612Z"
      },
      {
        "duration": 15,
        "start_time": "2022-05-12T10:11:03.805Z"
      },
      {
        "duration": 474,
        "start_time": "2022-05-12T10:11:13.040Z"
      },
      {
        "duration": 14,
        "start_time": "2022-05-12T10:11:13.516Z"
      },
      {
        "duration": 9,
        "start_time": "2022-05-12T10:11:13.532Z"
      },
      {
        "duration": 33,
        "start_time": "2022-05-12T10:11:13.543Z"
      },
      {
        "duration": 15,
        "start_time": "2022-05-12T10:11:13.578Z"
      },
      {
        "duration": 15,
        "start_time": "2022-05-12T10:11:13.595Z"
      },
      {
        "duration": 12,
        "start_time": "2022-05-12T10:11:13.612Z"
      },
      {
        "duration": 52,
        "start_time": "2022-05-12T10:11:13.625Z"
      },
      {
        "duration": 15,
        "start_time": "2022-05-12T10:11:13.679Z"
      },
      {
        "duration": 19,
        "start_time": "2022-05-12T10:11:13.695Z"
      },
      {
        "duration": 7,
        "start_time": "2022-05-12T10:11:13.715Z"
      },
      {
        "duration": 48,
        "start_time": "2022-05-12T10:11:13.725Z"
      },
      {
        "duration": 15,
        "start_time": "2022-05-12T10:11:13.775Z"
      },
      {
        "duration": 8,
        "start_time": "2022-05-12T10:11:13.794Z"
      },
      {
        "duration": 17,
        "start_time": "2022-05-12T10:11:13.803Z"
      },
      {
        "duration": 11,
        "start_time": "2022-05-12T10:11:13.822Z"
      },
      {
        "duration": 53,
        "start_time": "2022-05-12T10:11:13.834Z"
      },
      {
        "duration": 10,
        "start_time": "2022-05-12T10:11:13.889Z"
      },
      {
        "duration": 22,
        "start_time": "2022-05-12T10:11:13.901Z"
      },
      {
        "duration": 51,
        "start_time": "2022-05-12T10:11:13.925Z"
      },
      {
        "duration": 22,
        "start_time": "2022-05-12T10:11:13.978Z"
      },
      {
        "duration": 16,
        "start_time": "2022-05-12T10:11:14.002Z"
      },
      {
        "duration": 17,
        "start_time": "2022-05-12T10:11:14.020Z"
      },
      {
        "duration": 50,
        "start_time": "2022-05-12T10:11:14.039Z"
      },
      {
        "duration": 29,
        "start_time": "2022-05-12T10:11:14.091Z"
      },
      {
        "duration": 15,
        "start_time": "2022-05-12T10:11:14.122Z"
      },
      {
        "duration": 35,
        "start_time": "2022-05-12T10:11:14.138Z"
      },
      {
        "duration": 18,
        "start_time": "2022-05-12T10:11:14.175Z"
      },
      {
        "duration": 16,
        "start_time": "2022-05-12T10:11:14.195Z"
      },
      {
        "duration": 14,
        "start_time": "2022-05-12T10:11:14.213Z"
      },
      {
        "duration": 12,
        "start_time": "2022-05-12T10:11:14.229Z"
      },
      {
        "duration": 18,
        "start_time": "2022-05-12T10:11:14.270Z"
      },
      {
        "duration": 12,
        "start_time": "2022-05-12T10:11:14.290Z"
      },
      {
        "duration": 11,
        "start_time": "2022-05-12T10:11:14.303Z"
      },
      {
        "duration": 15,
        "start_time": "2022-05-12T10:11:14.315Z"
      },
      {
        "duration": 50,
        "start_time": "2022-05-12T10:11:14.332Z"
      },
      {
        "duration": 17,
        "start_time": "2022-05-12T10:11:14.383Z"
      },
      {
        "duration": 4,
        "start_time": "2022-05-12T10:18:26.508Z"
      },
      {
        "duration": 11,
        "start_time": "2022-05-12T10:18:40.892Z"
      },
      {
        "duration": 413,
        "start_time": "2022-05-12T10:19:48.427Z"
      },
      {
        "duration": 15,
        "start_time": "2022-05-12T10:19:48.842Z"
      },
      {
        "duration": 12,
        "start_time": "2022-05-12T10:19:48.859Z"
      },
      {
        "duration": 12,
        "start_time": "2022-05-12T10:19:48.873Z"
      },
      {
        "duration": 13,
        "start_time": "2022-05-12T10:19:48.887Z"
      },
      {
        "duration": 15,
        "start_time": "2022-05-12T10:19:48.901Z"
      },
      {
        "duration": 10,
        "start_time": "2022-05-12T10:19:48.918Z"
      },
      {
        "duration": 51,
        "start_time": "2022-05-12T10:19:48.930Z"
      },
      {
        "duration": 13,
        "start_time": "2022-05-12T10:19:48.982Z"
      },
      {
        "duration": 15,
        "start_time": "2022-05-12T10:19:48.997Z"
      },
      {
        "duration": 5,
        "start_time": "2022-05-12T10:19:49.013Z"
      },
      {
        "duration": 14,
        "start_time": "2022-05-12T10:19:49.019Z"
      },
      {
        "duration": 46,
        "start_time": "2022-05-12T10:19:49.034Z"
      },
      {
        "duration": 7,
        "start_time": "2022-05-12T10:19:49.083Z"
      },
      {
        "duration": 12,
        "start_time": "2022-05-12T10:19:49.092Z"
      },
      {
        "duration": 8,
        "start_time": "2022-05-12T10:19:49.106Z"
      },
      {
        "duration": 21,
        "start_time": "2022-05-12T10:19:49.115Z"
      },
      {
        "duration": 9,
        "start_time": "2022-05-12T10:19:49.170Z"
      },
      {
        "duration": 15,
        "start_time": "2022-05-12T10:19:49.181Z"
      },
      {
        "duration": 18,
        "start_time": "2022-05-12T10:19:49.198Z"
      },
      {
        "duration": 15,
        "start_time": "2022-05-12T10:19:49.217Z"
      },
      {
        "duration": 49,
        "start_time": "2022-05-12T10:19:49.234Z"
      },
      {
        "duration": 17,
        "start_time": "2022-05-12T10:19:49.284Z"
      },
      {
        "duration": 26,
        "start_time": "2022-05-12T10:19:49.303Z"
      },
      {
        "duration": 53,
        "start_time": "2022-05-12T10:19:49.331Z"
      },
      {
        "duration": 14,
        "start_time": "2022-05-12T10:19:49.386Z"
      },
      {
        "duration": 11,
        "start_time": "2022-05-12T10:19:49.402Z"
      },
      {
        "duration": 21,
        "start_time": "2022-05-12T10:19:49.414Z"
      },
      {
        "duration": 35,
        "start_time": "2022-05-12T10:19:49.437Z"
      },
      {
        "duration": 15,
        "start_time": "2022-05-12T10:19:49.473Z"
      },
      {
        "duration": 12,
        "start_time": "2022-05-12T10:19:49.490Z"
      },
      {
        "duration": 18,
        "start_time": "2022-05-12T10:19:49.503Z"
      },
      {
        "duration": 13,
        "start_time": "2022-05-12T10:19:49.522Z"
      },
      {
        "duration": 45,
        "start_time": "2022-05-12T10:19:49.536Z"
      },
      {
        "duration": 3,
        "start_time": "2022-05-12T10:19:49.583Z"
      },
      {
        "duration": 12,
        "start_time": "2022-05-12T10:19:49.588Z"
      },
      {
        "duration": 25,
        "start_time": "2022-05-12T10:19:49.602Z"
      },
      {
        "duration": 48,
        "start_time": "2022-05-12T10:19:49.630Z"
      },
      {
        "duration": 5,
        "start_time": "2022-05-12T10:20:27.224Z"
      },
      {
        "duration": 18,
        "start_time": "2022-05-12T10:21:55.394Z"
      },
      {
        "duration": 436,
        "start_time": "2022-05-12T10:23:20.710Z"
      },
      {
        "duration": 14,
        "start_time": "2022-05-12T10:23:21.149Z"
      },
      {
        "duration": 9,
        "start_time": "2022-05-12T10:23:21.165Z"
      },
      {
        "duration": 11,
        "start_time": "2022-05-12T10:23:21.176Z"
      },
      {
        "duration": 13,
        "start_time": "2022-05-12T10:23:21.188Z"
      },
      {
        "duration": 14,
        "start_time": "2022-05-12T10:23:21.202Z"
      },
      {
        "duration": 10,
        "start_time": "2022-05-12T10:23:21.217Z"
      },
      {
        "duration": 46,
        "start_time": "2022-05-12T10:23:21.228Z"
      },
      {
        "duration": 12,
        "start_time": "2022-05-12T10:23:21.275Z"
      },
      {
        "duration": 17,
        "start_time": "2022-05-12T10:23:21.290Z"
      },
      {
        "duration": 4,
        "start_time": "2022-05-12T10:23:21.309Z"
      },
      {
        "duration": 12,
        "start_time": "2022-05-12T10:23:21.315Z"
      },
      {
        "duration": 42,
        "start_time": "2022-05-12T10:23:21.329Z"
      },
      {
        "duration": 8,
        "start_time": "2022-05-12T10:23:21.373Z"
      },
      {
        "duration": 13,
        "start_time": "2022-05-12T10:23:21.382Z"
      },
      {
        "duration": 9,
        "start_time": "2022-05-12T10:23:21.396Z"
      },
      {
        "duration": 23,
        "start_time": "2022-05-12T10:23:21.406Z"
      },
      {
        "duration": 7,
        "start_time": "2022-05-12T10:23:21.431Z"
      },
      {
        "duration": 39,
        "start_time": "2022-05-12T10:23:21.440Z"
      },
      {
        "duration": 17,
        "start_time": "2022-05-12T10:23:21.480Z"
      },
      {
        "duration": 14,
        "start_time": "2022-05-12T10:23:21.499Z"
      },
      {
        "duration": 14,
        "start_time": "2022-05-12T10:23:21.515Z"
      },
      {
        "duration": 50,
        "start_time": "2022-05-12T10:23:21.531Z"
      },
      {
        "duration": 26,
        "start_time": "2022-05-12T10:23:21.583Z"
      },
      {
        "duration": 30,
        "start_time": "2022-05-12T10:23:21.611Z"
      },
      {
        "duration": 39,
        "start_time": "2022-05-12T10:23:21.643Z"
      },
      {
        "duration": 11,
        "start_time": "2022-05-12T10:23:21.685Z"
      },
      {
        "duration": 20,
        "start_time": "2022-05-12T10:23:21.699Z"
      },
      {
        "duration": 15,
        "start_time": "2022-05-12T10:23:21.721Z"
      },
      {
        "duration": 44,
        "start_time": "2022-05-12T10:23:21.738Z"
      },
      {
        "duration": 12,
        "start_time": "2022-05-12T10:23:21.784Z"
      },
      {
        "duration": 22,
        "start_time": "2022-05-12T10:23:21.797Z"
      },
      {
        "duration": 14,
        "start_time": "2022-05-12T10:23:21.821Z"
      },
      {
        "duration": 40,
        "start_time": "2022-05-12T10:23:21.837Z"
      },
      {
        "duration": 13,
        "start_time": "2022-05-12T10:23:21.879Z"
      },
      {
        "duration": 17,
        "start_time": "2022-05-12T10:23:21.894Z"
      },
      {
        "duration": 16,
        "start_time": "2022-05-12T10:23:21.913Z"
      },
      {
        "duration": 4,
        "start_time": "2022-05-12T10:23:58.198Z"
      },
      {
        "duration": 11,
        "start_time": "2022-05-12T10:24:00.605Z"
      },
      {
        "duration": 6,
        "start_time": "2022-05-12T10:32:53.622Z"
      },
      {
        "duration": 1406,
        "start_time": "2022-05-12T10:34:23.980Z"
      },
      {
        "duration": 5,
        "start_time": "2022-05-12T10:34:28.561Z"
      },
      {
        "duration": 11,
        "start_time": "2022-05-12T10:37:03.775Z"
      },
      {
        "duration": 8,
        "start_time": "2022-05-12T10:38:02.544Z"
      },
      {
        "duration": 7,
        "start_time": "2022-05-12T10:39:23.727Z"
      },
      {
        "duration": 10,
        "start_time": "2022-05-12T10:40:07.277Z"
      },
      {
        "duration": 17,
        "start_time": "2022-05-12T10:40:45.897Z"
      },
      {
        "duration": 21,
        "start_time": "2022-05-12T10:40:59.884Z"
      },
      {
        "duration": 21,
        "start_time": "2022-05-12T10:41:07.999Z"
      },
      {
        "duration": 17,
        "start_time": "2022-05-12T10:41:14.508Z"
      },
      {
        "duration": 8,
        "start_time": "2022-05-12T10:43:37.287Z"
      },
      {
        "duration": 8,
        "start_time": "2022-05-12T10:43:59.898Z"
      },
      {
        "duration": 20,
        "start_time": "2022-05-12T10:44:07.542Z"
      },
      {
        "duration": 7,
        "start_time": "2022-05-12T10:44:35.310Z"
      },
      {
        "duration": 94,
        "start_time": "2022-05-12T10:44:49.435Z"
      },
      {
        "duration": 21,
        "start_time": "2022-05-12T10:44:50.584Z"
      },
      {
        "duration": 4,
        "start_time": "2022-05-12T10:48:07.839Z"
      },
      {
        "duration": 7,
        "start_time": "2022-05-12T10:50:13.873Z"
      },
      {
        "duration": 424,
        "start_time": "2022-05-12T10:51:07.220Z"
      },
      {
        "duration": 14,
        "start_time": "2022-05-12T10:51:07.646Z"
      },
      {
        "duration": 13,
        "start_time": "2022-05-12T10:51:07.661Z"
      },
      {
        "duration": 11,
        "start_time": "2022-05-12T10:51:07.676Z"
      },
      {
        "duration": 13,
        "start_time": "2022-05-12T10:51:07.688Z"
      },
      {
        "duration": 13,
        "start_time": "2022-05-12T10:51:07.702Z"
      },
      {
        "duration": 8,
        "start_time": "2022-05-12T10:51:07.716Z"
      },
      {
        "duration": 51,
        "start_time": "2022-05-12T10:51:07.725Z"
      },
      {
        "duration": 12,
        "start_time": "2022-05-12T10:51:07.778Z"
      },
      {
        "duration": 17,
        "start_time": "2022-05-12T10:51:07.792Z"
      },
      {
        "duration": 5,
        "start_time": "2022-05-12T10:51:07.810Z"
      },
      {
        "duration": 13,
        "start_time": "2022-05-12T10:51:07.816Z"
      },
      {
        "duration": 41,
        "start_time": "2022-05-12T10:51:07.831Z"
      },
      {
        "duration": 10,
        "start_time": "2022-05-12T10:51:07.873Z"
      },
      {
        "duration": 16,
        "start_time": "2022-05-12T10:51:07.885Z"
      },
      {
        "duration": 9,
        "start_time": "2022-05-12T10:51:07.903Z"
      },
      {
        "duration": 58,
        "start_time": "2022-05-12T10:51:07.913Z"
      },
      {
        "duration": 10,
        "start_time": "2022-05-12T10:51:07.973Z"
      },
      {
        "duration": 19,
        "start_time": "2022-05-12T10:51:07.985Z"
      },
      {
        "duration": 24,
        "start_time": "2022-05-12T10:51:08.006Z"
      },
      {
        "duration": 44,
        "start_time": "2022-05-12T10:51:08.032Z"
      },
      {
        "duration": 9,
        "start_time": "2022-05-12T10:51:08.078Z"
      },
      {
        "duration": 33,
        "start_time": "2022-05-12T10:51:08.089Z"
      },
      {
        "duration": 8,
        "start_time": "2022-05-12T10:51:08.124Z"
      },
      {
        "duration": 46,
        "start_time": "2022-05-12T10:51:08.134Z"
      },
      {
        "duration": 24,
        "start_time": "2022-05-12T10:51:08.182Z"
      },
      {
        "duration": 35,
        "start_time": "2022-05-12T10:51:08.208Z"
      },
      {
        "duration": 49,
        "start_time": "2022-05-12T10:51:08.248Z"
      },
      {
        "duration": 14,
        "start_time": "2022-05-12T10:51:08.299Z"
      },
      {
        "duration": 11,
        "start_time": "2022-05-12T10:51:08.314Z"
      },
      {
        "duration": 21,
        "start_time": "2022-05-12T10:51:08.327Z"
      },
      {
        "duration": 14,
        "start_time": "2022-05-12T10:51:08.372Z"
      },
      {
        "duration": 13,
        "start_time": "2022-05-12T10:51:08.388Z"
      },
      {
        "duration": 11,
        "start_time": "2022-05-12T10:51:08.402Z"
      },
      {
        "duration": 19,
        "start_time": "2022-05-12T10:51:08.414Z"
      },
      {
        "duration": 40,
        "start_time": "2022-05-12T10:51:08.435Z"
      },
      {
        "duration": 11,
        "start_time": "2022-05-12T10:51:08.477Z"
      },
      {
        "duration": 5,
        "start_time": "2022-05-12T10:51:08.490Z"
      },
      {
        "duration": 12,
        "start_time": "2022-05-12T10:51:08.497Z"
      },
      {
        "duration": 15,
        "start_time": "2022-05-12T10:51:08.511Z"
      },
      {
        "duration": 46,
        "start_time": "2022-05-12T10:51:08.528Z"
      },
      {
        "duration": 17,
        "start_time": "2022-05-12T11:05:29.199Z"
      },
      {
        "duration": 8,
        "start_time": "2022-05-12T11:10:11.163Z"
      },
      {
        "duration": 14,
        "start_time": "2022-05-12T11:17:59.962Z"
      },
      {
        "duration": 21,
        "start_time": "2022-05-12T11:18:11.749Z"
      },
      {
        "duration": 16,
        "start_time": "2022-05-12T11:18:22.911Z"
      },
      {
        "duration": 8,
        "start_time": "2022-05-12T11:28:53.043Z"
      },
      {
        "duration": 20,
        "start_time": "2022-05-12T11:29:06.364Z"
      },
      {
        "duration": 10,
        "start_time": "2022-05-12T11:30:01.278Z"
      },
      {
        "duration": 8,
        "start_time": "2022-05-12T11:30:29.631Z"
      },
      {
        "duration": 10,
        "start_time": "2022-05-12T11:30:41.096Z"
      },
      {
        "duration": 18,
        "start_time": "2022-05-12T11:30:43.854Z"
      },
      {
        "duration": 7,
        "start_time": "2022-05-12T11:30:47.032Z"
      },
      {
        "duration": 396,
        "start_time": "2022-05-12T11:33:01.864Z"
      },
      {
        "duration": 10,
        "start_time": "2022-05-12T11:33:11.595Z"
      },
      {
        "duration": 496,
        "start_time": "2022-05-12T11:33:28.757Z"
      },
      {
        "duration": 17,
        "start_time": "2022-05-12T11:33:29.255Z"
      },
      {
        "duration": 18,
        "start_time": "2022-05-12T11:33:29.275Z"
      },
      {
        "duration": 11,
        "start_time": "2022-05-12T11:33:29.295Z"
      },
      {
        "duration": 13,
        "start_time": "2022-05-12T11:33:29.308Z"
      },
      {
        "duration": 15,
        "start_time": "2022-05-12T11:33:29.323Z"
      },
      {
        "duration": 36,
        "start_time": "2022-05-12T11:33:29.340Z"
      },
      {
        "duration": 21,
        "start_time": "2022-05-12T11:33:29.378Z"
      },
      {
        "duration": 13,
        "start_time": "2022-05-12T11:33:29.400Z"
      },
      {
        "duration": 13,
        "start_time": "2022-05-12T11:33:29.416Z"
      },
      {
        "duration": 5,
        "start_time": "2022-05-12T11:33:29.431Z"
      },
      {
        "duration": 47,
        "start_time": "2022-05-12T11:33:29.438Z"
      },
      {
        "duration": 12,
        "start_time": "2022-05-12T11:33:29.487Z"
      },
      {
        "duration": 7,
        "start_time": "2022-05-12T11:33:29.501Z"
      },
      {
        "duration": 13,
        "start_time": "2022-05-12T11:33:29.510Z"
      },
      {
        "duration": 8,
        "start_time": "2022-05-12T11:33:29.525Z"
      },
      {
        "duration": 60,
        "start_time": "2022-05-12T11:33:29.535Z"
      },
      {
        "duration": 7,
        "start_time": "2022-05-12T11:33:29.597Z"
      },
      {
        "duration": 14,
        "start_time": "2022-05-12T11:33:29.606Z"
      },
      {
        "duration": 18,
        "start_time": "2022-05-12T11:33:29.622Z"
      },
      {
        "duration": 43,
        "start_time": "2022-05-12T11:33:29.642Z"
      },
      {
        "duration": 8,
        "start_time": "2022-05-12T11:33:29.687Z"
      },
      {
        "duration": 24,
        "start_time": "2022-05-12T11:33:29.696Z"
      },
      {
        "duration": 8,
        "start_time": "2022-05-12T11:33:29.721Z"
      },
      {
        "duration": 43,
        "start_time": "2022-05-12T11:33:29.730Z"
      },
      {
        "duration": 20,
        "start_time": "2022-05-12T11:33:29.777Z"
      },
      {
        "duration": 24,
        "start_time": "2022-05-12T11:33:29.798Z"
      },
      {
        "duration": 47,
        "start_time": "2022-05-12T11:33:29.825Z"
      },
      {
        "duration": 20,
        "start_time": "2022-05-12T11:33:29.874Z"
      },
      {
        "duration": 10,
        "start_time": "2022-05-12T11:33:29.895Z"
      },
      {
        "duration": 21,
        "start_time": "2022-05-12T11:33:29.907Z"
      },
      {
        "duration": 14,
        "start_time": "2022-05-12T11:33:29.929Z"
      },
      {
        "duration": 23,
        "start_time": "2022-05-12T11:33:29.970Z"
      },
      {
        "duration": 12,
        "start_time": "2022-05-12T11:33:29.994Z"
      },
      {
        "duration": 20,
        "start_time": "2022-05-12T11:33:30.008Z"
      },
      {
        "duration": 12,
        "start_time": "2022-05-12T11:33:30.029Z"
      },
      {
        "duration": 40,
        "start_time": "2022-05-12T11:33:30.043Z"
      },
      {
        "duration": 7,
        "start_time": "2022-05-12T11:33:30.085Z"
      },
      {
        "duration": 27,
        "start_time": "2022-05-12T11:33:30.094Z"
      },
      {
        "duration": 18,
        "start_time": "2022-05-12T11:33:30.123Z"
      },
      {
        "duration": 10,
        "start_time": "2022-05-12T11:33:30.143Z"
      },
      {
        "duration": 28,
        "start_time": "2022-05-12T11:33:30.155Z"
      },
      {
        "duration": 13,
        "start_time": "2022-05-12T11:33:30.185Z"
      },
      {
        "duration": 35,
        "start_time": "2022-05-12T11:33:30.200Z"
      },
      {
        "duration": 9,
        "start_time": "2022-05-12T11:33:30.236Z"
      },
      {
        "duration": 459,
        "start_time": "2022-05-12T11:36:22.704Z"
      },
      {
        "duration": 18,
        "start_time": "2022-05-12T11:36:23.165Z"
      },
      {
        "duration": 10,
        "start_time": "2022-05-12T11:36:23.184Z"
      },
      {
        "duration": 11,
        "start_time": "2022-05-12T11:36:23.195Z"
      },
      {
        "duration": 12,
        "start_time": "2022-05-12T11:36:23.208Z"
      },
      {
        "duration": 13,
        "start_time": "2022-05-12T11:36:23.221Z"
      },
      {
        "duration": 39,
        "start_time": "2022-05-12T11:36:23.235Z"
      },
      {
        "duration": 20,
        "start_time": "2022-05-12T11:36:23.278Z"
      },
      {
        "duration": 12,
        "start_time": "2022-05-12T11:36:23.300Z"
      },
      {
        "duration": 14,
        "start_time": "2022-05-12T11:36:23.314Z"
      },
      {
        "duration": 5,
        "start_time": "2022-05-12T11:36:23.330Z"
      },
      {
        "duration": 41,
        "start_time": "2022-05-12T11:36:23.336Z"
      },
      {
        "duration": 15,
        "start_time": "2022-05-12T11:36:23.379Z"
      },
      {
        "duration": 7,
        "start_time": "2022-05-12T11:36:23.396Z"
      },
      {
        "duration": 12,
        "start_time": "2022-05-12T11:36:23.405Z"
      },
      {
        "duration": 7,
        "start_time": "2022-05-12T11:36:23.419Z"
      },
      {
        "duration": 49,
        "start_time": "2022-05-12T11:36:23.427Z"
      },
      {
        "duration": 10,
        "start_time": "2022-05-12T11:36:23.478Z"
      },
      {
        "duration": 16,
        "start_time": "2022-05-12T11:36:23.489Z"
      },
      {
        "duration": 18,
        "start_time": "2022-05-12T11:36:23.507Z"
      },
      {
        "duration": 45,
        "start_time": "2022-05-12T11:36:23.526Z"
      },
      {
        "duration": 13,
        "start_time": "2022-05-12T11:36:23.574Z"
      },
      {
        "duration": 26,
        "start_time": "2022-05-12T11:36:23.588Z"
      },
      {
        "duration": 9,
        "start_time": "2022-05-12T11:36:23.616Z"
      },
      {
        "duration": 15,
        "start_time": "2022-05-12T11:36:23.626Z"
      },
      {
        "duration": 47,
        "start_time": "2022-05-12T11:36:23.643Z"
      },
      {
        "duration": 27,
        "start_time": "2022-05-12T11:36:23.692Z"
      },
      {
        "duration": 54,
        "start_time": "2022-05-12T11:36:23.723Z"
      },
      {
        "duration": 18,
        "start_time": "2022-05-12T11:36:23.781Z"
      },
      {
        "duration": 12,
        "start_time": "2022-05-12T11:36:23.800Z"
      },
      {
        "duration": 21,
        "start_time": "2022-05-12T11:36:23.813Z"
      },
      {
        "duration": 45,
        "start_time": "2022-05-12T11:36:23.836Z"
      },
      {
        "duration": 16,
        "start_time": "2022-05-12T11:36:23.885Z"
      },
      {
        "duration": 11,
        "start_time": "2022-05-12T11:36:23.902Z"
      },
      {
        "duration": 17,
        "start_time": "2022-05-12T11:36:23.915Z"
      },
      {
        "duration": 11,
        "start_time": "2022-05-12T11:36:23.934Z"
      },
      {
        "duration": 38,
        "start_time": "2022-05-12T11:36:23.946Z"
      },
      {
        "duration": 6,
        "start_time": "2022-05-12T11:36:23.986Z"
      },
      {
        "duration": 16,
        "start_time": "2022-05-12T11:36:23.993Z"
      },
      {
        "duration": 14,
        "start_time": "2022-05-12T11:36:24.011Z"
      },
      {
        "duration": 10,
        "start_time": "2022-05-12T11:36:24.027Z"
      },
      {
        "duration": 40,
        "start_time": "2022-05-12T11:36:24.038Z"
      },
      {
        "duration": 12,
        "start_time": "2022-05-12T11:36:24.080Z"
      },
      {
        "duration": 18,
        "start_time": "2022-05-12T11:36:24.093Z"
      },
      {
        "duration": 8,
        "start_time": "2022-05-12T11:36:24.112Z"
      },
      {
        "duration": 13,
        "start_time": "2022-05-12T11:38:02.756Z"
      },
      {
        "duration": 19,
        "start_time": "2022-05-12T11:38:06.013Z"
      },
      {
        "duration": 16,
        "start_time": "2022-05-12T11:38:40.077Z"
      },
      {
        "duration": 18,
        "start_time": "2022-05-12T11:38:43.149Z"
      },
      {
        "duration": 13,
        "start_time": "2022-05-12T11:39:06.002Z"
      },
      {
        "duration": 25,
        "start_time": "2022-05-12T11:39:08.104Z"
      },
      {
        "duration": 77,
        "start_time": "2022-05-12T12:04:23.817Z"
      },
      {
        "duration": 80,
        "start_time": "2022-05-12T12:04:33.342Z"
      },
      {
        "duration": 18,
        "start_time": "2022-05-12T12:04:35.441Z"
      },
      {
        "duration": 8,
        "start_time": "2022-05-12T12:05:06.922Z"
      },
      {
        "duration": 19,
        "start_time": "2022-05-12T12:05:10.292Z"
      },
      {
        "duration": 76,
        "start_time": "2022-05-12T12:08:45.231Z"
      },
      {
        "duration": 85,
        "start_time": "2022-05-12T12:09:02.542Z"
      },
      {
        "duration": 7,
        "start_time": "2022-05-12T12:09:09.031Z"
      },
      {
        "duration": 24,
        "start_time": "2022-05-12T12:09:11.293Z"
      },
      {
        "duration": 205,
        "start_time": "2022-05-12T12:09:20.492Z"
      },
      {
        "duration": 17,
        "start_time": "2022-05-12T12:09:22.868Z"
      },
      {
        "duration": 190,
        "start_time": "2022-05-12T12:10:37.009Z"
      },
      {
        "duration": 7,
        "start_time": "2022-05-12T12:10:41.554Z"
      },
      {
        "duration": 193,
        "start_time": "2022-05-12T12:11:08.419Z"
      },
      {
        "duration": 17,
        "start_time": "2022-05-12T12:11:10.414Z"
      },
      {
        "duration": 8,
        "start_time": "2022-05-12T12:11:13.716Z"
      },
      {
        "duration": 16,
        "start_time": "2022-05-12T12:13:42.960Z"
      },
      {
        "duration": 14,
        "start_time": "2022-05-12T12:13:52.549Z"
      },
      {
        "duration": 11,
        "start_time": "2022-05-12T12:17:24.192Z"
      },
      {
        "duration": 7,
        "start_time": "2022-05-12T12:17:33.039Z"
      },
      {
        "duration": 17,
        "start_time": "2022-05-12T12:17:35.297Z"
      },
      {
        "duration": 77,
        "start_time": "2022-05-12T12:19:05.506Z"
      },
      {
        "duration": 15,
        "start_time": "2022-05-12T12:19:33.134Z"
      },
      {
        "duration": 18,
        "start_time": "2022-05-12T12:19:39.018Z"
      },
      {
        "duration": 15,
        "start_time": "2022-05-12T12:20:15.541Z"
      },
      {
        "duration": 85,
        "start_time": "2022-05-12T12:20:26.040Z"
      },
      {
        "duration": 7,
        "start_time": "2022-05-12T12:22:39.713Z"
      },
      {
        "duration": 17,
        "start_time": "2022-05-12T12:22:41.735Z"
      },
      {
        "duration": 64,
        "start_time": "2022-05-12T12:22:59.921Z"
      },
      {
        "duration": 20,
        "start_time": "2022-05-12T12:23:06.614Z"
      },
      {
        "duration": 15,
        "start_time": "2022-05-12T12:23:22.845Z"
      },
      {
        "duration": 9,
        "start_time": "2022-05-12T12:23:27.444Z"
      },
      {
        "duration": 9,
        "start_time": "2022-05-12T12:23:49.884Z"
      },
      {
        "duration": 17,
        "start_time": "2022-05-12T12:23:56.987Z"
      },
      {
        "duration": 8,
        "start_time": "2022-05-12T12:24:55.763Z"
      },
      {
        "duration": 18,
        "start_time": "2022-05-12T12:24:58.598Z"
      },
      {
        "duration": 15,
        "start_time": "2022-05-12T12:25:36.328Z"
      },
      {
        "duration": 191,
        "start_time": "2022-05-12T12:25:37.524Z"
      },
      {
        "duration": 8,
        "start_time": "2022-05-12T12:25:39.029Z"
      },
      {
        "duration": 17,
        "start_time": "2022-05-12T12:25:41.376Z"
      },
      {
        "duration": 322,
        "start_time": "2022-05-12T12:26:56.049Z"
      },
      {
        "duration": 28,
        "start_time": "2022-05-12T12:26:58.126Z"
      },
      {
        "duration": 320,
        "start_time": "2022-05-12T12:27:16.755Z"
      },
      {
        "duration": 31,
        "start_time": "2022-05-12T12:27:19.346Z"
      },
      {
        "duration": 80,
        "start_time": "2022-05-12T12:31:59.179Z"
      },
      {
        "duration": 91,
        "start_time": "2022-05-12T12:37:51.601Z"
      },
      {
        "duration": 465,
        "start_time": "2022-05-12T12:38:09.234Z"
      },
      {
        "duration": 15,
        "start_time": "2022-05-12T12:38:09.701Z"
      },
      {
        "duration": 10,
        "start_time": "2022-05-12T12:38:09.717Z"
      },
      {
        "duration": 14,
        "start_time": "2022-05-12T12:38:09.729Z"
      },
      {
        "duration": 38,
        "start_time": "2022-05-12T12:38:09.744Z"
      },
      {
        "duration": 15,
        "start_time": "2022-05-12T12:38:09.783Z"
      },
      {
        "duration": 9,
        "start_time": "2022-05-12T12:38:09.799Z"
      },
      {
        "duration": 18,
        "start_time": "2022-05-12T12:38:09.809Z"
      },
      {
        "duration": 12,
        "start_time": "2022-05-12T12:38:09.828Z"
      },
      {
        "duration": 42,
        "start_time": "2022-05-12T12:38:09.842Z"
      },
      {
        "duration": 6,
        "start_time": "2022-05-12T12:38:09.886Z"
      },
      {
        "duration": 13,
        "start_time": "2022-05-12T12:38:09.894Z"
      },
      {
        "duration": 13,
        "start_time": "2022-05-12T12:38:09.909Z"
      },
      {
        "duration": 9,
        "start_time": "2022-05-12T12:38:09.924Z"
      },
      {
        "duration": 14,
        "start_time": "2022-05-12T12:38:09.971Z"
      },
      {
        "duration": 9,
        "start_time": "2022-05-12T12:38:09.986Z"
      },
      {
        "duration": 22,
        "start_time": "2022-05-12T12:38:09.996Z"
      },
      {
        "duration": 8,
        "start_time": "2022-05-12T12:38:10.020Z"
      },
      {
        "duration": 43,
        "start_time": "2022-05-12T12:38:10.029Z"
      },
      {
        "duration": 18,
        "start_time": "2022-05-12T12:38:10.073Z"
      },
      {
        "duration": 13,
        "start_time": "2022-05-12T12:38:10.092Z"
      },
      {
        "duration": 7,
        "start_time": "2022-05-12T12:38:10.107Z"
      },
      {
        "duration": 22,
        "start_time": "2022-05-12T12:38:10.115Z"
      },
      {
        "duration": 8,
        "start_time": "2022-05-12T12:38:10.170Z"
      },
      {
        "duration": 16,
        "start_time": "2022-05-12T12:38:10.179Z"
      },
      {
        "duration": 25,
        "start_time": "2022-05-12T12:38:10.196Z"
      },
      {
        "duration": 25,
        "start_time": "2022-05-12T12:38:10.223Z"
      },
      {
        "duration": 46,
        "start_time": "2022-05-12T12:38:10.251Z"
      },
      {
        "duration": 15,
        "start_time": "2022-05-12T12:38:10.298Z"
      },
      {
        "duration": 11,
        "start_time": "2022-05-12T12:38:10.315Z"
      },
      {
        "duration": 22,
        "start_time": "2022-05-12T12:38:10.328Z"
      },
      {
        "duration": 34,
        "start_time": "2022-05-12T12:38:10.351Z"
      },
      {
        "duration": 13,
        "start_time": "2022-05-12T12:38:10.387Z"
      },
      {
        "duration": 11,
        "start_time": "2022-05-12T12:38:10.402Z"
      },
      {
        "duration": 22,
        "start_time": "2022-05-12T12:38:10.414Z"
      },
      {
        "duration": 36,
        "start_time": "2022-05-12T12:38:10.437Z"
      },
      {
        "duration": 10,
        "start_time": "2022-05-12T12:38:10.475Z"
      },
      {
        "duration": 5,
        "start_time": "2022-05-12T12:38:10.487Z"
      },
      {
        "duration": 13,
        "start_time": "2022-05-12T12:38:10.493Z"
      },
      {
        "duration": 15,
        "start_time": "2022-05-12T12:38:10.507Z"
      },
      {
        "duration": 6,
        "start_time": "2022-05-12T12:38:10.524Z"
      },
      {
        "duration": 1625,
        "start_time": "2022-05-12T12:38:10.531Z"
      },
      {
        "duration": 0,
        "start_time": "2022-05-12T12:38:12.158Z"
      },
      {
        "duration": 0,
        "start_time": "2022-05-12T12:38:12.159Z"
      },
      {
        "duration": 0,
        "start_time": "2022-05-12T12:38:12.160Z"
      },
      {
        "duration": 1402,
        "start_time": "2022-05-12T12:38:55.036Z"
      },
      {
        "duration": 15,
        "start_time": "2022-05-12T12:39:11.275Z"
      },
      {
        "duration": 85,
        "start_time": "2022-05-12T12:39:14.220Z"
      },
      {
        "duration": 14,
        "start_time": "2022-05-12T12:39:22.972Z"
      },
      {
        "duration": 44,
        "start_time": "2022-05-12T12:39:25.341Z"
      },
      {
        "duration": 9,
        "start_time": "2022-05-12T12:39:48.334Z"
      },
      {
        "duration": 15,
        "start_time": "2022-05-12T12:41:30.415Z"
      },
      {
        "duration": 10,
        "start_time": "2022-05-12T12:45:19.286Z"
      },
      {
        "duration": 14,
        "start_time": "2022-05-12T12:45:21.615Z"
      },
      {
        "duration": 10,
        "start_time": "2022-05-12T12:45:29.807Z"
      },
      {
        "duration": 8,
        "start_time": "2022-05-12T13:05:05.595Z"
      },
      {
        "duration": 16,
        "start_time": "2022-05-12T13:05:09.270Z"
      },
      {
        "duration": 12,
        "start_time": "2022-05-12T13:05:37.954Z"
      },
      {
        "duration": 10,
        "start_time": "2022-05-12T13:07:41.580Z"
      },
      {
        "duration": 13,
        "start_time": "2022-05-12T13:07:59.684Z"
      },
      {
        "duration": 12,
        "start_time": "2022-05-12T13:08:24.892Z"
      },
      {
        "duration": 13,
        "start_time": "2022-05-12T13:10:43.160Z"
      },
      {
        "duration": 18,
        "start_time": "2022-05-12T13:13:37.585Z"
      },
      {
        "duration": 20,
        "start_time": "2022-05-12T13:44:32.284Z"
      },
      {
        "duration": 18,
        "start_time": "2022-05-12T13:45:25.291Z"
      },
      {
        "duration": 20,
        "start_time": "2022-05-12T13:45:32.120Z"
      },
      {
        "duration": 1438,
        "start_time": "2022-05-12T13:49:12.236Z"
      },
      {
        "duration": 12,
        "start_time": "2022-05-12T13:49:14.422Z"
      },
      {
        "duration": 21,
        "start_time": "2022-05-12T13:50:46.135Z"
      },
      {
        "duration": 12,
        "start_time": "2022-05-12T13:51:14.197Z"
      },
      {
        "duration": 11,
        "start_time": "2022-05-12T13:52:56.034Z"
      },
      {
        "duration": 13,
        "start_time": "2022-05-12T13:52:59.220Z"
      },
      {
        "duration": 22,
        "start_time": "2022-05-12T13:58:36.660Z"
      },
      {
        "duration": 19,
        "start_time": "2022-05-12T13:58:53.141Z"
      },
      {
        "duration": 19,
        "start_time": "2022-05-12T13:58:58.152Z"
      },
      {
        "duration": 20,
        "start_time": "2022-05-12T13:59:07.090Z"
      },
      {
        "duration": 19,
        "start_time": "2022-05-12T14:02:24.796Z"
      },
      {
        "duration": 37,
        "start_time": "2022-05-12T14:13:19.320Z"
      },
      {
        "duration": 41,
        "start_time": "2022-05-12T14:20:37.928Z"
      },
      {
        "duration": 30,
        "start_time": "2022-05-12T14:21:08.883Z"
      },
      {
        "duration": 30,
        "start_time": "2022-05-12T14:21:28.403Z"
      },
      {
        "duration": 39,
        "start_time": "2022-05-12T14:24:06.763Z"
      },
      {
        "duration": 42,
        "start_time": "2022-05-12T14:24:37.593Z"
      },
      {
        "duration": 22,
        "start_time": "2022-05-12T14:33:02.125Z"
      },
      {
        "duration": 24,
        "start_time": "2022-05-12T14:34:41.829Z"
      },
      {
        "duration": 30,
        "start_time": "2022-05-12T14:35:04.196Z"
      },
      {
        "duration": 23,
        "start_time": "2022-05-12T14:35:35.602Z"
      },
      {
        "duration": 22,
        "start_time": "2022-05-12T14:35:59.361Z"
      },
      {
        "duration": 24,
        "start_time": "2022-05-12T14:37:28.950Z"
      },
      {
        "duration": 24,
        "start_time": "2022-05-12T14:37:40.780Z"
      },
      {
        "duration": 23,
        "start_time": "2022-05-12T14:37:46.157Z"
      },
      {
        "duration": 21,
        "start_time": "2022-05-12T14:37:51.458Z"
      },
      {
        "duration": 22,
        "start_time": "2022-05-12T14:38:09.834Z"
      },
      {
        "duration": 23,
        "start_time": "2022-05-12T14:38:19.840Z"
      },
      {
        "duration": 529,
        "start_time": "2022-05-12T14:38:26.735Z"
      },
      {
        "duration": 15,
        "start_time": "2022-05-12T14:38:27.266Z"
      },
      {
        "duration": 10,
        "start_time": "2022-05-12T14:38:27.282Z"
      },
      {
        "duration": 11,
        "start_time": "2022-05-12T14:38:27.293Z"
      },
      {
        "duration": 13,
        "start_time": "2022-05-12T14:38:27.306Z"
      },
      {
        "duration": 13,
        "start_time": "2022-05-12T14:38:27.321Z"
      },
      {
        "duration": 42,
        "start_time": "2022-05-12T14:38:27.335Z"
      },
      {
        "duration": 20,
        "start_time": "2022-05-12T14:38:27.378Z"
      },
      {
        "duration": 12,
        "start_time": "2022-05-12T14:38:27.400Z"
      },
      {
        "duration": 17,
        "start_time": "2022-05-12T14:38:27.414Z"
      },
      {
        "duration": 5,
        "start_time": "2022-05-12T14:38:27.432Z"
      },
      {
        "duration": 44,
        "start_time": "2022-05-12T14:38:27.439Z"
      },
      {
        "duration": 13,
        "start_time": "2022-05-12T14:38:27.485Z"
      },
      {
        "duration": 8,
        "start_time": "2022-05-12T14:38:27.501Z"
      },
      {
        "duration": 16,
        "start_time": "2022-05-12T14:38:27.510Z"
      },
      {
        "duration": 8,
        "start_time": "2022-05-12T14:38:27.528Z"
      },
      {
        "duration": 51,
        "start_time": "2022-05-12T14:38:27.538Z"
      },
      {
        "duration": 10,
        "start_time": "2022-05-12T14:38:27.591Z"
      },
      {
        "duration": 14,
        "start_time": "2022-05-12T14:38:27.602Z"
      },
      {
        "duration": 16,
        "start_time": "2022-05-12T14:38:27.618Z"
      },
      {
        "duration": 46,
        "start_time": "2022-05-12T14:38:27.636Z"
      },
      {
        "duration": 7,
        "start_time": "2022-05-12T14:38:27.683Z"
      },
      {
        "duration": 23,
        "start_time": "2022-05-12T14:38:27.692Z"
      },
      {
        "duration": 7,
        "start_time": "2022-05-12T14:38:27.717Z"
      },
      {
        "duration": 54,
        "start_time": "2022-05-12T14:38:27.726Z"
      },
      {
        "duration": 16,
        "start_time": "2022-05-12T14:38:27.782Z"
      },
      {
        "duration": 22,
        "start_time": "2022-05-12T14:38:27.800Z"
      },
      {
        "duration": 54,
        "start_time": "2022-05-12T14:38:27.824Z"
      },
      {
        "duration": 14,
        "start_time": "2022-05-12T14:38:27.879Z"
      },
      {
        "duration": 11,
        "start_time": "2022-05-12T14:38:27.895Z"
      },
      {
        "duration": 21,
        "start_time": "2022-05-12T14:38:27.907Z"
      },
      {
        "duration": 45,
        "start_time": "2022-05-12T14:38:27.930Z"
      },
      {
        "duration": 14,
        "start_time": "2022-05-12T14:38:27.977Z"
      },
      {
        "duration": 11,
        "start_time": "2022-05-12T14:38:27.993Z"
      },
      {
        "duration": 18,
        "start_time": "2022-05-12T14:38:28.005Z"
      },
      {
        "duration": 50,
        "start_time": "2022-05-12T14:38:28.025Z"
      },
      {
        "duration": 15,
        "start_time": "2022-05-12T14:38:28.077Z"
      },
      {
        "duration": 8,
        "start_time": "2022-05-12T14:38:28.094Z"
      },
      {
        "duration": 16,
        "start_time": "2022-05-12T14:38:28.104Z"
      },
      {
        "duration": 21,
        "start_time": "2022-05-12T14:38:28.122Z"
      },
      {
        "duration": 10,
        "start_time": "2022-05-12T14:38:28.173Z"
      },
      {
        "duration": 13,
        "start_time": "2022-05-12T14:38:28.185Z"
      },
      {
        "duration": 13,
        "start_time": "2022-05-12T14:38:28.200Z"
      },
      {
        "duration": 7,
        "start_time": "2022-05-12T14:38:28.215Z"
      },
      {
        "duration": 57,
        "start_time": "2022-05-12T14:38:28.224Z"
      },
      {
        "duration": 21,
        "start_time": "2022-05-12T14:38:28.283Z"
      },
      {
        "duration": 22,
        "start_time": "2022-05-12T14:38:51.369Z"
      },
      {
        "duration": 23,
        "start_time": "2022-05-12T14:41:28.157Z"
      },
      {
        "duration": 89,
        "start_time": "2022-05-12T14:45:09.351Z"
      },
      {
        "duration": 22,
        "start_time": "2022-05-12T14:45:42.510Z"
      },
      {
        "duration": 2415,
        "start_time": "2022-05-12T14:50:02.733Z"
      },
      {
        "duration": 1347,
        "start_time": "2022-05-12T14:56:14.892Z"
      },
      {
        "duration": 1249,
        "start_time": "2022-05-12T14:56:18.447Z"
      },
      {
        "duration": 1397,
        "start_time": "2022-05-12T14:57:14.426Z"
      },
      {
        "duration": 1447,
        "start_time": "2022-05-12T14:57:31.407Z"
      },
      {
        "duration": 1252,
        "start_time": "2022-05-12T14:57:53.443Z"
      },
      {
        "duration": 110,
        "start_time": "2022-05-12T14:59:14.698Z"
      },
      {
        "duration": 111,
        "start_time": "2022-05-12T14:59:48.114Z"
      },
      {
        "duration": 10,
        "start_time": "2022-05-12T15:00:20.833Z"
      },
      {
        "duration": 3,
        "start_time": "2022-05-12T15:01:55.637Z"
      },
      {
        "duration": 463,
        "start_time": "2022-05-12T15:02:15.484Z"
      },
      {
        "duration": 15,
        "start_time": "2022-05-12T15:02:15.949Z"
      },
      {
        "duration": 9,
        "start_time": "2022-05-12T15:02:15.971Z"
      },
      {
        "duration": 11,
        "start_time": "2022-05-12T15:02:15.983Z"
      },
      {
        "duration": 13,
        "start_time": "2022-05-12T15:02:15.996Z"
      },
      {
        "duration": 15,
        "start_time": "2022-05-12T15:02:16.010Z"
      },
      {
        "duration": 8,
        "start_time": "2022-05-12T15:02:16.027Z"
      },
      {
        "duration": 50,
        "start_time": "2022-05-12T15:02:16.037Z"
      },
      {
        "duration": 13,
        "start_time": "2022-05-12T15:02:16.089Z"
      },
      {
        "duration": 15,
        "start_time": "2022-05-12T15:02:16.104Z"
      },
      {
        "duration": 5,
        "start_time": "2022-05-12T15:02:16.121Z"
      },
      {
        "duration": 46,
        "start_time": "2022-05-12T15:02:16.127Z"
      },
      {
        "duration": 13,
        "start_time": "2022-05-12T15:02:16.176Z"
      },
      {
        "duration": 7,
        "start_time": "2022-05-12T15:02:16.191Z"
      },
      {
        "duration": 13,
        "start_time": "2022-05-12T15:02:16.199Z"
      },
      {
        "duration": 8,
        "start_time": "2022-05-12T15:02:16.213Z"
      },
      {
        "duration": 54,
        "start_time": "2022-05-12T15:02:16.222Z"
      },
      {
        "duration": 8,
        "start_time": "2022-05-12T15:02:16.278Z"
      },
      {
        "duration": 14,
        "start_time": "2022-05-12T15:02:16.288Z"
      },
      {
        "duration": 17,
        "start_time": "2022-05-12T15:02:16.303Z"
      },
      {
        "duration": 14,
        "start_time": "2022-05-12T15:02:16.321Z"
      },
      {
        "duration": 36,
        "start_time": "2022-05-12T15:02:16.336Z"
      },
      {
        "duration": 23,
        "start_time": "2022-05-12T15:02:16.374Z"
      },
      {
        "duration": 7,
        "start_time": "2022-05-12T15:02:16.399Z"
      },
      {
        "duration": 13,
        "start_time": "2022-05-12T15:02:16.408Z"
      },
      {
        "duration": 16,
        "start_time": "2022-05-12T15:02:16.423Z"
      },
      {
        "duration": 24,
        "start_time": "2022-05-12T15:02:16.471Z"
      },
      {
        "duration": 28,
        "start_time": "2022-05-12T15:02:16.497Z"
      },
      {
        "duration": 15,
        "start_time": "2022-05-12T15:02:16.526Z"
      },
      {
        "duration": 38,
        "start_time": "2022-05-12T15:02:16.542Z"
      },
      {
        "duration": 23,
        "start_time": "2022-05-12T15:02:16.581Z"
      },
      {
        "duration": 15,
        "start_time": "2022-05-12T15:02:16.605Z"
      },
      {
        "duration": 13,
        "start_time": "2022-05-12T15:02:16.622Z"
      },
      {
        "duration": 35,
        "start_time": "2022-05-12T15:02:16.637Z"
      },
      {
        "duration": 16,
        "start_time": "2022-05-12T15:02:16.674Z"
      },
      {
        "duration": 12,
        "start_time": "2022-05-12T15:02:16.692Z"
      },
      {
        "duration": 12,
        "start_time": "2022-05-12T15:02:16.705Z"
      },
      {
        "duration": 5,
        "start_time": "2022-05-12T15:02:16.718Z"
      },
      {
        "duration": 14,
        "start_time": "2022-05-12T15:02:16.725Z"
      },
      {
        "duration": 15,
        "start_time": "2022-05-12T15:02:16.772Z"
      },
      {
        "duration": 8,
        "start_time": "2022-05-12T15:02:16.789Z"
      },
      {
        "duration": 10,
        "start_time": "2022-05-12T15:02:16.799Z"
      },
      {
        "duration": 16,
        "start_time": "2022-05-12T15:02:16.811Z"
      },
      {
        "duration": 8,
        "start_time": "2022-05-12T15:02:16.829Z"
      },
      {
        "duration": 48,
        "start_time": "2022-05-12T15:02:16.839Z"
      },
      {
        "duration": 24,
        "start_time": "2022-05-12T15:02:16.889Z"
      },
      {
        "duration": 21,
        "start_time": "2022-05-12T15:02:16.915Z"
      },
      {
        "duration": 71,
        "start_time": "2022-05-12T16:44:06.706Z"
      },
      {
        "duration": 598,
        "start_time": "2022-05-12T16:44:15.020Z"
      },
      {
        "duration": 21,
        "start_time": "2022-05-12T16:44:15.622Z"
      },
      {
        "duration": 13,
        "start_time": "2022-05-12T16:44:15.645Z"
      },
      {
        "duration": 49,
        "start_time": "2022-05-12T16:44:15.661Z"
      },
      {
        "duration": 20,
        "start_time": "2022-05-12T16:44:15.712Z"
      },
      {
        "duration": 23,
        "start_time": "2022-05-12T16:44:15.735Z"
      },
      {
        "duration": 38,
        "start_time": "2022-05-12T16:44:15.760Z"
      },
      {
        "duration": 28,
        "start_time": "2022-05-12T16:44:15.801Z"
      },
      {
        "duration": 22,
        "start_time": "2022-05-12T16:44:15.833Z"
      },
      {
        "duration": 59,
        "start_time": "2022-05-12T16:44:15.861Z"
      },
      {
        "duration": 9,
        "start_time": "2022-05-12T16:44:15.922Z"
      },
      {
        "duration": 21,
        "start_time": "2022-05-12T16:44:15.934Z"
      },
      {
        "duration": 62,
        "start_time": "2022-05-12T16:44:15.957Z"
      },
      {
        "duration": 11,
        "start_time": "2022-05-12T16:44:16.021Z"
      },
      {
        "duration": 20,
        "start_time": "2022-05-12T16:44:16.034Z"
      },
      {
        "duration": 45,
        "start_time": "2022-05-12T16:44:16.056Z"
      },
      {
        "duration": 38,
        "start_time": "2022-05-12T16:44:16.108Z"
      },
      {
        "duration": 11,
        "start_time": "2022-05-12T16:44:16.149Z"
      },
      {
        "duration": 47,
        "start_time": "2022-05-12T16:44:16.163Z"
      },
      {
        "duration": 32,
        "start_time": "2022-05-12T16:44:16.212Z"
      },
      {
        "duration": 55,
        "start_time": "2022-05-12T16:44:16.246Z"
      },
      {
        "duration": 12,
        "start_time": "2022-05-12T16:44:16.306Z"
      },
      {
        "duration": 38,
        "start_time": "2022-05-12T16:44:16.320Z"
      },
      {
        "duration": 50,
        "start_time": "2022-05-12T16:44:16.360Z"
      },
      {
        "duration": 22,
        "start_time": "2022-05-12T16:44:16.413Z"
      },
      {
        "duration": 24,
        "start_time": "2022-05-12T16:44:16.437Z"
      },
      {
        "duration": 71,
        "start_time": "2022-05-12T16:44:16.463Z"
      },
      {
        "duration": 87,
        "start_time": "2022-05-12T16:44:16.544Z"
      },
      {
        "duration": 21,
        "start_time": "2022-05-12T16:44:16.633Z"
      },
      {
        "duration": 20,
        "start_time": "2022-05-12T16:44:16.656Z"
      },
      {
        "duration": 51,
        "start_time": "2022-05-12T16:44:16.678Z"
      },
      {
        "duration": 21,
        "start_time": "2022-05-12T16:44:16.732Z"
      },
      {
        "duration": 47,
        "start_time": "2022-05-12T16:44:16.755Z"
      },
      {
        "duration": 19,
        "start_time": "2022-05-12T16:44:16.805Z"
      },
      {
        "duration": 24,
        "start_time": "2022-05-12T16:44:16.826Z"
      },
      {
        "duration": 49,
        "start_time": "2022-05-12T16:44:16.852Z"
      },
      {
        "duration": 19,
        "start_time": "2022-05-12T16:44:16.904Z"
      },
      {
        "duration": 7,
        "start_time": "2022-05-12T16:44:16.925Z"
      },
      {
        "duration": 20,
        "start_time": "2022-05-12T16:44:16.934Z"
      },
      {
        "duration": 49,
        "start_time": "2022-05-12T16:44:16.956Z"
      },
      {
        "duration": 12,
        "start_time": "2022-05-12T16:44:17.008Z"
      },
      {
        "duration": 12,
        "start_time": "2022-05-12T16:44:17.023Z"
      },
      {
        "duration": 22,
        "start_time": "2022-05-12T16:44:17.037Z"
      },
      {
        "duration": 40,
        "start_time": "2022-05-12T16:44:17.062Z"
      },
      {
        "duration": 41,
        "start_time": "2022-05-12T16:44:17.105Z"
      },
      {
        "duration": 69,
        "start_time": "2022-05-12T16:44:17.149Z"
      },
      {
        "duration": 31,
        "start_time": "2022-05-12T16:44:17.220Z"
      },
      {
        "duration": 641,
        "start_time": "2022-05-12T16:44:57.008Z"
      },
      {
        "duration": 22,
        "start_time": "2022-05-12T16:44:57.651Z"
      },
      {
        "duration": 37,
        "start_time": "2022-05-12T16:44:57.675Z"
      },
      {
        "duration": 17,
        "start_time": "2022-05-12T16:44:57.715Z"
      },
      {
        "duration": 23,
        "start_time": "2022-05-12T16:44:57.734Z"
      },
      {
        "duration": 60,
        "start_time": "2022-05-12T16:44:57.759Z"
      },
      {
        "duration": 41,
        "start_time": "2022-05-12T16:44:57.821Z"
      },
      {
        "duration": 27,
        "start_time": "2022-05-12T16:44:57.865Z"
      },
      {
        "duration": 26,
        "start_time": "2022-05-12T16:44:57.898Z"
      },
      {
        "duration": 24,
        "start_time": "2022-05-12T16:44:57.928Z"
      },
      {
        "duration": 9,
        "start_time": "2022-05-12T16:44:57.955Z"
      },
      {
        "duration": 22,
        "start_time": "2022-05-12T16:44:58.006Z"
      },
      {
        "duration": 22,
        "start_time": "2022-05-12T16:44:58.030Z"
      },
      {
        "duration": 12,
        "start_time": "2022-05-12T16:44:58.054Z"
      },
      {
        "duration": 48,
        "start_time": "2022-05-12T16:44:58.068Z"
      },
      {
        "duration": 10,
        "start_time": "2022-05-12T16:44:58.118Z"
      },
      {
        "duration": 30,
        "start_time": "2022-05-12T16:44:58.130Z"
      },
      {
        "duration": 45,
        "start_time": "2022-05-12T16:44:58.163Z"
      },
      {
        "duration": 25,
        "start_time": "2022-05-12T16:44:58.210Z"
      },
      {
        "duration": 61,
        "start_time": "2022-05-12T16:44:58.237Z"
      },
      {
        "duration": 22,
        "start_time": "2022-05-12T16:44:58.301Z"
      },
      {
        "duration": 11,
        "start_time": "2022-05-12T16:44:58.325Z"
      },
      {
        "duration": 70,
        "start_time": "2022-05-12T16:44:58.338Z"
      },
      {
        "duration": 14,
        "start_time": "2022-05-12T16:44:58.411Z"
      },
      {
        "duration": 21,
        "start_time": "2022-05-12T16:44:58.428Z"
      },
      {
        "duration": 58,
        "start_time": "2022-05-12T16:44:58.451Z"
      },
      {
        "duration": 41,
        "start_time": "2022-05-12T16:44:58.512Z"
      },
      {
        "duration": 78,
        "start_time": "2022-05-12T16:44:58.558Z"
      },
      {
        "duration": 20,
        "start_time": "2022-05-12T16:44:58.639Z"
      },
      {
        "duration": 36,
        "start_time": "2022-05-12T16:44:58.661Z"
      },
      {
        "duration": 35,
        "start_time": "2022-05-12T16:44:58.700Z"
      },
      {
        "duration": 20,
        "start_time": "2022-05-12T16:44:58.738Z"
      },
      {
        "duration": 59,
        "start_time": "2022-05-12T16:44:58.761Z"
      },
      {
        "duration": 28,
        "start_time": "2022-05-12T16:44:58.824Z"
      },
      {
        "duration": 48,
        "start_time": "2022-05-12T16:44:58.855Z"
      },
      {
        "duration": 20,
        "start_time": "2022-05-12T16:44:58.905Z"
      },
      {
        "duration": 15,
        "start_time": "2022-05-12T16:44:58.927Z"
      },
      {
        "duration": 8,
        "start_time": "2022-05-12T16:44:58.944Z"
      },
      {
        "duration": 62,
        "start_time": "2022-05-12T16:44:58.954Z"
      },
      {
        "duration": 23,
        "start_time": "2022-05-12T16:44:59.019Z"
      },
      {
        "duration": 11,
        "start_time": "2022-05-12T16:44:59.045Z"
      },
      {
        "duration": 52,
        "start_time": "2022-05-12T16:44:59.059Z"
      },
      {
        "duration": 20,
        "start_time": "2022-05-12T16:44:59.114Z"
      },
      {
        "duration": 11,
        "start_time": "2022-05-12T16:44:59.137Z"
      },
      {
        "duration": 68,
        "start_time": "2022-05-12T16:44:59.150Z"
      },
      {
        "duration": 37,
        "start_time": "2022-05-12T16:44:59.220Z"
      },
      {
        "duration": 55,
        "start_time": "2022-05-12T16:44:59.259Z"
      },
      {
        "duration": 35,
        "start_time": "2022-05-12T16:47:29.120Z"
      },
      {
        "duration": 142,
        "start_time": "2022-05-12T16:58:04.353Z"
      },
      {
        "duration": 26,
        "start_time": "2022-05-12T16:58:33.114Z"
      },
      {
        "duration": 20,
        "start_time": "2022-05-12T16:59:07.904Z"
      },
      {
        "duration": 27,
        "start_time": "2022-05-12T17:00:04.391Z"
      },
      {
        "duration": 645,
        "start_time": "2022-05-12T17:00:16.772Z"
      },
      {
        "duration": 22,
        "start_time": "2022-05-12T17:00:17.420Z"
      },
      {
        "duration": 13,
        "start_time": "2022-05-12T17:00:17.445Z"
      },
      {
        "duration": 47,
        "start_time": "2022-05-12T17:00:17.460Z"
      },
      {
        "duration": 24,
        "start_time": "2022-05-12T17:00:17.509Z"
      },
      {
        "duration": 20,
        "start_time": "2022-05-12T17:00:17.535Z"
      },
      {
        "duration": 48,
        "start_time": "2022-05-12T17:00:17.557Z"
      },
      {
        "duration": 24,
        "start_time": "2022-05-12T17:00:17.608Z"
      },
      {
        "duration": 21,
        "start_time": "2022-05-12T17:00:17.634Z"
      },
      {
        "duration": 56,
        "start_time": "2022-05-12T17:00:17.658Z"
      },
      {
        "duration": 7,
        "start_time": "2022-05-12T17:00:17.716Z"
      },
      {
        "duration": 22,
        "start_time": "2022-05-12T17:00:17.726Z"
      },
      {
        "duration": 47,
        "start_time": "2022-05-12T17:00:17.750Z"
      },
      {
        "duration": 21,
        "start_time": "2022-05-12T17:00:17.799Z"
      },
      {
        "duration": 21,
        "start_time": "2022-05-12T17:00:17.822Z"
      },
      {
        "duration": 13,
        "start_time": "2022-05-12T17:00:17.844Z"
      },
      {
        "duration": 55,
        "start_time": "2022-05-12T17:00:17.859Z"
      },
      {
        "duration": 12,
        "start_time": "2022-05-12T17:00:17.917Z"
      },
      {
        "duration": 24,
        "start_time": "2022-05-12T17:00:17.930Z"
      },
      {
        "duration": 62,
        "start_time": "2022-05-12T17:00:17.956Z"
      },
      {
        "duration": 20,
        "start_time": "2022-05-12T17:00:18.020Z"
      },
      {
        "duration": 10,
        "start_time": "2022-05-12T17:00:18.043Z"
      },
      {
        "duration": 79,
        "start_time": "2022-05-12T17:00:18.055Z"
      },
      {
        "duration": 9,
        "start_time": "2022-05-12T17:00:18.137Z"
      },
      {
        "duration": 19,
        "start_time": "2022-05-12T17:00:18.149Z"
      },
      {
        "duration": 30,
        "start_time": "2022-05-12T17:00:18.196Z"
      },
      {
        "duration": 36,
        "start_time": "2022-05-12T17:00:18.228Z"
      },
      {
        "duration": 71,
        "start_time": "2022-05-12T17:00:18.269Z"
      },
      {
        "duration": 20,
        "start_time": "2022-05-12T17:00:18.342Z"
      },
      {
        "duration": 40,
        "start_time": "2022-05-12T17:00:18.364Z"
      },
      {
        "duration": 28,
        "start_time": "2022-05-12T17:00:18.407Z"
      },
      {
        "duration": 19,
        "start_time": "2022-05-12T17:00:18.437Z"
      },
      {
        "duration": 53,
        "start_time": "2022-05-12T17:00:18.459Z"
      },
      {
        "duration": 20,
        "start_time": "2022-05-12T17:00:18.514Z"
      },
      {
        "duration": 23,
        "start_time": "2022-05-12T17:00:18.537Z"
      },
      {
        "duration": 45,
        "start_time": "2022-05-12T17:00:18.562Z"
      },
      {
        "duration": 17,
        "start_time": "2022-05-12T17:00:18.609Z"
      },
      {
        "duration": 7,
        "start_time": "2022-05-12T17:00:18.628Z"
      },
      {
        "duration": 19,
        "start_time": "2022-05-12T17:00:18.637Z"
      },
      {
        "duration": 30,
        "start_time": "2022-05-12T17:00:18.692Z"
      },
      {
        "duration": 13,
        "start_time": "2022-05-12T17:00:18.725Z"
      },
      {
        "duration": 13,
        "start_time": "2022-05-12T17:00:18.740Z"
      },
      {
        "duration": 55,
        "start_time": "2022-05-12T17:00:18.756Z"
      },
      {
        "duration": 18,
        "start_time": "2022-05-12T17:00:18.813Z"
      },
      {
        "duration": 66,
        "start_time": "2022-05-12T17:00:18.833Z"
      },
      {
        "duration": 37,
        "start_time": "2022-05-12T17:00:18.902Z"
      },
      {
        "duration": 59,
        "start_time": "2022-05-12T17:00:18.941Z"
      },
      {
        "duration": 115,
        "start_time": "2022-05-12T17:00:19.002Z"
      },
      {
        "duration": 31,
        "start_time": "2022-05-12T17:01:22.518Z"
      },
      {
        "duration": 29,
        "start_time": "2022-05-12T18:46:40.385Z"
      },
      {
        "duration": 26,
        "start_time": "2022-05-12T18:47:04.110Z"
      },
      {
        "duration": 12,
        "start_time": "2022-05-12T18:47:24.875Z"
      },
      {
        "duration": 1024,
        "start_time": "2022-05-12T18:47:36.548Z"
      },
      {
        "duration": 27,
        "start_time": "2022-05-12T18:47:37.576Z"
      },
      {
        "duration": 13,
        "start_time": "2022-05-12T18:47:37.606Z"
      },
      {
        "duration": 19,
        "start_time": "2022-05-12T18:47:37.622Z"
      },
      {
        "duration": 54,
        "start_time": "2022-05-12T18:47:37.644Z"
      },
      {
        "duration": 21,
        "start_time": "2022-05-12T18:47:37.700Z"
      },
      {
        "duration": 24,
        "start_time": "2022-05-12T18:47:37.724Z"
      },
      {
        "duration": 58,
        "start_time": "2022-05-12T18:47:37.750Z"
      },
      {
        "duration": 27,
        "start_time": "2022-05-12T18:47:37.810Z"
      },
      {
        "duration": 56,
        "start_time": "2022-05-12T18:47:37.839Z"
      },
      {
        "duration": 10,
        "start_time": "2022-05-12T18:47:37.897Z"
      },
      {
        "duration": 27,
        "start_time": "2022-05-12T18:47:37.909Z"
      },
      {
        "duration": 58,
        "start_time": "2022-05-12T18:47:37.939Z"
      },
      {
        "duration": 13,
        "start_time": "2022-05-12T18:47:38.003Z"
      },
      {
        "duration": 21,
        "start_time": "2022-05-12T18:47:38.019Z"
      },
      {
        "duration": 12,
        "start_time": "2022-05-12T18:47:38.042Z"
      },
      {
        "duration": 30,
        "start_time": "2022-05-12T18:47:38.093Z"
      },
      {
        "duration": 11,
        "start_time": "2022-05-12T18:47:38.126Z"
      },
      {
        "duration": 23,
        "start_time": "2022-05-12T18:47:38.139Z"
      },
      {
        "duration": 26,
        "start_time": "2022-05-12T18:47:38.192Z"
      },
      {
        "duration": 23,
        "start_time": "2022-05-12T18:47:38.222Z"
      },
      {
        "duration": 10,
        "start_time": "2022-05-12T18:47:38.247Z"
      },
      {
        "duration": 51,
        "start_time": "2022-05-12T18:47:38.260Z"
      },
      {
        "duration": 10,
        "start_time": "2022-05-12T18:47:38.314Z"
      },
      {
        "duration": 23,
        "start_time": "2022-05-12T18:47:38.326Z"
      },
      {
        "duration": 59,
        "start_time": "2022-05-12T18:47:38.352Z"
      },
      {
        "duration": 43,
        "start_time": "2022-05-12T18:47:38.414Z"
      },
      {
        "duration": 76,
        "start_time": "2022-05-12T18:47:38.460Z"
      },
      {
        "duration": 20,
        "start_time": "2022-05-12T18:47:38.540Z"
      },
      {
        "duration": 50,
        "start_time": "2022-05-12T18:47:38.562Z"
      },
      {
        "duration": 25,
        "start_time": "2022-05-12T18:47:38.614Z"
      },
      {
        "duration": 21,
        "start_time": "2022-05-12T18:47:38.641Z"
      },
      {
        "duration": 39,
        "start_time": "2022-05-12T18:47:38.665Z"
      },
      {
        "duration": 19,
        "start_time": "2022-05-12T18:47:38.706Z"
      },
      {
        "duration": 25,
        "start_time": "2022-05-12T18:47:38.728Z"
      },
      {
        "duration": 54,
        "start_time": "2022-05-12T18:47:38.756Z"
      },
      {
        "duration": 23,
        "start_time": "2022-05-12T18:47:38.812Z"
      },
      {
        "duration": 7,
        "start_time": "2022-05-12T18:47:38.837Z"
      },
      {
        "duration": 54,
        "start_time": "2022-05-12T18:47:38.846Z"
      },
      {
        "duration": 23,
        "start_time": "2022-05-12T18:47:38.902Z"
      },
      {
        "duration": 13,
        "start_time": "2022-05-12T18:47:38.932Z"
      },
      {
        "duration": 52,
        "start_time": "2022-05-12T18:47:38.948Z"
      },
      {
        "duration": 20,
        "start_time": "2022-05-12T18:47:39.003Z"
      },
      {
        "duration": 12,
        "start_time": "2022-05-12T18:47:39.025Z"
      },
      {
        "duration": 84,
        "start_time": "2022-05-12T18:47:39.040Z"
      },
      {
        "duration": 71,
        "start_time": "2022-05-12T18:47:39.126Z"
      },
      {
        "duration": 33,
        "start_time": "2022-05-12T18:47:39.203Z"
      },
      {
        "duration": 30,
        "start_time": "2022-05-12T18:47:39.238Z"
      },
      {
        "duration": 41,
        "start_time": "2022-05-12T18:48:53.675Z"
      },
      {
        "duration": 1016,
        "start_time": "2022-05-12T18:49:05.720Z"
      },
      {
        "duration": 25,
        "start_time": "2022-05-12T18:49:06.739Z"
      },
      {
        "duration": 41,
        "start_time": "2022-05-12T18:49:06.766Z"
      },
      {
        "duration": 21,
        "start_time": "2022-05-12T18:49:06.811Z"
      },
      {
        "duration": 23,
        "start_time": "2022-05-12T18:49:06.834Z"
      },
      {
        "duration": 23,
        "start_time": "2022-05-12T18:49:06.894Z"
      },
      {
        "duration": 16,
        "start_time": "2022-05-12T18:49:06.920Z"
      },
      {
        "duration": 58,
        "start_time": "2022-05-12T18:49:06.940Z"
      },
      {
        "duration": 20,
        "start_time": "2022-05-12T18:49:07.001Z"
      },
      {
        "duration": 24,
        "start_time": "2022-05-12T18:49:07.025Z"
      },
      {
        "duration": 46,
        "start_time": "2022-05-12T18:49:07.051Z"
      },
      {
        "duration": 26,
        "start_time": "2022-05-12T18:49:07.100Z"
      },
      {
        "duration": 22,
        "start_time": "2022-05-12T18:49:07.129Z"
      },
      {
        "duration": 48,
        "start_time": "2022-05-12T18:49:07.153Z"
      },
      {
        "duration": 24,
        "start_time": "2022-05-12T18:49:07.204Z"
      },
      {
        "duration": 18,
        "start_time": "2022-05-12T18:49:07.231Z"
      },
      {
        "duration": 60,
        "start_time": "2022-05-12T18:49:07.252Z"
      },
      {
        "duration": 13,
        "start_time": "2022-05-12T18:49:07.314Z"
      },
      {
        "duration": 24,
        "start_time": "2022-05-12T18:49:07.329Z"
      },
      {
        "duration": 52,
        "start_time": "2022-05-12T18:49:07.355Z"
      },
      {
        "duration": 22,
        "start_time": "2022-05-12T18:49:07.410Z"
      },
      {
        "duration": 13,
        "start_time": "2022-05-12T18:49:07.435Z"
      },
      {
        "duration": 64,
        "start_time": "2022-05-12T18:49:07.450Z"
      },
      {
        "duration": 16,
        "start_time": "2022-05-12T18:49:07.516Z"
      },
      {
        "duration": 22,
        "start_time": "2022-05-12T18:49:07.534Z"
      },
      {
        "duration": 54,
        "start_time": "2022-05-12T18:49:07.558Z"
      },
      {
        "duration": 38,
        "start_time": "2022-05-12T18:49:07.614Z"
      },
      {
        "duration": 64,
        "start_time": "2022-05-12T18:49:07.658Z"
      },
      {
        "duration": 19,
        "start_time": "2022-05-12T18:49:07.724Z"
      },
      {
        "duration": 15,
        "start_time": "2022-05-12T18:49:07.746Z"
      },
      {
        "duration": 28,
        "start_time": "2022-05-12T18:49:07.792Z"
      },
      {
        "duration": 23,
        "start_time": "2022-05-12T18:49:07.823Z"
      },
      {
        "duration": 55,
        "start_time": "2022-05-12T18:49:07.849Z"
      },
      {
        "duration": 20,
        "start_time": "2022-05-12T18:49:07.906Z"
      },
      {
        "duration": 33,
        "start_time": "2022-05-12T18:49:07.928Z"
      },
      {
        "duration": 40,
        "start_time": "2022-05-12T18:49:07.964Z"
      },
      {
        "duration": 17,
        "start_time": "2022-05-12T18:49:08.007Z"
      },
      {
        "duration": 9,
        "start_time": "2022-05-12T18:49:08.026Z"
      },
      {
        "duration": 55,
        "start_time": "2022-05-12T18:49:08.038Z"
      },
      {
        "duration": 22,
        "start_time": "2022-05-12T18:49:08.095Z"
      },
      {
        "duration": 11,
        "start_time": "2022-05-12T18:49:08.119Z"
      },
      {
        "duration": 14,
        "start_time": "2022-05-12T18:49:08.132Z"
      },
      {
        "duration": 53,
        "start_time": "2022-05-12T18:49:08.148Z"
      },
      {
        "duration": 15,
        "start_time": "2022-05-12T18:49:08.203Z"
      },
      {
        "duration": 56,
        "start_time": "2022-05-12T18:49:08.220Z"
      },
      {
        "duration": 42,
        "start_time": "2022-05-12T18:49:08.278Z"
      },
      {
        "duration": 32,
        "start_time": "2022-05-12T18:49:08.322Z"
      },
      {
        "duration": 56,
        "start_time": "2022-05-12T18:49:08.357Z"
      },
      {
        "duration": 653,
        "start_time": "2022-05-13T15:22:09.963Z"
      },
      {
        "duration": 14,
        "start_time": "2022-05-13T15:22:10.619Z"
      },
      {
        "duration": 13,
        "start_time": "2022-05-13T15:22:10.634Z"
      },
      {
        "duration": 29,
        "start_time": "2022-05-13T15:22:10.650Z"
      },
      {
        "duration": 42,
        "start_time": "2022-05-13T15:22:10.680Z"
      },
      {
        "duration": 18,
        "start_time": "2022-05-13T15:22:10.724Z"
      },
      {
        "duration": 9,
        "start_time": "2022-05-13T15:22:10.744Z"
      },
      {
        "duration": 28,
        "start_time": "2022-05-13T15:22:10.755Z"
      },
      {
        "duration": 45,
        "start_time": "2022-05-13T15:22:10.787Z"
      },
      {
        "duration": 16,
        "start_time": "2022-05-13T15:22:10.834Z"
      },
      {
        "duration": 6,
        "start_time": "2022-05-13T15:22:10.851Z"
      },
      {
        "duration": 57,
        "start_time": "2022-05-13T15:22:10.858Z"
      },
      {
        "duration": 14,
        "start_time": "2022-05-13T15:22:10.916Z"
      },
      {
        "duration": 8,
        "start_time": "2022-05-13T15:22:10.932Z"
      },
      {
        "duration": 12,
        "start_time": "2022-05-13T15:22:10.941Z"
      },
      {
        "duration": 11,
        "start_time": "2022-05-13T15:22:26.062Z"
      },
      {
        "duration": 8,
        "start_time": "2022-05-13T15:22:58.889Z"
      },
      {
        "duration": 7,
        "start_time": "2022-05-13T15:23:15.142Z"
      },
      {
        "duration": 5,
        "start_time": "2022-05-13T15:24:02.943Z"
      },
      {
        "duration": 8,
        "start_time": "2022-05-13T15:24:09.154Z"
      },
      {
        "duration": 64,
        "start_time": "2022-05-13T15:24:17.300Z"
      },
      {
        "duration": 208,
        "start_time": "2022-05-13T15:24:34.549Z"
      },
      {
        "duration": 22,
        "start_time": "2022-05-13T15:24:38.317Z"
      },
      {
        "duration": 842,
        "start_time": "2022-05-14T08:54:08.713Z"
      },
      {
        "duration": 32,
        "start_time": "2022-05-14T08:54:09.559Z"
      },
      {
        "duration": 37,
        "start_time": "2022-05-14T08:54:09.593Z"
      },
      {
        "duration": 25,
        "start_time": "2022-05-14T08:54:09.634Z"
      },
      {
        "duration": 32,
        "start_time": "2022-05-14T08:54:09.662Z"
      },
      {
        "duration": 47,
        "start_time": "2022-05-14T08:54:09.696Z"
      },
      {
        "duration": 17,
        "start_time": "2022-05-14T08:54:09.745Z"
      },
      {
        "duration": 32,
        "start_time": "2022-05-14T08:54:09.764Z"
      },
      {
        "duration": 45,
        "start_time": "2022-05-14T08:54:09.798Z"
      },
      {
        "duration": 27,
        "start_time": "2022-05-14T08:54:09.846Z"
      },
      {
        "duration": 8,
        "start_time": "2022-05-14T08:54:09.875Z"
      },
      {
        "duration": 57,
        "start_time": "2022-05-14T08:54:09.885Z"
      },
      {
        "duration": 22,
        "start_time": "2022-05-14T08:54:09.944Z"
      },
      {
        "duration": 13,
        "start_time": "2022-05-14T08:54:09.968Z"
      },
      {
        "duration": 60,
        "start_time": "2022-05-14T08:54:09.983Z"
      },
      {
        "duration": 17,
        "start_time": "2022-05-14T08:54:10.045Z"
      },
      {
        "duration": 67,
        "start_time": "2022-05-14T08:54:10.064Z"
      },
      {
        "duration": 13,
        "start_time": "2022-05-14T08:54:10.133Z"
      },
      {
        "duration": 26,
        "start_time": "2022-05-14T08:54:10.148Z"
      },
      {
        "duration": 71,
        "start_time": "2022-05-14T08:54:10.177Z"
      },
      {
        "duration": 31,
        "start_time": "2022-05-14T08:54:10.251Z"
      },
      {
        "duration": 42,
        "start_time": "2022-05-14T08:54:10.284Z"
      },
      {
        "duration": 49,
        "start_time": "2022-05-14T08:54:25.222Z"
      }
    ],
    "kernelspec": {
      "display_name": "Python 3 (ipykernel)",
      "language": "python",
      "name": "python3"
    },
    "language_info": {
      "codemirror_mode": {
        "name": "ipython",
        "version": 3
      },
      "file_extension": ".py",
      "mimetype": "text/x-python",
      "name": "python",
      "nbconvert_exporter": "python",
      "pygments_lexer": "ipython3",
      "version": "3.9.5"
    },
    "toc": {
      "base_numbering": 1,
      "nav_menu": {},
      "number_sections": true,
      "sideBar": true,
      "skip_h1_title": true,
      "title_cell": "Table of Contents",
      "title_sidebar": "Contents",
      "toc_cell": false,
      "toc_position": {
        "height": "calc(100% - 180px)",
        "left": "10px",
        "top": "150px",
        "width": "361.91px"
      },
      "toc_section_display": true,
      "toc_window_display": true
    },
    "colab": {
      "provenance": []
    }
  },
  "nbformat": 4,
  "nbformat_minor": 5
}