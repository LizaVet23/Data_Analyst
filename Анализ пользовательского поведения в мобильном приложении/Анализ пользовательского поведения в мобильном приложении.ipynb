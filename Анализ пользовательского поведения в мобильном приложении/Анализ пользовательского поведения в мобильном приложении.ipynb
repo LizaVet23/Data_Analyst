{
  "cells": [
    {
      "cell_type": "markdown",
      "source": [
        "# Анализ пользовательского поведения в мобильном приложении"
      ],
      "metadata": {
        "id": "4mpshTFO8HtE"
      }
    },
    {
      "cell_type": "markdown",
      "metadata": {
        "id": "vCvSy5tP8FJP"
      },
      "source": [
        "## Введение"
      ]
    },
    {
      "cell_type": "markdown",
      "metadata": {
        "id": "899Zaouj8FJP"
      },
      "source": [
        "Для нашего мобильного приложения дизайнеры решили изменить шрифт. Но для начала мы решили провести тест с двумя контрольными группами. Две контрольные группы помогут нам выполнить тест более точно. Так же, мы рассмотрим воронки продаж и выявим на каком этапе мы теряем больше всего клиентов."
      ]
    },
    {
      "cell_type": "markdown",
      "metadata": {
        "id": "B5mTt3KG8FJP"
      },
      "source": [
        "## Изучение данных"
      ]
    },
    {
      "cell_type": "markdown",
      "metadata": {
        "id": "KCe9lFua8FJP"
      },
      "source": [
        "Импортируем необходимые библиотеки и откроем предоставленный файл."
      ]
    },
    {
      "cell_type": "code",
      "execution_count": null,
      "metadata": {
        "id": "zjA5Umde8FJP"
      },
      "outputs": [],
      "source": [
        "#импорт библиотек, форматирование\n",
        "import pandas as pd\n",
        "import numpy as np\n",
        "import matplotlib as mpl\n",
        "import matplotlib.pyplot as plt\n",
        "import seaborn as sns\n",
        "import plotly.express as px\n",
        "from scipy import stats as st\n",
        "from plotly import graph_objects as go\n",
        "import re \n",
        "import math as mth\n",
        "\n",
        "pd.options.display.float_format = '{:,.1f}'.format\n",
        "\n",
        "import plotly.io as pio\n",
        "pio.renderers.default = \"png\""
      ]
    },
    {
      "cell_type": "code",
      "execution_count": null,
      "metadata": {
        "id": "cO9xT8OW8FJQ",
        "outputId": "b5ee27c0-03ca-492a-d2ac-58828302c035"
      },
      "outputs": [
        {
          "data": {
            "text/html": [
              "<div>\n",
              "<style scoped>\n",
              "    .dataframe tbody tr th:only-of-type {\n",
              "        vertical-align: middle;\n",
              "    }\n",
              "\n",
              "    .dataframe tbody tr th {\n",
              "        vertical-align: top;\n",
              "    }\n",
              "\n",
              "    .dataframe thead th {\n",
              "        text-align: right;\n",
              "    }\n",
              "</style>\n",
              "<table border=\"1\" class=\"dataframe\">\n",
              "  <thead>\n",
              "    <tr style=\"text-align: right;\">\n",
              "      <th></th>\n",
              "      <th>EventName</th>\n",
              "      <th>DeviceIDHash</th>\n",
              "      <th>EventTimestamp</th>\n",
              "      <th>ExpId</th>\n",
              "    </tr>\n",
              "  </thead>\n",
              "  <tbody>\n",
              "    <tr>\n",
              "      <th>0</th>\n",
              "      <td>MainScreenAppear</td>\n",
              "      <td>4575588528974610257</td>\n",
              "      <td>1564029816</td>\n",
              "      <td>246</td>\n",
              "    </tr>\n",
              "    <tr>\n",
              "      <th>1</th>\n",
              "      <td>MainScreenAppear</td>\n",
              "      <td>7416695313311560658</td>\n",
              "      <td>1564053102</td>\n",
              "      <td>246</td>\n",
              "    </tr>\n",
              "    <tr>\n",
              "      <th>2</th>\n",
              "      <td>PaymentScreenSuccessful</td>\n",
              "      <td>3518123091307005509</td>\n",
              "      <td>1564054127</td>\n",
              "      <td>248</td>\n",
              "    </tr>\n",
              "    <tr>\n",
              "      <th>3</th>\n",
              "      <td>CartScreenAppear</td>\n",
              "      <td>3518123091307005509</td>\n",
              "      <td>1564054127</td>\n",
              "      <td>248</td>\n",
              "    </tr>\n",
              "    <tr>\n",
              "      <th>4</th>\n",
              "      <td>PaymentScreenSuccessful</td>\n",
              "      <td>6217807653094995999</td>\n",
              "      <td>1564055322</td>\n",
              "      <td>248</td>\n",
              "    </tr>\n",
              "  </tbody>\n",
              "</table>\n",
              "</div>"
            ],
            "text/plain": [
              "                 EventName         DeviceIDHash  EventTimestamp  ExpId\n",
              "0         MainScreenAppear  4575588528974610257      1564029816    246\n",
              "1         MainScreenAppear  7416695313311560658      1564053102    246\n",
              "2  PaymentScreenSuccessful  3518123091307005509      1564054127    248\n",
              "3         CartScreenAppear  3518123091307005509      1564054127    248\n",
              "4  PaymentScreenSuccessful  6217807653094995999      1564055322    248"
            ]
          },
          "execution_count": 3,
          "metadata": {},
          "output_type": "execute_result"
        }
      ],
      "source": [
        "#чтение csv файла\n",
        "df = pd.read_csv('/datasets/logs_exp.csv',  sep='\\t')\n",
        "\n",
        "#вывод первых 5 строк датафрейма\n",
        "df.head(5) "
      ]
    },
    {
      "cell_type": "markdown",
      "metadata": {
        "id": "Y7lX4nIa8FJQ"
      },
      "source": [
        "Итак, наша таблица состоит из следующих столбцов:\n",
        "<br>`EventName` — название события;\n",
        "<br>`DeviceIDHash` — уникальный идентификатор пользователя;\n",
        "<br>`EventTimestamp` — время события;\n",
        "<br>`ExpId` — номер эксперимента: 246 и 247 — контрольные группы, а 248 — экспериментальная.\n",
        "<br>Рассмотрим, сколько уникальных значений в столбце `EventName`, что бы избежать дублей"
      ]
    },
    {
      "cell_type": "code",
      "execution_count": null,
      "metadata": {
        "id": "fKyj2s4h8FJQ",
        "outputId": "005f258d-b4cc-4e7b-eb76-251d4de596be"
      },
      "outputs": [
        {
          "data": {
            "text/plain": [
              "array(['MainScreenAppear', 'PaymentScreenSuccessful', 'CartScreenAppear',\n",
              "       'OffersScreenAppear', 'Tutorial'], dtype=object)"
            ]
          },
          "execution_count": 4,
          "metadata": {},
          "output_type": "execute_result"
        }
      ],
      "source": [
        "df['EventName'].unique()"
      ]
    },
    {
      "cell_type": "markdown",
      "metadata": {
        "id": "eFOOQ53P8FJQ"
      },
      "source": [
        "У нас получилось 5 уникальных значений, дублей нет.\n",
        "<br> Так же проверим столбец `ExpId`, в нем должно быть три уникальных значения. "
      ]
    },
    {
      "cell_type": "code",
      "execution_count": null,
      "metadata": {
        "id": "LEyPoOFo8FJQ",
        "outputId": "352ad2f4-d957-46a5-f7a1-9b0bf5b7f918"
      },
      "outputs": [
        {
          "data": {
            "text/plain": [
              "array([246, 248, 247])"
            ]
          },
          "execution_count": 5,
          "metadata": {},
          "output_type": "execute_result"
        }
      ],
      "source": [
        "df['ExpId'].unique()"
      ]
    },
    {
      "cell_type": "markdown",
      "metadata": {
        "id": "TegrN4pB8FJR"
      },
      "source": [
        "Так и вышло, у нас три уникальных значения.\n",
        "<br> Посмотрим общую информацию о датафрейме"
      ]
    },
    {
      "cell_type": "code",
      "execution_count": null,
      "metadata": {
        "scrolled": true,
        "id": "1_AvK8L98FJR",
        "outputId": "8b52f871-737a-4a85-b4ec-9bab8d8ef866"
      },
      "outputs": [
        {
          "name": "stdout",
          "output_type": "stream",
          "text": [
            "<class 'pandas.core.frame.DataFrame'>\n",
            "RangeIndex: 244126 entries, 0 to 244125\n",
            "Data columns (total 4 columns):\n",
            " #   Column          Non-Null Count   Dtype \n",
            "---  ------          --------------   ----- \n",
            " 0   EventName       244126 non-null  object\n",
            " 1   DeviceIDHash    244126 non-null  int64 \n",
            " 2   EventTimestamp  244126 non-null  int64 \n",
            " 3   ExpId           244126 non-null  int64 \n",
            "dtypes: int64(3), object(1)\n",
            "memory usage: 7.5+ MB\n"
          ]
        }
      ],
      "source": [
        "df.info()"
      ]
    },
    {
      "cell_type": "markdown",
      "metadata": {
        "id": "Kj-ONBSC8FJR"
      },
      "source": [
        "Можно отметить, что пропущенных значений в датафрейме нет.\n",
        "<br> Всего у нас 244 126 строк. Первый столбец имеет тип данных *object*, а остальные *int64*"
      ]
    },
    {
      "cell_type": "markdown",
      "metadata": {
        "id": "lJqEV_l-8FJR"
      },
      "source": [
        "## Подготовка данных"
      ]
    },
    {
      "cell_type": "markdown",
      "metadata": {
        "id": "Zht_OIzq8FJR"
      },
      "source": [
        "Переименнуем столбцы, что бы в дальнейшем с ними было удобнее работать."
      ]
    },
    {
      "cell_type": "code",
      "execution_count": null,
      "metadata": {
        "scrolled": false,
        "id": "8F_Wzgp38FJR",
        "outputId": "940c41ea-e3c9-49e1-b854-7a53828f354f"
      },
      "outputs": [
        {
          "data": {
            "text/html": [
              "<div>\n",
              "<style scoped>\n",
              "    .dataframe tbody tr th:only-of-type {\n",
              "        vertical-align: middle;\n",
              "    }\n",
              "\n",
              "    .dataframe tbody tr th {\n",
              "        vertical-align: top;\n",
              "    }\n",
              "\n",
              "    .dataframe thead th {\n",
              "        text-align: right;\n",
              "    }\n",
              "</style>\n",
              "<table border=\"1\" class=\"dataframe\">\n",
              "  <thead>\n",
              "    <tr style=\"text-align: right;\">\n",
              "      <th></th>\n",
              "      <th>event_name</th>\n",
              "      <th>user_id</th>\n",
              "      <th>event_timestamp</th>\n",
              "      <th>exp_id</th>\n",
              "    </tr>\n",
              "  </thead>\n",
              "  <tbody>\n",
              "    <tr>\n",
              "      <th>0</th>\n",
              "      <td>MainScreenAppear</td>\n",
              "      <td>4575588528974610257</td>\n",
              "      <td>1564029816</td>\n",
              "      <td>246</td>\n",
              "    </tr>\n",
              "    <tr>\n",
              "      <th>1</th>\n",
              "      <td>MainScreenAppear</td>\n",
              "      <td>7416695313311560658</td>\n",
              "      <td>1564053102</td>\n",
              "      <td>246</td>\n",
              "    </tr>\n",
              "    <tr>\n",
              "      <th>2</th>\n",
              "      <td>PaymentScreenSuccessful</td>\n",
              "      <td>3518123091307005509</td>\n",
              "      <td>1564054127</td>\n",
              "      <td>248</td>\n",
              "    </tr>\n",
              "  </tbody>\n",
              "</table>\n",
              "</div>"
            ],
            "text/plain": [
              "                event_name              user_id  event_timestamp  exp_id\n",
              "0         MainScreenAppear  4575588528974610257       1564029816     246\n",
              "1         MainScreenAppear  7416695313311560658       1564053102     246\n",
              "2  PaymentScreenSuccessful  3518123091307005509       1564054127     248"
            ]
          },
          "execution_count": 7,
          "metadata": {},
          "output_type": "execute_result"
        }
      ],
      "source": [
        "#переименование столбцов\n",
        "df = df.rename(columns={'EventName': 'event_name', 'DeviceIDHash': 'user_id', 'EventTimestamp': 'event_timestamp', 'ExpId': 'exp_id'})\n",
        "\n",
        "#вывод первых 3 строк датафрейма\n",
        "df.head(3) "
      ]
    },
    {
      "cell_type": "markdown",
      "metadata": {
        "id": "kDzRZ1Pb8FJR"
      },
      "source": [
        "Добавим новый столбец, в котором будет информаци я о дате и времени, т.к. в столбце `event_timestamp` дата зашифрована."
      ]
    },
    {
      "cell_type": "code",
      "execution_count": null,
      "metadata": {
        "scrolled": true,
        "id": "4RRu1zkR8FJR",
        "outputId": "95d09a58-f5bf-4216-8467-4a74327f4988"
      },
      "outputs": [
        {
          "data": {
            "text/html": [
              "<div>\n",
              "<style scoped>\n",
              "    .dataframe tbody tr th:only-of-type {\n",
              "        vertical-align: middle;\n",
              "    }\n",
              "\n",
              "    .dataframe tbody tr th {\n",
              "        vertical-align: top;\n",
              "    }\n",
              "\n",
              "    .dataframe thead th {\n",
              "        text-align: right;\n",
              "    }\n",
              "</style>\n",
              "<table border=\"1\" class=\"dataframe\">\n",
              "  <thead>\n",
              "    <tr style=\"text-align: right;\">\n",
              "      <th></th>\n",
              "      <th>event_name</th>\n",
              "      <th>user_id</th>\n",
              "      <th>event_timestamp</th>\n",
              "      <th>exp_id</th>\n",
              "      <th>date_time</th>\n",
              "    </tr>\n",
              "  </thead>\n",
              "  <tbody>\n",
              "    <tr>\n",
              "      <th>0</th>\n",
              "      <td>MainScreenAppear</td>\n",
              "      <td>4575588528974610257</td>\n",
              "      <td>1564029816</td>\n",
              "      <td>246</td>\n",
              "      <td>2019-07-25 04:43:36</td>\n",
              "    </tr>\n",
              "    <tr>\n",
              "      <th>1</th>\n",
              "      <td>MainScreenAppear</td>\n",
              "      <td>7416695313311560658</td>\n",
              "      <td>1564053102</td>\n",
              "      <td>246</td>\n",
              "      <td>2019-07-25 11:11:42</td>\n",
              "    </tr>\n",
              "    <tr>\n",
              "      <th>2</th>\n",
              "      <td>PaymentScreenSuccessful</td>\n",
              "      <td>3518123091307005509</td>\n",
              "      <td>1564054127</td>\n",
              "      <td>248</td>\n",
              "      <td>2019-07-25 11:28:47</td>\n",
              "    </tr>\n",
              "    <tr>\n",
              "      <th>3</th>\n",
              "      <td>CartScreenAppear</td>\n",
              "      <td>3518123091307005509</td>\n",
              "      <td>1564054127</td>\n",
              "      <td>248</td>\n",
              "      <td>2019-07-25 11:28:47</td>\n",
              "    </tr>\n",
              "    <tr>\n",
              "      <th>4</th>\n",
              "      <td>PaymentScreenSuccessful</td>\n",
              "      <td>6217807653094995999</td>\n",
              "      <td>1564055322</td>\n",
              "      <td>248</td>\n",
              "      <td>2019-07-25 11:48:42</td>\n",
              "    </tr>\n",
              "    <tr>\n",
              "      <th>...</th>\n",
              "      <td>...</td>\n",
              "      <td>...</td>\n",
              "      <td>...</td>\n",
              "      <td>...</td>\n",
              "      <td>...</td>\n",
              "    </tr>\n",
              "    <tr>\n",
              "      <th>244121</th>\n",
              "      <td>MainScreenAppear</td>\n",
              "      <td>4599628364049201812</td>\n",
              "      <td>1565212345</td>\n",
              "      <td>247</td>\n",
              "      <td>2019-08-07 21:12:25</td>\n",
              "    </tr>\n",
              "    <tr>\n",
              "      <th>244122</th>\n",
              "      <td>MainScreenAppear</td>\n",
              "      <td>5849806612437486590</td>\n",
              "      <td>1565212439</td>\n",
              "      <td>246</td>\n",
              "      <td>2019-08-07 21:13:59</td>\n",
              "    </tr>\n",
              "    <tr>\n",
              "      <th>244123</th>\n",
              "      <td>MainScreenAppear</td>\n",
              "      <td>5746969938801999050</td>\n",
              "      <td>1565212483</td>\n",
              "      <td>246</td>\n",
              "      <td>2019-08-07 21:14:43</td>\n",
              "    </tr>\n",
              "    <tr>\n",
              "      <th>244124</th>\n",
              "      <td>MainScreenAppear</td>\n",
              "      <td>5746969938801999050</td>\n",
              "      <td>1565212498</td>\n",
              "      <td>246</td>\n",
              "      <td>2019-08-07 21:14:58</td>\n",
              "    </tr>\n",
              "    <tr>\n",
              "      <th>244125</th>\n",
              "      <td>OffersScreenAppear</td>\n",
              "      <td>5746969938801999050</td>\n",
              "      <td>1565212517</td>\n",
              "      <td>246</td>\n",
              "      <td>2019-08-07 21:15:17</td>\n",
              "    </tr>\n",
              "  </tbody>\n",
              "</table>\n",
              "<p>244126 rows × 5 columns</p>\n",
              "</div>"
            ],
            "text/plain": [
              "                     event_name              user_id  event_timestamp  exp_id  \\\n",
              "0              MainScreenAppear  4575588528974610257       1564029816     246   \n",
              "1              MainScreenAppear  7416695313311560658       1564053102     246   \n",
              "2       PaymentScreenSuccessful  3518123091307005509       1564054127     248   \n",
              "3              CartScreenAppear  3518123091307005509       1564054127     248   \n",
              "4       PaymentScreenSuccessful  6217807653094995999       1564055322     248   \n",
              "...                         ...                  ...              ...     ...   \n",
              "244121         MainScreenAppear  4599628364049201812       1565212345     247   \n",
              "244122         MainScreenAppear  5849806612437486590       1565212439     246   \n",
              "244123         MainScreenAppear  5746969938801999050       1565212483     246   \n",
              "244124         MainScreenAppear  5746969938801999050       1565212498     246   \n",
              "244125       OffersScreenAppear  5746969938801999050       1565212517     246   \n",
              "\n",
              "                 date_time  \n",
              "0      2019-07-25 04:43:36  \n",
              "1      2019-07-25 11:11:42  \n",
              "2      2019-07-25 11:28:47  \n",
              "3      2019-07-25 11:28:47  \n",
              "4      2019-07-25 11:48:42  \n",
              "...                    ...  \n",
              "244121 2019-08-07 21:12:25  \n",
              "244122 2019-08-07 21:13:59  \n",
              "244123 2019-08-07 21:14:43  \n",
              "244124 2019-08-07 21:14:58  \n",
              "244125 2019-08-07 21:15:17  \n",
              "\n",
              "[244126 rows x 5 columns]"
            ]
          },
          "execution_count": 8,
          "metadata": {},
          "output_type": "execute_result"
        }
      ],
      "source": [
        "#создание столбца с датой и временем\n",
        "df['date_time'] = pd.to_datetime(df['event_timestamp'], unit='s')\n",
        "\n",
        "df"
      ]
    },
    {
      "cell_type": "markdown",
      "metadata": {
        "id": "8M8kOHeC8FJS"
      },
      "source": [
        "Так же создадим отдельный столбец с датой без времени."
      ]
    },
    {
      "cell_type": "code",
      "execution_count": null,
      "metadata": {
        "scrolled": true,
        "id": "upSNs2IA8FJS",
        "outputId": "0671d71a-c28e-41a0-da31-e32e9528251d"
      },
      "outputs": [
        {
          "data": {
            "text/html": [
              "<div>\n",
              "<style scoped>\n",
              "    .dataframe tbody tr th:only-of-type {\n",
              "        vertical-align: middle;\n",
              "    }\n",
              "\n",
              "    .dataframe tbody tr th {\n",
              "        vertical-align: top;\n",
              "    }\n",
              "\n",
              "    .dataframe thead th {\n",
              "        text-align: right;\n",
              "    }\n",
              "</style>\n",
              "<table border=\"1\" class=\"dataframe\">\n",
              "  <thead>\n",
              "    <tr style=\"text-align: right;\">\n",
              "      <th></th>\n",
              "      <th>event_name</th>\n",
              "      <th>user_id</th>\n",
              "      <th>event_timestamp</th>\n",
              "      <th>exp_id</th>\n",
              "      <th>date_time</th>\n",
              "      <th>event_date</th>\n",
              "    </tr>\n",
              "  </thead>\n",
              "  <tbody>\n",
              "    <tr>\n",
              "      <th>0</th>\n",
              "      <td>MainScreenAppear</td>\n",
              "      <td>4575588528974610257</td>\n",
              "      <td>1564029816</td>\n",
              "      <td>246</td>\n",
              "      <td>2019-07-25 04:43:36</td>\n",
              "      <td>2019-07-25</td>\n",
              "    </tr>\n",
              "    <tr>\n",
              "      <th>1</th>\n",
              "      <td>MainScreenAppear</td>\n",
              "      <td>7416695313311560658</td>\n",
              "      <td>1564053102</td>\n",
              "      <td>246</td>\n",
              "      <td>2019-07-25 11:11:42</td>\n",
              "      <td>2019-07-25</td>\n",
              "    </tr>\n",
              "    <tr>\n",
              "      <th>2</th>\n",
              "      <td>PaymentScreenSuccessful</td>\n",
              "      <td>3518123091307005509</td>\n",
              "      <td>1564054127</td>\n",
              "      <td>248</td>\n",
              "      <td>2019-07-25 11:28:47</td>\n",
              "      <td>2019-07-25</td>\n",
              "    </tr>\n",
              "    <tr>\n",
              "      <th>3</th>\n",
              "      <td>CartScreenAppear</td>\n",
              "      <td>3518123091307005509</td>\n",
              "      <td>1564054127</td>\n",
              "      <td>248</td>\n",
              "      <td>2019-07-25 11:28:47</td>\n",
              "      <td>2019-07-25</td>\n",
              "    </tr>\n",
              "    <tr>\n",
              "      <th>4</th>\n",
              "      <td>PaymentScreenSuccessful</td>\n",
              "      <td>6217807653094995999</td>\n",
              "      <td>1564055322</td>\n",
              "      <td>248</td>\n",
              "      <td>2019-07-25 11:48:42</td>\n",
              "      <td>2019-07-25</td>\n",
              "    </tr>\n",
              "    <tr>\n",
              "      <th>...</th>\n",
              "      <td>...</td>\n",
              "      <td>...</td>\n",
              "      <td>...</td>\n",
              "      <td>...</td>\n",
              "      <td>...</td>\n",
              "      <td>...</td>\n",
              "    </tr>\n",
              "    <tr>\n",
              "      <th>244121</th>\n",
              "      <td>MainScreenAppear</td>\n",
              "      <td>4599628364049201812</td>\n",
              "      <td>1565212345</td>\n",
              "      <td>247</td>\n",
              "      <td>2019-08-07 21:12:25</td>\n",
              "      <td>2019-08-07</td>\n",
              "    </tr>\n",
              "    <tr>\n",
              "      <th>244122</th>\n",
              "      <td>MainScreenAppear</td>\n",
              "      <td>5849806612437486590</td>\n",
              "      <td>1565212439</td>\n",
              "      <td>246</td>\n",
              "      <td>2019-08-07 21:13:59</td>\n",
              "      <td>2019-08-07</td>\n",
              "    </tr>\n",
              "    <tr>\n",
              "      <th>244123</th>\n",
              "      <td>MainScreenAppear</td>\n",
              "      <td>5746969938801999050</td>\n",
              "      <td>1565212483</td>\n",
              "      <td>246</td>\n",
              "      <td>2019-08-07 21:14:43</td>\n",
              "      <td>2019-08-07</td>\n",
              "    </tr>\n",
              "    <tr>\n",
              "      <th>244124</th>\n",
              "      <td>MainScreenAppear</td>\n",
              "      <td>5746969938801999050</td>\n",
              "      <td>1565212498</td>\n",
              "      <td>246</td>\n",
              "      <td>2019-08-07 21:14:58</td>\n",
              "      <td>2019-08-07</td>\n",
              "    </tr>\n",
              "    <tr>\n",
              "      <th>244125</th>\n",
              "      <td>OffersScreenAppear</td>\n",
              "      <td>5746969938801999050</td>\n",
              "      <td>1565212517</td>\n",
              "      <td>246</td>\n",
              "      <td>2019-08-07 21:15:17</td>\n",
              "      <td>2019-08-07</td>\n",
              "    </tr>\n",
              "  </tbody>\n",
              "</table>\n",
              "<p>244126 rows × 6 columns</p>\n",
              "</div>"
            ],
            "text/plain": [
              "                     event_name              user_id  event_timestamp  exp_id  \\\n",
              "0              MainScreenAppear  4575588528974610257       1564029816     246   \n",
              "1              MainScreenAppear  7416695313311560658       1564053102     246   \n",
              "2       PaymentScreenSuccessful  3518123091307005509       1564054127     248   \n",
              "3              CartScreenAppear  3518123091307005509       1564054127     248   \n",
              "4       PaymentScreenSuccessful  6217807653094995999       1564055322     248   \n",
              "...                         ...                  ...              ...     ...   \n",
              "244121         MainScreenAppear  4599628364049201812       1565212345     247   \n",
              "244122         MainScreenAppear  5849806612437486590       1565212439     246   \n",
              "244123         MainScreenAppear  5746969938801999050       1565212483     246   \n",
              "244124         MainScreenAppear  5746969938801999050       1565212498     246   \n",
              "244125       OffersScreenAppear  5746969938801999050       1565212517     246   \n",
              "\n",
              "                 date_time  event_date  \n",
              "0      2019-07-25 04:43:36  2019-07-25  \n",
              "1      2019-07-25 11:11:42  2019-07-25  \n",
              "2      2019-07-25 11:28:47  2019-07-25  \n",
              "3      2019-07-25 11:28:47  2019-07-25  \n",
              "4      2019-07-25 11:48:42  2019-07-25  \n",
              "...                    ...         ...  \n",
              "244121 2019-08-07 21:12:25  2019-08-07  \n",
              "244122 2019-08-07 21:13:59  2019-08-07  \n",
              "244123 2019-08-07 21:14:43  2019-08-07  \n",
              "244124 2019-08-07 21:14:58  2019-08-07  \n",
              "244125 2019-08-07 21:15:17  2019-08-07  \n",
              "\n",
              "[244126 rows x 6 columns]"
            ]
          },
          "execution_count": 9,
          "metadata": {},
          "output_type": "execute_result"
        }
      ],
      "source": [
        "#создание столбца с датой\n",
        "df[\"event_date\"] = df[\"date_time\"].dt.date\n",
        "\n",
        "df"
      ]
    },
    {
      "cell_type": "markdown",
      "metadata": {
        "id": "XJAVAfAB8FJS"
      },
      "source": [
        "Изменим данные столбца `exp_id` для удобства. Заменим название групп **246** на **А1**,  **247** на **А2** и **248** на **В** с помощью функции."
      ]
    },
    {
      "cell_type": "code",
      "execution_count": null,
      "metadata": {
        "scrolled": true,
        "id": "zf0dwtvB8FJS",
        "outputId": "b4ff8b8a-b553-461b-f33c-a3d121af1511"
      },
      "outputs": [
        {
          "data": {
            "text/html": [
              "<div>\n",
              "<style scoped>\n",
              "    .dataframe tbody tr th:only-of-type {\n",
              "        vertical-align: middle;\n",
              "    }\n",
              "\n",
              "    .dataframe tbody tr th {\n",
              "        vertical-align: top;\n",
              "    }\n",
              "\n",
              "    .dataframe thead th {\n",
              "        text-align: right;\n",
              "    }\n",
              "</style>\n",
              "<table border=\"1\" class=\"dataframe\">\n",
              "  <thead>\n",
              "    <tr style=\"text-align: right;\">\n",
              "      <th></th>\n",
              "      <th>event_name</th>\n",
              "      <th>user_id</th>\n",
              "      <th>event_timestamp</th>\n",
              "      <th>exp_id</th>\n",
              "      <th>date_time</th>\n",
              "      <th>event_date</th>\n",
              "    </tr>\n",
              "  </thead>\n",
              "  <tbody>\n",
              "    <tr>\n",
              "      <th>0</th>\n",
              "      <td>MainScreenAppear</td>\n",
              "      <td>4575588528974610257</td>\n",
              "      <td>1564029816</td>\n",
              "      <td>A1</td>\n",
              "      <td>2019-07-25 04:43:36</td>\n",
              "      <td>2019-07-25</td>\n",
              "    </tr>\n",
              "    <tr>\n",
              "      <th>1</th>\n",
              "      <td>MainScreenAppear</td>\n",
              "      <td>7416695313311560658</td>\n",
              "      <td>1564053102</td>\n",
              "      <td>A1</td>\n",
              "      <td>2019-07-25 11:11:42</td>\n",
              "      <td>2019-07-25</td>\n",
              "    </tr>\n",
              "    <tr>\n",
              "      <th>2</th>\n",
              "      <td>PaymentScreenSuccessful</td>\n",
              "      <td>3518123091307005509</td>\n",
              "      <td>1564054127</td>\n",
              "      <td>B</td>\n",
              "      <td>2019-07-25 11:28:47</td>\n",
              "      <td>2019-07-25</td>\n",
              "    </tr>\n",
              "    <tr>\n",
              "      <th>3</th>\n",
              "      <td>CartScreenAppear</td>\n",
              "      <td>3518123091307005509</td>\n",
              "      <td>1564054127</td>\n",
              "      <td>B</td>\n",
              "      <td>2019-07-25 11:28:47</td>\n",
              "      <td>2019-07-25</td>\n",
              "    </tr>\n",
              "    <tr>\n",
              "      <th>4</th>\n",
              "      <td>PaymentScreenSuccessful</td>\n",
              "      <td>6217807653094995999</td>\n",
              "      <td>1564055322</td>\n",
              "      <td>B</td>\n",
              "      <td>2019-07-25 11:48:42</td>\n",
              "      <td>2019-07-25</td>\n",
              "    </tr>\n",
              "    <tr>\n",
              "      <th>...</th>\n",
              "      <td>...</td>\n",
              "      <td>...</td>\n",
              "      <td>...</td>\n",
              "      <td>...</td>\n",
              "      <td>...</td>\n",
              "      <td>...</td>\n",
              "    </tr>\n",
              "    <tr>\n",
              "      <th>244121</th>\n",
              "      <td>MainScreenAppear</td>\n",
              "      <td>4599628364049201812</td>\n",
              "      <td>1565212345</td>\n",
              "      <td>A2</td>\n",
              "      <td>2019-08-07 21:12:25</td>\n",
              "      <td>2019-08-07</td>\n",
              "    </tr>\n",
              "    <tr>\n",
              "      <th>244122</th>\n",
              "      <td>MainScreenAppear</td>\n",
              "      <td>5849806612437486590</td>\n",
              "      <td>1565212439</td>\n",
              "      <td>A1</td>\n",
              "      <td>2019-08-07 21:13:59</td>\n",
              "      <td>2019-08-07</td>\n",
              "    </tr>\n",
              "    <tr>\n",
              "      <th>244123</th>\n",
              "      <td>MainScreenAppear</td>\n",
              "      <td>5746969938801999050</td>\n",
              "      <td>1565212483</td>\n",
              "      <td>A1</td>\n",
              "      <td>2019-08-07 21:14:43</td>\n",
              "      <td>2019-08-07</td>\n",
              "    </tr>\n",
              "    <tr>\n",
              "      <th>244124</th>\n",
              "      <td>MainScreenAppear</td>\n",
              "      <td>5746969938801999050</td>\n",
              "      <td>1565212498</td>\n",
              "      <td>A1</td>\n",
              "      <td>2019-08-07 21:14:58</td>\n",
              "      <td>2019-08-07</td>\n",
              "    </tr>\n",
              "    <tr>\n",
              "      <th>244125</th>\n",
              "      <td>OffersScreenAppear</td>\n",
              "      <td>5746969938801999050</td>\n",
              "      <td>1565212517</td>\n",
              "      <td>A1</td>\n",
              "      <td>2019-08-07 21:15:17</td>\n",
              "      <td>2019-08-07</td>\n",
              "    </tr>\n",
              "  </tbody>\n",
              "</table>\n",
              "<p>244126 rows × 6 columns</p>\n",
              "</div>"
            ],
            "text/plain": [
              "                     event_name              user_id  event_timestamp exp_id  \\\n",
              "0              MainScreenAppear  4575588528974610257       1564029816     A1   \n",
              "1              MainScreenAppear  7416695313311560658       1564053102     A1   \n",
              "2       PaymentScreenSuccessful  3518123091307005509       1564054127      B   \n",
              "3              CartScreenAppear  3518123091307005509       1564054127      B   \n",
              "4       PaymentScreenSuccessful  6217807653094995999       1564055322      B   \n",
              "...                         ...                  ...              ...    ...   \n",
              "244121         MainScreenAppear  4599628364049201812       1565212345     A2   \n",
              "244122         MainScreenAppear  5849806612437486590       1565212439     A1   \n",
              "244123         MainScreenAppear  5746969938801999050       1565212483     A1   \n",
              "244124         MainScreenAppear  5746969938801999050       1565212498     A1   \n",
              "244125       OffersScreenAppear  5746969938801999050       1565212517     A1   \n",
              "\n",
              "                 date_time  event_date  \n",
              "0      2019-07-25 04:43:36  2019-07-25  \n",
              "1      2019-07-25 11:11:42  2019-07-25  \n",
              "2      2019-07-25 11:28:47  2019-07-25  \n",
              "3      2019-07-25 11:28:47  2019-07-25  \n",
              "4      2019-07-25 11:48:42  2019-07-25  \n",
              "...                    ...         ...  \n",
              "244121 2019-08-07 21:12:25  2019-08-07  \n",
              "244122 2019-08-07 21:13:59  2019-08-07  \n",
              "244123 2019-08-07 21:14:43  2019-08-07  \n",
              "244124 2019-08-07 21:14:58  2019-08-07  \n",
              "244125 2019-08-07 21:15:17  2019-08-07  \n",
              "\n",
              "[244126 rows x 6 columns]"
            ]
          },
          "execution_count": 10,
          "metadata": {},
          "output_type": "execute_result"
        }
      ],
      "source": [
        "def test_group(i):\n",
        "    if i==246:\n",
        "        return 'A1'\n",
        "    elif i==247:\n",
        "        return 'A2'\n",
        "    elif i==248:\n",
        "        return 'B'\n",
        "    else:\n",
        "        return 'UnknownGroup'\n",
        "\n",
        "df['exp_id'] = df['exp_id'].apply(test_group)\n",
        "df"
      ]
    },
    {
      "cell_type": "markdown",
      "metadata": {
        "id": "UBnV65PE8FJS"
      },
      "source": [
        "Проверим есть ли явные дубликаты в данных."
      ]
    },
    {
      "cell_type": "code",
      "execution_count": null,
      "metadata": {
        "scrolled": false,
        "id": "eVM-eC4A8FJS",
        "outputId": "074684f0-9a4d-432e-f3f6-a68f17d3182b"
      },
      "outputs": [
        {
          "data": {
            "text/plain": [
              "413"
            ]
          },
          "execution_count": 11,
          "metadata": {},
          "output_type": "execute_result"
        }
      ],
      "source": [
        "df.duplicated().sum()"
      ]
    },
    {
      "cell_type": "code",
      "execution_count": null,
      "metadata": {
        "id": "u0mU1adg8FJS",
        "outputId": "46b830af-adbf-429c-c11d-029844762148"
      },
      "outputs": [
        {
          "data": {
            "text/html": [
              "<div>\n",
              "<style scoped>\n",
              "    .dataframe tbody tr th:only-of-type {\n",
              "        vertical-align: middle;\n",
              "    }\n",
              "\n",
              "    .dataframe tbody tr th {\n",
              "        vertical-align: top;\n",
              "    }\n",
              "\n",
              "    .dataframe thead th {\n",
              "        text-align: right;\n",
              "    }\n",
              "</style>\n",
              "<table border=\"1\" class=\"dataframe\">\n",
              "  <thead>\n",
              "    <tr style=\"text-align: right;\">\n",
              "      <th></th>\n",
              "      <th>event_name</th>\n",
              "      <th>user_id</th>\n",
              "      <th>event_timestamp</th>\n",
              "      <th>exp_id</th>\n",
              "      <th>date_time</th>\n",
              "      <th>event_date</th>\n",
              "    </tr>\n",
              "  </thead>\n",
              "  <tbody>\n",
              "    <tr>\n",
              "      <th>453</th>\n",
              "      <td>MainScreenAppear</td>\n",
              "      <td>5613408041324010552</td>\n",
              "      <td>1564474784</td>\n",
              "      <td>B</td>\n",
              "      <td>2019-07-30 08:19:44</td>\n",
              "      <td>2019-07-30</td>\n",
              "    </tr>\n",
              "    <tr>\n",
              "      <th>2350</th>\n",
              "      <td>CartScreenAppear</td>\n",
              "      <td>1694940645335807244</td>\n",
              "      <td>1564609899</td>\n",
              "      <td>B</td>\n",
              "      <td>2019-07-31 21:51:39</td>\n",
              "      <td>2019-07-31</td>\n",
              "    </tr>\n",
              "    <tr>\n",
              "      <th>3573</th>\n",
              "      <td>MainScreenAppear</td>\n",
              "      <td>434103746454591587</td>\n",
              "      <td>1564628377</td>\n",
              "      <td>B</td>\n",
              "      <td>2019-08-01 02:59:37</td>\n",
              "      <td>2019-08-01</td>\n",
              "    </tr>\n",
              "    <tr>\n",
              "      <th>4076</th>\n",
              "      <td>MainScreenAppear</td>\n",
              "      <td>3761373764179762633</td>\n",
              "      <td>1564631266</td>\n",
              "      <td>A2</td>\n",
              "      <td>2019-08-01 03:47:46</td>\n",
              "      <td>2019-08-01</td>\n",
              "    </tr>\n",
              "    <tr>\n",
              "      <th>4803</th>\n",
              "      <td>MainScreenAppear</td>\n",
              "      <td>2835328739789306622</td>\n",
              "      <td>1564634641</td>\n",
              "      <td>B</td>\n",
              "      <td>2019-08-01 04:44:01</td>\n",
              "      <td>2019-08-01</td>\n",
              "    </tr>\n",
              "    <tr>\n",
              "      <th>5641</th>\n",
              "      <td>CartScreenAppear</td>\n",
              "      <td>4248762472840564256</td>\n",
              "      <td>1564637764</td>\n",
              "      <td>B</td>\n",
              "      <td>2019-08-01 05:36:04</td>\n",
              "      <td>2019-08-01</td>\n",
              "    </tr>\n",
              "    <tr>\n",
              "      <th>5875</th>\n",
              "      <td>PaymentScreenSuccessful</td>\n",
              "      <td>6427012997733591237</td>\n",
              "      <td>1564638452</td>\n",
              "      <td>B</td>\n",
              "      <td>2019-08-01 05:47:32</td>\n",
              "      <td>2019-08-01</td>\n",
              "    </tr>\n",
              "    <tr>\n",
              "      <th>7249</th>\n",
              "      <td>OffersScreenAppear</td>\n",
              "      <td>7224691986599895551</td>\n",
              "      <td>1564641846</td>\n",
              "      <td>A1</td>\n",
              "      <td>2019-08-01 06:44:06</td>\n",
              "      <td>2019-08-01</td>\n",
              "    </tr>\n",
              "    <tr>\n",
              "      <th>8065</th>\n",
              "      <td>CartScreenAppear</td>\n",
              "      <td>8189122927585332969</td>\n",
              "      <td>1564643929</td>\n",
              "      <td>B</td>\n",
              "      <td>2019-08-01 07:18:49</td>\n",
              "      <td>2019-08-01</td>\n",
              "    </tr>\n",
              "    <tr>\n",
              "      <th>9179</th>\n",
              "      <td>MainScreenAppear</td>\n",
              "      <td>2230705996155527339</td>\n",
              "      <td>1564646087</td>\n",
              "      <td>A1</td>\n",
              "      <td>2019-08-01 07:54:47</td>\n",
              "      <td>2019-08-01</td>\n",
              "    </tr>\n",
              "    <tr>\n",
              "      <th>9311</th>\n",
              "      <td>MainScreenAppear</td>\n",
              "      <td>5496043151846125970</td>\n",
              "      <td>1564646283</td>\n",
              "      <td>B</td>\n",
              "      <td>2019-08-01 07:58:03</td>\n",
              "      <td>2019-08-01</td>\n",
              "    </tr>\n",
              "    <tr>\n",
              "      <th>9990</th>\n",
              "      <td>PaymentScreenSuccessful</td>\n",
              "      <td>7035352794299231933</td>\n",
              "      <td>1564647627</td>\n",
              "      <td>B</td>\n",
              "      <td>2019-08-01 08:20:27</td>\n",
              "      <td>2019-08-01</td>\n",
              "    </tr>\n",
              "    <tr>\n",
              "      <th>12454</th>\n",
              "      <td>PaymentScreenSuccessful</td>\n",
              "      <td>5152160705477623487</td>\n",
              "      <td>1564652139</td>\n",
              "      <td>A2</td>\n",
              "      <td>2019-08-01 09:35:39</td>\n",
              "      <td>2019-08-01</td>\n",
              "    </tr>\n",
              "    <tr>\n",
              "      <th>13055</th>\n",
              "      <td>PaymentScreenSuccessful</td>\n",
              "      <td>6258460144399027762</td>\n",
              "      <td>1564653224</td>\n",
              "      <td>A2</td>\n",
              "      <td>2019-08-01 09:53:44</td>\n",
              "      <td>2019-08-01</td>\n",
              "    </tr>\n",
              "    <tr>\n",
              "      <th>14333</th>\n",
              "      <td>CartScreenAppear</td>\n",
              "      <td>1807104407388801321</td>\n",
              "      <td>1564655427</td>\n",
              "      <td>B</td>\n",
              "      <td>2019-08-01 10:30:27</td>\n",
              "      <td>2019-08-01</td>\n",
              "    </tr>\n",
              "    <tr>\n",
              "      <th>15304</th>\n",
              "      <td>PaymentScreenSuccessful</td>\n",
              "      <td>8125832085431322921</td>\n",
              "      <td>1564657270</td>\n",
              "      <td>A1</td>\n",
              "      <td>2019-08-01 11:01:10</td>\n",
              "      <td>2019-08-01</td>\n",
              "    </tr>\n",
              "    <tr>\n",
              "      <th>15746</th>\n",
              "      <td>PaymentScreenSuccessful</td>\n",
              "      <td>2877433916175408776</td>\n",
              "      <td>1564658001</td>\n",
              "      <td>A2</td>\n",
              "      <td>2019-08-01 11:13:21</td>\n",
              "      <td>2019-08-01</td>\n",
              "    </tr>\n",
              "    <tr>\n",
              "      <th>15751</th>\n",
              "      <td>PaymentScreenSuccessful</td>\n",
              "      <td>3528217211962170139</td>\n",
              "      <td>1564658003</td>\n",
              "      <td>A2</td>\n",
              "      <td>2019-08-01 11:13:23</td>\n",
              "      <td>2019-08-01</td>\n",
              "    </tr>\n",
              "    <tr>\n",
              "      <th>15752</th>\n",
              "      <td>PaymentScreenSuccessful</td>\n",
              "      <td>3528217211962170139</td>\n",
              "      <td>1564658003</td>\n",
              "      <td>A2</td>\n",
              "      <td>2019-08-01 11:13:23</td>\n",
              "      <td>2019-08-01</td>\n",
              "    </tr>\n",
              "    <tr>\n",
              "      <th>15753</th>\n",
              "      <td>PaymentScreenSuccessful</td>\n",
              "      <td>3528217211962170139</td>\n",
              "      <td>1564658003</td>\n",
              "      <td>A2</td>\n",
              "      <td>2019-08-01 11:13:23</td>\n",
              "      <td>2019-08-01</td>\n",
              "    </tr>\n",
              "    <tr>\n",
              "      <th>17037</th>\n",
              "      <td>CartScreenAppear</td>\n",
              "      <td>197027893265565660</td>\n",
              "      <td>1564659614</td>\n",
              "      <td>A1</td>\n",
              "      <td>2019-08-01 11:40:14</td>\n",
              "      <td>2019-08-01</td>\n",
              "    </tr>\n",
              "    <tr>\n",
              "      <th>17763</th>\n",
              "      <td>MainScreenAppear</td>\n",
              "      <td>677967665205174414</td>\n",
              "      <td>1564660750</td>\n",
              "      <td>A1</td>\n",
              "      <td>2019-08-01 11:59:10</td>\n",
              "      <td>2019-08-01</td>\n",
              "    </tr>\n",
              "    <tr>\n",
              "      <th>17895</th>\n",
              "      <td>PaymentScreenSuccessful</td>\n",
              "      <td>7738058666231999878</td>\n",
              "      <td>1564660983</td>\n",
              "      <td>A1</td>\n",
              "      <td>2019-08-01 12:03:03</td>\n",
              "      <td>2019-08-01</td>\n",
              "    </tr>\n",
              "    <tr>\n",
              "      <th>17896</th>\n",
              "      <td>PaymentScreenSuccessful</td>\n",
              "      <td>7738058666231999878</td>\n",
              "      <td>1564660983</td>\n",
              "      <td>A1</td>\n",
              "      <td>2019-08-01 12:03:03</td>\n",
              "      <td>2019-08-01</td>\n",
              "    </tr>\n",
              "    <tr>\n",
              "      <th>19633</th>\n",
              "      <td>PaymentScreenSuccessful</td>\n",
              "      <td>1568403033187645799</td>\n",
              "      <td>1564663323</td>\n",
              "      <td>B</td>\n",
              "      <td>2019-08-01 12:42:03</td>\n",
              "      <td>2019-08-01</td>\n",
              "    </tr>\n",
              "    <tr>\n",
              "      <th>21001</th>\n",
              "      <td>PaymentScreenSuccessful</td>\n",
              "      <td>4980045449118619005</td>\n",
              "      <td>1564665638</td>\n",
              "      <td>A2</td>\n",
              "      <td>2019-08-01 13:20:38</td>\n",
              "      <td>2019-08-01</td>\n",
              "    </tr>\n",
              "    <tr>\n",
              "      <th>21003</th>\n",
              "      <td>PaymentScreenSuccessful</td>\n",
              "      <td>4980045449118619005</td>\n",
              "      <td>1564665639</td>\n",
              "      <td>A2</td>\n",
              "      <td>2019-08-01 13:20:39</td>\n",
              "      <td>2019-08-01</td>\n",
              "    </tr>\n",
              "    <tr>\n",
              "      <th>21004</th>\n",
              "      <td>PaymentScreenSuccessful</td>\n",
              "      <td>4980045449118619005</td>\n",
              "      <td>1564665639</td>\n",
              "      <td>A2</td>\n",
              "      <td>2019-08-01 13:20:39</td>\n",
              "      <td>2019-08-01</td>\n",
              "    </tr>\n",
              "    <tr>\n",
              "      <th>21006</th>\n",
              "      <td>PaymentScreenSuccessful</td>\n",
              "      <td>4980045449118619005</td>\n",
              "      <td>1564665639</td>\n",
              "      <td>A2</td>\n",
              "      <td>2019-08-01 13:20:39</td>\n",
              "      <td>2019-08-01</td>\n",
              "    </tr>\n",
              "    <tr>\n",
              "      <th>21008</th>\n",
              "      <td>PaymentScreenSuccessful</td>\n",
              "      <td>4980045449118619005</td>\n",
              "      <td>1564665640</td>\n",
              "      <td>A2</td>\n",
              "      <td>2019-08-01 13:20:40</td>\n",
              "      <td>2019-08-01</td>\n",
              "    </tr>\n",
              "  </tbody>\n",
              "</table>\n",
              "</div>"
            ],
            "text/plain": [
              "                    event_name              user_id  event_timestamp exp_id  \\\n",
              "453           MainScreenAppear  5613408041324010552       1564474784      B   \n",
              "2350          CartScreenAppear  1694940645335807244       1564609899      B   \n",
              "3573          MainScreenAppear   434103746454591587       1564628377      B   \n",
              "4076          MainScreenAppear  3761373764179762633       1564631266     A2   \n",
              "4803          MainScreenAppear  2835328739789306622       1564634641      B   \n",
              "5641          CartScreenAppear  4248762472840564256       1564637764      B   \n",
              "5875   PaymentScreenSuccessful  6427012997733591237       1564638452      B   \n",
              "7249        OffersScreenAppear  7224691986599895551       1564641846     A1   \n",
              "8065          CartScreenAppear  8189122927585332969       1564643929      B   \n",
              "9179          MainScreenAppear  2230705996155527339       1564646087     A1   \n",
              "9311          MainScreenAppear  5496043151846125970       1564646283      B   \n",
              "9990   PaymentScreenSuccessful  7035352794299231933       1564647627      B   \n",
              "12454  PaymentScreenSuccessful  5152160705477623487       1564652139     A2   \n",
              "13055  PaymentScreenSuccessful  6258460144399027762       1564653224     A2   \n",
              "14333         CartScreenAppear  1807104407388801321       1564655427      B   \n",
              "15304  PaymentScreenSuccessful  8125832085431322921       1564657270     A1   \n",
              "15746  PaymentScreenSuccessful  2877433916175408776       1564658001     A2   \n",
              "15751  PaymentScreenSuccessful  3528217211962170139       1564658003     A2   \n",
              "15752  PaymentScreenSuccessful  3528217211962170139       1564658003     A2   \n",
              "15753  PaymentScreenSuccessful  3528217211962170139       1564658003     A2   \n",
              "17037         CartScreenAppear   197027893265565660       1564659614     A1   \n",
              "17763         MainScreenAppear   677967665205174414       1564660750     A1   \n",
              "17895  PaymentScreenSuccessful  7738058666231999878       1564660983     A1   \n",
              "17896  PaymentScreenSuccessful  7738058666231999878       1564660983     A1   \n",
              "19633  PaymentScreenSuccessful  1568403033187645799       1564663323      B   \n",
              "21001  PaymentScreenSuccessful  4980045449118619005       1564665638     A2   \n",
              "21003  PaymentScreenSuccessful  4980045449118619005       1564665639     A2   \n",
              "21004  PaymentScreenSuccessful  4980045449118619005       1564665639     A2   \n",
              "21006  PaymentScreenSuccessful  4980045449118619005       1564665639     A2   \n",
              "21008  PaymentScreenSuccessful  4980045449118619005       1564665640     A2   \n",
              "\n",
              "                date_time  event_date  \n",
              "453   2019-07-30 08:19:44  2019-07-30  \n",
              "2350  2019-07-31 21:51:39  2019-07-31  \n",
              "3573  2019-08-01 02:59:37  2019-08-01  \n",
              "4076  2019-08-01 03:47:46  2019-08-01  \n",
              "4803  2019-08-01 04:44:01  2019-08-01  \n",
              "5641  2019-08-01 05:36:04  2019-08-01  \n",
              "5875  2019-08-01 05:47:32  2019-08-01  \n",
              "7249  2019-08-01 06:44:06  2019-08-01  \n",
              "8065  2019-08-01 07:18:49  2019-08-01  \n",
              "9179  2019-08-01 07:54:47  2019-08-01  \n",
              "9311  2019-08-01 07:58:03  2019-08-01  \n",
              "9990  2019-08-01 08:20:27  2019-08-01  \n",
              "12454 2019-08-01 09:35:39  2019-08-01  \n",
              "13055 2019-08-01 09:53:44  2019-08-01  \n",
              "14333 2019-08-01 10:30:27  2019-08-01  \n",
              "15304 2019-08-01 11:01:10  2019-08-01  \n",
              "15746 2019-08-01 11:13:21  2019-08-01  \n",
              "15751 2019-08-01 11:13:23  2019-08-01  \n",
              "15752 2019-08-01 11:13:23  2019-08-01  \n",
              "15753 2019-08-01 11:13:23  2019-08-01  \n",
              "17037 2019-08-01 11:40:14  2019-08-01  \n",
              "17763 2019-08-01 11:59:10  2019-08-01  \n",
              "17895 2019-08-01 12:03:03  2019-08-01  \n",
              "17896 2019-08-01 12:03:03  2019-08-01  \n",
              "19633 2019-08-01 12:42:03  2019-08-01  \n",
              "21001 2019-08-01 13:20:38  2019-08-01  \n",
              "21003 2019-08-01 13:20:39  2019-08-01  \n",
              "21004 2019-08-01 13:20:39  2019-08-01  \n",
              "21006 2019-08-01 13:20:39  2019-08-01  \n",
              "21008 2019-08-01 13:20:40  2019-08-01  "
            ]
          },
          "execution_count": 12,
          "metadata": {},
          "output_type": "execute_result"
        }
      ],
      "source": [
        "df[df.duplicated()].head(30)"
      ]
    },
    {
      "cell_type": "markdown",
      "metadata": {
        "id": "VY4WdmfB8FJT"
      },
      "source": [
        "Дубликатов оказалось *413*.  Чаще всего  дубликаты возникают по двум причинам: человеческий фактор и техническая ошибка. В данном случае возможны оба варианта. Например, строки, которые дублируются подряд, скорее всего возникли из-за повторно отправленной информации о перехоже на ту или иную страницу приложения.\n",
        "<br>Удалим дубликаты."
      ]
    },
    {
      "cell_type": "code",
      "execution_count": null,
      "metadata": {
        "scrolled": true,
        "id": "QPfkqmIO8FJT"
      },
      "outputs": [],
      "source": [
        "#удаление дубликатов\n",
        "df = df.drop_duplicates().reset_index()"
      ]
    },
    {
      "cell_type": "markdown",
      "metadata": {
        "id": "sPh0Lq4g8FJU"
      },
      "source": [
        "##  Проверка данных"
      ]
    },
    {
      "cell_type": "markdown",
      "metadata": {
        "id": "ZlZScekZ8FJU"
      },
      "source": [
        "Как мы помним уникальный событий в логe 5. Перечислим их:\n",
        "<br>`MainScreenAppear` - Открытие главной страницы,\n",
        "<br>`OffersScreenAppear`  - Открытие страницы с товарами,\n",
        "<br>`CartScreenAppear` - Открытие страницы корзины,\n",
        "<br>`PaymentScreenSuccessful` - Страница успешного платежа, \n",
        "<br>`Tutorial` - Руководство.\n",
        "<br>Вcего событий 243 713\n",
        "<br>Найдем количество уникальных пользователей"
      ]
    },
    {
      "cell_type": "code",
      "execution_count": null,
      "metadata": {
        "id": "dhcyu38y8FJU",
        "outputId": "66b0a2b6-8db4-455c-e79d-b027f032817a"
      },
      "outputs": [
        {
          "data": {
            "text/plain": [
              "7551"
            ]
          },
          "execution_count": 15,
          "metadata": {},
          "output_type": "execute_result"
        }
      ],
      "source": [
        "#подсчет уникальных id пользователей\n",
        "uniq_user = df['user_id'].nunique()\n",
        "uniq_user"
      ]
    },
    {
      "cell_type": "markdown",
      "metadata": {
        "id": "NdkBXmS58FJU"
      },
      "source": [
        "Рассмотрим, сколько действий в среднем приходится на каждого пользователя."
      ]
    },
    {
      "cell_type": "code",
      "execution_count": null,
      "metadata": {
        "scrolled": true,
        "id": "c3egKo2K8FJU",
        "outputId": "573fc2a4-8ac4-4205-f8d5-fd705dbad66c"
      },
      "outputs": [
        {
          "data": {
            "text/plain": [
              "32.3"
            ]
          },
          "execution_count": 16,
          "metadata": {},
          "output_type": "execute_result"
        }
      ],
      "source": [
        "#подсчет среднего числа действий на каждого пользователя\n",
        "mean_mov = round(df['user_id'].count() / uniq_user, 1)\n",
        "mean_mov"
      ]
    },
    {
      "cell_type": "markdown",
      "metadata": {
        "id": "LdvrbSFh8FJV"
      },
      "source": [
        "*32,3* действия в среднем приходится на одного пользователя.\n",
        "<br> Посмотрим за какой период времени у нас есть данные."
      ]
    },
    {
      "cell_type": "code",
      "execution_count": null,
      "metadata": {
        "scrolled": true,
        "id": "Co7mGdnE8FJV",
        "outputId": "7498f9f7-5620-4fcb-8c25-c91225a152ef"
      },
      "outputs": [
        {
          "name": "stdout",
          "output_type": "stream",
          "text": [
            "Мы распологаем данными с 2019-07-25  по  2019-08-07\n",
            "Всего дней для рассмотрения у нас  13 days, 0:00:00 sec.\n"
          ]
        }
      ],
      "source": [
        "first_day = df['event_date'].min()\n",
        "last_day = df['event_date'].max()\n",
        "cont_day = df['event_date'].max() - df['event_date'].min()\n",
        "print(f'Мы распологаем данными с', first_day, ' по ', last_day)\n",
        "print(f'Всего дней для рассмотрения у нас ', last_day - first_day, 'sec.')\n"
      ]
    },
    {
      "cell_type": "markdown",
      "metadata": {
        "id": "R8-7oTV08FJV"
      },
      "source": [
        "Построим гистограмму и посмотрим распределение данных во времени."
      ]
    },
    {
      "cell_type": "code",
      "execution_count": null,
      "metadata": {
        "scrolled": false,
        "id": "zGditAKx8FJV",
        "outputId": "5f735884-53ae-42ed-f022-c4c608750408"
      },
      "outputs": [
        {
          "data": {
            "image/png": "[encoded data removed]",
            "text/plain": [
              "<Figure size 1280x800 with 1 Axes>"
            ]
          },
          "metadata": {},
          "output_type": "display_data"
        }
      ],
      "source": [
        "plt.figure(figsize=(16, 10), dpi= 80, facecolor='w', edgecolor='k')\n",
        "sns.set() \n",
        "sns.histplot(data=df, x=\"event_date\", binwidth=0.05, hue=\"event_name\")\n",
        "plt.title('гистограмма распределения данных во времени')\n",
        "plt.grid([])\n",
        "plt.show()"
      ]
    },
    {
      "cell_type": "code",
      "execution_count": null,
      "metadata": {
        "id": "h_Ry2oPS8FJW",
        "outputId": "fe91f5fe-40c5-4178-b3dd-ec46a92359ad"
      },
      "outputs": [
        {
          "data": {
            "image/png": "[encoded data removed]",
            "text/plain": [
              "<Figure size 1008x360 with 1 Axes>"
            ]
          },
          "metadata": {},
          "output_type": "display_data"
        }
      ],
      "source": [
        "# код ревьюера\n",
        "df['date_time'].hist(bins=14*24, figsize=(14, 5));"
      ]
    },
    {
      "cell_type": "markdown",
      "metadata": {
        "id": "9-fIT2d08FJW"
      },
      "source": [
        "На гистограмме видно, что данных значительно меньше до 31.07.19 включительно. Посмотрим сколько это строк."
      ]
    },
    {
      "cell_type": "code",
      "execution_count": null,
      "metadata": {
        "scrolled": false,
        "id": "qrh9EZ-38FJW",
        "outputId": "796f16ac-fae4-449a-c0fd-3f8604c16fde"
      },
      "outputs": [
        {
          "data": {
            "text/html": [
              "<div>\n",
              "<style scoped>\n",
              "    .dataframe tbody tr th:only-of-type {\n",
              "        vertical-align: middle;\n",
              "    }\n",
              "\n",
              "    .dataframe tbody tr th {\n",
              "        vertical-align: top;\n",
              "    }\n",
              "\n",
              "    .dataframe thead th {\n",
              "        text-align: right;\n",
              "    }\n",
              "</style>\n",
              "<table border=\"1\" class=\"dataframe\">\n",
              "  <thead>\n",
              "    <tr style=\"text-align: right;\">\n",
              "      <th></th>\n",
              "      <th>index</th>\n",
              "      <th>event_name</th>\n",
              "      <th>user_id</th>\n",
              "      <th>event_timestamp</th>\n",
              "      <th>exp_id</th>\n",
              "      <th>date_time</th>\n",
              "      <th>event_date</th>\n",
              "    </tr>\n",
              "  </thead>\n",
              "  <tbody>\n",
              "    <tr>\n",
              "      <th>0</th>\n",
              "      <td>0</td>\n",
              "      <td>MainScreenAppear</td>\n",
              "      <td>4575588528974610257</td>\n",
              "      <td>1564029816</td>\n",
              "      <td>A1</td>\n",
              "      <td>2019-07-25 04:43:36</td>\n",
              "      <td>2019-07-25</td>\n",
              "    </tr>\n",
              "    <tr>\n",
              "      <th>1</th>\n",
              "      <td>1</td>\n",
              "      <td>MainScreenAppear</td>\n",
              "      <td>7416695313311560658</td>\n",
              "      <td>1564053102</td>\n",
              "      <td>A1</td>\n",
              "      <td>2019-07-25 11:11:42</td>\n",
              "      <td>2019-07-25</td>\n",
              "    </tr>\n",
              "    <tr>\n",
              "      <th>2</th>\n",
              "      <td>2</td>\n",
              "      <td>PaymentScreenSuccessful</td>\n",
              "      <td>3518123091307005509</td>\n",
              "      <td>1564054127</td>\n",
              "      <td>B</td>\n",
              "      <td>2019-07-25 11:28:47</td>\n",
              "      <td>2019-07-25</td>\n",
              "    </tr>\n",
              "    <tr>\n",
              "      <th>3</th>\n",
              "      <td>3</td>\n",
              "      <td>CartScreenAppear</td>\n",
              "      <td>3518123091307005509</td>\n",
              "      <td>1564054127</td>\n",
              "      <td>B</td>\n",
              "      <td>2019-07-25 11:28:47</td>\n",
              "      <td>2019-07-25</td>\n",
              "    </tr>\n",
              "    <tr>\n",
              "      <th>4</th>\n",
              "      <td>4</td>\n",
              "      <td>PaymentScreenSuccessful</td>\n",
              "      <td>6217807653094995999</td>\n",
              "      <td>1564055322</td>\n",
              "      <td>B</td>\n",
              "      <td>2019-07-25 11:48:42</td>\n",
              "      <td>2019-07-25</td>\n",
              "    </tr>\n",
              "    <tr>\n",
              "      <th>...</th>\n",
              "      <td>...</td>\n",
              "      <td>...</td>\n",
              "      <td>...</td>\n",
              "      <td>...</td>\n",
              "      <td>...</td>\n",
              "      <td>...</td>\n",
              "      <td>...</td>\n",
              "    </tr>\n",
              "    <tr>\n",
              "      <th>2821</th>\n",
              "      <td>2823</td>\n",
              "      <td>OffersScreenAppear</td>\n",
              "      <td>2413191300976302222</td>\n",
              "      <td>1564617295</td>\n",
              "      <td>A2</td>\n",
              "      <td>2019-07-31 23:54:55</td>\n",
              "      <td>2019-07-31</td>\n",
              "    </tr>\n",
              "    <tr>\n",
              "      <th>2822</th>\n",
              "      <td>2824</td>\n",
              "      <td>MainScreenAppear</td>\n",
              "      <td>5505110279185484837</td>\n",
              "      <td>1564617450</td>\n",
              "      <td>A2</td>\n",
              "      <td>2019-07-31 23:57:30</td>\n",
              "      <td>2019-07-31</td>\n",
              "    </tr>\n",
              "    <tr>\n",
              "      <th>2823</th>\n",
              "      <td>2825</td>\n",
              "      <td>MainScreenAppear</td>\n",
              "      <td>5505110279185484837</td>\n",
              "      <td>1564617462</td>\n",
              "      <td>A2</td>\n",
              "      <td>2019-07-31 23:57:42</td>\n",
              "      <td>2019-07-31</td>\n",
              "    </tr>\n",
              "    <tr>\n",
              "      <th>2824</th>\n",
              "      <td>2826</td>\n",
              "      <td>MainScreenAppear</td>\n",
              "      <td>5505110279185484837</td>\n",
              "      <td>1564617472</td>\n",
              "      <td>A2</td>\n",
              "      <td>2019-07-31 23:57:52</td>\n",
              "      <td>2019-07-31</td>\n",
              "    </tr>\n",
              "    <tr>\n",
              "      <th>2825</th>\n",
              "      <td>2827</td>\n",
              "      <td>MainScreenAppear</td>\n",
              "      <td>2413191300976302222</td>\n",
              "      <td>1564617599</td>\n",
              "      <td>A2</td>\n",
              "      <td>2019-07-31 23:59:59</td>\n",
              "      <td>2019-07-31</td>\n",
              "    </tr>\n",
              "  </tbody>\n",
              "</table>\n",
              "<p>2826 rows × 7 columns</p>\n",
              "</div>"
            ],
            "text/plain": [
              "      index               event_name              user_id  event_timestamp  \\\n",
              "0         0         MainScreenAppear  4575588528974610257       1564029816   \n",
              "1         1         MainScreenAppear  7416695313311560658       1564053102   \n",
              "2         2  PaymentScreenSuccessful  3518123091307005509       1564054127   \n",
              "3         3         CartScreenAppear  3518123091307005509       1564054127   \n",
              "4         4  PaymentScreenSuccessful  6217807653094995999       1564055322   \n",
              "...     ...                      ...                  ...              ...   \n",
              "2821   2823       OffersScreenAppear  2413191300976302222       1564617295   \n",
              "2822   2824         MainScreenAppear  5505110279185484837       1564617450   \n",
              "2823   2825         MainScreenAppear  5505110279185484837       1564617462   \n",
              "2824   2826         MainScreenAppear  5505110279185484837       1564617472   \n",
              "2825   2827         MainScreenAppear  2413191300976302222       1564617599   \n",
              "\n",
              "     exp_id           date_time  event_date  \n",
              "0        A1 2019-07-25 04:43:36  2019-07-25  \n",
              "1        A1 2019-07-25 11:11:42  2019-07-25  \n",
              "2         B 2019-07-25 11:28:47  2019-07-25  \n",
              "3         B 2019-07-25 11:28:47  2019-07-25  \n",
              "4         B 2019-07-25 11:48:42  2019-07-25  \n",
              "...     ...                 ...         ...  \n",
              "2821     A2 2019-07-31 23:54:55  2019-07-31  \n",
              "2822     A2 2019-07-31 23:57:30  2019-07-31  \n",
              "2823     A2 2019-07-31 23:57:42  2019-07-31  \n",
              "2824     A2 2019-07-31 23:57:52  2019-07-31  \n",
              "2825     A2 2019-07-31 23:59:59  2019-07-31  \n",
              "\n",
              "[2826 rows x 7 columns]"
            ]
          },
          "execution_count": 20,
          "metadata": {},
          "output_type": "execute_result"
        }
      ],
      "source": [
        "#срез данных до 31.07.19\n",
        "not_date = df.loc[df['date_time'] <'2019-08-01 00:00:00']\n",
        "not_date"
      ]
    },
    {
      "cell_type": "code",
      "execution_count": null,
      "metadata": {
        "id": "zCEJJ2vG8FJW",
        "outputId": "da1896d5-8fe1-4e2b-e4a4-e95c4f3d941f"
      },
      "outputs": [
        {
          "name": "stdout",
          "output_type": "stream",
          "text": [
            "Процент данных собранных до 01.08.2019 - 1.16%\n"
          ]
        }
      ],
      "source": [
        "#Подсчет процента данных до 31.07.19\n",
        "print(f'Процент данных собранных до 01.08.2019 - {round((not_date.shape[0]*100/df.shape[0]),2)}%')"
      ]
    },
    {
      "cell_type": "markdown",
      "metadata": {
        "id": "X0l0DgO18FJW"
      },
      "source": [
        "Данные до 01.08.19 мы можем исключить. По сравнению с количеством данных с 01.08.19 более ранее данные  очень малы и не полны, но способны исказить наше исследование, поэтому удалим их"
      ]
    },
    {
      "cell_type": "code",
      "execution_count": null,
      "metadata": {
        "scrolled": true,
        "id": "YS3KupVH8FJX",
        "outputId": "e94ac865-92e5-451e-cc21-7dfe7ea940f9"
      },
      "outputs": [
        {
          "data": {
            "text/html": [
              "<div>\n",
              "<style scoped>\n",
              "    .dataframe tbody tr th:only-of-type {\n",
              "        vertical-align: middle;\n",
              "    }\n",
              "\n",
              "    .dataframe tbody tr th {\n",
              "        vertical-align: top;\n",
              "    }\n",
              "\n",
              "    .dataframe thead th {\n",
              "        text-align: right;\n",
              "    }\n",
              "</style>\n",
              "<table border=\"1\" class=\"dataframe\">\n",
              "  <thead>\n",
              "    <tr style=\"text-align: right;\">\n",
              "      <th></th>\n",
              "      <th>index</th>\n",
              "      <th>event_name</th>\n",
              "      <th>user_id</th>\n",
              "      <th>event_timestamp</th>\n",
              "      <th>exp_id</th>\n",
              "      <th>date_time</th>\n",
              "      <th>event_date</th>\n",
              "    </tr>\n",
              "  </thead>\n",
              "  <tbody>\n",
              "    <tr>\n",
              "      <th>2826</th>\n",
              "      <td>2828</td>\n",
              "      <td>Tutorial</td>\n",
              "      <td>3737462046622621720</td>\n",
              "      <td>1564618048</td>\n",
              "      <td>A1</td>\n",
              "      <td>2019-08-01 00:07:28</td>\n",
              "      <td>2019-08-01</td>\n",
              "    </tr>\n",
              "    <tr>\n",
              "      <th>2827</th>\n",
              "      <td>2829</td>\n",
              "      <td>MainScreenAppear</td>\n",
              "      <td>3737462046622621720</td>\n",
              "      <td>1564618080</td>\n",
              "      <td>A1</td>\n",
              "      <td>2019-08-01 00:08:00</td>\n",
              "      <td>2019-08-01</td>\n",
              "    </tr>\n",
              "    <tr>\n",
              "      <th>2828</th>\n",
              "      <td>2830</td>\n",
              "      <td>MainScreenAppear</td>\n",
              "      <td>3737462046622621720</td>\n",
              "      <td>1564618135</td>\n",
              "      <td>A1</td>\n",
              "      <td>2019-08-01 00:08:55</td>\n",
              "      <td>2019-08-01</td>\n",
              "    </tr>\n",
              "    <tr>\n",
              "      <th>2829</th>\n",
              "      <td>2831</td>\n",
              "      <td>OffersScreenAppear</td>\n",
              "      <td>3737462046622621720</td>\n",
              "      <td>1564618138</td>\n",
              "      <td>A1</td>\n",
              "      <td>2019-08-01 00:08:58</td>\n",
              "      <td>2019-08-01</td>\n",
              "    </tr>\n",
              "    <tr>\n",
              "      <th>2830</th>\n",
              "      <td>2832</td>\n",
              "      <td>MainScreenAppear</td>\n",
              "      <td>1433840883824088890</td>\n",
              "      <td>1564618139</td>\n",
              "      <td>A2</td>\n",
              "      <td>2019-08-01 00:08:59</td>\n",
              "      <td>2019-08-01</td>\n",
              "    </tr>\n",
              "    <tr>\n",
              "      <th>...</th>\n",
              "      <td>...</td>\n",
              "      <td>...</td>\n",
              "      <td>...</td>\n",
              "      <td>...</td>\n",
              "      <td>...</td>\n",
              "      <td>...</td>\n",
              "      <td>...</td>\n",
              "    </tr>\n",
              "    <tr>\n",
              "      <th>243708</th>\n",
              "      <td>244121</td>\n",
              "      <td>MainScreenAppear</td>\n",
              "      <td>4599628364049201812</td>\n",
              "      <td>1565212345</td>\n",
              "      <td>A2</td>\n",
              "      <td>2019-08-07 21:12:25</td>\n",
              "      <td>2019-08-07</td>\n",
              "    </tr>\n",
              "    <tr>\n",
              "      <th>243709</th>\n",
              "      <td>244122</td>\n",
              "      <td>MainScreenAppear</td>\n",
              "      <td>5849806612437486590</td>\n",
              "      <td>1565212439</td>\n",
              "      <td>A1</td>\n",
              "      <td>2019-08-07 21:13:59</td>\n",
              "      <td>2019-08-07</td>\n",
              "    </tr>\n",
              "    <tr>\n",
              "      <th>243710</th>\n",
              "      <td>244123</td>\n",
              "      <td>MainScreenAppear</td>\n",
              "      <td>5746969938801999050</td>\n",
              "      <td>1565212483</td>\n",
              "      <td>A1</td>\n",
              "      <td>2019-08-07 21:14:43</td>\n",
              "      <td>2019-08-07</td>\n",
              "    </tr>\n",
              "    <tr>\n",
              "      <th>243711</th>\n",
              "      <td>244124</td>\n",
              "      <td>MainScreenAppear</td>\n",
              "      <td>5746969938801999050</td>\n",
              "      <td>1565212498</td>\n",
              "      <td>A1</td>\n",
              "      <td>2019-08-07 21:14:58</td>\n",
              "      <td>2019-08-07</td>\n",
              "    </tr>\n",
              "    <tr>\n",
              "      <th>243712</th>\n",
              "      <td>244125</td>\n",
              "      <td>OffersScreenAppear</td>\n",
              "      <td>5746969938801999050</td>\n",
              "      <td>1565212517</td>\n",
              "      <td>A1</td>\n",
              "      <td>2019-08-07 21:15:17</td>\n",
              "      <td>2019-08-07</td>\n",
              "    </tr>\n",
              "  </tbody>\n",
              "</table>\n",
              "<p>240887 rows × 7 columns</p>\n",
              "</div>"
            ],
            "text/plain": [
              "         index          event_name              user_id  event_timestamp  \\\n",
              "2826      2828            Tutorial  3737462046622621720       1564618048   \n",
              "2827      2829    MainScreenAppear  3737462046622621720       1564618080   \n",
              "2828      2830    MainScreenAppear  3737462046622621720       1564618135   \n",
              "2829      2831  OffersScreenAppear  3737462046622621720       1564618138   \n",
              "2830      2832    MainScreenAppear  1433840883824088890       1564618139   \n",
              "...        ...                 ...                  ...              ...   \n",
              "243708  244121    MainScreenAppear  4599628364049201812       1565212345   \n",
              "243709  244122    MainScreenAppear  5849806612437486590       1565212439   \n",
              "243710  244123    MainScreenAppear  5746969938801999050       1565212483   \n",
              "243711  244124    MainScreenAppear  5746969938801999050       1565212498   \n",
              "243712  244125  OffersScreenAppear  5746969938801999050       1565212517   \n",
              "\n",
              "       exp_id           date_time  event_date  \n",
              "2826       A1 2019-08-01 00:07:28  2019-08-01  \n",
              "2827       A1 2019-08-01 00:08:00  2019-08-01  \n",
              "2828       A1 2019-08-01 00:08:55  2019-08-01  \n",
              "2829       A1 2019-08-01 00:08:58  2019-08-01  \n",
              "2830       A2 2019-08-01 00:08:59  2019-08-01  \n",
              "...       ...                 ...         ...  \n",
              "243708     A2 2019-08-07 21:12:25  2019-08-07  \n",
              "243709     A1 2019-08-07 21:13:59  2019-08-07  \n",
              "243710     A1 2019-08-07 21:14:43  2019-08-07  \n",
              "243711     A1 2019-08-07 21:14:58  2019-08-07  \n",
              "243712     A1 2019-08-07 21:15:17  2019-08-07  \n",
              "\n",
              "[240887 rows x 7 columns]"
            ]
          },
          "execution_count": 22,
          "metadata": {},
          "output_type": "execute_result"
        }
      ],
      "source": [
        "#обрезка данных\n",
        "df = df.loc[df['date_time'] >'2019-07-31 23:59:59']\n",
        "df"
      ]
    },
    {
      "cell_type": "markdown",
      "metadata": {
        "id": "jxogI-zC8FJX"
      },
      "source": [
        "ПОсмотрим гистограмму после удаление данных."
      ]
    },
    {
      "cell_type": "code",
      "execution_count": null,
      "metadata": {
        "id": "JvrCrr698FJX",
        "outputId": "18da13b3-1498-4173-9063-863c54af817a"
      },
      "outputs": [
        {
          "data": {
            "image/png": "[encoded data removed]",
            "text/plain": [
              "<Figure size 1280x800 with 1 Axes>"
            ]
          },
          "metadata": {},
          "output_type": "display_data"
        }
      ],
      "source": [
        "#Построение гистограммы\n",
        "plt.figure(figsize=(16, 10), dpi= 80, facecolor='w', edgecolor='k')\n",
        "sns.set() \n",
        "sns.histplot(data=df, x=\"event_date\", binwidth=0.05, hue=\"event_name\")\n",
        "plt.title('гистограмма распределения данных во времени')\n",
        "plt.grid([])\n",
        "plt.show()"
      ]
    },
    {
      "cell_type": "markdown",
      "metadata": {
        "id": "zaqJPx0I8FJX"
      },
      "source": [
        "Проверим сколько пользователей мы потеряли"
      ]
    },
    {
      "cell_type": "code",
      "execution_count": null,
      "metadata": {
        "scrolled": true,
        "id": "wji4_F798FJX",
        "outputId": "756bc988-7e35-4f5a-f7a5-d663d4a598bb"
      },
      "outputs": [
        {
          "name": "stdout",
          "output_type": "stream",
          "text": [
            "Мы потеряли - 0.23% пользователей \n"
          ]
        }
      ],
      "source": [
        "#расчет процента потерянных пользователей\n",
        "uniq_user_after = df['user_id'].nunique()\n",
        "print(f'Мы потеряли - {round(((uniq_user-uniq_user_after)*100/uniq_user),2)}% пользователей ')\n"
      ]
    },
    {
      "cell_type": "markdown",
      "metadata": {
        "id": "GMITN02z8FJY"
      },
      "source": [
        "А так же посмотрим, на наполнение каждой группы, нет ли сильных перевесов по количеству пользователей"
      ]
    },
    {
      "cell_type": "code",
      "execution_count": null,
      "metadata": {
        "scrolled": true,
        "id": "XCdkGljT8FJY",
        "outputId": "5f696b0f-26a8-4afa-c9e9-fb56ca8d6705"
      },
      "outputs": [
        {
          "data": {
            "text/plain": [
              "exp_id\n",
              "A1    2484\n",
              "A2    2513\n",
              "B     2537\n",
              "Name: user_id, dtype: int64"
            ]
          },
          "execution_count": 25,
          "metadata": {},
          "output_type": "execute_result"
        }
      ],
      "source": [
        "#вывод уникальных пользователей в каждой группе теста\n",
        "df.groupby('exp_id')['user_id'].nunique()"
      ]
    },
    {
      "cell_type": "markdown",
      "metadata": {
        "id": "fy3_Z8mp8FJY"
      },
      "source": [
        "Итак, для дальнейшего анализа мы оставили данные с *01.08 19 до 07.08.19.* Данные, что были до этого периода мы убрали из дальнейшего анализа, таким образом мы потеряли *0,23%* пользователей и *1.16%* действий. После всех действий, наши тестовые группы имеют примерно одинаковое количество уникальных юзеров. Значительных перевесов нет."
      ]
    },
    {
      "cell_type": "markdown",
      "metadata": {
        "id": "g0SO9dik8FJY"
      },
      "source": [
        "## Воронка событий"
      ]
    },
    {
      "cell_type": "markdown",
      "metadata": {
        "id": "0KRp0lnt8FJY"
      },
      "source": [
        "Как мы помним, событий у нас всего 5. Посмотрим Сколько совершил их каждый пользователь."
      ]
    },
    {
      "cell_type": "code",
      "execution_count": null,
      "metadata": {
        "scrolled": false,
        "id": "VuuQpT488FJZ",
        "outputId": "6de2e1a1-f06a-4055-9ccc-6c08a800e311"
      },
      "outputs": [
        {
          "data": {
            "text/html": [
              "<div>\n",
              "<style scoped>\n",
              "    .dataframe tbody tr th:only-of-type {\n",
              "        vertical-align: middle;\n",
              "    }\n",
              "\n",
              "    .dataframe tbody tr th {\n",
              "        vertical-align: top;\n",
              "    }\n",
              "\n",
              "    .dataframe thead th {\n",
              "        text-align: right;\n",
              "    }\n",
              "</style>\n",
              "<table border=\"1\" class=\"dataframe\">\n",
              "  <thead>\n",
              "    <tr style=\"text-align: right;\">\n",
              "      <th></th>\n",
              "      <th>event_name</th>\n",
              "      <th>user_id</th>\n",
              "      <th>per_for_all</th>\n",
              "      <th>per_for_step</th>\n",
              "    </tr>\n",
              "  </thead>\n",
              "  <tbody>\n",
              "    <tr>\n",
              "      <th>0</th>\n",
              "      <td>MainScreenAppear</td>\n",
              "      <td>7419</td>\n",
              "      <td>98.5</td>\n",
              "      <td>NaN</td>\n",
              "    </tr>\n",
              "    <tr>\n",
              "      <th>1</th>\n",
              "      <td>OffersScreenAppear</td>\n",
              "      <td>4593</td>\n",
              "      <td>61.0</td>\n",
              "      <td>61.9</td>\n",
              "    </tr>\n",
              "    <tr>\n",
              "      <th>2</th>\n",
              "      <td>CartScreenAppear</td>\n",
              "      <td>3734</td>\n",
              "      <td>49.6</td>\n",
              "      <td>81.3</td>\n",
              "    </tr>\n",
              "    <tr>\n",
              "      <th>3</th>\n",
              "      <td>PaymentScreenSuccessful</td>\n",
              "      <td>3539</td>\n",
              "      <td>47.0</td>\n",
              "      <td>94.8</td>\n",
              "    </tr>\n",
              "    <tr>\n",
              "      <th>4</th>\n",
              "      <td>Tutorial</td>\n",
              "      <td>840</td>\n",
              "      <td>11.1</td>\n",
              "      <td>23.7</td>\n",
              "    </tr>\n",
              "  </tbody>\n",
              "</table>\n",
              "</div>"
            ],
            "text/plain": [
              "                event_name  user_id  per_for_all  per_for_step\n",
              "0         MainScreenAppear     7419         98.5           NaN\n",
              "1       OffersScreenAppear     4593         61.0          61.9\n",
              "2         CartScreenAppear     3734         49.6          81.3\n",
              "3  PaymentScreenSuccessful     3539         47.0          94.8\n",
              "4                 Tutorial      840         11.1          23.7"
            ]
          },
          "execution_count": 26,
          "metadata": {},
          "output_type": "execute_result"
        }
      ],
      "source": [
        "#таблица с подсчетом количества пользователей в каждом событии\n",
        "count_user  = (\n",
        "    df.groupby(\n",
        "    'event_name').agg({'user_id': 'nunique'})\n",
        "    .reset_index().sort_values(by = 'user_id',ascending=False).reset_index()\n",
        ")\n",
        "#Удаление индекса\n",
        "del count_user['index']\n",
        "#расчет процента на каждом шаге от общего количества\n",
        "count_user['per_for_all'] = (count_user['user_id']/df['user_id'].nunique())*100\n",
        "\n",
        "#расчет процента каждого шага, от предыдущего шага\n",
        "count_user = count_user.assign(per_for_step=count_user['user_id'].div(count_user['user_id'].shift()).mul(100))\n",
        "count_user"
      ]
    },
    {
      "cell_type": "markdown",
      "metadata": {
        "id": "U5Q0Lldf8FJZ"
      },
      "source": [
        "На первом месте у нас `MainScreenAppear`, что логично, т.к. это главная страница.\n",
        "<br> Хотелось бы обратить внимание на **Tutorial**. Т.к. переход на страницу руководства или инструкции для нас в данном анализе не представляет существенного интереса, а так же не совсем вписывается в цепочку нашего раследования, исключим эти данные при формировании *Воронки*"
      ]
    },
    {
      "cell_type": "code",
      "execution_count": null,
      "metadata": {
        "scrolled": true,
        "id": "3Xl5FsXh8FJZ",
        "outputId": "5901125f-0019-45a4-af47-6fe9f527170c"
      },
      "outputs": [
        {
          "data": {
            "text/html": [
              "<div>\n",
              "<style scoped>\n",
              "    .dataframe tbody tr th:only-of-type {\n",
              "        vertical-align: middle;\n",
              "    }\n",
              "\n",
              "    .dataframe tbody tr th {\n",
              "        vertical-align: top;\n",
              "    }\n",
              "\n",
              "    .dataframe thead th {\n",
              "        text-align: right;\n",
              "    }\n",
              "</style>\n",
              "<table border=\"1\" class=\"dataframe\">\n",
              "  <thead>\n",
              "    <tr style=\"text-align: right;\">\n",
              "      <th></th>\n",
              "      <th>event_name</th>\n",
              "      <th>user_id</th>\n",
              "      <th>per_for_all</th>\n",
              "      <th>per_for_step</th>\n",
              "    </tr>\n",
              "  </thead>\n",
              "  <tbody>\n",
              "    <tr>\n",
              "      <th>0</th>\n",
              "      <td>MainScreenAppear</td>\n",
              "      <td>7419</td>\n",
              "      <td>98.5</td>\n",
              "      <td>NaN</td>\n",
              "    </tr>\n",
              "    <tr>\n",
              "      <th>1</th>\n",
              "      <td>OffersScreenAppear</td>\n",
              "      <td>4593</td>\n",
              "      <td>61.0</td>\n",
              "      <td>61.9</td>\n",
              "    </tr>\n",
              "    <tr>\n",
              "      <th>2</th>\n",
              "      <td>CartScreenAppear</td>\n",
              "      <td>3734</td>\n",
              "      <td>49.6</td>\n",
              "      <td>81.3</td>\n",
              "    </tr>\n",
              "    <tr>\n",
              "      <th>3</th>\n",
              "      <td>PaymentScreenSuccessful</td>\n",
              "      <td>3539</td>\n",
              "      <td>47.0</td>\n",
              "      <td>94.8</td>\n",
              "    </tr>\n",
              "  </tbody>\n",
              "</table>\n",
              "</div>"
            ],
            "text/plain": [
              "                event_name  user_id  per_for_all  per_for_step\n",
              "0         MainScreenAppear     7419         98.5           NaN\n",
              "1       OffersScreenAppear     4593         61.0          61.9\n",
              "2         CartScreenAppear     3734         49.6          81.3\n",
              "3  PaymentScreenSuccessful     3539         47.0          94.8"
            ]
          },
          "execution_count": 27,
          "metadata": {},
          "output_type": "execute_result"
        }
      ],
      "source": [
        "#Исключение строки с данными о Tutorial\n",
        "count_user = count_user[count_user['event_name'] != 'Tutorial']\n",
        "\n",
        "count_user"
      ]
    },
    {
      "cell_type": "markdown",
      "metadata": {
        "id": "6D-V4zR88FJZ"
      },
      "source": [
        "Построим график."
      ]
    },
    {
      "cell_type": "code",
      "execution_count": null,
      "metadata": {
        "scrolled": true,
        "id": "MKOK2HKN8FJa",
        "outputId": "c27d2120-638c-48a0-92ec-8a8a7b6503dc"
      },
      "outputs": [
        {
          "data": {
            "image/png": "[encoded data removed]"
          },
          "metadata": {},
          "output_type": "display_data"
        }
      ],
      "source": [
        "#графическое построение воронки\n",
        "fig = go.Figure(\n",
        "    go.Funnel(\n",
        "        y=count_user['event_name'],\n",
        "        x=count_user['user_id'],\n",
        "    )\n",
        ")\n",
        "fig.update_layout(title=\"Воронка событий\")\n",
        "fig.show() "
      ]
    },
    {
      "cell_type": "markdown",
      "metadata": {
        "id": "8WTxHzf28FJa"
      },
      "source": [
        "Расмотрим *Воронку* с разбивкой на группы."
      ]
    },
    {
      "cell_type": "code",
      "execution_count": null,
      "metadata": {
        "id": "r5k7Xp088FJa",
        "outputId": "30652cc5-7aea-44a3-e6e8-cbc8c40a25ae"
      },
      "outputs": [
        {
          "data": {
            "image/png": "[encoded data removed]"
          },
          "metadata": {},
          "output_type": "display_data"
        }
      ],
      "source": [
        "#таблица для группы А1\n",
        "count_user_A1 = df[df['exp_id'] =='A1']\n",
        "count_user_A1 = (\n",
        "    count_user_A1.groupby(\n",
        "    'event_name').agg({'user_id': 'nunique'}).reset_index()\n",
        "    .sort_values(by = 'user_id' ,ascending=False).reset_index()\n",
        ")\n",
        "del count_user_A1['index']\n",
        "count_user_A1['per_for_first_step'] = (count_user_A1['user_id']/count_user_A1['user_id'].sum())*100\n",
        "\n",
        "count_user_A1 = count_user_A1.assign(change=count_user_A1['user_id'].div(count_user_A1['user_id'].shift()).mul(100))\n",
        "count_user_A1 = count_user_A1[count_user_A1['event_name'] != 'Tutorial']\n",
        "\n",
        "#таблица для группы А2\n",
        "count_user_A2 = df[df['exp_id'] =='A2']\n",
        "count_user_A2 = (\n",
        "    count_user_A2.groupby(\n",
        "    'event_name').agg({'user_id': 'nunique'}).reset_index()\n",
        "    .sort_values(by = 'user_id' ,ascending=False).reset_index()\n",
        ")\n",
        "del count_user_A2['index']\n",
        "count_user_A2['per_for_first_step'] = (count_user_A2['user_id']/count_user_A2['user_id'].sum())*100\n",
        "\n",
        "count_user_A2 = count_user_A2.assign(change=count_user_A2['user_id'].div(count_user_A2['user_id'].shift()).mul(100))\n",
        "count_user_A2 = count_user_A2[count_user_A2['event_name'] != 'Tutorial']\n",
        "\n",
        "#таблица для группы B\n",
        "count_user_B = df[df['exp_id'] =='B']\n",
        "count_user_B = (\n",
        "    count_user_B.groupby(\n",
        "    'event_name').agg({'user_id': 'nunique'}).reset_index()\n",
        "    .sort_values(by = 'user_id' ,ascending=False).reset_index()\n",
        ")\n",
        "del count_user_B['index']\n",
        "count_user_B['per_for_first_step'] = (count_user_B['user_id']/count_user_B['user_id'].sum())*100\n",
        "\n",
        "count_user_B = count_user_B.assign(change=count_user_B['user_id'].div(count_user_B['user_id'].shift()).mul(100))\n",
        "count_user_B = count_user_B[count_user_B['event_name'] != 'Tutorial']\n",
        "\n",
        "#график построение\n",
        "fig = go.Figure()\n",
        "# группа А1\n",
        "fig.add_trace(go.Funnel(\n",
        "    name = 'A1',\n",
        "    y = count_user_A1['event_name'],\n",
        "    x = count_user_A1['user_id'],\n",
        "    textinfo = \"value+percent previous\"))\n",
        "# группа А2\n",
        "fig.add_trace(go.Funnel(\n",
        "    name = 'A2',\n",
        "    orientation = \"h\",\n",
        "    y = count_user_A2['event_name'],\n",
        "    x = count_user_A2['user_id'],\n",
        "    textposition = \"inside\",\n",
        "    textinfo = \"value+percent previous\"))\n",
        "# группа В\n",
        "fig.add_trace(go.Funnel(\n",
        "    name = 'B',\n",
        "    orientation = \"h\",\n",
        "    y = count_user_B['event_name'],\n",
        "    x = count_user_B['user_id'],\n",
        "    textposition = \"inside\",\n",
        "    textinfo = \"value+percent previous\"))\n",
        "fig.update_layout(title=\"Воронка событий по группам\")\n",
        "fig.show()"
      ]
    },
    {
      "cell_type": "markdown",
      "metadata": {
        "id": "SIFVTVo18FJa"
      },
      "source": [
        "Как и в количестве действий, наибольший процент пользователей теряется в моменте переход на *Страницу с товарами*, только 61-63% доходят до этой страницы.\n",
        "<br>\n",
        "<br>После построения *Воронок* мы выяснили, что наибольший процент пользователей теряется при переходе на *Страницу с товарами*. Т.е. большая часть пользователей даже не ознакомилась с нашим ассортиментом. \n",
        "<br>Необходимо выяснить  в чем может быть проблема. Возможно, из-за того, что большинство пользователей принебрегаютс *Страницей с инструкцией*, а дизайн перехода на *Страницу с товарами* не очень дружелюбен, пользователи теряются. "
      ]
    },
    {
      "cell_type": "markdown",
      "metadata": {
        "id": "s31FmiWH8FJa"
      },
      "source": [
        "## Изучение результатов эксперимента"
      ]
    },
    {
      "cell_type": "markdown",
      "metadata": {
        "id": "vPmIjYQr8FJa"
      },
      "source": [
        "Построим таблицу с количеством пользователей в каждой группе, а так же создадим строку с суммой пользователей в группах **A1** и **А2**"
      ]
    },
    {
      "cell_type": "code",
      "execution_count": null,
      "metadata": {
        "scrolled": true,
        "id": "k2E0gf2P8FJa",
        "outputId": "26194ab6-6cef-42c8-8897-d47cdcaebc9d"
      },
      "outputs": [
        {
          "data": {
            "text/plain": [
              "exp_id\n",
              "A1       2484\n",
              "A2       2513\n",
              "B        2537\n",
              "A1+A2    4997\n",
              "Name: user_id, dtype: int64"
            ]
          },
          "execution_count": 30,
          "metadata": {},
          "output_type": "execute_result"
        }
      ],
      "source": [
        "#создание таблицы с  количеством пользователей в группах\n",
        "users_test = df.groupby('exp_id')['user_id'].nunique()\n",
        "users_test['A1+A2'] = users_test['A1']+users_test['A2']\n",
        "users_test"
      ]
    },
    {
      "cell_type": "markdown",
      "metadata": {
        "id": "gxjkOzlS8FJb"
      },
      "source": [
        "### Статистическая значимость различий в конверсии между группами  "
      ]
    },
    {
      "cell_type": "markdown",
      "metadata": {
        "id": "fYuvKs5p8FJb"
      },
      "source": [
        "Приступим к самому тестированию.\n",
        "<br> Перед написанием функции, создадим таблицу, из которой будем вызывать данные."
      ]
    },
    {
      "cell_type": "code",
      "execution_count": null,
      "metadata": {
        "scrolled": true,
        "id": "EMW9d45f8FJb",
        "outputId": "3a3e7d70-1d0c-4695-9091-d8b803e2e35e"
      },
      "outputs": [
        {
          "data": {
            "text/html": [
              "<div>\n",
              "<style scoped>\n",
              "    .dataframe tbody tr th:only-of-type {\n",
              "        vertical-align: middle;\n",
              "    }\n",
              "\n",
              "    .dataframe tbody tr th {\n",
              "        vertical-align: top;\n",
              "    }\n",
              "\n",
              "    .dataframe thead th {\n",
              "        text-align: right;\n",
              "    }\n",
              "</style>\n",
              "<table border=\"1\" class=\"dataframe\">\n",
              "  <thead>\n",
              "    <tr style=\"text-align: right;\">\n",
              "      <th>exp_id</th>\n",
              "      <th>event_name</th>\n",
              "      <th>A1</th>\n",
              "      <th>A2</th>\n",
              "      <th>B</th>\n",
              "      <th>A1+A2</th>\n",
              "      <th>A1+A2+B</th>\n",
              "    </tr>\n",
              "  </thead>\n",
              "  <tbody>\n",
              "    <tr>\n",
              "      <th>0</th>\n",
              "      <td>MainScreenAppear</td>\n",
              "      <td>2450</td>\n",
              "      <td>2476</td>\n",
              "      <td>2493</td>\n",
              "      <td>4926</td>\n",
              "      <td>7419</td>\n",
              "    </tr>\n",
              "    <tr>\n",
              "      <th>1</th>\n",
              "      <td>OffersScreenAppear</td>\n",
              "      <td>1542</td>\n",
              "      <td>1520</td>\n",
              "      <td>1531</td>\n",
              "      <td>3062</td>\n",
              "      <td>4593</td>\n",
              "    </tr>\n",
              "    <tr>\n",
              "      <th>2</th>\n",
              "      <td>CartScreenAppear</td>\n",
              "      <td>1266</td>\n",
              "      <td>1238</td>\n",
              "      <td>1230</td>\n",
              "      <td>2504</td>\n",
              "      <td>3734</td>\n",
              "    </tr>\n",
              "    <tr>\n",
              "      <th>3</th>\n",
              "      <td>PaymentScreenSuccessful</td>\n",
              "      <td>1200</td>\n",
              "      <td>1158</td>\n",
              "      <td>1181</td>\n",
              "      <td>2358</td>\n",
              "      <td>3539</td>\n",
              "    </tr>\n",
              "  </tbody>\n",
              "</table>\n",
              "</div>"
            ],
            "text/plain": [
              "exp_id               event_name    A1    A2     B  A1+A2  A1+A2+B\n",
              "0              MainScreenAppear  2450  2476  2493   4926     7419\n",
              "1            OffersScreenAppear  1542  1520  1531   3062     4593\n",
              "2              CartScreenAppear  1266  1238  1230   2504     3734\n",
              "3       PaymentScreenSuccessful  1200  1158  1181   2358     3539"
            ]
          },
          "execution_count": 31,
          "metadata": {},
          "output_type": "execute_result"
        }
      ],
      "source": [
        "#создаем новую таблицу из которой исключаем переходы на страницу с инструкцией Tutorial\n",
        "groups = df[df['event_name'] != 'Tutorial'].pivot_table(index='event_name', values='user_id', columns='exp_id',aggfunc=lambda x: len(x.unique()))\n",
        "#сортировка и сброс индексов\n",
        "groups = groups.reset_index().sort_values(by='A1', ascending=False).reset_index(drop=True)\n",
        "#добавление новых столбцов\n",
        "groups['A1+A2'] = groups['A1']+groups['A2']\n",
        "groups['A1+A2+B'] = groups['A1+A2'] + groups['B']\n",
        "\n",
        "groups"
      ]
    },
    {
      "cell_type": "markdown",
      "metadata": {
        "id": "8TcSPyck8FJb"
      },
      "source": [
        "Напишем функцию для выаолнения **z_test**-а"
      ]
    },
    {
      "cell_type": "code",
      "execution_count": null,
      "metadata": {
        "id": "geTpwgs38FJb"
      },
      "outputs": [],
      "source": [
        "#написание функции\n",
        "def z_test(gr_1, gr_2, alpha):\n",
        "    for i in groups.index:\n",
        "        p1 = groups[gr_1][i] / users_test[gr_1]\n",
        "        # пропорция успехов во второй группе:\n",
        "        p2 = groups[gr_2][i] / users_test[gr_2]\n",
        "        # пропорция успехов в комбинированном датасете:\n",
        "        p_combined = ((groups[gr_1][i] + groups[gr_2][i]) / \n",
        "                      (users_test[gr_1] + users_test[gr_2]))\n",
        "        # разница пропорций в датасетах\n",
        "        difference = p1 - p2\n",
        "        # считаем статистику в ст.отклонениях стандартного нормального распределения\n",
        "        z_value = difference / mth.sqrt(p_combined * (1 - p_combined) * \n",
        "                                        (1/users_test[gr_1] + 1/users_test[gr_2]))\n",
        "        # задаем стандартное нормальное распределение (среднее 0, ст.отклонение 1)\n",
        "        distr = st.norm(0, 1) \n",
        "        p_value = (1 - distr.cdf(abs(z_value))) * 2\n",
        "        print('{} p-значение: {}'.format(groups['event_name'][i], p_value))\n",
        "        if (p_value < alpha):\n",
        "            print(\"Отвергаем нулевую гипотезу: между долями есть значимая разница\")\n",
        "        else:\n",
        "            print(\"Не получилось отвергнуть нулевую гипотезу, нет оснований считать доли разными\")\n",
        "        print('')\n",
        "        \n"
      ]
    },
    {
      "cell_type": "markdown",
      "metadata": {
        "id": "VGiUyvLy8FJc"
      },
      "source": [
        "Первыми проверим группы **A1** и **A2**. \n",
        "<br>Сформулируем первые гипотезы:\n",
        "<br>\n",
        "<br>*H₀*: Статистически значимых различий в доли уникальных посетителей, побывавших на этапе воронки **A1** и **A2** нет.\n",
        "<br>*H₁*: Различия в долях уникальных посетителей, побывавших на этапе воронки **A1** и **A2** статистически значимы."
      ]
    },
    {
      "cell_type": "code",
      "execution_count": null,
      "metadata": {
        "scrolled": true,
        "id": "sVnHC9sa8FJc",
        "outputId": "dd632dfa-d563-4b81-81c8-bd7dc3fdd61b"
      },
      "outputs": [
        {
          "name": "stdout",
          "output_type": "stream",
          "text": [
            "MainScreenAppear p-значение: 0.7570597232046099\n",
            "Не получилось отвергнуть нулевую гипотезу, нет оснований считать доли разными\n",
            "\n",
            "OffersScreenAppear p-значение: 0.2480954578522181\n",
            "Не получилось отвергнуть нулевую гипотезу, нет оснований считать доли разными\n",
            "\n",
            "CartScreenAppear p-значение: 0.22883372237997213\n",
            "Не получилось отвергнуть нулевую гипотезу, нет оснований считать доли разными\n",
            "\n",
            "PaymentScreenSuccessful p-значение: 0.11456679313141849\n",
            "Не получилось отвергнуть нулевую гипотезу, нет оснований считать доли разными\n",
            "\n"
          ]
        }
      ],
      "source": [
        "#вызов функции\n",
        "z_test(\"A1\", \"A2\", 0.01)"
      ]
    },
    {
      "cell_type": "markdown",
      "metadata": {
        "id": "HT65brwT8FJc"
      },
      "source": [
        "Группы **A1** и **В**.\n",
        "<br>Сформулируем первые гипотезы:\n",
        "<br>\n",
        "<br>*H₀*: Статистически значимых различий в доли уникальных посетителей, побывавших на этапе воронки **A1** и **B** нет.\n",
        "<br>*H₁*: Различия в долях уникальных посетителей, побывавших на этапе воронки **A1** и **B** статистически значимы."
      ]
    },
    {
      "cell_type": "code",
      "execution_count": null,
      "metadata": {
        "scrolled": true,
        "id": "02kIxIjT8FJc",
        "outputId": "d60d2e0c-4d2d-435c-f400-67c37a752917"
      },
      "outputs": [
        {
          "name": "stdout",
          "output_type": "stream",
          "text": [
            "MainScreenAppear p-значение: 0.2949721933554552\n",
            "Не получилось отвергнуть нулевую гипотезу, нет оснований считать доли разными\n",
            "\n",
            "OffersScreenAppear p-значение: 0.20836205402738917\n",
            "Не получилось отвергнуть нулевую гипотезу, нет оснований считать доли разными\n",
            "\n",
            "CartScreenAppear p-значение: 0.07842923237520116\n",
            "Не получилось отвергнуть нулевую гипотезу, нет оснований считать доли разными\n",
            "\n",
            "PaymentScreenSuccessful p-значение: 0.2122553275697796\n",
            "Не получилось отвергнуть нулевую гипотезу, нет оснований считать доли разными\n",
            "\n"
          ]
        }
      ],
      "source": [
        "#вызов функции\n",
        "z_test(\"A1\", \"B\", 0.01)"
      ]
    },
    {
      "cell_type": "markdown",
      "metadata": {
        "id": "zvo-SHpf8FJc"
      },
      "source": [
        "Группы **A2** и **В**.\n",
        "<br>Сформулируем первые гипотезы:\n",
        "<br>\n",
        "<br>*H₀*: Статистически значимых различий в доли уникальных посетителей, побывавших на этапе воронки **A2** и **B** нет.\n",
        "<br>*H₁*: Различия в долях уникальных посетителей, побывавших на этапе воронки **A2** и **B** статистически значимы."
      ]
    },
    {
      "cell_type": "code",
      "execution_count": null,
      "metadata": {
        "scrolled": true,
        "id": "_cBfIeD58FJc",
        "outputId": "b97983bf-c6e2-41c8-9a97-f54e375c8f12"
      },
      "outputs": [
        {
          "name": "stdout",
          "output_type": "stream",
          "text": [
            "MainScreenAppear p-значение: 0.4587053616621515\n",
            "Не получилось отвергнуть нулевую гипотезу, нет оснований считать доли разными\n",
            "\n",
            "OffersScreenAppear p-значение: 0.9197817830592261\n",
            "Не получилось отвергнуть нулевую гипотезу, нет оснований считать доли разными\n",
            "\n",
            "CartScreenAppear p-значение: 0.5786197879539783\n",
            "Не получилось отвергнуть нулевую гипотезу, нет оснований считать доли разными\n",
            "\n",
            "PaymentScreenSuccessful p-значение: 0.7373415053803964\n",
            "Не получилось отвергнуть нулевую гипотезу, нет оснований считать доли разными\n",
            "\n"
          ]
        }
      ],
      "source": [
        "#вызов функции\n",
        "z_test(\"A2\", \"B\", 0.01)"
      ]
    },
    {
      "cell_type": "markdown",
      "metadata": {
        "id": "5Ntx1jFC8FJc"
      },
      "source": [
        "И последними протестируем сумму групп **A1 + А2** и **В**.\n",
        "<br>Сформулируем первые гипотезы:\n",
        "<br>\n",
        "<br>*H₀*: Статистически значимых различий в доли уникальных посетителей, побывавших на этапе воронки **A1+A2** и **B** нет.\n",
        "<br>*H₁*: Различия в долях уникальных посетителей, побывавших на этапе воронки **A1+A2** и **B** статистически значимы."
      ]
    },
    {
      "cell_type": "code",
      "execution_count": null,
      "metadata": {
        "id": "ii4Qw_s88FJd",
        "outputId": "60ff9256-6e60-40ea-f27c-41fb98c0b02c"
      },
      "outputs": [
        {
          "name": "stdout",
          "output_type": "stream",
          "text": [
            "MainScreenAppear p-значение: 0.29424526837179577\n",
            "Не получилось отвергнуть нулевую гипотезу, нет оснований считать доли разными\n",
            "\n",
            "OffersScreenAppear p-значение: 0.43425549655188256\n",
            "Не получилось отвергнуть нулевую гипотезу, нет оснований считать доли разными\n",
            "\n",
            "CartScreenAppear p-значение: 0.18175875284404386\n",
            "Не получилось отвергнуть нулевую гипотезу, нет оснований считать доли разными\n",
            "\n",
            "PaymentScreenSuccessful p-значение: 0.6004294282308704\n",
            "Не получилось отвергнуть нулевую гипотезу, нет оснований считать доли разными\n",
            "\n"
          ]
        }
      ],
      "source": [
        "#вызов функции\n",
        "z_test(\"A1+A2\", \"B\", 0.01)"
      ]
    },
    {
      "cell_type": "markdown",
      "metadata": {
        "id": "P1r0LSL48FJd"
      },
      "source": [
        "*Значимой разницы* между группами ни разу *выявленно не было*.\n"
      ]
    },
    {
      "cell_type": "markdown",
      "metadata": {
        "id": "f8C-m-8k8FJd"
      },
      "source": [
        "Для каждой пары групп мы провели 4 теста. Таким образом мы провели всего 16 тестов.<br> При проверки наших гипотез мы рискуем получить ошибку первого рода( т.е. зафиксировать разницу между группами, когда её на самом деле нет). Мы ограничили вероятность такого события статистическим уровнем значимости: α - 0,01. После проведения теста, ни одна из гипотез не была отвергнута, разницы в долях уникальных пользователей оказались не значимы статистически.\n",
        "<br>Т.к. в данном тесте мы имеем дело с множественной проверкой гипотез, итоги могут привести к увеличению ошибок первого рода. Можно было бы повторить тест с поправкой Бонферрони, т.е. разделить нашу α на количество тестов и применить полученную величину как уровень статистической значимости, но т.к. в нашем тестировании нет ни одной опровергнутой *H₀*, повторять тест с поправкой Бонферрони нет смысла."
      ]
    },
    {
      "cell_type": "markdown",
      "metadata": {
        "id": "i5EjeuAp8FJd"
      },
      "source": [
        "## Вывод"
      ]
    },
    {
      "cell_type": "markdown",
      "metadata": {
        "id": "F3y1UMqA8FJd"
      },
      "source": [
        "- **1) Проверка данных**. При Проверке данных мы убрали из анализа часть предоставленного периода. Оставили данные с *01.08 19 до 07.08.19.* Убрали  *0,23%* пользователей и *1.16%* действий. Сделали это из-за того, что до 01.08.19 года данные оказались не полными и могли исказить дальнейший анализ. Наши тестовые группы получились примерно оинаковыми без значительных перевесов.\n",
        "  \n",
        "\n",
        "- **2) Воронка событий**. В порядке убывания действия выполняются таким образом:\n",
        "<br>`MainScreenAppear` - Открытие главной страницы,\n",
        "<br>`OffersScreenAppear`  - Открытие страницы с товарами,\n",
        "<br>`CartScreenAppear` - Открытие страницы корзины,\n",
        "<br>`PaymentScreenSuccessful` - Страница успешного платежа, \n",
        "<br>`Tutorial` - Руководство.\n",
        "<br>Как выяснилось последнее действие не несет полезной нагрузки, и из иследования мы его исключили.\n",
        "<br> Наибольший объем пользоватей (38%) теряется при переходе на *страницу с товарами*. Что является проблемой. Необходимо изучить **почему пользователи не доходят до этого этапа**.  \n",
        "\n",
        "- **3)А1/А2/В - тесты**. В результате тестов разница между группами выявлена не была. Что позволяет нам сказать:  \n",
        " *Изменение шрифта в приложении не повлияло на поведение пользователей.*"
      ]
    }
  ],
  "metadata": {
    "ExecuteTimeLog": [
      {
        "duration": 424,
        "start_time": "2022-08-28T14:00:48.801Z"
      },
      {
        "duration": 695,
        "start_time": "2022-08-28T14:01:41.808Z"
      },
      {
        "duration": 19,
        "start_time": "2022-08-28T14:01:45.263Z"
      },
      {
        "duration": 205,
        "start_time": "2022-08-28T14:08:27.878Z"
      },
      {
        "duration": 10,
        "start_time": "2022-08-28T14:08:32.629Z"
      },
      {
        "duration": 228,
        "start_time": "2022-08-28T14:15:59.153Z"
      },
      {
        "duration": 173,
        "start_time": "2022-08-28T14:16:04.196Z"
      },
      {
        "duration": 13,
        "start_time": "2022-08-28T14:18:59.571Z"
      },
      {
        "duration": 9,
        "start_time": "2022-08-28T14:21:47.937Z"
      },
      {
        "duration": 34,
        "start_time": "2022-08-28T14:22:17.609Z"
      },
      {
        "duration": 29,
        "start_time": "2022-08-28T14:37:30.582Z"
      },
      {
        "duration": 760,
        "start_time": "2022-08-28T14:37:54.399Z"
      },
      {
        "duration": 6,
        "start_time": "2022-08-28T14:37:57.268Z"
      },
      {
        "duration": 47,
        "start_time": "2022-08-28T14:51:47.137Z"
      },
      {
        "duration": 46,
        "start_time": "2022-08-28T14:52:26.433Z"
      },
      {
        "duration": 43,
        "start_time": "2022-08-28T14:52:34.400Z"
      },
      {
        "duration": 63,
        "start_time": "2022-08-28T15:09:37.100Z"
      },
      {
        "duration": 92,
        "start_time": "2022-08-28T15:10:00.550Z"
      },
      {
        "duration": 1375,
        "start_time": "2022-08-28T15:31:46.530Z"
      },
      {
        "duration": 358,
        "start_time": "2022-08-28T15:32:04.942Z"
      },
      {
        "duration": 173,
        "start_time": "2022-08-28T15:32:05.302Z"
      },
      {
        "duration": 23,
        "start_time": "2022-08-28T15:32:05.476Z"
      },
      {
        "duration": 30,
        "start_time": "2022-08-28T15:32:05.500Z"
      },
      {
        "duration": 8,
        "start_time": "2022-08-28T15:32:05.533Z"
      },
      {
        "duration": 14,
        "start_time": "2022-08-28T15:32:05.543Z"
      },
      {
        "duration": 911,
        "start_time": "2022-08-28T15:32:37.122Z"
      },
      {
        "duration": 25,
        "start_time": "2022-08-28T15:32:58.671Z"
      },
      {
        "duration": 25,
        "start_time": "2022-08-28T15:33:07.223Z"
      },
      {
        "duration": 17,
        "start_time": "2022-08-28T15:37:27.894Z"
      },
      {
        "duration": 48,
        "start_time": "2022-08-28T15:37:49.427Z"
      },
      {
        "duration": 7,
        "start_time": "2022-08-28T15:37:55.749Z"
      },
      {
        "duration": 457,
        "start_time": "2022-08-28T15:38:04.782Z"
      },
      {
        "duration": 196,
        "start_time": "2022-08-28T15:38:05.241Z"
      },
      {
        "duration": 21,
        "start_time": "2022-08-28T15:38:05.439Z"
      },
      {
        "duration": 42,
        "start_time": "2022-08-28T15:38:05.462Z"
      },
      {
        "duration": 21,
        "start_time": "2022-08-28T15:38:05.506Z"
      },
      {
        "duration": 26,
        "start_time": "2022-08-28T15:38:05.528Z"
      },
      {
        "duration": 22,
        "start_time": "2022-08-28T15:38:05.555Z"
      },
      {
        "duration": 71,
        "start_time": "2022-08-28T15:38:05.579Z"
      },
      {
        "duration": 55,
        "start_time": "2022-08-28T15:38:20.039Z"
      },
      {
        "duration": 23,
        "start_time": "2022-08-28T15:38:28.986Z"
      },
      {
        "duration": 428,
        "start_time": "2022-08-28T15:40:24.373Z"
      },
      {
        "duration": 174,
        "start_time": "2022-08-28T15:40:24.803Z"
      },
      {
        "duration": 19,
        "start_time": "2022-08-28T15:40:24.978Z"
      },
      {
        "duration": 23,
        "start_time": "2022-08-28T15:40:24.999Z"
      },
      {
        "duration": 7,
        "start_time": "2022-08-28T15:40:25.024Z"
      },
      {
        "duration": 23,
        "start_time": "2022-08-28T15:40:25.033Z"
      },
      {
        "duration": 42,
        "start_time": "2022-08-28T15:40:25.057Z"
      },
      {
        "duration": 59,
        "start_time": "2022-08-28T15:40:25.101Z"
      },
      {
        "duration": 79,
        "start_time": "2022-08-28T15:42:45.134Z"
      },
      {
        "duration": 947,
        "start_time": "2022-08-28T17:06:44.156Z"
      },
      {
        "duration": 423,
        "start_time": "2022-08-28T17:07:22.581Z"
      },
      {
        "duration": 216,
        "start_time": "2022-08-28T17:07:23.006Z"
      },
      {
        "duration": 21,
        "start_time": "2022-08-28T17:07:23.223Z"
      },
      {
        "duration": 52,
        "start_time": "2022-08-28T17:07:23.246Z"
      },
      {
        "duration": 7,
        "start_time": "2022-08-28T17:07:23.300Z"
      },
      {
        "duration": 29,
        "start_time": "2022-08-28T17:07:23.309Z"
      },
      {
        "duration": 20,
        "start_time": "2022-08-28T17:07:23.340Z"
      },
      {
        "duration": 94,
        "start_time": "2022-08-28T17:07:23.362Z"
      },
      {
        "duration": 1001,
        "start_time": "2022-08-28T17:07:23.459Z"
      },
      {
        "duration": 85,
        "start_time": "2022-08-28T17:08:24.948Z"
      },
      {
        "duration": 96,
        "start_time": "2022-08-28T17:08:38.957Z"
      },
      {
        "duration": 116,
        "start_time": "2022-08-28T17:09:29.213Z"
      },
      {
        "duration": 163,
        "start_time": "2022-08-28T17:09:35.801Z"
      },
      {
        "duration": 171,
        "start_time": "2022-08-28T17:18:07.945Z"
      },
      {
        "duration": 124,
        "start_time": "2022-08-28T17:18:19.552Z"
      },
      {
        "duration": 118,
        "start_time": "2022-08-28T17:18:24.854Z"
      },
      {
        "duration": 57,
        "start_time": "2022-08-28T17:26:08.439Z"
      },
      {
        "duration": 57,
        "start_time": "2022-08-28T17:26:23.634Z"
      },
      {
        "duration": 50,
        "start_time": "2022-08-28T17:26:29.256Z"
      },
      {
        "duration": 119,
        "start_time": "2022-08-28T17:27:10.119Z"
      },
      {
        "duration": 389,
        "start_time": "2022-08-28T17:27:17.414Z"
      },
      {
        "duration": 179,
        "start_time": "2022-08-28T17:27:17.805Z"
      },
      {
        "duration": 19,
        "start_time": "2022-08-28T17:27:17.986Z"
      },
      {
        "duration": 20,
        "start_time": "2022-08-28T17:27:18.007Z"
      },
      {
        "duration": 5,
        "start_time": "2022-08-28T17:27:18.029Z"
      },
      {
        "duration": 25,
        "start_time": "2022-08-28T17:27:18.036Z"
      },
      {
        "duration": 37,
        "start_time": "2022-08-28T17:27:18.063Z"
      },
      {
        "duration": 93,
        "start_time": "2022-08-28T17:27:18.102Z"
      },
      {
        "duration": 54,
        "start_time": "2022-08-28T17:27:18.197Z"
      },
      {
        "duration": 136,
        "start_time": "2022-08-28T17:27:18.254Z"
      },
      {
        "duration": 150,
        "start_time": "2022-08-28T17:27:18.392Z"
      },
      {
        "duration": 406,
        "start_time": "2022-08-28T17:27:56.981Z"
      },
      {
        "duration": 173,
        "start_time": "2022-08-28T17:27:57.389Z"
      },
      {
        "duration": 30,
        "start_time": "2022-08-28T17:27:57.563Z"
      },
      {
        "duration": 23,
        "start_time": "2022-08-28T17:27:57.595Z"
      },
      {
        "duration": 5,
        "start_time": "2022-08-28T17:27:57.621Z"
      },
      {
        "duration": 20,
        "start_time": "2022-08-28T17:27:57.628Z"
      },
      {
        "duration": 45,
        "start_time": "2022-08-28T17:27:57.649Z"
      },
      {
        "duration": 93,
        "start_time": "2022-08-28T17:27:57.695Z"
      },
      {
        "duration": 62,
        "start_time": "2022-08-28T17:27:57.790Z"
      },
      {
        "duration": 0,
        "start_time": "2022-08-28T17:27:57.854Z"
      },
      {
        "duration": 0,
        "start_time": "2022-08-28T17:27:57.855Z"
      },
      {
        "duration": 61,
        "start_time": "2022-08-28T17:28:08.369Z"
      },
      {
        "duration": 398,
        "start_time": "2022-08-28T17:28:15.715Z"
      },
      {
        "duration": 210,
        "start_time": "2022-08-28T17:28:16.115Z"
      },
      {
        "duration": 30,
        "start_time": "2022-08-28T17:28:16.327Z"
      },
      {
        "duration": 49,
        "start_time": "2022-08-28T17:28:16.359Z"
      },
      {
        "duration": 6,
        "start_time": "2022-08-28T17:28:16.411Z"
      },
      {
        "duration": 28,
        "start_time": "2022-08-28T17:28:16.419Z"
      },
      {
        "duration": 42,
        "start_time": "2022-08-28T17:28:16.449Z"
      },
      {
        "duration": 105,
        "start_time": "2022-08-28T17:28:16.493Z"
      },
      {
        "duration": 68,
        "start_time": "2022-08-28T17:28:16.601Z"
      },
      {
        "duration": 126,
        "start_time": "2022-08-28T17:28:16.671Z"
      },
      {
        "duration": 144,
        "start_time": "2022-08-28T17:28:16.799Z"
      },
      {
        "duration": 8,
        "start_time": "2022-08-28T17:34:31.871Z"
      },
      {
        "duration": 65,
        "start_time": "2022-08-28T17:34:43.021Z"
      },
      {
        "duration": 3,
        "start_time": "2022-08-28T17:35:18.810Z"
      },
      {
        "duration": 10,
        "start_time": "2022-08-28T17:35:22.840Z"
      },
      {
        "duration": 438,
        "start_time": "2022-08-28T17:35:30.264Z"
      },
      {
        "duration": 186,
        "start_time": "2022-08-28T17:35:30.704Z"
      },
      {
        "duration": 22,
        "start_time": "2022-08-28T17:35:30.895Z"
      },
      {
        "duration": 27,
        "start_time": "2022-08-28T17:35:30.920Z"
      },
      {
        "duration": 8,
        "start_time": "2022-08-28T17:35:30.949Z"
      },
      {
        "duration": 19,
        "start_time": "2022-08-28T17:35:30.988Z"
      },
      {
        "duration": 20,
        "start_time": "2022-08-28T17:35:31.009Z"
      },
      {
        "duration": 122,
        "start_time": "2022-08-28T17:35:31.031Z"
      },
      {
        "duration": 92,
        "start_time": "2022-08-28T17:35:31.155Z"
      },
      {
        "duration": 124,
        "start_time": "2022-08-28T17:35:31.249Z"
      },
      {
        "duration": 148,
        "start_time": "2022-08-28T17:35:31.375Z"
      },
      {
        "duration": 69,
        "start_time": "2022-08-28T17:35:31.525Z"
      },
      {
        "duration": 13,
        "start_time": "2022-08-28T17:36:18.459Z"
      },
      {
        "duration": 8,
        "start_time": "2022-08-28T17:39:59.342Z"
      },
      {
        "duration": 51,
        "start_time": "2022-08-28T17:40:37.938Z"
      },
      {
        "duration": 408,
        "start_time": "2022-08-28T17:41:02.660Z"
      },
      {
        "duration": 27,
        "start_time": "2022-08-28T17:41:09.861Z"
      },
      {
        "duration": 104,
        "start_time": "2022-08-28T17:43:30.631Z"
      },
      {
        "duration": 2,
        "start_time": "2022-08-28T17:43:44.148Z"
      },
      {
        "duration": 3,
        "start_time": "2022-08-28T17:43:50.924Z"
      },
      {
        "duration": 4,
        "start_time": "2022-08-28T17:44:02.561Z"
      },
      {
        "duration": 6,
        "start_time": "2022-08-28T17:44:07.490Z"
      },
      {
        "duration": 48,
        "start_time": "2022-08-28T17:47:30.148Z"
      },
      {
        "duration": 65,
        "start_time": "2022-08-28T17:48:03.374Z"
      },
      {
        "duration": 1002,
        "start_time": "2022-08-28T17:49:13.423Z"
      },
      {
        "duration": 66,
        "start_time": "2022-08-28T17:50:20.643Z"
      },
      {
        "duration": 68,
        "start_time": "2022-08-28T17:50:34.011Z"
      },
      {
        "duration": 765,
        "start_time": "2022-08-28T17:50:54.587Z"
      },
      {
        "duration": 69,
        "start_time": "2022-08-28T17:51:30.442Z"
      },
      {
        "duration": 68,
        "start_time": "2022-08-28T17:51:55.873Z"
      },
      {
        "duration": 56,
        "start_time": "2022-08-28T17:53:19.398Z"
      },
      {
        "duration": 4,
        "start_time": "2022-08-28T17:53:45.411Z"
      },
      {
        "duration": 61,
        "start_time": "2022-08-28T17:53:51.611Z"
      },
      {
        "duration": 70,
        "start_time": "2022-08-28T17:55:06.656Z"
      },
      {
        "duration": 78,
        "start_time": "2022-08-28T17:55:24.749Z"
      },
      {
        "duration": 56,
        "start_time": "2022-08-28T17:55:33.037Z"
      },
      {
        "duration": 60,
        "start_time": "2022-08-28T17:56:52.797Z"
      },
      {
        "duration": 78,
        "start_time": "2022-08-28T17:57:17.838Z"
      },
      {
        "duration": 62,
        "start_time": "2022-08-28T17:57:26.948Z"
      },
      {
        "duration": 73,
        "start_time": "2022-08-28T17:58:47.989Z"
      },
      {
        "duration": 107,
        "start_time": "2022-08-28T17:59:14.912Z"
      },
      {
        "duration": 1144,
        "start_time": "2022-08-28T18:15:05.391Z"
      },
      {
        "duration": 986,
        "start_time": "2022-08-28T18:22:19.241Z"
      },
      {
        "duration": 580,
        "start_time": "2022-08-28T18:22:29.970Z"
      },
      {
        "duration": 210,
        "start_time": "2022-08-28T18:22:42.479Z"
      },
      {
        "duration": 241,
        "start_time": "2022-08-28T18:22:56.234Z"
      },
      {
        "duration": 1276,
        "start_time": "2022-08-28T18:28:01.862Z"
      },
      {
        "duration": 239,
        "start_time": "2022-08-28T18:28:03.141Z"
      },
      {
        "duration": 39,
        "start_time": "2022-08-28T18:28:03.388Z"
      },
      {
        "duration": 31,
        "start_time": "2022-08-28T18:28:03.434Z"
      },
      {
        "duration": 6,
        "start_time": "2022-08-28T18:28:03.467Z"
      },
      {
        "duration": 33,
        "start_time": "2022-08-28T18:28:03.475Z"
      },
      {
        "duration": 53,
        "start_time": "2022-08-28T18:28:03.510Z"
      },
      {
        "duration": 108,
        "start_time": "2022-08-28T18:28:03.564Z"
      },
      {
        "duration": 92,
        "start_time": "2022-08-28T18:28:03.674Z"
      },
      {
        "duration": 173,
        "start_time": "2022-08-28T18:28:03.770Z"
      },
      {
        "duration": 180,
        "start_time": "2022-08-28T18:28:03.945Z"
      },
      {
        "duration": 17,
        "start_time": "2022-08-28T18:28:04.127Z"
      },
      {
        "duration": 15,
        "start_time": "2022-08-28T18:28:04.146Z"
      },
      {
        "duration": 115,
        "start_time": "2022-08-28T18:28:04.163Z"
      },
      {
        "duration": 805,
        "start_time": "2022-08-28T18:28:04.279Z"
      },
      {
        "duration": 0,
        "start_time": "2022-08-28T18:28:05.086Z"
      },
      {
        "duration": 15,
        "start_time": "2022-08-28T18:28:17.023Z"
      },
      {
        "duration": 1188,
        "start_time": "2022-08-28T18:28:25.419Z"
      },
      {
        "duration": 1168,
        "start_time": "2022-08-28T18:28:58.004Z"
      },
      {
        "duration": 1149,
        "start_time": "2022-08-28T18:30:47.643Z"
      },
      {
        "duration": 1387,
        "start_time": "2022-08-28T18:31:29.905Z"
      },
      {
        "duration": 1359,
        "start_time": "2022-08-28T18:32:07.209Z"
      },
      {
        "duration": 1172,
        "start_time": "2022-08-28T18:32:50.211Z"
      },
      {
        "duration": 225,
        "start_time": "2022-08-28T18:38:50.159Z"
      },
      {
        "duration": 0,
        "start_time": "2022-08-28T18:41:14.398Z"
      },
      {
        "duration": 0,
        "start_time": "2022-08-28T18:41:14.399Z"
      },
      {
        "duration": 0,
        "start_time": "2022-08-28T18:41:14.401Z"
      },
      {
        "duration": 0,
        "start_time": "2022-08-28T18:41:14.401Z"
      },
      {
        "duration": 0,
        "start_time": "2022-08-28T18:41:14.404Z"
      },
      {
        "duration": 0,
        "start_time": "2022-08-28T18:41:14.407Z"
      },
      {
        "duration": 0,
        "start_time": "2022-08-28T18:41:14.409Z"
      },
      {
        "duration": 0,
        "start_time": "2022-08-28T18:41:14.410Z"
      },
      {
        "duration": 0,
        "start_time": "2022-08-28T18:41:14.411Z"
      },
      {
        "duration": 0,
        "start_time": "2022-08-28T18:41:14.413Z"
      },
      {
        "duration": 0,
        "start_time": "2022-08-28T18:41:14.414Z"
      },
      {
        "duration": 0,
        "start_time": "2022-08-28T18:41:14.415Z"
      },
      {
        "duration": 0,
        "start_time": "2022-08-28T18:41:14.419Z"
      },
      {
        "duration": 0,
        "start_time": "2022-08-28T18:41:14.430Z"
      },
      {
        "duration": 0,
        "start_time": "2022-08-28T18:41:14.431Z"
      },
      {
        "duration": 0,
        "start_time": "2022-08-28T18:41:14.432Z"
      },
      {
        "duration": 1109,
        "start_time": "2022-08-28T18:42:21.383Z"
      },
      {
        "duration": 173,
        "start_time": "2022-08-28T18:42:22.494Z"
      },
      {
        "duration": 22,
        "start_time": "2022-08-28T18:42:22.669Z"
      },
      {
        "duration": 22,
        "start_time": "2022-08-28T18:42:22.693Z"
      },
      {
        "duration": 5,
        "start_time": "2022-08-28T18:42:22.717Z"
      },
      {
        "duration": 23,
        "start_time": "2022-08-28T18:42:22.724Z"
      },
      {
        "duration": 51,
        "start_time": "2022-08-28T18:42:22.749Z"
      },
      {
        "duration": 98,
        "start_time": "2022-08-28T18:42:22.802Z"
      },
      {
        "duration": 86,
        "start_time": "2022-08-28T18:42:22.902Z"
      },
      {
        "duration": 142,
        "start_time": "2022-08-28T18:42:22.992Z"
      },
      {
        "duration": 177,
        "start_time": "2022-08-28T18:42:23.136Z"
      },
      {
        "duration": 10,
        "start_time": "2022-08-28T18:42:23.315Z"
      },
      {
        "duration": 14,
        "start_time": "2022-08-28T18:42:23.327Z"
      },
      {
        "duration": 68,
        "start_time": "2022-08-28T18:42:23.343Z"
      },
      {
        "duration": 1043,
        "start_time": "2022-08-28T18:42:23.413Z"
      },
      {
        "duration": 4,
        "start_time": "2022-08-28T18:42:24.459Z"
      },
      {
        "duration": 49,
        "start_time": "2022-08-28T18:44:35.607Z"
      },
      {
        "duration": 331,
        "start_time": "2022-08-28T18:44:42.507Z"
      },
      {
        "duration": 174,
        "start_time": "2022-08-28T18:45:32.997Z"
      },
      {
        "duration": 840,
        "start_time": "2022-08-28T18:46:02.768Z"
      },
      {
        "duration": 35,
        "start_time": "2022-08-28T18:46:17.092Z"
      },
      {
        "duration": 65,
        "start_time": "2022-08-28T18:46:44.069Z"
      },
      {
        "duration": 47,
        "start_time": "2022-08-28T18:48:18.439Z"
      },
      {
        "duration": 495,
        "start_time": "2022-08-28T18:48:23.034Z"
      },
      {
        "duration": 542,
        "start_time": "2022-08-28T18:48:37.781Z"
      },
      {
        "duration": 48,
        "start_time": "2022-08-28T18:51:11.911Z"
      },
      {
        "duration": 38,
        "start_time": "2022-08-28T18:51:19.833Z"
      },
      {
        "duration": 49,
        "start_time": "2022-08-28T18:51:23.421Z"
      },
      {
        "duration": 524,
        "start_time": "2022-08-28T18:51:38.408Z"
      },
      {
        "duration": 126,
        "start_time": "2022-08-28T18:52:36.854Z"
      },
      {
        "duration": 1153,
        "start_time": "2022-08-28T18:52:45.062Z"
      },
      {
        "duration": 225,
        "start_time": "2022-08-28T18:52:46.218Z"
      },
      {
        "duration": 22,
        "start_time": "2022-08-28T18:52:46.448Z"
      },
      {
        "duration": 63,
        "start_time": "2022-08-28T18:52:46.473Z"
      },
      {
        "duration": 8,
        "start_time": "2022-08-28T18:52:46.540Z"
      },
      {
        "duration": 26,
        "start_time": "2022-08-28T18:52:46.550Z"
      },
      {
        "duration": 73,
        "start_time": "2022-08-28T18:52:46.578Z"
      },
      {
        "duration": 169,
        "start_time": "2022-08-28T18:52:46.654Z"
      },
      {
        "duration": 68,
        "start_time": "2022-08-28T18:52:46.826Z"
      },
      {
        "duration": 100,
        "start_time": "2022-08-28T18:52:46.902Z"
      },
      {
        "duration": 145,
        "start_time": "2022-08-28T18:52:47.007Z"
      },
      {
        "duration": 41,
        "start_time": "2022-08-28T18:52:47.155Z"
      },
      {
        "duration": 10,
        "start_time": "2022-08-28T18:52:47.198Z"
      },
      {
        "duration": 6,
        "start_time": "2022-08-28T18:52:47.209Z"
      },
      {
        "duration": 14,
        "start_time": "2022-08-28T18:52:47.217Z"
      },
      {
        "duration": 3012,
        "start_time": "2022-08-28T18:52:47.233Z"
      },
      {
        "duration": 5,
        "start_time": "2022-08-28T18:52:50.247Z"
      },
      {
        "duration": 0,
        "start_time": "2022-08-28T18:52:50.253Z"
      },
      {
        "duration": 1,
        "start_time": "2022-08-28T18:52:50.254Z"
      },
      {
        "duration": 22,
        "start_time": "2022-08-28T18:53:05.113Z"
      },
      {
        "duration": 36,
        "start_time": "2022-08-28T18:53:15.611Z"
      },
      {
        "duration": 15,
        "start_time": "2022-08-28T18:53:27.876Z"
      },
      {
        "duration": 15,
        "start_time": "2022-08-28T18:54:32.869Z"
      },
      {
        "duration": 1476,
        "start_time": "2022-08-28T18:55:19.281Z"
      },
      {
        "duration": 264,
        "start_time": "2022-08-28T18:55:20.760Z"
      },
      {
        "duration": 33,
        "start_time": "2022-08-28T18:55:21.026Z"
      },
      {
        "duration": 49,
        "start_time": "2022-08-28T18:55:21.061Z"
      },
      {
        "duration": 7,
        "start_time": "2022-08-28T18:55:21.113Z"
      },
      {
        "duration": 31,
        "start_time": "2022-08-28T18:55:21.125Z"
      },
      {
        "duration": 36,
        "start_time": "2022-08-28T18:55:21.158Z"
      },
      {
        "duration": 148,
        "start_time": "2022-08-28T18:55:21.197Z"
      },
      {
        "duration": 116,
        "start_time": "2022-08-28T18:55:21.347Z"
      },
      {
        "duration": 178,
        "start_time": "2022-08-28T18:55:21.465Z"
      },
      {
        "duration": 205,
        "start_time": "2022-08-28T18:55:21.646Z"
      },
      {
        "duration": 50,
        "start_time": "2022-08-28T18:55:21.853Z"
      },
      {
        "duration": 10,
        "start_time": "2022-08-28T18:55:21.905Z"
      },
      {
        "duration": 6,
        "start_time": "2022-08-28T18:55:21.918Z"
      },
      {
        "duration": 143,
        "start_time": "2022-08-28T18:55:21.926Z"
      },
      {
        "duration": 1140,
        "start_time": "2022-08-28T18:55:22.072Z"
      },
      {
        "duration": 17,
        "start_time": "2022-08-28T18:55:23.214Z"
      },
      {
        "duration": 1518,
        "start_time": "2022-08-28T18:55:33.842Z"
      },
      {
        "duration": 4,
        "start_time": "2022-08-28T18:56:48.212Z"
      },
      {
        "duration": 62,
        "start_time": "2022-08-28T18:57:36.890Z"
      },
      {
        "duration": 5,
        "start_time": "2022-08-28T18:57:44.624Z"
      },
      {
        "duration": 3,
        "start_time": "2022-08-28T18:57:49.325Z"
      },
      {
        "duration": 4,
        "start_time": "2022-08-28T18:58:05.862Z"
      },
      {
        "duration": 4,
        "start_time": "2022-08-28T18:58:53.063Z"
      },
      {
        "duration": 4,
        "start_time": "2022-08-28T18:58:58.963Z"
      },
      {
        "duration": 22,
        "start_time": "2022-08-28T18:59:55.396Z"
      },
      {
        "duration": 39,
        "start_time": "2022-08-28T19:00:01.664Z"
      },
      {
        "duration": 102,
        "start_time": "2022-08-28T19:00:54.425Z"
      },
      {
        "duration": 1369,
        "start_time": "2022-08-28T19:01:00.169Z"
      },
      {
        "duration": 215,
        "start_time": "2022-08-28T19:01:01.541Z"
      },
      {
        "duration": 38,
        "start_time": "2022-08-28T19:01:01.759Z"
      },
      {
        "duration": 48,
        "start_time": "2022-08-28T19:01:01.801Z"
      },
      {
        "duration": 8,
        "start_time": "2022-08-28T19:01:01.852Z"
      },
      {
        "duration": 49,
        "start_time": "2022-08-28T19:01:01.862Z"
      },
      {
        "duration": 36,
        "start_time": "2022-08-28T19:01:01.913Z"
      },
      {
        "duration": 109,
        "start_time": "2022-08-28T19:01:01.951Z"
      },
      {
        "duration": 92,
        "start_time": "2022-08-28T19:01:02.062Z"
      },
      {
        "duration": 175,
        "start_time": "2022-08-28T19:01:02.156Z"
      },
      {
        "duration": 176,
        "start_time": "2022-08-28T19:01:02.334Z"
      },
      {
        "duration": 64,
        "start_time": "2022-08-28T19:01:02.512Z"
      },
      {
        "duration": 18,
        "start_time": "2022-08-28T19:01:02.590Z"
      },
      {
        "duration": 18,
        "start_time": "2022-08-28T19:01:02.611Z"
      },
      {
        "duration": 81,
        "start_time": "2022-08-28T19:01:02.630Z"
      },
      {
        "duration": 1117,
        "start_time": "2022-08-28T19:01:02.713Z"
      },
      {
        "duration": 16,
        "start_time": "2022-08-28T19:01:03.832Z"
      },
      {
        "duration": 3,
        "start_time": "2022-08-28T19:01:03.850Z"
      },
      {
        "duration": 60,
        "start_time": "2022-08-28T19:01:03.855Z"
      },
      {
        "duration": 10,
        "start_time": "2022-08-28T19:03:12.284Z"
      },
      {
        "duration": 1180,
        "start_time": "2022-08-28T19:03:19.001Z"
      },
      {
        "duration": 173,
        "start_time": "2022-08-28T19:03:20.183Z"
      },
      {
        "duration": 20,
        "start_time": "2022-08-28T19:03:20.358Z"
      },
      {
        "duration": 39,
        "start_time": "2022-08-28T19:03:20.380Z"
      },
      {
        "duration": 7,
        "start_time": "2022-08-28T19:03:20.422Z"
      },
      {
        "duration": 14,
        "start_time": "2022-08-28T19:03:20.431Z"
      },
      {
        "duration": 41,
        "start_time": "2022-08-28T19:03:20.447Z"
      },
      {
        "duration": 124,
        "start_time": "2022-08-28T19:03:20.491Z"
      },
      {
        "duration": 58,
        "start_time": "2022-08-28T19:03:20.616Z"
      },
      {
        "duration": 121,
        "start_time": "2022-08-28T19:03:20.688Z"
      },
      {
        "duration": 127,
        "start_time": "2022-08-28T19:03:20.811Z"
      },
      {
        "duration": 36,
        "start_time": "2022-08-28T19:03:20.941Z"
      },
      {
        "duration": 10,
        "start_time": "2022-08-28T19:03:20.987Z"
      },
      {
        "duration": 5,
        "start_time": "2022-08-28T19:03:20.999Z"
      },
      {
        "duration": 63,
        "start_time": "2022-08-28T19:03:21.006Z"
      },
      {
        "duration": 1110,
        "start_time": "2022-08-28T19:03:21.087Z"
      },
      {
        "duration": 20,
        "start_time": "2022-08-28T19:03:22.201Z"
      },
      {
        "duration": 4,
        "start_time": "2022-08-28T19:03:22.222Z"
      },
      {
        "duration": 31,
        "start_time": "2022-08-28T19:03:22.227Z"
      },
      {
        "duration": 4,
        "start_time": "2022-08-28T19:03:41.982Z"
      },
      {
        "duration": 1156,
        "start_time": "2022-08-28T19:04:30.340Z"
      },
      {
        "duration": 218,
        "start_time": "2022-08-28T19:04:31.498Z"
      },
      {
        "duration": 22,
        "start_time": "2022-08-28T19:04:31.718Z"
      },
      {
        "duration": 23,
        "start_time": "2022-08-28T19:04:31.750Z"
      },
      {
        "duration": 6,
        "start_time": "2022-08-28T19:04:31.786Z"
      },
      {
        "duration": 35,
        "start_time": "2022-08-28T19:04:31.793Z"
      },
      {
        "duration": 35,
        "start_time": "2022-08-28T19:04:31.830Z"
      },
      {
        "duration": 86,
        "start_time": "2022-08-28T19:04:31.866Z"
      },
      {
        "duration": 73,
        "start_time": "2022-08-28T19:04:31.954Z"
      },
      {
        "duration": 158,
        "start_time": "2022-08-28T19:04:32.030Z"
      },
      {
        "duration": 142,
        "start_time": "2022-08-28T19:04:32.190Z"
      },
      {
        "duration": 37,
        "start_time": "2022-08-28T19:04:32.334Z"
      },
      {
        "duration": 27,
        "start_time": "2022-08-28T19:04:32.373Z"
      },
      {
        "duration": 5,
        "start_time": "2022-08-28T19:04:32.404Z"
      },
      {
        "duration": 66,
        "start_time": "2022-08-28T19:04:32.411Z"
      },
      {
        "duration": 1113,
        "start_time": "2022-08-28T19:04:32.486Z"
      },
      {
        "duration": 18,
        "start_time": "2022-08-28T19:04:33.601Z"
      },
      {
        "duration": 3,
        "start_time": "2022-08-28T19:04:33.621Z"
      },
      {
        "duration": 46,
        "start_time": "2022-08-28T19:04:33.626Z"
      },
      {
        "duration": 3,
        "start_time": "2022-08-28T19:06:54.345Z"
      },
      {
        "duration": 7,
        "start_time": "2022-08-28T19:08:39.491Z"
      },
      {
        "duration": 8,
        "start_time": "2022-08-28T19:08:52.444Z"
      },
      {
        "duration": 1149,
        "start_time": "2022-08-28T19:08:57.871Z"
      },
      {
        "duration": 181,
        "start_time": "2022-08-28T19:08:59.022Z"
      },
      {
        "duration": 20,
        "start_time": "2022-08-28T19:08:59.206Z"
      },
      {
        "duration": 21,
        "start_time": "2022-08-28T19:08:59.228Z"
      },
      {
        "duration": 6,
        "start_time": "2022-08-28T19:08:59.251Z"
      },
      {
        "duration": 51,
        "start_time": "2022-08-28T19:08:59.260Z"
      },
      {
        "duration": 22,
        "start_time": "2022-08-28T19:08:59.312Z"
      },
      {
        "duration": 101,
        "start_time": "2022-08-28T19:08:59.336Z"
      },
      {
        "duration": 78,
        "start_time": "2022-08-28T19:08:59.439Z"
      },
      {
        "duration": 135,
        "start_time": "2022-08-28T19:08:59.521Z"
      },
      {
        "duration": 148,
        "start_time": "2022-08-28T19:08:59.658Z"
      },
      {
        "duration": 38,
        "start_time": "2022-08-28T19:08:59.808Z"
      },
      {
        "duration": 18,
        "start_time": "2022-08-28T19:08:59.848Z"
      },
      {
        "duration": 40,
        "start_time": "2022-08-28T19:08:59.868Z"
      },
      {
        "duration": 113,
        "start_time": "2022-08-28T19:08:59.910Z"
      },
      {
        "duration": 1204,
        "start_time": "2022-08-28T19:09:00.025Z"
      },
      {
        "duration": 15,
        "start_time": "2022-08-28T19:09:01.230Z"
      },
      {
        "duration": 21,
        "start_time": "2022-08-28T19:09:01.247Z"
      },
      {
        "duration": 67,
        "start_time": "2022-08-28T19:09:01.270Z"
      },
      {
        "duration": 77,
        "start_time": "2022-08-28T19:13:58.859Z"
      },
      {
        "duration": 7,
        "start_time": "2022-08-28T19:14:58.336Z"
      },
      {
        "duration": 5,
        "start_time": "2022-08-28T19:15:45.540Z"
      },
      {
        "duration": 11,
        "start_time": "2022-08-28T19:17:05.273Z"
      },
      {
        "duration": 4,
        "start_time": "2022-08-28T19:17:17.905Z"
      },
      {
        "duration": 1165,
        "start_time": "2022-08-28T19:17:23.282Z"
      },
      {
        "duration": 175,
        "start_time": "2022-08-28T19:17:24.449Z"
      },
      {
        "duration": 22,
        "start_time": "2022-08-28T19:17:24.625Z"
      },
      {
        "duration": 22,
        "start_time": "2022-08-28T19:17:24.649Z"
      },
      {
        "duration": 6,
        "start_time": "2022-08-28T19:17:24.688Z"
      },
      {
        "duration": 36,
        "start_time": "2022-08-28T19:17:24.695Z"
      },
      {
        "duration": 26,
        "start_time": "2022-08-28T19:17:24.734Z"
      },
      {
        "duration": 95,
        "start_time": "2022-08-28T19:17:24.762Z"
      },
      {
        "duration": 90,
        "start_time": "2022-08-28T19:17:24.858Z"
      },
      {
        "duration": 158,
        "start_time": "2022-08-28T19:17:24.950Z"
      },
      {
        "duration": 136,
        "start_time": "2022-08-28T19:17:25.110Z"
      },
      {
        "duration": 45,
        "start_time": "2022-08-28T19:17:25.248Z"
      },
      {
        "duration": 14,
        "start_time": "2022-08-28T19:17:25.295Z"
      },
      {
        "duration": 13,
        "start_time": "2022-08-28T19:17:25.311Z"
      },
      {
        "duration": 78,
        "start_time": "2022-08-28T19:17:25.325Z"
      },
      {
        "duration": 1188,
        "start_time": "2022-08-28T19:17:25.405Z"
      },
      {
        "duration": 19,
        "start_time": "2022-08-28T19:17:26.594Z"
      },
      {
        "duration": 145,
        "start_time": "2022-08-28T19:17:26.615Z"
      },
      {
        "duration": 0,
        "start_time": "2022-08-28T19:17:26.763Z"
      },
      {
        "duration": 4,
        "start_time": "2022-08-28T19:17:43.402Z"
      },
      {
        "duration": 7,
        "start_time": "2022-08-28T19:18:53.834Z"
      },
      {
        "duration": 1188,
        "start_time": "2022-08-28T19:19:01.108Z"
      },
      {
        "duration": 171,
        "start_time": "2022-08-28T19:19:02.298Z"
      },
      {
        "duration": 25,
        "start_time": "2022-08-28T19:19:02.473Z"
      },
      {
        "duration": 33,
        "start_time": "2022-08-28T19:19:02.501Z"
      },
      {
        "duration": 6,
        "start_time": "2022-08-28T19:19:02.536Z"
      },
      {
        "duration": 45,
        "start_time": "2022-08-28T19:19:02.543Z"
      },
      {
        "duration": 19,
        "start_time": "2022-08-28T19:19:02.590Z"
      },
      {
        "duration": 104,
        "start_time": "2022-08-28T19:19:02.611Z"
      },
      {
        "duration": 72,
        "start_time": "2022-08-28T19:19:02.716Z"
      },
      {
        "duration": 130,
        "start_time": "2022-08-28T19:19:02.790Z"
      },
      {
        "duration": 144,
        "start_time": "2022-08-28T19:19:02.922Z"
      },
      {
        "duration": 43,
        "start_time": "2022-08-28T19:19:03.068Z"
      },
      {
        "duration": 10,
        "start_time": "2022-08-28T19:19:03.113Z"
      },
      {
        "duration": 5,
        "start_time": "2022-08-28T19:19:03.125Z"
      },
      {
        "duration": 81,
        "start_time": "2022-08-28T19:19:03.132Z"
      },
      {
        "duration": 1060,
        "start_time": "2022-08-28T19:19:03.215Z"
      },
      {
        "duration": 24,
        "start_time": "2022-08-28T19:19:04.276Z"
      },
      {
        "duration": 11,
        "start_time": "2022-08-28T19:19:04.301Z"
      },
      {
        "duration": 31,
        "start_time": "2022-08-28T19:19:04.314Z"
      },
      {
        "duration": 8,
        "start_time": "2022-08-28T19:19:04.347Z"
      },
      {
        "duration": 7,
        "start_time": "2022-08-28T19:20:48.339Z"
      },
      {
        "duration": 9,
        "start_time": "2022-08-28T19:21:18.445Z"
      },
      {
        "duration": 48,
        "start_time": "2022-08-28T19:22:14.623Z"
      },
      {
        "duration": 23,
        "start_time": "2022-08-28T19:22:22.507Z"
      },
      {
        "duration": 50,
        "start_time": "2022-08-28T19:23:17.183Z"
      },
      {
        "duration": 913,
        "start_time": "2022-08-28T19:24:27.158Z"
      },
      {
        "duration": 882,
        "start_time": "2022-08-28T19:24:41.101Z"
      },
      {
        "duration": 1153,
        "start_time": "2022-08-28T19:24:52.959Z"
      },
      {
        "duration": 176,
        "start_time": "2022-08-28T19:24:54.114Z"
      },
      {
        "duration": 26,
        "start_time": "2022-08-28T19:24:54.291Z"
      },
      {
        "duration": 20,
        "start_time": "2022-08-28T19:24:54.318Z"
      },
      {
        "duration": 5,
        "start_time": "2022-08-28T19:24:54.340Z"
      },
      {
        "duration": 41,
        "start_time": "2022-08-28T19:24:54.347Z"
      },
      {
        "duration": 29,
        "start_time": "2022-08-28T19:24:54.390Z"
      },
      {
        "duration": 99,
        "start_time": "2022-08-28T19:24:54.422Z"
      },
      {
        "duration": 74,
        "start_time": "2022-08-28T19:24:54.523Z"
      },
      {
        "duration": 116,
        "start_time": "2022-08-28T19:24:54.598Z"
      },
      {
        "duration": 146,
        "start_time": "2022-08-28T19:24:54.716Z"
      },
      {
        "duration": 57,
        "start_time": "2022-08-28T19:24:54.864Z"
      },
      {
        "duration": 10,
        "start_time": "2022-08-28T19:24:54.922Z"
      },
      {
        "duration": 4,
        "start_time": "2022-08-28T19:24:54.934Z"
      },
      {
        "duration": 83,
        "start_time": "2022-08-28T19:24:54.939Z"
      },
      {
        "duration": 1080,
        "start_time": "2022-08-28T19:24:55.024Z"
      },
      {
        "duration": 14,
        "start_time": "2022-08-28T19:24:56.112Z"
      },
      {
        "duration": 15,
        "start_time": "2022-08-28T19:24:56.127Z"
      },
      {
        "duration": 41,
        "start_time": "2022-08-28T19:24:56.144Z"
      },
      {
        "duration": 9,
        "start_time": "2022-08-28T19:24:56.186Z"
      },
      {
        "duration": 86,
        "start_time": "2022-08-28T19:24:56.197Z"
      },
      {
        "duration": 988,
        "start_time": "2022-08-28T19:25:53.441Z"
      },
      {
        "duration": 1121,
        "start_time": "2022-08-28T19:26:02.049Z"
      },
      {
        "duration": 194,
        "start_time": "2022-08-28T19:26:03.173Z"
      },
      {
        "duration": 25,
        "start_time": "2022-08-28T19:26:03.369Z"
      },
      {
        "duration": 23,
        "start_time": "2022-08-28T19:26:03.401Z"
      },
      {
        "duration": 5,
        "start_time": "2022-08-28T19:26:03.426Z"
      },
      {
        "duration": 16,
        "start_time": "2022-08-28T19:26:03.433Z"
      },
      {
        "duration": 44,
        "start_time": "2022-08-28T19:26:03.451Z"
      },
      {
        "duration": 96,
        "start_time": "2022-08-28T19:26:03.497Z"
      },
      {
        "duration": 61,
        "start_time": "2022-08-28T19:26:03.602Z"
      },
      {
        "duration": 112,
        "start_time": "2022-08-28T19:26:03.665Z"
      },
      {
        "duration": 141,
        "start_time": "2022-08-28T19:26:03.779Z"
      },
      {
        "duration": 41,
        "start_time": "2022-08-28T19:26:03.922Z"
      },
      {
        "duration": 32,
        "start_time": "2022-08-28T19:26:03.965Z"
      },
      {
        "duration": 4,
        "start_time": "2022-08-28T19:26:04.001Z"
      },
      {
        "duration": 63,
        "start_time": "2022-08-28T19:26:04.007Z"
      },
      {
        "duration": 1184,
        "start_time": "2022-08-28T19:26:04.072Z"
      },
      {
        "duration": 15,
        "start_time": "2022-08-28T19:26:05.258Z"
      },
      {
        "duration": 32,
        "start_time": "2022-08-28T19:26:05.274Z"
      },
      {
        "duration": 41,
        "start_time": "2022-08-28T19:26:05.307Z"
      },
      {
        "duration": 9,
        "start_time": "2022-08-28T19:26:05.350Z"
      },
      {
        "duration": 67,
        "start_time": "2022-08-28T19:26:05.361Z"
      },
      {
        "duration": 1083,
        "start_time": "2022-08-28T19:30:02.236Z"
      },
      {
        "duration": 1222,
        "start_time": "2022-08-28T19:30:09.912Z"
      },
      {
        "duration": 193,
        "start_time": "2022-08-28T19:30:11.136Z"
      },
      {
        "duration": 19,
        "start_time": "2022-08-28T19:30:11.330Z"
      },
      {
        "duration": 21,
        "start_time": "2022-08-28T19:30:11.350Z"
      },
      {
        "duration": 9,
        "start_time": "2022-08-28T19:30:11.388Z"
      },
      {
        "duration": 27,
        "start_time": "2022-08-28T19:30:11.400Z"
      },
      {
        "duration": 19,
        "start_time": "2022-08-28T19:30:11.428Z"
      },
      {
        "duration": 105,
        "start_time": "2022-08-28T19:30:11.449Z"
      },
      {
        "duration": 89,
        "start_time": "2022-08-28T19:30:11.556Z"
      },
      {
        "duration": 128,
        "start_time": "2022-08-28T19:30:11.647Z"
      },
      {
        "duration": 147,
        "start_time": "2022-08-28T19:30:11.777Z"
      },
      {
        "duration": 36,
        "start_time": "2022-08-28T19:30:11.926Z"
      },
      {
        "duration": 10,
        "start_time": "2022-08-28T19:30:11.964Z"
      },
      {
        "duration": 24,
        "start_time": "2022-08-28T19:30:11.988Z"
      },
      {
        "duration": 66,
        "start_time": "2022-08-28T19:30:12.014Z"
      },
      {
        "duration": 1163,
        "start_time": "2022-08-28T19:30:12.082Z"
      },
      {
        "duration": 15,
        "start_time": "2022-08-28T19:30:13.247Z"
      },
      {
        "duration": 3,
        "start_time": "2022-08-28T19:30:13.264Z"
      },
      {
        "duration": 58,
        "start_time": "2022-08-28T19:30:13.269Z"
      },
      {
        "duration": 7,
        "start_time": "2022-08-28T19:30:13.328Z"
      },
      {
        "duration": 65,
        "start_time": "2022-08-28T19:30:13.336Z"
      },
      {
        "duration": 1017,
        "start_time": "2022-08-28T19:30:28.799Z"
      },
      {
        "duration": 1121,
        "start_time": "2022-08-28T19:30:34.129Z"
      },
      {
        "duration": 182,
        "start_time": "2022-08-28T19:30:35.252Z"
      },
      {
        "duration": 21,
        "start_time": "2022-08-28T19:30:35.435Z"
      },
      {
        "duration": 41,
        "start_time": "2022-08-28T19:30:35.457Z"
      },
      {
        "duration": 9,
        "start_time": "2022-08-28T19:30:35.504Z"
      },
      {
        "duration": 19,
        "start_time": "2022-08-28T19:30:35.515Z"
      },
      {
        "duration": 22,
        "start_time": "2022-08-28T19:30:35.536Z"
      },
      {
        "duration": 97,
        "start_time": "2022-08-28T19:30:35.559Z"
      },
      {
        "duration": 75,
        "start_time": "2022-08-28T19:30:35.658Z"
      },
      {
        "duration": 120,
        "start_time": "2022-08-28T19:30:35.735Z"
      },
      {
        "duration": 146,
        "start_time": "2022-08-28T19:30:35.857Z"
      },
      {
        "duration": 50,
        "start_time": "2022-08-28T19:30:36.004Z"
      },
      {
        "duration": 13,
        "start_time": "2022-08-28T19:30:36.056Z"
      },
      {
        "duration": 6,
        "start_time": "2022-08-28T19:30:36.072Z"
      },
      {
        "duration": 71,
        "start_time": "2022-08-28T19:30:36.079Z"
      },
      {
        "duration": 1290,
        "start_time": "2022-08-28T19:30:36.151Z"
      },
      {
        "duration": 14,
        "start_time": "2022-08-28T19:30:37.442Z"
      },
      {
        "duration": 3,
        "start_time": "2022-08-28T19:30:37.457Z"
      },
      {
        "duration": 51,
        "start_time": "2022-08-28T19:30:37.462Z"
      },
      {
        "duration": 7,
        "start_time": "2022-08-28T19:30:37.514Z"
      },
      {
        "duration": 74,
        "start_time": "2022-08-28T19:30:37.523Z"
      },
      {
        "duration": 95,
        "start_time": "2022-08-28T19:32:42.703Z"
      },
      {
        "duration": 1345,
        "start_time": "2022-08-29T07:49:57.599Z"
      },
      {
        "duration": 502,
        "start_time": "2022-08-29T07:49:58.946Z"
      },
      {
        "duration": 18,
        "start_time": "2022-08-29T07:49:59.450Z"
      },
      {
        "duration": 18,
        "start_time": "2022-08-29T07:49:59.470Z"
      },
      {
        "duration": 5,
        "start_time": "2022-08-29T07:49:59.489Z"
      },
      {
        "duration": 18,
        "start_time": "2022-08-29T07:49:59.495Z"
      },
      {
        "duration": 18,
        "start_time": "2022-08-29T07:49:59.515Z"
      },
      {
        "duration": 87,
        "start_time": "2022-08-29T07:49:59.534Z"
      },
      {
        "duration": 65,
        "start_time": "2022-08-29T07:49:59.623Z"
      },
      {
        "duration": 108,
        "start_time": "2022-08-29T07:49:59.691Z"
      },
      {
        "duration": 134,
        "start_time": "2022-08-29T07:49:59.801Z"
      },
      {
        "duration": 32,
        "start_time": "2022-08-29T07:49:59.937Z"
      },
      {
        "duration": 19,
        "start_time": "2022-08-29T07:49:59.970Z"
      },
      {
        "duration": 4,
        "start_time": "2022-08-29T07:49:59.991Z"
      },
      {
        "duration": 51,
        "start_time": "2022-08-29T07:49:59.996Z"
      },
      {
        "duration": 1016,
        "start_time": "2022-08-29T07:50:00.049Z"
      },
      {
        "duration": 21,
        "start_time": "2022-08-29T07:50:01.066Z"
      },
      {
        "duration": 55,
        "start_time": "2022-08-29T07:50:01.089Z"
      },
      {
        "duration": 54,
        "start_time": "2022-08-29T07:50:01.145Z"
      },
      {
        "duration": 859,
        "start_time": "2022-08-29T07:50:01.200Z"
      },
      {
        "duration": 7,
        "start_time": "2022-08-29T07:50:02.060Z"
      },
      {
        "duration": 48,
        "start_time": "2022-08-29T07:50:02.068Z"
      },
      {
        "duration": 26,
        "start_time": "2022-08-29T07:51:20.640Z"
      },
      {
        "duration": 25,
        "start_time": "2022-08-29T07:51:35.530Z"
      },
      {
        "duration": 31,
        "start_time": "2022-08-29T07:53:53.196Z"
      },
      {
        "duration": 134,
        "start_time": "2022-08-29T08:20:08.960Z"
      },
      {
        "duration": 26,
        "start_time": "2022-08-29T08:20:14.958Z"
      },
      {
        "duration": 52,
        "start_time": "2022-08-29T08:21:07.410Z"
      },
      {
        "duration": 53,
        "start_time": "2022-08-29T08:21:19.947Z"
      },
      {
        "duration": 48,
        "start_time": "2022-08-29T08:23:12.051Z"
      },
      {
        "duration": 63,
        "start_time": "2022-08-29T08:23:22.732Z"
      },
      {
        "duration": 50,
        "start_time": "2022-08-29T08:23:32.623Z"
      },
      {
        "duration": 35,
        "start_time": "2022-08-29T08:23:47.499Z"
      },
      {
        "duration": 29,
        "start_time": "2022-08-29T08:24:49.384Z"
      },
      {
        "duration": 31,
        "start_time": "2022-08-29T08:28:20.230Z"
      },
      {
        "duration": 29,
        "start_time": "2022-08-29T08:28:30.545Z"
      },
      {
        "duration": 37,
        "start_time": "2022-08-29T08:28:59.598Z"
      },
      {
        "duration": 50,
        "start_time": "2022-08-29T08:29:35.237Z"
      },
      {
        "duration": 28,
        "start_time": "2022-08-29T08:30:18.971Z"
      },
      {
        "duration": 31,
        "start_time": "2022-08-29T08:30:36.472Z"
      },
      {
        "duration": 11,
        "start_time": "2022-08-29T08:37:41.534Z"
      },
      {
        "duration": 4,
        "start_time": "2022-08-29T08:37:45.636Z"
      },
      {
        "duration": 14,
        "start_time": "2022-08-29T08:41:30.674Z"
      },
      {
        "duration": 25,
        "start_time": "2022-08-29T08:43:15.846Z"
      },
      {
        "duration": 1179,
        "start_time": "2022-08-29T08:48:15.572Z"
      },
      {
        "duration": 161,
        "start_time": "2022-08-29T08:48:16.753Z"
      },
      {
        "duration": 17,
        "start_time": "2022-08-29T08:48:16.916Z"
      },
      {
        "duration": 17,
        "start_time": "2022-08-29T08:48:16.935Z"
      },
      {
        "duration": 4,
        "start_time": "2022-08-29T08:48:16.953Z"
      },
      {
        "duration": 36,
        "start_time": "2022-08-29T08:48:16.959Z"
      },
      {
        "duration": 18,
        "start_time": "2022-08-29T08:48:16.996Z"
      },
      {
        "duration": 92,
        "start_time": "2022-08-29T08:48:17.015Z"
      },
      {
        "duration": 56,
        "start_time": "2022-08-29T08:48:17.109Z"
      },
      {
        "duration": 120,
        "start_time": "2022-08-29T08:48:17.169Z"
      },
      {
        "duration": 130,
        "start_time": "2022-08-29T08:48:17.291Z"
      },
      {
        "duration": 30,
        "start_time": "2022-08-29T08:48:17.423Z"
      },
      {
        "duration": 10,
        "start_time": "2022-08-29T08:48:17.455Z"
      },
      {
        "duration": 19,
        "start_time": "2022-08-29T08:48:17.467Z"
      },
      {
        "duration": 52,
        "start_time": "2022-08-29T08:48:17.488Z"
      },
      {
        "duration": 972,
        "start_time": "2022-08-29T08:48:17.542Z"
      },
      {
        "duration": 13,
        "start_time": "2022-08-29T08:48:18.516Z"
      },
      {
        "duration": 3,
        "start_time": "2022-08-29T08:48:18.530Z"
      },
      {
        "duration": 28,
        "start_time": "2022-08-29T08:48:18.534Z"
      },
      {
        "duration": 858,
        "start_time": "2022-08-29T08:48:18.563Z"
      },
      {
        "duration": 6,
        "start_time": "2022-08-29T08:48:19.423Z"
      },
      {
        "duration": 39,
        "start_time": "2022-08-29T08:48:19.431Z"
      },
      {
        "duration": 27,
        "start_time": "2022-08-29T08:48:19.485Z"
      },
      {
        "duration": 111,
        "start_time": "2022-08-29T08:48:19.513Z"
      },
      {
        "duration": 87,
        "start_time": "2022-08-29T08:48:19.626Z"
      },
      {
        "duration": 28,
        "start_time": "2022-08-29T08:50:28.276Z"
      },
      {
        "duration": 35,
        "start_time": "2022-08-29T08:50:34.646Z"
      },
      {
        "duration": 4,
        "start_time": "2022-08-29T08:51:13.759Z"
      },
      {
        "duration": 33,
        "start_time": "2022-08-29T08:51:22.159Z"
      },
      {
        "duration": 31,
        "start_time": "2022-08-29T08:51:38.972Z"
      },
      {
        "duration": 4,
        "start_time": "2022-08-29T08:51:52.155Z"
      },
      {
        "duration": 33,
        "start_time": "2022-08-29T08:52:00.464Z"
      },
      {
        "duration": 5,
        "start_time": "2022-08-29T08:59:00.624Z"
      },
      {
        "duration": 17,
        "start_time": "2022-08-29T08:59:02.916Z"
      },
      {
        "duration": 12,
        "start_time": "2022-08-29T08:59:13.953Z"
      },
      {
        "duration": 53,
        "start_time": "2022-08-29T09:24:53.043Z"
      },
      {
        "duration": 35,
        "start_time": "2022-08-29T09:24:59.671Z"
      },
      {
        "duration": 36,
        "start_time": "2022-08-29T09:25:48.119Z"
      },
      {
        "duration": 48,
        "start_time": "2022-08-29T09:26:30.577Z"
      },
      {
        "duration": 124,
        "start_time": "2022-08-29T10:15:13.779Z"
      },
      {
        "duration": 42,
        "start_time": "2022-08-29T10:15:35.872Z"
      },
      {
        "duration": 44,
        "start_time": "2022-08-29T10:16:02.782Z"
      },
      {
        "duration": 42,
        "start_time": "2022-08-29T10:16:13.987Z"
      },
      {
        "duration": 1218,
        "start_time": "2022-08-29T12:09:13.355Z"
      },
      {
        "duration": 169,
        "start_time": "2022-08-29T12:09:14.575Z"
      },
      {
        "duration": 18,
        "start_time": "2022-08-29T12:09:14.746Z"
      },
      {
        "duration": 28,
        "start_time": "2022-08-29T12:09:14.765Z"
      },
      {
        "duration": 9,
        "start_time": "2022-08-29T12:09:14.795Z"
      },
      {
        "duration": 24,
        "start_time": "2022-08-29T12:09:14.806Z"
      },
      {
        "duration": 18,
        "start_time": "2022-08-29T12:09:14.832Z"
      },
      {
        "duration": 92,
        "start_time": "2022-08-29T12:09:14.851Z"
      },
      {
        "duration": 70,
        "start_time": "2022-08-29T12:09:14.945Z"
      },
      {
        "duration": 127,
        "start_time": "2022-08-29T12:09:15.017Z"
      },
      {
        "duration": 139,
        "start_time": "2022-08-29T12:09:15.146Z"
      },
      {
        "duration": 34,
        "start_time": "2022-08-29T12:09:15.286Z"
      },
      {
        "duration": 11,
        "start_time": "2022-08-29T12:09:15.322Z"
      },
      {
        "duration": 3,
        "start_time": "2022-08-29T12:09:15.336Z"
      },
      {
        "duration": 67,
        "start_time": "2022-08-29T12:09:15.340Z"
      },
      {
        "duration": 1032,
        "start_time": "2022-08-29T12:09:15.410Z"
      },
      {
        "duration": 13,
        "start_time": "2022-08-29T12:09:16.443Z"
      },
      {
        "duration": 2,
        "start_time": "2022-08-29T12:09:16.458Z"
      },
      {
        "duration": 42,
        "start_time": "2022-08-29T12:09:16.461Z"
      },
      {
        "duration": 939,
        "start_time": "2022-08-29T12:09:16.505Z"
      },
      {
        "duration": 6,
        "start_time": "2022-08-29T12:09:17.446Z"
      },
      {
        "duration": 53,
        "start_time": "2022-08-29T12:09:17.453Z"
      },
      {
        "duration": 135,
        "start_time": "2022-08-29T12:09:17.508Z"
      },
      {
        "duration": 0,
        "start_time": "2022-08-29T12:09:17.645Z"
      },
      {
        "duration": 0,
        "start_time": "2022-08-29T12:09:17.646Z"
      },
      {
        "duration": 212,
        "start_time": "2022-08-29T12:11:41.239Z"
      },
      {
        "duration": 65,
        "start_time": "2022-08-29T12:12:18.660Z"
      },
      {
        "duration": 41,
        "start_time": "2022-08-29T12:20:25.495Z"
      },
      {
        "duration": 46,
        "start_time": "2022-08-29T12:20:43.762Z"
      },
      {
        "duration": 47,
        "start_time": "2022-08-29T12:21:40.231Z"
      },
      {
        "duration": 36,
        "start_time": "2022-08-29T12:24:09.054Z"
      },
      {
        "duration": 48,
        "start_time": "2022-08-29T12:24:30.670Z"
      },
      {
        "duration": 1615,
        "start_time": "2022-08-29T12:24:59.253Z"
      },
      {
        "duration": 42,
        "start_time": "2022-08-29T12:25:14.368Z"
      },
      {
        "duration": 44,
        "start_time": "2022-08-29T12:26:30.104Z"
      },
      {
        "duration": 33,
        "start_time": "2022-08-29T12:26:33.446Z"
      },
      {
        "duration": 35,
        "start_time": "2022-08-29T12:26:45.544Z"
      },
      {
        "duration": 140,
        "start_time": "2022-08-29T12:26:57.380Z"
      },
      {
        "duration": 47,
        "start_time": "2022-08-29T12:30:40.475Z"
      },
      {
        "duration": 1497,
        "start_time": "2022-08-29T12:31:11.064Z"
      },
      {
        "duration": 51,
        "start_time": "2022-08-29T12:31:19.483Z"
      },
      {
        "duration": 59,
        "start_time": "2022-08-29T12:35:03.742Z"
      },
      {
        "duration": 8,
        "start_time": "2022-08-29T12:35:34.243Z"
      },
      {
        "duration": 9,
        "start_time": "2022-08-29T12:51:48.556Z"
      },
      {
        "duration": 44,
        "start_time": "2022-08-29T12:52:54.356Z"
      },
      {
        "duration": 55,
        "start_time": "2022-08-29T12:54:37.632Z"
      },
      {
        "duration": 32,
        "start_time": "2022-08-29T12:55:02.003Z"
      },
      {
        "duration": 36,
        "start_time": "2022-08-29T12:55:07.292Z"
      },
      {
        "duration": 35,
        "start_time": "2022-08-29T12:56:53.529Z"
      },
      {
        "duration": 34,
        "start_time": "2022-08-29T12:57:05.682Z"
      },
      {
        "duration": 1159,
        "start_time": "2022-08-29T12:57:11.362Z"
      },
      {
        "duration": 153,
        "start_time": "2022-08-29T12:57:12.523Z"
      },
      {
        "duration": 20,
        "start_time": "2022-08-29T12:57:12.677Z"
      },
      {
        "duration": 17,
        "start_time": "2022-08-29T12:57:12.699Z"
      },
      {
        "duration": 4,
        "start_time": "2022-08-29T12:57:12.718Z"
      },
      {
        "duration": 15,
        "start_time": "2022-08-29T12:57:12.723Z"
      },
      {
        "duration": 18,
        "start_time": "2022-08-29T12:57:12.739Z"
      },
      {
        "duration": 127,
        "start_time": "2022-08-29T12:57:12.759Z"
      },
      {
        "duration": 54,
        "start_time": "2022-08-29T12:57:12.888Z"
      },
      {
        "duration": 115,
        "start_time": "2022-08-29T12:57:12.944Z"
      },
      {
        "duration": 129,
        "start_time": "2022-08-29T12:57:13.060Z"
      },
      {
        "duration": 30,
        "start_time": "2022-08-29T12:57:13.191Z"
      },
      {
        "duration": 9,
        "start_time": "2022-08-29T12:57:13.223Z"
      },
      {
        "duration": 3,
        "start_time": "2022-08-29T12:57:13.233Z"
      },
      {
        "duration": 61,
        "start_time": "2022-08-29T12:57:13.238Z"
      },
      {
        "duration": 991,
        "start_time": "2022-08-29T12:57:13.300Z"
      },
      {
        "duration": 15,
        "start_time": "2022-08-29T12:57:14.292Z"
      },
      {
        "duration": 3,
        "start_time": "2022-08-29T12:57:14.308Z"
      },
      {
        "duration": 26,
        "start_time": "2022-08-29T12:57:14.313Z"
      },
      {
        "duration": 858,
        "start_time": "2022-08-29T12:57:14.340Z"
      },
      {
        "duration": 7,
        "start_time": "2022-08-29T12:57:15.200Z"
      },
      {
        "duration": 36,
        "start_time": "2022-08-29T12:57:15.208Z"
      },
      {
        "duration": 56,
        "start_time": "2022-08-29T12:57:15.246Z"
      },
      {
        "duration": 107,
        "start_time": "2022-08-29T12:57:15.303Z"
      },
      {
        "duration": 102,
        "start_time": "2022-08-29T12:57:15.412Z"
      },
      {
        "duration": 9,
        "start_time": "2022-08-29T12:57:15.515Z"
      },
      {
        "duration": 37,
        "start_time": "2022-08-29T12:57:38.114Z"
      },
      {
        "duration": 9,
        "start_time": "2022-08-29T12:58:07.356Z"
      },
      {
        "duration": 4,
        "start_time": "2022-08-29T13:01:29.266Z"
      },
      {
        "duration": 8,
        "start_time": "2022-08-29T13:01:35.143Z"
      },
      {
        "duration": 11,
        "start_time": "2022-08-29T13:01:42.641Z"
      },
      {
        "duration": 4,
        "start_time": "2022-08-29T13:01:56.247Z"
      },
      {
        "duration": 9,
        "start_time": "2022-08-29T13:02:05.112Z"
      },
      {
        "duration": 38,
        "start_time": "2022-08-29T13:13:49.447Z"
      },
      {
        "duration": 17,
        "start_time": "2022-08-29T13:59:05.895Z"
      },
      {
        "duration": 102,
        "start_time": "2022-08-29T13:59:27.070Z"
      },
      {
        "duration": 278,
        "start_time": "2022-08-29T13:59:32.942Z"
      },
      {
        "duration": 27,
        "start_time": "2022-08-29T14:01:09.214Z"
      },
      {
        "duration": 52,
        "start_time": "2022-08-29T14:01:41.072Z"
      },
      {
        "duration": 72,
        "start_time": "2022-08-29T14:02:21.955Z"
      },
      {
        "duration": 57,
        "start_time": "2022-08-29T14:03:21.657Z"
      },
      {
        "duration": 55,
        "start_time": "2022-08-29T14:04:13.059Z"
      },
      {
        "duration": 40,
        "start_time": "2022-08-29T14:04:42.569Z"
      },
      {
        "duration": 65,
        "start_time": "2022-08-29T14:06:20.815Z"
      },
      {
        "duration": 122,
        "start_time": "2022-08-29T14:07:42.318Z"
      },
      {
        "duration": 99,
        "start_time": "2022-08-29T14:10:56.639Z"
      },
      {
        "duration": 109,
        "start_time": "2022-08-29T14:11:40.280Z"
      },
      {
        "duration": 103,
        "start_time": "2022-08-29T14:12:52.968Z"
      },
      {
        "duration": 110,
        "start_time": "2022-08-29T14:14:14.179Z"
      },
      {
        "duration": 48,
        "start_time": "2022-08-29T14:21:47.473Z"
      },
      {
        "duration": 46,
        "start_time": "2022-08-29T14:22:01.792Z"
      },
      {
        "duration": 80,
        "start_time": "2022-08-29T14:22:44.190Z"
      },
      {
        "duration": 137,
        "start_time": "2022-08-29T14:23:19.211Z"
      },
      {
        "duration": 1538,
        "start_time": "2022-08-30T12:35:55.800Z"
      },
      {
        "duration": 559,
        "start_time": "2022-08-30T12:35:57.340Z"
      },
      {
        "duration": 21,
        "start_time": "2022-08-30T12:35:57.901Z"
      },
      {
        "duration": 31,
        "start_time": "2022-08-30T12:35:57.924Z"
      },
      {
        "duration": 7,
        "start_time": "2022-08-30T12:35:57.957Z"
      },
      {
        "duration": 15,
        "start_time": "2022-08-30T12:35:57.966Z"
      },
      {
        "duration": 20,
        "start_time": "2022-08-30T12:35:57.983Z"
      },
      {
        "duration": 108,
        "start_time": "2022-08-30T12:35:58.005Z"
      },
      {
        "duration": 77,
        "start_time": "2022-08-30T12:35:58.115Z"
      },
      {
        "duration": 126,
        "start_time": "2022-08-30T12:35:58.196Z"
      },
      {
        "duration": 137,
        "start_time": "2022-08-30T12:35:58.323Z"
      },
      {
        "duration": 37,
        "start_time": "2022-08-30T12:35:58.462Z"
      },
      {
        "duration": 11,
        "start_time": "2022-08-30T12:35:58.501Z"
      },
      {
        "duration": 4,
        "start_time": "2022-08-30T12:35:58.537Z"
      },
      {
        "duration": 58,
        "start_time": "2022-08-30T12:35:58.543Z"
      },
      {
        "duration": 1109,
        "start_time": "2022-08-30T12:35:58.602Z"
      },
      {
        "duration": 30,
        "start_time": "2022-08-30T12:35:59.713Z"
      },
      {
        "duration": 4,
        "start_time": "2022-08-30T12:35:59.744Z"
      },
      {
        "duration": 141,
        "start_time": "2022-08-30T12:35:59.749Z"
      },
      {
        "duration": 955,
        "start_time": "2022-08-30T12:35:59.891Z"
      },
      {
        "duration": 9,
        "start_time": "2022-08-30T12:36:00.848Z"
      },
      {
        "duration": 81,
        "start_time": "2022-08-30T12:36:00.859Z"
      },
      {
        "duration": 60,
        "start_time": "2022-08-30T12:36:00.942Z"
      },
      {
        "duration": 9,
        "start_time": "2022-08-30T12:36:01.004Z"
      },
      {
        "duration": 127,
        "start_time": "2022-08-30T12:36:01.015Z"
      },
      {
        "duration": 241,
        "start_time": "2022-08-30T12:36:01.145Z"
      },
      {
        "duration": 105,
        "start_time": "2022-08-30T12:36:01.388Z"
      },
      {
        "duration": 9,
        "start_time": "2022-08-30T12:36:01.496Z"
      },
      {
        "duration": 105,
        "start_time": "2022-08-30T12:36:01.507Z"
      },
      {
        "duration": 151,
        "start_time": "2022-08-30T12:36:01.614Z"
      },
      {
        "duration": 41,
        "start_time": "2022-08-30T12:36:01.767Z"
      },
      {
        "duration": 112,
        "start_time": "2022-08-30T14:22:58.900Z"
      },
      {
        "duration": 89,
        "start_time": "2022-08-30T14:25:01.027Z"
      },
      {
        "duration": 21,
        "start_time": "2022-08-30T14:41:03.532Z"
      },
      {
        "duration": 18,
        "start_time": "2022-08-30T14:42:46.804Z"
      },
      {
        "duration": 43,
        "start_time": "2022-08-30T14:45:18.698Z"
      },
      {
        "duration": 93,
        "start_time": "2022-08-30T14:46:03.071Z"
      },
      {
        "duration": 18,
        "start_time": "2022-08-30T14:46:44.653Z"
      },
      {
        "duration": 18,
        "start_time": "2022-08-30T14:49:00.819Z"
      },
      {
        "duration": 20,
        "start_time": "2022-08-30T14:50:28.862Z"
      },
      {
        "duration": 6,
        "start_time": "2022-08-30T14:53:21.913Z"
      },
      {
        "duration": 13,
        "start_time": "2022-08-30T14:53:27.852Z"
      },
      {
        "duration": 5,
        "start_time": "2022-08-30T14:59:09.232Z"
      },
      {
        "duration": 13,
        "start_time": "2022-08-30T14:59:11.876Z"
      },
      {
        "duration": 3,
        "start_time": "2022-08-30T15:00:00.727Z"
      },
      {
        "duration": 5,
        "start_time": "2022-08-30T15:00:08.664Z"
      },
      {
        "duration": 2035,
        "start_time": "2022-08-30T15:00:12.538Z"
      },
      {
        "duration": 6,
        "start_time": "2022-08-30T15:00:37.814Z"
      },
      {
        "duration": 15,
        "start_time": "2022-08-30T15:00:40.327Z"
      },
      {
        "duration": 5,
        "start_time": "2022-08-30T15:09:55.820Z"
      },
      {
        "duration": 17,
        "start_time": "2022-08-30T15:09:57.564Z"
      },
      {
        "duration": 49,
        "start_time": "2022-08-30T15:10:32.144Z"
      },
      {
        "duration": 42,
        "start_time": "2022-08-30T15:10:36.028Z"
      },
      {
        "duration": 98,
        "start_time": "2022-08-30T15:17:59.412Z"
      },
      {
        "duration": 102,
        "start_time": "2022-08-30T15:18:19.041Z"
      },
      {
        "duration": 101,
        "start_time": "2022-08-30T15:19:34.991Z"
      },
      {
        "duration": 16,
        "start_time": "2022-08-30T15:19:41.804Z"
      },
      {
        "duration": 5,
        "start_time": "2022-08-30T15:20:02.366Z"
      },
      {
        "duration": 5,
        "start_time": "2022-08-30T15:20:04.578Z"
      },
      {
        "duration": 12,
        "start_time": "2022-08-30T15:20:05.635Z"
      },
      {
        "duration": 5,
        "start_time": "2022-08-30T15:20:56.553Z"
      },
      {
        "duration": 12,
        "start_time": "2022-08-30T15:20:58.291Z"
      },
      {
        "duration": 3,
        "start_time": "2022-08-30T15:21:12.366Z"
      },
      {
        "duration": 5,
        "start_time": "2022-08-30T15:21:20.768Z"
      },
      {
        "duration": 13,
        "start_time": "2022-08-30T15:21:22.753Z"
      },
      {
        "duration": 923,
        "start_time": "2022-08-30T15:24:44.988Z"
      },
      {
        "duration": 11,
        "start_time": "2022-08-30T15:25:26.605Z"
      },
      {
        "duration": 5,
        "start_time": "2022-08-30T15:27:15.811Z"
      },
      {
        "duration": 8,
        "start_time": "2022-08-30T15:27:18.129Z"
      },
      {
        "duration": 10,
        "start_time": "2022-08-30T15:34:16.869Z"
      },
      {
        "duration": 61,
        "start_time": "2022-08-30T15:34:38.731Z"
      },
      {
        "duration": 94,
        "start_time": "2022-08-30T15:34:49.507Z"
      },
      {
        "duration": 5,
        "start_time": "2022-08-30T15:34:52.820Z"
      },
      {
        "duration": 11,
        "start_time": "2022-08-30T15:34:53.947Z"
      },
      {
        "duration": 10,
        "start_time": "2022-08-30T15:34:56.147Z"
      },
      {
        "duration": 93,
        "start_time": "2022-08-30T15:35:34.958Z"
      },
      {
        "duration": 9,
        "start_time": "2022-08-30T15:35:41.562Z"
      },
      {
        "duration": 9,
        "start_time": "2022-08-30T15:35:44.874Z"
      },
      {
        "duration": 8,
        "start_time": "2022-08-30T15:35:51.608Z"
      },
      {
        "duration": 828,
        "start_time": "2022-08-30T15:37:39.745Z"
      },
      {
        "duration": 9,
        "start_time": "2022-08-30T15:37:43.166Z"
      },
      {
        "duration": 1158,
        "start_time": "2022-08-30T17:09:20.385Z"
      },
      {
        "duration": 1106,
        "start_time": "2022-08-30T17:10:26.185Z"
      },
      {
        "duration": 173,
        "start_time": "2022-08-30T17:10:27.293Z"
      },
      {
        "duration": 20,
        "start_time": "2022-08-30T17:10:27.468Z"
      },
      {
        "duration": 6,
        "start_time": "2022-08-30T17:10:27.491Z"
      },
      {
        "duration": 48,
        "start_time": "2022-08-30T17:10:27.499Z"
      },
      {
        "duration": 7,
        "start_time": "2022-08-30T17:10:27.549Z"
      },
      {
        "duration": 15,
        "start_time": "2022-08-30T17:10:27.558Z"
      },
      {
        "duration": 20,
        "start_time": "2022-08-30T17:10:27.575Z"
      },
      {
        "duration": 119,
        "start_time": "2022-08-30T17:10:27.597Z"
      },
      {
        "duration": 69,
        "start_time": "2022-08-30T17:10:27.720Z"
      },
      {
        "duration": 131,
        "start_time": "2022-08-30T17:10:27.791Z"
      },
      {
        "duration": 133,
        "start_time": "2022-08-30T17:10:27.924Z"
      },
      {
        "duration": 37,
        "start_time": "2022-08-30T17:10:28.058Z"
      },
      {
        "duration": 9,
        "start_time": "2022-08-30T17:10:28.097Z"
      },
      {
        "duration": 3,
        "start_time": "2022-08-30T17:10:28.108Z"
      },
      {
        "duration": 54,
        "start_time": "2022-08-30T17:10:28.139Z"
      },
      {
        "duration": 1054,
        "start_time": "2022-08-30T17:10:28.195Z"
      },
      {
        "duration": 14,
        "start_time": "2022-08-30T17:10:29.250Z"
      },
      {
        "duration": 20,
        "start_time": "2022-08-30T17:10:29.265Z"
      },
      {
        "duration": 29,
        "start_time": "2022-08-30T17:10:29.287Z"
      },
      {
        "duration": 917,
        "start_time": "2022-08-30T17:10:29.317Z"
      },
      {
        "duration": 7,
        "start_time": "2022-08-30T17:10:30.237Z"
      },
      {
        "duration": 50,
        "start_time": "2022-08-30T17:10:30.246Z"
      },
      {
        "duration": 52,
        "start_time": "2022-08-30T17:10:30.298Z"
      },
      {
        "duration": 8,
        "start_time": "2022-08-30T17:10:30.351Z"
      },
      {
        "duration": 133,
        "start_time": "2022-08-30T17:10:30.360Z"
      },
      {
        "duration": 257,
        "start_time": "2022-08-30T17:10:30.496Z"
      },
      {
        "duration": 86,
        "start_time": "2022-08-30T17:10:30.756Z"
      },
      {
        "duration": 9,
        "start_time": "2022-08-30T17:10:30.844Z"
      },
      {
        "duration": 26,
        "start_time": "2022-08-30T17:10:30.855Z"
      },
      {
        "duration": 148,
        "start_time": "2022-08-30T17:10:30.883Z"
      },
      {
        "duration": 47,
        "start_time": "2022-08-30T17:10:31.033Z"
      },
      {
        "duration": 116,
        "start_time": "2022-08-30T17:10:31.083Z"
      },
      {
        "duration": 6,
        "start_time": "2022-08-30T17:10:31.201Z"
      },
      {
        "duration": 31,
        "start_time": "2022-08-30T17:10:31.209Z"
      },
      {
        "duration": 26,
        "start_time": "2022-08-30T17:10:31.242Z"
      },
      {
        "duration": 14,
        "start_time": "2022-08-30T17:10:31.270Z"
      },
      {
        "duration": 14,
        "start_time": "2022-08-30T17:10:31.286Z"
      },
      {
        "duration": 102,
        "start_time": "2022-08-30T17:14:52.348Z"
      },
      {
        "duration": 21,
        "start_time": "2022-08-30T17:17:02.348Z"
      },
      {
        "duration": 48,
        "start_time": "2022-08-31T08:54:32.250Z"
      },
      {
        "duration": 1401,
        "start_time": "2022-08-31T08:54:38.232Z"
      },
      {
        "duration": 719,
        "start_time": "2022-08-31T08:54:39.635Z"
      },
      {
        "duration": 19,
        "start_time": "2022-08-31T08:54:40.356Z"
      },
      {
        "duration": 5,
        "start_time": "2022-08-31T08:54:40.377Z"
      },
      {
        "duration": 21,
        "start_time": "2022-08-31T08:54:40.384Z"
      },
      {
        "duration": 11,
        "start_time": "2022-08-31T08:54:40.407Z"
      },
      {
        "duration": 18,
        "start_time": "2022-08-31T08:54:40.420Z"
      },
      {
        "duration": 103,
        "start_time": "2022-08-31T08:54:40.439Z"
      },
      {
        "duration": 71,
        "start_time": "2022-08-31T08:54:40.544Z"
      },
      {
        "duration": 111,
        "start_time": "2022-08-31T08:54:40.616Z"
      },
      {
        "duration": 92,
        "start_time": "2022-08-31T08:54:40.729Z"
      },
      {
        "duration": 120,
        "start_time": "2022-08-31T08:54:40.822Z"
      },
      {
        "duration": 47,
        "start_time": "2022-08-31T08:54:40.944Z"
      },
      {
        "duration": 9,
        "start_time": "2022-08-31T08:54:40.994Z"
      },
      {
        "duration": 4,
        "start_time": "2022-08-31T08:54:41.004Z"
      },
      {
        "duration": 73,
        "start_time": "2022-08-31T08:54:41.010Z"
      },
      {
        "duration": 1016,
        "start_time": "2022-08-31T08:54:41.085Z"
      },
      {
        "duration": 15,
        "start_time": "2022-08-31T08:54:42.103Z"
      },
      {
        "duration": 4,
        "start_time": "2022-08-31T08:54:42.120Z"
      },
      {
        "duration": 52,
        "start_time": "2022-08-31T08:54:42.126Z"
      },
      {
        "duration": 883,
        "start_time": "2022-08-31T08:54:42.180Z"
      },
      {
        "duration": 7,
        "start_time": "2022-08-31T08:54:43.067Z"
      },
      {
        "duration": 52,
        "start_time": "2022-08-31T08:54:43.076Z"
      },
      {
        "duration": 39,
        "start_time": "2022-08-31T08:54:43.129Z"
      },
      {
        "duration": 8,
        "start_time": "2022-08-31T08:54:43.170Z"
      },
      {
        "duration": 145,
        "start_time": "2022-08-31T08:54:43.179Z"
      },
      {
        "duration": 154,
        "start_time": "2022-08-31T08:54:43.326Z"
      },
      {
        "duration": 59,
        "start_time": "2022-08-31T08:54:43.482Z"
      },
      {
        "duration": 26,
        "start_time": "2022-08-31T08:54:43.543Z"
      },
      {
        "duration": 11,
        "start_time": "2022-08-31T08:54:43.570Z"
      },
      {
        "duration": 133,
        "start_time": "2022-08-31T08:54:43.583Z"
      },
      {
        "duration": 51,
        "start_time": "2022-08-31T08:54:43.718Z"
      },
      {
        "duration": 81,
        "start_time": "2022-08-31T08:54:43.771Z"
      },
      {
        "duration": 13,
        "start_time": "2022-08-31T08:54:43.854Z"
      },
      {
        "duration": 16,
        "start_time": "2022-08-31T08:54:43.869Z"
      },
      {
        "duration": 12,
        "start_time": "2022-08-31T08:54:43.886Z"
      },
      {
        "duration": 8,
        "start_time": "2022-08-31T08:54:43.901Z"
      },
      {
        "duration": 13,
        "start_time": "2022-08-31T08:54:43.911Z"
      },
      {
        "duration": 154,
        "start_time": "2022-08-31T08:55:43.593Z"
      },
      {
        "duration": 102,
        "start_time": "2022-08-31T09:00:58.533Z"
      },
      {
        "duration": 1334,
        "start_time": "2022-08-31T09:01:05.853Z"
      },
      {
        "duration": 161,
        "start_time": "2022-08-31T09:01:07.189Z"
      },
      {
        "duration": 25,
        "start_time": "2022-08-31T09:01:07.351Z"
      },
      {
        "duration": 40,
        "start_time": "2022-08-31T09:01:07.379Z"
      },
      {
        "duration": 56,
        "start_time": "2022-08-31T09:01:07.421Z"
      },
      {
        "duration": 64,
        "start_time": "2022-08-31T09:01:07.479Z"
      },
      {
        "duration": 38,
        "start_time": "2022-08-31T09:01:07.545Z"
      },
      {
        "duration": 113,
        "start_time": "2022-08-31T09:01:07.585Z"
      },
      {
        "duration": 69,
        "start_time": "2022-08-31T09:01:07.700Z"
      },
      {
        "duration": 129,
        "start_time": "2022-08-31T09:01:07.773Z"
      },
      {
        "duration": 150,
        "start_time": "2022-08-31T09:01:07.904Z"
      },
      {
        "duration": 132,
        "start_time": "2022-08-31T09:01:08.055Z"
      },
      {
        "duration": 37,
        "start_time": "2022-08-31T09:01:08.189Z"
      },
      {
        "duration": 42,
        "start_time": "2022-08-31T09:01:08.227Z"
      },
      {
        "duration": 5,
        "start_time": "2022-08-31T09:01:08.271Z"
      },
      {
        "duration": 71,
        "start_time": "2022-08-31T09:01:08.278Z"
      },
      {
        "duration": 1187,
        "start_time": "2022-08-31T09:01:08.351Z"
      },
      {
        "duration": 29,
        "start_time": "2022-08-31T09:01:09.540Z"
      },
      {
        "duration": 31,
        "start_time": "2022-08-31T09:01:09.570Z"
      },
      {
        "duration": 54,
        "start_time": "2022-08-31T09:01:09.603Z"
      },
      {
        "duration": 1030,
        "start_time": "2022-08-31T09:01:09.659Z"
      },
      {
        "duration": 8,
        "start_time": "2022-08-31T09:01:10.691Z"
      },
      {
        "duration": 67,
        "start_time": "2022-08-31T09:01:10.702Z"
      },
      {
        "duration": 40,
        "start_time": "2022-08-31T09:01:10.772Z"
      },
      {
        "duration": 11,
        "start_time": "2022-08-31T09:01:10.814Z"
      },
      {
        "duration": 154,
        "start_time": "2022-08-31T09:01:10.827Z"
      },
      {
        "duration": 287,
        "start_time": "2022-08-31T09:01:10.984Z"
      },
      {
        "duration": 92,
        "start_time": "2022-08-31T09:01:11.276Z"
      },
      {
        "duration": 14,
        "start_time": "2022-08-31T09:01:11.370Z"
      },
      {
        "duration": 16,
        "start_time": "2022-08-31T09:01:11.386Z"
      },
      {
        "duration": 179,
        "start_time": "2022-08-31T09:01:11.405Z"
      },
      {
        "duration": 44,
        "start_time": "2022-08-31T09:01:11.587Z"
      },
      {
        "duration": 108,
        "start_time": "2022-08-31T09:01:11.633Z"
      },
      {
        "duration": 6,
        "start_time": "2022-08-31T09:01:11.743Z"
      },
      {
        "duration": 25,
        "start_time": "2022-08-31T09:01:11.750Z"
      },
      {
        "duration": 12,
        "start_time": "2022-08-31T09:01:11.777Z"
      },
      {
        "duration": 11,
        "start_time": "2022-08-31T09:01:11.791Z"
      },
      {
        "duration": 11,
        "start_time": "2022-08-31T09:01:11.804Z"
      },
      {
        "duration": 94,
        "start_time": "2022-08-31T09:02:04.404Z"
      },
      {
        "duration": 1212,
        "start_time": "2022-08-31T09:02:10.802Z"
      },
      {
        "duration": 162,
        "start_time": "2022-08-31T09:02:12.017Z"
      },
      {
        "duration": 19,
        "start_time": "2022-08-31T09:02:12.181Z"
      },
      {
        "duration": 5,
        "start_time": "2022-08-31T09:02:12.202Z"
      },
      {
        "duration": 21,
        "start_time": "2022-08-31T09:02:12.208Z"
      },
      {
        "duration": 44,
        "start_time": "2022-08-31T09:02:12.231Z"
      },
      {
        "duration": 26,
        "start_time": "2022-08-31T09:02:12.276Z"
      },
      {
        "duration": 101,
        "start_time": "2022-08-31T09:02:12.304Z"
      },
      {
        "duration": 74,
        "start_time": "2022-08-31T09:02:12.406Z"
      },
      {
        "duration": 113,
        "start_time": "2022-08-31T09:02:12.482Z"
      },
      {
        "duration": 133,
        "start_time": "2022-08-31T09:02:12.597Z"
      },
      {
        "duration": 117,
        "start_time": "2022-08-31T09:02:12.732Z"
      },
      {
        "duration": 36,
        "start_time": "2022-08-31T09:02:12.850Z"
      },
      {
        "duration": 10,
        "start_time": "2022-08-31T09:02:12.888Z"
      },
      {
        "duration": 4,
        "start_time": "2022-08-31T09:02:12.901Z"
      },
      {
        "duration": 87,
        "start_time": "2022-08-31T09:02:12.907Z"
      },
      {
        "duration": 1048,
        "start_time": "2022-08-31T09:02:12.996Z"
      },
      {
        "duration": 14,
        "start_time": "2022-08-31T09:02:14.046Z"
      },
      {
        "duration": 36,
        "start_time": "2022-08-31T09:02:14.061Z"
      },
      {
        "duration": 29,
        "start_time": "2022-08-31T09:02:14.099Z"
      },
      {
        "duration": 972,
        "start_time": "2022-08-31T09:02:14.130Z"
      },
      {
        "duration": 8,
        "start_time": "2022-08-31T09:02:15.104Z"
      },
      {
        "duration": 61,
        "start_time": "2022-08-31T09:02:15.113Z"
      },
      {
        "duration": 37,
        "start_time": "2022-08-31T09:02:15.176Z"
      },
      {
        "duration": 10,
        "start_time": "2022-08-31T09:02:15.215Z"
      },
      {
        "duration": 146,
        "start_time": "2022-08-31T09:02:15.226Z"
      },
      {
        "duration": 256,
        "start_time": "2022-08-31T09:02:15.374Z"
      },
      {
        "duration": 89,
        "start_time": "2022-08-31T09:02:15.635Z"
      },
      {
        "duration": 10,
        "start_time": "2022-08-31T09:02:15.726Z"
      },
      {
        "duration": 38,
        "start_time": "2022-08-31T09:02:15.738Z"
      },
      {
        "duration": 143,
        "start_time": "2022-08-31T09:02:15.778Z"
      },
      {
        "duration": 58,
        "start_time": "2022-08-31T09:02:15.923Z"
      },
      {
        "duration": 103,
        "start_time": "2022-08-31T09:02:15.983Z"
      },
      {
        "duration": 5,
        "start_time": "2022-08-31T09:02:16.087Z"
      },
      {
        "duration": 16,
        "start_time": "2022-08-31T09:02:16.094Z"
      },
      {
        "duration": 23,
        "start_time": "2022-08-31T09:02:16.112Z"
      },
      {
        "duration": 30,
        "start_time": "2022-08-31T09:02:16.137Z"
      },
      {
        "duration": 10,
        "start_time": "2022-08-31T09:02:16.173Z"
      },
      {
        "duration": 93,
        "start_time": "2022-08-31T09:03:20.534Z"
      },
      {
        "duration": 1252,
        "start_time": "2022-08-31T09:03:26.573Z"
      },
      {
        "duration": 158,
        "start_time": "2022-08-31T09:03:27.827Z"
      },
      {
        "duration": 20,
        "start_time": "2022-08-31T09:03:27.987Z"
      },
      {
        "duration": 14,
        "start_time": "2022-08-31T09:03:28.009Z"
      },
      {
        "duration": 21,
        "start_time": "2022-08-31T09:03:28.025Z"
      },
      {
        "duration": 27,
        "start_time": "2022-08-31T09:03:28.047Z"
      },
      {
        "duration": 21,
        "start_time": "2022-08-31T09:03:28.076Z"
      },
      {
        "duration": 104,
        "start_time": "2022-08-31T09:03:28.098Z"
      },
      {
        "duration": 72,
        "start_time": "2022-08-31T09:03:28.204Z"
      },
      {
        "duration": 120,
        "start_time": "2022-08-31T09:03:28.278Z"
      },
      {
        "duration": 142,
        "start_time": "2022-08-31T09:03:28.400Z"
      },
      {
        "duration": 122,
        "start_time": "2022-08-31T09:03:28.545Z"
      },
      {
        "duration": 33,
        "start_time": "2022-08-31T09:03:28.669Z"
      },
      {
        "duration": 9,
        "start_time": "2022-08-31T09:03:28.704Z"
      },
      {
        "duration": 7,
        "start_time": "2022-08-31T09:03:28.715Z"
      },
      {
        "duration": 109,
        "start_time": "2022-08-31T09:03:28.723Z"
      },
      {
        "duration": 1052,
        "start_time": "2022-08-31T09:03:28.834Z"
      },
      {
        "duration": 14,
        "start_time": "2022-08-31T09:03:29.888Z"
      },
      {
        "duration": 18,
        "start_time": "2022-08-31T09:03:29.904Z"
      },
      {
        "duration": 28,
        "start_time": "2022-08-31T09:03:29.925Z"
      },
      {
        "duration": 918,
        "start_time": "2022-08-31T09:03:29.969Z"
      },
      {
        "duration": 8,
        "start_time": "2022-08-31T09:03:30.889Z"
      },
      {
        "duration": 68,
        "start_time": "2022-08-31T09:03:30.900Z"
      },
      {
        "duration": 40,
        "start_time": "2022-08-31T09:03:30.969Z"
      },
      {
        "duration": 10,
        "start_time": "2022-08-31T09:03:31.011Z"
      },
      {
        "duration": 146,
        "start_time": "2022-08-31T09:03:31.022Z"
      },
      {
        "duration": 231,
        "start_time": "2022-08-31T09:03:31.170Z"
      },
      {
        "duration": 123,
        "start_time": "2022-08-31T09:03:31.404Z"
      },
      {
        "duration": 41,
        "start_time": "2022-08-31T09:03:31.529Z"
      },
      {
        "duration": 18,
        "start_time": "2022-08-31T09:03:31.572Z"
      },
      {
        "duration": 140,
        "start_time": "2022-08-31T09:03:31.593Z"
      },
      {
        "duration": 59,
        "start_time": "2022-08-31T09:03:31.735Z"
      },
      {
        "duration": 102,
        "start_time": "2022-08-31T09:03:31.795Z"
      },
      {
        "duration": 5,
        "start_time": "2022-08-31T09:03:31.898Z"
      },
      {
        "duration": 17,
        "start_time": "2022-08-31T09:03:31.904Z"
      },
      {
        "duration": 10,
        "start_time": "2022-08-31T09:03:31.922Z"
      },
      {
        "duration": 44,
        "start_time": "2022-08-31T09:03:31.934Z"
      },
      {
        "duration": 16,
        "start_time": "2022-08-31T09:03:31.980Z"
      },
      {
        "duration": 4,
        "start_time": "2022-08-31T10:06:28.105Z"
      },
      {
        "duration": 4,
        "start_time": "2022-08-31T10:12:41.943Z"
      },
      {
        "duration": 36,
        "start_time": "2022-08-31T10:59:26.133Z"
      },
      {
        "duration": 64,
        "start_time": "2022-08-31T11:00:07.600Z"
      },
      {
        "duration": 9,
        "start_time": "2022-08-31T11:00:10.937Z"
      },
      {
        "duration": 10,
        "start_time": "2022-08-31T11:00:17.786Z"
      },
      {
        "duration": 38,
        "start_time": "2022-08-31T11:01:00.953Z"
      },
      {
        "duration": 13,
        "start_time": "2022-08-31T11:02:48.571Z"
      },
      {
        "duration": 9,
        "start_time": "2022-08-31T11:03:02.285Z"
      },
      {
        "duration": 9,
        "start_time": "2022-08-31T11:03:11.610Z"
      },
      {
        "duration": 59,
        "start_time": "2022-08-31T11:55:22.872Z"
      },
      {
        "duration": 10,
        "start_time": "2022-08-31T12:49:24.850Z"
      },
      {
        "duration": 7,
        "start_time": "2022-08-31T12:53:13.015Z"
      },
      {
        "duration": 8,
        "start_time": "2022-08-31T13:03:29.981Z"
      },
      {
        "duration": 10,
        "start_time": "2022-08-31T13:03:35.358Z"
      },
      {
        "duration": 9,
        "start_time": "2022-08-31T13:03:41.853Z"
      },
      {
        "duration": 14,
        "start_time": "2022-08-31T13:03:46.839Z"
      },
      {
        "duration": 872,
        "start_time": "2022-08-31T13:20:44.947Z"
      },
      {
        "duration": 207,
        "start_time": "2022-08-31T13:22:13.197Z"
      },
      {
        "duration": 136,
        "start_time": "2022-08-31T13:22:29.585Z"
      },
      {
        "duration": 8,
        "start_time": "2022-08-31T13:23:11.225Z"
      },
      {
        "duration": 113,
        "start_time": "2022-08-31T13:23:23.923Z"
      },
      {
        "duration": 11,
        "start_time": "2022-08-31T13:24:10.538Z"
      },
      {
        "duration": 109,
        "start_time": "2022-08-31T13:24:55.276Z"
      },
      {
        "duration": 10,
        "start_time": "2022-08-31T13:24:59.949Z"
      },
      {
        "duration": 10,
        "start_time": "2022-08-31T13:25:07.797Z"
      },
      {
        "duration": 127,
        "start_time": "2022-08-31T13:25:19.113Z"
      },
      {
        "duration": 10,
        "start_time": "2022-08-31T13:28:44.448Z"
      },
      {
        "duration": 9,
        "start_time": "2022-08-31T13:28:49.078Z"
      },
      {
        "duration": 9,
        "start_time": "2022-08-31T13:28:50.974Z"
      },
      {
        "duration": 10,
        "start_time": "2022-08-31T13:28:53.023Z"
      },
      {
        "duration": 1350,
        "start_time": "2022-08-31T14:10:00.095Z"
      },
      {
        "duration": 517,
        "start_time": "2022-08-31T14:10:01.447Z"
      },
      {
        "duration": 30,
        "start_time": "2022-08-31T14:10:01.966Z"
      },
      {
        "duration": 13,
        "start_time": "2022-08-31T14:10:01.999Z"
      },
      {
        "duration": 21,
        "start_time": "2022-08-31T14:10:02.014Z"
      },
      {
        "duration": 38,
        "start_time": "2022-08-31T14:10:02.037Z"
      },
      {
        "duration": 26,
        "start_time": "2022-08-31T14:10:02.085Z"
      },
      {
        "duration": 96,
        "start_time": "2022-08-31T14:10:02.113Z"
      },
      {
        "duration": 65,
        "start_time": "2022-08-31T14:10:02.211Z"
      },
      {
        "duration": 107,
        "start_time": "2022-08-31T14:10:02.281Z"
      },
      {
        "duration": 134,
        "start_time": "2022-08-31T14:10:02.389Z"
      },
      {
        "duration": 122,
        "start_time": "2022-08-31T14:10:02.525Z"
      },
      {
        "duration": 46,
        "start_time": "2022-08-31T14:10:02.648Z"
      },
      {
        "duration": 24,
        "start_time": "2022-08-31T14:10:02.696Z"
      },
      {
        "duration": 4,
        "start_time": "2022-08-31T14:10:02.722Z"
      },
      {
        "duration": 81,
        "start_time": "2022-08-31T14:10:02.728Z"
      },
      {
        "duration": 1218,
        "start_time": "2022-08-31T14:10:02.811Z"
      },
      {
        "duration": 16,
        "start_time": "2022-08-31T14:10:04.031Z"
      },
      {
        "duration": 23,
        "start_time": "2022-08-31T14:10:04.049Z"
      },
      {
        "duration": 43,
        "start_time": "2022-08-31T14:10:04.074Z"
      },
      {
        "duration": 1050,
        "start_time": "2022-08-31T14:10:04.120Z"
      },
      {
        "duration": 14,
        "start_time": "2022-08-31T14:10:05.175Z"
      },
      {
        "duration": 58,
        "start_time": "2022-08-31T14:10:05.192Z"
      },
      {
        "duration": 49,
        "start_time": "2022-08-31T14:10:05.252Z"
      },
      {
        "duration": 10,
        "start_time": "2022-08-31T14:10:05.303Z"
      },
      {
        "duration": 155,
        "start_time": "2022-08-31T14:10:05.314Z"
      },
      {
        "duration": 239,
        "start_time": "2022-08-31T14:10:05.471Z"
      },
      {
        "duration": 73,
        "start_time": "2022-08-31T14:10:05.713Z"
      },
      {
        "duration": 10,
        "start_time": "2022-08-31T14:10:05.788Z"
      },
      {
        "duration": 25,
        "start_time": "2022-08-31T14:10:05.799Z"
      },
      {
        "duration": 138,
        "start_time": "2022-08-31T14:10:05.826Z"
      },
      {
        "duration": 53,
        "start_time": "2022-08-31T14:10:05.967Z"
      },
      {
        "duration": 123,
        "start_time": "2022-08-31T14:10:06.022Z"
      },
      {
        "duration": 6,
        "start_time": "2022-08-31T14:10:06.147Z"
      },
      {
        "duration": 20,
        "start_time": "2022-08-31T14:10:06.155Z"
      },
      {
        "duration": 22,
        "start_time": "2022-08-31T14:10:06.180Z"
      },
      {
        "duration": 12,
        "start_time": "2022-08-31T14:10:06.204Z"
      },
      {
        "duration": 16,
        "start_time": "2022-08-31T14:10:06.218Z"
      },
      {
        "duration": 1154,
        "start_time": "2022-08-31T15:23:07.005Z"
      },
      {
        "duration": 156,
        "start_time": "2022-08-31T15:23:08.161Z"
      },
      {
        "duration": 20,
        "start_time": "2022-08-31T15:23:08.319Z"
      },
      {
        "duration": 4,
        "start_time": "2022-08-31T15:23:08.341Z"
      },
      {
        "duration": 18,
        "start_time": "2022-08-31T15:23:08.347Z"
      },
      {
        "duration": 10,
        "start_time": "2022-08-31T15:23:08.367Z"
      },
      {
        "duration": 46,
        "start_time": "2022-08-31T15:23:08.379Z"
      },
      {
        "duration": 68,
        "start_time": "2022-08-31T15:23:08.426Z"
      },
      {
        "duration": 53,
        "start_time": "2022-08-31T15:23:08.510Z"
      },
      {
        "duration": 114,
        "start_time": "2022-08-31T15:23:08.565Z"
      },
      {
        "duration": 116,
        "start_time": "2022-08-31T15:23:08.681Z"
      },
      {
        "duration": 112,
        "start_time": "2022-08-31T15:23:08.799Z"
      },
      {
        "duration": 32,
        "start_time": "2022-08-31T15:23:08.912Z"
      },
      {
        "duration": 8,
        "start_time": "2022-08-31T15:23:08.946Z"
      },
      {
        "duration": 16,
        "start_time": "2022-08-31T15:23:08.955Z"
      },
      {
        "duration": 58,
        "start_time": "2022-08-31T15:23:08.972Z"
      },
      {
        "duration": 1051,
        "start_time": "2022-08-31T15:23:09.032Z"
      },
      {
        "duration": 13,
        "start_time": "2022-08-31T15:23:10.085Z"
      },
      {
        "duration": 12,
        "start_time": "2022-08-31T15:23:10.100Z"
      },
      {
        "duration": 29,
        "start_time": "2022-08-31T15:23:10.114Z"
      },
      {
        "duration": 937,
        "start_time": "2022-08-31T15:23:10.144Z"
      },
      {
        "duration": 7,
        "start_time": "2022-08-31T15:23:11.082Z"
      },
      {
        "duration": 51,
        "start_time": "2022-08-31T15:23:11.090Z"
      },
      {
        "duration": 40,
        "start_time": "2022-08-31T15:23:11.143Z"
      },
      {
        "duration": 8,
        "start_time": "2022-08-31T15:23:11.184Z"
      },
      {
        "duration": 267,
        "start_time": "2022-08-31T15:23:11.194Z"
      },
      {
        "duration": 191,
        "start_time": "2022-08-31T15:23:11.463Z"
      },
      {
        "duration": 67,
        "start_time": "2022-08-31T15:23:11.656Z"
      },
      {
        "duration": 7,
        "start_time": "2022-08-31T15:23:11.724Z"
      },
      {
        "duration": 10,
        "start_time": "2022-08-31T15:23:11.732Z"
      },
      {
        "duration": 144,
        "start_time": "2022-08-31T15:23:11.743Z"
      },
      {
        "duration": 44,
        "start_time": "2022-08-31T15:23:11.889Z"
      },
      {
        "duration": 96,
        "start_time": "2022-08-31T15:23:11.935Z"
      },
      {
        "duration": 5,
        "start_time": "2022-08-31T15:23:12.032Z"
      },
      {
        "duration": 13,
        "start_time": "2022-08-31T15:23:12.039Z"
      },
      {
        "duration": 8,
        "start_time": "2022-08-31T15:23:12.053Z"
      },
      {
        "duration": 8,
        "start_time": "2022-08-31T15:23:12.063Z"
      },
      {
        "duration": 9,
        "start_time": "2022-08-31T15:23:12.073Z"
      },
      {
        "duration": 600,
        "start_time": "2022-08-31T15:50:24.220Z"
      },
      {
        "duration": 1358,
        "start_time": "2022-09-01T11:20:54.015Z"
      },
      {
        "duration": 503,
        "start_time": "2022-09-01T11:20:55.375Z"
      },
      {
        "duration": 17,
        "start_time": "2022-09-01T11:20:55.880Z"
      },
      {
        "duration": 4,
        "start_time": "2022-09-01T11:20:55.899Z"
      },
      {
        "duration": 20,
        "start_time": "2022-09-01T11:20:55.905Z"
      },
      {
        "duration": 10,
        "start_time": "2022-09-01T11:20:55.927Z"
      },
      {
        "duration": 27,
        "start_time": "2022-09-01T11:20:55.938Z"
      },
      {
        "duration": 75,
        "start_time": "2022-09-01T11:20:55.967Z"
      },
      {
        "duration": 63,
        "start_time": "2022-09-01T11:20:56.043Z"
      },
      {
        "duration": 111,
        "start_time": "2022-09-01T11:20:56.108Z"
      },
      {
        "duration": 126,
        "start_time": "2022-09-01T11:20:56.221Z"
      },
      {
        "duration": 111,
        "start_time": "2022-09-01T11:20:56.349Z"
      },
      {
        "duration": 30,
        "start_time": "2022-09-01T11:20:56.461Z"
      },
      {
        "duration": 8,
        "start_time": "2022-09-01T11:20:56.494Z"
      },
      {
        "duration": 5,
        "start_time": "2022-09-01T11:20:56.504Z"
      },
      {
        "duration": 70,
        "start_time": "2022-09-01T11:20:56.510Z"
      },
      {
        "duration": 1053,
        "start_time": "2022-09-01T11:20:56.582Z"
      },
      {
        "duration": 643,
        "start_time": "2022-09-01T11:20:57.637Z"
      },
      {
        "duration": 14,
        "start_time": "2022-09-01T11:20:58.281Z"
      },
      {
        "duration": 3,
        "start_time": "2022-09-01T11:20:58.298Z"
      },
      {
        "duration": 33,
        "start_time": "2022-09-01T11:20:58.303Z"
      },
      {
        "duration": 967,
        "start_time": "2022-09-01T11:20:58.337Z"
      },
      {
        "duration": 7,
        "start_time": "2022-09-01T11:20:59.306Z"
      },
      {
        "duration": 52,
        "start_time": "2022-09-01T11:20:59.315Z"
      },
      {
        "duration": 37,
        "start_time": "2022-09-01T11:20:59.369Z"
      },
      {
        "duration": 8,
        "start_time": "2022-09-01T11:20:59.408Z"
      },
      {
        "duration": 243,
        "start_time": "2022-09-01T11:20:59.458Z"
      },
      {
        "duration": 267,
        "start_time": "2022-09-01T11:20:59.703Z"
      },
      {
        "duration": 114,
        "start_time": "2022-09-01T11:20:59.972Z"
      },
      {
        "duration": 10,
        "start_time": "2022-09-01T11:21:00.088Z"
      },
      {
        "duration": 64,
        "start_time": "2022-09-01T11:21:00.100Z"
      },
      {
        "duration": 233,
        "start_time": "2022-09-01T11:21:00.165Z"
      },
      {
        "duration": 99,
        "start_time": "2022-09-01T11:21:00.400Z"
      },
      {
        "duration": 194,
        "start_time": "2022-09-01T11:21:00.501Z"
      },
      {
        "duration": 5,
        "start_time": "2022-09-01T11:21:00.697Z"
      },
      {
        "duration": 61,
        "start_time": "2022-09-01T11:21:00.704Z"
      },
      {
        "duration": 21,
        "start_time": "2022-09-01T11:21:00.766Z"
      },
      {
        "duration": 31,
        "start_time": "2022-09-01T11:21:00.789Z"
      },
      {
        "duration": 11,
        "start_time": "2022-09-01T11:21:00.858Z"
      },
      {
        "duration": 4,
        "start_time": "2022-09-01T11:21:14.589Z"
      },
      {
        "duration": 9,
        "start_time": "2022-09-01T11:21:25.063Z"
      },
      {
        "duration": 8,
        "start_time": "2022-09-01T11:21:32.227Z"
      },
      {
        "duration": 1281,
        "start_time": "2022-09-01T11:21:37.457Z"
      },
      {
        "duration": 155,
        "start_time": "2022-09-01T11:21:38.740Z"
      },
      {
        "duration": 19,
        "start_time": "2022-09-01T11:21:38.897Z"
      },
      {
        "duration": 7,
        "start_time": "2022-09-01T11:21:38.918Z"
      },
      {
        "duration": 35,
        "start_time": "2022-09-01T11:21:38.926Z"
      },
      {
        "duration": 11,
        "start_time": "2022-09-01T11:21:38.963Z"
      },
      {
        "duration": 18,
        "start_time": "2022-09-01T11:21:38.976Z"
      },
      {
        "duration": 93,
        "start_time": "2022-09-01T11:21:38.996Z"
      },
      {
        "duration": 68,
        "start_time": "2022-09-01T11:21:39.090Z"
      },
      {
        "duration": 109,
        "start_time": "2022-09-01T11:21:39.161Z"
      },
      {
        "duration": 127,
        "start_time": "2022-09-01T11:21:39.271Z"
      },
      {
        "duration": 120,
        "start_time": "2022-09-01T11:21:39.399Z"
      },
      {
        "duration": 38,
        "start_time": "2022-09-01T11:21:39.521Z"
      },
      {
        "duration": 9,
        "start_time": "2022-09-01T11:21:39.560Z"
      },
      {
        "duration": 4,
        "start_time": "2022-09-01T11:21:39.571Z"
      },
      {
        "duration": 45,
        "start_time": "2022-09-01T11:21:39.576Z"
      },
      {
        "duration": 1051,
        "start_time": "2022-09-01T11:21:39.622Z"
      },
      {
        "duration": 647,
        "start_time": "2022-09-01T11:21:40.675Z"
      },
      {
        "duration": 13,
        "start_time": "2022-09-01T11:21:41.324Z"
      },
      {
        "duration": 3,
        "start_time": "2022-09-01T11:21:41.338Z"
      },
      {
        "duration": 38,
        "start_time": "2022-09-01T11:21:41.343Z"
      },
      {
        "duration": 933,
        "start_time": "2022-09-01T11:21:41.382Z"
      },
      {
        "duration": 7,
        "start_time": "2022-09-01T11:21:42.317Z"
      },
      {
        "duration": 53,
        "start_time": "2022-09-01T11:21:42.325Z"
      },
      {
        "duration": 36,
        "start_time": "2022-09-01T11:21:42.380Z"
      },
      {
        "duration": 8,
        "start_time": "2022-09-01T11:21:42.418Z"
      },
      {
        "duration": 153,
        "start_time": "2022-09-01T11:21:42.427Z"
      },
      {
        "duration": 144,
        "start_time": "2022-09-01T11:21:42.583Z"
      },
      {
        "duration": 77,
        "start_time": "2022-09-01T11:21:42.728Z"
      },
      {
        "duration": 8,
        "start_time": "2022-09-01T11:21:42.807Z"
      },
      {
        "duration": 12,
        "start_time": "2022-09-01T11:21:42.816Z"
      },
      {
        "duration": 136,
        "start_time": "2022-09-01T11:21:42.829Z"
      },
      {
        "duration": 40,
        "start_time": "2022-09-01T11:21:42.967Z"
      },
      {
        "duration": 102,
        "start_time": "2022-09-01T11:21:43.009Z"
      },
      {
        "duration": 5,
        "start_time": "2022-09-01T11:21:43.158Z"
      },
      {
        "duration": 14,
        "start_time": "2022-09-01T11:21:43.164Z"
      },
      {
        "duration": 10,
        "start_time": "2022-09-01T11:21:43.179Z"
      },
      {
        "duration": 8,
        "start_time": "2022-09-01T11:21:43.191Z"
      },
      {
        "duration": 57,
        "start_time": "2022-09-01T11:21:43.200Z"
      },
      {
        "duration": 550,
        "start_time": "2022-09-01T11:23:32.176Z"
      },
      {
        "duration": 149,
        "start_time": "2022-09-01T11:24:19.521Z"
      },
      {
        "duration": 8,
        "start_time": "2022-09-01T11:26:51.378Z"
      },
      {
        "duration": 184,
        "start_time": "2022-09-01T11:27:12.341Z"
      },
      {
        "duration": 3,
        "start_time": "2022-09-01T11:29:25.116Z"
      },
      {
        "duration": 1248,
        "start_time": "2022-09-01T11:29:32.776Z"
      },
      {
        "duration": 164,
        "start_time": "2022-09-01T11:29:34.026Z"
      },
      {
        "duration": 17,
        "start_time": "2022-09-01T11:29:34.192Z"
      },
      {
        "duration": 7,
        "start_time": "2022-09-01T11:29:34.211Z"
      },
      {
        "duration": 28,
        "start_time": "2022-09-01T11:29:34.220Z"
      },
      {
        "duration": 12,
        "start_time": "2022-09-01T11:29:34.249Z"
      },
      {
        "duration": 20,
        "start_time": "2022-09-01T11:29:34.264Z"
      },
      {
        "duration": 92,
        "start_time": "2022-09-01T11:29:34.286Z"
      },
      {
        "duration": 55,
        "start_time": "2022-09-01T11:29:34.380Z"
      },
      {
        "duration": 115,
        "start_time": "2022-09-01T11:29:34.437Z"
      },
      {
        "duration": 127,
        "start_time": "2022-09-01T11:29:34.558Z"
      },
      {
        "duration": 116,
        "start_time": "2022-09-01T11:29:34.686Z"
      },
      {
        "duration": 30,
        "start_time": "2022-09-01T11:29:34.804Z"
      },
      {
        "duration": 9,
        "start_time": "2022-09-01T11:29:34.837Z"
      },
      {
        "duration": 12,
        "start_time": "2022-09-01T11:29:34.858Z"
      },
      {
        "duration": 46,
        "start_time": "2022-09-01T11:29:34.874Z"
      },
      {
        "duration": 1160,
        "start_time": "2022-09-01T11:29:34.921Z"
      },
      {
        "duration": 892,
        "start_time": "2022-09-01T11:29:36.083Z"
      },
      {
        "duration": 15,
        "start_time": "2022-09-01T11:29:36.977Z"
      },
      {
        "duration": 3,
        "start_time": "2022-09-01T11:29:36.993Z"
      },
      {
        "duration": 85,
        "start_time": "2022-09-01T11:29:36.998Z"
      },
      {
        "duration": 1753,
        "start_time": "2022-09-01T11:29:37.085Z"
      },
      {
        "duration": 6,
        "start_time": "2022-09-01T11:29:38.840Z"
      },
      {
        "duration": 54,
        "start_time": "2022-09-01T11:29:38.848Z"
      },
      {
        "duration": 35,
        "start_time": "2022-09-01T11:29:38.904Z"
      },
      {
        "duration": 18,
        "start_time": "2022-09-01T11:29:38.941Z"
      },
      {
        "duration": 147,
        "start_time": "2022-09-01T11:29:38.972Z"
      },
      {
        "duration": 170,
        "start_time": "2022-09-01T11:29:39.121Z"
      },
      {
        "duration": 55,
        "start_time": "2022-09-01T11:29:39.293Z"
      },
      {
        "duration": 20,
        "start_time": "2022-09-01T11:29:39.350Z"
      },
      {
        "duration": 15,
        "start_time": "2022-09-01T11:29:39.372Z"
      },
      {
        "duration": 136,
        "start_time": "2022-09-01T11:29:39.388Z"
      },
      {
        "duration": 51,
        "start_time": "2022-09-01T11:29:39.525Z"
      },
      {
        "duration": 93,
        "start_time": "2022-09-01T11:29:39.577Z"
      },
      {
        "duration": 6,
        "start_time": "2022-09-01T11:29:39.672Z"
      },
      {
        "duration": 25,
        "start_time": "2022-09-01T11:29:39.680Z"
      },
      {
        "duration": 19,
        "start_time": "2022-09-01T11:29:39.707Z"
      },
      {
        "duration": 10,
        "start_time": "2022-09-01T11:29:39.728Z"
      },
      {
        "duration": 9,
        "start_time": "2022-09-01T11:29:39.739Z"
      },
      {
        "duration": 9,
        "start_time": "2022-09-01T11:32:38.446Z"
      },
      {
        "duration": 59,
        "start_time": "2022-09-01T11:32:59.122Z"
      },
      {
        "duration": 11,
        "start_time": "2022-09-01T11:33:06.968Z"
      },
      {
        "duration": 1210,
        "start_time": "2022-09-01T11:38:50.422Z"
      },
      {
        "duration": 166,
        "start_time": "2022-09-01T11:38:51.635Z"
      },
      {
        "duration": 23,
        "start_time": "2022-09-01T11:38:51.803Z"
      },
      {
        "duration": 4,
        "start_time": "2022-09-01T11:38:51.828Z"
      },
      {
        "duration": 35,
        "start_time": "2022-09-01T11:38:51.834Z"
      },
      {
        "duration": 11,
        "start_time": "2022-09-01T11:38:51.870Z"
      },
      {
        "duration": 18,
        "start_time": "2022-09-01T11:38:51.882Z"
      },
      {
        "duration": 93,
        "start_time": "2022-09-01T11:38:51.902Z"
      },
      {
        "duration": 63,
        "start_time": "2022-09-01T11:38:51.997Z"
      },
      {
        "duration": 114,
        "start_time": "2022-09-01T11:38:52.063Z"
      },
      {
        "duration": 119,
        "start_time": "2022-09-01T11:38:52.178Z"
      },
      {
        "duration": 111,
        "start_time": "2022-09-01T11:38:52.298Z"
      },
      {
        "duration": 32,
        "start_time": "2022-09-01T11:38:52.410Z"
      },
      {
        "duration": 20,
        "start_time": "2022-09-01T11:38:52.444Z"
      },
      {
        "duration": 5,
        "start_time": "2022-09-01T11:38:52.465Z"
      },
      {
        "duration": 45,
        "start_time": "2022-09-01T11:38:52.471Z"
      },
      {
        "duration": 1027,
        "start_time": "2022-09-01T11:38:52.518Z"
      },
      {
        "duration": 628,
        "start_time": "2022-09-01T11:38:53.546Z"
      },
      {
        "duration": 13,
        "start_time": "2022-09-01T11:38:54.176Z"
      },
      {
        "duration": 3,
        "start_time": "2022-09-01T11:38:54.191Z"
      },
      {
        "duration": 29,
        "start_time": "2022-09-01T11:38:54.196Z"
      },
      {
        "duration": 930,
        "start_time": "2022-09-01T11:38:54.227Z"
      },
      {
        "duration": 7,
        "start_time": "2022-09-01T11:38:55.159Z"
      },
      {
        "duration": 45,
        "start_time": "2022-09-01T11:38:55.168Z"
      },
      {
        "duration": 92,
        "start_time": "2022-09-01T11:38:55.215Z"
      },
      {
        "duration": 10,
        "start_time": "2022-09-01T11:38:55.309Z"
      },
      {
        "duration": 154,
        "start_time": "2022-09-01T11:38:55.322Z"
      },
      {
        "duration": 180,
        "start_time": "2022-09-01T11:38:55.479Z"
      },
      {
        "duration": 49,
        "start_time": "2022-09-01T11:38:55.661Z"
      },
      {
        "duration": 105,
        "start_time": "2022-09-01T11:38:55.712Z"
      },
      {
        "duration": 6,
        "start_time": "2022-09-01T11:38:55.818Z"
      },
      {
        "duration": 16,
        "start_time": "2022-09-01T11:38:55.825Z"
      },
      {
        "duration": 18,
        "start_time": "2022-09-01T11:38:55.842Z"
      },
      {
        "duration": 7,
        "start_time": "2022-09-01T11:38:55.862Z"
      },
      {
        "duration": 9,
        "start_time": "2022-09-01T11:38:55.871Z"
      },
      {
        "duration": 1122,
        "start_time": "2022-09-01T19:01:25.914Z"
      },
      {
        "duration": 155,
        "start_time": "2022-09-01T19:01:27.038Z"
      },
      {
        "duration": 17,
        "start_time": "2022-09-01T19:01:27.194Z"
      },
      {
        "duration": 5,
        "start_time": "2022-09-01T19:01:27.213Z"
      },
      {
        "duration": 18,
        "start_time": "2022-09-01T19:01:27.219Z"
      },
      {
        "duration": 28,
        "start_time": "2022-09-01T19:01:27.239Z"
      },
      {
        "duration": 21,
        "start_time": "2022-09-01T19:01:27.268Z"
      },
      {
        "duration": 98,
        "start_time": "2022-09-01T19:01:27.291Z"
      },
      {
        "duration": 52,
        "start_time": "2022-09-01T19:01:27.390Z"
      },
      {
        "duration": 109,
        "start_time": "2022-09-01T19:01:27.457Z"
      },
      {
        "duration": 122,
        "start_time": "2022-09-01T19:01:27.567Z"
      },
      {
        "duration": 110,
        "start_time": "2022-09-01T19:01:27.691Z"
      },
      {
        "duration": 32,
        "start_time": "2022-09-01T19:01:27.803Z"
      },
      {
        "duration": 23,
        "start_time": "2022-09-01T19:01:27.838Z"
      },
      {
        "duration": 5,
        "start_time": "2022-09-01T19:01:27.862Z"
      },
      {
        "duration": 45,
        "start_time": "2022-09-01T19:01:27.869Z"
      },
      {
        "duration": 994,
        "start_time": "2022-09-01T19:01:27.916Z"
      },
      {
        "duration": 636,
        "start_time": "2022-09-01T19:01:28.911Z"
      },
      {
        "duration": 20,
        "start_time": "2022-09-01T19:01:29.548Z"
      },
      {
        "duration": 4,
        "start_time": "2022-09-01T19:01:29.570Z"
      },
      {
        "duration": 30,
        "start_time": "2022-09-01T19:01:29.575Z"
      },
      {
        "duration": 975,
        "start_time": "2022-09-01T19:01:29.607Z"
      },
      {
        "duration": 7,
        "start_time": "2022-09-01T19:01:30.584Z"
      },
      {
        "duration": 44,
        "start_time": "2022-09-01T19:01:30.592Z"
      },
      {
        "duration": 67,
        "start_time": "2022-09-01T19:01:30.637Z"
      },
      {
        "duration": 8,
        "start_time": "2022-09-01T19:01:30.706Z"
      },
      {
        "duration": 133,
        "start_time": "2022-09-01T19:01:30.715Z"
      },
      {
        "duration": 169,
        "start_time": "2022-09-01T19:01:30.850Z"
      },
      {
        "duration": 53,
        "start_time": "2022-09-01T19:01:31.021Z"
      },
      {
        "duration": 93,
        "start_time": "2022-09-01T19:01:31.075Z"
      },
      {
        "duration": 5,
        "start_time": "2022-09-01T19:01:31.169Z"
      },
      {
        "duration": 43,
        "start_time": "2022-09-01T19:01:31.175Z"
      },
      {
        "duration": 15,
        "start_time": "2022-09-01T19:01:31.220Z"
      },
      {
        "duration": 15,
        "start_time": "2022-09-01T19:01:31.236Z"
      },
      {
        "duration": 28,
        "start_time": "2022-09-01T19:01:31.253Z"
      },
      {
        "duration": 102,
        "start_time": "2022-09-01T19:05:23.115Z"
      },
      {
        "duration": 36,
        "start_time": "2022-09-01T19:05:25.914Z"
      },
      {
        "duration": 1107,
        "start_time": "2022-09-01T19:05:33.101Z"
      },
      {
        "duration": 154,
        "start_time": "2022-09-01T19:05:34.210Z"
      },
      {
        "duration": 20,
        "start_time": "2022-09-01T19:05:34.366Z"
      },
      {
        "duration": 5,
        "start_time": "2022-09-01T19:05:34.388Z"
      },
      {
        "duration": 18,
        "start_time": "2022-09-01T19:05:34.395Z"
      },
      {
        "duration": 11,
        "start_time": "2022-09-01T19:05:34.415Z"
      },
      {
        "duration": 18,
        "start_time": "2022-09-01T19:05:34.458Z"
      },
      {
        "duration": 88,
        "start_time": "2022-09-01T19:05:34.477Z"
      },
      {
        "duration": 51,
        "start_time": "2022-09-01T19:05:34.567Z"
      },
      {
        "duration": 114,
        "start_time": "2022-09-01T19:05:34.621Z"
      },
      {
        "duration": 117,
        "start_time": "2022-09-01T19:05:34.737Z"
      },
      {
        "duration": 129,
        "start_time": "2022-09-01T19:05:34.856Z"
      },
      {
        "duration": 31,
        "start_time": "2022-09-01T19:05:34.987Z"
      },
      {
        "duration": 8,
        "start_time": "2022-09-01T19:05:35.020Z"
      },
      {
        "duration": 5,
        "start_time": "2022-09-01T19:05:35.030Z"
      },
      {
        "duration": 63,
        "start_time": "2022-09-01T19:05:35.036Z"
      },
      {
        "duration": 1037,
        "start_time": "2022-09-01T19:05:35.101Z"
      },
      {
        "duration": 610,
        "start_time": "2022-09-01T19:05:36.140Z"
      },
      {
        "duration": 23,
        "start_time": "2022-09-01T19:05:36.752Z"
      },
      {
        "duration": 3,
        "start_time": "2022-09-01T19:05:36.776Z"
      },
      {
        "duration": 28,
        "start_time": "2022-09-01T19:05:36.780Z"
      },
      {
        "duration": 917,
        "start_time": "2022-09-01T19:05:36.810Z"
      },
      {
        "duration": 7,
        "start_time": "2022-09-01T19:05:37.729Z"
      },
      {
        "duration": 50,
        "start_time": "2022-09-01T19:05:37.737Z"
      },
      {
        "duration": 55,
        "start_time": "2022-09-01T19:05:37.789Z"
      },
      {
        "duration": 18,
        "start_time": "2022-09-01T19:05:37.845Z"
      },
      {
        "duration": 115,
        "start_time": "2022-09-01T19:05:37.865Z"
      },
      {
        "duration": 289,
        "start_time": "2022-09-01T19:05:37.984Z"
      },
      {
        "duration": 92,
        "start_time": "2022-09-01T19:05:38.274Z"
      },
      {
        "duration": 194,
        "start_time": "2022-09-01T19:05:38.368Z"
      },
      {
        "duration": 6,
        "start_time": "2022-09-01T19:05:38.563Z"
      },
      {
        "duration": 14,
        "start_time": "2022-09-01T19:05:38.570Z"
      },
      {
        "duration": 9,
        "start_time": "2022-09-01T19:05:38.586Z"
      },
      {
        "duration": 62,
        "start_time": "2022-09-01T19:05:38.597Z"
      },
      {
        "duration": 8,
        "start_time": "2022-09-01T19:05:38.661Z"
      },
      {
        "duration": 1133,
        "start_time": "2022-09-02T07:17:53.301Z"
      },
      {
        "duration": 168,
        "start_time": "2022-09-02T07:17:54.436Z"
      },
      {
        "duration": 20,
        "start_time": "2022-09-02T07:17:54.606Z"
      },
      {
        "duration": 5,
        "start_time": "2022-09-02T07:17:54.628Z"
      },
      {
        "duration": 38,
        "start_time": "2022-09-02T07:17:54.635Z"
      },
      {
        "duration": 11,
        "start_time": "2022-09-02T07:17:54.675Z"
      },
      {
        "duration": 20,
        "start_time": "2022-09-02T07:17:54.687Z"
      },
      {
        "duration": 106,
        "start_time": "2022-09-02T07:17:54.709Z"
      },
      {
        "duration": 92,
        "start_time": "2022-09-02T07:17:54.817Z"
      },
      {
        "duration": 109,
        "start_time": "2022-09-02T07:17:54.912Z"
      },
      {
        "duration": 124,
        "start_time": "2022-09-02T07:17:55.024Z"
      },
      {
        "duration": 157,
        "start_time": "2022-09-02T07:17:55.149Z"
      },
      {
        "duration": 49,
        "start_time": "2022-09-02T07:17:55.308Z"
      },
      {
        "duration": 9,
        "start_time": "2022-09-02T07:17:55.360Z"
      },
      {
        "duration": 8,
        "start_time": "2022-09-02T07:17:55.371Z"
      },
      {
        "duration": 112,
        "start_time": "2022-09-02T07:17:55.382Z"
      },
      {
        "duration": 1228,
        "start_time": "2022-09-02T07:17:55.496Z"
      },
      {
        "duration": 675,
        "start_time": "2022-09-02T07:17:56.726Z"
      },
      {
        "duration": 26,
        "start_time": "2022-09-02T07:17:57.403Z"
      },
      {
        "duration": 4,
        "start_time": "2022-09-02T07:17:57.431Z"
      },
      {
        "duration": 46,
        "start_time": "2022-09-02T07:17:57.437Z"
      },
      {
        "duration": 997,
        "start_time": "2022-09-02T07:17:57.485Z"
      },
      {
        "duration": 8,
        "start_time": "2022-09-02T07:17:58.484Z"
      },
      {
        "duration": 51,
        "start_time": "2022-09-02T07:17:58.494Z"
      },
      {
        "duration": 73,
        "start_time": "2022-09-02T07:17:58.557Z"
      },
      {
        "duration": 10,
        "start_time": "2022-09-02T07:17:58.632Z"
      },
      {
        "duration": 278,
        "start_time": "2022-09-02T07:17:58.643Z"
      },
      {
        "duration": 224,
        "start_time": "2022-09-02T07:17:58.926Z"
      },
      {
        "duration": 45,
        "start_time": "2022-09-02T07:17:59.151Z"
      },
      {
        "duration": 110,
        "start_time": "2022-09-02T07:17:59.197Z"
      },
      {
        "duration": 5,
        "start_time": "2022-09-02T07:17:59.309Z"
      },
      {
        "duration": 17,
        "start_time": "2022-09-02T07:17:59.315Z"
      },
      {
        "duration": 25,
        "start_time": "2022-09-02T07:17:59.333Z"
      },
      {
        "duration": 8,
        "start_time": "2022-09-02T07:17:59.360Z"
      },
      {
        "duration": 14,
        "start_time": "2022-09-02T07:17:59.370Z"
      },
      {
        "duration": 11,
        "start_time": "2022-10-26T11:49:49.269Z"
      },
      {
        "duration": 8,
        "start_time": "2022-10-26T11:49:59.405Z"
      },
      {
        "duration": 1381,
        "start_time": "2022-10-26T11:50:04.192Z"
      },
      {
        "duration": 754,
        "start_time": "2022-10-26T11:50:05.575Z"
      },
      {
        "duration": 21,
        "start_time": "2022-10-26T11:50:06.331Z"
      },
      {
        "duration": 5,
        "start_time": "2022-10-26T11:50:06.354Z"
      },
      {
        "duration": 23,
        "start_time": "2022-10-26T11:50:06.361Z"
      },
      {
        "duration": 39,
        "start_time": "2022-10-26T11:50:06.386Z"
      },
      {
        "duration": 22,
        "start_time": "2022-10-26T11:50:06.427Z"
      },
      {
        "duration": 104,
        "start_time": "2022-10-26T11:50:06.451Z"
      },
      {
        "duration": 77,
        "start_time": "2022-10-26T11:50:06.556Z"
      },
      {
        "duration": 129,
        "start_time": "2022-10-26T11:50:06.637Z"
      },
      {
        "duration": 141,
        "start_time": "2022-10-26T11:50:06.768Z"
      },
      {
        "duration": 147,
        "start_time": "2022-10-26T11:50:06.911Z"
      },
      {
        "duration": 44,
        "start_time": "2022-10-26T11:50:07.060Z"
      },
      {
        "duration": 23,
        "start_time": "2022-10-26T11:50:07.106Z"
      },
      {
        "duration": 5,
        "start_time": "2022-10-26T11:50:07.130Z"
      },
      {
        "duration": 91,
        "start_time": "2022-10-26T11:50:07.137Z"
      },
      {
        "duration": 1133,
        "start_time": "2022-10-26T11:50:07.231Z"
      },
      {
        "duration": 684,
        "start_time": "2022-10-26T11:50:08.366Z"
      },
      {
        "duration": 26,
        "start_time": "2022-10-26T11:50:09.052Z"
      },
      {
        "duration": 3,
        "start_time": "2022-10-26T11:50:09.080Z"
      },
      {
        "duration": 46,
        "start_time": "2022-10-26T11:50:09.085Z"
      },
      {
        "duration": 1081,
        "start_time": "2022-10-26T11:50:09.133Z"
      },
      {
        "duration": 9,
        "start_time": "2022-10-26T11:50:10.215Z"
      },
      {
        "duration": 63,
        "start_time": "2022-10-26T11:50:10.226Z"
      },
      {
        "duration": 86,
        "start_time": "2022-10-26T11:50:10.291Z"
      },
      {
        "duration": 11,
        "start_time": "2022-10-26T11:50:10.378Z"
      },
      {
        "duration": 168,
        "start_time": "2022-10-26T11:50:10.391Z"
      },
      {
        "duration": 237,
        "start_time": "2022-10-26T11:50:10.563Z"
      },
      {
        "duration": 64,
        "start_time": "2022-10-26T11:50:10.801Z"
      },
      {
        "duration": 112,
        "start_time": "2022-10-26T11:50:10.867Z"
      },
      {
        "duration": 7,
        "start_time": "2022-10-26T11:50:10.981Z"
      },
      {
        "duration": 34,
        "start_time": "2022-10-26T11:50:10.989Z"
      },
      {
        "duration": 18,
        "start_time": "2022-10-26T11:50:11.025Z"
      },
      {
        "duration": 27,
        "start_time": "2022-10-26T11:50:11.045Z"
      },
      {
        "duration": 23,
        "start_time": "2022-10-26T11:50:11.074Z"
      },
      {
        "duration": 1279,
        "start_time": "2022-11-22T10:37:20.431Z"
      },
      {
        "duration": 734,
        "start_time": "2022-11-22T10:37:21.712Z"
      },
      {
        "duration": 19,
        "start_time": "2022-11-22T10:37:22.447Z"
      },
      {
        "duration": 5,
        "start_time": "2022-11-22T10:37:22.468Z"
      },
      {
        "duration": 23,
        "start_time": "2022-11-22T10:37:22.474Z"
      },
      {
        "duration": 12,
        "start_time": "2022-11-22T10:37:22.498Z"
      },
      {
        "duration": 27,
        "start_time": "2022-11-22T10:37:22.512Z"
      },
      {
        "duration": 84,
        "start_time": "2022-11-22T10:37:22.540Z"
      },
      {
        "duration": 69,
        "start_time": "2022-11-22T10:37:22.626Z"
      },
      {
        "duration": 115,
        "start_time": "2022-11-22T10:37:22.697Z"
      },
      {
        "duration": 122,
        "start_time": "2022-11-22T10:37:22.813Z"
      },
      {
        "duration": 137,
        "start_time": "2022-11-22T10:37:22.937Z"
      },
      {
        "duration": 33,
        "start_time": "2022-11-22T10:37:23.077Z"
      },
      {
        "duration": 12,
        "start_time": "2022-11-22T10:37:23.112Z"
      },
      {
        "duration": 23,
        "start_time": "2022-11-22T10:37:23.125Z"
      },
      {
        "duration": 66,
        "start_time": "2022-11-22T10:37:23.150Z"
      },
      {
        "duration": 1076,
        "start_time": "2022-11-22T10:37:23.218Z"
      },
      {
        "duration": 716,
        "start_time": "2022-11-22T10:37:24.295Z"
      },
      {
        "duration": 19,
        "start_time": "2022-11-22T10:37:25.012Z"
      },
      {
        "duration": 2,
        "start_time": "2022-11-22T10:37:25.033Z"
      },
      {
        "duration": 51,
        "start_time": "2022-11-22T10:37:25.037Z"
      },
      {
        "duration": 991,
        "start_time": "2022-11-22T10:37:25.089Z"
      },
      {
        "duration": 8,
        "start_time": "2022-11-22T10:37:26.082Z"
      },
      {
        "duration": 55,
        "start_time": "2022-11-22T10:37:26.092Z"
      },
      {
        "duration": 85,
        "start_time": "2022-11-22T10:37:26.149Z"
      },
      {
        "duration": 10,
        "start_time": "2022-11-22T10:37:26.236Z"
      },
      {
        "duration": 164,
        "start_time": "2022-11-22T10:37:26.248Z"
      },
      {
        "duration": 0,
        "start_time": "2022-11-22T10:37:26.414Z"
      },
      {
        "duration": 0,
        "start_time": "2022-11-22T10:37:26.416Z"
      },
      {
        "duration": 0,
        "start_time": "2022-11-22T10:37:26.417Z"
      },
      {
        "duration": 0,
        "start_time": "2022-11-22T10:37:26.418Z"
      },
      {
        "duration": 0,
        "start_time": "2022-11-22T10:37:26.419Z"
      },
      {
        "duration": 0,
        "start_time": "2022-11-22T10:37:26.420Z"
      },
      {
        "duration": 0,
        "start_time": "2022-11-22T10:37:26.422Z"
      },
      {
        "duration": 0,
        "start_time": "2022-11-22T10:37:26.423Z"
      },
      {
        "duration": 1312,
        "start_time": "2022-11-22T10:38:54.021Z"
      },
      {
        "duration": 179,
        "start_time": "2022-11-22T10:38:55.334Z"
      },
      {
        "duration": 25,
        "start_time": "2022-11-22T10:38:55.514Z"
      },
      {
        "duration": 7,
        "start_time": "2022-11-22T10:38:55.541Z"
      },
      {
        "duration": 44,
        "start_time": "2022-11-22T10:38:55.550Z"
      },
      {
        "duration": 15,
        "start_time": "2022-11-22T10:38:55.596Z"
      },
      {
        "duration": 23,
        "start_time": "2022-11-22T10:38:55.613Z"
      },
      {
        "duration": 141,
        "start_time": "2022-11-22T10:38:55.638Z"
      },
      {
        "duration": 63,
        "start_time": "2022-11-22T10:38:55.781Z"
      },
      {
        "duration": 133,
        "start_time": "2022-11-22T10:38:55.847Z"
      },
      {
        "duration": 144,
        "start_time": "2022-11-22T10:38:55.982Z"
      },
      {
        "duration": 139,
        "start_time": "2022-11-22T10:38:56.129Z"
      },
      {
        "duration": 38,
        "start_time": "2022-11-22T10:38:56.269Z"
      },
      {
        "duration": 12,
        "start_time": "2022-11-22T10:38:56.309Z"
      },
      {
        "duration": 6,
        "start_time": "2022-11-22T10:38:56.323Z"
      },
      {
        "duration": 71,
        "start_time": "2022-11-22T10:38:56.332Z"
      },
      {
        "duration": 1056,
        "start_time": "2022-11-22T10:38:56.405Z"
      },
      {
        "duration": 634,
        "start_time": "2022-11-22T10:38:57.463Z"
      },
      {
        "duration": 22,
        "start_time": "2022-11-22T10:38:58.099Z"
      },
      {
        "duration": 3,
        "start_time": "2022-11-22T10:38:58.122Z"
      },
      {
        "duration": 30,
        "start_time": "2022-11-22T10:38:58.127Z"
      },
      {
        "duration": 1017,
        "start_time": "2022-11-22T10:38:58.159Z"
      },
      {
        "duration": 8,
        "start_time": "2022-11-22T10:38:59.177Z"
      },
      {
        "duration": 45,
        "start_time": "2022-11-22T10:38:59.187Z"
      },
      {
        "duration": 74,
        "start_time": "2022-11-22T10:38:59.234Z"
      },
      {
        "duration": 10,
        "start_time": "2022-11-22T10:38:59.310Z"
      },
      {
        "duration": 159,
        "start_time": "2022-11-22T10:38:59.322Z"
      },
      {
        "duration": 202,
        "start_time": "2022-11-22T10:38:59.484Z"
      },
      {
        "duration": 41,
        "start_time": "2022-11-22T10:38:59.688Z"
      },
      {
        "duration": 113,
        "start_time": "2022-11-22T10:38:59.731Z"
      },
      {
        "duration": 5,
        "start_time": "2022-11-22T10:38:59.846Z"
      },
      {
        "duration": 17,
        "start_time": "2022-11-22T10:38:59.853Z"
      },
      {
        "duration": 9,
        "start_time": "2022-11-22T10:38:59.878Z"
      },
      {
        "duration": 10,
        "start_time": "2022-11-22T10:38:59.889Z"
      },
      {
        "duration": 10,
        "start_time": "2022-11-22T10:38:59.901Z"
      },
      {
        "duration": 174,
        "start_time": "2022-11-22T10:40:13.478Z"
      },
      {
        "duration": 7142,
        "start_time": "2022-11-22T10:42:50.660Z"
      },
      {
        "duration": 2016,
        "start_time": "2022-11-22T10:43:19.886Z"
      },
      {
        "duration": 1314,
        "start_time": "2022-11-22T10:43:21.904Z"
      },
      {
        "duration": 181,
        "start_time": "2022-11-22T10:43:23.220Z"
      },
      {
        "duration": 19,
        "start_time": "2022-11-22T10:43:23.404Z"
      },
      {
        "duration": 5,
        "start_time": "2022-11-22T10:43:23.425Z"
      },
      {
        "duration": 21,
        "start_time": "2022-11-22T10:43:23.432Z"
      },
      {
        "duration": 31,
        "start_time": "2022-11-22T10:43:23.455Z"
      },
      {
        "duration": 20,
        "start_time": "2022-11-22T10:43:23.488Z"
      },
      {
        "duration": 102,
        "start_time": "2022-11-22T10:43:23.510Z"
      },
      {
        "duration": 67,
        "start_time": "2022-11-22T10:43:23.615Z"
      },
      {
        "duration": 115,
        "start_time": "2022-11-22T10:43:23.684Z"
      },
      {
        "duration": 142,
        "start_time": "2022-11-22T10:43:23.801Z"
      },
      {
        "duration": 201,
        "start_time": "2022-11-22T10:43:23.945Z"
      },
      {
        "duration": 54,
        "start_time": "2022-11-22T10:43:24.148Z"
      },
      {
        "duration": 14,
        "start_time": "2022-11-22T10:43:24.204Z"
      },
      {
        "duration": 18,
        "start_time": "2022-11-22T10:43:24.220Z"
      },
      {
        "duration": 67,
        "start_time": "2022-11-22T10:43:24.240Z"
      },
      {
        "duration": 1030,
        "start_time": "2022-11-22T10:43:24.309Z"
      },
      {
        "duration": 787,
        "start_time": "2022-11-22T10:43:25.341Z"
      },
      {
        "duration": 22,
        "start_time": "2022-11-22T10:43:26.131Z"
      },
      {
        "duration": 4,
        "start_time": "2022-11-22T10:43:26.155Z"
      },
      {
        "duration": 31,
        "start_time": "2022-11-22T10:43:26.179Z"
      },
      {
        "duration": 955,
        "start_time": "2022-11-22T10:43:26.211Z"
      },
      {
        "duration": 10,
        "start_time": "2022-11-22T10:43:27.168Z"
      },
      {
        "duration": 711,
        "start_time": "2022-11-22T10:43:27.179Z"
      },
      {
        "duration": 2178,
        "start_time": "2022-11-22T10:43:27.893Z"
      },
      {
        "duration": 9,
        "start_time": "2022-11-22T10:43:30.073Z"
      },
      {
        "duration": 834,
        "start_time": "2022-11-22T10:43:30.085Z"
      },
      {
        "duration": 269,
        "start_time": "2022-11-22T10:43:30.921Z"
      },
      {
        "duration": 45,
        "start_time": "2022-11-22T10:43:31.192Z"
      },
      {
        "duration": 100,
        "start_time": "2022-11-22T10:43:31.252Z"
      },
      {
        "duration": 6,
        "start_time": "2022-11-22T10:43:31.354Z"
      },
      {
        "duration": 23,
        "start_time": "2022-11-22T10:43:31.362Z"
      },
      {
        "duration": 21,
        "start_time": "2022-11-22T10:43:31.386Z"
      },
      {
        "duration": 20,
        "start_time": "2022-11-22T10:43:31.408Z"
      },
      {
        "duration": 13,
        "start_time": "2022-11-22T10:43:31.429Z"
      }
    ],
    "kernelspec": {
      "display_name": "Python 3 (ipykernel)",
      "language": "python",
      "name": "python3"
    },
    "language_info": {
      "codemirror_mode": {
        "name": "ipython",
        "version": 3
      },
      "file_extension": ".py",
      "mimetype": "text/x-python",
      "name": "python",
      "nbconvert_exporter": "python",
      "pygments_lexer": "ipython3",
      "version": "3.9.5"
    },
    "toc": {
      "base_numbering": 1,
      "nav_menu": {},
      "number_sections": false,
      "sideBar": true,
      "skip_h1_title": false,
      "title_cell": "Table of Contents",
      "title_sidebar": "Contents",
      "toc_cell": false,
      "toc_position": {},
      "toc_section_display": true,
      "toc_window_display": true
    },
    "colab": {
      "provenance": []
    }
  },
  "nbformat": 4,
  "nbformat_minor": 0
}