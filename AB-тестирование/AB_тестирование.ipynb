{
  "cells": [
    {
      "cell_type": "markdown",
      "source": [
        "# A/B-тестирование"
      ],
      "metadata": {
        "id": "aGKgzztjwpZO"
      }
    },
    {
      "cell_type": "markdown",
      "metadata": {
        "id": "LfThkYukwYsD"
      },
      "source": [
        "# Введение"
      ]
    },
    {
      "cell_type": "markdown",
      "metadata": {
        "id": "39WLuJiRwYsE"
      },
      "source": [
        "A/B-тест один из самых точных  способов проверки гипотезы. Он способен помочь определить влияние изменений на конверсию. Поэтому, перед внедрением улучшенной системы рекомендаций, был проведен A/B-тест на новых пользователях. В данном анализе мы проведем оценку правильности теста и его результатов. "
      ]
    },
    {
      "cell_type": "markdown",
      "metadata": {
        "id": "j3IxVOvHwYsE"
      },
      "source": [
        "## Техническое задание"
      ]
    },
    {
      "cell_type": "markdown",
      "metadata": {
        "id": "upDsuPoIwYsE"
      },
      "source": [
        "\n",
        "- Название теста: `recommender_system_test`;\n",
        "- группы: А — контрольная, B — новая платёжная воронка;\n",
        "- дата запуска: 2020-12-07;\n",
        "- дата остановки набора новых пользователей: 2020-12-21;\n",
        "- дата остановки: 2021-01-04;\n",
        "- аудитория: 15% новых пользователей из региона EU;\n",
        "- назначение теста: тестирование изменений, связанных с внедрением улучшенной рекомендательной системы;\n",
        "- ожидаемое количество участников теста: 6000.\n",
        "- ожидаемый эффект: за 14 дней с момента регистрации пользователи покажут улучшение каждой метрики не менее, чем на 10%:\n",
        "    - конверсии в просмотр карточек товаров — событие `product_page`,\n",
        "    - просмотры корзины — `product_cart`,\n",
        "    - покупки — `purchase`."
      ]
    },
    {
      "cell_type": "markdown",
      "metadata": {
        "id": "U-WRChEwwYsE"
      },
      "source": [
        "## Изучение данных"
      ]
    },
    {
      "cell_type": "code",
      "execution_count": null,
      "metadata": {
        "id": "0RPIYrGBwYsF",
        "outputId": "0da63cd6-fa8f-4b01-f03f-b5a4279356c0"
      },
      "outputs": [
        {
          "name": "stdout",
          "output_type": "stream",
          "text": [
            "Requirement already satisfied: kaleido in /opt/conda/lib/python3.9/site-packages (0.2.1)\n",
            "Note: you may need to restart the kernel to use updated packages.\n"
          ]
        }
      ],
      "source": [
        "pip install -U kaleido"
      ]
    },
    {
      "cell_type": "code",
      "execution_count": null,
      "metadata": {
        "id": "xTwqztsfwYsG"
      },
      "outputs": [],
      "source": [
        "import pandas as pd\n",
        "import numpy as np\n",
        "from scipy import stats as st\n",
        "from plotly import graph_objects as go\n",
        "import re \n",
        "import math as mth\n",
        "import matplotlib as mpl\n",
        "import matplotlib.pyplot as plt\n",
        "import seaborn as sns\n",
        "pd.options.display.float_format = '{:,.1f}'.format\n",
        "\n",
        "import plotly.io as pio\n",
        "pio.renderers.default = \"png\""
      ]
    },
    {
      "cell_type": "code",
      "execution_count": null,
      "metadata": {
        "id": "9nTZadgzwYsG"
      },
      "outputs": [],
      "source": [
        "def datainfo(data):\n",
        "  \n",
        "    display(data)\n",
        "    data.info()\n",
        "    print()\n",
        "    print('Дубликатов - ', ab_project_marketing_events.duplicated().sum())"
      ]
    },
    {
      "cell_type": "markdown",
      "metadata": {
        "id": "3VpVxIaUwYsG"
      },
      "source": [
        "`ab_project_marketing_events` — календарь маркетинговых событий на 2020 год.\n",
        "\n",
        "Структура файла:\n",
        "\n",
        "- `name` — название маркетингового события;\n",
        "- `regions` — регионы, в которых будет проводиться рекламная кампания;\n",
        "- `start_dt` — дата начала кампании;\n",
        "- `finish_dt` — дата завершения кампании."
      ]
    },
    {
      "cell_type": "code",
      "execution_count": null,
      "metadata": {
        "id": "o0UGEKx7wYsG",
        "outputId": "873ca2b9-c4c0-4753-a382-d489fc789f05"
      },
      "outputs": [
        {
          "data": {
            "text/html": [
              "<div>\n",
              "<style scoped>\n",
              "    .dataframe tbody tr th:only-of-type {\n",
              "        vertical-align: middle;\n",
              "    }\n",
              "\n",
              "    .dataframe tbody tr th {\n",
              "        vertical-align: top;\n",
              "    }\n",
              "\n",
              "    .dataframe thead th {\n",
              "        text-align: right;\n",
              "    }\n",
              "</style>\n",
              "<table border=\"1\" class=\"dataframe\">\n",
              "  <thead>\n",
              "    <tr style=\"text-align: right;\">\n",
              "      <th></th>\n",
              "      <th>name</th>\n",
              "      <th>regions</th>\n",
              "      <th>start_dt</th>\n",
              "      <th>finish_dt</th>\n",
              "    </tr>\n",
              "  </thead>\n",
              "  <tbody>\n",
              "    <tr>\n",
              "      <th>0</th>\n",
              "      <td>Christmas&amp;New Year Promo</td>\n",
              "      <td>EU, N.America</td>\n",
              "      <td>2020-12-25</td>\n",
              "      <td>2021-01-03</td>\n",
              "    </tr>\n",
              "    <tr>\n",
              "      <th>1</th>\n",
              "      <td>St. Valentine's Day Giveaway</td>\n",
              "      <td>EU, CIS, APAC, N.America</td>\n",
              "      <td>2020-02-14</td>\n",
              "      <td>2020-02-16</td>\n",
              "    </tr>\n",
              "    <tr>\n",
              "      <th>2</th>\n",
              "      <td>St. Patric's Day Promo</td>\n",
              "      <td>EU, N.America</td>\n",
              "      <td>2020-03-17</td>\n",
              "      <td>2020-03-19</td>\n",
              "    </tr>\n",
              "    <tr>\n",
              "      <th>3</th>\n",
              "      <td>Easter Promo</td>\n",
              "      <td>EU, CIS, APAC, N.America</td>\n",
              "      <td>2020-04-12</td>\n",
              "      <td>2020-04-19</td>\n",
              "    </tr>\n",
              "    <tr>\n",
              "      <th>4</th>\n",
              "      <td>4th of July Promo</td>\n",
              "      <td>N.America</td>\n",
              "      <td>2020-07-04</td>\n",
              "      <td>2020-07-11</td>\n",
              "    </tr>\n",
              "    <tr>\n",
              "      <th>5</th>\n",
              "      <td>Black Friday Ads Campaign</td>\n",
              "      <td>EU, CIS, APAC, N.America</td>\n",
              "      <td>2020-11-26</td>\n",
              "      <td>2020-12-01</td>\n",
              "    </tr>\n",
              "    <tr>\n",
              "      <th>6</th>\n",
              "      <td>Chinese New Year Promo</td>\n",
              "      <td>APAC</td>\n",
              "      <td>2020-01-25</td>\n",
              "      <td>2020-02-07</td>\n",
              "    </tr>\n",
              "    <tr>\n",
              "      <th>7</th>\n",
              "      <td>Labor day (May 1st) Ads Campaign</td>\n",
              "      <td>EU, CIS, APAC</td>\n",
              "      <td>2020-05-01</td>\n",
              "      <td>2020-05-03</td>\n",
              "    </tr>\n",
              "    <tr>\n",
              "      <th>8</th>\n",
              "      <td>International Women's Day Promo</td>\n",
              "      <td>EU, CIS, APAC</td>\n",
              "      <td>2020-03-08</td>\n",
              "      <td>2020-03-10</td>\n",
              "    </tr>\n",
              "    <tr>\n",
              "      <th>9</th>\n",
              "      <td>Victory Day CIS (May 9th) Event</td>\n",
              "      <td>CIS</td>\n",
              "      <td>2020-05-09</td>\n",
              "      <td>2020-05-11</td>\n",
              "    </tr>\n",
              "    <tr>\n",
              "      <th>10</th>\n",
              "      <td>CIS New Year Gift Lottery</td>\n",
              "      <td>CIS</td>\n",
              "      <td>2020-12-30</td>\n",
              "      <td>2021-01-07</td>\n",
              "    </tr>\n",
              "    <tr>\n",
              "      <th>11</th>\n",
              "      <td>Dragon Boat Festival Giveaway</td>\n",
              "      <td>APAC</td>\n",
              "      <td>2020-06-25</td>\n",
              "      <td>2020-07-01</td>\n",
              "    </tr>\n",
              "    <tr>\n",
              "      <th>12</th>\n",
              "      <td>Single's Day Gift Promo</td>\n",
              "      <td>APAC</td>\n",
              "      <td>2020-11-11</td>\n",
              "      <td>2020-11-12</td>\n",
              "    </tr>\n",
              "    <tr>\n",
              "      <th>13</th>\n",
              "      <td>Chinese Moon Festival</td>\n",
              "      <td>APAC</td>\n",
              "      <td>2020-10-01</td>\n",
              "      <td>2020-10-07</td>\n",
              "    </tr>\n",
              "  </tbody>\n",
              "</table>\n",
              "</div>"
            ],
            "text/plain": [
              "                                name                   regions    start_dt  \\\n",
              "0           Christmas&New Year Promo             EU, N.America  2020-12-25   \n",
              "1       St. Valentine's Day Giveaway  EU, CIS, APAC, N.America  2020-02-14   \n",
              "2             St. Patric's Day Promo             EU, N.America  2020-03-17   \n",
              "3                       Easter Promo  EU, CIS, APAC, N.America  2020-04-12   \n",
              "4                  4th of July Promo                 N.America  2020-07-04   \n",
              "5          Black Friday Ads Campaign  EU, CIS, APAC, N.America  2020-11-26   \n",
              "6             Chinese New Year Promo                      APAC  2020-01-25   \n",
              "7   Labor day (May 1st) Ads Campaign             EU, CIS, APAC  2020-05-01   \n",
              "8    International Women's Day Promo             EU, CIS, APAC  2020-03-08   \n",
              "9    Victory Day CIS (May 9th) Event                       CIS  2020-05-09   \n",
              "10         CIS New Year Gift Lottery                       CIS  2020-12-30   \n",
              "11     Dragon Boat Festival Giveaway                      APAC  2020-06-25   \n",
              "12           Single's Day Gift Promo                      APAC  2020-11-11   \n",
              "13             Chinese Moon Festival                      APAC  2020-10-01   \n",
              "\n",
              "     finish_dt  \n",
              "0   2021-01-03  \n",
              "1   2020-02-16  \n",
              "2   2020-03-19  \n",
              "3   2020-04-19  \n",
              "4   2020-07-11  \n",
              "5   2020-12-01  \n",
              "6   2020-02-07  \n",
              "7   2020-05-03  \n",
              "8   2020-03-10  \n",
              "9   2020-05-11  \n",
              "10  2021-01-07  \n",
              "11  2020-07-01  \n",
              "12  2020-11-12  \n",
              "13  2020-10-07  "
            ]
          },
          "metadata": {},
          "output_type": "display_data"
        },
        {
          "name": "stdout",
          "output_type": "stream",
          "text": [
            "<class 'pandas.core.frame.DataFrame'>\n",
            "RangeIndex: 14 entries, 0 to 13\n",
            "Data columns (total 4 columns):\n",
            " #   Column     Non-Null Count  Dtype \n",
            "---  ------     --------------  ----- \n",
            " 0   name       14 non-null     object\n",
            " 1   regions    14 non-null     object\n",
            " 2   start_dt   14 non-null     object\n",
            " 3   finish_dt  14 non-null     object\n",
            "dtypes: object(4)\n",
            "memory usage: 576.0+ bytes\n",
            "\n",
            "Дубликатов -  0\n"
          ]
        }
      ],
      "source": [
        "ab_project_marketing_events = pd.read_csv('/datasets/ab_project_marketing_events.csv')\n",
        "datainfo(ab_project_marketing_events)"
      ]
    },
    {
      "cell_type": "markdown",
      "metadata": {
        "id": "R4q2EKImwYsH"
      },
      "source": [
        "`final_ab_events` — действия новых пользователей в период с 7 декабря 2020 по 4 января 2021 года.\n",
        "\n",
        "Структура файла:\n",
        "\n",
        "- `user_id` — идентификатор пользователя;\n",
        "- `event_dt` — дата и время покупки;\n",
        "- `event_name` — тип события;\n",
        "- `details` — дополнительные данные о событии. Например, для покупок, `purchase,` в этом поле хранится стоимость покупки в долларах."
      ]
    },
    {
      "cell_type": "code",
      "execution_count": null,
      "metadata": {
        "id": "t0fDuDlVwYsH",
        "outputId": "9ccbfea7-ce99-4900-d692-be165602f4a4"
      },
      "outputs": [
        {
          "data": {
            "text/html": [
              "<div>\n",
              "<style scoped>\n",
              "    .dataframe tbody tr th:only-of-type {\n",
              "        vertical-align: middle;\n",
              "    }\n",
              "\n",
              "    .dataframe tbody tr th {\n",
              "        vertical-align: top;\n",
              "    }\n",
              "\n",
              "    .dataframe thead th {\n",
              "        text-align: right;\n",
              "    }\n",
              "</style>\n",
              "<table border=\"1\" class=\"dataframe\">\n",
              "  <thead>\n",
              "    <tr style=\"text-align: right;\">\n",
              "      <th></th>\n",
              "      <th>user_id</th>\n",
              "      <th>event_dt</th>\n",
              "      <th>event_name</th>\n",
              "      <th>details</th>\n",
              "    </tr>\n",
              "  </thead>\n",
              "  <tbody>\n",
              "    <tr>\n",
              "      <th>0</th>\n",
              "      <td>E1BDDCE0DAFA2679</td>\n",
              "      <td>2020-12-07 20:22:03</td>\n",
              "      <td>purchase</td>\n",
              "      <td>100.0</td>\n",
              "    </tr>\n",
              "    <tr>\n",
              "      <th>1</th>\n",
              "      <td>7B6452F081F49504</td>\n",
              "      <td>2020-12-07 09:22:53</td>\n",
              "      <td>purchase</td>\n",
              "      <td>10.0</td>\n",
              "    </tr>\n",
              "    <tr>\n",
              "      <th>2</th>\n",
              "      <td>9CD9F34546DF254C</td>\n",
              "      <td>2020-12-07 12:59:29</td>\n",
              "      <td>purchase</td>\n",
              "      <td>5.0</td>\n",
              "    </tr>\n",
              "    <tr>\n",
              "      <th>3</th>\n",
              "      <td>96F27A054B191457</td>\n",
              "      <td>2020-12-07 04:02:40</td>\n",
              "      <td>purchase</td>\n",
              "      <td>5.0</td>\n",
              "    </tr>\n",
              "    <tr>\n",
              "      <th>4</th>\n",
              "      <td>1FD7660FDF94CA1F</td>\n",
              "      <td>2020-12-07 10:15:09</td>\n",
              "      <td>purchase</td>\n",
              "      <td>5.0</td>\n",
              "    </tr>\n",
              "    <tr>\n",
              "      <th>...</th>\n",
              "      <td>...</td>\n",
              "      <td>...</td>\n",
              "      <td>...</td>\n",
              "      <td>...</td>\n",
              "    </tr>\n",
              "    <tr>\n",
              "      <th>440312</th>\n",
              "      <td>245E85F65C358E08</td>\n",
              "      <td>2020-12-30 19:35:55</td>\n",
              "      <td>login</td>\n",
              "      <td>NaN</td>\n",
              "    </tr>\n",
              "    <tr>\n",
              "      <th>440313</th>\n",
              "      <td>9385A108F5A0A7A7</td>\n",
              "      <td>2020-12-30 10:54:15</td>\n",
              "      <td>login</td>\n",
              "      <td>NaN</td>\n",
              "    </tr>\n",
              "    <tr>\n",
              "      <th>440314</th>\n",
              "      <td>DB650B7559AC6EAC</td>\n",
              "      <td>2020-12-30 10:59:09</td>\n",
              "      <td>login</td>\n",
              "      <td>NaN</td>\n",
              "    </tr>\n",
              "    <tr>\n",
              "      <th>440315</th>\n",
              "      <td>F80C9BDDEA02E53C</td>\n",
              "      <td>2020-12-30 09:53:39</td>\n",
              "      <td>login</td>\n",
              "      <td>NaN</td>\n",
              "    </tr>\n",
              "    <tr>\n",
              "      <th>440316</th>\n",
              "      <td>7AEC61159B672CC5</td>\n",
              "      <td>2020-12-30 11:36:13</td>\n",
              "      <td>login</td>\n",
              "      <td>NaN</td>\n",
              "    </tr>\n",
              "  </tbody>\n",
              "</table>\n",
              "<p>440317 rows × 4 columns</p>\n",
              "</div>"
            ],
            "text/plain": [
              "                 user_id             event_dt event_name  details\n",
              "0       E1BDDCE0DAFA2679  2020-12-07 20:22:03   purchase    100.0\n",
              "1       7B6452F081F49504  2020-12-07 09:22:53   purchase     10.0\n",
              "2       9CD9F34546DF254C  2020-12-07 12:59:29   purchase      5.0\n",
              "3       96F27A054B191457  2020-12-07 04:02:40   purchase      5.0\n",
              "4       1FD7660FDF94CA1F  2020-12-07 10:15:09   purchase      5.0\n",
              "...                  ...                  ...        ...      ...\n",
              "440312  245E85F65C358E08  2020-12-30 19:35:55      login      NaN\n",
              "440313  9385A108F5A0A7A7  2020-12-30 10:54:15      login      NaN\n",
              "440314  DB650B7559AC6EAC  2020-12-30 10:59:09      login      NaN\n",
              "440315  F80C9BDDEA02E53C  2020-12-30 09:53:39      login      NaN\n",
              "440316  7AEC61159B672CC5  2020-12-30 11:36:13      login      NaN\n",
              "\n",
              "[440317 rows x 4 columns]"
            ]
          },
          "metadata": {},
          "output_type": "display_data"
        },
        {
          "name": "stdout",
          "output_type": "stream",
          "text": [
            "<class 'pandas.core.frame.DataFrame'>\n",
            "RangeIndex: 440317 entries, 0 to 440316\n",
            "Data columns (total 4 columns):\n",
            " #   Column      Non-Null Count   Dtype  \n",
            "---  ------      --------------   -----  \n",
            " 0   user_id     440317 non-null  object \n",
            " 1   event_dt    440317 non-null  object \n",
            " 2   event_name  440317 non-null  object \n",
            " 3   details     62740 non-null   float64\n",
            "dtypes: float64(1), object(3)\n",
            "memory usage: 13.4+ MB\n",
            "\n",
            "Дубликатов -  0\n"
          ]
        }
      ],
      "source": [
        "final_ab_events = pd.read_csv('/datasets/final_ab_events.csv')\n",
        "datainfo(final_ab_events)"
      ]
    },
    {
      "cell_type": "markdown",
      "metadata": {
        "id": "PDmgw_QhwYsH"
      },
      "source": [
        "`final_ab_new_users` — пользователи, зарегистрировавшиеся с 7 по 21 декабря 2020 года.\n",
        "\n",
        "Структура файла:\n",
        "\n",
        "- `user_id` — идентификатор пользователя;\n",
        "- `first_date` — дата регистрации;\n",
        "- `region` — регион пользователя;\n",
        "- `device` — устройство, с которого происходила регистрация."
      ]
    },
    {
      "cell_type": "code",
      "execution_count": null,
      "metadata": {
        "id": "KzP9Bra6wYsH",
        "outputId": "513075b5-650b-4bac-8249-837cefbaed54"
      },
      "outputs": [
        {
          "data": {
            "text/html": [
              "<div>\n",
              "<style scoped>\n",
              "    .dataframe tbody tr th:only-of-type {\n",
              "        vertical-align: middle;\n",
              "    }\n",
              "\n",
              "    .dataframe tbody tr th {\n",
              "        vertical-align: top;\n",
              "    }\n",
              "\n",
              "    .dataframe thead th {\n",
              "        text-align: right;\n",
              "    }\n",
              "</style>\n",
              "<table border=\"1\" class=\"dataframe\">\n",
              "  <thead>\n",
              "    <tr style=\"text-align: right;\">\n",
              "      <th></th>\n",
              "      <th>user_id</th>\n",
              "      <th>first_date</th>\n",
              "      <th>region</th>\n",
              "      <th>device</th>\n",
              "    </tr>\n",
              "  </thead>\n",
              "  <tbody>\n",
              "    <tr>\n",
              "      <th>0</th>\n",
              "      <td>D72A72121175D8BE</td>\n",
              "      <td>2020-12-07</td>\n",
              "      <td>EU</td>\n",
              "      <td>PC</td>\n",
              "    </tr>\n",
              "    <tr>\n",
              "      <th>1</th>\n",
              "      <td>F1C668619DFE6E65</td>\n",
              "      <td>2020-12-07</td>\n",
              "      <td>N.America</td>\n",
              "      <td>Android</td>\n",
              "    </tr>\n",
              "    <tr>\n",
              "      <th>2</th>\n",
              "      <td>2E1BF1D4C37EA01F</td>\n",
              "      <td>2020-12-07</td>\n",
              "      <td>EU</td>\n",
              "      <td>PC</td>\n",
              "    </tr>\n",
              "    <tr>\n",
              "      <th>3</th>\n",
              "      <td>50734A22C0C63768</td>\n",
              "      <td>2020-12-07</td>\n",
              "      <td>EU</td>\n",
              "      <td>iPhone</td>\n",
              "    </tr>\n",
              "    <tr>\n",
              "      <th>4</th>\n",
              "      <td>E1BDDCE0DAFA2679</td>\n",
              "      <td>2020-12-07</td>\n",
              "      <td>N.America</td>\n",
              "      <td>iPhone</td>\n",
              "    </tr>\n",
              "    <tr>\n",
              "      <th>...</th>\n",
              "      <td>...</td>\n",
              "      <td>...</td>\n",
              "      <td>...</td>\n",
              "      <td>...</td>\n",
              "    </tr>\n",
              "    <tr>\n",
              "      <th>61728</th>\n",
              "      <td>1DB53B933257165D</td>\n",
              "      <td>2020-12-20</td>\n",
              "      <td>EU</td>\n",
              "      <td>Android</td>\n",
              "    </tr>\n",
              "    <tr>\n",
              "      <th>61729</th>\n",
              "      <td>538643EB4527ED03</td>\n",
              "      <td>2020-12-20</td>\n",
              "      <td>EU</td>\n",
              "      <td>Mac</td>\n",
              "    </tr>\n",
              "    <tr>\n",
              "      <th>61730</th>\n",
              "      <td>7ADEE837D5D8CBBD</td>\n",
              "      <td>2020-12-20</td>\n",
              "      <td>EU</td>\n",
              "      <td>PC</td>\n",
              "    </tr>\n",
              "    <tr>\n",
              "      <th>61731</th>\n",
              "      <td>1C7D23927835213F</td>\n",
              "      <td>2020-12-20</td>\n",
              "      <td>EU</td>\n",
              "      <td>iPhone</td>\n",
              "    </tr>\n",
              "    <tr>\n",
              "      <th>61732</th>\n",
              "      <td>8F04273BB2860229</td>\n",
              "      <td>2020-12-20</td>\n",
              "      <td>EU</td>\n",
              "      <td>Android</td>\n",
              "    </tr>\n",
              "  </tbody>\n",
              "</table>\n",
              "<p>61733 rows × 4 columns</p>\n",
              "</div>"
            ],
            "text/plain": [
              "                user_id  first_date     region   device\n",
              "0      D72A72121175D8BE  2020-12-07         EU       PC\n",
              "1      F1C668619DFE6E65  2020-12-07  N.America  Android\n",
              "2      2E1BF1D4C37EA01F  2020-12-07         EU       PC\n",
              "3      50734A22C0C63768  2020-12-07         EU   iPhone\n",
              "4      E1BDDCE0DAFA2679  2020-12-07  N.America   iPhone\n",
              "...                 ...         ...        ...      ...\n",
              "61728  1DB53B933257165D  2020-12-20         EU  Android\n",
              "61729  538643EB4527ED03  2020-12-20         EU      Mac\n",
              "61730  7ADEE837D5D8CBBD  2020-12-20         EU       PC\n",
              "61731  1C7D23927835213F  2020-12-20         EU   iPhone\n",
              "61732  8F04273BB2860229  2020-12-20         EU  Android\n",
              "\n",
              "[61733 rows x 4 columns]"
            ]
          },
          "metadata": {},
          "output_type": "display_data"
        },
        {
          "name": "stdout",
          "output_type": "stream",
          "text": [
            "<class 'pandas.core.frame.DataFrame'>\n",
            "RangeIndex: 61733 entries, 0 to 61732\n",
            "Data columns (total 4 columns):\n",
            " #   Column      Non-Null Count  Dtype \n",
            "---  ------      --------------  ----- \n",
            " 0   user_id     61733 non-null  object\n",
            " 1   first_date  61733 non-null  object\n",
            " 2   region      61733 non-null  object\n",
            " 3   device      61733 non-null  object\n",
            "dtypes: object(4)\n",
            "memory usage: 1.9+ MB\n",
            "\n",
            "Дубликатов -  0\n"
          ]
        }
      ],
      "source": [
        "final_ab_new_users = pd.read_csv('/datasets/final_ab_new_users.csv')\n",
        "datainfo(final_ab_new_users)"
      ]
    },
    {
      "cell_type": "markdown",
      "metadata": {
        "id": "Y_RPdjHNwYsH"
      },
      "source": [
        "`final_ab_participants` — таблица участников тестов.\n",
        "\n",
        "Структура файла:\n",
        "\n",
        "- `user_id` — идентификатор пользователя;\n",
        "- `ab_test` — название теста;\n",
        "- `group` — группа пользователя."
      ]
    },
    {
      "cell_type": "code",
      "execution_count": null,
      "metadata": {
        "scrolled": false,
        "id": "uOhLoPPZwYsI",
        "outputId": "bb3a8acb-7367-444e-f9c5-1c69fa44ce5b"
      },
      "outputs": [
        {
          "data": {
            "text/html": [
              "<div>\n",
              "<style scoped>\n",
              "    .dataframe tbody tr th:only-of-type {\n",
              "        vertical-align: middle;\n",
              "    }\n",
              "\n",
              "    .dataframe tbody tr th {\n",
              "        vertical-align: top;\n",
              "    }\n",
              "\n",
              "    .dataframe thead th {\n",
              "        text-align: right;\n",
              "    }\n",
              "</style>\n",
              "<table border=\"1\" class=\"dataframe\">\n",
              "  <thead>\n",
              "    <tr style=\"text-align: right;\">\n",
              "      <th></th>\n",
              "      <th>user_id</th>\n",
              "      <th>group</th>\n",
              "      <th>ab_test</th>\n",
              "    </tr>\n",
              "  </thead>\n",
              "  <tbody>\n",
              "    <tr>\n",
              "      <th>0</th>\n",
              "      <td>D1ABA3E2887B6A73</td>\n",
              "      <td>A</td>\n",
              "      <td>recommender_system_test</td>\n",
              "    </tr>\n",
              "    <tr>\n",
              "      <th>1</th>\n",
              "      <td>A7A3664BD6242119</td>\n",
              "      <td>A</td>\n",
              "      <td>recommender_system_test</td>\n",
              "    </tr>\n",
              "    <tr>\n",
              "      <th>2</th>\n",
              "      <td>DABC14FDDFADD29E</td>\n",
              "      <td>A</td>\n",
              "      <td>recommender_system_test</td>\n",
              "    </tr>\n",
              "    <tr>\n",
              "      <th>3</th>\n",
              "      <td>04988C5DF189632E</td>\n",
              "      <td>A</td>\n",
              "      <td>recommender_system_test</td>\n",
              "    </tr>\n",
              "    <tr>\n",
              "      <th>4</th>\n",
              "      <td>482F14783456D21B</td>\n",
              "      <td>B</td>\n",
              "      <td>recommender_system_test</td>\n",
              "    </tr>\n",
              "    <tr>\n",
              "      <th>...</th>\n",
              "      <td>...</td>\n",
              "      <td>...</td>\n",
              "      <td>...</td>\n",
              "    </tr>\n",
              "    <tr>\n",
              "      <th>18263</th>\n",
              "      <td>1D302F8688B91781</td>\n",
              "      <td>B</td>\n",
              "      <td>interface_eu_test</td>\n",
              "    </tr>\n",
              "    <tr>\n",
              "      <th>18264</th>\n",
              "      <td>3DE51B726983B657</td>\n",
              "      <td>A</td>\n",
              "      <td>interface_eu_test</td>\n",
              "    </tr>\n",
              "    <tr>\n",
              "      <th>18265</th>\n",
              "      <td>F501F79D332BE86C</td>\n",
              "      <td>A</td>\n",
              "      <td>interface_eu_test</td>\n",
              "    </tr>\n",
              "    <tr>\n",
              "      <th>18266</th>\n",
              "      <td>63FBE257B05F2245</td>\n",
              "      <td>A</td>\n",
              "      <td>interface_eu_test</td>\n",
              "    </tr>\n",
              "    <tr>\n",
              "      <th>18267</th>\n",
              "      <td>79F9ABFB029CF724</td>\n",
              "      <td>B</td>\n",
              "      <td>interface_eu_test</td>\n",
              "    </tr>\n",
              "  </tbody>\n",
              "</table>\n",
              "<p>18268 rows × 3 columns</p>\n",
              "</div>"
            ],
            "text/plain": [
              "                user_id group                  ab_test\n",
              "0      D1ABA3E2887B6A73     A  recommender_system_test\n",
              "1      A7A3664BD6242119     A  recommender_system_test\n",
              "2      DABC14FDDFADD29E     A  recommender_system_test\n",
              "3      04988C5DF189632E     A  recommender_system_test\n",
              "4      482F14783456D21B     B  recommender_system_test\n",
              "...                 ...   ...                      ...\n",
              "18263  1D302F8688B91781     B        interface_eu_test\n",
              "18264  3DE51B726983B657     A        interface_eu_test\n",
              "18265  F501F79D332BE86C     A        interface_eu_test\n",
              "18266  63FBE257B05F2245     A        interface_eu_test\n",
              "18267  79F9ABFB029CF724     B        interface_eu_test\n",
              "\n",
              "[18268 rows x 3 columns]"
            ]
          },
          "metadata": {},
          "output_type": "display_data"
        },
        {
          "name": "stdout",
          "output_type": "stream",
          "text": [
            "<class 'pandas.core.frame.DataFrame'>\n",
            "RangeIndex: 18268 entries, 0 to 18267\n",
            "Data columns (total 3 columns):\n",
            " #   Column   Non-Null Count  Dtype \n",
            "---  ------   --------------  ----- \n",
            " 0   user_id  18268 non-null  object\n",
            " 1   group    18268 non-null  object\n",
            " 2   ab_test  18268 non-null  object\n",
            "dtypes: object(3)\n",
            "memory usage: 428.3+ KB\n",
            "\n",
            "Дубликатов -  0\n"
          ]
        }
      ],
      "source": [
        "final_ab_participants = pd.read_csv('/datasets/final_ab_participants.csv')\n",
        "datainfo(final_ab_participants)"
      ]
    },
    {
      "cell_type": "markdown",
      "metadata": {
        "id": "R9UV-d7mwYsI"
      },
      "source": [
        "При изучении предоставленных данных не было обнаружено дублей. Во всех датафреймах, где есть даты, надо исправить типы данных этих самых дат. В `final_ab_events` есть пропуски, изучим их чуть позже."
      ]
    },
    {
      "cell_type": "markdown",
      "metadata": {
        "id": "2uB968ytwYsI"
      },
      "source": [
        "## Подготовка данных"
      ]
    },
    {
      "cell_type": "markdown",
      "metadata": {
        "id": "V7ctDMEpwYsI"
      },
      "source": [
        "Поменяем типы данных для дат."
      ]
    },
    {
      "cell_type": "code",
      "execution_count": null,
      "metadata": {
        "id": "9jDiT-NtwYsI"
      },
      "outputs": [],
      "source": [
        "ab_project_marketing_events['start_dt'] = pd.to_datetime(ab_project_marketing_events['start_dt'])\n",
        "ab_project_marketing_events['finish_dt'] = pd.to_datetime(ab_project_marketing_events['finish_dt'])\n",
        "final_ab_events['event_dt'] = pd.to_datetime(final_ab_events['event_dt'])\n",
        "final_ab_new_users['first_date'] = pd.to_datetime(final_ab_new_users['first_date'])"
      ]
    },
    {
      "cell_type": "markdown",
      "metadata": {
        "id": "QzC6ophSwYsI"
      },
      "source": [
        "Мы нашли пропуски в таблице `final_ab_events`в столбце где отображены дополнительные данные о совершенном событии, рассмотрим подробно к каким событиям есть дополнения:"
      ]
    },
    {
      "cell_type": "code",
      "execution_count": null,
      "metadata": {
        "id": "2ZMSKoXKwYsJ",
        "outputId": "359d8193-c215-403c-ab2d-bd20061cb02d"
      },
      "outputs": [
        {
          "data": {
            "text/plain": [
              "array(['purchase'], dtype=object)"
            ]
          },
          "execution_count": 9,
          "metadata": {},
          "output_type": "execute_result"
        }
      ],
      "source": [
        "g = final_ab_events.loc[final_ab_events['details'].notna()]\n",
        "g['event_name'].unique()"
      ]
    },
    {
      "cell_type": "markdown",
      "metadata": {
        "id": "R87zuDvgwYsJ"
      },
      "source": [
        "Заполненные значения есть только в строках, зафиксировавших покупки(purchase).\n",
        "<br> Посмотрим, количество заполненных значений и количество покупок, чтобы понять ко всем ли покупкам есть дополнительная информация."
      ]
    },
    {
      "cell_type": "code",
      "execution_count": null,
      "metadata": {
        "id": "YT4WozaLwYsJ",
        "outputId": "4e0e279b-d21b-4dfa-bef2-7a3c3f2fbc66"
      },
      "outputs": [
        {
          "data": {
            "text/plain": [
              "62740"
            ]
          },
          "execution_count": 10,
          "metadata": {},
          "output_type": "execute_result"
        }
      ],
      "source": [
        "len(g[g['event_name'] =='purchase'])"
      ]
    },
    {
      "cell_type": "code",
      "execution_count": null,
      "metadata": {
        "scrolled": true,
        "id": "91rVtHGcwYsJ",
        "outputId": "1cb0af40-08c2-44d7-b5e5-3393128239c3"
      },
      "outputs": [
        {
          "data": {
            "text/plain": [
              "62740"
            ]
          },
          "execution_count": 11,
          "metadata": {},
          "output_type": "execute_result"
        }
      ],
      "source": [
        "len(g[g['details'].notna()])"
      ]
    },
    {
      "cell_type": "markdown",
      "metadata": {
        "id": "KoHb0jMZwYsJ"
      },
      "source": [
        "Количество строк совпадает, это приводит к выводу, что ко всем покупкам есть информация о цене покупки."
      ]
    },
    {
      "cell_type": "markdown",
      "metadata": {
        "id": "h195t176wYsJ"
      },
      "source": [
        "## Исследовательский анализ данных"
      ]
    },
    {
      "cell_type": "markdown",
      "metadata": {
        "id": "jhFOFEgmwYsJ"
      },
      "source": [
        "Проверим соответствие дат прихода новых пользователей с датами, указанными в техническом задании. Напомню, что  дата запуска 2020-12-07 и дата остановки набора новых пользователей- 2020-12-21"
      ]
    },
    {
      "cell_type": "code",
      "execution_count": null,
      "metadata": {
        "scrolled": false,
        "id": "RTcuDa0pwYsK",
        "outputId": "a1b9f9b8-0541-4752-93d1-65a76aa9601c"
      },
      "outputs": [
        {
          "data": {
            "text/plain": [
              "Timestamp('2020-12-07 00:00:00')"
            ]
          },
          "execution_count": 12,
          "metadata": {},
          "output_type": "execute_result"
        }
      ],
      "source": [
        "final_ab_new_users['first_date'].min()"
      ]
    },
    {
      "cell_type": "code",
      "execution_count": null,
      "metadata": {
        "scrolled": false,
        "id": "htwGjsNzwYsK",
        "outputId": "b000af36-805a-4909-f8dc-ef8e0562c2ea"
      },
      "outputs": [
        {
          "data": {
            "text/plain": [
              "Timestamp('2020-12-23 00:00:00')"
            ]
          },
          "execution_count": 13,
          "metadata": {},
          "output_type": "execute_result"
        }
      ],
      "source": [
        "final_ab_new_users['first_date'].max()"
      ]
    },
    {
      "cell_type": "markdown",
      "metadata": {
        "id": "cOh6Qh-SwYsK"
      },
      "source": [
        "Видимо новых пользователей прихватили и за 2020-12-22. Проверим регионы новых пользователей."
      ]
    },
    {
      "cell_type": "code",
      "execution_count": null,
      "metadata": {
        "scrolled": false,
        "id": "qHxysLohwYsK",
        "outputId": "54273a63-c5f8-4081-e89e-2e094895a938"
      },
      "outputs": [
        {
          "data": {
            "text/html": [
              "<div>\n",
              "<style scoped>\n",
              "    .dataframe tbody tr th:only-of-type {\n",
              "        vertical-align: middle;\n",
              "    }\n",
              "\n",
              "    .dataframe tbody tr th {\n",
              "        vertical-align: top;\n",
              "    }\n",
              "\n",
              "    .dataframe thead th {\n",
              "        text-align: right;\n",
              "    }\n",
              "</style>\n",
              "<table border=\"1\" class=\"dataframe\">\n",
              "  <thead>\n",
              "    <tr style=\"text-align: right;\">\n",
              "      <th></th>\n",
              "      <th>user_id</th>\n",
              "    </tr>\n",
              "    <tr>\n",
              "      <th>region</th>\n",
              "      <th></th>\n",
              "    </tr>\n",
              "  </thead>\n",
              "  <tbody>\n",
              "    <tr>\n",
              "      <th>APAC</th>\n",
              "      <td>3153</td>\n",
              "    </tr>\n",
              "    <tr>\n",
              "      <th>CIS</th>\n",
              "      <td>3155</td>\n",
              "    </tr>\n",
              "    <tr>\n",
              "      <th>EU</th>\n",
              "      <td>46270</td>\n",
              "    </tr>\n",
              "    <tr>\n",
              "      <th>N.America</th>\n",
              "      <td>9155</td>\n",
              "    </tr>\n",
              "  </tbody>\n",
              "</table>\n",
              "</div>"
            ],
            "text/plain": [
              "           user_id\n",
              "region            \n",
              "APAC          3153\n",
              "CIS           3155\n",
              "EU           46270\n",
              "N.America     9155"
            ]
          },
          "execution_count": 14,
          "metadata": {},
          "output_type": "execute_result"
        }
      ],
      "source": [
        "final_ab_new_users.groupby(['region']).agg({'user_id': 'nunique'})"
      ]
    },
    {
      "cell_type": "code",
      "execution_count": null,
      "metadata": {
        "id": "T9CTEM5HwYsL",
        "outputId": "97faed45-7eac-4c64-abde-44b1b7dc29e5"
      },
      "outputs": [
        {
          "data": {
            "text/plain": [
              "61733"
            ]
          },
          "execution_count": 15,
          "metadata": {},
          "output_type": "execute_result"
        }
      ],
      "source": [
        "final_ab_new_users['user_id'].nunique()"
      ]
    },
    {
      "cell_type": "markdown",
      "metadata": {
        "id": "LSGjOI-MwYsL"
      },
      "source": [
        "Всего у нас 61 733 новых пользователей и из них 46 270 из EU, именно они нас и интересуют."
      ]
    },
    {
      "cell_type": "code",
      "execution_count": null,
      "metadata": {
        "scrolled": false,
        "id": "W0xcq0GmwYsL",
        "outputId": "edb5d5cf-2854-43d3-c81d-18e22089824e"
      },
      "outputs": [
        {
          "data": {
            "text/html": [
              "<div>\n",
              "<style scoped>\n",
              "    .dataframe tbody tr th:only-of-type {\n",
              "        vertical-align: middle;\n",
              "    }\n",
              "\n",
              "    .dataframe tbody tr th {\n",
              "        vertical-align: top;\n",
              "    }\n",
              "\n",
              "    .dataframe thead th {\n",
              "        text-align: right;\n",
              "    }\n",
              "</style>\n",
              "<table border=\"1\" class=\"dataframe\">\n",
              "  <thead>\n",
              "    <tr style=\"text-align: right;\">\n",
              "      <th></th>\n",
              "      <th>user_id</th>\n",
              "      <th>group</th>\n",
              "      <th>ab_test</th>\n",
              "      <th>first_date</th>\n",
              "      <th>region</th>\n",
              "      <th>device</th>\n",
              "    </tr>\n",
              "  </thead>\n",
              "  <tbody>\n",
              "    <tr>\n",
              "      <th>0</th>\n",
              "      <td>D1ABA3E2887B6A73</td>\n",
              "      <td>A</td>\n",
              "      <td>recommender_system_test</td>\n",
              "      <td>2020-12-07</td>\n",
              "      <td>EU</td>\n",
              "      <td>PC</td>\n",
              "    </tr>\n",
              "    <tr>\n",
              "      <th>1</th>\n",
              "      <td>A7A3664BD6242119</td>\n",
              "      <td>A</td>\n",
              "      <td>recommender_system_test</td>\n",
              "      <td>2020-12-20</td>\n",
              "      <td>EU</td>\n",
              "      <td>iPhone</td>\n",
              "    </tr>\n",
              "    <tr>\n",
              "      <th>2</th>\n",
              "      <td>DABC14FDDFADD29E</td>\n",
              "      <td>A</td>\n",
              "      <td>recommender_system_test</td>\n",
              "      <td>2020-12-08</td>\n",
              "      <td>EU</td>\n",
              "      <td>Mac</td>\n",
              "    </tr>\n",
              "    <tr>\n",
              "      <th>3</th>\n",
              "      <td>04988C5DF189632E</td>\n",
              "      <td>A</td>\n",
              "      <td>recommender_system_test</td>\n",
              "      <td>2020-12-14</td>\n",
              "      <td>EU</td>\n",
              "      <td>iPhone</td>\n",
              "    </tr>\n",
              "    <tr>\n",
              "      <th>4</th>\n",
              "      <td>482F14783456D21B</td>\n",
              "      <td>B</td>\n",
              "      <td>recommender_system_test</td>\n",
              "      <td>2020-12-14</td>\n",
              "      <td>EU</td>\n",
              "      <td>PC</td>\n",
              "    </tr>\n",
              "    <tr>\n",
              "      <th>...</th>\n",
              "      <td>...</td>\n",
              "      <td>...</td>\n",
              "      <td>...</td>\n",
              "      <td>...</td>\n",
              "      <td>...</td>\n",
              "      <td>...</td>\n",
              "    </tr>\n",
              "    <tr>\n",
              "      <th>18263</th>\n",
              "      <td>1D302F8688B91781</td>\n",
              "      <td>B</td>\n",
              "      <td>interface_eu_test</td>\n",
              "      <td>2020-12-15</td>\n",
              "      <td>EU</td>\n",
              "      <td>PC</td>\n",
              "    </tr>\n",
              "    <tr>\n",
              "      <th>18264</th>\n",
              "      <td>3DE51B726983B657</td>\n",
              "      <td>A</td>\n",
              "      <td>interface_eu_test</td>\n",
              "      <td>2020-12-07</td>\n",
              "      <td>EU</td>\n",
              "      <td>Android</td>\n",
              "    </tr>\n",
              "    <tr>\n",
              "      <th>18265</th>\n",
              "      <td>F501F79D332BE86C</td>\n",
              "      <td>A</td>\n",
              "      <td>interface_eu_test</td>\n",
              "      <td>2020-12-17</td>\n",
              "      <td>EU</td>\n",
              "      <td>Mac</td>\n",
              "    </tr>\n",
              "    <tr>\n",
              "      <th>18266</th>\n",
              "      <td>63FBE257B05F2245</td>\n",
              "      <td>A</td>\n",
              "      <td>interface_eu_test</td>\n",
              "      <td>2020-12-20</td>\n",
              "      <td>EU</td>\n",
              "      <td>Android</td>\n",
              "    </tr>\n",
              "    <tr>\n",
              "      <th>18267</th>\n",
              "      <td>79F9ABFB029CF724</td>\n",
              "      <td>B</td>\n",
              "      <td>interface_eu_test</td>\n",
              "      <td>2020-12-14</td>\n",
              "      <td>EU</td>\n",
              "      <td>PC</td>\n",
              "    </tr>\n",
              "  </tbody>\n",
              "</table>\n",
              "<p>18268 rows × 6 columns</p>\n",
              "</div>"
            ],
            "text/plain": [
              "                user_id group                  ab_test first_date region  \\\n",
              "0      D1ABA3E2887B6A73     A  recommender_system_test 2020-12-07     EU   \n",
              "1      A7A3664BD6242119     A  recommender_system_test 2020-12-20     EU   \n",
              "2      DABC14FDDFADD29E     A  recommender_system_test 2020-12-08     EU   \n",
              "3      04988C5DF189632E     A  recommender_system_test 2020-12-14     EU   \n",
              "4      482F14783456D21B     B  recommender_system_test 2020-12-14     EU   \n",
              "...                 ...   ...                      ...        ...    ...   \n",
              "18263  1D302F8688B91781     B        interface_eu_test 2020-12-15     EU   \n",
              "18264  3DE51B726983B657     A        interface_eu_test 2020-12-07     EU   \n",
              "18265  F501F79D332BE86C     A        interface_eu_test 2020-12-17     EU   \n",
              "18266  63FBE257B05F2245     A        interface_eu_test 2020-12-20     EU   \n",
              "18267  79F9ABFB029CF724     B        interface_eu_test 2020-12-14     EU   \n",
              "\n",
              "        device  \n",
              "0           PC  \n",
              "1       iPhone  \n",
              "2          Mac  \n",
              "3       iPhone  \n",
              "4           PC  \n",
              "...        ...  \n",
              "18263       PC  \n",
              "18264  Android  \n",
              "18265      Mac  \n",
              "18266  Android  \n",
              "18267       PC  \n",
              "\n",
              "[18268 rows x 6 columns]"
            ]
          },
          "execution_count": 16,
          "metadata": {},
          "output_type": "execute_result"
        }
      ],
      "source": [
        "users = final_ab_participants.merge(final_ab_new_users, how='left', on = 'user_id')\n",
        "users"
      ]
    },
    {
      "cell_type": "code",
      "execution_count": null,
      "metadata": {
        "id": "YnqgSJ9WwYsL",
        "outputId": "8713badb-2396-439d-bf5e-b0341cdf73ef"
      },
      "outputs": [
        {
          "data": {
            "text/html": [
              "<div>\n",
              "<style scoped>\n",
              "    .dataframe tbody tr th:only-of-type {\n",
              "        vertical-align: middle;\n",
              "    }\n",
              "\n",
              "    .dataframe tbody tr th {\n",
              "        vertical-align: top;\n",
              "    }\n",
              "\n",
              "    .dataframe thead th {\n",
              "        text-align: right;\n",
              "    }\n",
              "</style>\n",
              "<table border=\"1\" class=\"dataframe\">\n",
              "  <thead>\n",
              "    <tr style=\"text-align: right;\">\n",
              "      <th></th>\n",
              "      <th>user_id</th>\n",
              "    </tr>\n",
              "    <tr>\n",
              "      <th>region</th>\n",
              "      <th></th>\n",
              "    </tr>\n",
              "  </thead>\n",
              "  <tbody>\n",
              "    <tr>\n",
              "      <th>APAC</th>\n",
              "      <td>72</td>\n",
              "    </tr>\n",
              "    <tr>\n",
              "      <th>CIS</th>\n",
              "      <td>55</td>\n",
              "    </tr>\n",
              "    <tr>\n",
              "      <th>EU</th>\n",
              "      <td>16316</td>\n",
              "    </tr>\n",
              "    <tr>\n",
              "      <th>N.America</th>\n",
              "      <td>223</td>\n",
              "    </tr>\n",
              "  </tbody>\n",
              "</table>\n",
              "</div>"
            ],
            "text/plain": [
              "           user_id\n",
              "region            \n",
              "APAC            72\n",
              "CIS             55\n",
              "EU           16316\n",
              "N.America      223"
            ]
          },
          "execution_count": 17,
          "metadata": {},
          "output_type": "execute_result"
        }
      ],
      "source": [
        "users.groupby(['region']).agg({'user_id': 'nunique'})"
      ]
    },
    {
      "cell_type": "code",
      "execution_count": null,
      "metadata": {
        "id": "QIgdMEkowYsL",
        "outputId": "3cdcb415-d641-4d33-e6ac-1742cf3d7f4c"
      },
      "outputs": [
        {
          "data": {
            "text/html": [
              "<div>\n",
              "<style scoped>\n",
              "    .dataframe tbody tr th:only-of-type {\n",
              "        vertical-align: middle;\n",
              "    }\n",
              "\n",
              "    .dataframe tbody tr th {\n",
              "        vertical-align: top;\n",
              "    }\n",
              "\n",
              "    .dataframe thead th {\n",
              "        text-align: right;\n",
              "    }\n",
              "</style>\n",
              "<table border=\"1\" class=\"dataframe\">\n",
              "  <thead>\n",
              "    <tr style=\"text-align: right;\">\n",
              "      <th></th>\n",
              "      <th></th>\n",
              "      <th>user_id</th>\n",
              "    </tr>\n",
              "    <tr>\n",
              "      <th>ab_test</th>\n",
              "      <th>group</th>\n",
              "      <th></th>\n",
              "    </tr>\n",
              "  </thead>\n",
              "  <tbody>\n",
              "    <tr>\n",
              "      <th rowspan=\"2\" valign=\"top\">interface_eu_test</th>\n",
              "      <th>A</th>\n",
              "      <td>5831</td>\n",
              "    </tr>\n",
              "    <tr>\n",
              "      <th>B</th>\n",
              "      <td>5736</td>\n",
              "    </tr>\n",
              "    <tr>\n",
              "      <th rowspan=\"2\" valign=\"top\">recommender_system_test</th>\n",
              "      <th>A</th>\n",
              "      <td>3824</td>\n",
              "    </tr>\n",
              "    <tr>\n",
              "      <th>B</th>\n",
              "      <td>2877</td>\n",
              "    </tr>\n",
              "  </tbody>\n",
              "</table>\n",
              "</div>"
            ],
            "text/plain": [
              "                               user_id\n",
              "ab_test                 group         \n",
              "interface_eu_test       A         5831\n",
              "                        B         5736\n",
              "recommender_system_test A         3824\n",
              "                        B         2877"
            ]
          },
          "execution_count": 18,
          "metadata": {},
          "output_type": "execute_result"
        }
      ],
      "source": [
        "users.groupby(['ab_test','group']).agg({'user_id': 'count'})"
      ]
    },
    {
      "cell_type": "code",
      "execution_count": null,
      "metadata": {
        "scrolled": true,
        "id": "kF4dXSTGwYsL",
        "outputId": "7f38c7d8-b82e-4105-9bc6-22c39eb0b2bb"
      },
      "outputs": [
        {
          "data": {
            "text/plain": [
              "array(['recommender_system_test', 'interface_eu_test'], dtype=object)"
            ]
          },
          "execution_count": 19,
          "metadata": {},
          "output_type": "execute_result"
        }
      ],
      "source": [
        "final_ab_participants['ab_test'].unique()"
      ]
    },
    {
      "cell_type": "markdown",
      "metadata": {
        "id": "PmWHdN3iwYsL"
      },
      "source": [
        "Параллельно с нашим тестом, видимо проводили другой тест, т.к. в таблице `final_ab_participants`, в названии теста есть еще некий `interface_eu_test`.\n",
        "<br>Проверим пересечения пользователей в тестах"
      ]
    },
    {
      "cell_type": "code",
      "execution_count": null,
      "metadata": {
        "id": "pkWtWz8SwYsM",
        "outputId": "257f70ab-7df4-470f-c713-656724922d7b"
      },
      "outputs": [
        {
          "data": {
            "text/html": [
              "<div>\n",
              "<style scoped>\n",
              "    .dataframe tbody tr th:only-of-type {\n",
              "        vertical-align: middle;\n",
              "    }\n",
              "\n",
              "    .dataframe tbody tr th {\n",
              "        vertical-align: top;\n",
              "    }\n",
              "\n",
              "    .dataframe thead th {\n",
              "        text-align: right;\n",
              "    }\n",
              "</style>\n",
              "<table border=\"1\" class=\"dataframe\">\n",
              "  <thead>\n",
              "    <tr style=\"text-align: right;\">\n",
              "      <th></th>\n",
              "      <th></th>\n",
              "      <th>user_id</th>\n",
              "    </tr>\n",
              "    <tr>\n",
              "      <th>ab_test</th>\n",
              "      <th>group</th>\n",
              "      <th></th>\n",
              "    </tr>\n",
              "  </thead>\n",
              "  <tbody>\n",
              "    <tr>\n",
              "      <th rowspan=\"2\" valign=\"top\">recommender_system_test</th>\n",
              "      <th>A</th>\n",
              "      <td>439</td>\n",
              "    </tr>\n",
              "    <tr>\n",
              "      <th>B</th>\n",
              "      <td>344</td>\n",
              "    </tr>\n",
              "  </tbody>\n",
              "</table>\n",
              "</div>"
            ],
            "text/plain": [
              "                               user_id\n",
              "ab_test                 group         \n",
              "recommender_system_test A          439\n",
              "                        B          344"
            ]
          },
          "execution_count": 20,
          "metadata": {},
          "output_type": "execute_result"
        }
      ],
      "source": [
        "test_2 = users[users['ab_test'] == 'interface_eu_test']\n",
        "test_1 = users[users['ab_test'] == 'recommender_system_test']\n",
        "test_2_B = test_2.query('group == \"B\"').user_id.unique()\n",
        "test_1.query('user_id in @ test_2_B').groupby(['ab_test','group']).agg({'user_id': 'count'})"
      ]
    },
    {
      "cell_type": "markdown",
      "metadata": {
        "id": "qVVwsF_AwYsM"
      },
      "source": [
        "Исключим пользователей B группы параллельного теста из нашего теста."
      ]
    },
    {
      "cell_type": "code",
      "execution_count": null,
      "metadata": {
        "scrolled": true,
        "id": "TPN2RrGOwYsM",
        "outputId": "908c2bf1-ed2d-4072-cd05-30e22c6f9fd7"
      },
      "outputs": [
        {
          "data": {
            "text/html": [
              "<div>\n",
              "<style scoped>\n",
              "    .dataframe tbody tr th:only-of-type {\n",
              "        vertical-align: middle;\n",
              "    }\n",
              "\n",
              "    .dataframe tbody tr th {\n",
              "        vertical-align: top;\n",
              "    }\n",
              "\n",
              "    .dataframe thead th {\n",
              "        text-align: right;\n",
              "    }\n",
              "</style>\n",
              "<table border=\"1\" class=\"dataframe\">\n",
              "  <thead>\n",
              "    <tr style=\"text-align: right;\">\n",
              "      <th></th>\n",
              "      <th></th>\n",
              "      <th>user_id</th>\n",
              "    </tr>\n",
              "    <tr>\n",
              "      <th>ab_test</th>\n",
              "      <th>group</th>\n",
              "      <th></th>\n",
              "    </tr>\n",
              "  </thead>\n",
              "  <tbody>\n",
              "    <tr>\n",
              "      <th rowspan=\"2\" valign=\"top\">recommender_system_test</th>\n",
              "      <th>A</th>\n",
              "      <td>3385</td>\n",
              "    </tr>\n",
              "    <tr>\n",
              "      <th>B</th>\n",
              "      <td>2533</td>\n",
              "    </tr>\n",
              "  </tbody>\n",
              "</table>\n",
              "</div>"
            ],
            "text/plain": [
              "                               user_id\n",
              "ab_test                 group         \n",
              "recommender_system_test A         3385\n",
              "                        B         2533"
            ]
          },
          "execution_count": 21,
          "metadata": {},
          "output_type": "execute_result"
        }
      ],
      "source": [
        "test_1 = test_1.query('user_id not in @ test_2_B')\n",
        "test_1.groupby(['ab_test','group']).agg({'user_id': 'count'})"
      ]
    },
    {
      "cell_type": "markdown",
      "metadata": {
        "id": "eq3HUCKywYsM"
      },
      "source": [
        "В нашем ТЗ есть информация о том, что тест проводится на пользователях *EU*, поэтому исключим пользователей из других регионов."
      ]
    },
    {
      "cell_type": "code",
      "execution_count": null,
      "metadata": {
        "id": "ekTyeIamwYsM",
        "outputId": "cefd65e8-6a78-4718-eb02-70acacae8de3"
      },
      "outputs": [
        {
          "data": {
            "text/html": [
              "<div>\n",
              "<style scoped>\n",
              "    .dataframe tbody tr th:only-of-type {\n",
              "        vertical-align: middle;\n",
              "    }\n",
              "\n",
              "    .dataframe tbody tr th {\n",
              "        vertical-align: top;\n",
              "    }\n",
              "\n",
              "    .dataframe thead th {\n",
              "        text-align: right;\n",
              "    }\n",
              "</style>\n",
              "<table border=\"1\" class=\"dataframe\">\n",
              "  <thead>\n",
              "    <tr style=\"text-align: right;\">\n",
              "      <th></th>\n",
              "      <th>user_id</th>\n",
              "      <th>group</th>\n",
              "      <th>ab_test</th>\n",
              "      <th>first_date</th>\n",
              "      <th>region</th>\n",
              "      <th>device</th>\n",
              "    </tr>\n",
              "  </thead>\n",
              "  <tbody>\n",
              "    <tr>\n",
              "      <th>0</th>\n",
              "      <td>D1ABA3E2887B6A73</td>\n",
              "      <td>A</td>\n",
              "      <td>recommender_system_test</td>\n",
              "      <td>2020-12-07</td>\n",
              "      <td>EU</td>\n",
              "      <td>PC</td>\n",
              "    </tr>\n",
              "    <tr>\n",
              "      <th>1</th>\n",
              "      <td>A7A3664BD6242119</td>\n",
              "      <td>A</td>\n",
              "      <td>recommender_system_test</td>\n",
              "      <td>2020-12-20</td>\n",
              "      <td>EU</td>\n",
              "      <td>iPhone</td>\n",
              "    </tr>\n",
              "    <tr>\n",
              "      <th>2</th>\n",
              "      <td>DABC14FDDFADD29E</td>\n",
              "      <td>A</td>\n",
              "      <td>recommender_system_test</td>\n",
              "      <td>2020-12-08</td>\n",
              "      <td>EU</td>\n",
              "      <td>Mac</td>\n",
              "    </tr>\n",
              "    <tr>\n",
              "      <th>3</th>\n",
              "      <td>04988C5DF189632E</td>\n",
              "      <td>A</td>\n",
              "      <td>recommender_system_test</td>\n",
              "      <td>2020-12-14</td>\n",
              "      <td>EU</td>\n",
              "      <td>iPhone</td>\n",
              "    </tr>\n",
              "    <tr>\n",
              "      <th>4</th>\n",
              "      <td>482F14783456D21B</td>\n",
              "      <td>B</td>\n",
              "      <td>recommender_system_test</td>\n",
              "      <td>2020-12-14</td>\n",
              "      <td>EU</td>\n",
              "      <td>PC</td>\n",
              "    </tr>\n",
              "    <tr>\n",
              "      <th>...</th>\n",
              "      <td>...</td>\n",
              "      <td>...</td>\n",
              "      <td>...</td>\n",
              "      <td>...</td>\n",
              "      <td>...</td>\n",
              "      <td>...</td>\n",
              "    </tr>\n",
              "    <tr>\n",
              "      <th>6346</th>\n",
              "      <td>7C5C12FA1B5AB710</td>\n",
              "      <td>A</td>\n",
              "      <td>recommender_system_test</td>\n",
              "      <td>2020-12-21</td>\n",
              "      <td>EU</td>\n",
              "      <td>Android</td>\n",
              "    </tr>\n",
              "    <tr>\n",
              "      <th>6347</th>\n",
              "      <td>91C3969B8A72B908</td>\n",
              "      <td>B</td>\n",
              "      <td>recommender_system_test</td>\n",
              "      <td>2020-12-09</td>\n",
              "      <td>EU</td>\n",
              "      <td>Android</td>\n",
              "    </tr>\n",
              "    <tr>\n",
              "      <th>6348</th>\n",
              "      <td>E26F13A65CEAC6EA</td>\n",
              "      <td>A</td>\n",
              "      <td>recommender_system_test</td>\n",
              "      <td>2020-12-17</td>\n",
              "      <td>EU</td>\n",
              "      <td>Mac</td>\n",
              "    </tr>\n",
              "    <tr>\n",
              "      <th>6349</th>\n",
              "      <td>95401934D6D6D4FC</td>\n",
              "      <td>B</td>\n",
              "      <td>recommender_system_test</td>\n",
              "      <td>2020-12-13</td>\n",
              "      <td>EU</td>\n",
              "      <td>iPhone</td>\n",
              "    </tr>\n",
              "    <tr>\n",
              "      <th>6350</th>\n",
              "      <td>80712ED4EA1B52A5</td>\n",
              "      <td>A</td>\n",
              "      <td>recommender_system_test</td>\n",
              "      <td>2020-12-14</td>\n",
              "      <td>EU</td>\n",
              "      <td>Android</td>\n",
              "    </tr>\n",
              "  </tbody>\n",
              "</table>\n",
              "<p>5568 rows × 6 columns</p>\n",
              "</div>"
            ],
            "text/plain": [
              "               user_id group                  ab_test first_date region  \\\n",
              "0     D1ABA3E2887B6A73     A  recommender_system_test 2020-12-07     EU   \n",
              "1     A7A3664BD6242119     A  recommender_system_test 2020-12-20     EU   \n",
              "2     DABC14FDDFADD29E     A  recommender_system_test 2020-12-08     EU   \n",
              "3     04988C5DF189632E     A  recommender_system_test 2020-12-14     EU   \n",
              "4     482F14783456D21B     B  recommender_system_test 2020-12-14     EU   \n",
              "...                ...   ...                      ...        ...    ...   \n",
              "6346  7C5C12FA1B5AB710     A  recommender_system_test 2020-12-21     EU   \n",
              "6347  91C3969B8A72B908     B  recommender_system_test 2020-12-09     EU   \n",
              "6348  E26F13A65CEAC6EA     A  recommender_system_test 2020-12-17     EU   \n",
              "6349  95401934D6D6D4FC     B  recommender_system_test 2020-12-13     EU   \n",
              "6350  80712ED4EA1B52A5     A  recommender_system_test 2020-12-14     EU   \n",
              "\n",
              "       device  \n",
              "0          PC  \n",
              "1      iPhone  \n",
              "2         Mac  \n",
              "3      iPhone  \n",
              "4          PC  \n",
              "...       ...  \n",
              "6346  Android  \n",
              "6347  Android  \n",
              "6348      Mac  \n",
              "6349   iPhone  \n",
              "6350  Android  \n",
              "\n",
              "[5568 rows x 6 columns]"
            ]
          },
          "execution_count": 22,
          "metadata": {},
          "output_type": "execute_result"
        }
      ],
      "source": [
        "test_1 = test_1[test_1['region'] == 'EU']\n",
        "test_1"
      ]
    },
    {
      "cell_type": "markdown",
      "metadata": {
        "id": "wyRizSUlwYsM"
      },
      "source": [
        "Пользователей в тесте осталось 5 568. Проверим на данном этапе сколько пользователей из *EU* попали в наш тест."
      ]
    },
    {
      "cell_type": "code",
      "execution_count": null,
      "metadata": {
        "scrolled": false,
        "id": "VWF3xS0qwYsM",
        "outputId": "2d3ea36c-3e4d-4fdc-87b3-2f6754fd6d65"
      },
      "outputs": [
        {
          "data": {
            "text/plain": [
              "user_id   12.0\n",
              "dtype: float64"
            ]
          },
          "execution_count": 23,
          "metadata": {},
          "output_type": "execute_result"
        }
      ],
      "source": [
        "test_1['user_id'].count()/final_ab_new_users.loc[final_ab_new_users['region'] == \"EU\",['user_id']].nunique()*100"
      ]
    },
    {
      "cell_type": "markdown",
      "metadata": {
        "id": "1sAxGrmRwYsN"
      },
      "source": [
        "Всего 12%, на 3% меньше, чем хотелось бы."
      ]
    },
    {
      "cell_type": "code",
      "execution_count": null,
      "metadata": {
        "scrolled": true,
        "id": "e8YPytCSwYsN",
        "outputId": "fe021d13-a69d-4a3e-a9c2-424353268953"
      },
      "outputs": [
        {
          "data": {
            "text/html": [
              "<div>\n",
              "<style scoped>\n",
              "    .dataframe tbody tr th:only-of-type {\n",
              "        vertical-align: middle;\n",
              "    }\n",
              "\n",
              "    .dataframe tbody tr th {\n",
              "        vertical-align: top;\n",
              "    }\n",
              "\n",
              "    .dataframe thead th {\n",
              "        text-align: right;\n",
              "    }\n",
              "</style>\n",
              "<table border=\"1\" class=\"dataframe\">\n",
              "  <thead>\n",
              "    <tr style=\"text-align: right;\">\n",
              "      <th></th>\n",
              "      <th></th>\n",
              "      <th>user_id</th>\n",
              "    </tr>\n",
              "    <tr>\n",
              "      <th>ab_test</th>\n",
              "      <th>group</th>\n",
              "      <th></th>\n",
              "    </tr>\n",
              "  </thead>\n",
              "  <tbody>\n",
              "    <tr>\n",
              "      <th rowspan=\"2\" valign=\"top\">recommender_system_test</th>\n",
              "      <th>A</th>\n",
              "      <td>3195</td>\n",
              "    </tr>\n",
              "    <tr>\n",
              "      <th>B</th>\n",
              "      <td>2373</td>\n",
              "    </tr>\n",
              "  </tbody>\n",
              "</table>\n",
              "</div>"
            ],
            "text/plain": [
              "                               user_id\n",
              "ab_test                 group         \n",
              "recommender_system_test A         3195\n",
              "                        B         2373"
            ]
          },
          "execution_count": 24,
          "metadata": {},
          "output_type": "execute_result"
        }
      ],
      "source": [
        "test_1.groupby(['ab_test','group']).agg({'user_id': 'count'})"
      ]
    },
    {
      "cell_type": "markdown",
      "metadata": {
        "id": "DyLPrN6GwYsN"
      },
      "source": [
        "Объединим наших пользователей с событиями."
      ]
    },
    {
      "cell_type": "code",
      "execution_count": null,
      "metadata": {
        "scrolled": false,
        "id": "KQtWnDj3wYsN",
        "outputId": "305db932-5db3-4fa8-ee5b-548367564b4c"
      },
      "outputs": [
        {
          "data": {
            "text/html": [
              "<div>\n",
              "<style scoped>\n",
              "    .dataframe tbody tr th:only-of-type {\n",
              "        vertical-align: middle;\n",
              "    }\n",
              "\n",
              "    .dataframe tbody tr th {\n",
              "        vertical-align: top;\n",
              "    }\n",
              "\n",
              "    .dataframe thead th {\n",
              "        text-align: right;\n",
              "    }\n",
              "</style>\n",
              "<table border=\"1\" class=\"dataframe\">\n",
              "  <thead>\n",
              "    <tr style=\"text-align: right;\">\n",
              "      <th></th>\n",
              "      <th>user_id</th>\n",
              "      <th>group</th>\n",
              "      <th>ab_test</th>\n",
              "      <th>first_date</th>\n",
              "      <th>region</th>\n",
              "      <th>device</th>\n",
              "      <th>event_dt</th>\n",
              "      <th>event_name</th>\n",
              "      <th>details</th>\n",
              "    </tr>\n",
              "  </thead>\n",
              "  <tbody>\n",
              "    <tr>\n",
              "      <th>0</th>\n",
              "      <td>E1BDDCE0DAFA2679</td>\n",
              "      <td>NaN</td>\n",
              "      <td>NaN</td>\n",
              "      <td>NaT</td>\n",
              "      <td>NaN</td>\n",
              "      <td>NaN</td>\n",
              "      <td>2020-12-07 20:22:03</td>\n",
              "      <td>purchase</td>\n",
              "      <td>100.0</td>\n",
              "    </tr>\n",
              "    <tr>\n",
              "      <th>1</th>\n",
              "      <td>7B6452F081F49504</td>\n",
              "      <td>NaN</td>\n",
              "      <td>NaN</td>\n",
              "      <td>NaT</td>\n",
              "      <td>NaN</td>\n",
              "      <td>NaN</td>\n",
              "      <td>2020-12-07 09:22:53</td>\n",
              "      <td>purchase</td>\n",
              "      <td>10.0</td>\n",
              "    </tr>\n",
              "    <tr>\n",
              "      <th>2</th>\n",
              "      <td>9CD9F34546DF254C</td>\n",
              "      <td>NaN</td>\n",
              "      <td>NaN</td>\n",
              "      <td>NaT</td>\n",
              "      <td>NaN</td>\n",
              "      <td>NaN</td>\n",
              "      <td>2020-12-07 12:59:29</td>\n",
              "      <td>purchase</td>\n",
              "      <td>5.0</td>\n",
              "    </tr>\n",
              "    <tr>\n",
              "      <th>3</th>\n",
              "      <td>96F27A054B191457</td>\n",
              "      <td>NaN</td>\n",
              "      <td>NaN</td>\n",
              "      <td>NaT</td>\n",
              "      <td>NaN</td>\n",
              "      <td>NaN</td>\n",
              "      <td>2020-12-07 04:02:40</td>\n",
              "      <td>purchase</td>\n",
              "      <td>5.0</td>\n",
              "    </tr>\n",
              "    <tr>\n",
              "      <th>4</th>\n",
              "      <td>1FD7660FDF94CA1F</td>\n",
              "      <td>NaN</td>\n",
              "      <td>NaN</td>\n",
              "      <td>NaT</td>\n",
              "      <td>NaN</td>\n",
              "      <td>NaN</td>\n",
              "      <td>2020-12-07 10:15:09</td>\n",
              "      <td>purchase</td>\n",
              "      <td>5.0</td>\n",
              "    </tr>\n",
              "    <tr>\n",
              "      <th>...</th>\n",
              "      <td>...</td>\n",
              "      <td>...</td>\n",
              "      <td>...</td>\n",
              "      <td>...</td>\n",
              "      <td>...</td>\n",
              "      <td>...</td>\n",
              "      <td>...</td>\n",
              "      <td>...</td>\n",
              "      <td>...</td>\n",
              "    </tr>\n",
              "    <tr>\n",
              "      <th>440312</th>\n",
              "      <td>245E85F65C358E08</td>\n",
              "      <td>NaN</td>\n",
              "      <td>NaN</td>\n",
              "      <td>NaT</td>\n",
              "      <td>NaN</td>\n",
              "      <td>NaN</td>\n",
              "      <td>2020-12-30 19:35:55</td>\n",
              "      <td>login</td>\n",
              "      <td>NaN</td>\n",
              "    </tr>\n",
              "    <tr>\n",
              "      <th>440313</th>\n",
              "      <td>9385A108F5A0A7A7</td>\n",
              "      <td>NaN</td>\n",
              "      <td>NaN</td>\n",
              "      <td>NaT</td>\n",
              "      <td>NaN</td>\n",
              "      <td>NaN</td>\n",
              "      <td>2020-12-30 10:54:15</td>\n",
              "      <td>login</td>\n",
              "      <td>NaN</td>\n",
              "    </tr>\n",
              "    <tr>\n",
              "      <th>440314</th>\n",
              "      <td>DB650B7559AC6EAC</td>\n",
              "      <td>NaN</td>\n",
              "      <td>NaN</td>\n",
              "      <td>NaT</td>\n",
              "      <td>NaN</td>\n",
              "      <td>NaN</td>\n",
              "      <td>2020-12-30 10:59:09</td>\n",
              "      <td>login</td>\n",
              "      <td>NaN</td>\n",
              "    </tr>\n",
              "    <tr>\n",
              "      <th>440315</th>\n",
              "      <td>F80C9BDDEA02E53C</td>\n",
              "      <td>NaN</td>\n",
              "      <td>NaN</td>\n",
              "      <td>NaT</td>\n",
              "      <td>NaN</td>\n",
              "      <td>NaN</td>\n",
              "      <td>2020-12-30 09:53:39</td>\n",
              "      <td>login</td>\n",
              "      <td>NaN</td>\n",
              "    </tr>\n",
              "    <tr>\n",
              "      <th>440316</th>\n",
              "      <td>7AEC61159B672CC5</td>\n",
              "      <td>NaN</td>\n",
              "      <td>NaN</td>\n",
              "      <td>NaT</td>\n",
              "      <td>NaN</td>\n",
              "      <td>NaN</td>\n",
              "      <td>2020-12-30 11:36:13</td>\n",
              "      <td>login</td>\n",
              "      <td>NaN</td>\n",
              "    </tr>\n",
              "  </tbody>\n",
              "</table>\n",
              "<p>440317 rows × 9 columns</p>\n",
              "</div>"
            ],
            "text/plain": [
              "                 user_id group ab_test first_date region device  \\\n",
              "0       E1BDDCE0DAFA2679   NaN     NaN        NaT    NaN    NaN   \n",
              "1       7B6452F081F49504   NaN     NaN        NaT    NaN    NaN   \n",
              "2       9CD9F34546DF254C   NaN     NaN        NaT    NaN    NaN   \n",
              "3       96F27A054B191457   NaN     NaN        NaT    NaN    NaN   \n",
              "4       1FD7660FDF94CA1F   NaN     NaN        NaT    NaN    NaN   \n",
              "...                  ...   ...     ...        ...    ...    ...   \n",
              "440312  245E85F65C358E08   NaN     NaN        NaT    NaN    NaN   \n",
              "440313  9385A108F5A0A7A7   NaN     NaN        NaT    NaN    NaN   \n",
              "440314  DB650B7559AC6EAC   NaN     NaN        NaT    NaN    NaN   \n",
              "440315  F80C9BDDEA02E53C   NaN     NaN        NaT    NaN    NaN   \n",
              "440316  7AEC61159B672CC5   NaN     NaN        NaT    NaN    NaN   \n",
              "\n",
              "                  event_dt event_name  details  \n",
              "0      2020-12-07 20:22:03   purchase    100.0  \n",
              "1      2020-12-07 09:22:53   purchase     10.0  \n",
              "2      2020-12-07 12:59:29   purchase      5.0  \n",
              "3      2020-12-07 04:02:40   purchase      5.0  \n",
              "4      2020-12-07 10:15:09   purchase      5.0  \n",
              "...                    ...        ...      ...  \n",
              "440312 2020-12-30 19:35:55      login      NaN  \n",
              "440313 2020-12-30 10:54:15      login      NaN  \n",
              "440314 2020-12-30 10:59:09      login      NaN  \n",
              "440315 2020-12-30 09:53:39      login      NaN  \n",
              "440316 2020-12-30 11:36:13      login      NaN  \n",
              "\n",
              "[440317 rows x 9 columns]"
            ]
          },
          "execution_count": 25,
          "metadata": {},
          "output_type": "execute_result"
        }
      ],
      "source": [
        "df = test_1.merge(final_ab_events, how='right', on = 'user_id')\n",
        "df"
      ]
    },
    {
      "cell_type": "markdown",
      "metadata": {
        "id": "pyrMvk36wYsN"
      },
      "source": [
        "Всего у нас 440317 действий. В столбце `group` есть *NaN* и судя по всему их много."
      ]
    },
    {
      "cell_type": "markdown",
      "metadata": {
        "id": "LJIAuE5hwYsO"
      },
      "source": [
        "Удалим строки, где в столбце `group` есть *NaN*, таким образом мы уберем действия, которые не вошли в тест."
      ]
    },
    {
      "cell_type": "code",
      "execution_count": null,
      "metadata": {
        "scrolled": true,
        "id": "DgfZOPywwYsO",
        "outputId": "f4a28cf3-b4f4-4663-f3f3-14ba87be8704"
      },
      "outputs": [
        {
          "data": {
            "text/html": [
              "<div>\n",
              "<style scoped>\n",
              "    .dataframe tbody tr th:only-of-type {\n",
              "        vertical-align: middle;\n",
              "    }\n",
              "\n",
              "    .dataframe tbody tr th {\n",
              "        vertical-align: top;\n",
              "    }\n",
              "\n",
              "    .dataframe thead th {\n",
              "        text-align: right;\n",
              "    }\n",
              "</style>\n",
              "<table border=\"1\" class=\"dataframe\">\n",
              "  <thead>\n",
              "    <tr style=\"text-align: right;\">\n",
              "      <th></th>\n",
              "      <th>user_id</th>\n",
              "      <th>group</th>\n",
              "      <th>ab_test</th>\n",
              "      <th>first_date</th>\n",
              "      <th>region</th>\n",
              "      <th>device</th>\n",
              "      <th>event_dt</th>\n",
              "      <th>event_name</th>\n",
              "      <th>details</th>\n",
              "    </tr>\n",
              "  </thead>\n",
              "  <tbody>\n",
              "    <tr>\n",
              "      <th>5</th>\n",
              "      <td>831887FE7F2D6CBA</td>\n",
              "      <td>A</td>\n",
              "      <td>recommender_system_test</td>\n",
              "      <td>2020-12-07</td>\n",
              "      <td>EU</td>\n",
              "      <td>Android</td>\n",
              "      <td>2020-12-07 06:50:29</td>\n",
              "      <td>purchase</td>\n",
              "      <td>5.0</td>\n",
              "    </tr>\n",
              "    <tr>\n",
              "      <th>17</th>\n",
              "      <td>3C5DD0288AC4FE23</td>\n",
              "      <td>A</td>\n",
              "      <td>recommender_system_test</td>\n",
              "      <td>2020-12-07</td>\n",
              "      <td>EU</td>\n",
              "      <td>PC</td>\n",
              "      <td>2020-12-07 19:42:40</td>\n",
              "      <td>purchase</td>\n",
              "      <td>5.0</td>\n",
              "    </tr>\n",
              "    <tr>\n",
              "      <th>58</th>\n",
              "      <td>49EA242586C87836</td>\n",
              "      <td>B</td>\n",
              "      <td>recommender_system_test</td>\n",
              "      <td>2020-12-07</td>\n",
              "      <td>EU</td>\n",
              "      <td>iPhone</td>\n",
              "      <td>2020-12-07 06:31:24</td>\n",
              "      <td>purchase</td>\n",
              "      <td>100.0</td>\n",
              "    </tr>\n",
              "    <tr>\n",
              "      <th>71</th>\n",
              "      <td>2B06EB547B7AAD08</td>\n",
              "      <td>A</td>\n",
              "      <td>recommender_system_test</td>\n",
              "      <td>2020-12-07</td>\n",
              "      <td>EU</td>\n",
              "      <td>PC</td>\n",
              "      <td>2020-12-07 21:36:38</td>\n",
              "      <td>purchase</td>\n",
              "      <td>5.0</td>\n",
              "    </tr>\n",
              "    <tr>\n",
              "      <th>74</th>\n",
              "      <td>A640F31CAC7823A6</td>\n",
              "      <td>B</td>\n",
              "      <td>recommender_system_test</td>\n",
              "      <td>2020-12-07</td>\n",
              "      <td>EU</td>\n",
              "      <td>PC</td>\n",
              "      <td>2020-12-07 18:48:26</td>\n",
              "      <td>purchase</td>\n",
              "      <td>5.0</td>\n",
              "    </tr>\n",
              "    <tr>\n",
              "      <th>...</th>\n",
              "      <td>...</td>\n",
              "      <td>...</td>\n",
              "      <td>...</td>\n",
              "      <td>...</td>\n",
              "      <td>...</td>\n",
              "      <td>...</td>\n",
              "      <td>...</td>\n",
              "      <td>...</td>\n",
              "      <td>...</td>\n",
              "    </tr>\n",
              "    <tr>\n",
              "      <th>440236</th>\n",
              "      <td>E5589EAE02ACD150</td>\n",
              "      <td>A</td>\n",
              "      <td>recommender_system_test</td>\n",
              "      <td>2020-12-20</td>\n",
              "      <td>EU</td>\n",
              "      <td>Mac</td>\n",
              "      <td>2020-12-29 22:17:08</td>\n",
              "      <td>login</td>\n",
              "      <td>NaN</td>\n",
              "    </tr>\n",
              "    <tr>\n",
              "      <th>440239</th>\n",
              "      <td>D21F0D4FDCD82DB2</td>\n",
              "      <td>A</td>\n",
              "      <td>recommender_system_test</td>\n",
              "      <td>2020-12-20</td>\n",
              "      <td>EU</td>\n",
              "      <td>iPhone</td>\n",
              "      <td>2020-12-29 02:17:00</td>\n",
              "      <td>login</td>\n",
              "      <td>NaN</td>\n",
              "    </tr>\n",
              "    <tr>\n",
              "      <th>440267</th>\n",
              "      <td>553BAE96C6EB6240</td>\n",
              "      <td>A</td>\n",
              "      <td>recommender_system_test</td>\n",
              "      <td>2020-12-20</td>\n",
              "      <td>EU</td>\n",
              "      <td>Android</td>\n",
              "      <td>2020-12-29 14:09:14</td>\n",
              "      <td>login</td>\n",
              "      <td>NaN</td>\n",
              "    </tr>\n",
              "    <tr>\n",
              "      <th>440281</th>\n",
              "      <td>DD4352CDCF8C3D57</td>\n",
              "      <td>B</td>\n",
              "      <td>recommender_system_test</td>\n",
              "      <td>2020-12-07</td>\n",
              "      <td>EU</td>\n",
              "      <td>Android</td>\n",
              "      <td>2020-12-30 12:42:56</td>\n",
              "      <td>login</td>\n",
              "      <td>NaN</td>\n",
              "    </tr>\n",
              "    <tr>\n",
              "      <th>440289</th>\n",
              "      <td>75845C83258FBF73</td>\n",
              "      <td>B</td>\n",
              "      <td>recommender_system_test</td>\n",
              "      <td>2020-12-07</td>\n",
              "      <td>EU</td>\n",
              "      <td>Android</td>\n",
              "      <td>2020-12-30 06:42:52</td>\n",
              "      <td>login</td>\n",
              "      <td>NaN</td>\n",
              "    </tr>\n",
              "  </tbody>\n",
              "</table>\n",
              "<p>20564 rows × 9 columns</p>\n",
              "</div>"
            ],
            "text/plain": [
              "                 user_id group                  ab_test first_date region  \\\n",
              "5       831887FE7F2D6CBA     A  recommender_system_test 2020-12-07     EU   \n",
              "17      3C5DD0288AC4FE23     A  recommender_system_test 2020-12-07     EU   \n",
              "58      49EA242586C87836     B  recommender_system_test 2020-12-07     EU   \n",
              "71      2B06EB547B7AAD08     A  recommender_system_test 2020-12-07     EU   \n",
              "74      A640F31CAC7823A6     B  recommender_system_test 2020-12-07     EU   \n",
              "...                  ...   ...                      ...        ...    ...   \n",
              "440236  E5589EAE02ACD150     A  recommender_system_test 2020-12-20     EU   \n",
              "440239  D21F0D4FDCD82DB2     A  recommender_system_test 2020-12-20     EU   \n",
              "440267  553BAE96C6EB6240     A  recommender_system_test 2020-12-20     EU   \n",
              "440281  DD4352CDCF8C3D57     B  recommender_system_test 2020-12-07     EU   \n",
              "440289  75845C83258FBF73     B  recommender_system_test 2020-12-07     EU   \n",
              "\n",
              "         device            event_dt event_name  details  \n",
              "5       Android 2020-12-07 06:50:29   purchase      5.0  \n",
              "17           PC 2020-12-07 19:42:40   purchase      5.0  \n",
              "58       iPhone 2020-12-07 06:31:24   purchase    100.0  \n",
              "71           PC 2020-12-07 21:36:38   purchase      5.0  \n",
              "74           PC 2020-12-07 18:48:26   purchase      5.0  \n",
              "...         ...                 ...        ...      ...  \n",
              "440236      Mac 2020-12-29 22:17:08      login      NaN  \n",
              "440239   iPhone 2020-12-29 02:17:00      login      NaN  \n",
              "440267  Android 2020-12-29 14:09:14      login      NaN  \n",
              "440281  Android 2020-12-30 12:42:56      login      NaN  \n",
              "440289  Android 2020-12-30 06:42:52      login      NaN  \n",
              "\n",
              "[20564 rows x 9 columns]"
            ]
          },
          "execution_count": 26,
          "metadata": {},
          "output_type": "execute_result"
        }
      ],
      "source": [
        "df = df[df['group'].notna()]\n",
        "df"
      ]
    },
    {
      "cell_type": "code",
      "execution_count": null,
      "metadata": {
        "id": "x6ZPyPkKwYsO",
        "outputId": "aa770743-46c7-4085-d9ad-66c316f880b1"
      },
      "outputs": [
        {
          "data": {
            "text/html": [
              "<div>\n",
              "<style scoped>\n",
              "    .dataframe tbody tr th:only-of-type {\n",
              "        vertical-align: middle;\n",
              "    }\n",
              "\n",
              "    .dataframe tbody tr th {\n",
              "        vertical-align: top;\n",
              "    }\n",
              "\n",
              "    .dataframe thead th {\n",
              "        text-align: right;\n",
              "    }\n",
              "</style>\n",
              "<table border=\"1\" class=\"dataframe\">\n",
              "  <thead>\n",
              "    <tr style=\"text-align: right;\">\n",
              "      <th></th>\n",
              "      <th></th>\n",
              "      <th>user_id</th>\n",
              "    </tr>\n",
              "    <tr>\n",
              "      <th>ab_test</th>\n",
              "      <th>group</th>\n",
              "      <th></th>\n",
              "    </tr>\n",
              "  </thead>\n",
              "  <tbody>\n",
              "    <tr>\n",
              "      <th rowspan=\"2\" valign=\"top\">recommender_system_test</th>\n",
              "      <th>A</th>\n",
              "      <td>2279</td>\n",
              "    </tr>\n",
              "    <tr>\n",
              "      <th>B</th>\n",
              "      <td>771</td>\n",
              "    </tr>\n",
              "  </tbody>\n",
              "</table>\n",
              "</div>"
            ],
            "text/plain": [
              "                               user_id\n",
              "ab_test                 group         \n",
              "recommender_system_test A         2279\n",
              "                        B          771"
            ]
          },
          "execution_count": 27,
          "metadata": {},
          "output_type": "execute_result"
        }
      ],
      "source": [
        "df.groupby(['ab_test','group']).agg({'user_id': 'nunique'})"
      ]
    },
    {
      "cell_type": "markdown",
      "metadata": {
        "id": "E4GzVFOewYsO"
      },
      "source": [
        "После чистки участников теста по условиям у нас осталось всего 3050 пользователей в тесте и действий осталось меньше половины. Возможны часть данных где-то потеряли. <br>Пункты по количеству участников - 6000 и процента от новых пользователей из ТЗ не соблюдаются. Пользователей в тесте 6.6% от новых пользователей из EU.\n",
        "<br> Посмотрим, первую дату у пользователей, что бы соотнести из с рамками из ТЗ."
      ]
    },
    {
      "cell_type": "code",
      "execution_count": null,
      "metadata": {
        "id": "WBdXrtPKwYsP",
        "outputId": "b79fddaa-0e0d-4ebb-a28e-3aa02c59f277"
      },
      "outputs": [
        {
          "data": {
            "text/plain": [
              "Timestamp('2020-12-21 00:00:00')"
            ]
          },
          "execution_count": 28,
          "metadata": {},
          "output_type": "execute_result"
        }
      ],
      "source": [
        "df['first_date'].max()"
      ]
    },
    {
      "cell_type": "code",
      "execution_count": null,
      "metadata": {
        "scrolled": true,
        "id": "Tn7GMIt9wYsP",
        "outputId": "f0419dc2-b752-4eef-fd89-b376fbec165d"
      },
      "outputs": [
        {
          "data": {
            "text/plain": [
              "Timestamp('2020-12-07 00:00:00')"
            ]
          },
          "execution_count": 29,
          "metadata": {},
          "output_type": "execute_result"
        }
      ],
      "source": [
        "df['first_date'].min()"
      ]
    },
    {
      "cell_type": "markdown",
      "metadata": {
        "id": "87xjuFlawYsP"
      },
      "source": [
        "По периоду набора новых пользователей *ТЗ соблюдается*.\n",
        "<br> Проверим даты проведения всего теста по оставшимся пользователям."
      ]
    },
    {
      "cell_type": "code",
      "execution_count": null,
      "metadata": {
        "scrolled": true,
        "id": "6TaHjE51wYsP",
        "outputId": "ec0f3075-a674-4f75-f79c-1185de153822"
      },
      "outputs": [
        {
          "data": {
            "text/plain": [
              "Timestamp('2020-12-30 12:42:57')"
            ]
          },
          "execution_count": 30,
          "metadata": {},
          "output_type": "execute_result"
        }
      ],
      "source": [
        "df['event_dt'].max()"
      ]
    },
    {
      "cell_type": "code",
      "execution_count": null,
      "metadata": {
        "id": "z43cbg_5wYsP",
        "outputId": "3173dc35-713b-4d0c-e01a-7360d20d0789"
      },
      "outputs": [
        {
          "data": {
            "text/plain": [
              "Timestamp('2020-12-07 00:05:57')"
            ]
          },
          "execution_count": 31,
          "metadata": {},
          "output_type": "execute_result"
        }
      ],
      "source": [
        "df['event_dt'].min()"
      ]
    },
    {
      "cell_type": "markdown",
      "metadata": {
        "id": "pbFGgH2PwYsP"
      },
      "source": [
        "Дата последнего события по нашим пользователям это 30.12.2020. Хотя дата остановки теста планировалась 04.01.2022. из-за того, что действия заканчиваются 30.12.2020, а не 04.01.2021 как планировалось.\n",
        "<br>Найдем пользователей, которые не входят в 14ти-дневный период тестирования (из ТЗ) из-за того, что действия заканчиваются 30.12.2020, а не 04.01.2021 как планировалось."
      ]
    },
    {
      "cell_type": "code",
      "execution_count": null,
      "metadata": {
        "scrolled": true,
        "id": "M1ppIlz-wYsP",
        "outputId": "951fecbf-0e4f-4ec9-f878-b89eb3d8630d"
      },
      "outputs": [
        {
          "data": {
            "text/plain": [
              "1375"
            ]
          },
          "execution_count": 32,
          "metadata": {},
          "output_type": "execute_result"
        }
      ],
      "source": [
        "user_after  = df.query('event_name == \"login\" and first_date > \"2020-12-16\"')\n",
        "user_after['user_id'].nunique()"
      ]
    },
    {
      "cell_type": "markdown",
      "metadata": {
        "id": "WKeX4LXiwYsQ"
      },
      "source": [
        "Прилично, 45% от всех наших тестируемых.\n",
        "<br>Проверим маркетинговые события на момент пересечения с нашими датами проведения теста."
      ]
    },
    {
      "cell_type": "code",
      "execution_count": null,
      "metadata": {
        "scrolled": true,
        "id": "--hFv-8uwYsQ",
        "outputId": "f33f094f-e279-4c9f-d556-f4da1240fae2"
      },
      "outputs": [
        {
          "data": {
            "text/html": [
              "<div>\n",
              "<style scoped>\n",
              "    .dataframe tbody tr th:only-of-type {\n",
              "        vertical-align: middle;\n",
              "    }\n",
              "\n",
              "    .dataframe tbody tr th {\n",
              "        vertical-align: top;\n",
              "    }\n",
              "\n",
              "    .dataframe thead th {\n",
              "        text-align: right;\n",
              "    }\n",
              "</style>\n",
              "<table border=\"1\" class=\"dataframe\">\n",
              "  <thead>\n",
              "    <tr style=\"text-align: right;\">\n",
              "      <th></th>\n",
              "      <th>name</th>\n",
              "      <th>regions</th>\n",
              "      <th>start_dt</th>\n",
              "      <th>finish_dt</th>\n",
              "    </tr>\n",
              "  </thead>\n",
              "  <tbody>\n",
              "    <tr>\n",
              "      <th>0</th>\n",
              "      <td>Christmas&amp;New Year Promo</td>\n",
              "      <td>EU, N.America</td>\n",
              "      <td>2020-12-25</td>\n",
              "      <td>2021-01-03</td>\n",
              "    </tr>\n",
              "    <tr>\n",
              "      <th>1</th>\n",
              "      <td>St. Valentine's Day Giveaway</td>\n",
              "      <td>EU, CIS, APAC, N.America</td>\n",
              "      <td>2020-02-14</td>\n",
              "      <td>2020-02-16</td>\n",
              "    </tr>\n",
              "    <tr>\n",
              "      <th>2</th>\n",
              "      <td>St. Patric's Day Promo</td>\n",
              "      <td>EU, N.America</td>\n",
              "      <td>2020-03-17</td>\n",
              "      <td>2020-03-19</td>\n",
              "    </tr>\n",
              "    <tr>\n",
              "      <th>3</th>\n",
              "      <td>Easter Promo</td>\n",
              "      <td>EU, CIS, APAC, N.America</td>\n",
              "      <td>2020-04-12</td>\n",
              "      <td>2020-04-19</td>\n",
              "    </tr>\n",
              "    <tr>\n",
              "      <th>4</th>\n",
              "      <td>4th of July Promo</td>\n",
              "      <td>N.America</td>\n",
              "      <td>2020-07-04</td>\n",
              "      <td>2020-07-11</td>\n",
              "    </tr>\n",
              "    <tr>\n",
              "      <th>5</th>\n",
              "      <td>Black Friday Ads Campaign</td>\n",
              "      <td>EU, CIS, APAC, N.America</td>\n",
              "      <td>2020-11-26</td>\n",
              "      <td>2020-12-01</td>\n",
              "    </tr>\n",
              "    <tr>\n",
              "      <th>6</th>\n",
              "      <td>Chinese New Year Promo</td>\n",
              "      <td>APAC</td>\n",
              "      <td>2020-01-25</td>\n",
              "      <td>2020-02-07</td>\n",
              "    </tr>\n",
              "    <tr>\n",
              "      <th>7</th>\n",
              "      <td>Labor day (May 1st) Ads Campaign</td>\n",
              "      <td>EU, CIS, APAC</td>\n",
              "      <td>2020-05-01</td>\n",
              "      <td>2020-05-03</td>\n",
              "    </tr>\n",
              "    <tr>\n",
              "      <th>8</th>\n",
              "      <td>International Women's Day Promo</td>\n",
              "      <td>EU, CIS, APAC</td>\n",
              "      <td>2020-03-08</td>\n",
              "      <td>2020-03-10</td>\n",
              "    </tr>\n",
              "    <tr>\n",
              "      <th>9</th>\n",
              "      <td>Victory Day CIS (May 9th) Event</td>\n",
              "      <td>CIS</td>\n",
              "      <td>2020-05-09</td>\n",
              "      <td>2020-05-11</td>\n",
              "    </tr>\n",
              "    <tr>\n",
              "      <th>10</th>\n",
              "      <td>CIS New Year Gift Lottery</td>\n",
              "      <td>CIS</td>\n",
              "      <td>2020-12-30</td>\n",
              "      <td>2021-01-07</td>\n",
              "    </tr>\n",
              "    <tr>\n",
              "      <th>11</th>\n",
              "      <td>Dragon Boat Festival Giveaway</td>\n",
              "      <td>APAC</td>\n",
              "      <td>2020-06-25</td>\n",
              "      <td>2020-07-01</td>\n",
              "    </tr>\n",
              "    <tr>\n",
              "      <th>12</th>\n",
              "      <td>Single's Day Gift Promo</td>\n",
              "      <td>APAC</td>\n",
              "      <td>2020-11-11</td>\n",
              "      <td>2020-11-12</td>\n",
              "    </tr>\n",
              "    <tr>\n",
              "      <th>13</th>\n",
              "      <td>Chinese Moon Festival</td>\n",
              "      <td>APAC</td>\n",
              "      <td>2020-10-01</td>\n",
              "      <td>2020-10-07</td>\n",
              "    </tr>\n",
              "  </tbody>\n",
              "</table>\n",
              "</div>"
            ],
            "text/plain": [
              "                                name                   regions   start_dt  \\\n",
              "0           Christmas&New Year Promo             EU, N.America 2020-12-25   \n",
              "1       St. Valentine's Day Giveaway  EU, CIS, APAC, N.America 2020-02-14   \n",
              "2             St. Patric's Day Promo             EU, N.America 2020-03-17   \n",
              "3                       Easter Promo  EU, CIS, APAC, N.America 2020-04-12   \n",
              "4                  4th of July Promo                 N.America 2020-07-04   \n",
              "5          Black Friday Ads Campaign  EU, CIS, APAC, N.America 2020-11-26   \n",
              "6             Chinese New Year Promo                      APAC 2020-01-25   \n",
              "7   Labor day (May 1st) Ads Campaign             EU, CIS, APAC 2020-05-01   \n",
              "8    International Women's Day Promo             EU, CIS, APAC 2020-03-08   \n",
              "9    Victory Day CIS (May 9th) Event                       CIS 2020-05-09   \n",
              "10         CIS New Year Gift Lottery                       CIS 2020-12-30   \n",
              "11     Dragon Boat Festival Giveaway                      APAC 2020-06-25   \n",
              "12           Single's Day Gift Promo                      APAC 2020-11-11   \n",
              "13             Chinese Moon Festival                      APAC 2020-10-01   \n",
              "\n",
              "    finish_dt  \n",
              "0  2021-01-03  \n",
              "1  2020-02-16  \n",
              "2  2020-03-19  \n",
              "3  2020-04-19  \n",
              "4  2020-07-11  \n",
              "5  2020-12-01  \n",
              "6  2020-02-07  \n",
              "7  2020-05-03  \n",
              "8  2020-03-10  \n",
              "9  2020-05-11  \n",
              "10 2021-01-07  \n",
              "11 2020-07-01  \n",
              "12 2020-11-12  \n",
              "13 2020-10-07  "
            ]
          },
          "execution_count": 33,
          "metadata": {},
          "output_type": "execute_result"
        }
      ],
      "source": [
        "ab_project_marketing_events"
      ]
    },
    {
      "cell_type": "markdown",
      "metadata": {
        "id": "q2wdWNNdwYsQ"
      },
      "source": [
        "Выберем рекламные кампании, которые проводились на территории *EU* и проводились в период нашего теста."
      ]
    },
    {
      "cell_type": "code",
      "execution_count": null,
      "metadata": {
        "scrolled": false,
        "id": "u3l4msRXwYsQ",
        "outputId": "79c7f939-49f5-49c9-9f21-f1c905303854"
      },
      "outputs": [
        {
          "data": {
            "text/html": [
              "<div>\n",
              "<style scoped>\n",
              "    .dataframe tbody tr th:only-of-type {\n",
              "        vertical-align: middle;\n",
              "    }\n",
              "\n",
              "    .dataframe tbody tr th {\n",
              "        vertical-align: top;\n",
              "    }\n",
              "\n",
              "    .dataframe thead th {\n",
              "        text-align: right;\n",
              "    }\n",
              "</style>\n",
              "<table border=\"1\" class=\"dataframe\">\n",
              "  <thead>\n",
              "    <tr style=\"text-align: right;\">\n",
              "      <th></th>\n",
              "      <th>name</th>\n",
              "      <th>regions</th>\n",
              "      <th>start_dt</th>\n",
              "      <th>finish_dt</th>\n",
              "    </tr>\n",
              "  </thead>\n",
              "  <tbody>\n",
              "    <tr>\n",
              "      <th>0</th>\n",
              "      <td>Christmas&amp;New Year Promo</td>\n",
              "      <td>EU, N.America</td>\n",
              "      <td>2020-12-25</td>\n",
              "      <td>2021-01-03</td>\n",
              "    </tr>\n",
              "  </tbody>\n",
              "</table>\n",
              "</div>"
            ],
            "text/plain": [
              "                       name        regions   start_dt  finish_dt\n",
              "0  Christmas&New Year Promo  EU, N.America 2020-12-25 2021-01-03"
            ]
          },
          "execution_count": 34,
          "metadata": {},
          "output_type": "execute_result"
        }
      ],
      "source": [
        "marketing_ev = ab_project_marketing_events[ab_project_marketing_events['regions'].str.contains(r'\\bEU')]\n",
        "marketing_ev[marketing_ev['start_dt'].between(\"2020-12-07\", \"2021-01-04\", inclusive = True) ]"
      ]
    },
    {
      "cell_type": "markdown",
      "metadata": {
        "id": "r9TUBFKVwYsQ"
      },
      "source": [
        "Проверим еще финальную дату рекламной кампании"
      ]
    },
    {
      "cell_type": "code",
      "execution_count": null,
      "metadata": {
        "scrolled": false,
        "id": "TJFuybK2wYsR",
        "outputId": "0876b793-61d6-4999-eb2c-5ae2e597010f"
      },
      "outputs": [
        {
          "data": {
            "text/html": [
              "<div>\n",
              "<style scoped>\n",
              "    .dataframe tbody tr th:only-of-type {\n",
              "        vertical-align: middle;\n",
              "    }\n",
              "\n",
              "    .dataframe tbody tr th {\n",
              "        vertical-align: top;\n",
              "    }\n",
              "\n",
              "    .dataframe thead th {\n",
              "        text-align: right;\n",
              "    }\n",
              "</style>\n",
              "<table border=\"1\" class=\"dataframe\">\n",
              "  <thead>\n",
              "    <tr style=\"text-align: right;\">\n",
              "      <th></th>\n",
              "      <th>name</th>\n",
              "      <th>regions</th>\n",
              "      <th>start_dt</th>\n",
              "      <th>finish_dt</th>\n",
              "    </tr>\n",
              "  </thead>\n",
              "  <tbody>\n",
              "    <tr>\n",
              "      <th>0</th>\n",
              "      <td>Christmas&amp;New Year Promo</td>\n",
              "      <td>EU, N.America</td>\n",
              "      <td>2020-12-25</td>\n",
              "      <td>2021-01-03</td>\n",
              "    </tr>\n",
              "  </tbody>\n",
              "</table>\n",
              "</div>"
            ],
            "text/plain": [
              "                       name        regions   start_dt  finish_dt\n",
              "0  Christmas&New Year Promo  EU, N.America 2020-12-25 2021-01-03"
            ]
          },
          "execution_count": 35,
          "metadata": {},
          "output_type": "execute_result"
        }
      ],
      "source": [
        "marketing_ev[marketing_ev['finish_dt'].between(\"2020-12-07\", \"2021-01-04\", inclusive = True) ]"
      ]
    },
    {
      "cell_type": "markdown",
      "metadata": {
        "id": "lgQV6PCTwYsR"
      },
      "source": [
        "Вот оно! Проводить тест под новый год - такое себе занятие."
      ]
    },
    {
      "cell_type": "markdown",
      "metadata": {
        "id": "GgnMyt2LwYsR"
      },
      "source": [
        "Добавим столбец с датой события с исключением времени."
      ]
    },
    {
      "cell_type": "code",
      "execution_count": null,
      "metadata": {
        "scrolled": true,
        "id": "KUlvNeczwYsR"
      },
      "outputs": [],
      "source": [
        "pd.set_option('chained_assignment', None)\n",
        "df['event_day'] = pd.to_datetime(df['event_dt']).dt.date\n",
        "df['event_day'] = pd.to_datetime(df['event_day'])"
      ]
    },
    {
      "cell_type": "markdown",
      "metadata": {
        "id": "NW2lR6R2wYsS"
      },
      "source": [
        "Построим функцию для вывода гистограмм с распределением по времени событий теста."
      ]
    },
    {
      "cell_type": "code",
      "execution_count": null,
      "metadata": {
        "id": "opgFu53OwYsS"
      },
      "outputs": [],
      "source": [
        "def hist(data):\n",
        "    plt.title('Гистограмма распределения всех событий во времени')\n",
        "    data['event_dt'].hist(bins=14*24, figsize=(14, 5))\n",
        "    \n",
        "    \n",
        "    data.loc[df['event_name'] == 'login',['event_dt']].hist(bins=14*24, figsize=(14, 5))\n",
        "    plt.title('Гистограмма распределения во времени события \"login\"')\n",
        "    \n",
        "    data.loc[df['event_name'] == 'product_page',['event_dt']].hist(bins=14*24, figsize=(14, 5))\n",
        "    plt.title('Гистограмма распределения во времени события \"product_page\"')\n",
        "    \n",
        "    data.loc[df['event_name'] == 'product_cart',['event_dt']].hist(bins=14*24, figsize=(14, 5))\n",
        "    plt.title('Гистограмма распределения во времени события \"product_cart\"') \n",
        "    \n",
        "    data.loc[df['event_name'] == 'purchase',['event_dt']].hist(bins=14*24, figsize=(14, 5))\n",
        "    plt.title('Гистограмма распределения во времени события \"purchase\"') \n",
        "    \n",
        "    plt.show()"
      ]
    },
    {
      "cell_type": "markdown",
      "metadata": {
        "id": "5ezk7NfIwYsS"
      },
      "source": [
        "Вызовем функцию."
      ]
    },
    {
      "cell_type": "code",
      "execution_count": null,
      "metadata": {
        "scrolled": false,
        "id": "7ej9AG11wYsS",
        "outputId": "dd76be18-574e-493c-fcc9-ac09deb88160"
      },
      "outputs": [
        {
          "data": {
            "image/png": "[encoded data removed]",
            "text/plain": [
              "<Figure size 1008x360 with 1 Axes>"
            ]
          },
          "metadata": {
            "needs_background": "light"
          },
          "output_type": "display_data"
        },
        {
          "data": {
            "image/png": "[encoded data removed]",
            "text/plain": [
              "<Figure size 1008x360 with 1 Axes>"
            ]
          },
          "metadata": {
            "needs_background": "light"
          },
          "output_type": "display_data"
        },
        {
          "data": {
            "image/png": "[encoded data removed]",
            "text/plain": [
              "<Figure size 1008x360 with 1 Axes>"
            ]
          },
          "metadata": {
            "needs_background": "light"
          },
          "output_type": "display_data"
        },
        {
          "data": {
            "image/png": "[encoded data removed]",
            "text/plain": [
              "<Figure size 1008x360 with 1 Axes>"
            ]
          },
          "metadata": {
            "needs_background": "light"
          },
          "output_type": "display_data"
        },
        {
          "data": {
            "image/png": "[encoded data removed]",
            "text/plain": [
              "<Figure size 1008x360 with 1 Axes>"
            ]
          },
          "metadata": {
            "needs_background": "light"
          },
          "output_type": "display_data"
        }
      ],
      "source": [
        " hist(df)"
      ]
    },
    {
      "cell_type": "markdown",
      "metadata": {
        "id": "lmSlvplSwYsS"
      },
      "source": [
        "На гистограмме всплеска активности в момент проведения рекламной акции нет. Куда потратили рекламный бюджет?  \n",
        "С начала теста по 14 число распределение примерно равно, 14 декабря наблюдается спад с дальнейшим ростом в пике 22 декабря. Каких-либо значимых различий по событиям нет.  \n",
        "Думаю, что обрезать пользователей по датам маркетинговой компании смысла нет."
      ]
    },
    {
      "cell_type": "markdown",
      "metadata": {
        "id": "1Wih1qLvwYsS"
      },
      "source": [
        "\n",
        "<br>Посмотрим таблицу с данными о количестве пользователей на каждом шаге воронки, а также нарисуем саму воронку."
      ]
    },
    {
      "cell_type": "code",
      "execution_count": null,
      "metadata": {
        "scrolled": true,
        "id": "IBkKYmh8wYsS",
        "outputId": "bb362d15-e614-4ade-ade8-420321bfbfcf"
      },
      "outputs": [
        {
          "data": {
            "text/html": [
              "<div>\n",
              "<style scoped>\n",
              "    .dataframe tbody tr th:only-of-type {\n",
              "        vertical-align: middle;\n",
              "    }\n",
              "\n",
              "    .dataframe tbody tr th {\n",
              "        vertical-align: top;\n",
              "    }\n",
              "\n",
              "    .dataframe thead th {\n",
              "        text-align: right;\n",
              "    }\n",
              "</style>\n",
              "<table border=\"1\" class=\"dataframe\">\n",
              "  <thead>\n",
              "    <tr style=\"text-align: right;\">\n",
              "      <th></th>\n",
              "      <th>event_name</th>\n",
              "      <th>user_id</th>\n",
              "      <th>per_for_all</th>\n",
              "      <th>per_for_step</th>\n",
              "    </tr>\n",
              "  </thead>\n",
              "  <tbody>\n",
              "    <tr>\n",
              "      <th>0</th>\n",
              "      <td>login</td>\n",
              "      <td>3050</td>\n",
              "      <td>100.0</td>\n",
              "      <td>NaN</td>\n",
              "    </tr>\n",
              "    <tr>\n",
              "      <th>1</th>\n",
              "      <td>product_page</td>\n",
              "      <td>1905</td>\n",
              "      <td>62.5</td>\n",
              "      <td>62.5</td>\n",
              "    </tr>\n",
              "    <tr>\n",
              "      <th>3</th>\n",
              "      <td>product_cart</td>\n",
              "      <td>900</td>\n",
              "      <td>29.5</td>\n",
              "      <td>47.2</td>\n",
              "    </tr>\n",
              "    <tr>\n",
              "      <th>2</th>\n",
              "      <td>purchase</td>\n",
              "      <td>953</td>\n",
              "      <td>31.2</td>\n",
              "      <td>105.9</td>\n",
              "    </tr>\n",
              "  </tbody>\n",
              "</table>\n",
              "</div>"
            ],
            "text/plain": [
              "     event_name  user_id  per_for_all  per_for_step\n",
              "0         login     3050        100.0           NaN\n",
              "1  product_page     1905         62.5          62.5\n",
              "3  product_cart      900         29.5          47.2\n",
              "2      purchase      953         31.2         105.9"
            ]
          },
          "execution_count": 39,
          "metadata": {},
          "output_type": "execute_result"
        }
      ],
      "source": [
        "user  = (df.groupby('event_name').agg({'user_id': 'nunique'})\n",
        "    .reset_index().sort_values(by = 'user_id',ascending=False).reset_index()\n",
        ")\n",
        "del user['index']\n",
        "#расчет процента на каждом шаге от общего количества\n",
        "user['per_for_all'] = (user['user_id']/df['user_id'].nunique())*100\n",
        "user = user.reindex([0,1,3,2])\n",
        "#расчет процента каждого шага, от предыдущего шага\n",
        "user =  user.assign(per_for_step=user['user_id'].div(user['user_id'].shift()).mul(100))\n",
        "\n",
        "user"
      ]
    },
    {
      "cell_type": "code",
      "execution_count": null,
      "metadata": {
        "scrolled": false,
        "id": "gbJDWjnCwYsS",
        "outputId": "ccf856de-1fbb-4745-bc80-17f4ab33c62b"
      },
      "outputs": [
        {
          "data": {
            "image/png": "[encoded data removed]"
          },
          "metadata": {},
          "output_type": "display_data"
        }
      ],
      "source": [
        "fig = go.Figure()\n",
        "fig.add_trace(go.Funnel(\n",
        "    name='Воронка всех пользователей',\n",
        "    y = user['event_name'].to_list(),\n",
        "    x = user['user_id'].to_list() ,\n",
        "    textposition = \"inside\",textinfo = \"value+percent initial+percent previous\"\n",
        "    ))\n",
        "fig.update_layout(title=\"Воронка всех пользователей\")\n",
        "fig.show()"
      ]
    },
    {
      "cell_type": "markdown",
      "metadata": {
        "id": "Qolqo1UMwYsT"
      },
      "source": [
        "Мы видим что событий `product_cart` меньше, чем `purchase`. Возможно, некоторые покупки были совершены без перехода в корзину, а сразу со странички товара. \n",
        "<br> Рассмотрим гистограммы раздельно для *A* группы и *B* группы."
      ]
    },
    {
      "cell_type": "code",
      "execution_count": null,
      "metadata": {
        "scrolled": false,
        "id": "iTqdMn37wYsT",
        "outputId": "1f5218dd-9bcc-4580-f0fc-989fcc162dff"
      },
      "outputs": [
        {
          "data": {
            "image/png": "[encoded data removed]",
            "text/plain": [
              "<Figure size 1008x360 with 1 Axes>"
            ]
          },
          "metadata": {
            "needs_background": "light"
          },
          "output_type": "display_data"
        },
        {
          "data": {
            "image/png": "[encoded data removed]",
            "text/plain": [
              "<Figure size 1008x360 with 1 Axes>"
            ]
          },
          "metadata": {
            "needs_background": "light"
          },
          "output_type": "display_data"
        },
        {
          "data": {
            "image/png": "[encoded data removed]",
            "text/plain": [
              "<Figure size 1008x360 with 1 Axes>"
            ]
          },
          "metadata": {
            "needs_background": "light"
          },
          "output_type": "display_data"
        },
        {
          "data": {
            "image/png": "[encoded data removed]",
            "text/plain": [
              "<Figure size 1008x360 with 1 Axes>"
            ]
          },
          "metadata": {
            "needs_background": "light"
          },
          "output_type": "display_data"
        },
        {
          "data": {
            "image/png": "[encoded data removed]",
            "text/plain": [
              "<Figure size 1008x360 with 1 Axes>"
            ]
          },
          "metadata": {
            "needs_background": "light"
          },
          "output_type": "display_data"
        }
      ],
      "source": [
        "a_group = df[df['group'] == 'A']\n",
        "hist(a_group)"
      ]
    },
    {
      "cell_type": "markdown",
      "metadata": {
        "id": "gGhdsXg_wYsT"
      },
      "source": [
        "Как и в гистограммах с данными об обоих тестах, мы наблюдаем спад 14 декабря и прямой рост с пиком 22 декабря. Далее идет спад действий пользователей. Для всех событий картина, примерно, одинакова."
      ]
    },
    {
      "cell_type": "code",
      "execution_count": null,
      "metadata": {
        "scrolled": true,
        "id": "ASSDJ72kwYsT",
        "outputId": "912618de-febd-437d-87a5-5e054519564b"
      },
      "outputs": [
        {
          "data": {
            "text/html": [
              "<div>\n",
              "<style scoped>\n",
              "    .dataframe tbody tr th:only-of-type {\n",
              "        vertical-align: middle;\n",
              "    }\n",
              "\n",
              "    .dataframe tbody tr th {\n",
              "        vertical-align: top;\n",
              "    }\n",
              "\n",
              "    .dataframe thead th {\n",
              "        text-align: right;\n",
              "    }\n",
              "</style>\n",
              "<table border=\"1\" class=\"dataframe\">\n",
              "  <thead>\n",
              "    <tr style=\"text-align: right;\">\n",
              "      <th></th>\n",
              "      <th>event_name</th>\n",
              "      <th>user_id</th>\n",
              "      <th>per_for_all</th>\n",
              "      <th>per_for_step</th>\n",
              "    </tr>\n",
              "  </thead>\n",
              "  <tbody>\n",
              "    <tr>\n",
              "      <th>0</th>\n",
              "      <td>login</td>\n",
              "      <td>2279</td>\n",
              "      <td>100.0</td>\n",
              "      <td>NaN</td>\n",
              "    </tr>\n",
              "    <tr>\n",
              "      <th>1</th>\n",
              "      <td>product_page</td>\n",
              "      <td>1476</td>\n",
              "      <td>64.8</td>\n",
              "      <td>64.8</td>\n",
              "    </tr>\n",
              "    <tr>\n",
              "      <th>3</th>\n",
              "      <td>product_cart</td>\n",
              "      <td>686</td>\n",
              "      <td>30.1</td>\n",
              "      <td>46.5</td>\n",
              "    </tr>\n",
              "    <tr>\n",
              "      <th>2</th>\n",
              "      <td>purchase</td>\n",
              "      <td>734</td>\n",
              "      <td>32.2</td>\n",
              "      <td>107.0</td>\n",
              "    </tr>\n",
              "  </tbody>\n",
              "</table>\n",
              "</div>"
            ],
            "text/plain": [
              "     event_name  user_id  per_for_all  per_for_step\n",
              "0         login     2279        100.0           NaN\n",
              "1  product_page     1476         64.8          64.8\n",
              "3  product_cart      686         30.1          46.5\n",
              "2      purchase      734         32.2         107.0"
            ]
          },
          "execution_count": 42,
          "metadata": {},
          "output_type": "execute_result"
        }
      ],
      "source": [
        "a_group_user = (a_group.groupby('event_name').agg({'user_id': 'nunique'})\n",
        "    .reset_index().sort_values(by = 'user_id',ascending=False).reset_index()\n",
        ")\n",
        "#Удаление индекса\n",
        "del a_group_user['index']\n",
        "#расчет процента на каждом шаге от общего количества\n",
        "a_group_user['per_for_all'] = (a_group_user['user_id']/a_group['user_id'].nunique())*100\n",
        "a_group_user = a_group_user.reindex([0,1,3,2])\n",
        "#расчет процента каждого шага, от предыдущего шага\n",
        "a_group_user = a_group_user.assign(per_for_step=a_group_user['user_id'].div(a_group_user['user_id'].shift()).mul(100))\n",
        "\n",
        "a_group_user"
      ]
    },
    {
      "cell_type": "code",
      "execution_count": null,
      "metadata": {
        "scrolled": false,
        "id": "6kDtSv6_wYsT",
        "outputId": "7d20aa5e-ec5b-482b-f83b-684d2363fae0"
      },
      "outputs": [
        {
          "data": {
            "image/png": "[encoded data removed]"
          },
          "metadata": {},
          "output_type": "display_data"
        }
      ],
      "source": [
        "fig = go.Figure()\n",
        "fig.add_trace(go.Funnel(\n",
        "    name='Воронка пользователей',\n",
        "    y = a_group_user['event_name'].to_list(),\n",
        "    x = a_group_user['user_id'].to_list() ,\n",
        "    textposition = \"inside\",textinfo = \"value+percent initial+percent previous\" \n",
        "    ))\n",
        "fig.update_layout(title=\"Воронка пользователей из группы A\")\n",
        "fig.show()"
      ]
    },
    {
      "cell_type": "markdown",
      "metadata": {
        "id": "8IOq3oBSwYsT"
      },
      "source": [
        "Только 30% пользователей группы *A* дошли до покупки товара. Событий `product_cart` меньше, чем `purchase`, как и в общей воронке по 2м тестовым группам.  \n",
        "Проведем те же манипуляции с группой *B*."
      ]
    },
    {
      "cell_type": "code",
      "execution_count": null,
      "metadata": {
        "scrolled": false,
        "id": "nsS1B_NVwYsT",
        "outputId": "0746a994-8a0d-4f92-e383-945996704566"
      },
      "outputs": [
        {
          "data": {
            "image/png": "[encoded data removed]",
            "text/plain": [
              "<Figure size 1008x360 with 1 Axes>"
            ]
          },
          "metadata": {
            "needs_background": "light"
          },
          "output_type": "display_data"
        },
        {
          "data": {
            "image/png": "[encoded data removed]",
            "text/plain": [
              "<Figure size 1008x360 with 1 Axes>"
            ]
          },
          "metadata": {
            "needs_background": "light"
          },
          "output_type": "display_data"
        },
        {
          "data": {
            "image/png": "[encoded data removed]",
            "text/plain": [
              "<Figure size 1008x360 with 1 Axes>"
            ]
          },
          "metadata": {
            "needs_background": "light"
          },
          "output_type": "display_data"
        },
        {
          "data": {
            "image/png": "[encoded data removed]",
            "text/plain": [
              "<Figure size 1008x360 with 1 Axes>"
            ]
          },
          "metadata": {
            "needs_background": "light"
          },
          "output_type": "display_data"
        },
        {
          "data": {
            "image/png": "[encoded data removed]",
            "text/plain": [
              "<Figure size 1008x360 with 1 Axes>"
            ]
          },
          "metadata": {
            "needs_background": "light"
          },
          "output_type": "display_data"
        }
      ],
      "source": [
        "b_group = df[df['group'] == 'B']\n",
        "hist(b_group)"
      ]
    },
    {
      "cell_type": "markdown",
      "metadata": {
        "id": "ANuo-ga_wYsU"
      },
      "source": [
        "Похоже на кардиограмму(мою во время написания этого проекта).\n",
        "<br> У группы *B* наблюдается обредение на гистограмме, особенно на гистограмме события  *purchase*. Совсем мало покупок. Самый большой спад наблюдается на гистограмме всех событий после 22 числа."
      ]
    },
    {
      "cell_type": "code",
      "execution_count": null,
      "metadata": {
        "id": "69gmZ-rAwYsU",
        "outputId": "86cc5624-ad53-4242-e57f-04087789e869"
      },
      "outputs": [
        {
          "data": {
            "text/html": [
              "<div>\n",
              "<style scoped>\n",
              "    .dataframe tbody tr th:only-of-type {\n",
              "        vertical-align: middle;\n",
              "    }\n",
              "\n",
              "    .dataframe tbody tr th {\n",
              "        vertical-align: top;\n",
              "    }\n",
              "\n",
              "    .dataframe thead th {\n",
              "        text-align: right;\n",
              "    }\n",
              "</style>\n",
              "<table border=\"1\" class=\"dataframe\">\n",
              "  <thead>\n",
              "    <tr style=\"text-align: right;\">\n",
              "      <th></th>\n",
              "      <th>event_name</th>\n",
              "      <th>user_id</th>\n",
              "      <th>per_for_all</th>\n",
              "      <th>per_for_step</th>\n",
              "    </tr>\n",
              "  </thead>\n",
              "  <tbody>\n",
              "    <tr>\n",
              "      <th>0</th>\n",
              "      <td>login</td>\n",
              "      <td>771</td>\n",
              "      <td>100.0</td>\n",
              "      <td>NaN</td>\n",
              "    </tr>\n",
              "    <tr>\n",
              "      <th>1</th>\n",
              "      <td>product_page</td>\n",
              "      <td>429</td>\n",
              "      <td>55.6</td>\n",
              "      <td>55.6</td>\n",
              "    </tr>\n",
              "    <tr>\n",
              "      <th>3</th>\n",
              "      <td>product_cart</td>\n",
              "      <td>214</td>\n",
              "      <td>27.8</td>\n",
              "      <td>49.9</td>\n",
              "    </tr>\n",
              "    <tr>\n",
              "      <th>2</th>\n",
              "      <td>purchase</td>\n",
              "      <td>219</td>\n",
              "      <td>28.4</td>\n",
              "      <td>102.3</td>\n",
              "    </tr>\n",
              "  </tbody>\n",
              "</table>\n",
              "</div>"
            ],
            "text/plain": [
              "     event_name  user_id  per_for_all  per_for_step\n",
              "0         login      771        100.0           NaN\n",
              "1  product_page      429         55.6          55.6\n",
              "3  product_cart      214         27.8          49.9\n",
              "2      purchase      219         28.4         102.3"
            ]
          },
          "execution_count": 45,
          "metadata": {},
          "output_type": "execute_result"
        }
      ],
      "source": [
        "b_group_user = (b_group.groupby('event_name').agg({'user_id': 'nunique'})\n",
        "    .reset_index().sort_values(by = 'user_id',ascending=False).reset_index()\n",
        ")\n",
        "#Удаление индекса\n",
        "del b_group_user['index']\n",
        "#расчет процента на каждом шаге от общего количества\n",
        "b_group_user['per_for_all'] = (b_group_user['user_id']/b_group['user_id'].nunique())*100\n",
        "b_group_user = b_group_user.reindex([0,1,3,2])\n",
        "#расчет процента каждого шага, от предыдущего шага\n",
        "b_group_user = b_group_user.assign(per_for_step=b_group_user['user_id'].div(b_group_user['user_id'].shift()).mul(100))\n",
        "\n",
        "b_group_user"
      ]
    },
    {
      "cell_type": "code",
      "execution_count": null,
      "metadata": {
        "scrolled": false,
        "id": "kY45mRS3wYsU",
        "outputId": "6dc3f261-95bc-4029-abe1-c39a1e520a03"
      },
      "outputs": [
        {
          "data": {
            "image/png": "[encoded data removed]"
          },
          "metadata": {},
          "output_type": "display_data"
        }
      ],
      "source": [
        "fig = go.Figure()\n",
        "fig.add_trace(go.Funnel(\n",
        "    name='Воронка событий всех пользователей',\n",
        "    y = b_group_user['event_name'].to_list(),\n",
        "    x = b_group_user['user_id'].to_list() ,\n",
        "    textposition = \"inside\",textinfo = \"value+percent initial+percent previous\"\n",
        "))\n",
        "fig.update_layout(title=\"Воронка пользователей из группы B\")\n",
        "fig.show()"
      ]
    },
    {
      "cell_type": "markdown",
      "metadata": {
        "id": "KV8aoNRRwYsU"
      },
      "source": [
        "У группе *B* сразу при переходе на страничку товара теряется 44% пользователей."
      ]
    },
    {
      "cell_type": "code",
      "execution_count": null,
      "metadata": {
        "id": "z7LsXBABwYsU",
        "outputId": "dd9d01fc-c2b9-4920-85de-e423f80a404e"
      },
      "outputs": [
        {
          "data": {
            "text/html": [
              "<div>\n",
              "<style scoped>\n",
              "    .dataframe tbody tr th:only-of-type {\n",
              "        vertical-align: middle;\n",
              "    }\n",
              "\n",
              "    .dataframe tbody tr th {\n",
              "        vertical-align: top;\n",
              "    }\n",
              "\n",
              "    .dataframe thead th {\n",
              "        text-align: right;\n",
              "    }\n",
              "</style>\n",
              "<table border=\"1\" class=\"dataframe\">\n",
              "  <thead>\n",
              "    <tr style=\"text-align: right;\">\n",
              "      <th></th>\n",
              "      <th>n_events</th>\n",
              "    </tr>\n",
              "  </thead>\n",
              "  <tbody>\n",
              "    <tr>\n",
              "      <th>count</th>\n",
              "      <td>3,050.0</td>\n",
              "    </tr>\n",
              "    <tr>\n",
              "      <th>mean</th>\n",
              "      <td>6.7</td>\n",
              "    </tr>\n",
              "    <tr>\n",
              "      <th>std</th>\n",
              "      <td>3.8</td>\n",
              "    </tr>\n",
              "    <tr>\n",
              "      <th>min</th>\n",
              "      <td>1.0</td>\n",
              "    </tr>\n",
              "    <tr>\n",
              "      <th>25%</th>\n",
              "      <td>4.0</td>\n",
              "    </tr>\n",
              "    <tr>\n",
              "      <th>50%</th>\n",
              "      <td>6.0</td>\n",
              "    </tr>\n",
              "    <tr>\n",
              "      <th>75%</th>\n",
              "      <td>9.0</td>\n",
              "    </tr>\n",
              "    <tr>\n",
              "      <th>max</th>\n",
              "      <td>28.0</td>\n",
              "    </tr>\n",
              "  </tbody>\n",
              "</table>\n",
              "</div>"
            ],
            "text/plain": [
              "       n_events\n",
              "count   3,050.0\n",
              "mean        6.7\n",
              "std         3.8\n",
              "min         1.0\n",
              "25%         4.0\n",
              "50%         6.0\n",
              "75%         9.0\n",
              "max        28.0"
            ]
          },
          "execution_count": 47,
          "metadata": {},
          "output_type": "execute_result"
        }
      ],
      "source": [
        "event_user = df.groupby('user_id')['event_name'].count().reset_index()\n",
        "event_user.columns = ['user_id', 'n_events']\n",
        "event_user.describe()"
      ]
    },
    {
      "cell_type": "code",
      "execution_count": null,
      "metadata": {
        "scrolled": false,
        "id": "Wqo4fgT4wYsU",
        "outputId": "f211d09f-fc72-486f-dd0a-a3222543b787"
      },
      "outputs": [
        {
          "data": {
            "text/html": [
              "<div>\n",
              "<style scoped>\n",
              "    .dataframe tbody tr th:only-of-type {\n",
              "        vertical-align: middle;\n",
              "    }\n",
              "\n",
              "    .dataframe tbody tr th {\n",
              "        vertical-align: top;\n",
              "    }\n",
              "\n",
              "    .dataframe thead th {\n",
              "        text-align: right;\n",
              "    }\n",
              "</style>\n",
              "<table border=\"1\" class=\"dataframe\">\n",
              "  <thead>\n",
              "    <tr style=\"text-align: right;\">\n",
              "      <th></th>\n",
              "      <th>n_events</th>\n",
              "    </tr>\n",
              "  </thead>\n",
              "  <tbody>\n",
              "    <tr>\n",
              "      <th>count</th>\n",
              "      <td>2,279.0</td>\n",
              "    </tr>\n",
              "    <tr>\n",
              "      <th>mean</th>\n",
              "      <td>7.1</td>\n",
              "    </tr>\n",
              "    <tr>\n",
              "      <th>std</th>\n",
              "      <td>3.9</td>\n",
              "    </tr>\n",
              "    <tr>\n",
              "      <th>min</th>\n",
              "      <td>1.0</td>\n",
              "    </tr>\n",
              "    <tr>\n",
              "      <th>25%</th>\n",
              "      <td>4.0</td>\n",
              "    </tr>\n",
              "    <tr>\n",
              "      <th>50%</th>\n",
              "      <td>6.0</td>\n",
              "    </tr>\n",
              "    <tr>\n",
              "      <th>75%</th>\n",
              "      <td>9.0</td>\n",
              "    </tr>\n",
              "    <tr>\n",
              "      <th>max</th>\n",
              "      <td>24.0</td>\n",
              "    </tr>\n",
              "  </tbody>\n",
              "</table>\n",
              "</div>"
            ],
            "text/plain": [
              "       n_events\n",
              "count   2,279.0\n",
              "mean        7.1\n",
              "std         3.9\n",
              "min         1.0\n",
              "25%         4.0\n",
              "50%         6.0\n",
              "75%         9.0\n",
              "max        24.0"
            ]
          },
          "execution_count": 48,
          "metadata": {},
          "output_type": "execute_result"
        }
      ],
      "source": [
        "event_user_a = a_group.groupby('user_id')['event_name'].count().reset_index()\n",
        "event_user_a.columns = ['user_id', 'n_events']\n",
        "event_user_a.describe()"
      ]
    },
    {
      "cell_type": "code",
      "execution_count": null,
      "metadata": {
        "scrolled": true,
        "id": "_zHNiHTPwYsV",
        "outputId": "5872b37a-7692-4003-894e-1ae9f6d27753"
      },
      "outputs": [
        {
          "data": {
            "text/html": [
              "<div>\n",
              "<style scoped>\n",
              "    .dataframe tbody tr th:only-of-type {\n",
              "        vertical-align: middle;\n",
              "    }\n",
              "\n",
              "    .dataframe tbody tr th {\n",
              "        vertical-align: top;\n",
              "    }\n",
              "\n",
              "    .dataframe thead th {\n",
              "        text-align: right;\n",
              "    }\n",
              "</style>\n",
              "<table border=\"1\" class=\"dataframe\">\n",
              "  <thead>\n",
              "    <tr style=\"text-align: right;\">\n",
              "      <th></th>\n",
              "      <th>n_events</th>\n",
              "    </tr>\n",
              "  </thead>\n",
              "  <tbody>\n",
              "    <tr>\n",
              "      <th>count</th>\n",
              "      <td>771.0</td>\n",
              "    </tr>\n",
              "    <tr>\n",
              "      <th>mean</th>\n",
              "      <td>5.7</td>\n",
              "    </tr>\n",
              "    <tr>\n",
              "      <th>std</th>\n",
              "      <td>3.4</td>\n",
              "    </tr>\n",
              "    <tr>\n",
              "      <th>min</th>\n",
              "      <td>1.0</td>\n",
              "    </tr>\n",
              "    <tr>\n",
              "      <th>25%</th>\n",
              "      <td>3.0</td>\n",
              "    </tr>\n",
              "    <tr>\n",
              "      <th>50%</th>\n",
              "      <td>5.0</td>\n",
              "    </tr>\n",
              "    <tr>\n",
              "      <th>75%</th>\n",
              "      <td>8.0</td>\n",
              "    </tr>\n",
              "    <tr>\n",
              "      <th>max</th>\n",
              "      <td>28.0</td>\n",
              "    </tr>\n",
              "  </tbody>\n",
              "</table>\n",
              "</div>"
            ],
            "text/plain": [
              "       n_events\n",
              "count     771.0\n",
              "mean        5.7\n",
              "std         3.4\n",
              "min         1.0\n",
              "25%         3.0\n",
              "50%         5.0\n",
              "75%         8.0\n",
              "max        28.0"
            ]
          },
          "execution_count": 49,
          "metadata": {},
          "output_type": "execute_result"
        }
      ],
      "source": [
        "event_user_b = b_group.groupby('user_id')['event_name'].count().reset_index()\n",
        "event_user_b.columns = ['user_id', 'n_events']\n",
        "event_user_b.describe()"
      ]
    },
    {
      "cell_type": "markdown",
      "metadata": {
        "id": "DUkJiGlUwYsV"
      },
      "source": [
        "Судя по тому, что показал нам метод `describe` распределения вполне нормальные, средние и медианы не имеют больших различий.<br>Построим гистограмму по количество событий в разбивке по группам."
      ]
    },
    {
      "cell_type": "code",
      "execution_count": null,
      "metadata": {
        "scrolled": true,
        "id": "UK-E7xG7wYsV",
        "outputId": "8debf354-969a-4fb0-82d4-5cdf3f59c57f"
      },
      "outputs": [
        {
          "data": {
            "image/png": "[encoded data removed]",
            "text/plain": [
              "<Figure size 864x432 with 1 Axes>"
            ]
          },
          "metadata": {
            "needs_background": "light"
          },
          "output_type": "display_data"
        }
      ],
      "source": [
        "avg_event_a = a_group.pivot_table(index=['user_id'],values='event_name',aggfunc='count').reset_index()\n",
        "avg_event_b = b_group.pivot_table(index=['user_id'],values='event_name', aggfunc='count').reset_index()\n",
        "\n",
        "plt.figure(figsize=(12, 6))\n",
        "sns.histplot(avg_event_a['event_name'], bins=15)\n",
        "sns.histplot(avg_event_b['event_name'],bins=15, color = 'r')\n",
        "plt.legend(labels = ('A', 'B'))\n",
        "plt.title('Распределение событий')\n",
        "plt.show()"
      ]
    },
    {
      "cell_type": "markdown",
      "metadata": {
        "id": "39OzSGRlwYsV"
      },
      "source": [
        "Распределения похоже по фигуре, однако событий в группе *А* больше, и в среднем в группе *A* пользователи делают на одно действие больше."
      ]
    },
    {
      "cell_type": "markdown",
      "metadata": {
        "id": "IomiAu4TwYsV"
      },
      "source": [
        "### Итоги"
      ]
    },
    {
      "cell_type": "markdown",
      "metadata": {
        "id": "ZiAml-STwYsV"
      },
      "source": [
        "Нам пришло срезать большое количество пользователей в связи с пересечением их с параллельным тестом. Так же пользователи не из *EU* были отсечены т.к. по ТЗ, мы должны были рассматривать именно их. Таким образом у нас набралось только 6,6% новых пользователей из EU, когда планировалось 15% и 6 000 пользователей.  \n",
        "Так же наш тест выполнен с пересечением с маркетинговой новогодней кампанией, что могло повлиять на действие пользователей и искажает наш тест.  \n",
        "Период остановки теста так же был сокращен, т.к. наши исследуемые пользователи не совершали действий после 30 декабря 2020.  \n",
        "Разница между группами *A* и *B* большая и составляет 34%.  \n",
        "Все это говорит о том, что тест проведен не корректно и надо бы переделать, Олег."
      ]
    },
    {
      "cell_type": "markdown",
      "metadata": {
        "id": "t_SVSGOnwYsW"
      },
      "source": [
        "## A/B test"
      ]
    },
    {
      "cell_type": "markdown",
      "metadata": {
        "id": "bKpDBoRJwYsW"
      },
      "source": [
        "Приступим к проверке статистической разницы.\n",
        "\n",
        "Сформируем таблицу с процентной воронкой от предыдущего шага."
      ]
    },
    {
      "cell_type": "code",
      "execution_count": null,
      "metadata": {
        "scrolled": false,
        "id": "GnHF3SC3wYsW",
        "outputId": "35415ae7-c92f-42ce-efd7-d29c87ab05d7"
      },
      "outputs": [
        {
          "data": {
            "text/html": [
              "<div>\n",
              "<style scoped>\n",
              "    .dataframe tbody tr th:only-of-type {\n",
              "        vertical-align: middle;\n",
              "    }\n",
              "\n",
              "    .dataframe tbody tr th {\n",
              "        vertical-align: top;\n",
              "    }\n",
              "\n",
              "    .dataframe thead th {\n",
              "        text-align: right;\n",
              "    }\n",
              "</style>\n",
              "<table border=\"1\" class=\"dataframe\">\n",
              "  <thead>\n",
              "    <tr style=\"text-align: right;\">\n",
              "      <th></th>\n",
              "      <th>event_name</th>\n",
              "      <th>A</th>\n",
              "      <th>per_for_step_A</th>\n",
              "      <th>B</th>\n",
              "      <th>per_for_step_B</th>\n",
              "    </tr>\n",
              "  </thead>\n",
              "  <tbody>\n",
              "    <tr>\n",
              "      <th>0</th>\n",
              "      <td>login</td>\n",
              "      <td>2279</td>\n",
              "      <td>NaN</td>\n",
              "      <td>771</td>\n",
              "      <td>NaN</td>\n",
              "    </tr>\n",
              "    <tr>\n",
              "      <th>1</th>\n",
              "      <td>product_page</td>\n",
              "      <td>1476</td>\n",
              "      <td>64.8</td>\n",
              "      <td>429</td>\n",
              "      <td>55.6</td>\n",
              "    </tr>\n",
              "    <tr>\n",
              "      <th>2</th>\n",
              "      <td>product_cart</td>\n",
              "      <td>686</td>\n",
              "      <td>46.5</td>\n",
              "      <td>214</td>\n",
              "      <td>49.9</td>\n",
              "    </tr>\n",
              "    <tr>\n",
              "      <th>3</th>\n",
              "      <td>purchase</td>\n",
              "      <td>734</td>\n",
              "      <td>107.0</td>\n",
              "      <td>219</td>\n",
              "      <td>102.3</td>\n",
              "    </tr>\n",
              "  </tbody>\n",
              "</table>\n",
              "</div>"
            ],
            "text/plain": [
              "     event_name     A  per_for_step_A    B  per_for_step_B\n",
              "0         login  2279             NaN  771             NaN\n",
              "1  product_page  1476            64.8  429            55.6\n",
              "2  product_cart   686            46.5  214            49.9\n",
              "3      purchase   734           107.0  219           102.3"
            ]
          },
          "execution_count": 51,
          "metadata": {},
          "output_type": "execute_result"
        }
      ],
      "source": [
        "ab_group_user = a_group_user.merge(b_group_user, on = 'event_name', how='outer')\n",
        "delta = ab_group_user.drop(['per_for_all_y','per_for_all_x'], axis=1) \n",
        "delta.columns = ('event_name','A','per_for_step_A','B','per_for_step_B')\n",
        "\n",
        "delta"
      ]
    },
    {
      "cell_type": "markdown",
      "metadata": {
        "id": "VB875XpzwYsW"
      },
      "source": [
        "Больше всего разница видна в строке с `product_page` - конвертация группы *B* меньше на 9,2%"
      ]
    },
    {
      "cell_type": "markdown",
      "metadata": {
        "id": "ZubfHZIDwYsW"
      },
      "source": [
        "<br> Перед написанием функции для теста, создадим таблицы, из которой будем вызывать данные."
      ]
    },
    {
      "cell_type": "code",
      "execution_count": null,
      "metadata": {
        "id": "-XAsm1qKwYsW",
        "outputId": "4aecbf7a-0315-46e0-932a-5d4e46b23d4e"
      },
      "outputs": [
        {
          "data": {
            "text/plain": [
              "group\n",
              "A    2279\n",
              "B     771\n",
              "Name: user_id, dtype: int64"
            ]
          },
          "execution_count": 52,
          "metadata": {},
          "output_type": "execute_result"
        }
      ],
      "source": [
        "#количество пользователей в группа\n",
        "users_test = df.groupby('group')['user_id'].nunique()\n",
        "users_test"
      ]
    },
    {
      "cell_type": "code",
      "execution_count": null,
      "metadata": {
        "scrolled": false,
        "id": "m-oaM9cgwYsX",
        "outputId": "b8b25b8d-e77c-488f-943a-c145e4829dc0"
      },
      "outputs": [
        {
          "data": {
            "text/html": [
              "<div>\n",
              "<style scoped>\n",
              "    .dataframe tbody tr th:only-of-type {\n",
              "        vertical-align: middle;\n",
              "    }\n",
              "\n",
              "    .dataframe tbody tr th {\n",
              "        vertical-align: top;\n",
              "    }\n",
              "\n",
              "    .dataframe thead th {\n",
              "        text-align: right;\n",
              "    }\n",
              "</style>\n",
              "<table border=\"1\" class=\"dataframe\">\n",
              "  <thead>\n",
              "    <tr style=\"text-align: right;\">\n",
              "      <th></th>\n",
              "      <th>event_name</th>\n",
              "      <th>A</th>\n",
              "      <th>B</th>\n",
              "    </tr>\n",
              "  </thead>\n",
              "  <tbody>\n",
              "    <tr>\n",
              "      <th>1</th>\n",
              "      <td>product_page</td>\n",
              "      <td>1476</td>\n",
              "      <td>429</td>\n",
              "    </tr>\n",
              "    <tr>\n",
              "      <th>2</th>\n",
              "      <td>product_cart</td>\n",
              "      <td>686</td>\n",
              "      <td>214</td>\n",
              "    </tr>\n",
              "    <tr>\n",
              "      <th>3</th>\n",
              "      <td>purchase</td>\n",
              "      <td>734</td>\n",
              "      <td>219</td>\n",
              "    </tr>\n",
              "  </tbody>\n",
              "</table>\n",
              "</div>"
            ],
            "text/plain": [
              "     event_name     A    B\n",
              "1  product_page  1476  429\n",
              "2  product_cart   686  214\n",
              "3      purchase   734  219"
            ]
          },
          "execution_count": 53,
          "metadata": {},
          "output_type": "execute_result"
        }
      ],
      "source": [
        "#табличные воронки\n",
        "ab_group_user = ab_group_user.drop(['per_for_all_y','per_for_all_x','per_for_step_y','per_for_step_x'], axis=1)\n",
        "ab_group_user.columns = ('event_name','A','B')\n",
        "ab_group_user = ab_group_user.iloc [1: , :]\n",
        "ab_group_user"
      ]
    },
    {
      "cell_type": "markdown",
      "metadata": {
        "id": "oE5XPk94wYsX"
      },
      "source": [
        "Приступим.  \n",
        "Сформулируем гипотезы:\n",
        "  \n",
        "  *H₀*: Статистически значимых различий в доли уникальных посетителей, побывавших на этапе воронки **A** и **B** нет.  \n",
        "    \n",
        "*H₁*: Различия в долях уникальных посетителей, побывавших на этапе воронки **A** и **B** статистически значимы."
      ]
    },
    {
      "cell_type": "markdown",
      "metadata": {
        "id": "w8zmaI48wYsX"
      },
      "source": [
        "Напишем и выведем функцию для *Z_test*-а:"
      ]
    },
    {
      "cell_type": "code",
      "execution_count": null,
      "metadata": {
        "scrolled": true,
        "id": "UpaeFSNlwYsX",
        "outputId": "4e0d4e1d-fb4e-4c7b-cf42-f5d8be56719b"
      },
      "outputs": [
        {
          "name": "stdout",
          "output_type": "stream",
          "text": [
            "product_page p-значение: 6.120730626113513e-06\n",
            "Отвергаем нулевую гипотезу: между долями есть значимая разница\n",
            "\n",
            "product_cart p-значение: 0.21721122664962245\n",
            "Не получилось отвергнуть нулевую гипотезу, нет оснований считать доли разными\n",
            "\n",
            "purchase p-значение: 0.048942596376941205\n",
            "Не получилось отвергнуть нулевую гипотезу, нет оснований считать доли разными\n",
            "\n"
          ]
        }
      ],
      "source": [
        "#написание функции\n",
        "def z_test(gr_1, gr_2, alpha):\n",
        "    for i in ab_group_user.index:\n",
        "        p1 = ab_group_user[gr_1][i] / users_test[gr_1]\n",
        "        # пропорция успехов во второй группе:\n",
        "        p2 = ab_group_user[gr_2][i] / users_test[gr_2]\n",
        "        # пропорция успехов в комбинированном датасете:\n",
        "        p_combined = ((ab_group_user[gr_1][i] + ab_group_user[gr_2][i]) / \n",
        "                      (users_test[gr_1] + users_test[gr_2]))\n",
        "        # разница пропорций в датасетах\n",
        "        difference = p1 - p2\n",
        "        # считаем статистику в ст.отклонениях стандартного нормального распределения\n",
        "        z_value = difference / mth.sqrt(p_combined * (1 - p_combined) * (1/users_test[gr_1] + 1/users_test[gr_2]))\n",
        "        # задаем стандартное нормальное распределение (среднее 0, ст.отклонение 1)\n",
        "        distr = st.norm(0, 1) \n",
        "        p_value = (1 - distr.cdf(abs(z_value))) * 2\n",
        "        print('{} p-значение: {}'.format(ab_group_user['event_name'][i], p_value))\n",
        "        if (p_value < alpha):\n",
        "            print(\"Отвергаем нулевую гипотезу: между долями есть значимая разница\")\n",
        "        else:\n",
        "            print(\"Не получилось отвергнуть нулевую гипотезу, нет оснований считать доли разными\")\n",
        "        print('')\n",
        "        \n",
        "z_test(\"A\", \"B\", (0.05/3))\n"
      ]
    },
    {
      "cell_type": "markdown",
      "metadata": {
        "id": "_O_FM9WKwYsX"
      },
      "source": [
        "Таким образом мы провели всего 3 тестов. Отвергли нулевую теорию только в случае с `product_page`, как мы и подметили ранее разница наибольшая именно на этом действии, вот только отрицательная. В двух других тестах отвергнуть нулевую теорию не получилось, поэтому будем считать, что внедрение новой рекомендательной системы оказалось провальным.  \n",
        "При проверки наших гипотез мы рисковали получить ошибку первого рода ( т.е. зафиксировать разницу между группами, когда её на самом деле нет). Мы ограничили вероятность такого события статистическим уровнем значимости: α - 0,05.  \n",
        "Т.к. в данном тесте мы имеем дело с множественной проверкой гипотез, итоги могут привести к увеличению ошибок первого рода. Из-за этого была применена поправка Бонферрони, т.е. мы разделили α на количество тестов и применили полученную величину как уровень статистической значимости."
      ]
    },
    {
      "cell_type": "markdown",
      "metadata": {
        "id": "pA_ml16kwYsX"
      },
      "source": [
        "## Выводы"
      ]
    },
    {
      "cell_type": "markdown",
      "metadata": {
        "id": "mIpJJ4lUwYsY"
      },
      "source": [
        " 1) Техническое задание не было полностью соблюдено. В тест не набралось нужного количества пользователей, в контрольной и тестовой группах большая разница в количестве тестируемых - 34%.  \n",
        " Последние действия тестируемых пользователей заканчиваются 30 декабря 20, когда тест должен был продлиться до 4 января 21. Тут не ясно, пользователи перестали пользоваться нашими услугами или же произошел сбой и потеря данных.  \n",
        " Условие, что аудитория доставляет 15% новых пользователей региона *EU* так же не соблюдается, нам получилось найти их только 6,6% и их не 6 000, как планировалось, а вдвое меньше.  \n",
        "   \n",
        "   2) Наш тест проходил одновременно с другим A/B тестом и они не смогли поделить новых пользователей. Часть пользователей мы отсекли из-за этого, так как не можем знать, что именно на них повлияло наш тест или параллельный.  \n",
        "  Так же, тест умудрились запустить перед новогодними праздниками и пустить в это время рекламную кампанию, посвященную этим событиям. Из-за этого, можно считать, что данные искажены изначально.  \n",
        "   \n",
        "   3) После проведения тестирования, мы пришли к выводу что разница между конверсиями есть только на этапе `product_page` - просмотр карточки продукта, при том она не в пользу группы *B*. Поэтому, ожидаемого эффекта в улучшении не менее, чем на 10%, тут точно нет. Таким образом, внедрение новой рекомендательной системы не зарекомендовало себя с хорошей стороны.  \n",
        "   Считаю, что тест проведен совершенно не корректно, и принимать какие-то решения на его основе, не рекомендую."
      ]
    }
  ],
  "metadata": {
    "ExecuteTimeLog": [
      {
        "duration": 422,
        "start_time": "2022-10-25T19:15:38.639Z"
      },
      {
        "duration": 3,
        "start_time": "2022-10-25T19:16:06.142Z"
      },
      {
        "duration": 56,
        "start_time": "2022-10-25T19:16:18.778Z"
      },
      {
        "duration": 108,
        "start_time": "2022-10-25T19:17:43.804Z"
      },
      {
        "duration": 97,
        "start_time": "2022-10-25T19:18:08.606Z"
      },
      {
        "duration": 710,
        "start_time": "2022-10-25T19:21:54.095Z"
      },
      {
        "duration": 260,
        "start_time": "2022-10-25T19:22:19.382Z"
      },
      {
        "duration": 50,
        "start_time": "2022-10-25T19:22:32.895Z"
      },
      {
        "duration": 101,
        "start_time": "2022-10-25T19:22:49.306Z"
      },
      {
        "duration": 106,
        "start_time": "2022-10-25T19:23:07.747Z"
      },
      {
        "duration": 10,
        "start_time": "2022-10-25T19:23:27.395Z"
      },
      {
        "duration": 9,
        "start_time": "2022-10-25T19:23:36.335Z"
      },
      {
        "duration": 9,
        "start_time": "2022-10-25T19:23:41.456Z"
      },
      {
        "duration": 5,
        "start_time": "2022-10-25T19:24:16.983Z"
      },
      {
        "duration": 22,
        "start_time": "2022-10-25T19:24:33.257Z"
      },
      {
        "duration": 6,
        "start_time": "2022-10-25T19:24:40.395Z"
      },
      {
        "duration": 7,
        "start_time": "2022-10-25T19:24:47.397Z"
      },
      {
        "duration": 13,
        "start_time": "2022-10-25T19:24:53.883Z"
      },
      {
        "duration": 13,
        "start_time": "2022-10-25T19:25:00.569Z"
      },
      {
        "duration": 9,
        "start_time": "2022-10-25T19:26:00.497Z"
      },
      {
        "duration": 40,
        "start_time": "2022-10-25T19:30:03.448Z"
      },
      {
        "duration": 52,
        "start_time": "2022-10-25T19:30:11.085Z"
      },
      {
        "duration": 47,
        "start_time": "2022-10-25T19:30:52.712Z"
      },
      {
        "duration": 50,
        "start_time": "2022-10-25T19:31:00.188Z"
      },
      {
        "duration": 920,
        "start_time": "2022-10-25T19:31:27.933Z"
      },
      {
        "duration": 7,
        "start_time": "2022-10-25T19:31:35.573Z"
      },
      {
        "duration": 7,
        "start_time": "2022-10-25T19:31:43.810Z"
      },
      {
        "duration": 6,
        "start_time": "2022-10-25T19:31:54.350Z"
      },
      {
        "duration": 7,
        "start_time": "2022-10-25T19:32:55.974Z"
      },
      {
        "duration": 33,
        "start_time": "2022-10-25T19:33:04.049Z"
      },
      {
        "duration": 45,
        "start_time": "2022-10-25T19:33:20.974Z"
      },
      {
        "duration": 34,
        "start_time": "2022-10-25T19:33:25.032Z"
      },
      {
        "duration": 14,
        "start_time": "2022-10-25T19:40:39.539Z"
      },
      {
        "duration": 13,
        "start_time": "2022-10-25T19:56:26.935Z"
      },
      {
        "duration": 25,
        "start_time": "2022-10-25T19:56:39.985Z"
      },
      {
        "duration": 12,
        "start_time": "2022-10-25T19:56:42.658Z"
      },
      {
        "duration": 5,
        "start_time": "2022-10-25T20:01:11.524Z"
      },
      {
        "duration": 12,
        "start_time": "2022-10-25T20:01:16.674Z"
      },
      {
        "duration": 12,
        "start_time": "2022-10-25T20:01:33.612Z"
      },
      {
        "duration": 48,
        "start_time": "2022-10-25T20:05:25.900Z"
      },
      {
        "duration": 13,
        "start_time": "2022-10-25T20:05:43.489Z"
      },
      {
        "duration": 26,
        "start_time": "2022-10-25T20:05:51.513Z"
      },
      {
        "duration": 18,
        "start_time": "2022-10-25T20:05:52.665Z"
      },
      {
        "duration": 26,
        "start_time": "2022-10-25T20:08:44.936Z"
      },
      {
        "duration": 7,
        "start_time": "2022-10-25T20:11:21.304Z"
      },
      {
        "duration": 641,
        "start_time": "2022-10-25T20:11:36.498Z"
      },
      {
        "duration": 6,
        "start_time": "2022-10-25T20:12:19.357Z"
      },
      {
        "duration": 5,
        "start_time": "2022-10-25T20:12:30.661Z"
      },
      {
        "duration": 13,
        "start_time": "2022-10-25T20:15:27.031Z"
      },
      {
        "duration": 4,
        "start_time": "2022-10-25T20:15:53.422Z"
      },
      {
        "duration": 4,
        "start_time": "2022-10-25T20:16:06.531Z"
      },
      {
        "duration": 8,
        "start_time": "2022-10-25T20:24:47.750Z"
      },
      {
        "duration": 14,
        "start_time": "2022-10-25T20:31:48.852Z"
      },
      {
        "duration": 318,
        "start_time": "2022-10-25T20:46:48.843Z"
      },
      {
        "duration": 252,
        "start_time": "2022-10-25T20:46:54.678Z"
      },
      {
        "duration": 17,
        "start_time": "2022-10-25T20:47:01.785Z"
      },
      {
        "duration": 32,
        "start_time": "2022-10-25T20:50:13.211Z"
      },
      {
        "duration": 691,
        "start_time": "2022-10-25T20:50:19.376Z"
      },
      {
        "duration": 639,
        "start_time": "2022-10-25T20:50:36.112Z"
      },
      {
        "duration": 392,
        "start_time": "2022-10-25T20:51:06.925Z"
      },
      {
        "duration": 4,
        "start_time": "2022-10-25T20:51:07.321Z"
      },
      {
        "duration": 81,
        "start_time": "2022-10-25T20:51:07.326Z"
      },
      {
        "duration": 633,
        "start_time": "2022-10-25T20:51:07.409Z"
      },
      {
        "duration": 93,
        "start_time": "2022-10-25T20:51:08.045Z"
      },
      {
        "duration": 48,
        "start_time": "2022-10-25T20:51:08.140Z"
      },
      {
        "duration": 157,
        "start_time": "2022-10-25T20:51:08.190Z"
      },
      {
        "duration": 14,
        "start_time": "2022-10-25T20:51:08.348Z"
      },
      {
        "duration": 19,
        "start_time": "2022-10-25T20:51:08.365Z"
      },
      {
        "duration": 27,
        "start_time": "2022-10-25T20:51:08.386Z"
      },
      {
        "duration": 19,
        "start_time": "2022-10-25T20:51:08.415Z"
      },
      {
        "duration": 28,
        "start_time": "2022-10-25T20:51:08.436Z"
      },
      {
        "duration": 55,
        "start_time": "2022-10-25T20:51:08.466Z"
      },
      {
        "duration": 6,
        "start_time": "2022-10-25T20:51:08.525Z"
      },
      {
        "duration": 33,
        "start_time": "2022-10-25T20:51:08.532Z"
      },
      {
        "duration": 15,
        "start_time": "2022-10-25T20:51:08.567Z"
      },
      {
        "duration": 23,
        "start_time": "2022-10-25T20:51:08.584Z"
      },
      {
        "duration": 35,
        "start_time": "2022-10-25T20:51:08.609Z"
      },
      {
        "duration": 25,
        "start_time": "2022-10-25T20:51:08.646Z"
      },
      {
        "duration": 30,
        "start_time": "2022-10-25T20:51:08.673Z"
      },
      {
        "duration": 64,
        "start_time": "2022-10-25T20:51:08.704Z"
      },
      {
        "duration": 7,
        "start_time": "2022-10-25T20:51:08.769Z"
      },
      {
        "duration": 22,
        "start_time": "2022-10-25T20:51:08.778Z"
      },
      {
        "duration": 56,
        "start_time": "2022-10-25T20:51:08.802Z"
      },
      {
        "duration": 50,
        "start_time": "2022-10-25T20:51:08.861Z"
      },
      {
        "duration": 29,
        "start_time": "2022-10-25T20:51:08.913Z"
      },
      {
        "duration": 9,
        "start_time": "2022-10-25T20:51:08.944Z"
      },
      {
        "duration": 52,
        "start_time": "2022-10-25T20:51:08.955Z"
      },
      {
        "duration": 39,
        "start_time": "2022-10-25T20:51:09.009Z"
      },
      {
        "duration": 55,
        "start_time": "2022-10-25T20:51:09.050Z"
      },
      {
        "duration": 338,
        "start_time": "2022-10-25T20:51:09.107Z"
      },
      {
        "duration": 21,
        "start_time": "2022-10-25T20:51:09.447Z"
      },
      {
        "duration": 28,
        "start_time": "2022-10-25T20:51:09.470Z"
      },
      {
        "duration": 22,
        "start_time": "2022-10-25T20:51:09.500Z"
      },
      {
        "duration": 42,
        "start_time": "2022-10-25T20:51:09.524Z"
      },
      {
        "duration": 72,
        "start_time": "2022-10-25T20:51:09.568Z"
      },
      {
        "duration": 543,
        "start_time": "2022-10-25T20:51:23.365Z"
      },
      {
        "duration": 595,
        "start_time": "2022-10-25T20:52:35.443Z"
      },
      {
        "duration": 531,
        "start_time": "2022-10-25T20:53:25.232Z"
      },
      {
        "duration": 5,
        "start_time": "2022-10-25T20:53:32.979Z"
      },
      {
        "duration": 5,
        "start_time": "2022-10-25T20:53:37.679Z"
      },
      {
        "duration": 262,
        "start_time": "2022-10-25T20:53:39.316Z"
      },
      {
        "duration": 17,
        "start_time": "2022-10-25T20:53:40.554Z"
      },
      {
        "duration": 6,
        "start_time": "2022-10-25T20:53:50.942Z"
      },
      {
        "duration": 6,
        "start_time": "2022-10-25T20:54:02.650Z"
      },
      {
        "duration": 20,
        "start_time": "2022-10-25T20:54:10.778Z"
      },
      {
        "duration": 97,
        "start_time": "2022-10-25T20:54:49.254Z"
      },
      {
        "duration": 19,
        "start_time": "2022-10-25T20:54:54.447Z"
      },
      {
        "duration": 12,
        "start_time": "2022-10-25T20:55:30.080Z"
      },
      {
        "duration": 28,
        "start_time": "2022-10-25T20:55:35.204Z"
      },
      {
        "duration": 12,
        "start_time": "2022-10-25T20:55:41.608Z"
      },
      {
        "duration": 6,
        "start_time": "2022-10-25T21:03:36.847Z"
      },
      {
        "duration": 5,
        "start_time": "2022-10-25T21:03:48.609Z"
      },
      {
        "duration": 9,
        "start_time": "2022-10-25T21:08:04.297Z"
      },
      {
        "duration": 15,
        "start_time": "2022-10-25T21:11:18.989Z"
      },
      {
        "duration": 7,
        "start_time": "2022-10-25T21:12:04.287Z"
      },
      {
        "duration": 9,
        "start_time": "2022-10-25T21:12:22.676Z"
      },
      {
        "duration": 10,
        "start_time": "2022-10-25T21:12:48.265Z"
      },
      {
        "duration": 20,
        "start_time": "2022-10-25T21:16:23.887Z"
      },
      {
        "duration": 15,
        "start_time": "2022-10-25T21:16:33.137Z"
      },
      {
        "duration": 18,
        "start_time": "2022-10-25T21:16:41.198Z"
      },
      {
        "duration": 13,
        "start_time": "2022-10-25T21:16:44.536Z"
      },
      {
        "duration": 21,
        "start_time": "2022-10-25T21:16:48.136Z"
      },
      {
        "duration": 12,
        "start_time": "2022-10-25T21:16:50.850Z"
      },
      {
        "duration": 427,
        "start_time": "2022-10-25T21:16:58.842Z"
      },
      {
        "duration": 3,
        "start_time": "2022-10-25T21:16:59.271Z"
      },
      {
        "duration": 53,
        "start_time": "2022-10-25T21:16:59.275Z"
      },
      {
        "duration": 558,
        "start_time": "2022-10-25T21:16:59.330Z"
      },
      {
        "duration": 93,
        "start_time": "2022-10-25T21:16:59.890Z"
      },
      {
        "duration": 49,
        "start_time": "2022-10-25T21:16:59.985Z"
      },
      {
        "duration": 124,
        "start_time": "2022-10-25T21:17:00.036Z"
      },
      {
        "duration": 13,
        "start_time": "2022-10-25T21:17:00.162Z"
      },
      {
        "duration": 12,
        "start_time": "2022-10-25T21:17:00.176Z"
      },
      {
        "duration": 39,
        "start_time": "2022-10-25T21:17:00.192Z"
      },
      {
        "duration": 28,
        "start_time": "2022-10-25T21:17:00.232Z"
      },
      {
        "duration": 28,
        "start_time": "2022-10-25T21:17:00.262Z"
      },
      {
        "duration": 61,
        "start_time": "2022-10-25T21:17:00.292Z"
      },
      {
        "duration": 40,
        "start_time": "2022-10-25T21:17:00.355Z"
      },
      {
        "duration": 51,
        "start_time": "2022-10-25T21:17:00.396Z"
      },
      {
        "duration": 29,
        "start_time": "2022-10-25T21:17:00.449Z"
      },
      {
        "duration": 55,
        "start_time": "2022-10-25T21:17:00.480Z"
      },
      {
        "duration": 69,
        "start_time": "2022-10-25T21:17:00.537Z"
      },
      {
        "duration": 62,
        "start_time": "2022-10-25T21:17:00.609Z"
      },
      {
        "duration": 34,
        "start_time": "2022-10-25T21:17:00.673Z"
      },
      {
        "duration": 95,
        "start_time": "2022-10-25T21:17:00.710Z"
      },
      {
        "duration": 6,
        "start_time": "2022-10-25T21:17:00.807Z"
      },
      {
        "duration": 44,
        "start_time": "2022-10-25T21:17:00.814Z"
      },
      {
        "duration": 53,
        "start_time": "2022-10-25T21:17:00.860Z"
      },
      {
        "duration": 47,
        "start_time": "2022-10-25T21:17:00.915Z"
      },
      {
        "duration": 45,
        "start_time": "2022-10-25T21:17:00.964Z"
      },
      {
        "duration": 27,
        "start_time": "2022-10-25T21:17:01.011Z"
      },
      {
        "duration": 24,
        "start_time": "2022-10-25T21:17:01.041Z"
      },
      {
        "duration": 8,
        "start_time": "2022-10-25T21:17:01.067Z"
      },
      {
        "duration": 7,
        "start_time": "2022-10-25T21:17:01.077Z"
      },
      {
        "duration": 304,
        "start_time": "2022-10-25T21:17:01.086Z"
      },
      {
        "duration": 19,
        "start_time": "2022-10-25T21:17:01.391Z"
      },
      {
        "duration": 134,
        "start_time": "2022-10-25T21:17:01.420Z"
      },
      {
        "duration": 6,
        "start_time": "2022-10-25T21:17:01.555Z"
      },
      {
        "duration": 10,
        "start_time": "2022-10-25T21:17:01.562Z"
      },
      {
        "duration": 25,
        "start_time": "2022-10-25T21:17:01.574Z"
      },
      {
        "duration": 14,
        "start_time": "2022-10-25T21:17:01.601Z"
      },
      {
        "duration": 39,
        "start_time": "2022-10-25T21:17:01.617Z"
      },
      {
        "duration": 14,
        "start_time": "2022-10-25T21:17:01.657Z"
      },
      {
        "duration": 92,
        "start_time": "2022-10-25T21:17:01.673Z"
      },
      {
        "duration": 28,
        "start_time": "2022-10-25T21:18:17.839Z"
      },
      {
        "duration": 7,
        "start_time": "2022-10-25T21:20:04.462Z"
      },
      {
        "duration": 21,
        "start_time": "2022-10-25T21:20:23.872Z"
      },
      {
        "duration": 10,
        "start_time": "2022-10-25T21:21:26.744Z"
      },
      {
        "duration": 11,
        "start_time": "2022-10-25T21:22:20.274Z"
      },
      {
        "duration": 84,
        "start_time": "2022-10-25T21:37:07.781Z"
      },
      {
        "duration": 25,
        "start_time": "2022-10-25T21:37:38.837Z"
      },
      {
        "duration": 9,
        "start_time": "2022-10-25T21:40:01.037Z"
      },
      {
        "duration": 902,
        "start_time": "2022-10-25T21:40:41.307Z"
      },
      {
        "duration": 56,
        "start_time": "2022-10-25T21:40:47.733Z"
      },
      {
        "duration": 30,
        "start_time": "2022-10-25T21:43:52.834Z"
      },
      {
        "duration": 16,
        "start_time": "2022-10-25T21:44:32.471Z"
      },
      {
        "duration": 3714,
        "start_time": "2022-10-25T21:53:05.475Z"
      },
      {
        "duration": 1116,
        "start_time": "2022-10-25T21:54:03.554Z"
      },
      {
        "duration": 3,
        "start_time": "2022-10-25T21:54:04.671Z"
      },
      {
        "duration": 63,
        "start_time": "2022-10-25T21:54:04.676Z"
      },
      {
        "duration": 540,
        "start_time": "2022-10-25T21:54:04.741Z"
      },
      {
        "duration": 95,
        "start_time": "2022-10-25T21:54:05.283Z"
      },
      {
        "duration": 42,
        "start_time": "2022-10-25T21:54:05.380Z"
      },
      {
        "duration": 130,
        "start_time": "2022-10-25T21:54:05.424Z"
      },
      {
        "duration": 18,
        "start_time": "2022-10-25T21:54:05.556Z"
      },
      {
        "duration": 15,
        "start_time": "2022-10-25T21:54:05.575Z"
      },
      {
        "duration": 10,
        "start_time": "2022-10-25T21:54:05.591Z"
      },
      {
        "duration": 37,
        "start_time": "2022-10-25T21:54:05.603Z"
      },
      {
        "duration": 17,
        "start_time": "2022-10-25T21:54:05.642Z"
      },
      {
        "duration": 29,
        "start_time": "2022-10-25T21:54:05.661Z"
      },
      {
        "duration": 6,
        "start_time": "2022-10-25T21:54:05.695Z"
      },
      {
        "duration": 23,
        "start_time": "2022-10-25T21:54:05.702Z"
      },
      {
        "duration": 19,
        "start_time": "2022-10-25T21:54:05.727Z"
      },
      {
        "duration": 10,
        "start_time": "2022-10-25T21:54:05.747Z"
      },
      {
        "duration": 14,
        "start_time": "2022-10-25T21:54:05.758Z"
      },
      {
        "duration": 13,
        "start_time": "2022-10-25T21:54:05.773Z"
      },
      {
        "duration": 9,
        "start_time": "2022-10-25T21:54:05.788Z"
      },
      {
        "duration": 72,
        "start_time": "2022-10-25T21:54:05.798Z"
      },
      {
        "duration": 7,
        "start_time": "2022-10-25T21:54:05.872Z"
      },
      {
        "duration": 8,
        "start_time": "2022-10-25T21:54:05.880Z"
      },
      {
        "duration": 43,
        "start_time": "2022-10-25T21:54:05.890Z"
      },
      {
        "duration": 13,
        "start_time": "2022-10-25T21:54:05.935Z"
      },
      {
        "duration": 13,
        "start_time": "2022-10-25T21:54:05.950Z"
      },
      {
        "duration": 7,
        "start_time": "2022-10-25T21:54:05.965Z"
      },
      {
        "duration": 13,
        "start_time": "2022-10-25T21:54:05.974Z"
      },
      {
        "duration": 8,
        "start_time": "2022-10-25T21:54:05.989Z"
      },
      {
        "duration": 23,
        "start_time": "2022-10-25T21:54:05.999Z"
      },
      {
        "duration": 283,
        "start_time": "2022-10-25T21:54:06.024Z"
      },
      {
        "duration": 26,
        "start_time": "2022-10-25T21:54:06.308Z"
      },
      {
        "duration": 131,
        "start_time": "2022-10-25T21:54:06.335Z"
      },
      {
        "duration": 4,
        "start_time": "2022-10-25T21:54:06.468Z"
      },
      {
        "duration": 7,
        "start_time": "2022-10-25T21:54:06.474Z"
      },
      {
        "duration": 11,
        "start_time": "2022-10-25T21:54:06.483Z"
      },
      {
        "duration": 9,
        "start_time": "2022-10-25T21:54:06.495Z"
      },
      {
        "duration": 41,
        "start_time": "2022-10-25T21:54:06.506Z"
      },
      {
        "duration": 18,
        "start_time": "2022-10-25T21:54:06.548Z"
      },
      {
        "duration": 22,
        "start_time": "2022-10-25T21:54:06.568Z"
      },
      {
        "duration": 3474,
        "start_time": "2022-10-25T21:54:06.594Z"
      },
      {
        "duration": 271,
        "start_time": "2022-10-25T21:54:10.070Z"
      },
      {
        "duration": 14,
        "start_time": "2022-10-25T21:54:10.342Z"
      },
      {
        "duration": 619,
        "start_time": "2022-10-25T21:55:41.250Z"
      },
      {
        "duration": 604,
        "start_time": "2022-10-25T21:55:49.664Z"
      },
      {
        "duration": 1133,
        "start_time": "2022-10-25T21:56:07.008Z"
      },
      {
        "duration": 3,
        "start_time": "2022-10-25T21:56:08.143Z"
      },
      {
        "duration": 57,
        "start_time": "2022-10-25T21:56:08.148Z"
      },
      {
        "duration": 557,
        "start_time": "2022-10-25T21:56:08.206Z"
      },
      {
        "duration": 119,
        "start_time": "2022-10-25T21:56:08.765Z"
      },
      {
        "duration": 50,
        "start_time": "2022-10-25T21:56:08.887Z"
      },
      {
        "duration": 141,
        "start_time": "2022-10-25T21:56:08.939Z"
      },
      {
        "duration": 13,
        "start_time": "2022-10-25T21:56:09.083Z"
      },
      {
        "duration": 28,
        "start_time": "2022-10-25T21:56:09.098Z"
      },
      {
        "duration": 19,
        "start_time": "2022-10-25T21:56:09.128Z"
      },
      {
        "duration": 4,
        "start_time": "2022-10-25T21:56:09.149Z"
      },
      {
        "duration": 7,
        "start_time": "2022-10-25T21:56:09.155Z"
      },
      {
        "duration": 29,
        "start_time": "2022-10-25T21:56:09.164Z"
      },
      {
        "duration": 5,
        "start_time": "2022-10-25T21:56:09.195Z"
      },
      {
        "duration": 31,
        "start_time": "2022-10-25T21:56:09.201Z"
      },
      {
        "duration": 10,
        "start_time": "2022-10-25T21:56:09.233Z"
      },
      {
        "duration": 8,
        "start_time": "2022-10-25T21:56:09.244Z"
      },
      {
        "duration": 12,
        "start_time": "2022-10-25T21:56:09.254Z"
      },
      {
        "duration": 12,
        "start_time": "2022-10-25T21:56:09.268Z"
      },
      {
        "duration": 8,
        "start_time": "2022-10-25T21:56:09.282Z"
      },
      {
        "duration": 56,
        "start_time": "2022-10-25T21:56:09.321Z"
      },
      {
        "duration": 5,
        "start_time": "2022-10-25T21:56:09.379Z"
      },
      {
        "duration": 9,
        "start_time": "2022-10-25T21:56:09.386Z"
      },
      {
        "duration": 46,
        "start_time": "2022-10-25T21:56:09.397Z"
      },
      {
        "duration": 13,
        "start_time": "2022-10-25T21:56:09.444Z"
      },
      {
        "duration": 12,
        "start_time": "2022-10-25T21:56:09.459Z"
      },
      {
        "duration": 9,
        "start_time": "2022-10-25T21:56:09.473Z"
      },
      {
        "duration": 25,
        "start_time": "2022-10-25T21:56:09.483Z"
      },
      {
        "duration": 8,
        "start_time": "2022-10-25T21:56:09.512Z"
      },
      {
        "duration": 14,
        "start_time": "2022-10-25T21:56:09.524Z"
      },
      {
        "duration": 276,
        "start_time": "2022-10-25T21:56:09.540Z"
      },
      {
        "duration": 24,
        "start_time": "2022-10-25T21:56:09.817Z"
      },
      {
        "duration": 170,
        "start_time": "2022-10-25T21:56:09.843Z"
      },
      {
        "duration": 7,
        "start_time": "2022-10-25T21:56:10.014Z"
      },
      {
        "duration": 31,
        "start_time": "2022-10-25T21:56:10.023Z"
      },
      {
        "duration": 17,
        "start_time": "2022-10-25T21:56:10.056Z"
      },
      {
        "duration": 11,
        "start_time": "2022-10-25T21:56:10.074Z"
      },
      {
        "duration": 15,
        "start_time": "2022-10-25T21:56:10.087Z"
      },
      {
        "duration": 14,
        "start_time": "2022-10-25T21:56:10.104Z"
      },
      {
        "duration": 38,
        "start_time": "2022-10-25T21:56:10.120Z"
      },
      {
        "duration": 3419,
        "start_time": "2022-10-25T21:56:10.162Z"
      },
      {
        "duration": 858,
        "start_time": "2022-10-25T21:56:13.583Z"
      },
      {
        "duration": 42,
        "start_time": "2022-10-25T21:56:14.443Z"
      },
      {
        "duration": 13,
        "start_time": "2022-10-25T21:56:14.487Z"
      },
      {
        "duration": 677,
        "start_time": "2022-10-25T21:56:42.439Z"
      },
      {
        "duration": 1176,
        "start_time": "2022-10-25T21:57:02.305Z"
      },
      {
        "duration": 4,
        "start_time": "2022-10-25T21:57:03.483Z"
      },
      {
        "duration": 57,
        "start_time": "2022-10-25T21:57:03.490Z"
      },
      {
        "duration": 579,
        "start_time": "2022-10-25T21:57:03.549Z"
      },
      {
        "duration": 90,
        "start_time": "2022-10-25T21:57:04.130Z"
      },
      {
        "duration": 53,
        "start_time": "2022-10-25T21:57:04.222Z"
      },
      {
        "duration": 114,
        "start_time": "2022-10-25T21:57:04.277Z"
      },
      {
        "duration": 27,
        "start_time": "2022-10-25T21:57:04.394Z"
      },
      {
        "duration": 12,
        "start_time": "2022-10-25T21:57:04.423Z"
      },
      {
        "duration": 20,
        "start_time": "2022-10-25T21:57:04.437Z"
      },
      {
        "duration": 5,
        "start_time": "2022-10-25T21:57:04.459Z"
      },
      {
        "duration": 8,
        "start_time": "2022-10-25T21:57:04.466Z"
      },
      {
        "duration": 68,
        "start_time": "2022-10-25T21:57:04.476Z"
      },
      {
        "duration": 6,
        "start_time": "2022-10-25T21:57:04.546Z"
      },
      {
        "duration": 23,
        "start_time": "2022-10-25T21:57:04.553Z"
      },
      {
        "duration": 7,
        "start_time": "2022-10-25T21:57:04.578Z"
      },
      {
        "duration": 13,
        "start_time": "2022-10-25T21:57:04.587Z"
      },
      {
        "duration": 29,
        "start_time": "2022-10-25T21:57:04.603Z"
      },
      {
        "duration": 15,
        "start_time": "2022-10-25T21:57:04.634Z"
      },
      {
        "duration": 12,
        "start_time": "2022-10-25T21:57:04.651Z"
      },
      {
        "duration": 77,
        "start_time": "2022-10-25T21:57:04.665Z"
      },
      {
        "duration": 5,
        "start_time": "2022-10-25T21:57:04.744Z"
      },
      {
        "duration": 12,
        "start_time": "2022-10-25T21:57:04.751Z"
      },
      {
        "duration": 30,
        "start_time": "2022-10-25T21:57:04.765Z"
      },
      {
        "duration": 35,
        "start_time": "2022-10-25T21:57:04.797Z"
      },
      {
        "duration": 11,
        "start_time": "2022-10-25T21:57:04.834Z"
      },
      {
        "duration": 14,
        "start_time": "2022-10-25T21:57:04.846Z"
      },
      {
        "duration": 20,
        "start_time": "2022-10-25T21:57:04.867Z"
      },
      {
        "duration": 34,
        "start_time": "2022-10-25T21:57:04.890Z"
      },
      {
        "duration": 24,
        "start_time": "2022-10-25T21:57:04.927Z"
      },
      {
        "duration": 292,
        "start_time": "2022-10-25T21:57:04.954Z"
      },
      {
        "duration": 20,
        "start_time": "2022-10-25T21:57:05.248Z"
      },
      {
        "duration": 144,
        "start_time": "2022-10-25T21:57:05.270Z"
      },
      {
        "duration": 8,
        "start_time": "2022-10-25T21:57:05.416Z"
      },
      {
        "duration": 30,
        "start_time": "2022-10-25T21:57:05.426Z"
      },
      {
        "duration": 25,
        "start_time": "2022-10-25T21:57:05.458Z"
      },
      {
        "duration": 32,
        "start_time": "2022-10-25T21:57:05.485Z"
      },
      {
        "duration": 29,
        "start_time": "2022-10-25T21:57:05.519Z"
      },
      {
        "duration": 30,
        "start_time": "2022-10-25T21:57:05.549Z"
      },
      {
        "duration": 52,
        "start_time": "2022-10-25T21:57:05.580Z"
      },
      {
        "duration": 3545,
        "start_time": "2022-10-25T21:57:05.634Z"
      },
      {
        "duration": 818,
        "start_time": "2022-10-25T21:57:09.180Z"
      },
      {
        "duration": 46,
        "start_time": "2022-10-25T21:57:10.000Z"
      },
      {
        "duration": 22,
        "start_time": "2022-10-25T21:57:10.048Z"
      },
      {
        "duration": 677,
        "start_time": "2022-10-25T21:57:10.073Z"
      },
      {
        "duration": 131,
        "start_time": "2022-10-25T21:59:57.616Z"
      },
      {
        "duration": 40,
        "start_time": "2022-10-25T22:00:02.240Z"
      },
      {
        "duration": 1065,
        "start_time": "2022-10-25T22:00:40.056Z"
      },
      {
        "duration": 10,
        "start_time": "2022-10-25T22:00:41.124Z"
      },
      {
        "duration": 55,
        "start_time": "2022-10-25T22:00:41.137Z"
      },
      {
        "duration": 571,
        "start_time": "2022-10-25T22:00:41.193Z"
      },
      {
        "duration": 89,
        "start_time": "2022-10-25T22:00:41.766Z"
      },
      {
        "duration": 38,
        "start_time": "2022-10-25T22:00:41.857Z"
      },
      {
        "duration": 128,
        "start_time": "2022-10-25T22:00:41.897Z"
      },
      {
        "duration": 13,
        "start_time": "2022-10-25T22:00:42.026Z"
      },
      {
        "duration": 13,
        "start_time": "2022-10-25T22:00:42.040Z"
      },
      {
        "duration": 6,
        "start_time": "2022-10-25T22:00:42.055Z"
      },
      {
        "duration": 4,
        "start_time": "2022-10-25T22:00:42.063Z"
      },
      {
        "duration": 6,
        "start_time": "2022-10-25T22:00:42.068Z"
      },
      {
        "duration": 61,
        "start_time": "2022-10-25T22:00:42.075Z"
      },
      {
        "duration": 4,
        "start_time": "2022-10-25T22:00:42.140Z"
      },
      {
        "duration": 24,
        "start_time": "2022-10-25T22:00:42.146Z"
      },
      {
        "duration": 6,
        "start_time": "2022-10-25T22:00:42.172Z"
      },
      {
        "duration": 8,
        "start_time": "2022-10-25T22:00:42.179Z"
      },
      {
        "duration": 33,
        "start_time": "2022-10-25T22:00:42.189Z"
      },
      {
        "duration": 18,
        "start_time": "2022-10-25T22:00:42.224Z"
      },
      {
        "duration": 12,
        "start_time": "2022-10-25T22:00:42.244Z"
      },
      {
        "duration": 68,
        "start_time": "2022-10-25T22:00:42.257Z"
      },
      {
        "duration": 9,
        "start_time": "2022-10-25T22:00:42.328Z"
      },
      {
        "duration": 11,
        "start_time": "2022-10-25T22:00:42.338Z"
      },
      {
        "duration": 35,
        "start_time": "2022-10-25T22:00:42.351Z"
      },
      {
        "duration": 32,
        "start_time": "2022-10-25T22:00:42.388Z"
      },
      {
        "duration": 15,
        "start_time": "2022-10-25T22:00:42.422Z"
      },
      {
        "duration": 10,
        "start_time": "2022-10-25T22:00:42.438Z"
      },
      {
        "duration": 15,
        "start_time": "2022-10-25T22:00:42.450Z"
      },
      {
        "duration": 5,
        "start_time": "2022-10-25T22:00:42.466Z"
      },
      {
        "duration": 14,
        "start_time": "2022-10-25T22:00:42.472Z"
      },
      {
        "duration": 297,
        "start_time": "2022-10-25T22:00:42.488Z"
      },
      {
        "duration": 19,
        "start_time": "2022-10-25T22:00:42.786Z"
      },
      {
        "duration": 140,
        "start_time": "2022-10-25T22:00:42.807Z"
      },
      {
        "duration": 5,
        "start_time": "2022-10-25T22:00:42.949Z"
      },
      {
        "duration": 10,
        "start_time": "2022-10-25T22:00:42.955Z"
      },
      {
        "duration": 12,
        "start_time": "2022-10-25T22:00:42.967Z"
      },
      {
        "duration": 13,
        "start_time": "2022-10-25T22:00:42.981Z"
      },
      {
        "duration": 27,
        "start_time": "2022-10-25T22:00:42.996Z"
      },
      {
        "duration": 26,
        "start_time": "2022-10-25T22:00:43.025Z"
      },
      {
        "duration": 29,
        "start_time": "2022-10-25T22:00:43.052Z"
      },
      {
        "duration": 3502,
        "start_time": "2022-10-25T22:00:43.084Z"
      },
      {
        "duration": 867,
        "start_time": "2022-10-25T22:00:46.588Z"
      },
      {
        "duration": 40,
        "start_time": "2022-10-25T22:00:47.457Z"
      },
      {
        "duration": 29,
        "start_time": "2022-10-25T22:00:47.499Z"
      },
      {
        "duration": 637,
        "start_time": "2022-10-25T22:00:47.530Z"
      },
      {
        "duration": 126,
        "start_time": "2022-10-25T22:03:00.545Z"
      },
      {
        "duration": 20,
        "start_time": "2022-10-25T22:03:27.206Z"
      },
      {
        "duration": 14,
        "start_time": "2022-10-25T22:03:55.208Z"
      },
      {
        "duration": 15,
        "start_time": "2022-10-25T22:03:58.519Z"
      },
      {
        "duration": 11,
        "start_time": "2022-10-25T22:04:45.508Z"
      },
      {
        "duration": 8,
        "start_time": "2022-10-25T22:04:52.182Z"
      },
      {
        "duration": 1219,
        "start_time": "2022-10-25T22:04:58.393Z"
      },
      {
        "duration": 7,
        "start_time": "2022-10-25T22:04:59.614Z"
      },
      {
        "duration": 65,
        "start_time": "2022-10-25T22:04:59.623Z"
      },
      {
        "duration": 585,
        "start_time": "2022-10-25T22:04:59.691Z"
      },
      {
        "duration": 92,
        "start_time": "2022-10-25T22:05:00.278Z"
      },
      {
        "duration": 42,
        "start_time": "2022-10-25T22:05:00.372Z"
      },
      {
        "duration": 125,
        "start_time": "2022-10-25T22:05:00.415Z"
      },
      {
        "duration": 12,
        "start_time": "2022-10-25T22:05:00.542Z"
      },
      {
        "duration": 31,
        "start_time": "2022-10-25T22:05:00.555Z"
      },
      {
        "duration": 62,
        "start_time": "2022-10-25T22:05:00.588Z"
      },
      {
        "duration": 38,
        "start_time": "2022-10-25T22:05:00.651Z"
      },
      {
        "duration": 52,
        "start_time": "2022-10-25T22:05:00.691Z"
      },
      {
        "duration": 58,
        "start_time": "2022-10-25T22:05:00.745Z"
      },
      {
        "duration": 63,
        "start_time": "2022-10-25T22:05:00.805Z"
      },
      {
        "duration": 82,
        "start_time": "2022-10-25T22:05:00.869Z"
      },
      {
        "duration": 41,
        "start_time": "2022-10-25T22:05:00.953Z"
      },
      {
        "duration": 23,
        "start_time": "2022-10-25T22:05:00.995Z"
      },
      {
        "duration": 52,
        "start_time": "2022-10-25T22:05:01.019Z"
      },
      {
        "duration": 20,
        "start_time": "2022-10-25T22:05:01.072Z"
      },
      {
        "duration": 23,
        "start_time": "2022-10-25T22:05:01.093Z"
      },
      {
        "duration": 66,
        "start_time": "2022-10-25T22:05:01.118Z"
      },
      {
        "duration": 6,
        "start_time": "2022-10-25T22:05:01.185Z"
      },
      {
        "duration": 44,
        "start_time": "2022-10-25T22:05:01.192Z"
      },
      {
        "duration": 66,
        "start_time": "2022-10-25T22:05:01.238Z"
      },
      {
        "duration": 21,
        "start_time": "2022-10-25T22:05:01.305Z"
      },
      {
        "duration": 27,
        "start_time": "2022-10-25T22:05:01.328Z"
      },
      {
        "duration": 6,
        "start_time": "2022-10-25T22:05:01.356Z"
      },
      {
        "duration": 18,
        "start_time": "2022-10-25T22:05:01.365Z"
      },
      {
        "duration": 13,
        "start_time": "2022-10-25T22:05:01.385Z"
      },
      {
        "duration": 16,
        "start_time": "2022-10-25T22:05:01.399Z"
      },
      {
        "duration": 289,
        "start_time": "2022-10-25T22:05:01.417Z"
      },
      {
        "duration": 27,
        "start_time": "2022-10-25T22:05:01.708Z"
      },
      {
        "duration": 148,
        "start_time": "2022-10-25T22:05:01.737Z"
      },
      {
        "duration": 11,
        "start_time": "2022-10-25T22:05:01.887Z"
      },
      {
        "duration": 49,
        "start_time": "2022-10-25T22:05:01.900Z"
      },
      {
        "duration": 21,
        "start_time": "2022-10-25T22:05:01.950Z"
      },
      {
        "duration": 25,
        "start_time": "2022-10-25T22:05:01.972Z"
      },
      {
        "duration": 53,
        "start_time": "2022-10-25T22:05:01.998Z"
      },
      {
        "duration": 37,
        "start_time": "2022-10-25T22:05:02.053Z"
      },
      {
        "duration": 49,
        "start_time": "2022-10-25T22:05:02.092Z"
      },
      {
        "duration": 41,
        "start_time": "2022-10-25T22:05:02.142Z"
      },
      {
        "duration": 3388,
        "start_time": "2022-10-25T22:05:02.184Z"
      },
      {
        "duration": 864,
        "start_time": "2022-10-25T22:05:05.574Z"
      },
      {
        "duration": 40,
        "start_time": "2022-10-25T22:05:06.439Z"
      },
      {
        "duration": 36,
        "start_time": "2022-10-25T22:05:06.480Z"
      },
      {
        "duration": 609,
        "start_time": "2022-10-25T22:05:06.518Z"
      },
      {
        "duration": 142,
        "start_time": "2022-10-25T22:06:38.859Z"
      },
      {
        "duration": 16,
        "start_time": "2022-10-25T22:06:41.911Z"
      },
      {
        "duration": 14,
        "start_time": "2022-10-25T22:07:19.295Z"
      },
      {
        "duration": 1146,
        "start_time": "2022-10-25T22:07:56.922Z"
      },
      {
        "duration": 3,
        "start_time": "2022-10-25T22:07:58.070Z"
      },
      {
        "duration": 49,
        "start_time": "2022-10-25T22:07:58.074Z"
      },
      {
        "duration": 554,
        "start_time": "2022-10-25T22:07:58.124Z"
      },
      {
        "duration": 87,
        "start_time": "2022-10-25T22:07:58.681Z"
      },
      {
        "duration": 39,
        "start_time": "2022-10-25T22:07:58.770Z"
      },
      {
        "duration": 142,
        "start_time": "2022-10-25T22:07:58.810Z"
      },
      {
        "duration": 18,
        "start_time": "2022-10-25T22:07:58.953Z"
      },
      {
        "duration": 13,
        "start_time": "2022-10-25T22:07:58.973Z"
      },
      {
        "duration": 8,
        "start_time": "2022-10-25T22:07:58.989Z"
      },
      {
        "duration": 6,
        "start_time": "2022-10-25T22:07:59.020Z"
      },
      {
        "duration": 31,
        "start_time": "2022-10-25T22:07:59.027Z"
      },
      {
        "duration": 33,
        "start_time": "2022-10-25T22:07:59.060Z"
      },
      {
        "duration": 5,
        "start_time": "2022-10-25T22:07:59.097Z"
      },
      {
        "duration": 17,
        "start_time": "2022-10-25T22:07:59.103Z"
      },
      {
        "duration": 18,
        "start_time": "2022-10-25T22:07:59.122Z"
      },
      {
        "duration": 8,
        "start_time": "2022-10-25T22:07:59.142Z"
      },
      {
        "duration": 12,
        "start_time": "2022-10-25T22:07:59.152Z"
      },
      {
        "duration": 11,
        "start_time": "2022-10-25T22:07:59.166Z"
      },
      {
        "duration": 8,
        "start_time": "2022-10-25T22:07:59.179Z"
      },
      {
        "duration": 84,
        "start_time": "2022-10-25T22:07:59.189Z"
      },
      {
        "duration": 6,
        "start_time": "2022-10-25T22:07:59.275Z"
      },
      {
        "duration": 9,
        "start_time": "2022-10-25T22:07:59.283Z"
      },
      {
        "duration": 37,
        "start_time": "2022-10-25T22:07:59.294Z"
      },
      {
        "duration": 14,
        "start_time": "2022-10-25T22:07:59.333Z"
      },
      {
        "duration": 11,
        "start_time": "2022-10-25T22:07:59.348Z"
      },
      {
        "duration": 5,
        "start_time": "2022-10-25T22:07:59.360Z"
      },
      {
        "duration": 15,
        "start_time": "2022-10-25T22:07:59.366Z"
      },
      {
        "duration": 4,
        "start_time": "2022-10-25T22:07:59.383Z"
      },
      {
        "duration": 6,
        "start_time": "2022-10-25T22:07:59.388Z"
      },
      {
        "duration": 309,
        "start_time": "2022-10-25T22:07:59.395Z"
      },
      {
        "duration": 26,
        "start_time": "2022-10-25T22:07:59.705Z"
      },
      {
        "duration": 131,
        "start_time": "2022-10-25T22:07:59.733Z"
      },
      {
        "duration": 12,
        "start_time": "2022-10-25T22:07:59.866Z"
      },
      {
        "duration": 24,
        "start_time": "2022-10-25T22:07:59.880Z"
      },
      {
        "duration": 44,
        "start_time": "2022-10-25T22:07:59.906Z"
      },
      {
        "duration": 27,
        "start_time": "2022-10-25T22:07:59.952Z"
      },
      {
        "duration": 28,
        "start_time": "2022-10-25T22:07:59.982Z"
      },
      {
        "duration": 73,
        "start_time": "2022-10-25T22:08:00.012Z"
      },
      {
        "duration": 32,
        "start_time": "2022-10-25T22:08:00.086Z"
      },
      {
        "duration": 56,
        "start_time": "2022-10-25T22:08:00.122Z"
      },
      {
        "duration": 3402,
        "start_time": "2022-10-25T22:08:00.181Z"
      },
      {
        "duration": 862,
        "start_time": "2022-10-25T22:08:03.584Z"
      },
      {
        "duration": 47,
        "start_time": "2022-10-25T22:08:04.448Z"
      },
      {
        "duration": 33,
        "start_time": "2022-10-25T22:08:04.497Z"
      },
      {
        "duration": 631,
        "start_time": "2022-10-25T22:08:04.532Z"
      },
      {
        "duration": 6,
        "start_time": "2022-10-25T22:10:55.095Z"
      },
      {
        "duration": 28,
        "start_time": "2022-10-25T22:10:59.607Z"
      },
      {
        "duration": 29,
        "start_time": "2022-10-25T22:11:17.808Z"
      },
      {
        "duration": 682,
        "start_time": "2022-10-25T22:11:45.960Z"
      },
      {
        "duration": 95,
        "start_time": "2022-10-25T22:12:06.070Z"
      },
      {
        "duration": 609,
        "start_time": "2022-10-25T22:12:12.683Z"
      },
      {
        "duration": 9,
        "start_time": "2022-10-25T22:12:24.546Z"
      },
      {
        "duration": 22,
        "start_time": "2022-10-25T22:12:27.784Z"
      },
      {
        "duration": 706,
        "start_time": "2022-10-25T22:12:29.219Z"
      },
      {
        "duration": 7,
        "start_time": "2022-10-25T22:16:28.861Z"
      },
      {
        "duration": 302,
        "start_time": "2022-10-25T22:17:32.947Z"
      },
      {
        "duration": 85,
        "start_time": "2022-10-25T22:22:57.660Z"
      },
      {
        "duration": 1493,
        "start_time": "2022-10-26T08:20:00.578Z"
      },
      {
        "duration": 3,
        "start_time": "2022-10-26T08:20:02.074Z"
      },
      {
        "duration": 127,
        "start_time": "2022-10-26T08:20:02.079Z"
      },
      {
        "duration": 1827,
        "start_time": "2022-10-26T08:20:02.208Z"
      },
      {
        "duration": 540,
        "start_time": "2022-10-26T08:20:04.037Z"
      },
      {
        "duration": 133,
        "start_time": "2022-10-26T08:20:04.579Z"
      },
      {
        "duration": 128,
        "start_time": "2022-10-26T08:20:04.714Z"
      },
      {
        "duration": 12,
        "start_time": "2022-10-26T08:20:04.843Z"
      },
      {
        "duration": 13,
        "start_time": "2022-10-26T08:20:04.856Z"
      },
      {
        "duration": 10,
        "start_time": "2022-10-26T08:20:04.872Z"
      },
      {
        "duration": 5,
        "start_time": "2022-10-26T08:20:04.883Z"
      },
      {
        "duration": 34,
        "start_time": "2022-10-26T08:20:04.890Z"
      },
      {
        "duration": 37,
        "start_time": "2022-10-26T08:20:04.926Z"
      },
      {
        "duration": 5,
        "start_time": "2022-10-26T08:20:04.965Z"
      },
      {
        "duration": 16,
        "start_time": "2022-10-26T08:20:04.971Z"
      },
      {
        "duration": 37,
        "start_time": "2022-10-26T08:20:04.988Z"
      },
      {
        "duration": 12,
        "start_time": "2022-10-26T08:20:05.028Z"
      },
      {
        "duration": 13,
        "start_time": "2022-10-26T08:20:05.041Z"
      },
      {
        "duration": 21,
        "start_time": "2022-10-26T08:20:05.055Z"
      },
      {
        "duration": 9,
        "start_time": "2022-10-26T08:20:05.078Z"
      },
      {
        "duration": 87,
        "start_time": "2022-10-26T08:20:05.089Z"
      },
      {
        "duration": 6,
        "start_time": "2022-10-26T08:20:05.178Z"
      },
      {
        "duration": 7,
        "start_time": "2022-10-26T08:20:05.185Z"
      },
      {
        "duration": 47,
        "start_time": "2022-10-26T08:20:05.193Z"
      },
      {
        "duration": 13,
        "start_time": "2022-10-26T08:20:05.242Z"
      },
      {
        "duration": 12,
        "start_time": "2022-10-26T08:20:05.257Z"
      },
      {
        "duration": 4,
        "start_time": "2022-10-26T08:20:05.271Z"
      },
      {
        "duration": 12,
        "start_time": "2022-10-26T08:20:05.278Z"
      },
      {
        "duration": 4,
        "start_time": "2022-10-26T08:20:05.292Z"
      },
      {
        "duration": 9,
        "start_time": "2022-10-26T08:20:05.324Z"
      },
      {
        "duration": 304,
        "start_time": "2022-10-26T08:20:05.335Z"
      },
      {
        "duration": 18,
        "start_time": "2022-10-26T08:20:05.641Z"
      },
      {
        "duration": 145,
        "start_time": "2022-10-26T08:20:05.661Z"
      },
      {
        "duration": 12,
        "start_time": "2022-10-26T08:20:05.808Z"
      },
      {
        "duration": 7,
        "start_time": "2022-10-26T08:20:05.825Z"
      },
      {
        "duration": 6,
        "start_time": "2022-10-26T08:20:05.835Z"
      },
      {
        "duration": 9,
        "start_time": "2022-10-26T08:20:05.843Z"
      },
      {
        "duration": 5,
        "start_time": "2022-10-26T08:20:05.853Z"
      },
      {
        "duration": 10,
        "start_time": "2022-10-26T08:20:05.860Z"
      },
      {
        "duration": 11,
        "start_time": "2022-10-26T08:20:05.872Z"
      },
      {
        "duration": 65,
        "start_time": "2022-10-26T08:20:05.885Z"
      },
      {
        "duration": 711,
        "start_time": "2022-10-26T08:20:05.952Z"
      },
      {
        "duration": 39,
        "start_time": "2022-10-26T08:20:06.664Z"
      },
      {
        "duration": 30,
        "start_time": "2022-10-26T08:20:06.704Z"
      },
      {
        "duration": 701,
        "start_time": "2022-10-26T08:20:06.738Z"
      },
      {
        "duration": 23,
        "start_time": "2022-10-26T08:20:07.441Z"
      },
      {
        "duration": 594,
        "start_time": "2022-10-26T08:20:07.465Z"
      },
      {
        "duration": 207,
        "start_time": "2022-10-26T08:20:08.061Z"
      },
      {
        "duration": 0,
        "start_time": "2022-10-26T08:20:08.270Z"
      },
      {
        "duration": 0,
        "start_time": "2022-10-26T08:20:08.271Z"
      },
      {
        "duration": 24,
        "start_time": "2022-10-26T08:20:38.950Z"
      },
      {
        "duration": 728,
        "start_time": "2022-10-26T08:20:40.980Z"
      },
      {
        "duration": 1255,
        "start_time": "2022-10-26T08:23:08.555Z"
      },
      {
        "duration": 4,
        "start_time": "2022-10-26T08:23:09.812Z"
      },
      {
        "duration": 61,
        "start_time": "2022-10-26T08:23:09.817Z"
      },
      {
        "duration": 630,
        "start_time": "2022-10-26T08:23:09.880Z"
      },
      {
        "duration": 101,
        "start_time": "2022-10-26T08:23:10.512Z"
      },
      {
        "duration": 45,
        "start_time": "2022-10-26T08:23:10.614Z"
      },
      {
        "duration": 122,
        "start_time": "2022-10-26T08:23:10.660Z"
      },
      {
        "duration": 12,
        "start_time": "2022-10-26T08:23:10.784Z"
      },
      {
        "duration": 32,
        "start_time": "2022-10-26T08:23:10.797Z"
      },
      {
        "duration": 12,
        "start_time": "2022-10-26T08:23:10.831Z"
      },
      {
        "duration": 6,
        "start_time": "2022-10-26T08:23:10.845Z"
      },
      {
        "duration": 6,
        "start_time": "2022-10-26T08:23:10.853Z"
      },
      {
        "duration": 31,
        "start_time": "2022-10-26T08:23:10.861Z"
      },
      {
        "duration": 5,
        "start_time": "2022-10-26T08:23:10.925Z"
      },
      {
        "duration": 14,
        "start_time": "2022-10-26T08:23:10.932Z"
      },
      {
        "duration": 10,
        "start_time": "2022-10-26T08:23:10.947Z"
      },
      {
        "duration": 12,
        "start_time": "2022-10-26T08:23:10.959Z"
      },
      {
        "duration": 69,
        "start_time": "2022-10-26T08:23:10.974Z"
      },
      {
        "duration": 15,
        "start_time": "2022-10-26T08:23:11.044Z"
      },
      {
        "duration": 11,
        "start_time": "2022-10-26T08:23:11.061Z"
      },
      {
        "duration": 75,
        "start_time": "2022-10-26T08:23:11.074Z"
      },
      {
        "duration": 8,
        "start_time": "2022-10-26T08:23:11.151Z"
      },
      {
        "duration": 8,
        "start_time": "2022-10-26T08:23:11.161Z"
      },
      {
        "duration": 54,
        "start_time": "2022-10-26T08:23:11.171Z"
      },
      {
        "duration": 15,
        "start_time": "2022-10-26T08:23:11.227Z"
      },
      {
        "duration": 15,
        "start_time": "2022-10-26T08:23:11.244Z"
      },
      {
        "duration": 8,
        "start_time": "2022-10-26T08:23:11.260Z"
      },
      {
        "duration": 13,
        "start_time": "2022-10-26T08:23:11.269Z"
      },
      {
        "duration": 13,
        "start_time": "2022-10-26T08:23:11.283Z"
      },
      {
        "duration": 31,
        "start_time": "2022-10-26T08:23:11.298Z"
      },
      {
        "duration": 355,
        "start_time": "2022-10-26T08:23:11.332Z"
      },
      {
        "duration": 38,
        "start_time": "2022-10-26T08:23:11.689Z"
      },
      {
        "duration": 146,
        "start_time": "2022-10-26T08:23:11.730Z"
      },
      {
        "duration": 17,
        "start_time": "2022-10-26T08:23:11.878Z"
      },
      {
        "duration": 27,
        "start_time": "2022-10-26T08:23:11.897Z"
      },
      {
        "duration": 7,
        "start_time": "2022-10-26T08:23:11.926Z"
      },
      {
        "duration": 12,
        "start_time": "2022-10-26T08:23:11.936Z"
      },
      {
        "duration": 7,
        "start_time": "2022-10-26T08:23:11.951Z"
      },
      {
        "duration": 15,
        "start_time": "2022-10-26T08:23:11.960Z"
      },
      {
        "duration": 56,
        "start_time": "2022-10-26T08:23:11.977Z"
      },
      {
        "duration": 27,
        "start_time": "2022-10-26T08:23:12.039Z"
      },
      {
        "duration": 740,
        "start_time": "2022-10-26T08:23:12.068Z"
      },
      {
        "duration": 56,
        "start_time": "2022-10-26T08:23:12.810Z"
      },
      {
        "duration": 17,
        "start_time": "2022-10-26T08:23:12.868Z"
      },
      {
        "duration": 753,
        "start_time": "2022-10-26T08:23:12.887Z"
      },
      {
        "duration": 25,
        "start_time": "2022-10-26T08:23:13.643Z"
      },
      {
        "duration": 677,
        "start_time": "2022-10-26T08:23:13.670Z"
      },
      {
        "duration": 208,
        "start_time": "2022-10-26T08:23:14.349Z"
      },
      {
        "duration": 0,
        "start_time": "2022-10-26T08:23:14.559Z"
      },
      {
        "duration": 0,
        "start_time": "2022-10-26T08:23:14.560Z"
      },
      {
        "duration": 13,
        "start_time": "2022-10-26T08:38:25.758Z"
      },
      {
        "duration": 11,
        "start_time": "2022-10-26T08:38:52.548Z"
      },
      {
        "duration": 1396,
        "start_time": "2022-10-26T08:40:23.104Z"
      },
      {
        "duration": 3,
        "start_time": "2022-10-26T08:40:24.502Z"
      },
      {
        "duration": 62,
        "start_time": "2022-10-26T08:40:24.507Z"
      },
      {
        "duration": 665,
        "start_time": "2022-10-26T08:40:24.572Z"
      },
      {
        "duration": 112,
        "start_time": "2022-10-26T08:40:25.243Z"
      },
      {
        "duration": 47,
        "start_time": "2022-10-26T08:40:25.357Z"
      },
      {
        "duration": 157,
        "start_time": "2022-10-26T08:40:25.406Z"
      },
      {
        "duration": 12,
        "start_time": "2022-10-26T08:40:25.565Z"
      },
      {
        "duration": 12,
        "start_time": "2022-10-26T08:40:25.580Z"
      },
      {
        "duration": 31,
        "start_time": "2022-10-26T08:40:25.594Z"
      },
      {
        "duration": 8,
        "start_time": "2022-10-26T08:40:25.628Z"
      },
      {
        "duration": 7,
        "start_time": "2022-10-26T08:40:25.639Z"
      },
      {
        "duration": 35,
        "start_time": "2022-10-26T08:40:25.648Z"
      },
      {
        "duration": 41,
        "start_time": "2022-10-26T08:40:25.686Z"
      },
      {
        "duration": 132,
        "start_time": "2022-10-26T08:40:25.730Z"
      },
      {
        "duration": 0,
        "start_time": "2022-10-26T08:40:25.864Z"
      },
      {
        "duration": 0,
        "start_time": "2022-10-26T08:40:25.865Z"
      },
      {
        "duration": 0,
        "start_time": "2022-10-26T08:40:25.866Z"
      },
      {
        "duration": 0,
        "start_time": "2022-10-26T08:40:25.868Z"
      },
      {
        "duration": 0,
        "start_time": "2022-10-26T08:40:25.869Z"
      },
      {
        "duration": 0,
        "start_time": "2022-10-26T08:40:25.871Z"
      },
      {
        "duration": 0,
        "start_time": "2022-10-26T08:40:25.872Z"
      },
      {
        "duration": 0,
        "start_time": "2022-10-26T08:40:25.874Z"
      },
      {
        "duration": 0,
        "start_time": "2022-10-26T08:40:25.875Z"
      },
      {
        "duration": 0,
        "start_time": "2022-10-26T08:40:25.877Z"
      },
      {
        "duration": 0,
        "start_time": "2022-10-26T08:40:25.879Z"
      },
      {
        "duration": 0,
        "start_time": "2022-10-26T08:40:25.880Z"
      },
      {
        "duration": 0,
        "start_time": "2022-10-26T08:40:25.882Z"
      },
      {
        "duration": 0,
        "start_time": "2022-10-26T08:40:25.883Z"
      },
      {
        "duration": 0,
        "start_time": "2022-10-26T08:40:25.885Z"
      },
      {
        "duration": 0,
        "start_time": "2022-10-26T08:40:25.886Z"
      },
      {
        "duration": 0,
        "start_time": "2022-10-26T08:40:25.924Z"
      },
      {
        "duration": 0,
        "start_time": "2022-10-26T08:40:25.926Z"
      },
      {
        "duration": 0,
        "start_time": "2022-10-26T08:40:25.927Z"
      },
      {
        "duration": 0,
        "start_time": "2022-10-26T08:40:25.929Z"
      },
      {
        "duration": 0,
        "start_time": "2022-10-26T08:40:25.931Z"
      },
      {
        "duration": 0,
        "start_time": "2022-10-26T08:40:25.933Z"
      },
      {
        "duration": 0,
        "start_time": "2022-10-26T08:40:25.934Z"
      },
      {
        "duration": 0,
        "start_time": "2022-10-26T08:40:25.936Z"
      },
      {
        "duration": 0,
        "start_time": "2022-10-26T08:40:25.938Z"
      },
      {
        "duration": 0,
        "start_time": "2022-10-26T08:40:25.940Z"
      },
      {
        "duration": 0,
        "start_time": "2022-10-26T08:40:25.943Z"
      },
      {
        "duration": 0,
        "start_time": "2022-10-26T08:40:25.944Z"
      },
      {
        "duration": 0,
        "start_time": "2022-10-26T08:40:25.945Z"
      },
      {
        "duration": 0,
        "start_time": "2022-10-26T08:40:25.947Z"
      },
      {
        "duration": 0,
        "start_time": "2022-10-26T08:40:25.948Z"
      },
      {
        "duration": 0,
        "start_time": "2022-10-26T08:40:25.949Z"
      },
      {
        "duration": 0,
        "start_time": "2022-10-26T08:40:25.950Z"
      },
      {
        "duration": 0,
        "start_time": "2022-10-26T08:40:25.952Z"
      },
      {
        "duration": 0,
        "start_time": "2022-10-26T08:40:25.953Z"
      },
      {
        "duration": 0,
        "start_time": "2022-10-26T08:40:25.955Z"
      },
      {
        "duration": 1293,
        "start_time": "2022-10-26T08:40:48.255Z"
      },
      {
        "duration": 5,
        "start_time": "2022-10-26T08:40:49.551Z"
      },
      {
        "duration": 51,
        "start_time": "2022-10-26T08:40:49.557Z"
      },
      {
        "duration": 672,
        "start_time": "2022-10-26T08:40:49.609Z"
      },
      {
        "duration": 111,
        "start_time": "2022-10-26T08:40:50.284Z"
      },
      {
        "duration": 53,
        "start_time": "2022-10-26T08:40:50.396Z"
      },
      {
        "duration": 126,
        "start_time": "2022-10-26T08:40:50.452Z"
      },
      {
        "duration": 16,
        "start_time": "2022-10-26T08:40:50.580Z"
      },
      {
        "duration": 34,
        "start_time": "2022-10-26T08:40:50.597Z"
      },
      {
        "duration": 11,
        "start_time": "2022-10-26T08:40:50.633Z"
      },
      {
        "duration": 5,
        "start_time": "2022-10-26T08:40:50.646Z"
      },
      {
        "duration": 8,
        "start_time": "2022-10-26T08:40:50.653Z"
      },
      {
        "duration": 86,
        "start_time": "2022-10-26T08:40:50.662Z"
      },
      {
        "duration": 7,
        "start_time": "2022-10-26T08:40:50.753Z"
      },
      {
        "duration": 3,
        "start_time": "2022-10-26T08:40:50.762Z"
      },
      {
        "duration": 74,
        "start_time": "2022-10-26T08:40:50.767Z"
      },
      {
        "duration": 11,
        "start_time": "2022-10-26T08:40:50.844Z"
      },
      {
        "duration": 16,
        "start_time": "2022-10-26T08:40:50.858Z"
      },
      {
        "duration": 27,
        "start_time": "2022-10-26T08:40:50.925Z"
      },
      {
        "duration": 69,
        "start_time": "2022-10-26T08:40:50.955Z"
      },
      {
        "duration": 18,
        "start_time": "2022-10-26T08:40:51.026Z"
      },
      {
        "duration": 113,
        "start_time": "2022-10-26T08:40:51.047Z"
      },
      {
        "duration": 96,
        "start_time": "2022-10-26T08:40:51.161Z"
      },
      {
        "duration": 11,
        "start_time": "2022-10-26T08:40:51.259Z"
      },
      {
        "duration": 12,
        "start_time": "2022-10-26T08:40:51.324Z"
      },
      {
        "duration": 29,
        "start_time": "2022-10-26T08:40:51.338Z"
      },
      {
        "duration": 78,
        "start_time": "2022-10-26T08:40:51.369Z"
      },
      {
        "duration": 11,
        "start_time": "2022-10-26T08:40:51.449Z"
      },
      {
        "duration": 62,
        "start_time": "2022-10-26T08:40:51.462Z"
      },
      {
        "duration": 20,
        "start_time": "2022-10-26T08:40:51.526Z"
      },
      {
        "duration": 6,
        "start_time": "2022-10-26T08:40:51.549Z"
      },
      {
        "duration": 8,
        "start_time": "2022-10-26T08:40:51.557Z"
      },
      {
        "duration": 757,
        "start_time": "2022-10-26T08:40:51.567Z"
      },
      {
        "duration": 34,
        "start_time": "2022-10-26T08:40:52.327Z"
      },
      {
        "duration": 303,
        "start_time": "2022-10-26T08:40:52.363Z"
      },
      {
        "duration": 61,
        "start_time": "2022-10-26T08:40:52.668Z"
      },
      {
        "duration": 8,
        "start_time": "2022-10-26T08:40:52.731Z"
      },
      {
        "duration": 6,
        "start_time": "2022-10-26T08:40:52.741Z"
      },
      {
        "duration": 15,
        "start_time": "2022-10-26T08:40:52.749Z"
      },
      {
        "duration": 67,
        "start_time": "2022-10-26T08:40:52.766Z"
      },
      {
        "duration": 11,
        "start_time": "2022-10-26T08:40:52.841Z"
      },
      {
        "duration": 14,
        "start_time": "2022-10-26T08:40:52.854Z"
      },
      {
        "duration": 80,
        "start_time": "2022-10-26T08:40:52.870Z"
      },
      {
        "duration": 1056,
        "start_time": "2022-10-26T08:40:52.952Z"
      },
      {
        "duration": 55,
        "start_time": "2022-10-26T08:40:54.010Z"
      },
      {
        "duration": 15,
        "start_time": "2022-10-26T08:40:54.067Z"
      },
      {
        "duration": 740,
        "start_time": "2022-10-26T08:40:54.084Z"
      },
      {
        "duration": 28,
        "start_time": "2022-10-26T08:40:54.827Z"
      },
      {
        "duration": 706,
        "start_time": "2022-10-26T08:40:54.857Z"
      },
      {
        "duration": 23,
        "start_time": "2022-10-26T08:40:55.565Z"
      },
      {
        "duration": 743,
        "start_time": "2022-10-26T08:40:55.590Z"
      },
      {
        "duration": 32,
        "start_time": "2022-10-26T08:48:51.449Z"
      },
      {
        "duration": 1336,
        "start_time": "2022-10-26T08:49:42.851Z"
      },
      {
        "duration": 4,
        "start_time": "2022-10-26T08:49:44.189Z"
      },
      {
        "duration": 58,
        "start_time": "2022-10-26T08:49:44.195Z"
      },
      {
        "duration": 650,
        "start_time": "2022-10-26T08:49:44.254Z"
      },
      {
        "duration": 107,
        "start_time": "2022-10-26T08:49:44.907Z"
      },
      {
        "duration": 56,
        "start_time": "2022-10-26T08:49:45.016Z"
      },
      {
        "duration": 125,
        "start_time": "2022-10-26T08:49:45.073Z"
      },
      {
        "duration": 12,
        "start_time": "2022-10-26T08:49:45.200Z"
      },
      {
        "duration": 21,
        "start_time": "2022-10-26T08:49:45.223Z"
      },
      {
        "duration": 8,
        "start_time": "2022-10-26T08:49:45.246Z"
      },
      {
        "duration": 6,
        "start_time": "2022-10-26T08:49:45.256Z"
      },
      {
        "duration": 16,
        "start_time": "2022-10-26T08:49:45.264Z"
      },
      {
        "duration": 58,
        "start_time": "2022-10-26T08:49:45.282Z"
      },
      {
        "duration": 23,
        "start_time": "2022-10-26T08:49:45.343Z"
      },
      {
        "duration": 5,
        "start_time": "2022-10-26T08:49:45.367Z"
      },
      {
        "duration": 10,
        "start_time": "2022-10-26T08:49:45.374Z"
      },
      {
        "duration": 22,
        "start_time": "2022-10-26T08:49:45.425Z"
      },
      {
        "duration": 7,
        "start_time": "2022-10-26T08:49:45.452Z"
      },
      {
        "duration": 67,
        "start_time": "2022-10-26T08:49:45.461Z"
      },
      {
        "duration": 25,
        "start_time": "2022-10-26T08:49:45.530Z"
      },
      {
        "duration": 17,
        "start_time": "2022-10-26T08:49:45.556Z"
      },
      {
        "duration": 16,
        "start_time": "2022-10-26T08:49:45.624Z"
      },
      {
        "duration": 121,
        "start_time": "2022-10-26T08:49:45.643Z"
      },
      {
        "duration": 105,
        "start_time": "2022-10-26T08:49:45.766Z"
      },
      {
        "duration": 54,
        "start_time": "2022-10-26T08:49:45.873Z"
      },
      {
        "duration": 14,
        "start_time": "2022-10-26T08:49:45.931Z"
      },
      {
        "duration": 98,
        "start_time": "2022-10-26T08:49:45.947Z"
      },
      {
        "duration": 16,
        "start_time": "2022-10-26T08:49:46.047Z"
      },
      {
        "duration": 62,
        "start_time": "2022-10-26T08:49:46.064Z"
      },
      {
        "duration": 6,
        "start_time": "2022-10-26T08:49:46.128Z"
      },
      {
        "duration": 20,
        "start_time": "2022-10-26T08:49:46.136Z"
      },
      {
        "duration": 5,
        "start_time": "2022-10-26T08:49:46.158Z"
      },
      {
        "duration": 63,
        "start_time": "2022-10-26T08:49:46.164Z"
      },
      {
        "duration": 722,
        "start_time": "2022-10-26T08:49:46.229Z"
      },
      {
        "duration": 72,
        "start_time": "2022-10-26T08:49:46.954Z"
      },
      {
        "duration": 246,
        "start_time": "2022-10-26T08:49:47.028Z"
      },
      {
        "duration": 22,
        "start_time": "2022-10-26T08:49:47.326Z"
      },
      {
        "duration": 5,
        "start_time": "2022-10-26T08:49:47.350Z"
      },
      {
        "duration": 5,
        "start_time": "2022-10-26T08:49:47.357Z"
      },
      {
        "duration": 66,
        "start_time": "2022-10-26T08:49:47.363Z"
      },
      {
        "duration": 6,
        "start_time": "2022-10-26T08:49:47.435Z"
      },
      {
        "duration": 18,
        "start_time": "2022-10-26T08:49:47.443Z"
      },
      {
        "duration": 64,
        "start_time": "2022-10-26T08:49:47.463Z"
      },
      {
        "duration": 30,
        "start_time": "2022-10-26T08:49:47.530Z"
      },
      {
        "duration": 1191,
        "start_time": "2022-10-26T08:49:47.562Z"
      },
      {
        "duration": 46,
        "start_time": "2022-10-26T08:49:48.755Z"
      },
      {
        "duration": 33,
        "start_time": "2022-10-26T08:49:48.803Z"
      },
      {
        "duration": 770,
        "start_time": "2022-10-26T08:49:48.839Z"
      },
      {
        "duration": 38,
        "start_time": "2022-10-26T08:49:49.611Z"
      },
      {
        "duration": 653,
        "start_time": "2022-10-26T08:49:49.652Z"
      },
      {
        "duration": 40,
        "start_time": "2022-10-26T08:49:50.308Z"
      },
      {
        "duration": 776,
        "start_time": "2022-10-26T08:49:50.350Z"
      },
      {
        "duration": 47,
        "start_time": "2022-10-26T08:52:25.676Z"
      },
      {
        "duration": 1319,
        "start_time": "2022-10-26T08:52:29.952Z"
      },
      {
        "duration": 4,
        "start_time": "2022-10-26T08:52:31.273Z"
      },
      {
        "duration": 81,
        "start_time": "2022-10-26T08:52:31.279Z"
      },
      {
        "duration": 714,
        "start_time": "2022-10-26T08:52:31.362Z"
      },
      {
        "duration": 118,
        "start_time": "2022-10-26T08:52:32.079Z"
      },
      {
        "duration": 56,
        "start_time": "2022-10-26T08:52:32.199Z"
      },
      {
        "duration": 139,
        "start_time": "2022-10-26T08:52:32.257Z"
      },
      {
        "duration": 29,
        "start_time": "2022-10-26T08:52:32.398Z"
      },
      {
        "duration": 17,
        "start_time": "2022-10-26T08:52:32.430Z"
      },
      {
        "duration": 10,
        "start_time": "2022-10-26T08:52:32.449Z"
      },
      {
        "duration": 6,
        "start_time": "2022-10-26T08:52:32.461Z"
      },
      {
        "duration": 6,
        "start_time": "2022-10-26T08:52:32.468Z"
      },
      {
        "duration": 90,
        "start_time": "2022-10-26T08:52:32.475Z"
      },
      {
        "duration": 22,
        "start_time": "2022-10-26T08:52:32.568Z"
      },
      {
        "duration": 85,
        "start_time": "2022-10-26T08:52:32.593Z"
      },
      {
        "duration": 6,
        "start_time": "2022-10-26T08:52:32.679Z"
      },
      {
        "duration": 3,
        "start_time": "2022-10-26T08:52:32.687Z"
      },
      {
        "duration": 33,
        "start_time": "2022-10-26T08:52:32.692Z"
      },
      {
        "duration": 13,
        "start_time": "2022-10-26T08:52:32.728Z"
      },
      {
        "duration": 12,
        "start_time": "2022-10-26T08:52:32.744Z"
      },
      {
        "duration": 18,
        "start_time": "2022-10-26T08:52:32.758Z"
      },
      {
        "duration": 47,
        "start_time": "2022-10-26T08:52:32.779Z"
      },
      {
        "duration": 17,
        "start_time": "2022-10-26T08:52:32.828Z"
      },
      {
        "duration": 78,
        "start_time": "2022-10-26T08:52:32.847Z"
      },
      {
        "duration": 42,
        "start_time": "2022-10-26T08:52:32.927Z"
      },
      {
        "duration": 10,
        "start_time": "2022-10-26T08:52:32.971Z"
      },
      {
        "duration": 10,
        "start_time": "2022-10-26T08:52:32.983Z"
      },
      {
        "duration": 61,
        "start_time": "2022-10-26T08:52:32.996Z"
      },
      {
        "duration": 15,
        "start_time": "2022-10-26T08:52:33.059Z"
      },
      {
        "duration": 13,
        "start_time": "2022-10-26T08:52:33.076Z"
      },
      {
        "duration": 5,
        "start_time": "2022-10-26T08:52:33.091Z"
      },
      {
        "duration": 45,
        "start_time": "2022-10-26T08:52:33.097Z"
      },
      {
        "duration": 6,
        "start_time": "2022-10-26T08:52:33.144Z"
      },
      {
        "duration": 8,
        "start_time": "2022-10-26T08:52:33.152Z"
      },
      {
        "duration": 338,
        "start_time": "2022-10-26T08:52:33.162Z"
      },
      {
        "duration": 28,
        "start_time": "2022-10-26T08:52:33.502Z"
      },
      {
        "duration": 142,
        "start_time": "2022-10-26T08:52:33.535Z"
      },
      {
        "duration": 15,
        "start_time": "2022-10-26T08:52:33.679Z"
      },
      {
        "duration": 6,
        "start_time": "2022-10-26T08:52:33.696Z"
      },
      {
        "duration": 23,
        "start_time": "2022-10-26T08:52:33.703Z"
      },
      {
        "duration": 12,
        "start_time": "2022-10-26T08:52:33.733Z"
      },
      {
        "duration": 5,
        "start_time": "2022-10-26T08:52:33.747Z"
      },
      {
        "duration": 14,
        "start_time": "2022-10-26T08:52:33.754Z"
      },
      {
        "duration": 15,
        "start_time": "2022-10-26T08:52:33.771Z"
      },
      {
        "duration": 41,
        "start_time": "2022-10-26T08:52:33.825Z"
      },
      {
        "duration": 800,
        "start_time": "2022-10-26T08:52:33.868Z"
      },
      {
        "duration": 39,
        "start_time": "2022-10-26T08:52:34.670Z"
      },
      {
        "duration": 23,
        "start_time": "2022-10-26T08:52:34.723Z"
      },
      {
        "duration": 751,
        "start_time": "2022-10-26T08:52:34.748Z"
      },
      {
        "duration": 38,
        "start_time": "2022-10-26T08:52:35.501Z"
      },
      {
        "duration": 651,
        "start_time": "2022-10-26T08:52:35.541Z"
      },
      {
        "duration": 33,
        "start_time": "2022-10-26T08:52:36.194Z"
      },
      {
        "duration": 775,
        "start_time": "2022-10-26T08:52:36.229Z"
      },
      {
        "duration": 18,
        "start_time": "2022-10-26T08:53:11.979Z"
      },
      {
        "duration": 1440,
        "start_time": "2022-10-26T08:53:20.810Z"
      },
      {
        "duration": 5,
        "start_time": "2022-10-26T08:53:22.253Z"
      },
      {
        "duration": 74,
        "start_time": "2022-10-26T08:53:22.260Z"
      },
      {
        "duration": 665,
        "start_time": "2022-10-26T08:53:22.338Z"
      },
      {
        "duration": 103,
        "start_time": "2022-10-26T08:53:23.004Z"
      },
      {
        "duration": 57,
        "start_time": "2022-10-26T08:53:23.110Z"
      },
      {
        "duration": 120,
        "start_time": "2022-10-26T08:53:23.168Z"
      },
      {
        "duration": 13,
        "start_time": "2022-10-26T08:53:23.290Z"
      },
      {
        "duration": 30,
        "start_time": "2022-10-26T08:53:23.304Z"
      },
      {
        "duration": 11,
        "start_time": "2022-10-26T08:53:23.338Z"
      },
      {
        "duration": 5,
        "start_time": "2022-10-26T08:53:23.351Z"
      },
      {
        "duration": 5,
        "start_time": "2022-10-26T08:53:23.359Z"
      },
      {
        "duration": 76,
        "start_time": "2022-10-26T08:53:23.366Z"
      },
      {
        "duration": 20,
        "start_time": "2022-10-26T08:53:23.444Z"
      },
      {
        "duration": 85,
        "start_time": "2022-10-26T08:53:23.465Z"
      },
      {
        "duration": 13,
        "start_time": "2022-10-26T08:53:23.552Z"
      },
      {
        "duration": 6,
        "start_time": "2022-10-26T08:53:23.567Z"
      },
      {
        "duration": 16,
        "start_time": "2022-10-26T08:53:23.575Z"
      },
      {
        "duration": 29,
        "start_time": "2022-10-26T08:53:23.593Z"
      },
      {
        "duration": 12,
        "start_time": "2022-10-26T08:53:23.625Z"
      },
      {
        "duration": 20,
        "start_time": "2022-10-26T08:53:23.640Z"
      },
      {
        "duration": 25,
        "start_time": "2022-10-26T08:53:23.661Z"
      },
      {
        "duration": 26,
        "start_time": "2022-10-26T08:53:23.687Z"
      },
      {
        "duration": 36,
        "start_time": "2022-10-26T08:53:23.715Z"
      },
      {
        "duration": 58,
        "start_time": "2022-10-26T08:53:23.753Z"
      },
      {
        "duration": 39,
        "start_time": "2022-10-26T08:53:23.813Z"
      },
      {
        "duration": 7,
        "start_time": "2022-10-26T08:53:23.854Z"
      },
      {
        "duration": 24,
        "start_time": "2022-10-26T08:53:23.864Z"
      },
      {
        "duration": 45,
        "start_time": "2022-10-26T08:53:23.890Z"
      },
      {
        "duration": 15,
        "start_time": "2022-10-26T08:53:23.938Z"
      },
      {
        "duration": 26,
        "start_time": "2022-10-26T08:53:23.955Z"
      },
      {
        "duration": 6,
        "start_time": "2022-10-26T08:53:23.983Z"
      },
      {
        "duration": 27,
        "start_time": "2022-10-26T08:53:23.991Z"
      },
      {
        "duration": 16,
        "start_time": "2022-10-26T08:53:24.024Z"
      },
      {
        "duration": 29,
        "start_time": "2022-10-26T08:53:24.042Z"
      },
      {
        "duration": 321,
        "start_time": "2022-10-26T08:53:24.073Z"
      },
      {
        "duration": 21,
        "start_time": "2022-10-26T08:53:24.396Z"
      },
      {
        "duration": 143,
        "start_time": "2022-10-26T08:53:24.423Z"
      },
      {
        "duration": 13,
        "start_time": "2022-10-26T08:53:24.569Z"
      },
      {
        "duration": 12,
        "start_time": "2022-10-26T08:53:24.584Z"
      },
      {
        "duration": 33,
        "start_time": "2022-10-26T08:53:24.599Z"
      },
      {
        "duration": 21,
        "start_time": "2022-10-26T08:53:24.634Z"
      },
      {
        "duration": 16,
        "start_time": "2022-10-26T08:53:24.656Z"
      },
      {
        "duration": 18,
        "start_time": "2022-10-26T08:53:24.674Z"
      },
      {
        "duration": 19,
        "start_time": "2022-10-26T08:53:24.694Z"
      },
      {
        "duration": 39,
        "start_time": "2022-10-26T08:53:24.715Z"
      },
      {
        "duration": 730,
        "start_time": "2022-10-26T08:53:24.756Z"
      },
      {
        "duration": 48,
        "start_time": "2022-10-26T08:53:25.488Z"
      },
      {
        "duration": 14,
        "start_time": "2022-10-26T08:53:25.538Z"
      },
      {
        "duration": 762,
        "start_time": "2022-10-26T08:53:25.554Z"
      },
      {
        "duration": 34,
        "start_time": "2022-10-26T08:53:26.317Z"
      },
      {
        "duration": 664,
        "start_time": "2022-10-26T08:53:26.352Z"
      },
      {
        "duration": 38,
        "start_time": "2022-10-26T08:53:27.017Z"
      },
      {
        "duration": 780,
        "start_time": "2022-10-26T08:53:27.057Z"
      },
      {
        "duration": 7,
        "start_time": "2022-10-26T08:54:17.177Z"
      },
      {
        "duration": 7,
        "start_time": "2022-10-26T08:54:20.166Z"
      },
      {
        "duration": 1230,
        "start_time": "2022-10-26T08:54:26.976Z"
      },
      {
        "duration": 4,
        "start_time": "2022-10-26T08:54:28.208Z"
      },
      {
        "duration": 81,
        "start_time": "2022-10-26T08:54:28.213Z"
      },
      {
        "duration": 681,
        "start_time": "2022-10-26T08:54:28.296Z"
      },
      {
        "duration": 157,
        "start_time": "2022-10-26T08:54:28.979Z"
      },
      {
        "duration": 102,
        "start_time": "2022-10-26T08:54:29.139Z"
      },
      {
        "duration": 228,
        "start_time": "2022-10-26T08:54:29.243Z"
      },
      {
        "duration": 26,
        "start_time": "2022-10-26T08:54:29.524Z"
      },
      {
        "duration": 17,
        "start_time": "2022-10-26T08:54:29.552Z"
      },
      {
        "duration": 60,
        "start_time": "2022-10-26T08:54:29.572Z"
      },
      {
        "duration": 16,
        "start_time": "2022-10-26T08:54:29.634Z"
      },
      {
        "duration": 12,
        "start_time": "2022-10-26T08:54:29.651Z"
      },
      {
        "duration": 98,
        "start_time": "2022-10-26T08:54:29.665Z"
      },
      {
        "duration": 86,
        "start_time": "2022-10-26T08:54:29.765Z"
      },
      {
        "duration": 111,
        "start_time": "2022-10-26T08:54:29.852Z"
      },
      {
        "duration": 65,
        "start_time": "2022-10-26T08:54:29.965Z"
      },
      {
        "duration": 8,
        "start_time": "2022-10-26T08:54:30.035Z"
      },
      {
        "duration": 35,
        "start_time": "2022-10-26T08:54:30.046Z"
      },
      {
        "duration": 17,
        "start_time": "2022-10-26T08:54:30.123Z"
      },
      {
        "duration": 81,
        "start_time": "2022-10-26T08:54:30.143Z"
      },
      {
        "duration": 24,
        "start_time": "2022-10-26T08:54:30.227Z"
      },
      {
        "duration": 81,
        "start_time": "2022-10-26T08:54:30.252Z"
      },
      {
        "duration": 190,
        "start_time": "2022-10-26T08:54:30.335Z"
      },
      {
        "duration": 243,
        "start_time": "2022-10-26T08:54:30.528Z"
      },
      {
        "duration": 0,
        "start_time": "2022-10-26T08:54:30.825Z"
      },
      {
        "duration": 0,
        "start_time": "2022-10-26T08:54:30.827Z"
      },
      {
        "duration": 0,
        "start_time": "2022-10-26T08:54:30.828Z"
      },
      {
        "duration": 0,
        "start_time": "2022-10-26T08:54:30.829Z"
      },
      {
        "duration": 0,
        "start_time": "2022-10-26T08:54:30.831Z"
      },
      {
        "duration": 0,
        "start_time": "2022-10-26T08:54:30.833Z"
      },
      {
        "duration": 0,
        "start_time": "2022-10-26T08:54:30.835Z"
      },
      {
        "duration": 0,
        "start_time": "2022-10-26T08:54:30.836Z"
      },
      {
        "duration": 0,
        "start_time": "2022-10-26T08:54:30.837Z"
      },
      {
        "duration": 0,
        "start_time": "2022-10-26T08:54:30.839Z"
      },
      {
        "duration": 0,
        "start_time": "2022-10-26T08:54:30.840Z"
      },
      {
        "duration": 0,
        "start_time": "2022-10-26T08:54:30.841Z"
      },
      {
        "duration": 0,
        "start_time": "2022-10-26T08:54:30.842Z"
      },
      {
        "duration": 0,
        "start_time": "2022-10-26T08:54:30.843Z"
      },
      {
        "duration": 0,
        "start_time": "2022-10-26T08:54:30.845Z"
      },
      {
        "duration": 0,
        "start_time": "2022-10-26T08:54:30.847Z"
      },
      {
        "duration": 0,
        "start_time": "2022-10-26T08:54:30.849Z"
      },
      {
        "duration": 0,
        "start_time": "2022-10-26T08:54:30.850Z"
      },
      {
        "duration": 0,
        "start_time": "2022-10-26T08:54:30.852Z"
      },
      {
        "duration": 0,
        "start_time": "2022-10-26T08:54:30.856Z"
      },
      {
        "duration": 0,
        "start_time": "2022-10-26T08:54:30.857Z"
      },
      {
        "duration": 0,
        "start_time": "2022-10-26T08:54:30.859Z"
      },
      {
        "duration": 0,
        "start_time": "2022-10-26T08:54:30.860Z"
      },
      {
        "duration": 0,
        "start_time": "2022-10-26T08:54:30.862Z"
      },
      {
        "duration": 0,
        "start_time": "2022-10-26T08:54:30.863Z"
      },
      {
        "duration": 0,
        "start_time": "2022-10-26T08:54:30.864Z"
      },
      {
        "duration": 0,
        "start_time": "2022-10-26T08:54:30.865Z"
      },
      {
        "duration": 0,
        "start_time": "2022-10-26T08:54:30.924Z"
      },
      {
        "duration": 12,
        "start_time": "2022-10-26T08:56:28.208Z"
      },
      {
        "duration": 1247,
        "start_time": "2022-10-26T08:56:33.248Z"
      },
      {
        "duration": 4,
        "start_time": "2022-10-26T08:56:34.498Z"
      },
      {
        "duration": 73,
        "start_time": "2022-10-26T08:56:34.504Z"
      },
      {
        "duration": 745,
        "start_time": "2022-10-26T08:56:34.579Z"
      },
      {
        "duration": 125,
        "start_time": "2022-10-26T08:56:35.328Z"
      },
      {
        "duration": 44,
        "start_time": "2022-10-26T08:56:35.455Z"
      },
      {
        "duration": 149,
        "start_time": "2022-10-26T08:56:35.501Z"
      },
      {
        "duration": 14,
        "start_time": "2022-10-26T08:56:35.652Z"
      },
      {
        "duration": 16,
        "start_time": "2022-10-26T08:56:35.669Z"
      },
      {
        "duration": 18,
        "start_time": "2022-10-26T08:56:35.687Z"
      },
      {
        "duration": 25,
        "start_time": "2022-10-26T08:56:35.707Z"
      },
      {
        "duration": 9,
        "start_time": "2022-10-26T08:56:35.735Z"
      },
      {
        "duration": 52,
        "start_time": "2022-10-26T08:56:35.746Z"
      },
      {
        "duration": 39,
        "start_time": "2022-10-26T08:56:35.802Z"
      },
      {
        "duration": 61,
        "start_time": "2022-10-26T08:56:35.844Z"
      },
      {
        "duration": 33,
        "start_time": "2022-10-26T08:56:35.907Z"
      },
      {
        "duration": 22,
        "start_time": "2022-10-26T08:56:35.942Z"
      },
      {
        "duration": 7,
        "start_time": "2022-10-26T08:56:35.966Z"
      },
      {
        "duration": 21,
        "start_time": "2022-10-26T08:56:35.974Z"
      },
      {
        "duration": 35,
        "start_time": "2022-10-26T08:56:35.996Z"
      },
      {
        "duration": 22,
        "start_time": "2022-10-26T08:56:36.033Z"
      },
      {
        "duration": 18,
        "start_time": "2022-10-26T08:56:36.060Z"
      },
      {
        "duration": 50,
        "start_time": "2022-10-26T08:56:36.080Z"
      },
      {
        "duration": 75,
        "start_time": "2022-10-26T08:56:36.133Z"
      },
      {
        "duration": 17,
        "start_time": "2022-10-26T08:56:36.224Z"
      },
      {
        "duration": 17,
        "start_time": "2022-10-26T08:56:36.243Z"
      },
      {
        "duration": 44,
        "start_time": "2022-10-26T08:56:36.262Z"
      },
      {
        "duration": 35,
        "start_time": "2022-10-26T08:56:36.308Z"
      },
      {
        "duration": 139,
        "start_time": "2022-10-26T08:56:36.345Z"
      },
      {
        "duration": 0,
        "start_time": "2022-10-26T08:56:36.489Z"
      },
      {
        "duration": 0,
        "start_time": "2022-10-26T08:56:36.490Z"
      },
      {
        "duration": 0,
        "start_time": "2022-10-26T08:56:36.492Z"
      },
      {
        "duration": 0,
        "start_time": "2022-10-26T08:56:36.494Z"
      },
      {
        "duration": 0,
        "start_time": "2022-10-26T08:56:36.495Z"
      },
      {
        "duration": 0,
        "start_time": "2022-10-26T08:56:36.496Z"
      },
      {
        "duration": 0,
        "start_time": "2022-10-26T08:56:36.498Z"
      },
      {
        "duration": 0,
        "start_time": "2022-10-26T08:56:36.499Z"
      },
      {
        "duration": 0,
        "start_time": "2022-10-26T08:56:36.501Z"
      },
      {
        "duration": 0,
        "start_time": "2022-10-26T08:56:36.502Z"
      },
      {
        "duration": 0,
        "start_time": "2022-10-26T08:56:36.502Z"
      },
      {
        "duration": 0,
        "start_time": "2022-10-26T08:56:36.503Z"
      },
      {
        "duration": 0,
        "start_time": "2022-10-26T08:56:36.503Z"
      },
      {
        "duration": 0,
        "start_time": "2022-10-26T08:56:36.504Z"
      },
      {
        "duration": 1,
        "start_time": "2022-10-26T08:56:36.504Z"
      },
      {
        "duration": 0,
        "start_time": "2022-10-26T08:56:36.505Z"
      },
      {
        "duration": 0,
        "start_time": "2022-10-26T08:56:36.506Z"
      },
      {
        "duration": 0,
        "start_time": "2022-10-26T08:56:36.526Z"
      },
      {
        "duration": 0,
        "start_time": "2022-10-26T08:56:36.528Z"
      },
      {
        "duration": 0,
        "start_time": "2022-10-26T08:56:36.529Z"
      },
      {
        "duration": 0,
        "start_time": "2022-10-26T08:56:36.530Z"
      },
      {
        "duration": 0,
        "start_time": "2022-10-26T08:56:36.532Z"
      },
      {
        "duration": 0,
        "start_time": "2022-10-26T08:56:36.533Z"
      },
      {
        "duration": 7,
        "start_time": "2022-10-26T08:58:40.582Z"
      },
      {
        "duration": 6,
        "start_time": "2022-10-26T08:58:49.151Z"
      },
      {
        "duration": 1403,
        "start_time": "2022-10-26T08:59:12.850Z"
      },
      {
        "duration": 1099,
        "start_time": "2022-10-26T09:01:24.404Z"
      },
      {
        "duration": 5,
        "start_time": "2022-10-26T09:01:41.447Z"
      },
      {
        "duration": 14,
        "start_time": "2022-10-26T09:02:21.996Z"
      },
      {
        "duration": 6,
        "start_time": "2022-10-26T09:03:11.339Z"
      },
      {
        "duration": 68,
        "start_time": "2022-10-26T09:03:12.681Z"
      },
      {
        "duration": 6,
        "start_time": "2022-10-26T09:03:21.952Z"
      },
      {
        "duration": 8,
        "start_time": "2022-10-26T09:03:26.862Z"
      },
      {
        "duration": 19,
        "start_time": "2022-10-26T09:03:32.304Z"
      },
      {
        "duration": 295,
        "start_time": "2022-10-26T09:04:16.751Z"
      },
      {
        "duration": 17,
        "start_time": "2022-10-26T09:04:21.288Z"
      },
      {
        "duration": 19,
        "start_time": "2022-10-26T09:04:23.453Z"
      },
      {
        "duration": 5,
        "start_time": "2022-10-26T09:04:52.510Z"
      },
      {
        "duration": 21,
        "start_time": "2022-10-26T09:04:55.655Z"
      },
      {
        "duration": 199,
        "start_time": "2022-10-26T09:05:08.145Z"
      },
      {
        "duration": 19,
        "start_time": "2022-10-26T09:05:09.372Z"
      },
      {
        "duration": 11,
        "start_time": "2022-10-26T09:05:26.401Z"
      },
      {
        "duration": 3,
        "start_time": "2022-10-26T09:06:37.769Z"
      },
      {
        "duration": 5,
        "start_time": "2022-10-26T09:06:38.947Z"
      },
      {
        "duration": 861,
        "start_time": "2022-10-26T09:06:52.592Z"
      },
      {
        "duration": 5,
        "start_time": "2022-10-26T09:06:53.571Z"
      },
      {
        "duration": 946,
        "start_time": "2022-10-26T09:08:49.048Z"
      },
      {
        "duration": 8,
        "start_time": "2022-10-26T09:10:21.075Z"
      },
      {
        "duration": 885,
        "start_time": "2022-10-26T09:11:57.990Z"
      },
      {
        "duration": 1228,
        "start_time": "2022-10-26T09:12:05.286Z"
      },
      {
        "duration": 3,
        "start_time": "2022-10-26T09:12:06.516Z"
      },
      {
        "duration": 49,
        "start_time": "2022-10-26T09:12:06.523Z"
      },
      {
        "duration": 582,
        "start_time": "2022-10-26T09:12:06.574Z"
      },
      {
        "duration": 98,
        "start_time": "2022-10-26T09:12:07.158Z"
      },
      {
        "duration": 44,
        "start_time": "2022-10-26T09:12:07.257Z"
      },
      {
        "duration": 121,
        "start_time": "2022-10-26T09:12:07.303Z"
      },
      {
        "duration": 13,
        "start_time": "2022-10-26T09:12:07.426Z"
      },
      {
        "duration": 12,
        "start_time": "2022-10-26T09:12:07.441Z"
      },
      {
        "duration": 8,
        "start_time": "2022-10-26T09:12:07.455Z"
      },
      {
        "duration": 5,
        "start_time": "2022-10-26T09:12:07.464Z"
      },
      {
        "duration": 5,
        "start_time": "2022-10-26T09:12:07.471Z"
      },
      {
        "duration": 68,
        "start_time": "2022-10-26T09:12:07.477Z"
      },
      {
        "duration": 24,
        "start_time": "2022-10-26T09:12:07.547Z"
      },
      {
        "duration": 72,
        "start_time": "2022-10-26T09:12:07.572Z"
      },
      {
        "duration": 17,
        "start_time": "2022-10-26T09:12:07.646Z"
      },
      {
        "duration": 13,
        "start_time": "2022-10-26T09:12:07.664Z"
      },
      {
        "duration": 5,
        "start_time": "2022-10-26T09:12:07.678Z"
      },
      {
        "duration": 11,
        "start_time": "2022-10-26T09:12:07.685Z"
      },
      {
        "duration": 32,
        "start_time": "2022-10-26T09:12:07.698Z"
      },
      {
        "duration": 15,
        "start_time": "2022-10-26T09:12:07.732Z"
      },
      {
        "duration": 16,
        "start_time": "2022-10-26T09:12:07.748Z"
      },
      {
        "duration": 13,
        "start_time": "2022-10-26T09:12:07.766Z"
      },
      {
        "duration": 5,
        "start_time": "2022-10-26T09:12:07.781Z"
      },
      {
        "duration": 46,
        "start_time": "2022-10-26T09:12:07.788Z"
      },
      {
        "duration": 328,
        "start_time": "2022-10-26T09:12:07.836Z"
      },
      {
        "duration": 126,
        "start_time": "2022-10-26T09:12:08.166Z"
      },
      {
        "duration": 6,
        "start_time": "2022-10-26T09:12:08.296Z"
      },
      {
        "duration": 129,
        "start_time": "2022-10-26T09:12:08.304Z"
      },
      {
        "duration": 0,
        "start_time": "2022-10-26T09:12:08.435Z"
      },
      {
        "duration": 0,
        "start_time": "2022-10-26T09:12:08.436Z"
      },
      {
        "duration": 0,
        "start_time": "2022-10-26T09:12:08.437Z"
      },
      {
        "duration": 0,
        "start_time": "2022-10-26T09:12:08.438Z"
      },
      {
        "duration": 0,
        "start_time": "2022-10-26T09:12:08.439Z"
      },
      {
        "duration": 0,
        "start_time": "2022-10-26T09:12:08.440Z"
      },
      {
        "duration": 0,
        "start_time": "2022-10-26T09:12:08.441Z"
      },
      {
        "duration": 1,
        "start_time": "2022-10-26T09:12:08.442Z"
      },
      {
        "duration": 0,
        "start_time": "2022-10-26T09:12:08.444Z"
      },
      {
        "duration": 0,
        "start_time": "2022-10-26T09:12:08.445Z"
      },
      {
        "duration": 0,
        "start_time": "2022-10-26T09:12:08.447Z"
      },
      {
        "duration": 0,
        "start_time": "2022-10-26T09:12:08.448Z"
      },
      {
        "duration": 0,
        "start_time": "2022-10-26T09:12:08.450Z"
      },
      {
        "duration": 0,
        "start_time": "2022-10-26T09:12:08.451Z"
      },
      {
        "duration": 0,
        "start_time": "2022-10-26T09:12:08.452Z"
      },
      {
        "duration": 0,
        "start_time": "2022-10-26T09:12:08.454Z"
      },
      {
        "duration": 0,
        "start_time": "2022-10-26T09:12:08.455Z"
      },
      {
        "duration": 0,
        "start_time": "2022-10-26T09:12:08.456Z"
      },
      {
        "duration": 0,
        "start_time": "2022-10-26T09:12:08.457Z"
      },
      {
        "duration": 0,
        "start_time": "2022-10-26T09:12:08.459Z"
      },
      {
        "duration": 0,
        "start_time": "2022-10-26T09:12:08.461Z"
      },
      {
        "duration": 0,
        "start_time": "2022-10-26T09:12:08.462Z"
      },
      {
        "duration": 1,
        "start_time": "2022-10-26T09:12:08.463Z"
      },
      {
        "duration": 21,
        "start_time": "2022-10-26T09:12:16.297Z"
      },
      {
        "duration": 17,
        "start_time": "2022-10-26T09:12:32.758Z"
      },
      {
        "duration": 16,
        "start_time": "2022-10-26T09:13:06.651Z"
      },
      {
        "duration": 16,
        "start_time": "2022-10-26T09:13:34.285Z"
      },
      {
        "duration": 16,
        "start_time": "2022-10-26T09:15:12.598Z"
      },
      {
        "duration": 4,
        "start_time": "2022-10-26T09:15:21.596Z"
      },
      {
        "duration": 5,
        "start_time": "2022-10-26T09:15:22.848Z"
      },
      {
        "duration": 6,
        "start_time": "2022-10-26T09:19:29.273Z"
      },
      {
        "duration": 70,
        "start_time": "2022-10-26T09:19:41.147Z"
      },
      {
        "duration": 5,
        "start_time": "2022-10-26T09:19:49.593Z"
      },
      {
        "duration": 6,
        "start_time": "2022-10-26T09:20:00.409Z"
      },
      {
        "duration": 9,
        "start_time": "2022-10-26T09:22:30.645Z"
      },
      {
        "duration": 4,
        "start_time": "2022-10-26T09:22:33.109Z"
      },
      {
        "duration": 10,
        "start_time": "2022-10-26T09:22:34.347Z"
      },
      {
        "duration": 9,
        "start_time": "2022-10-26T09:22:40.342Z"
      },
      {
        "duration": 10,
        "start_time": "2022-10-26T09:23:17.669Z"
      },
      {
        "duration": 22,
        "start_time": "2022-10-26T09:24:16.661Z"
      },
      {
        "duration": 656,
        "start_time": "2022-10-26T09:24:22.859Z"
      },
      {
        "duration": 646,
        "start_time": "2022-10-26T09:27:08.774Z"
      },
      {
        "duration": 11,
        "start_time": "2022-10-26T09:30:25.083Z"
      },
      {
        "duration": 622,
        "start_time": "2022-10-26T09:30:29.836Z"
      },
      {
        "duration": 612,
        "start_time": "2022-10-26T09:30:58.942Z"
      },
      {
        "duration": 13,
        "start_time": "2022-10-26T09:31:55.097Z"
      },
      {
        "duration": 581,
        "start_time": "2022-10-26T09:32:11.135Z"
      },
      {
        "duration": 3,
        "start_time": "2022-10-26T09:33:25.959Z"
      },
      {
        "duration": 3,
        "start_time": "2022-10-26T09:33:29.783Z"
      },
      {
        "duration": 692,
        "start_time": "2022-10-26T09:33:30.610Z"
      },
      {
        "duration": 4,
        "start_time": "2022-10-26T09:34:42.233Z"
      },
      {
        "duration": 4,
        "start_time": "2022-10-26T09:34:46.952Z"
      },
      {
        "duration": 573,
        "start_time": "2022-10-26T09:34:47.835Z"
      },
      {
        "duration": 5,
        "start_time": "2022-10-26T09:36:03.056Z"
      },
      {
        "duration": 1410,
        "start_time": "2022-10-26T09:56:33.502Z"
      },
      {
        "duration": 3,
        "start_time": "2022-10-26T09:56:42.211Z"
      },
      {
        "duration": 1242,
        "start_time": "2022-10-26T09:56:47.581Z"
      },
      {
        "duration": 4,
        "start_time": "2022-10-26T09:57:06.052Z"
      },
      {
        "duration": 1150,
        "start_time": "2022-10-26T09:57:09.851Z"
      },
      {
        "duration": 97,
        "start_time": "2022-10-26T09:58:59.964Z"
      },
      {
        "duration": 11,
        "start_time": "2022-10-26T09:59:05.581Z"
      },
      {
        "duration": 16,
        "start_time": "2022-10-26T09:59:37.981Z"
      },
      {
        "duration": 12,
        "start_time": "2022-10-26T10:00:20.994Z"
      },
      {
        "duration": 11,
        "start_time": "2022-10-26T10:00:28.941Z"
      },
      {
        "duration": 11,
        "start_time": "2022-10-26T10:00:53.834Z"
      },
      {
        "duration": 5,
        "start_time": "2022-10-26T10:09:00.934Z"
      },
      {
        "duration": 3142,
        "start_time": "2022-10-26T10:09:03.176Z"
      },
      {
        "duration": 14,
        "start_time": "2022-10-26T10:12:11.734Z"
      },
      {
        "duration": 5,
        "start_time": "2022-10-26T10:25:05.347Z"
      },
      {
        "duration": 8,
        "start_time": "2022-10-26T10:25:21.599Z"
      },
      {
        "duration": 12,
        "start_time": "2022-10-26T10:25:26.293Z"
      },
      {
        "duration": 12,
        "start_time": "2022-10-26T10:25:41.429Z"
      },
      {
        "duration": 15,
        "start_time": "2022-10-26T10:26:14.475Z"
      },
      {
        "duration": 22,
        "start_time": "2022-10-26T10:26:31.021Z"
      },
      {
        "duration": 50,
        "start_time": "2022-10-26T10:27:14.730Z"
      },
      {
        "duration": 49,
        "start_time": "2022-10-26T10:27:35.602Z"
      },
      {
        "duration": 13,
        "start_time": "2022-10-26T10:27:44.996Z"
      },
      {
        "duration": 13,
        "start_time": "2022-10-26T10:28:12.122Z"
      },
      {
        "duration": 96,
        "start_time": "2022-10-26T10:29:45.492Z"
      },
      {
        "duration": 80,
        "start_time": "2022-10-26T10:30:21.296Z"
      },
      {
        "duration": 109,
        "start_time": "2022-10-26T10:30:30.651Z"
      },
      {
        "duration": 30,
        "start_time": "2022-10-26T10:30:36.428Z"
      },
      {
        "duration": 13,
        "start_time": "2022-10-26T10:30:40.180Z"
      },
      {
        "duration": 13,
        "start_time": "2022-10-26T10:30:45.447Z"
      },
      {
        "duration": 144,
        "start_time": "2022-10-26T10:31:01.071Z"
      },
      {
        "duration": 18,
        "start_time": "2022-10-26T10:33:40.621Z"
      },
      {
        "duration": 25,
        "start_time": "2022-10-26T10:33:45.450Z"
      },
      {
        "duration": 12,
        "start_time": "2022-10-26T10:34:19.350Z"
      },
      {
        "duration": 15,
        "start_time": "2022-10-26T10:35:10.350Z"
      },
      {
        "duration": 6,
        "start_time": "2022-10-26T10:36:29.077Z"
      },
      {
        "duration": 12,
        "start_time": "2022-10-26T10:36:30.488Z"
      },
      {
        "duration": 11,
        "start_time": "2022-10-26T10:36:52.791Z"
      },
      {
        "duration": 10,
        "start_time": "2022-10-26T10:42:00.135Z"
      },
      {
        "duration": 24,
        "start_time": "2022-10-26T10:42:08.544Z"
      },
      {
        "duration": 3388,
        "start_time": "2022-10-26T10:42:42.118Z"
      },
      {
        "duration": 3432,
        "start_time": "2022-10-26T10:43:44.610Z"
      },
      {
        "duration": 3404,
        "start_time": "2022-10-26T10:44:15.672Z"
      },
      {
        "duration": 12,
        "start_time": "2022-10-26T10:45:55.767Z"
      },
      {
        "duration": 10,
        "start_time": "2022-10-26T10:46:29.598Z"
      },
      {
        "duration": 76,
        "start_time": "2022-10-26T10:50:15.508Z"
      },
      {
        "duration": 25,
        "start_time": "2022-10-26T10:50:22.473Z"
      },
      {
        "duration": 23,
        "start_time": "2022-10-26T10:51:57.239Z"
      },
      {
        "duration": 4,
        "start_time": "2022-10-26T10:52:16.437Z"
      },
      {
        "duration": 15,
        "start_time": "2022-10-26T10:52:31.619Z"
      },
      {
        "duration": 10,
        "start_time": "2022-10-26T10:52:56.875Z"
      },
      {
        "duration": 17,
        "start_time": "2022-10-26T10:54:50.413Z"
      },
      {
        "duration": 17,
        "start_time": "2022-10-26T10:55:53.988Z"
      },
      {
        "duration": 17,
        "start_time": "2022-10-26T10:56:45.387Z"
      },
      {
        "duration": 21,
        "start_time": "2022-10-26T10:56:49.828Z"
      },
      {
        "duration": 17,
        "start_time": "2022-10-26T10:56:56.617Z"
      },
      {
        "duration": 12,
        "start_time": "2022-10-26T10:58:05.834Z"
      },
      {
        "duration": 1241,
        "start_time": "2022-10-26T10:58:59.167Z"
      },
      {
        "duration": 4,
        "start_time": "2022-10-26T10:59:00.410Z"
      },
      {
        "duration": 48,
        "start_time": "2022-10-26T10:59:00.424Z"
      },
      {
        "duration": 607,
        "start_time": "2022-10-26T10:59:00.474Z"
      },
      {
        "duration": 101,
        "start_time": "2022-10-26T10:59:01.083Z"
      },
      {
        "duration": 46,
        "start_time": "2022-10-26T10:59:01.187Z"
      },
      {
        "duration": 126,
        "start_time": "2022-10-26T10:59:01.234Z"
      },
      {
        "duration": 14,
        "start_time": "2022-10-26T10:59:01.363Z"
      },
      {
        "duration": 14,
        "start_time": "2022-10-26T10:59:01.380Z"
      },
      {
        "duration": 47,
        "start_time": "2022-10-26T10:59:01.397Z"
      },
      {
        "duration": 24,
        "start_time": "2022-10-26T10:59:01.446Z"
      },
      {
        "duration": 23,
        "start_time": "2022-10-26T10:59:01.472Z"
      },
      {
        "duration": 39,
        "start_time": "2022-10-26T10:59:01.497Z"
      },
      {
        "duration": 27,
        "start_time": "2022-10-26T10:59:01.540Z"
      },
      {
        "duration": 67,
        "start_time": "2022-10-26T10:59:01.569Z"
      },
      {
        "duration": 15,
        "start_time": "2022-10-26T10:59:01.638Z"
      },
      {
        "duration": 18,
        "start_time": "2022-10-26T10:59:01.655Z"
      },
      {
        "duration": 7,
        "start_time": "2022-10-26T10:59:01.675Z"
      },
      {
        "duration": 46,
        "start_time": "2022-10-26T10:59:01.683Z"
      },
      {
        "duration": 10,
        "start_time": "2022-10-26T10:59:01.731Z"
      },
      {
        "duration": 15,
        "start_time": "2022-10-26T10:59:01.743Z"
      },
      {
        "duration": 16,
        "start_time": "2022-10-26T10:59:01.760Z"
      },
      {
        "duration": 47,
        "start_time": "2022-10-26T10:59:01.777Z"
      },
      {
        "duration": 6,
        "start_time": "2022-10-26T10:59:01.826Z"
      },
      {
        "duration": 18,
        "start_time": "2022-10-26T10:59:01.834Z"
      },
      {
        "duration": 397,
        "start_time": "2022-10-26T10:59:01.854Z"
      },
      {
        "duration": 131,
        "start_time": "2022-10-26T10:59:02.253Z"
      },
      {
        "duration": 17,
        "start_time": "2022-10-26T10:59:02.385Z"
      },
      {
        "duration": 22,
        "start_time": "2022-10-26T10:59:02.405Z"
      },
      {
        "duration": 6,
        "start_time": "2022-10-26T10:59:02.429Z"
      },
      {
        "duration": 7,
        "start_time": "2022-10-26T10:59:02.437Z"
      },
      {
        "duration": 6,
        "start_time": "2022-10-26T10:59:02.445Z"
      },
      {
        "duration": 16,
        "start_time": "2022-10-26T10:59:02.452Z"
      },
      {
        "duration": 6,
        "start_time": "2022-10-26T10:59:02.469Z"
      },
      {
        "duration": 12,
        "start_time": "2022-10-26T10:59:02.476Z"
      },
      {
        "duration": 11,
        "start_time": "2022-10-26T10:59:02.524Z"
      },
      {
        "duration": 23,
        "start_time": "2022-10-26T10:59:02.537Z"
      },
      {
        "duration": 6,
        "start_time": "2022-10-26T10:59:02.562Z"
      },
      {
        "duration": 3257,
        "start_time": "2022-10-26T10:59:02.570Z"
      },
      {
        "duration": 18,
        "start_time": "2022-10-26T10:59:05.829Z"
      },
      {
        "duration": 183,
        "start_time": "2022-10-26T10:59:05.851Z"
      },
      {
        "duration": 3315,
        "start_time": "2022-10-26T10:59:06.036Z"
      },
      {
        "duration": 17,
        "start_time": "2022-10-26T10:59:09.353Z"
      },
      {
        "duration": 14,
        "start_time": "2022-10-26T10:59:09.372Z"
      },
      {
        "duration": 3369,
        "start_time": "2022-10-26T10:59:09.388Z"
      },
      {
        "duration": 18,
        "start_time": "2022-10-26T10:59:12.758Z"
      },
      {
        "duration": 9,
        "start_time": "2022-10-26T10:59:12.778Z"
      },
      {
        "duration": 49,
        "start_time": "2022-10-26T11:03:01.277Z"
      },
      {
        "duration": 109,
        "start_time": "2022-10-26T11:04:09.913Z"
      },
      {
        "duration": 26,
        "start_time": "2022-10-26T11:04:39.101Z"
      },
      {
        "duration": 322,
        "start_time": "2022-10-26T11:08:10.662Z"
      },
      {
        "duration": 344,
        "start_time": "2022-10-26T11:08:21.768Z"
      },
      {
        "duration": 236,
        "start_time": "2022-10-26T11:10:18.675Z"
      },
      {
        "duration": 6,
        "start_time": "2022-10-26T11:22:46.248Z"
      },
      {
        "duration": 10,
        "start_time": "2022-10-26T11:22:49.730Z"
      },
      {
        "duration": 17,
        "start_time": "2022-10-26T11:23:20.604Z"
      },
      {
        "duration": 1413,
        "start_time": "2022-10-26T11:23:53.908Z"
      },
      {
        "duration": 3,
        "start_time": "2022-10-26T11:23:55.324Z"
      },
      {
        "duration": 133,
        "start_time": "2022-10-26T11:23:55.332Z"
      },
      {
        "duration": 663,
        "start_time": "2022-10-26T11:23:55.466Z"
      },
      {
        "duration": 107,
        "start_time": "2022-10-26T11:23:56.130Z"
      },
      {
        "duration": 48,
        "start_time": "2022-10-26T11:23:56.239Z"
      },
      {
        "duration": 140,
        "start_time": "2022-10-26T11:23:56.289Z"
      },
      {
        "duration": 13,
        "start_time": "2022-10-26T11:23:56.431Z"
      },
      {
        "duration": 12,
        "start_time": "2022-10-26T11:23:56.448Z"
      },
      {
        "duration": 16,
        "start_time": "2022-10-26T11:23:56.462Z"
      },
      {
        "duration": 6,
        "start_time": "2022-10-26T11:23:56.480Z"
      },
      {
        "duration": 19,
        "start_time": "2022-10-26T11:23:56.488Z"
      },
      {
        "duration": 41,
        "start_time": "2022-10-26T11:23:56.525Z"
      },
      {
        "duration": 25,
        "start_time": "2022-10-26T11:23:56.568Z"
      },
      {
        "duration": 72,
        "start_time": "2022-10-26T11:23:56.595Z"
      },
      {
        "duration": 14,
        "start_time": "2022-10-26T11:23:56.669Z"
      },
      {
        "duration": 17,
        "start_time": "2022-10-26T11:23:56.685Z"
      },
      {
        "duration": 24,
        "start_time": "2022-10-26T11:23:56.704Z"
      },
      {
        "duration": 35,
        "start_time": "2022-10-26T11:23:56.730Z"
      },
      {
        "duration": 13,
        "start_time": "2022-10-26T11:23:56.767Z"
      },
      {
        "duration": 31,
        "start_time": "2022-10-26T11:23:56.782Z"
      },
      {
        "duration": 22,
        "start_time": "2022-10-26T11:23:56.815Z"
      },
      {
        "duration": 27,
        "start_time": "2022-10-26T11:23:56.839Z"
      },
      {
        "duration": 35,
        "start_time": "2022-10-26T11:23:56.867Z"
      },
      {
        "duration": 21,
        "start_time": "2022-10-26T11:23:56.904Z"
      },
      {
        "duration": 350,
        "start_time": "2022-10-26T11:23:56.927Z"
      },
      {
        "duration": 138,
        "start_time": "2022-10-26T11:23:57.281Z"
      },
      {
        "duration": 17,
        "start_time": "2022-10-26T11:23:57.424Z"
      },
      {
        "duration": 14,
        "start_time": "2022-10-26T11:23:57.443Z"
      },
      {
        "duration": 17,
        "start_time": "2022-10-26T11:23:57.459Z"
      },
      {
        "duration": 18,
        "start_time": "2022-10-26T11:23:57.478Z"
      },
      {
        "duration": 15,
        "start_time": "2022-10-26T11:23:57.498Z"
      },
      {
        "duration": 19,
        "start_time": "2022-10-26T11:23:57.515Z"
      },
      {
        "duration": 19,
        "start_time": "2022-10-26T11:23:57.536Z"
      },
      {
        "duration": 31,
        "start_time": "2022-10-26T11:23:57.557Z"
      },
      {
        "duration": 19,
        "start_time": "2022-10-26T11:23:57.590Z"
      },
      {
        "duration": 27,
        "start_time": "2022-10-26T11:23:57.611Z"
      },
      {
        "duration": 6,
        "start_time": "2022-10-26T11:23:57.640Z"
      },
      {
        "duration": 3495,
        "start_time": "2022-10-26T11:23:57.648Z"
      },
      {
        "duration": 20,
        "start_time": "2022-10-26T11:24:01.145Z"
      },
      {
        "duration": 203,
        "start_time": "2022-10-26T11:24:01.167Z"
      },
      {
        "duration": 3775,
        "start_time": "2022-10-26T11:24:01.372Z"
      },
      {
        "duration": 21,
        "start_time": "2022-10-26T11:24:05.149Z"
      },
      {
        "duration": 14,
        "start_time": "2022-10-26T11:24:05.172Z"
      },
      {
        "duration": 3506,
        "start_time": "2022-10-26T11:24:05.189Z"
      },
      {
        "duration": 16,
        "start_time": "2022-10-26T11:24:08.697Z"
      },
      {
        "duration": 11,
        "start_time": "2022-10-26T11:24:08.725Z"
      },
      {
        "duration": 274,
        "start_time": "2022-10-26T11:24:08.737Z"
      },
      {
        "duration": 18,
        "start_time": "2022-10-26T11:24:09.012Z"
      },
      {
        "duration": 16,
        "start_time": "2022-10-26T11:25:19.724Z"
      },
      {
        "duration": 12,
        "start_time": "2022-10-26T11:25:27.511Z"
      },
      {
        "duration": 15,
        "start_time": "2022-10-26T11:25:49.805Z"
      },
      {
        "duration": 11,
        "start_time": "2022-10-26T11:27:43.816Z"
      },
      {
        "duration": 16,
        "start_time": "2022-10-26T11:28:29.184Z"
      },
      {
        "duration": 13,
        "start_time": "2022-10-26T11:30:30.539Z"
      },
      {
        "duration": 15,
        "start_time": "2022-10-26T11:30:36.441Z"
      },
      {
        "duration": 18,
        "start_time": "2022-10-26T11:30:40.711Z"
      },
      {
        "duration": 15,
        "start_time": "2022-10-26T11:31:15.773Z"
      },
      {
        "duration": 20,
        "start_time": "2022-10-26T11:31:20.527Z"
      },
      {
        "duration": 126,
        "start_time": "2022-10-26T11:37:07.699Z"
      },
      {
        "duration": 10,
        "start_time": "2022-10-26T11:38:30.454Z"
      },
      {
        "duration": 97,
        "start_time": "2022-10-26T11:38:36.471Z"
      },
      {
        "duration": 12,
        "start_time": "2022-10-26T11:38:39.880Z"
      },
      {
        "duration": 18,
        "start_time": "2022-10-26T11:40:17.771Z"
      },
      {
        "duration": 17,
        "start_time": "2022-10-26T11:42:22.317Z"
      },
      {
        "duration": 1264,
        "start_time": "2022-10-26T11:42:28.443Z"
      },
      {
        "duration": 4,
        "start_time": "2022-10-26T11:42:29.709Z"
      },
      {
        "duration": 63,
        "start_time": "2022-10-26T11:42:29.715Z"
      },
      {
        "duration": 630,
        "start_time": "2022-10-26T11:42:29.780Z"
      },
      {
        "duration": 105,
        "start_time": "2022-10-26T11:42:30.411Z"
      },
      {
        "duration": 45,
        "start_time": "2022-10-26T11:42:30.517Z"
      },
      {
        "duration": 140,
        "start_time": "2022-10-26T11:42:30.563Z"
      },
      {
        "duration": 26,
        "start_time": "2022-10-26T11:42:30.705Z"
      },
      {
        "duration": 11,
        "start_time": "2022-10-26T11:42:30.733Z"
      },
      {
        "duration": 32,
        "start_time": "2022-10-26T11:42:30.747Z"
      },
      {
        "duration": 6,
        "start_time": "2022-10-26T11:42:30.780Z"
      },
      {
        "duration": 7,
        "start_time": "2022-10-26T11:42:30.788Z"
      },
      {
        "duration": 45,
        "start_time": "2022-10-26T11:42:30.797Z"
      },
      {
        "duration": 23,
        "start_time": "2022-10-26T11:42:30.845Z"
      },
      {
        "duration": 75,
        "start_time": "2022-10-26T11:42:30.870Z"
      },
      {
        "duration": 14,
        "start_time": "2022-10-26T11:42:30.947Z"
      },
      {
        "duration": 52,
        "start_time": "2022-10-26T11:42:30.963Z"
      },
      {
        "duration": 23,
        "start_time": "2022-10-26T11:42:31.017Z"
      },
      {
        "duration": 24,
        "start_time": "2022-10-26T11:42:31.041Z"
      },
      {
        "duration": 28,
        "start_time": "2022-10-26T11:42:31.067Z"
      },
      {
        "duration": 40,
        "start_time": "2022-10-26T11:42:31.097Z"
      },
      {
        "duration": 38,
        "start_time": "2022-10-26T11:42:31.139Z"
      },
      {
        "duration": 40,
        "start_time": "2022-10-26T11:42:31.178Z"
      },
      {
        "duration": 34,
        "start_time": "2022-10-26T11:42:31.219Z"
      },
      {
        "duration": 57,
        "start_time": "2022-10-26T11:42:31.255Z"
      },
      {
        "duration": 341,
        "start_time": "2022-10-26T11:42:31.314Z"
      },
      {
        "duration": 128,
        "start_time": "2022-10-26T11:42:31.656Z"
      },
      {
        "duration": 16,
        "start_time": "2022-10-26T11:42:31.787Z"
      },
      {
        "duration": 20,
        "start_time": "2022-10-26T11:42:31.805Z"
      },
      {
        "duration": 20,
        "start_time": "2022-10-26T11:42:31.827Z"
      },
      {
        "duration": 23,
        "start_time": "2022-10-26T11:42:31.849Z"
      },
      {
        "duration": 13,
        "start_time": "2022-10-26T11:42:31.874Z"
      },
      {
        "duration": 23,
        "start_time": "2022-10-26T11:42:31.889Z"
      },
      {
        "duration": 8,
        "start_time": "2022-10-26T11:42:31.914Z"
      },
      {
        "duration": 34,
        "start_time": "2022-10-26T11:42:31.924Z"
      },
      {
        "duration": 36,
        "start_time": "2022-10-26T11:42:31.960Z"
      },
      {
        "duration": 42,
        "start_time": "2022-10-26T11:42:31.998Z"
      },
      {
        "duration": 18,
        "start_time": "2022-10-26T11:42:32.043Z"
      },
      {
        "duration": 3158,
        "start_time": "2022-10-26T11:42:32.063Z"
      },
      {
        "duration": 17,
        "start_time": "2022-10-26T11:42:35.224Z"
      },
      {
        "duration": 172,
        "start_time": "2022-10-26T11:42:35.243Z"
      },
      {
        "duration": 3313,
        "start_time": "2022-10-26T11:42:35.417Z"
      },
      {
        "duration": 17,
        "start_time": "2022-10-26T11:42:38.732Z"
      },
      {
        "duration": 11,
        "start_time": "2022-10-26T11:42:38.751Z"
      },
      {
        "duration": 3475,
        "start_time": "2022-10-26T11:42:38.764Z"
      },
      {
        "duration": 16,
        "start_time": "2022-10-26T11:42:42.241Z"
      },
      {
        "duration": 13,
        "start_time": "2022-10-26T11:42:42.259Z"
      },
      {
        "duration": 267,
        "start_time": "2022-10-26T11:42:42.273Z"
      },
      {
        "duration": 10,
        "start_time": "2022-10-26T11:42:42.542Z"
      },
      {
        "duration": 18,
        "start_time": "2022-10-26T11:42:42.554Z"
      },
      {
        "duration": 135,
        "start_time": "2022-10-26T11:42:42.574Z"
      },
      {
        "duration": 18,
        "start_time": "2022-10-26T11:46:00.538Z"
      },
      {
        "duration": 16,
        "start_time": "2022-10-26T11:46:10.826Z"
      },
      {
        "duration": 17,
        "start_time": "2022-10-26T11:46:15.294Z"
      },
      {
        "duration": 17,
        "start_time": "2022-10-26T11:47:26.556Z"
      },
      {
        "duration": 3,
        "start_time": "2022-10-26T11:47:53.403Z"
      },
      {
        "duration": 19,
        "start_time": "2022-10-26T11:48:00.635Z"
      },
      {
        "duration": 13,
        "start_time": "2022-10-26T11:48:13.923Z"
      },
      {
        "duration": 17,
        "start_time": "2022-10-26T11:48:27.240Z"
      },
      {
        "duration": 20,
        "start_time": "2022-10-26T11:48:38.984Z"
      },
      {
        "duration": 2,
        "start_time": "2022-10-26T11:48:44.519Z"
      },
      {
        "duration": 16,
        "start_time": "2022-10-26T11:48:45.801Z"
      },
      {
        "duration": 10,
        "start_time": "2022-10-26T11:49:06.340Z"
      },
      {
        "duration": 3,
        "start_time": "2022-10-26T11:49:10.972Z"
      },
      {
        "duration": 17,
        "start_time": "2022-10-26T11:49:14.603Z"
      },
      {
        "duration": 3,
        "start_time": "2022-10-26T11:50:16.339Z"
      },
      {
        "duration": 26,
        "start_time": "2022-10-26T11:50:18.097Z"
      },
      {
        "duration": 13,
        "start_time": "2022-10-26T11:50:32.716Z"
      },
      {
        "duration": 17,
        "start_time": "2022-10-26T11:53:16.234Z"
      },
      {
        "duration": 3,
        "start_time": "2022-10-26T11:53:20.761Z"
      },
      {
        "duration": 19,
        "start_time": "2022-10-26T11:53:25.535Z"
      },
      {
        "duration": 29,
        "start_time": "2022-10-26T11:53:29.079Z"
      },
      {
        "duration": 13,
        "start_time": "2022-10-26T11:53:33.617Z"
      },
      {
        "duration": 1515,
        "start_time": "2022-10-26T12:09:24.340Z"
      },
      {
        "duration": 9,
        "start_time": "2022-10-26T12:09:47.334Z"
      },
      {
        "duration": 11,
        "start_time": "2022-10-26T12:09:57.233Z"
      },
      {
        "duration": 24,
        "start_time": "2022-10-26T12:10:21.005Z"
      },
      {
        "duration": 23,
        "start_time": "2022-10-26T12:18:24.171Z"
      },
      {
        "duration": 9,
        "start_time": "2022-10-26T12:19:50.802Z"
      },
      {
        "duration": 13,
        "start_time": "2022-10-26T12:24:49.475Z"
      },
      {
        "duration": 11,
        "start_time": "2022-10-26T12:28:46.996Z"
      },
      {
        "duration": 18,
        "start_time": "2022-10-26T12:35:44.208Z"
      },
      {
        "duration": 23,
        "start_time": "2022-10-26T12:37:57.285Z"
      },
      {
        "duration": 1792,
        "start_time": "2022-10-26T12:38:23.852Z"
      },
      {
        "duration": 10,
        "start_time": "2022-10-26T12:38:39.130Z"
      },
      {
        "duration": 25,
        "start_time": "2022-10-26T12:39:14.994Z"
      },
      {
        "duration": 10,
        "start_time": "2022-10-26T12:39:37.957Z"
      },
      {
        "duration": 23,
        "start_time": "2022-10-26T12:42:04.151Z"
      },
      {
        "duration": 35,
        "start_time": "2022-10-26T12:43:34.319Z"
      },
      {
        "duration": 19,
        "start_time": "2022-10-26T12:43:51.562Z"
      },
      {
        "duration": 10,
        "start_time": "2022-10-26T12:43:56.035Z"
      },
      {
        "duration": 9,
        "start_time": "2022-10-26T12:44:28.004Z"
      },
      {
        "duration": 250,
        "start_time": "2022-10-26T12:45:25.921Z"
      },
      {
        "duration": 26,
        "start_time": "2022-10-26T12:45:32.046Z"
      },
      {
        "duration": 12,
        "start_time": "2022-10-26T12:46:33.634Z"
      },
      {
        "duration": 23,
        "start_time": "2022-10-26T12:48:11.915Z"
      },
      {
        "duration": 10,
        "start_time": "2022-10-26T12:48:45.377Z"
      },
      {
        "duration": 14,
        "start_time": "2022-10-26T12:50:07.130Z"
      },
      {
        "duration": 14,
        "start_time": "2022-10-26T12:54:27.719Z"
      },
      {
        "duration": 8,
        "start_time": "2022-10-26T12:54:34.060Z"
      },
      {
        "duration": 14,
        "start_time": "2022-10-26T12:54:39.721Z"
      },
      {
        "duration": 16,
        "start_time": "2022-10-26T12:55:26.023Z"
      },
      {
        "duration": 20,
        "start_time": "2022-10-26T12:55:50.583Z"
      },
      {
        "duration": 15,
        "start_time": "2022-10-26T12:56:30.823Z"
      },
      {
        "duration": 13,
        "start_time": "2022-10-26T12:58:56.262Z"
      },
      {
        "duration": 11,
        "start_time": "2022-10-26T12:59:04.944Z"
      },
      {
        "duration": 16,
        "start_time": "2022-10-26T12:59:14.747Z"
      },
      {
        "duration": 14,
        "start_time": "2022-10-26T12:59:56.470Z"
      },
      {
        "duration": 16,
        "start_time": "2022-10-26T13:00:06.870Z"
      },
      {
        "duration": 13,
        "start_time": "2022-10-26T13:00:32.278Z"
      },
      {
        "duration": 1124,
        "start_time": "2022-10-26T13:03:56.426Z"
      },
      {
        "duration": 13,
        "start_time": "2022-10-26T13:04:19.288Z"
      },
      {
        "duration": 14,
        "start_time": "2022-10-26T13:04:22.447Z"
      },
      {
        "duration": 10,
        "start_time": "2022-10-26T13:05:39.100Z"
      },
      {
        "duration": 14,
        "start_time": "2022-10-26T13:12:48.520Z"
      },
      {
        "duration": 11,
        "start_time": "2022-10-26T13:12:51.724Z"
      },
      {
        "duration": 7,
        "start_time": "2022-10-26T13:22:15.631Z"
      },
      {
        "duration": 13,
        "start_time": "2022-10-26T13:23:05.264Z"
      },
      {
        "duration": 18,
        "start_time": "2022-10-26T13:25:11.991Z"
      },
      {
        "duration": 1308,
        "start_time": "2022-10-26T13:28:56.182Z"
      },
      {
        "duration": 9,
        "start_time": "2022-10-26T13:29:23.554Z"
      },
      {
        "duration": 11,
        "start_time": "2022-10-26T13:29:26.931Z"
      },
      {
        "duration": 11,
        "start_time": "2022-10-26T13:29:30.842Z"
      },
      {
        "duration": 11,
        "start_time": "2022-10-26T13:29:34.001Z"
      },
      {
        "duration": 11,
        "start_time": "2022-10-26T13:29:35.291Z"
      },
      {
        "duration": 11,
        "start_time": "2022-10-26T13:32:58.617Z"
      },
      {
        "duration": 10,
        "start_time": "2022-10-26T13:33:02.931Z"
      },
      {
        "duration": 335,
        "start_time": "2022-10-26T13:35:00.249Z"
      },
      {
        "duration": 457,
        "start_time": "2022-10-26T13:35:16.644Z"
      },
      {
        "duration": 676,
        "start_time": "2022-10-26T13:35:25.088Z"
      },
      {
        "duration": 16,
        "start_time": "2022-10-26T13:36:05.816Z"
      },
      {
        "duration": 1202,
        "start_time": "2022-10-26T13:53:25.492Z"
      },
      {
        "duration": 1159,
        "start_time": "2022-10-26T13:53:33.246Z"
      },
      {
        "duration": 1158,
        "start_time": "2022-10-26T13:53:50.343Z"
      },
      {
        "duration": 1252,
        "start_time": "2022-10-26T13:54:01.480Z"
      },
      {
        "duration": 4,
        "start_time": "2022-10-26T13:54:02.734Z"
      },
      {
        "duration": 57,
        "start_time": "2022-10-26T13:54:02.740Z"
      },
      {
        "duration": 598,
        "start_time": "2022-10-26T13:54:02.799Z"
      },
      {
        "duration": 102,
        "start_time": "2022-10-26T13:54:03.400Z"
      },
      {
        "duration": 43,
        "start_time": "2022-10-26T13:54:03.504Z"
      },
      {
        "duration": 125,
        "start_time": "2022-10-26T13:54:03.548Z"
      },
      {
        "duration": 12,
        "start_time": "2022-10-26T13:54:03.675Z"
      },
      {
        "duration": 35,
        "start_time": "2022-10-26T13:54:03.689Z"
      },
      {
        "duration": 11,
        "start_time": "2022-10-26T13:54:03.728Z"
      },
      {
        "duration": 5,
        "start_time": "2022-10-26T13:54:03.742Z"
      },
      {
        "duration": 5,
        "start_time": "2022-10-26T13:54:03.750Z"
      },
      {
        "duration": 32,
        "start_time": "2022-10-26T13:54:03.756Z"
      },
      {
        "duration": 51,
        "start_time": "2022-10-26T13:54:03.790Z"
      },
      {
        "duration": 49,
        "start_time": "2022-10-26T13:54:03.844Z"
      },
      {
        "duration": 35,
        "start_time": "2022-10-26T13:54:03.895Z"
      },
      {
        "duration": 14,
        "start_time": "2022-10-26T13:54:03.931Z"
      },
      {
        "duration": 5,
        "start_time": "2022-10-26T13:54:03.946Z"
      },
      {
        "duration": 16,
        "start_time": "2022-10-26T13:54:03.952Z"
      },
      {
        "duration": 9,
        "start_time": "2022-10-26T13:54:03.971Z"
      },
      {
        "duration": 45,
        "start_time": "2022-10-26T13:54:03.982Z"
      },
      {
        "duration": 17,
        "start_time": "2022-10-26T13:54:04.029Z"
      },
      {
        "duration": 15,
        "start_time": "2022-10-26T13:54:04.048Z"
      },
      {
        "duration": 5,
        "start_time": "2022-10-26T13:54:04.065Z"
      },
      {
        "duration": 22,
        "start_time": "2022-10-26T13:54:04.072Z"
      },
      {
        "duration": 331,
        "start_time": "2022-10-26T13:54:04.096Z"
      },
      {
        "duration": 136,
        "start_time": "2022-10-26T13:54:04.429Z"
      },
      {
        "duration": 17,
        "start_time": "2022-10-26T13:54:04.568Z"
      },
      {
        "duration": 6,
        "start_time": "2022-10-26T13:54:04.586Z"
      },
      {
        "duration": 7,
        "start_time": "2022-10-26T13:54:04.593Z"
      },
      {
        "duration": 27,
        "start_time": "2022-10-26T13:54:04.601Z"
      },
      {
        "duration": 5,
        "start_time": "2022-10-26T13:54:04.630Z"
      },
      {
        "duration": 10,
        "start_time": "2022-10-26T13:54:04.637Z"
      },
      {
        "duration": 7,
        "start_time": "2022-10-26T13:54:04.649Z"
      },
      {
        "duration": 11,
        "start_time": "2022-10-26T13:54:04.658Z"
      },
      {
        "duration": 11,
        "start_time": "2022-10-26T13:54:04.671Z"
      },
      {
        "duration": 62,
        "start_time": "2022-10-26T13:54:04.683Z"
      },
      {
        "duration": 6,
        "start_time": "2022-10-26T13:54:04.746Z"
      },
      {
        "duration": 3284,
        "start_time": "2022-10-26T13:54:04.754Z"
      },
      {
        "duration": 11,
        "start_time": "2022-10-26T13:54:08.040Z"
      },
      {
        "duration": 24,
        "start_time": "2022-10-26T13:54:08.052Z"
      },
      {
        "duration": 157,
        "start_time": "2022-10-26T13:54:08.078Z"
      },
      {
        "duration": 3409,
        "start_time": "2022-10-26T13:54:08.236Z"
      },
      {
        "duration": 31,
        "start_time": "2022-10-26T13:54:11.648Z"
      },
      {
        "duration": 1435,
        "start_time": "2022-10-26T13:54:11.681Z"
      },
      {
        "duration": 0,
        "start_time": "2022-10-26T13:54:13.117Z"
      },
      {
        "duration": 0,
        "start_time": "2022-10-26T13:54:13.119Z"
      },
      {
        "duration": 0,
        "start_time": "2022-10-26T13:54:13.120Z"
      },
      {
        "duration": 0,
        "start_time": "2022-10-26T13:54:13.121Z"
      },
      {
        "duration": 0,
        "start_time": "2022-10-26T13:54:13.122Z"
      },
      {
        "duration": 0,
        "start_time": "2022-10-26T13:54:13.123Z"
      },
      {
        "duration": 0,
        "start_time": "2022-10-26T13:54:13.124Z"
      },
      {
        "duration": 0,
        "start_time": "2022-10-26T13:54:13.126Z"
      },
      {
        "duration": 14,
        "start_time": "2022-10-26T13:54:59.817Z"
      },
      {
        "duration": 1166,
        "start_time": "2022-10-26T13:55:05.259Z"
      },
      {
        "duration": 4,
        "start_time": "2022-10-26T13:55:06.427Z"
      },
      {
        "duration": 57,
        "start_time": "2022-10-26T13:55:06.432Z"
      },
      {
        "duration": 614,
        "start_time": "2022-10-26T13:55:06.491Z"
      },
      {
        "duration": 99,
        "start_time": "2022-10-26T13:55:07.107Z"
      },
      {
        "duration": 44,
        "start_time": "2022-10-26T13:55:07.207Z"
      },
      {
        "duration": 134,
        "start_time": "2022-10-26T13:55:07.253Z"
      },
      {
        "duration": 13,
        "start_time": "2022-10-26T13:55:07.389Z"
      },
      {
        "duration": 35,
        "start_time": "2022-10-26T13:55:07.404Z"
      },
      {
        "duration": 22,
        "start_time": "2022-10-26T13:55:07.443Z"
      },
      {
        "duration": 18,
        "start_time": "2022-10-26T13:55:07.468Z"
      },
      {
        "duration": 27,
        "start_time": "2022-10-26T13:55:07.488Z"
      },
      {
        "duration": 59,
        "start_time": "2022-10-26T13:55:07.517Z"
      },
      {
        "duration": 25,
        "start_time": "2022-10-26T13:55:07.579Z"
      },
      {
        "duration": 64,
        "start_time": "2022-10-26T13:55:07.605Z"
      },
      {
        "duration": 14,
        "start_time": "2022-10-26T13:55:07.671Z"
      },
      {
        "duration": 42,
        "start_time": "2022-10-26T13:55:07.686Z"
      },
      {
        "duration": 8,
        "start_time": "2022-10-26T13:55:07.730Z"
      },
      {
        "duration": 10,
        "start_time": "2022-10-26T13:55:07.740Z"
      },
      {
        "duration": 23,
        "start_time": "2022-10-26T13:55:07.752Z"
      },
      {
        "duration": 17,
        "start_time": "2022-10-26T13:55:07.776Z"
      },
      {
        "duration": 32,
        "start_time": "2022-10-26T13:55:07.795Z"
      },
      {
        "duration": 27,
        "start_time": "2022-10-26T13:55:07.829Z"
      },
      {
        "duration": 13,
        "start_time": "2022-10-26T13:55:07.858Z"
      },
      {
        "duration": 42,
        "start_time": "2022-10-26T13:55:07.872Z"
      },
      {
        "duration": 303,
        "start_time": "2022-10-26T13:55:07.916Z"
      },
      {
        "duration": 131,
        "start_time": "2022-10-26T13:55:08.220Z"
      },
      {
        "duration": 17,
        "start_time": "2022-10-26T13:55:08.355Z"
      },
      {
        "duration": 4,
        "start_time": "2022-10-26T13:55:08.374Z"
      },
      {
        "duration": 18,
        "start_time": "2022-10-26T13:55:08.380Z"
      },
      {
        "duration": 11,
        "start_time": "2022-10-26T13:55:08.399Z"
      },
      {
        "duration": 6,
        "start_time": "2022-10-26T13:55:08.425Z"
      },
      {
        "duration": 11,
        "start_time": "2022-10-26T13:55:08.432Z"
      },
      {
        "duration": 7,
        "start_time": "2022-10-26T13:55:08.445Z"
      },
      {
        "duration": 12,
        "start_time": "2022-10-26T13:55:08.454Z"
      },
      {
        "duration": 12,
        "start_time": "2022-10-26T13:55:08.468Z"
      },
      {
        "duration": 56,
        "start_time": "2022-10-26T13:55:08.482Z"
      },
      {
        "duration": 7,
        "start_time": "2022-10-26T13:55:08.540Z"
      },
      {
        "duration": 3307,
        "start_time": "2022-10-26T13:55:08.549Z"
      },
      {
        "duration": 13,
        "start_time": "2022-10-26T13:55:11.859Z"
      },
      {
        "duration": 52,
        "start_time": "2022-10-26T13:55:11.875Z"
      },
      {
        "duration": 175,
        "start_time": "2022-10-26T13:55:11.929Z"
      },
      {
        "duration": 3354,
        "start_time": "2022-10-26T13:55:12.106Z"
      },
      {
        "duration": 24,
        "start_time": "2022-10-26T13:55:15.462Z"
      },
      {
        "duration": 10,
        "start_time": "2022-10-26T13:55:15.488Z"
      },
      {
        "duration": 3389,
        "start_time": "2022-10-26T13:55:15.501Z"
      },
      {
        "duration": 19,
        "start_time": "2022-10-26T13:55:18.892Z"
      },
      {
        "duration": 21,
        "start_time": "2022-10-26T13:55:18.913Z"
      },
      {
        "duration": 264,
        "start_time": "2022-10-26T13:55:18.936Z"
      },
      {
        "duration": 23,
        "start_time": "2022-10-26T13:55:19.202Z"
      },
      {
        "duration": 19,
        "start_time": "2022-10-26T13:55:19.226Z"
      },
      {
        "duration": 11,
        "start_time": "2022-10-26T13:55:19.246Z"
      },
      {
        "duration": 137,
        "start_time": "2022-10-26T13:55:19.258Z"
      },
      {
        "duration": 4,
        "start_time": "2022-10-26T13:55:56.070Z"
      },
      {
        "duration": 12,
        "start_time": "2022-10-26T13:56:00.794Z"
      },
      {
        "duration": 17,
        "start_time": "2022-10-26T13:57:16.456Z"
      },
      {
        "duration": 21,
        "start_time": "2022-10-26T14:20:17.110Z"
      },
      {
        "duration": 19,
        "start_time": "2022-10-26T14:40:42.616Z"
      },
      {
        "duration": 20,
        "start_time": "2022-10-26T14:42:08.392Z"
      },
      {
        "duration": 11,
        "start_time": "2022-10-26T14:55:22.712Z"
      },
      {
        "duration": 12,
        "start_time": "2022-10-26T15:00:04.689Z"
      },
      {
        "duration": 236,
        "start_time": "2022-10-26T15:07:17.644Z"
      },
      {
        "duration": 1284,
        "start_time": "2022-10-26T17:49:27.333Z"
      },
      {
        "duration": 4,
        "start_time": "2022-10-26T17:49:28.619Z"
      },
      {
        "duration": 94,
        "start_time": "2022-10-26T17:49:28.624Z"
      },
      {
        "duration": 707,
        "start_time": "2022-10-26T17:49:28.719Z"
      },
      {
        "duration": 320,
        "start_time": "2022-10-26T17:49:29.428Z"
      },
      {
        "duration": 90,
        "start_time": "2022-10-26T17:49:29.749Z"
      },
      {
        "duration": 115,
        "start_time": "2022-10-26T17:49:29.841Z"
      },
      {
        "duration": 12,
        "start_time": "2022-10-26T17:49:29.958Z"
      },
      {
        "duration": 11,
        "start_time": "2022-10-26T17:49:29.971Z"
      },
      {
        "duration": 7,
        "start_time": "2022-10-26T17:49:29.984Z"
      },
      {
        "duration": 4,
        "start_time": "2022-10-26T17:49:29.992Z"
      },
      {
        "duration": 36,
        "start_time": "2022-10-26T17:49:29.997Z"
      },
      {
        "duration": 26,
        "start_time": "2022-10-26T17:49:30.035Z"
      },
      {
        "duration": 18,
        "start_time": "2022-10-26T17:49:30.063Z"
      },
      {
        "duration": 60,
        "start_time": "2022-10-26T17:49:30.082Z"
      },
      {
        "duration": 11,
        "start_time": "2022-10-26T17:49:30.144Z"
      },
      {
        "duration": 30,
        "start_time": "2022-10-26T17:49:30.157Z"
      },
      {
        "duration": 19,
        "start_time": "2022-10-26T17:49:30.189Z"
      },
      {
        "duration": 41,
        "start_time": "2022-10-26T17:49:30.210Z"
      },
      {
        "duration": 13,
        "start_time": "2022-10-26T17:49:30.253Z"
      },
      {
        "duration": 28,
        "start_time": "2022-10-26T17:49:30.268Z"
      },
      {
        "duration": 21,
        "start_time": "2022-10-26T17:49:30.298Z"
      },
      {
        "duration": 272,
        "start_time": "2022-10-26T17:49:30.321Z"
      },
      {
        "duration": 117,
        "start_time": "2022-10-26T17:49:30.595Z"
      },
      {
        "duration": 4,
        "start_time": "2022-10-26T17:49:30.714Z"
      },
      {
        "duration": 19,
        "start_time": "2022-10-26T17:49:30.720Z"
      },
      {
        "duration": 28,
        "start_time": "2022-10-26T17:49:30.741Z"
      },
      {
        "duration": 17,
        "start_time": "2022-10-26T17:49:30.772Z"
      },
      {
        "duration": 17,
        "start_time": "2022-10-26T17:49:30.790Z"
      },
      {
        "duration": 20,
        "start_time": "2022-10-26T17:49:30.808Z"
      },
      {
        "duration": 19,
        "start_time": "2022-10-26T17:49:30.830Z"
      },
      {
        "duration": 19,
        "start_time": "2022-10-26T17:49:30.850Z"
      },
      {
        "duration": 37,
        "start_time": "2022-10-26T17:49:30.871Z"
      },
      {
        "duration": 17,
        "start_time": "2022-10-26T17:49:30.910Z"
      },
      {
        "duration": 2986,
        "start_time": "2022-10-26T17:49:30.928Z"
      },
      {
        "duration": 27,
        "start_time": "2022-10-26T17:49:33.916Z"
      },
      {
        "duration": 140,
        "start_time": "2022-10-26T17:49:33.944Z"
      },
      {
        "duration": 3122,
        "start_time": "2022-10-26T17:49:34.086Z"
      },
      {
        "duration": 27,
        "start_time": "2022-10-26T17:49:37.211Z"
      },
      {
        "duration": 11,
        "start_time": "2022-10-26T17:49:37.240Z"
      },
      {
        "duration": 2978,
        "start_time": "2022-10-26T17:49:37.252Z"
      },
      {
        "duration": 19,
        "start_time": "2022-10-26T17:49:40.232Z"
      },
      {
        "duration": 9,
        "start_time": "2022-10-26T17:49:40.252Z"
      },
      {
        "duration": 235,
        "start_time": "2022-10-26T17:49:40.263Z"
      },
      {
        "duration": 13,
        "start_time": "2022-10-26T17:49:40.500Z"
      },
      {
        "duration": 21,
        "start_time": "2022-10-26T17:49:40.514Z"
      },
      {
        "duration": 8,
        "start_time": "2022-10-26T17:49:40.536Z"
      },
      {
        "duration": 12,
        "start_time": "2022-10-26T17:49:40.545Z"
      },
      {
        "duration": 21,
        "start_time": "2022-10-26T18:34:03.235Z"
      },
      {
        "duration": 22,
        "start_time": "2022-10-26T18:34:09.178Z"
      },
      {
        "duration": 1137,
        "start_time": "2022-10-26T18:34:34.199Z"
      },
      {
        "duration": 3,
        "start_time": "2022-10-26T18:34:35.338Z"
      },
      {
        "duration": 50,
        "start_time": "2022-10-26T18:34:35.342Z"
      },
      {
        "duration": 548,
        "start_time": "2022-10-26T18:34:35.394Z"
      },
      {
        "duration": 86,
        "start_time": "2022-10-26T18:34:35.944Z"
      },
      {
        "duration": 40,
        "start_time": "2022-10-26T18:34:36.032Z"
      },
      {
        "duration": 122,
        "start_time": "2022-10-26T18:34:36.073Z"
      },
      {
        "duration": 16,
        "start_time": "2022-10-26T18:34:36.197Z"
      },
      {
        "duration": 25,
        "start_time": "2022-10-26T18:34:36.215Z"
      },
      {
        "duration": 11,
        "start_time": "2022-10-26T18:34:36.244Z"
      },
      {
        "duration": 12,
        "start_time": "2022-10-26T18:34:36.257Z"
      },
      {
        "duration": 11,
        "start_time": "2022-10-26T18:34:36.271Z"
      },
      {
        "duration": 50,
        "start_time": "2022-10-26T18:34:36.284Z"
      },
      {
        "duration": 26,
        "start_time": "2022-10-26T18:34:36.336Z"
      },
      {
        "duration": 71,
        "start_time": "2022-10-26T18:34:36.364Z"
      },
      {
        "duration": 16,
        "start_time": "2022-10-26T18:34:36.437Z"
      },
      {
        "duration": 15,
        "start_time": "2022-10-26T18:34:36.455Z"
      },
      {
        "duration": 6,
        "start_time": "2022-10-26T18:34:36.472Z"
      },
      {
        "duration": 54,
        "start_time": "2022-10-26T18:34:36.480Z"
      },
      {
        "duration": 14,
        "start_time": "2022-10-26T18:34:36.536Z"
      },
      {
        "duration": 4,
        "start_time": "2022-10-26T18:34:36.552Z"
      },
      {
        "duration": 12,
        "start_time": "2022-10-26T18:34:36.558Z"
      },
      {
        "duration": 290,
        "start_time": "2022-10-26T18:34:36.571Z"
      },
      {
        "duration": 137,
        "start_time": "2022-10-26T18:34:36.863Z"
      },
      {
        "duration": 5,
        "start_time": "2022-10-26T18:34:37.002Z"
      },
      {
        "duration": 8,
        "start_time": "2022-10-26T18:34:37.008Z"
      },
      {
        "duration": 16,
        "start_time": "2022-10-26T18:34:37.018Z"
      },
      {
        "duration": 4,
        "start_time": "2022-10-26T18:34:37.038Z"
      },
      {
        "duration": 12,
        "start_time": "2022-10-26T18:34:37.043Z"
      },
      {
        "duration": 8,
        "start_time": "2022-10-26T18:34:37.056Z"
      },
      {
        "duration": 11,
        "start_time": "2022-10-26T18:34:37.066Z"
      },
      {
        "duration": 18,
        "start_time": "2022-10-26T18:34:37.079Z"
      },
      {
        "duration": 57,
        "start_time": "2022-10-26T18:34:37.099Z"
      },
      {
        "duration": 8,
        "start_time": "2022-10-26T18:34:37.158Z"
      },
      {
        "duration": 2934,
        "start_time": "2022-10-26T18:34:37.169Z"
      },
      {
        "duration": 29,
        "start_time": "2022-10-26T18:34:40.105Z"
      },
      {
        "duration": 145,
        "start_time": "2022-10-26T18:34:40.135Z"
      },
      {
        "duration": 3270,
        "start_time": "2022-10-26T18:34:40.281Z"
      },
      {
        "duration": 24,
        "start_time": "2022-10-26T18:34:43.552Z"
      },
      {
        "duration": 11,
        "start_time": "2022-10-26T18:34:43.577Z"
      },
      {
        "duration": 3179,
        "start_time": "2022-10-26T18:34:43.589Z"
      },
      {
        "duration": 17,
        "start_time": "2022-10-26T18:34:46.770Z"
      },
      {
        "duration": 9,
        "start_time": "2022-10-26T18:34:46.788Z"
      },
      {
        "duration": 235,
        "start_time": "2022-10-26T18:34:46.799Z"
      },
      {
        "duration": 15,
        "start_time": "2022-10-26T18:34:47.036Z"
      },
      {
        "duration": 23,
        "start_time": "2022-10-26T18:34:47.053Z"
      },
      {
        "duration": 8,
        "start_time": "2022-10-26T18:34:47.077Z"
      },
      {
        "duration": 16,
        "start_time": "2022-10-26T18:34:47.087Z"
      },
      {
        "duration": 24,
        "start_time": "2022-10-26T18:37:02.155Z"
      },
      {
        "duration": 24,
        "start_time": "2022-10-26T18:37:13.893Z"
      },
      {
        "duration": 22,
        "start_time": "2022-10-26T18:37:20.544Z"
      },
      {
        "duration": 22,
        "start_time": "2022-10-26T18:37:38.393Z"
      },
      {
        "duration": 18,
        "start_time": "2022-10-26T18:37:50.794Z"
      },
      {
        "duration": 1169,
        "start_time": "2022-10-26T18:37:59.298Z"
      },
      {
        "duration": 3,
        "start_time": "2022-10-26T18:38:00.469Z"
      },
      {
        "duration": 95,
        "start_time": "2022-10-26T18:38:00.474Z"
      },
      {
        "duration": 613,
        "start_time": "2022-10-26T18:38:00.571Z"
      },
      {
        "duration": 89,
        "start_time": "2022-10-26T18:38:01.186Z"
      },
      {
        "duration": 42,
        "start_time": "2022-10-26T18:38:01.277Z"
      },
      {
        "duration": 124,
        "start_time": "2022-10-26T18:38:01.321Z"
      },
      {
        "duration": 14,
        "start_time": "2022-10-26T18:38:01.448Z"
      },
      {
        "duration": 13,
        "start_time": "2022-10-26T18:38:01.464Z"
      },
      {
        "duration": 10,
        "start_time": "2022-10-26T18:38:01.480Z"
      },
      {
        "duration": 11,
        "start_time": "2022-10-26T18:38:01.491Z"
      },
      {
        "duration": 31,
        "start_time": "2022-10-26T18:38:01.504Z"
      },
      {
        "duration": 34,
        "start_time": "2022-10-26T18:38:01.537Z"
      },
      {
        "duration": 18,
        "start_time": "2022-10-26T18:38:01.573Z"
      },
      {
        "duration": 56,
        "start_time": "2022-10-26T18:38:01.593Z"
      },
      {
        "duration": 12,
        "start_time": "2022-10-26T18:38:01.651Z"
      },
      {
        "duration": 12,
        "start_time": "2022-10-26T18:38:01.664Z"
      },
      {
        "duration": 5,
        "start_time": "2022-10-26T18:38:01.678Z"
      },
      {
        "duration": 25,
        "start_time": "2022-10-26T18:38:01.685Z"
      },
      {
        "duration": 35,
        "start_time": "2022-10-26T18:38:01.711Z"
      },
      {
        "duration": 4,
        "start_time": "2022-10-26T18:38:01.748Z"
      },
      {
        "duration": 13,
        "start_time": "2022-10-26T18:38:01.753Z"
      },
      {
        "duration": 276,
        "start_time": "2022-10-26T18:38:01.768Z"
      },
      {
        "duration": 135,
        "start_time": "2022-10-26T18:38:02.045Z"
      },
      {
        "duration": 4,
        "start_time": "2022-10-26T18:38:02.182Z"
      },
      {
        "duration": 17,
        "start_time": "2022-10-26T18:38:02.188Z"
      },
      {
        "duration": 8,
        "start_time": "2022-10-26T18:38:02.207Z"
      },
      {
        "duration": 12,
        "start_time": "2022-10-26T18:38:02.218Z"
      },
      {
        "duration": 15,
        "start_time": "2022-10-26T18:38:02.232Z"
      },
      {
        "duration": 14,
        "start_time": "2022-10-26T18:38:02.249Z"
      },
      {
        "duration": 21,
        "start_time": "2022-10-26T18:38:02.264Z"
      },
      {
        "duration": 12,
        "start_time": "2022-10-26T18:38:02.286Z"
      },
      {
        "duration": 27,
        "start_time": "2022-10-26T18:38:02.300Z"
      },
      {
        "duration": 5,
        "start_time": "2022-10-26T18:38:02.329Z"
      },
      {
        "duration": 3170,
        "start_time": "2022-10-26T18:38:02.336Z"
      },
      {
        "duration": 29,
        "start_time": "2022-10-26T18:38:05.508Z"
      },
      {
        "duration": 141,
        "start_time": "2022-10-26T18:38:05.538Z"
      },
      {
        "duration": 3467,
        "start_time": "2022-10-26T18:38:05.681Z"
      },
      {
        "duration": 22,
        "start_time": "2022-10-26T18:38:09.150Z"
      },
      {
        "duration": 10,
        "start_time": "2022-10-26T18:38:09.173Z"
      },
      {
        "duration": 3186,
        "start_time": "2022-10-26T18:38:09.184Z"
      },
      {
        "duration": 17,
        "start_time": "2022-10-26T18:38:12.372Z"
      },
      {
        "duration": 10,
        "start_time": "2022-10-26T18:38:12.390Z"
      },
      {
        "duration": 244,
        "start_time": "2022-10-26T18:38:12.401Z"
      },
      {
        "duration": 14,
        "start_time": "2022-10-26T18:38:12.647Z"
      },
      {
        "duration": 9,
        "start_time": "2022-10-26T18:38:12.663Z"
      },
      {
        "duration": 7,
        "start_time": "2022-10-26T18:38:12.673Z"
      },
      {
        "duration": 14,
        "start_time": "2022-10-26T18:38:12.682Z"
      },
      {
        "duration": 31,
        "start_time": "2022-10-26T19:07:41.518Z"
      },
      {
        "duration": 9,
        "start_time": "2022-10-26T19:07:43.780Z"
      },
      {
        "duration": 48,
        "start_time": "2022-10-26T19:07:54.607Z"
      },
      {
        "duration": 30,
        "start_time": "2022-10-26T19:08:46.796Z"
      },
      {
        "duration": 22,
        "start_time": "2022-10-26T19:09:33.518Z"
      },
      {
        "duration": 10,
        "start_time": "2022-10-26T19:10:28.487Z"
      },
      {
        "duration": 8,
        "start_time": "2022-10-26T19:11:04.807Z"
      },
      {
        "duration": 46,
        "start_time": "2022-10-26T19:11:10.257Z"
      },
      {
        "duration": 10,
        "start_time": "2022-10-26T19:11:17.084Z"
      },
      {
        "duration": 75,
        "start_time": "2022-10-26T19:12:25.908Z"
      },
      {
        "duration": 22,
        "start_time": "2022-10-26T19:12:32.108Z"
      },
      {
        "duration": 1101,
        "start_time": "2022-10-26T19:12:36.877Z"
      },
      {
        "duration": 3,
        "start_time": "2022-10-26T19:12:37.980Z"
      },
      {
        "duration": 51,
        "start_time": "2022-10-26T19:12:37.984Z"
      },
      {
        "duration": 561,
        "start_time": "2022-10-26T19:12:38.037Z"
      },
      {
        "duration": 91,
        "start_time": "2022-10-26T19:12:38.600Z"
      },
      {
        "duration": 50,
        "start_time": "2022-10-26T19:12:38.692Z"
      },
      {
        "duration": 125,
        "start_time": "2022-10-26T19:12:38.743Z"
      },
      {
        "duration": 10,
        "start_time": "2022-10-26T19:12:38.870Z"
      },
      {
        "duration": 10,
        "start_time": "2022-10-26T19:12:38.881Z"
      },
      {
        "duration": 6,
        "start_time": "2022-10-26T19:12:38.892Z"
      },
      {
        "duration": 4,
        "start_time": "2022-10-26T19:12:38.900Z"
      },
      {
        "duration": 4,
        "start_time": "2022-10-26T19:12:38.934Z"
      },
      {
        "duration": 28,
        "start_time": "2022-10-26T19:12:38.940Z"
      },
      {
        "duration": 18,
        "start_time": "2022-10-26T19:12:38.971Z"
      },
      {
        "duration": 54,
        "start_time": "2022-10-26T19:12:38.990Z"
      },
      {
        "duration": 11,
        "start_time": "2022-10-26T19:12:39.046Z"
      },
      {
        "duration": 11,
        "start_time": "2022-10-26T19:12:39.058Z"
      },
      {
        "duration": 5,
        "start_time": "2022-10-26T19:12:39.070Z"
      },
      {
        "duration": 67,
        "start_time": "2022-10-26T19:12:39.076Z"
      },
      {
        "duration": 13,
        "start_time": "2022-10-26T19:12:39.144Z"
      },
      {
        "duration": 4,
        "start_time": "2022-10-26T19:12:39.159Z"
      },
      {
        "duration": 12,
        "start_time": "2022-10-26T19:12:39.164Z"
      },
      {
        "duration": 569,
        "start_time": "2022-10-26T19:12:39.177Z"
      },
      {
        "duration": 217,
        "start_time": "2022-10-26T19:12:39.748Z"
      },
      {
        "duration": 4,
        "start_time": "2022-10-26T19:12:39.967Z"
      },
      {
        "duration": 8,
        "start_time": "2022-10-26T19:12:39.972Z"
      },
      {
        "duration": 56,
        "start_time": "2022-10-26T19:12:39.981Z"
      },
      {
        "duration": 18,
        "start_time": "2022-10-26T19:12:40.038Z"
      },
      {
        "duration": 29,
        "start_time": "2022-10-26T19:12:40.057Z"
      },
      {
        "duration": 49,
        "start_time": "2022-10-26T19:12:40.088Z"
      },
      {
        "duration": 36,
        "start_time": "2022-10-26T19:12:40.139Z"
      },
      {
        "duration": 61,
        "start_time": "2022-10-26T19:12:40.177Z"
      },
      {
        "duration": 33,
        "start_time": "2022-10-26T19:12:40.239Z"
      },
      {
        "duration": 4,
        "start_time": "2022-10-26T19:12:40.274Z"
      },
      {
        "duration": 3272,
        "start_time": "2022-10-26T19:12:40.280Z"
      },
      {
        "duration": 23,
        "start_time": "2022-10-26T19:12:43.554Z"
      },
      {
        "duration": 154,
        "start_time": "2022-10-26T19:12:43.578Z"
      },
      {
        "duration": 3110,
        "start_time": "2022-10-26T19:12:43.733Z"
      },
      {
        "duration": 22,
        "start_time": "2022-10-26T19:12:46.845Z"
      },
      {
        "duration": 9,
        "start_time": "2022-10-26T19:12:46.869Z"
      },
      {
        "duration": 3140,
        "start_time": "2022-10-26T19:12:46.882Z"
      },
      {
        "duration": 24,
        "start_time": "2022-10-26T19:12:50.024Z"
      },
      {
        "duration": 10,
        "start_time": "2022-10-26T19:12:50.050Z"
      },
      {
        "duration": 234,
        "start_time": "2022-10-26T19:12:50.061Z"
      },
      {
        "duration": 14,
        "start_time": "2022-10-26T19:12:50.297Z"
      },
      {
        "duration": 22,
        "start_time": "2022-10-26T19:12:50.312Z"
      },
      {
        "duration": 8,
        "start_time": "2022-10-26T19:12:50.335Z"
      },
      {
        "duration": 17,
        "start_time": "2022-10-26T19:12:50.344Z"
      },
      {
        "duration": 5,
        "start_time": "2022-10-26T19:18:19.878Z"
      },
      {
        "duration": 3039,
        "start_time": "2022-10-26T19:18:21.536Z"
      },
      {
        "duration": 2785,
        "start_time": "2022-10-26T19:18:30.962Z"
      },
      {
        "duration": 2874,
        "start_time": "2022-10-26T19:18:42.660Z"
      },
      {
        "duration": 14,
        "start_time": "2022-10-26T19:30:47.145Z"
      },
      {
        "duration": 792,
        "start_time": "2022-10-26T19:30:59.428Z"
      },
      {
        "duration": 1158,
        "start_time": "2022-10-26T19:31:15.672Z"
      },
      {
        "duration": 3,
        "start_time": "2022-10-26T19:31:16.832Z"
      },
      {
        "duration": 51,
        "start_time": "2022-10-26T19:31:16.837Z"
      },
      {
        "duration": 556,
        "start_time": "2022-10-26T19:31:16.891Z"
      },
      {
        "duration": 88,
        "start_time": "2022-10-26T19:31:17.449Z"
      },
      {
        "duration": 42,
        "start_time": "2022-10-26T19:31:17.539Z"
      },
      {
        "duration": 113,
        "start_time": "2022-10-26T19:31:17.583Z"
      },
      {
        "duration": 13,
        "start_time": "2022-10-26T19:31:17.698Z"
      },
      {
        "duration": 26,
        "start_time": "2022-10-26T19:31:17.712Z"
      },
      {
        "duration": 7,
        "start_time": "2022-10-26T19:31:17.741Z"
      },
      {
        "duration": 5,
        "start_time": "2022-10-26T19:31:17.749Z"
      },
      {
        "duration": 5,
        "start_time": "2022-10-26T19:31:17.755Z"
      },
      {
        "duration": 27,
        "start_time": "2022-10-26T19:31:17.761Z"
      },
      {
        "duration": 59,
        "start_time": "2022-10-26T19:31:17.790Z"
      },
      {
        "duration": 40,
        "start_time": "2022-10-26T19:31:17.851Z"
      },
      {
        "duration": 11,
        "start_time": "2022-10-26T19:31:17.893Z"
      },
      {
        "duration": 39,
        "start_time": "2022-10-26T19:31:17.905Z"
      },
      {
        "duration": 5,
        "start_time": "2022-10-26T19:31:17.946Z"
      },
      {
        "duration": 24,
        "start_time": "2022-10-26T19:31:17.953Z"
      },
      {
        "duration": 14,
        "start_time": "2022-10-26T19:31:17.979Z"
      },
      {
        "duration": 4,
        "start_time": "2022-10-26T19:31:17.995Z"
      },
      {
        "duration": 43,
        "start_time": "2022-10-26T19:31:18.001Z"
      },
      {
        "duration": 296,
        "start_time": "2022-10-26T19:31:18.046Z"
      },
      {
        "duration": 127,
        "start_time": "2022-10-26T19:31:18.344Z"
      },
      {
        "duration": 5,
        "start_time": "2022-10-26T19:31:18.474Z"
      },
      {
        "duration": 8,
        "start_time": "2022-10-26T19:31:18.481Z"
      },
      {
        "duration": 12,
        "start_time": "2022-10-26T19:31:18.491Z"
      },
      {
        "duration": 9,
        "start_time": "2022-10-26T19:31:18.507Z"
      },
      {
        "duration": 10,
        "start_time": "2022-10-26T19:31:18.534Z"
      },
      {
        "duration": 15,
        "start_time": "2022-10-26T19:31:18.546Z"
      },
      {
        "duration": 19,
        "start_time": "2022-10-26T19:31:18.563Z"
      },
      {
        "duration": 13,
        "start_time": "2022-10-26T19:31:18.584Z"
      },
      {
        "duration": 54,
        "start_time": "2022-10-26T19:31:18.598Z"
      },
      {
        "duration": 7,
        "start_time": "2022-10-26T19:31:18.653Z"
      },
      {
        "duration": 3106,
        "start_time": "2022-10-26T19:31:18.662Z"
      },
      {
        "duration": 22,
        "start_time": "2022-10-26T19:31:21.770Z"
      },
      {
        "duration": 157,
        "start_time": "2022-10-26T19:31:21.794Z"
      },
      {
        "duration": 3030,
        "start_time": "2022-10-26T19:31:21.953Z"
      },
      {
        "duration": 20,
        "start_time": "2022-10-26T19:31:24.985Z"
      },
      {
        "duration": 9,
        "start_time": "2022-10-26T19:31:25.007Z"
      },
      {
        "duration": 3050,
        "start_time": "2022-10-26T19:31:25.017Z"
      },
      {
        "duration": 24,
        "start_time": "2022-10-26T19:31:28.069Z"
      },
      {
        "duration": 11,
        "start_time": "2022-10-26T19:31:28.095Z"
      },
      {
        "duration": 267,
        "start_time": "2022-10-26T19:31:28.108Z"
      },
      {
        "duration": 14,
        "start_time": "2022-10-26T19:31:28.377Z"
      },
      {
        "duration": 14,
        "start_time": "2022-10-26T19:31:28.393Z"
      },
      {
        "duration": 26,
        "start_time": "2022-10-26T19:31:28.409Z"
      },
      {
        "duration": 14,
        "start_time": "2022-10-26T19:31:28.437Z"
      },
      {
        "duration": 106,
        "start_time": "2022-10-26T19:36:28.317Z"
      },
      {
        "duration": 9,
        "start_time": "2022-10-26T19:39:53.093Z"
      },
      {
        "duration": 17,
        "start_time": "2022-10-26T19:39:56.707Z"
      },
      {
        "duration": 15,
        "start_time": "2022-10-26T19:40:34.106Z"
      },
      {
        "duration": 15,
        "start_time": "2022-10-26T19:40:49.268Z"
      },
      {
        "duration": 13,
        "start_time": "2022-10-26T19:40:54.129Z"
      },
      {
        "duration": 15,
        "start_time": "2022-10-26T19:42:09.282Z"
      },
      {
        "duration": 21,
        "start_time": "2022-10-26T19:42:17.350Z"
      },
      {
        "duration": 21,
        "start_time": "2022-10-26T19:42:25.157Z"
      },
      {
        "duration": 20,
        "start_time": "2022-10-26T19:42:34.830Z"
      },
      {
        "duration": 22,
        "start_time": "2022-10-26T19:43:08.247Z"
      },
      {
        "duration": 20,
        "start_time": "2022-10-26T19:43:10.988Z"
      },
      {
        "duration": 21,
        "start_time": "2022-10-26T19:43:18.652Z"
      },
      {
        "duration": 21,
        "start_time": "2022-10-26T19:43:24.145Z"
      },
      {
        "duration": 21,
        "start_time": "2022-10-26T19:43:26.209Z"
      },
      {
        "duration": 20,
        "start_time": "2022-10-26T19:43:50.648Z"
      },
      {
        "duration": 21,
        "start_time": "2022-10-26T19:43:54.895Z"
      },
      {
        "duration": 20,
        "start_time": "2022-10-26T19:44:15.058Z"
      },
      {
        "duration": 27,
        "start_time": "2022-10-26T19:44:18.146Z"
      },
      {
        "duration": 1114,
        "start_time": "2022-10-26T19:44:23.230Z"
      },
      {
        "duration": 3,
        "start_time": "2022-10-26T19:44:24.346Z"
      },
      {
        "duration": 53,
        "start_time": "2022-10-26T19:44:24.350Z"
      },
      {
        "duration": 520,
        "start_time": "2022-10-26T19:44:24.405Z"
      },
      {
        "duration": 89,
        "start_time": "2022-10-26T19:44:24.927Z"
      },
      {
        "duration": 41,
        "start_time": "2022-10-26T19:44:25.018Z"
      },
      {
        "duration": 117,
        "start_time": "2022-10-26T19:44:25.060Z"
      },
      {
        "duration": 11,
        "start_time": "2022-10-26T19:44:25.179Z"
      },
      {
        "duration": 11,
        "start_time": "2022-10-26T19:44:25.191Z"
      },
      {
        "duration": 30,
        "start_time": "2022-10-26T19:44:25.204Z"
      },
      {
        "duration": 5,
        "start_time": "2022-10-26T19:44:25.236Z"
      },
      {
        "duration": 9,
        "start_time": "2022-10-26T19:44:25.243Z"
      },
      {
        "duration": 28,
        "start_time": "2022-10-26T19:44:25.254Z"
      },
      {
        "duration": 17,
        "start_time": "2022-10-26T19:44:25.287Z"
      },
      {
        "duration": 62,
        "start_time": "2022-10-26T19:44:25.306Z"
      },
      {
        "duration": 12,
        "start_time": "2022-10-26T19:44:25.370Z"
      },
      {
        "duration": 13,
        "start_time": "2022-10-26T19:44:25.383Z"
      },
      {
        "duration": 5,
        "start_time": "2022-10-26T19:44:25.397Z"
      },
      {
        "duration": 48,
        "start_time": "2022-10-26T19:44:25.404Z"
      },
      {
        "duration": 13,
        "start_time": "2022-10-26T19:44:25.454Z"
      },
      {
        "duration": 3,
        "start_time": "2022-10-26T19:44:25.469Z"
      },
      {
        "duration": 13,
        "start_time": "2022-10-26T19:44:25.473Z"
      },
      {
        "duration": 289,
        "start_time": "2022-10-26T19:44:25.487Z"
      },
      {
        "duration": 136,
        "start_time": "2022-10-26T19:44:25.777Z"
      },
      {
        "duration": 4,
        "start_time": "2022-10-26T19:44:25.915Z"
      },
      {
        "duration": 5,
        "start_time": "2022-10-26T19:44:25.934Z"
      },
      {
        "duration": 13,
        "start_time": "2022-10-26T19:44:25.940Z"
      },
      {
        "duration": 9,
        "start_time": "2022-10-26T19:44:25.956Z"
      },
      {
        "duration": 22,
        "start_time": "2022-10-26T19:44:25.966Z"
      },
      {
        "duration": 9,
        "start_time": "2022-10-26T19:44:25.989Z"
      },
      {
        "duration": 15,
        "start_time": "2022-10-26T19:44:26.000Z"
      },
      {
        "duration": 21,
        "start_time": "2022-10-26T19:44:26.017Z"
      },
      {
        "duration": 22,
        "start_time": "2022-10-26T19:44:26.040Z"
      },
      {
        "duration": 5,
        "start_time": "2022-10-26T19:44:26.063Z"
      },
      {
        "duration": 4049,
        "start_time": "2022-10-26T19:44:26.070Z"
      },
      {
        "duration": 28,
        "start_time": "2022-10-26T19:44:30.120Z"
      },
      {
        "duration": 142,
        "start_time": "2022-10-26T19:44:30.150Z"
      },
      {
        "duration": 3253,
        "start_time": "2022-10-26T19:44:30.293Z"
      },
      {
        "duration": 23,
        "start_time": "2022-10-26T19:44:33.548Z"
      },
      {
        "duration": 9,
        "start_time": "2022-10-26T19:44:33.572Z"
      },
      {
        "duration": 3268,
        "start_time": "2022-10-26T19:44:33.585Z"
      },
      {
        "duration": 18,
        "start_time": "2022-10-26T19:44:36.854Z"
      },
      {
        "duration": 9,
        "start_time": "2022-10-26T19:44:36.873Z"
      },
      {
        "duration": 50,
        "start_time": "2022-10-26T19:44:36.883Z"
      },
      {
        "duration": 26,
        "start_time": "2022-10-26T19:44:36.936Z"
      },
      {
        "duration": 272,
        "start_time": "2022-10-26T19:44:36.963Z"
      },
      {
        "duration": 15,
        "start_time": "2022-10-26T19:44:37.237Z"
      },
      {
        "duration": 16,
        "start_time": "2022-10-26T19:44:37.254Z"
      },
      {
        "duration": 9,
        "start_time": "2022-10-26T19:44:37.272Z"
      },
      {
        "duration": 13,
        "start_time": "2022-10-26T19:44:37.282Z"
      },
      {
        "duration": 21,
        "start_time": "2022-10-26T19:46:20.831Z"
      },
      {
        "duration": 22,
        "start_time": "2022-10-26T19:46:23.033Z"
      },
      {
        "duration": 10,
        "start_time": "2022-10-26T19:46:35.756Z"
      },
      {
        "duration": 9,
        "start_time": "2022-10-26T19:46:39.699Z"
      },
      {
        "duration": 19,
        "start_time": "2022-10-26T19:47:28.057Z"
      },
      {
        "duration": 20,
        "start_time": "2022-10-26T19:47:31.142Z"
      },
      {
        "duration": 20,
        "start_time": "2022-10-26T19:47:39.156Z"
      },
      {
        "duration": 22,
        "start_time": "2022-10-26T19:47:41.957Z"
      },
      {
        "duration": 19,
        "start_time": "2022-10-26T19:48:07.195Z"
      },
      {
        "duration": 20,
        "start_time": "2022-10-26T19:48:09.582Z"
      },
      {
        "duration": 19,
        "start_time": "2022-10-26T19:48:17.541Z"
      },
      {
        "duration": 20,
        "start_time": "2022-10-26T19:48:20.141Z"
      },
      {
        "duration": 11,
        "start_time": "2022-10-26T19:49:30.108Z"
      },
      {
        "duration": 9,
        "start_time": "2022-10-26T19:49:32.648Z"
      },
      {
        "duration": 1170,
        "start_time": "2022-10-26T19:49:38.698Z"
      },
      {
        "duration": 3,
        "start_time": "2022-10-26T19:49:39.870Z"
      },
      {
        "duration": 70,
        "start_time": "2022-10-26T19:49:39.874Z"
      },
      {
        "duration": 529,
        "start_time": "2022-10-26T19:49:39.946Z"
      },
      {
        "duration": 88,
        "start_time": "2022-10-26T19:49:40.476Z"
      },
      {
        "duration": 39,
        "start_time": "2022-10-26T19:49:40.566Z"
      },
      {
        "duration": 108,
        "start_time": "2022-10-26T19:49:40.607Z"
      },
      {
        "duration": 20,
        "start_time": "2022-10-26T19:49:40.717Z"
      },
      {
        "duration": 10,
        "start_time": "2022-10-26T19:49:40.738Z"
      },
      {
        "duration": 7,
        "start_time": "2022-10-26T19:49:40.750Z"
      },
      {
        "duration": 4,
        "start_time": "2022-10-26T19:49:40.759Z"
      },
      {
        "duration": 6,
        "start_time": "2022-10-26T19:49:40.764Z"
      },
      {
        "duration": 28,
        "start_time": "2022-10-26T19:49:40.771Z"
      },
      {
        "duration": 48,
        "start_time": "2022-10-26T19:49:40.800Z"
      },
      {
        "duration": 38,
        "start_time": "2022-10-26T19:49:40.850Z"
      },
      {
        "duration": 11,
        "start_time": "2022-10-26T19:49:40.889Z"
      },
      {
        "duration": 33,
        "start_time": "2022-10-26T19:49:40.902Z"
      },
      {
        "duration": 5,
        "start_time": "2022-10-26T19:49:40.936Z"
      },
      {
        "duration": 24,
        "start_time": "2022-10-26T19:49:40.942Z"
      },
      {
        "duration": 13,
        "start_time": "2022-10-26T19:49:40.968Z"
      },
      {
        "duration": 4,
        "start_time": "2022-10-26T19:49:40.983Z"
      },
      {
        "duration": 13,
        "start_time": "2022-10-26T19:49:40.989Z"
      },
      {
        "duration": 282,
        "start_time": "2022-10-26T19:49:41.003Z"
      },
      {
        "duration": 121,
        "start_time": "2022-10-26T19:49:41.286Z"
      },
      {
        "duration": 5,
        "start_time": "2022-10-26T19:49:41.408Z"
      },
      {
        "duration": 23,
        "start_time": "2022-10-26T19:49:41.414Z"
      },
      {
        "duration": 10,
        "start_time": "2022-10-26T19:49:41.439Z"
      },
      {
        "duration": 6,
        "start_time": "2022-10-26T19:49:41.452Z"
      },
      {
        "duration": 11,
        "start_time": "2022-10-26T19:49:41.459Z"
      },
      {
        "duration": 8,
        "start_time": "2022-10-26T19:49:41.471Z"
      },
      {
        "duration": 14,
        "start_time": "2022-10-26T19:49:41.480Z"
      },
      {
        "duration": 14,
        "start_time": "2022-10-26T19:49:41.496Z"
      },
      {
        "duration": 26,
        "start_time": "2022-10-26T19:49:41.512Z"
      },
      {
        "duration": 5,
        "start_time": "2022-10-26T19:49:41.539Z"
      },
      {
        "duration": 3127,
        "start_time": "2022-10-26T19:49:41.545Z"
      },
      {
        "duration": 23,
        "start_time": "2022-10-26T19:49:44.674Z"
      },
      {
        "duration": 153,
        "start_time": "2022-10-26T19:49:44.699Z"
      },
      {
        "duration": 3127,
        "start_time": "2022-10-26T19:49:44.854Z"
      },
      {
        "duration": 23,
        "start_time": "2022-10-26T19:49:47.982Z"
      },
      {
        "duration": 8,
        "start_time": "2022-10-26T19:49:48.007Z"
      },
      {
        "duration": 3007,
        "start_time": "2022-10-26T19:49:48.017Z"
      },
      {
        "duration": 22,
        "start_time": "2022-10-26T19:49:51.026Z"
      },
      {
        "duration": 10,
        "start_time": "2022-10-26T19:49:51.050Z"
      },
      {
        "duration": 14,
        "start_time": "2022-10-26T19:49:51.062Z"
      },
      {
        "duration": 9,
        "start_time": "2022-10-26T19:49:51.078Z"
      },
      {
        "duration": 249,
        "start_time": "2022-10-26T19:49:51.089Z"
      },
      {
        "duration": 13,
        "start_time": "2022-10-26T19:49:51.340Z"
      },
      {
        "duration": 11,
        "start_time": "2022-10-26T19:49:51.355Z"
      },
      {
        "duration": 8,
        "start_time": "2022-10-26T19:49:51.368Z"
      },
      {
        "duration": 13,
        "start_time": "2022-10-26T19:49:51.378Z"
      },
      {
        "duration": 1133,
        "start_time": "2022-10-26T19:52:32.546Z"
      },
      {
        "duration": 4,
        "start_time": "2022-10-26T19:52:33.681Z"
      },
      {
        "duration": 54,
        "start_time": "2022-10-26T19:52:33.687Z"
      },
      {
        "duration": 539,
        "start_time": "2022-10-26T19:52:33.743Z"
      },
      {
        "duration": 88,
        "start_time": "2022-10-26T19:52:34.285Z"
      },
      {
        "duration": 41,
        "start_time": "2022-10-26T19:52:34.375Z"
      },
      {
        "duration": 126,
        "start_time": "2022-10-26T19:52:34.417Z"
      },
      {
        "duration": 11,
        "start_time": "2022-10-26T19:52:34.545Z"
      },
      {
        "duration": 12,
        "start_time": "2022-10-26T19:52:34.557Z"
      },
      {
        "duration": 6,
        "start_time": "2022-10-26T19:52:34.571Z"
      },
      {
        "duration": 4,
        "start_time": "2022-10-26T19:52:34.579Z"
      },
      {
        "duration": 23,
        "start_time": "2022-10-26T19:52:34.585Z"
      },
      {
        "duration": 44,
        "start_time": "2022-10-26T19:52:34.610Z"
      },
      {
        "duration": 17,
        "start_time": "2022-10-26T19:52:34.657Z"
      },
      {
        "duration": 36,
        "start_time": "2022-10-26T19:52:34.676Z"
      },
      {
        "duration": 29,
        "start_time": "2022-10-26T19:52:34.714Z"
      },
      {
        "duration": 11,
        "start_time": "2022-10-26T19:52:34.744Z"
      },
      {
        "duration": 5,
        "start_time": "2022-10-26T19:52:34.756Z"
      },
      {
        "duration": 22,
        "start_time": "2022-10-26T19:52:34.762Z"
      },
      {
        "duration": 13,
        "start_time": "2022-10-26T19:52:34.786Z"
      },
      {
        "duration": 4,
        "start_time": "2022-10-26T19:52:34.833Z"
      },
      {
        "duration": 23,
        "start_time": "2022-10-26T19:52:34.839Z"
      },
      {
        "duration": 264,
        "start_time": "2022-10-26T19:52:34.864Z"
      },
      {
        "duration": 123,
        "start_time": "2022-10-26T19:52:35.129Z"
      },
      {
        "duration": 4,
        "start_time": "2022-10-26T19:52:35.254Z"
      },
      {
        "duration": 27,
        "start_time": "2022-10-26T19:52:35.260Z"
      },
      {
        "duration": 7,
        "start_time": "2022-10-26T19:52:35.288Z"
      },
      {
        "duration": 10,
        "start_time": "2022-10-26T19:52:35.296Z"
      },
      {
        "duration": 10,
        "start_time": "2022-10-26T19:52:35.307Z"
      },
      {
        "duration": 7,
        "start_time": "2022-10-26T19:52:35.319Z"
      },
      {
        "duration": 15,
        "start_time": "2022-10-26T19:52:35.328Z"
      },
      {
        "duration": 15,
        "start_time": "2022-10-26T19:52:35.344Z"
      },
      {
        "duration": 26,
        "start_time": "2022-10-26T19:52:35.361Z"
      },
      {
        "duration": 7,
        "start_time": "2022-10-26T19:52:35.389Z"
      },
      {
        "duration": 3084,
        "start_time": "2022-10-26T19:52:35.398Z"
      },
      {
        "duration": 24,
        "start_time": "2022-10-26T19:52:38.484Z"
      },
      {
        "duration": 220,
        "start_time": "2022-10-26T19:52:38.509Z"
      },
      {
        "duration": 3053,
        "start_time": "2022-10-26T19:52:38.730Z"
      },
      {
        "duration": 24,
        "start_time": "2022-10-26T19:52:41.785Z"
      },
      {
        "duration": 24,
        "start_time": "2022-10-26T19:52:41.811Z"
      },
      {
        "duration": 3107,
        "start_time": "2022-10-26T19:52:41.839Z"
      },
      {
        "duration": 18,
        "start_time": "2022-10-26T19:52:44.948Z"
      },
      {
        "duration": 10,
        "start_time": "2022-10-26T19:52:44.968Z"
      },
      {
        "duration": 11,
        "start_time": "2022-10-26T19:52:44.980Z"
      },
      {
        "duration": 8,
        "start_time": "2022-10-26T19:52:44.993Z"
      },
      {
        "duration": 258,
        "start_time": "2022-10-26T19:52:45.003Z"
      },
      {
        "duration": 14,
        "start_time": "2022-10-26T19:52:45.263Z"
      },
      {
        "duration": 11,
        "start_time": "2022-10-26T19:52:45.279Z"
      },
      {
        "duration": 8,
        "start_time": "2022-10-26T19:52:45.292Z"
      },
      {
        "duration": 33,
        "start_time": "2022-10-26T19:52:45.302Z"
      },
      {
        "duration": 11,
        "start_time": "2022-10-26T19:53:19.171Z"
      },
      {
        "duration": 17,
        "start_time": "2022-10-26T19:54:43.166Z"
      },
      {
        "duration": 15,
        "start_time": "2022-10-26T19:54:56.161Z"
      },
      {
        "duration": 16,
        "start_time": "2022-10-26T19:55:04.140Z"
      },
      {
        "duration": 15,
        "start_time": "2022-10-26T19:55:34.273Z"
      },
      {
        "duration": 108,
        "start_time": "2022-10-26T20:17:37.689Z"
      },
      {
        "duration": 15,
        "start_time": "2022-10-26T20:17:53.944Z"
      },
      {
        "duration": 10,
        "start_time": "2022-10-26T20:17:55.933Z"
      },
      {
        "duration": 8,
        "start_time": "2022-10-26T20:17:58.345Z"
      },
      {
        "duration": 14,
        "start_time": "2022-10-26T20:27:54.362Z"
      },
      {
        "duration": 1185,
        "start_time": "2022-10-26T20:28:12.217Z"
      },
      {
        "duration": 30,
        "start_time": "2022-10-26T20:28:13.404Z"
      },
      {
        "duration": 51,
        "start_time": "2022-10-26T20:28:13.435Z"
      },
      {
        "duration": 551,
        "start_time": "2022-10-26T20:28:13.488Z"
      },
      {
        "duration": 223,
        "start_time": "2022-10-26T20:28:14.041Z"
      },
      {
        "duration": 102,
        "start_time": "2022-10-26T20:28:14.266Z"
      },
      {
        "duration": 263,
        "start_time": "2022-10-26T20:28:14.370Z"
      },
      {
        "duration": 17,
        "start_time": "2022-10-26T20:28:14.636Z"
      },
      {
        "duration": 10,
        "start_time": "2022-10-26T20:28:14.655Z"
      },
      {
        "duration": 7,
        "start_time": "2022-10-26T20:28:14.667Z"
      },
      {
        "duration": 61,
        "start_time": "2022-10-26T20:28:14.676Z"
      },
      {
        "duration": 7,
        "start_time": "2022-10-26T20:28:14.738Z"
      },
      {
        "duration": 28,
        "start_time": "2022-10-26T20:28:14.747Z"
      },
      {
        "duration": 72,
        "start_time": "2022-10-26T20:28:14.777Z"
      },
      {
        "duration": 99,
        "start_time": "2022-10-26T20:28:14.850Z"
      },
      {
        "duration": 11,
        "start_time": "2022-10-26T20:28:14.951Z"
      },
      {
        "duration": 11,
        "start_time": "2022-10-26T20:28:14.964Z"
      },
      {
        "duration": 60,
        "start_time": "2022-10-26T20:28:14.976Z"
      },
      {
        "duration": 22,
        "start_time": "2022-10-26T20:28:15.037Z"
      },
      {
        "duration": 12,
        "start_time": "2022-10-26T20:28:15.061Z"
      },
      {
        "duration": 61,
        "start_time": "2022-10-26T20:28:15.075Z"
      },
      {
        "duration": 16,
        "start_time": "2022-10-26T20:28:15.138Z"
      },
      {
        "duration": 584,
        "start_time": "2022-10-26T20:28:15.156Z"
      },
      {
        "duration": 223,
        "start_time": "2022-10-26T20:28:15.742Z"
      },
      {
        "duration": 160,
        "start_time": "2022-10-26T20:28:15.967Z"
      },
      {
        "duration": 8,
        "start_time": "2022-10-26T20:28:16.128Z"
      },
      {
        "duration": 7,
        "start_time": "2022-10-26T20:28:16.137Z"
      },
      {
        "duration": 5,
        "start_time": "2022-10-26T20:28:16.147Z"
      },
      {
        "duration": 6,
        "start_time": "2022-10-26T20:28:16.153Z"
      },
      {
        "duration": 10,
        "start_time": "2022-10-26T20:28:16.161Z"
      },
      {
        "duration": 14,
        "start_time": "2022-10-26T20:28:16.173Z"
      },
      {
        "duration": 46,
        "start_time": "2022-10-26T20:28:16.189Z"
      },
      {
        "duration": 26,
        "start_time": "2022-10-26T20:28:16.237Z"
      },
      {
        "duration": 38,
        "start_time": "2022-10-26T20:28:16.265Z"
      },
      {
        "duration": 9,
        "start_time": "2022-10-26T20:28:16.307Z"
      },
      {
        "duration": 2978,
        "start_time": "2022-10-26T20:28:16.318Z"
      },
      {
        "duration": 22,
        "start_time": "2022-10-26T20:28:19.298Z"
      },
      {
        "duration": 144,
        "start_time": "2022-10-26T20:28:19.322Z"
      },
      {
        "duration": 3061,
        "start_time": "2022-10-26T20:28:19.467Z"
      },
      {
        "duration": 20,
        "start_time": "2022-10-26T20:28:22.533Z"
      },
      {
        "duration": 11,
        "start_time": "2022-10-26T20:28:22.554Z"
      },
      {
        "duration": 3106,
        "start_time": "2022-10-26T20:28:22.567Z"
      },
      {
        "duration": 18,
        "start_time": "2022-10-26T20:28:25.674Z"
      },
      {
        "duration": 10,
        "start_time": "2022-10-26T20:28:25.693Z"
      },
      {
        "duration": 37,
        "start_time": "2022-10-26T20:28:25.704Z"
      },
      {
        "duration": 15,
        "start_time": "2022-10-26T20:28:25.743Z"
      },
      {
        "duration": 12,
        "start_time": "2022-10-26T20:28:25.760Z"
      },
      {
        "duration": 252,
        "start_time": "2022-10-26T20:28:25.773Z"
      },
      {
        "duration": 17,
        "start_time": "2022-10-26T20:28:26.027Z"
      },
      {
        "duration": 119,
        "start_time": "2022-10-26T20:28:26.045Z"
      },
      {
        "duration": 0,
        "start_time": "2022-10-26T20:28:26.166Z"
      },
      {
        "duration": 0,
        "start_time": "2022-10-26T20:28:26.167Z"
      },
      {
        "duration": 5,
        "start_time": "2022-10-26T20:29:27.401Z"
      },
      {
        "duration": 235,
        "start_time": "2022-10-26T20:29:33.138Z"
      },
      {
        "duration": 16,
        "start_time": "2022-10-26T20:29:36.067Z"
      },
      {
        "duration": 23,
        "start_time": "2022-10-26T20:30:35.993Z"
      },
      {
        "duration": 35,
        "start_time": "2022-10-26T20:30:45.852Z"
      },
      {
        "duration": 21,
        "start_time": "2022-10-26T20:30:55.301Z"
      },
      {
        "duration": 102,
        "start_time": "2022-10-26T20:32:09.951Z"
      },
      {
        "duration": 27,
        "start_time": "2022-10-26T20:32:14.855Z"
      },
      {
        "duration": 15,
        "start_time": "2022-10-26T20:32:24.904Z"
      },
      {
        "duration": 1203,
        "start_time": "2022-10-26T20:33:53.029Z"
      },
      {
        "duration": 4,
        "start_time": "2022-10-26T20:33:54.234Z"
      },
      {
        "duration": 56,
        "start_time": "2022-10-26T20:33:54.240Z"
      },
      {
        "duration": 635,
        "start_time": "2022-10-26T20:33:54.298Z"
      },
      {
        "duration": 96,
        "start_time": "2022-10-26T20:33:54.936Z"
      },
      {
        "duration": 55,
        "start_time": "2022-10-26T20:33:55.034Z"
      },
      {
        "duration": 187,
        "start_time": "2022-10-26T20:33:55.090Z"
      },
      {
        "duration": 14,
        "start_time": "2022-10-26T20:33:55.279Z"
      },
      {
        "duration": 15,
        "start_time": "2022-10-26T20:33:55.294Z"
      },
      {
        "duration": 26,
        "start_time": "2022-10-26T20:33:55.311Z"
      },
      {
        "duration": 6,
        "start_time": "2022-10-26T20:33:55.339Z"
      },
      {
        "duration": 8,
        "start_time": "2022-10-26T20:33:55.346Z"
      },
      {
        "duration": 32,
        "start_time": "2022-10-26T20:33:55.355Z"
      },
      {
        "duration": 43,
        "start_time": "2022-10-26T20:33:55.391Z"
      },
      {
        "duration": 43,
        "start_time": "2022-10-26T20:33:55.437Z"
      },
      {
        "duration": 11,
        "start_time": "2022-10-26T20:33:55.481Z"
      },
      {
        "duration": 11,
        "start_time": "2022-10-26T20:33:55.494Z"
      },
      {
        "duration": 30,
        "start_time": "2022-10-26T20:33:55.507Z"
      },
      {
        "duration": 21,
        "start_time": "2022-10-26T20:33:55.538Z"
      },
      {
        "duration": 12,
        "start_time": "2022-10-26T20:33:55.561Z"
      },
      {
        "duration": 6,
        "start_time": "2022-10-26T20:33:55.574Z"
      },
      {
        "duration": 11,
        "start_time": "2022-10-26T20:33:55.582Z"
      },
      {
        "duration": 288,
        "start_time": "2022-10-26T20:33:55.595Z"
      },
      {
        "duration": 124,
        "start_time": "2022-10-26T20:33:55.886Z"
      },
      {
        "duration": 23,
        "start_time": "2022-10-26T20:33:56.012Z"
      },
      {
        "duration": 4,
        "start_time": "2022-10-26T20:33:56.036Z"
      },
      {
        "duration": 6,
        "start_time": "2022-10-26T20:33:56.042Z"
      },
      {
        "duration": 8,
        "start_time": "2022-10-26T20:33:56.050Z"
      },
      {
        "duration": 5,
        "start_time": "2022-10-26T20:33:56.060Z"
      },
      {
        "duration": 13,
        "start_time": "2022-10-26T20:33:56.067Z"
      },
      {
        "duration": 9,
        "start_time": "2022-10-26T20:33:56.081Z"
      },
      {
        "duration": 11,
        "start_time": "2022-10-26T20:33:56.091Z"
      },
      {
        "duration": 38,
        "start_time": "2022-10-26T20:33:56.104Z"
      },
      {
        "duration": 22,
        "start_time": "2022-10-26T20:33:56.143Z"
      },
      {
        "duration": 5,
        "start_time": "2022-10-26T20:33:56.167Z"
      },
      {
        "duration": 3068,
        "start_time": "2022-10-26T20:33:56.173Z"
      },
      {
        "duration": 23,
        "start_time": "2022-10-26T20:33:59.242Z"
      },
      {
        "duration": 169,
        "start_time": "2022-10-26T20:33:59.267Z"
      },
      {
        "duration": 3116,
        "start_time": "2022-10-26T20:33:59.438Z"
      },
      {
        "duration": 23,
        "start_time": "2022-10-26T20:34:02.556Z"
      },
      {
        "duration": 10,
        "start_time": "2022-10-26T20:34:02.584Z"
      },
      {
        "duration": 3101,
        "start_time": "2022-10-26T20:34:02.596Z"
      },
      {
        "duration": 18,
        "start_time": "2022-10-26T20:34:05.700Z"
      },
      {
        "duration": 20,
        "start_time": "2022-10-26T20:34:05.720Z"
      },
      {
        "duration": 18,
        "start_time": "2022-10-26T20:34:05.742Z"
      },
      {
        "duration": 15,
        "start_time": "2022-10-26T20:34:05.762Z"
      },
      {
        "duration": 15,
        "start_time": "2022-10-26T20:34:05.779Z"
      },
      {
        "duration": 255,
        "start_time": "2022-10-26T20:34:05.796Z"
      },
      {
        "duration": 14,
        "start_time": "2022-10-26T20:34:06.053Z"
      },
      {
        "duration": 133,
        "start_time": "2022-10-26T20:34:06.069Z"
      },
      {
        "duration": 0,
        "start_time": "2022-10-26T20:34:06.205Z"
      },
      {
        "duration": 0,
        "start_time": "2022-10-26T20:34:06.207Z"
      },
      {
        "duration": 14,
        "start_time": "2022-10-26T20:36:45.047Z"
      },
      {
        "duration": 13,
        "start_time": "2022-10-26T20:36:50.052Z"
      },
      {
        "duration": 703,
        "start_time": "2022-10-26T20:47:18.795Z"
      },
      {
        "duration": 8,
        "start_time": "2022-10-26T20:47:24.732Z"
      },
      {
        "duration": 11,
        "start_time": "2022-10-26T20:47:27.609Z"
      },
      {
        "duration": 1046,
        "start_time": "2022-10-26T20:54:47.880Z"
      },
      {
        "duration": 5,
        "start_time": "2022-10-26T20:54:48.929Z"
      },
      {
        "duration": 63,
        "start_time": "2022-10-26T20:54:48.935Z"
      },
      {
        "duration": 520,
        "start_time": "2022-10-26T20:54:49.000Z"
      },
      {
        "duration": 85,
        "start_time": "2022-10-26T20:54:49.522Z"
      },
      {
        "duration": 39,
        "start_time": "2022-10-26T20:54:49.608Z"
      },
      {
        "duration": 127,
        "start_time": "2022-10-26T20:54:49.648Z"
      },
      {
        "duration": 11,
        "start_time": "2022-10-26T20:54:49.777Z"
      },
      {
        "duration": 10,
        "start_time": "2022-10-26T20:54:49.790Z"
      },
      {
        "duration": 13,
        "start_time": "2022-10-26T20:54:49.802Z"
      },
      {
        "duration": 4,
        "start_time": "2022-10-26T20:54:49.834Z"
      },
      {
        "duration": 10,
        "start_time": "2022-10-26T20:54:49.840Z"
      },
      {
        "duration": 29,
        "start_time": "2022-10-26T20:54:49.851Z"
      },
      {
        "duration": 18,
        "start_time": "2022-10-26T20:54:49.883Z"
      },
      {
        "duration": 61,
        "start_time": "2022-10-26T20:54:49.902Z"
      },
      {
        "duration": 11,
        "start_time": "2022-10-26T20:54:49.965Z"
      },
      {
        "duration": 12,
        "start_time": "2022-10-26T20:54:49.978Z"
      },
      {
        "duration": 5,
        "start_time": "2022-10-26T20:54:49.992Z"
      },
      {
        "duration": 48,
        "start_time": "2022-10-26T20:54:49.999Z"
      },
      {
        "duration": 12,
        "start_time": "2022-10-26T20:54:50.049Z"
      },
      {
        "duration": 4,
        "start_time": "2022-10-26T20:54:50.063Z"
      },
      {
        "duration": 12,
        "start_time": "2022-10-26T20:54:50.068Z"
      },
      {
        "duration": 288,
        "start_time": "2022-10-26T20:54:50.081Z"
      },
      {
        "duration": 136,
        "start_time": "2022-10-26T20:54:50.370Z"
      },
      {
        "duration": 13,
        "start_time": "2022-10-26T20:54:50.508Z"
      },
      {
        "duration": 10,
        "start_time": "2022-10-26T20:54:50.523Z"
      },
      {
        "duration": 4,
        "start_time": "2022-10-26T20:54:50.535Z"
      },
      {
        "duration": 5,
        "start_time": "2022-10-26T20:54:50.540Z"
      },
      {
        "duration": 5,
        "start_time": "2022-10-26T20:54:50.546Z"
      },
      {
        "duration": 17,
        "start_time": "2022-10-26T20:54:50.552Z"
      },
      {
        "duration": 8,
        "start_time": "2022-10-26T20:54:50.571Z"
      },
      {
        "duration": 12,
        "start_time": "2022-10-26T20:54:50.580Z"
      },
      {
        "duration": 13,
        "start_time": "2022-10-26T20:54:50.594Z"
      },
      {
        "duration": 43,
        "start_time": "2022-10-26T20:54:50.608Z"
      },
      {
        "duration": 5,
        "start_time": "2022-10-26T20:54:50.652Z"
      },
      {
        "duration": 2923,
        "start_time": "2022-10-26T20:54:50.658Z"
      },
      {
        "duration": 21,
        "start_time": "2022-10-26T20:54:53.583Z"
      },
      {
        "duration": 137,
        "start_time": "2022-10-26T20:54:53.606Z"
      },
      {
        "duration": 3055,
        "start_time": "2022-10-26T20:54:53.746Z"
      },
      {
        "duration": 33,
        "start_time": "2022-10-26T20:54:56.803Z"
      },
      {
        "duration": 10,
        "start_time": "2022-10-26T20:54:56.841Z"
      },
      {
        "duration": 2996,
        "start_time": "2022-10-26T20:54:56.852Z"
      },
      {
        "duration": 18,
        "start_time": "2022-10-26T20:54:59.850Z"
      },
      {
        "duration": 9,
        "start_time": "2022-10-26T20:54:59.869Z"
      },
      {
        "duration": 17,
        "start_time": "2022-10-26T20:54:59.880Z"
      },
      {
        "duration": 36,
        "start_time": "2022-10-26T20:54:59.898Z"
      },
      {
        "duration": 13,
        "start_time": "2022-10-26T20:54:59.936Z"
      },
      {
        "duration": 227,
        "start_time": "2022-10-26T20:54:59.951Z"
      },
      {
        "duration": 13,
        "start_time": "2022-10-26T20:55:00.180Z"
      },
      {
        "duration": 60,
        "start_time": "2022-10-26T20:55:00.194Z"
      },
      {
        "duration": 19,
        "start_time": "2022-10-26T20:55:00.255Z"
      },
      {
        "duration": 19,
        "start_time": "2022-10-26T20:55:00.276Z"
      },
      {
        "duration": 1292,
        "start_time": "2022-10-27T07:14:32.625Z"
      },
      {
        "duration": 3,
        "start_time": "2022-10-27T07:14:33.919Z"
      },
      {
        "duration": 94,
        "start_time": "2022-10-27T07:14:33.924Z"
      },
      {
        "duration": 1615,
        "start_time": "2022-10-27T07:14:34.020Z"
      },
      {
        "duration": 265,
        "start_time": "2022-10-27T07:14:35.637Z"
      },
      {
        "duration": 126,
        "start_time": "2022-10-27T07:14:35.904Z"
      },
      {
        "duration": 152,
        "start_time": "2022-10-27T07:14:36.032Z"
      },
      {
        "duration": 15,
        "start_time": "2022-10-27T07:14:36.186Z"
      },
      {
        "duration": 19,
        "start_time": "2022-10-27T07:14:36.203Z"
      },
      {
        "duration": 10,
        "start_time": "2022-10-27T07:14:36.225Z"
      },
      {
        "duration": 6,
        "start_time": "2022-10-27T07:14:36.237Z"
      },
      {
        "duration": 16,
        "start_time": "2022-10-27T07:14:36.244Z"
      },
      {
        "duration": 55,
        "start_time": "2022-10-27T07:14:36.262Z"
      },
      {
        "duration": 23,
        "start_time": "2022-10-27T07:14:36.319Z"
      },
      {
        "duration": 77,
        "start_time": "2022-10-27T07:14:36.344Z"
      },
      {
        "duration": 13,
        "start_time": "2022-10-27T07:14:36.423Z"
      },
      {
        "duration": 12,
        "start_time": "2022-10-27T07:14:36.437Z"
      },
      {
        "duration": 26,
        "start_time": "2022-10-27T07:14:36.450Z"
      },
      {
        "duration": 32,
        "start_time": "2022-10-27T07:14:36.480Z"
      },
      {
        "duration": 15,
        "start_time": "2022-10-27T07:14:36.514Z"
      },
      {
        "duration": 5,
        "start_time": "2022-10-27T07:14:36.530Z"
      },
      {
        "duration": 13,
        "start_time": "2022-10-27T07:14:36.536Z"
      },
      {
        "duration": 279,
        "start_time": "2022-10-27T07:14:36.551Z"
      },
      {
        "duration": 110,
        "start_time": "2022-10-27T07:14:36.832Z"
      },
      {
        "duration": 16,
        "start_time": "2022-10-27T07:14:36.944Z"
      },
      {
        "duration": 27,
        "start_time": "2022-10-27T07:14:36.961Z"
      },
      {
        "duration": 9,
        "start_time": "2022-10-27T07:14:36.990Z"
      },
      {
        "duration": 4,
        "start_time": "2022-10-27T07:14:37.002Z"
      },
      {
        "duration": 8,
        "start_time": "2022-10-27T07:14:37.007Z"
      },
      {
        "duration": 10,
        "start_time": "2022-10-27T07:14:37.016Z"
      },
      {
        "duration": 8,
        "start_time": "2022-10-27T07:14:37.028Z"
      },
      {
        "duration": 19,
        "start_time": "2022-10-27T07:14:37.038Z"
      },
      {
        "duration": 29,
        "start_time": "2022-10-27T07:14:37.058Z"
      },
      {
        "duration": 22,
        "start_time": "2022-10-27T07:14:37.091Z"
      },
      {
        "duration": 5,
        "start_time": "2022-10-27T07:14:37.115Z"
      },
      {
        "duration": 3027,
        "start_time": "2022-10-27T07:14:37.121Z"
      },
      {
        "duration": 43,
        "start_time": "2022-10-27T07:14:40.149Z"
      },
      {
        "duration": 201,
        "start_time": "2022-10-27T07:14:40.194Z"
      },
      {
        "duration": 3165,
        "start_time": "2022-10-27T07:14:40.397Z"
      },
      {
        "duration": 29,
        "start_time": "2022-10-27T07:14:43.564Z"
      },
      {
        "duration": 20,
        "start_time": "2022-10-27T07:14:43.595Z"
      },
      {
        "duration": 2929,
        "start_time": "2022-10-27T07:14:43.617Z"
      },
      {
        "duration": 16,
        "start_time": "2022-10-27T07:14:46.548Z"
      },
      {
        "duration": 16,
        "start_time": "2022-10-27T07:14:46.565Z"
      },
      {
        "duration": 31,
        "start_time": "2022-10-27T07:14:46.583Z"
      },
      {
        "duration": 13,
        "start_time": "2022-10-27T07:14:46.616Z"
      },
      {
        "duration": 12,
        "start_time": "2022-10-27T07:14:46.630Z"
      },
      {
        "duration": 229,
        "start_time": "2022-10-27T07:14:46.643Z"
      },
      {
        "duration": 16,
        "start_time": "2022-10-27T07:14:46.882Z"
      },
      {
        "duration": 13,
        "start_time": "2022-10-27T07:14:46.899Z"
      },
      {
        "duration": 7,
        "start_time": "2022-10-27T07:14:46.913Z"
      },
      {
        "duration": 14,
        "start_time": "2022-10-27T07:14:46.922Z"
      },
      {
        "duration": 4,
        "start_time": "2022-10-27T07:17:39.260Z"
      },
      {
        "duration": 51,
        "start_time": "2022-10-27T07:47:33.169Z"
      },
      {
        "duration": 1629,
        "start_time": "2022-10-27T07:47:38.979Z"
      },
      {
        "duration": 4,
        "start_time": "2022-10-27T07:47:40.610Z"
      },
      {
        "duration": 133,
        "start_time": "2022-10-27T07:47:40.615Z"
      },
      {
        "duration": 2162,
        "start_time": "2022-10-27T07:47:40.750Z"
      },
      {
        "duration": 342,
        "start_time": "2022-10-27T07:47:42.914Z"
      },
      {
        "duration": 151,
        "start_time": "2022-10-27T07:47:43.258Z"
      },
      {
        "duration": 150,
        "start_time": "2022-10-27T07:47:43.412Z"
      },
      {
        "duration": 14,
        "start_time": "2022-10-27T07:47:43.564Z"
      },
      {
        "duration": 13,
        "start_time": "2022-10-27T07:47:43.580Z"
      },
      {
        "duration": 38,
        "start_time": "2022-10-27T07:47:43.594Z"
      },
      {
        "duration": 7,
        "start_time": "2022-10-27T07:47:43.636Z"
      },
      {
        "duration": 14,
        "start_time": "2022-10-27T07:47:43.645Z"
      },
      {
        "duration": 54,
        "start_time": "2022-10-27T07:47:43.661Z"
      },
      {
        "duration": 35,
        "start_time": "2022-10-27T07:47:43.718Z"
      },
      {
        "duration": 91,
        "start_time": "2022-10-27T07:47:43.755Z"
      },
      {
        "duration": 19,
        "start_time": "2022-10-27T07:47:43.848Z"
      },
      {
        "duration": 25,
        "start_time": "2022-10-27T07:47:43.870Z"
      },
      {
        "duration": 5,
        "start_time": "2022-10-27T07:47:43.896Z"
      },
      {
        "duration": 53,
        "start_time": "2022-10-27T07:47:43.903Z"
      },
      {
        "duration": 17,
        "start_time": "2022-10-27T07:47:43.958Z"
      },
      {
        "duration": 12,
        "start_time": "2022-10-27T07:47:43.977Z"
      },
      {
        "duration": 53,
        "start_time": "2022-10-27T07:47:43.991Z"
      },
      {
        "duration": 35,
        "start_time": "2022-10-27T07:47:44.047Z"
      },
      {
        "duration": 332,
        "start_time": "2022-10-27T07:47:44.084Z"
      },
      {
        "duration": 150,
        "start_time": "2022-10-27T07:47:44.419Z"
      },
      {
        "duration": 17,
        "start_time": "2022-10-27T07:47:44.571Z"
      },
      {
        "duration": 25,
        "start_time": "2022-10-27T07:47:44.591Z"
      },
      {
        "duration": 44,
        "start_time": "2022-10-27T07:47:44.618Z"
      },
      {
        "duration": 24,
        "start_time": "2022-10-27T07:47:44.665Z"
      },
      {
        "duration": 25,
        "start_time": "2022-10-27T07:47:44.691Z"
      },
      {
        "duration": 31,
        "start_time": "2022-10-27T07:47:44.718Z"
      },
      {
        "duration": 27,
        "start_time": "2022-10-27T07:47:44.750Z"
      },
      {
        "duration": 59,
        "start_time": "2022-10-27T07:47:44.778Z"
      },
      {
        "duration": 33,
        "start_time": "2022-10-27T07:47:44.839Z"
      },
      {
        "duration": 52,
        "start_time": "2022-10-27T07:47:44.874Z"
      },
      {
        "duration": 16,
        "start_time": "2022-10-27T07:47:44.929Z"
      },
      {
        "duration": 3715,
        "start_time": "2022-10-27T07:47:44.947Z"
      },
      {
        "duration": 38,
        "start_time": "2022-10-27T07:47:48.665Z"
      },
      {
        "duration": 224,
        "start_time": "2022-10-27T07:47:48.705Z"
      },
      {
        "duration": 4040,
        "start_time": "2022-10-27T07:47:48.931Z"
      },
      {
        "duration": 26,
        "start_time": "2022-10-27T07:47:52.975Z"
      },
      {
        "duration": 32,
        "start_time": "2022-10-27T07:47:53.003Z"
      },
      {
        "duration": 3792,
        "start_time": "2022-10-27T07:47:53.038Z"
      },
      {
        "duration": 29,
        "start_time": "2022-10-27T07:47:56.833Z"
      },
      {
        "duration": 16,
        "start_time": "2022-10-27T07:47:56.864Z"
      },
      {
        "duration": 58,
        "start_time": "2022-10-27T07:47:56.882Z"
      },
      {
        "duration": 27,
        "start_time": "2022-10-27T07:47:56.942Z"
      },
      {
        "duration": 26,
        "start_time": "2022-10-27T07:47:56.972Z"
      },
      {
        "duration": 300,
        "start_time": "2022-10-27T07:47:57.025Z"
      },
      {
        "duration": 25,
        "start_time": "2022-10-27T07:47:57.327Z"
      },
      {
        "duration": 21,
        "start_time": "2022-10-27T07:47:57.354Z"
      },
      {
        "duration": 16,
        "start_time": "2022-10-27T07:47:57.378Z"
      },
      {
        "duration": 20,
        "start_time": "2022-10-27T07:47:57.427Z"
      },
      {
        "duration": 36,
        "start_time": "2022-10-27T07:48:22.133Z"
      },
      {
        "duration": 27,
        "start_time": "2022-10-27T07:49:16.982Z"
      },
      {
        "duration": 146,
        "start_time": "2022-10-27T07:50:04.434Z"
      },
      {
        "duration": 18,
        "start_time": "2022-10-27T07:50:14.275Z"
      },
      {
        "duration": 23,
        "start_time": "2022-10-27T07:50:35.003Z"
      },
      {
        "duration": 69,
        "start_time": "2022-10-27T07:51:21.867Z"
      },
      {
        "duration": 94,
        "start_time": "2022-10-27T07:51:48.437Z"
      },
      {
        "duration": 45,
        "start_time": "2022-10-27T07:51:56.695Z"
      },
      {
        "duration": 26,
        "start_time": "2022-10-27T07:52:13.056Z"
      },
      {
        "duration": 35,
        "start_time": "2022-10-27T07:52:25.214Z"
      },
      {
        "duration": 24,
        "start_time": "2022-10-27T07:54:05.132Z"
      },
      {
        "duration": 23,
        "start_time": "2022-10-27T07:54:30.044Z"
      },
      {
        "duration": 4,
        "start_time": "2022-10-27T07:54:46.171Z"
      },
      {
        "duration": 36,
        "start_time": "2022-10-27T07:54:50.176Z"
      },
      {
        "duration": 27,
        "start_time": "2022-10-27T08:03:16.009Z"
      },
      {
        "duration": 69,
        "start_time": "2022-10-27T08:08:30.733Z"
      },
      {
        "duration": 5,
        "start_time": "2022-10-27T08:10:02.913Z"
      },
      {
        "duration": 6,
        "start_time": "2022-10-27T08:15:42.218Z"
      },
      {
        "duration": 16,
        "start_time": "2022-10-27T08:16:33.768Z"
      },
      {
        "duration": 21,
        "start_time": "2022-10-27T08:16:47.224Z"
      },
      {
        "duration": 14,
        "start_time": "2022-10-27T08:17:01.918Z"
      },
      {
        "duration": 18,
        "start_time": "2022-10-27T08:18:15.221Z"
      },
      {
        "duration": 1209,
        "start_time": "2022-11-23T08:49:54.520Z"
      },
      {
        "duration": 2,
        "start_time": "2022-11-23T08:49:55.731Z"
      },
      {
        "duration": 113,
        "start_time": "2022-11-23T08:49:55.735Z"
      },
      {
        "duration": 1751,
        "start_time": "2022-11-23T08:49:55.850Z"
      },
      {
        "duration": 276,
        "start_time": "2022-11-23T08:49:57.604Z"
      },
      {
        "duration": 129,
        "start_time": "2022-11-23T08:49:57.881Z"
      },
      {
        "duration": 114,
        "start_time": "2022-11-23T08:49:58.014Z"
      },
      {
        "duration": 13,
        "start_time": "2022-11-23T08:49:58.130Z"
      },
      {
        "duration": 11,
        "start_time": "2022-11-23T08:49:58.145Z"
      },
      {
        "duration": 8,
        "start_time": "2022-11-23T08:49:58.159Z"
      },
      {
        "duration": 6,
        "start_time": "2022-11-23T08:49:58.169Z"
      },
      {
        "duration": 22,
        "start_time": "2022-11-23T08:49:58.205Z"
      },
      {
        "duration": 35,
        "start_time": "2022-11-23T08:49:58.229Z"
      },
      {
        "duration": 22,
        "start_time": "2022-11-23T08:49:58.266Z"
      },
      {
        "duration": 52,
        "start_time": "2022-11-23T08:49:58.289Z"
      },
      {
        "duration": 11,
        "start_time": "2022-11-23T08:49:58.342Z"
      },
      {
        "duration": 39,
        "start_time": "2022-11-23T08:49:58.354Z"
      },
      {
        "duration": 4,
        "start_time": "2022-11-23T08:49:58.395Z"
      },
      {
        "duration": 41,
        "start_time": "2022-11-23T08:49:58.401Z"
      },
      {
        "duration": 14,
        "start_time": "2022-11-23T08:49:58.444Z"
      },
      {
        "duration": 15,
        "start_time": "2022-11-23T08:49:58.460Z"
      },
      {
        "duration": 50,
        "start_time": "2022-11-23T08:49:58.477Z"
      },
      {
        "duration": 10,
        "start_time": "2022-11-23T08:49:58.529Z"
      },
      {
        "duration": 295,
        "start_time": "2022-11-23T08:49:58.541Z"
      },
      {
        "duration": 133,
        "start_time": "2022-11-23T08:49:58.837Z"
      },
      {
        "duration": 17,
        "start_time": "2022-11-23T08:49:58.971Z"
      },
      {
        "duration": 13,
        "start_time": "2022-11-23T08:49:59.008Z"
      },
      {
        "duration": 7,
        "start_time": "2022-11-23T08:49:59.025Z"
      },
      {
        "duration": 5,
        "start_time": "2022-11-23T08:49:59.034Z"
      },
      {
        "duration": 17,
        "start_time": "2022-11-23T08:49:59.040Z"
      },
      {
        "duration": 13,
        "start_time": "2022-11-23T08:49:59.059Z"
      },
      {
        "duration": 9,
        "start_time": "2022-11-23T08:49:59.074Z"
      },
      {
        "duration": 16,
        "start_time": "2022-11-23T08:49:59.084Z"
      },
      {
        "duration": 20,
        "start_time": "2022-11-23T08:49:59.102Z"
      },
      {
        "duration": 24,
        "start_time": "2022-11-23T08:49:59.123Z"
      },
      {
        "duration": 6,
        "start_time": "2022-11-23T08:49:59.148Z"
      },
      {
        "duration": 3345,
        "start_time": "2022-11-23T08:49:59.155Z"
      },
      {
        "duration": 30,
        "start_time": "2022-11-23T08:50:02.504Z"
      },
      {
        "duration": 148,
        "start_time": "2022-11-23T08:50:02.535Z"
      },
      {
        "duration": 0,
        "start_time": "2022-11-23T08:50:02.685Z"
      },
      {
        "duration": 0,
        "start_time": "2022-11-23T08:50:02.687Z"
      },
      {
        "duration": 0,
        "start_time": "2022-11-23T08:50:02.689Z"
      },
      {
        "duration": 0,
        "start_time": "2022-11-23T08:50:02.691Z"
      },
      {
        "duration": 0,
        "start_time": "2022-11-23T08:50:02.706Z"
      },
      {
        "duration": 0,
        "start_time": "2022-11-23T08:50:02.707Z"
      },
      {
        "duration": 0,
        "start_time": "2022-11-23T08:50:02.709Z"
      },
      {
        "duration": 0,
        "start_time": "2022-11-23T08:50:02.712Z"
      },
      {
        "duration": 0,
        "start_time": "2022-11-23T08:50:02.714Z"
      },
      {
        "duration": 0,
        "start_time": "2022-11-23T08:50:02.716Z"
      },
      {
        "duration": 0,
        "start_time": "2022-11-23T08:50:02.720Z"
      },
      {
        "duration": 0,
        "start_time": "2022-11-23T08:50:02.721Z"
      },
      {
        "duration": 0,
        "start_time": "2022-11-23T08:50:02.721Z"
      },
      {
        "duration": 0,
        "start_time": "2022-11-23T08:50:02.722Z"
      },
      {
        "duration": 7768,
        "start_time": "2022-11-23T08:50:28.825Z"
      },
      {
        "duration": 2819,
        "start_time": "2022-11-23T08:50:55.059Z"
      },
      {
        "duration": 1258,
        "start_time": "2022-11-23T08:50:57.881Z"
      },
      {
        "duration": 3,
        "start_time": "2022-11-23T08:50:59.140Z"
      },
      {
        "duration": 60,
        "start_time": "2022-11-23T08:50:59.145Z"
      },
      {
        "duration": 575,
        "start_time": "2022-11-23T08:50:59.207Z"
      },
      {
        "duration": 103,
        "start_time": "2022-11-23T08:50:59.784Z"
      },
      {
        "duration": 60,
        "start_time": "2022-11-23T08:50:59.889Z"
      },
      {
        "duration": 122,
        "start_time": "2022-11-23T08:50:59.951Z"
      },
      {
        "duration": 12,
        "start_time": "2022-11-23T08:51:00.075Z"
      },
      {
        "duration": 20,
        "start_time": "2022-11-23T08:51:00.106Z"
      },
      {
        "duration": 28,
        "start_time": "2022-11-23T08:51:00.127Z"
      },
      {
        "duration": 15,
        "start_time": "2022-11-23T08:51:00.157Z"
      },
      {
        "duration": 28,
        "start_time": "2022-11-23T08:51:00.173Z"
      },
      {
        "duration": 94,
        "start_time": "2022-11-23T08:51:00.203Z"
      },
      {
        "duration": 30,
        "start_time": "2022-11-23T08:51:00.299Z"
      },
      {
        "duration": 69,
        "start_time": "2022-11-23T08:51:00.331Z"
      },
      {
        "duration": 18,
        "start_time": "2022-11-23T08:51:00.402Z"
      },
      {
        "duration": 40,
        "start_time": "2022-11-23T08:51:00.422Z"
      },
      {
        "duration": 33,
        "start_time": "2022-11-23T08:51:00.464Z"
      },
      {
        "duration": 53,
        "start_time": "2022-11-23T08:51:00.499Z"
      },
      {
        "duration": 44,
        "start_time": "2022-11-23T08:51:00.554Z"
      },
      {
        "duration": 59,
        "start_time": "2022-11-23T08:51:00.600Z"
      },
      {
        "duration": 54,
        "start_time": "2022-11-23T08:51:00.661Z"
      },
      {
        "duration": 38,
        "start_time": "2022-11-23T08:51:00.716Z"
      },
      {
        "duration": 319,
        "start_time": "2022-11-23T08:51:00.756Z"
      },
      {
        "duration": 141,
        "start_time": "2022-11-23T08:51:01.078Z"
      },
      {
        "duration": 19,
        "start_time": "2022-11-23T08:51:01.221Z"
      },
      {
        "duration": 31,
        "start_time": "2022-11-23T08:51:01.244Z"
      },
      {
        "duration": 73,
        "start_time": "2022-11-23T08:51:01.278Z"
      },
      {
        "duration": 44,
        "start_time": "2022-11-23T08:51:01.353Z"
      },
      {
        "duration": 72,
        "start_time": "2022-11-23T08:51:01.399Z"
      },
      {
        "duration": 58,
        "start_time": "2022-11-23T08:51:01.473Z"
      },
      {
        "duration": 53,
        "start_time": "2022-11-23T08:51:01.533Z"
      },
      {
        "duration": 60,
        "start_time": "2022-11-23T08:51:01.588Z"
      },
      {
        "duration": 28,
        "start_time": "2022-11-23T08:51:01.650Z"
      },
      {
        "duration": 54,
        "start_time": "2022-11-23T08:51:01.680Z"
      },
      {
        "duration": 14,
        "start_time": "2022-11-23T08:51:01.736Z"
      },
      {
        "duration": 3213,
        "start_time": "2022-11-23T08:51:01.752Z"
      },
      {
        "duration": 25,
        "start_time": "2022-11-23T08:51:04.967Z"
      },
      {
        "duration": 925,
        "start_time": "2022-11-23T08:51:05.007Z"
      },
      {
        "duration": 3485,
        "start_time": "2022-11-23T08:51:05.934Z"
      },
      {
        "duration": 23,
        "start_time": "2022-11-23T08:51:09.421Z"
      },
      {
        "duration": 89,
        "start_time": "2022-11-23T08:51:09.446Z"
      },
      {
        "duration": 3299,
        "start_time": "2022-11-23T08:51:09.537Z"
      },
      {
        "duration": 19,
        "start_time": "2022-11-23T08:51:12.838Z"
      },
      {
        "duration": 84,
        "start_time": "2022-11-23T08:51:12.859Z"
      },
      {
        "duration": 19,
        "start_time": "2022-11-23T08:51:12.946Z"
      },
      {
        "duration": 46,
        "start_time": "2022-11-23T08:51:12.966Z"
      },
      {
        "duration": 15,
        "start_time": "2022-11-23T08:51:13.013Z"
      },
      {
        "duration": 243,
        "start_time": "2022-11-23T08:51:13.029Z"
      },
      {
        "duration": 14,
        "start_time": "2022-11-23T08:51:13.274Z"
      },
      {
        "duration": 18,
        "start_time": "2022-11-23T08:51:13.305Z"
      },
      {
        "duration": 16,
        "start_time": "2022-11-23T08:51:13.325Z"
      },
      {
        "duration": 39,
        "start_time": "2022-11-23T08:51:13.343Z"
      }
    ],
    "kernelspec": {
      "display_name": "Python 3 (ipykernel)",
      "language": "python",
      "name": "python3"
    },
    "language_info": {
      "codemirror_mode": {
        "name": "ipython",
        "version": 3
      },
      "file_extension": ".py",
      "mimetype": "text/x-python",
      "name": "python",
      "nbconvert_exporter": "python",
      "pygments_lexer": "ipython3",
      "version": "3.9.5"
    },
    "toc": {
      "base_numbering": 1,
      "nav_menu": {},
      "number_sections": true,
      "sideBar": true,
      "skip_h1_title": true,
      "title_cell": "Table of Contents",
      "title_sidebar": "Contents",
      "toc_cell": false,
      "toc_position": {},
      "toc_section_display": true,
      "toc_window_display": false
    },
    "colab": {
      "provenance": []
    }
  },
  "nbformat": 4,
  "nbformat_minor": 0
}