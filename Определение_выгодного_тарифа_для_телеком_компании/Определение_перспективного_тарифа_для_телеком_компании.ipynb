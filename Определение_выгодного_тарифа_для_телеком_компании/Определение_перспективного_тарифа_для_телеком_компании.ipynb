{
  "cells": [
    {
      "cell_type": "markdown",
      "metadata": {
        "id": "JSgEImk3nVAf"
      },
      "source": [
        "# Определение перспективного тарифа для телеком-компании"
      ]
    },
    {
      "cell_type": "markdown",
      "metadata": {
        "id": "oFnUpwrfnVAf"
      },
      "source": [
        "Для того, что бы принять стратегию в маркетинге и скорректировать рекламный бюджет компании необходимо понять, какой из тарифов приносит больший доход.\n",
        "У нас имеется два тарифа которые мы будем сравнивать:\n",
        "\n",
        "\n",
        " - Тариф **«Смарт»**\n",
        "    - Ежемесячная плата: 550 рублей  \n",
        "    - Включено 500 минут разговора, 50 сообщений и 15 Гб интернет-трафика  \n",
        "    - *Стоимость услуг сверх тарифного пакета:*  \n",
        "     - минута разговора: 3 рубля  \n",
        "     - сообщение: 3 рубля  \n",
        "     - 1 Гб интернет-трафика: 200 рублей  \n",
        "\n",
        " - Тариф**«Ультра»**  \n",
        "    - Ежемесячная плата: 1950 рублей  \n",
        "    - Включено 3000 минут разговора, 1000 сообщений и 30 Гб интернет-трафика  \n",
        "    - *Стоимость услуг сверх тарифного пакета:*  \n",
        "     - минута разговора: 1 рубль  \n",
        "     -сообщение: 1 рубль  \n",
        "     -1 Гб интернет-трафика: 150 рублей   \n",
        " \n",
        "**Примечание:**\n",
        "«Мегалайн» всегда округляет секунды до минут, а мегабайты — до гигабайт. Каждый звонок округляется отдельно: даже если он длился всего 1 секунду, будет засчитан как 1 минута.\n",
        "Для веб-трафика отдельные сессии не считаются. Вместо этого общая сумма за месяц округляется в бо́льшую сторону. Если абонент использует 1025 мегабайт в этом месяце, с него возьмут плату за 2 гигабайта.  \n",
        "  \n",
        "В данном проекте, мы проведем подготовку и анализ данных, выясним особенности поведения пользователей имеющихся тарифов. А так же, мы проверим две гипотезы, касающиеся средней выручки:  \n",
        " * Равна ли средняя выручка тарифа «Ультра» средне выручки тарифа «Смарт».  \n",
        " * Равна ли средняя выручка пользователей из Москвы равна  средней выручке пользователей из других городов."
      ]
    },
    {
      "cell_type": "markdown",
      "metadata": {
        "id": "HBP6UWZ-nVAf"
      },
      "source": [
        "## Обзор предоставленной информации"
      ]
    },
    {
      "cell_type": "code",
      "execution_count": null,
      "metadata": {
        "id": "znT10cEfnVAf"
      },
      "outputs": [],
      "source": [
        "import pandas as pd \n",
        "import numpy as np \n",
        "from scipy import stats as st\n",
        "import matplotlib.pyplot as plt\n",
        "import seaborn as sns\n",
        "import pylab\n",
        "pd.options.display.float_format = '{:,.2f}'.format\n",
        "from IPython.core.interactiveshell import InteractiveShell\n",
        "InteractiveShell.ast_node_interactivity = \"all\"\n",
        "import plotly.io as pio\n",
        "pio.renderers.default = \"png\"#импорт библтотек"
      ]
    },
    {
      "cell_type": "code",
      "execution_count": null,
      "metadata": {
        "id": "BFMPEME8nVAg",
        "outputId": "3994b969-b4ba-48ed-ea11-1cb673160890"
      },
      "outputs": [
        {
          "data": {
            "text/html": [
              "<div>\n",
              "<style scoped>\n",
              "    .dataframe tbody tr th:only-of-type {\n",
              "        vertical-align: middle;\n",
              "    }\n",
              "\n",
              "    .dataframe tbody tr th {\n",
              "        vertical-align: top;\n",
              "    }\n",
              "\n",
              "    .dataframe thead th {\n",
              "        text-align: right;\n",
              "    }\n",
              "</style>\n",
              "<table border=\"1\" class=\"dataframe\">\n",
              "  <thead>\n",
              "    <tr style=\"text-align: right;\">\n",
              "      <th></th>\n",
              "      <th>id</th>\n",
              "      <th>call_date</th>\n",
              "      <th>duration</th>\n",
              "      <th>user_id</th>\n",
              "    </tr>\n",
              "  </thead>\n",
              "  <tbody>\n",
              "    <tr>\n",
              "      <th>0</th>\n",
              "      <td>1000_0</td>\n",
              "      <td>2018-07-25</td>\n",
              "      <td>0.00</td>\n",
              "      <td>1000</td>\n",
              "    </tr>\n",
              "    <tr>\n",
              "      <th>1</th>\n",
              "      <td>1000_1</td>\n",
              "      <td>2018-08-17</td>\n",
              "      <td>0.00</td>\n",
              "      <td>1000</td>\n",
              "    </tr>\n",
              "    <tr>\n",
              "      <th>2</th>\n",
              "      <td>1000_2</td>\n",
              "      <td>2018-06-11</td>\n",
              "      <td>2.85</td>\n",
              "      <td>1000</td>\n",
              "    </tr>\n",
              "    <tr>\n",
              "      <th>3</th>\n",
              "      <td>1000_3</td>\n",
              "      <td>2018-09-21</td>\n",
              "      <td>13.80</td>\n",
              "      <td>1000</td>\n",
              "    </tr>\n",
              "    <tr>\n",
              "      <th>4</th>\n",
              "      <td>1000_4</td>\n",
              "      <td>2018-12-15</td>\n",
              "      <td>5.18</td>\n",
              "      <td>1000</td>\n",
              "    </tr>\n",
              "  </tbody>\n",
              "</table>\n",
              "</div>"
            ],
            "text/plain": [
              "       id   call_date  duration  user_id\n",
              "0  1000_0  2018-07-25      0.00     1000\n",
              "1  1000_1  2018-08-17      0.00     1000\n",
              "2  1000_2  2018-06-11      2.85     1000\n",
              "3  1000_3  2018-09-21     13.80     1000\n",
              "4  1000_4  2018-12-15      5.18     1000"
            ]
          },
          "execution_count": 2,
          "metadata": {},
          "output_type": "execute_result"
        },
        {
          "name": "stdout",
          "output_type": "stream",
          "text": [
            "<class 'pandas.core.frame.DataFrame'>\n",
            "RangeIndex: 202607 entries, 0 to 202606\n",
            "Data columns (total 4 columns):\n",
            " #   Column     Non-Null Count   Dtype  \n",
            "---  ------     --------------   -----  \n",
            " 0   id         202607 non-null  object \n",
            " 1   call_date  202607 non-null  object \n",
            " 2   duration   202607 non-null  float64\n",
            " 3   user_id    202607 non-null  int64  \n",
            "dtypes: float64(1), int64(1), object(2)\n",
            "memory usage: 6.2+ MB\n"
          ]
        }
      ],
      "source": [
        "data_calls = pd.read_csv('/datasets/calls.csv')#открытие файла\n",
        "data_calls.head(5)#вывод первых 5 строк\n",
        "data_calls.info()"
      ]
    },
    {
      "cell_type": "markdown",
      "metadata": {
        "id": "pXLTFoFvnVAh"
      },
      "source": [
        "Таблица `data_calls` (информация о звонках):\n",
        " - `id` — уникальный номер звонка\n",
        " - `call_date` — дата звонка\n",
        " - `duration` — длительность звонка в минутах\n",
        " - `user_id` — идентификатор пользователя, сделавшего звонок\n",
        "<br>Пропущенных значений в данных таблицы `calls` нет."
      ]
    },
    {
      "cell_type": "code",
      "execution_count": null,
      "metadata": {
        "id": "Qui5tWHMnVAh",
        "outputId": "56b5a814-b4b9-4625-856a-0fa7178ec04e"
      },
      "outputs": [
        {
          "data": {
            "text/html": [
              "<div>\n",
              "<style scoped>\n",
              "    .dataframe tbody tr th:only-of-type {\n",
              "        vertical-align: middle;\n",
              "    }\n",
              "\n",
              "    .dataframe tbody tr th {\n",
              "        vertical-align: top;\n",
              "    }\n",
              "\n",
              "    .dataframe thead th {\n",
              "        text-align: right;\n",
              "    }\n",
              "</style>\n",
              "<table border=\"1\" class=\"dataframe\">\n",
              "  <thead>\n",
              "    <tr style=\"text-align: right;\">\n",
              "      <th></th>\n",
              "      <th>Unnamed: 0</th>\n",
              "      <th>id</th>\n",
              "      <th>mb_used</th>\n",
              "      <th>session_date</th>\n",
              "      <th>user_id</th>\n",
              "    </tr>\n",
              "  </thead>\n",
              "  <tbody>\n",
              "    <tr>\n",
              "      <th>0</th>\n",
              "      <td>0</td>\n",
              "      <td>1000_0</td>\n",
              "      <td>112.95</td>\n",
              "      <td>2018-11-25</td>\n",
              "      <td>1000</td>\n",
              "    </tr>\n",
              "    <tr>\n",
              "      <th>1</th>\n",
              "      <td>1</td>\n",
              "      <td>1000_1</td>\n",
              "      <td>1,052.81</td>\n",
              "      <td>2018-09-07</td>\n",
              "      <td>1000</td>\n",
              "    </tr>\n",
              "    <tr>\n",
              "      <th>2</th>\n",
              "      <td>2</td>\n",
              "      <td>1000_2</td>\n",
              "      <td>1,197.26</td>\n",
              "      <td>2018-06-25</td>\n",
              "      <td>1000</td>\n",
              "    </tr>\n",
              "    <tr>\n",
              "      <th>3</th>\n",
              "      <td>3</td>\n",
              "      <td>1000_3</td>\n",
              "      <td>550.27</td>\n",
              "      <td>2018-08-22</td>\n",
              "      <td>1000</td>\n",
              "    </tr>\n",
              "    <tr>\n",
              "      <th>4</th>\n",
              "      <td>4</td>\n",
              "      <td>1000_4</td>\n",
              "      <td>302.56</td>\n",
              "      <td>2018-09-24</td>\n",
              "      <td>1000</td>\n",
              "    </tr>\n",
              "  </tbody>\n",
              "</table>\n",
              "</div>"
            ],
            "text/plain": [
              "   Unnamed: 0      id  mb_used session_date  user_id\n",
              "0           0  1000_0   112.95   2018-11-25     1000\n",
              "1           1  1000_1 1,052.81   2018-09-07     1000\n",
              "2           2  1000_2 1,197.26   2018-06-25     1000\n",
              "3           3  1000_3   550.27   2018-08-22     1000\n",
              "4           4  1000_4   302.56   2018-09-24     1000"
            ]
          },
          "execution_count": 3,
          "metadata": {},
          "output_type": "execute_result"
        },
        {
          "name": "stdout",
          "output_type": "stream",
          "text": [
            "<class 'pandas.core.frame.DataFrame'>\n",
            "RangeIndex: 149396 entries, 0 to 149395\n",
            "Data columns (total 5 columns):\n",
            " #   Column        Non-Null Count   Dtype  \n",
            "---  ------        --------------   -----  \n",
            " 0   Unnamed: 0    149396 non-null  int64  \n",
            " 1   id            149396 non-null  object \n",
            " 2   mb_used       149396 non-null  float64\n",
            " 3   session_date  149396 non-null  object \n",
            " 4   user_id       149396 non-null  int64  \n",
            "dtypes: float64(1), int64(2), object(2)\n",
            "memory usage: 5.7+ MB\n"
          ]
        }
      ],
      "source": [
        "data_internet = pd.read_csv('/datasets/internet.csv')#открытие файла\n",
        "data_internet.head(5)#вывод первых 5 строк\n",
        "data_internet.info()"
      ]
    },
    {
      "cell_type": "markdown",
      "metadata": {
        "id": "GZIyhUI1nVAh"
      },
      "source": [
        "Таблица `data_internet` (информация об интернет-сессиях):\n",
        " - `id` — уникальный номер сессии\n",
        " - `mb_used` — объём потраченного за сессию интернет-трафика (в мегабайтах)\n",
        " - `session_date` — дата интернет-сессии\n",
        " - `user_id` — идентификатор пользователя\n",
        " <br> Столбец `Unnamed: 0` скорее всего является дублем столбца с индексами и значения для нас не имеет.\n",
        " <br> В таблице  149 396 строк, пропусков нет."
      ]
    },
    {
      "cell_type": "code",
      "execution_count": null,
      "metadata": {
        "id": "JBlY_7C9nVAh",
        "outputId": "25fa8383-2f18-49d0-cb11-2f9bdf0bb037"
      },
      "outputs": [
        {
          "data": {
            "text/html": [
              "<div>\n",
              "<style scoped>\n",
              "    .dataframe tbody tr th:only-of-type {\n",
              "        vertical-align: middle;\n",
              "    }\n",
              "\n",
              "    .dataframe tbody tr th {\n",
              "        vertical-align: top;\n",
              "    }\n",
              "\n",
              "    .dataframe thead th {\n",
              "        text-align: right;\n",
              "    }\n",
              "</style>\n",
              "<table border=\"1\" class=\"dataframe\">\n",
              "  <thead>\n",
              "    <tr style=\"text-align: right;\">\n",
              "      <th></th>\n",
              "      <th>id</th>\n",
              "      <th>message_date</th>\n",
              "      <th>user_id</th>\n",
              "    </tr>\n",
              "  </thead>\n",
              "  <tbody>\n",
              "    <tr>\n",
              "      <th>0</th>\n",
              "      <td>1000_0</td>\n",
              "      <td>2018-06-27</td>\n",
              "      <td>1000</td>\n",
              "    </tr>\n",
              "    <tr>\n",
              "      <th>1</th>\n",
              "      <td>1000_1</td>\n",
              "      <td>2018-10-08</td>\n",
              "      <td>1000</td>\n",
              "    </tr>\n",
              "    <tr>\n",
              "      <th>2</th>\n",
              "      <td>1000_2</td>\n",
              "      <td>2018-08-04</td>\n",
              "      <td>1000</td>\n",
              "    </tr>\n",
              "    <tr>\n",
              "      <th>3</th>\n",
              "      <td>1000_3</td>\n",
              "      <td>2018-06-16</td>\n",
              "      <td>1000</td>\n",
              "    </tr>\n",
              "    <tr>\n",
              "      <th>4</th>\n",
              "      <td>1000_4</td>\n",
              "      <td>2018-12-05</td>\n",
              "      <td>1000</td>\n",
              "    </tr>\n",
              "  </tbody>\n",
              "</table>\n",
              "</div>"
            ],
            "text/plain": [
              "       id message_date  user_id\n",
              "0  1000_0   2018-06-27     1000\n",
              "1  1000_1   2018-10-08     1000\n",
              "2  1000_2   2018-08-04     1000\n",
              "3  1000_3   2018-06-16     1000\n",
              "4  1000_4   2018-12-05     1000"
            ]
          },
          "execution_count": 4,
          "metadata": {},
          "output_type": "execute_result"
        },
        {
          "name": "stdout",
          "output_type": "stream",
          "text": [
            "<class 'pandas.core.frame.DataFrame'>\n",
            "RangeIndex: 123036 entries, 0 to 123035\n",
            "Data columns (total 3 columns):\n",
            " #   Column        Non-Null Count   Dtype \n",
            "---  ------        --------------   ----- \n",
            " 0   id            123036 non-null  object\n",
            " 1   message_date  123036 non-null  object\n",
            " 2   user_id       123036 non-null  int64 \n",
            "dtypes: int64(1), object(2)\n",
            "memory usage: 2.8+ MB\n"
          ]
        }
      ],
      "source": [
        "data_messages = pd.read_csv('/datasets/messages.csv')#открытие файла\n",
        "data_messages.head(5)#вывод первых 5 строк\n",
        "data_messages.info()"
      ]
    },
    {
      "cell_type": "markdown",
      "metadata": {
        "id": "nAAl2XcCnVAi"
      },
      "source": [
        "Таблица `data_messages` (информация о сообщениях):\n",
        " - `id` — уникальный номер сообщения\n",
        " - `message_date` — дата сообщения\n",
        " - `user_id` — идентификатор пользователя, отправившего сообщение\n",
        "  <br> В таблице  123 036 строк, пропусков нет."
      ]
    },
    {
      "cell_type": "code",
      "execution_count": null,
      "metadata": {
        "id": "fjw2Fj5cnVAi",
        "outputId": "f54feba8-224a-462f-a60f-cafe36a1de94"
      },
      "outputs": [
        {
          "data": {
            "text/html": [
              "<div>\n",
              "<style scoped>\n",
              "    .dataframe tbody tr th:only-of-type {\n",
              "        vertical-align: middle;\n",
              "    }\n",
              "\n",
              "    .dataframe tbody tr th {\n",
              "        vertical-align: top;\n",
              "    }\n",
              "\n",
              "    .dataframe thead th {\n",
              "        text-align: right;\n",
              "    }\n",
              "</style>\n",
              "<table border=\"1\" class=\"dataframe\">\n",
              "  <thead>\n",
              "    <tr style=\"text-align: right;\">\n",
              "      <th></th>\n",
              "      <th>messages_included</th>\n",
              "      <th>mb_per_month_included</th>\n",
              "      <th>minutes_included</th>\n",
              "      <th>rub_monthly_fee</th>\n",
              "      <th>rub_per_gb</th>\n",
              "      <th>rub_per_message</th>\n",
              "      <th>rub_per_minute</th>\n",
              "      <th>tariff_name</th>\n",
              "    </tr>\n",
              "  </thead>\n",
              "  <tbody>\n",
              "    <tr>\n",
              "      <th>0</th>\n",
              "      <td>50</td>\n",
              "      <td>15360</td>\n",
              "      <td>500</td>\n",
              "      <td>550</td>\n",
              "      <td>200</td>\n",
              "      <td>3</td>\n",
              "      <td>3</td>\n",
              "      <td>smart</td>\n",
              "    </tr>\n",
              "    <tr>\n",
              "      <th>1</th>\n",
              "      <td>1000</td>\n",
              "      <td>30720</td>\n",
              "      <td>3000</td>\n",
              "      <td>1950</td>\n",
              "      <td>150</td>\n",
              "      <td>1</td>\n",
              "      <td>1</td>\n",
              "      <td>ultra</td>\n",
              "    </tr>\n",
              "  </tbody>\n",
              "</table>\n",
              "</div>"
            ],
            "text/plain": [
              "   messages_included  mb_per_month_included  minutes_included  \\\n",
              "0                 50                  15360               500   \n",
              "1               1000                  30720              3000   \n",
              "\n",
              "   rub_monthly_fee  rub_per_gb  rub_per_message  rub_per_minute tariff_name  \n",
              "0              550         200                3               3       smart  \n",
              "1             1950         150                1               1       ultra  "
            ]
          },
          "execution_count": 5,
          "metadata": {},
          "output_type": "execute_result"
        },
        {
          "name": "stdout",
          "output_type": "stream",
          "text": [
            "<class 'pandas.core.frame.DataFrame'>\n",
            "RangeIndex: 2 entries, 0 to 1\n",
            "Data columns (total 8 columns):\n",
            " #   Column                 Non-Null Count  Dtype \n",
            "---  ------                 --------------  ----- \n",
            " 0   messages_included      2 non-null      int64 \n",
            " 1   mb_per_month_included  2 non-null      int64 \n",
            " 2   minutes_included       2 non-null      int64 \n",
            " 3   rub_monthly_fee        2 non-null      int64 \n",
            " 4   rub_per_gb             2 non-null      int64 \n",
            " 5   rub_per_message        2 non-null      int64 \n",
            " 6   rub_per_minute         2 non-null      int64 \n",
            " 7   tariff_name            2 non-null      object\n",
            "dtypes: int64(7), object(1)\n",
            "memory usage: 256.0+ bytes\n"
          ]
        }
      ],
      "source": [
        "data_tariffs = pd.read_csv('/datasets/tariffs.csv')#открытие файла\n",
        "data_tariffs.head(5)#вывод первых 5 строк\n",
        "data_tariffs.info()"
      ]
    },
    {
      "cell_type": "markdown",
      "metadata": {
        "id": "sNwL6_CknVAi"
      },
      "source": [
        "Таблица `data_tariffs` (информация о тарифах):\n",
        " - `tariff_name` — название тарифа\n",
        " - `rub_monthly_fee` — ежемесячная абонентская плата в рублях\n",
        " - `minutes_included` — количество минут разговора в месяц, включённых в абонентскую плату\n",
        " - `messages_included` — количество сообщений в месяц, включённых в абонентскую плату\n",
        " - `mb_per_month_included` — объём интернет-трафика, включённого в абонентскую плату (в мегабайтах)\n",
        " - `rub_per_minute` — стоимость минуты разговора сверх тарифного пакета (например, если в тарифе 100 минут разговора в месяц, то со 101 минуты будет взиматься плата)\n",
        " - `rub_per_message` — стоимость отправки сообщения сверх тарифного пакета\n",
        " - `rub_per_gb` — стоимость дополнительного гигабайта интернет-трафика сверх тарифного пакета (1 гигабайт = 1024 мегабайта)"
      ]
    },
    {
      "cell_type": "code",
      "execution_count": null,
      "metadata": {
        "id": "QLEIHmKKnVAi",
        "outputId": "d5e396b9-f1a8-4480-a5f4-7a258138bd9e"
      },
      "outputs": [
        {
          "data": {
            "text/html": [
              "<div>\n",
              "<style scoped>\n",
              "    .dataframe tbody tr th:only-of-type {\n",
              "        vertical-align: middle;\n",
              "    }\n",
              "\n",
              "    .dataframe tbody tr th {\n",
              "        vertical-align: top;\n",
              "    }\n",
              "\n",
              "    .dataframe thead th {\n",
              "        text-align: right;\n",
              "    }\n",
              "</style>\n",
              "<table border=\"1\" class=\"dataframe\">\n",
              "  <thead>\n",
              "    <tr style=\"text-align: right;\">\n",
              "      <th></th>\n",
              "      <th>user_id</th>\n",
              "      <th>age</th>\n",
              "      <th>churn_date</th>\n",
              "      <th>city</th>\n",
              "      <th>first_name</th>\n",
              "      <th>last_name</th>\n",
              "      <th>reg_date</th>\n",
              "      <th>tariff</th>\n",
              "    </tr>\n",
              "  </thead>\n",
              "  <tbody>\n",
              "    <tr>\n",
              "      <th>0</th>\n",
              "      <td>1000</td>\n",
              "      <td>52</td>\n",
              "      <td>NaN</td>\n",
              "      <td>Краснодар</td>\n",
              "      <td>Рафаил</td>\n",
              "      <td>Верещагин</td>\n",
              "      <td>2018-05-25</td>\n",
              "      <td>ultra</td>\n",
              "    </tr>\n",
              "    <tr>\n",
              "      <th>1</th>\n",
              "      <td>1001</td>\n",
              "      <td>41</td>\n",
              "      <td>NaN</td>\n",
              "      <td>Москва</td>\n",
              "      <td>Иван</td>\n",
              "      <td>Ежов</td>\n",
              "      <td>2018-11-01</td>\n",
              "      <td>smart</td>\n",
              "    </tr>\n",
              "    <tr>\n",
              "      <th>2</th>\n",
              "      <td>1002</td>\n",
              "      <td>59</td>\n",
              "      <td>NaN</td>\n",
              "      <td>Стерлитамак</td>\n",
              "      <td>Евгений</td>\n",
              "      <td>Абрамович</td>\n",
              "      <td>2018-06-17</td>\n",
              "      <td>smart</td>\n",
              "    </tr>\n",
              "    <tr>\n",
              "      <th>3</th>\n",
              "      <td>1003</td>\n",
              "      <td>23</td>\n",
              "      <td>NaN</td>\n",
              "      <td>Москва</td>\n",
              "      <td>Белла</td>\n",
              "      <td>Белякова</td>\n",
              "      <td>2018-08-17</td>\n",
              "      <td>ultra</td>\n",
              "    </tr>\n",
              "    <tr>\n",
              "      <th>4</th>\n",
              "      <td>1004</td>\n",
              "      <td>68</td>\n",
              "      <td>NaN</td>\n",
              "      <td>Новокузнецк</td>\n",
              "      <td>Татьяна</td>\n",
              "      <td>Авдеенко</td>\n",
              "      <td>2018-05-14</td>\n",
              "      <td>ultra</td>\n",
              "    </tr>\n",
              "  </tbody>\n",
              "</table>\n",
              "</div>"
            ],
            "text/plain": [
              "   user_id  age churn_date         city first_name  last_name    reg_date  \\\n",
              "0     1000   52        NaN    Краснодар     Рафаил  Верещагин  2018-05-25   \n",
              "1     1001   41        NaN       Москва       Иван       Ежов  2018-11-01   \n",
              "2     1002   59        NaN  Стерлитамак    Евгений  Абрамович  2018-06-17   \n",
              "3     1003   23        NaN       Москва      Белла   Белякова  2018-08-17   \n",
              "4     1004   68        NaN  Новокузнецк    Татьяна   Авдеенко  2018-05-14   \n",
              "\n",
              "  tariff  \n",
              "0  ultra  \n",
              "1  smart  \n",
              "2  smart  \n",
              "3  ultra  \n",
              "4  ultra  "
            ]
          },
          "execution_count": 6,
          "metadata": {},
          "output_type": "execute_result"
        },
        {
          "name": "stdout",
          "output_type": "stream",
          "text": [
            "<class 'pandas.core.frame.DataFrame'>\n",
            "RangeIndex: 500 entries, 0 to 499\n",
            "Data columns (total 8 columns):\n",
            " #   Column      Non-Null Count  Dtype \n",
            "---  ------      --------------  ----- \n",
            " 0   user_id     500 non-null    int64 \n",
            " 1   age         500 non-null    int64 \n",
            " 2   churn_date  38 non-null     object\n",
            " 3   city        500 non-null    object\n",
            " 4   first_name  500 non-null    object\n",
            " 5   last_name   500 non-null    object\n",
            " 6   reg_date    500 non-null    object\n",
            " 7   tariff      500 non-null    object\n",
            "dtypes: int64(2), object(6)\n",
            "memory usage: 31.4+ KB\n"
          ]
        }
      ],
      "source": [
        "data_users = pd.read_csv('/datasets/users.csv')#открытие файла\n",
        "data_users.head(5)#вывод первых 5 строк\n",
        "data_users.info()"
      ]
    },
    {
      "cell_type": "markdown",
      "metadata": {
        "id": "dcosuFoAnVAi"
      },
      "source": [
        "Таблица `data_users` (информация о пользователях):\n",
        " - `user_id` — уникальный идентификатор пользователя\n",
        " - `first_name` — имя пользователя\n",
        " - `last_name` — фамилия пользователя\n",
        " - `age` — возраст пользователя (годы)\n",
        " - `reg_date` — дата подключения тарифа (день, месяц, год)\n",
        " - `churn_date` — дата прекращения пользования тарифом (если значение пропущено, то тариф ещё действовал на момент выгрузки данных)\n",
        " - `city` — город проживания пользователя\n",
        " - `tariff` — название тарифного плана\n",
        "  <br> В таблице  предоставлена о пятистах пользователей интересующих нас тарифов"
      ]
    },
    {
      "cell_type": "markdown",
      "metadata": {
        "id": "yH8MBjGnnVAj"
      },
      "source": [
        "В таблицах представленна информация о пятистах пользователях тарифов **«Смарт»** и **«Ультра»**, а так же совершенных ими звонках, смс и использовании интернет-трафике. \n",
        "<br> На первый взгляд, предоставленные данные довольно понятны. Каких-либо критических замечаний не замечено. Перейдем к подготовке данных для дальнейшего анализа."
      ]
    },
    {
      "cell_type": "markdown",
      "metadata": {
        "id": "Lb0dMn49nVAj"
      },
      "source": [
        "## Подготовка данных"
      ]
    },
    {
      "cell_type": "markdown",
      "metadata": {
        "id": "XKiogivonVAj"
      },
      "source": [
        "В таблице `data_calls`, в столбце с датами тип данных обозначен как `str`. Для того, что бы в дальнейшем мы могли использовать этот столбец для анализа приведем его в типу `datetime64`. Так же, по условиям нашего оператора мобильной связи, каждый звонок округляется до минут в большую сторону. Поэтому, округлим значения в столбце `'duration'` до большего целого."
      ]
    },
    {
      "cell_type": "code",
      "execution_count": null,
      "metadata": {
        "scrolled": false,
        "id": "dhF3MxmDnVAj",
        "outputId": "d4d398a6-9994-4417-b5ad-50b37cd43e8b"
      },
      "outputs": [
        {
          "data": {
            "text/html": [
              "<div>\n",
              "<style scoped>\n",
              "    .dataframe tbody tr th:only-of-type {\n",
              "        vertical-align: middle;\n",
              "    }\n",
              "\n",
              "    .dataframe tbody tr th {\n",
              "        vertical-align: top;\n",
              "    }\n",
              "\n",
              "    .dataframe thead th {\n",
              "        text-align: right;\n",
              "    }\n",
              "</style>\n",
              "<table border=\"1\" class=\"dataframe\">\n",
              "  <thead>\n",
              "    <tr style=\"text-align: right;\">\n",
              "      <th></th>\n",
              "      <th>id</th>\n",
              "      <th>call_date</th>\n",
              "      <th>duration</th>\n",
              "      <th>user_id</th>\n",
              "    </tr>\n",
              "  </thead>\n",
              "  <tbody>\n",
              "    <tr>\n",
              "      <th>0</th>\n",
              "      <td>1000_0</td>\n",
              "      <td>2018-07-25</td>\n",
              "      <td>0.00</td>\n",
              "      <td>1000</td>\n",
              "    </tr>\n",
              "    <tr>\n",
              "      <th>1</th>\n",
              "      <td>1000_1</td>\n",
              "      <td>2018-08-17</td>\n",
              "      <td>0.00</td>\n",
              "      <td>1000</td>\n",
              "    </tr>\n",
              "    <tr>\n",
              "      <th>2</th>\n",
              "      <td>1000_2</td>\n",
              "      <td>2018-06-11</td>\n",
              "      <td>3.00</td>\n",
              "      <td>1000</td>\n",
              "    </tr>\n",
              "    <tr>\n",
              "      <th>3</th>\n",
              "      <td>1000_3</td>\n",
              "      <td>2018-09-21</td>\n",
              "      <td>14.00</td>\n",
              "      <td>1000</td>\n",
              "    </tr>\n",
              "    <tr>\n",
              "      <th>4</th>\n",
              "      <td>1000_4</td>\n",
              "      <td>2018-12-15</td>\n",
              "      <td>6.00</td>\n",
              "      <td>1000</td>\n",
              "    </tr>\n",
              "  </tbody>\n",
              "</table>\n",
              "</div>"
            ],
            "text/plain": [
              "       id  call_date  duration  user_id\n",
              "0  1000_0 2018-07-25      0.00     1000\n",
              "1  1000_1 2018-08-17      0.00     1000\n",
              "2  1000_2 2018-06-11      3.00     1000\n",
              "3  1000_3 2018-09-21     14.00     1000\n",
              "4  1000_4 2018-12-15      6.00     1000"
            ]
          },
          "execution_count": 7,
          "metadata": {},
          "output_type": "execute_result"
        },
        {
          "name": "stdout",
          "output_type": "stream",
          "text": [
            "<class 'pandas.core.frame.DataFrame'>\n",
            "RangeIndex: 202607 entries, 0 to 202606\n",
            "Data columns (total 4 columns):\n",
            " #   Column     Non-Null Count   Dtype         \n",
            "---  ------     --------------   -----         \n",
            " 0   id         202607 non-null  object        \n",
            " 1   call_date  202607 non-null  datetime64[ns]\n",
            " 2   duration   202607 non-null  float64       \n",
            " 3   user_id    202607 non-null  int64         \n",
            "dtypes: datetime64[ns](1), float64(1), int64(1), object(1)\n",
            "memory usage: 6.2+ MB\n"
          ]
        }
      ],
      "source": [
        "data_calls['call_date'] = pd.to_datetime(\n",
        "    data_calls['call_date'], format='%Y-%m-%d'\n",
        ")#изменение типа данных столбца с данными\n",
        "data_calls['duration'] = np.ceil(data_calls['duration'])\n",
        "#округление секунд по звонкам до целых минут по условию тарифного плана\n",
        "\n",
        "data_calls.head(5)\n",
        "data_calls.info()\n"
      ]
    },
    {
      "cell_type": "markdown",
      "metadata": {
        "id": "751SPqM6nVAj"
      },
      "source": [
        "Минимально время звонка заняло 0 мин, скорее всего это был *'недозвон'* или *'сброс звонка'*.  \n",
        "<br> Для дальнейшего анализа нам пригодится столбец с месяцами, в которые были совершены звонки."
      ]
    },
    {
      "cell_type": "code",
      "execution_count": null,
      "metadata": {
        "scrolled": true,
        "id": "U6R34B8tnVAj",
        "outputId": "64eae373-d058-4193-e178-f5d8afcd318d"
      },
      "outputs": [
        {
          "data": {
            "text/html": [
              "<div>\n",
              "<style scoped>\n",
              "    .dataframe tbody tr th:only-of-type {\n",
              "        vertical-align: middle;\n",
              "    }\n",
              "\n",
              "    .dataframe tbody tr th {\n",
              "        vertical-align: top;\n",
              "    }\n",
              "\n",
              "    .dataframe thead th {\n",
              "        text-align: right;\n",
              "    }\n",
              "</style>\n",
              "<table border=\"1\" class=\"dataframe\">\n",
              "  <thead>\n",
              "    <tr style=\"text-align: right;\">\n",
              "      <th></th>\n",
              "      <th></th>\n",
              "      <th>sum_duration</th>\n",
              "      <th>count_duration</th>\n",
              "    </tr>\n",
              "    <tr>\n",
              "      <th>user_id</th>\n",
              "      <th>month</th>\n",
              "      <th></th>\n",
              "      <th></th>\n",
              "    </tr>\n",
              "  </thead>\n",
              "  <tbody>\n",
              "    <tr>\n",
              "      <th rowspan=\"8\" valign=\"top\">1000</th>\n",
              "      <th>5</th>\n",
              "      <td>159.00</td>\n",
              "      <td>22</td>\n",
              "    </tr>\n",
              "    <tr>\n",
              "      <th>6</th>\n",
              "      <td>172.00</td>\n",
              "      <td>43</td>\n",
              "    </tr>\n",
              "    <tr>\n",
              "      <th>7</th>\n",
              "      <td>340.00</td>\n",
              "      <td>47</td>\n",
              "    </tr>\n",
              "    <tr>\n",
              "      <th>8</th>\n",
              "      <td>408.00</td>\n",
              "      <td>52</td>\n",
              "    </tr>\n",
              "    <tr>\n",
              "      <th>9</th>\n",
              "      <td>466.00</td>\n",
              "      <td>58</td>\n",
              "    </tr>\n",
              "    <tr>\n",
              "      <th>10</th>\n",
              "      <td>350.00</td>\n",
              "      <td>57</td>\n",
              "    </tr>\n",
              "    <tr>\n",
              "      <th>11</th>\n",
              "      <td>338.00</td>\n",
              "      <td>43</td>\n",
              "    </tr>\n",
              "    <tr>\n",
              "      <th>12</th>\n",
              "      <td>333.00</td>\n",
              "      <td>46</td>\n",
              "    </tr>\n",
              "    <tr>\n",
              "      <th rowspan=\"2\" valign=\"top\">1001</th>\n",
              "      <th>11</th>\n",
              "      <td>430.00</td>\n",
              "      <td>59</td>\n",
              "    </tr>\n",
              "    <tr>\n",
              "      <th>12</th>\n",
              "      <td>414.00</td>\n",
              "      <td>63</td>\n",
              "    </tr>\n",
              "  </tbody>\n",
              "</table>\n",
              "</div>"
            ],
            "text/plain": [
              "               sum_duration  count_duration\n",
              "user_id month                              \n",
              "1000    5            159.00              22\n",
              "        6            172.00              43\n",
              "        7            340.00              47\n",
              "        8            408.00              52\n",
              "        9            466.00              58\n",
              "        10           350.00              57\n",
              "        11           338.00              43\n",
              "        12           333.00              46\n",
              "1001    11           430.00              59\n",
              "        12           414.00              63"
            ]
          },
          "execution_count": 8,
          "metadata": {},
          "output_type": "execute_result"
        }
      ],
      "source": [
        "data_calls['month'] = pd.DatetimeIndex(data_calls['call_date']).month \n",
        "#добавление столбца с месяцем\n",
        "\n",
        "data_calls = data_calls.pivot_table(index=['user_id', 'month'], values='duration', aggfunc=['sum', 'count'])\n",
        "#Создание сводной таблицы\n",
        "data_calls.columns = list(map(\"_\".join, data_calls.columns))\n",
        "#объединени двухуровнего наименования столбцов\n",
        "data_calls.head(10)"
      ]
    },
    {
      "cell_type": "markdown",
      "metadata": {
        "id": "Ey031AY7nVAk"
      },
      "source": [
        "С помощью сводной таблицы, мы выделили количество и время звонков, которые совершил каждый пользователь в разные месяцы.\n",
        "<br> Обработаем таблицу с интернет-трафиком:\n",
        "<br>Заменим тип данных с датами на `datetime64` для того, чтобы можно было отдельно выделить из даты месяц и создадим отдельный столбец с месяцами.\n",
        "<br>С помощью сводной таблицы выведем сумму использованного трафика для каждого пользователя по месяцам, а так же количество интернет-сессий. Т.к. количество использованного трафика округляется на конец месяца до целого **Гб** в большую сторону, создадим столбец, в котором будут значения с использованным трафиком в **Гигабайтах**."
      ]
    },
    {
      "cell_type": "code",
      "execution_count": null,
      "metadata": {
        "scrolled": true,
        "id": "S4CB7Sx7nVAk",
        "outputId": "d2e0ec2a-eb85-454c-b6ca-b5fef4b6365a"
      },
      "outputs": [
        {
          "name": "stdout",
          "output_type": "stream",
          "text": [
            "<class 'pandas.core.frame.DataFrame'>\n",
            "MultiIndex: 3203 entries, (1000, 5) to (1499, 12)\n",
            "Data columns (total 3 columns):\n",
            " #   Column         Non-Null Count  Dtype  \n",
            "---  ------         --------------  -----  \n",
            " 0   sum_mb_used    3203 non-null   float64\n",
            " 1   count_mb_used  3203 non-null   int64  \n",
            " 2   gb_used        3203 non-null   float64\n",
            "dtypes: float64(2), int64(1)\n",
            "memory usage: 88.5 KB\n"
          ]
        },
        {
          "data": {
            "text/html": [
              "<div>\n",
              "<style scoped>\n",
              "    .dataframe tbody tr th:only-of-type {\n",
              "        vertical-align: middle;\n",
              "    }\n",
              "\n",
              "    .dataframe tbody tr th {\n",
              "        vertical-align: top;\n",
              "    }\n",
              "\n",
              "    .dataframe thead th {\n",
              "        text-align: right;\n",
              "    }\n",
              "</style>\n",
              "<table border=\"1\" class=\"dataframe\">\n",
              "  <thead>\n",
              "    <tr style=\"text-align: right;\">\n",
              "      <th></th>\n",
              "      <th></th>\n",
              "      <th>sum_mb_used</th>\n",
              "      <th>count_mb_used</th>\n",
              "      <th>gb_used</th>\n",
              "    </tr>\n",
              "    <tr>\n",
              "      <th>user_id</th>\n",
              "      <th>month</th>\n",
              "      <th></th>\n",
              "      <th></th>\n",
              "      <th></th>\n",
              "    </tr>\n",
              "  </thead>\n",
              "  <tbody>\n",
              "    <tr>\n",
              "      <th rowspan=\"5\" valign=\"top\">1000</th>\n",
              "      <th>5</th>\n",
              "      <td>2,253.49</td>\n",
              "      <td>5</td>\n",
              "      <td>3.00</td>\n",
              "    </tr>\n",
              "    <tr>\n",
              "      <th>6</th>\n",
              "      <td>23,233.77</td>\n",
              "      <td>49</td>\n",
              "      <td>23.00</td>\n",
              "    </tr>\n",
              "    <tr>\n",
              "      <th>7</th>\n",
              "      <td>14,003.64</td>\n",
              "      <td>29</td>\n",
              "      <td>14.00</td>\n",
              "    </tr>\n",
              "    <tr>\n",
              "      <th>8</th>\n",
              "      <td>14,055.93</td>\n",
              "      <td>29</td>\n",
              "      <td>14.00</td>\n",
              "    </tr>\n",
              "    <tr>\n",
              "      <th>9</th>\n",
              "      <td>14,568.91</td>\n",
              "      <td>27</td>\n",
              "      <td>15.00</td>\n",
              "    </tr>\n",
              "  </tbody>\n",
              "</table>\n",
              "</div>"
            ],
            "text/plain": [
              "               sum_mb_used  count_mb_used  gb_used\n",
              "user_id month                                     \n",
              "1000    5         2,253.49              5     3.00\n",
              "        6        23,233.77             49    23.00\n",
              "        7        14,003.64             29    14.00\n",
              "        8        14,055.93             29    14.00\n",
              "        9        14,568.91             27    15.00"
            ]
          },
          "execution_count": 9,
          "metadata": {},
          "output_type": "execute_result"
        }
      ],
      "source": [
        "data_internet['session_date'] = pd.to_datetime(\n",
        "    data_internet['session_date'], format='%Y-%m-%d'\n",
        ")#изменение типа данных столбца с данными\n",
        "data_internet['month'] = pd.DatetimeIndex(data_internet['session_date']).month \n",
        "#создание столбца с месяцем\n",
        "data_internet = data_internet.pivot_table(index=['user_id', 'month'], values='mb_used', aggfunc=['sum', 'count'])\n",
        "#Создание сводной таблицы\n",
        "data_internet.columns = list(map(\"_\".join, data_internet.columns))\n",
        "#объединени двухуровнего наименования столбцов\n",
        "data_internet['gb_used'] = data_internet['sum_mb_used'] / 1024 \n",
        "#Перевод Мб в Гб\n",
        "data_internet['gb_used'] = np.ceil(data_internet['gb_used'])\n",
        "#округление\n",
        "\n",
        "data_internet.info()\n",
        "data_internet.head(5)"
      ]
    },
    {
      "cell_type": "markdown",
      "metadata": {
        "id": "Kq7Jb8BjnVAl"
      },
      "source": [
        "У нас получилась таблица с двойным индексом по ID пользователя и номером месяца. \n",
        "<br> Обработаем так же табличку с *SMS-сообщениями*."
      ]
    },
    {
      "cell_type": "code",
      "execution_count": null,
      "metadata": {
        "scrolled": false,
        "id": "hj360ofanVAl",
        "outputId": "79087e64-c8d3-47f4-c53d-2bf284956c50"
      },
      "outputs": [
        {
          "data": {
            "text/html": [
              "<div>\n",
              "<style scoped>\n",
              "    .dataframe tbody tr th:only-of-type {\n",
              "        vertical-align: middle;\n",
              "    }\n",
              "\n",
              "    .dataframe tbody tr th {\n",
              "        vertical-align: top;\n",
              "    }\n",
              "\n",
              "    .dataframe thead th {\n",
              "        text-align: right;\n",
              "    }\n",
              "</style>\n",
              "<table border=\"1\" class=\"dataframe\">\n",
              "  <thead>\n",
              "    <tr style=\"text-align: right;\">\n",
              "      <th></th>\n",
              "      <th></th>\n",
              "      <th>count_message</th>\n",
              "    </tr>\n",
              "    <tr>\n",
              "      <th>user_id</th>\n",
              "      <th>month</th>\n",
              "      <th></th>\n",
              "    </tr>\n",
              "  </thead>\n",
              "  <tbody>\n",
              "    <tr>\n",
              "      <th rowspan=\"8\" valign=\"top\">1000</th>\n",
              "      <th>5</th>\n",
              "      <td>22</td>\n",
              "    </tr>\n",
              "    <tr>\n",
              "      <th>6</th>\n",
              "      <td>60</td>\n",
              "    </tr>\n",
              "    <tr>\n",
              "      <th>7</th>\n",
              "      <td>75</td>\n",
              "    </tr>\n",
              "    <tr>\n",
              "      <th>8</th>\n",
              "      <td>81</td>\n",
              "    </tr>\n",
              "    <tr>\n",
              "      <th>9</th>\n",
              "      <td>57</td>\n",
              "    </tr>\n",
              "    <tr>\n",
              "      <th>10</th>\n",
              "      <td>73</td>\n",
              "    </tr>\n",
              "    <tr>\n",
              "      <th>11</th>\n",
              "      <td>58</td>\n",
              "    </tr>\n",
              "    <tr>\n",
              "      <th>12</th>\n",
              "      <td>70</td>\n",
              "    </tr>\n",
              "    <tr>\n",
              "      <th rowspan=\"2\" valign=\"top\">1002</th>\n",
              "      <th>6</th>\n",
              "      <td>4</td>\n",
              "    </tr>\n",
              "    <tr>\n",
              "      <th>7</th>\n",
              "      <td>11</td>\n",
              "    </tr>\n",
              "  </tbody>\n",
              "</table>\n",
              "</div>"
            ],
            "text/plain": [
              "               count_message\n",
              "user_id month               \n",
              "1000    5                 22\n",
              "        6                 60\n",
              "        7                 75\n",
              "        8                 81\n",
              "        9                 57\n",
              "        10                73\n",
              "        11                58\n",
              "        12                70\n",
              "1002    6                  4\n",
              "        7                 11"
            ]
          },
          "execution_count": 10,
          "metadata": {},
          "output_type": "execute_result"
        }
      ],
      "source": [
        "data_messages['message_date'] = pd.to_datetime(\n",
        "    data_messages['message_date'], format='%Y-%m-%d'\n",
        ")#изменение типа данных столбца с данными\n",
        "data_messages['month'] = pd.DatetimeIndex(data_messages['message_date']).month\n",
        "#создание столбца с месяцем\n",
        "data_messages = data_messages.pivot_table(index=['user_id', 'month'], values='message_date', aggfunc='count')\n",
        "#Создание сводной таблицы\n",
        "data_messages = data_messages.rename (columns= {'message_date': 'count_message'})\n",
        "#переименование столбца\n",
        "data_messages.head(10)\n"
      ]
    },
    {
      "cell_type": "markdown",
      "metadata": {
        "id": "F1jK-WuBnVAl"
      },
      "source": [
        "Приступим теперь к табличке с данными о клиентах. В столбце `user_id` изменим тип данных. По умолчанию он `str`, но для того, что бы можно было в дальнейшем объединить таблицы по ID необходимо привести столбец к типу `int`."
      ]
    },
    {
      "cell_type": "code",
      "execution_count": null,
      "metadata": {
        "id": "b77lrwYAnVAl",
        "outputId": "50c46898-729b-4b43-9c3c-01daa92623ad"
      },
      "outputs": [
        {
          "data": {
            "text/html": [
              "<div>\n",
              "<style scoped>\n",
              "    .dataframe tbody tr th:only-of-type {\n",
              "        vertical-align: middle;\n",
              "    }\n",
              "\n",
              "    .dataframe tbody tr th {\n",
              "        vertical-align: top;\n",
              "    }\n",
              "\n",
              "    .dataframe thead th {\n",
              "        text-align: right;\n",
              "    }\n",
              "</style>\n",
              "<table border=\"1\" class=\"dataframe\">\n",
              "  <thead>\n",
              "    <tr style=\"text-align: right;\">\n",
              "      <th></th>\n",
              "      <th>user_id</th>\n",
              "      <th>age</th>\n",
              "      <th>churn_date</th>\n",
              "      <th>city</th>\n",
              "      <th>first_name</th>\n",
              "      <th>last_name</th>\n",
              "      <th>reg_date</th>\n",
              "      <th>tariff</th>\n",
              "    </tr>\n",
              "  </thead>\n",
              "  <tbody>\n",
              "    <tr>\n",
              "      <th>0</th>\n",
              "      <td>1000</td>\n",
              "      <td>52</td>\n",
              "      <td>NaN</td>\n",
              "      <td>Краснодар</td>\n",
              "      <td>Рафаил</td>\n",
              "      <td>Верещагин</td>\n",
              "      <td>2018-05-25</td>\n",
              "      <td>ultra</td>\n",
              "    </tr>\n",
              "    <tr>\n",
              "      <th>1</th>\n",
              "      <td>1001</td>\n",
              "      <td>41</td>\n",
              "      <td>NaN</td>\n",
              "      <td>Москва</td>\n",
              "      <td>Иван</td>\n",
              "      <td>Ежов</td>\n",
              "      <td>2018-11-01</td>\n",
              "      <td>smart</td>\n",
              "    </tr>\n",
              "    <tr>\n",
              "      <th>2</th>\n",
              "      <td>1002</td>\n",
              "      <td>59</td>\n",
              "      <td>NaN</td>\n",
              "      <td>Стерлитамак</td>\n",
              "      <td>Евгений</td>\n",
              "      <td>Абрамович</td>\n",
              "      <td>2018-06-17</td>\n",
              "      <td>smart</td>\n",
              "    </tr>\n",
              "    <tr>\n",
              "      <th>3</th>\n",
              "      <td>1003</td>\n",
              "      <td>23</td>\n",
              "      <td>NaN</td>\n",
              "      <td>Москва</td>\n",
              "      <td>Белла</td>\n",
              "      <td>Белякова</td>\n",
              "      <td>2018-08-17</td>\n",
              "      <td>ultra</td>\n",
              "    </tr>\n",
              "    <tr>\n",
              "      <th>4</th>\n",
              "      <td>1004</td>\n",
              "      <td>68</td>\n",
              "      <td>NaN</td>\n",
              "      <td>Новокузнецк</td>\n",
              "      <td>Татьяна</td>\n",
              "      <td>Авдеенко</td>\n",
              "      <td>2018-05-14</td>\n",
              "      <td>ultra</td>\n",
              "    </tr>\n",
              "  </tbody>\n",
              "</table>\n",
              "</div>"
            ],
            "text/plain": [
              "   user_id  age churn_date         city first_name  last_name    reg_date  \\\n",
              "0     1000   52        NaN    Краснодар     Рафаил  Верещагин  2018-05-25   \n",
              "1     1001   41        NaN       Москва       Иван       Ежов  2018-11-01   \n",
              "2     1002   59        NaN  Стерлитамак    Евгений  Абрамович  2018-06-17   \n",
              "3     1003   23        NaN       Москва      Белла   Белякова  2018-08-17   \n",
              "4     1004   68        NaN  Новокузнецк    Татьяна   Авдеенко  2018-05-14   \n",
              "\n",
              "  tariff  \n",
              "0  ultra  \n",
              "1  smart  \n",
              "2  smart  \n",
              "3  ultra  \n",
              "4  ultra  "
            ]
          },
          "execution_count": 11,
          "metadata": {},
          "output_type": "execute_result"
        }
      ],
      "source": [
        "data_users['user_id'] = data_users['user_id'].astype(int)#изменение типа данных\n",
        "data_users.head(5)"
      ]
    },
    {
      "cell_type": "markdown",
      "metadata": {
        "id": "IrDZQX15nVAl"
      },
      "source": [
        "Приступим к объединению таблиц при помощи метода `merge`."
      ]
    },
    {
      "cell_type": "code",
      "execution_count": null,
      "metadata": {
        "scrolled": false,
        "id": "3w1g6Y-rnVAl",
        "outputId": "42d86763-e28b-4800-dbbd-d1bf0d3e3c0c"
      },
      "outputs": [
        {
          "data": {
            "text/html": [
              "<div>\n",
              "<style scoped>\n",
              "    .dataframe tbody tr th:only-of-type {\n",
              "        vertical-align: middle;\n",
              "    }\n",
              "\n",
              "    .dataframe tbody tr th {\n",
              "        vertical-align: top;\n",
              "    }\n",
              "\n",
              "    .dataframe thead th {\n",
              "        text-align: right;\n",
              "    }\n",
              "</style>\n",
              "<table border=\"1\" class=\"dataframe\">\n",
              "  <thead>\n",
              "    <tr style=\"text-align: right;\">\n",
              "      <th></th>\n",
              "      <th>user_id</th>\n",
              "      <th>month</th>\n",
              "      <th>sum_duration</th>\n",
              "      <th>count_duration</th>\n",
              "      <th>count_interne_sessions</th>\n",
              "      <th>gb_used</th>\n",
              "      <th>count_message</th>\n",
              "      <th>tariff_name</th>\n",
              "      <th>city</th>\n",
              "      <th>age</th>\n",
              "    </tr>\n",
              "  </thead>\n",
              "  <tbody>\n",
              "    <tr>\n",
              "      <th>0</th>\n",
              "      <td>1000</td>\n",
              "      <td>5.00</td>\n",
              "      <td>159.00</td>\n",
              "      <td>22.00</td>\n",
              "      <td>5.00</td>\n",
              "      <td>3.00</td>\n",
              "      <td>22.00</td>\n",
              "      <td>ultra</td>\n",
              "      <td>Краснодар</td>\n",
              "      <td>52</td>\n",
              "    </tr>\n",
              "    <tr>\n",
              "      <th>1</th>\n",
              "      <td>1000</td>\n",
              "      <td>6.00</td>\n",
              "      <td>172.00</td>\n",
              "      <td>43.00</td>\n",
              "      <td>49.00</td>\n",
              "      <td>23.00</td>\n",
              "      <td>60.00</td>\n",
              "      <td>ultra</td>\n",
              "      <td>Краснодар</td>\n",
              "      <td>52</td>\n",
              "    </tr>\n",
              "    <tr>\n",
              "      <th>2</th>\n",
              "      <td>1000</td>\n",
              "      <td>7.00</td>\n",
              "      <td>340.00</td>\n",
              "      <td>47.00</td>\n",
              "      <td>29.00</td>\n",
              "      <td>14.00</td>\n",
              "      <td>75.00</td>\n",
              "      <td>ultra</td>\n",
              "      <td>Краснодар</td>\n",
              "      <td>52</td>\n",
              "    </tr>\n",
              "    <tr>\n",
              "      <th>3</th>\n",
              "      <td>1000</td>\n",
              "      <td>8.00</td>\n",
              "      <td>408.00</td>\n",
              "      <td>52.00</td>\n",
              "      <td>29.00</td>\n",
              "      <td>14.00</td>\n",
              "      <td>81.00</td>\n",
              "      <td>ultra</td>\n",
              "      <td>Краснодар</td>\n",
              "      <td>52</td>\n",
              "    </tr>\n",
              "    <tr>\n",
              "      <th>4</th>\n",
              "      <td>1000</td>\n",
              "      <td>9.00</td>\n",
              "      <td>466.00</td>\n",
              "      <td>58.00</td>\n",
              "      <td>27.00</td>\n",
              "      <td>15.00</td>\n",
              "      <td>57.00</td>\n",
              "      <td>ultra</td>\n",
              "      <td>Краснодар</td>\n",
              "      <td>52</td>\n",
              "    </tr>\n",
              "  </tbody>\n",
              "</table>\n",
              "</div>"
            ],
            "text/plain": [
              "   user_id  month  sum_duration  count_duration  count_interne_sessions  \\\n",
              "0     1000   5.00        159.00           22.00                    5.00   \n",
              "1     1000   6.00        172.00           43.00                   49.00   \n",
              "2     1000   7.00        340.00           47.00                   29.00   \n",
              "3     1000   8.00        408.00           52.00                   29.00   \n",
              "4     1000   9.00        466.00           58.00                   27.00   \n",
              "\n",
              "   gb_used  count_message tariff_name       city  age  \n",
              "0     3.00          22.00       ultra  Краснодар   52  \n",
              "1    23.00          60.00       ultra  Краснодар   52  \n",
              "2    14.00          75.00       ultra  Краснодар   52  \n",
              "3    14.00          81.00       ultra  Краснодар   52  \n",
              "4    15.00          57.00       ultra  Краснодар   52  "
            ]
          },
          "execution_count": 12,
          "metadata": {},
          "output_type": "execute_result"
        }
      ],
      "source": [
        "\n",
        "data_revenue = (data_calls\n",
        "                .merge(data_internet, on=['user_id','month'], how='outer')\n",
        "                .merge(data_messages, on=['user_id','month'], how='outer').reset_index()\n",
        ")# создание объединеного датасета (основной таблицы)\n",
        "data_revenue = data_revenue.drop('sum_mb_used', 1)#удаление ненужного столбца\n",
        "data_revenue = pd.merge(\n",
        "    data_revenue, data_users[['tariff','city','user_id','age']], \n",
        "        how='outer', on='user_id'\n",
        ")#присоединение информации о пользователях\n",
        "data_revenue = data_revenue.rename(\n",
        "    columns= {'count_mb_used': 'count_interne_sessions','tariff':'tariff_name'}\n",
        ")#переименование столбцов\n",
        "\n",
        "data_revenue.head(5)"
      ]
    },
    {
      "cell_type": "markdown",
      "metadata": {
        "id": "GzkmrIpPnVAm"
      },
      "source": [
        "Мы объединили столбцы с информацией об использовании услуг оператора. Теперь нам необходимо добавить информацию о самих тарифах. Переведем информацию о Мегабайтах включенных в тариф в Гигабайты."
      ]
    },
    {
      "cell_type": "code",
      "execution_count": null,
      "metadata": {
        "id": "m3BiQFG-nVAm",
        "outputId": "1f7198d9-f712-4467-c17a-a186e9aa81db"
      },
      "outputs": [
        {
          "data": {
            "text/html": [
              "<div>\n",
              "<style scoped>\n",
              "    .dataframe tbody tr th:only-of-type {\n",
              "        vertical-align: middle;\n",
              "    }\n",
              "\n",
              "    .dataframe tbody tr th {\n",
              "        vertical-align: top;\n",
              "    }\n",
              "\n",
              "    .dataframe thead th {\n",
              "        text-align: right;\n",
              "    }\n",
              "</style>\n",
              "<table border=\"1\" class=\"dataframe\">\n",
              "  <thead>\n",
              "    <tr style=\"text-align: right;\">\n",
              "      <th></th>\n",
              "      <th>user_id</th>\n",
              "      <th>month</th>\n",
              "      <th>sum_duration</th>\n",
              "      <th>count_duration</th>\n",
              "      <th>count_interne_sessions</th>\n",
              "      <th>gb_used</th>\n",
              "      <th>count_message</th>\n",
              "      <th>tariff_name</th>\n",
              "      <th>city</th>\n",
              "      <th>age</th>\n",
              "      <th>messages_included</th>\n",
              "      <th>gb_per_month_included</th>\n",
              "      <th>minutes_included</th>\n",
              "      <th>rub_monthly_fee</th>\n",
              "      <th>rub_per_gb</th>\n",
              "      <th>rub_per_message</th>\n",
              "      <th>rub_per_minute</th>\n",
              "    </tr>\n",
              "  </thead>\n",
              "  <tbody>\n",
              "    <tr>\n",
              "      <th>0</th>\n",
              "      <td>1000</td>\n",
              "      <td>5.00</td>\n",
              "      <td>159.00</td>\n",
              "      <td>22.00</td>\n",
              "      <td>5.00</td>\n",
              "      <td>3.00</td>\n",
              "      <td>22.00</td>\n",
              "      <td>ultra</td>\n",
              "      <td>Краснодар</td>\n",
              "      <td>52</td>\n",
              "      <td>1000</td>\n",
              "      <td>30.00</td>\n",
              "      <td>3000</td>\n",
              "      <td>1950</td>\n",
              "      <td>150</td>\n",
              "      <td>1</td>\n",
              "      <td>1</td>\n",
              "    </tr>\n",
              "    <tr>\n",
              "      <th>1</th>\n",
              "      <td>1000</td>\n",
              "      <td>6.00</td>\n",
              "      <td>172.00</td>\n",
              "      <td>43.00</td>\n",
              "      <td>49.00</td>\n",
              "      <td>23.00</td>\n",
              "      <td>60.00</td>\n",
              "      <td>ultra</td>\n",
              "      <td>Краснодар</td>\n",
              "      <td>52</td>\n",
              "      <td>1000</td>\n",
              "      <td>30.00</td>\n",
              "      <td>3000</td>\n",
              "      <td>1950</td>\n",
              "      <td>150</td>\n",
              "      <td>1</td>\n",
              "      <td>1</td>\n",
              "    </tr>\n",
              "    <tr>\n",
              "      <th>2</th>\n",
              "      <td>1000</td>\n",
              "      <td>7.00</td>\n",
              "      <td>340.00</td>\n",
              "      <td>47.00</td>\n",
              "      <td>29.00</td>\n",
              "      <td>14.00</td>\n",
              "      <td>75.00</td>\n",
              "      <td>ultra</td>\n",
              "      <td>Краснодар</td>\n",
              "      <td>52</td>\n",
              "      <td>1000</td>\n",
              "      <td>30.00</td>\n",
              "      <td>3000</td>\n",
              "      <td>1950</td>\n",
              "      <td>150</td>\n",
              "      <td>1</td>\n",
              "      <td>1</td>\n",
              "    </tr>\n",
              "    <tr>\n",
              "      <th>3</th>\n",
              "      <td>1000</td>\n",
              "      <td>8.00</td>\n",
              "      <td>408.00</td>\n",
              "      <td>52.00</td>\n",
              "      <td>29.00</td>\n",
              "      <td>14.00</td>\n",
              "      <td>81.00</td>\n",
              "      <td>ultra</td>\n",
              "      <td>Краснодар</td>\n",
              "      <td>52</td>\n",
              "      <td>1000</td>\n",
              "      <td>30.00</td>\n",
              "      <td>3000</td>\n",
              "      <td>1950</td>\n",
              "      <td>150</td>\n",
              "      <td>1</td>\n",
              "      <td>1</td>\n",
              "    </tr>\n",
              "    <tr>\n",
              "      <th>4</th>\n",
              "      <td>1000</td>\n",
              "      <td>9.00</td>\n",
              "      <td>466.00</td>\n",
              "      <td>58.00</td>\n",
              "      <td>27.00</td>\n",
              "      <td>15.00</td>\n",
              "      <td>57.00</td>\n",
              "      <td>ultra</td>\n",
              "      <td>Краснодар</td>\n",
              "      <td>52</td>\n",
              "      <td>1000</td>\n",
              "      <td>30.00</td>\n",
              "      <td>3000</td>\n",
              "      <td>1950</td>\n",
              "      <td>150</td>\n",
              "      <td>1</td>\n",
              "      <td>1</td>\n",
              "    </tr>\n",
              "    <tr>\n",
              "      <th>5</th>\n",
              "      <td>1000</td>\n",
              "      <td>10.00</td>\n",
              "      <td>350.00</td>\n",
              "      <td>57.00</td>\n",
              "      <td>27.00</td>\n",
              "      <td>15.00</td>\n",
              "      <td>73.00</td>\n",
              "      <td>ultra</td>\n",
              "      <td>Краснодар</td>\n",
              "      <td>52</td>\n",
              "      <td>1000</td>\n",
              "      <td>30.00</td>\n",
              "      <td>3000</td>\n",
              "      <td>1950</td>\n",
              "      <td>150</td>\n",
              "      <td>1</td>\n",
              "      <td>1</td>\n",
              "    </tr>\n",
              "    <tr>\n",
              "      <th>6</th>\n",
              "      <td>1000</td>\n",
              "      <td>11.00</td>\n",
              "      <td>338.00</td>\n",
              "      <td>43.00</td>\n",
              "      <td>24.00</td>\n",
              "      <td>15.00</td>\n",
              "      <td>58.00</td>\n",
              "      <td>ultra</td>\n",
              "      <td>Краснодар</td>\n",
              "      <td>52</td>\n",
              "      <td>1000</td>\n",
              "      <td>30.00</td>\n",
              "      <td>3000</td>\n",
              "      <td>1950</td>\n",
              "      <td>150</td>\n",
              "      <td>1</td>\n",
              "      <td>1</td>\n",
              "    </tr>\n",
              "    <tr>\n",
              "      <th>7</th>\n",
              "      <td>1000</td>\n",
              "      <td>12.00</td>\n",
              "      <td>333.00</td>\n",
              "      <td>46.00</td>\n",
              "      <td>21.00</td>\n",
              "      <td>10.00</td>\n",
              "      <td>70.00</td>\n",
              "      <td>ultra</td>\n",
              "      <td>Краснодар</td>\n",
              "      <td>52</td>\n",
              "      <td>1000</td>\n",
              "      <td>30.00</td>\n",
              "      <td>3000</td>\n",
              "      <td>1950</td>\n",
              "      <td>150</td>\n",
              "      <td>1</td>\n",
              "      <td>1</td>\n",
              "    </tr>\n",
              "    <tr>\n",
              "      <th>8</th>\n",
              "      <td>1003</td>\n",
              "      <td>8.00</td>\n",
              "      <td>380.00</td>\n",
              "      <td>55.00</td>\n",
              "      <td>15.00</td>\n",
              "      <td>9.00</td>\n",
              "      <td>37.00</td>\n",
              "      <td>ultra</td>\n",
              "      <td>Москва</td>\n",
              "      <td>23</td>\n",
              "      <td>1000</td>\n",
              "      <td>30.00</td>\n",
              "      <td>3000</td>\n",
              "      <td>1950</td>\n",
              "      <td>150</td>\n",
              "      <td>1</td>\n",
              "      <td>1</td>\n",
              "    </tr>\n",
              "    <tr>\n",
              "      <th>9</th>\n",
              "      <td>1003</td>\n",
              "      <td>9.00</td>\n",
              "      <td>961.00</td>\n",
              "      <td>134.00</td>\n",
              "      <td>22.00</td>\n",
              "      <td>13.00</td>\n",
              "      <td>91.00</td>\n",
              "      <td>ultra</td>\n",
              "      <td>Москва</td>\n",
              "      <td>23</td>\n",
              "      <td>1000</td>\n",
              "      <td>30.00</td>\n",
              "      <td>3000</td>\n",
              "      <td>1950</td>\n",
              "      <td>150</td>\n",
              "      <td>1</td>\n",
              "      <td>1</td>\n",
              "    </tr>\n",
              "  </tbody>\n",
              "</table>\n",
              "</div>"
            ],
            "text/plain": [
              "   user_id  month  sum_duration  count_duration  count_interne_sessions  \\\n",
              "0     1000   5.00        159.00           22.00                    5.00   \n",
              "1     1000   6.00        172.00           43.00                   49.00   \n",
              "2     1000   7.00        340.00           47.00                   29.00   \n",
              "3     1000   8.00        408.00           52.00                   29.00   \n",
              "4     1000   9.00        466.00           58.00                   27.00   \n",
              "5     1000  10.00        350.00           57.00                   27.00   \n",
              "6     1000  11.00        338.00           43.00                   24.00   \n",
              "7     1000  12.00        333.00           46.00                   21.00   \n",
              "8     1003   8.00        380.00           55.00                   15.00   \n",
              "9     1003   9.00        961.00          134.00                   22.00   \n",
              "\n",
              "   gb_used  count_message tariff_name       city  age  messages_included  \\\n",
              "0     3.00          22.00       ultra  Краснодар   52               1000   \n",
              "1    23.00          60.00       ultra  Краснодар   52               1000   \n",
              "2    14.00          75.00       ultra  Краснодар   52               1000   \n",
              "3    14.00          81.00       ultra  Краснодар   52               1000   \n",
              "4    15.00          57.00       ultra  Краснодар   52               1000   \n",
              "5    15.00          73.00       ultra  Краснодар   52               1000   \n",
              "6    15.00          58.00       ultra  Краснодар   52               1000   \n",
              "7    10.00          70.00       ultra  Краснодар   52               1000   \n",
              "8     9.00          37.00       ultra     Москва   23               1000   \n",
              "9    13.00          91.00       ultra     Москва   23               1000   \n",
              "\n",
              "   gb_per_month_included  minutes_included  rub_monthly_fee  rub_per_gb  \\\n",
              "0                  30.00              3000             1950         150   \n",
              "1                  30.00              3000             1950         150   \n",
              "2                  30.00              3000             1950         150   \n",
              "3                  30.00              3000             1950         150   \n",
              "4                  30.00              3000             1950         150   \n",
              "5                  30.00              3000             1950         150   \n",
              "6                  30.00              3000             1950         150   \n",
              "7                  30.00              3000             1950         150   \n",
              "8                  30.00              3000             1950         150   \n",
              "9                  30.00              3000             1950         150   \n",
              "\n",
              "   rub_per_message  rub_per_minute  \n",
              "0                1               1  \n",
              "1                1               1  \n",
              "2                1               1  \n",
              "3                1               1  \n",
              "4                1               1  \n",
              "5                1               1  \n",
              "6                1               1  \n",
              "7                1               1  \n",
              "8                1               1  \n",
              "9                1               1  "
            ]
          },
          "execution_count": 13,
          "metadata": {},
          "output_type": "execute_result"
        }
      ],
      "source": [
        "data_tariffs['mb_per_month_included'] = data_tariffs['mb_per_month_included'] /1024\n",
        "#перевод Мб в ГБ в таблице\n",
        "data_tariffs = data_tariffs.rename(columns= {'mb_per_month_included': 'gb_per_month_included'})\n",
        "#переименование столбца\n",
        "data_revenue = data_revenue.merge(data_tariffs, on='tariff_name', how='outer')\n",
        "#добавление информации о тарифных планах в основную таблицу\n",
        "data_revenue.head(10)   "
      ]
    },
    {
      "cell_type": "markdown",
      "metadata": {
        "id": "kcHVEpNJnVAm"
      },
      "source": [
        "Мы объединили данные всех таблиц в единый датасет. Найдем `Nan`в основной таблице."
      ]
    },
    {
      "cell_type": "code",
      "execution_count": null,
      "metadata": {
        "scrolled": true,
        "id": "XQNbUpdCnVAm",
        "outputId": "1d9a5196-8d48-464f-a7be-d1d2a0c8c844"
      },
      "outputs": [
        {
          "data": {
            "text/plain": [
              "user_id                     0\n",
              "month                       2\n",
              "sum_duration               42\n",
              "count_duration             42\n",
              "count_interne_sessions     13\n",
              "gb_used                    13\n",
              "count_message             499\n",
              "tariff_name                 0\n",
              "city                        0\n",
              "age                         0\n",
              "messages_included           0\n",
              "gb_per_month_included       0\n",
              "minutes_included            0\n",
              "rub_monthly_fee             0\n",
              "rub_per_gb                  0\n",
              "rub_per_message             0\n",
              "rub_per_minute              0\n",
              "dtype: int64"
            ]
          },
          "execution_count": 14,
          "metadata": {},
          "output_type": "execute_result"
        },
        {
          "name": "stdout",
          "output_type": "stream",
          "text": [
            "<class 'pandas.core.frame.DataFrame'>\n",
            "Int64Index: 3216 entries, 0 to 3215\n",
            "Data columns (total 17 columns):\n",
            " #   Column                  Non-Null Count  Dtype  \n",
            "---  ------                  --------------  -----  \n",
            " 0   user_id                 3216 non-null   int64  \n",
            " 1   month                   3214 non-null   float64\n",
            " 2   sum_duration            3174 non-null   float64\n",
            " 3   count_duration          3174 non-null   float64\n",
            " 4   count_interne_sessions  3203 non-null   float64\n",
            " 5   gb_used                 3203 non-null   float64\n",
            " 6   count_message           2717 non-null   float64\n",
            " 7   tariff_name             3216 non-null   object \n",
            " 8   city                    3216 non-null   object \n",
            " 9   age                     3216 non-null   int64  \n",
            " 10  messages_included       3216 non-null   int64  \n",
            " 11  gb_per_month_included   3216 non-null   float64\n",
            " 12  minutes_included        3216 non-null   int64  \n",
            " 13  rub_monthly_fee         3216 non-null   int64  \n",
            " 14  rub_per_gb              3216 non-null   int64  \n",
            " 15  rub_per_message         3216 non-null   int64  \n",
            " 16  rub_per_minute          3216 non-null   int64  \n",
            "dtypes: float64(7), int64(8), object(2)\n",
            "memory usage: 452.2+ KB\n"
          ]
        }
      ],
      "source": [
        "data_revenue.isna().sum()#вывод количества Nan\n",
        "data_revenue.info()"
      ]
    },
    {
      "cell_type": "markdown",
      "metadata": {
        "id": "FyGKqeL0nVAm"
      },
      "source": [
        "Все значения `Nan` в таблице мы можем заменить на 0, так это означает, что зонков, смс или использования интернета не было. Но значения `Nan` в столбце с месяцами заменить нельзя."
      ]
    },
    {
      "cell_type": "code",
      "execution_count": null,
      "metadata": {
        "scrolled": true,
        "id": "8pz20SScnVAm",
        "outputId": "6a6c6b41-baa1-4f05-a9d4-6e87c6842396"
      },
      "outputs": [
        {
          "data": {
            "text/html": [
              "<div>\n",
              "<style scoped>\n",
              "    .dataframe tbody tr th:only-of-type {\n",
              "        vertical-align: middle;\n",
              "    }\n",
              "\n",
              "    .dataframe tbody tr th {\n",
              "        vertical-align: top;\n",
              "    }\n",
              "\n",
              "    .dataframe thead th {\n",
              "        text-align: right;\n",
              "    }\n",
              "</style>\n",
              "<table border=\"1\" class=\"dataframe\">\n",
              "  <thead>\n",
              "    <tr style=\"text-align: right;\">\n",
              "      <th></th>\n",
              "      <th>user_id</th>\n",
              "      <th>month</th>\n",
              "      <th>sum_duration</th>\n",
              "      <th>count_duration</th>\n",
              "      <th>count_interne_sessions</th>\n",
              "      <th>gb_used</th>\n",
              "      <th>count_message</th>\n",
              "      <th>tariff_name</th>\n",
              "      <th>city</th>\n",
              "      <th>age</th>\n",
              "      <th>messages_included</th>\n",
              "      <th>gb_per_month_included</th>\n",
              "      <th>minutes_included</th>\n",
              "      <th>rub_monthly_fee</th>\n",
              "      <th>rub_per_gb</th>\n",
              "      <th>rub_per_message</th>\n",
              "      <th>rub_per_minute</th>\n",
              "    </tr>\n",
              "  </thead>\n",
              "  <tbody>\n",
              "    <tr>\n",
              "      <th>985</th>\n",
              "      <td>1128</td>\n",
              "      <td>NaN</td>\n",
              "      <td>NaN</td>\n",
              "      <td>NaN</td>\n",
              "      <td>NaN</td>\n",
              "      <td>NaN</td>\n",
              "      <td>NaN</td>\n",
              "      <td>ultra</td>\n",
              "      <td>Волжский</td>\n",
              "      <td>51</td>\n",
              "      <td>1000</td>\n",
              "      <td>30.00</td>\n",
              "      <td>3000</td>\n",
              "      <td>1950</td>\n",
              "      <td>150</td>\n",
              "      <td>1</td>\n",
              "      <td>1</td>\n",
              "    </tr>\n",
              "    <tr>\n",
              "      <th>3215</th>\n",
              "      <td>1371</td>\n",
              "      <td>NaN</td>\n",
              "      <td>NaN</td>\n",
              "      <td>NaN</td>\n",
              "      <td>NaN</td>\n",
              "      <td>NaN</td>\n",
              "      <td>NaN</td>\n",
              "      <td>smart</td>\n",
              "      <td>Омск</td>\n",
              "      <td>50</td>\n",
              "      <td>50</td>\n",
              "      <td>15.00</td>\n",
              "      <td>500</td>\n",
              "      <td>550</td>\n",
              "      <td>200</td>\n",
              "      <td>3</td>\n",
              "      <td>3</td>\n",
              "    </tr>\n",
              "  </tbody>\n",
              "</table>\n",
              "</div>"
            ],
            "text/plain": [
              "      user_id  month  sum_duration  count_duration  count_interne_sessions  \\\n",
              "985      1128    NaN           NaN             NaN                     NaN   \n",
              "3215     1371    NaN           NaN             NaN                     NaN   \n",
              "\n",
              "      gb_used  count_message tariff_name      city  age  messages_included  \\\n",
              "985       NaN            NaN       ultra  Волжский   51               1000   \n",
              "3215      NaN            NaN       smart      Омск   50                 50   \n",
              "\n",
              "      gb_per_month_included  minutes_included  rub_monthly_fee  rub_per_gb  \\\n",
              "985                   30.00              3000             1950         150   \n",
              "3215                  15.00               500              550         200   \n",
              "\n",
              "      rub_per_message  rub_per_minute  \n",
              "985                 1               1  \n",
              "3215                3               3  "
            ]
          },
          "execution_count": 15,
          "metadata": {},
          "output_type": "execute_result"
        }
      ],
      "source": [
        "data_revenue[data_revenue['month'].isna()] #вывод строк со значениями месяцев Nan"
      ]
    },
    {
      "cell_type": "markdown",
      "metadata": {
        "id": "IkM0lS3jnVAm"
      },
      "source": [
        "Таких строк всего две, поэтому мы их просто удалим. Удаление не должно сказаться на данных."
      ]
    },
    {
      "cell_type": "code",
      "execution_count": null,
      "metadata": {
        "scrolled": true,
        "id": "gnykXqX5nVAn",
        "outputId": "404a0d95-2156-4e0f-c538-b171630b8696"
      },
      "outputs": [
        {
          "data": {
            "text/plain": [
              "user_id                   0\n",
              "month                     0\n",
              "sum_duration              0\n",
              "count_duration            0\n",
              "count_interne_sessions    0\n",
              "gb_used                   0\n",
              "count_message             0\n",
              "tariff_name               0\n",
              "city                      0\n",
              "age                       0\n",
              "messages_included         0\n",
              "gb_per_month_included     0\n",
              "minutes_included          0\n",
              "rub_monthly_fee           0\n",
              "rub_per_gb                0\n",
              "rub_per_message           0\n",
              "rub_per_minute            0\n",
              "dtype: int64"
            ]
          },
          "execution_count": 16,
          "metadata": {},
          "output_type": "execute_result"
        },
        {
          "name": "stdout",
          "output_type": "stream",
          "text": [
            "<class 'pandas.core.frame.DataFrame'>\n",
            "Int64Index: 3214 entries, 0 to 3214\n",
            "Data columns (total 17 columns):\n",
            " #   Column                  Non-Null Count  Dtype \n",
            "---  ------                  --------------  ----- \n",
            " 0   user_id                 3214 non-null   int64 \n",
            " 1   month                   3214 non-null   int64 \n",
            " 2   sum_duration            3214 non-null   int64 \n",
            " 3   count_duration          3214 non-null   int64 \n",
            " 4   count_interne_sessions  3214 non-null   int64 \n",
            " 5   gb_used                 3214 non-null   int64 \n",
            " 6   count_message           3214 non-null   int64 \n",
            " 7   tariff_name             3214 non-null   object\n",
            " 8   city                    3214 non-null   object\n",
            " 9   age                     3214 non-null   int64 \n",
            " 10  messages_included       3214 non-null   int64 \n",
            " 11  gb_per_month_included   3214 non-null   int64 \n",
            " 12  minutes_included        3214 non-null   int64 \n",
            " 13  rub_monthly_fee         3214 non-null   int64 \n",
            " 14  rub_per_gb              3214 non-null   int64 \n",
            " 15  rub_per_message         3214 non-null   int64 \n",
            " 16  rub_per_minute          3214 non-null   int64 \n",
            "dtypes: int64(15), object(2)\n",
            "memory usage: 452.0+ KB\n"
          ]
        }
      ],
      "source": [
        "data_revenue.dropna(subset=['month'], inplace=True)#удаление строк с пропущенными месяцами\n",
        "data_revenue = data_revenue.fillna(0)#Замена значений Nan в таблице\n",
        "data_revenue['gb_used'] = data_revenue['gb_used'].astype('int')\n",
        "data_revenue['sum_duration'] = data_revenue['sum_duration'].astype('int')\n",
        "data_revenue['month'] = data_revenue['month'].astype('int')\n",
        "data_revenue['count_duration'] = data_revenue['count_duration'].astype('int')\n",
        "data_revenue['count_message'] = data_revenue['count_message'].astype('int')\n",
        "data_revenue['gb_per_month_included'] = data_revenue['gb_per_month_included'].astype('int')\n",
        "data_revenue['count_interne_sessions'] = data_revenue['count_interne_sessions'].astype('int')\n",
        "#изменение типа данных минут на int\n",
        "\n",
        "data_revenue.isna().sum()\n",
        "data_revenue.info()"
      ]
    },
    {
      "cell_type": "markdown",
      "metadata": {
        "id": "k6hKmEAtnVAn"
      },
      "source": [
        "Мы произвели замену `Nan`-ов. Теперь нам надо узнать, сколько стоили минуты, СМС и Гб, которые были использованы сверх лимита, а так же полную сумму оплаты связи по месяцам для каждого абонента. Для этого создадим новые столбцы с помощью функций."
      ]
    },
    {
      "cell_type": "code",
      "execution_count": null,
      "metadata": {
        "scrolled": true,
        "id": "4WzrKUGsnVAn",
        "outputId": "d768a038-167f-4324-9e10-01f7cc54a231"
      },
      "outputs": [
        {
          "data": {
            "text/html": [
              "<div>\n",
              "<style scoped>\n",
              "    .dataframe tbody tr th:only-of-type {\n",
              "        vertical-align: middle;\n",
              "    }\n",
              "\n",
              "    .dataframe tbody tr th {\n",
              "        vertical-align: top;\n",
              "    }\n",
              "\n",
              "    .dataframe thead th {\n",
              "        text-align: right;\n",
              "    }\n",
              "</style>\n",
              "<table border=\"1\" class=\"dataframe\">\n",
              "  <thead>\n",
              "    <tr style=\"text-align: right;\">\n",
              "      <th></th>\n",
              "      <th>user_id</th>\n",
              "      <th>month</th>\n",
              "      <th>sum_duration</th>\n",
              "      <th>count_duration</th>\n",
              "      <th>count_interne_sessions</th>\n",
              "      <th>gb_used</th>\n",
              "      <th>count_message</th>\n",
              "      <th>tariff_name</th>\n",
              "      <th>city</th>\n",
              "      <th>age</th>\n",
              "      <th>messages_included</th>\n",
              "      <th>gb_per_month_included</th>\n",
              "      <th>minutes_included</th>\n",
              "      <th>rub_monthly_fee</th>\n",
              "      <th>rub_per_gb</th>\n",
              "      <th>rub_per_message</th>\n",
              "      <th>rub_per_minute</th>\n",
              "      <th>over_min</th>\n",
              "      <th>over_sms</th>\n",
              "      <th>over_gb</th>\n",
              "    </tr>\n",
              "  </thead>\n",
              "  <tbody>\n",
              "    <tr>\n",
              "      <th>0</th>\n",
              "      <td>1000</td>\n",
              "      <td>5</td>\n",
              "      <td>159</td>\n",
              "      <td>22</td>\n",
              "      <td>5</td>\n",
              "      <td>3</td>\n",
              "      <td>22</td>\n",
              "      <td>ultra</td>\n",
              "      <td>Краснодар</td>\n",
              "      <td>52</td>\n",
              "      <td>1000</td>\n",
              "      <td>30</td>\n",
              "      <td>3000</td>\n",
              "      <td>1950</td>\n",
              "      <td>150</td>\n",
              "      <td>1</td>\n",
              "      <td>1</td>\n",
              "      <td>0</td>\n",
              "      <td>0</td>\n",
              "      <td>0</td>\n",
              "    </tr>\n",
              "    <tr>\n",
              "      <th>1</th>\n",
              "      <td>1000</td>\n",
              "      <td>6</td>\n",
              "      <td>172</td>\n",
              "      <td>43</td>\n",
              "      <td>49</td>\n",
              "      <td>23</td>\n",
              "      <td>60</td>\n",
              "      <td>ultra</td>\n",
              "      <td>Краснодар</td>\n",
              "      <td>52</td>\n",
              "      <td>1000</td>\n",
              "      <td>30</td>\n",
              "      <td>3000</td>\n",
              "      <td>1950</td>\n",
              "      <td>150</td>\n",
              "      <td>1</td>\n",
              "      <td>1</td>\n",
              "      <td>0</td>\n",
              "      <td>0</td>\n",
              "      <td>0</td>\n",
              "    </tr>\n",
              "    <tr>\n",
              "      <th>2</th>\n",
              "      <td>1000</td>\n",
              "      <td>7</td>\n",
              "      <td>340</td>\n",
              "      <td>47</td>\n",
              "      <td>29</td>\n",
              "      <td>14</td>\n",
              "      <td>75</td>\n",
              "      <td>ultra</td>\n",
              "      <td>Краснодар</td>\n",
              "      <td>52</td>\n",
              "      <td>1000</td>\n",
              "      <td>30</td>\n",
              "      <td>3000</td>\n",
              "      <td>1950</td>\n",
              "      <td>150</td>\n",
              "      <td>1</td>\n",
              "      <td>1</td>\n",
              "      <td>0</td>\n",
              "      <td>0</td>\n",
              "      <td>0</td>\n",
              "    </tr>\n",
              "    <tr>\n",
              "      <th>3</th>\n",
              "      <td>1000</td>\n",
              "      <td>8</td>\n",
              "      <td>408</td>\n",
              "      <td>52</td>\n",
              "      <td>29</td>\n",
              "      <td>14</td>\n",
              "      <td>81</td>\n",
              "      <td>ultra</td>\n",
              "      <td>Краснодар</td>\n",
              "      <td>52</td>\n",
              "      <td>1000</td>\n",
              "      <td>30</td>\n",
              "      <td>3000</td>\n",
              "      <td>1950</td>\n",
              "      <td>150</td>\n",
              "      <td>1</td>\n",
              "      <td>1</td>\n",
              "      <td>0</td>\n",
              "      <td>0</td>\n",
              "      <td>0</td>\n",
              "    </tr>\n",
              "    <tr>\n",
              "      <th>4</th>\n",
              "      <td>1000</td>\n",
              "      <td>9</td>\n",
              "      <td>466</td>\n",
              "      <td>58</td>\n",
              "      <td>27</td>\n",
              "      <td>15</td>\n",
              "      <td>57</td>\n",
              "      <td>ultra</td>\n",
              "      <td>Краснодар</td>\n",
              "      <td>52</td>\n",
              "      <td>1000</td>\n",
              "      <td>30</td>\n",
              "      <td>3000</td>\n",
              "      <td>1950</td>\n",
              "      <td>150</td>\n",
              "      <td>1</td>\n",
              "      <td>1</td>\n",
              "      <td>0</td>\n",
              "      <td>0</td>\n",
              "      <td>0</td>\n",
              "    </tr>\n",
              "    <tr>\n",
              "      <th>5</th>\n",
              "      <td>1000</td>\n",
              "      <td>10</td>\n",
              "      <td>350</td>\n",
              "      <td>57</td>\n",
              "      <td>27</td>\n",
              "      <td>15</td>\n",
              "      <td>73</td>\n",
              "      <td>ultra</td>\n",
              "      <td>Краснодар</td>\n",
              "      <td>52</td>\n",
              "      <td>1000</td>\n",
              "      <td>30</td>\n",
              "      <td>3000</td>\n",
              "      <td>1950</td>\n",
              "      <td>150</td>\n",
              "      <td>1</td>\n",
              "      <td>1</td>\n",
              "      <td>0</td>\n",
              "      <td>0</td>\n",
              "      <td>0</td>\n",
              "    </tr>\n",
              "    <tr>\n",
              "      <th>6</th>\n",
              "      <td>1000</td>\n",
              "      <td>11</td>\n",
              "      <td>338</td>\n",
              "      <td>43</td>\n",
              "      <td>24</td>\n",
              "      <td>15</td>\n",
              "      <td>58</td>\n",
              "      <td>ultra</td>\n",
              "      <td>Краснодар</td>\n",
              "      <td>52</td>\n",
              "      <td>1000</td>\n",
              "      <td>30</td>\n",
              "      <td>3000</td>\n",
              "      <td>1950</td>\n",
              "      <td>150</td>\n",
              "      <td>1</td>\n",
              "      <td>1</td>\n",
              "      <td>0</td>\n",
              "      <td>0</td>\n",
              "      <td>0</td>\n",
              "    </tr>\n",
              "    <tr>\n",
              "      <th>7</th>\n",
              "      <td>1000</td>\n",
              "      <td>12</td>\n",
              "      <td>333</td>\n",
              "      <td>46</td>\n",
              "      <td>21</td>\n",
              "      <td>10</td>\n",
              "      <td>70</td>\n",
              "      <td>ultra</td>\n",
              "      <td>Краснодар</td>\n",
              "      <td>52</td>\n",
              "      <td>1000</td>\n",
              "      <td>30</td>\n",
              "      <td>3000</td>\n",
              "      <td>1950</td>\n",
              "      <td>150</td>\n",
              "      <td>1</td>\n",
              "      <td>1</td>\n",
              "      <td>0</td>\n",
              "      <td>0</td>\n",
              "      <td>0</td>\n",
              "    </tr>\n",
              "    <tr>\n",
              "      <th>8</th>\n",
              "      <td>1003</td>\n",
              "      <td>8</td>\n",
              "      <td>380</td>\n",
              "      <td>55</td>\n",
              "      <td>15</td>\n",
              "      <td>9</td>\n",
              "      <td>37</td>\n",
              "      <td>ultra</td>\n",
              "      <td>Москва</td>\n",
              "      <td>23</td>\n",
              "      <td>1000</td>\n",
              "      <td>30</td>\n",
              "      <td>3000</td>\n",
              "      <td>1950</td>\n",
              "      <td>150</td>\n",
              "      <td>1</td>\n",
              "      <td>1</td>\n",
              "      <td>0</td>\n",
              "      <td>0</td>\n",
              "      <td>0</td>\n",
              "    </tr>\n",
              "    <tr>\n",
              "      <th>9</th>\n",
              "      <td>1003</td>\n",
              "      <td>9</td>\n",
              "      <td>961</td>\n",
              "      <td>134</td>\n",
              "      <td>22</td>\n",
              "      <td>13</td>\n",
              "      <td>91</td>\n",
              "      <td>ultra</td>\n",
              "      <td>Москва</td>\n",
              "      <td>23</td>\n",
              "      <td>1000</td>\n",
              "      <td>30</td>\n",
              "      <td>3000</td>\n",
              "      <td>1950</td>\n",
              "      <td>150</td>\n",
              "      <td>1</td>\n",
              "      <td>1</td>\n",
              "      <td>0</td>\n",
              "      <td>0</td>\n",
              "      <td>0</td>\n",
              "    </tr>\n",
              "  </tbody>\n",
              "</table>\n",
              "</div>"
            ],
            "text/plain": [
              "   user_id  month  sum_duration  count_duration  count_interne_sessions  \\\n",
              "0     1000      5           159              22                       5   \n",
              "1     1000      6           172              43                      49   \n",
              "2     1000      7           340              47                      29   \n",
              "3     1000      8           408              52                      29   \n",
              "4     1000      9           466              58                      27   \n",
              "5     1000     10           350              57                      27   \n",
              "6     1000     11           338              43                      24   \n",
              "7     1000     12           333              46                      21   \n",
              "8     1003      8           380              55                      15   \n",
              "9     1003      9           961             134                      22   \n",
              "\n",
              "   gb_used  count_message tariff_name       city  age  messages_included  \\\n",
              "0        3             22       ultra  Краснодар   52               1000   \n",
              "1       23             60       ultra  Краснодар   52               1000   \n",
              "2       14             75       ultra  Краснодар   52               1000   \n",
              "3       14             81       ultra  Краснодар   52               1000   \n",
              "4       15             57       ultra  Краснодар   52               1000   \n",
              "5       15             73       ultra  Краснодар   52               1000   \n",
              "6       15             58       ultra  Краснодар   52               1000   \n",
              "7       10             70       ultra  Краснодар   52               1000   \n",
              "8        9             37       ultra     Москва   23               1000   \n",
              "9       13             91       ultra     Москва   23               1000   \n",
              "\n",
              "   gb_per_month_included  minutes_included  rub_monthly_fee  rub_per_gb  \\\n",
              "0                     30              3000             1950         150   \n",
              "1                     30              3000             1950         150   \n",
              "2                     30              3000             1950         150   \n",
              "3                     30              3000             1950         150   \n",
              "4                     30              3000             1950         150   \n",
              "5                     30              3000             1950         150   \n",
              "6                     30              3000             1950         150   \n",
              "7                     30              3000             1950         150   \n",
              "8                     30              3000             1950         150   \n",
              "9                     30              3000             1950         150   \n",
              "\n",
              "   rub_per_message  rub_per_minute  over_min  over_sms  over_gb  \n",
              "0                1               1         0         0        0  \n",
              "1                1               1         0         0        0  \n",
              "2                1               1         0         0        0  \n",
              "3                1               1         0         0        0  \n",
              "4                1               1         0         0        0  \n",
              "5                1               1         0         0        0  \n",
              "6                1               1         0         0        0  \n",
              "7                1               1         0         0        0  \n",
              "8                1               1         0         0        0  \n",
              "9                1               1         0         0        0  "
            ]
          },
          "execution_count": 17,
          "metadata": {},
          "output_type": "execute_result"
        }
      ],
      "source": [
        "def over_duration(row):#создаие функции\n",
        "      \n",
        "    over_min = 0\n",
        "    minutes = row['sum_duration']\n",
        "    minutes_limit = row['minutes_included']\n",
        "    rub_per_minute = row['rub_per_minute']\n",
        "    \n",
        "    if minutes > minutes_limit:\n",
        "        over_min += (minutes - minutes_limit) * rub_per_minute\n",
        "    if minutes < minutes_limit:\n",
        "        over_min = 0\n",
        "        \n",
        "    return over_min\n",
        "data_revenue['over_min'] = data_revenue.apply(over_duration, axis=1)#вызов функции\n",
        "\n",
        "def over_sms(row):#создаие функции\n",
        "      \n",
        "    over_sms = 0\n",
        "    sms = row['count_message']\n",
        "    sms_limit = row['messages_included']\n",
        "    rub_per_message = row['rub_per_message']\n",
        "    \n",
        "    if sms > sms_limit:\n",
        "        over_sms += (sms - sms_limit) * rub_per_message\n",
        "    if sms < sms_limit:\n",
        "        over_sms = 0\n",
        "        \n",
        "    return over_sms\n",
        "data_revenue['over_sms'] = data_revenue.apply(over_sms, axis=1)#вызов функции\n",
        "\n",
        "def over_gb(row):#создаие функции\n",
        "      \n",
        "    over_gb = 0\n",
        "    traffic = row['gb_used']\n",
        "    gb_limit = row['gb_per_month_included']\n",
        "    rub_per_gb = row['rub_per_gb']\n",
        "    \n",
        "    if traffic > gb_limit:\n",
        "        over_gb += (traffic - gb_limit) * rub_per_gb\n",
        "    if traffic < gb_limit:\n",
        "        over_gb = 0\n",
        "        \n",
        "    return over_gb\n",
        "data_revenue['over_gb'] = data_revenue.apply(over_gb, axis=1)#вызов функции\n",
        "\n",
        "data_revenue.head(10)"
      ]
    },
    {
      "cell_type": "markdown",
      "metadata": {
        "id": "jJE8_HAnnVAn"
      },
      "source": [
        "Мы создали 3 новых столбца с суммами затрат абонентов на услуги сверх тарифных лимитов. Теперь создадим столбец `total_price` с суммой всех затрат клиентов."
      ]
    },
    {
      "cell_type": "code",
      "execution_count": null,
      "metadata": {
        "id": "_OFBEfMtnVAn",
        "outputId": "6bcc6542-dbb8-4818-aed2-4ef53a1cf0ba"
      },
      "outputs": [
        {
          "data": {
            "text/html": [
              "<div>\n",
              "<style scoped>\n",
              "    .dataframe tbody tr th:only-of-type {\n",
              "        vertical-align: middle;\n",
              "    }\n",
              "\n",
              "    .dataframe tbody tr th {\n",
              "        vertical-align: top;\n",
              "    }\n",
              "\n",
              "    .dataframe thead th {\n",
              "        text-align: right;\n",
              "    }\n",
              "</style>\n",
              "<table border=\"1\" class=\"dataframe\">\n",
              "  <thead>\n",
              "    <tr style=\"text-align: right;\">\n",
              "      <th></th>\n",
              "      <th>user_id</th>\n",
              "      <th>month</th>\n",
              "      <th>sum_duration</th>\n",
              "      <th>count_duration</th>\n",
              "      <th>count_interne_sessions</th>\n",
              "      <th>gb_used</th>\n",
              "      <th>count_message</th>\n",
              "      <th>tariff_name</th>\n",
              "      <th>city</th>\n",
              "      <th>age</th>\n",
              "      <th>...</th>\n",
              "      <th>gb_per_month_included</th>\n",
              "      <th>minutes_included</th>\n",
              "      <th>rub_monthly_fee</th>\n",
              "      <th>rub_per_gb</th>\n",
              "      <th>rub_per_message</th>\n",
              "      <th>rub_per_minute</th>\n",
              "      <th>over_min</th>\n",
              "      <th>over_sms</th>\n",
              "      <th>over_gb</th>\n",
              "      <th>total_price</th>\n",
              "    </tr>\n",
              "  </thead>\n",
              "  <tbody>\n",
              "    <tr>\n",
              "      <th>0</th>\n",
              "      <td>1000</td>\n",
              "      <td>5</td>\n",
              "      <td>159</td>\n",
              "      <td>22</td>\n",
              "      <td>5</td>\n",
              "      <td>3</td>\n",
              "      <td>22</td>\n",
              "      <td>ultra</td>\n",
              "      <td>Краснодар</td>\n",
              "      <td>52</td>\n",
              "      <td>...</td>\n",
              "      <td>30</td>\n",
              "      <td>3000</td>\n",
              "      <td>1950</td>\n",
              "      <td>150</td>\n",
              "      <td>1</td>\n",
              "      <td>1</td>\n",
              "      <td>0</td>\n",
              "      <td>0</td>\n",
              "      <td>0</td>\n",
              "      <td>1950</td>\n",
              "    </tr>\n",
              "    <tr>\n",
              "      <th>1</th>\n",
              "      <td>1000</td>\n",
              "      <td>6</td>\n",
              "      <td>172</td>\n",
              "      <td>43</td>\n",
              "      <td>49</td>\n",
              "      <td>23</td>\n",
              "      <td>60</td>\n",
              "      <td>ultra</td>\n",
              "      <td>Краснодар</td>\n",
              "      <td>52</td>\n",
              "      <td>...</td>\n",
              "      <td>30</td>\n",
              "      <td>3000</td>\n",
              "      <td>1950</td>\n",
              "      <td>150</td>\n",
              "      <td>1</td>\n",
              "      <td>1</td>\n",
              "      <td>0</td>\n",
              "      <td>0</td>\n",
              "      <td>0</td>\n",
              "      <td>1950</td>\n",
              "    </tr>\n",
              "    <tr>\n",
              "      <th>2</th>\n",
              "      <td>1000</td>\n",
              "      <td>7</td>\n",
              "      <td>340</td>\n",
              "      <td>47</td>\n",
              "      <td>29</td>\n",
              "      <td>14</td>\n",
              "      <td>75</td>\n",
              "      <td>ultra</td>\n",
              "      <td>Краснодар</td>\n",
              "      <td>52</td>\n",
              "      <td>...</td>\n",
              "      <td>30</td>\n",
              "      <td>3000</td>\n",
              "      <td>1950</td>\n",
              "      <td>150</td>\n",
              "      <td>1</td>\n",
              "      <td>1</td>\n",
              "      <td>0</td>\n",
              "      <td>0</td>\n",
              "      <td>0</td>\n",
              "      <td>1950</td>\n",
              "    </tr>\n",
              "    <tr>\n",
              "      <th>3</th>\n",
              "      <td>1000</td>\n",
              "      <td>8</td>\n",
              "      <td>408</td>\n",
              "      <td>52</td>\n",
              "      <td>29</td>\n",
              "      <td>14</td>\n",
              "      <td>81</td>\n",
              "      <td>ultra</td>\n",
              "      <td>Краснодар</td>\n",
              "      <td>52</td>\n",
              "      <td>...</td>\n",
              "      <td>30</td>\n",
              "      <td>3000</td>\n",
              "      <td>1950</td>\n",
              "      <td>150</td>\n",
              "      <td>1</td>\n",
              "      <td>1</td>\n",
              "      <td>0</td>\n",
              "      <td>0</td>\n",
              "      <td>0</td>\n",
              "      <td>1950</td>\n",
              "    </tr>\n",
              "    <tr>\n",
              "      <th>4</th>\n",
              "      <td>1000</td>\n",
              "      <td>9</td>\n",
              "      <td>466</td>\n",
              "      <td>58</td>\n",
              "      <td>27</td>\n",
              "      <td>15</td>\n",
              "      <td>57</td>\n",
              "      <td>ultra</td>\n",
              "      <td>Краснодар</td>\n",
              "      <td>52</td>\n",
              "      <td>...</td>\n",
              "      <td>30</td>\n",
              "      <td>3000</td>\n",
              "      <td>1950</td>\n",
              "      <td>150</td>\n",
              "      <td>1</td>\n",
              "      <td>1</td>\n",
              "      <td>0</td>\n",
              "      <td>0</td>\n",
              "      <td>0</td>\n",
              "      <td>1950</td>\n",
              "    </tr>\n",
              "    <tr>\n",
              "      <th>5</th>\n",
              "      <td>1000</td>\n",
              "      <td>10</td>\n",
              "      <td>350</td>\n",
              "      <td>57</td>\n",
              "      <td>27</td>\n",
              "      <td>15</td>\n",
              "      <td>73</td>\n",
              "      <td>ultra</td>\n",
              "      <td>Краснодар</td>\n",
              "      <td>52</td>\n",
              "      <td>...</td>\n",
              "      <td>30</td>\n",
              "      <td>3000</td>\n",
              "      <td>1950</td>\n",
              "      <td>150</td>\n",
              "      <td>1</td>\n",
              "      <td>1</td>\n",
              "      <td>0</td>\n",
              "      <td>0</td>\n",
              "      <td>0</td>\n",
              "      <td>1950</td>\n",
              "    </tr>\n",
              "    <tr>\n",
              "      <th>6</th>\n",
              "      <td>1000</td>\n",
              "      <td>11</td>\n",
              "      <td>338</td>\n",
              "      <td>43</td>\n",
              "      <td>24</td>\n",
              "      <td>15</td>\n",
              "      <td>58</td>\n",
              "      <td>ultra</td>\n",
              "      <td>Краснодар</td>\n",
              "      <td>52</td>\n",
              "      <td>...</td>\n",
              "      <td>30</td>\n",
              "      <td>3000</td>\n",
              "      <td>1950</td>\n",
              "      <td>150</td>\n",
              "      <td>1</td>\n",
              "      <td>1</td>\n",
              "      <td>0</td>\n",
              "      <td>0</td>\n",
              "      <td>0</td>\n",
              "      <td>1950</td>\n",
              "    </tr>\n",
              "    <tr>\n",
              "      <th>7</th>\n",
              "      <td>1000</td>\n",
              "      <td>12</td>\n",
              "      <td>333</td>\n",
              "      <td>46</td>\n",
              "      <td>21</td>\n",
              "      <td>10</td>\n",
              "      <td>70</td>\n",
              "      <td>ultra</td>\n",
              "      <td>Краснодар</td>\n",
              "      <td>52</td>\n",
              "      <td>...</td>\n",
              "      <td>30</td>\n",
              "      <td>3000</td>\n",
              "      <td>1950</td>\n",
              "      <td>150</td>\n",
              "      <td>1</td>\n",
              "      <td>1</td>\n",
              "      <td>0</td>\n",
              "      <td>0</td>\n",
              "      <td>0</td>\n",
              "      <td>1950</td>\n",
              "    </tr>\n",
              "    <tr>\n",
              "      <th>8</th>\n",
              "      <td>1003</td>\n",
              "      <td>8</td>\n",
              "      <td>380</td>\n",
              "      <td>55</td>\n",
              "      <td>15</td>\n",
              "      <td>9</td>\n",
              "      <td>37</td>\n",
              "      <td>ultra</td>\n",
              "      <td>Москва</td>\n",
              "      <td>23</td>\n",
              "      <td>...</td>\n",
              "      <td>30</td>\n",
              "      <td>3000</td>\n",
              "      <td>1950</td>\n",
              "      <td>150</td>\n",
              "      <td>1</td>\n",
              "      <td>1</td>\n",
              "      <td>0</td>\n",
              "      <td>0</td>\n",
              "      <td>0</td>\n",
              "      <td>1950</td>\n",
              "    </tr>\n",
              "    <tr>\n",
              "      <th>9</th>\n",
              "      <td>1003</td>\n",
              "      <td>9</td>\n",
              "      <td>961</td>\n",
              "      <td>134</td>\n",
              "      <td>22</td>\n",
              "      <td>13</td>\n",
              "      <td>91</td>\n",
              "      <td>ultra</td>\n",
              "      <td>Москва</td>\n",
              "      <td>23</td>\n",
              "      <td>...</td>\n",
              "      <td>30</td>\n",
              "      <td>3000</td>\n",
              "      <td>1950</td>\n",
              "      <td>150</td>\n",
              "      <td>1</td>\n",
              "      <td>1</td>\n",
              "      <td>0</td>\n",
              "      <td>0</td>\n",
              "      <td>0</td>\n",
              "      <td>1950</td>\n",
              "    </tr>\n",
              "  </tbody>\n",
              "</table>\n",
              "<p>10 rows × 21 columns</p>\n",
              "</div>"
            ],
            "text/plain": [
              "   user_id  month  sum_duration  count_duration  count_interne_sessions  \\\n",
              "0     1000      5           159              22                       5   \n",
              "1     1000      6           172              43                      49   \n",
              "2     1000      7           340              47                      29   \n",
              "3     1000      8           408              52                      29   \n",
              "4     1000      9           466              58                      27   \n",
              "5     1000     10           350              57                      27   \n",
              "6     1000     11           338              43                      24   \n",
              "7     1000     12           333              46                      21   \n",
              "8     1003      8           380              55                      15   \n",
              "9     1003      9           961             134                      22   \n",
              "\n",
              "   gb_used  count_message tariff_name       city  age  ...  \\\n",
              "0        3             22       ultra  Краснодар   52  ...   \n",
              "1       23             60       ultra  Краснодар   52  ...   \n",
              "2       14             75       ultra  Краснодар   52  ...   \n",
              "3       14             81       ultra  Краснодар   52  ...   \n",
              "4       15             57       ultra  Краснодар   52  ...   \n",
              "5       15             73       ultra  Краснодар   52  ...   \n",
              "6       15             58       ultra  Краснодар   52  ...   \n",
              "7       10             70       ultra  Краснодар   52  ...   \n",
              "8        9             37       ultra     Москва   23  ...   \n",
              "9       13             91       ultra     Москва   23  ...   \n",
              "\n",
              "   gb_per_month_included  minutes_included  rub_monthly_fee  rub_per_gb  \\\n",
              "0                     30              3000             1950         150   \n",
              "1                     30              3000             1950         150   \n",
              "2                     30              3000             1950         150   \n",
              "3                     30              3000             1950         150   \n",
              "4                     30              3000             1950         150   \n",
              "5                     30              3000             1950         150   \n",
              "6                     30              3000             1950         150   \n",
              "7                     30              3000             1950         150   \n",
              "8                     30              3000             1950         150   \n",
              "9                     30              3000             1950         150   \n",
              "\n",
              "   rub_per_message  rub_per_minute  over_min  over_sms  over_gb  total_price  \n",
              "0                1               1         0         0        0         1950  \n",
              "1                1               1         0         0        0         1950  \n",
              "2                1               1         0         0        0         1950  \n",
              "3                1               1         0         0        0         1950  \n",
              "4                1               1         0         0        0         1950  \n",
              "5                1               1         0         0        0         1950  \n",
              "6                1               1         0         0        0         1950  \n",
              "7                1               1         0         0        0         1950  \n",
              "8                1               1         0         0        0         1950  \n",
              "9                1               1         0         0        0         1950  \n",
              "\n",
              "[10 rows x 21 columns]"
            ]
          },
          "execution_count": 18,
          "metadata": {},
          "output_type": "execute_result"
        }
      ],
      "source": [
        "data_revenue['total_price'] = (data_revenue['over_sms'] + data_revenue['over_gb'] + \n",
        "                               data_revenue['over_min'] + data_revenue['rub_monthly_fee']\n",
        ")#создание нового столбца с итоговой суммой\n",
        "data_revenue.head(10)"
      ]
    },
    {
      "cell_type": "markdown",
      "metadata": {
        "id": "qN4XjCNBnVAn"
      },
      "source": [
        "Мы создали новый датафрейм, который содержит полные данные об использовании услуг оператора пятисот клиентов за год. Благодаря полной таблице мы можем приступить к анализу имеющихся данных."
      ]
    },
    {
      "cell_type": "code",
      "execution_count": null,
      "metadata": {
        "id": "IkqwpIjHnVAn",
        "outputId": "4e8b388d-2071-40bf-b89c-9eab2f65f67b"
      },
      "outputs": [
        {
          "data": {
            "text/plain": [
              "4914451"
            ]
          },
          "execution_count": 19,
          "metadata": {},
          "output_type": "execute_result"
        }
      ],
      "source": [
        "# check\n",
        "data_revenue['total_price'].sum()"
      ]
    },
    {
      "cell_type": "markdown",
      "metadata": {
        "id": "kuPmeTSPnVAo"
      },
      "source": [
        "## Анализ поведения клиентов"
      ]
    },
    {
      "cell_type": "markdown",
      "metadata": {
        "id": "EkS8lRjmnVAo"
      },
      "source": [
        "Создадим для наглядности анализа поведения клиентов сводную таблицу в которую включим средние значения использования услуг имеющихся тарифов. "
      ]
    },
    {
      "cell_type": "code",
      "execution_count": null,
      "metadata": {
        "scrolled": false,
        "id": "u_LRkdwSnVAo",
        "outputId": "17fa2027-155d-4ccc-d2d8-d749277d328c"
      },
      "outputs": [
        {
          "data": {
            "text/html": [
              "<div>\n",
              "<style scoped>\n",
              "    .dataframe tbody tr th:only-of-type {\n",
              "        vertical-align: middle;\n",
              "    }\n",
              "\n",
              "    .dataframe tbody tr th {\n",
              "        vertical-align: top;\n",
              "    }\n",
              "\n",
              "    .dataframe thead th {\n",
              "        text-align: right;\n",
              "    }\n",
              "</style>\n",
              "<table border=\"1\" class=\"dataframe\">\n",
              "  <thead>\n",
              "    <tr style=\"text-align: right;\">\n",
              "      <th></th>\n",
              "      <th></th>\n",
              "      <th>count_duration</th>\n",
              "      <th>count_message</th>\n",
              "      <th>gb_used</th>\n",
              "      <th>sum_duration</th>\n",
              "    </tr>\n",
              "    <tr>\n",
              "      <th>month</th>\n",
              "      <th>tariff_name</th>\n",
              "      <th></th>\n",
              "      <th></th>\n",
              "      <th></th>\n",
              "      <th></th>\n",
              "    </tr>\n",
              "  </thead>\n",
              "  <tbody>\n",
              "    <tr>\n",
              "      <th rowspan=\"2\" valign=\"top\">1</th>\n",
              "      <th>smart</th>\n",
              "      <td>27.70</td>\n",
              "      <td>18.20</td>\n",
              "      <td>8.70</td>\n",
              "      <td>203.90</td>\n",
              "    </tr>\n",
              "    <tr>\n",
              "      <th>ultra</th>\n",
              "      <td>59.40</td>\n",
              "      <td>33.80</td>\n",
              "      <td>13.20</td>\n",
              "      <td>428.10</td>\n",
              "    </tr>\n",
              "    <tr>\n",
              "      <th rowspan=\"2\" valign=\"top\">2</th>\n",
              "      <th>smart</th>\n",
              "      <td>40.20</td>\n",
              "      <td>24.10</td>\n",
              "      <td>11.80</td>\n",
              "      <td>298.70</td>\n",
              "    </tr>\n",
              "    <tr>\n",
              "      <th>ultra</th>\n",
              "      <td>41.50</td>\n",
              "      <td>22.00</td>\n",
              "      <td>12.00</td>\n",
              "      <td>297.10</td>\n",
              "    </tr>\n",
              "    <tr>\n",
              "      <th rowspan=\"2\" valign=\"top\">3</th>\n",
              "      <th>smart</th>\n",
              "      <td>54.30</td>\n",
              "      <td>31.90</td>\n",
              "      <td>15.20</td>\n",
              "      <td>390.10</td>\n",
              "    </tr>\n",
              "    <tr>\n",
              "      <th>ultra</th>\n",
              "      <td>67.70</td>\n",
              "      <td>32.30</td>\n",
              "      <td>17.60</td>\n",
              "      <td>489.60</td>\n",
              "    </tr>\n",
              "    <tr>\n",
              "      <th rowspan=\"2\" valign=\"top\">4</th>\n",
              "      <th>smart</th>\n",
              "      <td>51.30</td>\n",
              "      <td>30.70</td>\n",
              "      <td>13.60</td>\n",
              "      <td>367.10</td>\n",
              "    </tr>\n",
              "    <tr>\n",
              "      <th>ultra</th>\n",
              "      <td>64.10</td>\n",
              "      <td>31.60</td>\n",
              "      <td>17.00</td>\n",
              "      <td>458.00</td>\n",
              "    </tr>\n",
              "    <tr>\n",
              "      <th rowspan=\"2\" valign=\"top\">5</th>\n",
              "      <th>smart</th>\n",
              "      <td>55.20</td>\n",
              "      <td>33.80</td>\n",
              "      <td>15.90</td>\n",
              "      <td>387.40</td>\n",
              "    </tr>\n",
              "    <tr>\n",
              "      <th>ultra</th>\n",
              "      <td>72.50</td>\n",
              "      <td>37.90</td>\n",
              "      <td>19.40</td>\n",
              "      <td>510.30</td>\n",
              "    </tr>\n",
              "    <tr>\n",
              "      <th rowspan=\"2\" valign=\"top\">6</th>\n",
              "      <th>smart</th>\n",
              "      <td>55.50</td>\n",
              "      <td>33.40</td>\n",
              "      <td>16.00</td>\n",
              "      <td>395.60</td>\n",
              "    </tr>\n",
              "    <tr>\n",
              "      <th>ultra</th>\n",
              "      <td>66.70</td>\n",
              "      <td>41.70</td>\n",
              "      <td>18.90</td>\n",
              "      <td>479.70</td>\n",
              "    </tr>\n",
              "    <tr>\n",
              "      <th rowspan=\"2\" valign=\"top\">7</th>\n",
              "      <th>smart</th>\n",
              "      <td>56.70</td>\n",
              "      <td>33.80</td>\n",
              "      <td>15.90</td>\n",
              "      <td>408.40</td>\n",
              "    </tr>\n",
              "    <tr>\n",
              "      <th>ultra</th>\n",
              "      <td>75.80</td>\n",
              "      <td>49.80</td>\n",
              "      <td>20.50</td>\n",
              "      <td>545.80</td>\n",
              "    </tr>\n",
              "    <tr>\n",
              "      <th rowspan=\"2\" valign=\"top\">8</th>\n",
              "      <th>smart</th>\n",
              "      <td>59.00</td>\n",
              "      <td>33.60</td>\n",
              "      <td>16.70</td>\n",
              "      <td>421.50</td>\n",
              "    </tr>\n",
              "    <tr>\n",
              "      <th>ultra</th>\n",
              "      <td>71.30</td>\n",
              "      <td>48.40</td>\n",
              "      <td>19.60</td>\n",
              "      <td>510.80</td>\n",
              "    </tr>\n",
              "    <tr>\n",
              "      <th rowspan=\"2\" valign=\"top\">9</th>\n",
              "      <th>smart</th>\n",
              "      <td>59.50</td>\n",
              "      <td>33.60</td>\n",
              "      <td>16.40</td>\n",
              "      <td>428.60</td>\n",
              "    </tr>\n",
              "    <tr>\n",
              "      <th>ultra</th>\n",
              "      <td>74.60</td>\n",
              "      <td>52.30</td>\n",
              "      <td>19.20</td>\n",
              "      <td>539.40</td>\n",
              "    </tr>\n",
              "    <tr>\n",
              "      <th rowspan=\"2\" valign=\"top\">10</th>\n",
              "      <th>smart</th>\n",
              "      <td>60.00</td>\n",
              "      <td>33.80</td>\n",
              "      <td>16.90</td>\n",
              "      <td>426.10</td>\n",
              "    </tr>\n",
              "    <tr>\n",
              "      <th>ultra</th>\n",
              "      <td>77.40</td>\n",
              "      <td>58.40</td>\n",
              "      <td>20.10</td>\n",
              "      <td>558.10</td>\n",
              "    </tr>\n",
              "    <tr>\n",
              "      <th rowspan=\"2\" valign=\"top\">11</th>\n",
              "      <th>smart</th>\n",
              "      <td>61.50</td>\n",
              "      <td>34.10</td>\n",
              "      <td>17.00</td>\n",
              "      <td>435.30</td>\n",
              "    </tr>\n",
              "    <tr>\n",
              "      <th>ultra</th>\n",
              "      <td>75.10</td>\n",
              "      <td>55.80</td>\n",
              "      <td>19.80</td>\n",
              "      <td>541.40</td>\n",
              "    </tr>\n",
              "    <tr>\n",
              "      <th rowspan=\"2\" valign=\"top\">12</th>\n",
              "      <th>smart</th>\n",
              "      <td>66.50</td>\n",
              "      <td>36.00</td>\n",
              "      <td>18.20</td>\n",
              "      <td>478.60</td>\n",
              "    </tr>\n",
              "    <tr>\n",
              "      <th>ultra</th>\n",
              "      <td>83.30</td>\n",
              "      <td>60.60</td>\n",
              "      <td>21.70</td>\n",
              "      <td>592.80</td>\n",
              "    </tr>\n",
              "  </tbody>\n",
              "</table>\n",
              "</div>"
            ],
            "text/plain": [
              "                   count_duration  count_message  gb_used  sum_duration\n",
              "month tariff_name                                                      \n",
              "1     smart                 27.70          18.20     8.70        203.90\n",
              "      ultra                 59.40          33.80    13.20        428.10\n",
              "2     smart                 40.20          24.10    11.80        298.70\n",
              "      ultra                 41.50          22.00    12.00        297.10\n",
              "3     smart                 54.30          31.90    15.20        390.10\n",
              "      ultra                 67.70          32.30    17.60        489.60\n",
              "4     smart                 51.30          30.70    13.60        367.10\n",
              "      ultra                 64.10          31.60    17.00        458.00\n",
              "5     smart                 55.20          33.80    15.90        387.40\n",
              "      ultra                 72.50          37.90    19.40        510.30\n",
              "6     smart                 55.50          33.40    16.00        395.60\n",
              "      ultra                 66.70          41.70    18.90        479.70\n",
              "7     smart                 56.70          33.80    15.90        408.40\n",
              "      ultra                 75.80          49.80    20.50        545.80\n",
              "8     smart                 59.00          33.60    16.70        421.50\n",
              "      ultra                 71.30          48.40    19.60        510.80\n",
              "9     smart                 59.50          33.60    16.40        428.60\n",
              "      ultra                 74.60          52.30    19.20        539.40\n",
              "10    smart                 60.00          33.80    16.90        426.10\n",
              "      ultra                 77.40          58.40    20.10        558.10\n",
              "11    smart                 61.50          34.10    17.00        435.30\n",
              "      ultra                 75.10          55.80    19.80        541.40\n",
              "12    smart                 66.50          36.00    18.20        478.60\n",
              "      ultra                 83.30          60.60    21.70        592.80"
            ]
          },
          "execution_count": 20,
          "metadata": {},
          "output_type": "execute_result"
        }
      ],
      "source": [
        "round(data_revenue.pivot_table\n",
        "      (index=['month',\"tariff_name\"], \n",
        "       values=['count_duration','sum_duration','gb_used','count_message'], \n",
        "       aggfunc='mean'),1\n",
        ")#сводная таблица с информацией о чредних по месяцам и тарифам\n"
      ]
    },
    {
      "cell_type": "markdown",
      "metadata": {
        "id": "x8ipSVM5nVAo"
      },
      "source": [
        "Узннаем, сколько человек из имеющихся в таблице используют тариф **«Ультра»**, а сколько **«Смарт»**."
      ]
    },
    {
      "cell_type": "code",
      "execution_count": null,
      "metadata": {
        "scrolled": true,
        "id": "25HbnE1znVAo",
        "outputId": "5bdbe2b7-2abc-4301-b29c-a1c8793b8e65"
      },
      "outputs": [
        {
          "data": {
            "text/plain": [
              "148"
            ]
          },
          "metadata": {},
          "output_type": "display_data"
        },
        {
          "data": {
            "text/plain": [
              "\"для тарифа 'ultra'\""
            ]
          },
          "metadata": {},
          "output_type": "display_data"
        },
        {
          "data": {
            "text/plain": [
              "350"
            ]
          },
          "metadata": {},
          "output_type": "display_data"
        },
        {
          "data": {
            "text/plain": [
              "\"для тарифа 'smart'\""
            ]
          },
          "metadata": {},
          "output_type": "display_data"
        }
      ],
      "source": [
        "un_user_tariff = (data_revenue.pivot_table(index=['tariff_name','user_id'],\n",
        "                                           values='rub_per_minute', aggfunc='count')\n",
        "                  .reset_index()\n",
        ")#создание переменной для подсчета количества клиентов\n",
        "display(un_user_tariff.loc[un_user_tariff.tariff_name == 'ultra', 'tariff_name']\n",
        "        .count(), \"для тарифа 'ultra'\"\n",
        ")# вывод количества клиентов, которые используют тариф 'ultra'\n",
        "display(un_user_tariff.loc[un_user_tariff.tariff_name == 'smart', 'tariff_name']\n",
        "        .count(), \"для тарифа 'smart'\"\n",
        ")#вывод количества клиентов, которые используют тариф 'smart'"
      ]
    },
    {
      "cell_type": "markdown",
      "metadata": {
        "id": "1qtFcUR9nVAo"
      },
      "source": [
        "Пользователей тарифа **«Смарт»** намного больше, чем **«Ультра»**."
      ]
    },
    {
      "cell_type": "code",
      "execution_count": null,
      "metadata": {
        "id": "IqHqGp5UnVAo",
        "outputId": "5ed5c012-b2df-425b-ab55-ba3fc71f1f5d"
      },
      "outputs": [
        {
          "data": {
            "text/html": [
              "<div>\n",
              "<style scoped>\n",
              "    .dataframe tbody tr th:only-of-type {\n",
              "        vertical-align: middle;\n",
              "    }\n",
              "\n",
              "    .dataframe tbody tr th {\n",
              "        vertical-align: top;\n",
              "    }\n",
              "\n",
              "    .dataframe thead tr th {\n",
              "        text-align: left;\n",
              "    }\n",
              "\n",
              "    .dataframe thead tr:last-of-type th {\n",
              "        text-align: right;\n",
              "    }\n",
              "</style>\n",
              "<table border=\"1\" class=\"dataframe\">\n",
              "  <thead>\n",
              "    <tr>\n",
              "      <th></th>\n",
              "      <th colspan=\"4\" halign=\"left\">count_message</th>\n",
              "      <th colspan=\"4\" halign=\"left\">gb_used</th>\n",
              "      <th colspan=\"4\" halign=\"left\">sum_duration</th>\n",
              "    </tr>\n",
              "    <tr>\n",
              "      <th></th>\n",
              "      <th>mean</th>\n",
              "      <th>median</th>\n",
              "      <th>std</th>\n",
              "      <th>var</th>\n",
              "      <th>mean</th>\n",
              "      <th>median</th>\n",
              "      <th>std</th>\n",
              "      <th>var</th>\n",
              "      <th>mean</th>\n",
              "      <th>median</th>\n",
              "      <th>std</th>\n",
              "      <th>var</th>\n",
              "    </tr>\n",
              "    <tr>\n",
              "      <th>tariff_name</th>\n",
              "      <th></th>\n",
              "      <th></th>\n",
              "      <th></th>\n",
              "      <th></th>\n",
              "      <th></th>\n",
              "      <th></th>\n",
              "      <th></th>\n",
              "      <th></th>\n",
              "      <th></th>\n",
              "      <th></th>\n",
              "      <th></th>\n",
              "      <th></th>\n",
              "    </tr>\n",
              "  </thead>\n",
              "  <tbody>\n",
              "    <tr>\n",
              "      <th>smart</th>\n",
              "      <td>33.38</td>\n",
              "      <td>28.00</td>\n",
              "      <td>28.23</td>\n",
              "      <td>796.81</td>\n",
              "      <td>16.33</td>\n",
              "      <td>17.00</td>\n",
              "      <td>5.75</td>\n",
              "      <td>33.03</td>\n",
              "      <td>417.93</td>\n",
              "      <td>422.00</td>\n",
              "      <td>190.31</td>\n",
              "      <td>36,219.32</td>\n",
              "    </tr>\n",
              "    <tr>\n",
              "      <th>ultra</th>\n",
              "      <td>49.36</td>\n",
              "      <td>38.00</td>\n",
              "      <td>47.80</td>\n",
              "      <td>2,285.27</td>\n",
              "      <td>19.49</td>\n",
              "      <td>19.00</td>\n",
              "      <td>9.85</td>\n",
              "      <td>97.09</td>\n",
              "      <td>526.62</td>\n",
              "      <td>518.00</td>\n",
              "      <td>317.61</td>\n",
              "      <td>100,873.63</td>\n",
              "    </tr>\n",
              "  </tbody>\n",
              "</table>\n",
              "</div>"
            ],
            "text/plain": [
              "            count_message                       gb_used                    \\\n",
              "                     mean median   std      var    mean median  std   var   \n",
              "tariff_name                                                                 \n",
              "smart               33.38  28.00 28.23   796.81   16.33  17.00 5.75 33.03   \n",
              "ultra               49.36  38.00 47.80 2,285.27   19.49  19.00 9.85 97.09   \n",
              "\n",
              "            sum_duration                           \n",
              "                    mean median    std        var  \n",
              "tariff_name                                        \n",
              "smart             417.93 422.00 190.31  36,219.32  \n",
              "ultra             526.62 518.00 317.61 100,873.63  "
            ]
          },
          "execution_count": 22,
          "metadata": {},
          "output_type": "execute_result"
        }
      ],
      "source": [
        "from IPython.core.interactiveshell import InteractiveShell\n",
        "InteractiveShell.ast_node_interactivity = \"last_expr\"\n",
        "desc_stat = data_revenue.pivot_table(index=['tariff_name'], values=['sum_duration','count_message','gb_used'], \n",
        "                    aggfunc={'sum_duration': [np.median,np.mean, np.var, np.std],\n",
        "                             'count_message': [np.median,np.mean, np.var, np.std], \n",
        "                             'gb_used': [np.median,np.mean, np.var, np.std]})\n",
        "#создание сводной таблицы с информацией о средних, медианах, дисперсии и отклонениях\n",
        "desc_stat"
      ]
    },
    {
      "cell_type": "code",
      "execution_count": null,
      "metadata": {
        "scrolled": false,
        "id": "PHMQf0GXnVAp",
        "outputId": "eed7e01b-b34f-4858-f4d8-7714b4ec2a6c"
      },
      "outputs": [
        {
          "data": {
            "image/png": "[encoded data removed]",
            "text/plain": [
              "<Figure size 504x360 with 1 Axes>"
            ]
          },
          "metadata": {},
          "output_type": "display_data"
        }
      ],
      "source": [
        "sns.set_style(\"darkgrid\")\n",
        "plt.figure(figsize=(7,5))\n",
        "plt.title(\"sum_duration\", alpha=1, color=\"k\", fontsize=17, fontstyle=\"italic\", fontweight=\"bold\", linespacing=10)\n",
        "plt.xlabel(\"month\",fontsize=12)\n",
        "plt.ylabel(\"mean_sum_duration\",fontsize=12)\n",
        "plt.plot(data_revenue[data_revenue[\"tariff_name\"] == \"ultra\"].pivot_table(index='month', values='sum_duration', aggfunc='mean'), '-ok')\n",
        "plt.plot(data_revenue[data_revenue[\"tariff_name\"] == \"smart\"].pivot_table(index='month', values='sum_duration', aggfunc='mean'), '-ob')\n",
        "plt.legend(['ultra', 'smart'],loc=4,)\n",
        "plt.grid('m')#Построение графика для анализа телефонных разговоров"
      ]
    },
    {
      "cell_type": "markdown",
      "metadata": {
        "id": "tf9h7GHZnVAp"
      },
      "source": [
        "На графике видно, что общая тенденция телефонных разговоров ведет к росту для обоих тарифов. Самая большая разница между тарифами в январе. Во втором месяце среднее продолжительности звонков примерно одинакова. \n",
        "<br>Добавим для наглядности к данному графику линии с суммой минут, которые включены в тарифные планы."
      ]
    },
    {
      "cell_type": "code",
      "execution_count": null,
      "metadata": {
        "scrolled": false,
        "id": "z-TVdd0CnVAp",
        "outputId": "4a0e9687-3d2b-453e-aaa2-aa60d028a21d"
      },
      "outputs": [
        {
          "data": {
            "image/png": "[encoded data removed]",
            "text/plain": [
              "<Figure size 504x360 with 1 Axes>"
            ]
          },
          "metadata": {},
          "output_type": "display_data"
        }
      ],
      "source": [
        "plt.figure(figsize=(7,5))\n",
        "plt.title(\"sum_duration\", alpha=1, color=\"k\", fontsize=17, fontstyle=\"italic\", fontweight=\"bold\", linespacing=10)\n",
        "plt.xlabel(\"month\",fontsize=12)\n",
        "plt.ylabel(\"mean_sum_duration\",fontsize=12)\n",
        "plt.plot(data_revenue[data_revenue[\"tariff_name\"] == \"ultra\"].pivot_table(index='month', values='sum_duration', aggfunc='mean'), '-ok')\n",
        "plt.plot(data_revenue[data_revenue[\"tariff_name\"] == \"smart\"].pivot_table(index='month', values='sum_duration', aggfunc='mean'), '-ob')\n",
        "plt.plot(data_revenue[data_revenue[\"tariff_name\"] == \"smart\"].pivot_table(index='month', values='minutes_included', aggfunc='mean'), '-oc')\n",
        "plt.plot(data_revenue[data_revenue[\"tariff_name\"] == \"ultra\"].pivot_table(index='month', values='minutes_included', aggfunc='mean'), '-o',color = 'navy')\n",
        "plt.legend(['ultra', 'smart','include_smart','include_ultra'],loc=5,)\n",
        "plt.grid('m') #Построение графика для анализа телефонных разговоров\n"
      ]
    },
    {
      "cell_type": "markdown",
      "metadata": {
        "id": "ksUO6wvTnVAp"
      },
      "source": [
        "На графике видно, что по средним значениям нет превышений включенных в тариф лимитов по минутам. "
      ]
    },
    {
      "cell_type": "code",
      "execution_count": null,
      "metadata": {
        "scrolled": true,
        "id": "kt1wyEtHnVAp",
        "outputId": "afc92e93-bd61-4256-b549-0abf33996d76"
      },
      "outputs": [
        {
          "data": {
            "image/png": "[encoded data removed]",
            "text/plain": [
              "<Figure size 360x360 with 1 Axes>"
            ]
          },
          "metadata": {},
          "output_type": "display_data"
        }
      ],
      "source": [
        "sns.catplot(x=\"tariff_name\", y = 'sum_duration', kind=\"box\", data=data_revenue, palette ='dark')\n",
        "plt.show()\n",
        "#Диаграмма размаха"
      ]
    },
    {
      "cell_type": "code",
      "execution_count": null,
      "metadata": {
        "id": "2HoLW4LInVAp",
        "outputId": "d58bc72e-30ff-4d0d-b6ab-bdc30d819b3a"
      },
      "outputs": [
        {
          "data": {
            "image/png": "[encoded data removed]",
            "text/plain": [
              "<Figure size 720x360 with 1 Axes>"
            ]
          },
          "metadata": {},
          "output_type": "display_data"
        }
      ],
      "source": [
        "data_revenue.query('tariff_name == \"ultra\"')['sum_duration'].plot(bins=39, kind='hist', figsize=(15, 5), label='_smart',alpha=1)\n",
        "data_revenue.query('tariff_name == \"smart\"')['sum_duration'].plot(bins=39, kind='hist', figsize=(10, 5), label='_smart', alpha=0.5)\n",
        "plt.legend(['ultra', 'smart'])\n",
        "plt.show()"
      ]
    },
    {
      "cell_type": "markdown",
      "metadata": {
        "id": "BV1vwV7gnVAq"
      },
      "source": [
        "На диаграммах размаха видно, что по звонкам выбросы в основном бывают в тарифе **«Смарт»**, видимо не всем хватает включенных в него лимитов по звонкам, но в общем медианное значение в тарифе **«Ультра»** больше, чем  в **«Смарт»** и составляет 518 минут, против 422 минут у **«Смарт»**-а. Средние значения 418 для тарифа **«Смарт»** и 527 для тарифа **«Ультра»**.Стандартное отклонение и дисперсия по тарифу **«Смарт»** составили 190 и 36219 соответственно, по тарифу **«Ультра»** 318 и 100874. \n",
        "<br> На гистограмме мы видим, что данные по звонкам пользователей по тарифу **«Смарт»** имеют скошенность влево. По тарифу **«Ультра»** так же имеется отрицательная скошенность, но менее вырашенная. Данные по тарифу **«Ультра»** имеют более выраженый хвост в районе, остальные данные имеют более однородное распределение.\n",
        "<br> Рассмотрим интернет-трафик."
      ]
    },
    {
      "cell_type": "code",
      "execution_count": null,
      "metadata": {
        "scrolled": false,
        "id": "h-zRxZsknVAq",
        "outputId": "05489c8c-b2e2-4a07-c0e3-12ee881cbecd"
      },
      "outputs": [
        {
          "data": {
            "image/png": "[encoded data removed]",
            "text/plain": [
              "<Figure size 504x360 with 1 Axes>"
            ]
          },
          "metadata": {},
          "output_type": "display_data"
        }
      ],
      "source": [
        "plt.figure(figsize=(7,5))\n",
        "plt.title(\"gb_used\", alpha=1, color=\"k\", fontsize=17, fontstyle=\"italic\", fontweight=\"bold\", linespacing=10)\n",
        "plt.xlabel(\"month\",fontsize=12)\n",
        "plt.ylabel(\"mean_gb_used\",fontsize=12)\n",
        "plt.plot(data_revenue[data_revenue[\"tariff_name\"] == \"ultra\"].pivot_table(index='month', values='gb_used', aggfunc='mean'), '-ok')\n",
        "plt.plot(data_revenue[data_revenue[\"tariff_name\"] == \"smart\"].pivot_table(index='month', values='gb_used', aggfunc='mean'), '-ob')\n",
        "plt.legend(['ultra', 'smart'],loc=4,)\n",
        "plt.grid('m')#Построение графика для анализа  использования интрнет-трафика"
      ]
    },
    {
      "cell_type": "markdown",
      "metadata": {
        "id": "1NoYkl-JnVAq"
      },
      "source": [
        "Как и в случае со звонками, использование интернета имеет тенденцию к росту по обоим тарифам. Добавим к графику линии с включенными в тариф лимитами интернет-трафика. "
      ]
    },
    {
      "cell_type": "code",
      "execution_count": null,
      "metadata": {
        "scrolled": true,
        "id": "mA-SaNq3nVAq",
        "outputId": "e6f44625-3a01-4082-9bb1-73486f89d582"
      },
      "outputs": [
        {
          "data": {
            "image/png": "[encoded data removed]",
            "text/plain": [
              "<Figure size 504x360 with 1 Axes>"
            ]
          },
          "metadata": {},
          "output_type": "display_data"
        }
      ],
      "source": [
        "plt.figure(figsize=(7,5))\n",
        "plt.title(\"gb_used\", alpha=1, color=\"k\", fontsize=17, fontstyle=\"italic\", fontweight=\"bold\", linespacing=10)\n",
        "plt.xlabel(\"month\",fontsize=12)\n",
        "plt.ylabel(\"mean_gb_used\",fontsize=12)\n",
        "plt.plot(data_revenue[data_revenue[\"tariff_name\"] == \"ultra\"].pivot_table(index='month', values='gb_used', aggfunc='mean'), '-ok')\n",
        "plt.plot(data_revenue[data_revenue[\"tariff_name\"] == \"smart\"].pivot_table(index='month', values='gb_used', aggfunc='mean'), '-ob')\n",
        "plt.plot(data_revenue[data_revenue[\"tariff_name\"] == \"smart\"].pivot_table(index='month', values='gb_per_month_included', aggfunc='mean'), '-oc')\n",
        "plt.plot(data_revenue[data_revenue[\"tariff_name\"] == \"ultra\"].pivot_table(index='month', values='gb_per_month_included', aggfunc='mean'), '-om')\n",
        "\n",
        "plt.legend(['ultra', 'smart','include_smart','include_ultra'],loc=4,)\n",
        "plt.grid('m')#Построение графика для анализа  использования интрнет-трафика"
      ]
    },
    {
      "cell_type": "markdown",
      "metadata": {
        "id": "T-r3eQWjnVAr"
      },
      "source": [
        "По тарифу **«Смарт»** почти весь год пользователи использую больше трафика, чем предоставляет им тариф. По тарифу **«Ультра»** превышений нет."
      ]
    },
    {
      "cell_type": "code",
      "execution_count": null,
      "metadata": {
        "scrolled": false,
        "id": "LQiR_JDrnVAr",
        "outputId": "8e267414-d98d-4fd4-8c1c-a0aeaa2b3146"
      },
      "outputs": [
        {
          "data": {
            "image/png": "[encoded data removed]",
            "text/plain": [
              "<Figure size 360x360 with 1 Axes>"
            ]
          },
          "metadata": {},
          "output_type": "display_data"
        }
      ],
      "source": [
        "sns.catplot(x=\"tariff_name\", y = 'gb_used', kind=\"box\", data=data_revenue,palette ='dark')\n",
        "# диаграмма размаха\n",
        "plt.show()"
      ]
    },
    {
      "cell_type": "code",
      "execution_count": null,
      "metadata": {
        "id": "DIYBAvTAnVAr",
        "outputId": "1f775446-7c85-4d9f-aca9-d779de2e38cd"
      },
      "outputs": [
        {
          "data": {
            "image/png": "[encoded data removed]",
            "text/plain": [
              "<Figure size 720x360 with 1 Axes>"
            ]
          },
          "metadata": {},
          "output_type": "display_data"
        }
      ],
      "source": [
        "data_revenue.query('tariff_name == \"ultra\"')['gb_used'].plot(bins=39, kind='hist', figsize=(15, 5), label='_ultra',alpha=1)\n",
        "data_revenue.query('tariff_name == \"smart\"')['gb_used'].plot(bins=39, kind='hist', figsize=(10, 5), label='_smart', alpha=0.5)\n",
        "plt.legend(['ultra', 'smart'])\n",
        "plt.show()"
      ]
    },
    {
      "cell_type": "markdown",
      "metadata": {
        "id": "yJJVe01GnVAr"
      },
      "source": [
        "На диаграмме размаха видно, что выбросы есть только по тарифу **«Смарт»**, что подтверждает то, что включенного в тариф интернет-лимита не хватает пользователям. Средние для Интернет-трафика тарифа **«Ультра»** составляет 19,5 Гб, а медиана 19 Гб. Разница совсем не большая. Для тарифа **«Смарт»** среднее и медиана составили 16.3 и 17.0 соответственно(при включенных в тариф 15 Гб). Дисперсия и стандартное отклонение для тарифа **«Ультра»** равны 97.1 и 9.9,  а для тарифа **«Смарт»** 33 и 5.8.\n",
        "<br> Благодаря гистограмме, мы видим, что распределение информации по изпользованным Гигабайтам трафика в тарифе **«Смарт»** имеет норальное распределение, возможно, с небольшим отрицательным скосом. По тарифу **«Ультра»** мы можем наблюдать *Мультимодальность*, т.е. мы видим несколько явных пиков и впадин по гистограмме.\n",
        "<br> Приступим к анализу среднего количества СМС-сообщений."
      ]
    },
    {
      "cell_type": "code",
      "execution_count": null,
      "metadata": {
        "scrolled": true,
        "id": "xXOpbDaDnVAr",
        "outputId": "4fa904d6-543f-49ba-9f5c-5b11c5d25c2a"
      },
      "outputs": [
        {
          "data": {
            "image/png": "[encoded data removed]",
            "text/plain": [
              "<Figure size 504x360 with 1 Axes>"
            ]
          },
          "metadata": {},
          "output_type": "display_data"
        }
      ],
      "source": [
        "plt.figure(figsize=(7,5))\n",
        "plt.title(\"count_message\", alpha=1, color=\"k\", fontsize=17, fontstyle=\"italic\", fontweight=\"bold\", linespacing=10)\n",
        "plt.xlabel(\"month\",fontsize=12)\n",
        "plt.ylabel(\"mean_count_message_used\",fontsize=12)\n",
        "plt.plot(data_revenue[data_revenue[\"tariff_name\"] == \"ultra\"].pivot_table(index='month', values='count_message', aggfunc='mean'), '-ok')\n",
        "plt.plot(data_revenue[data_revenue[\"tariff_name\"] == \"smart\"].pivot_table(index='month', values='count_message', aggfunc='mean'), '-ob')\n",
        "plt.legend(['ultra', 'smart'],loc=4,)\n",
        "plt.grid('m') #Построение графика для анализа смс-сообщений"
      ]
    },
    {
      "cell_type": "markdown",
      "metadata": {
        "id": "MIJfaI15nVAr"
      },
      "source": [
        "Как и в случае с интернетом и звонками, СМС-сообщения имеют тенденцию роста средних значений, не смотря на то, что СМС-сообщения уже не так популярны как были раньше. При этом для тарифа **«Ультра»** рост более крутой, чем по тарифу **«Смарт»** и начинается он с Апреля месяца. Добавим к графику линии с обозначением границ лимита по тарифным планам оператора."
      ]
    },
    {
      "cell_type": "code",
      "execution_count": null,
      "metadata": {
        "scrolled": false,
        "id": "klCeOSEUnVAr",
        "outputId": "c8a86f4b-0500-4831-ae74-d1fa230d1214"
      },
      "outputs": [
        {
          "data": {
            "image/png": "[encoded data removed]",
            "text/plain": [
              "<Figure size 504x360 with 1 Axes>"
            ]
          },
          "metadata": {},
          "output_type": "display_data"
        }
      ],
      "source": [
        "plt.figure(figsize=(7,5))\n",
        "plt.title(\"count_message\", alpha=1, color=\"k\", fontsize=17, fontstyle=\"italic\", fontweight=\"bold\", linespacing=10)\n",
        "plt.xlabel(\"month\",fontsize=12)\n",
        "plt.ylabel(\"mean_count_message_used\",fontsize=12)\n",
        "plt.plot(data_revenue[data_revenue[\"tariff_name\"] == \"ultra\"].pivot_table(index='month', values='count_message', aggfunc='mean'), '-ok')\n",
        "plt.plot(data_revenue[data_revenue[\"tariff_name\"] == \"smart\"].pivot_table(index='month', values='count_message', aggfunc='mean'), '-ob')\n",
        "plt.plot(data_revenue[data_revenue[\"tariff_name\"] == \"smart\"].pivot_table(index='month', values='messages_included', aggfunc='mean'), '-oc')\n",
        "plt.plot(data_revenue[data_revenue[\"tariff_name\"] == \"ultra\"].pivot_table(index='month', values='messages_included', aggfunc='mean'), '-om')\n",
        "\n",
        "plt.legend(['ultra', 'smart','include_smart','include_ultra'],loc=5)\n",
        "plt.grid('m') #Построение графика для анализа смс-сообщений"
      ]
    },
    {
      "cell_type": "markdown",
      "metadata": {
        "id": "CVmBwjdenVAr"
      },
      "source": [
        "Средние значения по отправке СМС-сообщений как в тарифе **«Смарт»**, так и **«Ультра»** не превышают предоставленные лимиты. Посмотрим, что покажет нам диаграмма размаха."
      ]
    },
    {
      "cell_type": "code",
      "execution_count": null,
      "metadata": {
        "scrolled": true,
        "id": "2l-q7e3snVAr",
        "outputId": "50087b8e-f7ea-4314-82c1-975adb74277b"
      },
      "outputs": [
        {
          "data": {
            "image/png": "[encoded data removed]",
            "text/plain": [
              "<Figure size 360x360 with 1 Axes>"
            ]
          },
          "metadata": {},
          "output_type": "display_data"
        }
      ],
      "source": [
        "sns.catplot(x=\"tariff_name\", y = 'count_message', kind=\"box\", data=data_revenue,palette ='dark')\n",
        "plt.show()"
      ]
    },
    {
      "cell_type": "code",
      "execution_count": null,
      "metadata": {
        "id": "rg1YjggInVAs",
        "outputId": "1684b6e6-ed2e-4d1e-d103-2184b2ccc91f"
      },
      "outputs": [
        {
          "data": {
            "image/png": "[encoded data removed]",
            "text/plain": [
              "<Figure size 720x360 with 1 Axes>"
            ]
          },
          "metadata": {},
          "output_type": "display_data"
        }
      ],
      "source": [
        "data_revenue.query('tariff_name == \"ultra\"')['count_message'].plot(bins=39, kind='hist', figsize=(15, 5), label='_smart',alpha=1)\n",
        "data_revenue.query('tariff_name == \"smart\"')['count_message'].plot(bins=39, kind='hist', figsize=(10, 5), label='_ultra', alpha=0.5)\n",
        "plt.legend(['ultra', 'smart'])\n",
        "plt.show()"
      ]
    },
    {
      "cell_type": "markdown",
      "metadata": {
        "id": "5eOJZMu_nVAs"
      },
      "source": [
        "Медианные значения тарифов **«Ультра»** и **«Смарт»** составляют 38 и 28 соответственно. На диаграмме видно, что имеются выбросы, особенно их много в тарифе **«Смарт»**, где бесплатно предоставлено только 50 СМС в месяц. Среднее значение в тарифе **«Ультра»** составляет 49.4, а стандартное отклонение и дисперсия равны 47.8 и 2285.3. Для тарифа **«Смарт»** среднее равно 33.4, а стандартное отклонение и дисперсия 28.2 и 796.8.\n",
        "<br> По гистограмме, мы видим что для обоих тарифов имеется пик в значении ноль. Смс пользуются кже не так часто. Далее по обоим тарифам гистограмма идет на спад."
      ]
    },
    {
      "cell_type": "markdown",
      "metadata": {
        "id": "36li2ib-nVAs"
      },
      "source": [
        "### Вывод"
      ]
    },
    {
      "cell_type": "markdown",
      "metadata": {
        "id": "yIa9nS7dnVAs"
      },
      "source": [
        "В общем использование услуг оператора имеет тенденцию к росту в течении всего года, кроме Февраля месяца, возможно малое количество дней в Феврале дает небольшую просадку. Больше пользователей у тарифа **«Смарт»**, скорее всего из-за того, что фиксированная цена на этот тариф намного меньше, чем у тарифа **«Ультра»**, однако и превышение лимитов у тарифа **«Смарт»** намного больше, что ведет к дополнительным затратам на услуги сверх-лимита. <br>Найденные нами дисперсии и стандартное отклонение по тарифу **«Ультра»** гораздо больше, чем  у тарифа **«Смарт»**. Возможно, при включении в фиксированный пакет большого количества СМС, звонков и Интернет-трафика пользователям тарифа **«Ультра»** дает большую свободу для действий, когда маленькие лимиты тарифа **«Смарт»** заставляют думать о каждом совершенном действии."
      ]
    },
    {
      "cell_type": "markdown",
      "metadata": {
        "id": "BXZuPovTnVAt"
      },
      "source": [
        " ## Проверка гипотез"
      ]
    },
    {
      "cell_type": "markdown",
      "metadata": {
        "id": "_kejKRL7nVAt"
      },
      "source": [
        "### Гипотеза №1: Средняя выручка тарифов «Ультра» и «Смарт» равна."
      ]
    },
    {
      "cell_type": "markdown",
      "metadata": {
        "id": "RpIslWMWnVAt"
      },
      "source": [
        "Сформулируем гипотезы о равенстве средней выручки по тарифам оператора. \n",
        "Из-за того, что нулевая гипотеза H₀ всегда формулируется так, чтобы использовать знак равенства, *H₀* будет звучать так:\n",
        " - Средняя выручка тарифов **«Ультра»** и **«Смарт»** равна.\n",
        "<br>*H₁*  будет звучать иначе:\n",
        " - Средняя выручка тарифов **«Ультра»** и **«Смарт»**  не равна.\n",
        "Зададим критический уровень статистической значимости в 0,025, а так как количество пользователей тарифов различается, применим параметр `equal_var = False`."
      ]
    },
    {
      "cell_type": "code",
      "execution_count": null,
      "metadata": {
        "scrolled": true,
        "id": "X-QftvjEnVAt",
        "outputId": "6f0d8128-901a-4ac2-f32b-045f57e74256"
      },
      "outputs": [
        {
          "name": "stdout",
          "output_type": "stream",
          "text": [
            "p-значение: 4.2606313931076085e-250\n",
            "Отвергаем нулевую гипотезу\n"
          ]
        }
      ],
      "source": [
        "ultra = data_revenue.query('tariff_name == \"ultra\"')['total_price'] \n",
        "#создание  среза для тарифа Ультра\n",
        "smart = data_revenue.query('tariff_name == \"smart\"')['total_price']\n",
        "#создание  среза для тарифа Смарт\n",
        "alpha = .025 #критический уровень статистической значимости\n",
        "results = st.ttest_ind(\n",
        "    ultra, \n",
        "    smart,equal_var = False)#проверяем гипотезу о равенстве средних двух совокупностей\n",
        "print('p-значение:', results.pvalue)\n",
        "\n",
        "if results.pvalue < alpha:\n",
        "    print(\"Отвергаем нулевую гипотезу\") \n",
        "else:\n",
        "    print(\"Не получилось отвергнуть нулевую гипотезу\") "
      ]
    },
    {
      "cell_type": "markdown",
      "metadata": {
        "id": "7VZj1JOYnVAt"
      },
      "source": [
        "Итак, мы отвергаем нулевую теорию, выведем средние значения выручки по тарифам и сравним их визуально."
      ]
    },
    {
      "cell_type": "code",
      "execution_count": null,
      "metadata": {
        "scrolled": true,
        "id": "CTKxNKqpnVAt",
        "outputId": "d0799111-806f-4014-ea87-c300f8585abc"
      },
      "outputs": [
        {
          "data": {
            "text/html": [
              "<div>\n",
              "<style scoped>\n",
              "    .dataframe tbody tr th:only-of-type {\n",
              "        vertical-align: middle;\n",
              "    }\n",
              "\n",
              "    .dataframe tbody tr th {\n",
              "        vertical-align: top;\n",
              "    }\n",
              "\n",
              "    .dataframe thead tr th {\n",
              "        text-align: left;\n",
              "    }\n",
              "\n",
              "    .dataframe thead tr:last-of-type th {\n",
              "        text-align: right;\n",
              "    }\n",
              "</style>\n",
              "<table border=\"1\" class=\"dataframe\">\n",
              "  <thead>\n",
              "    <tr>\n",
              "      <th></th>\n",
              "      <th>mean</th>\n",
              "      <th>median</th>\n",
              "      <th>var</th>\n",
              "      <th>std</th>\n",
              "    </tr>\n",
              "    <tr>\n",
              "      <th></th>\n",
              "      <th>total_price</th>\n",
              "      <th>total_price</th>\n",
              "      <th>total_price</th>\n",
              "      <th>total_price</th>\n",
              "    </tr>\n",
              "    <tr>\n",
              "      <th>tariff_name</th>\n",
              "      <th></th>\n",
              "      <th></th>\n",
              "      <th></th>\n",
              "      <th></th>\n",
              "    </tr>\n",
              "  </thead>\n",
              "  <tbody>\n",
              "    <tr>\n",
              "      <th>smart</th>\n",
              "      <td>1,289.97</td>\n",
              "      <td>1023</td>\n",
              "      <td>669,785.71</td>\n",
              "      <td>818.40</td>\n",
              "    </tr>\n",
              "    <tr>\n",
              "      <th>ultra</th>\n",
              "      <td>2,070.15</td>\n",
              "      <td>1950</td>\n",
              "      <td>141,516.75</td>\n",
              "      <td>376.19</td>\n",
              "    </tr>\n",
              "  </tbody>\n",
              "</table>\n",
              "</div>"
            ],
            "text/plain": [
              "                   mean      median         var         std\n",
              "            total_price total_price total_price total_price\n",
              "tariff_name                                                \n",
              "smart          1,289.97        1023  669,785.71      818.40\n",
              "ultra          2,070.15        1950  141,516.75      376.19"
            ]
          },
          "execution_count": 37,
          "metadata": {},
          "output_type": "execute_result"
        }
      ],
      "source": [
        "data_revenue.pivot_table(index='tariff_name', values='total_price', \n",
        "                    aggfunc=[np.mean, np.median, np.var, np.std])\n"
      ]
    },
    {
      "cell_type": "markdown",
      "metadata": {
        "id": "v5tOoiUEnVAu"
      },
      "source": [
        "Мы видим, что средняя выручка по тарифу **«Ультра»** больше, чем по тарифу **«Смарт»** и составляет 2070, против 1290."
      ]
    },
    {
      "cell_type": "code",
      "execution_count": null,
      "metadata": {
        "scrolled": false,
        "id": "TheyVtAPnVAu",
        "outputId": "ed78471e-2a98-429d-ab40-efc115726978"
      },
      "outputs": [
        {
          "data": {
            "image/png": "[encoded data removed]",
            "text/plain": [
              "<Figure size 360x360 with 1 Axes>"
            ]
          },
          "metadata": {},
          "output_type": "display_data"
        }
      ],
      "source": [
        "sns.catplot(x=\"tariff_name\", y = 'total_price', kind=\"box\", data=data_revenue, palette ='dark')\n",
        "plt.show()"
      ]
    },
    {
      "cell_type": "markdown",
      "metadata": {
        "id": "tiimXmQnnVAu"
      },
      "source": [
        "На диаграмме мы видим, что по тарифу **«Ультра»** отклонения от фиксированной цены по тарифу минимальны, имеются некоторые выбросы до 5 000. По тарифу **«Смарт»** разброс более велик и так же имеются выбросы до 6 000."
      ]
    },
    {
      "cell_type": "markdown",
      "metadata": {
        "id": "ZskfMxBXnVAu"
      },
      "source": [
        "### Гипотеза №2: Средняя выручка пользователей из Москвы равна выручке пользователей из других регионов."
      ]
    },
    {
      "cell_type": "markdown",
      "metadata": {
        "id": "Va95MJENnVAu"
      },
      "source": [
        "Сформулируем гипотезы о равенстве средней выручки клиентов оператора в городе Москва и прочих регионах. \n",
        "*H₀* будет звучать так:\n",
        " - Средняя выручка пользователей из Москвы равна выручке пользователей из других регионов.\n",
        "<br>*H₁*  будет звучать иначе:\n",
        " - Средняя выручка пользователей из Москвы  не равна выручке пользователей из других регионов.\n",
        "Зададим критический уровень статистической значимости в 0,025."
      ]
    },
    {
      "cell_type": "code",
      "execution_count": null,
      "metadata": {
        "id": "0fwiIwicnVAu",
        "outputId": "5a16cd48-bca8-48f8-b2b0-4dfefd8f44e0"
      },
      "outputs": [
        {
          "name": "stdout",
          "output_type": "stream",
          "text": [
            "p-значение: 0.5440152911670224\n",
            "Не получилось отвергнуть нулевую гипотезу\n"
          ]
        }
      ],
      "source": [
        "moscow = data_revenue.query('city == \"Москва\"')['total_price']\n",
        "#создание  среза для МСК\n",
        "other_city = data_revenue.query('city != \"Москва\"')['total_price']\n",
        "#создание  среза для прочих регионов\n",
        "alpha = .025 #критический уровень статистической значимости\n",
        "results = st.ttest_ind(\n",
        "    moscow, \n",
        "    other_city)#проверяем гипотезу о равенстве средних двух совокупностей\n",
        "print('p-значение:', results.pvalue)\n",
        "\n",
        "if results.pvalue < alpha:\n",
        "    print(\"Отвергаем нулевую гипотезу\")\n",
        "else:\n",
        "    print(\"Не получилось отвергнуть нулевую гипотезу\")"
      ]
    },
    {
      "cell_type": "markdown",
      "metadata": {
        "id": "jAa9VKSsnVAu"
      },
      "source": [
        "Нулевую гипотезу отвергнуть не удалось. P-значение составило 54%, что значительно выше 2,5%, которые мы использовали для определения уровня критической значимости. Это значит, что средняя выручка по Москве статистически значимо не отличается от средней выручки по другим регионам. Посмотрим наглядно среднюю выручку по городу Москва и другим городам. Для этого создадим функцию, которая добавит столбец с группировкой по городу."
      ]
    },
    {
      "cell_type": "code",
      "execution_count": null,
      "metadata": {
        "id": "pfH2SQiynVAv",
        "outputId": "b2036d07-5970-4281-d31b-faaa113b9494"
      },
      "outputs": [
        {
          "data": {
            "text/html": [
              "<div>\n",
              "<style scoped>\n",
              "    .dataframe tbody tr th:only-of-type {\n",
              "        vertical-align: middle;\n",
              "    }\n",
              "\n",
              "    .dataframe tbody tr th {\n",
              "        vertical-align: top;\n",
              "    }\n",
              "\n",
              "    .dataframe thead tr th {\n",
              "        text-align: left;\n",
              "    }\n",
              "\n",
              "    .dataframe thead tr:last-of-type th {\n",
              "        text-align: right;\n",
              "    }\n",
              "</style>\n",
              "<table border=\"1\" class=\"dataframe\">\n",
              "  <thead>\n",
              "    <tr>\n",
              "      <th></th>\n",
              "      <th>mean</th>\n",
              "      <th>median</th>\n",
              "      <th>var</th>\n",
              "      <th>std</th>\n",
              "    </tr>\n",
              "    <tr>\n",
              "      <th></th>\n",
              "      <th>total_price</th>\n",
              "      <th>total_price</th>\n",
              "      <th>total_price</th>\n",
              "      <th>total_price</th>\n",
              "    </tr>\n",
              "    <tr>\n",
              "      <th>group_city</th>\n",
              "      <th></th>\n",
              "      <th></th>\n",
              "      <th></th>\n",
              "      <th></th>\n",
              "    </tr>\n",
              "  </thead>\n",
              "  <tbody>\n",
              "    <tr>\n",
              "      <th>Другие города</th>\n",
              "      <td>1,524.94</td>\n",
              "      <td>1583</td>\n",
              "      <td>654,137.63</td>\n",
              "      <td>808.79</td>\n",
              "    </tr>\n",
              "    <tr>\n",
              "      <th>Москва</th>\n",
              "      <td>1,546.71</td>\n",
              "      <td>1750</td>\n",
              "      <td>565,636.47</td>\n",
              "      <td>752.09</td>\n",
              "    </tr>\n",
              "  </tbody>\n",
              "</table>\n",
              "</div>"
            ],
            "text/plain": [
              "                     mean      median         var         std\n",
              "              total_price total_price total_price total_price\n",
              "group_city                                                   \n",
              "Другие города    1,524.94        1583  654,137.63      808.79\n",
              "Москва           1,546.71        1750  565,636.47      752.09"
            ]
          },
          "execution_count": 41,
          "metadata": {},
          "output_type": "execute_result"
        }
      ],
      "source": [
        "def city(i): #создание функции\n",
        "    if i == 'Москва': \n",
        "        return 'Москва'\n",
        "    else: \n",
        "        return 'Другие города'\n",
        "data_revenue['group_city'] = data_revenue['city'].apply(city)\n",
        "\n",
        "city_stst = data_revenue.pivot_table(index=['group_city'], values='total_price', \n",
        "                    aggfunc= [np.mean, np.median, np.var, np.std])#создание сводной таблицы\n",
        "city_stst #вывод на экран"
      ]
    },
    {
      "cell_type": "markdown",
      "metadata": {
        "id": "sE2sqI4rnVAv"
      },
      "source": [
        "Итак, мы видим, что средние значения выручки по группировке по Москве и прочим городам и правда не сильно различаются, буквально в 22 рубля. "
      ]
    },
    {
      "cell_type": "code",
      "execution_count": null,
      "metadata": {
        "scrolled": true,
        "id": "xywNXHRMnVAv",
        "outputId": "64f01237-44d1-4ec1-9553-5856a3be6ea1"
      },
      "outputs": [
        {
          "data": {
            "image/png": "[encoded data removed]",
            "text/plain": [
              "<Figure size 360x360 with 1 Axes>"
            ]
          },
          "metadata": {},
          "output_type": "display_data"
        }
      ],
      "source": [
        "sns.catplot(x=\"group_city\", y = 'total_price', kind=\"box\", data=data_revenue, palette ='dark')\n",
        "plt.show()"
      ]
    },
    {
      "cell_type": "markdown",
      "metadata": {
        "id": "sSTUDOIsnVAv"
      },
      "source": [
        "Медиана по городу Москва немного больше, чем в других городах, однако выбросы в регионах встречаются чаще."
      ]
    },
    {
      "cell_type": "markdown",
      "metadata": {
        "id": "XUeVYBO5nVAv"
      },
      "source": [
        "## Вывод"
      ]
    },
    {
      "cell_type": "markdown",
      "metadata": {
        "id": "zc0kci93nVAw"
      },
      "source": [
        "По общим результатам анализа можно выделить несколько пунктов, которые хотелось бы отметить.\n",
        " - Прослеживаются тенденции к росту по всем услугам и тарифам оператора.\n",
        " - Лимиты тарифа **«Смарт»** довольно малы, и пользователям не хватает их для комфортного использования.\n",
        " - Средняя выручка тарифов **«Ультра»** и **«Смарт»**  не равны. У тарифа **«Ультра»** она больше и составляет 2070 руб.\n",
        " - Средняя выручка пользователей из Москвы равна выручке пользователей из других регионов.\n",
        "<br>Исходя из некоторых выводов, сделанных выше, я бы порекомендовала оператору, возможно, разработать новый, промежуточный, тариф. Это поможет имеющимся клиентам почувствовать себя более комфортно и возможно, привлечет новых клиентов."
      ]
    }
  ],
  "metadata": {
    "ExecuteTimeLog": [
      {
        "duration": 485,
        "start_time": "2022-06-06T13:16:50.425Z"
      },
      {
        "duration": 323,
        "start_time": "2022-06-06T13:18:23.370Z"
      },
      {
        "duration": 180,
        "start_time": "2022-06-06T13:18:41.482Z"
      },
      {
        "duration": 45,
        "start_time": "2022-06-06T13:19:00.227Z"
      },
      {
        "duration": 403,
        "start_time": "2022-06-06T13:20:41.530Z"
      },
      {
        "duration": 22,
        "start_time": "2022-06-06T13:20:49.294Z"
      },
      {
        "duration": 341,
        "start_time": "2022-06-06T13:24:38.212Z"
      },
      {
        "duration": 33,
        "start_time": "2022-06-06T13:24:40.651Z"
      },
      {
        "duration": 20,
        "start_time": "2022-06-06T13:24:54.813Z"
      },
      {
        "duration": 83,
        "start_time": "2022-06-06T13:25:35.864Z"
      },
      {
        "duration": 14,
        "start_time": "2022-06-06T13:25:49.391Z"
      },
      {
        "duration": 98,
        "start_time": "2022-06-06T13:26:22.194Z"
      },
      {
        "duration": 13,
        "start_time": "2022-06-06T13:27:38.323Z"
      },
      {
        "duration": 185,
        "start_time": "2022-06-06T13:32:20.890Z"
      },
      {
        "duration": 177,
        "start_time": "2022-06-06T13:32:25.853Z"
      },
      {
        "duration": 121,
        "start_time": "2022-06-06T13:32:41.761Z"
      },
      {
        "duration": 32,
        "start_time": "2022-06-06T13:32:50.984Z"
      },
      {
        "duration": 43,
        "start_time": "2022-06-06T13:33:04.785Z"
      },
      {
        "duration": 78,
        "start_time": "2022-06-07T13:30:13.363Z"
      },
      {
        "duration": 485,
        "start_time": "2022-06-07T13:30:21.162Z"
      },
      {
        "duration": 358,
        "start_time": "2022-06-07T13:30:21.650Z"
      },
      {
        "duration": 43,
        "start_time": "2022-06-07T13:30:22.010Z"
      },
      {
        "duration": 37,
        "start_time": "2022-06-07T13:30:22.058Z"
      },
      {
        "duration": 486,
        "start_time": "2022-06-07T13:30:22.097Z"
      },
      {
        "duration": 28,
        "start_time": "2022-06-07T13:30:22.585Z"
      },
      {
        "duration": 484,
        "start_time": "2022-06-07T13:30:22.615Z"
      },
      {
        "duration": 38,
        "start_time": "2022-06-07T13:30:23.101Z"
      },
      {
        "duration": 158,
        "start_time": "2022-06-07T13:30:23.141Z"
      },
      {
        "duration": 15,
        "start_time": "2022-06-07T13:30:23.302Z"
      },
      {
        "duration": 96,
        "start_time": "2022-06-07T13:30:23.319Z"
      },
      {
        "duration": 33,
        "start_time": "2022-06-07T13:30:23.417Z"
      },
      {
        "duration": 4,
        "start_time": "2022-06-07T13:44:24.862Z"
      },
      {
        "duration": 2,
        "start_time": "2022-06-07T13:45:17.908Z"
      },
      {
        "duration": 187,
        "start_time": "2022-06-07T13:57:05.901Z"
      },
      {
        "duration": 617,
        "start_time": "2022-06-07T13:57:15.015Z"
      },
      {
        "duration": 251,
        "start_time": "2022-06-07T13:57:15.638Z"
      },
      {
        "duration": 28,
        "start_time": "2022-06-07T13:57:15.891Z"
      },
      {
        "duration": 231,
        "start_time": "2022-06-07T13:57:15.921Z"
      },
      {
        "duration": 35,
        "start_time": "2022-06-07T13:57:16.156Z"
      },
      {
        "duration": 182,
        "start_time": "2022-06-07T13:57:16.194Z"
      },
      {
        "duration": 21,
        "start_time": "2022-06-07T13:57:16.385Z"
      },
      {
        "duration": 52,
        "start_time": "2022-06-07T13:57:16.408Z"
      },
      {
        "duration": 58,
        "start_time": "2022-06-07T13:57:16.462Z"
      },
      {
        "duration": 83,
        "start_time": "2022-06-07T13:57:16.522Z"
      },
      {
        "duration": 11,
        "start_time": "2022-06-07T13:57:16.607Z"
      },
      {
        "duration": 59,
        "start_time": "2022-06-07T13:57:16.620Z"
      },
      {
        "duration": 266,
        "start_time": "2022-06-07T13:57:34.172Z"
      },
      {
        "duration": 235,
        "start_time": "2022-06-07T13:57:53.766Z"
      },
      {
        "duration": 51,
        "start_time": "2022-06-07T13:58:19.159Z"
      },
      {
        "duration": 53,
        "start_time": "2022-06-07T13:58:28.376Z"
      },
      {
        "duration": 3,
        "start_time": "2022-06-07T14:02:28.702Z"
      },
      {
        "duration": 307,
        "start_time": "2022-06-07T14:10:08.406Z"
      },
      {
        "duration": 107,
        "start_time": "2022-06-07T14:11:35.678Z"
      },
      {
        "duration": 21,
        "start_time": "2022-06-07T14:11:51.777Z"
      },
      {
        "duration": 21,
        "start_time": "2022-06-07T14:11:57.774Z"
      },
      {
        "duration": 10,
        "start_time": "2022-06-07T14:15:09.380Z"
      },
      {
        "duration": 9,
        "start_time": "2022-06-07T14:20:11.093Z"
      },
      {
        "duration": 9,
        "start_time": "2022-06-07T14:23:37.295Z"
      },
      {
        "duration": 12,
        "start_time": "2022-06-07T14:24:53.277Z"
      },
      {
        "duration": 513,
        "start_time": "2022-06-07T14:25:01.374Z"
      },
      {
        "duration": 303,
        "start_time": "2022-06-07T14:25:01.890Z"
      },
      {
        "duration": 221,
        "start_time": "2022-06-07T14:25:02.194Z"
      },
      {
        "duration": 165,
        "start_time": "2022-06-07T14:25:02.417Z"
      },
      {
        "duration": 27,
        "start_time": "2022-06-07T14:25:02.585Z"
      },
      {
        "duration": 92,
        "start_time": "2022-06-07T14:25:02.614Z"
      },
      {
        "duration": 3,
        "start_time": "2022-06-07T14:25:02.708Z"
      },
      {
        "duration": 26,
        "start_time": "2022-06-07T14:25:02.712Z"
      },
      {
        "duration": 6,
        "start_time": "2022-06-07T14:25:18.085Z"
      },
      {
        "duration": 14,
        "start_time": "2022-06-07T14:25:34.993Z"
      },
      {
        "duration": 49,
        "start_time": "2022-06-07T14:26:00.898Z"
      },
      {
        "duration": 74,
        "start_time": "2022-06-07T14:34:36.415Z"
      },
      {
        "duration": 6,
        "start_time": "2022-06-07T14:36:36.658Z"
      },
      {
        "duration": 9,
        "start_time": "2022-06-07T14:36:48.398Z"
      },
      {
        "duration": 4,
        "start_time": "2022-06-07T14:37:15.821Z"
      },
      {
        "duration": 4,
        "start_time": "2022-06-07T14:37:25.967Z"
      },
      {
        "duration": 88,
        "start_time": "2022-06-07T14:41:14.364Z"
      },
      {
        "duration": 56,
        "start_time": "2022-06-08T11:49:16.368Z"
      },
      {
        "duration": 387,
        "start_time": "2022-06-08T11:49:22.886Z"
      },
      {
        "duration": 508,
        "start_time": "2022-06-08T11:49:23.275Z"
      },
      {
        "duration": 402,
        "start_time": "2022-06-08T11:49:23.785Z"
      },
      {
        "duration": 149,
        "start_time": "2022-06-08T11:49:24.189Z"
      },
      {
        "duration": 68,
        "start_time": "2022-06-08T11:49:24.340Z"
      },
      {
        "duration": 67,
        "start_time": "2022-06-08T11:49:24.409Z"
      },
      {
        "duration": 2,
        "start_time": "2022-06-08T11:49:24.478Z"
      },
      {
        "duration": 85,
        "start_time": "2022-06-08T11:49:24.481Z"
      },
      {
        "duration": 47,
        "start_time": "2022-06-08T11:49:49.215Z"
      },
      {
        "duration": 48,
        "start_time": "2022-06-08T11:56:33.986Z"
      },
      {
        "duration": 49,
        "start_time": "2022-06-08T11:56:41.454Z"
      },
      {
        "duration": 45,
        "start_time": "2022-06-08T11:56:48.434Z"
      },
      {
        "duration": 285,
        "start_time": "2022-06-08T12:00:01.212Z"
      },
      {
        "duration": 27,
        "start_time": "2022-06-08T12:00:58.264Z"
      },
      {
        "duration": 32,
        "start_time": "2022-06-08T12:01:12.323Z"
      },
      {
        "duration": 7,
        "start_time": "2022-06-08T12:16:03.368Z"
      },
      {
        "duration": 38,
        "start_time": "2022-06-08T12:16:12.469Z"
      },
      {
        "duration": 67,
        "start_time": "2022-06-08T12:16:40.113Z"
      },
      {
        "duration": 11,
        "start_time": "2022-06-08T12:18:36.917Z"
      },
      {
        "duration": 21,
        "start_time": "2022-06-08T12:18:45.984Z"
      },
      {
        "duration": 20,
        "start_time": "2022-06-08T12:18:57.556Z"
      },
      {
        "duration": 51,
        "start_time": "2022-06-08T12:20:23.362Z"
      },
      {
        "duration": 29,
        "start_time": "2022-06-08T12:20:41.490Z"
      },
      {
        "duration": 28,
        "start_time": "2022-06-08T12:32:50.155Z"
      },
      {
        "duration": 28,
        "start_time": "2022-06-08T12:35:02.948Z"
      },
      {
        "duration": 29,
        "start_time": "2022-06-08T12:35:10.097Z"
      },
      {
        "duration": 34,
        "start_time": "2022-06-08T12:36:40.602Z"
      },
      {
        "duration": 27,
        "start_time": "2022-06-08T12:36:53.366Z"
      },
      {
        "duration": 29,
        "start_time": "2022-06-08T12:37:31.710Z"
      },
      {
        "duration": 29,
        "start_time": "2022-06-08T12:37:41.185Z"
      },
      {
        "duration": 28,
        "start_time": "2022-06-08T12:37:59.283Z"
      },
      {
        "duration": 29,
        "start_time": "2022-06-08T12:38:07.915Z"
      },
      {
        "duration": 28,
        "start_time": "2022-06-08T12:38:38.818Z"
      },
      {
        "duration": 39,
        "start_time": "2022-06-08T12:38:56.429Z"
      },
      {
        "duration": 42,
        "start_time": "2022-06-08T12:39:17.636Z"
      },
      {
        "duration": 44,
        "start_time": "2022-06-08T12:39:38.683Z"
      },
      {
        "duration": 44,
        "start_time": "2022-06-08T12:40:25.289Z"
      },
      {
        "duration": 44,
        "start_time": "2022-06-08T12:40:43.798Z"
      },
      {
        "duration": 31,
        "start_time": "2022-06-08T12:44:17.851Z"
      },
      {
        "duration": 31,
        "start_time": "2022-06-08T12:45:40.425Z"
      },
      {
        "duration": 33,
        "start_time": "2022-06-08T12:46:40.870Z"
      },
      {
        "duration": 57,
        "start_time": "2022-06-08T12:47:56.750Z"
      },
      {
        "duration": 35,
        "start_time": "2022-06-08T12:48:33.022Z"
      },
      {
        "duration": 41,
        "start_time": "2022-06-08T12:57:21.548Z"
      },
      {
        "duration": 54,
        "start_time": "2022-06-08T12:57:30.178Z"
      },
      {
        "duration": 47,
        "start_time": "2022-06-08T12:57:46.131Z"
      },
      {
        "duration": 46,
        "start_time": "2022-06-08T12:58:02.801Z"
      },
      {
        "duration": 508,
        "start_time": "2022-06-08T12:58:53.964Z"
      },
      {
        "duration": 68,
        "start_time": "2022-06-08T12:59:23.801Z"
      },
      {
        "duration": 513,
        "start_time": "2022-06-08T12:59:28.746Z"
      },
      {
        "duration": 63,
        "start_time": "2022-06-08T13:00:11.402Z"
      },
      {
        "duration": 63,
        "start_time": "2022-06-08T13:02:53.542Z"
      },
      {
        "duration": 66,
        "start_time": "2022-06-08T13:03:23.512Z"
      },
      {
        "duration": 74,
        "start_time": "2022-06-08T13:04:57.692Z"
      },
      {
        "duration": 444,
        "start_time": "2022-06-08T13:19:13.303Z"
      },
      {
        "duration": 30,
        "start_time": "2022-06-08T13:19:39.165Z"
      },
      {
        "duration": 37,
        "start_time": "2022-06-08T13:20:57.594Z"
      },
      {
        "duration": 49,
        "start_time": "2022-06-08T13:21:34.364Z"
      },
      {
        "duration": 59,
        "start_time": "2022-06-08T13:22:37.343Z"
      },
      {
        "duration": 57,
        "start_time": "2022-06-08T13:22:55.013Z"
      },
      {
        "duration": 110,
        "start_time": "2022-06-08T13:23:10.615Z"
      },
      {
        "duration": 91,
        "start_time": "2022-06-08T13:24:41.903Z"
      },
      {
        "duration": 63,
        "start_time": "2022-06-08T13:25:03.028Z"
      },
      {
        "duration": 64,
        "start_time": "2022-06-08T13:25:14.870Z"
      },
      {
        "duration": 61,
        "start_time": "2022-06-08T13:25:18.592Z"
      },
      {
        "duration": 61,
        "start_time": "2022-06-08T13:27:01.534Z"
      },
      {
        "duration": 55,
        "start_time": "2022-06-08T13:36:00.361Z"
      },
      {
        "duration": 65,
        "start_time": "2022-06-08T13:36:06.241Z"
      },
      {
        "duration": 54,
        "start_time": "2022-06-08T13:36:08.802Z"
      },
      {
        "duration": 11,
        "start_time": "2022-06-08T13:53:39.803Z"
      },
      {
        "duration": 20,
        "start_time": "2022-06-08T13:54:03.088Z"
      },
      {
        "duration": 91,
        "start_time": "2022-06-08T13:55:17.700Z"
      },
      {
        "duration": 69,
        "start_time": "2022-06-08T13:55:35.075Z"
      },
      {
        "duration": 91,
        "start_time": "2022-06-08T13:55:56.581Z"
      },
      {
        "duration": 51,
        "start_time": "2022-06-08T13:56:10.850Z"
      },
      {
        "duration": 23,
        "start_time": "2022-06-08T13:56:24.782Z"
      },
      {
        "duration": 27,
        "start_time": "2022-06-08T13:56:49.843Z"
      },
      {
        "duration": 20,
        "start_time": "2022-06-08T13:57:57.953Z"
      },
      {
        "duration": 29,
        "start_time": "2022-06-08T13:58:18.001Z"
      },
      {
        "duration": 15,
        "start_time": "2022-06-08T13:59:06.692Z"
      },
      {
        "duration": 42,
        "start_time": "2022-06-08T13:59:16.179Z"
      },
      {
        "duration": 26,
        "start_time": "2022-06-08T14:03:30.777Z"
      },
      {
        "duration": 27,
        "start_time": "2022-06-08T14:05:48.794Z"
      },
      {
        "duration": 34,
        "start_time": "2022-06-08T14:16:55.353Z"
      },
      {
        "duration": 32,
        "start_time": "2022-06-08T14:19:54.867Z"
      },
      {
        "duration": 31,
        "start_time": "2022-06-08T14:26:13.029Z"
      },
      {
        "duration": 42,
        "start_time": "2022-06-08T14:27:15.682Z"
      },
      {
        "duration": 45,
        "start_time": "2022-06-08T14:28:04.621Z"
      },
      {
        "duration": 541,
        "start_time": "2022-06-08T14:28:17.118Z"
      },
      {
        "duration": 43,
        "start_time": "2022-06-08T14:28:26.946Z"
      },
      {
        "duration": 31,
        "start_time": "2022-06-08T14:28:36.601Z"
      },
      {
        "duration": 39,
        "start_time": "2022-06-08T14:28:57.013Z"
      },
      {
        "duration": 44,
        "start_time": "2022-06-08T14:29:43.685Z"
      },
      {
        "duration": 32,
        "start_time": "2022-06-08T14:32:55.291Z"
      },
      {
        "duration": 39,
        "start_time": "2022-06-08T14:33:00.325Z"
      },
      {
        "duration": 31,
        "start_time": "2022-06-08T14:33:14.798Z"
      },
      {
        "duration": 36,
        "start_time": "2022-06-08T14:33:35.118Z"
      },
      {
        "duration": 479,
        "start_time": "2022-06-08T14:33:40.873Z"
      },
      {
        "duration": 568,
        "start_time": "2022-06-08T14:33:41.359Z"
      },
      {
        "duration": 371,
        "start_time": "2022-06-08T14:33:41.929Z"
      },
      {
        "duration": 116,
        "start_time": "2022-06-08T14:33:42.302Z"
      },
      {
        "duration": 52,
        "start_time": "2022-06-08T14:33:42.421Z"
      },
      {
        "duration": 34,
        "start_time": "2022-06-08T14:33:42.475Z"
      },
      {
        "duration": 2,
        "start_time": "2022-06-08T14:33:42.511Z"
      },
      {
        "duration": 91,
        "start_time": "2022-06-08T14:33:42.514Z"
      },
      {
        "duration": 100,
        "start_time": "2022-06-08T14:33:42.606Z"
      },
      {
        "duration": 68,
        "start_time": "2022-06-08T14:33:42.707Z"
      },
      {
        "duration": 93,
        "start_time": "2022-06-08T14:33:42.778Z"
      },
      {
        "duration": 56,
        "start_time": "2022-06-08T14:33:42.873Z"
      },
      {
        "duration": 122,
        "start_time": "2022-06-08T14:33:42.942Z"
      },
      {
        "duration": 0,
        "start_time": "2022-06-08T14:33:43.066Z"
      },
      {
        "duration": 442,
        "start_time": "2022-06-09T07:26:56.438Z"
      },
      {
        "duration": 348,
        "start_time": "2022-06-09T07:26:56.882Z"
      },
      {
        "duration": 393,
        "start_time": "2022-06-09T07:26:57.233Z"
      },
      {
        "duration": 336,
        "start_time": "2022-06-09T07:26:57.629Z"
      },
      {
        "duration": 81,
        "start_time": "2022-06-09T07:26:57.967Z"
      },
      {
        "duration": 80,
        "start_time": "2022-06-09T07:26:58.050Z"
      },
      {
        "duration": 3,
        "start_time": "2022-06-09T07:26:58.132Z"
      },
      {
        "duration": 108,
        "start_time": "2022-06-09T07:26:58.137Z"
      },
      {
        "duration": 90,
        "start_time": "2022-06-09T07:26:58.247Z"
      },
      {
        "duration": 42,
        "start_time": "2022-06-09T07:26:58.339Z"
      },
      {
        "duration": 87,
        "start_time": "2022-06-09T07:26:58.383Z"
      },
      {
        "duration": 61,
        "start_time": "2022-06-09T07:26:58.473Z"
      },
      {
        "duration": 5,
        "start_time": "2022-06-09T07:26:58.535Z"
      },
      {
        "duration": 0,
        "start_time": "2022-06-09T07:26:58.542Z"
      },
      {
        "duration": 94,
        "start_time": "2022-06-09T07:27:16.336Z"
      },
      {
        "duration": 57,
        "start_time": "2022-06-09T07:27:30.826Z"
      },
      {
        "duration": 63,
        "start_time": "2022-06-09T07:27:47.649Z"
      },
      {
        "duration": 36,
        "start_time": "2022-06-09T07:28:28.484Z"
      },
      {
        "duration": 47,
        "start_time": "2022-06-09T07:28:54.627Z"
      },
      {
        "duration": 38,
        "start_time": "2022-06-09T07:29:02.070Z"
      },
      {
        "duration": 38,
        "start_time": "2022-06-09T07:29:18.556Z"
      },
      {
        "duration": 40,
        "start_time": "2022-06-09T07:30:12.626Z"
      },
      {
        "duration": 40,
        "start_time": "2022-06-09T07:30:36.368Z"
      },
      {
        "duration": 536,
        "start_time": "2022-06-09T07:33:35.807Z"
      },
      {
        "duration": 217,
        "start_time": "2022-06-09T07:33:36.345Z"
      },
      {
        "duration": 173,
        "start_time": "2022-06-09T07:33:36.565Z"
      },
      {
        "duration": 121,
        "start_time": "2022-06-09T07:33:36.741Z"
      },
      {
        "duration": 41,
        "start_time": "2022-06-09T07:33:36.865Z"
      },
      {
        "duration": 47,
        "start_time": "2022-06-09T07:33:36.908Z"
      },
      {
        "duration": 3,
        "start_time": "2022-06-09T07:33:36.957Z"
      },
      {
        "duration": 212,
        "start_time": "2022-06-09T07:33:36.962Z"
      },
      {
        "duration": 1,
        "start_time": "2022-06-09T07:33:37.176Z"
      },
      {
        "duration": 0,
        "start_time": "2022-06-09T07:33:37.178Z"
      },
      {
        "duration": 0,
        "start_time": "2022-06-09T07:33:37.180Z"
      },
      {
        "duration": 0,
        "start_time": "2022-06-09T07:33:37.181Z"
      },
      {
        "duration": 0,
        "start_time": "2022-06-09T07:33:37.182Z"
      },
      {
        "duration": 0,
        "start_time": "2022-06-09T07:33:37.183Z"
      },
      {
        "duration": 95,
        "start_time": "2022-06-09T07:35:44.762Z"
      },
      {
        "duration": 393,
        "start_time": "2022-06-09T07:35:49.467Z"
      },
      {
        "duration": 245,
        "start_time": "2022-06-09T07:35:49.862Z"
      },
      {
        "duration": 173,
        "start_time": "2022-06-09T07:35:50.110Z"
      },
      {
        "duration": 119,
        "start_time": "2022-06-09T07:35:50.285Z"
      },
      {
        "duration": 32,
        "start_time": "2022-06-09T07:35:50.406Z"
      },
      {
        "duration": 44,
        "start_time": "2022-06-09T07:35:50.440Z"
      },
      {
        "duration": 2,
        "start_time": "2022-06-09T07:35:50.486Z"
      },
      {
        "duration": 87,
        "start_time": "2022-06-09T07:35:50.490Z"
      },
      {
        "duration": 100,
        "start_time": "2022-06-09T07:35:50.579Z"
      },
      {
        "duration": 64,
        "start_time": "2022-06-09T07:35:50.682Z"
      },
      {
        "duration": 93,
        "start_time": "2022-06-09T07:35:50.748Z"
      },
      {
        "duration": 54,
        "start_time": "2022-06-09T07:35:50.843Z"
      },
      {
        "duration": 118,
        "start_time": "2022-06-09T07:35:50.899Z"
      },
      {
        "duration": 0,
        "start_time": "2022-06-09T07:35:51.026Z"
      },
      {
        "duration": 43,
        "start_time": "2022-06-09T07:36:16.853Z"
      },
      {
        "duration": 45,
        "start_time": "2022-06-09T07:40:11.939Z"
      },
      {
        "duration": 44,
        "start_time": "2022-06-09T07:41:01.543Z"
      },
      {
        "duration": 42,
        "start_time": "2022-06-09T07:41:07.114Z"
      },
      {
        "duration": 32,
        "start_time": "2022-06-09T07:41:41.947Z"
      },
      {
        "duration": 41,
        "start_time": "2022-06-09T07:41:50.510Z"
      },
      {
        "duration": 36,
        "start_time": "2022-06-09T07:42:04.891Z"
      },
      {
        "duration": 36,
        "start_time": "2022-06-09T07:45:23.182Z"
      },
      {
        "duration": 43,
        "start_time": "2022-06-09T07:45:56.643Z"
      },
      {
        "duration": 40,
        "start_time": "2022-06-09T07:46:17.094Z"
      },
      {
        "duration": 58,
        "start_time": "2022-06-09T07:46:25.929Z"
      },
      {
        "duration": 44,
        "start_time": "2022-06-09T07:47:10.270Z"
      },
      {
        "duration": 61,
        "start_time": "2022-06-09T07:47:43.228Z"
      },
      {
        "duration": 72,
        "start_time": "2022-06-09T07:47:58.071Z"
      },
      {
        "duration": 63,
        "start_time": "2022-06-09T07:48:20.969Z"
      },
      {
        "duration": 39,
        "start_time": "2022-06-09T07:48:54.278Z"
      },
      {
        "duration": 42,
        "start_time": "2022-06-09T07:49:13.081Z"
      },
      {
        "duration": 46,
        "start_time": "2022-06-09T07:49:23.298Z"
      },
      {
        "duration": 33,
        "start_time": "2022-06-09T07:49:57.486Z"
      },
      {
        "duration": 39,
        "start_time": "2022-06-09T07:50:43.219Z"
      },
      {
        "duration": 52,
        "start_time": "2022-06-09T07:51:49.940Z"
      },
      {
        "duration": 36,
        "start_time": "2022-06-09T07:53:04.759Z"
      },
      {
        "duration": 4,
        "start_time": "2022-06-09T07:58:52.928Z"
      },
      {
        "duration": 10,
        "start_time": "2022-06-09T07:59:00.609Z"
      },
      {
        "duration": 10,
        "start_time": "2022-06-09T07:59:47.226Z"
      },
      {
        "duration": 383,
        "start_time": "2022-06-09T07:59:55.985Z"
      },
      {
        "duration": 205,
        "start_time": "2022-06-09T07:59:56.370Z"
      },
      {
        "duration": 165,
        "start_time": "2022-06-09T07:59:56.577Z"
      },
      {
        "duration": 118,
        "start_time": "2022-06-09T07:59:56.744Z"
      },
      {
        "duration": 30,
        "start_time": "2022-06-09T07:59:56.865Z"
      },
      {
        "duration": 42,
        "start_time": "2022-06-09T07:59:56.897Z"
      },
      {
        "duration": 3,
        "start_time": "2022-06-09T07:59:56.941Z"
      },
      {
        "duration": 86,
        "start_time": "2022-06-09T07:59:56.945Z"
      },
      {
        "duration": 94,
        "start_time": "2022-06-09T07:59:57.033Z"
      },
      {
        "duration": 43,
        "start_time": "2022-06-09T07:59:57.129Z"
      },
      {
        "duration": 95,
        "start_time": "2022-06-09T07:59:57.174Z"
      },
      {
        "duration": 63,
        "start_time": "2022-06-09T07:59:57.270Z"
      },
      {
        "duration": 36,
        "start_time": "2022-06-09T07:59:57.334Z"
      },
      {
        "duration": 8,
        "start_time": "2022-06-09T07:59:57.373Z"
      },
      {
        "duration": 81,
        "start_time": "2022-06-09T07:59:57.382Z"
      },
      {
        "duration": 10,
        "start_time": "2022-06-09T08:00:10.958Z"
      },
      {
        "duration": 38,
        "start_time": "2022-06-09T08:03:02.452Z"
      },
      {
        "duration": 9,
        "start_time": "2022-06-09T08:03:43.484Z"
      },
      {
        "duration": 27,
        "start_time": "2022-06-09T08:03:52.730Z"
      },
      {
        "duration": 32,
        "start_time": "2022-06-09T08:09:20.475Z"
      },
      {
        "duration": 32,
        "start_time": "2022-06-09T08:15:42.215Z"
      },
      {
        "duration": 31,
        "start_time": "2022-06-09T08:19:50.947Z"
      },
      {
        "duration": 10,
        "start_time": "2022-06-09T08:44:59.049Z"
      },
      {
        "duration": 24,
        "start_time": "2022-06-09T08:46:02.396Z"
      },
      {
        "duration": 10,
        "start_time": "2022-06-09T08:51:15.758Z"
      },
      {
        "duration": 35,
        "start_time": "2022-06-09T08:51:24.257Z"
      },
      {
        "duration": 22,
        "start_time": "2022-06-09T08:52:29.662Z"
      },
      {
        "duration": 16,
        "start_time": "2022-06-09T09:30:23.796Z"
      },
      {
        "duration": 26,
        "start_time": "2022-06-09T09:39:40.292Z"
      },
      {
        "duration": 27,
        "start_time": "2022-06-09T09:44:10.780Z"
      },
      {
        "duration": 24,
        "start_time": "2022-06-09T09:52:15.745Z"
      },
      {
        "duration": 13,
        "start_time": "2022-06-09T09:52:58.553Z"
      },
      {
        "duration": 8,
        "start_time": "2022-06-09T09:53:02.687Z"
      },
      {
        "duration": 8,
        "start_time": "2022-06-09T09:53:56.115Z"
      },
      {
        "duration": 615,
        "start_time": "2022-06-09T09:54:45.368Z"
      },
      {
        "duration": 6,
        "start_time": "2022-06-09T09:54:49.595Z"
      },
      {
        "duration": 16,
        "start_time": "2022-06-09T09:55:08.979Z"
      },
      {
        "duration": 7,
        "start_time": "2022-06-09T09:59:24.105Z"
      },
      {
        "duration": 31,
        "start_time": "2022-06-09T10:00:18.346Z"
      },
      {
        "duration": 79,
        "start_time": "2022-06-09T10:00:30.141Z"
      },
      {
        "duration": 15,
        "start_time": "2022-06-09T10:00:58.644Z"
      },
      {
        "duration": 23,
        "start_time": "2022-06-09T10:01:13.385Z"
      },
      {
        "duration": 26,
        "start_time": "2022-06-09T10:01:25.891Z"
      },
      {
        "duration": 434,
        "start_time": "2022-06-09T10:01:32.963Z"
      },
      {
        "duration": 359,
        "start_time": "2022-06-09T10:01:33.399Z"
      },
      {
        "duration": 242,
        "start_time": "2022-06-09T10:01:33.760Z"
      },
      {
        "duration": 156,
        "start_time": "2022-06-09T10:01:34.004Z"
      },
      {
        "duration": 39,
        "start_time": "2022-06-09T10:01:34.164Z"
      },
      {
        "duration": 69,
        "start_time": "2022-06-09T10:01:34.205Z"
      },
      {
        "duration": 3,
        "start_time": "2022-06-09T10:01:34.277Z"
      },
      {
        "duration": 128,
        "start_time": "2022-06-09T10:01:34.283Z"
      },
      {
        "duration": 137,
        "start_time": "2022-06-09T10:01:34.413Z"
      },
      {
        "duration": 82,
        "start_time": "2022-06-09T10:01:34.553Z"
      },
      {
        "duration": 132,
        "start_time": "2022-06-09T10:01:34.638Z"
      },
      {
        "duration": 93,
        "start_time": "2022-06-09T10:01:34.773Z"
      },
      {
        "duration": 77,
        "start_time": "2022-06-09T10:01:34.868Z"
      },
      {
        "duration": 35,
        "start_time": "2022-06-09T10:01:34.949Z"
      },
      {
        "duration": 65,
        "start_time": "2022-06-09T10:01:34.987Z"
      },
      {
        "duration": 38,
        "start_time": "2022-06-09T10:01:35.055Z"
      },
      {
        "duration": 18,
        "start_time": "2022-06-09T10:01:35.095Z"
      },
      {
        "duration": 54,
        "start_time": "2022-06-09T10:01:35.115Z"
      },
      {
        "duration": 475,
        "start_time": "2022-06-09T10:04:25.310Z"
      },
      {
        "duration": 294,
        "start_time": "2022-06-09T10:04:25.788Z"
      },
      {
        "duration": 229,
        "start_time": "2022-06-09T10:04:26.084Z"
      },
      {
        "duration": 194,
        "start_time": "2022-06-09T10:04:26.316Z"
      },
      {
        "duration": 47,
        "start_time": "2022-06-09T10:04:26.513Z"
      },
      {
        "duration": 54,
        "start_time": "2022-06-09T10:04:26.562Z"
      },
      {
        "duration": 2,
        "start_time": "2022-06-09T10:04:26.618Z"
      },
      {
        "duration": 117,
        "start_time": "2022-06-09T10:04:26.623Z"
      },
      {
        "duration": 117,
        "start_time": "2022-06-09T10:04:26.745Z"
      },
      {
        "duration": 52,
        "start_time": "2022-06-09T10:04:26.867Z"
      },
      {
        "duration": 94,
        "start_time": "2022-06-09T10:04:26.928Z"
      },
      {
        "duration": 71,
        "start_time": "2022-06-09T10:04:27.031Z"
      },
      {
        "duration": 72,
        "start_time": "2022-06-09T10:04:27.104Z"
      },
      {
        "duration": 11,
        "start_time": "2022-06-09T10:04:27.179Z"
      },
      {
        "duration": 85,
        "start_time": "2022-06-09T10:04:27.192Z"
      },
      {
        "duration": 32,
        "start_time": "2022-06-09T10:04:27.279Z"
      },
      {
        "duration": 71,
        "start_time": "2022-06-09T10:04:27.313Z"
      },
      {
        "duration": 111,
        "start_time": "2022-06-09T10:04:27.386Z"
      },
      {
        "duration": 98,
        "start_time": "2022-06-09T10:05:48.559Z"
      },
      {
        "duration": 100,
        "start_time": "2022-06-09T10:09:47.796Z"
      },
      {
        "duration": 38,
        "start_time": "2022-06-09T10:10:16.019Z"
      },
      {
        "duration": 29,
        "start_time": "2022-06-09T10:10:31.275Z"
      },
      {
        "duration": 80,
        "start_time": "2022-06-09T10:10:52.967Z"
      },
      {
        "duration": 613,
        "start_time": "2022-06-09T10:15:54.906Z"
      },
      {
        "duration": 24,
        "start_time": "2022-06-09T10:17:26.709Z"
      },
      {
        "duration": 25,
        "start_time": "2022-06-09T10:17:52.588Z"
      },
      {
        "duration": 182,
        "start_time": "2022-06-09T10:19:14.460Z"
      },
      {
        "duration": 32,
        "start_time": "2022-06-09T10:19:31.867Z"
      },
      {
        "duration": 40,
        "start_time": "2022-06-09T10:26:40.266Z"
      },
      {
        "duration": 13,
        "start_time": "2022-06-09T10:26:49.043Z"
      },
      {
        "duration": 22,
        "start_time": "2022-06-09T10:37:26.250Z"
      },
      {
        "duration": 17,
        "start_time": "2022-06-09T10:37:35.265Z"
      },
      {
        "duration": 15,
        "start_time": "2022-06-09T10:41:21.581Z"
      },
      {
        "duration": 15,
        "start_time": "2022-06-09T10:42:24.216Z"
      },
      {
        "duration": 25,
        "start_time": "2022-06-09T10:45:04.751Z"
      },
      {
        "duration": 14,
        "start_time": "2022-06-09T10:46:02.929Z"
      },
      {
        "duration": 14,
        "start_time": "2022-06-09T10:46:36.339Z"
      },
      {
        "duration": 384,
        "start_time": "2022-06-09T10:53:44.484Z"
      },
      {
        "duration": 435,
        "start_time": "2022-06-09T10:54:08.375Z"
      },
      {
        "duration": 220,
        "start_time": "2022-06-09T10:54:08.812Z"
      },
      {
        "duration": 188,
        "start_time": "2022-06-09T10:54:09.034Z"
      },
      {
        "duration": 130,
        "start_time": "2022-06-09T10:54:09.227Z"
      },
      {
        "duration": 35,
        "start_time": "2022-06-09T10:54:09.359Z"
      },
      {
        "duration": 71,
        "start_time": "2022-06-09T10:54:09.396Z"
      },
      {
        "duration": 3,
        "start_time": "2022-06-09T10:54:09.469Z"
      },
      {
        "duration": 133,
        "start_time": "2022-06-09T10:54:09.473Z"
      },
      {
        "duration": 97,
        "start_time": "2022-06-09T10:54:09.608Z"
      },
      {
        "duration": 58,
        "start_time": "2022-06-09T10:54:09.708Z"
      },
      {
        "duration": 94,
        "start_time": "2022-06-09T10:54:09.768Z"
      },
      {
        "duration": 65,
        "start_time": "2022-06-09T10:54:09.865Z"
      },
      {
        "duration": 40,
        "start_time": "2022-06-09T10:54:09.933Z"
      },
      {
        "duration": 12,
        "start_time": "2022-06-09T10:54:09.975Z"
      },
      {
        "duration": 57,
        "start_time": "2022-06-09T10:54:09.989Z"
      },
      {
        "duration": 21,
        "start_time": "2022-06-09T10:54:10.048Z"
      },
      {
        "duration": 32,
        "start_time": "2022-06-09T10:54:10.071Z"
      },
      {
        "duration": 24,
        "start_time": "2022-06-09T10:54:10.106Z"
      },
      {
        "duration": 121,
        "start_time": "2022-06-09T10:54:10.132Z"
      },
      {
        "duration": 28,
        "start_time": "2022-06-09T10:54:40.625Z"
      },
      {
        "duration": 281,
        "start_time": "2022-06-09T10:55:30.217Z"
      },
      {
        "duration": 290,
        "start_time": "2022-06-09T10:55:47.518Z"
      },
      {
        "duration": 21,
        "start_time": "2022-06-09T10:56:11.101Z"
      },
      {
        "duration": 410,
        "start_time": "2022-06-09T10:56:14.996Z"
      },
      {
        "duration": 5,
        "start_time": "2022-06-09T11:02:52.930Z"
      },
      {
        "duration": 324,
        "start_time": "2022-06-09T11:02:58.085Z"
      },
      {
        "duration": 7,
        "start_time": "2022-06-09T11:04:03.516Z"
      },
      {
        "duration": 16,
        "start_time": "2022-06-09T11:04:08.982Z"
      },
      {
        "duration": 10,
        "start_time": "2022-06-09T11:04:22.403Z"
      },
      {
        "duration": 137,
        "start_time": "2022-06-09T11:04:26.055Z"
      },
      {
        "duration": 271,
        "start_time": "2022-06-09T11:06:40.356Z"
      },
      {
        "duration": 8,
        "start_time": "2022-06-09T11:07:07.212Z"
      },
      {
        "duration": 251,
        "start_time": "2022-06-09T11:07:25.805Z"
      },
      {
        "duration": 43,
        "start_time": "2022-06-09T11:07:54.594Z"
      },
      {
        "duration": 69,
        "start_time": "2022-06-09T11:08:04.300Z"
      },
      {
        "duration": 124,
        "start_time": "2022-06-09T11:34:08.153Z"
      },
      {
        "duration": 72,
        "start_time": "2022-06-09T11:36:11.823Z"
      },
      {
        "duration": 45,
        "start_time": "2022-06-09T11:36:42.951Z"
      },
      {
        "duration": 73,
        "start_time": "2022-06-09T11:36:55.559Z"
      },
      {
        "duration": 54,
        "start_time": "2022-06-09T11:39:39.549Z"
      },
      {
        "duration": 56,
        "start_time": "2022-06-09T11:40:04.265Z"
      },
      {
        "duration": 137,
        "start_time": "2022-06-09T11:40:15.400Z"
      },
      {
        "duration": 114,
        "start_time": "2022-06-09T11:42:15.709Z"
      },
      {
        "duration": 108,
        "start_time": "2022-06-09T11:42:26.721Z"
      },
      {
        "duration": 120,
        "start_time": "2022-06-09T11:42:55.089Z"
      },
      {
        "duration": 188,
        "start_time": "2022-06-09T11:43:32.361Z"
      },
      {
        "duration": 422,
        "start_time": "2022-06-09T11:44:09.664Z"
      },
      {
        "duration": 249,
        "start_time": "2022-06-09T11:44:10.088Z"
      },
      {
        "duration": 210,
        "start_time": "2022-06-09T11:44:10.346Z"
      },
      {
        "duration": 130,
        "start_time": "2022-06-09T11:44:10.558Z"
      },
      {
        "duration": 27,
        "start_time": "2022-06-09T11:44:10.690Z"
      },
      {
        "duration": 64,
        "start_time": "2022-06-09T11:44:10.719Z"
      },
      {
        "duration": 3,
        "start_time": "2022-06-09T11:44:10.785Z"
      },
      {
        "duration": 98,
        "start_time": "2022-06-09T11:44:10.790Z"
      },
      {
        "duration": 110,
        "start_time": "2022-06-09T11:44:10.890Z"
      },
      {
        "duration": 72,
        "start_time": "2022-06-09T11:44:11.001Z"
      },
      {
        "duration": 85,
        "start_time": "2022-06-09T11:44:11.075Z"
      },
      {
        "duration": 57,
        "start_time": "2022-06-09T11:44:11.162Z"
      },
      {
        "duration": 53,
        "start_time": "2022-06-09T11:44:11.226Z"
      },
      {
        "duration": 10,
        "start_time": "2022-06-09T11:44:11.282Z"
      },
      {
        "duration": 65,
        "start_time": "2022-06-09T11:44:11.294Z"
      },
      {
        "duration": 15,
        "start_time": "2022-06-09T11:44:11.362Z"
      },
      {
        "duration": 22,
        "start_time": "2022-06-09T11:44:11.378Z"
      },
      {
        "duration": 30,
        "start_time": "2022-06-09T11:44:11.401Z"
      },
      {
        "duration": 71,
        "start_time": "2022-06-09T11:44:11.433Z"
      },
      {
        "duration": 163,
        "start_time": "2022-06-09T11:44:11.506Z"
      },
      {
        "duration": 182,
        "start_time": "2022-06-09T11:44:11.670Z"
      },
      {
        "duration": 98,
        "start_time": "2022-06-09T11:44:25.216Z"
      },
      {
        "duration": 98,
        "start_time": "2022-06-09T11:44:29.672Z"
      },
      {
        "duration": 126,
        "start_time": "2022-06-09T11:44:35.574Z"
      },
      {
        "duration": 421,
        "start_time": "2022-06-09T11:44:47.888Z"
      },
      {
        "duration": 238,
        "start_time": "2022-06-09T11:44:48.312Z"
      },
      {
        "duration": 185,
        "start_time": "2022-06-09T11:44:48.555Z"
      },
      {
        "duration": 135,
        "start_time": "2022-06-09T11:44:48.744Z"
      },
      {
        "duration": 30,
        "start_time": "2022-06-09T11:44:48.882Z"
      },
      {
        "duration": 67,
        "start_time": "2022-06-09T11:44:48.913Z"
      },
      {
        "duration": 2,
        "start_time": "2022-06-09T11:44:48.982Z"
      },
      {
        "duration": 105,
        "start_time": "2022-06-09T11:44:48.986Z"
      },
      {
        "duration": 92,
        "start_time": "2022-06-09T11:44:49.093Z"
      },
      {
        "duration": 62,
        "start_time": "2022-06-09T11:44:49.187Z"
      },
      {
        "duration": 89,
        "start_time": "2022-06-09T11:44:49.251Z"
      },
      {
        "duration": 64,
        "start_time": "2022-06-09T11:44:49.349Z"
      },
      {
        "duration": 60,
        "start_time": "2022-06-09T11:44:49.416Z"
      },
      {
        "duration": 13,
        "start_time": "2022-06-09T11:44:49.481Z"
      },
      {
        "duration": 44,
        "start_time": "2022-06-09T11:44:49.496Z"
      },
      {
        "duration": 19,
        "start_time": "2022-06-09T11:44:49.548Z"
      },
      {
        "duration": 18,
        "start_time": "2022-06-09T11:44:49.570Z"
      },
      {
        "duration": 12,
        "start_time": "2022-06-09T11:44:49.590Z"
      },
      {
        "duration": 85,
        "start_time": "2022-06-09T11:44:49.604Z"
      },
      {
        "duration": 172,
        "start_time": "2022-06-09T11:44:49.691Z"
      },
      {
        "duration": 140,
        "start_time": "2022-06-09T11:44:49.866Z"
      },
      {
        "duration": 104,
        "start_time": "2022-06-09T11:44:50.008Z"
      },
      {
        "duration": 87,
        "start_time": "2022-06-09T11:45:58.385Z"
      },
      {
        "duration": 3,
        "start_time": "2022-06-09T11:47:30.064Z"
      },
      {
        "duration": 462,
        "start_time": "2022-06-09T11:47:34.345Z"
      },
      {
        "duration": 252,
        "start_time": "2022-06-09T11:47:34.809Z"
      },
      {
        "duration": 199,
        "start_time": "2022-06-09T11:47:35.063Z"
      },
      {
        "duration": 129,
        "start_time": "2022-06-09T11:47:35.264Z"
      },
      {
        "duration": 37,
        "start_time": "2022-06-09T11:47:35.404Z"
      },
      {
        "duration": 57,
        "start_time": "2022-06-09T11:47:35.445Z"
      },
      {
        "duration": 3,
        "start_time": "2022-06-09T11:47:35.504Z"
      },
      {
        "duration": 93,
        "start_time": "2022-06-09T11:47:35.509Z"
      },
      {
        "duration": 113,
        "start_time": "2022-06-09T11:47:35.604Z"
      },
      {
        "duration": 71,
        "start_time": "2022-06-09T11:47:35.725Z"
      },
      {
        "duration": 99,
        "start_time": "2022-06-09T11:47:35.798Z"
      },
      {
        "duration": 69,
        "start_time": "2022-06-09T11:47:35.899Z"
      },
      {
        "duration": 42,
        "start_time": "2022-06-09T11:47:35.969Z"
      },
      {
        "duration": 16,
        "start_time": "2022-06-09T11:47:36.027Z"
      },
      {
        "duration": 38,
        "start_time": "2022-06-09T11:47:36.045Z"
      },
      {
        "duration": 19,
        "start_time": "2022-06-09T11:47:36.085Z"
      },
      {
        "duration": 32,
        "start_time": "2022-06-09T11:47:36.127Z"
      },
      {
        "duration": 14,
        "start_time": "2022-06-09T11:47:36.161Z"
      },
      {
        "duration": 79,
        "start_time": "2022-06-09T11:47:36.177Z"
      },
      {
        "duration": 3,
        "start_time": "2022-06-09T11:47:36.258Z"
      },
      {
        "duration": 129,
        "start_time": "2022-06-09T11:47:36.263Z"
      },
      {
        "duration": 92,
        "start_time": "2022-06-09T11:47:36.393Z"
      },
      {
        "duration": 80,
        "start_time": "2022-06-09T12:03:13.986Z"
      },
      {
        "duration": 69,
        "start_time": "2022-06-09T12:03:24.623Z"
      },
      {
        "duration": 97,
        "start_time": "2022-06-09T12:03:28.741Z"
      },
      {
        "duration": 13,
        "start_time": "2022-06-09T12:09:39.908Z"
      },
      {
        "duration": 190,
        "start_time": "2022-06-09T12:09:56.993Z"
      },
      {
        "duration": 166,
        "start_time": "2022-06-09T12:11:45.898Z"
      },
      {
        "duration": 23,
        "start_time": "2022-06-09T12:14:54.462Z"
      },
      {
        "duration": 489,
        "start_time": "2022-06-09T18:35:04.714Z"
      },
      {
        "duration": 321,
        "start_time": "2022-06-09T18:35:05.207Z"
      },
      {
        "duration": 391,
        "start_time": "2022-06-09T18:35:05.530Z"
      },
      {
        "duration": 342,
        "start_time": "2022-06-09T18:35:05.923Z"
      },
      {
        "duration": 83,
        "start_time": "2022-06-09T18:35:06.267Z"
      },
      {
        "duration": 68,
        "start_time": "2022-06-09T18:35:06.352Z"
      },
      {
        "duration": 2,
        "start_time": "2022-06-09T18:35:06.422Z"
      },
      {
        "duration": 88,
        "start_time": "2022-06-09T18:35:06.426Z"
      },
      {
        "duration": 98,
        "start_time": "2022-06-09T18:35:06.516Z"
      },
      {
        "duration": 43,
        "start_time": "2022-06-09T18:35:06.615Z"
      },
      {
        "duration": 104,
        "start_time": "2022-06-09T18:35:06.659Z"
      },
      {
        "duration": 81,
        "start_time": "2022-06-09T18:35:06.766Z"
      },
      {
        "duration": 56,
        "start_time": "2022-06-09T18:35:06.849Z"
      },
      {
        "duration": 15,
        "start_time": "2022-06-09T18:35:06.910Z"
      },
      {
        "duration": 44,
        "start_time": "2022-06-09T18:35:06.928Z"
      },
      {
        "duration": 33,
        "start_time": "2022-06-09T18:35:06.974Z"
      },
      {
        "duration": 13,
        "start_time": "2022-06-09T18:35:07.010Z"
      },
      {
        "duration": 10,
        "start_time": "2022-06-09T18:35:07.025Z"
      },
      {
        "duration": 68,
        "start_time": "2022-06-09T18:35:07.037Z"
      },
      {
        "duration": 4,
        "start_time": "2022-06-09T18:35:07.107Z"
      },
      {
        "duration": 121,
        "start_time": "2022-06-09T18:35:07.112Z"
      },
      {
        "duration": 81,
        "start_time": "2022-06-09T18:35:07.234Z"
      },
      {
        "duration": 125,
        "start_time": "2022-06-09T18:35:07.317Z"
      },
      {
        "duration": 135,
        "start_time": "2022-06-09T18:37:24.155Z"
      },
      {
        "duration": 5,
        "start_time": "2022-06-09T18:40:17.346Z"
      },
      {
        "duration": 37,
        "start_time": "2022-06-09T18:40:27.243Z"
      },
      {
        "duration": 547,
        "start_time": "2022-06-09T19:20:14.232Z"
      },
      {
        "duration": 152,
        "start_time": "2022-06-09T19:20:47.421Z"
      },
      {
        "duration": 142,
        "start_time": "2022-06-09T19:20:58.088Z"
      },
      {
        "duration": 138,
        "start_time": "2022-06-09T19:23:16.596Z"
      },
      {
        "duration": 206,
        "start_time": "2022-06-09T19:24:03.013Z"
      },
      {
        "duration": 150,
        "start_time": "2022-06-09T20:08:48.389Z"
      },
      {
        "duration": 431,
        "start_time": "2022-06-09T20:10:10.888Z"
      },
      {
        "duration": 227,
        "start_time": "2022-06-09T20:10:11.321Z"
      },
      {
        "duration": 191,
        "start_time": "2022-06-09T20:10:11.551Z"
      },
      {
        "duration": 119,
        "start_time": "2022-06-09T20:10:11.744Z"
      },
      {
        "duration": 28,
        "start_time": "2022-06-09T20:10:11.865Z"
      },
      {
        "duration": 42,
        "start_time": "2022-06-09T20:10:11.894Z"
      },
      {
        "duration": 3,
        "start_time": "2022-06-09T20:10:11.937Z"
      },
      {
        "duration": 85,
        "start_time": "2022-06-09T20:10:11.941Z"
      },
      {
        "duration": 105,
        "start_time": "2022-06-09T20:10:12.028Z"
      },
      {
        "duration": 44,
        "start_time": "2022-06-09T20:10:12.135Z"
      },
      {
        "duration": 78,
        "start_time": "2022-06-09T20:10:12.196Z"
      },
      {
        "duration": 71,
        "start_time": "2022-06-09T20:10:12.277Z"
      },
      {
        "duration": 58,
        "start_time": "2022-06-09T20:10:12.350Z"
      },
      {
        "duration": 10,
        "start_time": "2022-06-09T20:10:12.412Z"
      },
      {
        "duration": 40,
        "start_time": "2022-06-09T20:10:12.424Z"
      },
      {
        "duration": 38,
        "start_time": "2022-06-09T20:10:12.466Z"
      },
      {
        "duration": 26,
        "start_time": "2022-06-09T20:10:12.506Z"
      },
      {
        "duration": 11,
        "start_time": "2022-06-09T20:10:12.534Z"
      },
      {
        "duration": 73,
        "start_time": "2022-06-09T20:10:12.547Z"
      },
      {
        "duration": 3,
        "start_time": "2022-06-09T20:10:12.622Z"
      },
      {
        "duration": 121,
        "start_time": "2022-06-09T20:10:12.627Z"
      },
      {
        "duration": 83,
        "start_time": "2022-06-09T20:10:12.750Z"
      },
      {
        "duration": 30,
        "start_time": "2022-06-09T20:10:12.834Z"
      },
      {
        "duration": 402,
        "start_time": "2022-06-09T20:10:12.865Z"
      },
      {
        "duration": 153,
        "start_time": "2022-06-09T20:10:13.269Z"
      },
      {
        "duration": 146,
        "start_time": "2022-06-09T20:10:13.424Z"
      },
      {
        "duration": 165,
        "start_time": "2022-06-09T20:10:13.572Z"
      },
      {
        "duration": 217,
        "start_time": "2022-06-09T20:10:13.738Z"
      },
      {
        "duration": 174,
        "start_time": "2022-06-09T20:10:13.957Z"
      },
      {
        "duration": 298,
        "start_time": "2022-06-09T20:12:42.647Z"
      },
      {
        "duration": 288,
        "start_time": "2022-06-09T20:13:54.229Z"
      },
      {
        "duration": 120,
        "start_time": "2022-06-09T20:14:46.841Z"
      },
      {
        "duration": 264,
        "start_time": "2022-06-09T20:14:51.735Z"
      },
      {
        "duration": 4,
        "start_time": "2022-06-09T21:10:31.871Z"
      },
      {
        "duration": 6,
        "start_time": "2022-06-09T21:10:40.017Z"
      },
      {
        "duration": 6,
        "start_time": "2022-06-09T21:11:34.372Z"
      },
      {
        "duration": 4,
        "start_time": "2022-06-09T21:12:22.047Z"
      },
      {
        "duration": 6,
        "start_time": "2022-06-09T21:12:32.536Z"
      },
      {
        "duration": 44,
        "start_time": "2022-06-10T07:51:42.632Z"
      },
      {
        "duration": 391,
        "start_time": "2022-06-10T07:51:47.614Z"
      },
      {
        "duration": 517,
        "start_time": "2022-06-10T07:51:48.007Z"
      },
      {
        "duration": 384,
        "start_time": "2022-06-10T07:51:48.526Z"
      },
      {
        "duration": 151,
        "start_time": "2022-06-10T07:51:48.911Z"
      },
      {
        "duration": 72,
        "start_time": "2022-06-10T07:51:49.064Z"
      },
      {
        "duration": 72,
        "start_time": "2022-06-10T07:51:49.137Z"
      },
      {
        "duration": 3,
        "start_time": "2022-06-10T07:51:49.210Z"
      },
      {
        "duration": 63,
        "start_time": "2022-06-10T07:51:49.214Z"
      },
      {
        "duration": 81,
        "start_time": "2022-06-10T07:51:49.279Z"
      },
      {
        "duration": 36,
        "start_time": "2022-06-10T07:51:49.362Z"
      },
      {
        "duration": 78,
        "start_time": "2022-06-10T07:51:49.400Z"
      },
      {
        "duration": 54,
        "start_time": "2022-06-10T07:51:49.480Z"
      },
      {
        "duration": 34,
        "start_time": "2022-06-10T07:51:49.536Z"
      },
      {
        "duration": 9,
        "start_time": "2022-06-10T07:51:49.573Z"
      },
      {
        "duration": 44,
        "start_time": "2022-06-10T07:51:49.583Z"
      },
      {
        "duration": 15,
        "start_time": "2022-06-10T07:51:49.628Z"
      },
      {
        "duration": 12,
        "start_time": "2022-06-10T07:51:49.644Z"
      },
      {
        "duration": 9,
        "start_time": "2022-06-10T07:51:49.657Z"
      },
      {
        "duration": 74,
        "start_time": "2022-06-10T07:51:49.667Z"
      },
      {
        "duration": 3,
        "start_time": "2022-06-10T07:51:49.742Z"
      },
      {
        "duration": 107,
        "start_time": "2022-06-10T07:51:49.746Z"
      },
      {
        "duration": 62,
        "start_time": "2022-06-10T07:51:49.855Z"
      },
      {
        "duration": 30,
        "start_time": "2022-06-10T07:51:49.926Z"
      },
      {
        "duration": 13,
        "start_time": "2022-06-10T07:51:49.957Z"
      },
      {
        "duration": 495,
        "start_time": "2022-06-10T07:51:49.971Z"
      },
      {
        "duration": 135,
        "start_time": "2022-06-10T07:51:50.468Z"
      },
      {
        "duration": 134,
        "start_time": "2022-06-10T07:51:50.605Z"
      },
      {
        "duration": 147,
        "start_time": "2022-06-10T07:51:50.740Z"
      },
      {
        "duration": 318,
        "start_time": "2022-06-10T07:51:50.888Z"
      },
      {
        "duration": 262,
        "start_time": "2022-06-10T07:51:51.207Z"
      },
      {
        "duration": 251,
        "start_time": "2022-06-10T07:51:51.470Z"
      },
      {
        "duration": 243,
        "start_time": "2022-06-10T07:51:51.725Z"
      },
      {
        "duration": 5,
        "start_time": "2022-06-10T07:51:51.969Z"
      },
      {
        "duration": 7,
        "start_time": "2022-06-10T07:51:51.976Z"
      },
      {
        "duration": 161,
        "start_time": "2022-06-10T07:52:54.666Z"
      },
      {
        "duration": 14,
        "start_time": "2022-06-10T07:53:18.600Z"
      },
      {
        "duration": 13,
        "start_time": "2022-06-10T07:53:51.862Z"
      },
      {
        "duration": 14,
        "start_time": "2022-06-10T07:54:24.396Z"
      },
      {
        "duration": 16,
        "start_time": "2022-06-10T07:54:55.596Z"
      },
      {
        "duration": 23,
        "start_time": "2022-06-10T07:55:15.099Z"
      },
      {
        "duration": 24,
        "start_time": "2022-06-10T07:55:20.239Z"
      },
      {
        "duration": 24,
        "start_time": "2022-06-10T07:56:04.604Z"
      },
      {
        "duration": 128,
        "start_time": "2022-06-10T07:56:53.967Z"
      },
      {
        "duration": 261,
        "start_time": "2022-06-10T07:57:16.922Z"
      },
      {
        "duration": 9,
        "start_time": "2022-06-10T07:59:17.268Z"
      },
      {
        "duration": 589,
        "start_time": "2022-06-10T08:01:24.114Z"
      },
      {
        "duration": 170,
        "start_time": "2022-06-10T08:01:24.705Z"
      },
      {
        "duration": 137,
        "start_time": "2022-06-10T08:01:24.877Z"
      },
      {
        "duration": 106,
        "start_time": "2022-06-10T08:01:25.016Z"
      },
      {
        "duration": 27,
        "start_time": "2022-06-10T08:01:25.124Z"
      },
      {
        "duration": 40,
        "start_time": "2022-06-10T08:01:25.152Z"
      },
      {
        "duration": 2,
        "start_time": "2022-06-10T08:01:25.194Z"
      },
      {
        "duration": 78,
        "start_time": "2022-06-10T08:01:25.198Z"
      },
      {
        "duration": 89,
        "start_time": "2022-06-10T08:01:25.278Z"
      },
      {
        "duration": 39,
        "start_time": "2022-06-10T08:01:25.370Z"
      },
      {
        "duration": 73,
        "start_time": "2022-06-10T08:01:25.411Z"
      },
      {
        "duration": 67,
        "start_time": "2022-06-10T08:01:25.485Z"
      },
      {
        "duration": 37,
        "start_time": "2022-06-10T08:01:25.554Z"
      },
      {
        "duration": 10,
        "start_time": "2022-06-10T08:01:25.592Z"
      },
      {
        "duration": 42,
        "start_time": "2022-06-10T08:01:25.603Z"
      },
      {
        "duration": 15,
        "start_time": "2022-06-10T08:01:25.647Z"
      },
      {
        "duration": 14,
        "start_time": "2022-06-10T08:01:25.663Z"
      },
      {
        "duration": 9,
        "start_time": "2022-06-10T08:01:25.679Z"
      },
      {
        "duration": 86,
        "start_time": "2022-06-10T08:01:25.690Z"
      },
      {
        "duration": 3,
        "start_time": "2022-06-10T08:01:25.778Z"
      },
      {
        "duration": 153,
        "start_time": "2022-06-10T08:01:25.783Z"
      },
      {
        "duration": 88,
        "start_time": "2022-06-10T08:01:25.938Z"
      },
      {
        "duration": 30,
        "start_time": "2022-06-10T08:01:26.028Z"
      },
      {
        "duration": 25,
        "start_time": "2022-06-10T08:01:26.059Z"
      },
      {
        "duration": 169,
        "start_time": "2022-06-10T08:01:26.086Z"
      },
      {
        "duration": 130,
        "start_time": "2022-06-10T08:01:26.257Z"
      },
      {
        "duration": 151,
        "start_time": "2022-06-10T08:01:26.388Z"
      },
      {
        "duration": 194,
        "start_time": "2022-06-10T08:01:26.543Z"
      },
      {
        "duration": 319,
        "start_time": "2022-06-10T08:01:26.739Z"
      },
      {
        "duration": 275,
        "start_time": "2022-06-10T08:01:27.059Z"
      },
      {
        "duration": 260,
        "start_time": "2022-06-10T08:01:27.336Z"
      },
      {
        "duration": 277,
        "start_time": "2022-06-10T08:01:27.598Z"
      },
      {
        "duration": 6,
        "start_time": "2022-06-10T08:01:27.876Z"
      },
      {
        "duration": 60,
        "start_time": "2022-06-10T08:01:27.884Z"
      },
      {
        "duration": 150,
        "start_time": "2022-06-10T08:01:27.946Z"
      },
      {
        "duration": 108,
        "start_time": "2022-06-10T08:01:59.785Z"
      },
      {
        "duration": 6,
        "start_time": "2022-06-10T08:10:27.733Z"
      },
      {
        "duration": 105,
        "start_time": "2022-06-10T08:11:36.735Z"
      },
      {
        "duration": 549,
        "start_time": "2022-06-10T08:12:06.950Z"
      },
      {
        "duration": 1050,
        "start_time": "2022-06-10T08:12:12.064Z"
      },
      {
        "duration": 185,
        "start_time": "2022-06-10T08:12:13.115Z"
      },
      {
        "duration": 149,
        "start_time": "2022-06-10T08:12:13.302Z"
      },
      {
        "duration": 100,
        "start_time": "2022-06-10T08:12:13.453Z"
      },
      {
        "duration": 29,
        "start_time": "2022-06-10T08:12:13.555Z"
      },
      {
        "duration": 49,
        "start_time": "2022-06-10T08:12:13.586Z"
      },
      {
        "duration": 2,
        "start_time": "2022-06-10T08:12:13.637Z"
      },
      {
        "duration": 82,
        "start_time": "2022-06-10T08:12:13.641Z"
      },
      {
        "duration": 87,
        "start_time": "2022-06-10T08:12:13.727Z"
      },
      {
        "duration": 42,
        "start_time": "2022-06-10T08:12:13.826Z"
      },
      {
        "duration": 90,
        "start_time": "2022-06-10T08:12:13.870Z"
      },
      {
        "duration": 64,
        "start_time": "2022-06-10T08:12:13.963Z"
      },
      {
        "duration": 42,
        "start_time": "2022-06-10T08:12:14.029Z"
      },
      {
        "duration": 15,
        "start_time": "2022-06-10T08:12:14.074Z"
      },
      {
        "duration": 47,
        "start_time": "2022-06-10T08:12:14.090Z"
      },
      {
        "duration": 15,
        "start_time": "2022-06-10T08:12:14.139Z"
      },
      {
        "duration": 15,
        "start_time": "2022-06-10T08:12:14.155Z"
      },
      {
        "duration": 11,
        "start_time": "2022-06-10T08:12:14.171Z"
      },
      {
        "duration": 98,
        "start_time": "2022-06-10T08:12:14.183Z"
      },
      {
        "duration": 3,
        "start_time": "2022-06-10T08:12:14.282Z"
      },
      {
        "duration": 127,
        "start_time": "2022-06-10T08:12:14.287Z"
      },
      {
        "duration": 72,
        "start_time": "2022-06-10T08:12:14.416Z"
      },
      {
        "duration": 53,
        "start_time": "2022-06-10T08:12:14.489Z"
      },
      {
        "duration": 27,
        "start_time": "2022-06-10T08:12:14.544Z"
      },
      {
        "duration": 183,
        "start_time": "2022-06-10T08:12:14.573Z"
      },
      {
        "duration": 179,
        "start_time": "2022-06-10T08:12:14.758Z"
      },
      {
        "duration": 143,
        "start_time": "2022-06-10T08:12:14.939Z"
      },
      {
        "duration": 152,
        "start_time": "2022-06-10T08:12:15.086Z"
      },
      {
        "duration": 272,
        "start_time": "2022-06-10T08:12:15.240Z"
      },
      {
        "duration": 273,
        "start_time": "2022-06-10T08:12:15.514Z"
      },
      {
        "duration": 286,
        "start_time": "2022-06-10T08:12:15.788Z"
      },
      {
        "duration": 262,
        "start_time": "2022-06-10T08:12:16.076Z"
      },
      {
        "duration": 6,
        "start_time": "2022-06-10T08:12:16.340Z"
      },
      {
        "duration": 41,
        "start_time": "2022-06-10T08:12:16.347Z"
      },
      {
        "duration": 219,
        "start_time": "2022-06-10T08:12:16.390Z"
      },
      {
        "duration": 337,
        "start_time": "2022-06-10T08:13:38.090Z"
      },
      {
        "duration": 251,
        "start_time": "2022-06-10T08:14:18.619Z"
      },
      {
        "duration": 19,
        "start_time": "2022-06-10T08:37:23.867Z"
      },
      {
        "duration": 127,
        "start_time": "2022-06-10T08:39:39.164Z"
      },
      {
        "duration": 128,
        "start_time": "2022-06-10T08:40:01.216Z"
      },
      {
        "duration": 110,
        "start_time": "2022-06-10T08:40:05.677Z"
      },
      {
        "duration": 95,
        "start_time": "2022-06-10T08:40:09.516Z"
      },
      {
        "duration": 138,
        "start_time": "2022-06-10T08:40:16.300Z"
      },
      {
        "duration": 26,
        "start_time": "2022-06-10T08:40:52.992Z"
      },
      {
        "duration": 36,
        "start_time": "2022-06-10T08:40:59.877Z"
      },
      {
        "duration": 203,
        "start_time": "2022-06-10T08:41:06.418Z"
      },
      {
        "duration": 34,
        "start_time": "2022-06-10T08:42:37.151Z"
      },
      {
        "duration": 267,
        "start_time": "2022-06-10T08:42:48.550Z"
      },
      {
        "duration": 182,
        "start_time": "2022-06-10T08:42:56.313Z"
      },
      {
        "duration": 129,
        "start_time": "2022-06-10T08:46:55.369Z"
      },
      {
        "duration": 111,
        "start_time": "2022-06-10T08:48:02.175Z"
      },
      {
        "duration": 45,
        "start_time": "2022-06-10T08:49:22.919Z"
      },
      {
        "duration": 32,
        "start_time": "2022-06-10T08:49:27.082Z"
      },
      {
        "duration": 259,
        "start_time": "2022-06-10T08:49:30.207Z"
      },
      {
        "duration": 126,
        "start_time": "2022-06-10T08:49:35.853Z"
      },
      {
        "duration": 128,
        "start_time": "2022-06-10T08:49:41.953Z"
      },
      {
        "duration": 126,
        "start_time": "2022-06-10T08:50:24.219Z"
      },
      {
        "duration": 19,
        "start_time": "2022-06-10T08:52:05.142Z"
      },
      {
        "duration": 138,
        "start_time": "2022-06-10T08:52:14.834Z"
      },
      {
        "duration": 129,
        "start_time": "2022-06-10T08:52:38.448Z"
      },
      {
        "duration": 145,
        "start_time": "2022-06-10T08:52:57.808Z"
      },
      {
        "duration": 197,
        "start_time": "2022-06-10T08:57:14.061Z"
      },
      {
        "duration": 191,
        "start_time": "2022-06-10T08:57:21.347Z"
      },
      {
        "duration": 220,
        "start_time": "2022-06-10T08:59:09.733Z"
      },
      {
        "duration": 207,
        "start_time": "2022-06-10T09:00:50.833Z"
      },
      {
        "duration": 199,
        "start_time": "2022-06-10T09:02:32.545Z"
      },
      {
        "duration": 194,
        "start_time": "2022-06-10T09:02:38.215Z"
      },
      {
        "duration": 196,
        "start_time": "2022-06-10T09:02:43.275Z"
      },
      {
        "duration": 177,
        "start_time": "2022-06-10T09:02:48.335Z"
      },
      {
        "duration": 193,
        "start_time": "2022-06-10T09:03:07.322Z"
      },
      {
        "duration": 337,
        "start_time": "2022-06-10T09:03:10.614Z"
      },
      {
        "duration": 197,
        "start_time": "2022-06-10T09:03:36.187Z"
      },
      {
        "duration": 295,
        "start_time": "2022-06-10T09:05:24.193Z"
      },
      {
        "duration": 217,
        "start_time": "2022-06-10T09:05:30.872Z"
      },
      {
        "duration": 218,
        "start_time": "2022-06-10T09:05:50.884Z"
      },
      {
        "duration": 43,
        "start_time": "2022-06-10T09:08:06.686Z"
      },
      {
        "duration": 389,
        "start_time": "2022-06-10T09:10:01.443Z"
      },
      {
        "duration": 196,
        "start_time": "2022-06-10T09:10:17.057Z"
      },
      {
        "duration": 231,
        "start_time": "2022-06-10T09:10:20.724Z"
      },
      {
        "duration": 338,
        "start_time": "2022-06-10T09:11:11.424Z"
      },
      {
        "duration": 278,
        "start_time": "2022-06-10T09:11:30.554Z"
      },
      {
        "duration": 289,
        "start_time": "2022-06-10T09:11:50.431Z"
      },
      {
        "duration": 267,
        "start_time": "2022-06-10T09:12:08.372Z"
      },
      {
        "duration": 251,
        "start_time": "2022-06-10T09:12:16.148Z"
      },
      {
        "duration": 260,
        "start_time": "2022-06-10T09:12:23.530Z"
      },
      {
        "duration": 287,
        "start_time": "2022-06-10T09:12:29.008Z"
      },
      {
        "duration": 278,
        "start_time": "2022-06-10T09:12:31.483Z"
      },
      {
        "duration": 284,
        "start_time": "2022-06-10T09:12:45.227Z"
      },
      {
        "duration": 207,
        "start_time": "2022-06-10T09:13:29.762Z"
      },
      {
        "duration": 182,
        "start_time": "2022-06-10T09:13:39.151Z"
      },
      {
        "duration": 294,
        "start_time": "2022-06-10T09:13:51.884Z"
      },
      {
        "duration": 189,
        "start_time": "2022-06-10T09:14:00.863Z"
      },
      {
        "duration": 283,
        "start_time": "2022-06-10T09:16:06.358Z"
      },
      {
        "duration": 180,
        "start_time": "2022-06-10T09:16:12.755Z"
      },
      {
        "duration": 162,
        "start_time": "2022-06-10T09:16:19.136Z"
      },
      {
        "duration": 233,
        "start_time": "2022-06-10T09:23:28.922Z"
      },
      {
        "duration": 177,
        "start_time": "2022-06-10T09:23:41.119Z"
      },
      {
        "duration": 186,
        "start_time": "2022-06-10T09:24:19.477Z"
      },
      {
        "duration": 389,
        "start_time": "2022-06-10T09:31:12.099Z"
      },
      {
        "duration": 5,
        "start_time": "2022-06-10T09:32:47.616Z"
      },
      {
        "duration": 1017,
        "start_time": "2022-06-10T09:32:51.663Z"
      },
      {
        "duration": 179,
        "start_time": "2022-06-10T09:32:52.682Z"
      },
      {
        "duration": 139,
        "start_time": "2022-06-10T09:32:52.862Z"
      },
      {
        "duration": 101,
        "start_time": "2022-06-10T09:32:53.003Z"
      },
      {
        "duration": 25,
        "start_time": "2022-06-10T09:32:53.105Z"
      },
      {
        "duration": 39,
        "start_time": "2022-06-10T09:32:53.132Z"
      },
      {
        "duration": 1,
        "start_time": "2022-06-10T09:32:53.173Z"
      },
      {
        "duration": 61,
        "start_time": "2022-06-10T09:32:53.176Z"
      },
      {
        "duration": 75,
        "start_time": "2022-06-10T09:32:53.238Z"
      },
      {
        "duration": 43,
        "start_time": "2022-06-10T09:32:53.315Z"
      },
      {
        "duration": 74,
        "start_time": "2022-06-10T09:32:53.359Z"
      },
      {
        "duration": 46,
        "start_time": "2022-06-10T09:32:53.434Z"
      },
      {
        "duration": 45,
        "start_time": "2022-06-10T09:32:53.481Z"
      },
      {
        "duration": 9,
        "start_time": "2022-06-10T09:32:53.527Z"
      },
      {
        "duration": 45,
        "start_time": "2022-06-10T09:32:53.537Z"
      },
      {
        "duration": 13,
        "start_time": "2022-06-10T09:32:53.583Z"
      },
      {
        "duration": 12,
        "start_time": "2022-06-10T09:32:53.597Z"
      },
      {
        "duration": 15,
        "start_time": "2022-06-10T09:32:53.611Z"
      },
      {
        "duration": 48,
        "start_time": "2022-06-10T09:32:53.628Z"
      },
      {
        "duration": 106,
        "start_time": "2022-06-10T09:32:53.677Z"
      },
      {
        "duration": 66,
        "start_time": "2022-06-10T09:32:53.785Z"
      },
      {
        "duration": 27,
        "start_time": "2022-06-10T09:32:53.853Z"
      },
      {
        "duration": 22,
        "start_time": "2022-06-10T09:32:53.882Z"
      },
      {
        "duration": 246,
        "start_time": "2022-06-10T09:32:53.906Z"
      },
      {
        "duration": 374,
        "start_time": "2022-06-10T09:32:54.154Z"
      },
      {
        "duration": 151,
        "start_time": "2022-06-10T09:32:54.529Z"
      },
      {
        "duration": 147,
        "start_time": "2022-06-10T09:32:54.681Z"
      },
      {
        "duration": 156,
        "start_time": "2022-06-10T09:32:54.831Z"
      },
      {
        "duration": 296,
        "start_time": "2022-06-10T09:32:54.988Z"
      },
      {
        "duration": 369,
        "start_time": "2022-06-10T09:32:55.285Z"
      },
      {
        "duration": 288,
        "start_time": "2022-06-10T09:32:55.655Z"
      },
      {
        "duration": 280,
        "start_time": "2022-06-10T09:32:55.945Z"
      },
      {
        "duration": 5,
        "start_time": "2022-06-10T09:32:56.227Z"
      },
      {
        "duration": 15,
        "start_time": "2022-06-10T09:32:56.233Z"
      },
      {
        "duration": 209,
        "start_time": "2022-06-10T09:32:56.249Z"
      },
      {
        "duration": 3,
        "start_time": "2022-06-10T09:33:21.395Z"
      },
      {
        "duration": 920,
        "start_time": "2022-06-10T09:33:49.757Z"
      },
      {
        "duration": 166,
        "start_time": "2022-06-10T09:33:50.679Z"
      },
      {
        "duration": 132,
        "start_time": "2022-06-10T09:33:50.847Z"
      },
      {
        "duration": 94,
        "start_time": "2022-06-10T09:33:50.981Z"
      },
      {
        "duration": 25,
        "start_time": "2022-06-10T09:33:51.077Z"
      },
      {
        "duration": 40,
        "start_time": "2022-06-10T09:33:51.104Z"
      },
      {
        "duration": 2,
        "start_time": "2022-06-10T09:33:51.145Z"
      },
      {
        "duration": 75,
        "start_time": "2022-06-10T09:33:51.148Z"
      },
      {
        "duration": 73,
        "start_time": "2022-06-10T09:33:51.224Z"
      },
      {
        "duration": 43,
        "start_time": "2022-06-10T09:33:51.299Z"
      },
      {
        "duration": 58,
        "start_time": "2022-06-10T09:33:51.344Z"
      },
      {
        "duration": 56,
        "start_time": "2022-06-10T09:33:51.403Z"
      },
      {
        "duration": 33,
        "start_time": "2022-06-10T09:33:51.460Z"
      },
      {
        "duration": 8,
        "start_time": "2022-06-10T09:33:51.494Z"
      },
      {
        "duration": 40,
        "start_time": "2022-06-10T09:33:51.503Z"
      },
      {
        "duration": 13,
        "start_time": "2022-06-10T09:33:51.544Z"
      },
      {
        "duration": 13,
        "start_time": "2022-06-10T09:33:51.558Z"
      },
      {
        "duration": 8,
        "start_time": "2022-06-10T09:33:51.572Z"
      },
      {
        "duration": 76,
        "start_time": "2022-06-10T09:33:51.582Z"
      },
      {
        "duration": 104,
        "start_time": "2022-06-10T09:33:51.660Z"
      },
      {
        "duration": 73,
        "start_time": "2022-06-10T09:33:51.766Z"
      },
      {
        "duration": 27,
        "start_time": "2022-06-10T09:33:51.841Z"
      },
      {
        "duration": 22,
        "start_time": "2022-06-10T09:33:51.870Z"
      },
      {
        "duration": 90,
        "start_time": "2022-06-10T09:33:51.894Z"
      },
      {
        "duration": 152,
        "start_time": "2022-06-10T09:33:51.985Z"
      },
      {
        "duration": 62,
        "start_time": "2022-06-10T09:33:52.138Z"
      },
      {
        "duration": 85,
        "start_time": "2022-06-10T09:33:52.201Z"
      },
      {
        "duration": 58,
        "start_time": "2022-06-10T09:33:52.289Z"
      },
      {
        "duration": 121,
        "start_time": "2022-06-10T09:33:52.349Z"
      },
      {
        "duration": 131,
        "start_time": "2022-06-10T09:33:52.472Z"
      },
      {
        "duration": 130,
        "start_time": "2022-06-10T09:33:52.605Z"
      },
      {
        "duration": 144,
        "start_time": "2022-06-10T09:33:52.736Z"
      },
      {
        "duration": 8,
        "start_time": "2022-06-10T09:33:52.881Z"
      },
      {
        "duration": 39,
        "start_time": "2022-06-10T09:33:52.890Z"
      },
      {
        "duration": 121,
        "start_time": "2022-06-10T09:33:52.931Z"
      },
      {
        "duration": 79,
        "start_time": "2022-06-10T09:34:26.958Z"
      },
      {
        "duration": 1085,
        "start_time": "2022-06-10T09:35:10.635Z"
      },
      {
        "duration": 206,
        "start_time": "2022-06-10T09:35:11.722Z"
      },
      {
        "duration": 156,
        "start_time": "2022-06-10T09:35:11.930Z"
      },
      {
        "duration": 106,
        "start_time": "2022-06-10T09:35:12.088Z"
      },
      {
        "duration": 27,
        "start_time": "2022-06-10T09:35:12.195Z"
      },
      {
        "duration": 41,
        "start_time": "2022-06-10T09:35:12.223Z"
      },
      {
        "duration": 3,
        "start_time": "2022-06-10T09:35:12.266Z"
      },
      {
        "duration": 67,
        "start_time": "2022-06-10T09:35:12.271Z"
      },
      {
        "duration": 96,
        "start_time": "2022-06-10T09:35:12.340Z"
      },
      {
        "duration": 44,
        "start_time": "2022-06-10T09:35:12.440Z"
      },
      {
        "duration": 82,
        "start_time": "2022-06-10T09:35:12.486Z"
      },
      {
        "duration": 60,
        "start_time": "2022-06-10T09:35:12.570Z"
      },
      {
        "duration": 37,
        "start_time": "2022-06-10T09:35:12.631Z"
      },
      {
        "duration": 10,
        "start_time": "2022-06-10T09:35:12.670Z"
      },
      {
        "duration": 46,
        "start_time": "2022-06-10T09:35:12.682Z"
      },
      {
        "duration": 22,
        "start_time": "2022-06-10T09:35:12.730Z"
      },
      {
        "duration": 20,
        "start_time": "2022-06-10T09:35:12.753Z"
      },
      {
        "duration": 12,
        "start_time": "2022-06-10T09:35:12.775Z"
      },
      {
        "duration": 87,
        "start_time": "2022-06-10T09:35:12.789Z"
      },
      {
        "duration": 116,
        "start_time": "2022-06-10T09:35:12.878Z"
      },
      {
        "duration": 83,
        "start_time": "2022-06-10T09:35:12.995Z"
      },
      {
        "duration": 32,
        "start_time": "2022-06-10T09:35:13.080Z"
      },
      {
        "duration": 36,
        "start_time": "2022-06-10T09:35:13.113Z"
      },
      {
        "duration": 192,
        "start_time": "2022-06-10T09:35:13.154Z"
      },
      {
        "duration": 389,
        "start_time": "2022-06-10T09:35:13.348Z"
      },
      {
        "duration": 133,
        "start_time": "2022-06-10T09:35:13.740Z"
      },
      {
        "duration": 141,
        "start_time": "2022-06-10T09:35:13.874Z"
      },
      {
        "duration": 141,
        "start_time": "2022-06-10T09:35:14.017Z"
      },
      {
        "duration": 247,
        "start_time": "2022-06-10T09:35:14.159Z"
      },
      {
        "duration": 249,
        "start_time": "2022-06-10T09:35:14.407Z"
      },
      {
        "duration": 311,
        "start_time": "2022-06-10T09:35:14.657Z"
      },
      {
        "duration": 249,
        "start_time": "2022-06-10T09:35:14.970Z"
      },
      {
        "duration": 8,
        "start_time": "2022-06-10T09:35:15.220Z"
      },
      {
        "duration": 10,
        "start_time": "2022-06-10T09:35:15.229Z"
      },
      {
        "duration": 191,
        "start_time": "2022-06-10T09:35:15.240Z"
      },
      {
        "duration": 151,
        "start_time": "2022-06-10T09:36:03.791Z"
      },
      {
        "duration": 1067,
        "start_time": "2022-06-10T09:37:49.424Z"
      },
      {
        "duration": 167,
        "start_time": "2022-06-10T09:37:50.492Z"
      },
      {
        "duration": 136,
        "start_time": "2022-06-10T09:37:50.661Z"
      },
      {
        "duration": 95,
        "start_time": "2022-06-10T09:37:50.799Z"
      },
      {
        "duration": 23,
        "start_time": "2022-06-10T09:37:50.896Z"
      },
      {
        "duration": 35,
        "start_time": "2022-06-10T09:37:50.921Z"
      },
      {
        "duration": 2,
        "start_time": "2022-06-10T09:37:50.957Z"
      },
      {
        "duration": 66,
        "start_time": "2022-06-10T09:37:50.960Z"
      },
      {
        "duration": 71,
        "start_time": "2022-06-10T09:37:51.027Z"
      },
      {
        "duration": 44,
        "start_time": "2022-06-10T09:37:51.100Z"
      },
      {
        "duration": 58,
        "start_time": "2022-06-10T09:37:51.145Z"
      },
      {
        "duration": 56,
        "start_time": "2022-06-10T09:37:51.205Z"
      },
      {
        "duration": 32,
        "start_time": "2022-06-10T09:37:51.263Z"
      },
      {
        "duration": 8,
        "start_time": "2022-06-10T09:37:51.297Z"
      },
      {
        "duration": 24,
        "start_time": "2022-06-10T09:37:51.325Z"
      },
      {
        "duration": 12,
        "start_time": "2022-06-10T09:37:51.350Z"
      },
      {
        "duration": 13,
        "start_time": "2022-06-10T09:37:51.363Z"
      },
      {
        "duration": 9,
        "start_time": "2022-06-10T09:37:51.377Z"
      },
      {
        "duration": 80,
        "start_time": "2022-06-10T09:37:51.388Z"
      },
      {
        "duration": 99,
        "start_time": "2022-06-10T09:37:51.470Z"
      },
      {
        "duration": 67,
        "start_time": "2022-06-10T09:37:51.571Z"
      },
      {
        "duration": 27,
        "start_time": "2022-06-10T09:37:51.639Z"
      },
      {
        "duration": 22,
        "start_time": "2022-06-10T09:37:51.667Z"
      },
      {
        "duration": 109,
        "start_time": "2022-06-10T09:37:51.693Z"
      },
      {
        "duration": 0,
        "start_time": "2022-06-10T09:37:51.803Z"
      },
      {
        "duration": 0,
        "start_time": "2022-06-10T09:37:51.805Z"
      },
      {
        "duration": 0,
        "start_time": "2022-06-10T09:37:51.805Z"
      },
      {
        "duration": 0,
        "start_time": "2022-06-10T09:37:51.806Z"
      },
      {
        "duration": 0,
        "start_time": "2022-06-10T09:37:51.807Z"
      },
      {
        "duration": 0,
        "start_time": "2022-06-10T09:37:51.808Z"
      },
      {
        "duration": 0,
        "start_time": "2022-06-10T09:37:51.808Z"
      },
      {
        "duration": 0,
        "start_time": "2022-06-10T09:37:51.809Z"
      },
      {
        "duration": 0,
        "start_time": "2022-06-10T09:37:51.810Z"
      },
      {
        "duration": 0,
        "start_time": "2022-06-10T09:37:51.810Z"
      },
      {
        "duration": 0,
        "start_time": "2022-06-10T09:37:51.811Z"
      },
      {
        "duration": 147,
        "start_time": "2022-06-10T09:38:05.890Z"
      },
      {
        "duration": 1020,
        "start_time": "2022-06-10T09:38:44.711Z"
      },
      {
        "duration": 166,
        "start_time": "2022-06-10T09:38:45.732Z"
      },
      {
        "duration": 132,
        "start_time": "2022-06-10T09:38:45.900Z"
      },
      {
        "duration": 91,
        "start_time": "2022-06-10T09:38:46.034Z"
      },
      {
        "duration": 25,
        "start_time": "2022-06-10T09:38:46.126Z"
      },
      {
        "duration": 44,
        "start_time": "2022-06-10T09:38:46.153Z"
      },
      {
        "duration": 2,
        "start_time": "2022-06-10T09:38:46.198Z"
      },
      {
        "duration": 72,
        "start_time": "2022-06-10T09:38:46.201Z"
      },
      {
        "duration": 82,
        "start_time": "2022-06-10T09:38:46.274Z"
      },
      {
        "duration": 35,
        "start_time": "2022-06-10T09:38:46.358Z"
      },
      {
        "duration": 69,
        "start_time": "2022-06-10T09:38:46.394Z"
      },
      {
        "duration": 63,
        "start_time": "2022-06-10T09:38:46.464Z"
      },
      {
        "duration": 41,
        "start_time": "2022-06-10T09:38:46.529Z"
      },
      {
        "duration": 11,
        "start_time": "2022-06-10T09:38:46.571Z"
      },
      {
        "duration": 47,
        "start_time": "2022-06-10T09:38:46.584Z"
      },
      {
        "duration": 16,
        "start_time": "2022-06-10T09:38:46.633Z"
      },
      {
        "duration": 17,
        "start_time": "2022-06-10T09:38:46.651Z"
      },
      {
        "duration": 11,
        "start_time": "2022-06-10T09:38:46.670Z"
      },
      {
        "duration": 92,
        "start_time": "2022-06-10T09:38:46.683Z"
      },
      {
        "duration": 106,
        "start_time": "2022-06-10T09:38:46.777Z"
      },
      {
        "duration": 68,
        "start_time": "2022-06-10T09:38:46.884Z"
      },
      {
        "duration": 26,
        "start_time": "2022-06-10T09:38:46.954Z"
      },
      {
        "duration": 23,
        "start_time": "2022-06-10T09:38:46.982Z"
      },
      {
        "duration": 164,
        "start_time": "2022-06-10T09:38:47.029Z"
      },
      {
        "duration": 314,
        "start_time": "2022-06-10T09:38:47.195Z"
      },
      {
        "duration": 133,
        "start_time": "2022-06-10T09:38:47.525Z"
      },
      {
        "duration": 140,
        "start_time": "2022-06-10T09:38:47.660Z"
      },
      {
        "duration": 130,
        "start_time": "2022-06-10T09:38:47.802Z"
      },
      {
        "duration": 248,
        "start_time": "2022-06-10T09:38:47.933Z"
      },
      {
        "duration": 244,
        "start_time": "2022-06-10T09:38:48.183Z"
      },
      {
        "duration": 326,
        "start_time": "2022-06-10T09:38:48.429Z"
      },
      {
        "duration": 269,
        "start_time": "2022-06-10T09:38:48.757Z"
      },
      {
        "duration": 5,
        "start_time": "2022-06-10T09:38:49.028Z"
      },
      {
        "duration": 13,
        "start_time": "2022-06-10T09:38:49.034Z"
      },
      {
        "duration": 170,
        "start_time": "2022-06-10T09:38:49.048Z"
      },
      {
        "duration": 2,
        "start_time": "2022-06-10T09:39:18.568Z"
      },
      {
        "duration": 125,
        "start_time": "2022-06-10T09:39:22.260Z"
      },
      {
        "duration": 141,
        "start_time": "2022-06-10T09:39:51.272Z"
      },
      {
        "duration": 295,
        "start_time": "2022-06-10T09:39:59.939Z"
      },
      {
        "duration": 157,
        "start_time": "2022-06-10T09:40:18.187Z"
      },
      {
        "duration": 8,
        "start_time": "2022-06-10T09:41:02.393Z"
      },
      {
        "duration": 160,
        "start_time": "2022-06-10T09:41:39.836Z"
      },
      {
        "duration": 163,
        "start_time": "2022-06-10T09:41:48.249Z"
      },
      {
        "duration": 149,
        "start_time": "2022-06-10T09:43:27.898Z"
      },
      {
        "duration": 243,
        "start_time": "2022-06-10T09:46:45.928Z"
      },
      {
        "duration": 193,
        "start_time": "2022-06-10T09:48:20.513Z"
      },
      {
        "duration": 224,
        "start_time": "2022-06-10T09:49:42.409Z"
      },
      {
        "duration": 171,
        "start_time": "2022-06-10T09:50:42.540Z"
      },
      {
        "duration": 168,
        "start_time": "2022-06-10T09:52:38.408Z"
      },
      {
        "duration": 151,
        "start_time": "2022-06-10T09:52:46.377Z"
      },
      {
        "duration": 158,
        "start_time": "2022-06-10T09:53:37.752Z"
      },
      {
        "duration": 150,
        "start_time": "2022-06-10T09:55:14.874Z"
      },
      {
        "duration": 155,
        "start_time": "2022-06-10T09:57:15.742Z"
      },
      {
        "duration": 227,
        "start_time": "2022-06-10T09:57:25.088Z"
      },
      {
        "duration": 8,
        "start_time": "2022-06-10T09:58:04.281Z"
      },
      {
        "duration": 4,
        "start_time": "2022-06-10T09:58:11.814Z"
      },
      {
        "duration": 94,
        "start_time": "2022-06-10T09:58:14.581Z"
      },
      {
        "duration": 9,
        "start_time": "2022-06-10T09:58:23.871Z"
      },
      {
        "duration": 8,
        "start_time": "2022-06-10T09:58:32.515Z"
      },
      {
        "duration": 10,
        "start_time": "2022-06-10T09:58:48.561Z"
      },
      {
        "duration": 16,
        "start_time": "2022-06-10T10:01:16.884Z"
      },
      {
        "duration": 13,
        "start_time": "2022-06-10T10:01:21.708Z"
      },
      {
        "duration": 16,
        "start_time": "2022-06-10T10:02:01.469Z"
      },
      {
        "duration": 33,
        "start_time": "2022-06-10T10:03:52.200Z"
      },
      {
        "duration": 46,
        "start_time": "2022-06-10T10:04:25.285Z"
      },
      {
        "duration": 48,
        "start_time": "2022-06-10T10:04:49.576Z"
      },
      {
        "duration": 42,
        "start_time": "2022-06-10T10:05:08.206Z"
      },
      {
        "duration": 4,
        "start_time": "2022-06-10T10:11:47.500Z"
      },
      {
        "duration": 11,
        "start_time": "2022-06-10T10:11:51.766Z"
      },
      {
        "duration": 9,
        "start_time": "2022-06-10T10:13:11.654Z"
      },
      {
        "duration": 9,
        "start_time": "2022-06-10T10:13:14.183Z"
      },
      {
        "duration": 10,
        "start_time": "2022-06-10T10:14:10.814Z"
      },
      {
        "duration": 9,
        "start_time": "2022-06-10T10:14:21.432Z"
      },
      {
        "duration": 35,
        "start_time": "2022-06-10T10:16:03.484Z"
      },
      {
        "duration": 30,
        "start_time": "2022-06-10T10:16:24.247Z"
      },
      {
        "duration": 1037,
        "start_time": "2022-06-10T10:16:55.890Z"
      },
      {
        "duration": 186,
        "start_time": "2022-06-10T10:16:56.929Z"
      },
      {
        "duration": 141,
        "start_time": "2022-06-10T10:16:57.116Z"
      },
      {
        "duration": 94,
        "start_time": "2022-06-10T10:16:57.259Z"
      },
      {
        "duration": 27,
        "start_time": "2022-06-10T10:16:57.355Z"
      },
      {
        "duration": 40,
        "start_time": "2022-06-10T10:16:57.383Z"
      },
      {
        "duration": 2,
        "start_time": "2022-06-10T10:16:57.425Z"
      },
      {
        "duration": 62,
        "start_time": "2022-06-10T10:16:57.428Z"
      },
      {
        "duration": 88,
        "start_time": "2022-06-10T10:16:57.492Z"
      },
      {
        "duration": 45,
        "start_time": "2022-06-10T10:16:57.582Z"
      },
      {
        "duration": 62,
        "start_time": "2022-06-10T10:16:57.628Z"
      },
      {
        "duration": 62,
        "start_time": "2022-06-10T10:16:57.692Z"
      },
      {
        "duration": 32,
        "start_time": "2022-06-10T10:16:57.756Z"
      },
      {
        "duration": 8,
        "start_time": "2022-06-10T10:16:57.789Z"
      },
      {
        "duration": 37,
        "start_time": "2022-06-10T10:16:57.799Z"
      },
      {
        "duration": 15,
        "start_time": "2022-06-10T10:16:57.837Z"
      },
      {
        "duration": 14,
        "start_time": "2022-06-10T10:16:57.853Z"
      },
      {
        "duration": 9,
        "start_time": "2022-06-10T10:16:57.868Z"
      },
      {
        "duration": 79,
        "start_time": "2022-06-10T10:16:57.878Z"
      },
      {
        "duration": 107,
        "start_time": "2022-06-10T10:16:57.959Z"
      },
      {
        "duration": 74,
        "start_time": "2022-06-10T10:16:58.067Z"
      },
      {
        "duration": 28,
        "start_time": "2022-06-10T10:16:58.143Z"
      },
      {
        "duration": 24,
        "start_time": "2022-06-10T10:16:58.172Z"
      },
      {
        "duration": 2,
        "start_time": "2022-06-10T10:16:58.198Z"
      },
      {
        "duration": 160,
        "start_time": "2022-06-10T10:16:58.226Z"
      },
      {
        "duration": 159,
        "start_time": "2022-06-10T10:16:58.388Z"
      },
      {
        "duration": 173,
        "start_time": "2022-06-10T10:16:58.549Z"
      },
      {
        "duration": 164,
        "start_time": "2022-06-10T10:16:58.724Z"
      },
      {
        "duration": 173,
        "start_time": "2022-06-10T10:16:58.890Z"
      },
      {
        "duration": 155,
        "start_time": "2022-06-10T10:16:59.065Z"
      },
      {
        "duration": 192,
        "start_time": "2022-06-10T10:16:59.221Z"
      },
      {
        "duration": 15,
        "start_time": "2022-06-10T10:16:59.414Z"
      },
      {
        "duration": 22,
        "start_time": "2022-06-10T10:16:59.431Z"
      },
      {
        "duration": 0,
        "start_time": "2022-06-10T10:16:59.455Z"
      },
      {
        "duration": 0,
        "start_time": "2022-06-10T10:16:59.456Z"
      },
      {
        "duration": 0,
        "start_time": "2022-06-10T10:16:59.457Z"
      },
      {
        "duration": 0,
        "start_time": "2022-06-10T10:16:59.458Z"
      },
      {
        "duration": 0,
        "start_time": "2022-06-10T10:16:59.459Z"
      },
      {
        "duration": 0,
        "start_time": "2022-06-10T10:16:59.460Z"
      },
      {
        "duration": 0,
        "start_time": "2022-06-10T10:16:59.462Z"
      },
      {
        "duration": 0,
        "start_time": "2022-06-10T10:16:59.463Z"
      },
      {
        "duration": 0,
        "start_time": "2022-06-10T10:16:59.464Z"
      },
      {
        "duration": 36,
        "start_time": "2022-06-10T10:19:34.626Z"
      },
      {
        "duration": 5,
        "start_time": "2022-06-10T10:20:12.645Z"
      },
      {
        "duration": 5,
        "start_time": "2022-06-10T10:20:18.487Z"
      },
      {
        "duration": 96,
        "start_time": "2022-06-10T10:21:07.622Z"
      },
      {
        "duration": 241,
        "start_time": "2022-06-10T10:21:30.055Z"
      },
      {
        "duration": 224,
        "start_time": "2022-06-10T10:21:33.988Z"
      },
      {
        "duration": 230,
        "start_time": "2022-06-10T10:22:06.282Z"
      },
      {
        "duration": 12,
        "start_time": "2022-06-10T10:22:21.183Z"
      },
      {
        "duration": 242,
        "start_time": "2022-06-10T10:22:40.679Z"
      },
      {
        "duration": 5,
        "start_time": "2022-06-10T10:22:53.294Z"
      },
      {
        "duration": 11,
        "start_time": "2022-06-10T10:24:49.575Z"
      },
      {
        "duration": 13,
        "start_time": "2022-06-10T10:24:57.982Z"
      },
      {
        "duration": 5,
        "start_time": "2022-06-10T10:25:03.381Z"
      },
      {
        "duration": 263,
        "start_time": "2022-06-10T10:25:52.525Z"
      },
      {
        "duration": 209,
        "start_time": "2022-06-10T10:26:16.156Z"
      },
      {
        "duration": 12,
        "start_time": "2022-06-10T10:37:20.509Z"
      },
      {
        "duration": 22,
        "start_time": "2022-06-10T10:40:50.337Z"
      },
      {
        "duration": 562,
        "start_time": "2022-06-10T10:42:24.429Z"
      },
      {
        "duration": 478,
        "start_time": "2022-06-10T10:42:43.773Z"
      },
      {
        "duration": 24,
        "start_time": "2022-06-10T10:44:05.772Z"
      },
      {
        "duration": 484,
        "start_time": "2022-06-10T10:44:38.569Z"
      },
      {
        "duration": 577,
        "start_time": "2022-06-10T10:44:46.788Z"
      },
      {
        "duration": 505,
        "start_time": "2022-06-10T10:45:07.974Z"
      },
      {
        "duration": 476,
        "start_time": "2022-06-10T10:45:21.220Z"
      },
      {
        "duration": 511,
        "start_time": "2022-06-10T10:45:45.381Z"
      },
      {
        "duration": 22,
        "start_time": "2022-06-10T10:46:01.044Z"
      },
      {
        "duration": 17,
        "start_time": "2022-06-10T10:46:55.683Z"
      },
      {
        "duration": 12,
        "start_time": "2022-06-10T10:47:20.250Z"
      },
      {
        "duration": 17,
        "start_time": "2022-06-10T10:47:25.229Z"
      },
      {
        "duration": 19,
        "start_time": "2022-06-10T10:49:58.345Z"
      },
      {
        "duration": 21,
        "start_time": "2022-06-10T10:50:16.580Z"
      },
      {
        "duration": 10,
        "start_time": "2022-06-10T10:51:18.114Z"
      },
      {
        "duration": 11,
        "start_time": "2022-06-10T10:51:32.878Z"
      },
      {
        "duration": 21,
        "start_time": "2022-06-10T10:52:05.338Z"
      },
      {
        "duration": 16,
        "start_time": "2022-06-10T10:52:31.562Z"
      },
      {
        "duration": 16,
        "start_time": "2022-06-10T10:57:24.846Z"
      },
      {
        "duration": 16,
        "start_time": "2022-06-10T10:58:29.873Z"
      },
      {
        "duration": 20,
        "start_time": "2022-06-10T10:58:50.873Z"
      },
      {
        "duration": 44,
        "start_time": "2022-06-10T11:01:14.402Z"
      },
      {
        "duration": 1169,
        "start_time": "2022-06-10T11:01:23.163Z"
      },
      {
        "duration": 225,
        "start_time": "2022-06-10T11:01:24.334Z"
      },
      {
        "duration": 179,
        "start_time": "2022-06-10T11:01:24.560Z"
      },
      {
        "duration": 122,
        "start_time": "2022-06-10T11:01:24.742Z"
      },
      {
        "duration": 30,
        "start_time": "2022-06-10T11:01:24.866Z"
      },
      {
        "duration": 45,
        "start_time": "2022-06-10T11:01:24.898Z"
      },
      {
        "duration": 2,
        "start_time": "2022-06-10T11:01:24.946Z"
      },
      {
        "duration": 90,
        "start_time": "2022-06-10T11:01:24.950Z"
      },
      {
        "duration": 100,
        "start_time": "2022-06-10T11:01:25.042Z"
      },
      {
        "duration": 47,
        "start_time": "2022-06-10T11:01:25.147Z"
      },
      {
        "duration": 102,
        "start_time": "2022-06-10T11:01:25.196Z"
      },
      {
        "duration": 65,
        "start_time": "2022-06-10T11:01:25.300Z"
      },
      {
        "duration": 69,
        "start_time": "2022-06-10T11:01:25.367Z"
      },
      {
        "duration": 13,
        "start_time": "2022-06-10T11:01:25.438Z"
      },
      {
        "duration": 37,
        "start_time": "2022-06-10T11:01:25.454Z"
      },
      {
        "duration": 42,
        "start_time": "2022-06-10T11:01:25.493Z"
      },
      {
        "duration": 17,
        "start_time": "2022-06-10T11:01:25.537Z"
      },
      {
        "duration": 12,
        "start_time": "2022-06-10T11:01:25.556Z"
      },
      {
        "duration": 85,
        "start_time": "2022-06-10T11:01:25.570Z"
      },
      {
        "duration": 125,
        "start_time": "2022-06-10T11:01:25.659Z"
      },
      {
        "duration": 90,
        "start_time": "2022-06-10T11:01:25.786Z"
      },
      {
        "duration": 49,
        "start_time": "2022-06-10T11:01:25.878Z"
      },
      {
        "duration": 42,
        "start_time": "2022-06-10T11:01:25.929Z"
      },
      {
        "duration": 3,
        "start_time": "2022-06-10T11:01:25.974Z"
      },
      {
        "duration": 445,
        "start_time": "2022-06-10T11:01:25.984Z"
      },
      {
        "duration": 501,
        "start_time": "2022-06-10T11:01:26.432Z"
      },
      {
        "duration": 422,
        "start_time": "2022-06-10T11:01:26.935Z"
      },
      {
        "duration": 381,
        "start_time": "2022-06-10T11:01:27.359Z"
      },
      {
        "duration": 394,
        "start_time": "2022-06-10T11:01:27.743Z"
      },
      {
        "duration": 187,
        "start_time": "2022-06-10T11:01:28.138Z"
      },
      {
        "duration": 211,
        "start_time": "2022-06-10T11:01:28.327Z"
      },
      {
        "duration": 26,
        "start_time": "2022-06-10T11:01:28.540Z"
      },
      {
        "duration": 112,
        "start_time": "2022-06-10T11:01:28.567Z"
      },
      {
        "duration": 0,
        "start_time": "2022-06-10T11:01:28.681Z"
      },
      {
        "duration": 0,
        "start_time": "2022-06-10T11:01:28.682Z"
      },
      {
        "duration": 0,
        "start_time": "2022-06-10T11:01:28.683Z"
      },
      {
        "duration": 0,
        "start_time": "2022-06-10T11:01:28.685Z"
      },
      {
        "duration": 0,
        "start_time": "2022-06-10T11:01:28.686Z"
      },
      {
        "duration": 0,
        "start_time": "2022-06-10T11:01:28.688Z"
      },
      {
        "duration": 0,
        "start_time": "2022-06-10T11:01:28.688Z"
      },
      {
        "duration": 0,
        "start_time": "2022-06-10T11:01:28.690Z"
      },
      {
        "duration": 0,
        "start_time": "2022-06-10T11:01:28.691Z"
      },
      {
        "duration": 38,
        "start_time": "2022-06-10T11:02:29.474Z"
      },
      {
        "duration": 30,
        "start_time": "2022-06-10T11:02:45.775Z"
      },
      {
        "duration": 1020,
        "start_time": "2022-06-10T11:02:57.563Z"
      },
      {
        "duration": 192,
        "start_time": "2022-06-10T11:02:58.585Z"
      },
      {
        "duration": 154,
        "start_time": "2022-06-10T11:02:58.779Z"
      },
      {
        "duration": 98,
        "start_time": "2022-06-10T11:02:58.935Z"
      },
      {
        "duration": 27,
        "start_time": "2022-06-10T11:02:59.035Z"
      },
      {
        "duration": 41,
        "start_time": "2022-06-10T11:02:59.063Z"
      },
      {
        "duration": 2,
        "start_time": "2022-06-10T11:02:59.106Z"
      },
      {
        "duration": 66,
        "start_time": "2022-06-10T11:02:59.109Z"
      },
      {
        "duration": 100,
        "start_time": "2022-06-10T11:02:59.177Z"
      },
      {
        "duration": 36,
        "start_time": "2022-06-10T11:02:59.280Z"
      },
      {
        "duration": 62,
        "start_time": "2022-06-10T11:02:59.325Z"
      },
      {
        "duration": 61,
        "start_time": "2022-06-10T11:02:59.388Z"
      },
      {
        "duration": 38,
        "start_time": "2022-06-10T11:02:59.450Z"
      },
      {
        "duration": 9,
        "start_time": "2022-06-10T11:02:59.490Z"
      },
      {
        "duration": 45,
        "start_time": "2022-06-10T11:02:59.500Z"
      },
      {
        "duration": 13,
        "start_time": "2022-06-10T11:02:59.546Z"
      },
      {
        "duration": 12,
        "start_time": "2022-06-10T11:02:59.561Z"
      },
      {
        "duration": 8,
        "start_time": "2022-06-10T11:02:59.575Z"
      },
      {
        "duration": 73,
        "start_time": "2022-06-10T11:02:59.584Z"
      },
      {
        "duration": 102,
        "start_time": "2022-06-10T11:02:59.659Z"
      },
      {
        "duration": 74,
        "start_time": "2022-06-10T11:02:59.762Z"
      },
      {
        "duration": 27,
        "start_time": "2022-06-10T11:02:59.837Z"
      },
      {
        "duration": 23,
        "start_time": "2022-06-10T11:02:59.865Z"
      },
      {
        "duration": 3,
        "start_time": "2022-06-10T11:02:59.889Z"
      },
      {
        "duration": 182,
        "start_time": "2022-06-10T11:02:59.896Z"
      },
      {
        "duration": 181,
        "start_time": "2022-06-10T11:03:00.081Z"
      },
      {
        "duration": 199,
        "start_time": "2022-06-10T11:03:00.264Z"
      },
      {
        "duration": 175,
        "start_time": "2022-06-10T11:03:00.465Z"
      },
      {
        "duration": 201,
        "start_time": "2022-06-10T11:03:00.642Z"
      },
      {
        "duration": 182,
        "start_time": "2022-06-10T11:03:00.845Z"
      },
      {
        "duration": 182,
        "start_time": "2022-06-10T11:03:01.028Z"
      },
      {
        "duration": 29,
        "start_time": "2022-06-10T11:03:01.211Z"
      },
      {
        "duration": 100,
        "start_time": "2022-06-10T11:03:01.242Z"
      },
      {
        "duration": 0,
        "start_time": "2022-06-10T11:03:01.344Z"
      },
      {
        "duration": 0,
        "start_time": "2022-06-10T11:03:01.345Z"
      },
      {
        "duration": 0,
        "start_time": "2022-06-10T11:03:01.346Z"
      },
      {
        "duration": 0,
        "start_time": "2022-06-10T11:03:01.347Z"
      },
      {
        "duration": 0,
        "start_time": "2022-06-10T11:03:01.348Z"
      },
      {
        "duration": 0,
        "start_time": "2022-06-10T11:03:01.349Z"
      },
      {
        "duration": 0,
        "start_time": "2022-06-10T11:03:01.350Z"
      },
      {
        "duration": 0,
        "start_time": "2022-06-10T11:03:01.351Z"
      },
      {
        "duration": 0,
        "start_time": "2022-06-10T11:03:01.352Z"
      },
      {
        "duration": 522,
        "start_time": "2022-06-10T11:05:46.248Z"
      },
      {
        "duration": 15,
        "start_time": "2022-06-10T11:06:24.528Z"
      },
      {
        "duration": 22,
        "start_time": "2022-06-10T11:06:36.627Z"
      },
      {
        "duration": 22,
        "start_time": "2022-06-10T11:07:34.913Z"
      },
      {
        "duration": 22,
        "start_time": "2022-06-10T11:07:47.769Z"
      },
      {
        "duration": 19,
        "start_time": "2022-06-10T11:09:04.032Z"
      },
      {
        "duration": 29,
        "start_time": "2022-06-10T11:10:12.533Z"
      },
      {
        "duration": 24,
        "start_time": "2022-06-10T11:10:20.098Z"
      },
      {
        "duration": 34,
        "start_time": "2022-06-10T11:10:31.893Z"
      },
      {
        "duration": 32,
        "start_time": "2022-06-10T11:10:50.105Z"
      },
      {
        "duration": 15,
        "start_time": "2022-06-10T11:11:01.761Z"
      },
      {
        "duration": 19,
        "start_time": "2022-06-10T11:12:26.958Z"
      },
      {
        "duration": 12,
        "start_time": "2022-06-10T11:13:09.695Z"
      },
      {
        "duration": 11,
        "start_time": "2022-06-10T11:13:21.323Z"
      },
      {
        "duration": 16,
        "start_time": "2022-06-10T11:13:27.642Z"
      },
      {
        "duration": 13,
        "start_time": "2022-06-10T11:13:44.210Z"
      },
      {
        "duration": 13,
        "start_time": "2022-06-10T11:15:11.912Z"
      },
      {
        "duration": 25,
        "start_time": "2022-06-10T11:15:59.480Z"
      },
      {
        "duration": 41,
        "start_time": "2022-06-10T11:18:01.426Z"
      },
      {
        "duration": 37,
        "start_time": "2022-06-10T11:18:08.766Z"
      },
      {
        "duration": 18,
        "start_time": "2022-06-10T11:18:11.601Z"
      },
      {
        "duration": 36,
        "start_time": "2022-06-10T11:20:22.306Z"
      },
      {
        "duration": 477,
        "start_time": "2022-06-10T11:21:29.843Z"
      },
      {
        "duration": 4,
        "start_time": "2022-06-10T11:22:35.172Z"
      },
      {
        "duration": 13,
        "start_time": "2022-06-10T11:22:47.248Z"
      },
      {
        "duration": 12,
        "start_time": "2022-06-10T11:23:57.335Z"
      },
      {
        "duration": 1069,
        "start_time": "2022-06-10T11:24:04.720Z"
      },
      {
        "duration": 187,
        "start_time": "2022-06-10T11:24:05.791Z"
      },
      {
        "duration": 155,
        "start_time": "2022-06-10T11:24:05.980Z"
      },
      {
        "duration": 104,
        "start_time": "2022-06-10T11:24:06.137Z"
      },
      {
        "duration": 28,
        "start_time": "2022-06-10T11:24:06.243Z"
      },
      {
        "duration": 41,
        "start_time": "2022-06-10T11:24:06.272Z"
      },
      {
        "duration": 2,
        "start_time": "2022-06-10T11:24:06.315Z"
      },
      {
        "duration": 66,
        "start_time": "2022-06-10T11:24:06.318Z"
      },
      {
        "duration": 101,
        "start_time": "2022-06-10T11:24:06.385Z"
      },
      {
        "duration": 55,
        "start_time": "2022-06-10T11:24:06.489Z"
      },
      {
        "duration": 91,
        "start_time": "2022-06-10T11:24:06.546Z"
      },
      {
        "duration": 61,
        "start_time": "2022-06-10T11:24:06.639Z"
      },
      {
        "duration": 58,
        "start_time": "2022-06-10T11:24:06.702Z"
      },
      {
        "duration": 13,
        "start_time": "2022-06-10T11:24:06.764Z"
      },
      {
        "duration": 49,
        "start_time": "2022-06-10T11:24:06.779Z"
      },
      {
        "duration": 18,
        "start_time": "2022-06-10T11:24:06.829Z"
      },
      {
        "duration": 14,
        "start_time": "2022-06-10T11:24:06.848Z"
      },
      {
        "duration": 9,
        "start_time": "2022-06-10T11:24:06.863Z"
      },
      {
        "duration": 80,
        "start_time": "2022-06-10T11:24:06.873Z"
      },
      {
        "duration": 100,
        "start_time": "2022-06-10T11:24:06.955Z"
      },
      {
        "duration": 68,
        "start_time": "2022-06-10T11:24:07.057Z"
      },
      {
        "duration": 25,
        "start_time": "2022-06-10T11:24:07.127Z"
      },
      {
        "duration": 23,
        "start_time": "2022-06-10T11:24:07.153Z"
      },
      {
        "duration": 3,
        "start_time": "2022-06-10T11:24:07.177Z"
      },
      {
        "duration": 164,
        "start_time": "2022-06-10T11:24:07.184Z"
      },
      {
        "duration": 169,
        "start_time": "2022-06-10T11:24:07.350Z"
      },
      {
        "duration": 181,
        "start_time": "2022-06-10T11:24:07.524Z"
      },
      {
        "duration": 171,
        "start_time": "2022-06-10T11:24:07.707Z"
      },
      {
        "duration": 165,
        "start_time": "2022-06-10T11:24:07.880Z"
      },
      {
        "duration": 140,
        "start_time": "2022-06-10T11:24:08.047Z"
      },
      {
        "duration": 201,
        "start_time": "2022-06-10T11:24:08.189Z"
      },
      {
        "duration": 14,
        "start_time": "2022-06-10T11:24:08.392Z"
      },
      {
        "duration": 134,
        "start_time": "2022-06-10T11:24:08.407Z"
      },
      {
        "duration": 0,
        "start_time": "2022-06-10T11:24:08.543Z"
      },
      {
        "duration": 0,
        "start_time": "2022-06-10T11:24:08.544Z"
      },
      {
        "duration": 0,
        "start_time": "2022-06-10T11:24:08.545Z"
      },
      {
        "duration": 0,
        "start_time": "2022-06-10T11:24:08.546Z"
      },
      {
        "duration": 0,
        "start_time": "2022-06-10T11:24:08.547Z"
      },
      {
        "duration": 0,
        "start_time": "2022-06-10T11:24:08.548Z"
      },
      {
        "duration": 0,
        "start_time": "2022-06-10T11:24:08.549Z"
      },
      {
        "duration": 0,
        "start_time": "2022-06-10T11:24:08.550Z"
      },
      {
        "duration": 0,
        "start_time": "2022-06-10T11:24:08.551Z"
      },
      {
        "duration": 1015,
        "start_time": "2022-06-10T11:25:19.791Z"
      },
      {
        "duration": 196,
        "start_time": "2022-06-10T11:25:20.808Z"
      },
      {
        "duration": 149,
        "start_time": "2022-06-10T11:25:21.005Z"
      },
      {
        "duration": 104,
        "start_time": "2022-06-10T11:25:21.155Z"
      },
      {
        "duration": 27,
        "start_time": "2022-06-10T11:25:21.261Z"
      },
      {
        "duration": 41,
        "start_time": "2022-06-10T11:25:21.290Z"
      },
      {
        "duration": 2,
        "start_time": "2022-06-10T11:25:21.332Z"
      },
      {
        "duration": 69,
        "start_time": "2022-06-10T11:25:21.336Z"
      },
      {
        "duration": 98,
        "start_time": "2022-06-10T11:25:21.407Z"
      },
      {
        "duration": 50,
        "start_time": "2022-06-10T11:25:21.507Z"
      },
      {
        "duration": 76,
        "start_time": "2022-06-10T11:25:21.558Z"
      },
      {
        "duration": 47,
        "start_time": "2022-06-10T11:25:21.636Z"
      },
      {
        "duration": 59,
        "start_time": "2022-06-10T11:25:21.685Z"
      },
      {
        "duration": 9,
        "start_time": "2022-06-10T11:25:21.745Z"
      },
      {
        "duration": 27,
        "start_time": "2022-06-10T11:25:21.755Z"
      },
      {
        "duration": 15,
        "start_time": "2022-06-10T11:25:21.784Z"
      },
      {
        "duration": 33,
        "start_time": "2022-06-10T11:25:21.800Z"
      },
      {
        "duration": 9,
        "start_time": "2022-06-10T11:25:21.835Z"
      },
      {
        "duration": 52,
        "start_time": "2022-06-10T11:25:21.845Z"
      },
      {
        "duration": 121,
        "start_time": "2022-06-10T11:25:21.899Z"
      },
      {
        "duration": 66,
        "start_time": "2022-06-10T11:25:22.022Z"
      },
      {
        "duration": 46,
        "start_time": "2022-06-10T11:25:22.090Z"
      },
      {
        "duration": 25,
        "start_time": "2022-06-10T11:25:22.138Z"
      },
      {
        "duration": 3,
        "start_time": "2022-06-10T11:25:22.164Z"
      },
      {
        "duration": 182,
        "start_time": "2022-06-10T11:25:22.172Z"
      },
      {
        "duration": 159,
        "start_time": "2022-06-10T11:25:22.357Z"
      },
      {
        "duration": 182,
        "start_time": "2022-06-10T11:25:22.526Z"
      },
      {
        "duration": 176,
        "start_time": "2022-06-10T11:25:22.709Z"
      },
      {
        "duration": 189,
        "start_time": "2022-06-10T11:25:22.886Z"
      },
      {
        "duration": 141,
        "start_time": "2022-06-10T11:25:23.077Z"
      },
      {
        "duration": 177,
        "start_time": "2022-06-10T11:25:23.219Z"
      },
      {
        "duration": 29,
        "start_time": "2022-06-10T11:25:23.398Z"
      },
      {
        "duration": 106,
        "start_time": "2022-06-10T11:25:23.429Z"
      },
      {
        "duration": 0,
        "start_time": "2022-06-10T11:25:23.537Z"
      },
      {
        "duration": 0,
        "start_time": "2022-06-10T11:25:23.538Z"
      },
      {
        "duration": 0,
        "start_time": "2022-06-10T11:25:23.540Z"
      },
      {
        "duration": 0,
        "start_time": "2022-06-10T11:25:23.541Z"
      },
      {
        "duration": 1,
        "start_time": "2022-06-10T11:25:23.542Z"
      },
      {
        "duration": 0,
        "start_time": "2022-06-10T11:25:23.544Z"
      },
      {
        "duration": 0,
        "start_time": "2022-06-10T11:25:23.545Z"
      },
      {
        "duration": 0,
        "start_time": "2022-06-10T11:25:23.546Z"
      },
      {
        "duration": 0,
        "start_time": "2022-06-10T11:25:23.548Z"
      },
      {
        "duration": 15,
        "start_time": "2022-06-10T11:26:36.152Z"
      },
      {
        "duration": 42,
        "start_time": "2022-06-10T11:26:47.110Z"
      },
      {
        "duration": 29,
        "start_time": "2022-06-10T11:26:50.523Z"
      },
      {
        "duration": 20,
        "start_time": "2022-06-10T11:27:00.881Z"
      },
      {
        "duration": 1129,
        "start_time": "2022-06-10T11:27:28.995Z"
      },
      {
        "duration": 193,
        "start_time": "2022-06-10T11:27:30.126Z"
      },
      {
        "duration": 171,
        "start_time": "2022-06-10T11:27:30.325Z"
      },
      {
        "duration": 110,
        "start_time": "2022-06-10T11:27:30.498Z"
      },
      {
        "duration": 27,
        "start_time": "2022-06-10T11:27:30.610Z"
      },
      {
        "duration": 43,
        "start_time": "2022-06-10T11:27:30.639Z"
      },
      {
        "duration": 3,
        "start_time": "2022-06-10T11:27:30.684Z"
      },
      {
        "duration": 92,
        "start_time": "2022-06-10T11:27:30.689Z"
      },
      {
        "duration": 90,
        "start_time": "2022-06-10T11:27:30.783Z"
      },
      {
        "duration": 52,
        "start_time": "2022-06-10T11:27:30.875Z"
      },
      {
        "duration": 61,
        "start_time": "2022-06-10T11:27:30.928Z"
      },
      {
        "duration": 67,
        "start_time": "2022-06-10T11:27:30.990Z"
      },
      {
        "duration": 42,
        "start_time": "2022-06-10T11:27:31.058Z"
      },
      {
        "duration": 26,
        "start_time": "2022-06-10T11:27:31.104Z"
      },
      {
        "duration": 63,
        "start_time": "2022-06-10T11:27:31.131Z"
      },
      {
        "duration": 23,
        "start_time": "2022-06-10T11:27:31.197Z"
      },
      {
        "duration": 27,
        "start_time": "2022-06-10T11:27:31.222Z"
      },
      {
        "duration": 16,
        "start_time": "2022-06-10T11:27:31.251Z"
      },
      {
        "duration": 108,
        "start_time": "2022-06-10T11:27:31.269Z"
      },
      {
        "duration": 120,
        "start_time": "2022-06-10T11:27:31.379Z"
      },
      {
        "duration": 120,
        "start_time": "2022-06-10T11:27:31.501Z"
      },
      {
        "duration": 32,
        "start_time": "2022-06-10T11:27:31.626Z"
      },
      {
        "duration": 41,
        "start_time": "2022-06-10T11:27:31.660Z"
      },
      {
        "duration": 10,
        "start_time": "2022-06-10T11:27:31.703Z"
      },
      {
        "duration": 194,
        "start_time": "2022-06-10T11:27:31.719Z"
      },
      {
        "duration": 230,
        "start_time": "2022-06-10T11:27:31.915Z"
      },
      {
        "duration": 178,
        "start_time": "2022-06-10T11:27:32.147Z"
      },
      {
        "duration": 173,
        "start_time": "2022-06-10T11:27:32.326Z"
      },
      {
        "duration": 197,
        "start_time": "2022-06-10T11:27:32.501Z"
      },
      {
        "duration": 172,
        "start_time": "2022-06-10T11:27:32.701Z"
      },
      {
        "duration": 222,
        "start_time": "2022-06-10T11:27:32.875Z"
      },
      {
        "duration": 27,
        "start_time": "2022-06-10T11:27:33.099Z"
      },
      {
        "duration": 165,
        "start_time": "2022-06-10T11:27:33.128Z"
      },
      {
        "duration": 215,
        "start_time": "2022-06-10T11:27:33.295Z"
      },
      {
        "duration": 296,
        "start_time": "2022-06-10T11:27:33.512Z"
      },
      {
        "duration": 304,
        "start_time": "2022-06-10T11:27:33.810Z"
      },
      {
        "duration": 10,
        "start_time": "2022-06-10T11:27:34.116Z"
      },
      {
        "duration": 12,
        "start_time": "2022-06-10T11:27:34.128Z"
      },
      {
        "duration": 6,
        "start_time": "2022-06-10T11:32:31.891Z"
      },
      {
        "duration": 8,
        "start_time": "2022-06-10T11:32:38.611Z"
      },
      {
        "duration": 7,
        "start_time": "2022-06-10T11:32:50.985Z"
      },
      {
        "duration": 8,
        "start_time": "2022-06-10T11:33:06.012Z"
      },
      {
        "duration": 104,
        "start_time": "2022-06-10T11:38:20.398Z"
      },
      {
        "duration": 30,
        "start_time": "2022-06-10T11:39:27.982Z"
      },
      {
        "duration": 45,
        "start_time": "2022-06-10T11:40:23.592Z"
      },
      {
        "duration": 23,
        "start_time": "2022-06-10T11:46:37.954Z"
      },
      {
        "duration": 35,
        "start_time": "2022-06-10T11:46:48.299Z"
      },
      {
        "duration": 148,
        "start_time": "2022-06-10T12:20:05.338Z"
      },
      {
        "duration": 196,
        "start_time": "2022-06-10T12:20:52.276Z"
      },
      {
        "duration": 20,
        "start_time": "2022-06-10T12:24:48.839Z"
      },
      {
        "duration": 1308,
        "start_time": "2022-06-10T12:24:59.520Z"
      },
      {
        "duration": 1199,
        "start_time": "2022-06-10T12:25:52.268Z"
      },
      {
        "duration": 840,
        "start_time": "2022-06-10T12:26:20.103Z"
      },
      {
        "duration": 1051,
        "start_time": "2022-06-10T12:26:31.437Z"
      },
      {
        "duration": 326,
        "start_time": "2022-06-10T12:26:32.489Z"
      },
      {
        "duration": 153,
        "start_time": "2022-06-10T12:26:32.816Z"
      },
      {
        "duration": 103,
        "start_time": "2022-06-10T12:26:32.971Z"
      },
      {
        "duration": 29,
        "start_time": "2022-06-10T12:26:33.076Z"
      },
      {
        "duration": 35,
        "start_time": "2022-06-10T12:26:33.107Z"
      },
      {
        "duration": 2,
        "start_time": "2022-06-10T12:26:33.143Z"
      },
      {
        "duration": 82,
        "start_time": "2022-06-10T12:26:33.147Z"
      },
      {
        "duration": 84,
        "start_time": "2022-06-10T12:26:33.231Z"
      },
      {
        "duration": 40,
        "start_time": "2022-06-10T12:26:33.326Z"
      },
      {
        "duration": 79,
        "start_time": "2022-06-10T12:26:33.367Z"
      },
      {
        "duration": 46,
        "start_time": "2022-06-10T12:26:33.447Z"
      },
      {
        "duration": 51,
        "start_time": "2022-06-10T12:26:33.495Z"
      },
      {
        "duration": 8,
        "start_time": "2022-06-10T12:26:33.548Z"
      },
      {
        "duration": 25,
        "start_time": "2022-06-10T12:26:33.557Z"
      },
      {
        "duration": 13,
        "start_time": "2022-06-10T12:26:33.583Z"
      },
      {
        "duration": 31,
        "start_time": "2022-06-10T12:26:33.598Z"
      },
      {
        "duration": 8,
        "start_time": "2022-06-10T12:26:33.630Z"
      },
      {
        "duration": 48,
        "start_time": "2022-06-10T12:26:33.640Z"
      },
      {
        "duration": 114,
        "start_time": "2022-06-10T12:26:33.690Z"
      },
      {
        "duration": 79,
        "start_time": "2022-06-10T12:26:33.806Z"
      },
      {
        "duration": 29,
        "start_time": "2022-06-10T12:26:33.886Z"
      },
      {
        "duration": 34,
        "start_time": "2022-06-10T12:26:33.916Z"
      },
      {
        "duration": 2,
        "start_time": "2022-06-10T12:26:33.952Z"
      },
      {
        "duration": 171,
        "start_time": "2022-06-10T12:26:33.959Z"
      },
      {
        "duration": 151,
        "start_time": "2022-06-10T12:26:34.133Z"
      },
      {
        "duration": 161,
        "start_time": "2022-06-10T12:26:34.285Z"
      },
      {
        "duration": 147,
        "start_time": "2022-06-10T12:26:34.448Z"
      },
      {
        "duration": 168,
        "start_time": "2022-06-10T12:26:34.597Z"
      },
      {
        "duration": 150,
        "start_time": "2022-06-10T12:26:34.766Z"
      },
      {
        "duration": 178,
        "start_time": "2022-06-10T12:26:34.917Z"
      },
      {
        "duration": 31,
        "start_time": "2022-06-10T12:26:35.097Z"
      },
      {
        "duration": 110,
        "start_time": "2022-06-10T12:26:35.129Z"
      },
      {
        "duration": 0,
        "start_time": "2022-06-10T12:26:35.241Z"
      },
      {
        "duration": 0,
        "start_time": "2022-06-10T12:26:35.242Z"
      },
      {
        "duration": 0,
        "start_time": "2022-06-10T12:26:35.243Z"
      },
      {
        "duration": 0,
        "start_time": "2022-06-10T12:26:35.244Z"
      },
      {
        "duration": 7,
        "start_time": "2022-06-10T12:26:43.926Z"
      },
      {
        "duration": 1084,
        "start_time": "2022-06-10T12:26:50.918Z"
      },
      {
        "duration": 184,
        "start_time": "2022-06-10T12:26:52.004Z"
      },
      {
        "duration": 153,
        "start_time": "2022-06-10T12:26:52.190Z"
      },
      {
        "duration": 98,
        "start_time": "2022-06-10T12:26:52.345Z"
      },
      {
        "duration": 27,
        "start_time": "2022-06-10T12:26:52.444Z"
      },
      {
        "duration": 41,
        "start_time": "2022-06-10T12:26:52.472Z"
      },
      {
        "duration": 2,
        "start_time": "2022-06-10T12:26:52.514Z"
      },
      {
        "duration": 67,
        "start_time": "2022-06-10T12:26:52.518Z"
      },
      {
        "duration": 89,
        "start_time": "2022-06-10T12:26:52.587Z"
      },
      {
        "duration": 47,
        "start_time": "2022-06-10T12:26:52.679Z"
      },
      {
        "duration": 68,
        "start_time": "2022-06-10T12:26:52.728Z"
      },
      {
        "duration": 60,
        "start_time": "2022-06-10T12:26:52.798Z"
      },
      {
        "duration": 38,
        "start_time": "2022-06-10T12:26:52.859Z"
      },
      {
        "duration": 8,
        "start_time": "2022-06-10T12:26:52.899Z"
      },
      {
        "duration": 41,
        "start_time": "2022-06-10T12:26:52.909Z"
      },
      {
        "duration": 17,
        "start_time": "2022-06-10T12:26:52.952Z"
      },
      {
        "duration": 13,
        "start_time": "2022-06-10T12:26:52.970Z"
      },
      {
        "duration": 30,
        "start_time": "2022-06-10T12:26:52.985Z"
      },
      {
        "duration": 91,
        "start_time": "2022-06-10T12:26:53.026Z"
      },
      {
        "duration": 98,
        "start_time": "2022-06-10T12:26:53.118Z"
      },
      {
        "duration": 72,
        "start_time": "2022-06-10T12:26:53.217Z"
      },
      {
        "duration": 41,
        "start_time": "2022-06-10T12:26:53.291Z"
      },
      {
        "duration": 26,
        "start_time": "2022-06-10T12:26:53.334Z"
      },
      {
        "duration": 3,
        "start_time": "2022-06-10T12:26:53.362Z"
      },
      {
        "duration": 178,
        "start_time": "2022-06-10T12:26:53.370Z"
      },
      {
        "duration": 159,
        "start_time": "2022-06-10T12:26:53.551Z"
      },
      {
        "duration": 168,
        "start_time": "2022-06-10T12:26:53.711Z"
      },
      {
        "duration": 169,
        "start_time": "2022-06-10T12:26:53.880Z"
      },
      {
        "duration": 170,
        "start_time": "2022-06-10T12:26:54.051Z"
      },
      {
        "duration": 150,
        "start_time": "2022-06-10T12:26:54.226Z"
      },
      {
        "duration": 182,
        "start_time": "2022-06-10T12:26:54.378Z"
      },
      {
        "duration": 16,
        "start_time": "2022-06-10T12:26:54.561Z"
      },
      {
        "duration": 6,
        "start_time": "2022-06-10T12:26:54.579Z"
      },
      {
        "duration": 9,
        "start_time": "2022-06-10T12:26:54.587Z"
      },
      {
        "duration": 55,
        "start_time": "2022-06-10T12:26:54.598Z"
      },
      {
        "duration": 33,
        "start_time": "2022-06-10T12:26:54.654Z"
      },
      {
        "duration": 114,
        "start_time": "2022-06-10T12:26:54.689Z"
      },
      {
        "duration": 9,
        "start_time": "2022-06-10T12:28:52.920Z"
      },
      {
        "duration": 14,
        "start_time": "2022-06-10T12:31:18.312Z"
      },
      {
        "duration": 33,
        "start_time": "2022-06-10T12:31:37.516Z"
      },
      {
        "duration": 263,
        "start_time": "2022-06-10T12:31:45.492Z"
      },
      {
        "duration": 878,
        "start_time": "2022-06-10T12:32:01.665Z"
      },
      {
        "duration": 17,
        "start_time": "2022-06-10T12:32:19.042Z"
      },
      {
        "duration": 31,
        "start_time": "2022-06-10T12:32:30.339Z"
      },
      {
        "duration": 14,
        "start_time": "2022-06-10T12:32:39.230Z"
      },
      {
        "duration": 14,
        "start_time": "2022-06-10T12:32:43.335Z"
      },
      {
        "duration": 924,
        "start_time": "2022-06-10T12:33:42.515Z"
      },
      {
        "duration": 1104,
        "start_time": "2022-06-10T12:34:18.728Z"
      },
      {
        "duration": 88,
        "start_time": "2022-06-10T12:35:36.044Z"
      },
      {
        "duration": 244,
        "start_time": "2022-06-10T12:35:40.641Z"
      },
      {
        "duration": 215,
        "start_time": "2022-06-10T12:38:55.663Z"
      },
      {
        "duration": 338,
        "start_time": "2022-06-10T12:45:03.974Z"
      },
      {
        "duration": 253,
        "start_time": "2022-06-10T12:46:08.748Z"
      },
      {
        "duration": 311,
        "start_time": "2022-06-10T12:50:35.373Z"
      },
      {
        "duration": 261,
        "start_time": "2022-06-10T12:51:13.396Z"
      },
      {
        "duration": 273,
        "start_time": "2022-06-10T12:51:59.894Z"
      },
      {
        "duration": 278,
        "start_time": "2022-06-10T12:54:35.271Z"
      },
      {
        "duration": 283,
        "start_time": "2022-06-10T12:54:41.183Z"
      },
      {
        "duration": 264,
        "start_time": "2022-06-10T12:54:45.920Z"
      },
      {
        "duration": 300,
        "start_time": "2022-06-10T12:55:44.303Z"
      },
      {
        "duration": 289,
        "start_time": "2022-06-10T12:55:49.015Z"
      },
      {
        "duration": 325,
        "start_time": "2022-06-10T12:55:51.778Z"
      },
      {
        "duration": 318,
        "start_time": "2022-06-10T12:55:54.475Z"
      },
      {
        "duration": 282,
        "start_time": "2022-06-10T12:55:56.745Z"
      },
      {
        "duration": 272,
        "start_time": "2022-06-10T12:56:43.549Z"
      },
      {
        "duration": 214,
        "start_time": "2022-06-10T12:57:26.843Z"
      },
      {
        "duration": 202,
        "start_time": "2022-06-10T12:57:50.823Z"
      },
      {
        "duration": 1004,
        "start_time": "2022-06-10T12:59:20.477Z"
      },
      {
        "duration": 176,
        "start_time": "2022-06-10T12:59:21.483Z"
      },
      {
        "duration": 139,
        "start_time": "2022-06-10T12:59:21.662Z"
      },
      {
        "duration": 92,
        "start_time": "2022-06-10T12:59:21.802Z"
      },
      {
        "duration": 25,
        "start_time": "2022-06-10T12:59:21.896Z"
      },
      {
        "duration": 40,
        "start_time": "2022-06-10T12:59:21.925Z"
      },
      {
        "duration": 2,
        "start_time": "2022-06-10T12:59:21.967Z"
      },
      {
        "duration": 77,
        "start_time": "2022-06-10T12:59:21.971Z"
      },
      {
        "duration": 88,
        "start_time": "2022-06-10T12:59:22.051Z"
      },
      {
        "duration": 36,
        "start_time": "2022-06-10T12:59:22.140Z"
      },
      {
        "duration": 82,
        "start_time": "2022-06-10T12:59:22.178Z"
      },
      {
        "duration": 49,
        "start_time": "2022-06-10T12:59:22.261Z"
      },
      {
        "duration": 49,
        "start_time": "2022-06-10T12:59:22.311Z"
      },
      {
        "duration": 9,
        "start_time": "2022-06-10T12:59:22.361Z"
      },
      {
        "duration": 29,
        "start_time": "2022-06-10T12:59:22.372Z"
      },
      {
        "duration": 34,
        "start_time": "2022-06-10T12:59:22.403Z"
      },
      {
        "duration": 19,
        "start_time": "2022-06-10T12:59:22.439Z"
      },
      {
        "duration": 10,
        "start_time": "2022-06-10T12:59:22.460Z"
      },
      {
        "duration": 73,
        "start_time": "2022-06-10T12:59:22.472Z"
      },
      {
        "duration": 113,
        "start_time": "2022-06-10T12:59:22.546Z"
      },
      {
        "duration": 66,
        "start_time": "2022-06-10T12:59:22.660Z"
      },
      {
        "duration": 29,
        "start_time": "2022-06-10T12:59:22.728Z"
      },
      {
        "duration": 24,
        "start_time": "2022-06-10T12:59:22.759Z"
      },
      {
        "duration": 2,
        "start_time": "2022-06-10T12:59:22.784Z"
      },
      {
        "duration": 190,
        "start_time": "2022-06-10T12:59:22.792Z"
      },
      {
        "duration": 161,
        "start_time": "2022-06-10T12:59:22.984Z"
      },
      {
        "duration": 198,
        "start_time": "2022-06-10T12:59:23.147Z"
      },
      {
        "duration": 173,
        "start_time": "2022-06-10T12:59:23.347Z"
      },
      {
        "duration": 203,
        "start_time": "2022-06-10T12:59:23.522Z"
      },
      {
        "duration": 169,
        "start_time": "2022-06-10T12:59:23.726Z"
      },
      {
        "duration": 217,
        "start_time": "2022-06-10T12:59:23.897Z"
      },
      {
        "duration": 21,
        "start_time": "2022-06-10T12:59:24.116Z"
      },
      {
        "duration": 7,
        "start_time": "2022-06-10T12:59:24.139Z"
      },
      {
        "duration": 7,
        "start_time": "2022-06-10T12:59:24.148Z"
      },
      {
        "duration": 28,
        "start_time": "2022-06-10T12:59:24.157Z"
      },
      {
        "duration": 66,
        "start_time": "2022-06-10T12:59:24.186Z"
      },
      {
        "duration": 282,
        "start_time": "2022-06-10T12:59:24.254Z"
      },
      {
        "duration": 361,
        "start_time": "2022-06-10T12:59:24.538Z"
      },
      {
        "duration": 303,
        "start_time": "2022-06-10T12:59:24.900Z"
      },
      {
        "duration": 299,
        "start_time": "2022-06-10T12:59:25.205Z"
      },
      {
        "duration": 256,
        "start_time": "2022-06-10T13:00:09.307Z"
      },
      {
        "duration": 1215,
        "start_time": "2022-06-10T13:00:18.327Z"
      },
      {
        "duration": 216,
        "start_time": "2022-06-10T13:00:19.544Z"
      },
      {
        "duration": 178,
        "start_time": "2022-06-10T13:00:19.762Z"
      },
      {
        "duration": 115,
        "start_time": "2022-06-10T13:00:19.943Z"
      },
      {
        "duration": 31,
        "start_time": "2022-06-10T13:00:20.060Z"
      },
      {
        "duration": 44,
        "start_time": "2022-06-10T13:00:20.093Z"
      },
      {
        "duration": 3,
        "start_time": "2022-06-10T13:00:20.139Z"
      },
      {
        "duration": 95,
        "start_time": "2022-06-10T13:00:20.144Z"
      },
      {
        "duration": 102,
        "start_time": "2022-06-10T13:00:20.241Z"
      },
      {
        "duration": 44,
        "start_time": "2022-06-10T13:00:20.347Z"
      },
      {
        "duration": 100,
        "start_time": "2022-06-10T13:00:20.393Z"
      },
      {
        "duration": 58,
        "start_time": "2022-06-10T13:00:20.495Z"
      },
      {
        "duration": 47,
        "start_time": "2022-06-10T13:00:20.557Z"
      },
      {
        "duration": 27,
        "start_time": "2022-06-10T13:00:20.606Z"
      },
      {
        "duration": 46,
        "start_time": "2022-06-10T13:00:20.636Z"
      },
      {
        "duration": 31,
        "start_time": "2022-06-10T13:00:20.684Z"
      },
      {
        "duration": 21,
        "start_time": "2022-06-10T13:00:20.717Z"
      },
      {
        "duration": 33,
        "start_time": "2022-06-10T13:00:20.740Z"
      },
      {
        "duration": 91,
        "start_time": "2022-06-10T13:00:20.775Z"
      },
      {
        "duration": 113,
        "start_time": "2022-06-10T13:00:20.867Z"
      },
      {
        "duration": 78,
        "start_time": "2022-06-10T13:00:20.982Z"
      },
      {
        "duration": 34,
        "start_time": "2022-06-10T13:00:21.062Z"
      },
      {
        "duration": 48,
        "start_time": "2022-06-10T13:00:21.099Z"
      },
      {
        "duration": 3,
        "start_time": "2022-06-10T13:00:21.149Z"
      },
      {
        "duration": 202,
        "start_time": "2022-06-10T13:00:21.158Z"
      },
      {
        "duration": 193,
        "start_time": "2022-06-10T13:00:21.365Z"
      },
      {
        "duration": 232,
        "start_time": "2022-06-10T13:00:21.560Z"
      },
      {
        "duration": 209,
        "start_time": "2022-06-10T13:00:21.794Z"
      },
      {
        "duration": 234,
        "start_time": "2022-06-10T13:00:22.005Z"
      },
      {
        "duration": 216,
        "start_time": "2022-06-10T13:00:22.241Z"
      },
      {
        "duration": 254,
        "start_time": "2022-06-10T13:00:22.458Z"
      },
      {
        "duration": 22,
        "start_time": "2022-06-10T13:00:22.715Z"
      },
      {
        "duration": 16,
        "start_time": "2022-06-10T13:00:22.739Z"
      },
      {
        "duration": 37,
        "start_time": "2022-06-10T13:00:22.757Z"
      },
      {
        "duration": 76,
        "start_time": "2022-06-10T13:00:22.795Z"
      },
      {
        "duration": 72,
        "start_time": "2022-06-10T13:00:22.873Z"
      },
      {
        "duration": 330,
        "start_time": "2022-06-10T13:00:22.947Z"
      },
      {
        "duration": 449,
        "start_time": "2022-06-10T13:00:23.280Z"
      },
      {
        "duration": 330,
        "start_time": "2022-06-10T13:00:23.731Z"
      },
      {
        "duration": 377,
        "start_time": "2022-06-10T13:00:24.063Z"
      },
      {
        "duration": 205,
        "start_time": "2022-06-10T13:00:39.067Z"
      },
      {
        "duration": 1050,
        "start_time": "2022-06-10T13:00:43.245Z"
      },
      {
        "duration": 175,
        "start_time": "2022-06-10T13:00:44.297Z"
      },
      {
        "duration": 136,
        "start_time": "2022-06-10T13:00:44.476Z"
      },
      {
        "duration": 93,
        "start_time": "2022-06-10T13:00:44.614Z"
      },
      {
        "duration": 27,
        "start_time": "2022-06-10T13:00:44.708Z"
      },
      {
        "duration": 42,
        "start_time": "2022-06-10T13:00:44.736Z"
      },
      {
        "duration": 3,
        "start_time": "2022-06-10T13:00:44.779Z"
      },
      {
        "duration": 66,
        "start_time": "2022-06-10T13:00:44.783Z"
      },
      {
        "duration": 93,
        "start_time": "2022-06-10T13:00:44.851Z"
      },
      {
        "duration": 81,
        "start_time": "2022-06-10T13:00:44.946Z"
      },
      {
        "duration": 107,
        "start_time": "2022-06-10T13:00:45.028Z"
      },
      {
        "duration": 107,
        "start_time": "2022-06-10T13:00:45.137Z"
      },
      {
        "duration": 84,
        "start_time": "2022-06-10T13:00:45.248Z"
      },
      {
        "duration": 10,
        "start_time": "2022-06-10T13:00:45.333Z"
      },
      {
        "duration": 34,
        "start_time": "2022-06-10T13:00:45.345Z"
      },
      {
        "duration": 15,
        "start_time": "2022-06-10T13:00:45.380Z"
      },
      {
        "duration": 43,
        "start_time": "2022-06-10T13:00:45.397Z"
      },
      {
        "duration": 10,
        "start_time": "2022-06-10T13:00:45.442Z"
      },
      {
        "duration": 100,
        "start_time": "2022-06-10T13:00:45.454Z"
      },
      {
        "duration": 189,
        "start_time": "2022-06-10T13:00:45.556Z"
      },
      {
        "duration": 119,
        "start_time": "2022-06-10T13:00:45.747Z"
      },
      {
        "duration": 29,
        "start_time": "2022-06-10T13:00:45.867Z"
      },
      {
        "duration": 50,
        "start_time": "2022-06-10T13:00:45.898Z"
      },
      {
        "duration": 2,
        "start_time": "2022-06-10T13:00:45.949Z"
      },
      {
        "duration": 195,
        "start_time": "2022-06-10T13:00:45.956Z"
      },
      {
        "duration": 185,
        "start_time": "2022-06-10T13:00:46.153Z"
      },
      {
        "duration": 208,
        "start_time": "2022-06-10T13:00:46.339Z"
      },
      {
        "duration": 210,
        "start_time": "2022-06-10T13:00:46.550Z"
      },
      {
        "duration": 188,
        "start_time": "2022-06-10T13:00:46.762Z"
      },
      {
        "duration": 180,
        "start_time": "2022-06-10T13:00:46.951Z"
      },
      {
        "duration": 194,
        "start_time": "2022-06-10T13:00:47.133Z"
      },
      {
        "duration": 15,
        "start_time": "2022-06-10T13:00:47.329Z"
      },
      {
        "duration": 6,
        "start_time": "2022-06-10T13:00:47.346Z"
      },
      {
        "duration": 7,
        "start_time": "2022-06-10T13:00:47.353Z"
      },
      {
        "duration": 26,
        "start_time": "2022-06-10T13:00:47.361Z"
      },
      {
        "duration": 58,
        "start_time": "2022-06-10T13:00:47.389Z"
      },
      {
        "duration": 254,
        "start_time": "2022-06-10T13:00:47.448Z"
      },
      {
        "duration": 370,
        "start_time": "2022-06-10T13:00:47.706Z"
      },
      {
        "duration": 311,
        "start_time": "2022-06-10T13:00:48.078Z"
      },
      {
        "duration": 294,
        "start_time": "2022-06-10T13:00:48.391Z"
      },
      {
        "duration": 179,
        "start_time": "2022-06-10T13:00:56.178Z"
      },
      {
        "duration": 206,
        "start_time": "2022-06-10T13:03:48.047Z"
      },
      {
        "duration": 270,
        "start_time": "2022-06-10T13:04:06.331Z"
      },
      {
        "duration": 216,
        "start_time": "2022-06-10T13:04:23.848Z"
      },
      {
        "duration": 988,
        "start_time": "2022-06-10T13:04:38.799Z"
      },
      {
        "duration": 180,
        "start_time": "2022-06-10T13:04:39.789Z"
      },
      {
        "duration": 150,
        "start_time": "2022-06-10T13:04:39.971Z"
      },
      {
        "duration": 109,
        "start_time": "2022-06-10T13:04:40.126Z"
      },
      {
        "duration": 26,
        "start_time": "2022-06-10T13:04:40.237Z"
      },
      {
        "duration": 39,
        "start_time": "2022-06-10T13:04:40.264Z"
      },
      {
        "duration": 2,
        "start_time": "2022-06-10T13:04:40.304Z"
      },
      {
        "duration": 69,
        "start_time": "2022-06-10T13:04:40.307Z"
      },
      {
        "duration": 88,
        "start_time": "2022-06-10T13:04:40.377Z"
      },
      {
        "duration": 37,
        "start_time": "2022-06-10T13:04:40.468Z"
      },
      {
        "duration": 76,
        "start_time": "2022-06-10T13:04:40.506Z"
      },
      {
        "duration": 56,
        "start_time": "2022-06-10T13:04:40.584Z"
      },
      {
        "duration": 39,
        "start_time": "2022-06-10T13:04:40.641Z"
      },
      {
        "duration": 9,
        "start_time": "2022-06-10T13:04:40.682Z"
      },
      {
        "duration": 44,
        "start_time": "2022-06-10T13:04:40.692Z"
      },
      {
        "duration": 14,
        "start_time": "2022-06-10T13:04:40.738Z"
      },
      {
        "duration": 12,
        "start_time": "2022-06-10T13:04:40.754Z"
      },
      {
        "duration": 8,
        "start_time": "2022-06-10T13:04:40.768Z"
      },
      {
        "duration": 77,
        "start_time": "2022-06-10T13:04:40.778Z"
      },
      {
        "duration": 103,
        "start_time": "2022-06-10T13:04:40.857Z"
      },
      {
        "duration": 72,
        "start_time": "2022-06-10T13:04:40.962Z"
      },
      {
        "duration": 28,
        "start_time": "2022-06-10T13:04:41.036Z"
      },
      {
        "duration": 22,
        "start_time": "2022-06-10T13:04:41.066Z"
      },
      {
        "duration": 2,
        "start_time": "2022-06-10T13:04:41.090Z"
      },
      {
        "duration": 204,
        "start_time": "2022-06-10T13:04:41.097Z"
      },
      {
        "duration": 172,
        "start_time": "2022-06-10T13:04:41.304Z"
      },
      {
        "duration": 191,
        "start_time": "2022-06-10T13:04:41.478Z"
      },
      {
        "duration": 164,
        "start_time": "2022-06-10T13:04:41.670Z"
      },
      {
        "duration": 194,
        "start_time": "2022-06-10T13:04:41.836Z"
      },
      {
        "duration": 164,
        "start_time": "2022-06-10T13:04:42.032Z"
      },
      {
        "duration": 198,
        "start_time": "2022-06-10T13:04:42.197Z"
      },
      {
        "duration": 28,
        "start_time": "2022-06-10T13:04:42.397Z"
      },
      {
        "duration": 6,
        "start_time": "2022-06-10T13:04:42.427Z"
      },
      {
        "duration": 6,
        "start_time": "2022-06-10T13:04:42.434Z"
      },
      {
        "duration": 27,
        "start_time": "2022-06-10T13:04:42.442Z"
      },
      {
        "duration": 61,
        "start_time": "2022-06-10T13:04:42.470Z"
      },
      {
        "duration": 283,
        "start_time": "2022-06-10T13:04:42.532Z"
      },
      {
        "duration": 358,
        "start_time": "2022-06-10T13:04:42.825Z"
      },
      {
        "duration": 303,
        "start_time": "2022-06-10T13:04:43.185Z"
      },
      {
        "duration": 303,
        "start_time": "2022-06-10T13:04:43.489Z"
      },
      {
        "duration": 210,
        "start_time": "2022-06-10T13:05:44.217Z"
      },
      {
        "duration": 152,
        "start_time": "2022-06-10T13:06:37.230Z"
      },
      {
        "duration": 232,
        "start_time": "2022-06-10T13:06:44.885Z"
      },
      {
        "duration": 233,
        "start_time": "2022-06-10T13:08:22.151Z"
      },
      {
        "duration": 236,
        "start_time": "2022-06-10T13:08:30.018Z"
      },
      {
        "duration": 203,
        "start_time": "2022-06-10T13:08:37.690Z"
      },
      {
        "duration": 221,
        "start_time": "2022-06-10T13:11:02.756Z"
      },
      {
        "duration": 132,
        "start_time": "2022-06-10T13:11:52.640Z"
      },
      {
        "duration": 310,
        "start_time": "2022-06-10T13:12:07.343Z"
      },
      {
        "duration": 227,
        "start_time": "2022-06-10T13:12:28.804Z"
      },
      {
        "duration": 320,
        "start_time": "2022-06-10T13:13:12.800Z"
      },
      {
        "duration": 214,
        "start_time": "2022-06-10T13:14:19.460Z"
      },
      {
        "duration": 216,
        "start_time": "2022-06-10T13:14:39.204Z"
      },
      {
        "duration": 1040,
        "start_time": "2022-06-10T13:14:48.991Z"
      },
      {
        "duration": 176,
        "start_time": "2022-06-10T13:14:50.033Z"
      },
      {
        "duration": 143,
        "start_time": "2022-06-10T13:14:50.211Z"
      },
      {
        "duration": 91,
        "start_time": "2022-06-10T13:14:50.356Z"
      },
      {
        "duration": 25,
        "start_time": "2022-06-10T13:14:50.449Z"
      },
      {
        "duration": 38,
        "start_time": "2022-06-10T13:14:50.475Z"
      },
      {
        "duration": 2,
        "start_time": "2022-06-10T13:14:50.515Z"
      },
      {
        "duration": 67,
        "start_time": "2022-06-10T13:14:50.518Z"
      },
      {
        "duration": 89,
        "start_time": "2022-06-10T13:14:50.587Z"
      },
      {
        "duration": 37,
        "start_time": "2022-06-10T13:14:50.678Z"
      },
      {
        "duration": 66,
        "start_time": "2022-06-10T13:14:50.726Z"
      },
      {
        "duration": 60,
        "start_time": "2022-06-10T13:14:50.794Z"
      },
      {
        "duration": 39,
        "start_time": "2022-06-10T13:14:50.855Z"
      },
      {
        "duration": 9,
        "start_time": "2022-06-10T13:14:50.896Z"
      },
      {
        "duration": 37,
        "start_time": "2022-06-10T13:14:50.906Z"
      },
      {
        "duration": 14,
        "start_time": "2022-06-10T13:14:50.945Z"
      },
      {
        "duration": 12,
        "start_time": "2022-06-10T13:14:50.961Z"
      },
      {
        "duration": 10,
        "start_time": "2022-06-10T13:14:50.974Z"
      },
      {
        "duration": 83,
        "start_time": "2022-06-10T13:14:50.986Z"
      },
      {
        "duration": 102,
        "start_time": "2022-06-10T13:14:51.071Z"
      },
      {
        "duration": 72,
        "start_time": "2022-06-10T13:14:51.175Z"
      },
      {
        "duration": 28,
        "start_time": "2022-06-10T13:14:51.248Z"
      },
      {
        "duration": 23,
        "start_time": "2022-06-10T13:14:51.277Z"
      },
      {
        "duration": 2,
        "start_time": "2022-06-10T13:14:51.302Z"
      },
      {
        "duration": 186,
        "start_time": "2022-06-10T13:14:51.327Z"
      },
      {
        "duration": 187,
        "start_time": "2022-06-10T13:14:51.515Z"
      },
      {
        "duration": 204,
        "start_time": "2022-06-10T13:14:51.704Z"
      },
      {
        "duration": 175,
        "start_time": "2022-06-10T13:14:51.910Z"
      },
      {
        "duration": 196,
        "start_time": "2022-06-10T13:14:52.087Z"
      },
      {
        "duration": 179,
        "start_time": "2022-06-10T13:14:52.284Z"
      },
      {
        "duration": 199,
        "start_time": "2022-06-10T13:14:52.465Z"
      },
      {
        "duration": 15,
        "start_time": "2022-06-10T13:14:52.665Z"
      },
      {
        "duration": 6,
        "start_time": "2022-06-10T13:14:52.681Z"
      },
      {
        "duration": 8,
        "start_time": "2022-06-10T13:14:52.688Z"
      },
      {
        "duration": 52,
        "start_time": "2022-06-10T13:14:52.698Z"
      },
      {
        "duration": 33,
        "start_time": "2022-06-10T13:14:52.752Z"
      },
      {
        "duration": 304,
        "start_time": "2022-06-10T13:14:52.787Z"
      },
      {
        "duration": 359,
        "start_time": "2022-06-10T13:14:53.093Z"
      },
      {
        "duration": 283,
        "start_time": "2022-06-10T13:14:53.456Z"
      },
      {
        "duration": 274,
        "start_time": "2022-06-10T13:14:53.741Z"
      },
      {
        "duration": 253,
        "start_time": "2022-06-10T13:15:18.949Z"
      },
      {
        "duration": 286,
        "start_time": "2022-06-10T13:27:48.809Z"
      },
      {
        "duration": 272,
        "start_time": "2022-06-10T13:27:58.486Z"
      },
      {
        "duration": 37,
        "start_time": "2022-06-10T13:28:36.822Z"
      },
      {
        "duration": 231,
        "start_time": "2022-06-10T13:28:46.429Z"
      },
      {
        "duration": 7,
        "start_time": "2022-06-10T14:52:24.223Z"
      },
      {
        "duration": 9,
        "start_time": "2022-06-10T14:54:19.191Z"
      },
      {
        "duration": 9,
        "start_time": "2022-06-10T14:55:06.122Z"
      },
      {
        "duration": 56,
        "start_time": "2022-06-14T10:46:42.441Z"
      },
      {
        "duration": 1367,
        "start_time": "2022-06-14T10:46:58.726Z"
      },
      {
        "duration": 291,
        "start_time": "2022-06-14T10:47:00.095Z"
      },
      {
        "duration": 357,
        "start_time": "2022-06-14T10:47:00.388Z"
      },
      {
        "duration": 347,
        "start_time": "2022-06-14T10:47:00.747Z"
      },
      {
        "duration": 77,
        "start_time": "2022-06-14T10:47:01.096Z"
      },
      {
        "duration": 85,
        "start_time": "2022-06-14T10:47:01.175Z"
      },
      {
        "duration": 2,
        "start_time": "2022-06-14T10:47:01.262Z"
      },
      {
        "duration": 83,
        "start_time": "2022-06-14T10:47:01.266Z"
      },
      {
        "duration": 99,
        "start_time": "2022-06-14T10:47:01.351Z"
      },
      {
        "duration": 57,
        "start_time": "2022-06-14T10:47:01.453Z"
      },
      {
        "duration": 94,
        "start_time": "2022-06-14T10:47:01.512Z"
      },
      {
        "duration": 81,
        "start_time": "2022-06-14T10:47:01.608Z"
      },
      {
        "duration": 59,
        "start_time": "2022-06-14T10:47:01.691Z"
      },
      {
        "duration": 16,
        "start_time": "2022-06-14T10:47:01.765Z"
      },
      {
        "duration": 89,
        "start_time": "2022-06-14T10:47:01.783Z"
      },
      {
        "duration": 25,
        "start_time": "2022-06-14T10:47:01.874Z"
      },
      {
        "duration": 19,
        "start_time": "2022-06-14T10:47:01.901Z"
      },
      {
        "duration": 13,
        "start_time": "2022-06-14T10:47:01.922Z"
      },
      {
        "duration": 102,
        "start_time": "2022-06-14T10:47:01.937Z"
      },
      {
        "duration": 123,
        "start_time": "2022-06-14T10:47:02.042Z"
      },
      {
        "duration": 119,
        "start_time": "2022-06-14T10:47:02.168Z"
      },
      {
        "duration": 33,
        "start_time": "2022-06-14T10:47:02.289Z"
      },
      {
        "duration": 53,
        "start_time": "2022-06-14T10:47:02.325Z"
      },
      {
        "duration": 3,
        "start_time": "2022-06-14T10:47:02.380Z"
      },
      {
        "duration": 226,
        "start_time": "2022-06-14T10:47:02.385Z"
      },
      {
        "duration": 246,
        "start_time": "2022-06-14T10:47:02.613Z"
      },
      {
        "duration": 246,
        "start_time": "2022-06-14T10:47:02.860Z"
      },
      {
        "duration": 216,
        "start_time": "2022-06-14T10:47:03.109Z"
      },
      {
        "duration": 228,
        "start_time": "2022-06-14T10:47:03.327Z"
      },
      {
        "duration": 230,
        "start_time": "2022-06-14T10:47:03.557Z"
      },
      {
        "duration": 238,
        "start_time": "2022-06-14T10:47:03.788Z"
      },
      {
        "duration": 36,
        "start_time": "2022-06-14T10:47:04.028Z"
      },
      {
        "duration": 9,
        "start_time": "2022-06-14T10:47:04.066Z"
      },
      {
        "duration": 15,
        "start_time": "2022-06-14T10:47:04.077Z"
      },
      {
        "duration": 39,
        "start_time": "2022-06-14T10:47:04.093Z"
      },
      {
        "duration": 56,
        "start_time": "2022-06-14T10:47:04.134Z"
      },
      {
        "duration": 413,
        "start_time": "2022-06-14T10:47:04.191Z"
      },
      {
        "duration": 10,
        "start_time": "2022-06-14T10:47:04.606Z"
      },
      {
        "duration": 388,
        "start_time": "2022-06-14T10:47:04.618Z"
      },
      {
        "duration": 10,
        "start_time": "2022-06-14T10:47:05.008Z"
      },
      {
        "duration": 420,
        "start_time": "2022-06-14T10:47:05.020Z"
      },
      {
        "duration": 9,
        "start_time": "2022-06-14T10:47:05.441Z"
      },
      {
        "duration": 307,
        "start_time": "2022-06-14T10:47:05.464Z"
      },
      {
        "duration": 10,
        "start_time": "2022-06-14T10:47:05.772Z"
      },
      {
        "duration": 112,
        "start_time": "2022-06-14T11:22:22.563Z"
      },
      {
        "duration": 1035,
        "start_time": "2022-06-14T11:22:59.007Z"
      },
      {
        "duration": 199,
        "start_time": "2022-06-14T11:23:00.044Z"
      },
      {
        "duration": 167,
        "start_time": "2022-06-14T11:23:00.246Z"
      },
      {
        "duration": 116,
        "start_time": "2022-06-14T11:23:00.415Z"
      },
      {
        "duration": 30,
        "start_time": "2022-06-14T11:23:00.533Z"
      },
      {
        "duration": 71,
        "start_time": "2022-06-14T11:23:00.565Z"
      },
      {
        "duration": 2,
        "start_time": "2022-06-14T11:23:00.639Z"
      },
      {
        "duration": 105,
        "start_time": "2022-06-14T11:23:00.643Z"
      },
      {
        "duration": 91,
        "start_time": "2022-06-14T11:23:00.751Z"
      },
      {
        "duration": 56,
        "start_time": "2022-06-14T11:23:00.844Z"
      },
      {
        "duration": 84,
        "start_time": "2022-06-14T11:23:00.901Z"
      },
      {
        "duration": 56,
        "start_time": "2022-06-14T11:23:00.986Z"
      },
      {
        "duration": 59,
        "start_time": "2022-06-14T11:23:01.044Z"
      },
      {
        "duration": 23,
        "start_time": "2022-06-14T11:23:01.104Z"
      },
      {
        "duration": 94,
        "start_time": "2022-06-14T11:23:01.129Z"
      },
      {
        "duration": 51,
        "start_time": "2022-06-14T11:23:01.225Z"
      },
      {
        "duration": 26,
        "start_time": "2022-06-14T11:23:01.278Z"
      },
      {
        "duration": 10,
        "start_time": "2022-06-14T11:23:01.306Z"
      },
      {
        "duration": 70,
        "start_time": "2022-06-14T11:23:01.318Z"
      },
      {
        "duration": 113,
        "start_time": "2022-06-14T11:23:01.390Z"
      },
      {
        "duration": 85,
        "start_time": "2022-06-14T11:23:01.505Z"
      },
      {
        "duration": 32,
        "start_time": "2022-06-14T11:23:01.592Z"
      },
      {
        "duration": 46,
        "start_time": "2022-06-14T11:23:01.626Z"
      },
      {
        "duration": 5,
        "start_time": "2022-06-14T11:23:01.673Z"
      },
      {
        "duration": 225,
        "start_time": "2022-06-14T11:23:01.680Z"
      },
      {
        "duration": 239,
        "start_time": "2022-06-14T11:23:01.907Z"
      },
      {
        "duration": 268,
        "start_time": "2022-06-14T11:23:02.149Z"
      },
      {
        "duration": 240,
        "start_time": "2022-06-14T11:23:02.420Z"
      },
      {
        "duration": 218,
        "start_time": "2022-06-14T11:23:02.664Z"
      },
      {
        "duration": 198,
        "start_time": "2022-06-14T11:23:02.883Z"
      },
      {
        "duration": 237,
        "start_time": "2022-06-14T11:23:03.082Z"
      },
      {
        "duration": 17,
        "start_time": "2022-06-14T11:23:03.321Z"
      },
      {
        "duration": 7,
        "start_time": "2022-06-14T11:23:03.340Z"
      },
      {
        "duration": 8,
        "start_time": "2022-06-14T11:23:03.365Z"
      },
      {
        "duration": 33,
        "start_time": "2022-06-14T11:23:03.374Z"
      },
      {
        "duration": 57,
        "start_time": "2022-06-14T11:23:03.409Z"
      },
      {
        "duration": 298,
        "start_time": "2022-06-14T11:23:03.468Z"
      },
      {
        "duration": 8,
        "start_time": "2022-06-14T11:23:03.768Z"
      },
      {
        "duration": 304,
        "start_time": "2022-06-14T11:23:03.778Z"
      },
      {
        "duration": 8,
        "start_time": "2022-06-14T11:23:04.084Z"
      },
      {
        "duration": 408,
        "start_time": "2022-06-14T11:23:04.094Z"
      },
      {
        "duration": 8,
        "start_time": "2022-06-14T11:23:04.503Z"
      },
      {
        "duration": 357,
        "start_time": "2022-06-14T11:23:04.513Z"
      },
      {
        "duration": 9,
        "start_time": "2022-06-14T11:23:04.873Z"
      },
      {
        "duration": 22,
        "start_time": "2022-06-14T11:23:04.884Z"
      },
      {
        "duration": 107,
        "start_time": "2022-06-14T11:35:10.936Z"
      },
      {
        "duration": 17,
        "start_time": "2022-06-14T11:42:53.757Z"
      },
      {
        "duration": 6,
        "start_time": "2022-06-14T11:45:04.068Z"
      },
      {
        "duration": 5,
        "start_time": "2022-06-14T11:45:25.659Z"
      },
      {
        "duration": 6,
        "start_time": "2022-06-14T11:45:30.191Z"
      },
      {
        "duration": 12,
        "start_time": "2022-06-14T11:48:56.324Z"
      },
      {
        "duration": 14,
        "start_time": "2022-06-14T11:50:11.980Z"
      },
      {
        "duration": 11,
        "start_time": "2022-06-14T11:51:10.455Z"
      },
      {
        "duration": 37,
        "start_time": "2022-06-14T11:55:07.444Z"
      },
      {
        "duration": 21,
        "start_time": "2022-06-14T11:55:19.776Z"
      },
      {
        "duration": 29,
        "start_time": "2022-06-14T11:56:50.141Z"
      },
      {
        "duration": 13,
        "start_time": "2022-06-14T11:57:10.439Z"
      },
      {
        "duration": 16,
        "start_time": "2022-06-14T11:57:21.213Z"
      },
      {
        "duration": 14,
        "start_time": "2022-06-14T11:57:24.438Z"
      },
      {
        "duration": 26,
        "start_time": "2022-06-14T11:57:41.336Z"
      },
      {
        "duration": 30,
        "start_time": "2022-06-14T12:06:39.809Z"
      },
      {
        "duration": 27,
        "start_time": "2022-06-14T12:06:49.929Z"
      },
      {
        "duration": 16,
        "start_time": "2022-06-14T12:07:02.954Z"
      },
      {
        "duration": 22,
        "start_time": "2022-06-14T12:07:11.598Z"
      },
      {
        "duration": 17,
        "start_time": "2022-06-14T12:07:16.333Z"
      },
      {
        "duration": 20,
        "start_time": "2022-06-14T12:07:19.299Z"
      },
      {
        "duration": 18,
        "start_time": "2022-06-14T12:08:18.255Z"
      },
      {
        "duration": 20,
        "start_time": "2022-06-14T12:08:41.777Z"
      },
      {
        "duration": 19,
        "start_time": "2022-06-14T12:08:50.640Z"
      },
      {
        "duration": 18,
        "start_time": "2022-06-14T12:08:55.001Z"
      },
      {
        "duration": 30,
        "start_time": "2022-06-14T12:09:06.037Z"
      },
      {
        "duration": 21,
        "start_time": "2022-06-14T12:09:11.785Z"
      },
      {
        "duration": 18,
        "start_time": "2022-06-14T12:09:22.668Z"
      },
      {
        "duration": 18,
        "start_time": "2022-06-14T12:11:02.135Z"
      },
      {
        "duration": 10,
        "start_time": "2022-06-14T12:11:13.838Z"
      },
      {
        "duration": 112,
        "start_time": "2022-06-14T12:12:24.105Z"
      },
      {
        "duration": 8,
        "start_time": "2022-06-14T12:12:29.006Z"
      },
      {
        "duration": 12,
        "start_time": "2022-06-14T12:13:55.450Z"
      },
      {
        "duration": 17,
        "start_time": "2022-06-14T12:14:03.439Z"
      },
      {
        "duration": 287,
        "start_time": "2022-06-14T12:15:02.967Z"
      },
      {
        "duration": 29,
        "start_time": "2022-06-14T12:17:49.090Z"
      },
      {
        "duration": 312,
        "start_time": "2022-06-14T12:19:35.498Z"
      },
      {
        "duration": 309,
        "start_time": "2022-06-14T12:20:37.458Z"
      },
      {
        "duration": 9,
        "start_time": "2022-06-14T12:23:04.156Z"
      },
      {
        "duration": 12,
        "start_time": "2022-06-14T12:23:18.994Z"
      },
      {
        "duration": 52,
        "start_time": "2022-06-14T12:26:44.164Z"
      },
      {
        "duration": 11,
        "start_time": "2022-06-14T12:33:32.786Z"
      },
      {
        "duration": 13,
        "start_time": "2022-06-14T12:33:40.373Z"
      },
      {
        "duration": 5,
        "start_time": "2022-06-14T12:33:45.995Z"
      },
      {
        "duration": 12,
        "start_time": "2022-06-14T12:34:00.145Z"
      },
      {
        "duration": 8,
        "start_time": "2022-06-14T12:34:14.098Z"
      },
      {
        "duration": 5,
        "start_time": "2022-06-14T12:34:32.011Z"
      },
      {
        "duration": 304,
        "start_time": "2022-06-14T12:34:38.289Z"
      },
      {
        "duration": 27,
        "start_time": "2022-06-14T12:36:47.052Z"
      },
      {
        "duration": 4,
        "start_time": "2022-06-14T12:40:22.053Z"
      },
      {
        "duration": 1157,
        "start_time": "2022-06-14T12:40:28.711Z"
      },
      {
        "duration": 229,
        "start_time": "2022-06-14T12:40:29.870Z"
      },
      {
        "duration": 180,
        "start_time": "2022-06-14T12:40:30.100Z"
      },
      {
        "duration": 124,
        "start_time": "2022-06-14T12:40:30.282Z"
      },
      {
        "duration": 30,
        "start_time": "2022-06-14T12:40:30.408Z"
      },
      {
        "duration": 60,
        "start_time": "2022-06-14T12:40:30.440Z"
      },
      {
        "duration": 2,
        "start_time": "2022-06-14T12:40:30.502Z"
      },
      {
        "duration": 117,
        "start_time": "2022-06-14T12:40:30.506Z"
      },
      {
        "duration": 112,
        "start_time": "2022-06-14T12:40:30.625Z"
      },
      {
        "duration": 59,
        "start_time": "2022-06-14T12:40:30.741Z"
      },
      {
        "duration": 97,
        "start_time": "2022-06-14T12:40:30.802Z"
      },
      {
        "duration": 69,
        "start_time": "2022-06-14T12:40:30.901Z"
      },
      {
        "duration": 48,
        "start_time": "2022-06-14T12:40:30.972Z"
      },
      {
        "duration": 15,
        "start_time": "2022-06-14T12:40:31.022Z"
      },
      {
        "duration": 52,
        "start_time": "2022-06-14T12:40:31.039Z"
      },
      {
        "duration": 18,
        "start_time": "2022-06-14T12:40:31.094Z"
      },
      {
        "duration": 16,
        "start_time": "2022-06-14T12:40:31.114Z"
      },
      {
        "duration": 43,
        "start_time": "2022-06-14T12:40:31.132Z"
      },
      {
        "duration": 62,
        "start_time": "2022-06-14T12:40:31.177Z"
      },
      {
        "duration": 143,
        "start_time": "2022-06-14T12:40:31.241Z"
      },
      {
        "duration": 84,
        "start_time": "2022-06-14T12:40:31.386Z"
      },
      {
        "duration": 35,
        "start_time": "2022-06-14T12:40:31.472Z"
      },
      {
        "duration": 28,
        "start_time": "2022-06-14T12:40:31.509Z"
      },
      {
        "duration": 26,
        "start_time": "2022-06-14T12:40:31.539Z"
      },
      {
        "duration": 215,
        "start_time": "2022-06-14T12:40:31.567Z"
      },
      {
        "duration": 223,
        "start_time": "2022-06-14T12:40:31.784Z"
      },
      {
        "duration": 226,
        "start_time": "2022-06-14T12:40:32.009Z"
      },
      {
        "duration": 196,
        "start_time": "2022-06-14T12:40:32.238Z"
      },
      {
        "duration": 240,
        "start_time": "2022-06-14T12:40:32.436Z"
      },
      {
        "duration": 203,
        "start_time": "2022-06-14T12:40:32.678Z"
      },
      {
        "duration": 233,
        "start_time": "2022-06-14T12:40:32.883Z"
      },
      {
        "duration": 18,
        "start_time": "2022-06-14T12:40:33.118Z"
      },
      {
        "duration": 129,
        "start_time": "2022-06-14T12:40:33.138Z"
      },
      {
        "duration": 0,
        "start_time": "2022-06-14T12:40:33.269Z"
      },
      {
        "duration": 0,
        "start_time": "2022-06-14T12:40:33.270Z"
      },
      {
        "duration": 0,
        "start_time": "2022-06-14T12:40:33.272Z"
      },
      {
        "duration": 0,
        "start_time": "2022-06-14T12:40:33.273Z"
      },
      {
        "duration": 0,
        "start_time": "2022-06-14T12:40:33.274Z"
      },
      {
        "duration": 0,
        "start_time": "2022-06-14T12:40:33.276Z"
      },
      {
        "duration": 0,
        "start_time": "2022-06-14T12:40:33.277Z"
      },
      {
        "duration": 0,
        "start_time": "2022-06-14T12:40:33.279Z"
      },
      {
        "duration": 0,
        "start_time": "2022-06-14T12:40:33.280Z"
      },
      {
        "duration": 0,
        "start_time": "2022-06-14T12:40:33.281Z"
      },
      {
        "duration": 0,
        "start_time": "2022-06-14T12:40:33.283Z"
      },
      {
        "duration": 0,
        "start_time": "2022-06-14T12:40:33.284Z"
      },
      {
        "duration": 0,
        "start_time": "2022-06-14T12:40:33.286Z"
      },
      {
        "duration": 0,
        "start_time": "2022-06-14T12:40:33.288Z"
      },
      {
        "duration": 0,
        "start_time": "2022-06-14T12:40:33.289Z"
      },
      {
        "duration": 0,
        "start_time": "2022-06-14T12:40:33.291Z"
      },
      {
        "duration": 0,
        "start_time": "2022-06-14T12:40:33.292Z"
      },
      {
        "duration": 1201,
        "start_time": "2022-06-14T12:40:58.181Z"
      },
      {
        "duration": 217,
        "start_time": "2022-06-14T12:40:59.385Z"
      },
      {
        "duration": 171,
        "start_time": "2022-06-14T12:40:59.604Z"
      },
      {
        "duration": 119,
        "start_time": "2022-06-14T12:40:59.778Z"
      },
      {
        "duration": 28,
        "start_time": "2022-06-14T12:40:59.899Z"
      },
      {
        "duration": 41,
        "start_time": "2022-06-14T12:40:59.928Z"
      },
      {
        "duration": 2,
        "start_time": "2022-06-14T12:40:59.971Z"
      },
      {
        "duration": 95,
        "start_time": "2022-06-14T12:40:59.975Z"
      },
      {
        "duration": 108,
        "start_time": "2022-06-14T12:41:00.071Z"
      },
      {
        "duration": 47,
        "start_time": "2022-06-14T12:41:00.181Z"
      },
      {
        "duration": 92,
        "start_time": "2022-06-14T12:41:00.229Z"
      },
      {
        "duration": 69,
        "start_time": "2022-06-14T12:41:00.323Z"
      },
      {
        "duration": 75,
        "start_time": "2022-06-14T12:41:00.394Z"
      },
      {
        "duration": 11,
        "start_time": "2022-06-14T12:41:00.471Z"
      },
      {
        "duration": 54,
        "start_time": "2022-06-14T12:41:00.484Z"
      },
      {
        "duration": 18,
        "start_time": "2022-06-14T12:41:00.540Z"
      },
      {
        "duration": 39,
        "start_time": "2022-06-14T12:41:00.564Z"
      },
      {
        "duration": 14,
        "start_time": "2022-06-14T12:41:00.605Z"
      },
      {
        "duration": 82,
        "start_time": "2022-06-14T12:41:00.621Z"
      },
      {
        "duration": 114,
        "start_time": "2022-06-14T12:41:00.705Z"
      },
      {
        "duration": 83,
        "start_time": "2022-06-14T12:41:00.822Z"
      },
      {
        "duration": 33,
        "start_time": "2022-06-14T12:41:00.906Z"
      },
      {
        "duration": 48,
        "start_time": "2022-06-14T12:41:00.941Z"
      },
      {
        "duration": 6,
        "start_time": "2022-06-14T12:41:00.991Z"
      },
      {
        "duration": 227,
        "start_time": "2022-06-14T12:41:00.999Z"
      },
      {
        "duration": 227,
        "start_time": "2022-06-14T12:41:01.228Z"
      },
      {
        "duration": 287,
        "start_time": "2022-06-14T12:41:01.458Z"
      },
      {
        "duration": 223,
        "start_time": "2022-06-14T12:41:01.749Z"
      },
      {
        "duration": 245,
        "start_time": "2022-06-14T12:41:01.975Z"
      },
      {
        "duration": 203,
        "start_time": "2022-06-14T12:41:02.222Z"
      },
      {
        "duration": 257,
        "start_time": "2022-06-14T12:41:02.427Z"
      },
      {
        "duration": 20,
        "start_time": "2022-06-14T12:41:02.685Z"
      },
      {
        "duration": 7,
        "start_time": "2022-06-14T12:41:02.707Z"
      },
      {
        "duration": 143,
        "start_time": "2022-06-14T12:41:02.715Z"
      },
      {
        "duration": 0,
        "start_time": "2022-06-14T12:41:02.860Z"
      },
      {
        "duration": 0,
        "start_time": "2022-06-14T12:41:02.864Z"
      },
      {
        "duration": 0,
        "start_time": "2022-06-14T12:41:02.865Z"
      },
      {
        "duration": 0,
        "start_time": "2022-06-14T12:41:02.866Z"
      },
      {
        "duration": 0,
        "start_time": "2022-06-14T12:41:02.867Z"
      },
      {
        "duration": 0,
        "start_time": "2022-06-14T12:41:02.868Z"
      },
      {
        "duration": 0,
        "start_time": "2022-06-14T12:41:02.869Z"
      },
      {
        "duration": 0,
        "start_time": "2022-06-14T12:41:02.870Z"
      },
      {
        "duration": 0,
        "start_time": "2022-06-14T12:41:02.871Z"
      },
      {
        "duration": 0,
        "start_time": "2022-06-14T12:41:02.872Z"
      },
      {
        "duration": 0,
        "start_time": "2022-06-14T12:41:02.874Z"
      },
      {
        "duration": 0,
        "start_time": "2022-06-14T12:41:02.875Z"
      },
      {
        "duration": 0,
        "start_time": "2022-06-14T12:41:02.876Z"
      },
      {
        "duration": 0,
        "start_time": "2022-06-14T12:41:02.877Z"
      },
      {
        "duration": 0,
        "start_time": "2022-06-14T12:41:02.878Z"
      },
      {
        "duration": 0,
        "start_time": "2022-06-14T12:41:02.879Z"
      },
      {
        "duration": 1121,
        "start_time": "2022-06-14T12:41:21.399Z"
      },
      {
        "duration": 206,
        "start_time": "2022-06-14T12:41:22.523Z"
      },
      {
        "duration": 167,
        "start_time": "2022-06-14T12:41:22.731Z"
      },
      {
        "duration": 117,
        "start_time": "2022-06-14T12:41:22.899Z"
      },
      {
        "duration": 28,
        "start_time": "2022-06-14T12:41:23.018Z"
      },
      {
        "duration": 42,
        "start_time": "2022-06-14T12:41:23.048Z"
      },
      {
        "duration": 3,
        "start_time": "2022-06-14T12:41:23.091Z"
      },
      {
        "duration": 81,
        "start_time": "2022-06-14T12:41:23.095Z"
      },
      {
        "duration": 106,
        "start_time": "2022-06-14T12:41:23.178Z"
      },
      {
        "duration": 47,
        "start_time": "2022-06-14T12:41:23.286Z"
      },
      {
        "duration": 92,
        "start_time": "2022-06-14T12:41:23.335Z"
      },
      {
        "duration": 67,
        "start_time": "2022-06-14T12:41:23.428Z"
      },
      {
        "duration": 45,
        "start_time": "2022-06-14T12:41:23.497Z"
      },
      {
        "duration": 30,
        "start_time": "2022-06-14T12:41:23.545Z"
      },
      {
        "duration": 33,
        "start_time": "2022-06-14T12:41:23.576Z"
      },
      {
        "duration": 17,
        "start_time": "2022-06-14T12:41:23.612Z"
      },
      {
        "duration": 45,
        "start_time": "2022-06-14T12:41:23.630Z"
      },
      {
        "duration": 12,
        "start_time": "2022-06-14T12:41:23.677Z"
      },
      {
        "duration": 77,
        "start_time": "2022-06-14T12:41:23.691Z"
      },
      {
        "duration": 119,
        "start_time": "2022-06-14T12:41:23.770Z"
      },
      {
        "duration": 90,
        "start_time": "2022-06-14T12:41:23.891Z"
      },
      {
        "duration": 33,
        "start_time": "2022-06-14T12:41:23.982Z"
      },
      {
        "duration": 27,
        "start_time": "2022-06-14T12:41:24.017Z"
      },
      {
        "duration": 3,
        "start_time": "2022-06-14T12:41:24.064Z"
      },
      {
        "duration": 206,
        "start_time": "2022-06-14T12:41:24.070Z"
      },
      {
        "duration": 217,
        "start_time": "2022-06-14T12:41:24.277Z"
      },
      {
        "duration": 237,
        "start_time": "2022-06-14T12:41:24.496Z"
      },
      {
        "duration": 203,
        "start_time": "2022-06-14T12:41:24.734Z"
      },
      {
        "duration": 236,
        "start_time": "2022-06-14T12:41:24.939Z"
      },
      {
        "duration": 202,
        "start_time": "2022-06-14T12:41:25.177Z"
      },
      {
        "duration": 221,
        "start_time": "2022-06-14T12:41:25.381Z"
      },
      {
        "duration": 18,
        "start_time": "2022-06-14T12:41:25.604Z"
      },
      {
        "duration": 7,
        "start_time": "2022-06-14T12:41:25.624Z"
      },
      {
        "duration": 37,
        "start_time": "2022-06-14T12:41:25.632Z"
      },
      {
        "duration": 5,
        "start_time": "2022-06-14T12:41:25.671Z"
      },
      {
        "duration": 0,
        "start_time": "2022-06-14T12:41:25.678Z"
      },
      {
        "duration": 0,
        "start_time": "2022-06-14T12:41:25.679Z"
      },
      {
        "duration": 0,
        "start_time": "2022-06-14T12:41:25.680Z"
      },
      {
        "duration": 0,
        "start_time": "2022-06-14T12:41:25.681Z"
      },
      {
        "duration": 0,
        "start_time": "2022-06-14T12:41:25.682Z"
      },
      {
        "duration": 0,
        "start_time": "2022-06-14T12:41:25.684Z"
      },
      {
        "duration": 0,
        "start_time": "2022-06-14T12:41:25.685Z"
      },
      {
        "duration": 0,
        "start_time": "2022-06-14T12:41:25.686Z"
      },
      {
        "duration": 0,
        "start_time": "2022-06-14T12:41:25.687Z"
      },
      {
        "duration": 0,
        "start_time": "2022-06-14T12:41:25.688Z"
      },
      {
        "duration": 0,
        "start_time": "2022-06-14T12:41:25.690Z"
      },
      {
        "duration": 0,
        "start_time": "2022-06-14T12:41:25.691Z"
      },
      {
        "duration": 0,
        "start_time": "2022-06-14T12:41:25.692Z"
      },
      {
        "duration": 0,
        "start_time": "2022-06-14T12:41:25.693Z"
      },
      {
        "duration": 0,
        "start_time": "2022-06-14T12:41:25.694Z"
      },
      {
        "duration": 1197,
        "start_time": "2022-06-14T12:41:51.541Z"
      },
      {
        "duration": 218,
        "start_time": "2022-06-14T12:41:52.740Z"
      },
      {
        "duration": 184,
        "start_time": "2022-06-14T12:41:52.964Z"
      },
      {
        "duration": 136,
        "start_time": "2022-06-14T12:41:53.151Z"
      },
      {
        "duration": 29,
        "start_time": "2022-06-14T12:41:53.289Z"
      },
      {
        "duration": 44,
        "start_time": "2022-06-14T12:41:53.320Z"
      },
      {
        "duration": 3,
        "start_time": "2022-06-14T12:41:53.366Z"
      },
      {
        "duration": 99,
        "start_time": "2022-06-14T12:41:53.371Z"
      },
      {
        "duration": 112,
        "start_time": "2022-06-14T12:41:53.472Z"
      },
      {
        "duration": 54,
        "start_time": "2022-06-14T12:41:53.587Z"
      },
      {
        "duration": 99,
        "start_time": "2022-06-14T12:41:53.643Z"
      },
      {
        "duration": 79,
        "start_time": "2022-06-14T12:41:53.743Z"
      },
      {
        "duration": 52,
        "start_time": "2022-06-14T12:41:53.825Z"
      },
      {
        "duration": 11,
        "start_time": "2022-06-14T12:41:53.879Z"
      },
      {
        "duration": 32,
        "start_time": "2022-06-14T12:41:53.892Z"
      },
      {
        "duration": 44,
        "start_time": "2022-06-14T12:41:53.926Z"
      },
      {
        "duration": 20,
        "start_time": "2022-06-14T12:41:53.972Z"
      },
      {
        "duration": 12,
        "start_time": "2022-06-14T12:41:53.994Z"
      },
      {
        "duration": 85,
        "start_time": "2022-06-14T12:41:54.008Z"
      },
      {
        "duration": 120,
        "start_time": "2022-06-14T12:41:54.095Z"
      },
      {
        "duration": 94,
        "start_time": "2022-06-14T12:41:54.217Z"
      },
      {
        "duration": 32,
        "start_time": "2022-06-14T12:41:54.313Z"
      },
      {
        "duration": 46,
        "start_time": "2022-06-14T12:41:54.346Z"
      },
      {
        "duration": 3,
        "start_time": "2022-06-14T12:41:54.394Z"
      },
      {
        "duration": 232,
        "start_time": "2022-06-14T12:41:54.399Z"
      },
      {
        "duration": 225,
        "start_time": "2022-06-14T12:41:54.633Z"
      },
      {
        "duration": 224,
        "start_time": "2022-06-14T12:41:54.864Z"
      },
      {
        "duration": 202,
        "start_time": "2022-06-14T12:41:55.093Z"
      },
      {
        "duration": 251,
        "start_time": "2022-06-14T12:41:55.297Z"
      },
      {
        "duration": 196,
        "start_time": "2022-06-14T12:41:55.550Z"
      },
      {
        "duration": 231,
        "start_time": "2022-06-14T12:41:55.748Z"
      },
      {
        "duration": 26,
        "start_time": "2022-06-14T12:41:55.981Z"
      },
      {
        "duration": 7,
        "start_time": "2022-06-14T12:41:56.010Z"
      },
      {
        "duration": 18,
        "start_time": "2022-06-14T12:41:56.019Z"
      },
      {
        "duration": 3,
        "start_time": "2022-06-14T12:41:56.066Z"
      },
      {
        "duration": 42,
        "start_time": "2022-06-14T12:41:56.070Z"
      },
      {
        "duration": 339,
        "start_time": "2022-06-14T12:41:56.114Z"
      },
      {
        "duration": 8,
        "start_time": "2022-06-14T12:41:56.465Z"
      },
      {
        "duration": 315,
        "start_time": "2022-06-14T12:41:56.475Z"
      },
      {
        "duration": 10,
        "start_time": "2022-06-14T12:41:56.793Z"
      },
      {
        "duration": 410,
        "start_time": "2022-06-14T12:41:56.805Z"
      },
      {
        "duration": 11,
        "start_time": "2022-06-14T12:41:57.217Z"
      },
      {
        "duration": 376,
        "start_time": "2022-06-14T12:41:57.230Z"
      },
      {
        "duration": 10,
        "start_time": "2022-06-14T12:41:57.609Z"
      },
      {
        "duration": 13,
        "start_time": "2022-06-14T12:41:57.621Z"
      },
      {
        "duration": 30,
        "start_time": "2022-06-14T12:41:57.636Z"
      },
      {
        "duration": 317,
        "start_time": "2022-06-14T12:41:57.667Z"
      },
      {
        "duration": 13,
        "start_time": "2022-06-14T12:41:57.986Z"
      },
      {
        "duration": 25,
        "start_time": "2022-06-14T12:41:58.001Z"
      },
      {
        "duration": 356,
        "start_time": "2022-06-14T12:41:58.028Z"
      },
      {
        "duration": 1215,
        "start_time": "2022-06-14T12:42:25.844Z"
      },
      {
        "duration": 268,
        "start_time": "2022-06-14T12:42:27.061Z"
      },
      {
        "duration": 206,
        "start_time": "2022-06-14T12:42:27.331Z"
      },
      {
        "duration": 121,
        "start_time": "2022-06-14T12:42:27.539Z"
      },
      {
        "duration": 39,
        "start_time": "2022-06-14T12:42:27.664Z"
      },
      {
        "duration": 47,
        "start_time": "2022-06-14T12:42:27.705Z"
      },
      {
        "duration": 2,
        "start_time": "2022-06-14T12:42:27.754Z"
      },
      {
        "duration": 105,
        "start_time": "2022-06-14T12:42:27.758Z"
      },
      {
        "duration": 106,
        "start_time": "2022-06-14T12:42:27.865Z"
      },
      {
        "duration": 51,
        "start_time": "2022-06-14T12:42:27.974Z"
      },
      {
        "duration": 102,
        "start_time": "2022-06-14T12:42:28.027Z"
      },
      {
        "duration": 81,
        "start_time": "2022-06-14T12:42:28.131Z"
      },
      {
        "duration": 59,
        "start_time": "2022-06-14T12:42:28.215Z"
      },
      {
        "duration": 13,
        "start_time": "2022-06-14T12:42:28.278Z"
      },
      {
        "duration": 30,
        "start_time": "2022-06-14T12:42:28.293Z"
      },
      {
        "duration": 52,
        "start_time": "2022-06-14T12:42:28.325Z"
      },
      {
        "duration": 19,
        "start_time": "2022-06-14T12:42:28.379Z"
      },
      {
        "duration": 11,
        "start_time": "2022-06-14T12:42:28.399Z"
      },
      {
        "duration": 95,
        "start_time": "2022-06-14T12:42:28.412Z"
      },
      {
        "duration": 120,
        "start_time": "2022-06-14T12:42:28.509Z"
      },
      {
        "duration": 87,
        "start_time": "2022-06-14T12:42:28.631Z"
      },
      {
        "duration": 57,
        "start_time": "2022-06-14T12:42:28.720Z"
      },
      {
        "duration": 31,
        "start_time": "2022-06-14T12:42:28.779Z"
      },
      {
        "duration": 2,
        "start_time": "2022-06-14T12:42:28.812Z"
      },
      {
        "duration": 276,
        "start_time": "2022-06-14T12:42:28.816Z"
      },
      {
        "duration": 296,
        "start_time": "2022-06-14T12:42:29.095Z"
      },
      {
        "duration": 271,
        "start_time": "2022-06-14T12:42:29.393Z"
      },
      {
        "duration": 223,
        "start_time": "2022-06-14T12:42:29.667Z"
      },
      {
        "duration": 243,
        "start_time": "2022-06-14T12:42:29.892Z"
      },
      {
        "duration": 227,
        "start_time": "2022-06-14T12:42:30.137Z"
      },
      {
        "duration": 252,
        "start_time": "2022-06-14T12:42:30.366Z"
      },
      {
        "duration": 25,
        "start_time": "2022-06-14T12:42:30.620Z"
      },
      {
        "duration": 28,
        "start_time": "2022-06-14T12:42:30.647Z"
      },
      {
        "duration": 21,
        "start_time": "2022-06-14T12:42:30.677Z"
      },
      {
        "duration": 17,
        "start_time": "2022-06-14T12:42:30.700Z"
      },
      {
        "duration": 73,
        "start_time": "2022-06-14T12:42:30.719Z"
      },
      {
        "duration": 346,
        "start_time": "2022-06-14T12:42:30.794Z"
      },
      {
        "duration": 25,
        "start_time": "2022-06-14T12:42:31.143Z"
      },
      {
        "duration": 399,
        "start_time": "2022-06-14T12:42:31.170Z"
      },
      {
        "duration": 9,
        "start_time": "2022-06-14T12:42:31.571Z"
      },
      {
        "duration": 364,
        "start_time": "2022-06-14T12:42:31.584Z"
      },
      {
        "duration": 18,
        "start_time": "2022-06-14T12:42:31.950Z"
      },
      {
        "duration": 300,
        "start_time": "2022-06-14T12:42:31.970Z"
      },
      {
        "duration": 10,
        "start_time": "2022-06-14T12:42:32.271Z"
      },
      {
        "duration": 118,
        "start_time": "2022-06-14T12:42:32.283Z"
      },
      {
        "duration": 0,
        "start_time": "2022-06-14T12:42:32.403Z"
      },
      {
        "duration": 0,
        "start_time": "2022-06-14T12:42:32.404Z"
      },
      {
        "duration": 0,
        "start_time": "2022-06-14T12:42:32.406Z"
      },
      {
        "duration": 0,
        "start_time": "2022-06-14T12:42:32.407Z"
      },
      {
        "duration": 0,
        "start_time": "2022-06-14T12:42:32.408Z"
      },
      {
        "duration": 1181,
        "start_time": "2022-06-14T12:42:57.080Z"
      },
      {
        "duration": 208,
        "start_time": "2022-06-14T12:42:58.263Z"
      },
      {
        "duration": 186,
        "start_time": "2022-06-14T12:42:58.473Z"
      },
      {
        "duration": 113,
        "start_time": "2022-06-14T12:42:58.664Z"
      },
      {
        "duration": 28,
        "start_time": "2022-06-14T12:42:58.779Z"
      },
      {
        "duration": 51,
        "start_time": "2022-06-14T12:42:58.809Z"
      },
      {
        "duration": 3,
        "start_time": "2022-06-14T12:42:58.862Z"
      },
      {
        "duration": 126,
        "start_time": "2022-06-14T12:42:58.867Z"
      },
      {
        "duration": 121,
        "start_time": "2022-06-14T12:42:58.995Z"
      },
      {
        "duration": 80,
        "start_time": "2022-06-14T12:42:59.120Z"
      },
      {
        "duration": 84,
        "start_time": "2022-06-14T12:42:59.202Z"
      },
      {
        "duration": 54,
        "start_time": "2022-06-14T12:42:59.288Z"
      },
      {
        "duration": 65,
        "start_time": "2022-06-14T12:42:59.344Z"
      },
      {
        "duration": 13,
        "start_time": "2022-06-14T12:42:59.411Z"
      },
      {
        "duration": 61,
        "start_time": "2022-06-14T12:42:59.426Z"
      },
      {
        "duration": 20,
        "start_time": "2022-06-14T12:42:59.489Z"
      },
      {
        "duration": 17,
        "start_time": "2022-06-14T12:42:59.511Z"
      },
      {
        "duration": 39,
        "start_time": "2022-06-14T12:42:59.530Z"
      },
      {
        "duration": 70,
        "start_time": "2022-06-14T12:42:59.570Z"
      },
      {
        "duration": 132,
        "start_time": "2022-06-14T12:42:59.642Z"
      },
      {
        "duration": 73,
        "start_time": "2022-06-14T12:42:59.776Z"
      },
      {
        "duration": 36,
        "start_time": "2022-06-14T12:42:59.865Z"
      },
      {
        "duration": 28,
        "start_time": "2022-06-14T12:42:59.904Z"
      },
      {
        "duration": 4,
        "start_time": "2022-06-14T12:42:59.934Z"
      },
      {
        "duration": 162,
        "start_time": "2022-06-14T12:42:59.965Z"
      },
      {
        "duration": 0,
        "start_time": "2022-06-14T12:43:00.130Z"
      },
      {
        "duration": 0,
        "start_time": "2022-06-14T12:43:00.131Z"
      },
      {
        "duration": 0,
        "start_time": "2022-06-14T12:43:00.133Z"
      },
      {
        "duration": 0,
        "start_time": "2022-06-14T12:43:00.135Z"
      },
      {
        "duration": 0,
        "start_time": "2022-06-14T12:43:00.136Z"
      },
      {
        "duration": 0,
        "start_time": "2022-06-14T12:43:00.138Z"
      },
      {
        "duration": 0,
        "start_time": "2022-06-14T12:43:00.140Z"
      },
      {
        "duration": 0,
        "start_time": "2022-06-14T12:43:00.142Z"
      },
      {
        "duration": 0,
        "start_time": "2022-06-14T12:43:00.171Z"
      },
      {
        "duration": 0,
        "start_time": "2022-06-14T12:43:00.173Z"
      },
      {
        "duration": 0,
        "start_time": "2022-06-14T12:43:00.174Z"
      },
      {
        "duration": 0,
        "start_time": "2022-06-14T12:43:00.176Z"
      },
      {
        "duration": 0,
        "start_time": "2022-06-14T12:43:00.178Z"
      },
      {
        "duration": 0,
        "start_time": "2022-06-14T12:43:00.180Z"
      },
      {
        "duration": 0,
        "start_time": "2022-06-14T12:43:00.181Z"
      },
      {
        "duration": 0,
        "start_time": "2022-06-14T12:43:00.183Z"
      },
      {
        "duration": 0,
        "start_time": "2022-06-14T12:43:00.184Z"
      },
      {
        "duration": 0,
        "start_time": "2022-06-14T12:43:00.186Z"
      },
      {
        "duration": 0,
        "start_time": "2022-06-14T12:43:00.187Z"
      },
      {
        "duration": 0,
        "start_time": "2022-06-14T12:43:00.188Z"
      },
      {
        "duration": 0,
        "start_time": "2022-06-14T12:43:00.190Z"
      },
      {
        "duration": 0,
        "start_time": "2022-06-14T12:43:00.191Z"
      },
      {
        "duration": 0,
        "start_time": "2022-06-14T12:43:00.192Z"
      },
      {
        "duration": 0,
        "start_time": "2022-06-14T12:43:00.193Z"
      },
      {
        "duration": 0,
        "start_time": "2022-06-14T12:43:00.195Z"
      },
      {
        "duration": 4,
        "start_time": "2022-06-14T12:43:18.572Z"
      },
      {
        "duration": 57,
        "start_time": "2022-06-14T12:59:07.430Z"
      },
      {
        "duration": 80,
        "start_time": "2022-06-14T14:20:24.428Z"
      },
      {
        "duration": 370,
        "start_time": "2022-06-14T14:20:33.286Z"
      },
      {
        "duration": 319,
        "start_time": "2022-06-14T14:21:20.865Z"
      },
      {
        "duration": 1130,
        "start_time": "2022-06-14T14:21:48.718Z"
      },
      {
        "duration": 196,
        "start_time": "2022-06-14T14:21:49.850Z"
      },
      {
        "duration": 162,
        "start_time": "2022-06-14T14:21:50.047Z"
      },
      {
        "duration": 115,
        "start_time": "2022-06-14T14:21:50.211Z"
      },
      {
        "duration": 26,
        "start_time": "2022-06-14T14:21:50.327Z"
      },
      {
        "duration": 38,
        "start_time": "2022-06-14T14:21:50.354Z"
      },
      {
        "duration": 68,
        "start_time": "2022-06-14T14:21:50.394Z"
      },
      {
        "duration": 85,
        "start_time": "2022-06-14T14:21:50.463Z"
      },
      {
        "duration": 54,
        "start_time": "2022-06-14T14:21:50.550Z"
      },
      {
        "duration": 78,
        "start_time": "2022-06-14T14:21:50.607Z"
      },
      {
        "duration": 53,
        "start_time": "2022-06-14T14:21:50.687Z"
      },
      {
        "duration": 55,
        "start_time": "2022-06-14T14:21:50.741Z"
      },
      {
        "duration": 9,
        "start_time": "2022-06-14T14:21:50.797Z"
      },
      {
        "duration": 29,
        "start_time": "2022-06-14T14:21:50.808Z"
      },
      {
        "duration": 38,
        "start_time": "2022-06-14T14:21:50.839Z"
      },
      {
        "duration": 12,
        "start_time": "2022-06-14T14:21:50.879Z"
      },
      {
        "duration": 10,
        "start_time": "2022-06-14T14:21:50.893Z"
      },
      {
        "duration": 77,
        "start_time": "2022-06-14T14:21:50.904Z"
      },
      {
        "duration": 109,
        "start_time": "2022-06-14T14:21:50.983Z"
      },
      {
        "duration": 80,
        "start_time": "2022-06-14T14:21:51.094Z"
      },
      {
        "duration": 32,
        "start_time": "2022-06-14T14:21:51.176Z"
      },
      {
        "duration": 25,
        "start_time": "2022-06-14T14:21:51.210Z"
      },
      {
        "duration": 3,
        "start_time": "2022-06-14T14:21:51.237Z"
      },
      {
        "duration": 211,
        "start_time": "2022-06-14T14:21:51.264Z"
      },
      {
        "duration": 208,
        "start_time": "2022-06-14T14:21:51.477Z"
      },
      {
        "duration": 221,
        "start_time": "2022-06-14T14:21:51.686Z"
      },
      {
        "duration": 190,
        "start_time": "2022-06-14T14:21:51.909Z"
      },
      {
        "duration": 232,
        "start_time": "2022-06-14T14:21:52.103Z"
      },
      {
        "duration": 187,
        "start_time": "2022-06-14T14:21:52.337Z"
      },
      {
        "duration": 223,
        "start_time": "2022-06-14T14:21:52.527Z"
      },
      {
        "duration": 23,
        "start_time": "2022-06-14T14:21:52.752Z"
      },
      {
        "duration": 7,
        "start_time": "2022-06-14T14:21:52.777Z"
      },
      {
        "duration": 10,
        "start_time": "2022-06-14T14:21:52.785Z"
      },
      {
        "duration": 11,
        "start_time": "2022-06-14T14:21:52.796Z"
      },
      {
        "duration": 36,
        "start_time": "2022-06-14T14:21:52.808Z"
      },
      {
        "duration": 294,
        "start_time": "2022-06-14T14:21:52.846Z"
      },
      {
        "duration": 8,
        "start_time": "2022-06-14T14:21:53.142Z"
      },
      {
        "duration": 289,
        "start_time": "2022-06-14T14:21:53.165Z"
      },
      {
        "duration": 17,
        "start_time": "2022-06-14T14:21:53.456Z"
      },
      {
        "duration": 405,
        "start_time": "2022-06-14T14:21:53.474Z"
      },
      {
        "duration": 8,
        "start_time": "2022-06-14T14:21:53.880Z"
      },
      {
        "duration": 318,
        "start_time": "2022-06-14T14:21:53.890Z"
      },
      {
        "duration": 8,
        "start_time": "2022-06-14T14:21:54.210Z"
      },
      {
        "duration": 21,
        "start_time": "2022-06-14T14:21:54.219Z"
      },
      {
        "duration": 20,
        "start_time": "2022-06-14T14:21:54.242Z"
      },
      {
        "duration": 303,
        "start_time": "2022-06-14T14:21:54.264Z"
      },
      {
        "duration": 11,
        "start_time": "2022-06-14T14:21:54.568Z"
      },
      {
        "duration": 37,
        "start_time": "2022-06-14T14:21:54.581Z"
      },
      {
        "duration": 322,
        "start_time": "2022-06-14T14:21:54.620Z"
      },
      {
        "duration": 93,
        "start_time": "2022-06-14T14:22:16.148Z"
      },
      {
        "duration": 1140,
        "start_time": "2022-06-14T14:22:26.153Z"
      },
      {
        "duration": 205,
        "start_time": "2022-06-14T14:22:27.295Z"
      },
      {
        "duration": 164,
        "start_time": "2022-06-14T14:22:27.503Z"
      },
      {
        "duration": 112,
        "start_time": "2022-06-14T14:22:27.669Z"
      },
      {
        "duration": 26,
        "start_time": "2022-06-14T14:22:27.783Z"
      },
      {
        "duration": 40,
        "start_time": "2022-06-14T14:22:27.810Z"
      },
      {
        "duration": 70,
        "start_time": "2022-06-14T14:22:27.852Z"
      },
      {
        "duration": 90,
        "start_time": "2022-06-14T14:22:27.924Z"
      },
      {
        "duration": 54,
        "start_time": "2022-06-14T14:22:28.015Z"
      },
      {
        "duration": 59,
        "start_time": "2022-06-14T14:22:28.071Z"
      },
      {
        "duration": 63,
        "start_time": "2022-06-14T14:22:28.132Z"
      },
      {
        "duration": 112,
        "start_time": "2022-06-14T14:22:28.198Z"
      },
      {
        "duration": 0,
        "start_time": "2022-06-14T14:22:28.312Z"
      },
      {
        "duration": 0,
        "start_time": "2022-06-14T14:22:28.314Z"
      },
      {
        "duration": 0,
        "start_time": "2022-06-14T14:22:28.315Z"
      },
      {
        "duration": 0,
        "start_time": "2022-06-14T14:22:28.316Z"
      },
      {
        "duration": 0,
        "start_time": "2022-06-14T14:22:28.317Z"
      },
      {
        "duration": 0,
        "start_time": "2022-06-14T14:22:28.318Z"
      },
      {
        "duration": 0,
        "start_time": "2022-06-14T14:22:28.319Z"
      },
      {
        "duration": 0,
        "start_time": "2022-06-14T14:22:28.320Z"
      },
      {
        "duration": 0,
        "start_time": "2022-06-14T14:22:28.321Z"
      },
      {
        "duration": 0,
        "start_time": "2022-06-14T14:22:28.323Z"
      },
      {
        "duration": 0,
        "start_time": "2022-06-14T14:22:28.324Z"
      },
      {
        "duration": 0,
        "start_time": "2022-06-14T14:22:28.325Z"
      },
      {
        "duration": 0,
        "start_time": "2022-06-14T14:22:28.326Z"
      },
      {
        "duration": 0,
        "start_time": "2022-06-14T14:22:28.327Z"
      },
      {
        "duration": 0,
        "start_time": "2022-06-14T14:22:28.329Z"
      },
      {
        "duration": 0,
        "start_time": "2022-06-14T14:22:28.330Z"
      },
      {
        "duration": 0,
        "start_time": "2022-06-14T14:22:28.332Z"
      },
      {
        "duration": 0,
        "start_time": "2022-06-14T14:22:28.333Z"
      },
      {
        "duration": 0,
        "start_time": "2022-06-14T14:22:28.365Z"
      },
      {
        "duration": 0,
        "start_time": "2022-06-14T14:22:28.367Z"
      },
      {
        "duration": 0,
        "start_time": "2022-06-14T14:22:28.368Z"
      },
      {
        "duration": 0,
        "start_time": "2022-06-14T14:22:28.369Z"
      },
      {
        "duration": 0,
        "start_time": "2022-06-14T14:22:28.370Z"
      },
      {
        "duration": 0,
        "start_time": "2022-06-14T14:22:28.371Z"
      },
      {
        "duration": 0,
        "start_time": "2022-06-14T14:22:28.373Z"
      },
      {
        "duration": 0,
        "start_time": "2022-06-14T14:22:28.377Z"
      },
      {
        "duration": 0,
        "start_time": "2022-06-14T14:22:28.378Z"
      },
      {
        "duration": 0,
        "start_time": "2022-06-14T14:22:28.379Z"
      },
      {
        "duration": 0,
        "start_time": "2022-06-14T14:22:28.380Z"
      },
      {
        "duration": 0,
        "start_time": "2022-06-14T14:22:28.382Z"
      },
      {
        "duration": 0,
        "start_time": "2022-06-14T14:22:28.383Z"
      },
      {
        "duration": 0,
        "start_time": "2022-06-14T14:22:28.384Z"
      },
      {
        "duration": 0,
        "start_time": "2022-06-14T14:22:28.385Z"
      },
      {
        "duration": 0,
        "start_time": "2022-06-14T14:22:28.387Z"
      },
      {
        "duration": 0,
        "start_time": "2022-06-14T14:22:28.388Z"
      },
      {
        "duration": 0,
        "start_time": "2022-06-14T14:22:28.389Z"
      },
      {
        "duration": 0,
        "start_time": "2022-06-14T14:22:28.392Z"
      },
      {
        "duration": 45,
        "start_time": "2022-06-14T14:22:50.573Z"
      },
      {
        "duration": 146,
        "start_time": "2022-06-14T14:26:34.562Z"
      },
      {
        "duration": 339,
        "start_time": "2022-06-14T14:26:43.557Z"
      },
      {
        "duration": 321,
        "start_time": "2022-06-14T14:26:53.625Z"
      },
      {
        "duration": 1060,
        "start_time": "2022-06-14T14:27:06.699Z"
      },
      {
        "duration": 206,
        "start_time": "2022-06-14T14:27:07.762Z"
      },
      {
        "duration": 163,
        "start_time": "2022-06-14T14:27:07.970Z"
      },
      {
        "duration": 113,
        "start_time": "2022-06-14T14:27:08.134Z"
      },
      {
        "duration": 26,
        "start_time": "2022-06-14T14:27:08.249Z"
      },
      {
        "duration": 38,
        "start_time": "2022-06-14T14:27:08.277Z"
      },
      {
        "duration": 67,
        "start_time": "2022-06-14T14:27:08.317Z"
      },
      {
        "duration": 94,
        "start_time": "2022-06-14T14:27:08.385Z"
      },
      {
        "duration": 43,
        "start_time": "2022-06-14T14:27:08.480Z"
      },
      {
        "duration": 83,
        "start_time": "2022-06-14T14:27:08.525Z"
      },
      {
        "duration": 57,
        "start_time": "2022-06-14T14:27:08.610Z"
      },
      {
        "duration": 118,
        "start_time": "2022-06-14T14:27:08.669Z"
      },
      {
        "duration": 0,
        "start_time": "2022-06-14T14:27:08.790Z"
      },
      {
        "duration": 0,
        "start_time": "2022-06-14T14:27:08.791Z"
      },
      {
        "duration": 0,
        "start_time": "2022-06-14T14:27:08.792Z"
      },
      {
        "duration": 0,
        "start_time": "2022-06-14T14:27:08.793Z"
      },
      {
        "duration": 0,
        "start_time": "2022-06-14T14:27:08.795Z"
      },
      {
        "duration": 0,
        "start_time": "2022-06-14T14:27:08.796Z"
      },
      {
        "duration": 0,
        "start_time": "2022-06-14T14:27:08.798Z"
      },
      {
        "duration": 0,
        "start_time": "2022-06-14T14:27:08.800Z"
      },
      {
        "duration": 0,
        "start_time": "2022-06-14T14:27:08.801Z"
      },
      {
        "duration": 0,
        "start_time": "2022-06-14T14:27:08.803Z"
      },
      {
        "duration": 0,
        "start_time": "2022-06-14T14:27:08.804Z"
      },
      {
        "duration": 0,
        "start_time": "2022-06-14T14:27:08.805Z"
      },
      {
        "duration": 0,
        "start_time": "2022-06-14T14:27:08.806Z"
      },
      {
        "duration": 0,
        "start_time": "2022-06-14T14:27:08.808Z"
      },
      {
        "duration": 0,
        "start_time": "2022-06-14T14:27:08.809Z"
      },
      {
        "duration": 0,
        "start_time": "2022-06-14T14:27:08.810Z"
      },
      {
        "duration": 0,
        "start_time": "2022-06-14T14:27:08.812Z"
      },
      {
        "duration": 0,
        "start_time": "2022-06-14T14:27:08.813Z"
      },
      {
        "duration": 0,
        "start_time": "2022-06-14T14:27:08.814Z"
      },
      {
        "duration": 0,
        "start_time": "2022-06-14T14:27:08.816Z"
      },
      {
        "duration": 0,
        "start_time": "2022-06-14T14:27:08.817Z"
      },
      {
        "duration": 0,
        "start_time": "2022-06-14T14:27:08.818Z"
      },
      {
        "duration": 0,
        "start_time": "2022-06-14T14:27:08.820Z"
      },
      {
        "duration": 0,
        "start_time": "2022-06-14T14:27:08.821Z"
      },
      {
        "duration": 0,
        "start_time": "2022-06-14T14:27:08.865Z"
      },
      {
        "duration": 0,
        "start_time": "2022-06-14T14:27:08.868Z"
      },
      {
        "duration": 0,
        "start_time": "2022-06-14T14:27:08.869Z"
      },
      {
        "duration": 0,
        "start_time": "2022-06-14T14:27:08.870Z"
      },
      {
        "duration": 0,
        "start_time": "2022-06-14T14:27:08.872Z"
      },
      {
        "duration": 0,
        "start_time": "2022-06-14T14:27:08.873Z"
      },
      {
        "duration": 0,
        "start_time": "2022-06-14T14:27:08.874Z"
      },
      {
        "duration": 0,
        "start_time": "2022-06-14T14:27:08.875Z"
      },
      {
        "duration": 0,
        "start_time": "2022-06-14T14:27:08.876Z"
      },
      {
        "duration": 0,
        "start_time": "2022-06-14T14:27:08.878Z"
      },
      {
        "duration": 0,
        "start_time": "2022-06-14T14:27:08.879Z"
      },
      {
        "duration": 0,
        "start_time": "2022-06-14T14:27:08.881Z"
      },
      {
        "duration": 0,
        "start_time": "2022-06-14T14:27:08.882Z"
      },
      {
        "duration": 566,
        "start_time": "2022-06-14T14:28:07.227Z"
      },
      {
        "duration": 1159,
        "start_time": "2022-06-14T14:28:14.383Z"
      },
      {
        "duration": 258,
        "start_time": "2022-06-14T14:28:15.544Z"
      },
      {
        "duration": 207,
        "start_time": "2022-06-14T14:28:15.803Z"
      },
      {
        "duration": 133,
        "start_time": "2022-06-14T14:28:16.012Z"
      },
      {
        "duration": 33,
        "start_time": "2022-06-14T14:28:16.148Z"
      },
      {
        "duration": 42,
        "start_time": "2022-06-14T14:28:16.184Z"
      },
      {
        "duration": 86,
        "start_time": "2022-06-14T14:28:16.228Z"
      },
      {
        "duration": 101,
        "start_time": "2022-06-14T14:28:16.316Z"
      },
      {
        "duration": 65,
        "start_time": "2022-06-14T14:28:16.419Z"
      },
      {
        "duration": 66,
        "start_time": "2022-06-14T14:28:16.486Z"
      },
      {
        "duration": 72,
        "start_time": "2022-06-14T14:28:16.565Z"
      },
      {
        "duration": 149,
        "start_time": "2022-06-14T14:28:16.638Z"
      },
      {
        "duration": 0,
        "start_time": "2022-06-14T14:28:16.793Z"
      },
      {
        "duration": 0,
        "start_time": "2022-06-14T14:28:16.794Z"
      },
      {
        "duration": 1,
        "start_time": "2022-06-14T14:28:16.795Z"
      },
      {
        "duration": 0,
        "start_time": "2022-06-14T14:28:16.796Z"
      },
      {
        "duration": 0,
        "start_time": "2022-06-14T14:28:16.797Z"
      },
      {
        "duration": 0,
        "start_time": "2022-06-14T14:28:16.799Z"
      },
      {
        "duration": 0,
        "start_time": "2022-06-14T14:28:16.800Z"
      },
      {
        "duration": 0,
        "start_time": "2022-06-14T14:28:16.801Z"
      },
      {
        "duration": 0,
        "start_time": "2022-06-14T14:28:16.802Z"
      },
      {
        "duration": 0,
        "start_time": "2022-06-14T14:28:16.803Z"
      },
      {
        "duration": 0,
        "start_time": "2022-06-14T14:28:16.804Z"
      },
      {
        "duration": 0,
        "start_time": "2022-06-14T14:28:16.806Z"
      },
      {
        "duration": 0,
        "start_time": "2022-06-14T14:28:16.807Z"
      },
      {
        "duration": 0,
        "start_time": "2022-06-14T14:28:16.808Z"
      },
      {
        "duration": 0,
        "start_time": "2022-06-14T14:28:16.809Z"
      },
      {
        "duration": 0,
        "start_time": "2022-06-14T14:28:16.810Z"
      },
      {
        "duration": 0,
        "start_time": "2022-06-14T14:28:16.811Z"
      },
      {
        "duration": 0,
        "start_time": "2022-06-14T14:28:16.812Z"
      },
      {
        "duration": 0,
        "start_time": "2022-06-14T14:28:16.813Z"
      },
      {
        "duration": 0,
        "start_time": "2022-06-14T14:28:16.814Z"
      },
      {
        "duration": 0,
        "start_time": "2022-06-14T14:28:16.815Z"
      },
      {
        "duration": 0,
        "start_time": "2022-06-14T14:28:16.816Z"
      },
      {
        "duration": 0,
        "start_time": "2022-06-14T14:28:16.817Z"
      },
      {
        "duration": 0,
        "start_time": "2022-06-14T14:28:16.818Z"
      },
      {
        "duration": 0,
        "start_time": "2022-06-14T14:28:16.819Z"
      },
      {
        "duration": 0,
        "start_time": "2022-06-14T14:28:16.821Z"
      },
      {
        "duration": 0,
        "start_time": "2022-06-14T14:28:16.821Z"
      },
      {
        "duration": 0,
        "start_time": "2022-06-14T14:28:16.823Z"
      },
      {
        "duration": 0,
        "start_time": "2022-06-14T14:28:16.823Z"
      },
      {
        "duration": 0,
        "start_time": "2022-06-14T14:28:16.869Z"
      },
      {
        "duration": 0,
        "start_time": "2022-06-14T14:28:16.873Z"
      },
      {
        "duration": 0,
        "start_time": "2022-06-14T14:28:16.875Z"
      },
      {
        "duration": 0,
        "start_time": "2022-06-14T14:28:16.878Z"
      },
      {
        "duration": 0,
        "start_time": "2022-06-14T14:28:16.883Z"
      },
      {
        "duration": 0,
        "start_time": "2022-06-14T14:28:16.885Z"
      },
      {
        "duration": 0,
        "start_time": "2022-06-14T14:28:16.887Z"
      },
      {
        "duration": 0,
        "start_time": "2022-06-14T14:28:16.888Z"
      },
      {
        "duration": 124,
        "start_time": "2022-06-14T14:28:55.177Z"
      },
      {
        "duration": 123,
        "start_time": "2022-06-14T14:29:28.933Z"
      },
      {
        "duration": 1089,
        "start_time": "2022-06-14T14:29:51.313Z"
      },
      {
        "duration": 209,
        "start_time": "2022-06-14T14:29:52.404Z"
      },
      {
        "duration": 178,
        "start_time": "2022-06-14T14:29:52.615Z"
      },
      {
        "duration": 115,
        "start_time": "2022-06-14T14:29:52.795Z"
      },
      {
        "duration": 24,
        "start_time": "2022-06-14T14:29:52.912Z"
      },
      {
        "duration": 52,
        "start_time": "2022-06-14T14:29:52.938Z"
      },
      {
        "duration": 85,
        "start_time": "2022-06-14T14:29:52.992Z"
      },
      {
        "duration": 95,
        "start_time": "2022-06-14T14:29:53.079Z"
      },
      {
        "duration": 45,
        "start_time": "2022-06-14T14:29:53.176Z"
      },
      {
        "duration": 73,
        "start_time": "2022-06-14T14:29:53.222Z"
      },
      {
        "duration": 52,
        "start_time": "2022-06-14T14:29:53.297Z"
      },
      {
        "duration": 131,
        "start_time": "2022-06-14T14:29:53.350Z"
      },
      {
        "duration": 10,
        "start_time": "2022-06-14T14:29:53.483Z"
      },
      {
        "duration": 84,
        "start_time": "2022-06-14T14:29:53.497Z"
      },
      {
        "duration": 57,
        "start_time": "2022-06-14T14:29:53.583Z"
      },
      {
        "duration": 50,
        "start_time": "2022-06-14T14:29:53.642Z"
      },
      {
        "duration": 506,
        "start_time": "2022-06-14T14:29:53.694Z"
      },
      {
        "duration": 1208,
        "start_time": "2022-06-14T14:29:54.202Z"
      },
      {
        "duration": 1679,
        "start_time": "2022-06-14T14:29:55.412Z"
      },
      {
        "duration": 0,
        "start_time": "2022-06-14T14:29:57.093Z"
      },
      {
        "duration": 0,
        "start_time": "2022-06-14T14:29:57.094Z"
      },
      {
        "duration": 0,
        "start_time": "2022-06-14T14:29:57.095Z"
      },
      {
        "duration": 0,
        "start_time": "2022-06-14T14:29:57.096Z"
      },
      {
        "duration": 0,
        "start_time": "2022-06-14T14:29:57.097Z"
      },
      {
        "duration": 0,
        "start_time": "2022-06-14T14:29:57.098Z"
      },
      {
        "duration": 0,
        "start_time": "2022-06-14T14:29:57.099Z"
      },
      {
        "duration": 0,
        "start_time": "2022-06-14T14:29:57.100Z"
      },
      {
        "duration": 0,
        "start_time": "2022-06-14T14:29:57.101Z"
      },
      {
        "duration": 0,
        "start_time": "2022-06-14T14:29:57.102Z"
      },
      {
        "duration": 0,
        "start_time": "2022-06-14T14:29:57.104Z"
      },
      {
        "duration": 0,
        "start_time": "2022-06-14T14:29:57.105Z"
      },
      {
        "duration": 0,
        "start_time": "2022-06-14T14:29:57.107Z"
      },
      {
        "duration": 0,
        "start_time": "2022-06-14T14:29:57.108Z"
      },
      {
        "duration": 0,
        "start_time": "2022-06-14T14:29:57.109Z"
      },
      {
        "duration": 0,
        "start_time": "2022-06-14T14:29:57.111Z"
      },
      {
        "duration": 0,
        "start_time": "2022-06-14T14:29:57.112Z"
      },
      {
        "duration": 0,
        "start_time": "2022-06-14T14:29:57.114Z"
      },
      {
        "duration": 0,
        "start_time": "2022-06-14T14:29:57.115Z"
      },
      {
        "duration": 0,
        "start_time": "2022-06-14T14:29:57.116Z"
      },
      {
        "duration": 0,
        "start_time": "2022-06-14T14:29:57.117Z"
      },
      {
        "duration": 0,
        "start_time": "2022-06-14T14:29:57.119Z"
      },
      {
        "duration": 0,
        "start_time": "2022-06-14T14:29:57.120Z"
      },
      {
        "duration": 0,
        "start_time": "2022-06-14T14:29:57.121Z"
      },
      {
        "duration": 0,
        "start_time": "2022-06-14T14:29:57.122Z"
      },
      {
        "duration": 0,
        "start_time": "2022-06-14T14:29:57.166Z"
      },
      {
        "duration": 0,
        "start_time": "2022-06-14T14:29:57.166Z"
      },
      {
        "duration": 0,
        "start_time": "2022-06-14T14:29:57.167Z"
      },
      {
        "duration": 0,
        "start_time": "2022-06-14T14:29:57.167Z"
      },
      {
        "duration": 0,
        "start_time": "2022-06-14T14:29:57.168Z"
      },
      {
        "duration": 1066,
        "start_time": "2022-06-14T14:30:25.478Z"
      },
      {
        "duration": 213,
        "start_time": "2022-06-14T14:30:26.546Z"
      },
      {
        "duration": 164,
        "start_time": "2022-06-14T14:30:26.773Z"
      },
      {
        "duration": 114,
        "start_time": "2022-06-14T14:30:26.938Z"
      },
      {
        "duration": 39,
        "start_time": "2022-06-14T14:30:27.054Z"
      },
      {
        "duration": 43,
        "start_time": "2022-06-14T14:30:27.094Z"
      },
      {
        "duration": 81,
        "start_time": "2022-06-14T14:30:27.139Z"
      },
      {
        "duration": 96,
        "start_time": "2022-06-14T14:30:27.221Z"
      },
      {
        "duration": 57,
        "start_time": "2022-06-14T14:30:27.319Z"
      },
      {
        "duration": 67,
        "start_time": "2022-06-14T14:30:27.377Z"
      },
      {
        "duration": 67,
        "start_time": "2022-06-14T14:30:27.446Z"
      },
      {
        "duration": 126,
        "start_time": "2022-06-14T14:30:27.515Z"
      },
      {
        "duration": 9,
        "start_time": "2022-06-14T14:30:27.643Z"
      },
      {
        "duration": 80,
        "start_time": "2022-06-14T14:30:27.653Z"
      },
      {
        "duration": 63,
        "start_time": "2022-06-14T14:30:27.735Z"
      },
      {
        "duration": 36,
        "start_time": "2022-06-14T14:30:27.800Z"
      },
      {
        "duration": 492,
        "start_time": "2022-06-14T14:30:27.839Z"
      },
      {
        "duration": 1228,
        "start_time": "2022-06-14T14:30:28.333Z"
      },
      {
        "duration": 1732,
        "start_time": "2022-06-14T14:30:29.565Z"
      },
      {
        "duration": 0,
        "start_time": "2022-06-14T14:30:31.300Z"
      },
      {
        "duration": 0,
        "start_time": "2022-06-14T14:30:31.301Z"
      },
      {
        "duration": 0,
        "start_time": "2022-06-14T14:30:31.303Z"
      },
      {
        "duration": 0,
        "start_time": "2022-06-14T14:30:31.304Z"
      },
      {
        "duration": 0,
        "start_time": "2022-06-14T14:30:31.305Z"
      },
      {
        "duration": 0,
        "start_time": "2022-06-14T14:30:31.306Z"
      },
      {
        "duration": 0,
        "start_time": "2022-06-14T14:30:31.307Z"
      },
      {
        "duration": 0,
        "start_time": "2022-06-14T14:30:31.308Z"
      },
      {
        "duration": 0,
        "start_time": "2022-06-14T14:30:31.310Z"
      },
      {
        "duration": 0,
        "start_time": "2022-06-14T14:30:31.311Z"
      },
      {
        "duration": 0,
        "start_time": "2022-06-14T14:30:31.312Z"
      },
      {
        "duration": 0,
        "start_time": "2022-06-14T14:30:31.314Z"
      },
      {
        "duration": 0,
        "start_time": "2022-06-14T14:30:31.315Z"
      },
      {
        "duration": 0,
        "start_time": "2022-06-14T14:30:31.317Z"
      },
      {
        "duration": 0,
        "start_time": "2022-06-14T14:30:31.319Z"
      },
      {
        "duration": 0,
        "start_time": "2022-06-14T14:30:31.320Z"
      },
      {
        "duration": 0,
        "start_time": "2022-06-14T14:30:31.321Z"
      },
      {
        "duration": 0,
        "start_time": "2022-06-14T14:30:31.323Z"
      },
      {
        "duration": 0,
        "start_time": "2022-06-14T14:30:31.324Z"
      },
      {
        "duration": 0,
        "start_time": "2022-06-14T14:30:31.325Z"
      },
      {
        "duration": 0,
        "start_time": "2022-06-14T14:30:31.326Z"
      },
      {
        "duration": 0,
        "start_time": "2022-06-14T14:30:31.327Z"
      },
      {
        "duration": 0,
        "start_time": "2022-06-14T14:30:31.329Z"
      },
      {
        "duration": 0,
        "start_time": "2022-06-14T14:30:31.370Z"
      },
      {
        "duration": 0,
        "start_time": "2022-06-14T14:30:31.371Z"
      },
      {
        "duration": 0,
        "start_time": "2022-06-14T14:30:31.372Z"
      },
      {
        "duration": 0,
        "start_time": "2022-06-14T14:30:31.372Z"
      },
      {
        "duration": 0,
        "start_time": "2022-06-14T14:30:31.373Z"
      },
      {
        "duration": 0,
        "start_time": "2022-06-14T14:30:31.374Z"
      },
      {
        "duration": 0,
        "start_time": "2022-06-14T14:30:31.375Z"
      },
      {
        "duration": 98,
        "start_time": "2022-06-14T14:33:56.499Z"
      },
      {
        "duration": 45,
        "start_time": "2022-06-14T14:34:59.451Z"
      },
      {
        "duration": 42,
        "start_time": "2022-06-14T14:35:12.351Z"
      },
      {
        "duration": 1094,
        "start_time": "2022-06-14T14:35:27.674Z"
      },
      {
        "duration": 229,
        "start_time": "2022-06-14T14:35:28.770Z"
      },
      {
        "duration": 202,
        "start_time": "2022-06-14T14:35:29.005Z"
      },
      {
        "duration": 126,
        "start_time": "2022-06-14T14:35:29.209Z"
      },
      {
        "duration": 29,
        "start_time": "2022-06-14T14:35:29.336Z"
      },
      {
        "duration": 39,
        "start_time": "2022-06-14T14:35:29.367Z"
      },
      {
        "duration": 72,
        "start_time": "2022-06-14T14:35:29.408Z"
      },
      {
        "duration": 96,
        "start_time": "2022-06-14T14:35:29.482Z"
      },
      {
        "duration": 47,
        "start_time": "2022-06-14T14:35:29.581Z"
      },
      {
        "duration": 79,
        "start_time": "2022-06-14T14:35:29.630Z"
      },
      {
        "duration": 64,
        "start_time": "2022-06-14T14:35:29.711Z"
      },
      {
        "duration": 40,
        "start_time": "2022-06-14T14:35:29.777Z"
      },
      {
        "duration": 10,
        "start_time": "2022-06-14T14:35:29.819Z"
      },
      {
        "duration": 49,
        "start_time": "2022-06-14T14:35:29.831Z"
      },
      {
        "duration": 17,
        "start_time": "2022-06-14T14:35:29.882Z"
      },
      {
        "duration": 22,
        "start_time": "2022-06-14T14:35:29.900Z"
      },
      {
        "duration": 10,
        "start_time": "2022-06-14T14:35:29.924Z"
      },
      {
        "duration": 55,
        "start_time": "2022-06-14T14:35:29.964Z"
      },
      {
        "duration": 128,
        "start_time": "2022-06-14T14:35:30.021Z"
      },
      {
        "duration": 74,
        "start_time": "2022-06-14T14:35:30.151Z"
      },
      {
        "duration": 45,
        "start_time": "2022-06-14T14:35:30.226Z"
      },
      {
        "duration": 27,
        "start_time": "2022-06-14T14:35:30.273Z"
      },
      {
        "duration": 3,
        "start_time": "2022-06-14T14:35:30.301Z"
      },
      {
        "duration": 220,
        "start_time": "2022-06-14T14:35:30.306Z"
      },
      {
        "duration": 229,
        "start_time": "2022-06-14T14:35:30.527Z"
      },
      {
        "duration": 234,
        "start_time": "2022-06-14T14:35:30.758Z"
      },
      {
        "duration": 231,
        "start_time": "2022-06-14T14:35:30.996Z"
      },
      {
        "duration": 243,
        "start_time": "2022-06-14T14:35:31.229Z"
      },
      {
        "duration": 209,
        "start_time": "2022-06-14T14:35:31.475Z"
      },
      {
        "duration": 242,
        "start_time": "2022-06-14T14:35:31.686Z"
      },
      {
        "duration": 19,
        "start_time": "2022-06-14T14:35:31.930Z"
      },
      {
        "duration": 8,
        "start_time": "2022-06-14T14:35:31.965Z"
      },
      {
        "duration": 14,
        "start_time": "2022-06-14T14:35:31.974Z"
      },
      {
        "duration": 8,
        "start_time": "2022-06-14T14:35:31.990Z"
      },
      {
        "duration": 49,
        "start_time": "2022-06-14T14:35:32.000Z"
      },
      {
        "duration": 300,
        "start_time": "2022-06-14T14:35:32.065Z"
      },
      {
        "duration": 8,
        "start_time": "2022-06-14T14:35:32.367Z"
      },
      {
        "duration": 319,
        "start_time": "2022-06-14T14:35:32.377Z"
      },
      {
        "duration": 10,
        "start_time": "2022-06-14T14:35:32.697Z"
      },
      {
        "duration": 468,
        "start_time": "2022-06-14T14:35:32.709Z"
      },
      {
        "duration": 8,
        "start_time": "2022-06-14T14:35:33.179Z"
      },
      {
        "duration": 330,
        "start_time": "2022-06-14T14:35:33.189Z"
      },
      {
        "duration": 9,
        "start_time": "2022-06-14T14:35:33.520Z"
      },
      {
        "duration": 12,
        "start_time": "2022-06-14T14:35:33.531Z"
      },
      {
        "duration": 6,
        "start_time": "2022-06-14T14:35:33.564Z"
      },
      {
        "duration": 317,
        "start_time": "2022-06-14T14:35:33.572Z"
      },
      {
        "duration": 11,
        "start_time": "2022-06-14T14:35:33.892Z"
      },
      {
        "duration": 24,
        "start_time": "2022-06-14T14:35:33.905Z"
      },
      {
        "duration": 343,
        "start_time": "2022-06-14T14:35:33.931Z"
      },
      {
        "duration": 484,
        "start_time": "2022-06-14T14:36:53.002Z"
      },
      {
        "duration": 1161,
        "start_time": "2022-06-14T14:37:06.291Z"
      },
      {
        "duration": 245,
        "start_time": "2022-06-14T14:37:07.454Z"
      },
      {
        "duration": 204,
        "start_time": "2022-06-14T14:37:07.701Z"
      },
      {
        "duration": 138,
        "start_time": "2022-06-14T14:37:07.907Z"
      },
      {
        "duration": 39,
        "start_time": "2022-06-14T14:37:08.047Z"
      },
      {
        "duration": 44,
        "start_time": "2022-06-14T14:37:08.088Z"
      },
      {
        "duration": 88,
        "start_time": "2022-06-14T14:37:08.134Z"
      },
      {
        "duration": 102,
        "start_time": "2022-06-14T14:37:08.223Z"
      },
      {
        "duration": 47,
        "start_time": "2022-06-14T14:37:08.326Z"
      },
      {
        "duration": 67,
        "start_time": "2022-06-14T14:37:08.381Z"
      },
      {
        "duration": 63,
        "start_time": "2022-06-14T14:37:08.449Z"
      },
      {
        "duration": 59,
        "start_time": "2022-06-14T14:37:08.514Z"
      },
      {
        "duration": 25,
        "start_time": "2022-06-14T14:37:08.574Z"
      },
      {
        "duration": 35,
        "start_time": "2022-06-14T14:37:08.603Z"
      },
      {
        "duration": 15,
        "start_time": "2022-06-14T14:37:08.640Z"
      },
      {
        "duration": 32,
        "start_time": "2022-06-14T14:37:08.668Z"
      },
      {
        "duration": 11,
        "start_time": "2022-06-14T14:37:08.702Z"
      },
      {
        "duration": 78,
        "start_time": "2022-06-14T14:37:08.714Z"
      },
      {
        "duration": 118,
        "start_time": "2022-06-14T14:37:08.794Z"
      },
      {
        "duration": 89,
        "start_time": "2022-06-14T14:37:08.913Z"
      },
      {
        "duration": 37,
        "start_time": "2022-06-14T14:37:09.004Z"
      },
      {
        "duration": 58,
        "start_time": "2022-06-14T14:37:09.043Z"
      },
      {
        "duration": 2,
        "start_time": "2022-06-14T14:37:09.104Z"
      },
      {
        "duration": 291,
        "start_time": "2022-06-14T14:37:09.109Z"
      },
      {
        "duration": 214,
        "start_time": "2022-06-14T14:37:09.403Z"
      },
      {
        "duration": 234,
        "start_time": "2022-06-14T14:37:09.618Z"
      },
      {
        "duration": 239,
        "start_time": "2022-06-14T14:37:09.854Z"
      },
      {
        "duration": 232,
        "start_time": "2022-06-14T14:37:10.094Z"
      },
      {
        "duration": 227,
        "start_time": "2022-06-14T14:37:10.328Z"
      },
      {
        "duration": 256,
        "start_time": "2022-06-14T14:37:10.566Z"
      },
      {
        "duration": 18,
        "start_time": "2022-06-14T14:37:10.824Z"
      },
      {
        "duration": 33,
        "start_time": "2022-06-14T14:37:10.844Z"
      },
      {
        "duration": 15,
        "start_time": "2022-06-14T14:37:10.879Z"
      },
      {
        "duration": 17,
        "start_time": "2022-06-14T14:37:10.896Z"
      },
      {
        "duration": 44,
        "start_time": "2022-06-14T14:37:10.915Z"
      },
      {
        "duration": 344,
        "start_time": "2022-06-14T14:37:10.960Z"
      },
      {
        "duration": 8,
        "start_time": "2022-06-14T14:37:11.305Z"
      },
      {
        "duration": 380,
        "start_time": "2022-06-14T14:37:11.315Z"
      },
      {
        "duration": 9,
        "start_time": "2022-06-14T14:37:11.696Z"
      },
      {
        "duration": 447,
        "start_time": "2022-06-14T14:37:11.706Z"
      },
      {
        "duration": 19,
        "start_time": "2022-06-14T14:37:12.157Z"
      },
      {
        "duration": 324,
        "start_time": "2022-06-14T14:37:12.186Z"
      },
      {
        "duration": 8,
        "start_time": "2022-06-14T14:37:12.512Z"
      },
      {
        "duration": 12,
        "start_time": "2022-06-14T14:37:12.522Z"
      },
      {
        "duration": 46,
        "start_time": "2022-06-14T14:37:12.536Z"
      },
      {
        "duration": 325,
        "start_time": "2022-06-14T14:37:12.590Z"
      },
      {
        "duration": 11,
        "start_time": "2022-06-14T14:37:12.917Z"
      },
      {
        "duration": 60,
        "start_time": "2022-06-14T14:37:12.929Z"
      },
      {
        "duration": 324,
        "start_time": "2022-06-14T14:37:12.991Z"
      },
      {
        "duration": 445,
        "start_time": "2022-06-14T14:38:10.709Z"
      },
      {
        "duration": 1118,
        "start_time": "2022-06-14T14:38:39.270Z"
      },
      {
        "duration": 202,
        "start_time": "2022-06-14T14:38:40.390Z"
      },
      {
        "duration": 158,
        "start_time": "2022-06-14T14:38:40.594Z"
      },
      {
        "duration": 111,
        "start_time": "2022-06-14T14:38:40.754Z"
      },
      {
        "duration": 26,
        "start_time": "2022-06-14T14:38:40.867Z"
      },
      {
        "duration": 41,
        "start_time": "2022-06-14T14:38:40.895Z"
      },
      {
        "duration": 76,
        "start_time": "2022-06-14T14:38:40.938Z"
      },
      {
        "duration": 93,
        "start_time": "2022-06-14T14:38:41.016Z"
      },
      {
        "duration": 33,
        "start_time": "2022-06-14T14:38:41.111Z"
      },
      {
        "duration": 81,
        "start_time": "2022-06-14T14:38:41.166Z"
      },
      {
        "duration": 73,
        "start_time": "2022-06-14T14:38:41.249Z"
      },
      {
        "duration": 57,
        "start_time": "2022-06-14T14:38:41.324Z"
      },
      {
        "duration": 11,
        "start_time": "2022-06-14T14:38:41.383Z"
      },
      {
        "duration": 29,
        "start_time": "2022-06-14T14:38:41.396Z"
      },
      {
        "duration": 45,
        "start_time": "2022-06-14T14:38:41.427Z"
      },
      {
        "duration": 20,
        "start_time": "2022-06-14T14:38:41.474Z"
      },
      {
        "duration": 10,
        "start_time": "2022-06-14T14:38:41.496Z"
      },
      {
        "duration": 72,
        "start_time": "2022-06-14T14:38:41.507Z"
      },
      {
        "duration": 101,
        "start_time": "2022-06-14T14:38:41.581Z"
      },
      {
        "duration": 65,
        "start_time": "2022-06-14T14:38:41.684Z"
      },
      {
        "duration": 33,
        "start_time": "2022-06-14T14:38:41.764Z"
      },
      {
        "duration": 29,
        "start_time": "2022-06-14T14:38:41.799Z"
      },
      {
        "duration": 3,
        "start_time": "2022-06-14T14:38:41.830Z"
      },
      {
        "duration": 231,
        "start_time": "2022-06-14T14:38:41.835Z"
      },
      {
        "duration": 209,
        "start_time": "2022-06-14T14:38:42.068Z"
      },
      {
        "duration": 225,
        "start_time": "2022-06-14T14:38:42.279Z"
      },
      {
        "duration": 204,
        "start_time": "2022-06-14T14:38:42.505Z"
      },
      {
        "duration": 223,
        "start_time": "2022-06-14T14:38:42.712Z"
      },
      {
        "duration": 199,
        "start_time": "2022-06-14T14:38:42.937Z"
      },
      {
        "duration": 225,
        "start_time": "2022-06-14T14:38:43.137Z"
      },
      {
        "duration": 19,
        "start_time": "2022-06-14T14:38:43.365Z"
      },
      {
        "duration": 7,
        "start_time": "2022-06-14T14:38:43.386Z"
      },
      {
        "duration": 8,
        "start_time": "2022-06-14T14:38:43.395Z"
      },
      {
        "duration": 6,
        "start_time": "2022-06-14T14:38:43.405Z"
      },
      {
        "duration": 67,
        "start_time": "2022-06-14T14:38:43.413Z"
      },
      {
        "duration": 291,
        "start_time": "2022-06-14T14:38:43.482Z"
      },
      {
        "duration": 10,
        "start_time": "2022-06-14T14:38:43.775Z"
      },
      {
        "duration": 406,
        "start_time": "2022-06-14T14:38:43.787Z"
      },
      {
        "duration": 9,
        "start_time": "2022-06-14T14:38:44.195Z"
      },
      {
        "duration": 346,
        "start_time": "2022-06-14T14:38:44.205Z"
      },
      {
        "duration": 21,
        "start_time": "2022-06-14T14:38:44.553Z"
      },
      {
        "duration": 345,
        "start_time": "2022-06-14T14:38:44.576Z"
      },
      {
        "duration": 8,
        "start_time": "2022-06-14T14:38:44.922Z"
      },
      {
        "duration": 11,
        "start_time": "2022-06-14T14:38:44.932Z"
      },
      {
        "duration": 24,
        "start_time": "2022-06-14T14:38:44.945Z"
      },
      {
        "duration": 304,
        "start_time": "2022-06-14T14:38:44.971Z"
      },
      {
        "duration": 12,
        "start_time": "2022-06-14T14:38:45.277Z"
      },
      {
        "duration": 26,
        "start_time": "2022-06-14T14:38:45.290Z"
      },
      {
        "duration": 331,
        "start_time": "2022-06-14T14:38:45.318Z"
      },
      {
        "duration": 11,
        "start_time": "2022-06-14T14:47:54.158Z"
      },
      {
        "duration": 33,
        "start_time": "2022-06-14T14:47:58.445Z"
      },
      {
        "duration": 1288,
        "start_time": "2022-06-14T18:40:30.824Z"
      },
      {
        "duration": 265,
        "start_time": "2022-06-14T18:40:32.115Z"
      },
      {
        "duration": 382,
        "start_time": "2022-06-14T18:40:32.381Z"
      },
      {
        "duration": 391,
        "start_time": "2022-06-14T18:40:32.765Z"
      },
      {
        "duration": 85,
        "start_time": "2022-06-14T18:40:33.158Z"
      },
      {
        "duration": 72,
        "start_time": "2022-06-14T18:40:33.246Z"
      },
      {
        "duration": 72,
        "start_time": "2022-06-14T18:40:33.320Z"
      },
      {
        "duration": 88,
        "start_time": "2022-06-14T18:40:33.394Z"
      },
      {
        "duration": 106,
        "start_time": "2022-06-14T18:40:33.484Z"
      },
      {
        "duration": 58,
        "start_time": "2022-06-14T18:40:33.591Z"
      },
      {
        "duration": 8,
        "start_time": "2022-06-14T18:40:33.651Z"
      },
      {
        "duration": 30,
        "start_time": "2022-06-14T18:40:33.660Z"
      },
      {
        "duration": 8,
        "start_time": "2022-06-14T18:40:33.691Z"
      },
      {
        "duration": 47,
        "start_time": "2022-06-14T18:40:33.702Z"
      },
      {
        "duration": 14,
        "start_time": "2022-06-14T18:40:33.750Z"
      },
      {
        "duration": 27,
        "start_time": "2022-06-14T18:40:33.766Z"
      },
      {
        "duration": 12,
        "start_time": "2022-06-14T18:40:33.794Z"
      },
      {
        "duration": 72,
        "start_time": "2022-06-14T18:40:33.807Z"
      },
      {
        "duration": 103,
        "start_time": "2022-06-14T18:40:33.881Z"
      },
      {
        "duration": 67,
        "start_time": "2022-06-14T18:40:33.986Z"
      },
      {
        "duration": 27,
        "start_time": "2022-06-14T18:40:34.054Z"
      },
      {
        "duration": 24,
        "start_time": "2022-06-14T18:40:34.082Z"
      },
      {
        "duration": 2,
        "start_time": "2022-06-14T18:40:34.108Z"
      },
      {
        "duration": 184,
        "start_time": "2022-06-14T18:40:34.126Z"
      },
      {
        "duration": 183,
        "start_time": "2022-06-14T18:40:34.311Z"
      },
      {
        "duration": 243,
        "start_time": "2022-06-14T18:40:34.496Z"
      },
      {
        "duration": 253,
        "start_time": "2022-06-14T18:40:34.743Z"
      },
      {
        "duration": 221,
        "start_time": "2022-06-14T18:40:34.997Z"
      },
      {
        "duration": 191,
        "start_time": "2022-06-14T18:40:35.220Z"
      },
      {
        "duration": 196,
        "start_time": "2022-06-14T18:40:35.413Z"
      },
      {
        "duration": 35,
        "start_time": "2022-06-14T18:40:35.610Z"
      },
      {
        "duration": 7,
        "start_time": "2022-06-14T18:40:35.646Z"
      },
      {
        "duration": 20,
        "start_time": "2022-06-14T18:40:35.655Z"
      },
      {
        "duration": 27,
        "start_time": "2022-06-14T18:40:35.676Z"
      },
      {
        "duration": 49,
        "start_time": "2022-06-14T18:40:35.704Z"
      },
      {
        "duration": 322,
        "start_time": "2022-06-14T18:40:35.754Z"
      },
      {
        "duration": 7,
        "start_time": "2022-06-14T18:40:36.077Z"
      },
      {
        "duration": 320,
        "start_time": "2022-06-14T18:40:36.085Z"
      },
      {
        "duration": 28,
        "start_time": "2022-06-14T18:40:36.407Z"
      },
      {
        "duration": 372,
        "start_time": "2022-06-14T18:40:36.445Z"
      },
      {
        "duration": 21,
        "start_time": "2022-06-14T18:40:36.821Z"
      },
      {
        "duration": 294,
        "start_time": "2022-06-14T18:40:36.844Z"
      },
      {
        "duration": 8,
        "start_time": "2022-06-14T18:40:37.140Z"
      },
      {
        "duration": 36,
        "start_time": "2022-06-14T18:40:37.150Z"
      },
      {
        "duration": 16,
        "start_time": "2022-06-14T18:40:37.188Z"
      },
      {
        "duration": 296,
        "start_time": "2022-06-14T18:40:37.206Z"
      },
      {
        "duration": 29,
        "start_time": "2022-06-14T18:40:37.504Z"
      },
      {
        "duration": 19,
        "start_time": "2022-06-14T18:40:37.540Z"
      },
      {
        "duration": 287,
        "start_time": "2022-06-14T18:40:37.561Z"
      },
      {
        "duration": 1040,
        "start_time": "2022-06-14T18:43:43.341Z"
      },
      {
        "duration": 181,
        "start_time": "2022-06-14T18:43:44.383Z"
      },
      {
        "duration": 150,
        "start_time": "2022-06-14T18:43:44.565Z"
      },
      {
        "duration": 121,
        "start_time": "2022-06-14T18:43:44.716Z"
      },
      {
        "duration": 30,
        "start_time": "2022-06-14T18:43:44.839Z"
      },
      {
        "duration": 42,
        "start_time": "2022-06-14T18:43:44.870Z"
      },
      {
        "duration": 69,
        "start_time": "2022-06-14T18:43:44.913Z"
      },
      {
        "duration": 88,
        "start_time": "2022-06-14T18:43:44.984Z"
      },
      {
        "duration": 111,
        "start_time": "2022-06-14T18:43:45.074Z"
      },
      {
        "duration": 61,
        "start_time": "2022-06-14T18:43:45.189Z"
      },
      {
        "duration": 10,
        "start_time": "2022-06-14T18:43:45.252Z"
      },
      {
        "duration": 30,
        "start_time": "2022-06-14T18:43:45.264Z"
      },
      {
        "duration": 9,
        "start_time": "2022-06-14T18:43:45.295Z"
      },
      {
        "duration": 28,
        "start_time": "2022-06-14T18:43:45.326Z"
      },
      {
        "duration": 31,
        "start_time": "2022-06-14T18:43:45.355Z"
      },
      {
        "duration": 34,
        "start_time": "2022-06-14T18:43:45.387Z"
      },
      {
        "duration": 39,
        "start_time": "2022-06-14T18:43:45.423Z"
      },
      {
        "duration": 80,
        "start_time": "2022-06-14T18:43:45.463Z"
      },
      {
        "duration": 100,
        "start_time": "2022-06-14T18:43:45.544Z"
      },
      {
        "duration": 63,
        "start_time": "2022-06-14T18:43:45.646Z"
      },
      {
        "duration": 51,
        "start_time": "2022-06-14T18:43:45.710Z"
      },
      {
        "duration": 28,
        "start_time": "2022-06-14T18:43:45.763Z"
      },
      {
        "duration": 12,
        "start_time": "2022-06-14T18:43:45.792Z"
      },
      {
        "duration": 200,
        "start_time": "2022-06-14T18:43:45.805Z"
      },
      {
        "duration": 183,
        "start_time": "2022-06-14T18:43:46.007Z"
      },
      {
        "duration": 256,
        "start_time": "2022-06-14T18:43:46.191Z"
      },
      {
        "duration": 203,
        "start_time": "2022-06-14T18:43:46.449Z"
      },
      {
        "duration": 197,
        "start_time": "2022-06-14T18:43:46.655Z"
      },
      {
        "duration": 184,
        "start_time": "2022-06-14T18:43:46.854Z"
      },
      {
        "duration": 196,
        "start_time": "2022-06-14T18:43:47.040Z"
      },
      {
        "duration": 16,
        "start_time": "2022-06-14T18:43:47.237Z"
      },
      {
        "duration": 21,
        "start_time": "2022-06-14T18:43:47.255Z"
      },
      {
        "duration": 23,
        "start_time": "2022-06-14T18:43:47.277Z"
      },
      {
        "duration": 24,
        "start_time": "2022-06-14T18:43:47.302Z"
      },
      {
        "duration": 74,
        "start_time": "2022-06-14T18:43:47.327Z"
      },
      {
        "duration": 298,
        "start_time": "2022-06-14T18:43:47.403Z"
      },
      {
        "duration": 7,
        "start_time": "2022-06-14T18:43:47.703Z"
      },
      {
        "duration": 285,
        "start_time": "2022-06-14T18:43:47.711Z"
      },
      {
        "duration": 7,
        "start_time": "2022-06-14T18:43:47.998Z"
      },
      {
        "duration": 393,
        "start_time": "2022-06-14T18:43:48.007Z"
      },
      {
        "duration": 8,
        "start_time": "2022-06-14T18:43:48.401Z"
      },
      {
        "duration": 275,
        "start_time": "2022-06-14T18:43:48.429Z"
      },
      {
        "duration": 7,
        "start_time": "2022-06-14T18:43:48.705Z"
      },
      {
        "duration": 55,
        "start_time": "2022-06-14T18:43:48.714Z"
      },
      {
        "duration": 22,
        "start_time": "2022-06-14T18:43:48.770Z"
      },
      {
        "duration": 311,
        "start_time": "2022-06-14T18:43:48.793Z"
      },
      {
        "duration": 9,
        "start_time": "2022-06-14T18:43:49.106Z"
      },
      {
        "duration": 27,
        "start_time": "2022-06-14T18:43:49.127Z"
      },
      {
        "duration": 299,
        "start_time": "2022-06-14T18:43:49.156Z"
      },
      {
        "duration": 1085,
        "start_time": "2022-06-14T18:46:33.700Z"
      },
      {
        "duration": 195,
        "start_time": "2022-06-14T18:46:34.787Z"
      },
      {
        "duration": 165,
        "start_time": "2022-06-14T18:46:34.983Z"
      },
      {
        "duration": 108,
        "start_time": "2022-06-14T18:46:35.150Z"
      },
      {
        "duration": 35,
        "start_time": "2022-06-14T18:46:35.260Z"
      },
      {
        "duration": 41,
        "start_time": "2022-06-14T18:46:35.297Z"
      },
      {
        "duration": 69,
        "start_time": "2022-06-14T18:46:35.340Z"
      },
      {
        "duration": 90,
        "start_time": "2022-06-14T18:46:35.411Z"
      },
      {
        "duration": 122,
        "start_time": "2022-06-14T18:46:35.503Z"
      },
      {
        "duration": 56,
        "start_time": "2022-06-14T18:46:35.628Z"
      },
      {
        "duration": 9,
        "start_time": "2022-06-14T18:46:35.686Z"
      },
      {
        "duration": 54,
        "start_time": "2022-06-14T18:46:35.697Z"
      },
      {
        "duration": 9,
        "start_time": "2022-06-14T18:46:35.752Z"
      },
      {
        "duration": 29,
        "start_time": "2022-06-14T18:46:35.763Z"
      },
      {
        "duration": 34,
        "start_time": "2022-06-14T18:46:35.794Z"
      },
      {
        "duration": 16,
        "start_time": "2022-06-14T18:46:35.844Z"
      },
      {
        "duration": 11,
        "start_time": "2022-06-14T18:46:35.862Z"
      },
      {
        "duration": 64,
        "start_time": "2022-06-14T18:46:35.875Z"
      },
      {
        "duration": 114,
        "start_time": "2022-06-14T18:46:35.946Z"
      },
      {
        "duration": 74,
        "start_time": "2022-06-14T18:46:36.062Z"
      },
      {
        "duration": 31,
        "start_time": "2022-06-14T18:46:36.137Z"
      },
      {
        "duration": 32,
        "start_time": "2022-06-14T18:46:36.170Z"
      },
      {
        "duration": 2,
        "start_time": "2022-06-14T18:46:36.204Z"
      },
      {
        "duration": 275,
        "start_time": "2022-06-14T18:46:36.209Z"
      },
      {
        "duration": 239,
        "start_time": "2022-06-14T18:46:36.486Z"
      },
      {
        "duration": 210,
        "start_time": "2022-06-14T18:46:36.729Z"
      },
      {
        "duration": 182,
        "start_time": "2022-06-14T18:46:36.941Z"
      },
      {
        "duration": 202,
        "start_time": "2022-06-14T18:46:37.127Z"
      },
      {
        "duration": 175,
        "start_time": "2022-06-14T18:46:37.330Z"
      },
      {
        "duration": 206,
        "start_time": "2022-06-14T18:46:37.507Z"
      },
      {
        "duration": 31,
        "start_time": "2022-06-14T18:46:37.715Z"
      },
      {
        "duration": 8,
        "start_time": "2022-06-14T18:46:37.748Z"
      },
      {
        "duration": 9,
        "start_time": "2022-06-14T18:46:37.757Z"
      },
      {
        "duration": 5,
        "start_time": "2022-06-14T18:46:37.767Z"
      },
      {
        "duration": 38,
        "start_time": "2022-06-14T18:46:37.774Z"
      },
      {
        "duration": 300,
        "start_time": "2022-06-14T18:46:37.814Z"
      },
      {
        "duration": 25,
        "start_time": "2022-06-14T18:46:38.116Z"
      },
      {
        "duration": 283,
        "start_time": "2022-06-14T18:46:38.144Z"
      },
      {
        "duration": 10,
        "start_time": "2022-06-14T18:46:38.429Z"
      },
      {
        "duration": 396,
        "start_time": "2022-06-14T18:46:38.446Z"
      },
      {
        "duration": 7,
        "start_time": "2022-06-14T18:46:38.847Z"
      },
      {
        "duration": 299,
        "start_time": "2022-06-14T18:46:38.856Z"
      },
      {
        "duration": 8,
        "start_time": "2022-06-14T18:46:39.157Z"
      },
      {
        "duration": 12,
        "start_time": "2022-06-14T18:46:39.166Z"
      },
      {
        "duration": 9,
        "start_time": "2022-06-14T18:46:39.179Z"
      },
      {
        "duration": 339,
        "start_time": "2022-06-14T18:46:39.190Z"
      },
      {
        "duration": 12,
        "start_time": "2022-06-14T18:46:39.531Z"
      },
      {
        "duration": 27,
        "start_time": "2022-06-14T18:46:39.546Z"
      },
      {
        "duration": 331,
        "start_time": "2022-06-14T18:46:39.575Z"
      },
      {
        "duration": 9,
        "start_time": "2022-06-14T18:57:02.610Z"
      },
      {
        "duration": 1126,
        "start_time": "2022-06-14T19:00:14.214Z"
      },
      {
        "duration": 204,
        "start_time": "2022-06-14T19:00:15.344Z"
      },
      {
        "duration": 160,
        "start_time": "2022-06-14T19:00:15.549Z"
      },
      {
        "duration": 127,
        "start_time": "2022-06-14T19:00:15.711Z"
      },
      {
        "duration": 27,
        "start_time": "2022-06-14T19:00:15.839Z"
      },
      {
        "duration": 39,
        "start_time": "2022-06-14T19:00:15.868Z"
      },
      {
        "duration": 72,
        "start_time": "2022-06-14T19:00:15.908Z"
      },
      {
        "duration": 92,
        "start_time": "2022-06-14T19:00:15.982Z"
      },
      {
        "duration": 107,
        "start_time": "2022-06-14T19:00:16.076Z"
      },
      {
        "duration": 70,
        "start_time": "2022-06-14T19:00:16.186Z"
      },
      {
        "duration": 11,
        "start_time": "2022-06-14T19:00:16.258Z"
      },
      {
        "duration": 42,
        "start_time": "2022-06-14T19:00:16.271Z"
      },
      {
        "duration": 18,
        "start_time": "2022-06-14T19:00:16.329Z"
      },
      {
        "duration": 35,
        "start_time": "2022-06-14T19:00:16.349Z"
      },
      {
        "duration": 20,
        "start_time": "2022-06-14T19:00:16.386Z"
      },
      {
        "duration": 36,
        "start_time": "2022-06-14T19:00:16.408Z"
      },
      {
        "duration": 16,
        "start_time": "2022-06-14T19:00:16.446Z"
      },
      {
        "duration": 142,
        "start_time": "2022-06-14T19:00:16.464Z"
      },
      {
        "duration": 69,
        "start_time": "2022-06-14T19:00:16.607Z"
      },
      {
        "duration": 29,
        "start_time": "2022-06-14T19:00:16.677Z"
      },
      {
        "duration": 39,
        "start_time": "2022-06-14T19:00:16.707Z"
      },
      {
        "duration": 3,
        "start_time": "2022-06-14T19:00:16.748Z"
      },
      {
        "duration": 187,
        "start_time": "2022-06-14T19:00:16.753Z"
      },
      {
        "duration": 190,
        "start_time": "2022-06-14T19:00:16.942Z"
      },
      {
        "duration": 208,
        "start_time": "2022-06-14T19:00:17.133Z"
      },
      {
        "duration": 191,
        "start_time": "2022-06-14T19:00:17.342Z"
      },
      {
        "duration": 211,
        "start_time": "2022-06-14T19:00:17.534Z"
      },
      {
        "duration": 219,
        "start_time": "2022-06-14T19:00:17.748Z"
      },
      {
        "duration": 401,
        "start_time": "2022-06-14T19:00:17.969Z"
      },
      {
        "duration": 69,
        "start_time": "2022-06-14T19:00:18.372Z"
      },
      {
        "duration": 7,
        "start_time": "2022-06-14T19:00:18.443Z"
      },
      {
        "duration": 8,
        "start_time": "2022-06-14T19:00:18.452Z"
      },
      {
        "duration": 5,
        "start_time": "2022-06-14T19:00:18.462Z"
      },
      {
        "duration": 95,
        "start_time": "2022-06-14T19:00:18.469Z"
      },
      {
        "duration": 406,
        "start_time": "2022-06-14T19:00:18.566Z"
      },
      {
        "duration": 61,
        "start_time": "2022-06-14T19:00:18.973Z"
      },
      {
        "duration": 342,
        "start_time": "2022-06-14T19:00:19.036Z"
      },
      {
        "duration": 7,
        "start_time": "2022-06-14T19:00:19.379Z"
      },
      {
        "duration": 408,
        "start_time": "2022-06-14T19:00:19.388Z"
      },
      {
        "duration": 8,
        "start_time": "2022-06-14T19:00:19.798Z"
      },
      {
        "duration": 305,
        "start_time": "2022-06-14T19:00:19.808Z"
      },
      {
        "duration": 25,
        "start_time": "2022-06-14T19:00:20.115Z"
      },
      {
        "duration": 14,
        "start_time": "2022-06-14T19:00:20.142Z"
      },
      {
        "duration": 10,
        "start_time": "2022-06-14T19:00:20.157Z"
      },
      {
        "duration": 329,
        "start_time": "2022-06-14T19:00:20.169Z"
      },
      {
        "duration": 11,
        "start_time": "2022-06-14T19:00:20.499Z"
      },
      {
        "duration": 36,
        "start_time": "2022-06-14T19:00:20.511Z"
      },
      {
        "duration": 297,
        "start_time": "2022-06-14T19:00:20.549Z"
      },
      {
        "duration": 1068,
        "start_time": "2022-06-14T19:10:51.374Z"
      },
      {
        "duration": 310,
        "start_time": "2022-06-14T19:10:52.445Z"
      },
      {
        "duration": 287,
        "start_time": "2022-06-14T19:10:52.756Z"
      },
      {
        "duration": 134,
        "start_time": "2022-06-14T19:10:53.045Z"
      },
      {
        "duration": 25,
        "start_time": "2022-06-14T19:10:53.181Z"
      },
      {
        "duration": 51,
        "start_time": "2022-06-14T19:10:53.207Z"
      },
      {
        "duration": 65,
        "start_time": "2022-06-14T19:10:53.260Z"
      },
      {
        "duration": 79,
        "start_time": "2022-06-14T19:10:53.326Z"
      },
      {
        "duration": 107,
        "start_time": "2022-06-14T19:10:53.406Z"
      },
      {
        "duration": 62,
        "start_time": "2022-06-14T19:10:53.515Z"
      },
      {
        "duration": 9,
        "start_time": "2022-06-14T19:10:53.579Z"
      },
      {
        "duration": 51,
        "start_time": "2022-06-14T19:10:53.589Z"
      },
      {
        "duration": 10,
        "start_time": "2022-06-14T19:10:53.642Z"
      },
      {
        "duration": 45,
        "start_time": "2022-06-14T19:10:53.653Z"
      },
      {
        "duration": 19,
        "start_time": "2022-06-14T19:10:53.700Z"
      },
      {
        "duration": 29,
        "start_time": "2022-06-14T19:10:53.721Z"
      },
      {
        "duration": 31,
        "start_time": "2022-06-14T19:10:53.751Z"
      },
      {
        "duration": 118,
        "start_time": "2022-06-14T19:10:53.783Z"
      },
      {
        "duration": 71,
        "start_time": "2022-06-14T19:10:53.902Z"
      },
      {
        "duration": 28,
        "start_time": "2022-06-14T19:10:53.975Z"
      },
      {
        "duration": 39,
        "start_time": "2022-06-14T19:10:54.004Z"
      },
      {
        "duration": 2,
        "start_time": "2022-06-14T19:10:54.044Z"
      },
      {
        "duration": 179,
        "start_time": "2022-06-14T19:10:54.048Z"
      },
      {
        "duration": 174,
        "start_time": "2022-06-14T19:10:54.239Z"
      },
      {
        "duration": 198,
        "start_time": "2022-06-14T19:10:54.415Z"
      },
      {
        "duration": 180,
        "start_time": "2022-06-14T19:10:54.615Z"
      },
      {
        "duration": 209,
        "start_time": "2022-06-14T19:10:54.797Z"
      },
      {
        "duration": 167,
        "start_time": "2022-06-14T19:10:55.010Z"
      },
      {
        "duration": 195,
        "start_time": "2022-06-14T19:10:55.178Z"
      },
      {
        "duration": 15,
        "start_time": "2022-06-14T19:10:55.375Z"
      },
      {
        "duration": 7,
        "start_time": "2022-06-14T19:10:55.391Z"
      },
      {
        "duration": 47,
        "start_time": "2022-06-14T19:10:55.399Z"
      },
      {
        "duration": 5,
        "start_time": "2022-06-14T19:10:55.447Z"
      },
      {
        "duration": 33,
        "start_time": "2022-06-14T19:10:55.453Z"
      },
      {
        "duration": 308,
        "start_time": "2022-06-14T19:10:55.488Z"
      },
      {
        "duration": 8,
        "start_time": "2022-06-14T19:10:55.798Z"
      },
      {
        "duration": 293,
        "start_time": "2022-06-14T19:10:55.807Z"
      },
      {
        "duration": 7,
        "start_time": "2022-06-14T19:10:56.101Z"
      },
      {
        "duration": 420,
        "start_time": "2022-06-14T19:10:56.109Z"
      },
      {
        "duration": 18,
        "start_time": "2022-06-14T19:10:56.531Z"
      },
      {
        "duration": 259,
        "start_time": "2022-06-14T19:10:56.551Z"
      },
      {
        "duration": 18,
        "start_time": "2022-06-14T19:10:56.811Z"
      },
      {
        "duration": 13,
        "start_time": "2022-06-14T19:10:56.839Z"
      },
      {
        "duration": 22,
        "start_time": "2022-06-14T19:10:56.853Z"
      },
      {
        "duration": 319,
        "start_time": "2022-06-14T19:10:56.877Z"
      },
      {
        "duration": 11,
        "start_time": "2022-06-14T19:10:57.197Z"
      },
      {
        "duration": 35,
        "start_time": "2022-06-14T19:10:57.210Z"
      },
      {
        "duration": 1028,
        "start_time": "2022-06-14T19:12:58.861Z"
      },
      {
        "duration": 195,
        "start_time": "2022-06-14T19:12:59.891Z"
      },
      {
        "duration": 171,
        "start_time": "2022-06-14T19:13:00.088Z"
      },
      {
        "duration": 107,
        "start_time": "2022-06-14T19:13:00.261Z"
      },
      {
        "duration": 27,
        "start_time": "2022-06-14T19:13:00.370Z"
      },
      {
        "duration": 50,
        "start_time": "2022-06-14T19:13:00.398Z"
      },
      {
        "duration": 66,
        "start_time": "2022-06-14T19:13:00.449Z"
      },
      {
        "duration": 89,
        "start_time": "2022-06-14T19:13:00.517Z"
      },
      {
        "duration": 113,
        "start_time": "2022-06-14T19:13:00.607Z"
      },
      {
        "duration": 54,
        "start_time": "2022-06-14T19:13:00.737Z"
      },
      {
        "duration": 10,
        "start_time": "2022-06-14T19:13:00.793Z"
      },
      {
        "duration": 41,
        "start_time": "2022-06-14T19:13:00.804Z"
      },
      {
        "duration": 8,
        "start_time": "2022-06-14T19:13:00.847Z"
      },
      {
        "duration": 27,
        "start_time": "2022-06-14T19:13:00.857Z"
      },
      {
        "duration": 13,
        "start_time": "2022-06-14T19:13:00.886Z"
      },
      {
        "duration": 44,
        "start_time": "2022-06-14T19:13:00.900Z"
      },
      {
        "duration": 9,
        "start_time": "2022-06-14T19:13:00.945Z"
      },
      {
        "duration": 104,
        "start_time": "2022-06-14T19:13:00.955Z"
      },
      {
        "duration": 58,
        "start_time": "2022-06-14T19:13:01.061Z"
      },
      {
        "duration": 43,
        "start_time": "2022-06-14T19:13:01.121Z"
      },
      {
        "duration": 23,
        "start_time": "2022-06-14T19:13:01.165Z"
      },
      {
        "duration": 3,
        "start_time": "2022-06-14T19:13:01.189Z"
      },
      {
        "duration": 210,
        "start_time": "2022-06-14T19:13:01.193Z"
      },
      {
        "duration": 185,
        "start_time": "2022-06-14T19:13:01.404Z"
      },
      {
        "duration": 213,
        "start_time": "2022-06-14T19:13:01.591Z"
      },
      {
        "duration": 207,
        "start_time": "2022-06-14T19:13:01.805Z"
      },
      {
        "duration": 228,
        "start_time": "2022-06-14T19:13:02.014Z"
      },
      {
        "duration": 164,
        "start_time": "2022-06-14T19:13:02.247Z"
      },
      {
        "duration": 198,
        "start_time": "2022-06-14T19:13:02.413Z"
      },
      {
        "duration": 33,
        "start_time": "2022-06-14T19:13:02.613Z"
      },
      {
        "duration": 7,
        "start_time": "2022-06-14T19:13:02.647Z"
      },
      {
        "duration": 19,
        "start_time": "2022-06-14T19:13:02.655Z"
      },
      {
        "duration": 17,
        "start_time": "2022-06-14T19:13:02.676Z"
      },
      {
        "duration": 47,
        "start_time": "2022-06-14T19:13:02.694Z"
      },
      {
        "duration": 264,
        "start_time": "2022-06-14T19:13:02.742Z"
      },
      {
        "duration": 7,
        "start_time": "2022-06-14T19:13:03.007Z"
      },
      {
        "duration": 304,
        "start_time": "2022-06-14T19:13:03.030Z"
      },
      {
        "duration": 13,
        "start_time": "2022-06-14T19:13:03.335Z"
      },
      {
        "duration": 360,
        "start_time": "2022-06-14T19:13:03.349Z"
      },
      {
        "duration": 32,
        "start_time": "2022-06-14T19:13:03.711Z"
      },
      {
        "duration": 302,
        "start_time": "2022-06-14T19:13:03.744Z"
      },
      {
        "duration": 7,
        "start_time": "2022-06-14T19:13:04.048Z"
      },
      {
        "duration": 12,
        "start_time": "2022-06-14T19:13:04.057Z"
      },
      {
        "duration": 13,
        "start_time": "2022-06-14T19:13:04.070Z"
      },
      {
        "duration": 319,
        "start_time": "2022-06-14T19:13:04.084Z"
      },
      {
        "duration": 10,
        "start_time": "2022-06-14T19:13:04.404Z"
      },
      {
        "duration": 31,
        "start_time": "2022-06-14T19:13:04.415Z"
      },
      {
        "duration": 265,
        "start_time": "2022-06-14T19:13:04.447Z"
      },
      {
        "duration": 37,
        "start_time": "2022-06-14T19:19:18.200Z"
      },
      {
        "duration": 47,
        "start_time": "2022-06-14T19:20:38.408Z"
      },
      {
        "duration": 25,
        "start_time": "2022-06-14T19:24:49.667Z"
      },
      {
        "duration": 68,
        "start_time": "2022-06-14T19:25:08.218Z"
      },
      {
        "duration": 28,
        "start_time": "2022-06-14T19:29:41.691Z"
      },
      {
        "duration": 29,
        "start_time": "2022-06-14T19:30:21.392Z"
      },
      {
        "duration": 50,
        "start_time": "2022-06-14T19:40:07.012Z"
      },
      {
        "duration": 22,
        "start_time": "2022-06-14T19:47:33.390Z"
      },
      {
        "duration": 17,
        "start_time": "2022-06-14T19:51:21.786Z"
      },
      {
        "duration": 23,
        "start_time": "2022-06-14T19:51:37.249Z"
      },
      {
        "duration": 44,
        "start_time": "2022-06-14T19:56:49.822Z"
      },
      {
        "duration": 102,
        "start_time": "2022-06-14T19:57:47.743Z"
      },
      {
        "duration": 18,
        "start_time": "2022-06-14T19:59:14.803Z"
      },
      {
        "duration": 21,
        "start_time": "2022-06-14T19:59:19.317Z"
      },
      {
        "duration": 22,
        "start_time": "2022-06-14T19:59:33.066Z"
      },
      {
        "duration": 21,
        "start_time": "2022-06-14T19:59:37.695Z"
      },
      {
        "duration": 15,
        "start_time": "2022-06-14T20:00:50.668Z"
      },
      {
        "duration": 11,
        "start_time": "2022-06-14T20:01:01.091Z"
      },
      {
        "duration": 17,
        "start_time": "2022-06-14T20:01:15.683Z"
      },
      {
        "duration": 1104,
        "start_time": "2022-06-14T20:01:55.342Z"
      },
      {
        "duration": 204,
        "start_time": "2022-06-14T20:01:56.449Z"
      },
      {
        "duration": 150,
        "start_time": "2022-06-14T20:01:56.654Z"
      },
      {
        "duration": 110,
        "start_time": "2022-06-14T20:01:56.805Z"
      },
      {
        "duration": 36,
        "start_time": "2022-06-14T20:01:56.917Z"
      },
      {
        "duration": 38,
        "start_time": "2022-06-14T20:01:56.955Z"
      },
      {
        "duration": 71,
        "start_time": "2022-06-14T20:01:56.995Z"
      },
      {
        "duration": 79,
        "start_time": "2022-06-14T20:01:57.067Z"
      },
      {
        "duration": 103,
        "start_time": "2022-06-14T20:01:57.148Z"
      },
      {
        "duration": 55,
        "start_time": "2022-06-14T20:01:57.253Z"
      },
      {
        "duration": 31,
        "start_time": "2022-06-14T20:01:57.310Z"
      },
      {
        "duration": 32,
        "start_time": "2022-06-14T20:01:57.343Z"
      },
      {
        "duration": 9,
        "start_time": "2022-06-14T20:01:57.376Z"
      },
      {
        "duration": 19,
        "start_time": "2022-06-14T20:01:57.387Z"
      },
      {
        "duration": 36,
        "start_time": "2022-06-14T20:01:57.407Z"
      },
      {
        "duration": 13,
        "start_time": "2022-06-14T20:01:57.444Z"
      },
      {
        "duration": 16,
        "start_time": "2022-06-14T20:01:57.458Z"
      },
      {
        "duration": 112,
        "start_time": "2022-06-14T20:01:57.476Z"
      },
      {
        "duration": 68,
        "start_time": "2022-06-14T20:01:57.590Z"
      },
      {
        "duration": 30,
        "start_time": "2022-06-14T20:01:57.660Z"
      },
      {
        "duration": 48,
        "start_time": "2022-06-14T20:01:57.691Z"
      },
      {
        "duration": 2,
        "start_time": "2022-06-14T20:01:57.741Z"
      },
      {
        "duration": 178,
        "start_time": "2022-06-14T20:01:57.744Z"
      },
      {
        "duration": 188,
        "start_time": "2022-06-14T20:01:57.926Z"
      },
      {
        "duration": 201,
        "start_time": "2022-06-14T20:01:58.115Z"
      },
      {
        "duration": 175,
        "start_time": "2022-06-14T20:01:58.318Z"
      },
      {
        "duration": 197,
        "start_time": "2022-06-14T20:01:58.494Z"
      },
      {
        "duration": 166,
        "start_time": "2022-06-14T20:01:58.693Z"
      },
      {
        "duration": 204,
        "start_time": "2022-06-14T20:01:58.860Z"
      },
      {
        "duration": 15,
        "start_time": "2022-06-14T20:01:59.065Z"
      },
      {
        "duration": 6,
        "start_time": "2022-06-14T20:01:59.081Z"
      },
      {
        "duration": 7,
        "start_time": "2022-06-14T20:01:59.088Z"
      },
      {
        "duration": 3,
        "start_time": "2022-06-14T20:01:59.097Z"
      },
      {
        "duration": 36,
        "start_time": "2022-06-14T20:01:59.127Z"
      },
      {
        "duration": 275,
        "start_time": "2022-06-14T20:01:59.165Z"
      },
      {
        "duration": 8,
        "start_time": "2022-06-14T20:01:59.441Z"
      },
      {
        "duration": 262,
        "start_time": "2022-06-14T20:01:59.450Z"
      },
      {
        "duration": 11,
        "start_time": "2022-06-14T20:01:59.726Z"
      },
      {
        "duration": 363,
        "start_time": "2022-06-14T20:01:59.738Z"
      },
      {
        "duration": 7,
        "start_time": "2022-06-14T20:02:00.103Z"
      },
      {
        "duration": 286,
        "start_time": "2022-06-14T20:02:00.127Z"
      },
      {
        "duration": 26,
        "start_time": "2022-06-14T20:02:00.415Z"
      },
      {
        "duration": 23,
        "start_time": "2022-06-14T20:02:00.443Z"
      },
      {
        "duration": 29,
        "start_time": "2022-06-14T20:02:00.468Z"
      },
      {
        "duration": 342,
        "start_time": "2022-06-14T20:02:00.499Z"
      },
      {
        "duration": 10,
        "start_time": "2022-06-14T20:02:00.842Z"
      },
      {
        "duration": 29,
        "start_time": "2022-06-14T20:02:00.854Z"
      },
      {
        "duration": 322,
        "start_time": "2022-06-14T20:02:00.885Z"
      },
      {
        "duration": 566,
        "start_time": "2022-06-14T20:04:32.255Z"
      },
      {
        "duration": 21,
        "start_time": "2022-06-14T20:04:42.751Z"
      },
      {
        "duration": 23,
        "start_time": "2022-06-14T20:06:31.003Z"
      },
      {
        "duration": 22,
        "start_time": "2022-06-14T20:07:04.690Z"
      },
      {
        "duration": 1044,
        "start_time": "2022-06-14T20:07:22.340Z"
      },
      {
        "duration": 195,
        "start_time": "2022-06-14T20:07:23.386Z"
      },
      {
        "duration": 161,
        "start_time": "2022-06-14T20:07:23.583Z"
      },
      {
        "duration": 111,
        "start_time": "2022-06-14T20:07:23.746Z"
      },
      {
        "duration": 30,
        "start_time": "2022-06-14T20:07:23.859Z"
      },
      {
        "duration": 47,
        "start_time": "2022-06-14T20:07:23.890Z"
      },
      {
        "duration": 62,
        "start_time": "2022-06-14T20:07:23.938Z"
      },
      {
        "duration": 87,
        "start_time": "2022-06-14T20:07:24.001Z"
      },
      {
        "duration": 103,
        "start_time": "2022-06-14T20:07:24.090Z"
      },
      {
        "duration": 62,
        "start_time": "2022-06-14T20:07:24.194Z"
      },
      {
        "duration": 9,
        "start_time": "2022-06-14T20:07:24.258Z"
      },
      {
        "duration": 32,
        "start_time": "2022-06-14T20:07:24.268Z"
      },
      {
        "duration": 10,
        "start_time": "2022-06-14T20:07:24.301Z"
      },
      {
        "duration": 26,
        "start_time": "2022-06-14T20:07:24.332Z"
      },
      {
        "duration": 16,
        "start_time": "2022-06-14T20:07:24.360Z"
      },
      {
        "duration": 12,
        "start_time": "2022-06-14T20:07:24.378Z"
      },
      {
        "duration": 52,
        "start_time": "2022-06-14T20:07:24.392Z"
      },
      {
        "duration": 94,
        "start_time": "2022-06-14T20:07:24.445Z"
      },
      {
        "duration": 53,
        "start_time": "2022-06-14T20:07:24.541Z"
      },
      {
        "duration": 20,
        "start_time": "2022-06-14T20:07:24.595Z"
      },
      {
        "duration": 33,
        "start_time": "2022-06-14T20:07:24.627Z"
      },
      {
        "duration": 2,
        "start_time": "2022-06-14T20:07:24.662Z"
      },
      {
        "duration": 206,
        "start_time": "2022-06-14T20:07:24.666Z"
      },
      {
        "duration": 206,
        "start_time": "2022-06-14T20:07:24.874Z"
      },
      {
        "duration": 201,
        "start_time": "2022-06-14T20:07:25.082Z"
      },
      {
        "duration": 184,
        "start_time": "2022-06-14T20:07:25.284Z"
      },
      {
        "duration": 195,
        "start_time": "2022-06-14T20:07:25.470Z"
      },
      {
        "duration": 187,
        "start_time": "2022-06-14T20:07:25.667Z"
      },
      {
        "duration": 208,
        "start_time": "2022-06-14T20:07:25.856Z"
      },
      {
        "duration": 18,
        "start_time": "2022-06-14T20:07:26.066Z"
      },
      {
        "duration": 6,
        "start_time": "2022-06-14T20:07:26.085Z"
      },
      {
        "duration": 8,
        "start_time": "2022-06-14T20:07:26.093Z"
      },
      {
        "duration": 14,
        "start_time": "2022-06-14T20:07:26.129Z"
      },
      {
        "duration": 68,
        "start_time": "2022-06-14T20:07:26.144Z"
      },
      {
        "duration": 338,
        "start_time": "2022-06-14T20:07:26.214Z"
      },
      {
        "duration": 9,
        "start_time": "2022-06-14T20:07:26.554Z"
      },
      {
        "duration": 324,
        "start_time": "2022-06-14T20:07:26.565Z"
      },
      {
        "duration": 7,
        "start_time": "2022-06-14T20:07:26.890Z"
      },
      {
        "duration": 397,
        "start_time": "2022-06-14T20:07:26.899Z"
      },
      {
        "duration": 8,
        "start_time": "2022-06-14T20:07:27.297Z"
      },
      {
        "duration": 304,
        "start_time": "2022-06-14T20:07:27.308Z"
      },
      {
        "duration": 23,
        "start_time": "2022-06-14T20:07:27.614Z"
      },
      {
        "duration": 16,
        "start_time": "2022-06-14T20:07:27.650Z"
      },
      {
        "duration": 9,
        "start_time": "2022-06-14T20:07:27.669Z"
      },
      {
        "duration": 317,
        "start_time": "2022-06-14T20:07:27.679Z"
      },
      {
        "duration": 10,
        "start_time": "2022-06-14T20:07:27.998Z"
      },
      {
        "duration": 39,
        "start_time": "2022-06-14T20:07:28.010Z"
      },
      {
        "duration": 298,
        "start_time": "2022-06-14T20:07:28.052Z"
      },
      {
        "duration": 28,
        "start_time": "2022-06-14T20:09:45.225Z"
      },
      {
        "duration": 1018,
        "start_time": "2022-06-14T20:10:42.163Z"
      },
      {
        "duration": 187,
        "start_time": "2022-06-14T20:10:43.183Z"
      },
      {
        "duration": 146,
        "start_time": "2022-06-14T20:10:43.371Z"
      },
      {
        "duration": 105,
        "start_time": "2022-06-14T20:10:43.518Z"
      },
      {
        "duration": 28,
        "start_time": "2022-06-14T20:10:43.625Z"
      },
      {
        "duration": 38,
        "start_time": "2022-06-14T20:10:43.654Z"
      },
      {
        "duration": 70,
        "start_time": "2022-06-14T20:10:43.694Z"
      },
      {
        "duration": 81,
        "start_time": "2022-06-14T20:10:43.766Z"
      },
      {
        "duration": 94,
        "start_time": "2022-06-14T20:10:43.849Z"
      },
      {
        "duration": 55,
        "start_time": "2022-06-14T20:10:43.944Z"
      },
      {
        "duration": 10,
        "start_time": "2022-06-14T20:10:44.000Z"
      },
      {
        "duration": 33,
        "start_time": "2022-06-14T20:10:44.027Z"
      },
      {
        "duration": 8,
        "start_time": "2022-06-14T20:10:44.061Z"
      },
      {
        "duration": 21,
        "start_time": "2022-06-14T20:10:44.072Z"
      },
      {
        "duration": 48,
        "start_time": "2022-06-14T20:10:44.094Z"
      },
      {
        "duration": 13,
        "start_time": "2022-06-14T20:10:44.143Z"
      },
      {
        "duration": 20,
        "start_time": "2022-06-14T20:10:44.158Z"
      },
      {
        "duration": 99,
        "start_time": "2022-06-14T20:10:44.179Z"
      },
      {
        "duration": 63,
        "start_time": "2022-06-14T20:10:44.279Z"
      },
      {
        "duration": 18,
        "start_time": "2022-06-14T20:10:44.344Z"
      },
      {
        "duration": 23,
        "start_time": "2022-06-14T20:10:44.364Z"
      },
      {
        "duration": 2,
        "start_time": "2022-06-14T20:10:44.388Z"
      },
      {
        "duration": 207,
        "start_time": "2022-06-14T20:10:44.391Z"
      },
      {
        "duration": 211,
        "start_time": "2022-06-14T20:10:44.600Z"
      },
      {
        "duration": 220,
        "start_time": "2022-06-14T20:10:44.813Z"
      },
      {
        "duration": 175,
        "start_time": "2022-06-14T20:10:45.034Z"
      },
      {
        "duration": 203,
        "start_time": "2022-06-14T20:10:45.211Z"
      },
      {
        "duration": 181,
        "start_time": "2022-06-14T20:10:45.416Z"
      },
      {
        "duration": 204,
        "start_time": "2022-06-14T20:10:45.599Z"
      },
      {
        "duration": 36,
        "start_time": "2022-06-14T20:10:45.804Z"
      },
      {
        "duration": 9,
        "start_time": "2022-06-14T20:10:45.842Z"
      },
      {
        "duration": 11,
        "start_time": "2022-06-14T20:10:45.852Z"
      },
      {
        "duration": 15,
        "start_time": "2022-06-14T20:10:45.864Z"
      },
      {
        "duration": 58,
        "start_time": "2022-06-14T20:10:45.880Z"
      },
      {
        "duration": 287,
        "start_time": "2022-06-14T20:10:45.940Z"
      },
      {
        "duration": 10,
        "start_time": "2022-06-14T20:10:46.228Z"
      },
      {
        "duration": 339,
        "start_time": "2022-06-14T20:10:46.240Z"
      },
      {
        "duration": 8,
        "start_time": "2022-06-14T20:10:46.580Z"
      },
      {
        "duration": 366,
        "start_time": "2022-06-14T20:10:46.589Z"
      },
      {
        "duration": 6,
        "start_time": "2022-06-14T20:10:46.957Z"
      },
      {
        "duration": 283,
        "start_time": "2022-06-14T20:10:46.966Z"
      },
      {
        "duration": 7,
        "start_time": "2022-06-14T20:10:47.251Z"
      },
      {
        "duration": 15,
        "start_time": "2022-06-14T20:10:47.264Z"
      },
      {
        "duration": 7,
        "start_time": "2022-06-14T20:10:47.280Z"
      },
      {
        "duration": 348,
        "start_time": "2022-06-14T20:10:47.288Z"
      },
      {
        "duration": 10,
        "start_time": "2022-06-14T20:10:47.637Z"
      },
      {
        "duration": 25,
        "start_time": "2022-06-14T20:10:47.648Z"
      },
      {
        "duration": 322,
        "start_time": "2022-06-14T20:10:47.675Z"
      },
      {
        "duration": 457,
        "start_time": "2022-06-14T20:18:37.784Z"
      },
      {
        "duration": 414,
        "start_time": "2022-06-14T20:19:14.773Z"
      },
      {
        "duration": 405,
        "start_time": "2022-06-14T20:19:24.786Z"
      },
      {
        "duration": 1023,
        "start_time": "2022-06-14T20:19:36.364Z"
      },
      {
        "duration": 186,
        "start_time": "2022-06-14T20:19:37.388Z"
      },
      {
        "duration": 155,
        "start_time": "2022-06-14T20:19:37.576Z"
      },
      {
        "duration": 105,
        "start_time": "2022-06-14T20:19:37.732Z"
      },
      {
        "duration": 27,
        "start_time": "2022-06-14T20:19:37.843Z"
      },
      {
        "duration": 39,
        "start_time": "2022-06-14T20:19:37.872Z"
      },
      {
        "duration": 71,
        "start_time": "2022-06-14T20:19:37.913Z"
      },
      {
        "duration": 93,
        "start_time": "2022-06-14T20:19:37.986Z"
      },
      {
        "duration": 101,
        "start_time": "2022-06-14T20:19:38.081Z"
      },
      {
        "duration": 63,
        "start_time": "2022-06-14T20:19:38.183Z"
      },
      {
        "duration": 10,
        "start_time": "2022-06-14T20:19:38.247Z"
      },
      {
        "duration": 36,
        "start_time": "2022-06-14T20:19:38.258Z"
      },
      {
        "duration": 4,
        "start_time": "2022-06-14T20:19:38.295Z"
      },
      {
        "duration": 45,
        "start_time": "2022-06-14T20:19:38.302Z"
      },
      {
        "duration": 18,
        "start_time": "2022-06-14T20:19:38.349Z"
      },
      {
        "duration": 16,
        "start_time": "2022-06-14T20:19:38.369Z"
      },
      {
        "duration": 47,
        "start_time": "2022-06-14T20:19:38.387Z"
      },
      {
        "duration": 90,
        "start_time": "2022-06-14T20:19:38.438Z"
      },
      {
        "duration": 52,
        "start_time": "2022-06-14T20:19:38.534Z"
      },
      {
        "duration": 19,
        "start_time": "2022-06-14T20:19:38.587Z"
      },
      {
        "duration": 39,
        "start_time": "2022-06-14T20:19:38.607Z"
      },
      {
        "duration": 2,
        "start_time": "2022-06-14T20:19:38.648Z"
      },
      {
        "duration": 188,
        "start_time": "2022-06-14T20:19:38.652Z"
      },
      {
        "duration": 190,
        "start_time": "2022-06-14T20:19:38.843Z"
      },
      {
        "duration": 211,
        "start_time": "2022-06-14T20:19:39.037Z"
      },
      {
        "duration": 196,
        "start_time": "2022-06-14T20:19:39.249Z"
      },
      {
        "duration": 197,
        "start_time": "2022-06-14T20:19:39.447Z"
      },
      {
        "duration": 167,
        "start_time": "2022-06-14T20:19:39.645Z"
      },
      {
        "duration": 217,
        "start_time": "2022-06-14T20:19:39.814Z"
      },
      {
        "duration": 19,
        "start_time": "2022-06-14T20:19:40.038Z"
      },
      {
        "duration": 6,
        "start_time": "2022-06-14T20:19:40.058Z"
      },
      {
        "duration": 21,
        "start_time": "2022-06-14T20:19:40.065Z"
      },
      {
        "duration": 4,
        "start_time": "2022-06-14T20:19:40.087Z"
      },
      {
        "duration": 61,
        "start_time": "2022-06-14T20:19:40.092Z"
      },
      {
        "duration": 256,
        "start_time": "2022-06-14T20:19:40.155Z"
      },
      {
        "duration": 27,
        "start_time": "2022-06-14T20:19:40.412Z"
      },
      {
        "duration": 292,
        "start_time": "2022-06-14T20:19:40.442Z"
      },
      {
        "duration": 7,
        "start_time": "2022-06-14T20:19:40.739Z"
      },
      {
        "duration": 392,
        "start_time": "2022-06-14T20:19:40.748Z"
      },
      {
        "duration": 13,
        "start_time": "2022-06-14T20:19:41.143Z"
      },
      {
        "duration": 353,
        "start_time": "2022-06-14T20:19:41.160Z"
      },
      {
        "duration": 26,
        "start_time": "2022-06-14T20:19:41.515Z"
      },
      {
        "duration": 10,
        "start_time": "2022-06-14T20:19:41.544Z"
      },
      {
        "duration": 8,
        "start_time": "2022-06-14T20:19:41.555Z"
      },
      {
        "duration": 303,
        "start_time": "2022-06-14T20:19:41.565Z"
      },
      {
        "duration": 9,
        "start_time": "2022-06-14T20:19:41.870Z"
      },
      {
        "duration": 20,
        "start_time": "2022-06-14T20:19:41.880Z"
      },
      {
        "duration": 329,
        "start_time": "2022-06-14T20:19:41.901Z"
      },
      {
        "duration": 4,
        "start_time": "2022-06-14T20:20:00.720Z"
      },
      {
        "duration": 1065,
        "start_time": "2022-06-14T20:20:07.356Z"
      },
      {
        "duration": 203,
        "start_time": "2022-06-14T20:20:08.423Z"
      },
      {
        "duration": 168,
        "start_time": "2022-06-14T20:20:08.628Z"
      },
      {
        "duration": 112,
        "start_time": "2022-06-14T20:20:08.797Z"
      },
      {
        "duration": 36,
        "start_time": "2022-06-14T20:20:08.911Z"
      },
      {
        "duration": 39,
        "start_time": "2022-06-14T20:20:08.948Z"
      },
      {
        "duration": 72,
        "start_time": "2022-06-14T20:20:08.989Z"
      },
      {
        "duration": 94,
        "start_time": "2022-06-14T20:20:09.063Z"
      },
      {
        "duration": 116,
        "start_time": "2022-06-14T20:20:09.158Z"
      },
      {
        "duration": 73,
        "start_time": "2022-06-14T20:20:09.276Z"
      },
      {
        "duration": 9,
        "start_time": "2022-06-14T20:20:09.351Z"
      },
      {
        "duration": 36,
        "start_time": "2022-06-14T20:20:09.362Z"
      },
      {
        "duration": 4,
        "start_time": "2022-06-14T20:20:09.400Z"
      },
      {
        "duration": 0,
        "start_time": "2022-06-14T20:20:09.407Z"
      },
      {
        "duration": 0,
        "start_time": "2022-06-14T20:20:09.409Z"
      },
      {
        "duration": 0,
        "start_time": "2022-06-14T20:20:09.427Z"
      },
      {
        "duration": 0,
        "start_time": "2022-06-14T20:20:09.428Z"
      },
      {
        "duration": 0,
        "start_time": "2022-06-14T20:20:09.429Z"
      },
      {
        "duration": 1,
        "start_time": "2022-06-14T20:20:09.429Z"
      },
      {
        "duration": 0,
        "start_time": "2022-06-14T20:20:09.431Z"
      },
      {
        "duration": 0,
        "start_time": "2022-06-14T20:20:09.433Z"
      },
      {
        "duration": 0,
        "start_time": "2022-06-14T20:20:09.434Z"
      },
      {
        "duration": 0,
        "start_time": "2022-06-14T20:20:09.439Z"
      },
      {
        "duration": 0,
        "start_time": "2022-06-14T20:20:09.440Z"
      },
      {
        "duration": 0,
        "start_time": "2022-06-14T20:20:09.442Z"
      },
      {
        "duration": 0,
        "start_time": "2022-06-14T20:20:09.443Z"
      },
      {
        "duration": 0,
        "start_time": "2022-06-14T20:20:09.444Z"
      },
      {
        "duration": 1,
        "start_time": "2022-06-14T20:20:09.444Z"
      },
      {
        "duration": 0,
        "start_time": "2022-06-14T20:20:09.446Z"
      },
      {
        "duration": 0,
        "start_time": "2022-06-14T20:20:09.447Z"
      },
      {
        "duration": 0,
        "start_time": "2022-06-14T20:20:09.448Z"
      },
      {
        "duration": 0,
        "start_time": "2022-06-14T20:20:09.449Z"
      },
      {
        "duration": 0,
        "start_time": "2022-06-14T20:20:09.451Z"
      },
      {
        "duration": 0,
        "start_time": "2022-06-14T20:20:09.451Z"
      },
      {
        "duration": 0,
        "start_time": "2022-06-14T20:20:09.453Z"
      },
      {
        "duration": 0,
        "start_time": "2022-06-14T20:20:09.454Z"
      },
      {
        "duration": 0,
        "start_time": "2022-06-14T20:20:09.455Z"
      },
      {
        "duration": 0,
        "start_time": "2022-06-14T20:20:09.457Z"
      },
      {
        "duration": 0,
        "start_time": "2022-06-14T20:20:09.458Z"
      },
      {
        "duration": 0,
        "start_time": "2022-06-14T20:20:09.460Z"
      },
      {
        "duration": 0,
        "start_time": "2022-06-14T20:20:09.461Z"
      },
      {
        "duration": 0,
        "start_time": "2022-06-14T20:20:09.463Z"
      },
      {
        "duration": 0,
        "start_time": "2022-06-14T20:20:09.464Z"
      },
      {
        "duration": 0,
        "start_time": "2022-06-14T20:20:09.466Z"
      },
      {
        "duration": 0,
        "start_time": "2022-06-14T20:20:09.467Z"
      },
      {
        "duration": 0,
        "start_time": "2022-06-14T20:20:09.470Z"
      },
      {
        "duration": 0,
        "start_time": "2022-06-14T20:20:09.471Z"
      },
      {
        "duration": 0,
        "start_time": "2022-06-14T20:20:09.472Z"
      },
      {
        "duration": 24,
        "start_time": "2022-06-14T20:21:23.312Z"
      },
      {
        "duration": 1055,
        "start_time": "2022-06-14T20:21:57.816Z"
      },
      {
        "duration": 192,
        "start_time": "2022-06-14T20:21:58.873Z"
      },
      {
        "duration": 158,
        "start_time": "2022-06-14T20:21:59.067Z"
      },
      {
        "duration": 122,
        "start_time": "2022-06-14T20:21:59.227Z"
      },
      {
        "duration": 31,
        "start_time": "2022-06-14T20:21:59.354Z"
      },
      {
        "duration": 42,
        "start_time": "2022-06-14T20:21:59.386Z"
      },
      {
        "duration": 76,
        "start_time": "2022-06-14T20:21:59.437Z"
      },
      {
        "duration": 83,
        "start_time": "2022-06-14T20:21:59.515Z"
      },
      {
        "duration": 122,
        "start_time": "2022-06-14T20:21:59.600Z"
      },
      {
        "duration": 62,
        "start_time": "2022-06-14T20:21:59.724Z"
      },
      {
        "duration": 8,
        "start_time": "2022-06-14T20:21:59.788Z"
      },
      {
        "duration": 58,
        "start_time": "2022-06-14T20:21:59.798Z"
      },
      {
        "duration": 21,
        "start_time": "2022-06-14T20:21:59.857Z"
      },
      {
        "duration": 14,
        "start_time": "2022-06-14T20:21:59.880Z"
      },
      {
        "duration": 34,
        "start_time": "2022-06-14T20:21:59.895Z"
      },
      {
        "duration": 25,
        "start_time": "2022-06-14T20:21:59.932Z"
      },
      {
        "duration": 100,
        "start_time": "2022-06-14T20:21:59.958Z"
      },
      {
        "duration": 54,
        "start_time": "2022-06-14T20:22:00.060Z"
      },
      {
        "duration": 31,
        "start_time": "2022-06-14T20:22:00.128Z"
      },
      {
        "duration": 28,
        "start_time": "2022-06-14T20:22:00.160Z"
      },
      {
        "duration": 6,
        "start_time": "2022-06-14T20:22:00.189Z"
      },
      {
        "duration": 190,
        "start_time": "2022-06-14T20:22:00.196Z"
      },
      {
        "duration": 217,
        "start_time": "2022-06-14T20:22:00.388Z"
      },
      {
        "duration": 206,
        "start_time": "2022-06-14T20:22:00.607Z"
      },
      {
        "duration": 183,
        "start_time": "2022-06-14T20:22:00.815Z"
      },
      {
        "duration": 205,
        "start_time": "2022-06-14T20:22:01.000Z"
      },
      {
        "duration": 195,
        "start_time": "2022-06-14T20:22:01.207Z"
      },
      {
        "duration": 206,
        "start_time": "2022-06-14T20:22:01.403Z"
      },
      {
        "duration": 35,
        "start_time": "2022-06-14T20:22:01.611Z"
      },
      {
        "duration": 8,
        "start_time": "2022-06-14T20:22:01.648Z"
      },
      {
        "duration": 15,
        "start_time": "2022-06-14T20:22:01.657Z"
      },
      {
        "duration": 10,
        "start_time": "2022-06-14T20:22:01.673Z"
      },
      {
        "duration": 64,
        "start_time": "2022-06-14T20:22:01.684Z"
      },
      {
        "duration": 293,
        "start_time": "2022-06-14T20:22:01.749Z"
      },
      {
        "duration": 11,
        "start_time": "2022-06-14T20:22:02.044Z"
      },
      {
        "duration": 298,
        "start_time": "2022-06-14T20:22:02.057Z"
      },
      {
        "duration": 8,
        "start_time": "2022-06-14T20:22:02.356Z"
      },
      {
        "duration": 380,
        "start_time": "2022-06-14T20:22:02.366Z"
      },
      {
        "duration": 8,
        "start_time": "2022-06-14T20:22:02.747Z"
      },
      {
        "duration": 310,
        "start_time": "2022-06-14T20:22:02.756Z"
      },
      {
        "duration": 8,
        "start_time": "2022-06-14T20:22:03.069Z"
      },
      {
        "duration": 21,
        "start_time": "2022-06-14T20:22:03.078Z"
      },
      {
        "duration": 33,
        "start_time": "2022-06-14T20:22:03.100Z"
      },
      {
        "duration": 512,
        "start_time": "2022-06-14T20:22:03.135Z"
      },
      {
        "duration": 11,
        "start_time": "2022-06-14T20:22:03.650Z"
      },
      {
        "duration": 84,
        "start_time": "2022-06-14T20:22:03.662Z"
      },
      {
        "duration": 511,
        "start_time": "2022-06-14T20:22:03.748Z"
      },
      {
        "duration": 129,
        "start_time": "2022-06-14T20:33:59.943Z"
      },
      {
        "duration": 122,
        "start_time": "2022-06-14T20:41:37.454Z"
      },
      {
        "duration": 22,
        "start_time": "2022-06-14T20:43:27.256Z"
      },
      {
        "duration": 26,
        "start_time": "2022-06-14T20:43:37.417Z"
      },
      {
        "duration": 1037,
        "start_time": "2022-06-14T20:58:27.749Z"
      },
      {
        "duration": 194,
        "start_time": "2022-06-14T20:58:28.787Z"
      },
      {
        "duration": 175,
        "start_time": "2022-06-14T20:58:28.983Z"
      },
      {
        "duration": 113,
        "start_time": "2022-06-14T20:58:29.159Z"
      },
      {
        "duration": 30,
        "start_time": "2022-06-14T20:58:29.274Z"
      },
      {
        "duration": 50,
        "start_time": "2022-06-14T20:58:29.306Z"
      },
      {
        "duration": 64,
        "start_time": "2022-06-14T20:58:29.358Z"
      },
      {
        "duration": 82,
        "start_time": "2022-06-14T20:58:29.429Z"
      },
      {
        "duration": 117,
        "start_time": "2022-06-14T20:58:29.512Z"
      },
      {
        "duration": 58,
        "start_time": "2022-06-14T20:58:29.631Z"
      },
      {
        "duration": 12,
        "start_time": "2022-06-14T20:58:29.691Z"
      },
      {
        "duration": 49,
        "start_time": "2022-06-14T20:58:29.704Z"
      },
      {
        "duration": 31,
        "start_time": "2022-06-14T20:58:29.755Z"
      },
      {
        "duration": 14,
        "start_time": "2022-06-14T20:58:29.790Z"
      },
      {
        "duration": 43,
        "start_time": "2022-06-14T20:58:29.806Z"
      },
      {
        "duration": 24,
        "start_time": "2022-06-14T20:58:29.851Z"
      },
      {
        "duration": 179,
        "start_time": "2022-06-14T20:58:29.877Z"
      },
      {
        "duration": 17,
        "start_time": "2022-06-14T20:58:30.058Z"
      },
      {
        "duration": 27,
        "start_time": "2022-06-14T20:58:30.077Z"
      },
      {
        "duration": 4,
        "start_time": "2022-06-14T20:58:30.106Z"
      },
      {
        "duration": 196,
        "start_time": "2022-06-14T20:58:30.111Z"
      },
      {
        "duration": 200,
        "start_time": "2022-06-14T20:58:30.309Z"
      },
      {
        "duration": 223,
        "start_time": "2022-06-14T20:58:30.511Z"
      },
      {
        "duration": 227,
        "start_time": "2022-06-14T20:58:30.741Z"
      },
      {
        "duration": 222,
        "start_time": "2022-06-14T20:58:30.969Z"
      },
      {
        "duration": 248,
        "start_time": "2022-06-14T20:58:31.192Z"
      },
      {
        "duration": 246,
        "start_time": "2022-06-14T20:58:31.442Z"
      },
      {
        "duration": 48,
        "start_time": "2022-06-14T20:58:31.689Z"
      },
      {
        "duration": 14,
        "start_time": "2022-06-14T20:58:31.745Z"
      },
      {
        "duration": 13,
        "start_time": "2022-06-14T20:58:31.761Z"
      },
      {
        "duration": 13,
        "start_time": "2022-06-14T20:58:31.776Z"
      },
      {
        "duration": 83,
        "start_time": "2022-06-14T20:58:31.791Z"
      },
      {
        "duration": 323,
        "start_time": "2022-06-14T20:58:31.876Z"
      },
      {
        "duration": 10,
        "start_time": "2022-06-14T20:58:32.200Z"
      },
      {
        "duration": 285,
        "start_time": "2022-06-14T20:58:32.227Z"
      },
      {
        "duration": 33,
        "start_time": "2022-06-14T20:58:32.514Z"
      },
      {
        "duration": 361,
        "start_time": "2022-06-14T20:58:32.548Z"
      },
      {
        "duration": 21,
        "start_time": "2022-06-14T20:58:32.910Z"
      },
      {
        "duration": 304,
        "start_time": "2022-06-14T20:58:32.933Z"
      },
      {
        "duration": 10,
        "start_time": "2022-06-14T20:58:33.247Z"
      },
      {
        "duration": 20,
        "start_time": "2022-06-14T20:58:33.261Z"
      },
      {
        "duration": 5,
        "start_time": "2022-06-14T20:58:33.285Z"
      },
      {
        "duration": 323,
        "start_time": "2022-06-14T20:58:33.292Z"
      },
      {
        "duration": 21,
        "start_time": "2022-06-14T20:58:33.616Z"
      },
      {
        "duration": 24,
        "start_time": "2022-06-14T20:58:33.639Z"
      },
      {
        "duration": 297,
        "start_time": "2022-06-14T20:58:33.664Z"
      },
      {
        "duration": 25,
        "start_time": "2022-06-14T21:11:13.015Z"
      },
      {
        "duration": 1080,
        "start_time": "2022-06-14T21:15:08.799Z"
      },
      {
        "duration": 200,
        "start_time": "2022-06-14T21:15:09.881Z"
      },
      {
        "duration": 166,
        "start_time": "2022-06-14T21:15:10.083Z"
      },
      {
        "duration": 108,
        "start_time": "2022-06-14T21:15:10.251Z"
      },
      {
        "duration": 27,
        "start_time": "2022-06-14T21:15:10.361Z"
      },
      {
        "duration": 56,
        "start_time": "2022-06-14T21:15:10.389Z"
      },
      {
        "duration": 64,
        "start_time": "2022-06-14T21:15:10.447Z"
      },
      {
        "duration": 87,
        "start_time": "2022-06-14T21:15:10.513Z"
      },
      {
        "duration": 106,
        "start_time": "2022-06-14T21:15:10.602Z"
      },
      {
        "duration": 74,
        "start_time": "2022-06-14T21:15:10.710Z"
      },
      {
        "duration": 10,
        "start_time": "2022-06-14T21:15:10.785Z"
      },
      {
        "duration": 69,
        "start_time": "2022-06-14T21:15:10.797Z"
      },
      {
        "duration": 36,
        "start_time": "2022-06-14T21:15:10.868Z"
      },
      {
        "duration": 16,
        "start_time": "2022-06-14T21:15:10.907Z"
      },
      {
        "duration": 41,
        "start_time": "2022-06-14T21:15:10.924Z"
      },
      {
        "duration": 29,
        "start_time": "2022-06-14T21:15:10.967Z"
      },
      {
        "duration": 174,
        "start_time": "2022-06-14T21:15:10.998Z"
      },
      {
        "duration": 16,
        "start_time": "2022-06-14T21:15:11.174Z"
      },
      {
        "duration": 59,
        "start_time": "2022-06-14T21:15:11.191Z"
      },
      {
        "duration": 20,
        "start_time": "2022-06-14T21:15:11.252Z"
      },
      {
        "duration": 16,
        "start_time": "2022-06-14T21:15:11.273Z"
      },
      {
        "duration": 79,
        "start_time": "2022-06-14T21:15:11.291Z"
      },
      {
        "duration": 191,
        "start_time": "2022-06-14T21:15:11.372Z"
      },
      {
        "duration": 208,
        "start_time": "2022-06-14T21:15:11.565Z"
      },
      {
        "duration": 217,
        "start_time": "2022-06-14T21:15:11.775Z"
      },
      {
        "duration": 198,
        "start_time": "2022-06-14T21:15:11.993Z"
      },
      {
        "duration": 206,
        "start_time": "2022-06-14T21:15:12.192Z"
      },
      {
        "duration": 182,
        "start_time": "2022-06-14T21:15:12.399Z"
      },
      {
        "duration": 213,
        "start_time": "2022-06-14T21:15:12.583Z"
      },
      {
        "duration": 16,
        "start_time": "2022-06-14T21:15:12.798Z"
      },
      {
        "duration": 7,
        "start_time": "2022-06-14T21:15:12.839Z"
      },
      {
        "duration": 31,
        "start_time": "2022-06-14T21:15:12.848Z"
      },
      {
        "duration": 9,
        "start_time": "2022-06-14T21:15:12.880Z"
      },
      {
        "duration": 88,
        "start_time": "2022-06-14T21:15:12.891Z"
      },
      {
        "duration": 297,
        "start_time": "2022-06-14T21:15:12.981Z"
      },
      {
        "duration": 7,
        "start_time": "2022-06-14T21:15:13.279Z"
      },
      {
        "duration": 316,
        "start_time": "2022-06-14T21:15:13.288Z"
      },
      {
        "duration": 7,
        "start_time": "2022-06-14T21:15:13.606Z"
      },
      {
        "duration": 395,
        "start_time": "2022-06-14T21:15:13.614Z"
      },
      {
        "duration": 18,
        "start_time": "2022-06-14T21:15:14.010Z"
      },
      {
        "duration": 314,
        "start_time": "2022-06-14T21:15:14.034Z"
      },
      {
        "duration": 8,
        "start_time": "2022-06-14T21:15:14.350Z"
      },
      {
        "duration": 28,
        "start_time": "2022-06-14T21:15:14.359Z"
      },
      {
        "duration": 24,
        "start_time": "2022-06-14T21:15:14.388Z"
      },
      {
        "duration": 304,
        "start_time": "2022-06-14T21:15:14.413Z"
      },
      {
        "duration": 11,
        "start_time": "2022-06-14T21:15:14.738Z"
      },
      {
        "duration": 53,
        "start_time": "2022-06-14T21:15:14.751Z"
      },
      {
        "duration": 312,
        "start_time": "2022-06-14T21:15:14.806Z"
      },
      {
        "duration": 287,
        "start_time": "2022-06-14T21:21:28.218Z"
      },
      {
        "duration": 8,
        "start_time": "2022-06-14T21:22:41.694Z"
      },
      {
        "duration": 1089,
        "start_time": "2022-06-14T21:26:24.930Z"
      },
      {
        "duration": 234,
        "start_time": "2022-06-14T21:26:26.022Z"
      },
      {
        "duration": 216,
        "start_time": "2022-06-14T21:26:26.259Z"
      },
      {
        "duration": 124,
        "start_time": "2022-06-14T21:26:26.477Z"
      },
      {
        "duration": 36,
        "start_time": "2022-06-14T21:26:26.604Z"
      },
      {
        "duration": 40,
        "start_time": "2022-06-14T21:26:26.643Z"
      },
      {
        "duration": 73,
        "start_time": "2022-06-14T21:26:26.685Z"
      },
      {
        "duration": 87,
        "start_time": "2022-06-14T21:26:26.759Z"
      },
      {
        "duration": 103,
        "start_time": "2022-06-14T21:26:26.847Z"
      },
      {
        "duration": 53,
        "start_time": "2022-06-14T21:26:26.952Z"
      },
      {
        "duration": 27,
        "start_time": "2022-06-14T21:26:27.006Z"
      },
      {
        "duration": 41,
        "start_time": "2022-06-14T21:26:27.034Z"
      },
      {
        "duration": 22,
        "start_time": "2022-06-14T21:26:27.077Z"
      },
      {
        "duration": 36,
        "start_time": "2022-06-14T21:26:27.101Z"
      },
      {
        "duration": 13,
        "start_time": "2022-06-14T21:26:27.139Z"
      },
      {
        "duration": 24,
        "start_time": "2022-06-14T21:26:27.153Z"
      },
      {
        "duration": 134,
        "start_time": "2022-06-14T21:26:27.179Z"
      },
      {
        "duration": 28,
        "start_time": "2022-06-14T21:26:27.316Z"
      },
      {
        "duration": 25,
        "start_time": "2022-06-14T21:26:27.345Z"
      },
      {
        "duration": 21,
        "start_time": "2022-06-14T21:26:27.371Z"
      },
      {
        "duration": 3,
        "start_time": "2022-06-14T21:26:27.393Z"
      },
      {
        "duration": 72,
        "start_time": "2022-06-14T21:26:27.398Z"
      },
      {
        "duration": 178,
        "start_time": "2022-06-14T21:26:27.472Z"
      },
      {
        "duration": 205,
        "start_time": "2022-06-14T21:26:27.652Z"
      },
      {
        "duration": 164,
        "start_time": "2022-06-14T21:26:27.859Z"
      },
      {
        "duration": 191,
        "start_time": "2022-06-14T21:26:28.024Z"
      },
      {
        "duration": 151,
        "start_time": "2022-06-14T21:26:28.217Z"
      },
      {
        "duration": 289,
        "start_time": "2022-06-14T21:26:28.370Z"
      },
      {
        "duration": 8,
        "start_time": "2022-06-14T21:26:28.660Z"
      },
      {
        "duration": 223,
        "start_time": "2022-06-14T21:26:28.669Z"
      },
      {
        "duration": 307,
        "start_time": "2022-06-14T21:26:28.895Z"
      },
      {
        "duration": 8,
        "start_time": "2022-06-14T21:26:29.204Z"
      },
      {
        "duration": 32,
        "start_time": "2022-06-14T21:26:29.214Z"
      },
      {
        "duration": 8,
        "start_time": "2022-06-14T21:26:29.248Z"
      },
      {
        "duration": 7,
        "start_time": "2022-06-14T21:26:29.257Z"
      },
      {
        "duration": 19,
        "start_time": "2022-06-14T21:26:29.265Z"
      },
      {
        "duration": 63,
        "start_time": "2022-06-14T21:26:29.285Z"
      },
      {
        "duration": 271,
        "start_time": "2022-06-14T21:26:29.349Z"
      },
      {
        "duration": 18,
        "start_time": "2022-06-14T21:26:29.627Z"
      },
      {
        "duration": 345,
        "start_time": "2022-06-14T21:26:29.647Z"
      },
      {
        "duration": 8,
        "start_time": "2022-06-14T21:26:29.995Z"
      },
      {
        "duration": 299,
        "start_time": "2022-06-14T21:26:30.004Z"
      },
      {
        "duration": 8,
        "start_time": "2022-06-14T21:26:30.305Z"
      },
      {
        "duration": 286,
        "start_time": "2022-06-14T21:26:30.327Z"
      },
      {
        "duration": 28,
        "start_time": "2022-06-14T21:26:30.614Z"
      },
      {
        "duration": 22,
        "start_time": "2022-06-14T21:26:30.644Z"
      },
      {
        "duration": 39,
        "start_time": "2022-06-14T21:26:30.669Z"
      },
      {
        "duration": 310,
        "start_time": "2022-06-14T21:26:30.709Z"
      },
      {
        "duration": 21,
        "start_time": "2022-06-14T21:26:31.021Z"
      },
      {
        "duration": 30,
        "start_time": "2022-06-14T21:26:31.048Z"
      },
      {
        "duration": 316,
        "start_time": "2022-06-14T21:26:31.080Z"
      },
      {
        "duration": 285,
        "start_time": "2022-06-14T21:28:30.255Z"
      },
      {
        "duration": 15,
        "start_time": "2022-06-14T21:28:33.328Z"
      },
      {
        "duration": 1096,
        "start_time": "2022-06-14T21:29:42.309Z"
      },
      {
        "duration": 188,
        "start_time": "2022-06-14T21:29:43.407Z"
      },
      {
        "duration": 163,
        "start_time": "2022-06-14T21:29:43.596Z"
      },
      {
        "duration": 116,
        "start_time": "2022-06-14T21:29:43.761Z"
      },
      {
        "duration": 29,
        "start_time": "2022-06-14T21:29:43.879Z"
      },
      {
        "duration": 58,
        "start_time": "2022-06-14T21:29:43.909Z"
      },
      {
        "duration": 74,
        "start_time": "2022-06-14T21:29:43.969Z"
      },
      {
        "duration": 86,
        "start_time": "2022-06-14T21:29:44.045Z"
      },
      {
        "duration": 96,
        "start_time": "2022-06-14T21:29:44.132Z"
      },
      {
        "duration": 51,
        "start_time": "2022-06-14T21:29:44.236Z"
      },
      {
        "duration": 9,
        "start_time": "2022-06-14T21:29:44.289Z"
      },
      {
        "duration": 53,
        "start_time": "2022-06-14T21:29:44.299Z"
      },
      {
        "duration": 20,
        "start_time": "2022-06-14T21:29:44.354Z"
      },
      {
        "duration": 14,
        "start_time": "2022-06-14T21:29:44.375Z"
      },
      {
        "duration": 12,
        "start_time": "2022-06-14T21:29:44.390Z"
      },
      {
        "duration": 29,
        "start_time": "2022-06-14T21:29:44.427Z"
      },
      {
        "duration": 130,
        "start_time": "2022-06-14T21:29:44.458Z"
      },
      {
        "duration": 17,
        "start_time": "2022-06-14T21:29:44.589Z"
      },
      {
        "duration": 45,
        "start_time": "2022-06-14T21:29:44.607Z"
      },
      {
        "duration": 15,
        "start_time": "2022-06-14T21:29:44.654Z"
      },
      {
        "duration": 14,
        "start_time": "2022-06-14T21:29:44.671Z"
      },
      {
        "duration": 63,
        "start_time": "2022-06-14T21:29:44.687Z"
      },
      {
        "duration": 168,
        "start_time": "2022-06-14T21:29:44.752Z"
      },
      {
        "duration": 180,
        "start_time": "2022-06-14T21:29:44.927Z"
      },
      {
        "duration": 286,
        "start_time": "2022-06-14T21:29:45.109Z"
      },
      {
        "duration": 8,
        "start_time": "2022-06-14T21:29:45.397Z"
      },
      {
        "duration": 180,
        "start_time": "2022-06-14T21:29:45.407Z"
      },
      {
        "duration": 178,
        "start_time": "2022-06-14T21:29:45.591Z"
      },
      {
        "duration": 269,
        "start_time": "2022-06-14T21:29:45.770Z"
      },
      {
        "duration": 10,
        "start_time": "2022-06-14T21:29:46.040Z"
      },
      {
        "duration": 162,
        "start_time": "2022-06-14T21:29:46.052Z"
      },
      {
        "duration": 337,
        "start_time": "2022-06-14T21:29:46.216Z"
      },
      {
        "duration": 11,
        "start_time": "2022-06-14T21:29:46.555Z"
      },
      {
        "duration": 239,
        "start_time": "2022-06-14T21:29:46.568Z"
      },
      {
        "duration": 388,
        "start_time": "2022-06-14T21:29:46.808Z"
      },
      {
        "duration": 7,
        "start_time": "2022-06-14T21:29:47.198Z"
      },
      {
        "duration": 24,
        "start_time": "2022-06-14T21:29:47.207Z"
      },
      {
        "duration": 32,
        "start_time": "2022-06-14T21:29:47.232Z"
      },
      {
        "duration": 15,
        "start_time": "2022-06-14T21:29:47.266Z"
      },
      {
        "duration": 19,
        "start_time": "2022-06-14T21:29:47.283Z"
      },
      {
        "duration": 76,
        "start_time": "2022-06-14T21:29:47.304Z"
      },
      {
        "duration": 314,
        "start_time": "2022-06-14T21:29:47.382Z"
      },
      {
        "duration": 7,
        "start_time": "2022-06-14T21:29:47.698Z"
      },
      {
        "duration": 287,
        "start_time": "2022-06-14T21:29:47.707Z"
      },
      {
        "duration": 7,
        "start_time": "2022-06-14T21:29:47.996Z"
      },
      {
        "duration": 308,
        "start_time": "2022-06-14T21:29:48.004Z"
      },
      {
        "duration": 23,
        "start_time": "2022-06-14T21:29:48.313Z"
      },
      {
        "duration": 276,
        "start_time": "2022-06-14T21:29:48.338Z"
      },
      {
        "duration": 20,
        "start_time": "2022-06-14T21:29:48.615Z"
      },
      {
        "duration": 19,
        "start_time": "2022-06-14T21:29:48.641Z"
      },
      {
        "duration": 14,
        "start_time": "2022-06-14T21:29:48.661Z"
      },
      {
        "duration": 336,
        "start_time": "2022-06-14T21:29:48.676Z"
      },
      {
        "duration": 24,
        "start_time": "2022-06-14T21:29:49.013Z"
      },
      {
        "duration": 33,
        "start_time": "2022-06-14T21:29:49.042Z"
      },
      {
        "duration": 296,
        "start_time": "2022-06-14T21:29:49.077Z"
      },
      {
        "duration": 47,
        "start_time": "2022-06-14T21:35:06.988Z"
      },
      {
        "duration": 26,
        "start_time": "2022-06-14T21:35:18.779Z"
      },
      {
        "duration": 29,
        "start_time": "2022-06-14T21:37:17.220Z"
      },
      {
        "duration": 19,
        "start_time": "2022-06-14T21:40:16.259Z"
      },
      {
        "duration": 19,
        "start_time": "2022-06-14T21:41:01.893Z"
      },
      {
        "duration": 1031,
        "start_time": "2022-06-14T21:41:16.954Z"
      },
      {
        "duration": 189,
        "start_time": "2022-06-14T21:41:17.987Z"
      },
      {
        "duration": 162,
        "start_time": "2022-06-14T21:41:18.177Z"
      },
      {
        "duration": 112,
        "start_time": "2022-06-14T21:41:18.341Z"
      },
      {
        "duration": 24,
        "start_time": "2022-06-14T21:41:18.455Z"
      },
      {
        "duration": 40,
        "start_time": "2022-06-14T21:41:18.481Z"
      },
      {
        "duration": 70,
        "start_time": "2022-06-14T21:41:18.523Z"
      },
      {
        "duration": 84,
        "start_time": "2022-06-14T21:41:18.594Z"
      },
      {
        "duration": 97,
        "start_time": "2022-06-14T21:41:18.679Z"
      },
      {
        "duration": 63,
        "start_time": "2022-06-14T21:41:18.779Z"
      },
      {
        "duration": 9,
        "start_time": "2022-06-14T21:41:18.843Z"
      },
      {
        "duration": 34,
        "start_time": "2022-06-14T21:41:18.853Z"
      },
      {
        "duration": 21,
        "start_time": "2022-06-14T21:41:18.888Z"
      },
      {
        "duration": 37,
        "start_time": "2022-06-14T21:41:18.910Z"
      },
      {
        "duration": 13,
        "start_time": "2022-06-14T21:41:18.949Z"
      },
      {
        "duration": 21,
        "start_time": "2022-06-14T21:41:18.964Z"
      },
      {
        "duration": 139,
        "start_time": "2022-06-14T21:41:18.986Z"
      },
      {
        "duration": 23,
        "start_time": "2022-06-14T21:41:19.128Z"
      },
      {
        "duration": 23,
        "start_time": "2022-06-14T21:41:19.152Z"
      },
      {
        "duration": 14,
        "start_time": "2022-06-14T21:41:19.177Z"
      },
      {
        "duration": 3,
        "start_time": "2022-06-14T21:41:19.192Z"
      },
      {
        "duration": 72,
        "start_time": "2022-06-14T21:41:19.196Z"
      },
      {
        "duration": 193,
        "start_time": "2022-06-14T21:41:19.270Z"
      },
      {
        "duration": 175,
        "start_time": "2022-06-14T21:41:19.464Z"
      },
      {
        "duration": 261,
        "start_time": "2022-06-14T21:41:19.641Z"
      },
      {
        "duration": 7,
        "start_time": "2022-06-14T21:41:19.903Z"
      },
      {
        "duration": 165,
        "start_time": "2022-06-14T21:41:19.912Z"
      },
      {
        "duration": 176,
        "start_time": "2022-06-14T21:41:20.080Z"
      },
      {
        "duration": 252,
        "start_time": "2022-06-14T21:41:20.257Z"
      },
      {
        "duration": 18,
        "start_time": "2022-06-14T21:41:20.511Z"
      },
      {
        "duration": 154,
        "start_time": "2022-06-14T21:41:20.542Z"
      },
      {
        "duration": 173,
        "start_time": "2022-06-14T21:41:20.697Z"
      },
      {
        "duration": 288,
        "start_time": "2022-06-14T21:41:20.871Z"
      },
      {
        "duration": 7,
        "start_time": "2022-06-14T21:41:21.161Z"
      },
      {
        "duration": 91,
        "start_time": "2022-06-14T21:41:21.169Z"
      },
      {
        "duration": 19,
        "start_time": "2022-06-14T21:41:21.263Z"
      },
      {
        "duration": 331,
        "start_time": "2022-06-14T21:41:21.284Z"
      },
      {
        "duration": 23,
        "start_time": "2022-06-14T21:41:21.616Z"
      },
      {
        "duration": 53,
        "start_time": "2022-06-14T21:41:21.641Z"
      },
      {
        "duration": 300,
        "start_time": "2022-06-14T21:41:21.696Z"
      },
      {
        "duration": 1213,
        "start_time": "2022-06-15T07:33:12.267Z"
      },
      {
        "duration": 257,
        "start_time": "2022-06-15T07:33:13.482Z"
      },
      {
        "duration": 502,
        "start_time": "2022-06-15T07:33:13.740Z"
      },
      {
        "duration": 358,
        "start_time": "2022-06-15T07:33:14.245Z"
      },
      {
        "duration": 85,
        "start_time": "2022-06-15T07:33:14.605Z"
      },
      {
        "duration": 71,
        "start_time": "2022-06-15T07:33:14.692Z"
      },
      {
        "duration": 83,
        "start_time": "2022-06-15T07:33:14.765Z"
      },
      {
        "duration": 86,
        "start_time": "2022-06-15T07:33:14.850Z"
      },
      {
        "duration": 122,
        "start_time": "2022-06-15T07:33:14.939Z"
      },
      {
        "duration": 78,
        "start_time": "2022-06-15T07:33:15.063Z"
      },
      {
        "duration": 14,
        "start_time": "2022-06-15T07:33:15.143Z"
      },
      {
        "duration": 36,
        "start_time": "2022-06-15T07:33:15.158Z"
      },
      {
        "duration": 43,
        "start_time": "2022-06-15T07:33:15.196Z"
      },
      {
        "duration": 16,
        "start_time": "2022-06-15T07:33:15.242Z"
      },
      {
        "duration": 15,
        "start_time": "2022-06-15T07:33:15.260Z"
      },
      {
        "duration": 50,
        "start_time": "2022-06-15T07:33:15.277Z"
      },
      {
        "duration": 136,
        "start_time": "2022-06-15T07:33:15.329Z"
      },
      {
        "duration": 15,
        "start_time": "2022-06-15T07:33:15.467Z"
      },
      {
        "duration": 26,
        "start_time": "2022-06-15T07:33:15.484Z"
      },
      {
        "duration": 29,
        "start_time": "2022-06-15T07:33:15.511Z"
      },
      {
        "duration": 2,
        "start_time": "2022-06-15T07:33:15.542Z"
      },
      {
        "duration": 48,
        "start_time": "2022-06-15T07:33:15.546Z"
      },
      {
        "duration": 336,
        "start_time": "2022-06-15T07:33:15.596Z"
      },
      {
        "duration": 394,
        "start_time": "2022-06-15T07:33:15.934Z"
      },
      {
        "duration": 499,
        "start_time": "2022-06-15T07:33:16.330Z"
      },
      {
        "duration": 7,
        "start_time": "2022-06-15T07:33:16.831Z"
      },
      {
        "duration": 311,
        "start_time": "2022-06-15T07:33:16.840Z"
      },
      {
        "duration": 388,
        "start_time": "2022-06-15T07:33:17.152Z"
      },
      {
        "duration": 247,
        "start_time": "2022-06-15T07:33:17.542Z"
      },
      {
        "duration": 7,
        "start_time": "2022-06-15T07:33:17.791Z"
      },
      {
        "duration": 178,
        "start_time": "2022-06-15T07:33:17.799Z"
      },
      {
        "duration": 179,
        "start_time": "2022-06-15T07:33:17.979Z"
      },
      {
        "duration": 286,
        "start_time": "2022-06-15T07:33:18.160Z"
      },
      {
        "duration": 8,
        "start_time": "2022-06-15T07:33:18.448Z"
      },
      {
        "duration": 96,
        "start_time": "2022-06-15T07:33:18.457Z"
      },
      {
        "duration": 9,
        "start_time": "2022-06-15T07:33:18.555Z"
      },
      {
        "duration": 332,
        "start_time": "2022-06-15T07:33:18.566Z"
      },
      {
        "duration": 10,
        "start_time": "2022-06-15T07:33:18.900Z"
      },
      {
        "duration": 40,
        "start_time": "2022-06-15T07:33:18.912Z"
      },
      {
        "duration": 278,
        "start_time": "2022-06-15T07:33:18.953Z"
      },
      {
        "duration": 38,
        "start_time": "2022-06-15T07:38:05.412Z"
      },
      {
        "duration": 407,
        "start_time": "2022-06-15T07:38:58.135Z"
      },
      {
        "duration": 1024,
        "start_time": "2022-06-15T07:39:08.040Z"
      },
      {
        "duration": 175,
        "start_time": "2022-06-15T07:39:09.066Z"
      },
      {
        "duration": 150,
        "start_time": "2022-06-15T07:39:09.242Z"
      },
      {
        "duration": 100,
        "start_time": "2022-06-15T07:39:09.394Z"
      },
      {
        "duration": 27,
        "start_time": "2022-06-15T07:39:09.496Z"
      },
      {
        "duration": 41,
        "start_time": "2022-06-15T07:39:09.525Z"
      },
      {
        "duration": 51,
        "start_time": "2022-06-15T07:39:09.568Z"
      },
      {
        "duration": 70,
        "start_time": "2022-06-15T07:39:09.620Z"
      },
      {
        "duration": 101,
        "start_time": "2022-06-15T07:39:09.691Z"
      },
      {
        "duration": 67,
        "start_time": "2022-06-15T07:39:09.794Z"
      },
      {
        "duration": 9,
        "start_time": "2022-06-15T07:39:09.864Z"
      },
      {
        "duration": 31,
        "start_time": "2022-06-15T07:39:09.875Z"
      },
      {
        "duration": 39,
        "start_time": "2022-06-15T07:39:09.908Z"
      },
      {
        "duration": 16,
        "start_time": "2022-06-15T07:39:09.950Z"
      },
      {
        "duration": 13,
        "start_time": "2022-06-15T07:39:09.967Z"
      },
      {
        "duration": 45,
        "start_time": "2022-06-15T07:39:09.982Z"
      },
      {
        "duration": 127,
        "start_time": "2022-06-15T07:39:10.029Z"
      },
      {
        "duration": 17,
        "start_time": "2022-06-15T07:39:10.158Z"
      },
      {
        "duration": 30,
        "start_time": "2022-06-15T07:39:10.176Z"
      },
      {
        "duration": 31,
        "start_time": "2022-06-15T07:39:10.208Z"
      },
      {
        "duration": 37,
        "start_time": "2022-06-15T07:39:10.241Z"
      },
      {
        "duration": 189,
        "start_time": "2022-06-15T07:39:10.279Z"
      },
      {
        "duration": 167,
        "start_time": "2022-06-15T07:39:10.470Z"
      },
      {
        "duration": 252,
        "start_time": "2022-06-15T07:39:10.638Z"
      },
      {
        "duration": 8,
        "start_time": "2022-06-15T07:39:10.892Z"
      },
      {
        "duration": 168,
        "start_time": "2022-06-15T07:39:10.901Z"
      },
      {
        "duration": 174,
        "start_time": "2022-06-15T07:39:11.070Z"
      },
      {
        "duration": 288,
        "start_time": "2022-06-15T07:39:11.245Z"
      },
      {
        "duration": 7,
        "start_time": "2022-06-15T07:39:11.535Z"
      },
      {
        "duration": 300,
        "start_time": "2022-06-15T07:39:11.544Z"
      },
      {
        "duration": 323,
        "start_time": "2022-06-15T07:39:11.846Z"
      },
      {
        "duration": 499,
        "start_time": "2022-06-15T07:39:12.170Z"
      },
      {
        "duration": 60,
        "start_time": "2022-06-15T07:39:12.671Z"
      },
      {
        "duration": 131,
        "start_time": "2022-06-15T07:39:12.733Z"
      },
      {
        "duration": 298,
        "start_time": "2022-06-15T07:39:12.865Z"
      },
      {
        "duration": 0,
        "start_time": "2022-06-15T07:39:13.165Z"
      },
      {
        "duration": 0,
        "start_time": "2022-06-15T07:39:13.167Z"
      },
      {
        "duration": 0,
        "start_time": "2022-06-15T07:39:13.168Z"
      },
      {
        "duration": 0,
        "start_time": "2022-06-15T07:39:13.170Z"
      },
      {
        "duration": 23,
        "start_time": "2022-06-15T07:39:56.818Z"
      },
      {
        "duration": 28,
        "start_time": "2022-06-15T07:49:15.371Z"
      },
      {
        "duration": 1131,
        "start_time": "2022-06-15T07:49:21.594Z"
      },
      {
        "duration": 186,
        "start_time": "2022-06-15T07:49:22.727Z"
      },
      {
        "duration": 147,
        "start_time": "2022-06-15T07:49:22.915Z"
      },
      {
        "duration": 100,
        "start_time": "2022-06-15T07:49:23.063Z"
      },
      {
        "duration": 26,
        "start_time": "2022-06-15T07:49:23.165Z"
      },
      {
        "duration": 40,
        "start_time": "2022-06-15T07:49:23.192Z"
      },
      {
        "duration": 76,
        "start_time": "2022-06-15T07:49:23.234Z"
      },
      {
        "duration": 84,
        "start_time": "2022-06-15T07:49:23.312Z"
      },
      {
        "duration": 101,
        "start_time": "2022-06-15T07:49:23.398Z"
      },
      {
        "duration": 67,
        "start_time": "2022-06-15T07:49:23.500Z"
      },
      {
        "duration": 10,
        "start_time": "2022-06-15T07:49:23.569Z"
      },
      {
        "duration": 38,
        "start_time": "2022-06-15T07:49:23.581Z"
      },
      {
        "duration": 30,
        "start_time": "2022-06-15T07:49:23.620Z"
      },
      {
        "duration": 15,
        "start_time": "2022-06-15T07:49:23.652Z"
      },
      {
        "duration": 14,
        "start_time": "2022-06-15T07:49:23.669Z"
      },
      {
        "duration": 51,
        "start_time": "2022-06-15T07:49:23.685Z"
      },
      {
        "duration": 128,
        "start_time": "2022-06-15T07:49:23.738Z"
      },
      {
        "duration": 19,
        "start_time": "2022-06-15T07:49:23.868Z"
      },
      {
        "duration": 45,
        "start_time": "2022-06-15T07:49:23.889Z"
      },
      {
        "duration": 17,
        "start_time": "2022-06-15T07:49:23.936Z"
      },
      {
        "duration": 36,
        "start_time": "2022-06-15T07:49:23.954Z"
      },
      {
        "duration": 182,
        "start_time": "2022-06-15T07:49:23.991Z"
      },
      {
        "duration": 184,
        "start_time": "2022-06-15T07:49:24.174Z"
      },
      {
        "duration": 235,
        "start_time": "2022-06-15T07:49:24.359Z"
      },
      {
        "duration": 156,
        "start_time": "2022-06-15T07:49:24.595Z"
      },
      {
        "duration": 188,
        "start_time": "2022-06-15T07:49:24.753Z"
      },
      {
        "duration": 238,
        "start_time": "2022-06-15T07:49:24.943Z"
      },
      {
        "duration": 7,
        "start_time": "2022-06-15T07:49:25.183Z"
      },
      {
        "duration": 162,
        "start_time": "2022-06-15T07:49:25.191Z"
      },
      {
        "duration": 166,
        "start_time": "2022-06-15T07:49:25.354Z"
      },
      {
        "duration": 272,
        "start_time": "2022-06-15T07:49:25.526Z"
      },
      {
        "duration": 7,
        "start_time": "2022-06-15T07:49:25.799Z"
      },
      {
        "duration": 89,
        "start_time": "2022-06-15T07:49:25.808Z"
      },
      {
        "duration": 115,
        "start_time": "2022-06-15T07:49:25.898Z"
      },
      {
        "duration": 0,
        "start_time": "2022-06-15T07:49:26.015Z"
      },
      {
        "duration": 0,
        "start_time": "2022-06-15T07:49:26.016Z"
      },
      {
        "duration": 0,
        "start_time": "2022-06-15T07:49:26.016Z"
      },
      {
        "duration": 0,
        "start_time": "2022-06-15T07:49:26.017Z"
      },
      {
        "duration": 40,
        "start_time": "2022-06-15T07:55:12.460Z"
      },
      {
        "duration": 37,
        "start_time": "2022-06-15T07:55:37.902Z"
      },
      {
        "duration": 37,
        "start_time": "2022-06-15T07:56:00.597Z"
      },
      {
        "duration": 38,
        "start_time": "2022-06-15T07:56:07.110Z"
      },
      {
        "duration": 1090,
        "start_time": "2022-06-15T08:25:13.229Z"
      },
      {
        "duration": 192,
        "start_time": "2022-06-15T08:25:14.321Z"
      },
      {
        "duration": 150,
        "start_time": "2022-06-15T08:25:14.515Z"
      },
      {
        "duration": 101,
        "start_time": "2022-06-15T08:25:14.667Z"
      },
      {
        "duration": 29,
        "start_time": "2022-06-15T08:25:14.769Z"
      },
      {
        "duration": 52,
        "start_time": "2022-06-15T08:25:14.800Z"
      },
      {
        "duration": 60,
        "start_time": "2022-06-15T08:25:14.854Z"
      },
      {
        "duration": 80,
        "start_time": "2022-06-15T08:25:14.928Z"
      },
      {
        "duration": 103,
        "start_time": "2022-06-15T08:25:15.009Z"
      },
      {
        "duration": 52,
        "start_time": "2022-06-15T08:25:15.126Z"
      },
      {
        "duration": 10,
        "start_time": "2022-06-15T08:25:15.180Z"
      },
      {
        "duration": 43,
        "start_time": "2022-06-15T08:25:15.191Z"
      },
      {
        "duration": 22,
        "start_time": "2022-06-15T08:25:15.236Z"
      },
      {
        "duration": 16,
        "start_time": "2022-06-15T08:25:15.260Z"
      },
      {
        "duration": 12,
        "start_time": "2022-06-15T08:25:15.278Z"
      },
      {
        "duration": 54,
        "start_time": "2022-06-15T08:25:15.292Z"
      },
      {
        "duration": 138,
        "start_time": "2022-06-15T08:25:15.348Z"
      },
      {
        "duration": 17,
        "start_time": "2022-06-15T08:25:15.488Z"
      },
      {
        "duration": 41,
        "start_time": "2022-06-15T08:25:15.506Z"
      },
      {
        "duration": 18,
        "start_time": "2022-06-15T08:25:15.548Z"
      },
      {
        "duration": 60,
        "start_time": "2022-06-15T08:25:15.568Z"
      },
      {
        "duration": 243,
        "start_time": "2022-06-15T08:25:15.630Z"
      },
      {
        "duration": 227,
        "start_time": "2022-06-15T08:25:15.875Z"
      },
      {
        "duration": 350,
        "start_time": "2022-06-15T08:25:16.104Z"
      },
      {
        "duration": 223,
        "start_time": "2022-06-15T08:25:16.457Z"
      },
      {
        "duration": 202,
        "start_time": "2022-06-15T08:25:16.682Z"
      },
      {
        "duration": 326,
        "start_time": "2022-06-15T08:25:16.885Z"
      },
      {
        "duration": 193,
        "start_time": "2022-06-15T08:25:17.214Z"
      },
      {
        "duration": 207,
        "start_time": "2022-06-15T08:25:17.409Z"
      },
      {
        "duration": 303,
        "start_time": "2022-06-15T08:25:17.627Z"
      },
      {
        "duration": 8,
        "start_time": "2022-06-15T08:25:17.932Z"
      },
      {
        "duration": 97,
        "start_time": "2022-06-15T08:25:17.941Z"
      },
      {
        "duration": 131,
        "start_time": "2022-06-15T08:25:18.040Z"
      },
      {
        "duration": 0,
        "start_time": "2022-06-15T08:25:18.172Z"
      },
      {
        "duration": 0,
        "start_time": "2022-06-15T08:25:18.174Z"
      },
      {
        "duration": 0,
        "start_time": "2022-06-15T08:25:18.175Z"
      },
      {
        "duration": 0,
        "start_time": "2022-06-15T08:25:18.176Z"
      },
      {
        "duration": 32,
        "start_time": "2022-06-15T08:27:15.402Z"
      },
      {
        "duration": 43,
        "start_time": "2022-06-15T08:27:31.503Z"
      },
      {
        "duration": 22,
        "start_time": "2022-06-15T08:27:44.507Z"
      },
      {
        "duration": 44,
        "start_time": "2022-06-15T08:28:07.250Z"
      },
      {
        "duration": 1021,
        "start_time": "2022-06-15T08:28:26.062Z"
      },
      {
        "duration": 183,
        "start_time": "2022-06-15T08:28:27.085Z"
      },
      {
        "duration": 150,
        "start_time": "2022-06-15T08:28:27.270Z"
      },
      {
        "duration": 101,
        "start_time": "2022-06-15T08:28:27.427Z"
      },
      {
        "duration": 29,
        "start_time": "2022-06-15T08:28:27.529Z"
      },
      {
        "duration": 42,
        "start_time": "2022-06-15T08:28:27.559Z"
      },
      {
        "duration": 54,
        "start_time": "2022-06-15T08:28:27.602Z"
      },
      {
        "duration": 83,
        "start_time": "2022-06-15T08:28:27.657Z"
      },
      {
        "duration": 98,
        "start_time": "2022-06-15T08:28:27.741Z"
      },
      {
        "duration": 61,
        "start_time": "2022-06-15T08:28:27.842Z"
      },
      {
        "duration": 30,
        "start_time": "2022-06-15T08:28:27.905Z"
      },
      {
        "duration": 34,
        "start_time": "2022-06-15T08:28:27.937Z"
      },
      {
        "duration": 73,
        "start_time": "2022-06-15T08:28:27.973Z"
      },
      {
        "duration": 20,
        "start_time": "2022-06-15T08:28:28.048Z"
      },
      {
        "duration": 65,
        "start_time": "2022-06-15T08:28:28.070Z"
      },
      {
        "duration": 30,
        "start_time": "2022-06-15T08:28:28.136Z"
      },
      {
        "duration": 197,
        "start_time": "2022-06-15T08:28:28.168Z"
      },
      {
        "duration": 71,
        "start_time": "2022-06-15T08:28:28.367Z"
      },
      {
        "duration": 30,
        "start_time": "2022-06-15T08:28:28.439Z"
      },
      {
        "duration": 60,
        "start_time": "2022-06-15T08:28:28.471Z"
      },
      {
        "duration": 38,
        "start_time": "2022-06-15T08:28:28.533Z"
      },
      {
        "duration": 339,
        "start_time": "2022-06-15T08:28:28.627Z"
      },
      {
        "duration": 207,
        "start_time": "2022-06-15T08:28:28.968Z"
      },
      {
        "duration": 333,
        "start_time": "2022-06-15T08:28:29.177Z"
      },
      {
        "duration": 180,
        "start_time": "2022-06-15T08:28:29.512Z"
      },
      {
        "duration": 197,
        "start_time": "2022-06-15T08:28:29.694Z"
      },
      {
        "duration": 321,
        "start_time": "2022-06-15T08:28:29.893Z"
      },
      {
        "duration": 168,
        "start_time": "2022-06-15T08:28:30.228Z"
      },
      {
        "duration": 202,
        "start_time": "2022-06-15T08:28:30.398Z"
      },
      {
        "duration": 310,
        "start_time": "2022-06-15T08:28:30.602Z"
      },
      {
        "duration": 18,
        "start_time": "2022-06-15T08:28:30.914Z"
      },
      {
        "duration": 103,
        "start_time": "2022-06-15T08:28:30.934Z"
      },
      {
        "duration": 40,
        "start_time": "2022-06-15T08:28:31.039Z"
      },
      {
        "duration": 116,
        "start_time": "2022-06-15T08:28:31.081Z"
      },
      {
        "duration": 0,
        "start_time": "2022-06-15T08:28:31.198Z"
      },
      {
        "duration": 0,
        "start_time": "2022-06-15T08:28:31.199Z"
      },
      {
        "duration": 0,
        "start_time": "2022-06-15T08:28:31.201Z"
      },
      {
        "duration": 277,
        "start_time": "2022-06-15T08:29:00.023Z"
      },
      {
        "duration": 1027,
        "start_time": "2022-06-15T08:56:06.688Z"
      },
      {
        "duration": 189,
        "start_time": "2022-06-15T08:56:07.718Z"
      },
      {
        "duration": 152,
        "start_time": "2022-06-15T08:56:07.909Z"
      },
      {
        "duration": 109,
        "start_time": "2022-06-15T08:56:08.062Z"
      },
      {
        "duration": 28,
        "start_time": "2022-06-15T08:56:08.173Z"
      },
      {
        "duration": 44,
        "start_time": "2022-06-15T08:56:08.202Z"
      },
      {
        "duration": 53,
        "start_time": "2022-06-15T08:56:08.247Z"
      },
      {
        "duration": 89,
        "start_time": "2022-06-15T08:56:08.301Z"
      },
      {
        "duration": 100,
        "start_time": "2022-06-15T08:56:08.391Z"
      },
      {
        "duration": 59,
        "start_time": "2022-06-15T08:56:08.492Z"
      },
      {
        "duration": 10,
        "start_time": "2022-06-15T08:56:08.553Z"
      },
      {
        "duration": 49,
        "start_time": "2022-06-15T08:56:08.565Z"
      },
      {
        "duration": 23,
        "start_time": "2022-06-15T08:56:08.616Z"
      },
      {
        "duration": 19,
        "start_time": "2022-06-15T08:56:08.643Z"
      },
      {
        "duration": 34,
        "start_time": "2022-06-15T08:56:08.664Z"
      },
      {
        "duration": 28,
        "start_time": "2022-06-15T08:56:08.700Z"
      },
      {
        "duration": 125,
        "start_time": "2022-06-15T08:56:08.730Z"
      },
      {
        "duration": 17,
        "start_time": "2022-06-15T08:56:08.856Z"
      },
      {
        "duration": 56,
        "start_time": "2022-06-15T08:56:08.875Z"
      },
      {
        "duration": 17,
        "start_time": "2022-06-15T08:56:08.933Z"
      },
      {
        "duration": 56,
        "start_time": "2022-06-15T08:56:08.951Z"
      },
      {
        "duration": 210,
        "start_time": "2022-06-15T08:56:09.009Z"
      },
      {
        "duration": 222,
        "start_time": "2022-06-15T08:56:09.221Z"
      },
      {
        "duration": 286,
        "start_time": "2022-06-15T08:56:09.445Z"
      },
      {
        "duration": 183,
        "start_time": "2022-06-15T08:56:09.733Z"
      },
      {
        "duration": 218,
        "start_time": "2022-06-15T08:56:09.918Z"
      },
      {
        "duration": 265,
        "start_time": "2022-06-15T08:56:10.138Z"
      },
      {
        "duration": 187,
        "start_time": "2022-06-15T08:56:10.405Z"
      },
      {
        "duration": 204,
        "start_time": "2022-06-15T08:56:10.593Z"
      },
      {
        "duration": 321,
        "start_time": "2022-06-15T08:56:10.799Z"
      },
      {
        "duration": 85,
        "start_time": "2022-06-15T08:56:11.127Z"
      },
      {
        "duration": 75,
        "start_time": "2022-06-15T08:56:11.214Z"
      },
      {
        "duration": 319,
        "start_time": "2022-06-15T08:56:11.291Z"
      },
      {
        "duration": 25,
        "start_time": "2022-06-15T08:56:11.612Z"
      },
      {
        "duration": 43,
        "start_time": "2022-06-15T08:56:11.639Z"
      },
      {
        "duration": 312,
        "start_time": "2022-06-15T08:56:11.684Z"
      },
      {
        "duration": 20,
        "start_time": "2022-06-15T09:09:51.625Z"
      },
      {
        "duration": 20,
        "start_time": "2022-06-15T09:11:07.366Z"
      },
      {
        "duration": 1187,
        "start_time": "2022-06-15T09:18:09.318Z"
      },
      {
        "duration": 213,
        "start_time": "2022-06-15T09:18:10.507Z"
      },
      {
        "duration": 157,
        "start_time": "2022-06-15T09:18:10.722Z"
      },
      {
        "duration": 109,
        "start_time": "2022-06-15T09:18:10.881Z"
      },
      {
        "duration": 28,
        "start_time": "2022-06-15T09:18:10.993Z"
      },
      {
        "duration": 43,
        "start_time": "2022-06-15T09:18:11.028Z"
      },
      {
        "duration": 59,
        "start_time": "2022-06-15T09:18:11.073Z"
      },
      {
        "duration": 80,
        "start_time": "2022-06-15T09:18:11.134Z"
      },
      {
        "duration": 100,
        "start_time": "2022-06-15T09:18:11.215Z"
      },
      {
        "duration": 52,
        "start_time": "2022-06-15T09:18:11.327Z"
      },
      {
        "duration": 10,
        "start_time": "2022-06-15T09:18:11.381Z"
      },
      {
        "duration": 56,
        "start_time": "2022-06-15T09:18:11.392Z"
      },
      {
        "duration": 24,
        "start_time": "2022-06-15T09:18:11.449Z"
      },
      {
        "duration": 17,
        "start_time": "2022-06-15T09:18:11.477Z"
      },
      {
        "duration": 39,
        "start_time": "2022-06-15T09:18:11.495Z"
      },
      {
        "duration": 23,
        "start_time": "2022-06-15T09:18:11.536Z"
      },
      {
        "duration": 145,
        "start_time": "2022-06-15T09:18:11.561Z"
      },
      {
        "duration": 34,
        "start_time": "2022-06-15T09:18:11.708Z"
      },
      {
        "duration": 28,
        "start_time": "2022-06-15T09:18:11.744Z"
      },
      {
        "duration": 16,
        "start_time": "2022-06-15T09:18:11.773Z"
      },
      {
        "duration": 60,
        "start_time": "2022-06-15T09:18:11.791Z"
      },
      {
        "duration": 204,
        "start_time": "2022-06-15T09:18:11.852Z"
      },
      {
        "duration": 216,
        "start_time": "2022-06-15T09:18:12.057Z"
      },
      {
        "duration": 353,
        "start_time": "2022-06-15T09:18:12.275Z"
      },
      {
        "duration": 186,
        "start_time": "2022-06-15T09:18:12.630Z"
      },
      {
        "duration": 205,
        "start_time": "2022-06-15T09:18:12.818Z"
      },
      {
        "duration": 293,
        "start_time": "2022-06-15T09:18:13.024Z"
      },
      {
        "duration": 190,
        "start_time": "2022-06-15T09:18:13.318Z"
      },
      {
        "duration": 235,
        "start_time": "2022-06-15T09:18:13.510Z"
      },
      {
        "duration": 280,
        "start_time": "2022-06-15T09:18:13.747Z"
      },
      {
        "duration": 87,
        "start_time": "2022-06-15T09:18:14.029Z"
      },
      {
        "duration": 36,
        "start_time": "2022-06-15T09:18:14.126Z"
      },
      {
        "duration": 297,
        "start_time": "2022-06-15T09:18:14.164Z"
      },
      {
        "duration": 11,
        "start_time": "2022-06-15T09:18:14.463Z"
      },
      {
        "duration": 46,
        "start_time": "2022-06-15T09:18:14.476Z"
      },
      {
        "duration": 314,
        "start_time": "2022-06-15T09:18:14.524Z"
      },
      {
        "duration": 99,
        "start_time": "2022-06-15T09:21:58.365Z"
      },
      {
        "duration": 30,
        "start_time": "2022-06-15T09:22:04.490Z"
      },
      {
        "duration": 40,
        "start_time": "2022-06-15T09:26:06.695Z"
      },
      {
        "duration": 6,
        "start_time": "2022-06-15T09:27:53.897Z"
      },
      {
        "duration": 11,
        "start_time": "2022-06-15T09:29:31.835Z"
      },
      {
        "duration": 39,
        "start_time": "2022-06-15T09:30:35.187Z"
      },
      {
        "duration": 18,
        "start_time": "2022-06-15T09:30:46.025Z"
      },
      {
        "duration": 15,
        "start_time": "2022-06-15T09:35:54.791Z"
      },
      {
        "duration": 1075,
        "start_time": "2022-06-15T09:53:10.196Z"
      },
      {
        "duration": 187,
        "start_time": "2022-06-15T09:53:11.273Z"
      },
      {
        "duration": 147,
        "start_time": "2022-06-15T09:53:11.462Z"
      },
      {
        "duration": 109,
        "start_time": "2022-06-15T09:53:11.610Z"
      },
      {
        "duration": 35,
        "start_time": "2022-06-15T09:53:11.720Z"
      },
      {
        "duration": 41,
        "start_time": "2022-06-15T09:53:11.757Z"
      },
      {
        "duration": 58,
        "start_time": "2022-06-15T09:53:11.799Z"
      },
      {
        "duration": 80,
        "start_time": "2022-06-15T09:53:11.859Z"
      },
      {
        "duration": 99,
        "start_time": "2022-06-15T09:53:11.940Z"
      },
      {
        "duration": 52,
        "start_time": "2022-06-15T09:53:12.041Z"
      },
      {
        "duration": 10,
        "start_time": "2022-06-15T09:53:12.094Z"
      },
      {
        "duration": 43,
        "start_time": "2022-06-15T09:53:12.105Z"
      },
      {
        "duration": 23,
        "start_time": "2022-06-15T09:53:12.150Z"
      },
      {
        "duration": 14,
        "start_time": "2022-06-15T09:53:12.176Z"
      },
      {
        "duration": 19,
        "start_time": "2022-06-15T09:53:12.192Z"
      },
      {
        "duration": 27,
        "start_time": "2022-06-15T09:53:12.234Z"
      },
      {
        "duration": 146,
        "start_time": "2022-06-15T09:53:12.262Z"
      },
      {
        "duration": 28,
        "start_time": "2022-06-15T09:53:12.409Z"
      },
      {
        "duration": 31,
        "start_time": "2022-06-15T09:53:12.439Z"
      },
      {
        "duration": 16,
        "start_time": "2022-06-15T09:53:12.472Z"
      },
      {
        "duration": 64,
        "start_time": "2022-06-15T09:53:12.490Z"
      },
      {
        "duration": 200,
        "start_time": "2022-06-15T09:53:12.556Z"
      },
      {
        "duration": 218,
        "start_time": "2022-06-15T09:53:12.758Z"
      },
      {
        "duration": 338,
        "start_time": "2022-06-15T09:53:12.978Z"
      },
      {
        "duration": 186,
        "start_time": "2022-06-15T09:53:13.318Z"
      },
      {
        "duration": 206,
        "start_time": "2022-06-15T09:53:13.506Z"
      },
      {
        "duration": 305,
        "start_time": "2022-06-15T09:53:13.713Z"
      },
      {
        "duration": 187,
        "start_time": "2022-06-15T09:53:14.019Z"
      },
      {
        "duration": 216,
        "start_time": "2022-06-15T09:53:14.207Z"
      },
      {
        "duration": 278,
        "start_time": "2022-06-15T09:53:14.430Z"
      },
      {
        "duration": 96,
        "start_time": "2022-06-15T09:53:14.709Z"
      },
      {
        "duration": 44,
        "start_time": "2022-06-15T09:53:14.807Z"
      },
      {
        "duration": 313,
        "start_time": "2022-06-15T09:53:14.853Z"
      },
      {
        "duration": 10,
        "start_time": "2022-06-15T09:53:15.167Z"
      },
      {
        "duration": 51,
        "start_time": "2022-06-15T09:53:15.178Z"
      },
      {
        "duration": 298,
        "start_time": "2022-06-15T09:53:15.238Z"
      },
      {
        "duration": 1121,
        "start_time": "2022-06-15T11:06:08.096Z"
      },
      {
        "duration": 222,
        "start_time": "2022-06-15T11:06:09.219Z"
      },
      {
        "duration": 190,
        "start_time": "2022-06-15T11:06:09.443Z"
      },
      {
        "duration": 107,
        "start_time": "2022-06-15T11:06:09.635Z"
      },
      {
        "duration": 28,
        "start_time": "2022-06-15T11:06:09.744Z"
      },
      {
        "duration": 43,
        "start_time": "2022-06-15T11:06:09.774Z"
      },
      {
        "duration": 58,
        "start_time": "2022-06-15T11:06:09.818Z"
      },
      {
        "duration": 89,
        "start_time": "2022-06-15T11:06:09.877Z"
      },
      {
        "duration": 100,
        "start_time": "2022-06-15T11:06:09.968Z"
      },
      {
        "duration": 80,
        "start_time": "2022-06-15T11:06:10.072Z"
      },
      {
        "duration": 12,
        "start_time": "2022-06-15T11:06:10.154Z"
      },
      {
        "duration": 43,
        "start_time": "2022-06-15T11:06:10.168Z"
      },
      {
        "duration": 35,
        "start_time": "2022-06-15T11:06:10.228Z"
      },
      {
        "duration": 14,
        "start_time": "2022-06-15T11:06:10.266Z"
      },
      {
        "duration": 14,
        "start_time": "2022-06-15T11:06:10.282Z"
      },
      {
        "duration": 52,
        "start_time": "2022-06-15T11:06:10.299Z"
      },
      {
        "duration": 134,
        "start_time": "2022-06-15T11:06:10.353Z"
      },
      {
        "duration": 24,
        "start_time": "2022-06-15T11:06:10.489Z"
      },
      {
        "duration": 46,
        "start_time": "2022-06-15T11:06:10.515Z"
      },
      {
        "duration": 16,
        "start_time": "2022-06-15T11:06:10.563Z"
      },
      {
        "duration": 81,
        "start_time": "2022-06-15T11:06:10.582Z"
      },
      {
        "duration": 220,
        "start_time": "2022-06-15T11:06:10.665Z"
      },
      {
        "duration": 209,
        "start_time": "2022-06-15T11:06:10.887Z"
      },
      {
        "duration": 331,
        "start_time": "2022-06-15T11:06:11.098Z"
      },
      {
        "duration": 185,
        "start_time": "2022-06-15T11:06:11.430Z"
      },
      {
        "duration": 238,
        "start_time": "2022-06-15T11:06:11.617Z"
      },
      {
        "duration": 312,
        "start_time": "2022-06-15T11:06:11.857Z"
      },
      {
        "duration": 195,
        "start_time": "2022-06-15T11:06:12.173Z"
      },
      {
        "duration": 215,
        "start_time": "2022-06-15T11:06:12.369Z"
      },
      {
        "duration": 311,
        "start_time": "2022-06-15T11:06:12.586Z"
      },
      {
        "duration": 96,
        "start_time": "2022-06-15T11:06:12.898Z"
      },
      {
        "duration": 44,
        "start_time": "2022-06-15T11:06:12.996Z"
      },
      {
        "duration": 293,
        "start_time": "2022-06-15T11:06:13.042Z"
      },
      {
        "duration": 11,
        "start_time": "2022-06-15T11:06:13.336Z"
      },
      {
        "duration": 33,
        "start_time": "2022-06-15T11:06:13.348Z"
      },
      {
        "duration": 329,
        "start_time": "2022-06-15T11:06:13.383Z"
      },
      {
        "duration": 1156,
        "start_time": "2022-06-15T11:06:35.879Z"
      },
      {
        "duration": 182,
        "start_time": "2022-06-15T11:06:37.037Z"
      },
      {
        "duration": 163,
        "start_time": "2022-06-15T11:06:37.221Z"
      },
      {
        "duration": 113,
        "start_time": "2022-06-15T11:06:37.386Z"
      },
      {
        "duration": 28,
        "start_time": "2022-06-15T11:06:37.502Z"
      },
      {
        "duration": 51,
        "start_time": "2022-06-15T11:06:37.532Z"
      },
      {
        "duration": 76,
        "start_time": "2022-06-15T11:06:37.586Z"
      },
      {
        "duration": 87,
        "start_time": "2022-06-15T11:06:37.664Z"
      },
      {
        "duration": 101,
        "start_time": "2022-06-15T11:06:37.753Z"
      },
      {
        "duration": 77,
        "start_time": "2022-06-15T11:06:37.856Z"
      },
      {
        "duration": 10,
        "start_time": "2022-06-15T11:06:37.935Z"
      },
      {
        "duration": 33,
        "start_time": "2022-06-15T11:06:37.947Z"
      },
      {
        "duration": 46,
        "start_time": "2022-06-15T11:06:37.982Z"
      },
      {
        "duration": 17,
        "start_time": "2022-06-15T11:06:38.031Z"
      },
      {
        "duration": 18,
        "start_time": "2022-06-15T11:06:38.051Z"
      },
      {
        "duration": 61,
        "start_time": "2022-06-15T11:06:38.071Z"
      },
      {
        "duration": 180,
        "start_time": "2022-06-15T11:06:38.135Z"
      },
      {
        "duration": 25,
        "start_time": "2022-06-15T11:06:38.316Z"
      },
      {
        "duration": 39,
        "start_time": "2022-06-15T11:06:38.343Z"
      },
      {
        "duration": 19,
        "start_time": "2022-06-15T11:06:38.384Z"
      },
      {
        "duration": 43,
        "start_time": "2022-06-15T11:06:38.426Z"
      },
      {
        "duration": 226,
        "start_time": "2022-06-15T11:06:38.471Z"
      },
      {
        "duration": 207,
        "start_time": "2022-06-15T11:06:38.699Z"
      },
      {
        "duration": 303,
        "start_time": "2022-06-15T11:06:38.908Z"
      },
      {
        "duration": 211,
        "start_time": "2022-06-15T11:06:39.212Z"
      },
      {
        "duration": 204,
        "start_time": "2022-06-15T11:06:39.425Z"
      },
      {
        "duration": 296,
        "start_time": "2022-06-15T11:06:39.631Z"
      },
      {
        "duration": 210,
        "start_time": "2022-06-15T11:06:39.930Z"
      },
      {
        "duration": 253,
        "start_time": "2022-06-15T11:06:40.142Z"
      },
      {
        "duration": 359,
        "start_time": "2022-06-15T11:06:40.397Z"
      },
      {
        "duration": 94,
        "start_time": "2022-06-15T11:06:40.759Z"
      },
      {
        "duration": 34,
        "start_time": "2022-06-15T11:06:40.855Z"
      },
      {
        "duration": 322,
        "start_time": "2022-06-15T11:06:40.891Z"
      },
      {
        "duration": 18,
        "start_time": "2022-06-15T11:06:41.215Z"
      },
      {
        "duration": 34,
        "start_time": "2022-06-15T11:06:41.235Z"
      },
      {
        "duration": 362,
        "start_time": "2022-06-15T11:06:41.270Z"
      },
      {
        "duration": 1146,
        "start_time": "2022-06-15T11:07:16.235Z"
      },
      {
        "duration": 187,
        "start_time": "2022-06-15T11:07:17.383Z"
      },
      {
        "duration": 150,
        "start_time": "2022-06-15T11:07:17.572Z"
      },
      {
        "duration": 104,
        "start_time": "2022-06-15T11:07:17.727Z"
      },
      {
        "duration": 27,
        "start_time": "2022-06-15T11:07:17.833Z"
      },
      {
        "duration": 42,
        "start_time": "2022-06-15T11:07:17.862Z"
      },
      {
        "duration": 56,
        "start_time": "2022-06-15T11:07:17.906Z"
      },
      {
        "duration": 84,
        "start_time": "2022-06-15T11:07:17.964Z"
      },
      {
        "duration": 103,
        "start_time": "2022-06-15T11:07:18.050Z"
      },
      {
        "duration": 52,
        "start_time": "2022-06-15T11:07:18.155Z"
      },
      {
        "duration": 26,
        "start_time": "2022-06-15T11:07:18.209Z"
      },
      {
        "duration": 32,
        "start_time": "2022-06-15T11:07:18.237Z"
      },
      {
        "duration": 23,
        "start_time": "2022-06-15T11:07:18.271Z"
      },
      {
        "duration": 37,
        "start_time": "2022-06-15T11:07:18.298Z"
      },
      {
        "duration": 14,
        "start_time": "2022-06-15T11:07:18.337Z"
      },
      {
        "duration": 32,
        "start_time": "2022-06-15T11:07:18.353Z"
      },
      {
        "duration": 195,
        "start_time": "2022-06-15T11:07:18.388Z"
      },
      {
        "duration": 19,
        "start_time": "2022-06-15T11:07:18.585Z"
      },
      {
        "duration": 36,
        "start_time": "2022-06-15T11:07:18.606Z"
      },
      {
        "duration": 23,
        "start_time": "2022-06-15T11:07:18.644Z"
      },
      {
        "duration": 65,
        "start_time": "2022-06-15T11:07:18.669Z"
      },
      {
        "duration": 213,
        "start_time": "2022-06-15T11:07:18.736Z"
      },
      {
        "duration": 207,
        "start_time": "2022-06-15T11:07:18.951Z"
      },
      {
        "duration": 315,
        "start_time": "2022-06-15T11:07:19.160Z"
      },
      {
        "duration": 190,
        "start_time": "2022-06-15T11:07:19.478Z"
      },
      {
        "duration": 204,
        "start_time": "2022-06-15T11:07:19.670Z"
      },
      {
        "duration": 315,
        "start_time": "2022-06-15T11:07:19.876Z"
      },
      {
        "duration": 181,
        "start_time": "2022-06-15T11:07:20.192Z"
      },
      {
        "duration": 217,
        "start_time": "2022-06-15T11:07:20.374Z"
      },
      {
        "duration": 313,
        "start_time": "2022-06-15T11:07:20.594Z"
      },
      {
        "duration": 93,
        "start_time": "2022-06-15T11:07:20.909Z"
      },
      {
        "duration": 42,
        "start_time": "2022-06-15T11:07:21.003Z"
      },
      {
        "duration": 301,
        "start_time": "2022-06-15T11:07:21.046Z"
      },
      {
        "duration": 10,
        "start_time": "2022-06-15T11:07:21.350Z"
      },
      {
        "duration": 38,
        "start_time": "2022-06-15T11:07:21.362Z"
      },
      {
        "duration": 304,
        "start_time": "2022-06-15T11:07:21.401Z"
      },
      {
        "duration": 47,
        "start_time": "2022-06-15T19:56:39.747Z"
      },
      {
        "duration": 1889,
        "start_time": "2022-06-15T19:56:43.914Z"
      },
      {
        "duration": 514,
        "start_time": "2022-06-15T19:56:45.805Z"
      },
      {
        "duration": 345,
        "start_time": "2022-06-15T19:56:46.321Z"
      },
      {
        "duration": 311,
        "start_time": "2022-06-15T19:56:46.668Z"
      },
      {
        "duration": 76,
        "start_time": "2022-06-15T19:56:46.981Z"
      },
      {
        "duration": 64,
        "start_time": "2022-06-15T19:56:47.059Z"
      },
      {
        "duration": 60,
        "start_time": "2022-06-15T19:56:47.125Z"
      },
      {
        "duration": 83,
        "start_time": "2022-06-15T19:56:47.187Z"
      },
      {
        "duration": 115,
        "start_time": "2022-06-15T19:56:47.272Z"
      },
      {
        "duration": 55,
        "start_time": "2022-06-15T19:56:47.396Z"
      },
      {
        "duration": 10,
        "start_time": "2022-06-15T19:56:47.453Z"
      },
      {
        "duration": 59,
        "start_time": "2022-06-15T19:56:47.464Z"
      },
      {
        "duration": 25,
        "start_time": "2022-06-15T19:56:47.525Z"
      },
      {
        "duration": 42,
        "start_time": "2022-06-15T19:56:47.552Z"
      },
      {
        "duration": 15,
        "start_time": "2022-06-15T19:56:47.597Z"
      },
      {
        "duration": 26,
        "start_time": "2022-06-15T19:56:47.614Z"
      },
      {
        "duration": 170,
        "start_time": "2022-06-15T19:56:47.642Z"
      },
      {
        "duration": 27,
        "start_time": "2022-06-15T19:56:47.814Z"
      },
      {
        "duration": 5,
        "start_time": "2022-06-15T19:56:47.842Z"
      },
      {
        "duration": 47,
        "start_time": "2022-06-15T19:56:47.849Z"
      },
      {
        "duration": 17,
        "start_time": "2022-06-15T19:56:47.898Z"
      },
      {
        "duration": 41,
        "start_time": "2022-06-15T19:56:47.917Z"
      },
      {
        "duration": 249,
        "start_time": "2022-06-15T19:56:47.960Z"
      },
      {
        "duration": 231,
        "start_time": "2022-06-15T19:56:48.211Z"
      },
      {
        "duration": 391,
        "start_time": "2022-06-15T19:56:48.444Z"
      },
      {
        "duration": 221,
        "start_time": "2022-06-15T19:56:48.838Z"
      },
      {
        "duration": 274,
        "start_time": "2022-06-15T19:56:49.062Z"
      },
      {
        "duration": 331,
        "start_time": "2022-06-15T19:56:49.341Z"
      },
      {
        "duration": 197,
        "start_time": "2022-06-15T19:56:49.673Z"
      },
      {
        "duration": 229,
        "start_time": "2022-06-15T19:56:49.871Z"
      },
      {
        "duration": 295,
        "start_time": "2022-06-15T19:56:50.102Z"
      },
      {
        "duration": 100,
        "start_time": "2022-06-15T19:56:50.399Z"
      },
      {
        "duration": 36,
        "start_time": "2022-06-15T19:56:50.501Z"
      },
      {
        "duration": 331,
        "start_time": "2022-06-15T19:56:50.539Z"
      },
      {
        "duration": 22,
        "start_time": "2022-06-15T19:56:50.872Z"
      },
      {
        "duration": 36,
        "start_time": "2022-06-15T19:56:50.896Z"
      },
      {
        "duration": 338,
        "start_time": "2022-06-15T19:56:50.934Z"
      },
      {
        "duration": 6,
        "start_time": "2022-06-15T20:02:52.522Z"
      },
      {
        "duration": 118,
        "start_time": "2022-06-15T20:03:12.811Z"
      },
      {
        "duration": 4,
        "start_time": "2022-06-15T20:03:21.138Z"
      },
      {
        "duration": 5,
        "start_time": "2022-06-15T20:03:31.324Z"
      },
      {
        "duration": 306,
        "start_time": "2022-06-15T20:03:39.318Z"
      },
      {
        "duration": 205,
        "start_time": "2022-06-15T20:03:55.709Z"
      },
      {
        "duration": 264,
        "start_time": "2022-06-15T20:04:02.189Z"
      },
      {
        "duration": 50,
        "start_time": "2022-06-15T20:04:06.181Z"
      },
      {
        "duration": 1254,
        "start_time": "2022-06-15T20:04:28.695Z"
      },
      {
        "duration": 220,
        "start_time": "2022-06-15T20:04:29.952Z"
      },
      {
        "duration": 184,
        "start_time": "2022-06-15T20:04:30.174Z"
      },
      {
        "duration": 133,
        "start_time": "2022-06-15T20:04:30.361Z"
      },
      {
        "duration": 28,
        "start_time": "2022-06-15T20:04:30.496Z"
      },
      {
        "duration": 50,
        "start_time": "2022-06-15T20:04:30.526Z"
      },
      {
        "duration": 81,
        "start_time": "2022-06-15T20:04:30.579Z"
      },
      {
        "duration": 127,
        "start_time": "2022-06-15T20:04:30.662Z"
      },
      {
        "duration": 126,
        "start_time": "2022-06-15T20:04:30.790Z"
      },
      {
        "duration": 59,
        "start_time": "2022-06-15T20:04:30.919Z"
      },
      {
        "duration": 25,
        "start_time": "2022-06-15T20:04:30.980Z"
      },
      {
        "duration": 52,
        "start_time": "2022-06-15T20:04:31.007Z"
      },
      {
        "duration": 49,
        "start_time": "2022-06-15T20:04:31.061Z"
      },
      {
        "duration": 20,
        "start_time": "2022-06-15T20:04:31.112Z"
      },
      {
        "duration": 30,
        "start_time": "2022-06-15T20:04:31.134Z"
      },
      {
        "duration": 52,
        "start_time": "2022-06-15T20:04:31.166Z"
      },
      {
        "duration": 166,
        "start_time": "2022-06-15T20:04:31.220Z"
      },
      {
        "duration": 27,
        "start_time": "2022-06-15T20:04:31.393Z"
      },
      {
        "duration": 16,
        "start_time": "2022-06-15T20:04:31.422Z"
      },
      {
        "duration": 63,
        "start_time": "2022-06-15T20:04:31.440Z"
      },
      {
        "duration": 21,
        "start_time": "2022-06-15T20:04:31.506Z"
      },
      {
        "duration": 73,
        "start_time": "2022-06-15T20:04:31.529Z"
      },
      {
        "duration": 241,
        "start_time": "2022-06-15T20:04:31.604Z"
      },
      {
        "duration": 310,
        "start_time": "2022-06-15T20:04:31.847Z"
      },
      {
        "duration": 338,
        "start_time": "2022-06-15T20:04:32.159Z"
      },
      {
        "duration": 222,
        "start_time": "2022-06-15T20:04:32.499Z"
      },
      {
        "duration": 238,
        "start_time": "2022-06-15T20:04:32.723Z"
      },
      {
        "duration": 331,
        "start_time": "2022-06-15T20:04:32.965Z"
      },
      {
        "duration": 200,
        "start_time": "2022-06-15T20:04:33.298Z"
      },
      {
        "duration": 232,
        "start_time": "2022-06-15T20:04:33.500Z"
      },
      {
        "duration": 363,
        "start_time": "2022-06-15T20:04:33.734Z"
      },
      {
        "duration": 104,
        "start_time": "2022-06-15T20:04:34.099Z"
      },
      {
        "duration": 41,
        "start_time": "2022-06-15T20:04:34.205Z"
      },
      {
        "duration": 348,
        "start_time": "2022-06-15T20:04:34.248Z"
      },
      {
        "duration": 13,
        "start_time": "2022-06-15T20:04:34.598Z"
      },
      {
        "duration": 44,
        "start_time": "2022-06-15T20:04:34.613Z"
      },
      {
        "duration": 368,
        "start_time": "2022-06-15T20:04:34.659Z"
      },
      {
        "duration": 4,
        "start_time": "2022-06-15T20:04:35.029Z"
      },
      {
        "duration": 233,
        "start_time": "2022-06-15T20:04:35.036Z"
      },
      {
        "duration": 224,
        "start_time": "2022-06-15T20:04:35.271Z"
      },
      {
        "duration": 212,
        "start_time": "2022-06-15T20:04:35.497Z"
      },
      {
        "duration": 49,
        "start_time": "2022-06-15T20:04:35.711Z"
      },
      {
        "duration": 5,
        "start_time": "2022-06-15T20:06:16.117Z"
      },
      {
        "duration": 152,
        "start_time": "2022-06-15T20:07:18.689Z"
      },
      {
        "duration": 41,
        "start_time": "2022-06-15T20:07:24.907Z"
      },
      {
        "duration": 34,
        "start_time": "2022-06-15T20:07:31.749Z"
      },
      {
        "duration": 40,
        "start_time": "2022-06-15T20:07:49.969Z"
      },
      {
        "duration": 47,
        "start_time": "2022-06-15T20:07:58.618Z"
      },
      {
        "duration": 44,
        "start_time": "2022-06-15T20:08:03.089Z"
      },
      {
        "duration": 42,
        "start_time": "2022-06-15T20:08:07.152Z"
      },
      {
        "duration": 50,
        "start_time": "2022-06-15T20:08:10.786Z"
      },
      {
        "duration": 1110,
        "start_time": "2022-06-15T20:08:45.538Z"
      },
      {
        "duration": 202,
        "start_time": "2022-06-15T20:08:46.651Z"
      },
      {
        "duration": 158,
        "start_time": "2022-06-15T20:08:46.855Z"
      },
      {
        "duration": 112,
        "start_time": "2022-06-15T20:08:47.014Z"
      },
      {
        "duration": 27,
        "start_time": "2022-06-15T20:08:47.128Z"
      },
      {
        "duration": 39,
        "start_time": "2022-06-15T20:08:47.157Z"
      },
      {
        "duration": 59,
        "start_time": "2022-06-15T20:08:47.198Z"
      },
      {
        "duration": 103,
        "start_time": "2022-06-15T20:08:47.259Z"
      },
      {
        "duration": 102,
        "start_time": "2022-06-15T20:08:47.364Z"
      },
      {
        "duration": 64,
        "start_time": "2022-06-15T20:08:47.468Z"
      },
      {
        "duration": 10,
        "start_time": "2022-06-15T20:08:47.534Z"
      },
      {
        "duration": 35,
        "start_time": "2022-06-15T20:08:47.546Z"
      },
      {
        "duration": 24,
        "start_time": "2022-06-15T20:08:47.594Z"
      },
      {
        "duration": 17,
        "start_time": "2022-06-15T20:08:47.621Z"
      },
      {
        "duration": 14,
        "start_time": "2022-06-15T20:08:47.640Z"
      },
      {
        "duration": 60,
        "start_time": "2022-06-15T20:08:47.656Z"
      },
      {
        "duration": 134,
        "start_time": "2022-06-15T20:08:47.718Z"
      },
      {
        "duration": 17,
        "start_time": "2022-06-15T20:08:47.854Z"
      },
      {
        "duration": 22,
        "start_time": "2022-06-15T20:08:47.872Z"
      },
      {
        "duration": 26,
        "start_time": "2022-06-15T20:08:47.896Z"
      },
      {
        "duration": 17,
        "start_time": "2022-06-15T20:08:47.924Z"
      },
      {
        "duration": 68,
        "start_time": "2022-06-15T20:08:47.942Z"
      },
      {
        "duration": 226,
        "start_time": "2022-06-15T20:08:48.011Z"
      },
      {
        "duration": 221,
        "start_time": "2022-06-15T20:08:48.239Z"
      },
      {
        "duration": 316,
        "start_time": "2022-06-15T20:08:48.461Z"
      },
      {
        "duration": 239,
        "start_time": "2022-06-15T20:08:48.779Z"
      },
      {
        "duration": 258,
        "start_time": "2022-06-15T20:08:49.021Z"
      },
      {
        "duration": 301,
        "start_time": "2022-06-15T20:08:49.281Z"
      },
      {
        "duration": 195,
        "start_time": "2022-06-15T20:08:49.584Z"
      },
      {
        "duration": 220,
        "start_time": "2022-06-15T20:08:49.781Z"
      },
      {
        "duration": 303,
        "start_time": "2022-06-15T20:08:50.003Z"
      },
      {
        "duration": 164,
        "start_time": "2022-06-15T20:08:50.307Z"
      },
      {
        "duration": 24,
        "start_time": "2022-06-15T20:08:50.473Z"
      },
      {
        "duration": 34,
        "start_time": "2022-06-15T20:08:50.498Z"
      },
      {
        "duration": 364,
        "start_time": "2022-06-15T20:08:50.534Z"
      },
      {
        "duration": 13,
        "start_time": "2022-06-15T20:08:50.901Z"
      },
      {
        "duration": 41,
        "start_time": "2022-06-15T20:08:50.915Z"
      },
      {
        "duration": 350,
        "start_time": "2022-06-15T20:08:50.958Z"
      },
      {
        "duration": 4,
        "start_time": "2022-06-15T20:08:51.310Z"
      },
      {
        "duration": 222,
        "start_time": "2022-06-15T20:08:51.316Z"
      },
      {
        "duration": 217,
        "start_time": "2022-06-15T20:08:51.541Z"
      },
      {
        "duration": 199,
        "start_time": "2022-06-15T20:08:51.760Z"
      },
      {
        "duration": 50,
        "start_time": "2022-06-15T20:08:51.960Z"
      },
      {
        "duration": 1172,
        "start_time": "2022-06-15T21:54:28.085Z"
      },
      {
        "duration": 491,
        "start_time": "2022-06-15T21:54:29.259Z"
      },
      {
        "duration": 399,
        "start_time": "2022-06-15T21:54:29.752Z"
      },
      {
        "duration": 150,
        "start_time": "2022-06-15T21:54:30.153Z"
      },
      {
        "duration": 66,
        "start_time": "2022-06-15T21:54:30.305Z"
      },
      {
        "duration": 67,
        "start_time": "2022-06-15T21:54:30.373Z"
      },
      {
        "duration": 50,
        "start_time": "2022-06-15T21:54:30.442Z"
      },
      {
        "duration": 70,
        "start_time": "2022-06-15T21:54:30.493Z"
      },
      {
        "duration": 92,
        "start_time": "2022-06-15T21:54:30.564Z"
      },
      {
        "duration": 59,
        "start_time": "2022-06-15T21:54:30.657Z"
      },
      {
        "duration": 9,
        "start_time": "2022-06-15T21:54:30.717Z"
      },
      {
        "duration": 41,
        "start_time": "2022-06-15T21:54:30.727Z"
      },
      {
        "duration": 16,
        "start_time": "2022-06-15T21:54:30.770Z"
      },
      {
        "duration": 15,
        "start_time": "2022-06-15T21:54:30.792Z"
      },
      {
        "duration": 10,
        "start_time": "2022-06-15T21:54:30.808Z"
      },
      {
        "duration": 21,
        "start_time": "2022-06-15T21:54:30.820Z"
      },
      {
        "duration": 141,
        "start_time": "2022-06-15T21:54:30.842Z"
      },
      {
        "duration": 19,
        "start_time": "2022-06-15T21:54:30.985Z"
      },
      {
        "duration": 3,
        "start_time": "2022-06-15T21:54:31.006Z"
      },
      {
        "duration": 25,
        "start_time": "2022-06-15T21:54:31.010Z"
      },
      {
        "duration": 14,
        "start_time": "2022-06-15T21:54:31.036Z"
      },
      {
        "duration": 57,
        "start_time": "2022-06-15T21:54:31.051Z"
      },
      {
        "duration": 175,
        "start_time": "2022-06-15T21:54:31.109Z"
      },
      {
        "duration": 182,
        "start_time": "2022-06-15T21:54:31.290Z"
      },
      {
        "duration": 340,
        "start_time": "2022-06-15T21:54:31.473Z"
      },
      {
        "duration": 183,
        "start_time": "2022-06-15T21:54:31.814Z"
      },
      {
        "duration": 182,
        "start_time": "2022-06-15T21:54:31.999Z"
      },
      {
        "duration": 271,
        "start_time": "2022-06-15T21:54:32.182Z"
      },
      {
        "duration": 164,
        "start_time": "2022-06-15T21:54:32.454Z"
      },
      {
        "duration": 190,
        "start_time": "2022-06-15T21:54:32.620Z"
      },
      {
        "duration": 246,
        "start_time": "2022-06-15T21:54:32.813Z"
      },
      {
        "duration": 139,
        "start_time": "2022-06-15T21:54:33.060Z"
      },
      {
        "duration": 10,
        "start_time": "2022-06-15T21:54:33.201Z"
      },
      {
        "duration": 28,
        "start_time": "2022-06-15T21:54:33.213Z"
      },
      {
        "duration": 300,
        "start_time": "2022-06-15T21:54:33.242Z"
      },
      {
        "duration": 9,
        "start_time": "2022-06-15T21:54:33.543Z"
      },
      {
        "duration": 43,
        "start_time": "2022-06-15T21:54:33.553Z"
      },
      {
        "duration": 266,
        "start_time": "2022-06-15T21:54:33.598Z"
      },
      {
        "duration": 3,
        "start_time": "2022-06-15T21:54:33.865Z"
      },
      {
        "duration": 186,
        "start_time": "2022-06-15T21:54:33.869Z"
      },
      {
        "duration": 184,
        "start_time": "2022-06-15T21:54:34.057Z"
      },
      {
        "duration": 171,
        "start_time": "2022-06-15T21:54:34.243Z"
      },
      {
        "duration": 49,
        "start_time": "2022-06-15T21:54:34.415Z"
      },
      {
        "duration": 45,
        "start_time": "2022-06-16T05:39:45.117Z"
      },
      {
        "duration": 1160,
        "start_time": "2022-06-16T05:40:44.068Z"
      },
      {
        "duration": 509,
        "start_time": "2022-06-16T05:40:45.230Z"
      },
      {
        "duration": 389,
        "start_time": "2022-06-16T05:40:45.741Z"
      },
      {
        "duration": 142,
        "start_time": "2022-06-16T05:40:46.131Z"
      },
      {
        "duration": 63,
        "start_time": "2022-06-16T05:40:46.275Z"
      },
      {
        "duration": 66,
        "start_time": "2022-06-16T05:40:46.339Z"
      },
      {
        "duration": 51,
        "start_time": "2022-06-16T05:40:46.406Z"
      },
      {
        "duration": 95,
        "start_time": "2022-06-16T05:40:46.459Z"
      },
      {
        "duration": 5,
        "start_time": "2022-06-16T05:40:46.556Z"
      },
      {
        "duration": 0,
        "start_time": "2022-06-16T05:40:46.563Z"
      },
      {
        "duration": 0,
        "start_time": "2022-06-16T05:40:46.564Z"
      },
      {
        "duration": 0,
        "start_time": "2022-06-16T05:40:46.565Z"
      },
      {
        "duration": 0,
        "start_time": "2022-06-16T05:40:46.566Z"
      },
      {
        "duration": 0,
        "start_time": "2022-06-16T05:40:46.568Z"
      },
      {
        "duration": 0,
        "start_time": "2022-06-16T05:40:46.569Z"
      },
      {
        "duration": 0,
        "start_time": "2022-06-16T05:40:46.571Z"
      },
      {
        "duration": 0,
        "start_time": "2022-06-16T05:40:46.572Z"
      },
      {
        "duration": 0,
        "start_time": "2022-06-16T05:40:46.573Z"
      },
      {
        "duration": 0,
        "start_time": "2022-06-16T05:40:46.574Z"
      },
      {
        "duration": 0,
        "start_time": "2022-06-16T05:40:46.576Z"
      },
      {
        "duration": 0,
        "start_time": "2022-06-16T05:40:46.577Z"
      },
      {
        "duration": 0,
        "start_time": "2022-06-16T05:40:46.579Z"
      },
      {
        "duration": 0,
        "start_time": "2022-06-16T05:40:46.580Z"
      },
      {
        "duration": 0,
        "start_time": "2022-06-16T05:40:46.581Z"
      },
      {
        "duration": 0,
        "start_time": "2022-06-16T05:40:46.631Z"
      },
      {
        "duration": 0,
        "start_time": "2022-06-16T05:40:46.634Z"
      },
      {
        "duration": 0,
        "start_time": "2022-06-16T05:40:46.636Z"
      },
      {
        "duration": 0,
        "start_time": "2022-06-16T05:40:46.638Z"
      },
      {
        "duration": 0,
        "start_time": "2022-06-16T05:40:46.640Z"
      },
      {
        "duration": 0,
        "start_time": "2022-06-16T05:40:46.642Z"
      },
      {
        "duration": 0,
        "start_time": "2022-06-16T05:40:46.643Z"
      },
      {
        "duration": 0,
        "start_time": "2022-06-16T05:40:46.644Z"
      },
      {
        "duration": 0,
        "start_time": "2022-06-16T05:40:46.645Z"
      },
      {
        "duration": 0,
        "start_time": "2022-06-16T05:40:46.647Z"
      },
      {
        "duration": 0,
        "start_time": "2022-06-16T05:40:46.648Z"
      },
      {
        "duration": 0,
        "start_time": "2022-06-16T05:40:46.649Z"
      },
      {
        "duration": 0,
        "start_time": "2022-06-16T05:40:46.651Z"
      },
      {
        "duration": 0,
        "start_time": "2022-06-16T05:40:46.652Z"
      },
      {
        "duration": 0,
        "start_time": "2022-06-16T05:40:46.653Z"
      },
      {
        "duration": 0,
        "start_time": "2022-06-16T05:40:46.655Z"
      },
      {
        "duration": 0,
        "start_time": "2022-06-16T05:40:46.656Z"
      },
      {
        "duration": 0,
        "start_time": "2022-06-16T05:40:46.657Z"
      },
      {
        "duration": 0,
        "start_time": "2022-06-16T05:40:46.659Z"
      },
      {
        "duration": 0,
        "start_time": "2022-06-16T05:40:46.660Z"
      },
      {
        "duration": 4,
        "start_time": "2022-06-16T05:41:17.238Z"
      },
      {
        "duration": 982,
        "start_time": "2022-06-16T05:57:20.187Z"
      },
      {
        "duration": 174,
        "start_time": "2022-06-16T05:57:21.171Z"
      },
      {
        "duration": 133,
        "start_time": "2022-06-16T05:57:21.347Z"
      },
      {
        "duration": 97,
        "start_time": "2022-06-16T05:57:21.482Z"
      },
      {
        "duration": 25,
        "start_time": "2022-06-16T05:57:21.580Z"
      },
      {
        "duration": 37,
        "start_time": "2022-06-16T05:57:21.606Z"
      },
      {
        "duration": 48,
        "start_time": "2022-06-16T05:57:21.644Z"
      },
      {
        "duration": 82,
        "start_time": "2022-06-16T05:57:21.693Z"
      },
      {
        "duration": 87,
        "start_time": "2022-06-16T05:57:21.776Z"
      },
      {
        "duration": 60,
        "start_time": "2022-06-16T05:57:21.865Z"
      },
      {
        "duration": 8,
        "start_time": "2022-06-16T05:57:21.926Z"
      },
      {
        "duration": 29,
        "start_time": "2022-06-16T05:57:21.936Z"
      },
      {
        "duration": 19,
        "start_time": "2022-06-16T05:57:21.966Z"
      },
      {
        "duration": 41,
        "start_time": "2022-06-16T05:57:21.986Z"
      },
      {
        "duration": 11,
        "start_time": "2022-06-16T05:57:22.028Z"
      },
      {
        "duration": 21,
        "start_time": "2022-06-16T05:57:22.041Z"
      },
      {
        "duration": 142,
        "start_time": "2022-06-16T05:57:22.063Z"
      },
      {
        "duration": 19,
        "start_time": "2022-06-16T05:57:22.207Z"
      },
      {
        "duration": 4,
        "start_time": "2022-06-16T05:57:22.227Z"
      },
      {
        "duration": 24,
        "start_time": "2022-06-16T05:57:22.232Z"
      },
      {
        "duration": 14,
        "start_time": "2022-06-16T05:57:22.257Z"
      },
      {
        "duration": 61,
        "start_time": "2022-06-16T05:57:22.272Z"
      },
      {
        "duration": 182,
        "start_time": "2022-06-16T05:57:22.334Z"
      },
      {
        "duration": 188,
        "start_time": "2022-06-16T05:57:22.518Z"
      },
      {
        "duration": 286,
        "start_time": "2022-06-16T05:57:22.707Z"
      },
      {
        "duration": 178,
        "start_time": "2022-06-16T05:57:22.994Z"
      },
      {
        "duration": 183,
        "start_time": "2022-06-16T05:57:23.173Z"
      },
      {
        "duration": 243,
        "start_time": "2022-06-16T05:57:23.359Z"
      },
      {
        "duration": 185,
        "start_time": "2022-06-16T05:57:23.603Z"
      },
      {
        "duration": 197,
        "start_time": "2022-06-16T05:57:23.790Z"
      },
      {
        "duration": 291,
        "start_time": "2022-06-16T05:57:23.989Z"
      },
      {
        "duration": 135,
        "start_time": "2022-06-16T05:57:24.282Z"
      },
      {
        "duration": 9,
        "start_time": "2022-06-16T05:57:24.425Z"
      },
      {
        "duration": 42,
        "start_time": "2022-06-16T05:57:24.436Z"
      },
      {
        "duration": 310,
        "start_time": "2022-06-16T05:57:24.480Z"
      },
      {
        "duration": 12,
        "start_time": "2022-06-16T05:57:24.791Z"
      },
      {
        "duration": 50,
        "start_time": "2022-06-16T05:57:24.804Z"
      },
      {
        "duration": 272,
        "start_time": "2022-06-16T05:57:24.856Z"
      },
      {
        "duration": 3,
        "start_time": "2022-06-16T05:57:25.129Z"
      },
      {
        "duration": 193,
        "start_time": "2022-06-16T05:57:25.134Z"
      },
      {
        "duration": 183,
        "start_time": "2022-06-16T05:57:25.328Z"
      },
      {
        "duration": 180,
        "start_time": "2022-06-16T05:57:25.513Z"
      },
      {
        "duration": 48,
        "start_time": "2022-06-16T05:57:25.694Z"
      },
      {
        "duration": 1006,
        "start_time": "2022-06-16T05:58:03.360Z"
      },
      {
        "duration": 172,
        "start_time": "2022-06-16T05:58:04.368Z"
      },
      {
        "duration": 131,
        "start_time": "2022-06-16T05:58:04.541Z"
      },
      {
        "duration": 98,
        "start_time": "2022-06-16T05:58:04.674Z"
      },
      {
        "duration": 25,
        "start_time": "2022-06-16T05:58:04.773Z"
      },
      {
        "duration": 36,
        "start_time": "2022-06-16T05:58:04.799Z"
      },
      {
        "duration": 50,
        "start_time": "2022-06-16T05:58:04.836Z"
      },
      {
        "duration": 88,
        "start_time": "2022-06-16T05:58:04.888Z"
      },
      {
        "duration": 92,
        "start_time": "2022-06-16T05:58:04.977Z"
      },
      {
        "duration": 65,
        "start_time": "2022-06-16T05:58:05.072Z"
      },
      {
        "duration": 10,
        "start_time": "2022-06-16T05:58:05.138Z"
      },
      {
        "duration": 27,
        "start_time": "2022-06-16T05:58:05.149Z"
      },
      {
        "duration": 20,
        "start_time": "2022-06-16T05:58:05.178Z"
      },
      {
        "duration": 16,
        "start_time": "2022-06-16T05:58:05.225Z"
      },
      {
        "duration": 13,
        "start_time": "2022-06-16T05:58:05.243Z"
      },
      {
        "duration": 25,
        "start_time": "2022-06-16T05:58:05.258Z"
      },
      {
        "duration": 165,
        "start_time": "2022-06-16T05:58:05.285Z"
      },
      {
        "duration": 17,
        "start_time": "2022-06-16T05:58:05.451Z"
      },
      {
        "duration": 4,
        "start_time": "2022-06-16T05:58:05.469Z"
      },
      {
        "duration": 24,
        "start_time": "2022-06-16T05:58:05.474Z"
      },
      {
        "duration": 40,
        "start_time": "2022-06-16T05:58:05.499Z"
      },
      {
        "duration": 35,
        "start_time": "2022-06-16T05:58:05.541Z"
      },
      {
        "duration": 223,
        "start_time": "2022-06-16T05:58:05.578Z"
      },
      {
        "duration": 205,
        "start_time": "2022-06-16T05:58:05.803Z"
      },
      {
        "duration": 300,
        "start_time": "2022-06-16T05:58:06.010Z"
      },
      {
        "duration": 194,
        "start_time": "2022-06-16T05:58:06.311Z"
      },
      {
        "duration": 247,
        "start_time": "2022-06-16T05:58:06.507Z"
      },
      {
        "duration": 316,
        "start_time": "2022-06-16T05:58:06.758Z"
      },
      {
        "duration": 175,
        "start_time": "2022-06-16T05:58:07.076Z"
      },
      {
        "duration": 203,
        "start_time": "2022-06-16T05:58:07.252Z"
      },
      {
        "duration": 282,
        "start_time": "2022-06-16T05:58:07.457Z"
      },
      {
        "duration": 156,
        "start_time": "2022-06-16T05:58:07.740Z"
      },
      {
        "duration": 11,
        "start_time": "2022-06-16T05:58:07.897Z"
      },
      {
        "duration": 29,
        "start_time": "2022-06-16T05:58:07.925Z"
      },
      {
        "duration": 294,
        "start_time": "2022-06-16T05:58:07.956Z"
      },
      {
        "duration": 10,
        "start_time": "2022-06-16T05:58:08.252Z"
      },
      {
        "duration": 34,
        "start_time": "2022-06-16T05:58:08.264Z"
      },
      {
        "duration": 301,
        "start_time": "2022-06-16T05:58:08.300Z"
      },
      {
        "duration": 2,
        "start_time": "2022-06-16T05:58:08.603Z"
      },
      {
        "duration": 213,
        "start_time": "2022-06-16T05:58:08.607Z"
      },
      {
        "duration": 220,
        "start_time": "2022-06-16T05:58:08.825Z"
      },
      {
        "duration": 219,
        "start_time": "2022-06-16T05:58:09.047Z"
      },
      {
        "duration": 52,
        "start_time": "2022-06-16T05:58:09.268Z"
      },
      {
        "duration": 30,
        "start_time": "2022-06-16T07:32:21.500Z"
      },
      {
        "duration": 47,
        "start_time": "2022-06-16T07:32:27.419Z"
      },
      {
        "duration": 7,
        "start_time": "2022-06-16T07:32:35.030Z"
      },
      {
        "duration": 1144,
        "start_time": "2022-06-16T07:32:54.041Z"
      },
      {
        "duration": 513,
        "start_time": "2022-06-16T07:32:55.187Z"
      },
      {
        "duration": 385,
        "start_time": "2022-06-16T07:32:55.702Z"
      },
      {
        "duration": 141,
        "start_time": "2022-06-16T07:32:56.088Z"
      },
      {
        "duration": 67,
        "start_time": "2022-06-16T07:32:56.230Z"
      },
      {
        "duration": 66,
        "start_time": "2022-06-16T07:32:56.299Z"
      },
      {
        "duration": 47,
        "start_time": "2022-06-16T07:32:56.366Z"
      },
      {
        "duration": 66,
        "start_time": "2022-06-16T07:32:56.415Z"
      },
      {
        "duration": 85,
        "start_time": "2022-06-16T07:32:56.483Z"
      },
      {
        "duration": 55,
        "start_time": "2022-06-16T07:32:56.570Z"
      },
      {
        "duration": 9,
        "start_time": "2022-06-16T07:32:56.626Z"
      },
      {
        "duration": 25,
        "start_time": "2022-06-16T07:32:56.637Z"
      },
      {
        "duration": 43,
        "start_time": "2022-06-16T07:32:56.664Z"
      },
      {
        "duration": 15,
        "start_time": "2022-06-16T07:32:56.709Z"
      },
      {
        "duration": 11,
        "start_time": "2022-06-16T07:32:56.726Z"
      },
      {
        "duration": 22,
        "start_time": "2022-06-16T07:32:56.739Z"
      },
      {
        "duration": 150,
        "start_time": "2022-06-16T07:32:56.763Z"
      },
      {
        "duration": 15,
        "start_time": "2022-06-16T07:32:56.914Z"
      },
      {
        "duration": 4,
        "start_time": "2022-06-16T07:32:56.931Z"
      },
      {
        "duration": 19,
        "start_time": "2022-06-16T07:32:56.937Z"
      },
      {
        "duration": 46,
        "start_time": "2022-06-16T07:32:56.958Z"
      },
      {
        "duration": 32,
        "start_time": "2022-06-16T07:32:57.006Z"
      },
      {
        "duration": 194,
        "start_time": "2022-06-16T07:32:57.040Z"
      },
      {
        "duration": 238,
        "start_time": "2022-06-16T07:32:57.236Z"
      },
      {
        "duration": 326,
        "start_time": "2022-06-16T07:32:57.476Z"
      },
      {
        "duration": 169,
        "start_time": "2022-06-16T07:32:57.803Z"
      },
      {
        "duration": 198,
        "start_time": "2022-06-16T07:32:57.974Z"
      },
      {
        "duration": 331,
        "start_time": "2022-06-16T07:32:58.175Z"
      },
      {
        "duration": 322,
        "start_time": "2022-06-16T07:32:58.507Z"
      },
      {
        "duration": 393,
        "start_time": "2022-06-16T07:32:58.831Z"
      },
      {
        "duration": 414,
        "start_time": "2022-06-16T07:32:59.226Z"
      },
      {
        "duration": 241,
        "start_time": "2022-06-16T07:32:59.694Z"
      },
      {
        "duration": 63,
        "start_time": "2022-06-16T07:32:59.936Z"
      },
      {
        "duration": 38,
        "start_time": "2022-06-16T07:33:00.001Z"
      },
      {
        "duration": 373,
        "start_time": "2022-06-16T07:33:00.041Z"
      },
      {
        "duration": 11,
        "start_time": "2022-06-16T07:33:00.416Z"
      },
      {
        "duration": 90,
        "start_time": "2022-06-16T07:33:00.429Z"
      },
      {
        "duration": 476,
        "start_time": "2022-06-16T07:33:00.520Z"
      },
      {
        "duration": 3,
        "start_time": "2022-06-16T07:33:00.998Z"
      },
      {
        "duration": 404,
        "start_time": "2022-06-16T07:33:01.002Z"
      },
      {
        "duration": 388,
        "start_time": "2022-06-16T07:33:01.408Z"
      },
      {
        "duration": 341,
        "start_time": "2022-06-16T07:33:01.798Z"
      },
      {
        "duration": 50,
        "start_time": "2022-06-16T07:33:02.141Z"
      },
      {
        "duration": 11,
        "start_time": "2022-06-16T07:33:31.532Z"
      },
      {
        "duration": 9,
        "start_time": "2022-06-16T07:33:35.957Z"
      },
      {
        "duration": 11,
        "start_time": "2022-06-16T07:33:43.927Z"
      },
      {
        "duration": 33,
        "start_time": "2022-06-16T07:50:25.764Z"
      },
      {
        "duration": 229,
        "start_time": "2022-06-16T07:52:23.729Z"
      },
      {
        "duration": 206,
        "start_time": "2022-06-16T07:58:31.801Z"
      },
      {
        "duration": 212,
        "start_time": "2022-06-16T07:59:51.329Z"
      },
      {
        "duration": 188,
        "start_time": "2022-06-16T07:59:55.743Z"
      },
      {
        "duration": 181,
        "start_time": "2022-06-16T08:00:00.104Z"
      },
      {
        "duration": 182,
        "start_time": "2022-06-16T08:00:28.695Z"
      },
      {
        "duration": 99,
        "start_time": "2022-06-16T08:00:53.704Z"
      },
      {
        "duration": 289,
        "start_time": "2022-06-16T08:01:39.118Z"
      },
      {
        "duration": 210,
        "start_time": "2022-06-16T08:01:53.621Z"
      },
      {
        "duration": 1066,
        "start_time": "2022-06-16T08:02:01.130Z"
      },
      {
        "duration": 175,
        "start_time": "2022-06-16T08:02:02.198Z"
      },
      {
        "duration": 139,
        "start_time": "2022-06-16T08:02:02.375Z"
      },
      {
        "duration": 111,
        "start_time": "2022-06-16T08:02:02.515Z"
      },
      {
        "duration": 37,
        "start_time": "2022-06-16T08:02:02.630Z"
      },
      {
        "duration": 41,
        "start_time": "2022-06-16T08:02:02.670Z"
      },
      {
        "duration": 52,
        "start_time": "2022-06-16T08:02:02.713Z"
      },
      {
        "duration": 85,
        "start_time": "2022-06-16T08:02:02.766Z"
      },
      {
        "duration": 91,
        "start_time": "2022-06-16T08:02:02.852Z"
      },
      {
        "duration": 58,
        "start_time": "2022-06-16T08:02:02.944Z"
      },
      {
        "duration": 9,
        "start_time": "2022-06-16T08:02:03.004Z"
      },
      {
        "duration": 27,
        "start_time": "2022-06-16T08:02:03.014Z"
      },
      {
        "duration": 15,
        "start_time": "2022-06-16T08:02:03.043Z"
      },
      {
        "duration": 40,
        "start_time": "2022-06-16T08:02:03.061Z"
      },
      {
        "duration": 11,
        "start_time": "2022-06-16T08:02:03.103Z"
      },
      {
        "duration": 22,
        "start_time": "2022-06-16T08:02:03.115Z"
      },
      {
        "duration": 137,
        "start_time": "2022-06-16T08:02:03.139Z"
      },
      {
        "duration": 18,
        "start_time": "2022-06-16T08:02:03.278Z"
      },
      {
        "duration": 6,
        "start_time": "2022-06-16T08:02:03.298Z"
      },
      {
        "duration": 22,
        "start_time": "2022-06-16T08:02:03.305Z"
      },
      {
        "duration": 17,
        "start_time": "2022-06-16T08:02:03.328Z"
      },
      {
        "duration": 60,
        "start_time": "2022-06-16T08:02:03.346Z"
      },
      {
        "duration": 189,
        "start_time": "2022-06-16T08:02:03.408Z"
      },
      {
        "duration": 218,
        "start_time": "2022-06-16T08:02:03.599Z"
      },
      {
        "duration": 306,
        "start_time": "2022-06-16T08:02:03.819Z"
      },
      {
        "duration": 210,
        "start_time": "2022-06-16T08:02:04.127Z"
      },
      {
        "duration": 190,
        "start_time": "2022-06-16T08:02:04.339Z"
      },
      {
        "duration": 199,
        "start_time": "2022-06-16T08:02:04.531Z"
      },
      {
        "duration": 299,
        "start_time": "2022-06-16T08:02:04.732Z"
      },
      {
        "duration": 175,
        "start_time": "2022-06-16T08:02:05.032Z"
      },
      {
        "duration": 199,
        "start_time": "2022-06-16T08:02:05.209Z"
      },
      {
        "duration": 349,
        "start_time": "2022-06-16T08:02:05.410Z"
      },
      {
        "duration": 83,
        "start_time": "2022-06-16T08:02:05.760Z"
      },
      {
        "duration": 10,
        "start_time": "2022-06-16T08:02:05.844Z"
      },
      {
        "duration": 45,
        "start_time": "2022-06-16T08:02:05.856Z"
      },
      {
        "duration": 275,
        "start_time": "2022-06-16T08:02:05.902Z"
      },
      {
        "duration": 18,
        "start_time": "2022-06-16T08:02:06.179Z"
      },
      {
        "duration": 30,
        "start_time": "2022-06-16T08:02:06.198Z"
      },
      {
        "duration": 275,
        "start_time": "2022-06-16T08:02:06.230Z"
      },
      {
        "duration": 3,
        "start_time": "2022-06-16T08:02:06.507Z"
      },
      {
        "duration": 196,
        "start_time": "2022-06-16T08:02:06.513Z"
      },
      {
        "duration": 199,
        "start_time": "2022-06-16T08:02:06.711Z"
      },
      {
        "duration": 198,
        "start_time": "2022-06-16T08:02:06.912Z"
      },
      {
        "duration": 50,
        "start_time": "2022-06-16T08:02:07.112Z"
      },
      {
        "duration": 205,
        "start_time": "2022-06-16T08:02:42.777Z"
      },
      {
        "duration": 433,
        "start_time": "2022-06-16T08:06:49.347Z"
      },
      {
        "duration": 313,
        "start_time": "2022-06-16T08:07:01.888Z"
      },
      {
        "duration": 1093,
        "start_time": "2022-06-16T08:10:21.871Z"
      },
      {
        "duration": 191,
        "start_time": "2022-06-16T08:10:22.966Z"
      },
      {
        "duration": 156,
        "start_time": "2022-06-16T08:10:23.159Z"
      },
      {
        "duration": 104,
        "start_time": "2022-06-16T08:10:23.317Z"
      },
      {
        "duration": 28,
        "start_time": "2022-06-16T08:10:23.423Z"
      },
      {
        "duration": 44,
        "start_time": "2022-06-16T08:10:23.452Z"
      },
      {
        "duration": 58,
        "start_time": "2022-06-16T08:10:23.497Z"
      },
      {
        "duration": 92,
        "start_time": "2022-06-16T08:10:23.556Z"
      },
      {
        "duration": 107,
        "start_time": "2022-06-16T08:10:23.649Z"
      },
      {
        "duration": 69,
        "start_time": "2022-06-16T08:10:23.759Z"
      },
      {
        "duration": 11,
        "start_time": "2022-06-16T08:10:23.830Z"
      },
      {
        "duration": 71,
        "start_time": "2022-06-16T08:10:23.843Z"
      },
      {
        "duration": 21,
        "start_time": "2022-06-16T08:10:23.916Z"
      },
      {
        "duration": 27,
        "start_time": "2022-06-16T08:10:23.940Z"
      },
      {
        "duration": 32,
        "start_time": "2022-06-16T08:10:23.969Z"
      },
      {
        "duration": 30,
        "start_time": "2022-06-16T08:10:24.002Z"
      },
      {
        "duration": 161,
        "start_time": "2022-06-16T08:10:24.034Z"
      },
      {
        "duration": 20,
        "start_time": "2022-06-16T08:10:24.197Z"
      },
      {
        "duration": 5,
        "start_time": "2022-06-16T08:10:24.219Z"
      },
      {
        "duration": 27,
        "start_time": "2022-06-16T08:10:24.226Z"
      },
      {
        "duration": 44,
        "start_time": "2022-06-16T08:10:24.255Z"
      },
      {
        "duration": 40,
        "start_time": "2022-06-16T08:10:24.300Z"
      },
      {
        "duration": 235,
        "start_time": "2022-06-16T08:10:24.342Z"
      },
      {
        "duration": 227,
        "start_time": "2022-06-16T08:10:24.578Z"
      },
      {
        "duration": 302,
        "start_time": "2022-06-16T08:10:24.807Z"
      },
      {
        "duration": 20873,
        "start_time": "2022-06-16T08:10:25.110Z"
      },
      {
        "duration": 181,
        "start_time": "2022-06-16T08:10:45.985Z"
      },
      {
        "duration": 203,
        "start_time": "2022-06-16T08:10:46.170Z"
      },
      {
        "duration": 288,
        "start_time": "2022-06-16T08:10:46.375Z"
      },
      {
        "duration": 175,
        "start_time": "2022-06-16T08:10:46.665Z"
      },
      {
        "duration": 200,
        "start_time": "2022-06-16T08:10:46.842Z"
      },
      {
        "duration": 330,
        "start_time": "2022-06-16T08:10:47.044Z"
      },
      {
        "duration": 97,
        "start_time": "2022-06-16T08:10:47.377Z"
      },
      {
        "duration": 19,
        "start_time": "2022-06-16T08:10:47.476Z"
      },
      {
        "duration": 43,
        "start_time": "2022-06-16T08:10:47.497Z"
      },
      {
        "duration": 331,
        "start_time": "2022-06-16T08:10:47.542Z"
      },
      {
        "duration": 23,
        "start_time": "2022-06-16T08:10:47.874Z"
      },
      {
        "duration": 34,
        "start_time": "2022-06-16T08:10:47.898Z"
      },
      {
        "duration": 320,
        "start_time": "2022-06-16T08:10:47.934Z"
      },
      {
        "duration": 3,
        "start_time": "2022-06-16T08:10:48.256Z"
      },
      {
        "duration": 195,
        "start_time": "2022-06-16T08:10:48.261Z"
      },
      {
        "duration": 182,
        "start_time": "2022-06-16T08:10:48.457Z"
      },
      {
        "duration": 179,
        "start_time": "2022-06-16T08:10:48.640Z"
      },
      {
        "duration": 49,
        "start_time": "2022-06-16T08:10:48.821Z"
      },
      {
        "duration": 195,
        "start_time": "2022-06-16T08:11:50.321Z"
      },
      {
        "duration": 208,
        "start_time": "2022-06-16T08:14:05.717Z"
      },
      {
        "duration": 218,
        "start_time": "2022-06-16T08:14:56.653Z"
      },
      {
        "duration": 233,
        "start_time": "2022-06-16T08:15:01.920Z"
      },
      {
        "duration": 1009,
        "start_time": "2022-06-16T08:15:28.539Z"
      },
      {
        "duration": 282,
        "start_time": "2022-06-16T08:15:33.503Z"
      },
      {
        "duration": 252,
        "start_time": "2022-06-16T08:15:40.269Z"
      },
      {
        "duration": 16,
        "start_time": "2022-06-16T08:16:48.492Z"
      },
      {
        "duration": 18,
        "start_time": "2022-06-16T08:17:43.059Z"
      },
      {
        "duration": 252,
        "start_time": "2022-06-16T08:17:54.272Z"
      },
      {
        "duration": 15,
        "start_time": "2022-06-16T08:18:50.406Z"
      },
      {
        "duration": 230,
        "start_time": "2022-06-16T08:19:02.441Z"
      },
      {
        "duration": 255,
        "start_time": "2022-06-16T08:20:47.841Z"
      },
      {
        "duration": 247,
        "start_time": "2022-06-16T08:21:14.537Z"
      },
      {
        "duration": 28,
        "start_time": "2022-06-16T08:21:25.632Z"
      },
      {
        "duration": 248,
        "start_time": "2022-06-16T08:21:35.253Z"
      },
      {
        "duration": 270,
        "start_time": "2022-06-16T08:21:40.597Z"
      },
      {
        "duration": 247,
        "start_time": "2022-06-16T08:21:44.196Z"
      },
      {
        "duration": 879,
        "start_time": "2022-06-16T08:21:48.797Z"
      },
      {
        "duration": 148,
        "start_time": "2022-06-16T08:22:03.157Z"
      },
      {
        "duration": 164,
        "start_time": "2022-06-16T08:22:07.588Z"
      },
      {
        "duration": 160,
        "start_time": "2022-06-16T08:22:23.504Z"
      },
      {
        "duration": 17,
        "start_time": "2022-06-16T08:24:40.142Z"
      },
      {
        "duration": 23316,
        "start_time": "2022-06-16T08:25:24.965Z"
      },
      {
        "duration": 36,
        "start_time": "2022-06-16T08:26:54.361Z"
      },
      {
        "duration": 817,
        "start_time": "2022-06-16T08:26:59.108Z"
      },
      {
        "duration": 736,
        "start_time": "2022-06-16T08:27:14.254Z"
      },
      {
        "duration": 182,
        "start_time": "2022-06-16T08:27:35.116Z"
      },
      {
        "duration": 221,
        "start_time": "2022-06-16T08:27:54.864Z"
      },
      {
        "duration": 229,
        "start_time": "2022-06-16T08:28:49.992Z"
      },
      {
        "duration": 186,
        "start_time": "2022-06-16T08:28:55.361Z"
      },
      {
        "duration": 195,
        "start_time": "2022-06-16T08:28:59.299Z"
      },
      {
        "duration": 187,
        "start_time": "2022-06-16T08:29:29.554Z"
      },
      {
        "duration": 187,
        "start_time": "2022-06-16T08:29:37.112Z"
      },
      {
        "duration": 179,
        "start_time": "2022-06-16T08:29:39.544Z"
      },
      {
        "duration": 209,
        "start_time": "2022-06-16T08:30:13.699Z"
      },
      {
        "duration": 171,
        "start_time": "2022-06-16T08:30:20.997Z"
      },
      {
        "duration": 207,
        "start_time": "2022-06-16T08:30:26.474Z"
      },
      {
        "duration": 39,
        "start_time": "2022-06-16T08:32:07.122Z"
      },
      {
        "duration": 734,
        "start_time": "2022-06-16T08:32:45.366Z"
      },
      {
        "duration": 169,
        "start_time": "2022-06-16T08:32:51.395Z"
      },
      {
        "duration": 181,
        "start_time": "2022-06-16T08:33:03.728Z"
      },
      {
        "duration": 143,
        "start_time": "2022-06-16T08:33:08.652Z"
      },
      {
        "duration": 31,
        "start_time": "2022-06-16T08:34:31.988Z"
      },
      {
        "duration": 164,
        "start_time": "2022-06-16T08:34:37.972Z"
      },
      {
        "duration": 14,
        "start_time": "2022-06-16T08:39:00.265Z"
      },
      {
        "duration": 13,
        "start_time": "2022-06-16T08:39:24.412Z"
      },
      {
        "duration": 380,
        "start_time": "2022-06-16T08:39:35.789Z"
      },
      {
        "duration": 375,
        "start_time": "2022-06-16T08:40:38.625Z"
      },
      {
        "duration": 38,
        "start_time": "2022-06-16T08:40:58.552Z"
      },
      {
        "duration": 394,
        "start_time": "2022-06-16T08:41:02.890Z"
      },
      {
        "duration": 249,
        "start_time": "2022-06-16T08:41:16.517Z"
      },
      {
        "duration": 234,
        "start_time": "2022-06-16T08:52:42.756Z"
      },
      {
        "duration": 245,
        "start_time": "2022-06-16T08:52:50.306Z"
      },
      {
        "duration": 345,
        "start_time": "2022-06-16T08:53:24.860Z"
      },
      {
        "duration": 284,
        "start_time": "2022-06-16T08:55:35.632Z"
      },
      {
        "duration": 318,
        "start_time": "2022-06-16T08:55:44.693Z"
      },
      {
        "duration": 305,
        "start_time": "2022-06-16T08:56:43.041Z"
      },
      {
        "duration": 251,
        "start_time": "2022-06-16T08:57:09.567Z"
      },
      {
        "duration": 297,
        "start_time": "2022-06-16T08:57:54.149Z"
      },
      {
        "duration": 21,
        "start_time": "2022-06-16T08:58:25.801Z"
      },
      {
        "duration": 291,
        "start_time": "2022-06-16T09:02:52.627Z"
      },
      {
        "duration": 286,
        "start_time": "2022-06-16T09:03:45.425Z"
      },
      {
        "duration": 200,
        "start_time": "2022-06-16T09:04:04.597Z"
      },
      {
        "duration": 204,
        "start_time": "2022-06-16T09:04:09.018Z"
      },
      {
        "duration": 239,
        "start_time": "2022-06-16T09:04:19.550Z"
      },
      {
        "duration": 277,
        "start_time": "2022-06-16T09:04:35.917Z"
      },
      {
        "duration": 326,
        "start_time": "2022-06-16T09:20:33.875Z"
      },
      {
        "duration": 290,
        "start_time": "2022-06-16T09:20:53.891Z"
      },
      {
        "duration": 277,
        "start_time": "2022-06-16T09:21:08.543Z"
      },
      {
        "duration": 151,
        "start_time": "2022-06-16T09:21:26.635Z"
      },
      {
        "duration": 277,
        "start_time": "2022-06-16T09:21:33.310Z"
      },
      {
        "duration": 269,
        "start_time": "2022-06-16T09:21:48.467Z"
      },
      {
        "duration": 278,
        "start_time": "2022-06-16T09:22:16.305Z"
      },
      {
        "duration": 289,
        "start_time": "2022-06-16T09:22:22.409Z"
      },
      {
        "duration": 288,
        "start_time": "2022-06-16T09:22:29.797Z"
      },
      {
        "duration": 238,
        "start_time": "2022-06-16T09:22:45.074Z"
      },
      {
        "duration": 237,
        "start_time": "2022-06-16T09:22:55.834Z"
      },
      {
        "duration": 292,
        "start_time": "2022-06-16T09:23:08.709Z"
      },
      {
        "duration": 244,
        "start_time": "2022-06-16T09:23:18.641Z"
      },
      {
        "duration": 310,
        "start_time": "2022-06-16T09:23:29.191Z"
      },
      {
        "duration": 282,
        "start_time": "2022-06-16T09:23:44.532Z"
      },
      {
        "duration": 40,
        "start_time": "2022-06-16T09:40:15.932Z"
      },
      {
        "duration": 1975,
        "start_time": "2022-06-16T09:40:20.798Z"
      },
      {
        "duration": 56,
        "start_time": "2022-06-16T09:40:43.050Z"
      },
      {
        "duration": 40,
        "start_time": "2022-06-16T09:40:53.384Z"
      },
      {
        "duration": 350,
        "start_time": "2022-06-16T09:40:59.860Z"
      },
      {
        "duration": 1016,
        "start_time": "2022-06-16T10:23:06.259Z"
      },
      {
        "duration": 190,
        "start_time": "2022-06-16T10:23:07.277Z"
      },
      {
        "duration": 176,
        "start_time": "2022-06-16T10:23:07.469Z"
      },
      {
        "duration": 107,
        "start_time": "2022-06-16T10:23:07.648Z"
      },
      {
        "duration": 26,
        "start_time": "2022-06-16T10:23:07.757Z"
      },
      {
        "duration": 44,
        "start_time": "2022-06-16T10:23:07.785Z"
      },
      {
        "duration": 52,
        "start_time": "2022-06-16T10:23:07.830Z"
      },
      {
        "duration": 79,
        "start_time": "2022-06-16T10:23:07.883Z"
      },
      {
        "duration": 99,
        "start_time": "2022-06-16T10:23:07.964Z"
      },
      {
        "duration": 58,
        "start_time": "2022-06-16T10:23:08.066Z"
      },
      {
        "duration": 8,
        "start_time": "2022-06-16T10:23:08.126Z"
      },
      {
        "duration": 26,
        "start_time": "2022-06-16T10:23:08.136Z"
      },
      {
        "duration": 33,
        "start_time": "2022-06-16T10:23:08.163Z"
      },
      {
        "duration": 17,
        "start_time": "2022-06-16T10:23:08.198Z"
      },
      {
        "duration": 20,
        "start_time": "2022-06-16T10:23:08.217Z"
      },
      {
        "duration": 67,
        "start_time": "2022-06-16T10:23:08.239Z"
      },
      {
        "duration": 127,
        "start_time": "2022-06-16T10:23:08.308Z"
      },
      {
        "duration": 17,
        "start_time": "2022-06-16T10:23:08.437Z"
      },
      {
        "duration": 6,
        "start_time": "2022-06-16T10:23:08.456Z"
      },
      {
        "duration": 37,
        "start_time": "2022-06-16T10:23:08.464Z"
      },
      {
        "duration": 16,
        "start_time": "2022-06-16T10:23:08.502Z"
      },
      {
        "duration": 32,
        "start_time": "2022-06-16T10:23:08.519Z"
      },
      {
        "duration": 213,
        "start_time": "2022-06-16T10:23:08.553Z"
      },
      {
        "duration": 201,
        "start_time": "2022-06-16T10:23:08.768Z"
      },
      {
        "duration": 299,
        "start_time": "2022-06-16T10:23:08.971Z"
      },
      {
        "duration": 298,
        "start_time": "2022-06-16T10:23:09.272Z"
      },
      {
        "duration": 175,
        "start_time": "2022-06-16T10:23:09.572Z"
      },
      {
        "duration": 201,
        "start_time": "2022-06-16T10:23:09.750Z"
      },
      {
        "duration": 313,
        "start_time": "2022-06-16T10:23:09.952Z"
      },
      {
        "duration": 370,
        "start_time": "2022-06-16T10:23:10.266Z"
      },
      {
        "duration": 191,
        "start_time": "2022-06-16T10:23:10.637Z"
      },
      {
        "duration": 196,
        "start_time": "2022-06-16T10:23:10.829Z"
      },
      {
        "duration": 244,
        "start_time": "2022-06-16T10:23:11.027Z"
      },
      {
        "duration": 288,
        "start_time": "2022-06-16T10:23:11.295Z"
      },
      {
        "duration": 68,
        "start_time": "2022-06-16T10:23:11.584Z"
      },
      {
        "duration": 14,
        "start_time": "2022-06-16T10:23:11.654Z"
      },
      {
        "duration": 61,
        "start_time": "2022-06-16T10:23:11.670Z"
      },
      {
        "duration": 306,
        "start_time": "2022-06-16T10:23:11.733Z"
      },
      {
        "duration": 12,
        "start_time": "2022-06-16T10:23:12.041Z"
      },
      {
        "duration": 44,
        "start_time": "2022-06-16T10:23:12.055Z"
      },
      {
        "duration": 273,
        "start_time": "2022-06-16T10:23:12.101Z"
      },
      {
        "duration": 3,
        "start_time": "2022-06-16T10:23:12.376Z"
      },
      {
        "duration": 190,
        "start_time": "2022-06-16T10:23:12.380Z"
      },
      {
        "duration": 193,
        "start_time": "2022-06-16T10:23:12.571Z"
      },
      {
        "duration": 263,
        "start_time": "2022-06-16T10:23:12.766Z"
      },
      {
        "duration": 49,
        "start_time": "2022-06-16T10:23:13.031Z"
      },
      {
        "duration": 1089,
        "start_time": "2022-06-16T22:34:51.357Z"
      },
      {
        "duration": 181,
        "start_time": "2022-06-16T22:34:52.448Z"
      },
      {
        "duration": 151,
        "start_time": "2022-06-16T22:34:52.631Z"
      },
      {
        "duration": 100,
        "start_time": "2022-06-16T22:34:52.784Z"
      },
      {
        "duration": 27,
        "start_time": "2022-06-16T22:34:52.885Z"
      },
      {
        "duration": 38,
        "start_time": "2022-06-16T22:34:52.914Z"
      },
      {
        "duration": 65,
        "start_time": "2022-06-16T22:34:52.954Z"
      },
      {
        "duration": 105,
        "start_time": "2022-06-16T22:34:53.021Z"
      },
      {
        "duration": 99,
        "start_time": "2022-06-16T22:34:53.128Z"
      },
      {
        "duration": 59,
        "start_time": "2022-06-16T22:34:53.230Z"
      },
      {
        "duration": 9,
        "start_time": "2022-06-16T22:34:53.290Z"
      },
      {
        "duration": 28,
        "start_time": "2022-06-16T22:34:53.300Z"
      },
      {
        "duration": 32,
        "start_time": "2022-06-16T22:34:53.330Z"
      },
      {
        "duration": 13,
        "start_time": "2022-06-16T22:34:53.364Z"
      },
      {
        "duration": 10,
        "start_time": "2022-06-16T22:34:53.379Z"
      },
      {
        "duration": 21,
        "start_time": "2022-06-16T22:34:53.391Z"
      },
      {
        "duration": 153,
        "start_time": "2022-06-16T22:34:53.414Z"
      },
      {
        "duration": 17,
        "start_time": "2022-06-16T22:34:53.569Z"
      },
      {
        "duration": 12,
        "start_time": "2022-06-16T22:34:53.588Z"
      },
      {
        "duration": 26,
        "start_time": "2022-06-16T22:34:53.602Z"
      },
      {
        "duration": 31,
        "start_time": "2022-06-16T22:34:53.629Z"
      },
      {
        "duration": 48,
        "start_time": "2022-06-16T22:34:53.661Z"
      },
      {
        "duration": 197,
        "start_time": "2022-06-16T22:34:53.711Z"
      },
      {
        "duration": 207,
        "start_time": "2022-06-16T22:34:53.910Z"
      },
      {
        "duration": 311,
        "start_time": "2022-06-16T22:34:54.119Z"
      },
      {
        "duration": 326,
        "start_time": "2022-06-16T22:34:54.432Z"
      },
      {
        "duration": 200,
        "start_time": "2022-06-16T22:34:54.760Z"
      },
      {
        "duration": 228,
        "start_time": "2022-06-16T22:34:54.965Z"
      },
      {
        "duration": 300,
        "start_time": "2022-06-16T22:34:55.194Z"
      },
      {
        "duration": 371,
        "start_time": "2022-06-16T22:34:55.495Z"
      },
      {
        "duration": 177,
        "start_time": "2022-06-16T22:34:55.868Z"
      },
      {
        "duration": 205,
        "start_time": "2022-06-16T22:34:56.047Z"
      },
      {
        "duration": 293,
        "start_time": "2022-06-16T22:34:56.253Z"
      },
      {
        "duration": 318,
        "start_time": "2022-06-16T22:34:56.547Z"
      },
      {
        "duration": 71,
        "start_time": "2022-06-16T22:34:56.867Z"
      },
      {
        "duration": 21,
        "start_time": "2022-06-16T22:34:56.940Z"
      },
      {
        "duration": 32,
        "start_time": "2022-06-16T22:34:56.963Z"
      },
      {
        "duration": 329,
        "start_time": "2022-06-16T22:34:56.996Z"
      },
      {
        "duration": 11,
        "start_time": "2022-06-16T22:34:57.327Z"
      },
      {
        "duration": 21,
        "start_time": "2022-06-16T22:34:57.341Z"
      },
      {
        "duration": 49,
        "start_time": "2022-06-16T22:34:57.364Z"
      },
      {
        "duration": 321,
        "start_time": "2022-06-16T22:34:57.415Z"
      },
      {
        "duration": 3,
        "start_time": "2022-06-16T22:34:57.738Z"
      },
      {
        "duration": 211,
        "start_time": "2022-06-16T22:34:57.742Z"
      },
      {
        "duration": 203,
        "start_time": "2022-06-16T22:34:57.959Z"
      },
      {
        "duration": 304,
        "start_time": "2022-06-16T22:34:58.164Z"
      },
      {
        "duration": 48,
        "start_time": "2022-06-16T22:34:58.469Z"
      },
      {
        "duration": 1301,
        "start_time": "2022-11-18T11:51:06.820Z"
      },
      {
        "duration": 366,
        "start_time": "2022-11-18T11:51:08.123Z"
      },
      {
        "duration": 383,
        "start_time": "2022-11-18T11:51:08.492Z"
      },
      {
        "duration": 342,
        "start_time": "2022-11-18T11:51:08.877Z"
      },
      {
        "duration": 88,
        "start_time": "2022-11-18T11:51:09.221Z"
      },
      {
        "duration": 72,
        "start_time": "2022-11-18T11:51:09.310Z"
      },
      {
        "duration": 64,
        "start_time": "2022-11-18T11:51:09.384Z"
      },
      {
        "duration": 90,
        "start_time": "2022-11-18T11:51:09.455Z"
      },
      {
        "duration": 114,
        "start_time": "2022-11-18T11:51:09.555Z"
      },
      {
        "duration": 60,
        "start_time": "2022-11-18T11:51:09.672Z"
      },
      {
        "duration": 26,
        "start_time": "2022-11-18T11:51:09.734Z"
      },
      {
        "duration": 57,
        "start_time": "2022-11-18T11:51:09.762Z"
      },
      {
        "duration": 23,
        "start_time": "2022-11-18T11:51:09.821Z"
      },
      {
        "duration": 17,
        "start_time": "2022-11-18T11:51:09.856Z"
      },
      {
        "duration": 36,
        "start_time": "2022-11-18T11:51:09.875Z"
      },
      {
        "duration": 55,
        "start_time": "2022-11-18T11:51:09.913Z"
      },
      {
        "duration": 155,
        "start_time": "2022-11-18T11:51:09.970Z"
      },
      {
        "duration": 30,
        "start_time": "2022-11-18T11:51:10.126Z"
      },
      {
        "duration": 23,
        "start_time": "2022-11-18T11:51:10.158Z"
      },
      {
        "duration": 43,
        "start_time": "2022-11-18T11:51:10.182Z"
      },
      {
        "duration": 19,
        "start_time": "2022-11-18T11:51:10.226Z"
      },
      {
        "duration": 61,
        "start_time": "2022-11-18T11:51:10.247Z"
      },
      {
        "duration": 239,
        "start_time": "2022-11-18T11:51:10.310Z"
      },
      {
        "duration": 242,
        "start_time": "2022-11-18T11:51:10.550Z"
      },
      {
        "duration": 350,
        "start_time": "2022-11-18T11:51:10.794Z"
      },
      {
        "duration": 361,
        "start_time": "2022-11-18T11:51:11.147Z"
      },
      {
        "duration": 216,
        "start_time": "2022-11-18T11:51:11.510Z"
      },
      {
        "duration": 235,
        "start_time": "2022-11-18T11:51:11.731Z"
      },
      {
        "duration": 386,
        "start_time": "2022-11-18T11:51:11.969Z"
      },
      {
        "duration": 337,
        "start_time": "2022-11-18T11:51:12.356Z"
      },
      {
        "duration": 208,
        "start_time": "2022-11-18T11:51:12.694Z"
      },
      {
        "duration": 254,
        "start_time": "2022-11-18T11:51:12.904Z"
      },
      {
        "duration": 312,
        "start_time": "2022-11-18T11:51:13.160Z"
      },
      {
        "duration": 372,
        "start_time": "2022-11-18T11:51:13.474Z"
      },
      {
        "duration": 84,
        "start_time": "2022-11-18T11:51:13.847Z"
      },
      {
        "duration": 23,
        "start_time": "2022-11-18T11:51:13.933Z"
      },
      {
        "duration": 34,
        "start_time": "2022-11-18T11:51:13.958Z"
      },
      {
        "duration": 381,
        "start_time": "2022-11-18T11:51:13.994Z"
      },
      {
        "duration": 10,
        "start_time": "2022-11-18T11:51:14.377Z"
      },
      {
        "duration": 25,
        "start_time": "2022-11-18T11:51:14.389Z"
      },
      {
        "duration": 55,
        "start_time": "2022-11-18T11:51:14.416Z"
      },
      {
        "duration": 388,
        "start_time": "2022-11-18T11:51:14.473Z"
      },
      {
        "duration": 3,
        "start_time": "2022-11-18T11:51:14.863Z"
      },
      {
        "duration": 331,
        "start_time": "2022-11-18T11:51:14.868Z"
      },
      {
        "duration": 229,
        "start_time": "2022-11-18T11:51:15.201Z"
      },
      {
        "duration": 228,
        "start_time": "2022-11-18T11:51:15.433Z"
      },
      {
        "duration": 57,
        "start_time": "2022-11-18T11:51:15.663Z"
      },
      {
        "duration": 317,
        "start_time": "2022-11-18T11:51:49.454Z"
      },
      {
        "duration": 1161,
        "start_time": "2022-11-18T11:52:50.076Z"
      },
      {
        "duration": 193,
        "start_time": "2022-11-18T11:52:51.240Z"
      },
      {
        "duration": 160,
        "start_time": "2022-11-18T11:52:51.435Z"
      },
      {
        "duration": 119,
        "start_time": "2022-11-18T11:52:51.597Z"
      },
      {
        "duration": 30,
        "start_time": "2022-11-18T11:52:51.718Z"
      },
      {
        "duration": 42,
        "start_time": "2022-11-18T11:52:51.750Z"
      },
      {
        "duration": 62,
        "start_time": "2022-11-18T11:52:51.794Z"
      },
      {
        "duration": 84,
        "start_time": "2022-11-18T11:52:51.858Z"
      },
      {
        "duration": 114,
        "start_time": "2022-11-18T11:52:51.944Z"
      },
      {
        "duration": 53,
        "start_time": "2022-11-18T11:52:52.061Z"
      },
      {
        "duration": 9,
        "start_time": "2022-11-18T11:52:52.116Z"
      },
      {
        "duration": 51,
        "start_time": "2022-11-18T11:52:52.126Z"
      },
      {
        "duration": 19,
        "start_time": "2022-11-18T11:52:52.179Z"
      },
      {
        "duration": 16,
        "start_time": "2022-11-18T11:52:52.199Z"
      },
      {
        "duration": 13,
        "start_time": "2022-11-18T11:52:52.217Z"
      },
      {
        "duration": 24,
        "start_time": "2022-11-18T11:52:52.255Z"
      },
      {
        "duration": 148,
        "start_time": "2022-11-18T11:52:52.281Z"
      },
      {
        "duration": 25,
        "start_time": "2022-11-18T11:52:52.431Z"
      },
      {
        "duration": 4,
        "start_time": "2022-11-18T11:52:52.457Z"
      },
      {
        "duration": 23,
        "start_time": "2022-11-18T11:52:52.463Z"
      },
      {
        "duration": 16,
        "start_time": "2022-11-18T11:52:52.488Z"
      },
      {
        "duration": 67,
        "start_time": "2022-11-18T11:52:52.505Z"
      },
      {
        "duration": 220,
        "start_time": "2022-11-18T11:52:52.574Z"
      },
      {
        "duration": 228,
        "start_time": "2022-11-18T11:52:52.795Z"
      },
      {
        "duration": 321,
        "start_time": "2022-11-18T11:52:53.024Z"
      },
      {
        "duration": 368,
        "start_time": "2022-11-18T11:52:53.346Z"
      },
      {
        "duration": 212,
        "start_time": "2022-11-18T11:52:53.716Z"
      },
      {
        "duration": 229,
        "start_time": "2022-11-18T11:52:53.931Z"
      },
      {
        "duration": 374,
        "start_time": "2022-11-18T11:52:54.162Z"
      },
      {
        "duration": 377,
        "start_time": "2022-11-18T11:52:54.539Z"
      },
      {
        "duration": 207,
        "start_time": "2022-11-18T11:52:54.918Z"
      },
      {
        "duration": 248,
        "start_time": "2022-11-18T11:52:55.127Z"
      },
      {
        "duration": 281,
        "start_time": "2022-11-18T11:52:55.377Z"
      },
      {
        "duration": 331,
        "start_time": "2022-11-18T11:52:55.660Z"
      },
      {
        "duration": 89,
        "start_time": "2022-11-18T11:52:55.993Z"
      },
      {
        "duration": 11,
        "start_time": "2022-11-18T11:52:56.084Z"
      },
      {
        "duration": 30,
        "start_time": "2022-11-18T11:52:56.097Z"
      },
      {
        "duration": 317,
        "start_time": "2022-11-18T11:52:56.129Z"
      },
      {
        "duration": 16,
        "start_time": "2022-11-18T11:52:56.448Z"
      },
      {
        "duration": 9,
        "start_time": "2022-11-18T11:52:56.466Z"
      },
      {
        "duration": 34,
        "start_time": "2022-11-18T11:52:56.476Z"
      },
      {
        "duration": 334,
        "start_time": "2022-11-18T11:52:56.512Z"
      },
      {
        "duration": 3,
        "start_time": "2022-11-18T11:52:56.854Z"
      },
      {
        "duration": 324,
        "start_time": "2022-11-18T11:52:56.858Z"
      },
      {
        "duration": 243,
        "start_time": "2022-11-18T11:52:57.183Z"
      },
      {
        "duration": 226,
        "start_time": "2022-11-18T11:52:57.429Z"
      },
      {
        "duration": 56,
        "start_time": "2022-11-18T11:52:57.656Z"
      }
    ],
    "kernelspec": {
      "display_name": "Python 3 (ipykernel)",
      "language": "python",
      "name": "python3"
    },
    "language_info": {
      "codemirror_mode": {
        "name": "ipython",
        "version": 3
      },
      "file_extension": ".py",
      "mimetype": "text/x-python",
      "name": "python",
      "nbconvert_exporter": "python",
      "pygments_lexer": "ipython3",
      "version": "3.9.5"
    },
    "toc": {
      "base_numbering": 1,
      "nav_menu": {
        "height": "77px",
        "width": "160px"
      },
      "number_sections": true,
      "sideBar": true,
      "skip_h1_title": true,
      "title_cell": "Table of Contents",
      "title_sidebar": "Contents",
      "toc_cell": false,
      "toc_position": {
        "height": "calc(100% - 180px)",
        "left": "10px",
        "top": "150px",
        "width": "235.594px"
      },
      "toc_section_display": true,
      "toc_window_display": true
    },
    "colab": {
      "provenance": []
    }
  },
  "nbformat": 4,
  "nbformat_minor": 0
}