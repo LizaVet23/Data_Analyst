{
  "nbformat": 4,
  "nbformat_minor": 0,
  "metadata": {
    "colab": {
      "provenance": []
    },
    "kernelspec": {
      "name": "python3",
      "display_name": "Python 3"
    },
    "language_info": {
      "name": "python"
    }
  },
  "cells": [
    {
      "cell_type": "markdown",
      "source": [
        "# Исследование данных об инвестиции венчурных фондов в компании-стартапы"
      ],
      "metadata": {
        "id": "CMddBEPupxf9"
      }
    },
    {
      "cell_type": "markdown",
      "source": [
        "#### Исследование данных об инвестиции венчурных фондов в компании-стартапы"
      ],
      "metadata": {
        "id": "OMhEf5JnqeuZ"
      }
    },
    {
      "cell_type": "markdown",
      "source": [
        "**Задача 1**  \n",
        "Посчитайте, сколько компаний закрылось."
      ],
      "metadata": {
        "id": "DNMQ4yZ6qqHo"
      }
    },
    {
      "cell_type": "code",
      "source": [
        "SELECT COUNT(status)\n",
        "FROM company\n",
        "WHERE status LIKE 'closed';"
      ],
      "metadata": {
        "id": "XnkDQg7Uqjcs"
      },
      "execution_count": null,
      "outputs": []
    },
    {
      "cell_type": "markdown",
      "source": [
        "**Задача 2**  \n",
        "\n",
        "Отобразите количество привлечённых средств для новостных компаний США. Используйте данные из таблицы `company`. Отсортируйте таблицу по убыванию значений в поле `funding_total`."
      ],
      "metadata": {
        "id": "x2e96k7Wq4rt"
      }
    },
    {
      "cell_type": "code",
      "source": [
        "SELECT \n",
        "       SUM(funding_total)\n",
        "FROM company\n",
        "WHERE country_code LIKE 'USA' AND category_code LIKE 'news'\n",
        "GROUP BY name\n",
        "ORDER BY SUM(funding_total) DESC;"
      ],
      "metadata": {
        "id": "eJxailXBrCxP"
      },
      "execution_count": null,
      "outputs": []
    },
    {
      "cell_type": "markdown",
      "source": [
        "**Задача 3**\n",
        "\n",
        "Найдите общую сумму сделок по покупке одних компаний другими в долларах. Отберите сделки, которые осуществлялись только за наличные с 2011 по 2013 год включительно."
      ],
      "metadata": {
        "id": "v64YA_tvrQ4Y"
      }
    },
    {
      "cell_type": "code",
      "source": [
        "SELECT SUM(price_amount)\n",
        "FROM acquisition\n",
        "WHERE term_code LIKE 'cash'\n",
        "AND acquired_at BETWEEN '2011-01-01' AND '2013-12-31';"
      ],
      "metadata": {
        "id": "zNf7nkxwrb7K"
      },
      "execution_count": null,
      "outputs": []
    },
    {
      "cell_type": "markdown",
      "source": [
        "**Задача 4**  \n",
        "Отобразите имя, фамилию и названия аккаунтов людей в твиттере, у которых названия аккаунтов начинаются на `'Silver'`."
      ],
      "metadata": {
        "id": "YmTBFFk9rhr6"
      }
    },
    {
      "cell_type": "code",
      "source": [
        "SELECT first_name,\n",
        "       last_name,\n",
        "       twitter_username\n",
        "FROM people\n",
        "WHERE twitter_username LIKE 'Silver%';"
      ],
      "metadata": {
        "id": "0clBihYarp7q"
      },
      "execution_count": null,
      "outputs": []
    },
    {
      "cell_type": "markdown",
      "source": [
        "**Задача 5**  \n",
        "Выведите на экран всю информацию о людях, у которых названия аккаунтов в твиттере содержат подстроку `'money'`, а фамилия начинается на `'K'`."
      ],
      "metadata": {
        "id": "snwgNNRYrtR-"
      }
    },
    {
      "cell_type": "code",
      "source": [
        "SELECT *\n",
        "FROM people\n",
        "WHERE twitter_username LIKE '%money%' AND last_name LIKE 'K%';"
      ],
      "metadata": {
        "id": "0uTMVIeAr_3y"
      },
      "execution_count": null,
      "outputs": []
    },
    {
      "cell_type": "markdown",
      "source": [
        "**Задача 6**  \n",
        "\n",
        "Для каждой страны отобразите общую сумму привлечённых инвестиций, которые получили компании, зарегистрированные в этой стране. Страну, в которой зарегистрирована компания, можно определить по коду страны. Отсортируйте данные по убыванию суммы."
      ],
      "metadata": {
        "id": "41DTpOfwsGdO"
      }
    },
    {
      "cell_type": "code",
      "source": [
        "SELECT country_code,\n",
        "       SUM(funding_total)\n",
        "FROM company\n",
        "GROUP BY country_code\n",
        "ORDER BY SUM(funding_total) DESC;"
      ],
      "metadata": {
        "id": "_p5jIU55uBHa"
      },
      "execution_count": null,
      "outputs": []
    },
    {
      "cell_type": "markdown",
      "source": [
        "**Задача 7**  \n",
        "\n",
        "Составьте таблицу, в которую войдёт дата проведения раунда, а также минимальное и максимальное значения суммы инвестиций, привлечённых в эту дату.\n",
        "Оставьте в итоговой таблице только те записи, в которых минимальное значение суммы инвестиций не равно нулю и не равно максимальному значению."
      ],
      "metadata": {
        "id": "o2O5IYQ3uDzQ"
      }
    },
    {
      "cell_type": "code",
      "source": [
        "SELECT CAST(funded_at AS date) ,\n",
        "       MIN(raised_amount),\n",
        "       MAX(raised_amount) \n",
        "FROM funding_round\n",
        "GROUP BY CAST(funded_at AS date)\n",
        "HAVING MIN(raised_amount) <> 0 AND MIN(raised_amount) <> MAX(raised_amount);"
      ],
      "metadata": {
        "id": "J3aAViyAubTt"
      },
      "execution_count": null,
      "outputs": []
    },
    {
      "cell_type": "markdown",
      "source": [
        "**Задача 8**  \n",
        "Создайте поле с категориями:\n",
        "Для фондов, которые инвестируют в 100 и более компаний, назначьте категорию `high_activity`.\n",
        "Для фондов, которые инвестируют в 20 и более компаний до 100, назначьте категорию `middle_activity`.\n",
        "Если количество инвестируемых компаний фонда не достигает 20, назначьте категорию `low_activity`.\n",
        "Отобразите все поля таблицы `fund` и новое поле с категориями."
      ],
      "metadata": {
        "id": "8kwwB7skufyi"
      }
    },
    {
      "cell_type": "code",
      "source": [
        "SELECT *,\n",
        "       CASE\n",
        "           WHEN invested_companies >= 100 THEN 'high_activity'\n",
        "           WHEN invested_companies >= 20 AND invested_companies < 100 THEN 'middle_activity'\n",
        "           WHEN invested_companies < 20 THEN 'low_activity'\n",
        "       END\n",
        "FROM fund;"
      ],
      "metadata": {
        "id": "SDMqUwpTux0X"
      },
      "execution_count": null,
      "outputs": []
    },
    {
      "cell_type": "markdown",
      "source": [
        "**Задача 9**  \n",
        "\n",
        "Для каждой из категорий, назначенных в предыдущем задании, посчитайте округлённое до ближайшего целого числа среднее количество инвестиционных раундов, в которых фонд принимал участие. Выведите на экран категории и среднее число инвестиционных раундов. Отсортируйте таблицу по возрастанию среднего."
      ],
      "metadata": {
        "id": "J4eGk_m6u2Eo"
      }
    },
    {
      "cell_type": "code",
      "source": [
        "SELECT CASE\n",
        "           WHEN invested_companies>=100 THEN 'high_activity'\n",
        "           WHEN invested_companies>=20 THEN 'middle_activity'\n",
        "           ELSE 'low_activity'\n",
        "       END AS activity,\n",
        "       ROUND(AVG(investment_rounds))\n",
        "FROM fund\n",
        "GROUP BY activity\n",
        "ORDER BY ROUND(AVG(investment_rounds));"
      ],
      "metadata": {
        "id": "Pqq9lT9yvB7z"
      },
      "execution_count": null,
      "outputs": []
    },
    {
      "cell_type": "markdown",
      "source": [
        "**Задача 10**  \n",
        "Проанализируйте, в каких странах находятся фонды, которые чаще всего инвестируют в стартапы.  \n",
        "Для каждой страны посчитайте минимальное, максимальное и среднее число компаний, в которые инвестировали фонды этой страны, основанные с 2010 по 2012 год включительно. Исключите страны с фондами, у которых минимальное число компаний, получивших инвестиции, равно нулю. Выгрузите десять самых активных стран-инвесторов.  \n",
        "Отсортируйте таблицу по среднему количеству компаний от большего к меньшему, а затем по коду страны в лексикографическом порядке."
      ],
      "metadata": {
        "id": "rPGo2tTNvOSO"
      }
    },
    {
      "cell_type": "code",
      "source": [
        "SELECT country_code,\n",
        "      AVG(invested_companies),\n",
        "      MAX(invested_companies),\n",
        "      MIN(invested_companies)\n",
        "FROM fund\n",
        "WHERE EXTRACT (YEAR FROM CAST(founded_at AS DATE)) BETWEEN 2010 AND 2012\n",
        "GROUP BY country_code\n",
        "HAVING MIN(invested_companies) <> 0\n",
        "ORDER BY AVG(invested_companies) DESC\n",
        "LIMIT 10;"
      ],
      "metadata": {
        "id": "cpwmaMRkveKV"
      },
      "execution_count": null,
      "outputs": []
    },
    {
      "cell_type": "markdown",
      "source": [
        "**Задача 11**  \n",
        "\n",
        "Отобразите имя и фамилию всех сотрудников стартапов. Добавьте поле с названием учебного заведения, которое окончил сотрудник, если эта информация известна."
      ],
      "metadata": {
        "id": "Yv3dV-zEvkVq"
      }
    },
    {
      "cell_type": "code",
      "source": [
        "SELECT p.first_name,\n",
        "       p.last_name,\n",
        "       e.instituition\n",
        "FROM people as p\n",
        "LEFT JOIN education AS e ON e.person_id = p.id"
      ],
      "metadata": {
        "id": "hCba4S2avtCA"
      },
      "execution_count": null,
      "outputs": []
    },
    {
      "cell_type": "markdown",
      "source": [
        "**Задача 12**  \n",
        "Для каждой компании найдите количество учебных заведений, которые окончили её сотрудники. Выведите название компании и число уникальных названий учебных заведений. Составьте топ-5 компаний по количеству университетов."
      ],
      "metadata": {
        "id": "lL9M7quYvyXI"
      }
    },
    {
      "cell_type": "code",
      "source": [
        "SELECT c.name,\n",
        "       COUNT(DISTINCT e.instituition)\n",
        "FROM company AS c\n",
        "Inner JOIN people as p ON p.company_id=c.id\n",
        "Inner JOIN education as e ON p.id=e.person_id\n",
        "GROUP BY c.name\n",
        "ORDER BY COUNT(DISTINCT e.instituition) DESC\n",
        "LIMIT 5;"
      ],
      "metadata": {
        "id": "sL0ygmbUv7oa"
      },
      "execution_count": null,
      "outputs": []
    },
    {
      "cell_type": "markdown",
      "source": [
        "**Задача 13**  \n",
        "Составьте список с уникальными названиями закрытых компаний, для которых первый раунд финансирования оказался последним."
      ],
      "metadata": {
        "id": "CjSdf3PywCOh"
      }
    },
    {
      "cell_type": "code",
      "source": [
        "SELECT DISTINCT c.name\n",
        "FROM COMPANY AS c\n",
        "JOIN funding_round AS fr ON fr.company_id = c.id\n",
        "\n",
        "WHERE c.status LIKE 'closed'\n",
        "      AND fr.is_first_round = 1 and fr.is_last_round = 1;"
      ],
      "metadata": {
        "id": "NVlmGaUqwcUm"
      },
      "execution_count": null,
      "outputs": []
    },
    {
      "cell_type": "markdown",
      "source": [
        "**Задача 14**  \n",
        "  Составьте список уникальных номеров сотрудников, которые работают в компаниях, отобранных в предыдущем задании."
      ],
      "metadata": {
        "id": "DlzCg557wiLe"
      }
    },
    {
      "cell_type": "code",
      "source": [
        "SELECT DISTINCT p.id\n",
        "FROM people as p\n",
        "LEFT JOIN company AS c ON p.company_id = c.id\n",
        "WHERE C.name IN (SELECT DISTINCT c.name\n",
        "FROM COMPANY AS c\n",
        "JOIN funding_round AS fr ON fr.company_id = c.id\n",
        "\n",
        "WHERE c.status LIKE 'closed'\n",
        "      AND fr.is_first_round = 1 and fr.is_last_round = 1);"
      ],
      "metadata": {
        "id": "hyxpVSDNwtKJ"
      },
      "execution_count": null,
      "outputs": []
    },
    {
      "cell_type": "markdown",
      "source": [
        "**Задача 15**  \n",
        "\n",
        "Составьте таблицу, куда войдут уникальные пары с номерами сотрудников из предыдущей задачи и учебным заведением, которое окончил сотрудник."
      ],
      "metadata": {
        "id": "EkYTUzp4wuEm"
      }
    },
    {
      "cell_type": "code",
      "source": [
        "SELECT DISTINCT p.id,\n",
        "       e.instituition\n",
        "FROM people as p\n",
        "LEFT JOIN company AS c ON p.company_id = c.id\n",
        "JOIN education AS e on e.person_id=p.id\n",
        "WHERE C.name IN (SELECT DISTINCT c.name\n",
        "FROM COMPANY AS c\n",
        "JOIN funding_round AS fr ON fr.company_id = c.id\n",
        "\n",
        "WHERE c.status LIKE 'closed'\n",
        "      AND fr.is_first_round = 1 and fr.is_last_round = 1);"
      ],
      "metadata": {
        "id": "fDxvz3WSw3R0"
      },
      "execution_count": null,
      "outputs": []
    },
    {
      "cell_type": "markdown",
      "source": [
        "**Задача 16**  \n",
        "Посчитайте количество учебных заведений для каждого сотрудника из предыдущего задания. При подсчёте учитывайте, что некоторые сотрудники могли окончить одно и то же заведение дважды."
      ],
      "metadata": {
        "id": "OfK9JQFhw9m8"
      }
    },
    {
      "cell_type": "code",
      "source": [
        "SELECT DISTINCT p.id,\n",
        "       COUNT(e.instituition)\n",
        "FROM people as p\n",
        "LEFT JOIN company AS c ON p.company_id = c.id\n",
        "JOIN education AS e on e.person_id=p.id\n",
        "WHERE C.name IN (SELECT DISTINCT c.name\n",
        "FROM COMPANY AS c\n",
        "JOIN funding_round AS fr ON fr.company_id = c.id\n",
        "\n",
        "WHERE c.status LIKE 'closed'\n",
        "      AND fr.is_first_round = 1 and fr.is_last_round = 1)\n",
        "GROUP BY p.id;"
      ],
      "metadata": {
        "id": "rF83plVyxFVC"
      },
      "execution_count": null,
      "outputs": []
    },
    {
      "cell_type": "markdown",
      "source": [
        "**Задача 17**  \n",
        "Дополните предыдущий запрос и выведите среднее число учебных заведений (всех, не только уникальных), которые окончили сотрудники разных компаний. Нужно вывести только одну запись, группировка здесь не понадобится."
      ],
      "metadata": {
        "id": "n4ywQvttxKPs"
      }
    },
    {
      "cell_type": "code",
      "source": [
        "SELECT AVG(t.count)\n",
        "FROM(SELECT DISTINCT p.id,\n",
        "       COUNT(e.instituition) as count\n",
        "FROM people as p\n",
        "LEFT JOIN company AS c ON p.company_id = c.id\n",
        "JOIN education AS e on e.person_id=p.id\n",
        "WHERE C.name IN (SELECT DISTINCT c.name\n",
        "FROM COMPANY AS c\n",
        "JOIN funding_round AS fr ON fr.company_id = c.id\n",
        "\n",
        "WHERE c.status LIKE 'closed'\n",
        "      AND fr.is_first_round = 1 and fr.is_last_round = 1)\n",
        "GROUP BY p.id) AS t;"
      ],
      "metadata": {
        "id": "mudgb07TxRuy"
      },
      "execution_count": null,
      "outputs": []
    },
    {
      "cell_type": "markdown",
      "source": [
        "**Задача 18**  \n",
        "\n",
        "Напишите похожий запрос: выведите среднее число учебных заведений (всех, не только уникальных), которые окончили сотрудники Facebook*.\n",
        "*(сервис, запрещённый на территории РФ)"
      ],
      "metadata": {
        "id": "RpmO1NBZxbVJ"
      }
    },
    {
      "cell_type": "code",
      "source": [
        "SELECT AVG(t.count)\n",
        "FROM(SELECT DISTINCT p.id,\n",
        "       COUNT(e.instituition) as count\n",
        "FROM people as p\n",
        "LEFT JOIN company AS c ON p.company_id = c.id\n",
        "JOIN education AS e on e.person_id=p.id\n",
        "WHERE C.name = 'Facebook'\n",
        "GROUP BY p.id) AS t;"
      ],
      "metadata": {
        "id": "BG8H7BlOxpZQ"
      },
      "execution_count": null,
      "outputs": []
    },
    {
      "cell_type": "markdown",
      "source": [
        "**Задача 19**  \n",
        "Составьте таблицу из полей:\n",
        " - `name_of_fund` — название фонда;\n",
        " - `name_of_company` — название компании;\n",
        " - `amount` — сумма инвестиций, которую привлекла компания в раунде.\n",
        "В таблицу войдут данные о компаниях, в истории которых было больше шести важных этапов, а раунды финансирования проходили с 2012 по 2013 год включительно."
      ],
      "metadata": {
        "id": "UyAia_U2xsmp"
      }
    },
    {
      "cell_type": "code",
      "source": [
        "SELECT f.name AS name_of_fund,\n",
        "       c.name AS name_of_company,\n",
        "       fr.amount AS amount\n",
        "FROM fund AS f\n",
        "RIGHT JOIN investment AS i ON  f.id = i.fund_id\n",
        "RIGHT JOIN company AS c ON i.company_id = c.id\n",
        "iNNER JOIN (SELECT id,\n",
        "         raised_amount AS amount\n",
        "  FROM funding_round\n",
        "  WHERE CAST(funded_at AS date) BETWEEN '2012-01-01' AND '2013-12-31') AS fr ON fr.id = i.funding_round_id\n",
        "WHERE c.milestones > 6 ;"
      ],
      "metadata": {
        "id": "uwYu3VxNx_O7"
      },
      "execution_count": null,
      "outputs": []
    },
    {
      "cell_type": "markdown",
      "source": [
        "**Задача 20**  \n",
        "Выгрузите таблицу, в которой будут такие поля:\n",
        "- название компании-покупателя;\n",
        "- сумма сделки;\n",
        "- название компании, которую купили;\n",
        "- сумма инвестиций, вложенных в купленную компанию;\n",
        "- доля, которая отображает, во сколько раз сумма покупки превысила сумму вложенных в компанию инвестиций, округлённая до ближайшего целого числа.  \n",
        "\n",
        "Не учитывайте те сделки, в которых сумма покупки равна нулю. Если сумма инвестиций в компанию равна нулю, исключите такую компанию из таблицы.\n",
        "Отсортируйте таблицу по сумме сделки от большей к меньшей, а затем по названию купленной компании в лексикографическом порядке. Ограничьте таблицу первыми десятью записями. "
      ],
      "metadata": {
        "id": "46PNnHWgyFis"
      }
    },
    {
      "cell_type": "code",
      "source": [
        "SELECT c1.name AS acquiring_company,\n",
        "       a.price_amount AS price_amount,\n",
        "       c2.name AS acquired_company,\n",
        "       c2.funding_total AS funding_total,\n",
        "       ROUND(a.price_amount / c2.funding_total) AS PR\n",
        "FROM acquisition AS a \n",
        "LEFT JOIN company AS c1 ON a.acquiring_company_id = c1.id\n",
        "LEFT JOIN company AS c2 ON a.acquired_company_id = c2.id\n",
        "WHERE  a.price_amount !=0 AND c2.funding_total !=0\n",
        "ORDER BY price_amount DESC, acquired_company\n",
        "LIMIT 10;"
      ],
      "metadata": {
        "id": "L8lDsyyxymPD"
      },
      "execution_count": null,
      "outputs": []
    },
    {
      "cell_type": "markdown",
      "source": [
        "**Задача 21**  \n",
        "Выгрузите таблицу, в которую войдут названия компаний из категории `social`, получившие финансирование с 2010 по 2013 год включительно. Проверьте, что сумма инвестиций не равна нулю. Выведите также номер месяца, в котором проходил раунд финансирования. "
      ],
      "metadata": {
        "id": "DJhacVnEystk"
      }
    },
    {
      "cell_type": "code",
      "source": [
        "SELECT c.name AS name,\n",
        "       EXTRACt(MONTH FROM CAST(fr.funded_at AS date)) AS month\n",
        "FROM company AS c\n",
        "LEFT JOIN funding_round AS fr ON fr.company_id=c.id\n",
        "WHERE c.category_code LIKE 'social' AND fr.raised_amount <> 0\n",
        "     AND EXTRACt(YEAR FROM CAST(fr.funded_at AS date)) BETWEEN 2010 AND 2013"
      ],
      "metadata": {
        "id": "gwq_l8_iyz7a"
      },
      "execution_count": null,
      "outputs": []
    },
    {
      "cell_type": "markdown",
      "source": [
        "**Задача 22**  \n",
        "Отберите данные по месяцам с 2010 по 2013 год, когда проходили инвестиционные раунды. Сгруппируйте данные по номеру месяца и получите таблицу, в которой будут поля:\n",
        "- номер месяца, в котором проходили раунды;\n",
        "- количество уникальных названий фондов из США, которые инвестировали в этом месяце;\n",
        "- количество компаний, купленных за этот месяц;\n",
        "- общая сумма сделок по покупкам в этом месяце."
      ],
      "metadata": {
        "id": "Alqg67-RzFVX"
      }
    },
    {
      "cell_type": "code",
      "source": [
        "t1 AS (\n",
        "SELECT EXTRACT(MONTH FROM CAST(fr.funded_at AS date)) AS month,\n",
        "       COUNT(DISTINCT f.name) AS funds\n",
        "FROM funding_round AS fr\n",
        "JOIN investment AS i ON i.funding_round_id = fr.id\n",
        "JOIN fund AS f ON f.id = i.fund_id   \n",
        "WHERE CAST(funded_at AS date) BETWEEN '2010-01-01' AND '2013-12-31'\n",
        "     AND f.country_code LIKE 'USA'\n",
        "GROUP BY EXTRACT(MONTH FROM CAST(funded_at AS date))\n",
        "),\n",
        "t2 AS (\n",
        "SELECT EXTRACT(MONTH FROM CAST(acquired_at AS date)) AS month,\n",
        "       COUNT(acquired_company_id) AS acquired_company,\n",
        "       SUM(price_amount) AS amount\n",
        "FROM acquisition\n",
        "WHERE CAST(acquired_at AS date) BETWEEN '2010-01-01' AND '2013-12-31'\n",
        "GROUP BY EXTRACT(MONTH FROM CAST(acquired_at AS date))\n",
        ")\n",
        "SELECT t1.month,\n",
        "       t1.funds,\n",
        "       t2.acquired_company,\n",
        "       t2.amount\n",
        "FROM t1\n",
        "JOIN t2 ON t1.month = t2.month;"
      ],
      "metadata": {
        "id": "NDBp3UhpzgPx"
      },
      "execution_count": null,
      "outputs": []
    },
    {
      "cell_type": "markdown",
      "source": [
        "**Задача 23**  \n",
        "Составьте сводную таблицу и выведите среднюю сумму инвестиций для стран, в которых есть стартапы, зарегистрированные в 2011, 2012 и 2013 годах. Данные за каждый год должны быть в отдельном поле. Отсортируйте таблицу по среднему значению инвестиций за 2011 год от большего к меньшему.\n"
      ],
      "metadata": {
        "id": "_wv7nDpNzocZ"
      }
    },
    {
      "cell_type": "code",
      "source": [
        "WITH\n",
        "y1 AS (\n",
        "SELECT country_code,\n",
        "      AVG(funding_total) AS year_2011\n",
        "FROM company\n",
        "WHERE EXTRACT(YEAR FROM CAST(founded_at AS date)) = 2011\n",
        "GROUP BY country_code\n",
        "),\n",
        "y2 AS (\n",
        "SELECT country_code,\n",
        "       AVG(funding_total) AS year_2012\n",
        "FROM company\n",
        "WHERE EXTRACT(YEAR FROM CAST(founded_at AS date)) = 2012\n",
        "GROUP BY country_code\n",
        "),\n",
        "y3 AS (\n",
        "SELECT country_code,\n",
        "       AVG(funding_total) AS year_2013\n",
        "FROM company\n",
        "WHERE EXTRACT(YEAR FROM CAST(founded_at AS date)) = 2013\n",
        "GROUP BY country_code\n",
        ")\n",
        "SELECT y1.country_code,\n",
        "       y1.year_2011,\n",
        "       y2.year_2012,\n",
        "       y3.year_2013\n",
        "FROM y1\n",
        "JOIN y2 ON y1.country_code = y2.country_code\n",
        "JOIN y3 ON y1.country_code = y3.country_code\n",
        "ORDER BY y1.year_2011 DESC;"
      ],
      "metadata": {
        "id": "CMI-0yQ80AUh"
      },
      "execution_count": null,
      "outputs": []
    }
  ]
}