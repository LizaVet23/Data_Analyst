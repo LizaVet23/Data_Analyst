{
  "cells": [
    {
      "cell_type": "markdown",
      "source": [
        "# Проверка гипотез по увеличению выручки в интернет-магазине — оценка результаты A/B теста"
      ],
      "metadata": {
        "id": "52PZYKzKw8Ji"
      }
    },
    {
      "cell_type": "markdown",
      "metadata": {
        "id": "TTRfDvF0v3Je"
      },
      "source": [
        "## Введение "
      ]
    },
    {
      "cell_type": "markdown",
      "metadata": {
        "id": "m7bPJBTwv3Je"
      },
      "source": [
        "Для любой компании важно улучшать свои бизнес-метрики. В нашем интеренет-магазине, совместно с отделом маркетинга, мы подготовили список гипотез для улучшения наших бизнес-метрик.\n",
        "<br>В данной работе мы выберем наиболее приоритетные гипотезы,а в дальнейшем, разберем результаты проведенного A/B теста."
      ]
    },
    {
      "cell_type": "markdown",
      "metadata": {
        "id": "0hXHdekCv3Jf"
      },
      "source": [
        "## Изучение и предобработка данных"
      ]
    },
    {
      "cell_type": "markdown",
      "metadata": {
        "id": "GL5a2YAjv3Jf"
      },
      "source": [
        "Для анализа у нас имеются три датафрейма. Для начала импортируем необходимые для анализа библиотеки и изучим полученные таблицы."
      ]
    },
    {
      "cell_type": "code",
      "execution_count": null,
      "metadata": {
        "id": "p8PpCAoZv3Jf"
      },
      "outputs": [],
      "source": [
        "#импорт библиотек\n",
        "import pandas as pd\n",
        "from scipy import stats as st\n",
        "import datetime as dt\n",
        "import numpy as np\n",
        "import matplotlib.pyplot as plt\n",
        "from pandas.plotting import register_matplotlib_converters\n",
        "import warnings\n",
        "pd.options.display.float_format = '{: .2f}'.format\n",
        "pd.set_option('display.max_colwidth', None)\n",
        "\n",
        "import plotly.io as pio\n",
        "pio.renderers.default = \"png\""
      ]
    },
    {
      "cell_type": "code",
      "execution_count": null,
      "metadata": {
        "id": "nlMjs9w2v3Jg"
      },
      "outputs": [],
      "source": [
        "hypothesis = pd.read_csv('/datasets/hypothesis.csv')\n",
        "orders = pd.read_csv('/datasets/orders.csv')\n",
        "visitors = pd.read_csv('/datasets/visitors.csv')"
      ]
    },
    {
      "cell_type": "markdown",
      "metadata": {
        "id": "70RvJrh7v3Jh"
      },
      "source": [
        "Изучим подробнее информацию о датафреймах."
      ]
    },
    {
      "cell_type": "code",
      "execution_count": null,
      "metadata": {
        "scrolled": true,
        "id": "8ezbn1lpv3Jh",
        "outputId": "a42c52ad-f820-4f42-f10b-f0b1e8e70ccc"
      },
      "outputs": [
        {
          "name": "stdout",
          "output_type": "stream",
          "text": [
            "<class 'pandas.core.frame.DataFrame'>\n",
            "RangeIndex: 9 entries, 0 to 8\n",
            "Data columns (total 5 columns):\n",
            " #   Column      Non-Null Count  Dtype \n",
            "---  ------      --------------  ----- \n",
            " 0   Hypothesis  9 non-null      object\n",
            " 1   Reach       9 non-null      int64 \n",
            " 2   Impact      9 non-null      int64 \n",
            " 3   Confidence  9 non-null      int64 \n",
            " 4   Efforts     9 non-null      int64 \n",
            "dtypes: int64(4), object(1)\n",
            "memory usage: 488.0+ bytes\n",
            "<class 'pandas.core.frame.DataFrame'>\n",
            "RangeIndex: 1197 entries, 0 to 1196\n",
            "Data columns (total 5 columns):\n",
            " #   Column         Non-Null Count  Dtype \n",
            "---  ------         --------------  ----- \n",
            " 0   transactionId  1197 non-null   int64 \n",
            " 1   visitorId      1197 non-null   int64 \n",
            " 2   date           1197 non-null   object\n",
            " 3   revenue        1197 non-null   int64 \n",
            " 4   group          1197 non-null   object\n",
            "dtypes: int64(3), object(2)\n",
            "memory usage: 46.9+ KB\n",
            "<class 'pandas.core.frame.DataFrame'>\n",
            "RangeIndex: 62 entries, 0 to 61\n",
            "Data columns (total 3 columns):\n",
            " #   Column    Non-Null Count  Dtype \n",
            "---  ------    --------------  ----- \n",
            " 0   date      62 non-null     object\n",
            " 1   group     62 non-null     object\n",
            " 2   visitors  62 non-null     int64 \n",
            "dtypes: int64(1), object(2)\n",
            "memory usage: 1.6+ KB\n"
          ]
        }
      ],
      "source": [
        "#вывод основной информации о таблицах\n",
        "hypothesis.info()\n",
        "orders.info()\n",
        "visitors.info()"
      ]
    },
    {
      "cell_type": "markdown",
      "metadata": {
        "id": "RgQro_PZv3Jh"
      },
      "source": [
        "Для начала заменим в таблице `hypothesis` наименование столбцов на нижний регистр, а так же в таблице `orders` переименуем пару столбцов под змеиный регистр."
      ]
    },
    {
      "cell_type": "code",
      "execution_count": null,
      "metadata": {
        "id": "XbhRDBZSv3Ji"
      },
      "outputs": [],
      "source": [
        "#переименование столбцов\n",
        "hypothesis.columns = [x.lower() for x in hypothesis.columns]\n",
        "orders = orders.rename(columns={'transactionId': 'transaction_id','visitorId': 'visitor_id'}) \n"
      ]
    },
    {
      "cell_type": "markdown",
      "metadata": {
        "id": "_rU7x_8gv3Ji"
      },
      "source": [
        "В таблицах `orders` и`visitors` есть столбцы с датами, но в обоих таблицах не верный тип данных. Приведем даты к типу данных `datetime`."
      ]
    },
    {
      "cell_type": "code",
      "execution_count": null,
      "metadata": {
        "scrolled": true,
        "id": "UCLJOKrNv3Ji"
      },
      "outputs": [],
      "source": [
        "#изменение типа данных на datetime\n",
        "orders['date'] = orders['date'].map(\n",
        "    lambda x: dt.datetime.strptime(x, '%Y-%m-%d')\n",
        ")\n",
        "    \n",
        "visitors['date'] = visitors['date'].map(\n",
        "    lambda x: dt.datetime.strptime(x, '%Y-%m-%d')\n",
        ")\n"
      ]
    },
    {
      "cell_type": "markdown",
      "metadata": {
        "id": "xGLXEJ1Pv3Ji"
      },
      "source": [
        "Проверим нет ли явных дубликатов в таблицах."
      ]
    },
    {
      "cell_type": "code",
      "execution_count": null,
      "metadata": {
        "id": "UuWPJiEBv3Ji",
        "outputId": "9608c13b-c808-4e35-ecf9-2ecda54b3af5"
      },
      "outputs": [
        {
          "data": {
            "text/plain": [
              "0"
            ]
          },
          "execution_count": 6,
          "metadata": {},
          "output_type": "execute_result"
        }
      ],
      "source": [
        "orders.duplicated().sum()"
      ]
    },
    {
      "cell_type": "code",
      "execution_count": null,
      "metadata": {
        "scrolled": true,
        "id": "gntcAchev3Ji",
        "outputId": "eebaf310-0dbe-4ab1-ca36-6fce65e6ad16"
      },
      "outputs": [
        {
          "data": {
            "text/plain": [
              "0"
            ]
          },
          "execution_count": 7,
          "metadata": {},
          "output_type": "execute_result"
        }
      ],
      "source": [
        "visitors.duplicated().sum()"
      ]
    },
    {
      "cell_type": "markdown",
      "metadata": {
        "id": "0IcSy0K5v3Ji"
      },
      "source": [
        "И в таблице `orders` и в `visitors` явных дубликатов нет.\n",
        "<br>Посмотрим сколько какие уникальные значения попадаются у нас в таблице `visitors`, в столбце `group` и удостоверимся, что группы у нас только две."
      ]
    },
    {
      "cell_type": "code",
      "execution_count": null,
      "metadata": {
        "id": "DHbrD1b0v3Jj",
        "outputId": "ec9f8bd6-5c42-4588-ab1b-f1983178e52c"
      },
      "outputs": [
        {
          "data": {
            "text/plain": [
              "array(['A', 'B'], dtype=object)"
            ]
          },
          "execution_count": 8,
          "metadata": {},
          "output_type": "execute_result"
        }
      ],
      "source": [
        "visitors['group'].unique()"
      ]
    },
    {
      "cell_type": "markdown",
      "metadata": {
        "id": "h2jaP_eEv3Jj"
      },
      "source": [
        "Теперь посмотрим, если ли пользователи, которые попали одновременно в обе группы."
      ]
    },
    {
      "cell_type": "code",
      "execution_count": null,
      "metadata": {
        "id": "WLMIC0Hcv3Jj",
        "outputId": "fdf637ac-173a-45b1-c534-a7feea9e5960"
      },
      "outputs": [
        {
          "data": {
            "text/plain": [
              "58"
            ]
          },
          "execution_count": 9,
          "metadata": {},
          "output_type": "execute_result"
        }
      ],
      "source": [
        "len(np.intersect1d(orders.query('group == \"A\"')['visitor_id'].unique(), orders.query('group == \"B\"')['visitor_id'].unique()))"
      ]
    },
    {
      "cell_type": "markdown",
      "metadata": {
        "id": "RgKfdAdUv3Jj"
      },
      "source": [
        "Мы видим, что 58 `visitor_id` встречаются в обеих группах, но мы не будем удалять эти данные, т.к. в дальнейшем мы будем анализировать не действия конкретных пользователей, а отдельные сессии этих пользователей. И если пользователь попал в обе группы, то это значит, что именно сессии делили на группы, а не пользователей."
      ]
    },
    {
      "cell_type": "markdown",
      "metadata": {
        "id": "eqNzpvymv3Jj"
      },
      "source": [
        "## Приоритизация гипотез"
      ]
    },
    {
      "cell_type": "markdown",
      "metadata": {
        "id": "CyecCQ8kv3Jj"
      },
      "source": [
        "Для приоритизации гипотез будем использовать два способа **ICE** и **RICE**.\n",
        "<br> Выведем таблицу со списком гипотез."
      ]
    },
    {
      "cell_type": "code",
      "execution_count": null,
      "metadata": {
        "id": "W7AeynBov3Jj",
        "outputId": "6f61b234-138b-4fa5-d357-c345bff2dbe8"
      },
      "outputs": [
        {
          "data": {
            "text/html": [
              "<div>\n",
              "<style scoped>\n",
              "    .dataframe tbody tr th:only-of-type {\n",
              "        vertical-align: middle;\n",
              "    }\n",
              "\n",
              "    .dataframe tbody tr th {\n",
              "        vertical-align: top;\n",
              "    }\n",
              "\n",
              "    .dataframe thead th {\n",
              "        text-align: right;\n",
              "    }\n",
              "</style>\n",
              "<table border=\"1\" class=\"dataframe\">\n",
              "  <thead>\n",
              "    <tr style=\"text-align: right;\">\n",
              "      <th></th>\n",
              "      <th>hypothesis</th>\n",
              "      <th>reach</th>\n",
              "      <th>impact</th>\n",
              "      <th>confidence</th>\n",
              "      <th>efforts</th>\n",
              "    </tr>\n",
              "  </thead>\n",
              "  <tbody>\n",
              "    <tr>\n",
              "      <th>0</th>\n",
              "      <td>Добавить два новых канала привлечения трафика, что позволит привлекать на 30% больше пользователей</td>\n",
              "      <td>3</td>\n",
              "      <td>10</td>\n",
              "      <td>8</td>\n",
              "      <td>6</td>\n",
              "    </tr>\n",
              "    <tr>\n",
              "      <th>1</th>\n",
              "      <td>Запустить собственную службу доставки, что сократит срок доставки заказов</td>\n",
              "      <td>2</td>\n",
              "      <td>5</td>\n",
              "      <td>4</td>\n",
              "      <td>10</td>\n",
              "    </tr>\n",
              "    <tr>\n",
              "      <th>2</th>\n",
              "      <td>Добавить блоки рекомендаций товаров на сайт интернет магазина, чтобы повысить конверсию и средний чек заказа</td>\n",
              "      <td>8</td>\n",
              "      <td>3</td>\n",
              "      <td>7</td>\n",
              "      <td>3</td>\n",
              "    </tr>\n",
              "    <tr>\n",
              "      <th>3</th>\n",
              "      <td>Изменить структура категорий, что увеличит конверсию, т.к. пользователи быстрее найдут нужный товар</td>\n",
              "      <td>8</td>\n",
              "      <td>3</td>\n",
              "      <td>3</td>\n",
              "      <td>8</td>\n",
              "    </tr>\n",
              "    <tr>\n",
              "      <th>4</th>\n",
              "      <td>Изменить цвет фона главной страницы, чтобы увеличить вовлеченность пользователей</td>\n",
              "      <td>3</td>\n",
              "      <td>1</td>\n",
              "      <td>1</td>\n",
              "      <td>1</td>\n",
              "    </tr>\n",
              "    <tr>\n",
              "      <th>5</th>\n",
              "      <td>Добавить страницу отзывов клиентов о магазине, что позволит увеличить количество заказов</td>\n",
              "      <td>3</td>\n",
              "      <td>2</td>\n",
              "      <td>2</td>\n",
              "      <td>3</td>\n",
              "    </tr>\n",
              "    <tr>\n",
              "      <th>6</th>\n",
              "      <td>Показать на главной странице баннеры с актуальными акциями и распродажами, чтобы увеличить конверсию</td>\n",
              "      <td>5</td>\n",
              "      <td>3</td>\n",
              "      <td>8</td>\n",
              "      <td>3</td>\n",
              "    </tr>\n",
              "    <tr>\n",
              "      <th>7</th>\n",
              "      <td>Добавить форму подписки на все основные страницы, чтобы собрать базу клиентов для email-рассылок</td>\n",
              "      <td>10</td>\n",
              "      <td>7</td>\n",
              "      <td>8</td>\n",
              "      <td>5</td>\n",
              "    </tr>\n",
              "    <tr>\n",
              "      <th>8</th>\n",
              "      <td>Запустить акцию, дающую скидку на товар в день рождения</td>\n",
              "      <td>1</td>\n",
              "      <td>9</td>\n",
              "      <td>9</td>\n",
              "      <td>5</td>\n",
              "    </tr>\n",
              "  </tbody>\n",
              "</table>\n",
              "</div>"
            ],
            "text/plain": [
              "                                                                                                     hypothesis  \\\n",
              "0            Добавить два новых канала привлечения трафика, что позволит привлекать на 30% больше пользователей   \n",
              "1                                     Запустить собственную службу доставки, что сократит срок доставки заказов   \n",
              "2  Добавить блоки рекомендаций товаров на сайт интернет магазина, чтобы повысить конверсию и средний чек заказа   \n",
              "3           Изменить структура категорий, что увеличит конверсию, т.к. пользователи быстрее найдут нужный товар   \n",
              "4                              Изменить цвет фона главной страницы, чтобы увеличить вовлеченность пользователей   \n",
              "5                      Добавить страницу отзывов клиентов о магазине, что позволит увеличить количество заказов   \n",
              "6          Показать на главной странице баннеры с актуальными акциями и распродажами, чтобы увеличить конверсию   \n",
              "7              Добавить форму подписки на все основные страницы, чтобы собрать базу клиентов для email-рассылок   \n",
              "8                                                       Запустить акцию, дающую скидку на товар в день рождения   \n",
              "\n",
              "   reach  impact  confidence  efforts  \n",
              "0      3      10           8        6  \n",
              "1      2       5           4       10  \n",
              "2      8       3           7        3  \n",
              "3      8       3           3        8  \n",
              "4      3       1           1        1  \n",
              "5      3       2           2        3  \n",
              "6      5       3           8        3  \n",
              "7     10       7           8        5  \n",
              "8      1       9           9        5  "
            ]
          },
          "execution_count": 10,
          "metadata": {},
          "output_type": "execute_result"
        }
      ],
      "source": [
        "hypothesis"
      ]
    },
    {
      "cell_type": "markdown",
      "metadata": {
        "id": "hGqy3TLuv3Jj"
      },
      "source": [
        "Всего у нас 9 гипотез. Для каждой гипотезы есть свои оценки(от 1 до 10) по четырем компонентам:\n",
        " - reach — скольких пользователей затронет изменение;\n",
        " - impact — насколько сильно изменение повлияет на пользователей, их опыт и удовлетворение от продукта;\n",
        " - confidence — насколько вы уверены, что это изменение повлияет на пользователей именно так;\n",
        " - efforts — сколько стоит протестировать эту гипотезу."
      ]
    },
    {
      "cell_type": "markdown",
      "metadata": {
        "id": "sySRuvkyv3Jk"
      },
      "source": [
        "### ICE"
      ]
    },
    {
      "cell_type": "markdown",
      "metadata": {
        "id": "3o6v92hOv3Jk"
      },
      "source": [
        "Для способа **ICE** нам понадобятся только три компонента.\n",
        "<br>**ICE** считается по формуле:\n",
        "$$\\frac{impact × confidence}{efforts}$$"
      ]
    },
    {
      "cell_type": "code",
      "execution_count": null,
      "metadata": {
        "scrolled": true,
        "id": "I62hSE1Av3Jk",
        "outputId": "ecd44d97-c12f-4ed7-f5d1-5ac306c4b755"
      },
      "outputs": [
        {
          "data": {
            "text/html": [
              "<div>\n",
              "<style scoped>\n",
              "    .dataframe tbody tr th:only-of-type {\n",
              "        vertical-align: middle;\n",
              "    }\n",
              "\n",
              "    .dataframe tbody tr th {\n",
              "        vertical-align: top;\n",
              "    }\n",
              "\n",
              "    .dataframe thead th {\n",
              "        text-align: right;\n",
              "    }\n",
              "</style>\n",
              "<table border=\"1\" class=\"dataframe\">\n",
              "  <thead>\n",
              "    <tr style=\"text-align: right;\">\n",
              "      <th></th>\n",
              "      <th>hypothesis</th>\n",
              "      <th>ICE</th>\n",
              "    </tr>\n",
              "  </thead>\n",
              "  <tbody>\n",
              "    <tr>\n",
              "      <th>8</th>\n",
              "      <td>Запустить акцию, дающую скидку на товар в день рождения</td>\n",
              "      <td>16.20</td>\n",
              "    </tr>\n",
              "    <tr>\n",
              "      <th>0</th>\n",
              "      <td>Добавить два новых канала привлечения трафика, что позволит привлекать на 30% больше пользователей</td>\n",
              "      <td>13.33</td>\n",
              "    </tr>\n",
              "    <tr>\n",
              "      <th>7</th>\n",
              "      <td>Добавить форму подписки на все основные страницы, чтобы собрать базу клиентов для email-рассылок</td>\n",
              "      <td>11.20</td>\n",
              "    </tr>\n",
              "    <tr>\n",
              "      <th>6</th>\n",
              "      <td>Показать на главной странице баннеры с актуальными акциями и распродажами, чтобы увеличить конверсию</td>\n",
              "      <td>8.00</td>\n",
              "    </tr>\n",
              "    <tr>\n",
              "      <th>2</th>\n",
              "      <td>Добавить блоки рекомендаций товаров на сайт интернет магазина, чтобы повысить конверсию и средний чек заказа</td>\n",
              "      <td>7.00</td>\n",
              "    </tr>\n",
              "    <tr>\n",
              "      <th>1</th>\n",
              "      <td>Запустить собственную службу доставки, что сократит срок доставки заказов</td>\n",
              "      <td>2.00</td>\n",
              "    </tr>\n",
              "    <tr>\n",
              "      <th>5</th>\n",
              "      <td>Добавить страницу отзывов клиентов о магазине, что позволит увеличить количество заказов</td>\n",
              "      <td>1.33</td>\n",
              "    </tr>\n",
              "    <tr>\n",
              "      <th>3</th>\n",
              "      <td>Изменить структура категорий, что увеличит конверсию, т.к. пользователи быстрее найдут нужный товар</td>\n",
              "      <td>1.12</td>\n",
              "    </tr>\n",
              "    <tr>\n",
              "      <th>4</th>\n",
              "      <td>Изменить цвет фона главной страницы, чтобы увеличить вовлеченность пользователей</td>\n",
              "      <td>1.00</td>\n",
              "    </tr>\n",
              "  </tbody>\n",
              "</table>\n",
              "</div>"
            ],
            "text/plain": [
              "                                                                                                     hypothesis  \\\n",
              "8                                                       Запустить акцию, дающую скидку на товар в день рождения   \n",
              "0            Добавить два новых канала привлечения трафика, что позволит привлекать на 30% больше пользователей   \n",
              "7              Добавить форму подписки на все основные страницы, чтобы собрать базу клиентов для email-рассылок   \n",
              "6          Показать на главной странице баннеры с актуальными акциями и распродажами, чтобы увеличить конверсию   \n",
              "2  Добавить блоки рекомендаций товаров на сайт интернет магазина, чтобы повысить конверсию и средний чек заказа   \n",
              "1                                     Запустить собственную службу доставки, что сократит срок доставки заказов   \n",
              "5                      Добавить страницу отзывов клиентов о магазине, что позволит увеличить количество заказов   \n",
              "3           Изменить структура категорий, что увеличит конверсию, т.к. пользователи быстрее найдут нужный товар   \n",
              "4                              Изменить цвет фона главной страницы, чтобы увеличить вовлеченность пользователей   \n",
              "\n",
              "     ICE  \n",
              "8  16.20  \n",
              "0  13.33  \n",
              "7  11.20  \n",
              "6   8.00  \n",
              "2   7.00  \n",
              "1   2.00  \n",
              "5   1.33  \n",
              "3   1.12  \n",
              "4   1.00  "
            ]
          },
          "execution_count": 11,
          "metadata": {},
          "output_type": "execute_result"
        }
      ],
      "source": [
        "#расчет ICE\n",
        "hypothesis['ICE'] =  (hypothesis['impact']  * hypothesis['confidence']) / hypothesis['efforts']\n",
        "\n",
        "hypothesis[['hypothesis','ICE']].sort_values('ICE', ascending=False)"
      ]
    },
    {
      "cell_type": "markdown",
      "metadata": {
        "id": "Rw2oN4Lnv3Jk"
      },
      "source": [
        "Итак, наибольшую приоритетность при получили гипотезы с индексами *8, 0 и 7*"
      ]
    },
    {
      "cell_type": "markdown",
      "metadata": {
        "id": "yQ707Rcnv3Jk"
      },
      "source": [
        "### RICE"
      ]
    },
    {
      "cell_type": "markdown",
      "metadata": {
        "id": "WGRpDt_Cv3Jk"
      },
      "source": [
        "**RICE** находится по формуле: \n",
        "$$\\frac{impact × confidence × confidence}{efforts}$$"
      ]
    },
    {
      "cell_type": "code",
      "execution_count": null,
      "metadata": {
        "scrolled": false,
        "id": "uL6wK4ofv3Jk",
        "outputId": "2e4724bc-10e5-4937-8ce3-c975a4a735fd"
      },
      "outputs": [
        {
          "data": {
            "text/html": [
              "<div>\n",
              "<style scoped>\n",
              "    .dataframe tbody tr th:only-of-type {\n",
              "        vertical-align: middle;\n",
              "    }\n",
              "\n",
              "    .dataframe tbody tr th {\n",
              "        vertical-align: top;\n",
              "    }\n",
              "\n",
              "    .dataframe thead th {\n",
              "        text-align: right;\n",
              "    }\n",
              "</style>\n",
              "<table border=\"1\" class=\"dataframe\">\n",
              "  <thead>\n",
              "    <tr style=\"text-align: right;\">\n",
              "      <th></th>\n",
              "      <th>hypothesis</th>\n",
              "      <th>RICE</th>\n",
              "    </tr>\n",
              "  </thead>\n",
              "  <tbody>\n",
              "    <tr>\n",
              "      <th>7</th>\n",
              "      <td>Добавить форму подписки на все основные страницы, чтобы собрать базу клиентов для email-рассылок</td>\n",
              "      <td>112.00</td>\n",
              "    </tr>\n",
              "    <tr>\n",
              "      <th>2</th>\n",
              "      <td>Добавить блоки рекомендаций товаров на сайт интернет магазина, чтобы повысить конверсию и средний чек заказа</td>\n",
              "      <td>56.00</td>\n",
              "    </tr>\n",
              "    <tr>\n",
              "      <th>0</th>\n",
              "      <td>Добавить два новых канала привлечения трафика, что позволит привлекать на 30% больше пользователей</td>\n",
              "      <td>40.00</td>\n",
              "    </tr>\n",
              "    <tr>\n",
              "      <th>6</th>\n",
              "      <td>Показать на главной странице баннеры с актуальными акциями и распродажами, чтобы увеличить конверсию</td>\n",
              "      <td>40.00</td>\n",
              "    </tr>\n",
              "    <tr>\n",
              "      <th>8</th>\n",
              "      <td>Запустить акцию, дающую скидку на товар в день рождения</td>\n",
              "      <td>16.20</td>\n",
              "    </tr>\n",
              "    <tr>\n",
              "      <th>3</th>\n",
              "      <td>Изменить структура категорий, что увеличит конверсию, т.к. пользователи быстрее найдут нужный товар</td>\n",
              "      <td>9.00</td>\n",
              "    </tr>\n",
              "    <tr>\n",
              "      <th>1</th>\n",
              "      <td>Запустить собственную службу доставки, что сократит срок доставки заказов</td>\n",
              "      <td>4.00</td>\n",
              "    </tr>\n",
              "    <tr>\n",
              "      <th>5</th>\n",
              "      <td>Добавить страницу отзывов клиентов о магазине, что позволит увеличить количество заказов</td>\n",
              "      <td>4.00</td>\n",
              "    </tr>\n",
              "    <tr>\n",
              "      <th>4</th>\n",
              "      <td>Изменить цвет фона главной страницы, чтобы увеличить вовлеченность пользователей</td>\n",
              "      <td>3.00</td>\n",
              "    </tr>\n",
              "  </tbody>\n",
              "</table>\n",
              "</div>"
            ],
            "text/plain": [
              "                                                                                                     hypothesis  \\\n",
              "7              Добавить форму подписки на все основные страницы, чтобы собрать базу клиентов для email-рассылок   \n",
              "2  Добавить блоки рекомендаций товаров на сайт интернет магазина, чтобы повысить конверсию и средний чек заказа   \n",
              "0            Добавить два новых канала привлечения трафика, что позволит привлекать на 30% больше пользователей   \n",
              "6          Показать на главной странице баннеры с актуальными акциями и распродажами, чтобы увеличить конверсию   \n",
              "8                                                       Запустить акцию, дающую скидку на товар в день рождения   \n",
              "3           Изменить структура категорий, что увеличит конверсию, т.к. пользователи быстрее найдут нужный товар   \n",
              "1                                     Запустить собственную службу доставки, что сократит срок доставки заказов   \n",
              "5                      Добавить страницу отзывов клиентов о магазине, что позволит увеличить количество заказов   \n",
              "4                              Изменить цвет фона главной страницы, чтобы увеличить вовлеченность пользователей   \n",
              "\n",
              "     RICE  \n",
              "7  112.00  \n",
              "2   56.00  \n",
              "0   40.00  \n",
              "6   40.00  \n",
              "8   16.20  \n",
              "3    9.00  \n",
              "1    4.00  \n",
              "5    4.00  \n",
              "4    3.00  "
            ]
          },
          "execution_count": 12,
          "metadata": {},
          "output_type": "execute_result"
        }
      ],
      "source": [
        "#расчет RICE\n",
        "hypothesis['RICE'] = (hypothesis['reach'] * hypothesis['impact'] * hypothesis['confidence']) /hypothesis['efforts']\n",
        "hypothesis[['hypothesis', 'RICE']].sort_values('RICE', ascending = False)"
      ]
    },
    {
      "cell_type": "markdown",
      "metadata": {
        "id": "9wa6wKGfv3Jl"
      },
      "source": [
        "При расчете способом **RICE**, самыми приоритетными оказались гипотезы с индексами *7, 2 и 0*."
      ]
    },
    {
      "cell_type": "markdown",
      "metadata": {
        "id": "2gBlKlIMv3Jl"
      },
      "source": [
        "### Вывод"
      ]
    },
    {
      "cell_type": "markdown",
      "metadata": {
        "id": "aqcMqKYFv3Jl"
      },
      "source": [
        "Первые тройки лидеров у методов приоритизации **ICE** и **RICE** отличаются. Это происходит из-за того, что при использовании второго способа так же учитывается охват.\n",
        "<br>Однако, и и в первом случае и во втором, в топ-3 вошли гипотезы с индексами *7 и 0*. Именно на них стоитт обратить внимание в первую очередь."
      ]
    },
    {
      "cell_type": "markdown",
      "metadata": {
        "id": "JcFrsrdXv3Jm"
      },
      "source": [
        "## Анализ A/B-теста"
      ]
    },
    {
      "cell_type": "markdown",
      "metadata": {
        "id": "k7HiU-pBv3Jm"
      },
      "source": [
        "### Кумулятивные метрики"
      ]
    },
    {
      "cell_type": "markdown",
      "metadata": {
        "id": "dKO-TOMyv3Jm"
      },
      "source": [
        "#### График кумулятивной выручки по группам"
      ]
    },
    {
      "cell_type": "markdown",
      "metadata": {
        "id": "HVqqUhJ1v3Jm"
      },
      "source": [
        "Построим график кумулятивной выручки по группам."
      ]
    },
    {
      "cell_type": "code",
      "execution_count": null,
      "metadata": {
        "scrolled": false,
        "id": "ZNWnVZUNv3Jm",
        "outputId": "2e8084d3-70c1-4316-b879-200443785c6b"
      },
      "outputs": [
        {
          "name": "stdout",
          "output_type": "stream",
          "text": [
            "        date group  transaction_id  buyers  revenue  visitors\n",
            "0 2019-08-01     A              24      20   148579       719\n",
            "1 2019-08-01     B              21      20   101217       713\n",
            "2 2019-08-02     A              44      38   242401      1338\n",
            "3 2019-08-02     B              45      43   266748      1294\n",
            "4 2019-08-03     A              68      62   354874      1845\n"
          ]
        },
        {
          "data": {
            "image/png": "[encoded data removed]",
            "text/plain": [
              "<Figure size 432x288 with 1 Axes>"
            ]
          },
          "metadata": {
            "needs_background": "light"
          },
          "output_type": "display_data"
        }
      ],
      "source": [
        "#Создаем датафрейм dates_groups с уникальными парами значений 'date' и 'group'\n",
        "dates_groups = orders[['date', 'group']].drop_duplicates()\n",
        "\n",
        "# расчет суммы средних чеков\n",
        "orders_aggregated = dates_groups.apply(lambda x: orders[np.logical_and(orders['date'] <= x['date'], orders['group'] == x['group'])].agg({\n",
        "'date' : 'max',\n",
        "'group' : 'max',\n",
        "'transaction_id' : pd.Series.nunique,\n",
        "'visitor_id' : pd.Series.nunique,\n",
        "'revenue' : 'sum'}), axis=1).sort_values(by=['date','group'])\n",
        "\n",
        "#расчет агрегированныч кумулятивных данных о посетителях по дням \n",
        "visitors_aggregated = dates_groups.apply(\n",
        "    lambda x: visitors[np.logical_and(visitors['date'] <= x['date'], visitors['group'] == x['group'])].\n",
        "        agg({'date' : 'max', 'group' : 'max', 'visitors' : 'sum'}), axis=1).sort_values(by=['date','group'])\n",
        "#объединяем кумулятивные данные\n",
        "cumulative_data = orders_aggregated.merge(visitors_aggregated, left_on=['date', 'group'], right_on=['date', 'group'])\n",
        "cumulative_data.columns = ['date', 'group', 'transaction_id', 'buyers', 'revenue', 'visitors']\n",
        "\n",
        "\n",
        "print(cumulative_data.head(5))\n",
        "# датафрейм с кумулятивным количеством заказов и кумулятивной выручкой по дням в группе А\n",
        "cumulative_revenue_A = cumulative_data[cumulative_data['group'] =='A'][['date','revenue', 'transaction_id']]\n",
        "# датафрейм с кумулятивным количеством заказов и кумулятивной выручкой по дням в группе B\n",
        "cumulative_revenue_B = cumulative_data[cumulative_data['group'] =='B'][['date','revenue', 'transaction_id']]\n",
        "\n",
        "#построение графика выручки групп А и B\n",
        "plt.plot(cumulative_revenue_A['date'], cumulative_revenue_A['revenue'], label = 'A')\n",
        "plt.plot(cumulative_revenue_B['date'], cumulative_revenue_B['revenue'], label = 'B')\n",
        "plt.xticks(rotation = 45)\n",
        "plt.legend()\n",
        "plt.title(\"Кумулятивная выручка по группам\")\n",
        "plt.xlabel(\"дата\")\n",
        "plt.ylabel(\"выручка\")\n",
        "plt.show()"
      ]
    },
    {
      "cell_type": "markdown",
      "metadata": {
        "id": "3ovjkB4Cv3Jm"
      },
      "source": [
        "Выручка почти равномерно увеличивается в течение всего теста.Выручка в группе **B** стабильно выше на протяжении всего теста.\n",
        "<br> В группе **B** наблюдается резкий рост с 19 августа 2019г. Скорее всего на этот скачек повлияли аномалии в данных.<br> Посмотрим 5 самых дорогих заказов в группе **B** за 19 августа. А так же найдем медиальное значение за эту же дату."
      ]
    },
    {
      "cell_type": "code",
      "execution_count": null,
      "metadata": {
        "scrolled": false,
        "id": "_PBnWtobv3Jm",
        "outputId": "d2f4559d-86cb-44ca-8c82-5b547ea6a6e4"
      },
      "outputs": [
        {
          "data": {
            "text/html": [
              "<div>\n",
              "<style scoped>\n",
              "    .dataframe tbody tr th:only-of-type {\n",
              "        vertical-align: middle;\n",
              "    }\n",
              "\n",
              "    .dataframe tbody tr th {\n",
              "        vertical-align: top;\n",
              "    }\n",
              "\n",
              "    .dataframe thead th {\n",
              "        text-align: right;\n",
              "    }\n",
              "</style>\n",
              "<table border=\"1\" class=\"dataframe\">\n",
              "  <thead>\n",
              "    <tr style=\"text-align: right;\">\n",
              "      <th></th>\n",
              "      <th>transaction_id</th>\n",
              "      <th>visitor_id</th>\n",
              "      <th>date</th>\n",
              "      <th>revenue</th>\n",
              "      <th>group</th>\n",
              "    </tr>\n",
              "  </thead>\n",
              "  <tbody>\n",
              "    <tr>\n",
              "      <th>425</th>\n",
              "      <td>590470918</td>\n",
              "      <td>1920142716</td>\n",
              "      <td>2019-08-19</td>\n",
              "      <td>1294500</td>\n",
              "      <td>B</td>\n",
              "    </tr>\n",
              "    <tr>\n",
              "      <th>527</th>\n",
              "      <td>1570513684</td>\n",
              "      <td>2837914161</td>\n",
              "      <td>2019-08-19</td>\n",
              "      <td>33405</td>\n",
              "      <td>B</td>\n",
              "    </tr>\n",
              "    <tr>\n",
              "      <th>461</th>\n",
              "      <td>2683113224</td>\n",
              "      <td>154576532</td>\n",
              "      <td>2019-08-19</td>\n",
              "      <td>26550</td>\n",
              "      <td>B</td>\n",
              "    </tr>\n",
              "    <tr>\n",
              "      <th>368</th>\n",
              "      <td>3268879337</td>\n",
              "      <td>2536252163</td>\n",
              "      <td>2019-08-19</td>\n",
              "      <td>20026</td>\n",
              "      <td>B</td>\n",
              "    </tr>\n",
              "    <tr>\n",
              "      <th>463</th>\n",
              "      <td>4170537404</td>\n",
              "      <td>290022471</td>\n",
              "      <td>2019-08-19</td>\n",
              "      <td>16480</td>\n",
              "      <td>B</td>\n",
              "    </tr>\n",
              "  </tbody>\n",
              "</table>\n",
              "</div>"
            ],
            "text/plain": [
              "     transaction_id  visitor_id       date  revenue group\n",
              "425       590470918  1920142716 2019-08-19  1294500     B\n",
              "527      1570513684  2837914161 2019-08-19    33405     B\n",
              "461      2683113224   154576532 2019-08-19    26550     B\n",
              "368      3268879337  2536252163 2019-08-19    20026     B\n",
              "463      4170537404   290022471 2019-08-19    16480     B"
            ]
          },
          "execution_count": 14,
          "metadata": {},
          "output_type": "execute_result"
        }
      ],
      "source": [
        "orders.query('date == \"2019-08-19\" & group == \"B\"').sort_values(by='revenue', ascending=False).head(5)"
      ]
    },
    {
      "cell_type": "code",
      "execution_count": null,
      "metadata": {
        "id": "8U5YBm5Nv3Jn",
        "outputId": "7c38d549-32eb-4442-b7ef-9dde5a2859d3"
      },
      "outputs": [
        {
          "data": {
            "text/plain": [
              "2630.0"
            ]
          },
          "execution_count": 15,
          "metadata": {},
          "output_type": "execute_result"
        }
      ],
      "source": [
        "orders.query(' date == \"2019-08-19\" ')['revenue'].median()"
      ]
    },
    {
      "cell_type": "markdown",
      "metadata": {
        "id": "E-h640Pav3Jn"
      },
      "source": [
        "Мы видим, что 19 августа 19 года самый дорогой заказ составил почти 1,3 млн., тогда как медиана составляет всего 2,6 тыс. Разница довольно велика. Это подтверждает, что рост выручки 19 августа произошел из-за аномального заказа."
      ]
    },
    {
      "cell_type": "markdown",
      "metadata": {
        "id": "Wa30bvRJv3Jn"
      },
      "source": [
        "#### График кумулятивного среднего чека по группам"
      ]
    },
    {
      "cell_type": "code",
      "execution_count": null,
      "metadata": {
        "scrolled": true,
        "id": "SOjWwMEqv3Jn",
        "outputId": "dbbdf20b-29f2-4b4f-f419-96dfbd20f4f7"
      },
      "outputs": [
        {
          "data": {
            "image/png": "[encoded data removed]",
            "text/plain": [
              "<Figure size 432x288 with 1 Axes>"
            ]
          },
          "metadata": {
            "needs_background": "light"
          },
          "output_type": "display_data"
        }
      ],
      "source": [
        "# построение графиков среднего чека по группам\n",
        "plt.plot(cumulative_revenue_A['date'],cumulative_revenue_A['revenue']/cumulative_revenue_A['transaction_id'],label = 'A')\n",
        "plt.plot(cumulative_revenue_B['date'],cumulative_revenue_B['revenue']/cumulative_revenue_B['transaction_id'],label = 'B')\n",
        "plt.xticks(rotation = 45)\n",
        "plt.legend()\n",
        "plt.title(\"Кумулятивный средний чек по группам\")\n",
        "plt.xlabel(\"дата\")\n",
        "plt.ylabel(\"средний чек\")\n",
        "plt.show()"
      ]
    },
    {
      "cell_type": "markdown",
      "metadata": {
        "id": "UFur5utAv3Jn"
      },
      "source": [
        "Средний чек обеих групп сильно коллеблется по 13 августа 19 года.  Далее по группе **А** заметно выравнивание, а из-за найденной выше аномалии в группе **В** 19 августа видер резкий рост. На протяжении почти всего теста средний чек группы **B** выше, чем у группы **A**."
      ]
    },
    {
      "cell_type": "markdown",
      "metadata": {
        "id": "fLoElb5fv3Jn"
      },
      "source": [
        "#### График относительного изменения кумулятивного среднего чека группы B к группе A"
      ]
    },
    {
      "cell_type": "code",
      "execution_count": null,
      "metadata": {
        "scrolled": true,
        "id": "ewa5YT4Jv3Jn",
        "outputId": "f9364a3d-cf3e-4774-f965-5eea28ec2435"
      },
      "outputs": [
        {
          "data": {
            "image/png": "[encoded data removed]",
            "text/plain": [
              "<Figure size 432x288 with 1 Axes>"
            ]
          },
          "metadata": {
            "needs_background": "light"
          },
          "output_type": "display_data"
        }
      ],
      "source": [
        "#собираем данные в одном датафрейме\n",
        "merged_cumulative_revenue = cumulative_revenue_A.merge(cumulative_revenue_B,left_on='date', right_on='date', how='left', suffixes=['A', 'B'])\n",
        "# cтроим отношение средних чеков\n",
        "plt.plot(merged_cumulative_revenue['date'],(merged_cumulative_revenue['revenueB']/merged_cumulative_revenue['transaction_idB'])/(merged_cumulative_revenue['revenueA']/merged_cumulative_revenue['transaction_idA'])-1)\n",
        "plt.xticks(rotation = 45)\n",
        "plt.axhline(y=0, color='black', linestyle='--') \n",
        "plt.title(\"Относительное изменение кумулятивного среднего чека группы B к группе A\")\n",
        "plt.xlabel(\"дата\")\n",
        "plt.show()"
      ]
    },
    {
      "cell_type": "markdown",
      "metadata": {
        "id": "jjUslxHmv3Jo"
      },
      "source": [
        "С 1 августа 19 года, на графике, мы наблюдаем рост среднего чека по группе **B**. Уже на второй день средний чек по группе **B** превзошел средний чек по группе **A**. Рост продолжался до 7 августа 19 года. Далее мы наблюдаем спад суммы среднего чека и новый рост 19 августа 19 года за счет найденной нами ранее аномалии.\n",
        "<br>На графике мы видим значительные коллебания, что говорит о имеющихся в данных аномалиях. "
      ]
    },
    {
      "cell_type": "markdown",
      "metadata": {
        "id": "tFq1LESav3Jo"
      },
      "source": [
        "#### График кумулятивной конверсии по группам"
      ]
    },
    {
      "cell_type": "code",
      "execution_count": null,
      "metadata": {
        "id": "lq1cNhybv3Jo",
        "outputId": "e4edef8a-c681-4b6c-913d-8d79f4f8c870"
      },
      "outputs": [
        {
          "data": {
            "image/png": "[encoded data removed]",
            "text/plain": [
              "<Figure size 432x288 with 1 Axes>"
            ]
          },
          "metadata": {
            "needs_background": "light"
          },
          "output_type": "display_data"
        }
      ],
      "source": [
        "# считаем кумулятивную конверсию\n",
        "cumulative_data['conversion'] = cumulative_data['transaction_id']/ cumulative_data['visitors']\n",
        "\n",
        "#разделяем группы\n",
        "cumulative_revenue_A = cumulative_data[cumulative_data['group'] == 'A']\n",
        "cumulative_revenue_B = cumulative_data[cumulative_data['group'] == 'B']\n",
        "plt.plot(cumulative_revenue_A['date'],cumulative_revenue_A['conversion'], label = 'A')\n",
        "plt.plot(cumulative_revenue_B['date'],cumulative_revenue_B['conversion'], label = 'B')\n",
        "plt.legend()\n",
        "plt.xticks(rotation = 45)\n",
        "plt.axis([dt.datetime(2019, 7, 31), dt.datetime(2019, 9, 1), 0.025, 0.04])\n",
        "plt.title(\"Кумулятивная конверсия по группам\")\n",
        "plt.xlabel(\"дата\")\n",
        "plt.ylabel(\"конверсия\")\n",
        "plt.show()"
      ]
    },
    {
      "cell_type": "markdown",
      "metadata": {
        "id": "O3gFrvwhv3Jo"
      },
      "source": [
        "На графике мы видим, что в начале теста большая конверсия была в группе **A**, однако, с 6 августа ситуация меняется и до конца теста лидирует группа **B**."
      ]
    },
    {
      "cell_type": "markdown",
      "metadata": {
        "id": "3RJ-I3dqv3Jo"
      },
      "source": [
        "#### График относительного изменения кумулятивной конверсии группы B к группе A"
      ]
    },
    {
      "cell_type": "code",
      "execution_count": null,
      "metadata": {
        "scrolled": false,
        "id": "LtACKh3Iv3Jo",
        "outputId": "1dcdb1a8-582a-41cc-8d04-1cc1213fa109"
      },
      "outputs": [
        {
          "data": {
            "image/png": "[encoded data removed]",
            "text/plain": [
              "<Figure size 432x288 with 1 Axes>"
            ]
          },
          "metadata": {
            "needs_background": "light"
          },
          "output_type": "display_data"
        }
      ],
      "source": [
        "#собираем данные в одном датафрейме\n",
        "merged_cumulative_conversions = cumulative_revenue_A[['date','conversion']].merge(cumulative_revenue_B[['date','conversion']], left_on = 'date', right_on = 'date',  how='left', suffixes=['A', 'B'])\n",
        "# cтроим отношение средних чеков\n",
        "plt.plot(merged_cumulative_conversions['date'], merged_cumulative_conversions['conversionB']/merged_cumulative_conversions['conversionA']-1, label=\"Относительный прирост конверсии группы B относительно группы A\")\n",
        "\n",
        "plt.axhline(y=0, color='black', linestyle='--')\n",
        "plt.axhline(y=0.2, color='grey', linestyle='--')\n",
        "plt.xticks(rotation = 45)\n",
        "plt.axis([dt.datetime(2019, 7, 31), dt.datetime(2019, 9, 1), -0.5, 0.5])\n",
        "plt.title(\"Относительное изменение кумулятивной конверсии группы B к группе A\")\n",
        "plt.xlabel(\"дата\")\n",
        "plt.show()"
      ]
    },
    {
      "cell_type": "markdown",
      "metadata": {
        "id": "Ai910ZKUv3Jp"
      },
      "source": [
        "Конверсия группы **B** превысила конверсию группы **A** 6 августа 19 года. С того момента группа **A** ни разу не смогла превысить показатели конверсии группы **B**.C 15 августа по 18 августа разница достигает 20%.\n",
        "<br>Конверсия группы **B** стабильно лучше, чем  вгруппе **A**."
      ]
    },
    {
      "cell_type": "markdown",
      "metadata": {
        "id": "jyxkhJoSv3Jp"
      },
      "source": [
        "### Анализ выбросов и всплесков"
      ]
    },
    {
      "cell_type": "markdown",
      "metadata": {
        "id": "RXTDzplfv3Jq"
      },
      "source": [
        "По графикам мы узнали, что в данных есть аномалии, найдем их."
      ]
    },
    {
      "cell_type": "markdown",
      "metadata": {
        "id": "1wnT_dl_v3Jq"
      },
      "source": [
        "#### Точечный график количества заказов по пользователям"
      ]
    },
    {
      "cell_type": "markdown",
      "metadata": {
        "id": "hgWIZAPyv3Jq"
      },
      "source": [
        "Оценим количество заказов с помощью точечного графика"
      ]
    },
    {
      "cell_type": "code",
      "execution_count": null,
      "metadata": {
        "scrolled": true,
        "id": "pKElzgfzv3Jq",
        "outputId": "ce887331-158c-41f9-f6e4-8154849df5fa"
      },
      "outputs": [
        {
          "data": {
            "image/png": "[encoded data removed]",
            "text/plain": [
              "<Figure size 432x288 with 1 Axes>"
            ]
          },
          "metadata": {
            "needs_background": "light"
          },
          "output_type": "display_data"
        }
      ],
      "source": [
        "\n",
        "orders_by_users = orders.groupby('visitor_id', as_index=False).agg({'transaction_id':'nunique'})\n",
        "orders_by_users.columns = ['visitor', 'transaction']\n",
        "orders_by_users.sort_values(by='transaction',ascending=False)\n",
        "#print(orders_by_users.head(10))\n",
        "x_values = pd.Series(range(0, len(orders_by_users)))\n",
        "\n",
        "plt.scatter(x_values, orders_by_users['transaction'],alpha = 0.4) \n",
        "plt.title(\"Точечный график количества заказов по пользователям\")\n",
        "plt.ylabel(\"количество заказов\")\n",
        "\n",
        "plt.show()"
      ]
    },
    {
      "cell_type": "markdown",
      "metadata": {
        "id": "IdAzLbCJv3Jq"
      },
      "source": [
        "На графике видно, что пользователей совершивших более 2х заказов не так много.<br>Найдем 95 и 99 перцентили"
      ]
    },
    {
      "cell_type": "code",
      "execution_count": null,
      "metadata": {
        "id": "3B4dAw-7v3Jq",
        "outputId": "4c385c83-63e9-4577-adb6-baf4062f7987"
      },
      "outputs": [
        {
          "data": {
            "text/plain": [
              "array([2., 4.])"
            ]
          },
          "execution_count": 21,
          "metadata": {},
          "output_type": "execute_result"
        }
      ],
      "source": [
        "#методом np.percentile('column', [percentile1, percentile2]) находим перцентили\n",
        "np.percentile(orders_by_users['transaction'], [95, 99])\n"
      ]
    },
    {
      "cell_type": "markdown",
      "metadata": {
        "id": "_C-yDfu5v3Jq"
      },
      "source": [
        "Итак, пользователей, кто совершил более 2 заказов не более 5% от всего количества."
      ]
    },
    {
      "cell_type": "markdown",
      "metadata": {
        "id": "7FCnEhVBv3Jq"
      },
      "source": [
        "#### Точечный график количества заказов по стоимости заказов"
      ]
    },
    {
      "cell_type": "markdown",
      "metadata": {
        "id": "P24fy-V2v3Jq"
      },
      "source": [
        "По аналогии построим точечный график по стоимости заказов."
      ]
    },
    {
      "cell_type": "code",
      "execution_count": null,
      "metadata": {
        "scrolled": true,
        "id": "3kyk_8_ov3Jr",
        "outputId": "d45e35f1-7db2-471d-b7d9-2b71db8bbdbb"
      },
      "outputs": [
        {
          "data": {
            "image/png": "[encoded data removed]",
            "text/plain": [
              "<Figure size 432x288 with 1 Axes>"
            ]
          },
          "metadata": {
            "needs_background": "light"
          },
          "output_type": "display_data"
        }
      ],
      "source": [
        "x_values = pd.Series(range(0, len(orders['revenue'])))\n",
        "plt.scatter(x_values, orders['revenue'],alpha = 0.4)\n",
        "plt.ticklabel_format(style='plain')\n",
        "plt.title(\"Точечный график количества заказов по стоимости заказов\")\n",
        "plt.ylabel(\"стоимость заказов\")\n",
        "plt.show()\n",
        "#точечная диаграмма стоимостей заказов"
      ]
    },
    {
      "cell_type": "markdown",
      "metadata": {
        "id": "Td4Gll2Av3Jr"
      },
      "source": [
        "На графике четко видно уже замеченную нами аномалию в 1.3 млн. Укрупним диаграмму."
      ]
    },
    {
      "cell_type": "code",
      "execution_count": null,
      "metadata": {
        "scrolled": true,
        "id": "16ApbpJ2v3Jr",
        "outputId": "b9e15f1f-d27a-4764-aef5-a89613ce2924"
      },
      "outputs": [
        {
          "data": {
            "image/png": "[encoded data removed]",
            "text/plain": [
              "<Figure size 432x288 with 1 Axes>"
            ]
          },
          "metadata": {
            "needs_background": "light"
          },
          "output_type": "display_data"
        }
      ],
      "source": [
        "plt.scatter(x_values, orders['revenue'],alpha = 0.4)\n",
        "plt.ylim([0, 100000])\n",
        "plt.title(\"Точечный график количества заказов по стоимости заказов\")\n",
        "plt.ylabel(\"стоимость заказов\")\n",
        "plt.show()"
      ]
    },
    {
      "cell_type": "markdown",
      "metadata": {
        "id": "kObhyDwMv3Jr"
      },
      "source": [
        "Мы видим, что заказов более 30 тыс. уже не очень много. Найдем 95 и 99 перцентили, что бы более точно определить суммы, которые можно принять за выбросы."
      ]
    },
    {
      "cell_type": "code",
      "execution_count": null,
      "metadata": {
        "scrolled": false,
        "id": "bCkKplwPv3Jr",
        "outputId": "4aa0798d-e413-4fd7-8e66-734342d8aebb"
      },
      "outputs": [
        {
          "data": {
            "text/plain": [
              "array([28000. , 58233.2])"
            ]
          },
          "execution_count": 24,
          "metadata": {},
          "output_type": "execute_result"
        }
      ],
      "source": [
        "np.percentile(orders['revenue'], [95, 99])"
      ]
    },
    {
      "cell_type": "markdown",
      "metadata": {
        "id": "idPHSW5bv3Jr"
      },
      "source": [
        "Итак, заказов на сумму более 28 тыс. менее 5% от всего количества."
      ]
    },
    {
      "cell_type": "markdown",
      "metadata": {
        "id": "A5q0J-7lv3Js"
      },
      "source": [
        "###  Статистическую значимость различий в конверсии между группами по «сырым» данным"
      ]
    },
    {
      "cell_type": "markdown",
      "metadata": {
        "id": "7ACtNExFv3Js"
      },
      "source": [
        "Проверим статистическую значимость различий в конверсии между группами по данным с аномалиями. "
      ]
    },
    {
      "cell_type": "code",
      "execution_count": null,
      "metadata": {
        "scrolled": true,
        "id": "U-MyO2Yfv3Js",
        "outputId": "f3c27e42-3ac9-4f57-d545-ff00c48cbb41"
      },
      "outputs": [
        {
          "data": {
            "text/html": [
              "<div>\n",
              "<style scoped>\n",
              "    .dataframe tbody tr th:only-of-type {\n",
              "        vertical-align: middle;\n",
              "    }\n",
              "\n",
              "    .dataframe tbody tr th {\n",
              "        vertical-align: top;\n",
              "    }\n",
              "\n",
              "    .dataframe thead th {\n",
              "        text-align: right;\n",
              "    }\n",
              "</style>\n",
              "<table border=\"1\" class=\"dataframe\">\n",
              "  <thead>\n",
              "    <tr style=\"text-align: right;\">\n",
              "      <th></th>\n",
              "      <th>date</th>\n",
              "      <th>orders_per_date_A</th>\n",
              "      <th>revenue_per_date_A</th>\n",
              "      <th>orders_per_date_B</th>\n",
              "      <th>revenue_per_date_B</th>\n",
              "      <th>orders_cummulative_A</th>\n",
              "      <th>revenue_cummulative_A</th>\n",
              "      <th>orders_cummulative_B</th>\n",
              "      <th>revenue_cummulative_B</th>\n",
              "      <th>visitors_per_date_A</th>\n",
              "      <th>visitors_per_date_B</th>\n",
              "      <th>visitors_cummulative_A</th>\n",
              "      <th>visitors_cummulative_B</th>\n",
              "    </tr>\n",
              "  </thead>\n",
              "  <tbody>\n",
              "    <tr>\n",
              "      <th>0</th>\n",
              "      <td>2019-08-01</td>\n",
              "      <td>24</td>\n",
              "      <td>148579</td>\n",
              "      <td>21</td>\n",
              "      <td>101217</td>\n",
              "      <td>24</td>\n",
              "      <td>148579</td>\n",
              "      <td>21</td>\n",
              "      <td>101217</td>\n",
              "      <td>719</td>\n",
              "      <td>713</td>\n",
              "      <td>719</td>\n",
              "      <td>713</td>\n",
              "    </tr>\n",
              "    <tr>\n",
              "      <th>1</th>\n",
              "      <td>2019-08-02</td>\n",
              "      <td>20</td>\n",
              "      <td>93822</td>\n",
              "      <td>24</td>\n",
              "      <td>165531</td>\n",
              "      <td>44</td>\n",
              "      <td>242401</td>\n",
              "      <td>45</td>\n",
              "      <td>266748</td>\n",
              "      <td>619</td>\n",
              "      <td>581</td>\n",
              "      <td>1338</td>\n",
              "      <td>1294</td>\n",
              "    </tr>\n",
              "    <tr>\n",
              "      <th>2</th>\n",
              "      <td>2019-08-03</td>\n",
              "      <td>24</td>\n",
              "      <td>112473</td>\n",
              "      <td>16</td>\n",
              "      <td>114248</td>\n",
              "      <td>68</td>\n",
              "      <td>354874</td>\n",
              "      <td>61</td>\n",
              "      <td>380996</td>\n",
              "      <td>507</td>\n",
              "      <td>509</td>\n",
              "      <td>1845</td>\n",
              "      <td>1803</td>\n",
              "    </tr>\n",
              "    <tr>\n",
              "      <th>3</th>\n",
              "      <td>2019-08-04</td>\n",
              "      <td>16</td>\n",
              "      <td>70825</td>\n",
              "      <td>17</td>\n",
              "      <td>108571</td>\n",
              "      <td>84</td>\n",
              "      <td>425699</td>\n",
              "      <td>78</td>\n",
              "      <td>489567</td>\n",
              "      <td>717</td>\n",
              "      <td>770</td>\n",
              "      <td>2562</td>\n",
              "      <td>2573</td>\n",
              "    </tr>\n",
              "    <tr>\n",
              "      <th>4</th>\n",
              "      <td>2019-08-05</td>\n",
              "      <td>25</td>\n",
              "      <td>124218</td>\n",
              "      <td>23</td>\n",
              "      <td>92428</td>\n",
              "      <td>109</td>\n",
              "      <td>549917</td>\n",
              "      <td>101</td>\n",
              "      <td>581995</td>\n",
              "      <td>756</td>\n",
              "      <td>707</td>\n",
              "      <td>3318</td>\n",
              "      <td>3280</td>\n",
              "    </tr>\n",
              "  </tbody>\n",
              "</table>\n",
              "</div>"
            ],
            "text/plain": [
              "        date  orders_per_date_A  revenue_per_date_A  orders_per_date_B  \\\n",
              "0 2019-08-01                 24              148579                 21   \n",
              "1 2019-08-02                 20               93822                 24   \n",
              "2 2019-08-03                 24              112473                 16   \n",
              "3 2019-08-04                 16               70825                 17   \n",
              "4 2019-08-05                 25              124218                 23   \n",
              "\n",
              "   revenue_per_date_B  orders_cummulative_A  revenue_cummulative_A  \\\n",
              "0              101217                    24                 148579   \n",
              "1              165531                    44                 242401   \n",
              "2              114248                    68                 354874   \n",
              "3              108571                    84                 425699   \n",
              "4               92428                   109                 549917   \n",
              "\n",
              "   orders_cummulative_B  revenue_cummulative_B  visitors_per_date_A  \\\n",
              "0                    21                 101217                  719   \n",
              "1                    45                 266748                  619   \n",
              "2                    61                 380996                  507   \n",
              "3                    78                 489567                  717   \n",
              "4                   101                 581995                  756   \n",
              "\n",
              "   visitors_per_date_B  visitors_cummulative_A  visitors_cummulative_B  \n",
              "0                  713                     719                     713  \n",
              "1                  581                    1338                    1294  \n",
              "2                  509                    1845                    1803  \n",
              "3                  770                    2562                    2573  \n",
              "4                  707                    3318                    3280  "
            ]
          },
          "execution_count": 25,
          "metadata": {},
          "output_type": "execute_result"
        }
      ],
      "source": [
        "visitors_A_daily = visitors[visitors['group'] == 'A'][['date', 'visitors']]\n",
        "visitors_A_daily.columns = ['date', 'visitors_per_date_A']\n",
        "#количество пользователей до выбранной даты включительно в группе A\n",
        "visitors_A_сummulative = visitors_A_daily.apply(\n",
        "    lambda x: visitors_A_daily[visitors_A_daily['date'] <= x['date']].agg(\n",
        "        {'date': 'max', 'visitors_per_date_A': 'sum'}\n",
        "    ),\n",
        "    axis=1,\n",
        ")\n",
        "visitors_A_сummulative.columns = ['date', 'visitors_cummulative_A']\n",
        "\n",
        "\n",
        "visitors_B_daily = visitors[visitors['group'] == 'B'][['date', 'visitors']]\n",
        "visitors_B_daily.columns = ['date', 'visitors_per_date_B']\n",
        "#количество пользователей до выбранной даты включительно в группе B\n",
        "visitors_B_cummulative = visitors_B_daily.apply(\n",
        "    lambda x: visitors_B_daily[visitors_B_daily['date'] <= x['date']].agg(\n",
        "        {'date': 'max', 'visitors_per_date_B': 'sum'}\n",
        "    ),\n",
        "    axis=1,\n",
        ")\n",
        "visitors_B_cummulative.columns = ['date', 'visitors_cummulative_B']\n",
        "\n",
        "#количество и сумма заказов в выбранную дату в группе A\n",
        "orders_A_daily = (\n",
        "    orders[orders['group'] == 'A'][['date', 'transaction_id', 'visitor_id', 'revenue']]\n",
        "    .groupby('date', as_index=False)\n",
        "    .agg({'transaction_id': pd.Series.nunique, 'revenue': 'sum'})\n",
        ")\n",
        "orders_A_daily.columns = ['date', 'orders_per_date_A', 'revenue_per_date_A']\n",
        "#orders_A_daily\n",
        "orders_A_cummulative = orders_A_daily.apply(\n",
        "    lambda x: orders_A_daily[orders_A_daily['date'] <= x['date']].agg(\n",
        "        {'date': 'max', 'orders_per_date_A': 'sum', 'revenue_per_date_A': 'sum'}\n",
        "    ),\n",
        "    axis=1,\n",
        ").sort_values('date')\n",
        "orders_A_cummulative.columns = [\n",
        "    'date',\n",
        "    'orders_cummulative_A',\n",
        "    'revenue_cummulative_A',\n",
        "]\n",
        "\n",
        "\n",
        "#количество и сумма заказов в выбранную дату в группе B\n",
        "orders_B_daily = (\n",
        "    orders[orders['group'] == 'B'][['date', 'transaction_id', 'visitor_id', 'revenue']]\n",
        "    .groupby('date', as_index=False)\n",
        "    .agg({'transaction_id': pd.Series.nunique, 'revenue': 'sum'})\n",
        ")\n",
        "orders_B_daily.columns = ['date', 'orders_per_date_B', 'revenue_per_date_B']\n",
        "\n",
        "orders_B_cummulative = orders_B_daily.apply(\n",
        "    lambda x: orders_B_daily[orders_B_daily['date'] <= x['date']].agg(\n",
        "        {'date': 'max', 'orders_per_date_B': 'sum', 'revenue_per_date_B': 'sum'}\n",
        "    ),\n",
        "    axis=1,\n",
        ").sort_values('date')\n",
        "orders_B_cummulative.columns = [\n",
        "    'date',\n",
        "    'orders_cummulative_B',\n",
        "    'revenue_cummulative_B',\n",
        "]\n",
        "#объединение таблиц\n",
        "data = (\n",
        "    orders_A_daily.merge(\n",
        "        orders_B_daily, left_on='date', right_on='date', how='left'\n",
        "    )\n",
        "    .merge(orders_A_cummulative, left_on='date', right_on='date', how='left')\n",
        "    .merge(orders_B_cummulative, left_on='date', right_on='date', how='left')\n",
        "    .merge(visitors_A_daily, left_on='date', right_on='date', how='left')\n",
        "    .merge(visitors_B_daily, left_on='date', right_on='date', how='left')\n",
        "    .merge(visitors_A_сummulative, left_on='date', right_on='date', how='left')\n",
        "    .merge(visitors_B_cummulative, left_on='date', right_on='date', how='left')\n",
        ")\n",
        "data.head(5)"
      ]
    },
    {
      "cell_type": "markdown",
      "metadata": {
        "id": "iF_giGY0v3Js"
      },
      "source": [
        "Мы получили таблицу `data` с необходимыми нам данными для дальнейшего анализа."
      ]
    },
    {
      "cell_type": "markdown",
      "metadata": {
        "id": "iiGiFp8sv3Js"
      },
      "source": [
        "\n",
        "<br> Сформулируем гипотезы:\n",
        "<br>*H₀*: Статистически значимых различий в конверсии между группами нет.\n",
        "<br>*H₁*: Различия в конверсиях между круппами статистически значимы."
      ]
    },
    {
      "cell_type": "code",
      "execution_count": null,
      "metadata": {
        "scrolled": true,
        "id": "4fdnAbzov3Js",
        "outputId": "0f0e3e98-d4a0-4ee5-ebdc-5d91fc3f5cba"
      },
      "outputs": [
        {
          "data": {
            "text/plain": [
              "'alpha = 0.05'"
            ]
          },
          "metadata": {},
          "output_type": "display_data"
        },
        {
          "data": {
            "text/plain": [
              "'p-value = 0.017'"
            ]
          },
          "metadata": {},
          "output_type": "display_data"
        },
        {
          "data": {
            "text/plain": [
              "'Относительный показатель B и A = 0.138'"
            ]
          },
          "metadata": {},
          "output_type": "display_data"
        }
      ],
      "source": [
        "#создение переменныч orders_by_users_A и orders_by_users_B,\n",
        "#них для пользователей,которые сделали заказ, укажем число совершённых заказов\n",
        "orders_by_users_A = (\n",
        "    orders[orders['group'] == 'A']\n",
        "    .groupby('visitor_id', as_index=False)\n",
        "    .agg({'transaction_id': pd.Series.nunique})\n",
        ")\n",
        "orders_by_users_A.columns = ['visitor', 'transaction']\n",
        "\n",
        "orders_by_users_B = (\n",
        "    orders[orders['group'] == 'B']\n",
        "    .groupby('visitor_id', as_index=False)\n",
        "    .agg({'transaction_id': pd.Series.nunique})\n",
        ")\n",
        "orders_by_users_B.columns = ['visitor', 'transaction']\n",
        "\n",
        "#переменные, с данными о количестве заказов пользователей по группе\n",
        "sampleA = pd.concat(\n",
        "    [\n",
        "        orders_by_users_A['transaction'],\n",
        "        pd.Series(0, index=np.arange(data['visitors_per_date_A'].sum() - len(orders_by_users_A['transaction'])),\n",
        "                  name='transaction')\n",
        "    ],\n",
        "    axis=0\n",
        ")\n",
        "\n",
        "sampleB = pd.concat(\n",
        "    [\n",
        "        orders_by_users_B['transaction'],\n",
        "        pd.Series(0, index=np.arange(data['visitors_per_date_B'].sum() - len(orders_by_users_B['transaction'])), \n",
        "                  name='transaction')\n",
        "    ],\n",
        "    axis=0\n",
        ")\n",
        "\n",
        "#расчет p-value  \n",
        "display('alpha = 0.05')\n",
        "display('p-value = {0:.3f}'.format(st.mannwhitneyu(sampleA, sampleB, alternative = 'two-sided')[1]))\n",
        "#относительный прирост среднего числа заказов группы B\n",
        "display('Относительный показатель B и A = {0:.3f}'.format(sampleB.mean()/sampleA.mean()-1)) "
      ]
    },
    {
      "cell_type": "markdown",
      "metadata": {
        "id": "vMehJ0fDv3Jt"
      },
      "source": [
        "0.017 < 0.05 Отвергаем нулевую гипотезу: разница статистически значима. Относительный выйгрыш группы **B** над группой **A** равен 13.8%."
      ]
    },
    {
      "cell_type": "markdown",
      "metadata": {
        "id": "_8YBtmlZv3Jt"
      },
      "source": [
        "### Cтатистическую значимость различия средних чеков между группами по \"сырым\" данным"
      ]
    },
    {
      "cell_type": "markdown",
      "metadata": {
        "id": "hD-FIS_pv3Jt"
      },
      "source": [
        "Проверим статистическую значимость различия средних чеков между группами по данным с аномалиями.\n",
        "Сформулируем гипотезы:\n",
        "<br>*H₀*: Статистически значимых различий средних чеков  между группами нет. <br>*H₁*: Различия в среднийх чеках между группами статистически значимы."
      ]
    },
    {
      "cell_type": "code",
      "execution_count": null,
      "metadata": {
        "id": "THIlYp8bv3Jt",
        "outputId": "420365fa-a70d-461e-8bf2-21a81c51cdf4"
      },
      "outputs": [
        {
          "data": {
            "text/plain": [
              "'alpha = 0.05'"
            ]
          },
          "metadata": {},
          "output_type": "display_data"
        },
        {
          "data": {
            "text/plain": [
              "'p-value = 0.729'"
            ]
          },
          "metadata": {},
          "output_type": "display_data"
        },
        {
          "data": {
            "text/plain": [
              "'Относительный показатель B и A = 0.259'"
            ]
          },
          "metadata": {},
          "output_type": "display_data"
        }
      ],
      "source": [
        "display(\"alpha = 0.05\")\n",
        "display('p-value = {0:.3f}'.format(st.mannwhitneyu(orders[orders['group']=='A']['revenue'], orders[orders['group']=='B']['revenue'], alternative = 'two-sided')[1]),)\n",
        "display('Относительный показатель B и A = {0:.3f}'.format(orders[orders['group']=='B']['revenue'].mean()/orders[orders['group']=='A']['revenue'].mean()-1))"
      ]
    },
    {
      "cell_type": "markdown",
      "metadata": {
        "id": "M8HxZw-jv3Jt"
      },
      "source": [
        "*P-value* = 0.729 больше 0.05. Значит, нулевую гипотезу о том, что статистически значимых различий в среднем числе заказов между группами нет, не отвергаем. Однако относительный выйгрыш группы B равен 25.9%."
      ]
    },
    {
      "cell_type": "markdown",
      "metadata": {
        "id": "AptvHEb-v3Jt"
      },
      "source": [
        "###  Статистическую значимость различий в конверсии между группами по «очищенным» данным"
      ]
    },
    {
      "cell_type": "markdown",
      "metadata": {
        "id": "L2SCUFS9v3Jt"
      },
      "source": [
        "Проведем аналогичный анализ уже по \"очищенным\" данным."
      ]
    },
    {
      "cell_type": "code",
      "execution_count": null,
      "metadata": {
        "id": "E4Axfqkmv3Jt",
        "outputId": "0f273e62-a4af-4390-b021-1324bddefd33"
      },
      "outputs": [
        {
          "data": {
            "text/plain": [
              "74"
            ]
          },
          "execution_count": 28,
          "metadata": {},
          "output_type": "execute_result"
        }
      ],
      "source": [
        "#исключаем выбросы по количеству заказов пользователя\n",
        "users_with_many_orders = pd.concat(\n",
        "    [\n",
        "        orders_by_users_A[orders_by_users_A['transaction'] > 2]['visitor'],\n",
        "        orders_by_users_B[orders_by_users_B['transaction'] > 2]['visitor'],\n",
        "    ],\n",
        "    axis=0,\n",
        ")\n",
        "#исключаем выбросы по сумме заказа\n",
        "users_with_expensive_orders = orders[orders['revenue'] > 28000]['visitor_id']\n",
        "abnormal_users = (\n",
        "    pd.concat([users_with_many_orders, users_with_expensive_orders], axis=0)\n",
        "    .drop_duplicates()\n",
        "    .sort_values()\n",
        ")\n",
        "len(abnormal_users)"
      ]
    },
    {
      "cell_type": "markdown",
      "metadata": {
        "id": "xjB6DWg3v3Ju"
      },
      "source": [
        "Строк содержащих выбросы оказалось 74.\n",
        "<br>Повторим гипотезы:\n",
        "<br>\n",
        "<br>*H₀*: Статистически значимых различий в конверсии между группами нет.\n",
        "<br>*H₁*: Различия в конверсиях между круппами статистически значимы.\n",
        "<br>\n",
        "<br>Найдем *p-value*:"
      ]
    },
    {
      "cell_type": "code",
      "execution_count": null,
      "metadata": {
        "id": "YMzOo8Pvv3Ju",
        "outputId": "f310ad33-0ec7-49cf-86bf-1a23279593d3"
      },
      "outputs": [
        {
          "data": {
            "text/plain": [
              "'alpha = 0.05'"
            ]
          },
          "metadata": {},
          "output_type": "display_data"
        },
        {
          "data": {
            "text/plain": [
              "'p-value = 0.013'"
            ]
          },
          "metadata": {},
          "output_type": "display_data"
        },
        {
          "data": {
            "text/plain": [
              "'Относительный показатель B и A = 0.173'"
            ]
          },
          "metadata": {},
          "output_type": "display_data"
        }
      ],
      "source": [
        "sample_A_filter = pd.concat(\n",
        "    [\n",
        "        orders_by_users_A[\n",
        "            np.logical_not(orders_by_users_A['visitor'].isin(abnormal_users))\n",
        "        ]['transaction'],\n",
        "        pd.Series(\n",
        "            0,\n",
        "            index=np.arange(data['visitors_per_date_A'].sum() - len(orders_by_users_A['transaction'])),\n",
        "                  name='transaction'\n",
        "        ),\n",
        "    ],\n",
        "    axis=0,\n",
        ")\n",
        "\n",
        "sample_B_filter = pd.concat(\n",
        "    [\n",
        "        orders_by_users_B[\n",
        "            np.logical_not(orders_by_users_B['visitor'].isin(abnormal_users))\n",
        "        ]['transaction'],\n",
        "        pd.Series(\n",
        "            0,\n",
        "            index=np.arange(data['visitors_per_date_B'].sum() - len(orders_by_users_B['transaction'])),\n",
        "                  name='transaction',\n",
        "        ),\n",
        "    ],\n",
        "    axis=0,\n",
        ")\n",
        "display('alpha = 0.05')\n",
        "display('p-value = {0:.3f}'.format(st.mannwhitneyu(sample_A_filter, sample_B_filter,alternative = 'two-sided')[1]))\n",
        "display('Относительный показатель B и A = {0:.3f}'.format(sample_B_filter.mean()/sample_A_filter.mean()-1))"
      ]
    },
    {
      "cell_type": "markdown",
      "metadata": {
        "id": "snYOy-nhv3Ju"
      },
      "source": [
        "0.013 < 0.05 Отвергаем нулевую гипотезу: разница статистически значима. Относительный выйгрыш группы **B** над группой **A** равен 17.3%. \n",
        "<br><br>\n",
        "Даже после \"очистки\" данных разница статестически значима. Относительный выйгрыш группы **B** над группой **A** высор на 3.5%.\n",
        "<br>Теперь проверим разницу между средними чеками.\n",
        "<br> Повторим гипотезы:\n",
        "<br>\n",
        "<br>*H₀*: Статистически значимых различий средних чеков  между группами нет. <br>*H₁*: Различия в среднийх чеках между группами статистически значимы."
      ]
    },
    {
      "cell_type": "code",
      "execution_count": null,
      "metadata": {
        "id": "2VdjpAf6v3Ju",
        "outputId": "c51d4c4f-38c2-407e-b474-be388de581d0"
      },
      "outputs": [
        {
          "data": {
            "text/plain": [
              "'alpha = 0.05'"
            ]
          },
          "metadata": {},
          "output_type": "display_data"
        },
        {
          "data": {
            "text/plain": [
              "'p-value = 0.738'"
            ]
          },
          "metadata": {},
          "output_type": "display_data"
        },
        {
          "data": {
            "text/plain": [
              "'Относительный показатель B и A = -0.020'"
            ]
          },
          "metadata": {},
          "output_type": "display_data"
        }
      ],
      "source": [
        "display(\"alpha = 0.05\")\n",
        "display('p-value = {0:.3f}'.format(st.mannwhitneyu(\n",
        "    orders[\n",
        "        np.logical_and(\n",
        "        orders['group'] == 'A',\n",
        "        np.logical_not(orders['visitor_id'].isin(abnormal_users)),\n",
        ")\n",
        "    ]['revenue'],orders[\n",
        "    np.logical_and(\n",
        "        orders['group'] == 'B', np.logical_not(orders['visitor_id'].isin(abnormal_users)),\n",
        ")\n",
        "        ]['revenue'],alternative = 'two-sided')[1])\n",
        ")\n",
        "display('Относительный показатель B и A = {0:.3f}'.format(orders[np.logical_and(orders['group'] == 'B',\n",
        "    np.logical_not(orders['visitor_id'].isin(abnormal_users)),\n",
        ")\n",
        "    ]['revenue'].mean() / orders[np.logical_and(orders['group'] == 'A',\n",
        "    np.logical_not(orders['visitor_id'].isin(abnormal_users)),\n",
        ")\n",
        "    ]['revenue'].mean()- 1)\n",
        ")"
      ]
    },
    {
      "cell_type": "markdown",
      "metadata": {
        "id": "exbjqor5v3Ju"
      },
      "source": [
        "*P-value* = 0.738 больше 0.05. Значит, нулевую гипотезу о том, что статистически значимых различий в среднем числе заказов между группами нет, не отвергаем, как и в случае с \"сырыми\" данными. А вот средний чек группы **B** в \"очищенных\" данных оказался на 2% меньше, чем в группе \"A\".Напомню, что в \"сырых\" данных группа **B** выигрывала на 25,9%"
      ]
    },
    {
      "cell_type": "markdown",
      "metadata": {
        "id": "YvzXVjKLv3Ju"
      },
      "source": [
        "## Вывод"
      ]
    },
    {
      "cell_type": "markdown",
      "metadata": {
        "id": "RePneqqAv3Jv"
      },
      "source": [
        "После анализа предоставленных данных по проводимому A/B-тесту, мы можем сделать вывод, что несмотря на незначительный проигрыш в средних чеках, группа **B** значительно эффективней в конверсии, чем группа **A**.\n",
        "<br>**Принятое решение**:\n",
        "<br>Остановить тест, зафиксировать победу группы **B**.\n"
      ]
    }
  ],
  "metadata": {
    "ExecuteTimeLog": [
      {
        "duration": 421,
        "start_time": "2022-07-30T12:10:27.670Z"
      },
      {
        "duration": 81,
        "start_time": "2022-07-30T12:13:34.601Z"
      },
      {
        "duration": 3,
        "start_time": "2022-07-30T12:13:44.505Z"
      },
      {
        "duration": 210,
        "start_time": "2022-07-30T12:13:45.365Z"
      },
      {
        "duration": 11,
        "start_time": "2022-07-30T12:14:09.425Z"
      },
      {
        "duration": 14,
        "start_time": "2022-07-30T12:15:20.445Z"
      },
      {
        "duration": 16,
        "start_time": "2022-07-30T12:15:27.176Z"
      },
      {
        "duration": 20,
        "start_time": "2022-07-30T12:15:40.925Z"
      },
      {
        "duration": 14,
        "start_time": "2022-07-30T12:17:26.665Z"
      },
      {
        "duration": 8,
        "start_time": "2022-07-30T12:22:19.375Z"
      },
      {
        "duration": 2,
        "start_time": "2022-07-30T12:22:29.005Z"
      },
      {
        "duration": 4,
        "start_time": "2022-07-30T12:22:31.332Z"
      },
      {
        "duration": 8,
        "start_time": "2022-07-30T12:22:42.829Z"
      },
      {
        "duration": 3,
        "start_time": "2022-07-30T12:23:39.124Z"
      },
      {
        "duration": 10,
        "start_time": "2022-07-30T12:23:46.411Z"
      },
      {
        "duration": 4,
        "start_time": "2022-07-30T12:26:00.828Z"
      },
      {
        "duration": 13,
        "start_time": "2022-07-30T12:26:11.277Z"
      },
      {
        "duration": 6,
        "start_time": "2022-07-30T12:26:16.482Z"
      },
      {
        "duration": 6,
        "start_time": "2022-07-30T12:32:13.592Z"
      },
      {
        "duration": 6,
        "start_time": "2022-07-30T12:32:37.741Z"
      },
      {
        "duration": 20,
        "start_time": "2022-07-30T12:33:00.441Z"
      },
      {
        "duration": 11,
        "start_time": "2022-07-30T12:33:32.161Z"
      },
      {
        "duration": 9,
        "start_time": "2022-07-30T12:33:44.001Z"
      },
      {
        "duration": 487,
        "start_time": "2022-08-03T14:22:51.077Z"
      },
      {
        "duration": 190,
        "start_time": "2022-08-03T14:22:51.567Z"
      },
      {
        "duration": 40,
        "start_time": "2022-08-03T14:22:51.759Z"
      },
      {
        "duration": 21,
        "start_time": "2022-08-03T14:22:51.803Z"
      },
      {
        "duration": 5,
        "start_time": "2022-08-03T14:22:51.827Z"
      },
      {
        "duration": 36,
        "start_time": "2022-08-03T14:22:51.834Z"
      },
      {
        "duration": 18,
        "start_time": "2022-08-03T14:22:51.891Z"
      },
      {
        "duration": 14,
        "start_time": "2022-08-03T14:22:51.913Z"
      },
      {
        "duration": 7,
        "start_time": "2022-08-03T14:23:17.620Z"
      },
      {
        "duration": 10,
        "start_time": "2022-08-03T14:29:59.770Z"
      },
      {
        "duration": 85,
        "start_time": "2022-08-03T14:31:27.028Z"
      },
      {
        "duration": 14,
        "start_time": "2022-08-03T14:31:46.934Z"
      },
      {
        "duration": 860,
        "start_time": "2022-08-05T09:10:15.320Z"
      },
      {
        "duration": 192,
        "start_time": "2022-08-05T09:10:16.182Z"
      },
      {
        "duration": 24,
        "start_time": "2022-08-05T09:10:16.379Z"
      },
      {
        "duration": 17,
        "start_time": "2022-08-05T09:10:16.405Z"
      },
      {
        "duration": 4,
        "start_time": "2022-08-05T09:10:16.424Z"
      },
      {
        "duration": 25,
        "start_time": "2022-08-05T09:10:16.430Z"
      },
      {
        "duration": 10,
        "start_time": "2022-08-05T09:10:16.457Z"
      },
      {
        "duration": 8,
        "start_time": "2022-08-05T09:10:16.469Z"
      },
      {
        "duration": 5,
        "start_time": "2022-08-05T09:10:16.480Z"
      },
      {
        "duration": 54,
        "start_time": "2022-08-05T09:10:16.487Z"
      },
      {
        "duration": 13,
        "start_time": "2022-08-05T09:10:16.543Z"
      },
      {
        "duration": 12,
        "start_time": "2022-08-05T09:11:55.591Z"
      },
      {
        "duration": 347,
        "start_time": "2022-08-05T09:15:30.620Z"
      },
      {
        "duration": 56,
        "start_time": "2022-08-05T09:16:39.076Z"
      },
      {
        "duration": 72,
        "start_time": "2022-08-05T09:16:58.859Z"
      },
      {
        "duration": 391,
        "start_time": "2022-08-05T09:17:15.580Z"
      },
      {
        "duration": 351,
        "start_time": "2022-08-05T09:17:32.726Z"
      },
      {
        "duration": 1001,
        "start_time": "2022-08-05T09:17:57.563Z"
      },
      {
        "duration": 126,
        "start_time": "2022-08-05T09:17:58.565Z"
      },
      {
        "duration": 24,
        "start_time": "2022-08-05T09:17:58.693Z"
      },
      {
        "duration": 13,
        "start_time": "2022-08-05T09:17:58.718Z"
      },
      {
        "duration": 3,
        "start_time": "2022-08-05T09:17:58.733Z"
      },
      {
        "duration": 379,
        "start_time": "2022-08-05T09:17:58.738Z"
      },
      {
        "duration": 0,
        "start_time": "2022-08-05T09:17:59.119Z"
      },
      {
        "duration": 0,
        "start_time": "2022-08-05T09:17:59.120Z"
      },
      {
        "duration": 1,
        "start_time": "2022-08-05T09:17:59.121Z"
      },
      {
        "duration": 0,
        "start_time": "2022-08-05T09:17:59.123Z"
      },
      {
        "duration": 0,
        "start_time": "2022-08-05T09:17:59.125Z"
      },
      {
        "duration": 0,
        "start_time": "2022-08-05T09:17:59.126Z"
      },
      {
        "duration": 367,
        "start_time": "2022-08-05T09:19:11.125Z"
      },
      {
        "duration": 1063,
        "start_time": "2022-08-05T09:20:13.780Z"
      },
      {
        "duration": 125,
        "start_time": "2022-08-05T09:20:14.844Z"
      },
      {
        "duration": 23,
        "start_time": "2022-08-05T09:20:14.971Z"
      },
      {
        "duration": 10,
        "start_time": "2022-08-05T09:20:14.996Z"
      },
      {
        "duration": 33,
        "start_time": "2022-08-05T09:20:15.008Z"
      },
      {
        "duration": 32,
        "start_time": "2022-08-05T09:20:15.042Z"
      },
      {
        "duration": 11,
        "start_time": "2022-08-05T09:20:15.075Z"
      },
      {
        "duration": 27,
        "start_time": "2022-08-05T09:20:15.088Z"
      },
      {
        "duration": 28,
        "start_time": "2022-08-05T09:20:15.116Z"
      },
      {
        "duration": 23,
        "start_time": "2022-08-05T09:20:15.147Z"
      },
      {
        "duration": 18,
        "start_time": "2022-08-05T09:20:15.171Z"
      },
      {
        "duration": 23,
        "start_time": "2022-08-05T09:20:15.190Z"
      },
      {
        "duration": 118,
        "start_time": "2022-08-05T09:26:41.048Z"
      },
      {
        "duration": 277,
        "start_time": "2022-08-05T09:27:31.706Z"
      },
      {
        "duration": 283,
        "start_time": "2022-08-05T09:37:58.438Z"
      },
      {
        "duration": 362,
        "start_time": "2022-08-05T09:38:40.287Z"
      },
      {
        "duration": 573,
        "start_time": "2022-08-05T09:40:32.663Z"
      },
      {
        "duration": 535,
        "start_time": "2022-08-05T09:53:42.907Z"
      },
      {
        "duration": 481,
        "start_time": "2022-08-05T09:53:56.530Z"
      },
      {
        "duration": 172,
        "start_time": "2022-08-05T09:57:10.858Z"
      },
      {
        "duration": 176,
        "start_time": "2022-08-05T09:59:53.306Z"
      },
      {
        "duration": 1168,
        "start_time": "2022-08-05T10:04:11.751Z"
      },
      {
        "duration": 274,
        "start_time": "2022-08-05T10:04:36.665Z"
      },
      {
        "duration": 272,
        "start_time": "2022-08-05T10:04:53.468Z"
      },
      {
        "duration": 192,
        "start_time": "2022-08-05T10:13:43.181Z"
      },
      {
        "duration": 231,
        "start_time": "2022-08-05T10:14:33.011Z"
      },
      {
        "duration": 172,
        "start_time": "2022-08-05T10:18:24.707Z"
      },
      {
        "duration": 180,
        "start_time": "2022-08-05T10:21:13.291Z"
      },
      {
        "duration": 192,
        "start_time": "2022-08-05T10:21:23.673Z"
      },
      {
        "duration": 200,
        "start_time": "2022-08-05T10:21:44.904Z"
      },
      {
        "duration": 193,
        "start_time": "2022-08-05T10:21:53.967Z"
      },
      {
        "duration": 195,
        "start_time": "2022-08-05T10:24:10.599Z"
      },
      {
        "duration": 285,
        "start_time": "2022-08-05T10:27:17.811Z"
      },
      {
        "duration": 297,
        "start_time": "2022-08-05T10:28:17.320Z"
      },
      {
        "duration": 262,
        "start_time": "2022-08-05T10:28:49.968Z"
      },
      {
        "duration": 10,
        "start_time": "2022-08-05T10:36:23.692Z"
      },
      {
        "duration": 9,
        "start_time": "2022-08-05T10:36:28.744Z"
      },
      {
        "duration": 13,
        "start_time": "2022-08-05T10:36:40.056Z"
      },
      {
        "duration": 9,
        "start_time": "2022-08-05T10:36:50.007Z"
      },
      {
        "duration": 123,
        "start_time": "2022-08-05T10:38:47.304Z"
      },
      {
        "duration": 6,
        "start_time": "2022-08-05T10:40:04.367Z"
      },
      {
        "duration": 122,
        "start_time": "2022-08-05T10:47:24.073Z"
      },
      {
        "duration": 5,
        "start_time": "2022-08-05T10:50:36.595Z"
      },
      {
        "duration": 5,
        "start_time": "2022-08-05T10:52:34.326Z"
      },
      {
        "duration": 5,
        "start_time": "2022-08-05T10:52:38.445Z"
      },
      {
        "duration": 5,
        "start_time": "2022-08-05T10:52:53.484Z"
      },
      {
        "duration": 539,
        "start_time": "2022-08-05T11:38:40.288Z"
      },
      {
        "duration": 370,
        "start_time": "2022-08-05T11:40:21.271Z"
      },
      {
        "duration": 332,
        "start_time": "2022-08-05T11:41:20.286Z"
      },
      {
        "duration": 337,
        "start_time": "2022-08-05T11:41:42.686Z"
      },
      {
        "duration": 163,
        "start_time": "2022-08-05T11:42:13.539Z"
      },
      {
        "duration": 214,
        "start_time": "2022-08-05T11:43:12.815Z"
      },
      {
        "duration": 47,
        "start_time": "2022-08-05T11:45:24.173Z"
      },
      {
        "duration": 85,
        "start_time": "2022-08-05T11:45:56.529Z"
      },
      {
        "duration": 103,
        "start_time": "2022-08-05T11:46:27.359Z"
      },
      {
        "duration": 305,
        "start_time": "2022-08-05T11:47:22.890Z"
      },
      {
        "duration": 325,
        "start_time": "2022-08-05T11:47:30.343Z"
      },
      {
        "duration": 140,
        "start_time": "2022-08-05T11:47:40.796Z"
      },
      {
        "duration": 129,
        "start_time": "2022-08-05T11:48:38.675Z"
      },
      {
        "duration": 177,
        "start_time": "2022-08-05T11:49:21.844Z"
      },
      {
        "duration": 198,
        "start_time": "2022-08-05T11:49:49.732Z"
      },
      {
        "duration": 180,
        "start_time": "2022-08-05T11:50:01.654Z"
      },
      {
        "duration": 192,
        "start_time": "2022-08-05T11:50:13.526Z"
      },
      {
        "duration": 170,
        "start_time": "2022-08-05T11:50:41.780Z"
      },
      {
        "duration": 197,
        "start_time": "2022-08-05T11:51:06.922Z"
      },
      {
        "duration": 196,
        "start_time": "2022-08-05T11:53:59.013Z"
      },
      {
        "duration": 174,
        "start_time": "2022-08-05T11:55:11.954Z"
      },
      {
        "duration": 178,
        "start_time": "2022-08-05T11:55:35.382Z"
      },
      {
        "duration": 193,
        "start_time": "2022-08-05T11:55:45.561Z"
      },
      {
        "duration": 175,
        "start_time": "2022-08-05T11:55:55.191Z"
      },
      {
        "duration": 194,
        "start_time": "2022-08-05T11:56:13.035Z"
      },
      {
        "duration": 180,
        "start_time": "2022-08-05T11:56:47.495Z"
      },
      {
        "duration": 173,
        "start_time": "2022-08-05T11:57:24.679Z"
      },
      {
        "duration": 177,
        "start_time": "2022-08-05T11:58:34.625Z"
      },
      {
        "duration": 185,
        "start_time": "2022-08-05T11:59:33.330Z"
      },
      {
        "duration": 176,
        "start_time": "2022-08-05T11:59:45.450Z"
      },
      {
        "duration": 227,
        "start_time": "2022-08-05T11:59:58.814Z"
      },
      {
        "duration": 177,
        "start_time": "2022-08-05T12:01:32.542Z"
      },
      {
        "duration": 196,
        "start_time": "2022-08-05T12:01:57.835Z"
      },
      {
        "duration": 201,
        "start_time": "2022-08-05T12:02:12.970Z"
      },
      {
        "duration": 204,
        "start_time": "2022-08-05T12:03:04.238Z"
      },
      {
        "duration": 212,
        "start_time": "2022-08-05T12:03:11.927Z"
      },
      {
        "duration": 199,
        "start_time": "2022-08-05T12:03:36.915Z"
      },
      {
        "duration": 1102,
        "start_time": "2022-08-05T12:03:48.895Z"
      },
      {
        "duration": 70,
        "start_time": "2022-08-05T12:04:21.133Z"
      },
      {
        "duration": 136,
        "start_time": "2022-08-05T12:04:47.355Z"
      },
      {
        "duration": 1446,
        "start_time": "2022-08-05T12:05:08.258Z"
      },
      {
        "duration": 1167,
        "start_time": "2022-08-05T12:06:10.490Z"
      },
      {
        "duration": 148,
        "start_time": "2022-08-05T12:07:16.263Z"
      },
      {
        "duration": 170,
        "start_time": "2022-08-05T12:07:21.226Z"
      },
      {
        "duration": 152,
        "start_time": "2022-08-05T12:08:57.014Z"
      },
      {
        "duration": 155,
        "start_time": "2022-08-05T12:09:28.045Z"
      },
      {
        "duration": 143,
        "start_time": "2022-08-05T12:13:30.314Z"
      },
      {
        "duration": 2,
        "start_time": "2022-08-05T12:13:52.893Z"
      },
      {
        "duration": 1325,
        "start_time": "2022-08-05T12:14:02.314Z"
      },
      {
        "duration": 188,
        "start_time": "2022-08-05T12:14:26.128Z"
      },
      {
        "duration": 1252,
        "start_time": "2022-08-05T12:14:50.389Z"
      },
      {
        "duration": 159,
        "start_time": "2022-08-05T12:15:10.425Z"
      },
      {
        "duration": 133,
        "start_time": "2022-08-05T12:15:22.163Z"
      },
      {
        "duration": 149,
        "start_time": "2022-08-05T12:15:43.621Z"
      },
      {
        "duration": 165,
        "start_time": "2022-08-05T12:22:55.985Z"
      },
      {
        "duration": 11,
        "start_time": "2022-08-05T13:06:40.766Z"
      },
      {
        "duration": 13,
        "start_time": "2022-08-05T13:07:00.025Z"
      },
      {
        "duration": 12,
        "start_time": "2022-08-05T13:07:07.133Z"
      },
      {
        "duration": 128,
        "start_time": "2022-08-05T13:18:46.369Z"
      },
      {
        "duration": 128,
        "start_time": "2022-08-05T13:18:51.958Z"
      },
      {
        "duration": 142,
        "start_time": "2022-08-05T13:18:56.138Z"
      },
      {
        "duration": 125,
        "start_time": "2022-08-05T13:19:09.392Z"
      },
      {
        "duration": 50,
        "start_time": "2022-08-10T12:32:15.942Z"
      },
      {
        "duration": 1161,
        "start_time": "2022-08-10T12:32:25.314Z"
      },
      {
        "duration": 260,
        "start_time": "2022-08-10T12:32:26.477Z"
      },
      {
        "duration": 29,
        "start_time": "2022-08-10T12:32:26.738Z"
      },
      {
        "duration": 17,
        "start_time": "2022-08-10T12:32:26.770Z"
      },
      {
        "duration": 6,
        "start_time": "2022-08-10T12:32:26.788Z"
      },
      {
        "duration": 28,
        "start_time": "2022-08-10T12:32:26.795Z"
      },
      {
        "duration": 14,
        "start_time": "2022-08-10T12:32:26.825Z"
      },
      {
        "duration": 28,
        "start_time": "2022-08-10T12:32:26.841Z"
      },
      {
        "duration": 18,
        "start_time": "2022-08-10T12:32:26.871Z"
      },
      {
        "duration": 1447,
        "start_time": "2022-08-10T12:32:26.892Z"
      },
      {
        "duration": 0,
        "start_time": "2022-08-10T12:32:28.341Z"
      },
      {
        "duration": 0,
        "start_time": "2022-08-10T12:32:28.342Z"
      },
      {
        "duration": 0,
        "start_time": "2022-08-10T12:32:28.343Z"
      },
      {
        "duration": 0,
        "start_time": "2022-08-10T12:32:28.345Z"
      },
      {
        "duration": 0,
        "start_time": "2022-08-10T12:32:28.346Z"
      },
      {
        "duration": 0,
        "start_time": "2022-08-10T12:32:28.347Z"
      },
      {
        "duration": 0,
        "start_time": "2022-08-10T12:32:28.348Z"
      },
      {
        "duration": 0,
        "start_time": "2022-08-10T12:32:28.349Z"
      },
      {
        "duration": 0,
        "start_time": "2022-08-10T12:32:28.350Z"
      },
      {
        "duration": 0,
        "start_time": "2022-08-10T12:32:28.351Z"
      },
      {
        "duration": 0,
        "start_time": "2022-08-10T12:32:28.352Z"
      },
      {
        "duration": 0,
        "start_time": "2022-08-10T12:32:28.354Z"
      },
      {
        "duration": 0,
        "start_time": "2022-08-10T12:32:28.355Z"
      },
      {
        "duration": 1009,
        "start_time": "2022-08-10T12:32:54.827Z"
      },
      {
        "duration": 13,
        "start_time": "2022-08-10T12:33:03.325Z"
      },
      {
        "duration": 22,
        "start_time": "2022-08-10T12:33:19.698Z"
      },
      {
        "duration": 68,
        "start_time": "2022-08-10T12:39:05.951Z"
      },
      {
        "duration": 128,
        "start_time": "2022-08-10T12:39:13.063Z"
      },
      {
        "duration": 299,
        "start_time": "2022-08-10T12:39:30.039Z"
      },
      {
        "duration": 1030,
        "start_time": "2022-08-10T12:39:57.395Z"
      },
      {
        "duration": 126,
        "start_time": "2022-08-10T12:39:58.426Z"
      },
      {
        "duration": 23,
        "start_time": "2022-08-10T12:39:58.554Z"
      },
      {
        "duration": 10,
        "start_time": "2022-08-10T12:39:58.579Z"
      },
      {
        "duration": 3,
        "start_time": "2022-08-10T12:39:58.591Z"
      },
      {
        "duration": 29,
        "start_time": "2022-08-10T12:39:58.595Z"
      },
      {
        "duration": 11,
        "start_time": "2022-08-10T12:39:58.625Z"
      },
      {
        "duration": 7,
        "start_time": "2022-08-10T12:39:58.638Z"
      },
      {
        "duration": 10,
        "start_time": "2022-08-10T12:39:58.647Z"
      },
      {
        "duration": 12,
        "start_time": "2022-08-10T12:39:58.660Z"
      },
      {
        "duration": 40,
        "start_time": "2022-08-10T12:39:58.674Z"
      },
      {
        "duration": 14,
        "start_time": "2022-08-10T12:39:58.716Z"
      },
      {
        "duration": 527,
        "start_time": "2022-08-10T12:39:58.732Z"
      },
      {
        "duration": 164,
        "start_time": "2022-08-10T12:39:59.260Z"
      },
      {
        "duration": 272,
        "start_time": "2022-08-10T12:39:59.425Z"
      },
      {
        "duration": 181,
        "start_time": "2022-08-10T12:39:59.699Z"
      },
      {
        "duration": 281,
        "start_time": "2022-08-10T12:39:59.881Z"
      },
      {
        "duration": 110,
        "start_time": "2022-08-10T12:40:00.164Z"
      },
      {
        "duration": 6,
        "start_time": "2022-08-10T12:40:00.275Z"
      },
      {
        "duration": 130,
        "start_time": "2022-08-10T12:40:00.282Z"
      },
      {
        "duration": 5,
        "start_time": "2022-08-10T12:40:00.414Z"
      },
      {
        "duration": 210,
        "start_time": "2022-08-10T12:40:00.421Z"
      },
      {
        "duration": 214,
        "start_time": "2022-08-10T12:40:00.633Z"
      },
      {
        "duration": 974,
        "start_time": "2022-08-10T13:35:46.440Z"
      },
      {
        "duration": 134,
        "start_time": "2022-08-10T13:35:47.416Z"
      },
      {
        "duration": 32,
        "start_time": "2022-08-10T13:35:47.552Z"
      },
      {
        "duration": 12,
        "start_time": "2022-08-10T13:35:47.586Z"
      },
      {
        "duration": 5,
        "start_time": "2022-08-10T13:35:47.599Z"
      },
      {
        "duration": 31,
        "start_time": "2022-08-10T13:35:47.605Z"
      },
      {
        "duration": 11,
        "start_time": "2022-08-10T13:35:47.638Z"
      },
      {
        "duration": 7,
        "start_time": "2022-08-10T13:35:47.651Z"
      },
      {
        "duration": 6,
        "start_time": "2022-08-10T13:35:47.660Z"
      },
      {
        "duration": 12,
        "start_time": "2022-08-10T13:35:47.712Z"
      },
      {
        "duration": 15,
        "start_time": "2022-08-10T13:35:47.725Z"
      },
      {
        "duration": 15,
        "start_time": "2022-08-10T13:35:47.742Z"
      },
      {
        "duration": 563,
        "start_time": "2022-08-10T13:35:47.759Z"
      },
      {
        "duration": 189,
        "start_time": "2022-08-10T13:35:48.324Z"
      },
      {
        "duration": 304,
        "start_time": "2022-08-10T13:35:48.515Z"
      },
      {
        "duration": 185,
        "start_time": "2022-08-10T13:35:48.821Z"
      },
      {
        "duration": 274,
        "start_time": "2022-08-10T13:35:49.014Z"
      },
      {
        "duration": 138,
        "start_time": "2022-08-10T13:35:49.290Z"
      },
      {
        "duration": 6,
        "start_time": "2022-08-10T13:35:49.430Z"
      },
      {
        "duration": 151,
        "start_time": "2022-08-10T13:35:49.437Z"
      },
      {
        "duration": 5,
        "start_time": "2022-08-10T13:35:49.590Z"
      },
      {
        "duration": 272,
        "start_time": "2022-08-10T13:35:49.596Z"
      },
      {
        "duration": 175,
        "start_time": "2022-08-10T13:35:49.869Z"
      },
      {
        "duration": 283,
        "start_time": "2022-08-10T13:42:12.305Z"
      },
      {
        "duration": 155,
        "start_time": "2022-08-10T13:42:48.927Z"
      },
      {
        "duration": 12,
        "start_time": "2022-08-10T13:43:41.828Z"
      },
      {
        "duration": 171,
        "start_time": "2022-08-10T13:45:27.163Z"
      },
      {
        "duration": 165,
        "start_time": "2022-08-10T13:45:54.138Z"
      },
      {
        "duration": 90,
        "start_time": "2022-08-10T13:48:12.501Z"
      },
      {
        "duration": 147,
        "start_time": "2022-08-10T13:48:22.231Z"
      },
      {
        "duration": 147,
        "start_time": "2022-08-10T13:48:28.395Z"
      },
      {
        "duration": 151,
        "start_time": "2022-08-10T13:48:46.274Z"
      },
      {
        "duration": 186,
        "start_time": "2022-08-10T13:48:55.188Z"
      },
      {
        "duration": 147,
        "start_time": "2022-08-10T13:51:17.486Z"
      },
      {
        "duration": 156,
        "start_time": "2022-08-10T13:51:27.534Z"
      },
      {
        "duration": 15,
        "start_time": "2022-08-10T13:54:26.435Z"
      },
      {
        "duration": 49,
        "start_time": "2022-08-10T19:39:05.855Z"
      },
      {
        "duration": 1228,
        "start_time": "2022-08-10T19:39:13.343Z"
      },
      {
        "duration": 307,
        "start_time": "2022-08-10T19:39:14.573Z"
      },
      {
        "duration": 24,
        "start_time": "2022-08-10T19:39:14.882Z"
      },
      {
        "duration": 16,
        "start_time": "2022-08-10T19:39:14.909Z"
      },
      {
        "duration": 4,
        "start_time": "2022-08-10T19:39:14.927Z"
      },
      {
        "duration": 33,
        "start_time": "2022-08-10T19:39:14.932Z"
      },
      {
        "duration": 15,
        "start_time": "2022-08-10T19:39:14.967Z"
      },
      {
        "duration": 6,
        "start_time": "2022-08-10T19:39:14.984Z"
      },
      {
        "duration": 36,
        "start_time": "2022-08-10T19:39:14.992Z"
      },
      {
        "duration": 14,
        "start_time": "2022-08-10T19:39:15.032Z"
      },
      {
        "duration": 10,
        "start_time": "2022-08-10T19:39:15.048Z"
      },
      {
        "duration": 10,
        "start_time": "2022-08-10T19:39:15.060Z"
      },
      {
        "duration": 616,
        "start_time": "2022-08-10T19:39:15.072Z"
      },
      {
        "duration": 220,
        "start_time": "2022-08-10T19:39:15.690Z"
      },
      {
        "duration": 357,
        "start_time": "2022-08-10T19:39:15.912Z"
      },
      {
        "duration": 188,
        "start_time": "2022-08-10T19:39:16.271Z"
      },
      {
        "duration": 276,
        "start_time": "2022-08-10T19:39:16.461Z"
      },
      {
        "duration": 126,
        "start_time": "2022-08-10T19:39:16.739Z"
      },
      {
        "duration": 5,
        "start_time": "2022-08-10T19:39:16.867Z"
      },
      {
        "duration": 139,
        "start_time": "2022-08-10T19:39:16.874Z"
      },
      {
        "duration": 5,
        "start_time": "2022-08-10T19:39:17.015Z"
      },
      {
        "duration": 242,
        "start_time": "2022-08-10T19:39:17.022Z"
      },
      {
        "duration": 160,
        "start_time": "2022-08-10T19:39:17.266Z"
      },
      {
        "duration": 12,
        "start_time": "2022-08-10T19:39:17.428Z"
      },
      {
        "duration": 65,
        "start_time": "2022-08-11T10:34:05.406Z"
      },
      {
        "duration": 1308,
        "start_time": "2022-08-11T10:34:11.558Z"
      },
      {
        "duration": 276,
        "start_time": "2022-08-11T10:34:12.869Z"
      },
      {
        "duration": 23,
        "start_time": "2022-08-11T10:34:13.147Z"
      },
      {
        "duration": 18,
        "start_time": "2022-08-11T10:34:13.172Z"
      },
      {
        "duration": 15,
        "start_time": "2022-08-11T10:34:13.192Z"
      },
      {
        "duration": 59,
        "start_time": "2022-08-11T10:34:13.209Z"
      },
      {
        "duration": 37,
        "start_time": "2022-08-11T10:34:13.270Z"
      },
      {
        "duration": 48,
        "start_time": "2022-08-11T10:34:13.308Z"
      },
      {
        "duration": 32,
        "start_time": "2022-08-11T10:34:13.358Z"
      },
      {
        "duration": 47,
        "start_time": "2022-08-11T10:34:13.392Z"
      },
      {
        "duration": 18,
        "start_time": "2022-08-11T10:34:13.442Z"
      },
      {
        "duration": 16,
        "start_time": "2022-08-11T10:34:13.462Z"
      },
      {
        "duration": 585,
        "start_time": "2022-08-11T10:34:13.480Z"
      },
      {
        "duration": 182,
        "start_time": "2022-08-11T10:34:14.067Z"
      },
      {
        "duration": 280,
        "start_time": "2022-08-11T10:34:14.251Z"
      },
      {
        "duration": 183,
        "start_time": "2022-08-11T10:34:14.532Z"
      },
      {
        "duration": 270,
        "start_time": "2022-08-11T10:34:14.716Z"
      },
      {
        "duration": 115,
        "start_time": "2022-08-11T10:34:14.988Z"
      },
      {
        "duration": 10,
        "start_time": "2022-08-11T10:34:15.104Z"
      },
      {
        "duration": 136,
        "start_time": "2022-08-11T10:34:15.116Z"
      },
      {
        "duration": 4,
        "start_time": "2022-08-11T10:34:15.254Z"
      },
      {
        "duration": 229,
        "start_time": "2022-08-11T10:34:15.260Z"
      },
      {
        "duration": 285,
        "start_time": "2022-08-11T10:34:15.490Z"
      },
      {
        "duration": 0,
        "start_time": "2022-08-11T10:34:15.776Z"
      },
      {
        "duration": 0,
        "start_time": "2022-08-11T10:34:15.777Z"
      },
      {
        "duration": 183,
        "start_time": "2022-08-11T10:35:19.363Z"
      },
      {
        "duration": 1015,
        "start_time": "2022-08-11T10:35:28.540Z"
      },
      {
        "duration": 127,
        "start_time": "2022-08-11T10:35:29.557Z"
      },
      {
        "duration": 21,
        "start_time": "2022-08-11T10:35:29.686Z"
      },
      {
        "duration": 15,
        "start_time": "2022-08-11T10:35:29.708Z"
      },
      {
        "duration": 9,
        "start_time": "2022-08-11T10:35:29.725Z"
      },
      {
        "duration": 30,
        "start_time": "2022-08-11T10:35:29.735Z"
      },
      {
        "duration": 12,
        "start_time": "2022-08-11T10:35:29.766Z"
      },
      {
        "duration": 6,
        "start_time": "2022-08-11T10:35:29.780Z"
      },
      {
        "duration": 32,
        "start_time": "2022-08-11T10:35:29.787Z"
      },
      {
        "duration": 16,
        "start_time": "2022-08-11T10:35:29.823Z"
      },
      {
        "duration": 11,
        "start_time": "2022-08-11T10:35:29.840Z"
      },
      {
        "duration": 10,
        "start_time": "2022-08-11T10:35:29.853Z"
      },
      {
        "duration": 590,
        "start_time": "2022-08-11T10:35:29.865Z"
      },
      {
        "duration": 173,
        "start_time": "2022-08-11T10:35:30.457Z"
      },
      {
        "duration": 260,
        "start_time": "2022-08-11T10:35:30.632Z"
      },
      {
        "duration": 191,
        "start_time": "2022-08-11T10:35:30.894Z"
      },
      {
        "duration": 286,
        "start_time": "2022-08-11T10:35:31.087Z"
      },
      {
        "duration": 123,
        "start_time": "2022-08-11T10:35:31.374Z"
      },
      {
        "duration": 15,
        "start_time": "2022-08-11T10:35:31.499Z"
      },
      {
        "duration": 133,
        "start_time": "2022-08-11T10:35:31.517Z"
      },
      {
        "duration": 6,
        "start_time": "2022-08-11T10:35:31.652Z"
      },
      {
        "duration": 227,
        "start_time": "2022-08-11T10:35:31.659Z"
      },
      {
        "duration": 197,
        "start_time": "2022-08-11T10:35:31.888Z"
      },
      {
        "duration": 26,
        "start_time": "2022-08-11T10:35:32.086Z"
      },
      {
        "duration": 9,
        "start_time": "2022-08-11T10:35:32.113Z"
      },
      {
        "duration": 10,
        "start_time": "2022-08-11T10:35:40.916Z"
      },
      {
        "duration": 9,
        "start_time": "2022-08-11T10:36:11.663Z"
      },
      {
        "duration": 9,
        "start_time": "2022-08-11T10:36:17.387Z"
      },
      {
        "duration": 131,
        "start_time": "2022-08-11T10:47:16.134Z"
      },
      {
        "duration": 25,
        "start_time": "2022-08-11T10:47:27.688Z"
      },
      {
        "duration": 26,
        "start_time": "2022-08-11T10:50:36.162Z"
      },
      {
        "duration": 30,
        "start_time": "2022-08-11T10:56:12.221Z"
      },
      {
        "duration": 11,
        "start_time": "2022-08-11T10:56:27.534Z"
      },
      {
        "duration": 27,
        "start_time": "2022-08-11T10:56:33.748Z"
      },
      {
        "duration": 10,
        "start_time": "2022-08-11T10:59:44.884Z"
      },
      {
        "duration": 10,
        "start_time": "2022-08-11T11:01:06.969Z"
      },
      {
        "duration": 1899,
        "start_time": "2022-08-11T11:01:23.297Z"
      },
      {
        "duration": 5,
        "start_time": "2022-08-11T11:05:52.001Z"
      },
      {
        "duration": 4,
        "start_time": "2022-08-11T11:06:29.983Z"
      },
      {
        "duration": 19,
        "start_time": "2022-08-11T11:15:56.554Z"
      },
      {
        "duration": 834,
        "start_time": "2022-08-11T11:17:45.177Z"
      },
      {
        "duration": 1529,
        "start_time": "2022-08-11T11:18:00.335Z"
      },
      {
        "duration": 13,
        "start_time": "2022-08-11T11:18:09.779Z"
      },
      {
        "duration": 16,
        "start_time": "2022-08-11T11:20:59.263Z"
      },
      {
        "duration": 14,
        "start_time": "2022-08-11T11:21:39.949Z"
      },
      {
        "duration": 5,
        "start_time": "2022-08-11T11:27:07.233Z"
      },
      {
        "duration": 50,
        "start_time": "2022-08-11T20:09:54.285Z"
      },
      {
        "duration": 1145,
        "start_time": "2022-08-11T20:10:00.641Z"
      },
      {
        "duration": 248,
        "start_time": "2022-08-11T20:10:01.789Z"
      },
      {
        "duration": 23,
        "start_time": "2022-08-11T20:10:02.041Z"
      },
      {
        "duration": 42,
        "start_time": "2022-08-11T20:10:02.066Z"
      },
      {
        "duration": 33,
        "start_time": "2022-08-11T20:10:02.110Z"
      },
      {
        "duration": 20,
        "start_time": "2022-08-11T20:10:02.144Z"
      },
      {
        "duration": 14,
        "start_time": "2022-08-11T20:10:02.165Z"
      },
      {
        "duration": 22,
        "start_time": "2022-08-11T20:10:02.180Z"
      },
      {
        "duration": 28,
        "start_time": "2022-08-11T20:10:02.205Z"
      },
      {
        "duration": 19,
        "start_time": "2022-08-11T20:10:02.234Z"
      },
      {
        "duration": 31,
        "start_time": "2022-08-11T20:10:02.255Z"
      },
      {
        "duration": 672,
        "start_time": "2022-08-11T20:10:02.288Z"
      },
      {
        "duration": 186,
        "start_time": "2022-08-11T20:10:02.962Z"
      },
      {
        "duration": 311,
        "start_time": "2022-08-11T20:10:03.150Z"
      },
      {
        "duration": 183,
        "start_time": "2022-08-11T20:10:03.463Z"
      },
      {
        "duration": 250,
        "start_time": "2022-08-11T20:10:03.648Z"
      },
      {
        "duration": 120,
        "start_time": "2022-08-11T20:10:03.900Z"
      },
      {
        "duration": 5,
        "start_time": "2022-08-11T20:10:04.021Z"
      },
      {
        "duration": 136,
        "start_time": "2022-08-11T20:10:04.027Z"
      },
      {
        "duration": 4,
        "start_time": "2022-08-11T20:10:04.165Z"
      },
      {
        "duration": 217,
        "start_time": "2022-08-11T20:10:04.171Z"
      },
      {
        "duration": 169,
        "start_time": "2022-08-11T20:10:04.390Z"
      },
      {
        "duration": 15,
        "start_time": "2022-08-11T20:10:04.561Z"
      },
      {
        "duration": 9,
        "start_time": "2022-08-11T20:10:04.610Z"
      },
      {
        "duration": 5,
        "start_time": "2022-08-11T20:10:04.620Z"
      },
      {
        "duration": 27,
        "start_time": "2022-08-11T20:10:04.626Z"
      },
      {
        "duration": 56,
        "start_time": "2022-08-11T20:10:04.655Z"
      },
      {
        "duration": 3,
        "start_time": "2022-08-11T20:25:47.033Z"
      },
      {
        "duration": 997,
        "start_time": "2022-08-11T20:25:57.103Z"
      },
      {
        "duration": 122,
        "start_time": "2022-08-11T20:25:58.102Z"
      },
      {
        "duration": 23,
        "start_time": "2022-08-11T20:25:58.225Z"
      },
      {
        "duration": 4,
        "start_time": "2022-08-11T20:25:58.250Z"
      },
      {
        "duration": 17,
        "start_time": "2022-08-11T20:25:58.255Z"
      },
      {
        "duration": 7,
        "start_time": "2022-08-11T20:25:58.274Z"
      },
      {
        "duration": 5,
        "start_time": "2022-08-11T20:25:58.282Z"
      },
      {
        "duration": 24,
        "start_time": "2022-08-11T20:25:58.288Z"
      },
      {
        "duration": 8,
        "start_time": "2022-08-11T20:25:58.314Z"
      },
      {
        "duration": 11,
        "start_time": "2022-08-11T20:25:58.324Z"
      },
      {
        "duration": 9,
        "start_time": "2022-08-11T20:25:58.336Z"
      },
      {
        "duration": 534,
        "start_time": "2022-08-11T20:25:58.346Z"
      },
      {
        "duration": 165,
        "start_time": "2022-08-11T20:25:58.882Z"
      },
      {
        "duration": 248,
        "start_time": "2022-08-11T20:25:59.048Z"
      },
      {
        "duration": 186,
        "start_time": "2022-08-11T20:25:59.297Z"
      },
      {
        "duration": 278,
        "start_time": "2022-08-11T20:25:59.484Z"
      },
      {
        "duration": 122,
        "start_time": "2022-08-11T20:25:59.763Z"
      },
      {
        "duration": 4,
        "start_time": "2022-08-11T20:25:59.887Z"
      },
      {
        "duration": 128,
        "start_time": "2022-08-11T20:25:59.893Z"
      },
      {
        "duration": 4,
        "start_time": "2022-08-11T20:26:00.023Z"
      },
      {
        "duration": 216,
        "start_time": "2022-08-11T20:26:00.029Z"
      },
      {
        "duration": 165,
        "start_time": "2022-08-11T20:26:00.247Z"
      },
      {
        "duration": 11,
        "start_time": "2022-08-11T20:26:00.413Z"
      },
      {
        "duration": 8,
        "start_time": "2022-08-11T20:26:00.425Z"
      },
      {
        "duration": 6,
        "start_time": "2022-08-11T20:26:00.435Z"
      },
      {
        "duration": 40,
        "start_time": "2022-08-11T20:26:00.442Z"
      },
      {
        "duration": 39,
        "start_time": "2022-08-11T20:26:00.483Z"
      },
      {
        "duration": 10,
        "start_time": "2022-08-11T20:38:53.813Z"
      },
      {
        "duration": 985,
        "start_time": "2022-08-11T20:39:10.055Z"
      },
      {
        "duration": 118,
        "start_time": "2022-08-11T20:39:11.042Z"
      },
      {
        "duration": 22,
        "start_time": "2022-08-11T20:39:11.161Z"
      },
      {
        "duration": 4,
        "start_time": "2022-08-11T20:39:11.185Z"
      },
      {
        "duration": 14,
        "start_time": "2022-08-11T20:39:11.190Z"
      },
      {
        "duration": 8,
        "start_time": "2022-08-11T20:39:11.206Z"
      },
      {
        "duration": 5,
        "start_time": "2022-08-11T20:39:11.216Z"
      },
      {
        "duration": 8,
        "start_time": "2022-08-11T20:39:11.222Z"
      },
      {
        "duration": 10,
        "start_time": "2022-08-11T20:39:11.231Z"
      },
      {
        "duration": 9,
        "start_time": "2022-08-11T20:39:11.243Z"
      },
      {
        "duration": 12,
        "start_time": "2022-08-11T20:39:11.254Z"
      },
      {
        "duration": 45,
        "start_time": "2022-08-11T20:39:11.268Z"
      },
      {
        "duration": 520,
        "start_time": "2022-08-11T20:39:11.315Z"
      },
      {
        "duration": 166,
        "start_time": "2022-08-11T20:39:11.836Z"
      },
      {
        "duration": 280,
        "start_time": "2022-08-11T20:39:12.003Z"
      },
      {
        "duration": 179,
        "start_time": "2022-08-11T20:39:12.284Z"
      },
      {
        "duration": 316,
        "start_time": "2022-08-11T20:39:12.465Z"
      },
      {
        "duration": 115,
        "start_time": "2022-08-11T20:39:12.783Z"
      },
      {
        "duration": 11,
        "start_time": "2022-08-11T20:39:12.900Z"
      },
      {
        "duration": 128,
        "start_time": "2022-08-11T20:39:12.913Z"
      },
      {
        "duration": 4,
        "start_time": "2022-08-11T20:39:13.043Z"
      },
      {
        "duration": 220,
        "start_time": "2022-08-11T20:39:13.048Z"
      },
      {
        "duration": 159,
        "start_time": "2022-08-11T20:39:13.269Z"
      },
      {
        "duration": 13,
        "start_time": "2022-08-11T20:39:13.429Z"
      },
      {
        "duration": 10,
        "start_time": "2022-08-11T20:39:13.443Z"
      },
      {
        "duration": 7,
        "start_time": "2022-08-11T20:39:13.455Z"
      },
      {
        "duration": 68,
        "start_time": "2022-08-11T20:39:13.463Z"
      },
      {
        "duration": 15,
        "start_time": "2022-08-11T20:39:13.533Z"
      },
      {
        "duration": 1002,
        "start_time": "2022-08-11T20:39:48.296Z"
      },
      {
        "duration": 119,
        "start_time": "2022-08-11T20:39:49.300Z"
      },
      {
        "duration": 23,
        "start_time": "2022-08-11T20:39:49.420Z"
      },
      {
        "duration": 20,
        "start_time": "2022-08-11T20:39:49.445Z"
      },
      {
        "duration": 14,
        "start_time": "2022-08-11T20:39:49.467Z"
      },
      {
        "duration": 7,
        "start_time": "2022-08-11T20:39:49.482Z"
      },
      {
        "duration": 4,
        "start_time": "2022-08-11T20:39:49.490Z"
      },
      {
        "duration": 17,
        "start_time": "2022-08-11T20:39:49.495Z"
      },
      {
        "duration": 9,
        "start_time": "2022-08-11T20:39:49.514Z"
      },
      {
        "duration": 8,
        "start_time": "2022-08-11T20:39:49.525Z"
      },
      {
        "duration": 8,
        "start_time": "2022-08-11T20:39:49.535Z"
      },
      {
        "duration": 9,
        "start_time": "2022-08-11T20:39:49.544Z"
      },
      {
        "duration": 558,
        "start_time": "2022-08-11T20:39:49.554Z"
      },
      {
        "duration": 159,
        "start_time": "2022-08-11T20:39:50.114Z"
      },
      {
        "duration": 285,
        "start_time": "2022-08-11T20:39:50.275Z"
      },
      {
        "duration": 185,
        "start_time": "2022-08-11T20:39:50.562Z"
      },
      {
        "duration": 235,
        "start_time": "2022-08-11T20:39:50.748Z"
      },
      {
        "duration": 118,
        "start_time": "2022-08-11T20:39:50.984Z"
      },
      {
        "duration": 9,
        "start_time": "2022-08-11T20:39:51.104Z"
      },
      {
        "duration": 127,
        "start_time": "2022-08-11T20:39:51.114Z"
      },
      {
        "duration": 4,
        "start_time": "2022-08-11T20:39:51.243Z"
      },
      {
        "duration": 222,
        "start_time": "2022-08-11T20:39:51.249Z"
      },
      {
        "duration": 161,
        "start_time": "2022-08-11T20:39:51.473Z"
      },
      {
        "duration": 10,
        "start_time": "2022-08-11T20:39:51.636Z"
      },
      {
        "duration": 9,
        "start_time": "2022-08-11T20:39:51.647Z"
      },
      {
        "duration": 15,
        "start_time": "2022-08-11T20:39:51.657Z"
      },
      {
        "duration": 50,
        "start_time": "2022-08-11T20:39:51.674Z"
      },
      {
        "duration": 14,
        "start_time": "2022-08-11T20:39:51.727Z"
      },
      {
        "duration": 9,
        "start_time": "2022-08-11T21:16:05.733Z"
      },
      {
        "duration": 9,
        "start_time": "2022-08-11T21:16:14.012Z"
      },
      {
        "duration": 47,
        "start_time": "2022-08-12T22:38:24.721Z"
      },
      {
        "duration": 39,
        "start_time": "2022-08-12T22:39:29.437Z"
      },
      {
        "duration": 1159,
        "start_time": "2022-08-12T22:39:37.743Z"
      },
      {
        "duration": 271,
        "start_time": "2022-08-12T22:39:38.905Z"
      },
      {
        "duration": 22,
        "start_time": "2022-08-12T22:39:39.177Z"
      },
      {
        "duration": 8,
        "start_time": "2022-08-12T22:39:39.201Z"
      },
      {
        "duration": 22,
        "start_time": "2022-08-12T22:39:39.211Z"
      },
      {
        "duration": 11,
        "start_time": "2022-08-12T22:39:39.235Z"
      },
      {
        "duration": 5,
        "start_time": "2022-08-12T22:39:39.247Z"
      },
      {
        "duration": 12,
        "start_time": "2022-08-12T22:39:39.254Z"
      },
      {
        "duration": 10,
        "start_time": "2022-08-12T22:39:39.268Z"
      },
      {
        "duration": 10,
        "start_time": "2022-08-12T22:39:39.281Z"
      },
      {
        "duration": 16,
        "start_time": "2022-08-12T22:39:39.293Z"
      },
      {
        "duration": 35,
        "start_time": "2022-08-12T22:39:39.311Z"
      },
      {
        "duration": 522,
        "start_time": "2022-08-12T22:39:39.349Z"
      },
      {
        "duration": 10,
        "start_time": "2022-08-12T22:39:39.873Z"
      },
      {
        "duration": 200,
        "start_time": "2022-08-12T22:39:39.885Z"
      },
      {
        "duration": 343,
        "start_time": "2022-08-12T22:39:40.087Z"
      },
      {
        "duration": 174,
        "start_time": "2022-08-12T22:39:40.431Z"
      },
      {
        "duration": 304,
        "start_time": "2022-08-12T22:39:40.607Z"
      },
      {
        "duration": 109,
        "start_time": "2022-08-12T22:39:40.913Z"
      },
      {
        "duration": 18,
        "start_time": "2022-08-12T22:39:41.023Z"
      },
      {
        "duration": 119,
        "start_time": "2022-08-12T22:39:41.042Z"
      },
      {
        "duration": 4,
        "start_time": "2022-08-12T22:39:41.163Z"
      },
      {
        "duration": 224,
        "start_time": "2022-08-12T22:39:41.168Z"
      },
      {
        "duration": 187,
        "start_time": "2022-08-12T22:39:41.394Z"
      },
      {
        "duration": 13,
        "start_time": "2022-08-12T22:39:41.583Z"
      },
      {
        "duration": 8,
        "start_time": "2022-08-12T22:39:41.598Z"
      },
      {
        "duration": 34,
        "start_time": "2022-08-12T22:39:41.608Z"
      },
      {
        "duration": 30,
        "start_time": "2022-08-12T22:39:41.645Z"
      },
      {
        "duration": 16,
        "start_time": "2022-08-12T22:39:41.676Z"
      },
      {
        "duration": 11,
        "start_time": "2022-08-12T22:40:40.223Z"
      },
      {
        "duration": 10,
        "start_time": "2022-08-12T22:40:46.358Z"
      },
      {
        "duration": 6,
        "start_time": "2022-08-12T22:42:16.182Z"
      },
      {
        "duration": 81,
        "start_time": "2022-08-12T22:42:16.190Z"
      },
      {
        "duration": 21,
        "start_time": "2022-08-12T22:42:16.272Z"
      },
      {
        "duration": 4,
        "start_time": "2022-08-12T22:42:16.295Z"
      },
      {
        "duration": 19,
        "start_time": "2022-08-12T22:42:16.300Z"
      },
      {
        "duration": 10,
        "start_time": "2022-08-12T22:42:16.320Z"
      },
      {
        "duration": 5,
        "start_time": "2022-08-12T22:42:16.331Z"
      },
      {
        "duration": 8,
        "start_time": "2022-08-12T22:42:16.337Z"
      },
      {
        "duration": 8,
        "start_time": "2022-08-12T22:42:16.347Z"
      },
      {
        "duration": 9,
        "start_time": "2022-08-12T22:42:16.357Z"
      },
      {
        "duration": 23,
        "start_time": "2022-08-12T22:42:16.368Z"
      },
      {
        "duration": 13,
        "start_time": "2022-08-12T22:42:16.393Z"
      },
      {
        "duration": 428,
        "start_time": "2022-08-12T22:42:16.407Z"
      },
      {
        "duration": 9,
        "start_time": "2022-08-12T22:42:16.838Z"
      },
      {
        "duration": 227,
        "start_time": "2022-08-12T22:42:16.848Z"
      },
      {
        "duration": 249,
        "start_time": "2022-08-12T22:42:17.076Z"
      },
      {
        "duration": 176,
        "start_time": "2022-08-12T22:42:17.327Z"
      },
      {
        "duration": 274,
        "start_time": "2022-08-12T22:42:17.504Z"
      },
      {
        "duration": 119,
        "start_time": "2022-08-12T22:42:17.780Z"
      },
      {
        "duration": 4,
        "start_time": "2022-08-12T22:42:17.901Z"
      },
      {
        "duration": 121,
        "start_time": "2022-08-12T22:42:17.907Z"
      },
      {
        "duration": 11,
        "start_time": "2022-08-12T22:42:18.030Z"
      },
      {
        "duration": 218,
        "start_time": "2022-08-12T22:42:18.043Z"
      },
      {
        "duration": 179,
        "start_time": "2022-08-12T22:42:18.263Z"
      },
      {
        "duration": 12,
        "start_time": "2022-08-12T22:42:18.443Z"
      },
      {
        "duration": 8,
        "start_time": "2022-08-12T22:42:18.456Z"
      },
      {
        "duration": 5,
        "start_time": "2022-08-12T22:42:18.466Z"
      },
      {
        "duration": 27,
        "start_time": "2022-08-12T22:42:18.473Z"
      },
      {
        "duration": 48,
        "start_time": "2022-08-12T22:42:18.502Z"
      },
      {
        "duration": 38,
        "start_time": "2022-08-12T22:43:30.000Z"
      },
      {
        "duration": 12,
        "start_time": "2022-08-12T22:43:40.465Z"
      },
      {
        "duration": 12,
        "start_time": "2022-08-12T22:43:59.677Z"
      },
      {
        "duration": 58,
        "start_time": "2022-08-12T22:46:32.274Z"
      },
      {
        "duration": 83,
        "start_time": "2022-08-12T22:46:53.108Z"
      },
      {
        "duration": 15,
        "start_time": "2022-08-12T22:47:05.677Z"
      },
      {
        "duration": 96,
        "start_time": "2022-08-12T22:48:31.009Z"
      },
      {
        "duration": 8,
        "start_time": "2022-08-12T22:49:06.321Z"
      },
      {
        "duration": 11,
        "start_time": "2022-08-12T22:50:46.538Z"
      },
      {
        "duration": 116,
        "start_time": "2022-08-12T23:51:11.547Z"
      },
      {
        "duration": 3518,
        "start_time": "2022-08-12T23:51:33.245Z"
      },
      {
        "duration": 121,
        "start_time": "2022-08-12T23:51:36.765Z"
      },
      {
        "duration": 22,
        "start_time": "2022-08-12T23:51:36.887Z"
      },
      {
        "duration": 13,
        "start_time": "2022-08-12T23:51:36.910Z"
      },
      {
        "duration": 30,
        "start_time": "2022-08-12T23:51:36.925Z"
      },
      {
        "duration": 21,
        "start_time": "2022-08-12T23:51:36.956Z"
      },
      {
        "duration": 7,
        "start_time": "2022-08-12T23:51:36.979Z"
      },
      {
        "duration": 6,
        "start_time": "2022-08-12T23:51:36.987Z"
      },
      {
        "duration": 24,
        "start_time": "2022-08-12T23:51:36.994Z"
      },
      {
        "duration": 21,
        "start_time": "2022-08-12T23:51:37.020Z"
      },
      {
        "duration": 19,
        "start_time": "2022-08-12T23:51:37.043Z"
      },
      {
        "duration": 12,
        "start_time": "2022-08-12T23:51:37.063Z"
      },
      {
        "duration": 530,
        "start_time": "2022-08-12T23:51:37.076Z"
      },
      {
        "duration": 10,
        "start_time": "2022-08-12T23:51:37.607Z"
      },
      {
        "duration": 20,
        "start_time": "2022-08-12T23:51:37.619Z"
      },
      {
        "duration": 156,
        "start_time": "2022-08-12T23:51:37.640Z"
      },
      {
        "duration": 280,
        "start_time": "2022-08-12T23:51:37.798Z"
      },
      {
        "duration": 171,
        "start_time": "2022-08-12T23:51:38.080Z"
      },
      {
        "duration": 242,
        "start_time": "2022-08-12T23:51:38.253Z"
      },
      {
        "duration": 106,
        "start_time": "2022-08-12T23:51:38.497Z"
      },
      {
        "duration": 4,
        "start_time": "2022-08-12T23:51:38.604Z"
      },
      {
        "duration": 124,
        "start_time": "2022-08-12T23:51:38.610Z"
      },
      {
        "duration": 132,
        "start_time": "2022-08-12T23:51:38.739Z"
      },
      {
        "duration": 6,
        "start_time": "2022-08-12T23:51:38.873Z"
      },
      {
        "duration": 258,
        "start_time": "2022-08-12T23:51:38.881Z"
      },
      {
        "duration": 169,
        "start_time": "2022-08-12T23:51:39.141Z"
      },
      {
        "duration": 27,
        "start_time": "2022-08-12T23:51:39.311Z"
      },
      {
        "duration": 11,
        "start_time": "2022-08-12T23:51:39.341Z"
      },
      {
        "duration": 4,
        "start_time": "2022-08-12T23:51:39.354Z"
      },
      {
        "duration": 29,
        "start_time": "2022-08-12T23:51:39.360Z"
      },
      {
        "duration": 13,
        "start_time": "2022-08-12T23:51:39.391Z"
      },
      {
        "duration": 112,
        "start_time": "2022-08-12T23:52:33.014Z"
      },
      {
        "duration": 163,
        "start_time": "2022-08-12T23:53:26.643Z"
      },
      {
        "duration": 104,
        "start_time": "2022-08-12T23:53:42.893Z"
      },
      {
        "duration": 84,
        "start_time": "2022-08-12T23:57:29.788Z"
      },
      {
        "duration": 103,
        "start_time": "2022-08-12T23:57:38.442Z"
      },
      {
        "duration": 99,
        "start_time": "2022-08-12T23:58:19.115Z"
      },
      {
        "duration": 116,
        "start_time": "2022-08-12T23:58:32.498Z"
      },
      {
        "duration": 127,
        "start_time": "2022-08-12T23:58:41.136Z"
      },
      {
        "duration": 113,
        "start_time": "2022-08-12T23:59:33.818Z"
      },
      {
        "duration": 116,
        "start_time": "2022-08-13T00:00:00.293Z"
      },
      {
        "duration": 109,
        "start_time": "2022-08-13T00:00:14.122Z"
      },
      {
        "duration": 1213,
        "start_time": "2022-08-13T11:57:24.227Z"
      },
      {
        "duration": 248,
        "start_time": "2022-08-13T11:57:25.442Z"
      },
      {
        "duration": 25,
        "start_time": "2022-08-13T11:57:25.692Z"
      },
      {
        "duration": 5,
        "start_time": "2022-08-13T11:57:25.720Z"
      },
      {
        "duration": 28,
        "start_time": "2022-08-13T11:57:25.727Z"
      },
      {
        "duration": 9,
        "start_time": "2022-08-13T11:57:25.756Z"
      },
      {
        "duration": 5,
        "start_time": "2022-08-13T11:57:25.766Z"
      },
      {
        "duration": 7,
        "start_time": "2022-08-13T11:57:25.772Z"
      },
      {
        "duration": 33,
        "start_time": "2022-08-13T11:57:25.780Z"
      },
      {
        "duration": 9,
        "start_time": "2022-08-13T11:57:25.815Z"
      },
      {
        "duration": 9,
        "start_time": "2022-08-13T11:57:25.825Z"
      },
      {
        "duration": 9,
        "start_time": "2022-08-13T11:57:25.836Z"
      },
      {
        "duration": 542,
        "start_time": "2022-08-13T11:57:25.847Z"
      },
      {
        "duration": 11,
        "start_time": "2022-08-13T11:57:26.391Z"
      },
      {
        "duration": 9,
        "start_time": "2022-08-13T11:57:26.404Z"
      },
      {
        "duration": 183,
        "start_time": "2022-08-13T11:57:26.414Z"
      },
      {
        "duration": 342,
        "start_time": "2022-08-13T11:57:26.599Z"
      },
      {
        "duration": 184,
        "start_time": "2022-08-13T11:57:26.943Z"
      },
      {
        "duration": 283,
        "start_time": "2022-08-13T11:57:27.128Z"
      },
      {
        "duration": 115,
        "start_time": "2022-08-13T11:57:27.413Z"
      },
      {
        "duration": 5,
        "start_time": "2022-08-13T11:57:27.529Z"
      },
      {
        "duration": 137,
        "start_time": "2022-08-13T11:57:27.536Z"
      },
      {
        "duration": 123,
        "start_time": "2022-08-13T11:57:27.675Z"
      },
      {
        "duration": 4,
        "start_time": "2022-08-13T11:57:27.799Z"
      },
      {
        "duration": 222,
        "start_time": "2022-08-13T11:57:27.805Z"
      },
      {
        "duration": 148,
        "start_time": "2022-08-13T11:57:28.029Z"
      },
      {
        "duration": 11,
        "start_time": "2022-08-13T11:57:28.179Z"
      },
      {
        "duration": 9,
        "start_time": "2022-08-13T11:57:28.193Z"
      },
      {
        "duration": 58,
        "start_time": "2022-08-13T11:57:28.203Z"
      },
      {
        "duration": 15,
        "start_time": "2022-08-13T11:57:28.263Z"
      },
      {
        "duration": 997,
        "start_time": "2022-08-13T19:39:12.602Z"
      },
      {
        "duration": 120,
        "start_time": "2022-08-13T19:39:13.601Z"
      },
      {
        "duration": 22,
        "start_time": "2022-08-13T19:39:13.723Z"
      },
      {
        "duration": 8,
        "start_time": "2022-08-13T19:39:13.747Z"
      },
      {
        "duration": 17,
        "start_time": "2022-08-13T19:39:13.757Z"
      },
      {
        "duration": 10,
        "start_time": "2022-08-13T19:39:13.776Z"
      },
      {
        "duration": 5,
        "start_time": "2022-08-13T19:39:13.787Z"
      },
      {
        "duration": 4,
        "start_time": "2022-08-13T19:39:13.798Z"
      },
      {
        "duration": 9,
        "start_time": "2022-08-13T19:39:13.804Z"
      },
      {
        "duration": 8,
        "start_time": "2022-08-13T19:39:13.814Z"
      },
      {
        "duration": 8,
        "start_time": "2022-08-13T19:39:13.823Z"
      },
      {
        "duration": 9,
        "start_time": "2022-08-13T19:39:13.832Z"
      },
      {
        "duration": 516,
        "start_time": "2022-08-13T19:39:13.842Z"
      },
      {
        "duration": 10,
        "start_time": "2022-08-13T19:39:14.360Z"
      },
      {
        "duration": 9,
        "start_time": "2022-08-13T19:39:14.371Z"
      },
      {
        "duration": 202,
        "start_time": "2022-08-13T19:39:14.382Z"
      },
      {
        "duration": 274,
        "start_time": "2022-08-13T19:39:14.585Z"
      },
      {
        "duration": 193,
        "start_time": "2022-08-13T19:39:14.861Z"
      },
      {
        "duration": 245,
        "start_time": "2022-08-13T19:39:15.055Z"
      },
      {
        "duration": 98,
        "start_time": "2022-08-13T19:39:15.302Z"
      },
      {
        "duration": 4,
        "start_time": "2022-08-13T19:39:15.401Z"
      },
      {
        "duration": 113,
        "start_time": "2022-08-13T19:39:15.406Z"
      },
      {
        "duration": 119,
        "start_time": "2022-08-13T19:39:15.520Z"
      },
      {
        "duration": 4,
        "start_time": "2022-08-13T19:39:15.640Z"
      },
      {
        "duration": 216,
        "start_time": "2022-08-13T19:39:15.646Z"
      },
      {
        "duration": 162,
        "start_time": "2022-08-13T19:39:15.864Z"
      },
      {
        "duration": 10,
        "start_time": "2022-08-13T19:39:16.027Z"
      },
      {
        "duration": 8,
        "start_time": "2022-08-13T19:39:16.038Z"
      },
      {
        "duration": 51,
        "start_time": "2022-08-13T19:39:16.048Z"
      },
      {
        "duration": 14,
        "start_time": "2022-08-13T19:39:16.100Z"
      },
      {
        "duration": 49,
        "start_time": "2022-08-13T20:14:51.515Z"
      },
      {
        "duration": 1111,
        "start_time": "2022-08-13T20:14:57.120Z"
      },
      {
        "duration": 240,
        "start_time": "2022-08-13T20:14:58.233Z"
      },
      {
        "duration": 21,
        "start_time": "2022-08-13T20:14:58.475Z"
      },
      {
        "duration": 9,
        "start_time": "2022-08-13T20:14:58.498Z"
      },
      {
        "duration": 14,
        "start_time": "2022-08-13T20:14:58.508Z"
      },
      {
        "duration": 8,
        "start_time": "2022-08-13T20:14:58.523Z"
      },
      {
        "duration": 4,
        "start_time": "2022-08-13T20:14:58.533Z"
      },
      {
        "duration": 5,
        "start_time": "2022-08-13T20:14:58.538Z"
      },
      {
        "duration": 12,
        "start_time": "2022-08-13T20:14:58.544Z"
      },
      {
        "duration": 8,
        "start_time": "2022-08-13T20:14:58.558Z"
      },
      {
        "duration": 34,
        "start_time": "2022-08-13T20:14:58.567Z"
      },
      {
        "duration": 8,
        "start_time": "2022-08-13T20:14:58.602Z"
      },
      {
        "duration": 505,
        "start_time": "2022-08-13T20:14:58.611Z"
      },
      {
        "duration": 11,
        "start_time": "2022-08-13T20:14:59.118Z"
      },
      {
        "duration": 7,
        "start_time": "2022-08-13T20:14:59.130Z"
      },
      {
        "duration": 170,
        "start_time": "2022-08-13T20:14:59.139Z"
      },
      {
        "duration": 289,
        "start_time": "2022-08-13T20:14:59.311Z"
      },
      {
        "duration": 175,
        "start_time": "2022-08-13T20:14:59.601Z"
      },
      {
        "duration": 264,
        "start_time": "2022-08-13T20:14:59.777Z"
      },
      {
        "duration": 111,
        "start_time": "2022-08-13T20:15:00.042Z"
      },
      {
        "duration": 4,
        "start_time": "2022-08-13T20:15:00.155Z"
      },
      {
        "duration": 122,
        "start_time": "2022-08-13T20:15:00.160Z"
      },
      {
        "duration": 120,
        "start_time": "2022-08-13T20:15:00.284Z"
      },
      {
        "duration": 4,
        "start_time": "2022-08-13T20:15:00.405Z"
      },
      {
        "duration": 201,
        "start_time": "2022-08-13T20:15:00.410Z"
      },
      {
        "duration": 186,
        "start_time": "2022-08-13T20:15:00.613Z"
      },
      {
        "duration": 10,
        "start_time": "2022-08-13T20:15:00.801Z"
      },
      {
        "duration": 33,
        "start_time": "2022-08-13T20:15:00.814Z"
      },
      {
        "duration": 74,
        "start_time": "2022-08-13T20:15:00.848Z"
      },
      {
        "duration": 15,
        "start_time": "2022-08-13T20:15:00.923Z"
      },
      {
        "duration": 503,
        "start_time": "2022-08-13T20:22:35.832Z"
      },
      {
        "duration": 416,
        "start_time": "2022-08-13T20:25:25.861Z"
      },
      {
        "duration": 153,
        "start_time": "2022-08-13T20:26:09.156Z"
      },
      {
        "duration": 238,
        "start_time": "2022-08-13T20:27:08.515Z"
      },
      {
        "duration": 160,
        "start_time": "2022-08-13T20:27:34.672Z"
      },
      {
        "duration": 246,
        "start_time": "2022-08-13T20:28:31.606Z"
      },
      {
        "duration": 112,
        "start_time": "2022-08-13T20:29:49.925Z"
      },
      {
        "duration": 102,
        "start_time": "2022-08-13T20:31:08.766Z"
      },
      {
        "duration": 110,
        "start_time": "2022-08-13T20:31:51.743Z"
      },
      {
        "duration": 109,
        "start_time": "2022-08-13T20:32:17.964Z"
      },
      {
        "duration": 99,
        "start_time": "2022-08-13T20:32:29.258Z"
      },
      {
        "duration": 123,
        "start_time": "2022-08-13T20:33:17.505Z"
      },
      {
        "duration": 169,
        "start_time": "2022-08-13T20:34:56.995Z"
      },
      {
        "duration": 130,
        "start_time": "2022-08-13T20:35:35.678Z"
      },
      {
        "duration": 125,
        "start_time": "2022-08-13T20:36:01.413Z"
      },
      {
        "duration": 907,
        "start_time": "2022-08-13T20:49:08.550Z"
      },
      {
        "duration": 114,
        "start_time": "2022-08-13T20:49:09.458Z"
      },
      {
        "duration": 20,
        "start_time": "2022-08-13T20:49:09.573Z"
      },
      {
        "duration": 3,
        "start_time": "2022-08-13T20:49:09.595Z"
      },
      {
        "duration": 30,
        "start_time": "2022-08-13T20:49:09.599Z"
      },
      {
        "duration": 7,
        "start_time": "2022-08-13T20:49:09.631Z"
      },
      {
        "duration": 6,
        "start_time": "2022-08-13T20:49:09.639Z"
      },
      {
        "duration": 4,
        "start_time": "2022-08-13T20:49:09.646Z"
      },
      {
        "duration": 9,
        "start_time": "2022-08-13T20:49:09.652Z"
      },
      {
        "duration": 8,
        "start_time": "2022-08-13T20:49:09.663Z"
      },
      {
        "duration": 8,
        "start_time": "2022-08-13T20:49:09.673Z"
      },
      {
        "duration": 25,
        "start_time": "2022-08-13T20:49:09.683Z"
      },
      {
        "duration": 520,
        "start_time": "2022-08-13T20:49:09.710Z"
      },
      {
        "duration": 11,
        "start_time": "2022-08-13T20:49:10.232Z"
      },
      {
        "duration": 9,
        "start_time": "2022-08-13T20:49:10.245Z"
      },
      {
        "duration": 183,
        "start_time": "2022-08-13T20:49:10.255Z"
      },
      {
        "duration": 250,
        "start_time": "2022-08-13T20:49:10.440Z"
      },
      {
        "duration": 169,
        "start_time": "2022-08-13T20:49:10.691Z"
      },
      {
        "duration": 245,
        "start_time": "2022-08-13T20:49:10.862Z"
      },
      {
        "duration": 114,
        "start_time": "2022-08-13T20:49:11.108Z"
      },
      {
        "duration": 5,
        "start_time": "2022-08-13T20:49:11.223Z"
      },
      {
        "duration": 128,
        "start_time": "2022-08-13T20:49:11.230Z"
      },
      {
        "duration": 123,
        "start_time": "2022-08-13T20:49:11.359Z"
      },
      {
        "duration": 4,
        "start_time": "2022-08-13T20:49:11.483Z"
      },
      {
        "duration": 201,
        "start_time": "2022-08-13T20:49:11.488Z"
      },
      {
        "duration": 151,
        "start_time": "2022-08-13T20:49:11.691Z"
      },
      {
        "duration": 11,
        "start_time": "2022-08-13T20:49:11.843Z"
      },
      {
        "duration": 17,
        "start_time": "2022-08-13T20:49:11.857Z"
      },
      {
        "duration": 51,
        "start_time": "2022-08-13T20:49:11.875Z"
      },
      {
        "duration": 14,
        "start_time": "2022-08-13T20:49:11.928Z"
      },
      {
        "duration": 9,
        "start_time": "2022-08-13T20:55:50.303Z"
      },
      {
        "duration": 10,
        "start_time": "2022-08-13T20:55:59.433Z"
      },
      {
        "duration": 103,
        "start_time": "2022-08-13T21:04:27.861Z"
      },
      {
        "duration": 17,
        "start_time": "2022-08-13T21:04:44.441Z"
      },
      {
        "duration": 19,
        "start_time": "2022-08-13T21:05:25.412Z"
      },
      {
        "duration": 12,
        "start_time": "2022-08-13T21:05:45.122Z"
      },
      {
        "duration": 10,
        "start_time": "2022-08-13T21:06:03.637Z"
      },
      {
        "duration": 27,
        "start_time": "2022-08-13T21:06:26.697Z"
      },
      {
        "duration": 14,
        "start_time": "2022-08-13T21:07:08.212Z"
      },
      {
        "duration": 1214,
        "start_time": "2022-08-14T09:17:48.029Z"
      },
      {
        "duration": 262,
        "start_time": "2022-08-14T09:17:49.245Z"
      },
      {
        "duration": 37,
        "start_time": "2022-08-14T09:17:49.509Z"
      },
      {
        "duration": 4,
        "start_time": "2022-08-14T09:17:49.549Z"
      },
      {
        "duration": 16,
        "start_time": "2022-08-14T09:17:49.555Z"
      },
      {
        "duration": 17,
        "start_time": "2022-08-14T09:17:49.573Z"
      },
      {
        "duration": 5,
        "start_time": "2022-08-14T09:17:49.592Z"
      },
      {
        "duration": 7,
        "start_time": "2022-08-14T09:17:49.599Z"
      },
      {
        "duration": 17,
        "start_time": "2022-08-14T09:17:49.607Z"
      },
      {
        "duration": 9,
        "start_time": "2022-08-14T09:17:49.627Z"
      },
      {
        "duration": 12,
        "start_time": "2022-08-14T09:17:49.638Z"
      },
      {
        "duration": 43,
        "start_time": "2022-08-14T09:17:49.652Z"
      },
      {
        "duration": 548,
        "start_time": "2022-08-14T09:17:49.697Z"
      },
      {
        "duration": 12,
        "start_time": "2022-08-14T09:17:50.246Z"
      },
      {
        "duration": 11,
        "start_time": "2022-08-14T09:17:50.260Z"
      },
      {
        "duration": 202,
        "start_time": "2022-08-14T09:17:50.288Z"
      },
      {
        "duration": 317,
        "start_time": "2022-08-14T09:17:50.492Z"
      },
      {
        "duration": 204,
        "start_time": "2022-08-14T09:17:50.811Z"
      },
      {
        "duration": 255,
        "start_time": "2022-08-14T09:17:51.017Z"
      },
      {
        "duration": 128,
        "start_time": "2022-08-14T09:17:51.273Z"
      },
      {
        "duration": 4,
        "start_time": "2022-08-14T09:17:51.404Z"
      },
      {
        "duration": 150,
        "start_time": "2022-08-14T09:17:51.410Z"
      },
      {
        "duration": 150,
        "start_time": "2022-08-14T09:17:51.562Z"
      },
      {
        "duration": 6,
        "start_time": "2022-08-14T09:17:51.713Z"
      },
      {
        "duration": 233,
        "start_time": "2022-08-14T09:17:51.720Z"
      },
      {
        "duration": 188,
        "start_time": "2022-08-14T09:17:51.955Z"
      },
      {
        "duration": 15,
        "start_time": "2022-08-14T09:17:52.145Z"
      },
      {
        "duration": 11,
        "start_time": "2022-08-14T09:17:52.186Z"
      },
      {
        "duration": 33,
        "start_time": "2022-08-14T09:17:52.198Z"
      },
      {
        "duration": 16,
        "start_time": "2022-08-14T09:17:52.232Z"
      },
      {
        "duration": 1262,
        "start_time": "2022-11-22T09:47:13.351Z"
      },
      {
        "duration": 189,
        "start_time": "2022-11-22T09:47:14.615Z"
      },
      {
        "duration": 25,
        "start_time": "2022-11-22T09:47:14.806Z"
      },
      {
        "duration": 7,
        "start_time": "2022-11-22T09:47:14.832Z"
      },
      {
        "duration": 16,
        "start_time": "2022-11-22T09:47:14.842Z"
      },
      {
        "duration": 14,
        "start_time": "2022-11-22T09:47:14.859Z"
      },
      {
        "duration": 9,
        "start_time": "2022-11-22T09:47:14.874Z"
      },
      {
        "duration": 9,
        "start_time": "2022-11-22T09:47:14.884Z"
      },
      {
        "duration": 11,
        "start_time": "2022-11-22T09:47:14.894Z"
      },
      {
        "duration": 9,
        "start_time": "2022-11-22T09:47:14.906Z"
      },
      {
        "duration": 11,
        "start_time": "2022-11-22T09:47:14.916Z"
      },
      {
        "duration": 15,
        "start_time": "2022-11-22T09:47:14.929Z"
      },
      {
        "duration": 568,
        "start_time": "2022-11-22T09:47:14.946Z"
      },
      {
        "duration": 12,
        "start_time": "2022-11-22T09:47:15.518Z"
      },
      {
        "duration": 7,
        "start_time": "2022-11-22T09:47:15.532Z"
      },
      {
        "duration": 221,
        "start_time": "2022-11-22T09:47:15.540Z"
      },
      {
        "duration": 286,
        "start_time": "2022-11-22T09:47:15.764Z"
      },
      {
        "duration": 197,
        "start_time": "2022-11-22T09:47:16.052Z"
      },
      {
        "duration": 298,
        "start_time": "2022-11-22T09:47:16.250Z"
      },
      {
        "duration": 133,
        "start_time": "2022-11-22T09:47:16.549Z"
      },
      {
        "duration": 5,
        "start_time": "2022-11-22T09:47:16.683Z"
      },
      {
        "duration": 139,
        "start_time": "2022-11-22T09:47:16.689Z"
      },
      {
        "duration": 133,
        "start_time": "2022-11-22T09:47:16.830Z"
      },
      {
        "duration": 14,
        "start_time": "2022-11-22T09:47:16.965Z"
      },
      {
        "duration": 294,
        "start_time": "2022-11-22T09:47:16.980Z"
      },
      {
        "duration": 166,
        "start_time": "2022-11-22T09:47:17.278Z"
      },
      {
        "duration": 15,
        "start_time": "2022-11-22T09:47:17.445Z"
      },
      {
        "duration": 9,
        "start_time": "2022-11-22T09:47:17.479Z"
      },
      {
        "duration": 33,
        "start_time": "2022-11-22T09:47:17.489Z"
      },
      {
        "duration": 15,
        "start_time": "2022-11-22T09:47:17.523Z"
      }
    ],
    "kernelspec": {
      "display_name": "Python 3 (ipykernel)",
      "language": "python",
      "name": "python3"
    },
    "language_info": {
      "codemirror_mode": {
        "name": "ipython",
        "version": 3
      },
      "file_extension": ".py",
      "mimetype": "text/x-python",
      "name": "python",
      "nbconvert_exporter": "python",
      "pygments_lexer": "ipython3",
      "version": "3.9.5"
    },
    "toc": {
      "base_numbering": " 1",
      "nav_menu": {
        "height": "161px",
        "width": "516px"
      },
      "number_sections": true,
      "sideBar": true,
      "skip_h1_title": true,
      "title_cell": "Table of Contents",
      "title_sidebar": "Contents",
      "toc_cell": false,
      "toc_position": {
        "height": "calc(100% - 180px)",
        "left": "10px",
        "top": "150px",
        "width": "245.05px"
      },
      "toc_section_display": true,
      "toc_window_display": false
    },
    "colab": {
      "provenance": []
    }
  },
  "nbformat": 4,
  "nbformat_minor": 0
}